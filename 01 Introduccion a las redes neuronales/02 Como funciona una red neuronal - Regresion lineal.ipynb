{
  "cells": [
    {
      "cell_type": "code",
      "execution_count": 1,
      "metadata": {
        "collapsed": false
      },
      "outputs": [],
      "source": [
        "%matplotlib inline"
      ]
    },
    {
      "cell_type": "markdown",
      "metadata": {},
      "source": [
        "# Como funciona una red neuronal"
      ]
    },
    {
      "cell_type": "markdown",
      "metadata": {},
      "source": [
        "Como hemos dicho una neurona es una unidad de procesamiento, recibe unas señales, realiza unos cálculos y saca otra señal, así que vamos a ver el ejemplo más sencillo, el caso en el que se recibe una señal y se saca otra, y lo vamos a ver con la regresión lineal"
      ]
    },
    {
      "cell_type": "markdown",
      "metadata": {},
      "source": [
        "Supongamos que hemos hecho unas medidas y obtenemos los siguientes puntos"
      ]
    },
    {
      "cell_type": "code",
      "execution_count": 3,
      "metadata": {},
      "outputs": [],
      "source": [
        "# import numpy as np\n",
        "\n",
        "# x = np.linspace(0, 10, 30)\n",
        "# rand = np.random.randn(*x.shape)\n",
        "# y = 2*(x + rand)"
      ]
    },
    {
      "cell_type": "code",
      "execution_count": 1,
      "metadata": {},
      "outputs": [],
      "source": [
        "x = [ 0.        ,  0.34482759,  0.68965517,  1.03448276,  1.37931034,\n",
        "        1.72413793,  2.06896552,  2.4137931 ,  2.75862069,  3.10344828,\n",
        "        3.44827586,  3.79310345,  4.13793103,  4.48275862,  4.82758621,\n",
        "        5.17241379,  5.51724138,  5.86206897,  6.20689655,  6.55172414,\n",
        "        6.89655172,  7.24137931,  7.5862069 ,  7.93103448,  8.27586207,\n",
        "        8.62068966,  8.96551724,  9.31034483,  9.65517241, 10.        ]\n",
        "\n",
        "y = [-0.16281253,  1.88707606,  0.39649312,  0.03857752,  4.0148778 ,\n",
        "        0.58866234,  3.35711859,  1.94314906,  6.96106424,  5.89792585,\n",
        "        8.47226615,  3.67698542, 12.05958678,  9.85234481,  9.82181679,\n",
        "        6.07652248, 14.17536744, 12.67825433, 12.97499286, 11.76098542,\n",
        "       12.7843083 , 16.42241036, 13.67913705, 15.55066478, 17.45979602,\n",
        "       16.41982806, 17.01977617, 20.28151197, 19.38148414, 19.41029831]"
      ]
    },
    {
      "cell_type": "code",
      "execution_count": 4,
      "metadata": {},
      "outputs": [
        {
          "data": {
            "text/plain": [
              "<matplotlib.collections.PathCollection at 0x2027ad788b0>"
            ]
          },
          "execution_count": 4,
          "metadata": {},
          "output_type": "execute_result"
        },
        {
          "data": {
            "image/png": "[encoded data removed]",
            "text/plain": [
              "<Figure size 432x288 with 1 Axes>"
            ]
          },
          "metadata": {
            "needs_background": "light"
          },
          "output_type": "display_data"
        }
      ],
      "source": [
        "import matplotlib.pyplot as plt\n",
        "\n",
        "plt.scatter(x, y)"
      ]
    }
  ],
  "metadata": {
    "interpreter": {
      "hash": "d1c24abb23a313e1f9ae042292cd8e6e3c60c5818227ced3d46e3df2c65171ef"
    },
    "kernelspec": {
      "display_name": "Python 3.8.5 64-bit ('base': conda)",
      "name": "python3"
    },
    "language_info": {
      "codemirror_mode": {
        "name": "ipython",
        "version": 3
      },
      "file_extension": ".py",
      "mimetype": "text/x-python",
      "name": "python",
      "nbconvert_exporter": "python",
      "pygments_lexer": "ipython3",
      "version": "3.8.11"
    }
  },
  "nbformat": 4,
  "nbformat_minor": 2
}
