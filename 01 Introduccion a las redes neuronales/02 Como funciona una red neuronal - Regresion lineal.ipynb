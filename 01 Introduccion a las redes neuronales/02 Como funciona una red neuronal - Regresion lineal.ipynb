{
  "cells": [
    {
      "cell_type": "code",
      "execution_count": 1,
      "metadata": {
        "collapsed": false
      },
      "outputs": [],
      "source": [
        "%matplotlib inline"
      ]
    },
    {
      "cell_type": "markdown",
      "metadata": {},
      "source": [
        "# Como funciona una red neuronal"
      ]
    },
    {
      "cell_type": "markdown",
      "metadata": {},
      "source": [
        "Como hemos dicho una neurona es una unidad de procesamiento, recibe unas señales, realiza unos cálculos y saca otra señal.\n",
        "\n",
        "![red_neuronal_artificial](Imagenes/red_neuronal_artificial.jpg)\n",
        "\n",
        "Así que vamos a ver el ejemplo más sencillo, el caso en el que se recibe una señal y se saca otra, y lo vamos a ver con la regresión lineal"
      ]
    },
    {
      "cell_type": "markdown",
      "metadata": {},
      "source": [
        "Supongamos que hemos hecho unas medidas y obtenemos los siguientes puntos"
      ]
    },
    {
      "cell_type": "code",
      "execution_count": 2,
      "metadata": {},
      "outputs": [],
      "source": [
        "# import numpy as np\n",
        "\n",
        "# x = np.linspace(0, 10, 30)\n",
        "# rand = np.random.randn(*x.shape)\n",
        "# y = 2*(x + rand)"
      ]
    },
    {
      "cell_type": "code",
      "execution_count": 3,
      "metadata": {},
      "outputs": [],
      "source": [
        "import numpy as np\n",
        "\n",
        "x = np.array( [ 0.        ,  0.34482759,  0.68965517,  1.03448276,  1.37931034,\n",
        "        1.72413793,  2.06896552,  2.4137931 ,  2.75862069,  3.10344828,\n",
        "        3.44827586,  3.79310345,  4.13793103,  4.48275862,  4.82758621,\n",
        "        5.17241379,  5.51724138,  5.86206897,  6.20689655,  6.55172414,\n",
        "        6.89655172,  7.24137931,  7.5862069 ,  7.93103448,  8.27586207,\n",
        "        8.62068966,  8.96551724,  9.31034483,  9.65517241, 10.        ])\n",
        "\n",
        "y = np.array( [-0.16281253,  1.88707606,  0.39649312,  0.03857752,  4.0148778 ,\n",
        "        0.58866234,  3.35711859,  1.94314906,  6.96106424,  5.89792585,\n",
        "        8.47226615,  3.67698542, 12.05958678,  9.85234481,  9.82181679,\n",
        "        6.07652248, 14.17536744, 12.67825433, 12.97499286, 11.76098542,\n",
        "       12.7843083 , 16.42241036, 13.67913705, 15.55066478, 17.45979602,\n",
        "       16.41982806, 17.01977617, 20.28151197, 19.38148414, 19.41029831])"
      ]
    },
    {
      "cell_type": "code",
      "execution_count": 4,
      "metadata": {},
      "outputs": [
        {
          "data": {
            "image/png": "[encoded data removed]",
            "text/plain": [
              "<Figure size 432x288 with 1 Axes>"
            ]
          },
          "metadata": {
            "needs_background": "light"
          },
          "output_type": "display_data"
        }
      ],
      "source": [
        "import matplotlib.pyplot as plt\n",
        "\n",
        "plt.scatter(x, y)\n",
        "plt.xlabel('X')\n",
        "plt.ylabel('Y  ', rotation=0)\n",
        "plt.show()"
      ]
    },
    {
      "cell_type": "markdown",
      "metadata": {},
      "source": [
        "Como vemos esto se puede asemejar a una regresión lineal. Es decir, podemos suponer que la neurona, recibe ```x```, lo multiplica por un número y saca ```y```\n",
        "\n",
        "![red neuronal regresion](Imagenes/red_neuronal_regresion.png)"
      ]
    },
    {
      "cell_type": "markdown",
      "metadata": {},
      "source": [
        "A partir de aquí vamos a mostrar cómo funcionan las redes neuronales, solo que con un ejemplo sencillo de una sola neurona, luego iremos mostrando ejemplos cada vez más complejos, hasta que explicaremos el funcionamiento general de las redes neuronales. Pero si entiendes lo que va a pasar a continuación vas a entender las redes neuronales"
      ]
    },
    {
      "cell_type": "markdown",
      "metadata": {},
      "source": [
        "Nuestra neurona tiene el parámetro ```a```, que es el que queremos cambiar para que la recta que va a generar se asemeje lo máximo posible a los puntos. El proceso de aprendizaje de nuestra neurona va a consistir en mediante unos cuantos cálculos determinar el mejor valor posible de ```a```"
      ]
    },
    {
      "cell_type": "markdown",
      "metadata": {},
      "source": [
        "## Inicialización aleatoria del parámetro"
      ]
    },
    {
      "cell_type": "markdown",
      "metadata": {},
      "source": [
        "Este ejemplo es sencillo, pero cuando tenemos redes neuronales complejas y no sabemos qué valores tienen que tener sus parámetros, lo que se hace es inicializarlos aleatoriamente"
      ]
    },
    {
      "cell_type": "code",
      "execution_count": 5,
      "metadata": {},
      "outputs": [
        {
          "data": {
            "text/plain": [
              "0.2718754143840908"
            ]
          },
          "execution_count": 5,
          "metadata": {},
          "output_type": "execute_result"
        }
      ],
      "source": [
        "import random\n",
        "\n",
        "random.seed(45) # Esto es una semilla, cuando se generan números aleatorios, \n",
        "                # pero queremos que siempre se genere el mismo se suele fijar\n",
        "                # un número llamado semilla. Esto hace que siempre a sea el mismo\n",
        "\n",
        "a = random.random()\n",
        "a"
      ]
    },
    {
      "cell_type": "markdown",
      "metadata": {},
      "source": [
        "El valor de a es 0.271875, veamos qué recta saldría si parásemos ahora"
      ]
    },
    {
      "cell_type": "code",
      "execution_count": 6,
      "metadata": {},
      "outputs": [
        {
          "data": {
            "image/png": "[encoded data removed]",
            "text/plain": [
              "<Figure size 432x288 with 1 Axes>"
            ]
          },
          "metadata": {
            "needs_background": "light"
          },
          "output_type": "display_data"
        }
      ],
      "source": [
        "z = a*x\n",
        "\n",
        "plt.scatter(x, y)\n",
        "plt.plot(x, z, 'k')\n",
        "plt.xlabel('X')\n",
        "plt.ylabel('Y  ', rotation=0)\n",
        "plt.show()"
      ]
    },
    {
      "cell_type": "markdown",
      "metadata": {},
      "source": [
        "Como vemos no se parece en nada, así que vamos a tener que hacer que nuestra neurona *aprenda*"
      ]
    },
    {
      "cell_type": "markdown",
      "metadata": {},
      "source": [
        "## Cálculo del error o loss"
      ]
    },
    {
      "cell_type": "markdown",
      "metadata": {},
      "source": [
        "Para buscar el mejor valor posible de ```a``` queremos encontrar un valor que haga que los valores predichos por nuestra neurona tengan el menor error posible con los valores reales de ```y```"
      ]
    },
    {
      "cell_type": "markdown",
      "metadata": {},
      "source": [
        "En este tipo de problemas se suele utilizar el [error cuadrático medio (ECM)](https://es.wikipedia.org/wiki/Error_cuadr%C3%A1tico_medio) o [mean squared error (MSE)](https://en.wikipedia.org/wiki/Mean_squared_error) en inglés. Hay muchas más funciones de error, pero de momento no vienen al caso, así que quédate con esta y ya aprenderemos más funciones más adelante"
      ]
    },
    {
      "cell_type": "markdown",
      "metadata": {},
      "source": [
        "En la literatura a este error se le suele llamar función de pérdida o loss function, por lo que a partir de ahora lo llamaremos así"
      ]
    },
    {
      "cell_type": "markdown",
      "metadata": {},
      "source": [
        "El error cuadrático medio (ECM) mide la distancia entre los puntos predichos por nuestra neurona y los valores reales de ```y```, de ahí la palabra *error* dentro de su nombre\n",
        "\n",
        "$$\\left(z-y\\right)$$\n",
        "\n",
        "![mean squared error](Imagenes/mean_squared_error.png)\n",
        "\n",
        "Sin embargo a veces esa distancia va a ser positiva y a veces negativa, según si se toma primero el valor predicho por nuestra neurona o el valor de ```y```, por lo que dicha distancia se eleva al cuadrado, de ahí la palabrea *cuadrático* del nombre\n",
        "\n",
        "$$\\left(z-y\\right)^2$$\n",
        "\n",
        "Por último se suman todas las distancias elevadas al cuadrado y se divide entre el número de muestras, vamos, lo que es hacer una media de toda la vida, de ahí la palabra *medio* del nombre\n",
        "\n",
        "$$loss = \\frac{\\sum_{i=1}^{N} \\left(z-y\\right)^2}{N}$$\n",
        "\n",
        "Ya tenemos la manera de calcular el ECM (error cuadrático medio)"
      ]
    },
    {
      "cell_type": "markdown",
      "metadata": {},
      "source": [
        "En nuestro caso nuestra pérdida es"
      ]
    },
    {
      "cell_type": "code",
      "execution_count": 7,
      "metadata": {},
      "outputs": [],
      "source": [
        "def loss(y, z):\n",
        "    n = len(y)\n",
        "    sum = 0\n",
        "\n",
        "    for i in range(n):\n",
        "        sum += (z[i]-y[i])**2\n",
        "    \n",
        "    return sum/n"
      ]
    },
    {
      "cell_type": "code",
      "execution_count": 8,
      "metadata": {},
      "outputs": [
        {
          "data": {
            "text/plain": [
              "103.72263739946469"
            ]
          },
          "execution_count": 8,
          "metadata": {},
          "output_type": "execute_result"
        }
      ],
      "source": [
        "error = loss(y, z)\n",
        "error"
      ]
    },
    {
      "cell_type": "markdown",
      "metadata": {},
      "source": [
        "Aunque esto no nos dice mucho, veamos cómo cambia la función de pérdida (loss) en función del valor de ```a```"
      ]
    },
    {
      "cell_type": "code",
      "execution_count": 9,
      "metadata": {},
      "outputs": [
        {
          "data": {
            "image/png": "[encoded data removed]",
            "text/plain": [
              "<Figure size 432x288 with 1 Axes>"
            ]
          },
          "metadata": {
            "needs_background": "light"
          },
          "output_type": "display_data"
        }
      ],
      "source": [
        "posibles_a = np.linspace(0, 4, 30)\n",
        "perdidas = np.empty_like(posibles_a)\n",
        "\n",
        "for i in range (30):\n",
        "    z = posibles_a[i]*x\n",
        "    perdidas[i] = loss(y, z)\n",
        "\n",
        "plt.plot(posibles_a, perdidas)\n",
        "plt.xlabel('a')\n",
        "plt.ylabel('loss  ', rotation=0)\n",
        "plt.show()"
      ]
    },
    {
      "cell_type": "markdown",
      "metadata": {},
      "source": [
        "Podemos ver que el error o pérdida es menor cuando ```a``` vale en torno a 2. Podrías pensar, ya está, problema solucionado, y es cierto. Pero como te dije íbamos a empezar con el problemas más sencillo, por lo que mirando una gráfica lo podemos solucionar.\n",
        "\n",
        "Si el problema tuviese 2 parámetros podríamos revisar un gráfico de 3 dimensiones para buscar el mínimo\n",
        "\n",
        "![grafico 3 diemnsiones](Imagenes/matplotlib_3d.jfif)\n",
        "\n",
        "Pero en cuanto nuestro problema tuviese más de 2 parámetros ya no podríamos buscar el minimo error con una gráfica. Por no decir que las redes neuronales tienen millones de parámetros, por ejemplo, la red neuronal resnet18 (que más tarde la estudiaremos) es una red pequeña y tiene en torno a 11 millones de parámetros. Es imposible buscar el mínimo error ahí de manera manual. De modo que necesitamos un método automático mediante cálculos"
      ]
    },
    {
      "cell_type": "markdown",
      "metadata": {},
      "source": [
        "## Descenso del gradiente"
      ]
    },
    {
      "cell_type": "markdown",
      "metadata": {},
      "source": [
        "Como hemos dicho, necesitamos encontrar el valor de ```a``` que haga que la función de pérdida sea mínima y a su vez hacerlo mediante un algoritmo."
      ]
    },
    {
      "cell_type": "markdown",
      "metadata": {},
      "source": [
        "Una de las peculiaridades de un mínimo de una función es que su gradiente o derivada es 0"
      ]
    },
    {
      "cell_type": "markdown",
      "metadata": {},
      "source": [
        "Si no sabes lo que es la derivada o gradiente, es la recta que corta a una función en un punto de manera perpendicular\n",
        "\n",
        "![derivada](Imagenes/derivada.png)\n",
        "\n",
        "Por ejemplo, en esta imagen, la derivada de A, B y C son las lineas verde, azul y negra respectivamente\n",
        "\n",
        "La derivada mide la pendiente de una función, cuanto más pendiente tiene la función en un punto, más perpendicular al *eje x* será la derivada en ese punto y cuanto menos pendiente tiene la función en un punto, más paralela al *eje x* será la derivada en ese punto"
      ]
    },
    {
      "cell_type": "markdown",
      "metadata": {},
      "source": [
        "Pues bien, si volvemos a ver la gráfica de la función de pérdida con respecto el valor de ``a``, cuanto mayor pendiente tenga la función, es decir, cuanto mayor sea la derivada, más lejos estaremos del mínimo. Y cuanto menor sea la derivada, menor pendiente, más cerca estaremos del mínimo"
      ]
    },
    {
      "cell_type": "code",
      "execution_count": 10,
      "metadata": {},
      "outputs": [],
      "source": [
        "def gradiente (a, x, y):\n",
        "    # Función que calcula el valor de una derivada en un punto\n",
        "    n = len(y)\n",
        "    sum = 0\n",
        "\n",
        "    for i in range(n):\n",
        "        sum += (a*x[i]-y[i])*x[i]\n",
        "    \n",
        "    return 2*sum/n"
      ]
    },
    {
      "cell_type": "code",
      "execution_count": 11,
      "metadata": {},
      "outputs": [],
      "source": [
        "def gradiente_linea (i, a=None, error=None, gradiente=None):\n",
        "    # Función que devuleve los puntos de la linea que supone la derivada de una \n",
        "    # función en un punto dado\n",
        "    if a is None:\n",
        "        x1 = posibles_a[i]-0.7\n",
        "        x2 = posibles_a[i]\n",
        "        x3 = posibles_a[i]+0.7\n",
        "\n",
        "        b = perdidas[i] - gradientes[i]*posibles_a[i]\n",
        "\n",
        "        y1 = gradientes[i]*x1 + b\n",
        "        y2 = perdidas[i]\n",
        "        y3 = gradientes[i]*x3 + b\n",
        "    else:\n",
        "        x1 = a-0.7\n",
        "        x2 = a\n",
        "        x3 = a+0.7\n",
        "\n",
        "        b = error - gradiente*a\n",
        "\n",
        "        y1 = gradiente*x1 + b\n",
        "        y2 = error\n",
        "        y3 = gradiente*x3 + b\n",
        "\n",
        "    x_linea = np.array([x1, x2, x3])\n",
        "    y_linea = np.array([y1, y2, y3])\n",
        "\n",
        "    return x_linea, y_linea"
      ]
    },
    {
      "cell_type": "code",
      "execution_count": 12,
      "metadata": {},
      "outputs": [
        {
          "data": {
            "image/png": "[encoded data removed]",
            "text/plain": [
              "<Figure size 432x288 with 1 Axes>"
            ]
          },
          "metadata": {
            "needs_background": "light"
          },
          "output_type": "display_data"
        }
      ],
      "source": [
        "posibles_a = np.linspace(0, 4, 30)\n",
        "perdidas = np.empty_like(posibles_a)\n",
        "gradientes = np.empty_like(posibles_a)\n",
        "\n",
        "for i in range (30):\n",
        "    z = posibles_a[i]*x\n",
        "    perdidas[i] = loss(y, z)\n",
        "    gradientes[i] = gradiente(posibles_a[i], x, y)  # Estos son los valores de las derivadas en cada valor de a\n",
        "                                                    # es decir, nos da el valor de la pendiente de la recta tangente\n",
        "                                                    # a la curva\n",
        "\n",
        "# Se calcula la linea del gradiente en el inicio\n",
        "i_inicio = 3\n",
        "x_inicio, y_inicio = gradiente_linea(i_inicio)\n",
        "\n",
        "# Se calcula la linea del gradiente en la base\n",
        "i_base = 14\n",
        "x_base, y_base = gradiente_linea (i_base)\n",
        "\n",
        "# Se calcula la linea del gradiente al final\n",
        "i_final = -3\n",
        "x_final, y_final = gradiente_linea (i_final)\n",
        "\n",
        "\n",
        "# Se dibuja el error en función de a\n",
        "plt.plot(posibles_a, perdidas, linewidth = 3)\n",
        "# Se dibuja la derivada al inicio\n",
        "plt.plot(x_inicio, y_inicio, 'g')\n",
        "plt.scatter(posibles_a[i_inicio], perdidas[i_inicio], c='green')\n",
        "# Se dibuja la derivada en el medio\n",
        "plt.plot(x_base, y_base, 'y')\n",
        "plt.scatter(posibles_a[i_base], perdidas[i_base], c='pink')\n",
        "# Se dibuja la derivada al final\n",
        "plt.plot(x_final, y_final, 'r')\n",
        "plt.scatter(posibles_a[i_final], perdidas[i_final], c='red')\n",
        "\n",
        "plt.xlabel('a')\n",
        "plt.ylabel('loss     ', rotation=0)\n",
        "plt.show()"
      ]
    },
    {
      "cell_type": "markdown",
      "metadata": {},
      "source": [
        "Como se puede ver, al inicio de la gráfica, estamos lejos del mínimo, por lo que la derivada de la función (linea verde) es muy empinada, igual que al final de la función (linea roja). Sin embargo cuando estamos cerca del mínimo la derivada es pequeña (linea amarilla)."
      ]
    },
    {
      "cell_type": "markdown",
      "metadata": {},
      "source": [
        "Recordatorio, lo que queremos es modificar el valor de `a` que haga que la función de coste sea mínima. Esto supone que el error en todos los pares `(x, y)` va a ser el menor posible. Pues bien, ya tenemos una manera de saber cómo de lejos o cerca estamos de ese mínimo. Ahora necesitamos saber cómo modificar `a` para hacer que esté en la zona de mínimo coste.\n",
        "\n",
        "La forma de hacer esto es mediante el **descenso del gradiente** o **gradient descent** en inglés. Lo que vamos a hacer es modificar el valor de `a` en función del valor del grtadiente\n",
        "\n",
        "$$a' = a - \\alpha\\frac{\\partial loss}{\\partial a}$$\n",
        "\n",
        "Como se puede ver a `a` se le resta la derivada de la función de pérdida multiplicada por $\\alpha$ que se conoce como **tasa de aprendizaje** o **learning rate** en inglés. Vamos a ver esto por partes"
      ]
    },
    {
      "cell_type": "markdown",
      "metadata": {},
      "source": [
        "Primero, a `a` se le resta la derivada de la función de pérdida, veamos por qué. Supongamos que estamos en el primer punto de la función de coste (el de la linea verde), como hemos visto su derivada tiene una gran pendiente, pero además esta es negativa (ya que si nos desplazamos de izquierda a derecha la derivada va hacia abajo), por lo que si a `a` se le resta un valor negativo, en realidad lo que estamos haciendo es sumarle un valor, es decir, estamos haciendo que `a` sea mayor, por lo que lo estamos acercando a la zona del mínimo.\n",
        "\n",
        "Ahora al revés, supongamos que estamos en el último punto (el de la linea roja), en ese punto la derivada tiene una gran pendiente, pero además es positiva (ya que si nos dedsplazamos de izquierda a derecha la derivada va hacia arriba). En ese punto por tanto estamos restando a `a` un número positivo, es decir, estamos haciendo a `a` más peuqeña, la estamos acercando a la zona del mínimo"
      ]
    },
    {
      "cell_type": "markdown",
      "metadata": {},
      "source": [
        "Veamos ahora qué significa el **learning rate** $\\alpha$\n",
        "\n",
        "Este es un factor de aprendizaje que nosotros elegimos, es decir, estamos configurando con qué velocidad se moverá `a`. Es decir, estamos configurando la velocidad de aprendizaje de la red neuronal. Cuanto más grande sea $\\alpha$ más rápido aprenderá la red, mientras que cuanto más pequeño más lento aprenderá.\n",
        "\n",
        "Más adelante estudiaremos qué ocurre al cambiar el valor de $\\alpha$, pero de momento quédate con que valores típicos de $\\alpha$ son entre $10^{-3}$ y $10^{-4}$"
      ]
    },
    {
      "cell_type": "markdown",
      "metadata": {},
      "source": [
        "## Bucle de entrenamiento"
      ]
    },
    {
      "cell_type": "markdown",
      "metadata": {},
      "source": [
        "Ya tenemos una manera de saber el error que nos introduce el valor de `a` elegido y una fórmula para modificar el valor de `a`. Ya solo hace falta repetir este bucle varias veces hasta que lleguemos al mínimo de la función de coste"
      ]
    },
    {
      "cell_type": "code",
      "execution_count": 13,
      "metadata": {},
      "outputs": [
        {
          "name": "stdout",
          "output_type": "stream",
          "text": [
            "i=10: error=28.075728775043547, gradiente=-61.98100236918255, a=1.1394358551489718\n",
            "i=20: error=9.505245035914658, gradiente=-30.709631939506394, a=1.569284692740735\n",
            "i=30: error=4.946395605365451, gradiente=-15.215654116766258, a=1.7822612353503635\n",
            "i=40: error=3.8272482302958437, gradiente=-7.5388767490642445, a=1.887784395436304\n",
            "i=50: error=3.5525098634763226, gradiente=-3.7352756707945196, a=1.9400677933076504\n",
            "i=60: error=3.4850646173147437, gradiente=-1.8507112931062708, a=1.9659725680580205\n",
            "i=70: error=3.4685075514689503, gradiente=-0.916969078671117, a=1.978807566971417\n",
            "i=80: error=3.464442973977972, gradiente=-0.4543292594425819, a=1.9851669041474533\n",
            "i=90: error=3.4634451649256888, gradiente=-0.22510581958202186, a=1.9883177551597053\n",
            "i=100: error=3.4632002137820517, gradiente=-0.11153283429701624, a=1.989878902465877\n"
          ]
        }
      ],
      "source": [
        "lr = 10**-3 # Tasa de aprendizaje o learning rate\n",
        "steps = 100  # Numero de veces que se realiza el bucle de enrtenamiento\n",
        "\n",
        "# Matrices donde se guardarán los datos para luego ver la evolución del entrenamiento en una gráfica\n",
        "Zs = np.empty([steps, len(x)])\n",
        "Xs_linea_gradiente = np.empty([steps, len(x_inicio)])\n",
        "Ys_linea_gradiente = np.empty([steps, len(y_inicio)])\n",
        "As = np.empty(steps)\n",
        "Errores = np.empty(steps)\n",
        "\n",
        "\n",
        "for i in range(steps):\n",
        "    # Calculamos el gradiente\n",
        "    dl = gradiente(a, x, y)\n",
        "\n",
        "    # Corregimos el valor de a\n",
        "    a = a - lr*dl\n",
        "\n",
        "    # Calculamos los valores que obtiene la red neuronal\n",
        "    z = a*x\n",
        "\n",
        "    # Obtenemos el error\n",
        "    error = loss(y, z)\n",
        "\n",
        "    # Obtenemos las rectas de los gradientes\n",
        "    x_linea_gradiente, y_linea_gradiente = gradiente_linea(i_inicio, a=a, error=error, gradiente=dl)\n",
        "\n",
        "    # Guardamos los valores para luego ver la evolución del entrenamiento en una gráfica\n",
        "    As[i] = a\n",
        "    Zs[i,:] = z\n",
        "    Errores[i] = error\n",
        "    Xs_linea_gradiente[i,:] = x_linea_gradiente\n",
        "    Ys_linea_gradiente[i,:] = y_linea_gradiente\n",
        "\n",
        "    # Imprimimos la evolución del entrenamiento\n",
        "    if (i+1)%10 == 0:\n",
        "        print(f\"i={i+1}: error={error}, gradiente={dl}, a={a}\")"
      ]
    },
    {
      "cell_type": "markdown",
      "metadata": {},
      "source": [
        "Vamos a represenar en una gráfica la evolución del entrenamiento"
      ]
    },
    {
      "cell_type": "code",
      "execution_count": 16,
      "metadata": {},
      "outputs": [
        {
          "name": "stderr",
          "output_type": "stream",
          "text": [
            "MovieWriter imagemagick unavailable; using Pillow instead.\n"
          ]
        },
        {
          "data": {
            "image/png": "[encoded data removed]",
            "text/plain": [
              "<Figure size 432x288 with 2 Axes>"
            ]
          },
          "metadata": {
            "needs_background": "light"
          },
          "output_type": "display_data"
        }
      ],
      "source": [
        "from matplotlib.animation import FuncAnimation\n",
        "\n",
        "# Creamos GIF con la evolución del entrenamiento\n",
        "\n",
        "# Creamos la gráfica inicial\n",
        "fig, (ax1, ax2) = plt.subplots(1,2)\n",
        "fig.set_tight_layout(True)\n",
        "ax1.set_xlabel('X')\n",
        "ax1.set_ylabel('Y  ', rotation=0)\n",
        "ax2.set_xlabel('a')\n",
        "ax2.set_ylabel('loss     ', rotation=0)\n",
        "\n",
        "# Se dibujan los datos que persistiran en toda la evolución de la gráfica\n",
        "ax1.scatter(x, y)\n",
        "ax2.plot(posibles_a, perdidas, linewidth = 3)\n",
        "\n",
        "# Se dibuja el resto de lineas que irán cambiando durante el entrenamiento\n",
        "line1, = ax1.plot(x, Zs[0,:], 'k', linewidth=2)                             # Recta generada con la pendiente a aprendida\n",
        "line2, = ax2.plot(Xs_linea_gradiente[0,:], Ys_linea_gradiente[0,:], 'g')    # Gradiente de la función de error\n",
        "punto2, = ax2.plot(As[0], Errores[0], 'r*')                                 # Punto donde se calcula el gradiente\n",
        "\n",
        "# Se dibujan textos dentro de la segunda figura del subplot\n",
        "fontsize = 12\n",
        "a_text = ax2.text(1, 150, f'a = {As[0]:.2f}', fontsize = fontsize)\n",
        "error_text = ax2.text(1, 125, f'loss = {Errores[0]:.2f}', fontsize = fontsize)\n",
        "\n",
        "# Se dibuja un título\n",
        "titulo = fig.suptitle(f'step: {0}', fontsize=fontsize)\n",
        "\n",
        "# Se define la función que va a modificar la gráfica con la evolución del entrenamiento\n",
        "def update(i):\n",
        "    label = f'step {i}'\n",
        "\n",
        "    # Se actualiza la linea 1. Recta generada con la pendiente a aprendida\n",
        "    line1.set_ydata(Zs[i,:])\n",
        "    \n",
        "    # Se actualiza la linea 2. Gradiente de la función de error\n",
        "    line2.set_xdata(Xs_linea_gradiente[i,:])\n",
        "    line2.set_ydata(Ys_linea_gradiente[i,:])\n",
        "\n",
        "    # Se actualiza el punto 2. Punto donde se calcula el gradiente\n",
        "    punto2.set_xdata(As[i])\n",
        "    punto2.set_ydata(Errores[i])\n",
        "\n",
        "    # Se actualizan los textos\n",
        "    a_text.set_text(f'a = {As[i]:.2f}')\n",
        "    error_text.set_text(f'loss = {Errores[i]:.2f}')\n",
        "    titulo.set_text(f'step: {i}')\n",
        "\n",
        "    return line1, ax1, line2, punto2, ax2, a_text, error_text\n",
        "\n",
        "# Se crea la animación con un refresco cada 200 ms\n",
        "interval = 200 # ms\n",
        "anim = FuncAnimation(fig, update, frames=np.arange(0, steps), interval=interval)\n",
        "\n",
        "# Se guarda en un GIF\n",
        "gif_name = \"GIFs/entrenamiento_regresion.gif\"\n",
        "anim.save(gif_name, dpi=80, writer='imagemagick')"
      ]
    },
    {
      "cell_type": "code",
      "execution_count": 15,
      "metadata": {},
      "outputs": [],
      "source": [
        "import networkx as nx"
      ]
    },
    {
      "cell_type": "markdown",
      "metadata": {},
      "source": []
    },
    {
      "cell_type": "markdown",
      "metadata": {},
      "source": [
        "![GIF](GIFs/entrenamiento_regresion.gif)"
      ]
    }
  ],
  "metadata": {
    "interpreter": {
      "hash": "d1c24abb23a313e1f9ae042292cd8e6e3c60c5818227ced3d46e3df2c65171ef"
    },
    "kernelspec": {
      "display_name": "Python 3.8.5 64-bit ('base': conda)",
      "name": "python3"
    },
    "language_info": {
      "codemirror_mode": {
        "name": "ipython",
        "version": 3
      },
      "file_extension": ".py",
      "mimetype": "text/x-python",
      "name": "python",
      "nbconvert_exporter": "python",
      "pygments_lexer": "ipython3",
      "version": "3.8.11"
    }
  },
  "nbformat": 4,
  "nbformat_minor": 2
}
