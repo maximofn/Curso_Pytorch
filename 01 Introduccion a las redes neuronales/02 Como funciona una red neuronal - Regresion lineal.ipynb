{
  "cells": [
    {
      "cell_type": "code",
      "execution_count": 445,
      "metadata": {
        "collapsed": false
      },
      "outputs": [],
      "source": [
        "%matplotlib inline"
      ]
    },
    {
      "cell_type": "markdown",
      "metadata": {},
      "source": [
        "# Como funciona una red neuronal"
      ]
    },
    {
      "cell_type": "markdown",
      "metadata": {},
      "source": [
        "Como hemos dicho una neurona es una unidad de procesamiento, recibe unas señales, realiza unos cálculos y saca otra señal.\n",
        "\n",
        "![red_neuronal_artificial](Imagenes/red_neuronal_artificial.jpg)\n",
        "\n",
        "Así que vamos a ver el ejemplo más sencillo, el caso en el que se recibe una señal y se saca otra, y lo vamos a ver con la regresión lineal"
      ]
    },
    {
      "cell_type": "markdown",
      "metadata": {},
      "source": [
        "Supongamos que hemos hecho unas medidas y obtenemos los siguientes puntos"
      ]
    },
    {
      "cell_type": "code",
      "execution_count": 446,
      "metadata": {},
      "outputs": [],
      "source": [
        "# import numpy as np\n",
        "\n",
        "# x = np.linspace(0, 10, 30)\n",
        "# rand = np.random.randn(*x.shape)\n",
        "# y = 2*(x + rand)"
      ]
    },
    {
      "cell_type": "code",
      "execution_count": 447,
      "metadata": {},
      "outputs": [],
      "source": [
        "import numpy as np\n",
        "\n",
        "x = np.array( [ 0.        ,  0.34482759,  0.68965517,  1.03448276,  1.37931034,\n",
        "        1.72413793,  2.06896552,  2.4137931 ,  2.75862069,  3.10344828,\n",
        "        3.44827586,  3.79310345,  4.13793103,  4.48275862,  4.82758621,\n",
        "        5.17241379,  5.51724138,  5.86206897,  6.20689655,  6.55172414,\n",
        "        6.89655172,  7.24137931,  7.5862069 ,  7.93103448,  8.27586207,\n",
        "        8.62068966,  8.96551724,  9.31034483,  9.65517241, 10.        ])\n",
        "\n",
        "y = np.array( [-0.16281253,  1.88707606,  0.39649312,  0.03857752,  4.0148778 ,\n",
        "        0.58866234,  3.35711859,  1.94314906,  6.96106424,  5.89792585,\n",
        "        8.47226615,  3.67698542, 12.05958678,  9.85234481,  9.82181679,\n",
        "        6.07652248, 14.17536744, 12.67825433, 12.97499286, 11.76098542,\n",
        "       12.7843083 , 16.42241036, 13.67913705, 15.55066478, 17.45979602,\n",
        "       16.41982806, 17.01977617, 20.28151197, 19.38148414, 19.41029831])"
      ]
    },
    {
      "cell_type": "code",
      "execution_count": 448,
      "metadata": {},
      "outputs": [
        {
          "data": {
            "image/png": "[encoded data removed]",
            "text/plain": [
              "<Figure size 432x288 with 1 Axes>"
            ]
          },
          "metadata": {
            "needs_background": "light"
          },
          "output_type": "display_data"
        }
      ],
      "source": [
        "import matplotlib.pyplot as plt\n",
        "\n",
        "plt.scatter(x, y)\n",
        "plt.xlabel('X')\n",
        "plt.ylabel('Y  ', rotation=0)\n",
        "plt.show()"
      ]
    },
    {
      "cell_type": "markdown",
      "metadata": {},
      "source": [
        "Como vemos esto se puede asemejar a una regresión lineal. Es decir, podemos suponer que la neurona, recibe ```x```, lo multiplica por un número y saca ```y```\n",
        "\n",
        "![red neuronal regresion](Imagenes/red_neuronal_regresion.png)"
      ]
    },
    {
      "cell_type": "markdown",
      "metadata": {},
      "source": [
        "A partir de aquí vamos a mostrar cómo funcionan las redes neuronales, solo que con un ejemplo sencillo de una sola neurona, luego iremos mostrando ejemplos cada vez más complejos, hasta que explicaremos el funcionamiento general de las redes neuronales. Pero si entiendes lo que va a pasar a continuación vas a entender las redes neuronales"
      ]
    },
    {
      "cell_type": "markdown",
      "metadata": {},
      "source": [
        "Nuestra neurona tiene el parámetro ```a```, que es el que queremos cambiar para que la recta que va a generar se asemeje lo máximo posible a los puntos. El proceso de aprendizaje de nuestra neurona va a consistir en mediante unos cuantos cálculos determinar el mejor valor posible de ```a```"
      ]
    },
    {
      "cell_type": "markdown",
      "metadata": {},
      "source": [
        "## Inicialización aleatoria del parámetro"
      ]
    },
    {
      "cell_type": "markdown",
      "metadata": {},
      "source": [
        "Este ejemplo es sencillo, pero cuando tenemos redes neuronales complejas y no sabemos qué valores tienen que tener sus parámetros, lo que se hace es inicializarlos aleatoriamente"
      ]
    },
    {
      "cell_type": "code",
      "execution_count": 449,
      "metadata": {},
      "outputs": [
        {
          "data": {
            "text/plain": [
              "0.2718754143840908"
            ]
          },
          "execution_count": 449,
          "metadata": {},
          "output_type": "execute_result"
        }
      ],
      "source": [
        "import random\n",
        "\n",
        "random.seed(45) # Esto es una semilla, cuando se generan números aleatorios, \n",
        "                # pero queremos que siempre se genere el mismo se suele fijar\n",
        "                # un número llamado semilla. Esto hace que siempre a sea el mismo\n",
        "\n",
        "a = random.random()\n",
        "a"
      ]
    },
    {
      "cell_type": "markdown",
      "metadata": {},
      "source": [
        "El valor de a es 0.271875, veamos qué recta saldría si parásemos ahora"
      ]
    },
    {
      "cell_type": "code",
      "execution_count": 450,
      "metadata": {},
      "outputs": [
        {
          "data": {
            "image/png": "[encoded data removed]",
            "text/plain": [
              "<Figure size 432x288 with 1 Axes>"
            ]
          },
          "metadata": {
            "needs_background": "light"
          },
          "output_type": "display_data"
        }
      ],
      "source": [
        "z = a*x\n",
        "\n",
        "plt.scatter(x, y)\n",
        "plt.plot(x, z, 'k')\n",
        "plt.xlabel('X')\n",
        "plt.ylabel('Y  ', rotation=0)\n",
        "plt.show()"
      ]
    },
    {
      "cell_type": "markdown",
      "metadata": {},
      "source": [
        "Como vemos no se parece en nada, así que vamos a tener que hacer que nuestra neurona *aprenda*"
      ]
    },
    {
      "cell_type": "markdown",
      "metadata": {},
      "source": [
        "## Cálculo del error o loss"
      ]
    },
    {
      "cell_type": "markdown",
      "metadata": {},
      "source": [
        "Para buscar el mejor valor posible de ```a``` queremos encontrar un valor que haga que los valores predichos por nuestra neurona tengan el menor error posible con los valores reales de ```y```"
      ]
    },
    {
      "cell_type": "markdown",
      "metadata": {},
      "source": [
        "En este tipo de problemas se suele utilizar el [error cuadrático medio (ECM)](https://es.wikipedia.org/wiki/Error_cuadr%C3%A1tico_medio) o [mean squared error (MSE)](https://en.wikipedia.org/wiki/Mean_squared_error) en inglés. Hay muchas más funciones de error, pero de momento no vienen al caso, así que quédate con esta y ya aprenderemos más funciones más adelante"
      ]
    },
    {
      "cell_type": "markdown",
      "metadata": {},
      "source": [
        "En la literatura a este error se le suele llamar función de pérdida o loss function, por lo que a partir de ahora lo llamaremos así"
      ]
    },
    {
      "cell_type": "markdown",
      "metadata": {},
      "source": [
        "El error cuadrático medio (ECM) mide la distancia entre los puntos predichos por nuestra neurona y los valores reales de ```y```, de ahí la palabra *error* dentro de su nombre\n",
        "\n",
        "$$\\left(z-y\\right)$$\n",
        "\n",
        "![mean squared error](Imagenes/mean_squared_error.png)\n",
        "\n",
        "Sin embargo a veces esa distancia va a ser positiva y a veces negativa, según si se toma primero el valor predicho por nuestra neurona o el valor de ```y```, por lo que dicha distancia se eleva al cuadrado, de ahí la palabrea *cuadrático* del nombre\n",
        "\n",
        "$$\\left(z-y\\right)^2$$\n",
        "\n",
        "Por último se suman todas las distancias elevadas al cuadrado y se divide entre el número de muestras, vamos, lo que es hacer una media de toda la vida, de ahí la palabra *medio* del nombre\n",
        "\n",
        "$$loss = \\frac{\\sum_{i=1}^{N} \\left(z-y\\right)^2}{N}$$\n",
        "\n",
        "Ya tenemos la manera de calcular el ECM (error cuadrático medio)"
      ]
    },
    {
      "cell_type": "markdown",
      "metadata": {},
      "source": [
        "En nuestro caso nuestra pérdida es"
      ]
    },
    {
      "cell_type": "code",
      "execution_count": 451,
      "metadata": {},
      "outputs": [],
      "source": [
        "def loss(y, z):\n",
        "    n = len(y)\n",
        "    sum = 0\n",
        "\n",
        "    for i in range(n):\n",
        "        sum += (z[i]-y[i])**2\n",
        "    \n",
        "    return sum/n"
      ]
    },
    {
      "cell_type": "code",
      "execution_count": 452,
      "metadata": {},
      "outputs": [
        {
          "data": {
            "text/plain": [
              "103.72263739946469"
            ]
          },
          "execution_count": 452,
          "metadata": {},
          "output_type": "execute_result"
        }
      ],
      "source": [
        "error = loss(y, z)\n",
        "error"
      ]
    },
    {
      "cell_type": "markdown",
      "metadata": {},
      "source": [
        "Aunque esto no nos dice mucho, veamos cómo cambia la función de pérdida (loss) en función del valor de ```a```"
      ]
    },
    {
      "cell_type": "code",
      "execution_count": 453,
      "metadata": {},
      "outputs": [
        {
          "data": {
            "image/png": "[encoded data removed]",
            "text/plain": [
              "<Figure size 432x288 with 1 Axes>"
            ]
          },
          "metadata": {
            "needs_background": "light"
          },
          "output_type": "display_data"
        }
      ],
      "source": [
        "posibles_a = np.linspace(0, 4, 30)\n",
        "perdidas = np.empty_like(posibles_a)\n",
        "\n",
        "for i in range (30):\n",
        "    z = posibles_a[i]*x\n",
        "    perdidas[i] = loss(y, z)\n",
        "\n",
        "plt.plot(posibles_a, perdidas)\n",
        "plt.xlabel('a')\n",
        "plt.ylabel('loss  ', rotation=0)\n",
        "plt.show()"
      ]
    },
    {
      "cell_type": "markdown",
      "metadata": {},
      "source": [
        "Podemos ver que el error o pérdida es menor cuando ```a``` vale en torno a 2. Podrías pensar, ya está, problema solucionado, y es cierto. Pero como te dije íbamos a empezar con el problemas más sencillo, por lo que mirando una gráfica lo podemos solucionar.\n",
        "\n",
        "Si el problema tuviese 2 parámetros podríamos revisar un gráfico de 3 dimensiones para buscar el mínimo\n",
        "\n",
        "![grafico 3 diemnsiones](Imagenes/matplotlib_3d.jfif)\n",
        "\n",
        "Pero en cuanto nuestro problema tuviese más de 2 parámetros ya no podríamos buscar el minimo error con una gráfica. Por no decir que las redes neuronales tienen millones de parámetros, por ejemplo, la red neuronal resnet18 (que más tarde la estudiaremos) es una red pequeña y tiene en torno a 11 millones de parámetros. Es imposible buscar el mínimo error ahí de manera manual. De modo que necesitamos un método automático mediante cálculos"
      ]
    },
    {
      "cell_type": "markdown",
      "metadata": {},
      "source": [
        "## Descenso del gradiente"
      ]
    },
    {
      "cell_type": "markdown",
      "metadata": {},
      "source": [
        "Como hemos dicho, necesitamos encontrar el valor de ```a``` que haga que la función de pérdida sea mínima y a su vez hacerlo mediante un algoritmo."
      ]
    },
    {
      "cell_type": "markdown",
      "metadata": {},
      "source": [
        "Una de las peculiaridades de un mínimo de una función es que su gradiente o derivada es 0"
      ]
    },
    {
      "cell_type": "markdown",
      "metadata": {},
      "source": [
        "Si no sabes lo que es la derivada o gradiente, es la recta que corta a una función en un punto de manera perpendicular\n",
        "\n",
        "![derivada](Imagenes/derivada.png)\n",
        "\n",
        "Por ejemplo, en esta imagen, la derivada de A, B y C son las lineas verde, azul y negra respectivamente\n",
        "\n",
        "La derivada mide la pendiente de una función, cuanto más pendiente tiene la función en un punto, más perpendicular al *eje x* será la derivada en ese punto y cuanto menos pendiente tiene la función en un punto, más paralela al *eje x* será la derivada en ese punto"
      ]
    },
    {
      "cell_type": "markdown",
      "metadata": {},
      "source": [
        "Pues bien, si volvemos a ver la gráfica de la función de pérdida con respecto el valor de a, cuanto mayor pendiente tenga la función, es decir, cuanto mayor sea la derivada, más lejos estaremos del mínimo. Y cuanto menor sea la derivada, menor pendiente, más cerca estaremos del mínimo"
      ]
    },
    {
      "cell_type": "code",
      "execution_count": 454,
      "metadata": {},
      "outputs": [],
      "source": [
        "def gradiente (a, x, y):\n",
        "    n = len(y)\n",
        "    sum = 0\n",
        "\n",
        "    for i in range(n):\n",
        "        sum += (a*x[i]-y[i])*x[i]\n",
        "    \n",
        "    return 2*sum/n"
      ]
    },
    {
      "cell_type": "code",
      "execution_count": 455,
      "metadata": {},
      "outputs": [],
      "source": [
        "def gradiente_linea (i):\n",
        "    x1 = posibles_a[i]-0.7\n",
        "    x2 = posibles_a[i]\n",
        "    x3 = posibles_a[i]+0.7\n",
        "\n",
        "    b = perdidas[i] - gradientes[i]*posibles_a[i]\n",
        "\n",
        "    y1 = gradientes[i]*x1 + b\n",
        "    y2 = perdidas[i]\n",
        "    y3 = gradientes[i]*x3 + b\n",
        "\n",
        "    x_linea = np.array([x1, x2, x3])\n",
        "    y_linea = np.array([y1, y2, y3])\n",
        "\n",
        "    return x_linea, y_linea"
      ]
    },
    {
      "cell_type": "code",
      "execution_count": 456,
      "metadata": {},
      "outputs": [
        {
          "data": {
            "image/png": "[encoded data removed]",
            "text/plain": [
              "<Figure size 432x288 with 1 Axes>"
            ]
          },
          "metadata": {
            "needs_background": "light"
          },
          "output_type": "display_data"
        }
      ],
      "source": [
        "posibles_a = np.linspace(0, 4, 30)\n",
        "perdidas = np.empty_like(posibles_a)\n",
        "gradientes = np.empty_like(posibles_a)\n",
        "\n",
        "for i in range (30):\n",
        "    z = posibles_a[i]*x\n",
        "    perdidas[i] = loss(y, z)\n",
        "    gradientes[i] = gradiente(posibles_a[i], x, y)\n",
        "\n",
        "# Se calcula la linea del gradiente en el inicio\n",
        "i = 3\n",
        "x_inicio, y_inicio = gradiente_linea(i)\n",
        "\n",
        "# Se calcula la linea del gradiente en la base\n",
        "i = 14\n",
        "x_base, y_base = gradiente_linea (i)\n",
        "\n",
        "# Se calcula la linea del gradiente al final\n",
        "i = -3\n",
        "x_final, y_final = gradiente_linea (i)\n",
        "\n",
        "\n",
        "plt.plot(posibles_a, perdidas)\n",
        "plt.plot(x_inicio, y_inicio, 'g')\n",
        "plt.plot(x_base, y_base, 'y')\n",
        "plt.plot(x_final, y_final, 'r')\n",
        "# plt.scatter(posibles_a, gradientes)\n",
        "plt.xlabel('a')\n",
        "plt.ylabel('loss     ', rotation=0)\n",
        "plt.show()"
      ]
    }
  ],
  "metadata": {
    "interpreter": {
      "hash": "d1c24abb23a313e1f9ae042292cd8e6e3c60c5818227ced3d46e3df2c65171ef"
    },
    "kernelspec": {
      "display_name": "Python 3.8.5 64-bit ('base': conda)",
      "name": "python3"
    },
    "language_info": {
      "codemirror_mode": {
        "name": "ipython",
        "version": 3
      },
      "file_extension": ".py",
      "mimetype": "text/x-python",
      "name": "python",
      "nbconvert_exporter": "python",
      "pygments_lexer": "ipython3",
      "version": "3.8.11"
    }
  },
  "nbformat": 4,
  "nbformat_minor": 2
}
