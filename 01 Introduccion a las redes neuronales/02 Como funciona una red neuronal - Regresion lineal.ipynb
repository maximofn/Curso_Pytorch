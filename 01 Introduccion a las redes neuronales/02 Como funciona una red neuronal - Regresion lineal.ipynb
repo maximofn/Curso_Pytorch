{
  "cells": [
    {
      "cell_type": "code",
      "execution_count": 184,
      "metadata": {
        "collapsed": false
      },
      "outputs": [],
      "source": [
        "%matplotlib inline"
      ]
    },
    {
      "cell_type": "markdown",
      "metadata": {},
      "source": [
        "# Como funciona una red neuronal"
      ]
    },
    {
      "cell_type": "markdown",
      "metadata": {},
      "source": [
        "Como hemos dicho una neurona es una unidad de procesamiento, recibe unas señales, realiza unos cálculos y saca otra señal.\n",
        "\n",
        "![red_neuronal_artificial](Imagenes/red_neuronal_artificial.jpg)\n",
        "\n",
        "Así que vamos a ver el ejemplo más sencillo, el caso en el que se recibe una señal y se saca otra, y lo vamos a ver con la regresión lineal"
      ]
    },
    {
      "cell_type": "markdown",
      "metadata": {},
      "source": [
        "Supongamos que hemos hecho unas medidas y obtenemos los siguientes puntos"
      ]
    },
    {
      "cell_type": "code",
      "execution_count": 185,
      "metadata": {},
      "outputs": [],
      "source": [
        "# import numpy as np\n",
        "\n",
        "# x = np.linspace(0, 10, 30)\n",
        "# rand = np.random.randn(*x.shape)\n",
        "# y = 2*(x + rand)"
      ]
    },
    {
      "cell_type": "code",
      "execution_count": 186,
      "metadata": {},
      "outputs": [],
      "source": [
        "import numpy as np\n",
        "\n",
        "x = np.array( [ 0.        ,  0.34482759,  0.68965517,  1.03448276,  1.37931034,\n",
        "        1.72413793,  2.06896552,  2.4137931 ,  2.75862069,  3.10344828,\n",
        "        3.44827586,  3.79310345,  4.13793103,  4.48275862,  4.82758621,\n",
        "        5.17241379,  5.51724138,  5.86206897,  6.20689655,  6.55172414,\n",
        "        6.89655172,  7.24137931,  7.5862069 ,  7.93103448,  8.27586207,\n",
        "        8.62068966,  8.96551724,  9.31034483,  9.65517241, 10.        ])\n",
        "\n",
        "y = np.array( [-0.16281253,  1.88707606,  0.39649312,  0.03857752,  4.0148778 ,\n",
        "        0.58866234,  3.35711859,  1.94314906,  6.96106424,  5.89792585,\n",
        "        8.47226615,  3.67698542, 12.05958678,  9.85234481,  9.82181679,\n",
        "        6.07652248, 14.17536744, 12.67825433, 12.97499286, 11.76098542,\n",
        "       12.7843083 , 16.42241036, 13.67913705, 15.55066478, 17.45979602,\n",
        "       16.41982806, 17.01977617, 20.28151197, 19.38148414, 19.41029831])"
      ]
    },
    {
      "cell_type": "code",
      "execution_count": 187,
      "metadata": {},
      "outputs": [
        {
          "data": {
            "image/png": "[encoded data removed]",
            "text/plain": [
              "<Figure size 432x288 with 1 Axes>"
            ]
          },
          "metadata": {
            "needs_background": "light"
          },
          "output_type": "display_data"
        }
      ],
      "source": [
        "import matplotlib.pyplot as plt\n",
        "\n",
        "plt.scatter(x, y)\n",
        "plt.xlabel('X')\n",
        "plt.ylabel('Y  ', rotation=0)\n",
        "plt.show()"
      ]
    },
    {
      "cell_type": "markdown",
      "metadata": {},
      "source": [
        "Como vemos esto se puede asemejar a una regresión lineal. Es decir, podemos suponer que la neurona, recibe ```x```, lo multiplica por un número y saca ```y```\n",
        "\n",
        "![red neuronal regresion](Imagenes/red_neuronal_regresion.png)"
      ]
    },
    {
      "cell_type": "markdown",
      "metadata": {},
      "source": [
        "A partir de aquí vamos a mostrar cómo funcionan las redes neuronales, solo que con un ejemplo sencillo de una sola neurona, luego iremos mostrando ejemplos cada vez más complejos, hasta que explicaremos el funcionamiento general de las redes neuronales. Pero si entiendes lo que va a pasar a continuación vas a entender las redes neuronales"
      ]
    },
    {
      "cell_type": "markdown",
      "metadata": {},
      "source": [
        "Nuestra neurona tiene el parámetro ```a```, que es el que queremos cambiar para que la recta que va a generar se asemeje lo máximo posible a los puntos. El proceso de aprendizaje de nuestra neurona va a consistir en mediante unos cuantos cálculos determinar el mejor valor posible de ```a```"
      ]
    },
    {
      "cell_type": "markdown",
      "metadata": {},
      "source": [
        "## Inicialización aleatoria del parámetro"
      ]
    },
    {
      "cell_type": "markdown",
      "metadata": {},
      "source": [
        "Este ejemplo es sencillo, pero cuando tenemos redes neuronales complejas y no sabemos qué valores tienen que tener sus parámetros, lo que se hace es inicializarlos aleatoriamente"
      ]
    },
    {
      "cell_type": "code",
      "execution_count": 188,
      "metadata": {},
      "outputs": [
        {
          "data": {
            "text/plain": [
              "0.2718754143840908"
            ]
          },
          "execution_count": 188,
          "metadata": {},
          "output_type": "execute_result"
        }
      ],
      "source": [
        "import random\n",
        "\n",
        "random.seed(45) # Esto es una semilla, cuando se generan números aleatorios, \n",
        "                # pero queremos que siempre se genere el mismo se suele fijar\n",
        "                # un número llamado semilla. Esto hace que siempre a sea el mismo\n",
        "\n",
        "a = random.random()\n",
        "a"
      ]
    },
    {
      "cell_type": "markdown",
      "metadata": {},
      "source": [
        "El valor de a es 0.271875, veamos qué recta saldría si parásemos ahora"
      ]
    },
    {
      "cell_type": "code",
      "execution_count": 189,
      "metadata": {},
      "outputs": [
        {
          "data": {
            "image/png": "[encoded data removed]",
            "text/plain": [
              "<Figure size 432x288 with 1 Axes>"
            ]
          },
          "metadata": {
            "needs_background": "light"
          },
          "output_type": "display_data"
        }
      ],
      "source": [
        "z = a*x\n",
        "\n",
        "plt.scatter(x, y)\n",
        "plt.plot(x, z, 'k')\n",
        "plt.xlabel('X')\n",
        "plt.ylabel('Y  ', rotation=0)\n",
        "plt.show()"
      ]
    },
    {
      "cell_type": "markdown",
      "metadata": {},
      "source": [
        "Como vemos no se parece en nada, así que vamos a tener que hacer que nuestra neurona *aprenda*"
      ]
    },
    {
      "cell_type": "markdown",
      "metadata": {},
      "source": [
        "## Cálculo del error o loss"
      ]
    },
    {
      "cell_type": "markdown",
      "metadata": {},
      "source": [
        "Para buscar el mejor valor posible de ```a``` queremos encontrar un valor que haga que los valores predichos por nuestra neurona tengan el menor error posible con los valores reales de ```y```"
      ]
    },
    {
      "cell_type": "markdown",
      "metadata": {},
      "source": [
        "En este tipo de problemas se suele utilizar el [error cuadrático medio (ECM)](https://es.wikipedia.org/wiki/Error_cuadr%C3%A1tico_medio) o [mean squared error (MSE)](https://en.wikipedia.org/wiki/Mean_squared_error) en inglés. Hay muchas más funciones de error, pero de momento no vienen al caso, así que quédate con esta y ya aprenderemos más funciones más adelante"
      ]
    },
    {
      "cell_type": "markdown",
      "metadata": {},
      "source": [
        "En la literatura a este error se le suele llamar función de pérdida o loss function, por lo que a partir de ahora lo llamaremos así"
      ]
    },
    {
      "cell_type": "markdown",
      "metadata": {},
      "source": [
        "El error cuadrático medio (ECM) mide la distancia entre los puntos predichos por nuestra neurona y los valores reales de ```y```, de ahí la palabra *error* dentro de su nombre\n",
        "\n",
        "$$\\left(z-y\\right)$$\n",
        "\n",
        "![mean squared error](Imagenes/mean_squared_error.png)\n",
        "\n",
        "Sin embargo a veces esa distancia va a ser positiva y a veces negativa, según si se toma primero el valor predicho por nuestra neurona o el valor de ```y```, por lo que dicha distancia se eleva al cuadrado, de ahí la palabrea *cuadrático* del nombre\n",
        "\n",
        "$$\\left(z-y\\right)^2$$\n",
        "\n",
        "Por último se suman todas las distancias elevadas al cuadrado y se divide entre el número de muestras, vamos, lo que es hacer una media de toda la vida, de ahí la palabra *medio* del nombre\n",
        "\n",
        "$$loss = \\frac{\\sum_{i=1}^{N} \\left(z-y\\right)^2}{N}$$\n",
        "\n",
        "Ya tenemos la manera de calcular el ECM (error cuadrático medio)"
      ]
    },
    {
      "cell_type": "markdown",
      "metadata": {},
      "source": [
        "En nuestro caso nuestra pérdida es"
      ]
    },
    {
      "cell_type": "code",
      "execution_count": 190,
      "metadata": {},
      "outputs": [],
      "source": [
        "def loss(y, z):\n",
        "    n = len(y)\n",
        "    sum = 0\n",
        "\n",
        "    for i in range(n):\n",
        "        sum += (z[i]-y[i])**2\n",
        "    \n",
        "    return sum/n"
      ]
    },
    {
      "cell_type": "code",
      "execution_count": 191,
      "metadata": {},
      "outputs": [
        {
          "data": {
            "text/plain": [
              "103.72263739946469"
            ]
          },
          "execution_count": 191,
          "metadata": {},
          "output_type": "execute_result"
        }
      ],
      "source": [
        "error = loss(y, z)\n",
        "error"
      ]
    },
    {
      "cell_type": "markdown",
      "metadata": {},
      "source": [
        "Aunque esto no nos dice mucho, veamos cómo cambia la función de pérdida (loss) en función del valor de ```a```"
      ]
    },
    {
      "cell_type": "code",
      "execution_count": 192,
      "metadata": {},
      "outputs": [
        {
          "data": {
            "image/png": "[encoded data removed]",
            "text/plain": [
              "<Figure size 432x288 with 1 Axes>"
            ]
          },
          "metadata": {
            "needs_background": "light"
          },
          "output_type": "display_data"
        }
      ],
      "source": [
        "posibles_a = np.linspace(0, 4, 30)\n",
        "perdidas = np.empty_like(posibles_a)\n",
        "\n",
        "for i in range (30):\n",
        "    z = posibles_a[i]*x\n",
        "    perdidas[i] = loss(y, z)\n",
        "\n",
        "plt.plot(posibles_a, perdidas)\n",
        "plt.xlabel('a')\n",
        "plt.ylabel('loss  ', rotation=0)\n",
        "plt.show()"
      ]
    },
    {
      "cell_type": "markdown",
      "metadata": {},
      "source": [
        "Podemos ver que el error o pérdida es menor cuando ```a``` vale en torno a 2. Podrías pensar, ya está, problema solucionado, y es cierto. Pero como te dije íbamos a empezar con el problemas más sencillo, por lo que mirando una gráfica lo podemos solucionar.\n",
        "\n",
        "Si el problema tuviese 2 parámetros podríamos revisar un gráfico de 3 dimensiones para buscar el mínimo\n",
        "\n",
        "![grafico 3 diemnsiones](Imagenes/matplotlib_3d.jfif)\n",
        "\n",
        "Pero en cuanto nuestro problema tuviese más de 2 parámetros ya no podríamos buscar el minimo error con una gráfica. Por no decir que las redes neuronales tienen millones de parámetros, por ejemplo, la red neuronal resnet18 (que más tarde la estudiaremos) es una red pequeña y tiene en torno a 11 millones de parámetros. Es imposible buscar el mínimo error ahí de manera manual. De modo que necesitamos un método automático mediante cálculos"
      ]
    },
    {
      "cell_type": "markdown",
      "metadata": {},
      "source": [
        "## Descenso del gradiente"
      ]
    },
    {
      "cell_type": "markdown",
      "metadata": {},
      "source": [
        "Como hemos dicho, necesitamos encontrar el valor de ```a``` que haga que la función de pérdida sea mínima y a su vez hacerlo mediante un algoritmo."
      ]
    },
    {
      "cell_type": "markdown",
      "metadata": {},
      "source": [
        "Una de las peculiaridades de un mínimo de una función es que su gradiente o derivada es 0"
      ]
    },
    {
      "cell_type": "markdown",
      "metadata": {},
      "source": [
        "Si no sabes lo que es la derivada o gradiente, es la recta que corta a una función en un punto de manera perpendicular\n",
        "\n",
        "![derivada](Imagenes/derivada.png)\n",
        "\n",
        "Por ejemplo, en esta imagen, la derivada de A, B y C son las lineas verde, azul y negra respectivamente\n",
        "\n",
        "La derivada mide la pendiente de una función, cuanto más pendiente tiene la función en un punto, más perpendicular al *eje x* será la derivada en ese punto y cuanto menos pendiente tiene la función en un punto, más paralela al *eje x* será la derivada en ese punto"
      ]
    },
    {
      "cell_type": "markdown",
      "metadata": {},
      "source": [
        "Pues bien, si volvemos a ver la gráfica de la función de pérdida con respecto el valor de ``a``, cuanto mayor pendiente tenga la función, es decir, cuanto mayor sea la derivada, más lejos estaremos del mínimo. Y cuanto menor sea la derivada, menor pendiente, más cerca estaremos del mínimo"
      ]
    },
    {
      "cell_type": "code",
      "execution_count": 193,
      "metadata": {},
      "outputs": [],
      "source": [
        "def gradiente (a, x, y):\n",
        "    n = len(y)\n",
        "    sum = 0\n",
        "\n",
        "    for i in range(n):\n",
        "        sum += (a*x[i]-y[i])*x[i]\n",
        "    \n",
        "    return 2*sum/n"
      ]
    },
    {
      "cell_type": "code",
      "execution_count": 194,
      "metadata": {},
      "outputs": [],
      "source": [
        "def gradiente_linea (i, a=None, error=None, gradiente=None):\n",
        "    if a is None:\n",
        "        x1 = posibles_a[i]-0.7\n",
        "        x2 = posibles_a[i]\n",
        "        x3 = posibles_a[i]+0.7\n",
        "\n",
        "        b = perdidas[i] - gradientes[i]*posibles_a[i]\n",
        "\n",
        "        y1 = gradientes[i]*x1 + b\n",
        "        y2 = perdidas[i]\n",
        "        y3 = gradientes[i]*x3 + b\n",
        "    else:\n",
        "        x1 = a-0.7\n",
        "        x2 = a\n",
        "        x3 = a+0.7\n",
        "\n",
        "        b = error - gradiente*a\n",
        "\n",
        "        y1 = gradiente*x1 + b\n",
        "        y2 = error\n",
        "        y3 = gradiente*x3 + b\n",
        "\n",
        "    x_linea = np.array([x1, x2, x3])\n",
        "    y_linea = np.array([y1, y2, y3])\n",
        "\n",
        "    return x_linea, y_linea"
      ]
    },
    {
      "cell_type": "code",
      "execution_count": 195,
      "metadata": {},
      "outputs": [
        {
          "data": {
            "image/png": "[encoded data removed]",
            "text/plain": [
              "<Figure size 432x288 with 1 Axes>"
            ]
          },
          "metadata": {
            "needs_background": "light"
          },
          "output_type": "display_data"
        }
      ],
      "source": [
        "posibles_a = np.linspace(0, 4, 30)\n",
        "perdidas = np.empty_like(posibles_a)\n",
        "gradientes = np.empty_like(posibles_a)\n",
        "\n",
        "for i in range (30):\n",
        "    z = posibles_a[i]*x\n",
        "    perdidas[i] = loss(y, z)\n",
        "    gradientes[i] = gradiente(posibles_a[i], x, y)\n",
        "\n",
        "# Se calcula la linea del gradiente en el inicio\n",
        "i_inicio = 3\n",
        "x_inicio, y_inicio = gradiente_linea(i_inicio)\n",
        "\n",
        "# Se calcula la linea del gradiente en la base\n",
        "i_base = 14\n",
        "x_base, y_base = gradiente_linea (i_base)\n",
        "\n",
        "# Se calcula la linea del gradiente al final\n",
        "i_final = -3\n",
        "x_final, y_final = gradiente_linea (i_final)\n",
        "\n",
        "\n",
        "plt.plot(posibles_a, perdidas, linewidth = 3)\n",
        "plt.plot(x_inicio, y_inicio, 'g')\n",
        "plt.scatter(posibles_a[i_inicio], perdidas[i_inicio], c='green')\n",
        "plt.plot(x_base, y_base, 'y')\n",
        "plt.scatter(posibles_a[i_base], perdidas[i_base], c='pink')\n",
        "plt.plot(x_final, y_final, 'r')\n",
        "plt.scatter(posibles_a[i_final], perdidas[i_final], c='red')\n",
        "\n",
        "plt.xlabel('a')\n",
        "plt.ylabel('loss     ', rotation=0)\n",
        "plt.show()"
      ]
    },
    {
      "cell_type": "markdown",
      "metadata": {},
      "source": [
        "Como se puede ver, al inicio de la gráfica, estamos lejos del mínimo, por lo que la derivada de la función (linea verde) es muy empinada, igual que al final de la función (linea roja). Sin embargo cuando estamos cerca del mínimo la derivada es pequeña (linea amarilla)."
      ]
    },
    {
      "cell_type": "markdown",
      "metadata": {},
      "source": [
        "Recordatorio, lo que queremos es modificar el valor de `a` que haga que la función de coste sea mínima. Esto supone que es error en todos los puntos va a ser el menor posible. Pues bien, ya tenemos una manera de saber cómo de lejos o cerca estamos de ese mínimo. Ahora necesitamos saber cómo modificar `a` para hacer que esté en la zona de mínimo coste.\n",
        "\n",
        "La forma de hacer esto es mediante el **descenso del gradiente** o **gradient descent** en inglés. Lo que vamos a hacer es modificar el valor de `a` en función del valor del grtadiente\n",
        "\n",
        "$$a' = a - \\alpha\\frac{\\partial loss}{\\partial a}$$\n",
        "\n",
        "Como se puede ver a `a` se le resta la derivada de la función de pérdida multiplicada por $\\alpha$ que se conoce como **tasa de aprendizaje** o **learning rate** en inglés. Vamos a ver esto por partes"
      ]
    },
    {
      "cell_type": "markdown",
      "metadata": {},
      "source": [
        "Primero, a `a` se le resta la derivada de la función de pérdida, veamos por qué. Supongamos que estamos en el primer punto de la función de coste (el de la linea verde), como hemos visto su derivada tiene una gran pendiente, pero además esta es negativa (ya que si nos desplazamos de derecha a izquierda la derivada va hacia abajo), por lo que si a `a` se le resta un valor negativo, en realidad lo que estamos haciendo es sumarle un valor, es decir, estamos haciendo que `a` sea mayor, por lo que lo estamos acercando a la zona del mínimo.\n",
        "\n",
        "Ahora al revés, supongamos que estamos en el último punto (el de la linea roja), en ese punto la derivada tiene una gran pendiente, pero además es positiva (ya que si nos dedsplazamos de izquierda a derecha la derivada va hacia arriba). En ese punto por tanto estamos restando a `a` un número positivo, es decir, estamos haciendo a `a` más peuqeña, la estamos acercando a la zona del mínimo"
      ]
    },
    {
      "cell_type": "markdown",
      "metadata": {},
      "source": [
        "Veamos ahora qué significa el **learning rate** $\\alpha$\n",
        "\n",
        "Este es un factor ded aprendizaje que nosotros elegimos, es decir, estamos configurando con qué velocidad se moverá `a`. Es decir, estamos configurando la velocidad de aprendizaje de la red neuronal. Cuanto más grnade sea $\\alpha$ más rápido aprenderá la red, mientras que cuanto más peuqeño más lento aprenderá.\n",
        "\n",
        "Más adelante estudiaremos qué ocurre al cambiar el valor de $\\alpha$, pero de momento quédate con que valores típicos de $\\alpha$ son entre $10^{-3}$ y $10^{-4}$"
      ]
    },
    {
      "cell_type": "markdown",
      "metadata": {},
      "source": [
        "## Bucle de entrenamiento"
      ]
    },
    {
      "cell_type": "markdown",
      "metadata": {},
      "source": [
        "Ya tenemos una manera de saber el error que nos introduce el valor de `a` elegido y una fórmula para modificar el valor de `a`. Ya solo hace falta repetir esto hasta que lleguemos al mínimo de la función de coste"
      ]
    },
    {
      "cell_type": "code",
      "execution_count": 196,
      "metadata": {},
      "outputs": [
        {
          "name": "stderr",
          "output_type": "stream",
          "text": [
            "MovieWriter imagemagick unavailable; using Pillow instead.\n"
          ]
        },
        {
          "name": "stdout",
          "output_type": "stream",
          "text": [
            "fig size: 72.0 DPI, size in inches [6. 4.]\n",
            "<class 'numpy.float64'>\n",
            "i=0: error=90.58531592347755, gradiente=-116.61225164080658, a=0.38848766602489737\n",
            "i=10: error=24.850660900072015, gradiente=-57.77769301302606, a=1.1972135481619979\n",
            "i=20: error=8.71352635740132, gradiente=-28.627024715980273, a=1.5979117174567152\n",
            "i=30: error=4.752037380916472, gradiente=-14.183787918022043, a=1.7964450232683855\n",
            "i=40: error=3.779535424679216, gradiente=-7.02761959020926, a=1.8948120150265133\n"
          ]
        },
        {
          "data": {
            "image/png": "[encoded data removed]",
            "text/plain": [
              "<Figure size 432x288 with 2 Axes>"
            ]
          },
          "metadata": {
            "needs_background": "light"
          },
          "output_type": "display_data"
        }
      ],
      "source": [
        "from matplotlib.animation import FuncAnimation\n",
        "\n",
        "lr = 10**-3\n",
        "\n",
        "folder = \"GIFs\"\n",
        "\n",
        "fig, (ax1, ax2) = plt.subplots(1,2)\n",
        "fig.set_tight_layout(True)\n",
        "print(f'fig size: {fig.get_dpi()} DPI, size in inches {fig.get_size_inches()}')\n",
        "\n",
        "# Plot a scatter that persists (isn't redrawn) and the initial line\n",
        "ax1.scatter(x, y)\n",
        "# ax1..xlabel('X')\n",
        "# ax1.ylabel('Y  ', rotation=0)\n",
        "z = a*x\n",
        "dl = gradiente(a, x, y)\n",
        "error = loss(y, z)\n",
        "x_linea_gradiente, y_linea_gradiente = gradiente_linea(i=0, a=a, error=error, gradiente=dl)\n",
        "line1, = ax1.plot(x, z, 'k', linewidth=2)\n",
        "ax2.plot(posibles_a, perdidas, linewidth = 3)\n",
        "line2, = ax2.plot(x_linea_gradiente, y_linea_gradiente, 'g')\n",
        "line3, = ax2.plot(a, error, 'r*')\n",
        "# ax2.xlabel('a')\n",
        "# ax2.ylabel('loss     ', rotation=0)\n",
        "\n",
        "steps = 50\n",
        "\n",
        "# Matrices donde se guardarán los datos para luego representarlos\n",
        "Z = np.empty([steps, len(x)])\n",
        "X_linea_gradiente = np.empty([steps, len(x_linea_gradiente)])\n",
        "Y_linea_gradiente = np.empty([steps, len(y_linea_gradiente)])\n",
        "A = np.empty(steps)\n",
        "E = np.empty(steps)\n",
        "\n",
        "\n",
        "for i in range(steps):\n",
        "    # Calculamos el gradiente\n",
        "    dl = gradiente(a, x, y)\n",
        "\n",
        "    # Corregimos el valor de a\n",
        "    a = a - lr*dl\n",
        "\n",
        "    # Guardamos el valor de a\n",
        "    A[i] = a\n",
        "\n",
        "    # Calculamos los valores que obtiene la red neuronal\n",
        "    z = a*x\n",
        "\n",
        "    # Guardamos la salida para luego representarla\n",
        "    Z[i,:] = z\n",
        "\n",
        "    # Obtenemos el error\n",
        "    error = loss(y, z)\n",
        "\n",
        "    # Guardamos el error\n",
        "    E[i] = error\n",
        "\n",
        "    # Obtenemos las líneas de los gradientes\n",
        "    x_linea_gradiente, y_linea_gradiente = gradiente_linea(i_inicio, a=a, error=error, gradiente=dl)\n",
        "\n",
        "    # Guardamos las líneas para luego representarlas\n",
        "    X_linea_gradiente[i,:] = x_linea_gradiente\n",
        "    Y_linea_gradiente[i,:] = y_linea_gradiente\n",
        "\n",
        "    # Imprimimos los valores\n",
        "    if i%10 == 0:\n",
        "        print(f\"i={i}: error={error}, gradiente={dl}, a={a}\")\n",
        "\n",
        "\n",
        "def update(i):\n",
        "    label = f'step {i}'\n",
        "    # Update the line and the axes (with a new xlabel). Return a tuple of\n",
        "    # \"artists\" that have to be redrawn for this frame.\n",
        "    line1.set_ydata(Z[i,:])\n",
        "    ax1.set_xlabel(label)\n",
        "\n",
        "    line2.set_xdata(X_linea_gradiente[i,:])\n",
        "    line2.set_ydata(Y_linea_gradiente[i,:])\n",
        "\n",
        "    line3.set_xdata(A[i])\n",
        "    line3.set_ydata(E[i])\n",
        "\n",
        "    return line1, ax1, line2, line3, ax2\n",
        "\n",
        "# FuncAnimation will call the 'update' function for each frame; here\n",
        "# animating over 10 frames, with an interval of 200ms between frames.\n",
        "interval = 200 # ms\n",
        "anim = FuncAnimation(fig, update, frames=np.arange(0, steps), interval=interval)\n",
        "anim.save(f'{folder}/entrenamiento_regresion.gif', dpi=80, writer='imagemagick')"
      ]
    },
    {
      "cell_type": "markdown",
      "metadata": {},
      "source": []
    },
    {
      "cell_type": "markdown",
      "metadata": {},
      "source": [
        "![gif](GIFs/entrenamiento_regresion.gif)"
      ]
    }
  ],
  "metadata": {
    "interpreter": {
      "hash": "d1c24abb23a313e1f9ae042292cd8e6e3c60c5818227ced3d46e3df2c65171ef"
    },
    "kernelspec": {
      "display_name": "Python 3.8.5 64-bit ('base': conda)",
      "name": "python3"
    },
    "language_info": {
      "codemirror_mode": {
        "name": "ipython",
        "version": 3
      },
      "file_extension": ".py",
      "mimetype": "text/x-python",
      "name": "python",
      "nbconvert_exporter": "python",
      "pygments_lexer": "ipython3",
      "version": "3.8.11"
    }
  },
  "nbformat": 4,
  "nbformat_minor": 2
}
