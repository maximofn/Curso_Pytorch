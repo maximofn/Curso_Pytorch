{
  "cells": [
    {
      "cell_type": "code",
      "execution_count": 1,
      "metadata": {
        "collapsed": false
      },
      "outputs": [],
      "source": [
        "%matplotlib inline"
      ]
    },
    {
      "cell_type": "markdown",
      "metadata": {},
      "source": [
        "# Como funciona una red neuronal - regresión lineal con bias"
      ]
    },
    {
      "cell_type": "markdown",
      "metadata": {},
      "source": [
        "Hemos visto el ejemplo simple de la regresión lineal, pero supongamos ahora que tenemos la siguiente distribución de puntos"
      ]
    },
    {
      "cell_type": "code",
      "execution_count": 2,
      "metadata": {},
      "outputs": [],
      "source": [
        "# import numpy as np\n",
        "\n",
        "# x = np.linspace(0, 10, 30)\n",
        "# rand = np.random.randn(*x.shape)\n",
        "# y = 2*(x + 3) + rand"
      ]
    },
    {
      "cell_type": "code",
      "execution_count": 3,
      "metadata": {},
      "outputs": [],
      "source": [
        "import numpy as np\n",
        "\n",
        "x = np.array( [ 0.        ,  0.34482759,  0.68965517,  1.03448276,  1.37931034,\n",
        "        1.72413793,  2.06896552,  2.4137931 ,  2.75862069,  3.10344828,\n",
        "        3.44827586,  3.79310345,  4.13793103,  4.48275862,  4.82758621,\n",
        "        5.17241379,  5.51724138,  5.86206897,  6.20689655,  6.55172414,\n",
        "        6.89655172,  7.24137931,  7.5862069 ,  7.93103448,  8.27586207,\n",
        "        8.62068966,  8.96551724,  9.31034483,  9.65517241, 10.        ])\n",
        "\n",
        "y = np.array( [6.07031713,  6.47220049,  6.86303668,  7.30085821,  8.24477528,\n",
        "       10.49489059, 10.65473628,  9.61305331, 11.66992533, 14.56519246,\n",
        "       13.28530534, 13.75543872, 15.52665638, 13.56319578, 15.99458659,\n",
        "       15.81156146, 16.76450246, 17.08632722, 19.15134441, 17.51520277,\n",
        "       20.31192588, 19.37365485, 22.46353926, 21.13072511, 22.46952069,\n",
        "       23.77019966, 23.62918563, 23.80804221, 25.23849617, 27.19920037])"
      ]
    },
    {
      "cell_type": "code",
      "execution_count": 4,
      "metadata": {},
      "outputs": [
        {
          "data": {
            "image/png": "[encoded data removed]",
            "text/plain": [
              "<Figure size 432x288 with 1 Axes>"
            ]
          },
          "metadata": {
            "needs_background": "light"
          },
          "output_type": "display_data"
        }
      ],
      "source": [
        "import matplotlib.pyplot as plt\n",
        "\n",
        "plt.scatter(x, y)\n",
        "plt.xlabel('X')\n",
        "plt.ylabel('Y  ', rotation=0)\n",
        "plt.ylim([0, 30])\n",
        "plt.show()"
      ]
    },
    {
      "cell_type": "markdown",
      "metadata": {},
      "source": [
        "Si nos fijamos ahora, la recta que se asemejaría a los puntos no acaba en `(0,0)`, por lo que la neurona anterior no nos vale, tenemos que usar una neurona distinta\n",
        "\n",
        "![red neuronal regresion bias](Imagenes/red_neuronal_regresion_bias.png)\n",
        "\n",
        "Ahora la neurona calcula una recta donde hay una pendiente `a` y el valor `b` que se puede llamar bias o sesgo.\n",
        "\n",
        "Poco a poco nos estamos acercando a cómo es de verdad una neurona en una red neuronal"
      ]
    },
    {
      "cell_type": "markdown",
      "metadata": {},
      "source": [
        "## Inicialización aleatoria de los parámetros"
      ]
    },
    {
      "cell_type": "markdown",
      "metadata": {},
      "source": [
        "Como ya hemos explicado lo primero que tenemos que hacer es inicializar aleatoriamente los dos parámetros `a` y `b`"
      ]
    },
    {
      "cell_type": "code",
      "execution_count": 5,
      "metadata": {},
      "outputs": [
        {
          "name": "stdout",
          "output_type": "stream",
          "text": [
            "Los parámetros inicializados aleatoriamente son a = 0.2718754143840908 y b = 0.48802820785090784\n"
          ]
        }
      ],
      "source": [
        "import random\n",
        "\n",
        "random.seed(45) # Esto es una semilla, cuando se generan números aleatorios, \n",
        "                # pero queremos que siempre se genere el mismo se suele fijar\n",
        "                # un número llamado semilla. Esto hace que siempre a sea el mismo\n",
        "\n",
        "a = random.random()\n",
        "b = random.random()\n",
        "\n",
        "print(f'Los parámetros inicializados aleatoriamente son a = {a} y b = {b}')"
      ]
    },
    {
      "cell_type": "markdown",
      "metadata": {},
      "source": [
        "Vamos a ver qué recta saldría con estos parámetros"
      ]
    },
    {
      "cell_type": "code",
      "execution_count": 6,
      "metadata": {},
      "outputs": [
        {
          "data": {
            "image/png": "[encoded data removed]",
            "text/plain": [
              "<Figure size 432x288 with 1 Axes>"
            ]
          },
          "metadata": {
            "needs_background": "light"
          },
          "output_type": "display_data"
        }
      ],
      "source": [
        "z = a*x + b \n",
        "\n",
        "plt.scatter(x, y)\n",
        "plt.plot(x, z, 'k')\n",
        "plt.xlabel('X')\n",
        "plt.ylabel('Y  ', rotation=0)\n",
        "plt.show()"
      ]
    },
    {
      "cell_type": "markdown",
      "metadata": {},
      "source": [
        "No se asemeja en nada la salida de nuestra neurona con los puntos"
      ]
    },
    {
      "cell_type": "markdown",
      "metadata": {},
      "source": [
        "## Cálculo del error o loss"
      ]
    },
    {
      "cell_type": "markdown",
      "metadata": {},
      "source": [
        "Necesitamos una manera de saber cómo de bien o mal se comporta nuestra neurona, para ello, al igual que antes calcularemos el error mediante el error cuadrático medio (ECM) o mean squared error (MSE)\n",
        "\n",
        "$$loss = \\frac{\\sum_{i=1}^{N} \\left(z-y\\right)^2}{N}$$"
      ]
    },
    {
      "cell_type": "code",
      "execution_count": 7,
      "metadata": {},
      "outputs": [],
      "source": [
        "def loss(y, z):\n",
        "    n = len(y)\n",
        "    loss = np.sum((z-y) ** 2) / n\n",
        "    return loss"
      ]
    },
    {
      "cell_type": "code",
      "execution_count": 8,
      "metadata": {},
      "outputs": [
        {
          "data": {
            "text/plain": [
              "227.47785104340105"
            ]
          },
          "execution_count": 8,
          "metadata": {},
          "output_type": "execute_result"
        }
      ],
      "source": [
        "error = loss(y, z)\n",
        "error"
      ]
    },
    {
      "cell_type": "markdown",
      "metadata": {},
      "source": [
        "Es un valor muy alto, recordar que queremos buscar un valor cercano a 0.\n",
        "\n",
        "Vamos a ver cómo evoluciona el error en función de los dos parámetros `a` y `b`"
      ]
    },
    {
      "cell_type": "code",
      "execution_count": 9,
      "metadata": {},
      "outputs": [
        {
          "data": {
            "text/plain": [
              "<mpl_toolkits.mplot3d.art3d.Path3DCollection at 0x1c848311130>"
            ]
          },
          "execution_count": 9,
          "metadata": {},
          "output_type": "execute_result"
        },
        {
          "data": {
            "image/png": "[encoded data removed]",
            "text/plain": [
              "<Figure size 432x288 with 1 Axes>"
            ]
          },
          "metadata": {
            "needs_background": "light"
          },
          "output_type": "display_data"
        }
      ],
      "source": [
        "import matplotlib.pyplot as plt\n",
        "\n",
        "# Se crea la figura\n",
        "fig = plt.figure()\n",
        "ax = plt.axes(projection='3d')\n",
        "\n",
        "# Se crean los datos para representar\n",
        "posibles_a = np.linspace(0, 4, 30)#posibles_a = np.linspace(0, 4, 30)\n",
        "posibles_b = np.linspace(0, 12, 30)#posibles_b = np.linspace(0, 12, 30)\n",
        "A, B = np.meshgrid(posibles_a, posibles_b)\n",
        "\n",
        "def LOSS(x, y, A, B):\n",
        "    n = len(y)\n",
        "    L = np.empty((n, n))\n",
        "    Z = np.empty((len(A), len(B), len(x)))\n",
        "\n",
        "    for i in range(len(A)):\n",
        "        for j in range(len(B)):\n",
        "            Z[i, j, :] = A[i, j]*x + B[i, j]\n",
        "            L[i, j] = loss(y, Z[i, j, :])\n",
        "    \n",
        "    return L\n",
        "Z = LOSS(x, y, A, B)\n",
        "\n",
        "# Se termina de configurar la figura\n",
        "ax.contour3D(A, B, Z, 50, cmap='binary')\n",
        "ax.set_xlabel('a')\n",
        "ax.set_ylabel('b')\n",
        "ax.set_zlabel('loss')\n",
        "\n",
        "# Se representa\n",
        "ax.scatter3D(A, B, Z, c=Z, cmap='Greens')"
      ]
    },
    {
      "cell_type": "markdown",
      "metadata": {},
      "source": [
        "Como se puede ver ahora es más dificil encontrar el mínimo error en función de los parámetros. Se empieza a ver la importancia del bucle de entrenamiento"
      ]
    },
    {
      "cell_type": "markdown",
      "metadata": {},
      "source": [
        "## Descenso del gradiente"
      ]
    },
    {
      "cell_type": "markdown",
      "metadata": {},
      "source": [
        "Al igual que antes buscamos el mínimo de la función de pérdida mediante el descenso del gradiente, pero en este caso, como tenémos dos parámetros, tendremos que hacer el descenso mediante el gradiente de la función de error con respecto a `a` y mediante el gradiente de la función de error con respecto a `b`\n",
        "\n",
        "Como la función de pérdida era\n",
        "\n",
        "$$loss = \\frac{\\sum_{i=1}^{N} \\left(z-y\\right)^2}{N}$$\n",
        "\n",
        "Los dos gradientes se calculan mediante\n",
        "\n",
        "$$\\frac{\\partial loss}{\\partial a} = \n",
        "    \\frac{\\partial \\left(\\frac{\\sum_{i=1}^{N} \\left(z-y\\right)^2}{N}\\right)}{\\partial a} = \n",
        "    \\frac{\\partial \\left(\\frac{\\sum_{i=1}^{N} \\left(\\left(ax+b\\right)-y\\right)^2}{N}\\right)}{\\partial a} = \n",
        "    \\frac{2}{N}\\sum_{i=1}^{N} {\\left(\\left(ax+b\\right)-y\\right) x} = \n",
        "    \\frac{2}{N}\\sum_{i=1}^{N} {\\left(z-y\\right) x}$$\n",
        "\n",
        "$$\\frac{\\partial loss}{\\partial b} = \n",
        "    \\frac{\\partial \\left(\\frac{\\sum_{i=1}^{N} \\left(z-y\\right)^2}{N}\\right)}{\\partial b} = \n",
        "    \\frac{\\partial \\left(\\frac{\\sum_{i=1}^{N} \\left(\\left(ax+b\\right)-y\\right)^2}{N}\\right)}{\\partial b} = \n",
        "    \\frac{2}{N}\\sum_{i=1}^{N} {\\left(\\left(ax+b\\right)-y\\right)} = \n",
        "    \\frac{2}{N}\\sum_{i=1}^{N} {\\left(z-y\\right)}$$"
      ]
    },
    {
      "cell_type": "code",
      "execution_count": 10,
      "metadata": {},
      "outputs": [],
      "source": [
        "def gradiente_a (z, x, y):\n",
        "    # Función que calcula el valor del gradiente de la función de pérdida con respecto a en un punto\n",
        "    n = len(y)\n",
        "    return 2*np.sum((z - y)*x)/n\n",
        "\n",
        "def gradiente_b (z, y):\n",
        "    # Función que calcula el valor del gradiente de la función de pérdida con respecto b en un punto\n",
        "    n = len(y)\n",
        "    return 2*np.sum((z - y))/n"
      ]
    },
    {
      "cell_type": "markdown",
      "metadata": {},
      "source": [
        "## Bucle de entrenamiento"
      ]
    },
    {
      "cell_type": "markdown",
      "metadata": {},
      "source": [
        "Una vez que sabemos calcular los gradientes actualizamos los parámetros `a` y `b` mediante las siguientes fórmulas\n",
        "\n",
        "$$a' = a - \\alpha\\frac{\\partial loss}{\\partial a}$$\n",
        "\n",
        "$$b' = b - \\alpha\\frac{\\partial loss}{\\partial b}$$\n",
        "\n",
        "Recordemos que $\\alpha$ es la tasa de aprendizaje o learning rate, que determina la velocidad a la que va a aprender la red"
      ]
    },
    {
      "cell_type": "code",
      "execution_count": 11,
      "metadata": {},
      "outputs": [
        {
          "name": "stdout",
          "output_type": "stream",
          "text": [
            "i=10: error=7.029490684136037, gradiente_a=0.3705594824939569, gradiente_b=-2.520838167498667, a=2.7241852079888456, b=1.1185885078567277\n",
            "i=20: error=6.417394109645656, gradiente_a=0.3556559213324983, gradiente_b=-2.3936333120087316, a=2.6877982939522127, b=1.3635986352880327\n",
            "i=30: error=5.865258840694339, gradiente_a=0.3377869392118285, gradiente_b=-2.273371407667819, a=2.6532230935614036, b=1.5962964194751597\n",
            "i=40: error=5.367211027296578, gradiente_a=0.3208157101679551, gradiente_b=-2.159151755031675, a=2.6203850343553396, b=1.817302906749383\n",
            "i=50: error=4.917952234426088, gradiente_a=0.3046971565290785, gradiente_b=-2.0506707727264684, a=2.5891968383010284, b=2.0272054960324346\n",
            "i=60: error=4.512703064482926, gradiente_a=0.28938843783025353, gradiente_b=-1.9476401361389613, a=2.5595756123017, b=2.226562073891895\n",
            "i=70: error=4.147152312119656, gradiente_a=0.2748488660143932, gradiente_b=-1.8497860067786587, a=2.531442628009331, b=2.4159024973310834\n",
            "i=80: error=3.817411099886963, gradiente_a=0.261039797290425, gradiente_b=-1.7568483044600784, a=2.5047231125776386, b=2.5957300020618477\n",
            "i=90: error=3.5199715067750375, gradiente_a=0.2479245294243448, gradiente_b=-1.6685800160524036, a=2.479346049928153, b=2.7665225400223394\n",
            "i=100: error=3.251669249524423, gradiente_a=0.23546820419065864, gradiente_b=-1.5847465389592021, a=2.455243992001157, b=2.928734049694673\n"
          ]
        }
      ],
      "source": [
        "lr = 10**-2 # Tasa de aprendizaje o learning rate\n",
        "steps = 100  # Numero de veces que se realiza el bucle de enrtenamiento\n",
        "\n",
        "# Calculamos los valores que obtiene la red neuronal\n",
        "z = a*x\n",
        "\n",
        "for i in range(steps):\n",
        "    # Calculamos los gradientes\n",
        "    dl_a = gradiente_a(z, x, y)\n",
        "    dl_b = gradiente_b(z, y)\n",
        "\n",
        "    # Corregimos el valor de a y b\n",
        "    a = a - lr*dl_a\n",
        "    b = b - lr*dl_b\n",
        "\n",
        "    # Calculamos los nuevos valores que obtiene la red neuronal\n",
        "    z = a*x + b\n",
        "\n",
        "    # Obtenemos el error\n",
        "    error = loss(y, z)\n",
        "\n",
        "    # Imprimimos la evolución del entrenamiento\n",
        "    if (i+1)%10 == 0:\n",
        "        print(f\"i={i+1}: error={error}, gradiente_a={dl_a}, gradiente_b={dl_b}, a={a}, b={b}\")"
      ]
    },
    {
      "cell_type": "markdown",
      "metadata": {},
      "source": [
        "Vamos a ver cómo es la salida de nuestra neurona una vez la hemos entrenado"
      ]
    },
    {
      "cell_type": "code",
      "execution_count": 12,
      "metadata": {},
      "outputs": [
        {
          "data": {
            "image/png": "[encoded data removed]",
            "text/plain": [
              "<Figure size 432x288 with 1 Axes>"
            ]
          },
          "metadata": {
            "needs_background": "light"
          },
          "output_type": "display_data"
        }
      ],
      "source": [
        "plt.scatter(x, y)\n",
        "plt.plot(x, z, 'k')\n",
        "plt.xlabel('X')\n",
        "plt.ylabel('Y  ', rotation=0)\n",
        "plt.show()"
      ]
    },
    {
      "cell_type": "markdown",
      "metadata": {},
      "source": [
        "Como se puede ver ahora se asemeja mucho mejor a los puntos"
      ]
    }
  ],
  "metadata": {
    "interpreter": {
      "hash": "d1c24abb23a313e1f9ae042292cd8e6e3c60c5818227ced3d46e3df2c65171ef"
    },
    "kernelspec": {
      "display_name": "Python 3.8.5 64-bit ('base': conda)",
      "name": "python3"
    },
    "language_info": {
      "codemirror_mode": {
        "name": "ipython",
        "version": 3
      },
      "file_extension": ".py",
      "mimetype": "text/x-python",
      "name": "python",
      "nbconvert_exporter": "python",
      "pygments_lexer": "ipython3",
      "version": "3.8.11"
    }
  },
  "nbformat": 4,
  "nbformat_minor": 2
}
