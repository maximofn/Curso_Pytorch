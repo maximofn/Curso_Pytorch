{
  "cells": [
    {
      "cell_type": "code",
      "execution_count": 1,
      "metadata": {
        "collapsed": false
      },
      "outputs": [],
      "source": [
        "%matplotlib inline"
      ]
    },
    {
      "cell_type": "markdown",
      "metadata": {},
      "source": [
        "# Neurona con multiples entradas - puerta logica AND"
      ]
    },
    {
      "cell_type": "markdown",
      "metadata": {},
      "source": [
        "Intentemos replicar ahora el funcionamiento de una puerta lógica AND"
      ]
    },
    {
      "cell_type": "code",
      "execution_count": 2,
      "metadata": {},
      "outputs": [],
      "source": [
        "import numpy as np\n",
        "\n",
        "x1 = np.array([0.,  1.,  0.,  1.])\n",
        "x2 = np.array([0.,  0.,  1.,  1.])\n",
        "y = np.array([0.,  0.,  0.,  1.])"
      ]
    },
    {
      "cell_type": "code",
      "execution_count": 3,
      "metadata": {},
      "outputs": [
        {
          "data": {
            "image/png": "[encoded data removed]",
            "text/plain": [
              "<Figure size 432x288 with 1 Axes>"
            ]
          },
          "metadata": {
            "needs_background": "light"
          },
          "output_type": "display_data"
        }
      ],
      "source": [
        "import matplotlib.pyplot as plt\n",
        "\n",
        "plt.scatter(x1[0:3], x2[0:3], c='blue')\n",
        "plt.scatter(x1[3], x2[3], c='red')\n",
        "plt.xlabel('x1')\n",
        "plt.ylabel('x2  ', rotation=0)\n",
        "plt.show()"
      ]
    },
    {
      "cell_type": "markdown",
      "metadata": {},
      "source": [
        "Vamos a usar una neurona, igual que antes, pero en este caso con dos entradas\n",
        "\n",
        "![neurona_AND](Imagenes/red_neuronal_AND.png)\n",
        "\n",
        "Como se puede ver, se han llamado a los parámetros de la neurona $\\omega_i$. Así es como se suelen llamar generalmente a los parámetros de las redes neuronales.\n",
        "\n",
        "Por otro lado, se suele llamar al parámetro al que no se le multiplica por la entrada $\\omega_0$ y al resto de parámetros $\\omega_i$"
      ]
    },
    {
      "cell_type": "markdown",
      "metadata": {},
      "source": [
        "## Inicialización aleatoria de los parámetros"
      ]
    },
    {
      "cell_type": "markdown",
      "metadata": {},
      "source": [
        "Inicializamos aleatoriamente los parámetros $\\omega_0$, $\\omega_1$ y $\\omega_2$"
      ]
    },
    {
      "cell_type": "code",
      "execution_count": 4,
      "metadata": {},
      "outputs": [
        {
          "name": "stdout",
          "output_type": "stream",
          "text": [
            "Los parámetros inicializados aleatoriamente son w0 = 0.2719, w1 = 0.4880 y w2 = 0.0819\n"
          ]
        }
      ],
      "source": [
        "import random\n",
        "\n",
        "random.seed(45) # Esto es una semilla, cuando se generan números aleatorios, \n",
        "                # pero queremos que siempre se genere el mismo se suele fijar\n",
        "                # un número llamado semilla. Esto hace que siempre a sea el mismo\n",
        "\n",
        "w0 = random.random()\n",
        "w1 = random.random()\n",
        "w2 = random.random()\n",
        "\n",
        "print(f'Los parámetros inicializados aleatoriamente son w0 = {w0:.4f}, w1 = {w1:.4f} y w2 = {w2:.4f}')"
      ]
    },
    {
      "cell_type": "markdown",
      "metadata": {},
      "source": [
        "Vamos a ver saldría con estos parámetros"
      ]
    },
    {
      "cell_type": "code",
      "execution_count": 5,
      "metadata": {},
      "outputs": [
        {
          "name": "stdout",
          "output_type": "stream",
          "text": [
            "z: [0.27187541 0.75990362 0.35375476 0.84178296], z_bin: [0 1 0 1]\n",
            "y: [0. 0. 0. 1.]\n"
          ]
        }
      ],
      "source": [
        "z = w0 + w1*x1 + w2*x2\n",
        "\n",
        "# Si el valor predicho es mayor que 0.5 se considera la salida un 1, si no un 0\n",
        "z_bin = (z>0.5).astype(int)\n",
        "\n",
        "print(f\"z: {z}, z_bin: {z_bin}\")\n",
        "print(f\"y: {y}\")"
      ]
    },
    {
      "cell_type": "code",
      "execution_count": 6,
      "metadata": {},
      "outputs": [
        {
          "data": {
            "image/png": "[encoded data removed]",
            "text/plain": [
              "<Figure size 432x288 with 1 Axes>"
            ]
          },
          "metadata": {
            "needs_background": "light"
          },
          "output_type": "display_data"
        }
      ],
      "source": [
        "from matplotlib.colors import ListedColormap\n",
        "\n",
        "\n",
        "# Se crean dos vectores con todos los posibles valores de entrada\n",
        "max_axis = 1.1\n",
        "min_axis = -0.1\n",
        "axes = [min_axis, max_axis, min_axis, max_axis]\n",
        "xx1, xx2 = np.meshgrid(\n",
        "    np.linspace(axes[0], axes[1], 500).reshape(-1, 1),\n",
        "    np.linspace(axes[2], axes[3], 500).reshape(-1, 1),\n",
        ")\n",
        "\n",
        "# all_x1 y all_x2 son matrices de tamaño 500x500, se aplanan\n",
        "X1_new = np.c_[xx1.ravel()]\n",
        "X2_new = np.c_[xx2.ravel()]\n",
        "\n",
        "# Se calculan las posibles salidas\n",
        "all_z_predict = w0 + w1*X1_new + w2*X2_new\n",
        "\n",
        "# Si el valor predicho es mayor que 0.5 se considera la salida un 1, si no un 0\n",
        "all_z_predict = (all_z_predict>0.5).astype(int)\n",
        "\n",
        "# z_predict es un array de 250000x1, se redimensiona en forma de matriz de 500x500\n",
        "all_z_predict = all_z_predict.reshape(xx1.shape)\n",
        "\n",
        "# Se dibujan las salidas predichas por la red de todas las posibles entradas creadas\n",
        "colormap = ListedColormap(['#149691', '#e16fa2'])\n",
        "plt.contourf(xx1, xx2, all_z_predict, cmap=colormap)\n",
        "\n",
        "# Se representan los cuatro puntos de la salida de la puerta lógica\n",
        "plt.scatter(x1[0:3], x2[0:3], c='blue')\n",
        "plt.scatter(x1[3], x2[3], c='red')\n",
        "\n",
        "# Se termina de configurar la figura\n",
        "plt.xlabel('x1')\n",
        "plt.ylabel('x2  ', rotation=0)\n",
        "plt.axis(axes)\n",
        "plt.show()"
      ]
    },
    {
      "cell_type": "markdown",
      "metadata": {},
      "source": [
        "No se asemeja en nada la salida de nuestra neurona con los puntos"
      ]
    },
    {
      "cell_type": "markdown",
      "metadata": {},
      "source": [
        "## Cálculo del error o loss"
      ]
    },
    {
      "cell_type": "markdown",
      "metadata": {},
      "source": [
        "Necesitamos una manera de saber cómo de bien o mal se comporta nuestra neurona, para ello, al igual que antes calcularemos el error mediante el error cuadrático medio (ECM) o mean squared error (MSE)\n",
        "\n",
        "$$loss = \\frac{\\sum_{i=1}^{N} \\left(z-y\\right)^2}{N}$$"
      ]
    },
    {
      "cell_type": "code",
      "execution_count": 7,
      "metadata": {},
      "outputs": [],
      "source": [
        "def loss(y, z):\n",
        "    n = len(y)\n",
        "    loss = np.sum((z-y) ** 2) / n\n",
        "    return loss"
      ]
    },
    {
      "cell_type": "code",
      "execution_count": 8,
      "metadata": {},
      "outputs": [
        {
          "data": {
            "text/plain": [
              "0.20038620356204445"
            ]
          },
          "execution_count": 8,
          "metadata": {},
          "output_type": "execute_result"
        }
      ],
      "source": [
        "error = loss(y, z)\n",
        "error"
      ]
    },
    {
      "cell_type": "markdown",
      "metadata": {},
      "source": [
        "## Descenso del gradiente"
      ]
    },
    {
      "cell_type": "markdown",
      "metadata": {},
      "source": [
        "Al igual que antes buscamos el mínimo de la función de pérdida mediante el descenso del gradiente, pero en este caso, como tenémos tres parámetros, tendremos que hacer el descenso mediante el gradiente de la función de error con respecto a $\\omega_0$, $\\omega_1$ y $\\omega_2$\n",
        "\n",
        "Como la función de pérdida era\n",
        "\n",
        "$$loss = \\frac{\\sum_{i=1}^{N} \\left(z-y\\right)^2}{N}$$\n",
        "\n",
        "Los dos gradientes se calculan mediante\n",
        "\n",
        "$$\\frac{\\partial loss}{\\partial \\omega_0} = \n",
        "    \\frac{\\partial \\left(\\frac{\\sum_{i=1}^{N} \\left(z-y\\right)^2}{N}\\right)}{\\partial \\omega_0} = \n",
        "    \\frac{\\partial \\left(\\frac{\\sum_{i=1}^{N} \\left(\\left(\\omega_0+\\omega_1x_1+\\omega_2x_2\\right)-y\\right)^2}{N}\\right)}{\\partial \\omega_0} = \n",
        "    \\frac{2}{N}\\sum_{i=1}^{N} {\\left(\\left(\\omega_0+\\omega_1x_1+\\omega_2x_2\\right)-y\\right)} = \n",
        "    \\frac{2}{N}\\sum_{i=1}^{N} {\\left(z-y\\right)}$$\n",
        "\n",
        "$$\\frac{\\partial loss}{\\partial \\omega_1} = \n",
        "    \\frac{\\partial \\left(\\frac{\\sum_{i=1}^{N} \\left(z-y\\right)^2}{N}\\right)}{\\partial \\omega_1} = \n",
        "    \\frac{\\partial \\left(\\frac{\\sum_{i=1}^{N} \\left(\\left(\\omega_0+\\omega_1x_1+\\omega_2x_2\\right)-y\\right)^2}{N}\\right)}{\\partial \\omega_1} = \n",
        "    \\frac{2}{N}\\sum_{i=1}^{N} {\\left(\\left(\\omega_0+\\omega_1x_1+\\omega_2x_2\\right)-y\\right) x_1} = \n",
        "    \\frac{2}{N}\\sum_{i=1}^{N} {\\left(z-y\\right) x_1}$$\n",
        "\n",
        "$$\\frac{\\partial loss}{\\partial \\omega_2} = \n",
        "    \\frac{\\partial \\left(\\frac{\\sum_{i=1}^{N} \\left(z-y\\right)^2}{N}\\right)}{\\partial \\omega_2} = \n",
        "    \\frac{\\partial \\left(\\frac{\\sum_{i=1}^{N} \\left(\\left(\\omega_0+\\omega_1x_1+\\omega_2x_2\\right)-y\\right)^2}{N}\\right)}{\\partial \\omega_2} = \n",
        "    \\frac{2}{N}\\sum_{i=1}^{N} {\\left(\\left(\\omega_0+\\omega_1x_1+\\omega_2x_2\\right)-y\\right) x_2} = \n",
        "    \\frac{2}{N}\\sum_{i=1}^{N} {\\left(z-y\\right) x_2}$$"
      ]
    },
    {
      "cell_type": "code",
      "execution_count": 9,
      "metadata": {},
      "outputs": [],
      "source": [
        "def gradiente_w0 (z, y):\n",
        "    # Función que calcula el valor del gradiente de la función de pérdida con respecto w0 en un punto\n",
        "    n = len(y)\n",
        "    return 2*np.sum((z - y))/n\n",
        "\n",
        "def gradiente_w1 (z, x1, y):\n",
        "    # Función que calcula el valor del gradiente de la función de pérdida con respecto w1 en un punto\n",
        "    n = len(y)\n",
        "    return 2*np.sum((z - y)*x1)/n\n",
        "    \n",
        "\n",
        "def gradiente_w2 (z, x2, y):\n",
        "    # Función que calcula el valor del gradiente de la función de pérdida con respecto w2 en un punto\n",
        "    n = len(y)\n",
        "    return 2*np.sum((z - y)*x2)/n"
      ]
    },
    {
      "cell_type": "markdown",
      "metadata": {},
      "source": [
        "## Bucle de entrenamiento"
      ]
    },
    {
      "cell_type": "markdown",
      "metadata": {},
      "source": [
        "Una vez que sabemos calcular los gradientes actualizamos los parámetros $\\omega_0$, $\\omega_1$ y $\\omega_2$ mediante las siguientes fórmulas\n",
        "\n",
        "$$\\omega_0' = \\omega_0 - \\alpha\\frac{\\partial loss}{\\partial \\omega_0}$$\n",
        "\n",
        "$$\\omega_1' = \\omega_1 - \\alpha\\frac{\\partial loss}{\\partial \\omega_1}$$\n",
        "\n",
        "$$\\omega_2' = \\omega_2 - \\alpha\\frac{\\partial loss}{\\partial \\omega_2}$$\n",
        "\n",
        "Recordemos que $\\alpha$ es la tasa de aprendizaje o learning rate, que determina la velocidad a la que va a aprender la red"
      ]
    },
    {
      "cell_type": "code",
      "execution_count": 10,
      "metadata": {},
      "outputs": [
        {
          "name": "stdout",
          "output_type": "stream",
          "text": [
            "i=10: error=0.097, gradiente_w0=0.102, gradiente_w1=0.001, gradiente_w2=-0.127, w0=0.019, w1=0.400, w2=0.157\n",
            "i=20: error=0.079, gradiente_w0=0.063, gradiente_w1=-0.014, gradiente_w2=-0.091, w0=-0.057, w1=0.410, w2=0.265\n",
            "i=30: error=0.071, gradiente_w0=0.045, gradiente_w1=-0.015, gradiente_w2=-0.061, w0=-0.110, w1=0.425, w2=0.338\n",
            "i=40: error=0.067, gradiente_w0=0.033, gradiente_w1=-0.014, gradiente_w2=-0.042, w0=-0.148, w1=0.440, w2=0.388\n",
            "i=50: error=0.065, gradiente_w0=0.024, gradiente_w1=-0.012, gradiente_w2=-0.028, w0=-0.176, w1=0.453, w2=0.422\n",
            "i=60: error=0.064, gradiente_w0=0.017, gradiente_w1=-0.010, gradiente_w2=-0.020, w0=-0.196, w1=0.464, w2=0.445\n"
          ]
        }
      ],
      "source": [
        "lr = 10**-1 # Tasa de aprendizaje o learning rate\n",
        "steps = 60  # Numero de veces que se realiza el bucle de enrtenamiento\n",
        "\n",
        "# Calculamos los valores que obtiene la red neuronal\n",
        "z = w0 + w1*x1 + w2*x2\n",
        "\n",
        "# Matrices donde se guardarán los pesos\n",
        "Ws0 = np.empty(steps)\n",
        "Ws1 = np.empty(steps)\n",
        "Ws2 = np.empty(steps)\n",
        "\n",
        "for i in range(steps):\n",
        "    # Calculamos los gradientes\n",
        "    dl_w0 = gradiente_w0(z, y)\n",
        "    dl_w1 = gradiente_w1(z, x1, y)\n",
        "    dl_w2 = gradiente_w2(z, x2, y)\n",
        "\n",
        "    # Corregimos el valor de a y b\n",
        "    w0 = w0 - lr*dl_w0\n",
        "    w1 = w1 - lr*dl_w1\n",
        "    w2 = w2 - lr*dl_w2\n",
        "\n",
        "    # Calculamos los nuevos valores que obtiene la red neuronal\n",
        "    z = w0 + w1*x1 + w2*x2\n",
        "\n",
        "    # Obtenemos el error\n",
        "    error = loss(y, z)\n",
        "\n",
        "    # Guardamos los valores para luego ver la evolución del entrenamiento en una gráfica\n",
        "    Ws0[i] = w0\n",
        "    Ws1[i] = w1\n",
        "    Ws2[i] = w2\n",
        "\n",
        "    # Imprimimos la evolución del entrenamiento\n",
        "    if (i+1)%10 == 0:\n",
        "        print(f\"i={i+1}: error={error:0.3f}, gradiente_w0={dl_w0:0.3f}, gradiente_w1={dl_w1:0.3f}, gradiente_w2={dl_w2:0.3f}, w0={w0:0.3f}, w1={w1:0.3f}, w2={w2:0.3f}\")"
      ]
    },
    {
      "cell_type": "markdown",
      "metadata": {},
      "source": [
        "Vamos a ver cómo es la salida de nuestra neurona una vez la hemos entrenado"
      ]
    },
    {
      "cell_type": "code",
      "execution_count": 13,
      "metadata": {},
      "outputs": [
        {
          "name": "stdout",
          "output_type": "stream",
          "text": [
            "z: [-0.19609359  0.26781511  0.24910392  0.71301262], z_bin: [0 0 0 1]\n",
            "y: [0. 0. 0. 1.]\n"
          ]
        }
      ],
      "source": [
        "z = w0 + w1*x1 + w2*x2\n",
        "z_bin = (z>0.5).astype(int)\n",
        "\n",
        "print(f\"z: {z}, z_bin: {z_bin}\")\n",
        "print(f\"y: {y}\")"
      ]
    },
    {
      "cell_type": "code",
      "execution_count": null,
      "metadata": {},
      "outputs": [],
      "source": [
        "from matplotlib.animation import FuncAnimation\n",
        "\n",
        "# Creamos la gráfica inicial\n",
        "fig, ax = plt.subplots(1,1)\n",
        "fig.set_tight_layout(True)\n",
        "ax.set_xlabel('x1')\n",
        "ax.set_ylabel('x2  ', rotation=0)\n",
        "\n",
        "# Se dibujan los datos que persistiran en toda la evolución de la gráfica\n",
        "ax.scatter(x1[0:3], x2[0:3], c='blue')\n",
        "ax.scatter(x1[3], x2[3], c='red')\n",
        "\n",
        "# Se dibuja el el fondo que irán cambiando durante el entrenamiento\n",
        "max_axis = 1.1\n",
        "min_axis = -0.1\n",
        "axes = [min_axis, max_axis, min_axis, max_axis]\n",
        "xx1, xx2 = np.meshgrid(\n",
        "    np.linspace(axes[0], axes[1], 500).reshape(-1, 1),\n",
        "    np.linspace(axes[2], axes[3], 500).reshape(-1, 1),\n",
        ")\n",
        "X1_new = np.c_[xx1.ravel()]\n",
        "X2_new = np.c_[xx2.ravel()]\n",
        "all_z_predict = w0 + w1*X1_new + w2*X2_new\n",
        "all_z_predict = (all_z_predict>0.5).astype(int)\n",
        "all_z_predict = all_z_predict.reshape(xx1.shape)\n",
        "colormap = ListedColormap(['#149691', '#e16fa2'])\n",
        "fondo = ax.contourf(xx1, xx2, all_z_predict, cmap=colormap)\n",
        "\n",
        "# Se dibuja un título\n",
        "fontsize = 12\n",
        "titulo = fig.suptitle(f'step: {0}', fontsize=fontsize)\n",
        "\n",
        "# Se define la función que va a modificar la gráfica con la evolución del entrenamiento\n",
        "def update(i):\n",
        "    # Se actualiza el fondo\n",
        "    all_z_predict = Ws0[i] + Ws1[i]*X1_new + Ws2[i]*X2_new\n",
        "    all_z_predict = (all_z_predict>0.5) + 0\n",
        "    all_z_predict = all_z_predict.reshape(xx1.shape)\n",
        "    ax.contourf(xx1, xx2, all_z_predict, cmap=colormap)\n",
        "    ax.scatter(x1[0:3], x2[0:3], c='blue')\n",
        "    ax.scatter(x1[3], x2[3], c='red')\n",
        "\n",
        "    # Se actualiza el título\n",
        "    titulo.set_text(f'step: {i}')\n",
        "\n",
        "    return 0\n",
        "\n",
        "# Se crea la animación con un refresco cada 200 ms\n",
        "interval = 200 # ms\n",
        "anim = FuncAnimation(fig, update, frames=np.arange(0, steps), interval=interval)\n",
        "\n",
        "# Se guarda en un GIF\n",
        "gif_name = \"GIFs/entrenamiento_AND.gif\"\n",
        "anim.save(gif_name, dpi=80, writer='imagemagick')\n",
        "plt.close()"
      ]
    },
    {
      "cell_type": "markdown",
      "metadata": {},
      "source": [
        "![gif_and](GIFs/entrenamiento_AND.gif)"
      ]
    },
    {
      "cell_type": "markdown",
      "metadata": {},
      "source": [
        "Como se puede ver ahora se asemeja mucho mejor a los puntos"
      ]
    }
  ],
  "metadata": {
    "interpreter": {
      "hash": "d1c24abb23a313e1f9ae042292cd8e6e3c60c5818227ced3d46e3df2c65171ef"
    },
    "kernelspec": {
      "display_name": "Python 3.8.5 64-bit ('base': conda)",
      "name": "python3"
    },
    "language_info": {
      "codemirror_mode": {
        "name": "ipython",
        "version": 3
      },
      "file_extension": ".py",
      "mimetype": "text/x-python",
      "name": "python",
      "nbconvert_exporter": "python",
      "pygments_lexer": "ipython3",
      "version": "3.7.6"
    }
  },
  "nbformat": 4,
  "nbformat_minor": 2
}
