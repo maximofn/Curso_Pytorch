{
  "cells": [
    {
      "cell_type": "code",
      "execution_count": 1,
      "metadata": {
        "collapsed": false
      },
      "outputs": [],
      "source": [
        "%matplotlib inline"
      ]
    },
    {
      "cell_type": "markdown",
      "metadata": {},
      "source": [
        "# Función de activación - puerta logica XNOR"
      ]
    },
    {
      "cell_type": "markdown",
      "metadata": {},
      "source": [
        "Intentemos replicar ahora el funcionamiento de una puerta lógica XNOR"
      ]
    },
    {
      "cell_type": "code",
      "execution_count": 53,
      "metadata": {},
      "outputs": [],
      "source": [
        "import numpy as np\n",
        "\n",
        "x1 = np.array([0.,  1.,  0.,  1.])\n",
        "x2 = np.array([0.,  0.,  1.,  1.])\n",
        "y = np.array([0.,  1.,  1.,  0.])"
      ]
    },
    {
      "cell_type": "code",
      "execution_count": 3,
      "metadata": {},
      "outputs": [
        {
          "data": {
            "image/png": "[encoded data removed]",
            "text/plain": [
              "<Figure size 432x288 with 1 Axes>"
            ]
          },
          "metadata": {
            "needs_background": "light"
          },
          "output_type": "display_data"
        }
      ],
      "source": [
        "import matplotlib.pyplot as plt\n",
        "\n",
        "plt.scatter(x1[0], x2[0], c='blue')\n",
        "plt.scatter(x1[3], x2[3], c='blue')\n",
        "plt.scatter(x1[1:3], x2[1:3], c='red')\n",
        "plt.xlabel('x1')\n",
        "plt.ylabel('x2  ', rotation=0)\n",
        "plt.show()"
      ]
    },
    {
      "cell_type": "markdown",
      "metadata": {},
      "source": [
        "Vamos a usar una neurona, igual que antes\n",
        "\n",
        "![neurona_AND](Imagenes/red_neuronal_AND.png)"
      ]
    },
    {
      "cell_type": "markdown",
      "metadata": {},
      "source": [
        "## Inicialización aleatoria de los parámetros"
      ]
    },
    {
      "cell_type": "markdown",
      "metadata": {},
      "source": [
        "Inicializamos aleatoriamente los parámetros $\\omega_0$, $\\omega_1$ y $\\omega_2$"
      ]
    },
    {
      "cell_type": "code",
      "execution_count": 4,
      "metadata": {},
      "outputs": [
        {
          "name": "stdout",
          "output_type": "stream",
          "text": [
            "Los parámetros inicializados aleatoriamente son w0 = 0.2719, w1 = 0.4880 y w2 = 0.0819\n"
          ]
        }
      ],
      "source": [
        "import random\n",
        "\n",
        "random.seed(45) # Esto es una semilla, cuando se generan números aleatorios, \n",
        "                # pero queremos que siempre se genere el mismo se suele fijar\n",
        "                # un número llamado semilla. Esto hace que siempre a sea el mismo\n",
        "\n",
        "w0 = random.random()\n",
        "w1 = random.random()\n",
        "w2 = random.random()\n",
        "\n",
        "print(f'Los parámetros inicializados aleatoriamente son w0 = {w0:.4f}, w1 = {w1:.4f} y w2 = {w2:.4f}')"
      ]
    },
    {
      "cell_type": "markdown",
      "metadata": {},
      "source": [
        "Vamos a ver saldría con estos parámetros"
      ]
    },
    {
      "cell_type": "code",
      "execution_count": 5,
      "metadata": {},
      "outputs": [
        {
          "name": "stdout",
          "output_type": "stream",
          "text": [
            "z: [0.27187541 0.75990362 0.35375476 0.84178296], z_bin: [0 1 0 1]\n",
            "y: [0. 1. 1. 0.]\n"
          ]
        }
      ],
      "source": [
        "z = w0 + w1*x1 + w2*x2\n",
        "\n",
        "# Si el valor predicho es mayor que 0.5 se considera la salida un 1, si no un 0\n",
        "z_bin = (z>0.5).astype(int)\n",
        "\n",
        "print(f\"z: {z}, z_bin: {z_bin}\")\n",
        "print(f\"y: {y}\")"
      ]
    },
    {
      "cell_type": "code",
      "execution_count": 6,
      "metadata": {},
      "outputs": [
        {
          "data": {
            "image/png": "[encoded data removed]",
            "text/plain": [
              "<Figure size 432x288 with 1 Axes>"
            ]
          },
          "metadata": {
            "needs_background": "light"
          },
          "output_type": "display_data"
        }
      ],
      "source": [
        "from matplotlib.colors import ListedColormap\n",
        "\n",
        "\n",
        "# Se crean dos vectores con todos los posibles valores de entrada\n",
        "max_axis = 1.1\n",
        "min_axis = -0.1\n",
        "axes = [min_axis, max_axis, min_axis, max_axis]\n",
        "xx1, xx2 = np.meshgrid(\n",
        "    np.linspace(axes[0], axes[1], 500).reshape(-1, 1),\n",
        "    np.linspace(axes[2], axes[3], 500).reshape(-1, 1),\n",
        ")\n",
        "\n",
        "# all_x1 y all_x2 son matrices de tamaño 500x500, se aplanan\n",
        "X1_new = np.c_[xx1.ravel()]\n",
        "X2_new = np.c_[xx2.ravel()]\n",
        "\n",
        "# Se calculan las posibles salidas\n",
        "all_z_predict = w0 + w1*X1_new + w2*X2_new\n",
        "\n",
        "# Si el valor predicho es mayor que 0.5 se considera la salida un 1, si no un 0\n",
        "all_z_predict = (all_z_predict>0.5).astype(int)\n",
        "\n",
        "# z_predict es un array de 250000x1, se redimensiona en forma de matriz de 500x500\n",
        "all_z_predict = all_z_predict.reshape(xx1.shape)\n",
        "\n",
        "# Se dibujan las salidas predichas por la red de todas las posibles entradas creadas\n",
        "colormap = ListedColormap(['#149691', '#e16fa2'])\n",
        "plt.contourf(xx1, xx2, all_z_predict, cmap=colormap)\n",
        "\n",
        "# Se representan los cuatro puntos de la salida de la puerta lógica\n",
        "plt.scatter(x1[0], x2[0], c='blue')\n",
        "plt.scatter(x1[3], x2[3], c='blue')\n",
        "plt.scatter(x1[1:3], x2[1:3], c='red')\n",
        "\n",
        "# Se termina de configurar la figura\n",
        "plt.xlabel('x1')\n",
        "plt.ylabel('x2  ', rotation=0)\n",
        "plt.axis(axes)\n",
        "plt.show()"
      ]
    },
    {
      "cell_type": "markdown",
      "metadata": {},
      "source": [
        "No se asemeja en nada la salida de nuestra neurona con los puntos"
      ]
    },
    {
      "cell_type": "markdown",
      "metadata": {},
      "source": [
        "## Cálculo del error o loss"
      ]
    },
    {
      "cell_type": "markdown",
      "metadata": {},
      "source": [
        "Necesitamos una manera de saber cómo de bien o mal se comporta nuestra neurona, para ello, al igual que antes calcularemos el error mediante el error cuadrático medio (ECM) o mean squared error (MSE)\n",
        "\n",
        "$$loss = \\frac{\\sum_{i=1}^{N} \\left(z-y\\right)^2}{N}$$"
      ]
    },
    {
      "cell_type": "code",
      "execution_count": 7,
      "metadata": {},
      "outputs": [],
      "source": [
        "def loss(y, z):\n",
        "    n = len(y)\n",
        "    loss = np.sum((z-y) ** 2) / n\n",
        "    return loss"
      ]
    },
    {
      "cell_type": "code",
      "execution_count": 8,
      "metadata": {},
      "outputs": [
        {
          "data": {
            "text/plain": [
              "0.31444849636999905"
            ]
          },
          "execution_count": 8,
          "metadata": {},
          "output_type": "execute_result"
        }
      ],
      "source": [
        "error = loss(y, z)\n",
        "error"
      ]
    },
    {
      "cell_type": "markdown",
      "metadata": {},
      "source": [
        "## Descenso del gradiente"
      ]
    },
    {
      "cell_type": "markdown",
      "metadata": {},
      "source": [
        "Al igual que antes buscamos el mínimo de la función de pérdida mediante el descenso del gradiente, pero en este caso, como tenémos tres parámetros, tendremos que hacer el descenso mediante el gradiente de la función de error con respecto a $\\omega_0$, $\\omega_1$ y $\\omega_2$\n",
        "\n",
        "Como la función de pérdida era\n",
        "\n",
        "$$loss = \\frac{\\sum_{i=1}^{N} \\left(z-y\\right)^2}{N}$$\n",
        "\n",
        "Los dos gradientes se calculan mediante\n",
        "\n",
        "$$\\frac{\\partial loss}{\\partial \\omega_0} = \n",
        "    \\frac{\\partial \\left(\\frac{\\sum_{i=1}^{N} \\left(z-y\\right)^2}{N}\\right)}{\\partial \\omega_0} = \n",
        "    \\frac{\\partial \\left(\\frac{\\sum_{i=1}^{N} \\left(\\left(\\omega_0+\\omega_1x_1+\\omega_2x_2\\right)-y\\right)^2}{N}\\right)}{\\partial \\omega_0} = \n",
        "    \\frac{2}{N}\\sum_{i=1}^{N} {\\left(\\left(\\omega_0+\\omega_1x_1+\\omega_2x_2\\right)-y\\right)} = \n",
        "    \\frac{2}{N}\\sum_{i=1}^{N} {\\left(z-y\\right)}$$\n",
        "\n",
        "$$\\frac{\\partial loss}{\\partial \\omega_1} = \n",
        "    \\frac{\\partial \\left(\\frac{\\sum_{i=1}^{N} \\left(z-y\\right)^2}{N}\\right)}{\\partial \\omega_1} = \n",
        "    \\frac{\\partial \\left(\\frac{\\sum_{i=1}^{N} \\left(\\left(\\omega_0+\\omega_1x_1+\\omega_2x_2\\right)-y\\right)^2}{N}\\right)}{\\partial \\omega_1} = \n",
        "    \\frac{2}{N}\\sum_{i=1}^{N} {\\left(\\left(\\omega_0+\\omega_1x_1+\\omega_2x_2\\right)-y\\right) x_1} = \n",
        "    \\frac{2}{N}\\sum_{i=1}^{N} {\\left(z-y\\right) x_1}$$\n",
        "\n",
        "$$\\frac{\\partial loss}{\\partial \\omega_2} = \n",
        "    \\frac{\\partial \\left(\\frac{\\sum_{i=1}^{N} \\left(z-y\\right)^2}{N}\\right)}{\\partial \\omega_2} = \n",
        "    \\frac{\\partial \\left(\\frac{\\sum_{i=1}^{N} \\left(\\left(\\omega_0+\\omega_1x_1+\\omega_2x_2\\right)-y\\right)^2}{N}\\right)}{\\partial \\omega_2} = \n",
        "    \\frac{2}{N}\\sum_{i=1}^{N} {\\left(\\left(\\omega_0+\\omega_1x_1+\\omega_2x_2\\right)-y\\right) x_2} = \n",
        "    \\frac{2}{N}\\sum_{i=1}^{N} {\\left(z-y\\right) x_2}$$"
      ]
    },
    {
      "cell_type": "code",
      "execution_count": 9,
      "metadata": {},
      "outputs": [],
      "source": [
        "def gradiente_w0 (z, y):\n",
        "    # Función que calcula el valor del gradiente de la función de pérdida con respecto w0 en un punto\n",
        "    n = len(y)\n",
        "    return 2*np.sum((z - y))/n\n",
        "\n",
        "def gradiente_w1 (z, x1, y):\n",
        "    # Función que calcula el valor del gradiente de la función de pérdida con respecto w1 en un punto\n",
        "    n = len(y)\n",
        "    return 2*np.sum((z - y)*x1)/n\n",
        "    \n",
        "\n",
        "def gradiente_w2 (z, x2, y):\n",
        "    # Función que calcula el valor del gradiente de la función de pérdida con respecto w2 en un punto\n",
        "    n = len(y)\n",
        "    return 2*np.sum((z - y)*x2)/n"
      ]
    },
    {
      "cell_type": "markdown",
      "metadata": {},
      "source": [
        "## Bucle de entrenamiento"
      ]
    },
    {
      "cell_type": "markdown",
      "metadata": {},
      "source": [
        "Una vez que sabemos calcular los gradientes actualizamos los parámetros $\\omega_0$, $\\omega_1$ y $\\omega_2$ mediante las siguientes fórmulas\n",
        "\n",
        "$$\\omega_0' = \\omega_0 - \\alpha\\frac{\\partial loss}{\\partial \\omega_0}$$\n",
        "\n",
        "$$\\omega_1' = \\omega_1 - \\alpha\\frac{\\partial loss}{\\partial \\omega_1}$$\n",
        "\n",
        "$$\\omega_2' = \\omega_2 - \\alpha\\frac{\\partial loss}{\\partial \\omega_2}$$\n",
        "\n",
        "Recordemos que $\\alpha$ es la tasa de aprendizaje o learning rate, que determina la velocidad a la que va a aprender la red"
      ]
    },
    {
      "cell_type": "code",
      "execution_count": 10,
      "metadata": {},
      "outputs": [
        {
          "name": "stdout",
          "output_type": "stream",
          "text": [
            "i=10: error=0.275, gradiente_w0=-0.062, gradiente_w1=0.126, gradiente_w2=-0.002, w0=0.289, w1=0.302, w2=0.059\n",
            "i=20: error=0.262, gradiente_w0=-0.050, gradiente_w1=0.081, gradiente_w2=0.004, w0=0.345, w1=0.203, w2=0.058\n",
            "i=30: error=0.256, gradiente_w0=-0.036, gradiente_w1=0.054, gradiente_w2=0.008, w0=0.388, w1=0.138, w2=0.051\n",
            "i=40: error=0.253, gradiente_w0=-0.026, gradiente_w1=0.036, gradiente_w2=0.009, w0=0.418, w1=0.095, w2=0.043\n",
            "i=50: error=0.251, gradiente_w0=-0.019, gradiente_w1=0.024, gradiente_w2=0.008, w0=0.441, w1=0.066, w2=0.034\n",
            "i=60: error=0.251, gradiente_w0=-0.014, gradiente_w1=0.017, gradiente_w2=0.007, w0=0.457, w1=0.046, w2=0.027\n",
            "i=70: error=0.250, gradiente_w0=-0.010, gradiente_w1=0.012, gradiente_w2=0.006, w0=0.469, w1=0.032, w2=0.021\n",
            "i=80: error=0.250, gradiente_w0=-0.007, gradiente_w1=0.008, gradiente_w2=0.004, w0=0.477, w1=0.023, w2=0.016\n",
            "i=90: error=0.250, gradiente_w0=-0.005, gradiente_w1=0.006, gradiente_w2=0.003, w0=0.483, w1=0.016, w2=0.012\n"
          ]
        }
      ],
      "source": [
        "lr = 10**-1 # Tasa de aprendizaje o learning rate\n",
        "steps = 90  # Numero de veces que se realiza el bucle de enrtenamiento\n",
        "\n",
        "# Calculamos los valores que obtiene la red neuronal\n",
        "z = w0 + w1*x1 + w2*x2\n",
        "\n",
        "# Matrices donde se guardarán los pesos\n",
        "Ws0 = np.empty(steps)\n",
        "Ws1 = np.empty(steps)\n",
        "Ws2 = np.empty(steps)\n",
        "\n",
        "for i in range(steps):\n",
        "    # Calculamos los gradientes\n",
        "    dl_w0 = gradiente_w0(z, y)\n",
        "    dl_w1 = gradiente_w1(z, x1, y)\n",
        "    dl_w2 = gradiente_w2(z, x2, y)\n",
        "\n",
        "    # Corregimos el valor de a y b\n",
        "    w0 = w0 - lr*dl_w0\n",
        "    w1 = w1 - lr*dl_w1\n",
        "    w2 = w2 - lr*dl_w2\n",
        "\n",
        "    # Calculamos los nuevos valores que obtiene la red neuronal\n",
        "    z = w0 + w1*x1 + w2*x2\n",
        "\n",
        "    # Obtenemos el error\n",
        "    error = loss(y, z)\n",
        "\n",
        "    # Guardamos los valores para luego ver la evolución del entrenamiento en una gráfica\n",
        "    Ws0[i] = w0\n",
        "    Ws1[i] = w1\n",
        "    Ws2[i] = w2\n",
        "\n",
        "    # Imprimimos la evolución del entrenamiento\n",
        "    if (i+1)%10 == 0:\n",
        "        print(f\"i={i+1}: error={error:0.3f}, gradiente_w0={dl_w0:0.3f}, gradiente_w1={dl_w1:0.3f}, gradiente_w2={dl_w2:0.3f}, w0={w0:0.3f}, w1={w1:0.3f}, w2={w2:0.3f}\")"
      ]
    },
    {
      "cell_type": "markdown",
      "metadata": {},
      "source": [
        "Vamos a ver cómo es la salida de nuestra neurona una vez la hemos entrenado"
      ]
    },
    {
      "cell_type": "code",
      "execution_count": 11,
      "metadata": {},
      "outputs": [
        {
          "name": "stdout",
          "output_type": "stream",
          "text": [
            "z: [0.4834088  0.49940442 0.49538827 0.5113839 ], z_bin: [0 0 0 1]\n",
            "y: [0. 1. 1. 0.]\n"
          ]
        }
      ],
      "source": [
        "z = w0 + w1*x1 + w2*x2 \n",
        "z_bin = (z>0.5).astype(int)\n",
        "\n",
        "print(f\"z: {z}, z_bin: {z_bin}\")\n",
        "print(f\"y: {y}\")"
      ]
    },
    {
      "cell_type": "code",
      "execution_count": 132,
      "metadata": {},
      "outputs": [
        {
          "name": "stderr",
          "output_type": "stream",
          "text": [
            "MovieWriter imagemagick unavailable; using Pillow instead.\n"
          ]
        }
      ],
      "source": [
        "from matplotlib.animation import FuncAnimation\n",
        "\n",
        "# Creamos la gráfica inicial\n",
        "fig, ax = plt.subplots(1,1)\n",
        "fig.set_tight_layout(True)\n",
        "ax.set_xlabel('x1')\n",
        "ax.set_ylabel('x2  ', rotation=0)\n",
        "\n",
        "# Se dibujan los datos que persistiran en toda la evolución de la gráfica\n",
        "ax.scatter(x1[0], x2[0], c='blue')\n",
        "ax.scatter(x1[3], x2[3], c='blue')\n",
        "ax.scatter(x1[1:3], x2[1:3], c='red')\n",
        "\n",
        "# Se dibuja el el fondo que irán cambiando durante el entrenamiento\n",
        "max_axis = 1.1\n",
        "min_axis = -0.1\n",
        "axes = [min_axis, max_axis, min_axis, max_axis]\n",
        "xx1, xx2 = np.meshgrid(\n",
        "    np.linspace(axes[0], axes[1], 500).reshape(-1, 1),\n",
        "    np.linspace(axes[2], axes[3], 500).reshape(-1, 1),\n",
        ")\n",
        "X1_new = np.c_[xx1.ravel()]\n",
        "X2_new = np.c_[xx2.ravel()]\n",
        "all_z_predict = w0 + w1*X1_new + w2*X2_new\n",
        "all_z_predict = (all_z_predict>0.5).astype(int)\n",
        "all_z_predict = all_z_predict.reshape(xx1.shape)\n",
        "colormap = ListedColormap(['#149691', '#e16fa2'])\n",
        "fondo = ax.contourf(xx1, xx2, all_z_predict, cmap=colormap)\n",
        "\n",
        "# Se dibuja un título\n",
        "fontsize = 12\n",
        "titulo = fig.suptitle(f'step: {0}', fontsize=fontsize)\n",
        "\n",
        "# Se define la función que va a modificar la gráfica con la evolución del entrenamiento\n",
        "def update(i):\n",
        "    # Se actualiza el fondo\n",
        "    all_z_predict = Ws0[i] + Ws1[i]*X1_new + Ws2[i]*X2_new\n",
        "    all_z_predict = (all_z_predict>0.5).astype(int)\n",
        "    all_z_predict = all_z_predict.reshape(xx1.shape)\n",
        "    ax.contourf(xx1, xx2, all_z_predict, cmap=colormap)\n",
        "    ax.scatter(x1[0], x2[0], c='blue')\n",
        "    ax.scatter(x1[3], x2[3], c='blue')\n",
        "    ax.scatter(x1[1:3], x2[1:3], c='red')\n",
        "\n",
        "    # Se actualiza el título\n",
        "    titulo.set_text(f'step: {i}')\n",
        "\n",
        "    return 0\n",
        "\n",
        "# Se crea la animación con un refresco cada 200 ms\n",
        "interval = 200 # ms\n",
        "anim = FuncAnimation(fig, update, frames=np.arange(0, steps), interval=interval)\n",
        "\n",
        "# Se guarda en un GIF\n",
        "gif_name = \"GIFs/entrenamiento__XNOR.gif\"\n",
        "anim.save(gif_name, dpi=80, writer='imagemagick')\n",
        "plt.close()"
      ]
    },
    {
      "cell_type": "markdown",
      "metadata": {},
      "source": [
        "![gif_xnor](GIFs\\entrenamiento__XNOR.gif)"
      ]
    },
    {
      "cell_type": "markdown",
      "metadata": {},
      "source": [
        "Como se puede no hay manera de resolver esto con una sola neurona"
      ]
    },
    {
      "cell_type": "markdown",
      "metadata": {},
      "source": [
        "# Red neuronal"
      ]
    },
    {
      "cell_type": "markdown",
      "metadata": {},
      "source": [
        "Podemos estar tentados a resolver esto con tres neuronas, dos de entrada y una de salida. Ya que si una neurona establece una linea de división, con dos neuronas podemos establecer dos líneas de división. Y la tercera neurona a la salida, que determine si la salida tiene que ser 0 o 1"
      ]
    },
    {
      "cell_type": "markdown",
      "metadata": {},
      "source": [
        "![red_neuronal_XNOR](Imagenes/red_neuronal_XNOR.png)"
      ]
    },
    {
      "cell_type": "code",
      "execution_count": 12,
      "metadata": {},
      "outputs": [
        {
          "data": {
            "image/png": "[encoded data removed]",
            "text/plain": [
              "<Figure size 432x288 with 1 Axes>"
            ]
          },
          "metadata": {
            "needs_background": "light"
          },
          "output_type": "display_data"
        }
      ],
      "source": [
        "x = np.array([0, 1])\n",
        "linea1 = 1.3 - 1*x\n",
        "linea2 = 0.7 - 1*x\n",
        "\n",
        "plt.scatter(x1[0], x2[0], c='blue')\n",
        "plt.scatter(x1[3], x2[3], c='blue')\n",
        "plt.scatter(x1[1:3], x2[1:3], c='red')\n",
        "plt.plot(x, linea1, 'b')\n",
        "plt.plot(x, linea2, 'b')\n",
        "plt.xlabel('x1')\n",
        "plt.ylabel('x2  ', rotation=0)\n",
        "plt.show()"
      ]
    },
    {
      "cell_type": "markdown",
      "metadata": {},
      "source": [
        "Vamos a implementar dicha red. Primero inicializamos aleatoriamente los pesos"
      ]
    },
    {
      "cell_type": "code",
      "execution_count": 13,
      "metadata": {},
      "outputs": [],
      "source": [
        "import random\n",
        "\n",
        "random.seed(45) # Esto es una semilla, cuando se generan números aleatorios, \n",
        "                # pero queremos que siempre se genere el mismo se suele fijar\n",
        "                # un número llamado semilla. Esto hace que siempre a sea el mismo\n",
        "\n",
        "w10 = random.random()\n",
        "w11 = random.random()\n",
        "w12 = random.random()\n",
        "\n",
        "w20 = random.random()\n",
        "w21 = random.random()\n",
        "w22 = random.random()\n",
        "\n",
        "w30 = random.random()\n",
        "w31 = random.random()\n",
        "w32 = random.random()"
      ]
    },
    {
      "cell_type": "markdown",
      "metadata": {},
      "source": [
        "Vamos a ver qué saldría con estos parámetros"
      ]
    },
    {
      "cell_type": "code",
      "execution_count": 14,
      "metadata": {},
      "outputs": [
        {
          "name": "stdout",
          "output_type": "stream",
          "text": [
            "z: [0.42121083 0.50115337 0.43428128 0.51422382], z_bin: [0 1 0 1]\n",
            "y: [0. 1. 1. 0.]\n"
          ]
        }
      ],
      "source": [
        "z1 = w10 + w11*x1 + w12*x2\n",
        "z2 = w20 + w21*x1 + w22*x2\n",
        "z = w30 + w31*z1 + w32*z2\n",
        "\n",
        "# Si el valor predicho es mayor que 0.5 se considera la salida un 1, si no un 0\n",
        "z_bin = (z>0.5).astype(int)\n",
        "\n",
        "print(f\"z: {z}, z_bin: {z_bin}\")\n",
        "print(f\"y: {y}\")"
      ]
    },
    {
      "cell_type": "code",
      "execution_count": 15,
      "metadata": {},
      "outputs": [
        {
          "data": {
            "text/plain": [
              "Text(0.5, 1.0, 'z3')"
            ]
          },
          "execution_count": 15,
          "metadata": {},
          "output_type": "execute_result"
        },
        {
          "data": {
            "image/png": "[encoded data removed]",
            "text/plain": [
              "<Figure size 1440x360 with 3 Axes>"
            ]
          },
          "metadata": {
            "needs_background": "light"
          },
          "output_type": "display_data"
        }
      ],
      "source": [
        "fig, (ax1, ax2, ax3) = plt.subplots(1,3, figsize=(20,5))\n",
        "\n",
        "# Se crean dos vectores con todos los posibles valores de entrada\n",
        "max_axis = 1.1\n",
        "min_axis = -0.1\n",
        "axes = [min_axis, max_axis, min_axis, max_axis]\n",
        "xx1, xx2 = np.meshgrid(\n",
        "    np.linspace(axes[0], axes[1], 500).reshape(-1, 1),\n",
        "    np.linspace(axes[2], axes[3], 500).reshape(-1, 1),\n",
        ")\n",
        "\n",
        "# all_x1 y all_x2 son matrices de tamaño 500x500, se aplanan\n",
        "X1_new = np.c_[xx1.ravel()]\n",
        "X2_new = np.c_[xx2.ravel()]\n",
        "\n",
        "# Se calculan las posibles salidas\n",
        "z1 = w10 + w11*X1_new + w12*X2_new\n",
        "z2 = w20 + w21*X1_new + w22*X2_new\n",
        "all_z_predict = w30 + w31*z1 + w32*z2\n",
        "\n",
        "# Si el valor predicho es mayor que 0.5 se considera la salida un 1, si no un 0\n",
        "all_z_predict = (all_z_predict>0.5).astype(int)\n",
        "z1 = (z1>0.5).astype(int)\n",
        "z2 = (z2>0.5).astype(int)\n",
        "\n",
        "# z_predict es un array de 250000x1, se redimensiona en forma de matriz de 500x500\n",
        "all_z_predict = all_z_predict.reshape(xx1.shape)\n",
        "z1 = z1.reshape(xx1.shape)\n",
        "z2 = z2.reshape(xx1.shape)\n",
        "\n",
        "# Se dibujan las salidas predichas por la red de todas las posibles entradas creadas\n",
        "colormap1 = ListedColormap(['#23F99B', '#F92377'])\n",
        "colormap2 = ListedColormap(['#149691', '#e16fa2'])\n",
        "ax1.contourf(xx1, xx2, z1, cmap=colormap1)\n",
        "ax2.contourf(xx1, xx2, z2, cmap=colormap1)\n",
        "ax3.contourf(xx1, xx2, all_z_predict, cmap=colormap2)\n",
        "\n",
        "# Se representan los cuatro puntos de la salida de la puerta lógica\n",
        "ax1.scatter(x1[0], x2[0], c='blue')\n",
        "ax1.scatter(x1[3], x2[3], c='blue')\n",
        "ax1.scatter(x1[1:3], x2[1:3], c='red')\n",
        "ax2.scatter(x1[0], x2[0], c='blue')\n",
        "ax2.scatter(x1[3], x2[3], c='blue')\n",
        "ax2.scatter(x1[1:3], x2[1:3], c='red')\n",
        "ax3.scatter(x1[0], x2[0], c='blue')\n",
        "ax3.scatter(x1[3], x2[3], c='blue')\n",
        "ax3.scatter(x1[1:3], x2[1:3], c='red')\n",
        "\n",
        "# Se termina de configurar la figura\n",
        "ax1.set_xlabel('x1')\n",
        "ax1.set_ylabel('x2  ', rotation=0)\n",
        "ax1.set_title('z1')\n",
        "ax2.set_xlabel('x1')\n",
        "ax2.set_ylabel('x2  ', rotation=0)\n",
        "ax2.set_title('z2')\n",
        "ax3.set_xlabel('x1')\n",
        "ax3.set_ylabel('x2  ', rotation=0)\n",
        "ax3.set_title('z3')"
      ]
    },
    {
      "cell_type": "markdown",
      "metadata": {},
      "source": [
        "No se asemeja en nada la salida de nuestra neurona con los puntos"
      ]
    },
    {
      "cell_type": "markdown",
      "metadata": {},
      "source": [
        "## Cálculo del error o loss"
      ]
    },
    {
      "cell_type": "markdown",
      "metadata": {},
      "source": [
        "Necesitamos una manera de saber cómo de bien o mal se comporta nuestra neurona, para ello, al igual que antes calcularemos el error mediante el error cuadrático medio (ECM) o mean squared error (MSE)\n",
        "\n",
        "$$loss = \\frac{\\sum_{i=1}^{N} \\left(z-y\\right)^2}{N}$$"
      ]
    },
    {
      "cell_type": "code",
      "execution_count": 16,
      "metadata": {},
      "outputs": [],
      "source": [
        "def loss(y, z):\n",
        "    n = len(y)\n",
        "    loss = np.sum((z-y) ** 2) / n\n",
        "    return loss"
      ]
    },
    {
      "cell_type": "code",
      "execution_count": 17,
      "metadata": {},
      "outputs": [
        {
          "data": {
            "text/plain": [
              "0.2526825829808881"
            ]
          },
          "execution_count": 17,
          "metadata": {},
          "output_type": "execute_result"
        }
      ],
      "source": [
        "error = loss(y, z)\n",
        "error"
      ]
    },
    {
      "cell_type": "markdown",
      "metadata": {},
      "source": [
        "## Descenso del gradiente"
      ]
    },
    {
      "cell_type": "markdown",
      "metadata": {},
      "source": [
        "Al igual que antes buscamos el mínimo de la función de pérdida mediante el descenso del gradiente, pero en este caso, como tenémos tres parámetros, tendremos que hacer el descenso mediante el gradiente de la función de error con respecto a $\\omega_0$, $\\omega_1$ y $\\omega_2$\n",
        "\n",
        "Como la función de pérdida era\n",
        "\n",
        "$$loss = \\frac{\\sum_{i=1}^{N} \\left(z-y\\right)^2}{N}$$\n",
        "\n",
        "Los dos gradientes se calculan mediante\n",
        "\n",
        "**Calculo de las derivadas con respecto $\\omega_{1x}$**\n",
        "\n",
        "$$\\frac{\\partial loss}{\\partial \\omega_{10}} = \n",
        "    \\frac{\\partial \\left(\\frac{\\sum_{i=1}^{N} \\left(z-y\\right)^2}{N}\\right)}{\\partial \\omega_{10}} = \n",
        "    2\\frac{\\sum_{i=1}^{N} \\left(z-y\\right)}{N}\\frac{\\partial \\left(z-y\\right)}{\\partial \\omega_{10}} = \n",
        "    2\\frac{\\sum_{i=1}^{N} \\left(z-y\\right)}{N}\\frac{\\partial z}{\\partial \\omega_{10}} = $$\n",
        "$$= 2\\frac{\\sum_{i=1}^{N} \\left(z-y\\right)}{N}\\frac{\\partial \\left(\\omega_{30}+\\omega_{31}z_1+\\omega_{32}z_2\\right)}{\\partial \\omega_{10}} = $$\n",
        "$$= 2\\frac{\\sum_{i=1}^{N} \\left(z-y\\right)}{N}\\omega_{31}\\frac{\\partial z_1}{\\partial \\omega_{10}} = \n",
        "    2\\omega_{31}\\frac{\\sum_{i=1}^{N} \\left(z-y\\right)}{N}\\frac{\\partial \\left(\\omega_{10}+\\omega_{11}x_1+\\omega_{12}x_2\\right)}{\\partial \\omega_{10}} = $$\n",
        "$$= 2\\omega_{31}\\frac{\\sum_{i=1}^{N} \\left(z-y\\right)}{N}\\frac{\\partial \\omega_{10}}{\\partial \\omega_{10}} = \n",
        "    2\\omega_{31}\\frac{\\sum_{i=1}^{N} \\left(z-y\\right)}{N}$$\n",
        "\n",
        "$$\\frac{\\partial loss}{\\partial \\omega_{11}} = \n",
        "    \\frac{\\partial \\left(\\frac{\\sum_{i=1}^{N} \\left(z-y\\right)^2}{N}\\right)}{\\partial \\omega_{11}} = \n",
        "    2\\frac{\\sum_{i=1}^{N} \\left(z-y\\right)}{N}\\frac{\\partial \\left(z-y\\right)}{\\partial \\omega_{11}} = \n",
        "    2\\frac{\\sum_{i=1}^{N} \\left(z-y\\right)}{N}\\frac{\\partial z}{\\partial \\omega_{11}} = $$\n",
        "$$= 2\\frac{\\sum_{i=1}^{N} \\left(z-y\\right)}{N}\\frac{\\partial \\left(\\omega_{30}+\\omega_{31}z_1+\\omega_{32}z_2\\right)}{\\partial \\omega_{11}} = $$\n",
        "$$= 2\\frac{\\sum_{i=1}^{N} \\left(z-y\\right)}{N}\\omega_{31}\\frac{\\partial z_1}{\\partial \\omega_{11}} = \n",
        "    2\\omega_{31}\\frac{\\sum_{i=1}^{N} \\left(z-y\\right)}{N}\\frac{\\partial \\left(\\omega_{10}+\\omega_{11}x_1+\\omega_{12}x_2\\right)}{\\partial \\omega_{11}} = $$\n",
        "$$= 2\\omega_{31}\\frac{\\sum_{i=1}^{N} \\left(z-y\\right)}{N}\\frac{\\partial \\left(\\omega_{11}x_1\\right)}{\\partial \\omega_{11}} = \n",
        "    2\\omega_{31}\\frac{\\sum_{i=1}^{N} \\left(z-y\\right)}{N}x_1$$\n",
        "\n",
        "$$\\frac{\\partial loss}{\\partial \\omega_{12}} = \n",
        "    \\frac{\\partial \\left(\\frac{\\sum_{i=1}^{N} \\left(z-y\\right)^2}{N}\\right)}{\\partial \\omega_{12}} = \n",
        "    2\\frac{\\sum_{i=1}^{N} \\left(z-y\\right)}{N}\\frac{\\partial \\left(z-y\\right)}{\\partial \\omega_{12}} = \n",
        "    2\\frac{\\sum_{i=1}^{N} \\left(z-y\\right)}{N}\\frac{\\partial z}{\\partial \\omega_{12}} = $$\n",
        "$$= 2\\frac{\\sum_{i=1}^{N} \\left(z-y\\right)}{N}\\frac{\\partial \\left(\\omega_{30}+\\omega_{31}z_1+\\omega_{32}z_2\\right)}{\\partial \\omega_{12}} = $$\n",
        "$$= 2\\frac{\\sum_{i=1}^{N} \\left(z-y\\right)}{N}\\omega_{31}\\frac{\\partial z_1}{\\partial \\omega_{12}} = \n",
        "    2\\omega_{31}\\frac{\\sum_{i=1}^{N} \\left(z-y\\right)}{N}\\frac{\\partial \\left(\\omega_{10}+\\omega_{11}x_1+\\omega_{12}x_2\\right)}{\\partial \\omega_{12}} = $$\n",
        "$$= 2\\omega_{31}\\frac{\\sum_{i=1}^{N} \\left(z-y\\right)}{N}\\frac{\\partial \\left(\\omega_{12}x_2\\right)}{\\partial \\omega_{12}} = \n",
        "    2\\omega_{31}\\frac{\\sum_{i=1}^{N} \\left(z-y\\right)}{N}x_2$$\n",
        "\n",
        "\n",
        "\n",
        "\n",
        "**Calculo de las derivadas con respecto $\\omega_{2x}$**\n",
        "\n",
        "$$\\frac{\\partial loss}{\\partial \\omega_{20}} = \n",
        "    \\frac{\\partial \\left(\\frac{\\sum_{i=1}^{N} \\left(z-y\\right)^2}{N}\\right)}{\\partial \\omega_{20}} = \n",
        "    2\\frac{\\sum_{i=1}^{N} \\left(z-y\\right)}{N}\\frac{\\partial \\left(z-y\\right)}{\\partial \\omega_{20}} = \n",
        "    2\\frac{\\sum_{i=1}^{N} \\left(z-y\\right)}{N}\\frac{\\partial z}{\\partial \\omega_{20}} = $$\n",
        "$$= 2\\frac{\\sum_{i=1}^{N} \\left(z-y\\right)}{N}\\frac{\\partial \\left(\\omega_{30}+\\omega_{31}z_1+\\omega_{32}z_2\\right)}{\\partial \\omega_{20}} = $$\n",
        "$$= 2\\frac{\\sum_{i=1}^{N} \\left(z-y\\right)}{N}\\omega_{32}\\frac{\\partial z_2}{\\partial \\omega_{20}} = \n",
        "    2\\omega_{32}\\frac{\\sum_{i=1}^{N} \\left(z-y\\right)}{N}\\frac{\\partial \\left(\\omega_{20}+\\omega_{21}x_1+\\omega_{22}x_2\\right)}{\\partial \\omega_{20}} = $$\n",
        "$$= 2\\omega_{32}\\frac{\\sum_{i=1}^{N} \\left(z-y\\right)}{N}\\frac{\\partial \\omega_{20}}{\\partial \\omega_{20}} = \n",
        "    2\\omega_{32}\\frac{\\sum_{i=1}^{N} \\left(z-y\\right)}{N}$$\n",
        "\n",
        "$$\\frac{\\partial loss}{\\partial \\omega_{21}} = \n",
        "    \\frac{\\partial \\left(\\frac{\\sum_{i=1}^{N} \\left(z-y\\right)^2}{N}\\right)}{\\partial \\omega_{21}} = \n",
        "    2\\frac{\\sum_{i=1}^{N} \\left(z-y\\right)}{N}\\frac{\\partial \\left(z-y\\right)}{\\partial \\omega_{21}} = \n",
        "    2\\frac{\\sum_{i=1}^{N} \\left(z-y\\right)}{N}\\frac{\\partial z}{\\partial \\omega_{21}} = $$\n",
        "$$= 2\\frac{\\sum_{i=1}^{N} \\left(z-y\\right)}{N}\\frac{\\partial \\left(\\omega_{30}+\\omega_{31}z_1+\\omega_{32}z_2\\right)}{\\partial \\omega_{21}} = $$\n",
        "$$= 2\\frac{\\sum_{i=1}^{N} \\left(z-y\\right)}{N}\\omega_{32}\\frac{\\partial z_2}{\\partial \\omega_{21}} = \n",
        "    2\\omega_{32}\\frac{\\sum_{i=1}^{N} \\left(z-y\\right)}{N}\\frac{\\partial \\left(\\omega_{20}+\\omega_{21}x_1+\\omega_{22}x_2\\right)}{\\partial \\omega_{21}} = $$\n",
        "$$= 2\\omega_{32}\\frac{\\sum_{i=1}^{N} \\left(z-y\\right)}{N}\\frac{\\partial \\left(\\omega_{21}x_1\\right)}{\\partial \\omega_{21}} = \n",
        "    2\\omega_{32}\\frac{\\sum_{i=1}^{N} \\left(z-y\\right)}{N}x_1$$\n",
        "\n",
        "$$\\frac{\\partial loss}{\\partial \\omega_{22}} = \n",
        "    \\frac{\\partial \\left(\\frac{\\sum_{i=1}^{N} \\left(z-y\\right)^2}{N}\\right)}{\\partial \\omega_{22}} = \n",
        "    2\\frac{\\sum_{i=1}^{N} \\left(z-y\\right)}{N}\\frac{\\partial \\left(z-y\\right)}{\\partial \\omega_{22}} = \n",
        "    2\\frac{\\sum_{i=1}^{N} \\left(z-y\\right)}{N}\\frac{\\partial z}{\\partial \\omega_{22}} = $$\n",
        "$$= 2\\frac{\\sum_{i=1}^{N} \\left(z-y\\right)}{N}\\frac{\\partial \\left(\\omega_{30}+\\omega_{31}z_1+\\omega_{32}z_2\\right)}{\\partial \\omega_{22}} = $$\n",
        "$$= 2\\frac{\\sum_{i=1}^{N} \\left(z-y\\right)}{N}\\omega_{32}\\frac{\\partial z_2}{\\partial \\omega_{22}} = \n",
        "    2\\omega_{32}\\frac{\\sum_{i=1}^{N} \\left(z-y\\right)}{N}\\frac{\\partial \\left(\\omega_{20}+\\omega_{21}x_1+\\omega_{22}x_2\\right)}{\\partial \\omega_{22}} = $$\n",
        "$$= 2\\omega_{32}\\frac{\\sum_{i=1}^{N} \\left(z-y\\right)}{N}\\frac{\\partial \\left(\\omega_{22}x_2\\right)}{\\partial \\omega_{22}} = \n",
        "    2\\omega_{32}\\frac{\\sum_{i=1}^{N} \\left(z-y\\right)}{N}x_2$$\n",
        "\n",
        "\n",
        "\n",
        "\n",
        "**Calculo de las derivadas con respecto $\\omega_{3x}$**\n",
        "\n",
        "$$\\frac{\\partial loss}{\\partial \\omega_{30}} = \n",
        "    \\frac{\\partial \\left(\\frac{\\sum_{i=1}^{N} \\left(z-y\\right)^2}{N}\\right)}{\\partial \\omega_{30}} = \n",
        "    2\\frac{\\sum_{i=1}^{N} \\left(z-y\\right)}{N}\\frac{\\partial \\left(z-y\\right)}{\\partial \\omega_{30}} = \n",
        "    2\\frac{\\sum_{i=1}^{N} \\left(z-y\\right)}{N}\\frac{\\partial z}{\\partial \\omega_{30}} = $$\n",
        "$$= 2\\frac{\\sum_{i=1}^{N} \\left(z-y\\right)}{N}\\frac{\\partial \\left(\\omega_{30}+\\omega_{31}z_1+\\omega_{32}z_2\\right)}{\\partial \\omega_{20}} = $$\n",
        "$$= 2\\frac{\\sum_{i=1}^{N} \\left(z-y\\right)}{N}\\frac{\\partial \\omega_{30}}{\\partial \\omega_{30}} = \n",
        "    2\\frac{\\sum_{i=1}^{N} \\left(z-y\\right)}{N}$$\n",
        "\n",
        "$$\\frac{\\partial loss}{\\partial \\omega_{31}} = \n",
        "    \\frac{\\partial \\left(\\frac{\\sum_{i=1}^{N} \\left(z-y\\right)^2}{N}\\right)}{\\partial \\omega_{31}} = \n",
        "    2\\frac{\\sum_{i=1}^{N} \\left(z-y\\right)}{N}\\frac{\\partial \\left(z-y\\right)}{\\partial \\omega_{31}} = \n",
        "    2\\frac{\\sum_{i=1}^{N} \\left(z-y\\right)}{N}\\frac{\\partial z}{\\partial \\omega_{31}} = $$\n",
        "$$= 2\\frac{\\sum_{i=1}^{N} \\left(z-y\\right)}{N}\\frac{\\partial \\left(\\omega_{30}+\\omega_{31}z_1+\\omega_{32}z_2\\right)}{\\partial \\omega_{31}} = $$\n",
        "$$= 2\\frac{\\sum_{i=1}^{N} \\left(z-y\\right)}{N}\\frac{\\partial \\left(\\omega_{31}z_1\\right)}{\\partial \\omega_{31}} = \n",
        "    2\\frac{\\sum_{i=1}^{N} \\left(z-y\\right)}{N}z_1 = \n",
        "    2\\frac{\\sum_{i=1}^{N} \\left(z-y\\right)}{N}\\left(\\omega_{10}+\\omega_{11}x_1+\\omega_{12}x_2\\right)$$\n",
        "\n",
        "$$\\frac{\\partial loss}{\\partial \\omega_{32}} = \n",
        "    \\frac{\\partial \\left(\\frac{\\sum_{i=1}^{N} \\left(z-y\\right)^2}{N}\\right)}{\\partial \\omega_{32}} = \n",
        "    2\\frac{\\sum_{i=1}^{N} \\left(z-y\\right)}{N}\\frac{\\partial \\left(z-y\\right)}{\\partial \\omega_{32}} = \n",
        "    2\\frac{\\sum_{i=1}^{N} \\left(z-y\\right)}{N}\\frac{\\partial z}{\\partial \\omega_{32}} = $$\n",
        "$$= 2\\frac{\\sum_{i=1}^{N} \\left(z-y\\right)}{N}\\frac{\\partial \\left(\\omega_{30}+\\omega_{31}z_1+\\omega_{32}z_2\\right)}{\\partial \\omega_{32}} = $$\n",
        "$$= 2\\frac{\\sum_{i=1}^{N} \\left(z-y\\right)}{N}\\frac{\\partial \\left(\\omega_{32}z_2\\right)}{\\partial \\omega_{32}} = \n",
        "    2\\frac{\\sum_{i=1}^{N} \\left(z-y\\right)}{N}z_2 = \n",
        "    2\\frac{\\sum_{i=1}^{N} \\left(z-y\\right)}{N}\\left(\\omega_{20}+\\omega_{21}x_1+\\omega_{22}x_2\\right)$$"
      ]
    },
    {
      "cell_type": "code",
      "execution_count": 18,
      "metadata": {},
      "outputs": [],
      "source": [
        "def gradiente_w10 (z, y, w31):\n",
        "    # Función que calcula el valor del gradiente de la función de pérdida con respecto w10 en un punto\n",
        "    n = len(y)\n",
        "    return 2*w31*np.sum((z - y))/n\n",
        "\n",
        "def gradiente_w11 (z, y, w31, x1):\n",
        "    # Función que calcula el valor del gradiente de la función de pérdida con respecto w11 en un punto\n",
        "    n = len(y)\n",
        "    return 2*w31*np.sum((z - y)*x1)/n\n",
        "    \n",
        "\n",
        "def gradiente_w12 (z, y, w31, x2):\n",
        "    # Función que calcula el valor del gradiente de la función de pérdida con respecto w12 en un punto\n",
        "    n = len(y)\n",
        "    return 2*w31*np.sum((z - y)*x2)/n\n",
        "\n",
        "\n",
        "\n",
        "def gradiente_w20 (z, y, w32):\n",
        "    # Función que calcula el valor del gradiente de la función de pérdida con respecto w20 en un punto\n",
        "    n = len(y)\n",
        "    return 2*w32*np.sum((z - y))/n\n",
        "\n",
        "def gradiente_w21 (z, y, w32, x1):\n",
        "    # Función que calcula el valor del gradiente de la función de pérdida con respecto w21 en un punto\n",
        "    n = len(y)\n",
        "    return 2*w32*np.sum((z - y)*x1)/n\n",
        "    \n",
        "\n",
        "def gradiente_w22 (z, y, w32, x2):\n",
        "    # Función que calcula el valor del gradiente de la función de pérdida con respecto w22 en un punto\n",
        "    n = len(y)\n",
        "    return 2*w32*np.sum((z - y)*x2)/n\n",
        "\n",
        "\n",
        "\n",
        "def gradiente_w30 (z, y):\n",
        "    # Función que calcula el valor del gradiente de la función de pérdida con respecto w30 en un punto\n",
        "    n = len(y)\n",
        "    return 2*np.sum((z - y))/n\n",
        "\n",
        "def gradiente_w31 (z, y, z1):\n",
        "    # Función que calcula el valor del gradiente de la función de pérdida con respecto w31 en un punto\n",
        "    n = len(y)\n",
        "    return 2*np.sum((z - y)*z1)/n\n",
        "    \n",
        "\n",
        "def gradiente_w32 (z, y, z2):\n",
        "    # Función que calcula el valor del gradiente de la función de pérdida con respecto w32 en un punto\n",
        "    n = len(y)\n",
        "    return 2*w32*np.sum((z - y)*z2)/n"
      ]
    },
    {
      "cell_type": "markdown",
      "metadata": {},
      "source": [
        "## Bucle de entrenamiento"
      ]
    },
    {
      "cell_type": "markdown",
      "metadata": {},
      "source": [
        "Una vez que sabemos calcular los gradientes actualizamos los parámetros $\\omega_0$, $\\omega_1$ y $\\omega_2$ mediante las siguientes fórmulas\n",
        "\n",
        "$$\\omega_{10}' = \\omega_{10} - \\alpha\\frac{\\partial loss}{\\partial \\omega_{10}}$$\n",
        "$$\\omega_{11}' = \\omega_{11} - \\alpha\\frac{\\partial loss}{\\partial \\omega_{11}}$$\n",
        "$$\\omega_{12}' = \\omega_{12} - \\alpha\\frac{\\partial loss}{\\partial \\omega_{12}}$$\n",
        "\n",
        "$$\\omega_{20}' = \\omega_{20} - \\alpha\\frac{\\partial loss}{\\partial \\omega_{20}}$$\n",
        "$$\\omega_{21}' = \\omega_{21} - \\alpha\\frac{\\partial loss}{\\partial \\omega_{21}}$$\n",
        "$$\\omega_{22}' = \\omega_{22} - \\alpha\\frac{\\partial loss}{\\partial \\omega_{22}}$$\n",
        "\n",
        "$$\\omega_{30}' = \\omega_{30} - \\alpha\\frac{\\partial loss}{\\partial \\omega_{30}}$$\n",
        "$$\\omega_{31}' = \\omega_{31} - \\alpha\\frac{\\partial loss}{\\partial \\omega_{31}}$$\n",
        "$$\\omega_{32}' = \\omega_{32} - \\alpha\\frac{\\partial loss}{\\partial \\omega_{32}}$$\n",
        "\n",
        "Recordemos que $\\alpha$ es la tasa de aprendizaje o learning rate, que determina la velocidad a la que va a aprender la red"
      ]
    },
    {
      "cell_type": "code",
      "execution_count": 19,
      "metadata": {},
      "outputs": [
        {
          "name": "stdout",
          "output_type": "stream",
          "text": [
            "i=5: error=0.252, w10=0.274, w11=0.487, w12=0.083, w20=0.345, w21=0.069, w22=0.013, w30=0.274, w31=0.119, w32=0.313\n",
            "i=10: error=0.251, w10=0.275, w11=0.485, w12=0.083, w20=0.347, w21=0.064, w22=0.013, w30=0.275, w31=0.113, w32=0.313\n",
            "i=15: error=0.251, w10=0.276, w11=0.483, w12=0.083, w20=0.349, w21=0.059, w22=0.013, w30=0.276, w31=0.106, w32=0.314\n",
            "i=20: error=0.251, w10=0.276, w11=0.482, w12=0.082, w20=0.350, w21=0.055, w22=0.012, w30=0.276, w31=0.100, w32=0.314\n",
            "i=25: error=0.251, w10=0.276, w11=0.480, w12=0.082, w20=0.351, w21=0.050, w22=0.012, w30=0.276, w31=0.095, w32=0.314\n",
            "i=30: error=0.251, w10=0.277, w11=0.479, w12=0.082, w20=0.352, w21=0.046, w22=0.012, w30=0.277, w31=0.089, w32=0.314\n"
          ]
        }
      ],
      "source": [
        "lr = 10**-1 # Tasa de aprendizaje o learning rate\n",
        "steps = 30  # Numero de veces que se realiza el bucle de enrtenamiento\n",
        "\n",
        "# Calculamos los valores que obtiene la red neuronal\n",
        "z1 = w10 + w11*x1 + w12*x2\n",
        "z2 = w20 + w21*x1 + w22*x2\n",
        "z = w30 + w31*z1 + w32*z2\n",
        "\n",
        "# Matrices donde se guardarán los pesos\n",
        "Ws10 = np.empty(steps)\n",
        "Ws11 = np.empty(steps)\n",
        "Ws12 = np.empty(steps)\n",
        "Ws20 = np.empty(steps)\n",
        "Ws21 = np.empty(steps)\n",
        "Ws22 = np.empty(steps)\n",
        "Ws30 = np.empty(steps)\n",
        "Ws31 = np.empty(steps)\n",
        "Ws32 = np.empty(steps)\n",
        "\n",
        "for i in range(steps):\n",
        "    # Calculamos los gradientes\n",
        "    dl_w10 = gradiente_w10(z, y, w31)\n",
        "    dl_w11 = gradiente_w11(z, y, w31, x1)\n",
        "    dl_w12 = gradiente_w12(z, y, w31, x2)\n",
        "    dl_w20 = gradiente_w20(z, y, w32)\n",
        "    dl_w21 = gradiente_w21(z, y, w32, x1)\n",
        "    dl_w22 = gradiente_w22(z, y, w32, x2)\n",
        "    dl_w30 = gradiente_w30(z, y)\n",
        "    dl_w31 = gradiente_w31(z, y, z1)\n",
        "    dl_w32 = gradiente_w32(z, y, z2)\n",
        "\n",
        "    # Corregimos el valor de a y b\n",
        "    w10 = w10 - lr*dl_w10\n",
        "    w11 = w11 - lr*dl_w11\n",
        "    w12 = w12 - lr*dl_w12\n",
        "    w20 = w20 - lr*dl_w20\n",
        "    w21 = w21 - lr*dl_w21\n",
        "    w22 = w22 - lr*dl_w22\n",
        "    w30 = w30 - lr*dl_w30\n",
        "    w31 = w31 - lr*dl_w31\n",
        "    w32 = w32 - lr*dl_w32\n",
        "\n",
        "    # Calculamos los nuevos valores que obtiene la red neuronal\n",
        "    z1 = w10 + w11*x1 + w12*x2\n",
        "    z2 = w20 + w21*x1 + w22*x2\n",
        "    z = w30 + w31*z1 + w32*z2\n",
        "\n",
        "    # Obtenemos el error\n",
        "    error = loss(y, z)\n",
        "\n",
        "    # Guardamos los valores para luego ver la evolución del entrenamiento en una gráfica\n",
        "    Ws10[i] = w10\n",
        "    Ws11[i] = w11\n",
        "    Ws12[i] = w12\n",
        "    Ws20[i] = w20\n",
        "    Ws21[i] = w21\n",
        "    Ws22[i] = w22\n",
        "    Ws30[i] = w30\n",
        "    Ws31[i] = w31\n",
        "    Ws32[i] = w32\n",
        "\n",
        "    # Imprimimos la evolución del entrenamiento\n",
        "    if (i+1)%5 == 0:\n",
        "        print(f\"i={i+1}: error={error:0.3f}, w10={w10:0.3f}, w11={w11:0.3f}, w12={w12:0.3f}, w20={w20:0.3f}, w21={w21:0.3f}, w22={w22:0.3f}, w30={w10:0.3f}, w31={w31:0.3f}, w32={w32:0.3f}\")"
      ]
    },
    {
      "cell_type": "markdown",
      "metadata": {},
      "source": [
        "Vamos a ver cómo es la salida de nuestra neurona una vez la hemos entrenado"
      ]
    },
    {
      "cell_type": "code",
      "execution_count": 20,
      "metadata": {},
      "outputs": [
        {
          "name": "stdout",
          "output_type": "stream",
          "text": [
            "z: [0.46247378 0.51965283 0.47352123 0.53070028], z_bin: [0 1 0 1]\n",
            "y: [0. 1. 1. 0.]\n"
          ]
        }
      ],
      "source": [
        "z1 = w10 + w11*x1 + w12*x2\n",
        "z2 = w20 + w21*x1 + w22*x2\n",
        "z = w30 + w31*z1 + w32*z2\n",
        "\n",
        "# Si el valor predicho es mayor que 0.5 se considera la salida un 1, si no un 0\n",
        "z_bin = (z>0.5).astype(int)\n",
        "\n",
        "print(f\"z: {z}, z_bin: {z_bin}\")\n",
        "print(f\"y: {y}\")"
      ]
    },
    {
      "cell_type": "code",
      "execution_count": 21,
      "metadata": {},
      "outputs": [
        {
          "data": {
            "text/plain": [
              "Text(0.5, 1.0, 'z3')"
            ]
          },
          "execution_count": 21,
          "metadata": {},
          "output_type": "execute_result"
        },
        {
          "data": {
            "image/png": "[encoded data removed]",
            "text/plain": [
              "<Figure size 1440x360 with 3 Axes>"
            ]
          },
          "metadata": {
            "needs_background": "light"
          },
          "output_type": "display_data"
        }
      ],
      "source": [
        "fig, (ax1, ax2, ax3) = plt.subplots(1,3, figsize=(20,5))\n",
        "\n",
        "# Se crean dos vectores con todos los posibles valores de entrada\n",
        "max_axis = 1.1\n",
        "min_axis = -0.1\n",
        "axes = [min_axis, max_axis, min_axis, max_axis]\n",
        "xx1, xx2 = np.meshgrid(\n",
        "    np.linspace(axes[0], axes[1], 500).reshape(-1, 1),\n",
        "    np.linspace(axes[2], axes[3], 500).reshape(-1, 1),\n",
        ")\n",
        "\n",
        "# all_x1 y all_x2 son matrices de tamaño 500x500, se aplanan\n",
        "X1_new = np.c_[xx1.ravel()]\n",
        "X2_new = np.c_[xx2.ravel()]\n",
        "\n",
        "# Se calculan las posibles salidas\n",
        "z1 = w10 + w11*X1_new + w12*X2_new\n",
        "z2 = w20 + w21*X1_new + w22*X2_new\n",
        "all_z_predict = w30 + w31*z1 + w32*z2\n",
        "\n",
        "# Si el valor predicho es mayor que 0.5 se considera la salida un 1, si no un 0\n",
        "all_z_predict = (all_z_predict>0.5).astype(int)\n",
        "z1 = (z1>0.5).astype(int)\n",
        "z2 = (z2>0.5).astype(int)\n",
        "\n",
        "# z_predict es un array de 250000x1, se redimensiona en forma de matriz de 500x500\n",
        "all_z_predict = all_z_predict.reshape(xx1.shape)\n",
        "z1 = z1.reshape(xx1.shape)\n",
        "z2 = z2.reshape(xx1.shape)\n",
        "\n",
        "# Se dibujan las salidas predichas por la red de todas las posibles entradas creadas\n",
        "colormap1 = ListedColormap(['#23F99B', '#F92377'])\n",
        "colormap2 = ListedColormap(['#149691', '#e16fa2'])\n",
        "ax1.contourf(xx1, xx2, z1, cmap=colormap1)\n",
        "ax2.contourf(xx1, xx2, z2, cmap=colormap1)\n",
        "ax3.contourf(xx1, xx2, all_z_predict, cmap=colormap2)\n",
        "\n",
        "# Se representan los cuatro puntos de la salida de la puerta lógica\n",
        "ax1.scatter(x1[0], x2[0], c='blue')\n",
        "ax1.scatter(x1[3], x2[3], c='blue')\n",
        "ax1.scatter(x1[1:3], x2[1:3], c='red')\n",
        "ax2.scatter(x1[0], x2[0], c='blue')\n",
        "ax2.scatter(x1[3], x2[3], c='blue')\n",
        "ax2.scatter(x1[1:3], x2[1:3], c='red')\n",
        "ax3.scatter(x1[0], x2[0], c='blue')\n",
        "ax3.scatter(x1[3], x2[3], c='blue')\n",
        "ax3.scatter(x1[1:3], x2[1:3], c='red')\n",
        "\n",
        "# Se termina de configurar la figura\n",
        "ax1.set_xlabel('x1')\n",
        "ax1.set_ylabel('x2  ', rotation=0)\n",
        "ax1.set_title('z1')\n",
        "ax2.set_xlabel('x1')\n",
        "ax2.set_ylabel('x2  ', rotation=0)\n",
        "ax2.set_title('z2')\n",
        "ax3.set_xlabel('x1')\n",
        "ax3.set_ylabel('x2  ', rotation=0)\n",
        "ax3.set_title('z3')"
      ]
    },
    {
      "cell_type": "code",
      "execution_count": 22,
      "metadata": {},
      "outputs": [
        {
          "name": "stderr",
          "output_type": "stream",
          "text": [
            "MovieWriter imagemagick unavailable; using Pillow instead.\n"
          ]
        }
      ],
      "source": [
        "from matplotlib.animation import FuncAnimation\n",
        "\n",
        "# Creamos la gráfica inicial\n",
        "fig, (ax1, ax2, ax3) = plt.subplots(1,3, figsize=(20,5))\n",
        "fig.set_tight_layout(True)\n",
        "ax1.set_xlabel('x1')\n",
        "ax1.set_ylabel('x2  ', rotation=0)\n",
        "ax1.set_title('z1')\n",
        "ax2.set_xlabel('x1')\n",
        "ax2.set_ylabel('x2  ', rotation=0)\n",
        "ax2.set_title('z2')\n",
        "ax3.set_xlabel('x1')\n",
        "ax3.set_ylabel('x2  ', rotation=0)\n",
        "ax3.set_title('z3')\n",
        "\n",
        "# Se dibujan los datos que persistiran en toda la evolución de la gráfica\n",
        "ax1.scatter(x1[0], x2[0], c='blue')\n",
        "ax1.scatter(x1[3], x2[3], c='blue')\n",
        "ax1.scatter(x1[1:3], x2[1:3], c='red')\n",
        "ax2.scatter(x1[0], x2[0], c='blue')\n",
        "ax2.scatter(x1[3], x2[3], c='blue')\n",
        "ax2.scatter(x1[1:3], x2[1:3], c='red')\n",
        "ax3.scatter(x1[0], x2[0], c='blue')\n",
        "ax3.scatter(x1[3], x2[3], c='blue')\n",
        "ax3.scatter(x1[1:3], x2[1:3], c='red')\n",
        "\n",
        "# Se dibuja el el fondo que irán cambiando durante el entrenamiento\n",
        "max_axis = 1.1\n",
        "min_axis = -0.1\n",
        "axes = [min_axis, max_axis, min_axis, max_axis]\n",
        "xx1, xx2 = np.meshgrid(\n",
        "    np.linspace(axes[0], axes[1], 500).reshape(-1, 1),\n",
        "    np.linspace(axes[2], axes[3], 500).reshape(-1, 1),\n",
        ")\n",
        "X1_new = np.c_[xx1.ravel()]\n",
        "X2_new = np.c_[xx2.ravel()]\n",
        "all_z1_predict = w10 + w11*X1_new + w12*X2_new\n",
        "all_z2_predict = w20 + w21*X1_new + w22*X2_new\n",
        "all_z_predict = w30 + w31*all_z1_predict + w32*all_z2_predict\n",
        "\n",
        "# Si el valor predicho es mayor que 0.5 se considera la salida un 1, si no un 0\n",
        "all_z1_predict = (all_z1_predict>0.5).astype(int)\n",
        "all_z2_predict = (all_z2_predict>0.5).astype(int)\n",
        "all_z_predict = (all_z_predict>0.5).astype(int)\n",
        "\n",
        "# z_predict es un array de 250000x1, se redimensiona en forma de matriz de 500x500\n",
        "all_z1_predict = all_z1_predict.reshape(xx1.shape)\n",
        "all_z2_predict = all_z2_predict.reshape(xx1.shape)\n",
        "all_z_predict = all_z_predict.reshape(xx1.shape)\n",
        "\n",
        "# Se dibujan las salidas predichas por la red de todas las posibles entradas creadas\n",
        "colormap1 = ListedColormap(['#23F99B', '#F92377'])\n",
        "colormap2 = ListedColormap(['#149691', '#e16fa2'])\n",
        "fondo1 = ax1.contourf(xx1, xx2, all_z1_predict, cmap=colormap1)\n",
        "fondo2 = ax2.contourf(xx1, xx2, all_z2_predict, cmap=colormap1)\n",
        "fondo3 = ax3.contourf(xx1, xx2, all_z_predict, cmap=colormap2)\n",
        "\n",
        "# Se dibuja un título\n",
        "fontsize = 12\n",
        "titulo = fig.suptitle(f'step: {0}', fontsize=fontsize)\n",
        "\n",
        "# Se define la función que va a modificar la gráfica con la evolución del entrenamiento\n",
        "def update(i):\n",
        "    # Se actualiza el fondo\n",
        "    all_z1_predict = Ws10[i] + Ws11[i]*X1_new + Ws12[i]*X2_new\n",
        "    all_z2_predict = Ws20[i] + Ws21[i]*X1_new + Ws22[i]*X2_new\n",
        "    all_z_predict = Ws30[i] + Ws31[i]*all_z1_predict + Ws32[i]*all_z2_predict\n",
        "\n",
        "    all_z1_predict = (all_z1_predict>0.5).astype(int)\n",
        "    all_z2_predict = (all_z2_predict>0.5).astype(int)\n",
        "    all_z_predict = (all_z_predict>0.5).astype(int)\n",
        "\n",
        "    all_z1_predict = all_z1_predict.reshape(xx1.shape)\n",
        "    all_z2_predict = all_z2_predict.reshape(xx1.shape)\n",
        "    all_z_predict = all_z_predict.reshape(xx1.shape)\n",
        "\n",
        "    ax1.contourf(xx1, xx2, all_z1_predict, cmap=colormap1)\n",
        "    ax2.contourf(xx1, xx2, all_z2_predict, cmap=colormap1)    \n",
        "    ax3.contourf(xx1, xx2, all_z_predict, cmap=colormap2)\n",
        "\n",
        "    ax1.scatter(x1[0], x2[0], c='blue')\n",
        "    ax1.scatter(x1[3], x2[3], c='blue')\n",
        "    ax1.scatter(x1[1:3], x2[1:3], c='red')\n",
        "    ax2.scatter(x1[0], x2[0], c='blue')\n",
        "    ax2.scatter(x1[3], x2[3], c='blue')\n",
        "    ax2.scatter(x1[1:3], x2[1:3], c='red')\n",
        "    ax3.scatter(x1[0], x2[0], c='blue')\n",
        "    ax3.scatter(x1[3], x2[3], c='blue')\n",
        "    ax3.scatter(x1[1:3], x2[1:3], c='red')\n",
        "\n",
        "    # Se actualiza el título\n",
        "    titulo.set_text(f'step: {i}')\n",
        "\n",
        "    return 0\n",
        "\n",
        "# Se crea la animación con un refresco cada 200 ms\n",
        "interval = 200 # ms\n",
        "anim = FuncAnimation(fig, update, frames=np.arange(0, steps), interval=interval)\n",
        "\n",
        "# Se guarda en un GIF\n",
        "gif_name = \"GIFs/entrenamiento_red_XNOR.gif\"\n",
        "anim.save(gif_name, dpi=80, writer='imagemagick')\n",
        "plt.close()"
      ]
    },
    {
      "cell_type": "markdown",
      "metadata": {},
      "source": [
        "![gif_xnor](GIFs\\entrenamiento_red_XNOR.gif)"
      ]
    },
    {
      "cell_type": "markdown",
      "metadata": {},
      "source": [
        "Sigue sin poderse solucionar con una red neuronal, vamos a ver por qué"
      ]
    },
    {
      "cell_type": "markdown",
      "metadata": {},
      "source": [
        "Primero vemos cómo son $z_1$, $z_2$ y $z$\n",
        "\n",
        "$$ z_1 = \\omega_{10}+\\omega_{11}x_1+\\omega_{12}x_2 $$\n",
        "\n",
        "$$ z_2 = \\omega_{20}+\\omega_{21}x_1+\\omega_{22}x_2 $$\n",
        "\n",
        "$$ z = \\omega_{30}+\\omega_{31}z_1+\\omega_{32}z_2 $$"
      ]
    },
    {
      "cell_type": "markdown",
      "metadata": {},
      "source": [
        "Ahora desarrollamos $z$, con $z_1$ y $z_2$\n",
        "\n",
        "$$ z_1 = \\omega_{10}+\\omega_{11}x_1+\\omega_{12}x_2 $$\n",
        "\n",
        "$$ z_2 = \\omega_{20}+\\omega_{21}x_1+\\omega_{22}x_2 $$\n",
        "\n",
        "$$ z = \\omega_{30}+\\omega_{31}\\left(\\omega_{10}+\\omega_{11}x_1+\\omega_{12}x_2\\right)+\\omega_{32}\\left(\\omega_{20}+\\omega_{21}x_1+\\omega_{22}x_2\\right) = $$\n",
        "$$ = \\omega_{30}+\\omega_{31}\\omega_{10}+\\omega_{31}\\omega_{11}x_1+\\omega_{31}\\omega_{12}x_2+\\omega_{32}\\omega_{20}+\\omega_{32}\\omega_{21}x_1+\\omega_{32}\\omega_{22}x_2 = $$\n",
        "$$ = \\left(\\omega_{30}+\\omega_{31}\\omega_{10}+\\omega_{32}\\omega_{20}\\right) + \\left(\\omega_{31}\\omega_{11}+\\omega_{32}\\omega_{21}\\right)x_1 + \\left(\\omega_{31}\\omega_{12}+\\omega_{32}\\omega_{22}\\right)x_2 = $$\n",
        "$$ = \\Omega_{0} + \\Omega_{1}x_1 + \\Omega_{2}x_2 = $$"
      ]
    },
    {
      "cell_type": "markdown",
      "metadata": {},
      "source": [
        "Como se puede ver, se añadan las neuronas que se añadan, al final siempre tendremos el equivalente a una sola neurona, por lo que es necesario añadir algún mecanismo que evite esto. Ese mecanismo son las funciones de activación"
      ]
    },
    {
      "cell_type": "markdown",
      "metadata": {},
      "source": [
        "# Función de activación"
      ]
    },
    {
      "cell_type": "markdown",
      "metadata": {},
      "source": [
        "Para evitar que pase lo anterior a cada neurona se le añade una función a la salida que se denomina función de activación\n",
        "\n",
        "![perceptron](Imagenes/Perceptron.PNG)\n",
        "\n",
        "Gracias a esa función de activación podemos romprer la linealidad que hacía que la red de antes se comportara como una sola neurona, con lo que ahora podemos crear redes con varias neuronas consiguiendo resultados para problemas cada vez más complejos"
      ]
    },
    {
      "cell_type": "markdown",
      "metadata": {},
      "source": [
        "Hay muchas funciones de activación y más adelante las veremos. De momento, para este ejemplo usaremos la función sigmoide\n",
        "\n",
        "![sigmoide](Imagenes/sigmoid.png)\n",
        "\n",
        "Esta función hace que si la entrada tiene valores muy altos o muy bajos, a la salida tengamos un 1 o un 0, mientras que si a la entrada tenemos valores muy pequeños tanto positivos como negativos, la salida no esté muy bien determinada"
      ]
    },
    {
      "cell_type": "markdown",
      "metadata": {},
      "source": [
        "Con esto ya hemos aprendido todo lo que tiene una neurona básica en una red neuronal, que es la suma ponderada de todas las entradas ($\\sum_{i=1}^{N} {\\omega_ix_i}$), más un término independiente o bias ($\\omega_0$). Todo eso determina el valor $z_i$, que es pasado por una función de activación ($\\sigma = f\\left(z_i\\right)$).\n",
        "\n",
        "A este modelo de neurona básica se le conoce como **perceptron**"
      ]
    },
    {
      "cell_type": "markdown",
      "metadata": {},
      "source": [
        "Una vez hemos definido nuestro perceptron, ya podemos volver a crear la red neuronal con este\n",
        "\n",
        "![red neuronal con función de activación](Imagenes/red_neuronal_activacion_XNOR.png)"
      ]
    },
    {
      "cell_type": "markdown",
      "metadata": {},
      "source": [
        "$$z_1 = \\omega_{10}+\\omega_{11}x_1+\\omega_{12}x_2$$\n",
        "$$\\sigma_1 = \\frac{1}{1+e^{-z_1}} = \\frac{1}{1+e^{-\\omega_{10}-\\omega_{11}x_1-\\omega_{12}x_2}}$$\n",
        "$$z_2 = \\omega_{20}+\\omega_{21}x_1+\\omega_{22}x_2$$\n",
        "$$\\sigma_2 = \\frac{1}{1+e^{-z_2}} = \\frac{1}{1+e^{-\\omega_{20}-\\omega_{21}x_1-\\omega_{22}x_2}}$$\n",
        "$$z = \\omega_{30}+\\omega_{31}\\sigma_1+\\omega_{32}\\sigma_2$$"
      ]
    },
    {
      "cell_type": "markdown",
      "metadata": {},
      "source": [
        "Vamos a implementar dicha red. Primero inicializamos aleatoriamente los pesos"
      ]
    },
    {
      "cell_type": "code",
      "execution_count": 54,
      "metadata": {},
      "outputs": [],
      "source": [
        "import random\n",
        "\n",
        "random.seed(45) # Esto es una semilla, cuando se generan números aleatorios, \n",
        "                # pero queremos que siempre se genere el mismo se suele fijar\n",
        "                # un número llamado semilla. Esto hace que siempre a sea el mismo\n",
        "\n",
        "w10 = random.random()\n",
        "w11 = random.random()\n",
        "w12 = random.random()\n",
        "\n",
        "w20 = random.random()\n",
        "w21 = random.random()\n",
        "w22 = random.random()\n",
        "\n",
        "w30 = random.random()\n",
        "w31 = random.random()\n",
        "w32 = random.random()"
      ]
    },
    {
      "cell_type": "markdown",
      "metadata": {},
      "source": [
        "Vamos a ver qué saldría con estos parámetros"
      ]
    },
    {
      "cell_type": "code",
      "execution_count": 55,
      "metadata": {},
      "outputs": [],
      "source": [
        "def sigmoid(x):\n",
        "    # Función que calcula salida de la función sigmoide de x\n",
        "    return 1/(1+np.exp(-x))"
      ]
    },
    {
      "cell_type": "code",
      "execution_count": 56,
      "metadata": {},
      "outputs": [
        {
          "name": "stdout",
          "output_type": "stream",
          "text": [
            "z: [0.53226481 0.55108839 0.53544919 0.55397117], z_bin: [1 1 1 1]\n",
            "y: [0. 1. 1. 0.]\n"
          ]
        }
      ],
      "source": [
        "z1 = w10 + w11*x1 + w12*x2\n",
        "sigma1 = sigmoid(z1)\n",
        "z2 = w20 + w21*x1 + w22*x2\n",
        "sigma2 = sigmoid(z2)\n",
        "z = w30 + w31*sigma1 + w32*sigma2\n",
        "\n",
        "# Si el valor predicho es mayor que 0.5 se considera la salida un 1, si no un 0\n",
        "z_bin = (z>0.5).astype(int)\n",
        "\n",
        "print(f\"z: {z}, z_bin: {z_bin}\")\n",
        "print(f\"y: {y}\")"
      ]
    },
    {
      "cell_type": "code",
      "execution_count": 57,
      "metadata": {},
      "outputs": [
        {
          "data": {
            "text/plain": [
              "Text(0.5, 1.0, 'z3')"
            ]
          },
          "execution_count": 57,
          "metadata": {},
          "output_type": "execute_result"
        },
        {
          "data": {
            "image/png": "[encoded data removed]",
            "text/plain": [
              "<Figure size 1440x360 with 3 Axes>"
            ]
          },
          "metadata": {
            "needs_background": "light"
          },
          "output_type": "display_data"
        }
      ],
      "source": [
        "fig, (ax1, ax2, ax3) = plt.subplots(1,3, figsize=(20,5))\n",
        "\n",
        "# Se crean dos vectores con todos los posibles valores de entrada\n",
        "max_axis = 1.1\n",
        "min_axis = -0.1\n",
        "axes = [min_axis, max_axis, min_axis, max_axis]\n",
        "xx1, xx2 = np.meshgrid(\n",
        "    np.linspace(axes[0], axes[1], 500).reshape(-1, 1),\n",
        "    np.linspace(axes[2], axes[3], 500).reshape(-1, 1),\n",
        ")\n",
        "\n",
        "# all_x1 y all_x2 son matrices de tamaño 500x500, se aplanan\n",
        "X1_new = np.c_[xx1.ravel()]\n",
        "X2_new = np.c_[xx2.ravel()]\n",
        "\n",
        "# Se calculan las posibles salidas\n",
        "z1 = w10 + w11*X1_new + w12*X2_new\n",
        "sigma1 = sigmoid(z1)\n",
        "z2 = w20 + w21*X1_new + w22*X2_new\n",
        "sigma2 = sigmoid(z2)\n",
        "all_z_predict = w30 + w31*sigma1 + w32*sigma2\n",
        "\n",
        "# Si el valor predicho es mayor que 0.5 se considera la salida un 1, si no un 0\n",
        "all_z_predict = (all_z_predict>0.5).astype(int)\n",
        "z1 = (z1>0.5).astype(int)\n",
        "z2 = (z2>0.5).astype(int)\n",
        "\n",
        "# z_predict es un array de 250000x1, se redimensiona en forma de matriz de 500x500\n",
        "all_z_predict = all_z_predict.reshape(xx1.shape)\n",
        "z1 = z1.reshape(xx1.shape)\n",
        "z2 = z2.reshape(xx1.shape)\n",
        "\n",
        "# Se dibujan las salidas predichas por la red de todas las posibles entradas creadas\n",
        "colormap1 = ListedColormap(['#23F99B', '#F92377'])\n",
        "colormap2 = ListedColormap(['#149691', '#e16fa2'])\n",
        "ax1.contourf(xx1, xx2, z1, cmap=colormap1)\n",
        "ax2.contourf(xx1, xx2, z2, cmap=colormap1)\n",
        "ax3.contourf(xx1, xx2, all_z_predict, cmap=colormap2)\n",
        "\n",
        "# Se representan los cuatro puntos de la salida de la puerta lógica\n",
        "ax1.scatter(x1[0], x2[0], c='blue')\n",
        "ax1.scatter(x1[3], x2[3], c='blue')\n",
        "ax1.scatter(x1[1:3], x2[1:3], c='red')\n",
        "ax2.scatter(x1[0], x2[0], c='blue')\n",
        "ax2.scatter(x1[3], x2[3], c='blue')\n",
        "ax2.scatter(x1[1:3], x2[1:3], c='red')\n",
        "ax3.scatter(x1[0], x2[0], c='blue')\n",
        "ax3.scatter(x1[3], x2[3], c='blue')\n",
        "ax3.scatter(x1[1:3], x2[1:3], c='red')\n",
        "\n",
        "# Se termina de configurar la figura\n",
        "ax1.set_xlabel('x1')\n",
        "ax1.set_ylabel('x2  ', rotation=0)\n",
        "ax1.set_title('z1')\n",
        "ax2.set_xlabel('x1')\n",
        "ax2.set_ylabel('x2  ', rotation=0)\n",
        "ax2.set_title('z2')\n",
        "ax3.set_xlabel('x1')\n",
        "ax3.set_ylabel('x2  ', rotation=0)\n",
        "ax3.set_title('z3')"
      ]
    },
    {
      "cell_type": "markdown",
      "metadata": {},
      "source": [
        "No se asemeja en nada la salida de nuestra red con los puntos. Tenemos que entrenar"
      ]
    },
    {
      "cell_type": "markdown",
      "metadata": {},
      "source": [
        "## Cálculo del error o loss"
      ]
    },
    {
      "cell_type": "markdown",
      "metadata": {},
      "source": [
        "Necesitamos una manera de saber cómo de bien o mal se comporta nuestra neurona, para ello, al igual que antes calcularemos el error mediante el error cuadrático medio (ECM) o mean squared error (MSE)\n",
        "\n",
        "$$loss = \\frac{\\sum_{i=1}^{N} \\left(z-y\\right)^2}{N}$$"
      ]
    },
    {
      "cell_type": "code",
      "execution_count": 58,
      "metadata": {},
      "outputs": [],
      "source": [
        "def loss(y, z):\n",
        "    n = len(y)\n",
        "    loss = np.sum((z-y) ** 2) / n\n",
        "    return loss"
      ]
    },
    {
      "cell_type": "code",
      "execution_count": 59,
      "metadata": {},
      "outputs": [
        {
          "data": {
            "text/plain": [
              "0.251879742527086"
            ]
          },
          "execution_count": 59,
          "metadata": {},
          "output_type": "execute_result"
        }
      ],
      "source": [
        "error = loss(y, z)\n",
        "error"
      ]
    },
    {
      "cell_type": "markdown",
      "metadata": {},
      "source": [
        "## Descenso del gradiente"
      ]
    },
    {
      "cell_type": "markdown",
      "metadata": {},
      "source": [
        "Al igual que antes buscamos el mínimo de la función de pérdida mediante el descenso del gradiente, pero en este caso, como tenémos tres parámetros, tendremos que hacer el descenso mediante el gradiente de la función de error con respecto a $\\omega_0$, $\\omega_1$ y $\\omega_2$\n",
        "\n",
        "Como la función de pérdida era\n",
        "\n",
        "$$loss = \\frac{\\sum_{i=1}^{N} \\left(z-y\\right)^2}{N}$$\n",
        "\n",
        "Los dos gradientes se calculan mediante\n",
        "\n",
        "**Calculo de las derivadas con respecto $\\omega_{1x}$**\n",
        "\n",
        "$$\\frac{\\partial loss}{\\partial \\omega_{10}} = \n",
        "    \\frac{\\partial \\left(\\frac{\\sum_{i=1}^{N} \\left(z-y\\right)^2}{N}\\right)}{\\partial \\omega_{10}} = \n",
        "    2\\frac{\\sum_{i=1}^{N} \\left(z-y\\right)}{N}\\frac{\\partial \\left(z-y\\right)}{\\partial \\omega_{10}} = \n",
        "    2\\frac{\\sum_{i=1}^{N} \\left(z-y\\right)}{N}\\frac{\\partial z}{\\partial \\omega_{10}} = \n",
        "    2\\frac{\\sum_{i=1}^{N} \\left(z-y\\right)}{N}\\frac{\\partial \\left(\\omega_{30}+\\omega_{31}\\sigma_1+\\omega_{32}\\sigma_2\\right)}{\\partial \\omega_{10}} = $$\n",
        "$$= 2\\frac{\\sum_{i=1}^{N} \\left(z-y\\right)}{N}\\omega_{31}\\frac{\\partial \\sigma_1}{\\partial \\omega_{10}} = \n",
        "    2\\frac{\\sum_{i=1}^{N} \\left(z-y\\right)}{N}\\omega_{31}\\frac{\\partial \\left(\\frac{1}{1+e^{-z_1}}\\right)}{\\partial \\omega_{10}} = $$\n",
        "$$= 2\\omega_{31}\\frac{\\sum_{i=1}^{N} \\left(z-y\\right)}{N}\\frac{\\partial \\left(\\frac{1}{1+e^{-z_1}}\\right)}{\\partial \\omega_{10}} = \n",
        "    2\\omega_{31}\\frac{\\sum_{i=1}^{N} \\left(z-y\\right)}{N}\\frac{\\frac{\\partial 1}{\\partial \\omega_{10}}\\left(1+e^{-z_1}\\right)-1\\frac{\\partial \\left(1+e^{-z_1}\\right)}{\\partial \\omega_{10}}}{\\left(1+e^{-z_1}\\right)^2} = $$\n",
        "$$= 2\\omega_{31}\\frac{\\sum_{i=1}^{N} \\left(z-y\\right)}{N}\\frac{0-\\frac{\\partial \\left(1+e^{-z_1}\\right)}{\\partial \\omega_{10}}}{\\left(1+e^{-z_1}\\right)^2} = \n",
        "    -2\\omega_{31}\\frac{\\sum_{i=1}^{N} \\left(z-y\\right)}{N}\\frac{\\frac{\\partial \\left(1+e^{-z_1}\\right)}{\\partial \\omega_{10}}}{\\left(1+e^{-z_1}\\right)^2} = $$\n",
        "$$= -2\\omega_{31}\\frac{\\sum_{i=1}^{N} \\left(z-y\\right)}{N}\\frac{\\frac{\\partial 1}{\\partial \\omega_{10}}+\\frac{\\partial e^{-z_1}}{\\partial \\omega_{10}}}{\\left(1+e^{-z_1}\\right)^2} = \n",
        "    -2\\omega_{31}\\frac{\\sum_{i=1}^{N} \\left(z-y\\right)}{N}\\frac{0+\\frac{\\partial e^{-z_1}}{\\partial \\omega_{10}}}{\\left(1+e^{-z_1}\\right)^2} = $$\n",
        "$$= -2\\omega_{31}\\frac{\\sum_{i=1}^{N} \\left(z-y\\right)}{N}\\frac{\\frac{\\partial e^{-z_1}}{\\partial \\omega_{10}}}{\\left(1+e^{-z_1}\\right)^2} = \n",
        "    2\\omega_{31}\\frac{\\sum_{i=1}^{N} \\left(z-y\\right)}{N}\\frac{e^{-z_1}}{\\left(1+e^{-z_1}\\right)^2}\\frac{\\partial z_1}{\\partial \\omega_{10}} = $$\n",
        "$$= 2\\omega_{31}\\frac{\\sum_{i=1}^{N} \\left(z-y\\right)}{N}\\frac{1}{1+e^{-z_1}}\\left[\\frac{e^{-z_1}}{1+e^{-z_1}}\\right]\\frac{\\partial z_1}{\\partial \\omega_{10}} = \n",
        "    2\\omega_{31}\\frac{\\sum_{i=1}^{N} \\left(z-y\\right)}{N}\\frac{1}{1+e^{-z_1}}\\left[\\frac{1+e^{-z_1}-1}{1+e^{-z_1}}\\right]\\frac{\\partial z_1}{\\partial \\omega_{10}} = $$\n",
        "$$= 2\\omega_{31}\\frac{\\sum_{i=1}^{N} \\left(z-y\\right)}{N}\\frac{1}{1+e^{-z_1}}\\left[\\frac{1+e^{-z_1}}{1+e^{-z_1}}-\\frac{1}{1+e^{-z_1}}\\right]\\frac{\\partial z_1}{\\partial \\omega_{10}} = \n",
        "    2\\omega_{31}\\frac{\\sum_{i=1}^{N} \\left(z-y\\right)}{N}\\frac{1}{1+e^{-z_1}}\\left[1-\\frac{1}{1+e^{-z_1}}\\right]\\frac{\\partial z_1}{\\partial \\omega_{10}} = $$\n",
        "$$= 2\\omega_{31}\\frac{\\sum_{i=1}^{N} \\left(z-y\\right)}{N}\\sigma\\left(z_1\\right)\\left[1-\\sigma\\left(z_1\\right)\\right]\\frac{\\partial z_1}{\\partial \\omega_{10}} = $$\n",
        "$$= 2\\omega_{31}\\frac{\\sum_{i=1}^{N} \\left(z-y\\right)}{N}\\sigma\\left(z_1\\right)\\left[1-\\sigma\\left(z_1\\right)\\right]\\frac{\\partial \\left(\\omega_{10}+\\omega_{11}x_1+\\omega_{12}x_2\\right)}{\\partial \\omega_{10}} = \n",
        "    2\\omega_{31}\\frac{\\sum_{i=1}^{N} \\left(z-y\\right)}{N}\\sigma\\left(z_1\\right)\\left[1-\\sigma\\left(z_1\\right)\\right] = $$\n",
        "\n",
        " \n",
        " \n",
        "$$\\frac{\\partial loss}{\\partial \\omega_{11}} = \n",
        "    \\frac{\\partial \\left(\\frac{\\sum_{i=1}^{N} \\left(z-y\\right)^2}{N}\\right)}{\\partial \\omega_{11}} = \n",
        "    2\\frac{\\sum_{i=1}^{N} \\left(z-y\\right)}{N}\\frac{\\partial \\left(z-y\\right)}{\\partial \\omega_{11}} = \n",
        "    2\\frac{\\sum_{i=1}^{N} \\left(z-y\\right)}{N}\\frac{\\partial z}{\\partial \\omega_{11}} = \n",
        "    2\\frac{\\sum_{i=1}^{N} \\left(z-y\\right)}{N}\\frac{\\partial \\left(\\omega_{30}+\\omega_{31}\\sigma_1+\\omega_{32}\\sigma_2\\right)}{\\partial \\omega_{11}} = $$\n",
        "$$= 2\\frac{\\sum_{i=1}^{N} \\left(z-y\\right)}{N}\\omega_{31}\\frac{\\partial \\sigma_1}{\\partial \\omega_{11}} = \n",
        "    2\\frac{\\sum_{i=1}^{N} \\left(z-y\\right)}{N}\\omega_{31}\\frac{\\partial \\left(\\frac{1}{1+e^{-z_1}}\\right)}{\\partial \\omega_{11}} = $$\n",
        "$$= 2\\omega_{31}\\frac{\\sum_{i=1}^{N} \\left(z-y\\right)}{N}\\frac{\\partial \\left(\\frac{1}{1+e^{-z_1}}\\right)}{\\partial \\omega_{11}} = \n",
        "    2\\omega_{31}\\frac{\\sum_{i=1}^{N} \\left(z-y\\right)}{N}\\frac{\\frac{\\partial 1}{\\partial \\omega_{11}}\\left(1+e^{-z_1}\\right)-1\\frac{\\partial \\left(1+e^{-z_1}\\right)}{\\partial \\omega_{11}}}{\\left(1+e^{-z_1}\\right)^2} = $$\n",
        "$$= 2\\omega_{31}\\frac{\\sum_{i=1}^{N} \\left(z-y\\right)}{N}\\frac{0-\\frac{\\partial \\left(1+e^{-z_1}\\right)}{\\partial \\omega_{11}}}{\\left(1+e^{-z_1}\\right)^2} = \n",
        "    -2\\omega_{31}\\frac{\\sum_{i=1}^{N} \\left(z-y\\right)}{N}\\frac{\\frac{\\partial \\left(1+e^{-z_1}\\right)}{\\partial \\omega_{11}}}{\\left(1+e^{-z_1}\\right)^2} = $$\n",
        "$$= -2\\omega_{31}\\frac{\\sum_{i=1}^{N} \\left(z-y\\right)}{N}\\frac{\\frac{\\partial 1}{\\partial \\omega_{11}}+\\frac{\\partial e^{-z_1}}{\\partial \\omega_{11}}}{\\left(1+e^{-z_1}\\right)^2} = \n",
        "    -2\\omega_{31}\\frac{\\sum_{i=1}^{N} \\left(z-y\\right)}{N}\\frac{0+\\frac{\\partial e^{-z_1}}{\\partial \\omega_{11}}}{\\left(1+e^{-z_1}\\right)^2} = $$\n",
        "$$= -2\\omega_{31}\\frac{\\sum_{i=1}^{N} \\left(z-y\\right)}{N}\\frac{\\frac{\\partial e^{-z_1}}{\\partial \\omega_{11}}}{\\left(1+e^{-z_1}\\right)^2} = \n",
        "    2\\omega_{31}\\frac{\\sum_{i=1}^{N} \\left(z-y\\right)}{N}\\frac{e^{-z_1}}{\\left(1+e^{-z_1}\\right)^2}\\frac{\\partial z_1}{\\partial \\omega_{11}} = $$\n",
        "$$= 2\\omega_{31}\\frac{\\sum_{i=1}^{N} \\left(z-y\\right)}{N}\\frac{1}{1+e^{-z_1}}\\left[\\frac{e^{-z_1}}{1+e^{-z_1}}\\right]\\frac{\\partial z_1}{\\partial \\omega_{11}} = \n",
        "    2\\omega_{31}\\frac{\\sum_{i=1}^{N} \\left(z-y\\right)}{N}\\frac{1}{1+e^{-z_1}}\\left[\\frac{1+e^{-z_1}-1}{1+e^{-z_1}}\\right]\\frac{\\partial z_1}{\\partial \\omega_{11}} = $$\n",
        "$$= 2\\omega_{31}\\frac{\\sum_{i=1}^{N} \\left(z-y\\right)}{N}\\frac{1}{1+e^{-z_1}}\\left[\\frac{1+e^{-z_1}}{1+e^{-z_1}}-\\frac{1}{1+e^{-z_1}}\\right]\\frac{\\partial z_1}{\\partial \\omega_{11}} = \n",
        "    2\\omega_{31}\\frac{\\sum_{i=1}^{N} \\left(z-y\\right)}{N}\\frac{1}{1+e^{-z_1}}\\left[1-\\frac{1}{1+e^{-z_1}}\\right]\\frac{\\partial z_1}{\\partial \\omega_{11}} = $$\n",
        "$$= 2\\omega_{31}\\frac{\\sum_{i=1}^{N} \\left(z-y\\right)}{N}\\sigma\\left(z_1\\right)\\left[1-\\sigma\\left(z_1\\right)\\right]\\frac{\\partial z_1}{\\partial \\omega_{11}} = $$\n",
        "$$= 2\\omega_{31}\\frac{\\sum_{i=1}^{N} \\left(z-y\\right)}{N}\\sigma\\left(z_1\\right)\\left[1-\\sigma\\left(z_1\\right)\\right]\\frac{\\partial \\left(\\omega_{10}+\\omega_{11}x_1+\\omega_{12}x_2\\right)}{\\partial \\omega_{11}} = \n",
        "    2\\omega_{31}\\frac{\\sum_{i=1}^{N} \\left(z-y\\right)}{N}\\sigma\\left(z_1\\right)\\left[1-\\sigma\\left(z_1\\right)\\right]x_1 = $$\n",
        "\n",
        " \n",
        " \n",
        "$$\\frac{\\partial loss}{\\partial \\omega_{12}} = \n",
        "    \\frac{\\partial \\left(\\frac{\\sum_{i=1}^{N} \\left(z-y\\right)^2}{N}\\right)}{\\partial \\omega_{12}} = \n",
        "    2\\frac{\\sum_{i=1}^{N} \\left(z-y\\right)}{N}\\frac{\\partial \\left(z-y\\right)}{\\partial \\omega_{12}} = \n",
        "    2\\frac{\\sum_{i=1}^{N} \\left(z-y\\right)}{N}\\frac{\\partial z}{\\partial \\omega_{12}} = \n",
        "    2\\frac{\\sum_{i=1}^{N} \\left(z-y\\right)}{N}\\frac{\\partial \\left(\\omega_{30}+\\omega_{31}\\sigma_1+\\omega_{32}\\sigma_2\\right)}{\\partial \\omega_{12}} = $$\n",
        "$$= 2\\frac{\\sum_{i=1}^{N} \\left(z-y\\right)}{N}\\omega_{31}\\frac{\\partial \\sigma_1}{\\partial \\omega_{12}} = \n",
        "    2\\frac{\\sum_{i=1}^{N} \\left(z-y\\right)}{N}\\omega_{31}\\frac{\\partial \\left(\\frac{1}{1+e^{-z_1}}\\right)}{\\partial \\omega_{12}} = $$\n",
        "$$= 2\\omega_{31}\\frac{\\sum_{i=1}^{N} \\left(z-y\\right)}{N}\\frac{\\partial \\left(\\frac{1}{1+e^{-z_1}}\\right)}{\\partial \\omega_{12}} = \n",
        "    2\\omega_{31}\\frac{\\sum_{i=1}^{N} \\left(z-y\\right)}{N}\\frac{\\frac{\\partial 1}{\\partial \\omega_{12}}\\left(1+e^{-z_1}\\right)-1\\frac{\\partial \\left(1+e^{-z_1}\\right)}{\\partial \\omega_{12}}}{\\left(1+e^{-z_1}\\right)^2} = $$\n",
        "$$= 2\\omega_{31}\\frac{\\sum_{i=1}^{N} \\left(z-y\\right)}{N}\\frac{0-\\frac{\\partial \\left(1+e^{-z_1}\\right)}{\\partial \\omega_{12}}}{\\left(1+e^{-z_1}\\right)^2} = \n",
        "    -2\\omega_{31}\\frac{\\sum_{i=1}^{N} \\left(z-y\\right)}{N}\\frac{\\frac{\\partial \\left(1+e^{-z_1}\\right)}{\\partial \\omega_{12}}}{\\left(1+e^{-z_1}\\right)^2} = $$\n",
        "$$= -2\\omega_{31}\\frac{\\sum_{i=1}^{N} \\left(z-y\\right)}{N}\\frac{\\frac{\\partial 1}{\\partial \\omega_{12}}+\\frac{\\partial e^{-z_1}}{\\partial \\omega_{12}}}{\\left(1+e^{-z_1}\\right)^2} = \n",
        "    -2\\omega_{31}\\frac{\\sum_{i=1}^{N} \\left(z-y\\right)}{N}\\frac{0+\\frac{\\partial e^{-z_1}}{\\partial \\omega_{12}}}{\\left(1+e^{-z_1}\\right)^2} = $$\n",
        "$$= -2\\omega_{31}\\frac{\\sum_{i=1}^{N} \\left(z-y\\right)}{N}\\frac{\\frac{\\partial e^{-z_1}}{\\partial \\omega_{12}}}{\\left(1+e^{-z_1}\\right)^2} = \n",
        "    2\\omega_{31}\\frac{\\sum_{i=1}^{N} \\left(z-y\\right)}{N}\\frac{e^{-z_1}}{\\left(1+e^{-z_1}\\right)^2}\\frac{\\partial z_1}{\\partial \\omega_{12}} = $$\n",
        "$$= 2\\omega_{31}\\frac{\\sum_{i=1}^{N} \\left(z-y\\right)}{N}\\frac{1}{1+e^{-z_1}}\\left[\\frac{e^{-z_1}}{1+e^{-z_1}}\\right]\\frac{\\partial z_1}{\\partial \\omega_{12}} = \n",
        "    2\\omega_{31}\\frac{\\sum_{i=1}^{N} \\left(z-y\\right)}{N}\\frac{1}{1+e^{-z_1}}\\left[\\frac{1+e^{-z_1}-1}{1+e^{-z_1}}\\right]\\frac{\\partial z_1}{\\partial \\omega_{12}} = $$\n",
        "$$= 2\\omega_{31}\\frac{\\sum_{i=1}^{N} \\left(z-y\\right)}{N}\\frac{1}{1+e^{-z_1}}\\left[\\frac{1+e^{-z_1}}{1+e^{-z_1}}-\\frac{1}{1+e^{-z_1}}\\right]\\frac{\\partial z_1}{\\partial \\omega_{12}} = \n",
        "    2\\omega_{31}\\frac{\\sum_{i=1}^{N} \\left(z-y\\right)}{N}\\frac{1}{1+e^{-z_1}}\\left[1-\\frac{1}{1+e^{-z_1}}\\right]\\frac{\\partial z_1}{\\partial \\omega_{12}} = $$\n",
        "$$= 2\\omega_{31}\\frac{\\sum_{i=1}^{N} \\left(z-y\\right)}{N}\\sigma\\left(z_1\\right)\\left[1-\\sigma\\left(z_1\\right)\\right]\\frac{\\partial z_1}{\\partial \\omega_{12}} = $$\n",
        "$$= 2\\omega_{31}\\frac{\\sum_{i=1}^{N} \\left(z-y\\right)}{N}\\sigma\\left(z_1\\right)\\left[1-\\sigma\\left(z_1\\right)\\right]\\frac{\\partial \\left(\\omega_{10}+\\omega_{11}x_1+\\omega_{12}x_2\\right)}{\\partial \\omega_{12}} = \n",
        "    2\\omega_{31}\\frac{\\sum_{i=1}^{N} \\left(z-y\\right)}{N}\\sigma\\left(z_1\\right)\\left[1-\\sigma\\left(z_1\\right)\\right]x_2 = $$\n",
        "\n",
        "\n",
        "**Calculo de las derivadas con respecto $\\omega_{2x}$**\n",
        "\n",
        "$$\\frac{\\partial loss}{\\partial \\omega_{20}} = \n",
        "    \\frac{\\partial \\left(\\frac{\\sum_{i=1}^{N} \\left(z-y\\right)^2}{N}\\right)}{\\partial \\omega_{20}} = \n",
        "    2\\frac{\\sum_{i=1}^{N} \\left(z-y\\right)}{N}\\frac{\\partial \\left(z-y\\right)}{\\partial \\omega_{20}} = \n",
        "    2\\frac{\\sum_{i=1}^{N} \\left(z-y\\right)}{N}\\frac{\\partial z}{\\partial \\omega_{20}} = \n",
        "    2\\frac{\\sum_{i=1}^{N} \\left(z-y\\right)}{N}\\frac{\\partial \\left(\\omega_{30}+\\omega_{31}\\sigma_1+\\omega_{32}\\sigma_2\\right)}{\\partial \\omega_{20}} = $$\n",
        "$$= 2\\frac{\\sum_{i=1}^{N} \\left(z-y\\right)}{N}\\omega_{32}\\frac{\\partial \\sigma_2}{\\partial \\omega_{20}} = \n",
        "    2\\frac{\\sum_{i=1}^{N} \\left(z-y\\right)}{N}\\omega_{32}\\frac{\\partial \\left(\\frac{1}{1+e^{-z_2}}\\right)}{\\partial \\omega_{20}} = $$\n",
        "$$= 2\\omega_{32}\\frac{\\sum_{i=1}^{N} \\left(z-y\\right)}{N}\\frac{\\partial \\left(\\frac{1}{1+e^{-z_2}}\\right)}{\\partial \\omega_{20}} = \n",
        "    2\\omega_{32}\\frac{\\sum_{i=1}^{N} \\left(z-y\\right)}{N}\\frac{\\frac{\\partial 1}{\\partial \\omega_{20}}\\left(1+e^{-z_2}\\right)-1\\frac{\\partial \\left(1+e^{-z_2}\\right)}{\\partial \\omega_{20}}}{\\left(1+e^{-z_2}\\right)^2} = $$\n",
        "$$= 2\\omega_{32}\\frac{\\sum_{i=1}^{N} \\left(z-y\\right)}{N}\\frac{0-\\frac{\\partial \\left(1+e^{-z_2}\\right)}{\\partial \\omega_{20}}}{\\left(1+e^{-z_2}\\right)^2} = \n",
        "    -2\\omega_{32}\\frac{\\sum_{i=1}^{N} \\left(z-y\\right)}{N}\\frac{\\frac{\\partial \\left(1+e^{-z_2}\\right)}{\\partial \\omega_{20}}}{\\left(1+e^{-z_2}\\right)^2} = $$\n",
        "$$= -2\\omega_{32}\\frac{\\sum_{i=1}^{N} \\left(z-y\\right)}{N}\\frac{\\frac{\\partial 1}{\\partial \\omega_{20}}+\\frac{\\partial e^{-z_2}}{\\partial \\omega_{20}}}{\\left(1+e^{-z_2}\\right)^2} = \n",
        "    -2\\omega_{32}\\frac{\\sum_{i=1}^{N} \\left(z-y\\right)}{N}\\frac{0+\\frac{\\partial e^{-z_2}}{\\partial \\omega_{20}}}{\\left(1+e^{-z_2}\\right)^2} = $$\n",
        "$$= -2\\omega_{32}\\frac{\\sum_{i=1}^{N} \\left(z-y\\right)}{N}\\frac{\\frac{\\partial e^{-z_2}}{\\partial \\omega_{20}}}{\\left(1+e^{-z_2}\\right)^2} = \n",
        "    2\\omega_{32}\\frac{\\sum_{i=1}^{N} \\left(z-y\\right)}{N}\\frac{e^{-z_2}}{\\left(1+e^{-z_2}\\right)^2}\\frac{\\partial z_2}{\\partial \\omega_{20}} = $$\n",
        "$$= 2\\omega_{32}\\frac{\\sum_{i=1}^{N} \\left(z-y\\right)}{N}\\frac{1}{1+e^{-z_2}}\\left[\\frac{e^{-z_2}}{1+e^{-z_2}}\\right]\\frac{\\partial z_2}{\\partial \\omega_{20}} = \n",
        "    2\\omega_{32}\\frac{\\sum_{i=1}^{N} \\left(z-y\\right)}{N}\\frac{1}{1+e^{-z_2}}\\left[\\frac{1+e^{-z_2}-1}{1+e^{-z_2}}\\right]\\frac{\\partial z_2}{\\partial \\omega_{20}} = $$\n",
        "$$= 2\\omega_{32}\\frac{\\sum_{i=1}^{N} \\left(z-y\\right)}{N}\\frac{1}{1+e^{-z_2}}\\left[\\frac{1+e^{-z_2}}{1+e^{-z_2}}-\\frac{1}{1+e^{-z_2}}\\right]\\frac{\\partial z_2}{\\partial \\omega_{20}} = \n",
        "    2\\omega_{32}\\frac{\\sum_{i=1}^{N} \\left(z-y\\right)}{N}\\frac{1}{1+e^{-z_2}}\\left[1-\\frac{1}{1+e^{-z_2}}\\right]\\frac{\\partial z_2}{\\partial \\omega_{20}} = $$\n",
        "$$= 2\\omega_{32}\\frac{\\sum_{i=1}^{N} \\left(z-y\\right)}{N}\\sigma\\left(z_2\\right)\\left[1-\\sigma\\left(z_2\\right)\\right]\\frac{\\partial z_2}{\\partial \\omega_{20}} = $$\n",
        "$$= 2\\omega_{32}\\frac{\\sum_{i=1}^{N} \\left(z-y\\right)}{N}\\sigma\\left(z_2\\right)\\left[1-\\sigma\\left(z_2\\right)\\right]\\frac{\\partial \\left(\\omega_{20}+\\omega_{21}x_1+\\omega_{22}x_2\\right)}{\\partial \\omega_{20}} = \n",
        "    2\\omega_{32}\\frac{\\sum_{i=1}^{N} \\left(z-y\\right)}{N}\\sigma\\left(z_2\\right)\\left[1-\\sigma\\left(z_2\\right)\\right] = $$\n",
        "\n",
        "\n",
        "\n",
        "$$\\frac{\\partial loss}{\\partial \\omega_{21}} = \n",
        "    \\frac{\\partial \\left(\\frac{\\sum_{i=1}^{N} \\left(z-y\\right)^2}{N}\\right)}{\\partial \\omega_{21}} = \n",
        "    2\\frac{\\sum_{i=1}^{N} \\left(z-y\\right)}{N}\\frac{\\partial \\left(z-y\\right)}{\\partial \\omega_{21}} = \n",
        "    2\\frac{\\sum_{i=1}^{N} \\left(z-y\\right)}{N}\\frac{\\partial z}{\\partial \\omega_{21}} = \n",
        "    2\\frac{\\sum_{i=1}^{N} \\left(z-y\\right)}{N}\\frac{\\partial \\left(\\omega_{30}+\\omega_{31}\\sigma_1+\\omega_{32}\\sigma_2\\right)}{\\partial \\omega_{21}} = $$\n",
        "$$= 2\\frac{\\sum_{i=1}^{N} \\left(z-y\\right)}{N}\\omega_{32}\\frac{\\partial \\sigma_2}{\\partial \\omega_{21}} = \n",
        "    2\\frac{\\sum_{i=1}^{N} \\left(z-y\\right)}{N}\\omega_{32}\\frac{\\partial \\left(\\frac{1}{1+e^{-z_2}}\\right)}{\\partial \\omega_{21}} = $$\n",
        "$$= 2\\omega_{32}\\frac{\\sum_{i=1}^{N} \\left(z-y\\right)}{N}\\frac{\\partial \\left(\\frac{1}{1+e^{-z_2}}\\right)}{\\partial \\omega_{21}} = \n",
        "    2\\omega_{32}\\frac{\\sum_{i=1}^{N} \\left(z-y\\right)}{N}\\frac{\\frac{\\partial 1}{\\partial \\omega_{21}}\\left(1+e^{-z_2}\\right)-1\\frac{\\partial \\left(1+e^{-z_2}\\right)}{\\partial \\omega_{21}}}{\\left(1+e^{-z_2}\\right)^2} = $$\n",
        "$$= 2\\omega_{32}\\frac{\\sum_{i=1}^{N} \\left(z-y\\right)}{N}\\frac{0-\\frac{\\partial \\left(1+e^{-z_2}\\right)}{\\partial \\omega_{21}}}{\\left(1+e^{-z_2}\\right)^2} = \n",
        "    -2\\omega_{32}\\frac{\\sum_{i=1}^{N} \\left(z-y\\right)}{N}\\frac{\\frac{\\partial \\left(1+e^{-z_2}\\right)}{\\partial \\omega_{21}}}{\\left(1+e^{-z_2}\\right)^2} = $$\n",
        "$$= -2\\omega_{32}\\frac{\\sum_{i=1}^{N} \\left(z-y\\right)}{N}\\frac{\\frac{\\partial 1}{\\partial \\omega_{21}}+\\frac{\\partial e^{-z_2}}{\\partial \\omega_{21}}}{\\left(1+e^{-z_2}\\right)^2} = \n",
        "    -2\\omega_{32}\\frac{\\sum_{i=1}^{N} \\left(z-y\\right)}{N}\\frac{0+\\frac{\\partial e^{-z_2}}{\\partial \\omega_{21}}}{\\left(1+e^{-z_2}\\right)^2} = $$\n",
        "$$= -2\\omega_{32}\\frac{\\sum_{i=1}^{N} \\left(z-y\\right)}{N}\\frac{\\frac{\\partial e^{-z_2}}{\\partial \\omega_{21}}}{\\left(1+e^{-z_2}\\right)^2} = \n",
        "    2\\omega_{32}\\frac{\\sum_{i=1}^{N} \\left(z-y\\right)}{N}\\frac{e^{-z_2}}{\\left(1+e^{-z_2}\\right)^2}\\frac{\\partial z_2}{\\partial \\omega_{21}} = $$\n",
        "$$= 2\\omega_{32}\\frac{\\sum_{i=1}^{N} \\left(z-y\\right)}{N}\\frac{1}{1+e^{-z_2}}\\left[\\frac{e^{-z_2}}{1+e^{-z_2}}\\right]\\frac{\\partial z_2}{\\partial \\omega_{21}} = \n",
        "    2\\omega_{32}\\frac{\\sum_{i=1}^{N} \\left(z-y\\right)}{N}\\frac{1}{1+e^{-z_2}}\\left[\\frac{1+e^{-z_2}-1}{1+e^{-z_2}}\\right]\\frac{\\partial z_2}{\\partial \\omega_{21}} = $$\n",
        "$$= 2\\omega_{32}\\frac{\\sum_{i=1}^{N} \\left(z-y\\right)}{N}\\frac{1}{1+e^{-z_2}}\\left[\\frac{1+e^{-z_2}}{1+e^{-z_2}}-\\frac{1}{1+e^{-z_2}}\\right]\\frac{\\partial z_2}{\\partial \\omega_{21}} = \n",
        "    2\\omega_{32}\\frac{\\sum_{i=1}^{N} \\left(z-y\\right)}{N}\\frac{1}{1+e^{-z_2}}\\left[1-\\frac{1}{1+e^{-z_2}}\\right]\\frac{\\partial z_2}{\\partial \\omega_{21}} = $$\n",
        "$$= 2\\omega_{32}\\frac{\\sum_{i=1}^{N} \\left(z-y\\right)}{N}\\sigma\\left(z_2\\right)\\left[1-\\sigma\\left(z_2\\right)\\right]\\frac{\\partial z_2}{\\partial \\omega_{21}} = $$\n",
        "$$= 2\\omega_{32}\\frac{\\sum_{i=1}^{N} \\left(z-y\\right)}{N}\\sigma\\left(z_2\\right)\\left[1-\\sigma\\left(z_2\\right)\\right]\\frac{\\partial \\left(\\omega_{20}+\\omega_{21}x_1+\\omega_{22}x_2\\right)}{\\partial \\omega_{21}} = \n",
        "    2\\omega_{32}\\frac{\\sum_{i=1}^{N} \\left(z-y\\right)}{N}\\sigma\\left(z_2\\right)\\left[1-\\sigma\\left(z_2\\right)\\right]x_1 = $$\n",
        "\n",
        "\n",
        "\n",
        "$$\\frac{\\partial loss}{\\partial \\omega_{22}} = \n",
        "    \\frac{\\partial \\left(\\frac{\\sum_{i=1}^{N} \\left(z-y\\right)^2}{N}\\right)}{\\partial \\omega_{22}} = \n",
        "    2\\frac{\\sum_{i=1}^{N} \\left(z-y\\right)}{N}\\frac{\\partial \\left(z-y\\right)}{\\partial \\omega_{22}} = \n",
        "    2\\frac{\\sum_{i=1}^{N} \\left(z-y\\right)}{N}\\frac{\\partial z}{\\partial \\omega_{22}} = \n",
        "    2\\frac{\\sum_{i=1}^{N} \\left(z-y\\right)}{N}\\frac{\\partial \\left(\\omega_{30}+\\omega_{31}\\sigma_1+\\omega_{32}\\sigma_2\\right)}{\\partial \\omega_{22}} = $$\n",
        "$$= 2\\frac{\\sum_{i=1}^{N} \\left(z-y\\right)}{N}\\omega_{32}\\frac{\\partial \\sigma_2}{\\partial \\omega_{22}} = \n",
        "    2\\frac{\\sum_{i=1}^{N} \\left(z-y\\right)}{N}\\omega_{32}\\frac{\\partial \\left(\\frac{1}{1+e^{-z_2}}\\right)}{\\partial \\omega_{22}} = $$\n",
        "$$= 2\\omega_{32}\\frac{\\sum_{i=1}^{N} \\left(z-y\\right)}{N}\\frac{\\partial \\left(\\frac{1}{1+e^{-z_2}}\\right)}{\\partial \\omega_{22}} = \n",
        "    2\\omega_{32}\\frac{\\sum_{i=1}^{N} \\left(z-y\\right)}{N}\\frac{\\frac{\\partial 1}{\\partial \\omega_{22}}\\left(1+e^{-z_2}\\right)-1\\frac{\\partial \\left(1+e^{-z_2}\\right)}{\\partial \\omega_{22}}}{\\left(1+e^{-z_2}\\right)^2} = $$\n",
        "$$= 2\\omega_{32}\\frac{\\sum_{i=1}^{N} \\left(z-y\\right)}{N}\\frac{0-\\frac{\\partial \\left(1+e^{-z_2}\\right)}{\\partial \\omega_{22}}}{\\left(1+e^{-z_2}\\right)^2} = \n",
        "    -2\\omega_{32}\\frac{\\sum_{i=1}^{N} \\left(z-y\\right)}{N}\\frac{\\frac{\\partial \\left(1+e^{-z_2}\\right)}{\\partial \\omega_{22}}}{\\left(1+e^{-z_2}\\right)^2} = $$\n",
        "$$= -2\\omega_{32}\\frac{\\sum_{i=1}^{N} \\left(z-y\\right)}{N}\\frac{\\frac{\\partial 1}{\\partial \\omega_{22}}+\\frac{\\partial e^{-z_2}}{\\partial \\omega_{22}}}{\\left(1+e^{-z_2}\\right)^2} = \n",
        "    -2\\omega_{32}\\frac{\\sum_{i=1}^{N} \\left(z-y\\right)}{N}\\frac{0+\\frac{\\partial e^{-z_2}}{\\partial \\omega_{22}}}{\\left(1+e^{-z_2}\\right)^2} = $$\n",
        "$$= -2\\omega_{32}\\frac{\\sum_{i=1}^{N} \\left(z-y\\right)}{N}\\frac{\\frac{\\partial e^{-z_2}}{\\partial \\omega_{22}}}{\\left(1+e^{-z_2}\\right)^2} = \n",
        "    2\\omega_{32}\\frac{\\sum_{i=1}^{N} \\left(z-y\\right)}{N}\\frac{e^{-z_2}}{\\left(1+e^{-z_2}\\right)^2}\\frac{\\partial z_2}{\\partial \\omega_{22}} = $$\n",
        "$$= 2\\omega_{32}\\frac{\\sum_{i=1}^{N} \\left(z-y\\right)}{N}\\frac{1}{1+e^{-z_2}}\\left[\\frac{e^{-z_2}}{1+e^{-z_2}}\\right]\\frac{\\partial z_2}{\\partial \\omega_{22}} = \n",
        "    2\\omega_{32}\\frac{\\sum_{i=1}^{N} \\left(z-y\\right)}{N}\\frac{1}{1+e^{-z_2}}\\left[\\frac{1+e^{-z_2}-1}{1+e^{-z_2}}\\right]\\frac{\\partial z_2}{\\partial \\omega_{22}} = $$\n",
        "$$= 2\\omega_{32}\\frac{\\sum_{i=1}^{N} \\left(z-y\\right)}{N}\\frac{1}{1+e^{-z_2}}\\left[\\frac{1+e^{-z_2}}{1+e^{-z_2}}-\\frac{1}{1+e^{-z_2}}\\right]\\frac{\\partial z_2}{\\partial \\omega_{22}} = \n",
        "    2\\omega_{32}\\frac{\\sum_{i=1}^{N} \\left(z-y\\right)}{N}\\frac{1}{1+e^{-z_2}}\\left[1-\\frac{1}{1+e^{-z_2}}\\right]\\frac{\\partial z_2}{\\partial \\omega_{22}} = $$\n",
        "$$= 2\\omega_{32}\\frac{\\sum_{i=1}^{N} \\left(z-y\\right)}{N}\\sigma\\left(z_2\\right)\\left[1-\\sigma\\left(z_2\\right)\\right]\\frac{\\partial z_2}{\\partial \\omega_{22}} = $$\n",
        "$$= 2\\omega_{32}\\frac{\\sum_{i=1}^{N} \\left(z-y\\right)}{N}\\sigma\\left(z_2\\right)\\left[1-\\sigma\\left(z_2\\right)\\right]\\frac{\\partial \\left(\\omega_{20}+\\omega_{21}x_1+\\omega_{22}x_2\\right)}{\\partial \\omega_{22}} = \n",
        "    2\\omega_{32}\\frac{\\sum_{i=1}^{N} \\left(z-y\\right)}{N}\\sigma\\left(z_2\\right)\\left[1-\\sigma\\left(z_2\\right)\\right]x_2 = $$\n",
        "\n",
        "\n",
        "\n",
        "**Calculo de las derivadas con respecto $\\omega_{3x}$**\n",
        "\n",
        "$$\\frac{\\partial loss}{\\partial \\omega_{30}} = \n",
        "    \\frac{\\partial \\left(\\frac{\\sum_{i=1}^{N} \\left(z-y\\right)^2}{N}\\right)}{\\partial \\omega_{30}} = \n",
        "    2\\frac{\\sum_{i=1}^{N} \\left(z-y\\right)}{N}\\frac{\\partial \\left(z-y\\right)}{\\partial \\omega_{30}} = \n",
        "    2\\frac{\\sum_{i=1}^{N} \\left(z-y\\right)}{N}\\frac{\\partial z}{\\partial \\omega_{30}} = $$\n",
        "$$2\\frac{\\sum_{i=1}^{N} \\left(z-y\\right)}{N}\\frac{\\partial \\left(\\omega_{30}+\\omega_{31}\\sigma_1+\\omega_{32}\\sigma_2\\right)}{\\partial \\omega_{30}} = \n",
        "    2\\frac{\\sum_{i=1}^{N} \\left(z-y\\right)}{N} $$\n",
        "\n",
        "\n",
        "\n",
        "$$\\frac{\\partial loss}{\\partial \\omega_{31}} = \n",
        "    \\frac{\\partial \\left(\\frac{\\sum_{i=1}^{N} \\left(z-y\\right)^2}{N}\\right)}{\\partial \\omega_{31}} = \n",
        "    2\\frac{\\sum_{i=1}^{N} \\left(z-y\\right)}{N}\\frac{\\partial \\left(z-y\\right)}{\\partial \\omega_{31}} = \n",
        "    2\\frac{\\sum_{i=1}^{N} \\left(z-y\\right)}{N}\\frac{\\partial z}{\\partial \\omega_{31}} = $$\n",
        "$$2\\frac{\\sum_{i=1}^{N} \\left(z-y\\right)}{N}\\frac{\\partial \\left(\\omega_{30}+\\omega_{31}\\sigma_1+\\omega_{32}\\sigma_2\\right)}{\\partial \\omega_{31}} = \n",
        "    2\\frac{\\sum_{i=1}^{N} \\left(z-y\\right)}{N}\\sigma_1 $$\n",
        "\n",
        "\n",
        "\n",
        "$$\\frac{\\partial loss}{\\partial \\omega_{32}} = \n",
        "    \\frac{\\partial \\left(\\frac{\\sum_{i=1}^{N} \\left(z-y\\right)^2}{N}\\right)}{\\partial \\omega_{32}} = \n",
        "    2\\frac{\\sum_{i=1}^{N} \\left(z-y\\right)}{N}\\frac{\\partial \\left(z-y\\right)}{\\partial \\omega_{32}} = \n",
        "    2\\frac{\\sum_{i=1}^{N} \\left(z-y\\right)}{N}\\frac{\\partial z}{\\partial \\omega_{32}} = $$\n",
        "$$2\\frac{\\sum_{i=1}^{N} \\left(z-y\\right)}{N}\\frac{\\partial \\left(\\omega_{30}+\\omega_{31}\\sigma_1+\\omega_{32}\\sigma_2\\right)}{\\partial \\omega_{32}} = \n",
        "    2\\frac{\\sum_{i=1}^{N} \\left(z-y\\right)}{N}\\sigma_2 $$"
      ]
    },
    {
      "cell_type": "code",
      "execution_count": 60,
      "metadata": {},
      "outputs": [],
      "source": [
        "def gradiente_w10 (z, y, sigma1, w31):\n",
        "    # Función que calcula el valor del gradiente de la función de pérdida con respecto w10 en un punto\n",
        "    n = len(y)\n",
        "    return 2*w31*np.sum((z - y)*sigma1*(1-sigma1))/n\n",
        "\n",
        "def gradiente_w11 (z, y, sigma1, w31, x1):\n",
        "    # Función que calcula el valor del gradiente de la función de pérdida con respecto w11 en un punto\n",
        "    n = len(y)\n",
        "    return 2*w31*np.sum((z - y)*sigma1*(1-sigma1)*x1)/n\n",
        "    \n",
        "\n",
        "def gradiente_w12 (z, y, sigma1, w31, x2):\n",
        "    # Función que calcula el valor del gradiente de la función de pérdida con respecto w12 en un punto\n",
        "    n = len(y)\n",
        "    return 2*w31*np.sum((z - y)*sigma1*(1-sigma1)*x2)/n\n",
        "\n",
        "\n",
        "\n",
        "def gradiente_w20 (z, y, sigma2, w32):\n",
        "    # Función que calcula el valor del gradiente de la función de pérdida con respecto w20 en un punto\n",
        "    n = len(y)\n",
        "    return 2*w32*np.sum((z - y)*sigma2*(1-sigma2))/n\n",
        "\n",
        "def gradiente_w21 (z, y, sigma2, w32, x1):\n",
        "    # Función que calcula el valor del gradiente de la función de pérdida con respecto w21 en un punto\n",
        "    n = len(y)\n",
        "    return 2*w32*np.sum((z - y)*sigma2*(1-sigma2)*x1)/n\n",
        "    \n",
        "\n",
        "def gradiente_w22 (z, y, sigma2, w32, x2):\n",
        "    # Función que calcula el valor del gradiente de la función de pérdida con respecto w22 en un punto\n",
        "    n = len(y)\n",
        "    return 2*w32*np.sum((z - y)*sigma2*(1-sigma2)*x2)/n\n",
        "\n",
        "\n",
        "\n",
        "def gradiente_w30 (z, y):\n",
        "    # Función que calcula el valor del gradiente de la función de pérdida con respecto w30 en un punto\n",
        "    n = len(y)\n",
        "    return 2*np.sum((z - y))/n\n",
        "\n",
        "def gradiente_w31 (z, y, sigma1):\n",
        "    # Función que calcula el valor del gradiente de la función de pérdida con respecto w31 en un punto\n",
        "    n = len(y)\n",
        "    return 2*np.sum((z - y)*sigma1)/n\n",
        "    \n",
        "\n",
        "def gradiente_w32 (z, y, sigma2):\n",
        "    # Función que calcula el valor del gradiente de la función de pérdida con respecto w32 en un punto\n",
        "    n = len(y)\n",
        "    return 2*w32*np.sum((z - y)*sigma2)/n"
      ]
    },
    {
      "cell_type": "markdown",
      "metadata": {},
      "source": [
        "## Bucle de entrenamiento"
      ]
    },
    {
      "cell_type": "markdown",
      "metadata": {},
      "source": [
        "Una vez que sabemos calcular los gradientes actualizamos los parámetros $\\omega_0$, $\\omega_1$ y $\\omega_2$ mediante las siguientes fórmulas\n",
        "\n",
        "$$\\omega_{10}' = \\omega_{10} - \\alpha\\frac{\\partial loss}{\\partial \\omega_{10}}$$\n",
        "$$\\omega_{11}' = \\omega_{11} - \\alpha\\frac{\\partial loss}{\\partial \\omega_{11}}$$\n",
        "$$\\omega_{12}' = \\omega_{12} - \\alpha\\frac{\\partial loss}{\\partial \\omega_{12}}$$\n",
        "\n",
        "$$\\omega_{20}' = \\omega_{20} - \\alpha\\frac{\\partial loss}{\\partial \\omega_{20}}$$\n",
        "$$\\omega_{21}' = \\omega_{21} - \\alpha\\frac{\\partial loss}{\\partial \\omega_{21}}$$\n",
        "$$\\omega_{22}' = \\omega_{22} - \\alpha\\frac{\\partial loss}{\\partial \\omega_{22}}$$\n",
        "\n",
        "$$\\omega_{30}' = \\omega_{30} - \\alpha\\frac{\\partial loss}{\\partial \\omega_{30}}$$\n",
        "$$\\omega_{31}' = \\omega_{31} - \\alpha\\frac{\\partial loss}{\\partial \\omega_{31}}$$\n",
        "$$\\omega_{32}' = \\omega_{32} - \\alpha\\frac{\\partial loss}{\\partial \\omega_{32}}$$\n",
        "\n",
        "Recordemos que $\\alpha$ es la tasa de aprendizaje o learning rate, que determina la velocidad a la que va a aprender la red"
      ]
    },
    {
      "cell_type": "code",
      "execution_count": 61,
      "metadata": {},
      "outputs": [
        {
          "name": "stdout",
          "output_type": "stream",
          "text": [
            "i=600: error=0.250, w10=0.279, w11=0.491, w12=0.128, w20=0.338, w21=0.041, w22=0.015, w30=0.279, w31=0.097, w32=0.304\n",
            "i=1200: error=0.250, w10=0.290, w11=0.502, w12=0.182, w20=0.337, w21=0.013, w22=0.010, w30=0.290, w31=0.115, w32=0.302\n",
            "i=1800: error=0.250, w10=0.309, w11=0.528, w12=0.257, w20=0.335, w21=-0.020, w22=-0.006, w30=0.309, w31=0.155, w32=0.298\n",
            "i=2400: error=0.249, w10=0.346, w11=0.589, w12=0.381, w20=0.332, w21=-0.067, w22=-0.039, w30=0.346, w31=0.229, w32=0.292\n",
            "i=3000: error=0.247, w10=0.421, w11=0.749, w12=0.618, w20=0.327, w21=-0.144, w22=-0.105, w30=0.421, w31=0.372, w32=0.286\n",
            "i=3600: error=0.235, w10=0.533, w11=1.188, w12=1.129, w20=0.323, w21=-0.289, w22=-0.243, w30=0.533, w31=0.686, w32=0.297\n",
            "i=4200: error=0.196, w10=0.445, w11=1.996, w12=1.972, w20=0.384, w21=-0.579, w22=-0.534, w30=0.445, w31=1.232, w32=0.482\n",
            "i=4800: error=0.104, w10=-0.140, w11=2.873, w12=2.853, w20=1.008, w21=-1.032, w22=-1.017, w30=-0.140, w31=1.836, w32=1.547\n",
            "i=5400: error=0.007, w10=-0.855, w11=3.511, w12=3.498, w20=2.026, w21=-1.518, w22=-1.515, w30=-0.855, w31=2.454, w32=2.714\n",
            "i=6000: error=0.000, w10=-1.000, w11=3.651, w12=3.640, w20=2.283, w21=-1.655, w22=-1.652, w30=-1.000, w31=2.617, w32=2.960\n"
          ]
        }
      ],
      "source": [
        "lr = 10**-1 # Tasa de aprendizaje o learning rate\n",
        "steps = 6000  # Numero de veces que se realiza el bucle de enrtenamiento\n",
        "\n",
        "# Calculamos los valores que obtiene la red neuronal\n",
        "z1 = w10 + w11*x1 + w12*x2\n",
        "sigma1 = sigmoid(z1)\n",
        "z2 = w20 + w21*x1 + w22*x2\n",
        "sigma2 = sigmoid(z2)\n",
        "z = w30 + w31*sigma1 + w32*sigma2\n",
        "\n",
        "# Matrices donde se guardarán los pesos\n",
        "Ws10 = np.empty(steps)\n",
        "Ws11 = np.empty(steps)\n",
        "Ws12 = np.empty(steps)\n",
        "Ws20 = np.empty(steps)\n",
        "Ws21 = np.empty(steps)\n",
        "Ws22 = np.empty(steps)\n",
        "Ws30 = np.empty(steps)\n",
        "Ws31 = np.empty(steps)\n",
        "Ws32 = np.empty(steps)\n",
        "\n",
        "for i in range(steps):\n",
        "    # Calculamos los gradientes\n",
        "    dl_w10 = gradiente_w10(z, y, sigma1, w31)\n",
        "    dl_w11 = gradiente_w11(z, y, sigma1, w31, x1)\n",
        "    dl_w12 = gradiente_w12(z, y, sigma1, w31, x2)\n",
        "    dl_w20 = gradiente_w20(z, y, sigma2, w32)\n",
        "    dl_w21 = gradiente_w21(z, y, sigma2, w32, x1)\n",
        "    dl_w22 = gradiente_w22(z, y, sigma2, w32, x2)\n",
        "    dl_w30 = gradiente_w30(z, y)\n",
        "    dl_w31 = gradiente_w31(z, y, sigma1)\n",
        "    dl_w32 = gradiente_w32(z, y, sigma2)\n",
        "\n",
        "    # Corregimos el valor de a y b\n",
        "    w10 = w10 - lr*dl_w10\n",
        "    w11 = w11 - lr*dl_w11\n",
        "    w12 = w12 - lr*dl_w12\n",
        "    w20 = w20 - lr*dl_w20\n",
        "    w21 = w21 - lr*dl_w21\n",
        "    w22 = w22 - lr*dl_w22\n",
        "    w30 = w30 - lr*dl_w30\n",
        "    w31 = w31 - lr*dl_w31\n",
        "    w32 = w32 - lr*dl_w32\n",
        "\n",
        "    # Calculamos los nuevos valores que obtiene la red neuronal\n",
        "    z1 = w10 + w11*x1 + w12*x2\n",
        "    sigma1 = sigmoid(z1)\n",
        "    z2 = w20 + w21*x1 + w22*x2\n",
        "    sigma2 = sigmoid(z2)\n",
        "    z = w30 + w31*sigma1 + w32*sigma2\n",
        "\n",
        "    # Obtenemos el error\n",
        "    error = loss(y, z)\n",
        "\n",
        "    # Guardamos los valores para luego ver la evolución del entrenamiento en una gráfica\n",
        "    Ws10[i] = w10\n",
        "    Ws11[i] = w11\n",
        "    Ws12[i] = w12\n",
        "    Ws20[i] = w20\n",
        "    Ws21[i] = w21\n",
        "    Ws22[i] = w22\n",
        "    Ws30[i] = w30\n",
        "    Ws31[i] = w31\n",
        "    Ws32[i] = w32\n",
        "\n",
        "    # Imprimimos la evolución del entrenamiento\n",
        "    if (i+1)%(600) == 0:\n",
        "        print(f\"i={i+1}: error={error:0.3f}, w10={w10:0.3f}, w11={w11:0.3f}, w12={w12:0.3f}, w20={w20:0.3f}, w21={w21:0.3f}, w22={w22:0.3f}, \\\n",
        "w30={w10:0.3f}, w31={w31:0.3f}, w32={w32:0.3f}\")"
      ]
    },
    {
      "cell_type": "markdown",
      "metadata": {},
      "source": [
        "Vamos a ver cómo es la salida de nuestra neurona una vez la hemos entrenado"
      ]
    },
    {
      "cell_type": "code",
      "execution_count": 62,
      "metadata": {},
      "outputs": [
        {
          "name": "stdout",
          "output_type": "stream",
          "text": [
            "z: [0.00742005 0.99193161 0.99192854 0.01159881], z_bin: [0 1 1 0]\n",
            "y: [0. 1. 1. 0.]\n"
          ]
        }
      ],
      "source": [
        "z1 = w10 + w11*x1 + w12*x2\n",
        "sigma1 = sigmoid(z1)\n",
        "z2 = w20 + w21*x1 + w22*x2\n",
        "sigma2 = sigmoid(z2)\n",
        "z = w30 + w31*sigma1 + w32*sigma2\n",
        "\n",
        "# Si el valor predicho es mayor que 0.5 se considera la salida un 1, si no un 0\n",
        "z_bin = (z>0.5).astype(int)\n",
        "\n",
        "print(f\"z: {z}, z_bin: {z_bin}\")\n",
        "print(f\"y: {y}\")"
      ]
    },
    {
      "cell_type": "code",
      "execution_count": 63,
      "metadata": {},
      "outputs": [
        {
          "data": {
            "text/plain": [
              "Text(0.5, 1.0, 'z3')"
            ]
          },
          "execution_count": 63,
          "metadata": {},
          "output_type": "execute_result"
        },
        {
          "data": {
            "image/png": "[encoded data removed]",
            "text/plain": [
              "<Figure size 1440x360 with 3 Axes>"
            ]
          },
          "metadata": {
            "needs_background": "light"
          },
          "output_type": "display_data"
        }
      ],
      "source": [
        "fig, (ax1, ax2, ax3) = plt.subplots(1,3, figsize=(20,5))\n",
        "\n",
        "# Se crean dos vectores con todos los posibles valores de entrada\n",
        "max_axis = 1.1\n",
        "min_axis = -0.1\n",
        "axes = [min_axis, max_axis, min_axis, max_axis]\n",
        "xx1, xx2 = np.meshgrid(\n",
        "    np.linspace(axes[0], axes[1], 500).reshape(-1, 1),\n",
        "    np.linspace(axes[2], axes[3], 500).reshape(-1, 1),\n",
        ")\n",
        "\n",
        "# all_x1 y all_x2 son matrices de tamaño 500x500, se aplanan\n",
        "X1_new = np.c_[xx1.ravel()]\n",
        "X2_new = np.c_[xx2.ravel()]\n",
        "\n",
        "# Se calculan las posibles salidas\n",
        "z1 = w10 + w11*X1_new + w12*X2_new\n",
        "sigma1 = sigmoid(z1)\n",
        "z2 = w20 + w21*X1_new + w22*X2_new\n",
        "sigma2 = sigmoid(z2)\n",
        "all_z_predict = w30 + w31*sigma1 + w32*sigma2\n",
        "\n",
        "# Si el valor predicho es mayor que 0.5 se considera la salida un 1, si no un 0\n",
        "all_z_predict = (all_z_predict>0.5).astype(int)\n",
        "z1 = (z1>0.5).astype(int)\n",
        "z2 = (z2>0.5).astype(int)\n",
        "\n",
        "# z_predict es un array de 250000x1, se redimensiona en forma de matriz de 500x500\n",
        "all_z_predict = all_z_predict.reshape(xx1.shape)\n",
        "z1 = z1.reshape(xx1.shape)\n",
        "z2 = z2.reshape(xx1.shape)\n",
        "\n",
        "# Se dibujan las salidas predichas por la red de todas las posibles entradas creadas\n",
        "colormap1 = ListedColormap(['#23F99B', '#F92377'])\n",
        "colormap2 = ListedColormap(['#149691', '#e16fa2'])\n",
        "ax1.contourf(xx1, xx2, z1, cmap=colormap1)\n",
        "ax2.contourf(xx1, xx2, z2, cmap=colormap1)\n",
        "ax3.contourf(xx1, xx2, all_z_predict, cmap=colormap2)\n",
        "\n",
        "# Se representan los cuatro puntos de la salida de la puerta lógica\n",
        "ax1.scatter(x1[0], x2[0], c='blue')\n",
        "ax1.scatter(x1[3], x2[3], c='blue')\n",
        "ax1.scatter(x1[1:3], x2[1:3], c='red')\n",
        "ax2.scatter(x1[0], x2[0], c='blue')\n",
        "ax2.scatter(x1[3], x2[3], c='blue')\n",
        "ax2.scatter(x1[1:3], x2[1:3], c='red')\n",
        "ax3.scatter(x1[0], x2[0], c='blue')\n",
        "ax3.scatter(x1[3], x2[3], c='blue')\n",
        "ax3.scatter(x1[1:3], x2[1:3], c='red')\n",
        "\n",
        "# Se termina de configurar la figura\n",
        "ax1.set_xlabel('x1')\n",
        "ax1.set_ylabel('x2  ', rotation=0)\n",
        "ax1.set_title('z1')\n",
        "ax2.set_xlabel('x1')\n",
        "ax2.set_ylabel('x2  ', rotation=0)\n",
        "ax2.set_title('z2')\n",
        "ax3.set_xlabel('x1')\n",
        "ax3.set_ylabel('x2  ', rotation=0)\n",
        "ax3.set_title('z3')"
      ]
    },
    {
      "cell_type": "code",
      "execution_count": 64,
      "metadata": {},
      "outputs": [
        {
          "name": "stderr",
          "output_type": "stream",
          "text": [
            "MovieWriter imagemagick unavailable; using Pillow instead.\n"
          ]
        }
      ],
      "source": [
        "from matplotlib.animation import FuncAnimation\n",
        "\n",
        "# Creamos la gráfica inicial\n",
        "fig, (ax1, ax2, ax3) = plt.subplots(1,3, figsize=(20,5))\n",
        "fig.set_tight_layout(True)\n",
        "ax1.set_xlabel('x1')\n",
        "ax1.set_ylabel('x2  ', rotation=0)\n",
        "ax1.set_title('z1')\n",
        "ax2.set_xlabel('x1')\n",
        "ax2.set_ylabel('x2  ', rotation=0)\n",
        "ax2.set_title('z2')\n",
        "ax3.set_xlabel('x1')\n",
        "ax3.set_ylabel('x2  ', rotation=0)\n",
        "ax3.set_title('z3')\n",
        "\n",
        "# Se dibujan los datos que persistiran en toda la evolución de la gráfica\n",
        "ax1.scatter(x1[0], x2[0], c='blue')\n",
        "ax1.scatter(x1[3], x2[3], c='blue')\n",
        "ax1.scatter(x1[1:3], x2[1:3], c='red')\n",
        "ax2.scatter(x1[0], x2[0], c='blue')\n",
        "ax2.scatter(x1[3], x2[3], c='blue')\n",
        "ax2.scatter(x1[1:3], x2[1:3], c='red')\n",
        "ax3.scatter(x1[0], x2[0], c='blue')\n",
        "ax3.scatter(x1[3], x2[3], c='blue')\n",
        "ax3.scatter(x1[1:3], x2[1:3], c='red')\n",
        "\n",
        "# Se dibuja el el fondo que irán cambiando durante el entrenamiento\n",
        "max_axis = 1.1\n",
        "min_axis = -0.1\n",
        "axes = [min_axis, max_axis, min_axis, max_axis]\n",
        "xx1, xx2 = np.meshgrid(\n",
        "    np.linspace(axes[0], axes[1], 500).reshape(-1, 1),\n",
        "    np.linspace(axes[2], axes[3], 500).reshape(-1, 1),\n",
        ")\n",
        "X1_new = np.c_[xx1.ravel()]\n",
        "X2_new = np.c_[xx2.ravel()]\n",
        "all_z1_predict = w10 + w11*X1_new + w12*X2_new\n",
        "all_sigmas1_predict = sigmoid(all_z1_predict)\n",
        "all_z2_predict = w20 + w21*X1_new + w22*X2_new\n",
        "all_sigmas2_predict = sigmoid(all_z2_predict)\n",
        "all_z_predict = w30 + w31*all_sigmas1_predict + w32*all_sigmas2_predict\n",
        "\n",
        "\n",
        "# Si el valor predicho es mayor que 0.5 se considera la salida un 1, si no un 0\n",
        "all_z1_predict = (all_z1_predict>0.5).astype(int)\n",
        "all_z2_predict = (all_z2_predict>0.5).astype(int)\n",
        "all_z_predict = (all_z_predict>0.5).astype(int)\n",
        "\n",
        "# z_predict es un array de 250000x1, se redimensiona en forma de matriz de 500x500\n",
        "all_z1_predict = all_z1_predict.reshape(xx1.shape)\n",
        "all_z2_predict = all_z2_predict.reshape(xx1.shape)\n",
        "all_z_predict = all_z_predict.reshape(xx1.shape)\n",
        "\n",
        "# Se dibujan las salidas predichas por la red de todas las posibles entradas creadas\n",
        "colormap1 = ListedColormap(['#23F99B', '#F92377'])\n",
        "colormap2 = ListedColormap(['#149691', '#e16fa2'])\n",
        "fondo1 = ax1.contourf(xx1, xx2, all_z1_predict, cmap=colormap1)\n",
        "fondo2 = ax2.contourf(xx1, xx2, all_z2_predict, cmap=colormap1)\n",
        "fondo3 = ax3.contourf(xx1, xx2, all_z_predict, cmap=colormap2)\n",
        "\n",
        "# Se dibuja un título\n",
        "fontsize = 12\n",
        "titulo = fig.suptitle(f'step: {0}', fontsize=fontsize)\n",
        "\n",
        "# Se define la función que va a modificar la gráfica con la evolución del entrenamiento\n",
        "def update(i):\n",
        "    # Se actualiza el fondo\n",
        "    all_z1_predict = Ws10[i] + Ws11[i]*X1_new + Ws12[i]*X2_new\n",
        "    all_sigmas1_predict = sigmoid(all_z1_predict)\n",
        "    all_z2_predict = Ws20[i] + Ws21[i]*X1_new + Ws22[i]*X2_new\n",
        "    all_sigmas2_predict = sigmoid(all_z2_predict)\n",
        "    all_z_predict = Ws30[i] + Ws31[i]*all_sigmas1_predict + Ws32[i]*all_sigmas2_predict\n",
        "\n",
        "    all_z1_predict = (all_z1_predict>0.5).astype(int)\n",
        "    all_z2_predict = (all_z2_predict>0.5).astype(int)\n",
        "    all_z_predict = (all_z_predict>0.5).astype(int)\n",
        "\n",
        "    all_z1_predict = all_z1_predict.reshape(xx1.shape)\n",
        "    all_z2_predict = all_z2_predict.reshape(xx1.shape)\n",
        "    all_z_predict = all_z_predict.reshape(xx1.shape)\n",
        "\n",
        "    ax1.contourf(xx1, xx2, all_z1_predict, cmap=colormap1)\n",
        "    ax2.contourf(xx1, xx2, all_z2_predict, cmap=colormap1)    \n",
        "    ax3.contourf(xx1, xx2, all_z_predict, cmap=colormap2)\n",
        "\n",
        "    ax1.scatter(x1[0], x2[0], c='blue')\n",
        "    ax1.scatter(x1[3], x2[3], c='blue')\n",
        "    ax1.scatter(x1[1:3], x2[1:3], c='red')\n",
        "    ax2.scatter(x1[0], x2[0], c='blue')\n",
        "    ax2.scatter(x1[3], x2[3], c='blue')\n",
        "    ax2.scatter(x1[1:3], x2[1:3], c='red')\n",
        "    ax3.scatter(x1[0], x2[0], c='blue')\n",
        "    ax3.scatter(x1[3], x2[3], c='blue')\n",
        "    ax3.scatter(x1[1:3], x2[1:3], c='red')\n",
        "\n",
        "    # Se calcula el error\n",
        "    z1 = Ws10[i] + Ws11[i]*x1 + Ws12[i]*x2\n",
        "    sigma1 = sigmoid(z1)\n",
        "    z2 = Ws20[i] + Ws21[i]*x1 + Ws22[i]*x2\n",
        "    sigma2 = sigmoid(z2)\n",
        "    z = Ws30[i] + Ws31[i]*sigma1 + Ws32[i]*sigma2\n",
        "    error = loss(y, z)\n",
        "\n",
        "    # Se actualiza el título\n",
        "    titulo.set_text(f'step: {i}, error = {error:.7f}')\n",
        "\n",
        "    return 0\n",
        "\n",
        "# Se crea la animación con un refresco cada 200 ms\n",
        "interval = 200 # ms\n",
        "anim = FuncAnimation(fig, update, frames=np.arange(0, steps, 50), interval=interval)\n",
        "\n",
        "# Se guarda en un GIF\n",
        "gif_name = \"GIFs/entrenamiento_red_funcion_activacion_XNOR.gif\"\n",
        "anim.save(gif_name, dpi=80, writer='imagemagick')\n",
        "plt.close()"
      ]
    },
    {
      "cell_type": "markdown",
      "metadata": {},
      "source": [
        "![gif xnor funcion activacion](GIFs/entrenamiento_red_funcion_activacion_XNOR.gif)"
      ]
    },
    {
      "cell_type": "markdown",
      "metadata": {},
      "source": [
        "Ahora si se consigue entrenar a la red con los mismos resultados que la puerta XNOR"
      ]
    },
    {
      "cell_type": "markdown",
      "metadata": {},
      "source": [
        "Vamos a ver qué estamos haciendo exactamente. La salida depende de las entradas con la combinación de dos funciones sigmoide\n",
        "\n",
        "$$z_1 = \\omega_{10}+\\omega_{11}x_1+\\omega_{12}x_2$$\n",
        "$$\\sigma_1 = \\frac{1}{1+e^{-z_1}} = \\frac{1}{1+e^{-\\omega_{10}-\\omega_{11}x_1-\\omega_{12}x_2}}$$\n",
        "$$z_2 = \\omega_{20}+\\omega_{21}x_1+\\omega_{22}x_2$$\n",
        "$$\\sigma_2 = \\frac{1}{1+e^{-z_2}} = \\frac{1}{1+e^{-\\omega_{20}-\\omega_{21}x_1-\\omega_{22}x_2}}$$\n",
        "$$z = \\omega_{30}+\\omega_{31}\\sigma_1+\\omega_{32}\\sigma_2 = \n",
        "    \\omega_{30}+\\omega_{31}\\frac{1}{1+e^{-\\omega_{10}-\\omega_{11}x_1-\\omega_{12}x_2}}+\\omega_{32}\\frac{1}{1+e^{-\\omega_{20}-\\omega_{21}x_1-\\omega_{22}x_2}}$$\n",
        "\n",
        "Vamos a representar esto en una plano"
      ]
    },
    {
      "cell_type": "code",
      "execution_count": 47,
      "metadata": {},
      "outputs": [
        {
          "data": {
            "text/plain": [
              "<mpl_toolkits.mplot3d.art3d.Path3DCollection at 0x14c005f9b20>"
            ]
          },
          "execution_count": 47,
          "metadata": {},
          "output_type": "execute_result"
        },
        {
          "data": {
            "image/png": "[encoded data removed]",
            "text/plain": [
              "<Figure size 720x720 with 1 Axes>"
            ]
          },
          "metadata": {
            "needs_background": "light"
          },
          "output_type": "display_data"
        }
      ],
      "source": [
        "# Se crea la figura\n",
        "fig = plt.figure(figsize=(10,10))\n",
        "ax = plt.axes(projection='3d')\n",
        "\n",
        "# Se crean los datos para representar\n",
        "posibles_x1 = np.linspace(-0.1, 1.1, 500)\n",
        "posibles_x2 = np.linspace(-0.1, 1.1, 500)\n",
        "XX1, XX2 = np.meshgrid(posibles_x1, posibles_x2)\n",
        "\n",
        "# Se crean los datos para representar\n",
        "ZZ1 = w10 + w11*XX1 + w12*XX2\n",
        "ZZ2 = w20 + w21*XX1 + w22*XX2\n",
        "SIGMA1 = 1/(1+np.exp(-ZZ1))\n",
        "SIGMA2 = 1/(1+np.exp(-ZZ2))\n",
        "ZZ = w30 + w31*SIGMA1 + w32*SIGMA2\n",
        "\n",
        "# Se termina de configurar la figura\n",
        "ax.contour3D(XX1, XX2, ZZ, 50, cmap='binary')\n",
        "ax.set_xlabel('x1')\n",
        "ax.set_ylabel('x2')\n",
        "ax.set_zlabel('z')\n",
        "\n",
        "# Se representa\n",
        "ax.scatter3D(XX1, XX2, ZZ, c=ZZ, cmap='Greens')"
      ]
    },
    {
      "cell_type": "markdown",
      "metadata": {},
      "source": [
        "Gracias a la función de activación hemos conseguido crear una red que a la salida tiene la forma anterior en función de X1 y X2, de manera que cuando z es mayor que 0,5 lo consideramos un 1 y cuando es menor que 0,5 lo consideramos un 0"
      ]
    }
  ],
  "metadata": {
    "interpreter": {
      "hash": "d1c24abb23a313e1f9ae042292cd8e6e3c60c5818227ced3d46e3df2c65171ef"
    },
    "kernelspec": {
      "display_name": "Python 3.8.5 64-bit ('base': conda)",
      "name": "python3"
    },
    "language_info": {
      "codemirror_mode": {
        "name": "ipython",
        "version": 3
      },
      "file_extension": ".py",
      "mimetype": "text/x-python",
      "name": "python",
      "nbconvert_exporter": "python",
      "pygments_lexer": "ipython3",
      "version": "3.8.11"
    }
  },
  "nbformat": 4,
  "nbformat_minor": 2
}
