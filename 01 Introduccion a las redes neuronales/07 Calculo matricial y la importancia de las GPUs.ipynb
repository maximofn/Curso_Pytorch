{
  "cells": [
    {
      "cell_type": "markdown",
      "metadata": {},
      "source": [
        "# Calculo matricial y la importancia de las GPUs"
      ]
    },
    {
      "cell_type": "markdown",
      "metadata": {},
      "source": [
        "Hemos visto la estructura de una red neuronal y sus cálculos"
      ]
    },
    {
      "cell_type": "markdown",
      "metadata": {},
      "source": [
        "![red neuronal profunda](Imagenes/red_neuronal_profunda.PNG)"
      ]
    },
    {
      "cell_type": "markdown",
      "metadata": {},
      "source": [
        "Volvamos a ver los cálculos de la capa de entrada\n",
        "\n",
        "$$ z_{0} = \\omega_{00} + \\omega_{01}x_1 + \\omega_{02}x_2 + \\omega_{03}x_3 + \\omega_{04}x_4 + ... + \\omega_{0n}x_n = \\omega_{00} + \\sum_{i=1}^{n}{\\omega_{0i}x_i}$$\n",
        "$$ z_{1} = \\omega_{10} + \\omega_{11}x_1 + \\omega_{12}x_2 + \\omega_{13}x_3 + \\omega_{14}x_4 + ... + \\omega_{1n}x_n = \\omega_{10} + \\sum_{i=1}^{n}{\\omega_{1i}x_i}$$\n",
        "$$...$$\n",
        "$$ z_{m} = \\omega_{m0} + \\omega_{m1}x_1 + \\omega_{m2}x_2 + \\omega_{m3}x_3 + \\omega_{m4}x_4 + ... + \\omega_{mn}x_n = \\omega_{m0} + \\sum_{i=1}^{n}{\\omega_{mi}x_i}$$\n",
        "\n",
        "Donde $n$ es el número de entradas a la red y $m$ es el número de neuronas de la capa de entrada\n",
        "\n",
        "$$ \\sigma_{0} = f\\left(z_0 \\right)$$\n",
        "$$ \\sigma_{2} = f\\left(z_1 \\right)$$\n",
        "$$...$$\n",
        "$$ \\sigma_{m} = f\\left(z_m \\right)$$"
      ]
    },
    {
      "cell_type": "markdown",
      "metadata": {},
      "source": [
        "Para hecer los cálculos de las $z$ podemos hacer un truco matemático, podemos considerar las salidas $z$ como un array\n",
        "\n",
        "El array de entradas quedaría así\n",
        "\n",
        "$$ Z = \n",
        "\\left[\\begin{array}{cc} \n",
        "z_0\\\\ \n",
        "z_1\\\\\n",
        "z_2\\\\\n",
        "z_3\\\\\n",
        "...\\\\\n",
        "z_n\\\\\n",
        "\\end{array}\\right]\n",
        "=\n",
        "\\left[\\begin{array}{cc} \n",
        "\\omega_{00} + \\omega_{01}x_1 + \\omega_{02}x_2 + \\omega_{03}x_3 + \\omega_{04}x_4 + ... + \\omega_{0n}x_n\\\\ \n",
        "\\omega_{10} + \\omega_{11}x_1 + \\omega_{12}x_2 + \\omega_{13}x_3 + \\omega_{14}x_4 + ... + \\omega_{1n}x_n\\\\\n",
        "\\omega_{20} + \\omega_{21}x_1 + \\omega_{22}x_2 + \\omega_{23}x_3 + \\omega_{24}x_4 + ... + \\omega_{2n}x_n\\\\\n",
        "\\omega_{30} + \\omega_{31}x_1 + \\omega_{32}x_2 + \\omega_{33}x_3 + \\omega_{34}x_4 + ... + \\omega_{3n}x_n\\\\\n",
        "...\\\\\n",
        "\\omega_{m0} + \\omega_{m1}x_1 + \\omega_{m2}x_2 + \\omega_{m3}x_3 + \\omega_{m4}x_4 + ... + \\omega_{mn}x_n\\\\\n",
        "\\end{array}\\right]\n",
        "=\n",
        "\\left[\\begin{array}{cc} \n",
        "\\omega_{00}\\\\ \n",
        "\\omega_{10}\\\\\n",
        "\\omega_{20}\\\\\n",
        "\\omega_{30}\\\\\n",
        "...\\\\\n",
        "\\omega_{m0}\\\\\n",
        "\\end{array}\\right]\n",
        "+\n",
        "\\left[\\begin{array}{cc} \n",
        "\\omega_{01}x_1 + \\omega_{02}x_2 + \\omega_{03}x_3 + \\omega_{04}x_4 + ... + \\omega_{mn}x_n\\\\ \n",
        "\\omega_{11}x_1 + \\omega_{12}x_2 + \\omega_{13}x_3 + \\omega_{14}x_4 + ... + \\omega_{mn}x_n\\\\\n",
        "\\omega_{21}x_1 + \\omega_{22}x_2 + \\omega_{23}x_3 + \\omega_{24}x_4 + ... + \\omega_{mn}x_n\\\\\n",
        "\\omega_{31}x_1 + \\omega_{32}x_2 + \\omega_{33}x_3 + \\omega_{34}x_4 + ... + \\omega_{mn}x_n\\\\\n",
        "...\\\\\n",
        "\\omega_{m1}x_1 + \\omega_{m2}x_2 + \\omega_{m3}x_3 + \\omega_{m4}x_4 + ... + \\omega_{mn}x_n\\\\\n",
        "\\end{array}\\right] = \n",
        "$$ \n",
        "\n",
        "$$\n",
        "=\n",
        "\\left[\\begin{array}{cc} \n",
        "\\omega_{00}\\\\ \n",
        "\\omega_{10}\\\\\n",
        "\\omega_{20}\\\\\n",
        "\\omega_{30}\\\\\n",
        "...\\\\\n",
        "\\omega_{m0}\\\\\n",
        "\\end{array}\\right]\n",
        "+\n",
        "\\left[\\begin{array}{cc} \n",
        "x_1 & x_2 & x_3 & x_4 & ... & x_n\n",
        "\\end{array}\\right]\n",
        "\\left[\\begin{array}{cc} \n",
        "\\omega_{01} & \\omega_{11} & \\omega_{21} & \\omega_{31} & ... & \\omega_{m1}\\\\ \n",
        "\\omega_{02} & \\omega_{12} & \\omega_{22} & \\omega_{32} & ... & \\omega_{m2}\\\\\n",
        "\\omega_{03} & \\omega_{13} & \\omega_{23} & \\omega_{33} & ... & \\omega_{m3}\\\\\n",
        "\\omega_{04} & \\omega_{14} & \\omega_{24} & \\omega_{34} & ... & \\omega_{m4}\\\\\n",
        "...\\\\\n",
        "\\omega_{0n} & \\omega_{1n} & \\omega_{2n} & \\omega_{3n} & ... & \\omega_{mn}\\\\\n",
        "\\end{array}\\right]\n",
        "$$"
      ]
    },
    {
      "cell_type": "markdown",
      "metadata": {},
      "source": [
        "Como vemos se ha quedado una matriz sola, la que tiene los términos independientes o bias. La que no se multiplica por las entradas x. Pero podemos hacer el siguiente truco\n",
        "\n",
        "$$ Z = \n",
        "\\left[\\begin{array}{cc} \n",
        "z_0\\\\ \n",
        "z_1\\\\\n",
        "z_2\\\\\n",
        "z_3\\\\\n",
        "...\\\\\n",
        "z_n\\\\\n",
        "\\end{array}\\right]\n",
        "=\n",
        "\\left[\\begin{array}{cc} \n",
        "\\omega_{00}1 + \\omega_{01}x_1 + \\omega_{02}x_2 + \\omega_{03}x_3 + \\omega_{04}x_4 + ... + \\omega_{0n}x_n\\\\ \n",
        "\\omega_{10}1 + \\omega_{11}x_1 + \\omega_{12}x_2 + \\omega_{13}x_3 + \\omega_{14}x_4 + ... + \\omega_{1n}x_n\\\\\n",
        "\\omega_{20}1 + \\omega_{21}x_1 + \\omega_{22}x_2 + \\omega_{23}x_3 + \\omega_{24}x_4 + ... + \\omega_{2n}x_n\\\\\n",
        "\\omega_{30}1 + \\omega_{31}x_1 + \\omega_{32}x_2 + \\omega_{33}x_3 + \\omega_{34}x_4 + ... + \\omega_{3n}x_n\\\\\n",
        "...\\\\\n",
        "\\omega_{m0}1 + \\omega_{m1}x_1 + \\omega_{m2}x_2 + \\omega_{m3}x_3 + \\omega_{m4}x_4 + ... + \\omega_{mn}x_n\\\\\n",
        "\\end{array}\\right]\n",
        "=\n",
        "$$\n",
        "\n",
        "$$\n",
        "=\n",
        "\\left[\\begin{array}{cc} \n",
        "1 & x_1 & x_2 & x_3 & x_4 & ... & x_n\n",
        "\\end{array}\\right]\n",
        "\\left[\\begin{array}{cc} \n",
        "\\omega_{00} & \\omega_{10} & \\omega_{20} & \\omega_{30} & ... & \\omega_{m0}\\\\ \n",
        "\\omega_{01} & \\omega_{11} & \\omega_{21} & \\omega_{31} & ... & \\omega_{m1}\\\\\n",
        "\\omega_{02} & \\omega_{12} & \\omega_{22} & \\omega_{32} & ... & \\omega_{m2}\\\\\n",
        "\\omega_{03} & \\omega_{13} & \\omega_{23} & \\omega_{33} & ... & \\omega_{m3}\\\\\n",
        "\\omega_{04} & \\omega_{14} & \\omega_{24} & \\omega_{34} & ... & \\omega_{m4}\\\\\n",
        "...\\\\\n",
        "\\omega_{0n} & \\omega_{1n} & \\omega_{2n} & \\omega_{3n} &  ... & \\omega_{mn}\\\\\n",
        "\\end{array}\\right]\n",
        "=\n",
        "$$\n",
        "\n",
        "$$\n",
        "=\n",
        "X_{\\left(1x(n+1)\\right)}·\\Omega{\\left((n+1)xm\\right)}\n",
        "$$"
      ]
    },
    {
      "cell_type": "markdown",
      "metadata": {},
      "source": [
        "Es como si hubiéramos metido una entrada más con valor 1\n",
        "\n",
        "![red neuronal profunda](Imagenes/red_neuronal_profunda_entrada_1.PNG)"
      ]
    },
    {
      "cell_type": "markdown",
      "metadata": {},
      "source": [
        "Por tanto para la primera capa podemos resumir los cálculos como el producto de 2 matrices\n",
        "\n",
        "$$ Z = X·\\Omega $$"
      ]
    },
    {
      "cell_type": "markdown",
      "metadata": {},
      "source": [
        "Se puede demostrar que con el resto de capas se puede calcular el paso hacia delante de la misma manera, mediane cálculos matriciales, pero no es el objetivo de este curso demostrar eso.\n",
        "\n",
        "De igual manera, se poría demostrar que cuando se calcula el descenso del gradiente para actualizar los pesos de la red, los cálculos también se pueden realizar como operaciones matriciales. Sin embargo como esto depende de las derivadas parciales, que a su vez dependen de qué función de activación se haya elegido, es más difícil de demostrar de una manera genérica. Y al igual que antes, el objetivo del curso no es demostrar estos cálculos."
      ]
    },
    {
      "cell_type": "markdown",
      "metadata": {},
      "source": [
        "Por tanto, podemos resumir que la implementación de redes neuronales y su entrenamiento supone muchos cálculos matriciales. En paralelo, en el mundo de los videojuegos se han desarrollado y mejorado mucho las GPUs, que realizan muchos cálculos matriciales para poder generar todas las imágenes y renders necesarios para los juegos. De modo que se ha aprovechado esta tecnología para poder entrenar redes neuronales mucho más rápido. Y por ello, poder crear redes con muchas más capas y parámetros, que las hace más robustas y potentes ante muchos problemas"
      ]
    },
    {
      "cell_type": "markdown",
      "metadata": {},
      "source": [
        "Para que te hagas una idea, gracias a las GPUs, se ha podido crear un modelo de lenguaje, llamado [GPT3](https://es.wikipedia.org/wiki/GPT-3#:~:text=%E2%80%8B%20La%20versi%C3%B3n%20completa%20de,su%20predecesor%2C%20GPT%2D2.), que más adelante veremos, pero que tiene del orden de 17.000 millones de parámetros. Además, aunque no se han publicado los datos, se estima que costó unos 4,6 millones de dólares entrenarlo y si se hubiese usado una GPU Tesla V100 hubiese llevado entrenarlo 355 años.\n",
        "\n",
        "Con estos datos de entrenamiento con GPPUs, si nu se hubiese podido usar estas para los entrenamientos, todo el desarrollo que se ha producido en el mundo de las redes neuronales no hubiese sido posible"
      ]
    }
  ],
  "metadata": {
    "interpreter": {
      "hash": "d1c24abb23a313e1f9ae042292cd8e6e3c60c5818227ced3d46e3df2c65171ef"
    },
    "kernelspec": {
      "display_name": "Python 3.8.5 64-bit ('base': conda)",
      "name": "python3"
    },
    "language_info": {
      "codemirror_mode": {
        "name": "ipython",
        "version": 3
      },
      "file_extension": ".py",
      "mimetype": "text/x-python",
      "name": "python",
      "nbconvert_exporter": "python",
      "pygments_lexer": "ipython3",
      "version": "3.8.11"
    }
  },
  "nbformat": 4,
  "nbformat_minor": 2
}
