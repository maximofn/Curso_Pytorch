{
  "cells": [
    {
      "cell_type": "markdown",
      "metadata": {},
      "source": [
        "# Parámetros vs hiperparámetros"
      ]
    },
    {
      "cell_type": "markdown",
      "metadata": {},
      "source": [
        "Hemos visto ya como crear redes neuronales y cómo entrenarlas para que se modifiquen sus pesos y hagan la tarea que queramos, tambien hemos visto el learning rate, las capas de una red, el número de neuronas de una red, pero, ¿en que se difenrencian estos?"
      ]
    },
    {
      "cell_type": "markdown",
      "metadata": {},
      "source": [
        "## Parámetros"
      ]
    },
    {
      "cell_type": "markdown",
      "metadata": {},
      "source": [
        "Los parámetros de una red son todos los valores que la red modifica mediante el entrenamiento, los pesos. Estos valores nunca los modificamos nosotros, sino que es la red la que los modifica para obtener el mejor rendimiento"
      ]
    },
    {
      "cell_type": "markdown",
      "metadata": {},
      "source": [
        "## Hiperparámetros"
      ]
    },
    {
      "cell_type": "markdown",
      "metadata": {},
      "source": [
        "Los hiperparámetros de una red son los valores que nosostros sí modificamos, como el learning rate, la profundidad (número de capas) de la red, el número de neuronas de cada capa, los stpes, que es el número de veces que la red pasa por todos los datos de entrenamiento, y más hiperparámetros que puede haber y veremos.\n",
        "\n",
        "Estos si los modificamos nosotros y tenemos que ir modificándolos en el proceso de entrenamiento para hacer que el entrenamiento y el rendimiento de la red sea lo mejor posible. Por ejemplo, veremos cómo al modificar el learning rate podemos hacer que la red converja al entrenar (se vaya reduciendo su error hasta un valor mínimo) o diverja (el error cada vez es mayor y núnca obtendremos una solución válida)"
      ]
    }
  ],
  "metadata": {
    "interpreter": {
      "hash": "d1c24abb23a313e1f9ae042292cd8e6e3c60c5818227ced3d46e3df2c65171ef"
    },
    "kernelspec": {
      "display_name": "Python 3.8.5 64-bit ('base': conda)",
      "name": "python3"
    },
    "language_info": {
      "codemirror_mode": {
        "name": "ipython",
        "version": 3
      },
      "file_extension": ".py",
      "mimetype": "text/x-python",
      "name": "python",
      "nbconvert_exporter": "python",
      "pygments_lexer": "ipython3",
      "version": "3.8.11"
    }
  },
  "nbformat": 4,
  "nbformat_minor": 2
}
