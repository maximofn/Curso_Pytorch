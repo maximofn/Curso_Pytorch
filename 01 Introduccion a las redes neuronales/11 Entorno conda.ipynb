{
  "cells": [
    {
      "cell_type": "markdown",
      "metadata": {},
      "source": [
        "# Entorno conda"
      ]
    },
    {
      "cell_type": "markdown",
      "metadata": {},
      "source": [
        "Para poder ejecutar el código de este curso es necesario tener instaladas las librerías necesarias, así que en este notebook vamos a crear un entorno de conda para ello.\n",
        "\n",
        "Si no tienes instalado conda, lo que yo te aconsejo es que vayas a la página de [instalación de miniconda](https://docs.anaconda.com/free/miniconda/miniconda-install/) y sigas las instrucciones para tu sistema operativo. Te aconsejo minoconda y no conda porque miniconda instala menos paquetes por defecto y es más ligero."
      ]
    },
    {
      "cell_type": "markdown",
      "metadata": {},
      "source": [
        "## Instalación de mamba"
      ]
    },
    {
      "cell_type": "markdown",
      "metadata": {},
      "source": [
        "Una vez tengáis instalado conda os aconsejo instalar `mamba`, que es un gestor de paquetes más rápido que `conda` ya que se baja los paquetes y los instala en paralelo, mientras que conda lo hace en serie"
      ]
    },
    {
      "cell_type": "code",
      "execution_count": null,
      "metadata": {
        "vscode": {
          "languageId": "plaintext"
        }
      },
      "outputs": [],
      "source": [
        "!conda install -y -c conda-forge mamba"
      ]
    },
    {
      "cell_type": "markdown",
      "metadata": {},
      "source": [
        "Con `-y` le decimos a mamba que no nos pregunte si queremos instalar los paquetes, sino que lo haga directamente.\n",
        "\n",
        "con `-c` le indicamos de qué canal queremos instalar el paquete, en este caso `conda-forge`"
      ]
    },
    {
      "cell_type": "markdown",
      "metadata": {},
      "source": [
        "## Crear un nuevo entorno"
      ]
    },
    {
      "cell_type": "markdown",
      "metadata": {},
      "source": [
        "Ahora toca crear un nuevo entorno. Gracias a conda (aunque lo haremos con mamba, pero mamba lo que hace es gestionar entornos de conda) podemos tener distintos entornos con distintas verisiones de python y librerías.\n",
        "\n",
        "Esto es muy útil, porque si en tu ordenador tienes instalada una versión de python, con conda podrás instalar otra, sin alterar nada lo que ya tenías.\n",
        "\n",
        "Y lo mismo pasa con las librerías, gracias a conda, vamos a instalar librerías, que si ya las tenías instaladas no vamos a trastocar nada, ya que todo se hará dentro de un entorno"
      ]
    },
    {
      "cell_type": "code",
      "execution_count": null,
      "metadata": {
        "vscode": {
          "languageId": "plaintext"
        }
      },
      "outputs": [],
      "source": [
        "!mamba create -y -n cursopytorch python=3.8"
      ]
    },
    {
      "cell_type": "markdown",
      "metadata": {},
      "source": [
        "Al igual que antes con `-y` le decimos a mamba que no nos pregunte si queremos instalar los paquetes, sino que lo haga directamente.\n",
        "\n",
        "Con `-n` le decimos el nombre del entorno, en este caso `cursopytorch`\n",
        "\n",
        "Por último le estamos diciendo que cree el entorno con la versión de python 3.8"
      ]
    },
    {
      "cell_type": "markdown",
      "metadata": {},
      "source": [
        "## Activar el entorno"
      ]
    },
    {
      "cell_type": "markdown",
      "metadata": {},
      "source": [
        "Si estamos en linux o mac, para activar el entorno, simplemente escribimos `conda activate cursopytorch` en una terminal.\n",
        "\n",
        "Pero en este caso, como estamos en un notebook, lo que tenemos que hacer es decirle al notebook que queremos usar el entorno que acabamos de crear.\n",
        "\n",
        "En mi caso uso `vscode`, por lo que me podrás ver en el vídeo cómo activarlo. En caso de usar otro gestor de notebooks, tendrás que buscar cómo hacerlo."
      ]
    },
    {
      "cell_type": "markdown",
      "metadata": {},
      "source": [
        "## Instalar paquetes"
      ]
    },
    {
      "cell_type": "markdown",
      "metadata": {},
      "source": [
        "Una vez ya tenemos el entorno creado y activado, vamos a instalar las librerías necesarias para este curso."
      ]
    },
    {
      "cell_type": "code",
      "execution_count": null,
      "metadata": {
        "vscode": {
          "languageId": "plaintext"
        }
      },
      "outputs": [],
      "source": [
        "!mamba install -y pytorch torchvision torchaudio pytorch-cuda=11.8 -c pytorch -c nvidia\n",
        "!mamba install -y -c anaconda ipykernel\n",
        "!mamba install -y -c anaconda ipywidgets\n",
        "!mamba install -y -c huggingface -c conda-forge datasets\n",
        "!mamba install -y -c anaconda numpy \n",
        "!mamba install -y -c conda-forge matplotlib\n",
        "!mamba install -y -c conda-forge gitpython\n",
        "!mamba install -y -c anaconda pandas\n",
        "!mamba install -y -c anaconda scikit-image\n",
        "!mamba install -y -c anaconda scikit-learn\n",
        "!mamba install -y -c fastai fastprogress\n",
        "!mamba install -y -c conda-forge opencv\n",
        "!mamba install -y -c conda-forge transformers\n",
        "!mamba install -y -c conda-forge onnx\n",
        "!mamba install -y -c conda-forge sacrebleu\n",
        "!mamba install -y nltk\n",
        "!pip install rouge"
      ]
    }
  ],
  "metadata": {
    "interpreter": {
      "hash": "d1c24abb23a313e1f9ae042292cd8e6e3c60c5818227ced3d46e3df2c65171ef"
    },
    "kernelspec": {
      "display_name": "Python 3.8.5 64-bit ('base': conda)",
      "name": "python3"
    },
    "language_info": {
      "codemirror_mode": {
        "name": "ipython",
        "version": 3
      },
      "file_extension": ".py",
      "mimetype": "text/x-python",
      "name": "python",
      "nbconvert_exporter": "python",
      "pygments_lexer": "ipython3",
      "version": "3.8.11"
    }
  },
  "nbformat": 4,
  "nbformat_minor": 2
}
