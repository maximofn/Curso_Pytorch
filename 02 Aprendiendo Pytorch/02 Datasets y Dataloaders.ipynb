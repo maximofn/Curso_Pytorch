{
  "cells": [
    {
      "cell_type": "code",
      "execution_count": 1,
      "metadata": {
        "collapsed": false
      },
      "outputs": [],
      "source": [
        "%matplotlib inline"
      ]
    },
    {
      "cell_type": "markdown",
      "metadata": {},
      "source": [
        "# Datasets y Dataloaders"
      ]
    },
    {
      "cell_type": "markdown",
      "metadata": {},
      "source": [
        "## Datasets"
      ]
    },
    {
      "cell_type": "markdown",
      "metadata": {},
      "source": [
        "Pytorch proporciona ``Datasets`` que són como bases de datos, en ellos se guardan los datos junto con sus etiquetas y sus correspondencias\n",
        "\n",
        "Hay dos maneras de crear ``Datasets``, descargarlos de los conjuntos de datos de entrenamiento de Pytorch, o crearlos desde cero"
      ]
    },
    {
      "cell_type": "markdown",
      "metadata": {},
      "source": [
        "### Creación de un Dataset a partir de un conjunto de datos de Pytorch"
      ]
    },
    {
      "cell_type": "markdown",
      "metadata": {},
      "source": [
        "PyTorch proporcionan una serie de conjuntos de datos precargados que implementan funciones específicas para los datos. Se pueden utilizar para crear prototipos y comparar su modelo. Puede encontrarlos aquí:\n",
        " * [Conjuntos de datos de imagen](https://pytorch.org/vision/stable/datasets.html)\n",
        " * [Conjuntos de datos de texto](https://pytorch.org/text/stable/datasets.html)\n",
        " * [Conjuntos de datos de audio](https://pytorch.org/audio/stable/datasets.html)"
      ]
    },
    {
      "cell_type": "markdown",
      "metadata": {},
      "source": [
        "A continuación, se muestra un ejemplo de cómo cargar el conjunto de datos ``CIFAR-10`` de TorchVision. El conjunto de datos `CIFAR-10` consta de 60.000 imágenes en color de 32x32 en 10 clases, con 6.000 imágenes por clase. Hay 50.000 imágenes de entrenamiento y 10.000 imágenes de prueba.\n",
        "\n",
        "Las 10 posibles clases son airplane, automobile, bird, cat, deer, dog, frog, horse, ship, truck"
      ]
    },
    {
      "cell_type": "markdown",
      "metadata": {},
      "source": [
        "A la hora de crear un ``Dataset`` a partir de un conjunto de datos precargado de Pytorch tenemos cuatro parámetros que podemos modificar y son:\n",
        " * ``root``: es la ruta donde se van a almacenan los datos de train y test\n",
        " * ``train``: especifica si el conjunto de datos que se quiere descargar es el de entrenamiento o de prueba\n",
        " * ``download``: Por defecto es ``True``, descarga los datos de Internet si no están disponibles en ``root``.\n",
        " * ``transform`` y ``target_transform``: especifican las transformaciones de las características (en este caso de las imágenes) y etiquetas. Las transformaciones se explicarán más adelante"
      ]
    },
    {
      "cell_type": "code",
      "execution_count": 2,
      "metadata": {},
      "outputs": [],
      "source": [
        "from torchvision import datasets\n",
        "from torchvision.transforms import ToTensor"
      ]
    },
    {
      "cell_type": "code",
      "execution_count": 3,
      "metadata": {
        "collapsed": false
      },
      "outputs": [
        {
          "name": "stdout",
          "output_type": "stream",
          "text": [
            "Downloading https://www.cs.toronto.edu/~kriz/cifar-10-python.tar.gz to data\\cifar-10-python.tar.gz\n"
          ]
        },
        {
          "name": "stderr",
          "output_type": "stream",
          "text": [
            "170499072it [00:08, 18970651.37it/s]                               \n"
          ]
        },
        {
          "name": "stdout",
          "output_type": "stream",
          "text": [
            "Extracting data\\cifar-10-python.tar.gz to data\n",
            "Files already downloaded and verified\n"
          ]
        }
      ],
      "source": [
        "training_data = datasets.CIFAR10(\n",
        "    root=\"data\",\n",
        "    train=True,\n",
        "    download=True,\n",
        "    transform=ToTensor()\n",
        ")\n",
        "\n",
        "test_data = datasets.CIFAR10(\n",
        "    root=\"data\",\n",
        "    train=False,\n",
        "    download=True,\n",
        "    transform=ToTensor()\n",
        ")"
      ]
    },
    {
      "cell_type": "markdown",
      "metadata": {},
      "source": [
        "Como se puede ver se han creado dos ``Dataset``s, uno de entrenamiento y otro de test. Los dos tienen sus datos en la carpeta data, en el de entrenamiento el parametro ``train`` es igual a ``True``, lo que indica que se descarguen los datos de entrenamiento, y en el de test el parámetro ``train`` es igual a ``False``, lo que indica que se descarguen los datos de test. Por último, en ambos dataset se ha indicado que se transformen los datos a tipo tensor."
      ]
    },
    {
      "cell_type": "markdown",
      "metadata": {},
      "source": [
        "Habíamos dicho que el conjunto de datos ``CIFAR-10`` constaba de 50.000 imágenes de entrenamiento y 10.000 imágenes de test, comprobemos si en nuestros ``Dataset``s se mantiene esto"
      ]
    },
    {
      "cell_type": "code",
      "execution_count": 4,
      "metadata": {},
      "outputs": [
        {
          "data": {
            "text/plain": [
              "(50000, 10000)"
            ]
          },
          "execution_count": 4,
          "metadata": {},
          "output_type": "execute_result"
        }
      ],
      "source": [
        "len(training_data), len(test_data)"
      ]
    },
    {
      "cell_type": "markdown",
      "metadata": {},
      "source": [
        "Veamos una muestra"
      ]
    },
    {
      "cell_type": "code",
      "execution_count": 5,
      "metadata": {},
      "outputs": [
        {
          "data": {
            "text/plain": [
              "2"
            ]
          },
          "execution_count": 5,
          "metadata": {},
          "output_type": "execute_result"
        }
      ],
      "source": [
        "sample_training_data = training_data[0]\n",
        "len(sample_training_data)"
      ]
    },
    {
      "cell_type": "markdown",
      "metadata": {},
      "source": [
        "Vemos que la muestra tiene 2 items, esto es porque contiene la imágen y la etiqueta. Así que procedamos a separarlos para analizarlos"
      ]
    },
    {
      "cell_type": "code",
      "execution_count": 6,
      "metadata": {},
      "outputs": [
        {
          "data": {
            "text/plain": [
              "(torch.Size([3, 32, 32]), 6)"
            ]
          },
          "execution_count": 6,
          "metadata": {},
          "output_type": "execute_result"
        }
      ],
      "source": [
        "image_sample_training_data = sample_training_data[0]\n",
        "image_sample_training_label = sample_training_data[1]\n",
        "image_sample_training_data.shape, image_sample_training_label"
      ]
    },
    {
      "cell_type": "markdown",
      "metadata": {},
      "source": [
        "Vemos que la imagen de la muestra tiene un tamaño de 3x32x232 píxeles, es decir, una imagen a color, de 3 canales (RGB) de 32x32 píxeles. Esta imagen corresponde a la clase cuya etiqueta vale 6"
      ]
    },
    {
      "cell_type": "markdown",
      "metadata": {},
      "source": [
        "Representemos varias muestras"
      ]
    },
    {
      "cell_type": "code",
      "execution_count": 7,
      "metadata": {
        "collapsed": false
      },
      "outputs": [
        {
          "data": {
            "image/png": "[encoded data removed]",
            "text/plain": [
              "<Figure size 576x576 with 9 Axes>"
            ]
          },
          "metadata": {
            "needs_background": "light"
          },
          "output_type": "display_data"
        }
      ],
      "source": [
        "import matplotlib.pyplot as plt\n",
        "from random import randint\n",
        "\n",
        "labels_map = {\n",
        "    0: \"airplane\",\n",
        "    1: \"automobile\",\n",
        "    2: \"bird\",\n",
        "    3: \"cat\",\n",
        "    4: \"deer\",\n",
        "    5: \"dog\",\n",
        "    6: \"frog\",\n",
        "    7: \"horse\",\n",
        "    8: \"ship\",\n",
        "    9: \"truck\",\n",
        "}\n",
        "\n",
        "figure = plt.figure(figsize=(8, 8))\n",
        "cols, rows = 3, 3\n",
        "for i in range(1, cols * rows + 1):\n",
        "    sample_idx = randint(0, len(training_data)-1)\n",
        "    img, label = training_data[sample_idx]\n",
        "    figure.add_subplot(rows, cols, i)\n",
        "    plt.title(labels_map[label])\n",
        "    plt.axis(\"off\")\n",
        "    plt.imshow(img.permute(1,2,0).squeeze())  \n",
        "    # permute cambia el orden de las dimensiones, ya que las\n",
        "    # imágenes tienen tamaño 3x32x32, pero necesitamos que\n",
        "    # las dimensiones sean 32x32x3 para que matplotlib las pinte\n",
        "    # así que se permutan poniendo primero las dos de 32 y \n",
        "    # la última la de 3\n",
        "    \n",
        "    # squeeze elimina todas las dimensiones 1 de un tensor, \n",
        "    # si se le mete un tensor de dimensiones (Ax1xBxCx1xD) \n",
        "    # devuelve un tensor de dimensiones (AxBxCxD)\n",
        "\n",
        "plt.show()"
      ]
    },
    {
      "cell_type": "markdown",
      "metadata": {},
      "source": [
        "### Creación de un Dataset personalizado"
      ]
    },
    {
      "cell_type": "markdown",
      "metadata": {},
      "source": [
        "Ahora vamos a descargar el conjunto de datos ``CIFAR-10`` que consiste en un conjunto de 50.000 imágenes de entrenamiento y 10.000 imágenes de test. Estas son imágenes a color, de 10 clases distintas, de tamáño 32x32.\n",
        "\n",
        "Si se descargan de su [fuente original](https://www.cs.toronto.edu/~kriz/cifar.html) se obtendrán una serie de listas de python con los valores de cada pixel de cada imagen. Así que lo que vamos a hacer es descargar el conjunto de este repositorio de [github](https://github.com/YoongiKim/CIFAR-10-images) en el que han convertido esas listas a imágenes en formato JPG"
      ]
    },
    {
      "cell_type": "code",
      "execution_count": 8,
      "metadata": {},
      "outputs": [],
      "source": [
        "import git\n",
        "import os\n",
        "\n",
        "url = \"https://github.com/YoongiKim/CIFAR-10-images\"\n",
        "to_path = \"data/CIFAR_10_JPG\"\n",
        "\n",
        "# Se comprueba si el directorio existe\n",
        "if os.path.isdir(to_path):\n",
        "\n",
        "    # Si existe, se comprueba si está vacío\n",
        "    if not os.listdir(to_path):\n",
        "\n",
        "        # Si está vacío se clona el repositorio\n",
        "        git.repo.base.Repo.clone_from(url=url, to_path=to_path)\n",
        "\n",
        "else:\n",
        "\n",
        "    # Si no extiste se crea y se clona el repositorio\n",
        "    os.mkdir(to_path)\n",
        "    git.repo.base.Repo.clone_from(url=url, to_path=to_path)"
      ]
    },
    {
      "cell_type": "markdown",
      "metadata": {},
      "source": [
        "Al descargarlo vemos que tenemos una carpeta de entrenamiento y otra de test"
      ]
    },
    {
      "cell_type": "code",
      "execution_count": 9,
      "metadata": {},
      "outputs": [
        {
          "data": {
            "text/plain": [
              "['.git', 'README.md', 'test', 'train']"
            ]
          },
          "execution_count": 9,
          "metadata": {},
          "output_type": "execute_result"
        }
      ],
      "source": [
        "os.listdir(to_path)"
      ]
    },
    {
      "cell_type": "markdown",
      "metadata": {},
      "source": [
        "Dentro de cada una tenemos una carpeta de cada clase"
      ]
    },
    {
      "cell_type": "code",
      "execution_count": 10,
      "metadata": {},
      "outputs": [
        {
          "data": {
            "text/plain": [
              "['airplane',\n",
              " 'automobile',\n",
              " 'bird',\n",
              " 'cat',\n",
              " 'deer',\n",
              " 'dog',\n",
              " 'frog',\n",
              " 'horse',\n",
              " 'ship',\n",
              " 'truck']"
            ]
          },
          "execution_count": 10,
          "metadata": {},
          "output_type": "execute_result"
        }
      ],
      "source": [
        "path_train = to_path + \"/train\"\n",
        "os.listdir(path_train)"
      ]
    },
    {
      "cell_type": "markdown",
      "metadata": {},
      "source": [
        "Vamos a crear un DataFrame de Pandas con todas las imágenes y sus etiquetas"
      ]
    },
    {
      "cell_type": "code",
      "execution_count": 11,
      "metadata": {},
      "outputs": [],
      "source": [
        "import pandas as pd\n",
        "\n",
        "labels_map = {\n",
        "    0: \"airplane\",\n",
        "    1: \"automobile\",\n",
        "    2: \"bird\",\n",
        "    3: \"cat\",\n",
        "    4: \"deer\",\n",
        "    5: \"dog\",\n",
        "    6: \"frog\",\n",
        "    7: \"horse\",\n",
        "    8: \"ship\",\n",
        "    9: \"truck\",\n",
        "}\n",
        "\n",
        "def createDataFrame(parent_dir):\n",
        "    # Numero de labels\n",
        "    N = 10\n",
        "\n",
        "    # Se crea un diccionario con datos aleatorios para hacer un dataframe vacío\n",
        "    diccionario = {\n",
        "        \"images names\": pd.Series([\"\"]),\n",
        "        \"path\": pd.Series([\"\"]),\n",
        "        \"label\": pd.Series([0])\n",
        "        }\n",
        "\n",
        "    # Se crea un dataframe a partir del diccionario\n",
        "    dataframe = pd.DataFrame(diccionario)\n",
        "\n",
        "    # Se elimina la primera fila, así se tiene un datframe vacío\n",
        "    dataframe.drop(dataframe.index[0], axis=0, inplace=True)\n",
        "\n",
        "    # Se completa el dataframe\n",
        "    for i in range (N):\n",
        "        label = i\n",
        "        images_dir = parent_dir + labels_map[label] + \"/\"\n",
        "\n",
        "        # Se crea una lista con las imágenes\n",
        "        images_list = os.listdir(images_dir)\n",
        "\n",
        "        # Se crea una serie a partir de la lista\n",
        "        serie = pd.Series(images_list)\n",
        "\n",
        "        # Se crea un sub dataframe a partir de la serie\n",
        "        subdataframe = pd.DataFrame(serie, columns=[\"images names\"])\n",
        "\n",
        "        # Se añade una columna con el path de la imagen\n",
        "        subdataframe[\"path\"] = images_dir + subdataframe[\"images names\"]\n",
        "\n",
        "        # Se añade una columna con la etiqueta\n",
        "        subdataframe[\"label\"] = label\n",
        "\n",
        "        # Se concatena el dataframe con el sub dataframe\n",
        "        dataframe = pd.concat([dataframe, subdataframe], ignore_index=True)\n",
        "\n",
        "    return dataframe"
      ]
    },
    {
      "cell_type": "code",
      "execution_count": 12,
      "metadata": {},
      "outputs": [
        {
          "data": {
            "text/plain": [
              "(  images names                                       path  label\n",
              " 0     0000.jpg  data/CIFAR_10_JPG/train/airplane/0000.jpg      0\n",
              " 1     0001.jpg  data/CIFAR_10_JPG/train/airplane/0001.jpg      0\n",
              " 2     0002.jpg  data/CIFAR_10_JPG/train/airplane/0002.jpg      0\n",
              " 3     0003.jpg  data/CIFAR_10_JPG/train/airplane/0003.jpg      0\n",
              " 4     0004.jpg  data/CIFAR_10_JPG/train/airplane/0004.jpg      0,\n",
              " 50000)"
            ]
          },
          "execution_count": 12,
          "metadata": {},
          "output_type": "execute_result"
        }
      ],
      "source": [
        "parent_dir = to_path + '/' + \"train/\"\n",
        "train_dataframe = createDataFrame(parent_dir)\n",
        "train_dataframe.head(), len(train_dataframe)"
      ]
    },
    {
      "cell_type": "code",
      "execution_count": 13,
      "metadata": {},
      "outputs": [
        {
          "data": {
            "text/plain": [
              "(  images names                                      path  label\n",
              " 0     0000.jpg  data/CIFAR_10_JPG/test/airplane/0000.jpg      0\n",
              " 1     0001.jpg  data/CIFAR_10_JPG/test/airplane/0001.jpg      0\n",
              " 2     0002.jpg  data/CIFAR_10_JPG/test/airplane/0002.jpg      0\n",
              " 3     0003.jpg  data/CIFAR_10_JPG/test/airplane/0003.jpg      0\n",
              " 4     0004.jpg  data/CIFAR_10_JPG/test/airplane/0004.jpg      0,\n",
              " 10000)"
            ]
          },
          "execution_count": 13,
          "metadata": {},
          "output_type": "execute_result"
        }
      ],
      "source": [
        "parent_dir = to_path + '/' + \"test/\"\n",
        "test_dataframe = createDataFrame(parent_dir)\n",
        "test_dataframe.head(), len(test_dataframe)"
      ]
    },
    {
      "cell_type": "markdown",
      "metadata": {},
      "source": [
        "Ya podemos crear el ``Dataset`` personalizazo. Para crear un ``Dataset`` personalizado Pytorch nos pide que hagamos una clase con los 3 siguientes métodos: ``__init__``, `__len__` y `__getitem__`. Como es un ``Dataset`` personalizado las opciones de cómo hacerlo son infinitas, por lo explicaremos para este conjunto de datos para que se entienda la idea."
      ]
    },
    {
      "cell_type": "code",
      "execution_count": 14,
      "metadata": {},
      "outputs": [],
      "source": [
        "from skimage import io\n",
        "import torch\n",
        "from torch.utils.data import Dataset\n",
        "\n",
        "class CustomImageDataset(Dataset):\n",
        "    def __init__(self, images_dir, labels=None, train=True):\n",
        "        self.images_dir = images_dir\n",
        "        self.labels = labels\n",
        "        self.train = train\n",
        "\n",
        "    def __len__(self):\n",
        "        return len(self.images_dir)\n",
        "\n",
        "    def __getitem__(self, idx):\n",
        "        img = io.imread(self.images_dir[idx])\n",
        "        img = torch.from_numpy(img)\n",
        "\n",
        "        # imread devuelve las imágenes con los canales al final, pero para\n",
        "        # que sea similar al dataset creado antes ponemos los canales al\n",
        "        # principio\n",
        "        H, W, C = img.shape\n",
        "        img = img.view(C, H, W)\n",
        "\n",
        "        if self.train:\n",
        "            label = torch.tensor([self.labels[idx]]).item()\n",
        "            return img, label\n",
        "        else:\n",
        "            return img"
      ]
    },
    {
      "cell_type": "code",
      "execution_count": 15,
      "metadata": {},
      "outputs": [],
      "source": [
        "training_data = CustomImageDataset(images_dir=train_dataframe[\"path\"], labels=train_dataframe[\"label\"])\n",
        "test_data = CustomImageDataset(images_dir=test_dataframe[\"path\"], labels=test_dataframe[\"label\"])"
      ]
    },
    {
      "cell_type": "markdown",
      "metadata": {},
      "source": [
        "Vemos el número de mustras de entrenamiento y test"
      ]
    },
    {
      "cell_type": "code",
      "execution_count": 16,
      "metadata": {},
      "outputs": [
        {
          "data": {
            "text/plain": [
              "(50000, 10000)"
            ]
          },
          "execution_count": 16,
          "metadata": {},
          "output_type": "execute_result"
        }
      ],
      "source": [
        "len(training_data), len(test_data)"
      ]
    },
    {
      "cell_type": "markdown",
      "metadata": {},
      "source": [
        "Veamos una muestra"
      ]
    },
    {
      "cell_type": "code",
      "execution_count": 17,
      "metadata": {},
      "outputs": [
        {
          "data": {
            "text/plain": [
              "2"
            ]
          },
          "execution_count": 17,
          "metadata": {},
          "output_type": "execute_result"
        }
      ],
      "source": [
        "sample_training_data = training_data[0]\n",
        "len(sample_training_data)"
      ]
    },
    {
      "cell_type": "markdown",
      "metadata": {},
      "source": [
        "Se puede ver que la dimensión de la muestra es 2, esto es porque la muestra contiene la imagen y la etiqueta, así que obtenemos solo la imagen"
      ]
    },
    {
      "cell_type": "code",
      "execution_count": 18,
      "metadata": {},
      "outputs": [
        {
          "data": {
            "text/plain": [
              "(torch.Size([3, 32, 32]), 0)"
            ]
          },
          "execution_count": 18,
          "metadata": {},
          "output_type": "execute_result"
        }
      ],
      "source": [
        "image_sample_training_data = sample_training_data[0]\n",
        "image_sample_training_label = sample_training_data[1]\n",
        "image_sample_training_data.shape, image_sample_training_label"
      ]
    },
    {
      "cell_type": "markdown",
      "metadata": {},
      "source": [
        "Vemos que la imágen de la muestra tiene un tamaño de 3x32x32 píxeles, es decir, una imágen a color de 32x32. Esta imágen corresponde a la etiqueta de valor 0"
      ]
    },
    {
      "cell_type": "markdown",
      "metadata": {},
      "source": [
        "Representemos varias muestras"
      ]
    },
    {
      "cell_type": "code",
      "execution_count": 19,
      "metadata": {
        "collapsed": false
      },
      "outputs": [
        {
          "data": {
            "image/png": "[encoded data removed]",
            "text/plain": [
              "<Figure size 576x576 with 9 Axes>"
            ]
          },
          "metadata": {
            "needs_background": "light"
          },
          "output_type": "display_data"
        }
      ],
      "source": [
        "import matplotlib.pyplot as plt\n",
        "from random import randint\n",
        "\n",
        "figure = plt.figure(figsize=(8, 8))\n",
        "cols, rows = 3, 3\n",
        "for i in range(1, cols * rows + 1):\n",
        "    sample_idx = randint(0, len(training_data)-1)\n",
        "    img, label = training_data[sample_idx]\n",
        "    figure.add_subplot(rows, cols, i)\n",
        "    plt.title(str(label))\n",
        "    plt.axis(\"off\")\n",
        "\n",
        "    # Ponemos la dimensión del caal al final para poder \n",
        "    # representar las imágenes\n",
        "    C, H, W = img.shape\n",
        "    img = img.view(H, W, C)\n",
        "    \n",
        "    plt.imshow(img.squeeze())  \n",
        "    # permute cambia el orden de las dimensiones, ya que las\n",
        "    # imágenes tienen tamaño 3x32x32, pero necesitamos que\n",
        "    # las dimensiones sean 32x32x3 para que matplotlib las pinte\n",
        "    # así que se permutan poniendo primero las dos de 32 y \n",
        "    # la última la de 3\n",
        "    \n",
        "    # squeeze elimina todas las dimensiones 1 de un tensor, \n",
        "    # si se le mete un tensor de dimensiones (Ax1xBxCx1xD) \n",
        "    # devuelve un tensor de dimensiones (AxBxCxD)\n",
        "\n",
        "plt.show()"
      ]
    },
    {
      "cell_type": "markdown",
      "metadata": {},
      "source": [
        "## Dataloaders"
      ]
    },
    {
      "cell_type": "markdown",
      "metadata": {},
      "source": [
        "Como hemos visto el dataset que nos acabamos de crear tiene 50.000 imágenes de entrenamiento, como veremos más en detalle en el próximo capítulo, no se puede entrenar a la red con todas esas imágenes a la vez porque no entran en la memoria de la GPU, por lo que se suele dividir el conjunto de imágenes de entrenamiento en *batches*, de una tamaño que entre en la memoria de la GPU.\n",
        "\n",
        "De esta manera se mete una *batch* en la GPU, se procesa, se hacen las correcciones que sean necesarias en la red neuronal (entrenamiento), se mete otro *batch*, etc. y así hasta que se muestra a la red neuronal todas las imágenes.\n",
        "\n",
        "Al tamaño de estos *batches* se le llama `batch size`\n",
        "\n",
        "Pero como hemos dicho, lo veremos mejor en el siguiente capítulo"
      ]
    },
    {
      "cell_type": "markdown",
      "metadata": {},
      "source": [
        "Una vez tenemos el ``Dataset`` creado podemos crear *batches* muy facilmente mediante los ``Dataloader``s. El ``Dataloader`` iterará a través del ``Dataset``, cogiendo el número de muestras (*batch size*) que queramos. Además si queremos puede barajar los datos, es decir, los cogerá aleatoriamente, en vez de en el orden en el que está en el ``Dataset``, una vez ha pasado por todos los datos del ``Dataset``, si queremos volver a pasar el `Dataset` por la red neuronal, el orden será completamente distinto a la anterior vez."
      ]
    },
    {
      "cell_type": "code",
      "execution_count": 20,
      "metadata": {},
      "outputs": [],
      "source": [
        "from torch.utils.data import DataLoader\n",
        "\n",
        "BS = 64\n",
        "\n",
        "train_dataloader = DataLoader(training_data, batch_size=BS, shuffle=True)\n",
        "test_dataloader = DataLoader(test_data, batch_size=BS, shuffle=True)"
      ]
    },
    {
      "cell_type": "markdown",
      "metadata": {},
      "source": [
        "### Iterar a través de un Dataloader"
      ]
    },
    {
      "cell_type": "markdown",
      "metadata": {},
      "source": [
        "Podemos iterar a traves del ``Dataloader`` para obtener los *batches*"
      ]
    },
    {
      "cell_type": "code",
      "execution_count": 21,
      "metadata": {},
      "outputs": [
        {
          "data": {
            "text/plain": [
              "2"
            ]
          },
          "execution_count": 21,
          "metadata": {},
          "output_type": "execute_result"
        }
      ],
      "source": [
        "batch = next(iter(train_dataloader))\n",
        "len(batch)"
      ]
    },
    {
      "cell_type": "markdown",
      "metadata": {},
      "source": [
        "Como vemos el tamaño del minibatch es 2, tenemos por un lado las imágenes y por otro las etiquetas"
      ]
    },
    {
      "cell_type": "code",
      "execution_count": 22,
      "metadata": {},
      "outputs": [
        {
          "data": {
            "text/plain": [
              "(torch.Size([64, 3, 32, 32]), torch.Size([64]))"
            ]
          },
          "execution_count": 22,
          "metadata": {},
          "output_type": "execute_result"
        }
      ],
      "source": [
        "train_features, train_labels = batch\n",
        "\n",
        "train_features.shape, train_labels.shape"
      ]
    },
    {
      "cell_type": "markdown",
      "metadata": {},
      "source": [
        "Ahora si podemos comrpobar como tenemos por un lado un minibatch con 64 imágenes de 3x32x32 píxeles y por otro lado 64 etiquetas"
      ]
    }
  ],
  "metadata": {
    "interpreter": {
      "hash": "2da05e9852e3725e6cd29dd2f3d6ebaa07dda6697715ddc2b5ea77aa5959f695"
    },
    "kernelspec": {
      "display_name": "Python 3.8.11 ('base')",
      "language": "python",
      "name": "python3"
    },
    "language_info": {
      "codemirror_mode": {
        "name": "ipython",
        "version": 3
      },
      "file_extension": ".py",
      "mimetype": "text/x-python",
      "name": "python",
      "nbconvert_exporter": "python",
      "pygments_lexer": "ipython3",
      "version": "3.8.11"
    }
  },
  "nbformat": 4,
  "nbformat_minor": 2
}
