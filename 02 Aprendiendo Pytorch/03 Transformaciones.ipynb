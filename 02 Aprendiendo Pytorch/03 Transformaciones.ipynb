{
  "cells": [
    {
      "attachments": {},
      "cell_type": "markdown",
      "metadata": {},
      "source": [
        "# Transformaciones"
      ]
    },
    {
      "attachments": {},
      "cell_type": "markdown",
      "metadata": {},
      "source": [
        "Los datos no siempre vienen en el formato deseado para hacer el entrenamiento, por lo que a la hora de crear el ``Dataset`` es necesario hacer unas transformaciones de estos\n",
        "\n",
        "Cuando creamos el ``Dataset`` de forma personalizada podemos hacer las transformaciones como queramos, tanto en el método ``__init__``, como en el ``__getitem__``. Sin embargo, cuando creamos un ``Dataset`` mediante un conjunto de datos de Pytorch, este ofrece tres parámetros `transforms`, ``transform`` y ``target_transform`` para modificar los datos y/o las etiquetas.\n",
        "\n",
        "A continuación, se muestra un ejemplo de cómo cargar el conjunto de datos `Fashion-MNIST` de TorchVision. `Fashion-MNIST` es un conjunto de datos de imágenes de artículos de Zalando que consta de 60.000 ejemplos de entrenamiento y 10.000 ejemplos de test. Cada ejemplo comprende una imagen en escala de grises de 28×28 y una etiqueta asociada de una de las 10 posibles clases."
      ]
    },
    {
      "attachments": {},
      "cell_type": "markdown",
      "metadata": {},
      "source": [
        " > **One-hot encodign**:\n",
        " > En el conjunto de datos ``FashionMNIST``, tenemos etiquetas con valores conprendidos entre el 0 y el 9. El tipo de codificación one-hot encoding crea vectores de tamaño 10 con todos los valores 0 menos en la posición de la etiqueta. Es decir, si la etiqueta vale 0, la codificación one-hot encoding creará un vector de tamaño 10, donde el primer elemento vale 1 y el resto 0s, si la etiqueta vale 1, creará un vector de tamaño 10, con todos los elementos 0 menos el segundo, y así sucesivamente.\n",
        " >\n",
        " > Se aprenderá más sobre este tipo de codificación y otros tipos en el módulo de procesamiento del lenguaje natural (NLP Natural Languaje Processing)\n",
        " >\n",
        " > 0 ==> 1 0 0 0 0 0 0 0 0 0\n",
        " >\n",
        " > 1 ==> 0 1 0 0 0 0 0 0 0 0\n",
        " >\n",
        " > 2 ==> 0 0 1 0 0 0 0 0 0 0\n",
        " >\n",
        " > 3 ==> 0 0 0 1 0 0 0 0 0 0\n",
        " >\n",
        " > 4 ==> 0 0 0 0 1 0 0 0 0 0\n",
        " >\n",
        " > 5 ==> 0 0 0 0 0 1 0 0 0 0\n",
        " >\n",
        " > 6 ==> 0 0 0 0 0 0 1 0 0 0\n",
        " >\n",
        " > 7 ==> 0 0 0 0 0 0 0 1 0 0\n",
        " >\n",
        " > 8 ==> 0 0 0 0 0 0 0 0 1 0\n",
        " >\n",
        " > 9 ==> 0 0 0 0 0 0 0 0 0 1"
      ]
    },
    {
      "attachments": {},
      "cell_type": "markdown",
      "metadata": {},
      "source": [
        "Nos descargamos el conjunto de datos ``FashionMNIST`` sin realizar ningún tipo de transformación y analizamos las imágenes y las etiquetas"
      ]
    },
    {
      "cell_type": "code",
      "execution_count": 1,
      "metadata": {},
      "outputs": [],
      "source": [
        "from torchvision import datasets\n",
        "\n",
        "dataset_raw = datasets.FashionMNIST(\n",
        "    root=\"data\",\n",
        "    train=True,\n",
        "    download=True,\n",
        "    # transform=\n",
        "    # target_transform=\n",
        ")"
      ]
    },
    {
      "attachments": {},
      "cell_type": "markdown",
      "metadata": {},
      "source": [
        "Cogemos una muestra"
      ]
    },
    {
      "cell_type": "code",
      "execution_count": 2,
      "metadata": {},
      "outputs": [],
      "source": [
        "imagen_raw, etiqueta_raw = dataset_raw[0]"
      ]
    },
    {
      "attachments": {},
      "cell_type": "markdown",
      "metadata": {},
      "source": [
        "Analizamos la imagen"
      ]
    },
    {
      "cell_type": "code",
      "execution_count": 3,
      "metadata": {},
      "outputs": [
        {
          "name": "stdout",
          "output_type": "stream",
          "text": [
            "La imagen es de tipo: <class 'PIL.Image.Image'>\n",
            "El tamaño de la imagen es de (28, 28)\n",
            "La imagen está codificada en píxeles de valor entre 0 y 255\n"
          ]
        }
      ],
      "source": [
        "print(f\"La imagen es de tipo: {type(imagen_raw)}\")\n",
        "print(f\"El tamaño de la imagen es de {imagen_raw.size}\")\n",
        "min_value, max_value = imagen_raw.getextrema()\n",
        "print(f\"La imagen está codificada en píxeles de valor entre {min_value} y {max_value}\")"
      ]
    },
    {
      "cell_type": "code",
      "execution_count": 4,
      "metadata": {},
      "outputs": [
        {
          "data": {
            "text/plain": [
              "<matplotlib.image.AxesImage at 0x7f585648fee0>"
            ]
          },
          "execution_count": 4,
          "metadata": {},
          "output_type": "execute_result"
        },
        {
          "data": {
            "image/png": "[encoded data removed]",
            "text/plain": [
              "<Figure size 640x480 with 1 Axes>"
            ]
          },
          "metadata": {},
          "output_type": "display_data"
        }
      ],
      "source": [
        "import matplotlib.pyplot as plt\n",
        "\n",
        "plt.imshow(imagen_raw, cmap=\"gray\")"
      ]
    },
    {
      "attachments": {},
      "cell_type": "markdown",
      "metadata": {},
      "source": [
        "Analizamos ahora la etiqueta"
      ]
    },
    {
      "cell_type": "code",
      "execution_count": 5,
      "metadata": {},
      "outputs": [
        {
          "name": "stdout",
          "output_type": "stream",
          "text": [
            "La etiqueta es de tipo: <class 'int'> y su valor es 9\n"
          ]
        }
      ],
      "source": [
        "print(f\"La etiqueta es de tipo: {type(etiqueta_raw)} y su valor es {etiqueta_raw}\")"
      ]
    },
    {
      "attachments": {},
      "cell_type": "markdown",
      "metadata": {},
      "source": [
        "Vamos ahora a descargarnos el dataset, pero aplicando trasnformaciones a las imágenes y a las etiquetas. Las imágenes las convertiremos a ``Tensor`` y las etiquetas las codificaremos como one-hot encoding"
      ]
    },
    {
      "cell_type": "code",
      "execution_count": 6,
      "metadata": {},
      "outputs": [],
      "source": [
        "import torch\n",
        "from torchvision.transforms import ToTensor, Lambda\n",
        "\n",
        "dataset_transforms = datasets.FashionMNIST(\n",
        "    root=\"data\",\n",
        "    train=True,\n",
        "    download=True,\n",
        "    transform=ToTensor(),\n",
        "    target_transform=Lambda(lambda y: torch.zeros(10, dtype=torch.float).scatter_(0, torch.tensor(y), value=1))\n",
        ")"
      ]
    },
    {
      "attachments": {},
      "cell_type": "markdown",
      "metadata": {},
      "source": [
        "Podemos ver que a las imágenes se le a aplicado la transformación ``ToTensor()``, lo que convertirá las imágenes a tensores.\n",
        "[``ToTensor``](https://pytorch.org/vision/stable/transforms.html#torchvision.transforms.ToTensor) convierte una imagen PIL o NumPy ``ndarray`` en un ``FloatTensor``, y escala los valores de intensidad de píxeles de la imagen en el rango [0., 1.]\n",
        "\n",
        "Por otro lado a las etiquetas se les a aplicado una transformación ``Lambda``. Las transformaciones ``Lambda`` aplican cualquier función lambda definida por el usuario.\n",
        "Aquí, definimos una función para convertir el número entero en un tensor codificado como one-hot encoding. Primero crea un tensor de ceros de tamaño 10 (el número de etiquetas en nuestro conjunto de datos) y llama a [``scatter_``](https://pytorch.org/docs/stable/generated/torch.Tensor.scatter_.html), que asigna un value=1 en el índice que indique la etiqueta ``y``."
      ]
    },
    {
      "attachments": {},
      "cell_type": "markdown",
      "metadata": {},
      "source": [
        "Cogemos una muestra de este dataset"
      ]
    },
    {
      "cell_type": "code",
      "execution_count": 7,
      "metadata": {},
      "outputs": [],
      "source": [
        "imagen_transforms, etiqueta_transforms = dataset_transforms[0]"
      ]
    },
    {
      "attachments": {},
      "cell_type": "markdown",
      "metadata": {},
      "source": [
        "Analizamos la imagen"
      ]
    },
    {
      "cell_type": "code",
      "execution_count": 8,
      "metadata": {},
      "outputs": [
        {
          "name": "stdout",
          "output_type": "stream",
          "text": [
            "La imagen es de tipo: <class 'torch.Tensor'>\n",
            "El tamaño de la imagen es de torch.Size([1, 28, 28])\n",
            "La imagen está codificada en píxeles de valor entre 0.0 y 1.0\n"
          ]
        }
      ],
      "source": [
        "print(f\"La imagen es de tipo: {type(imagen_transforms)}\")\n",
        "print(f\"El tamaño de la imagen es de {imagen_transforms.shape}\")\n",
        "min_value = imagen_transforms.min()\n",
        "max_value = imagen_transforms.max()\n",
        "print(f\"La imagen está codificada en píxeles de valor entre {min_value} y {max_value}\")"
      ]
    },
    {
      "cell_type": "code",
      "execution_count": 9,
      "metadata": {},
      "outputs": [
        {
          "data": {
            "text/plain": [
              "<matplotlib.image.AxesImage at 0x7f58563e4df0>"
            ]
          },
          "execution_count": 9,
          "metadata": {},
          "output_type": "execute_result"
        },
        {
          "data": {
            "image/png": "[encoded data removed]",
            "text/plain": [
              "<Figure size 640x480 with 1 Axes>"
            ]
          },
          "metadata": {},
          "output_type": "display_data"
        }
      ],
      "source": [
        "import matplotlib.pyplot as plt\n",
        "\n",
        "plt.imshow(imagen_transforms.squeeze_(), cmap=\"gray\")\n",
        "\n",
        "# squeeze elimina todas las dimensiones 1 de un tensor, \n",
        "# si se le mete un tensor de dimensiones (Ax1xBxCx1xD) \n",
        "# devuelve un tensor de dimensiones (AxBxCxD)"
      ]
    },
    {
      "attachments": {},
      "cell_type": "markdown",
      "metadata": {},
      "source": [
        "Analizamos ahora la etiqueta"
      ]
    },
    {
      "cell_type": "code",
      "execution_count": 10,
      "metadata": {},
      "outputs": [
        {
          "name": "stdout",
          "output_type": "stream",
          "text": [
            "La etiqueta es de tipo: <class 'torch.Tensor'> y su valor es tensor([0., 0., 0., 0., 0., 0., 0., 0., 0., 1.])\n"
          ]
        }
      ],
      "source": [
        "print(f\"La etiqueta es de tipo: {type(etiqueta_transforms)} y su valor es {etiqueta_transforms}\")"
      ]
    }
  ],
  "metadata": {
    "interpreter": {
      "hash": "d1c24abb23a313e1f9ae042292cd8e6e3c60c5818227ced3d46e3df2c65171ef"
    },
    "kernelspec": {
      "display_name": "Python 3.8.5 64-bit ('base': conda)",
      "name": "python3"
    },
    "language_info": {
      "codemirror_mode": {
        "name": "ipython",
        "version": 3
      },
      "file_extension": ".py",
      "mimetype": "text/x-python",
      "name": "python",
      "nbconvert_exporter": "python",
      "pygments_lexer": "ipython3",
      "version": "3.10.9"
    }
  },
  "nbformat": 4,
  "nbformat_minor": 2
}
