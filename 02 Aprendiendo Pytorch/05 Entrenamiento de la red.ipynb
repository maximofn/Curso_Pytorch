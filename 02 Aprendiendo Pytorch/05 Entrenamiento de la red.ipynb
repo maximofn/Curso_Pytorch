{
  "cells": [
    {
      "attachments": {},
      "cell_type": "markdown",
      "metadata": {},
      "source": [
        "# Entrenamiento de la red"
      ]
    },
    {
      "attachments": {},
      "cell_type": "markdown",
      "metadata": {},
      "source": [
        "## Resultados de las redes sin entrenar"
      ]
    },
    {
      "attachments": {},
      "cell_type": "markdown",
      "metadata": {},
      "source": [
        "En la clase anterior creamos una red neuronal, de dos maneras, desde cero y a través del transfer learning. En el primer caso (desde cero) todos sus parámetros se han inicializado aleatoriamente, mientras que en el segundo (transfer learning) solo los de la última capa son aleatorios. En ambos casos, al inicializarse estos aleatoriamente va a hacer que la red no sea capaz de hacer su cometido.\n",
        "\n",
        "Veamos un ejemplo con las dos redes. Nos vamos a descargar el conjunto de datos ``CIFAR-10`` desde el conjunto de datos de Pytorch, vamos a crear los datasets, vamos a crear los dos tipos de redes, y a las dos les vamos a dar una imagen, a ver si son capaces de predecir bien qué hay en ella"
      ]
    },
    {
      "attachments": {},
      "cell_type": "markdown",
      "metadata": {},
      "source": [
        "### Dataset"
      ]
    },
    {
      "attachments": {},
      "cell_type": "markdown",
      "metadata": {},
      "source": [
        "Descargamos y creamos el dataset"
      ]
    },
    {
      "cell_type": "code",
      "execution_count": 1,
      "metadata": {},
      "outputs": [
        {
          "name": "stdout",
          "output_type": "stream",
          "text": [
            "Files already downloaded and verified\n",
            "Files already downloaded and verified\n"
          ]
        }
      ],
      "source": [
        "from torchvision import datasets\n",
        "from torchvision.transforms import ToTensor\n",
        "\n",
        "# Descargamos y creamos el dataset\n",
        "dataset_train = datasets.CIFAR10(\n",
        "    root=\"data\",\n",
        "    train=True,\n",
        "    download=True,\n",
        "    transform=ToTensor()\n",
        ")\n",
        "\n",
        "dataset_test = datasets.CIFAR10(\n",
        "    root=\"data\",\n",
        "    train=False,\n",
        "    download=True,\n",
        "    transform=ToTensor()\n",
        ")"
      ]
    },
    {
      "attachments": {},
      "cell_type": "markdown",
      "metadata": {},
      "source": [
        "### Dataloader"
      ]
    },
    {
      "attachments": {},
      "cell_type": "markdown",
      "metadata": {},
      "source": [
        "Creamos un dataloader"
      ]
    },
    {
      "cell_type": "code",
      "execution_count": 2,
      "metadata": {},
      "outputs": [],
      "source": [
        "from torch.utils.data import DataLoader\n",
        "\n",
        "BATCH_SIZE = 64\n",
        "\n",
        "train_dataloader = DataLoader(dataset_train, batch_size=BATCH_SIZE)\n",
        "test_dataloader = DataLoader(dataset_test, batch_size=BATCH_SIZE)"
      ]
    },
    {
      "attachments": {},
      "cell_type": "markdown",
      "metadata": {},
      "source": [
        "### Redes"
      ]
    },
    {
      "attachments": {},
      "cell_type": "markdown",
      "metadata": {},
      "source": [
        "Creamos las redes neuronales desde cero y desde transfer learning"
      ]
    },
    {
      "cell_type": "code",
      "execution_count": 3,
      "metadata": {},
      "outputs": [],
      "source": [
        "from torch import nn\n",
        "\n",
        "# Creamos la red neuronal desde cero\n",
        "class NeuralNetworkFromScratch(nn.Module):\n",
        "    def __init__(self):\n",
        "        super(NeuralNetworkFromScratch, self).__init__()   # Se inicializa el módulo nn.Module\n",
        "        self.flatten = nn.Flatten()             # Se crea una primera capa que aplana la imagen de entrada\n",
        "        self.linear_relu_stack = nn.Sequential( # Se crea una módulo de arquitectura secuencial:\n",
        "            nn.Linear(3*32*32, 512),                # Se añade una primera capa lineal que está preparada \n",
        "                                                    # para que le entre un vector de 3x32x32 (3072)\n",
        "                                                    # y sacará un vector de 512\n",
        "            nn.ReLU(),                              # Se añade una no linealidad\n",
        "            nn.Linear(512, 512),                    # Se añade una segunda capa lineal que le entran 512 \n",
        "                                                    # datos y saca 512 datos\n",
        "            nn.ReLU(),                              # Se añade una no linealidad\n",
        "            nn.Linear(512, 10)                      # Se añade una tercera capa lineal que le entran 512 \n",
        "                                                    # datos y saca un array de tamaño 10 (el número\n",
        "                                                    # de etiquetas)\n",
        "        )\n",
        "        #self.softmax = nn.Softmax(dim=1)\n",
        "\n",
        "    def forward(self, x):\n",
        "        x = self.flatten(x)                         # Se pasa la imagen por la capa de aplanado\n",
        "        logits = self.linear_relu_stack(x)          # Se pasa el vector resultante por la red\n",
        "        #probs = self.softmax(logits)\n",
        "        return logits\n",
        "\n",
        "model_scratch = NeuralNetworkFromScratch()"
      ]
    },
    {
      "cell_type": "code",
      "execution_count": 4,
      "metadata": {},
      "outputs": [
        {
          "name": "stderr",
          "output_type": "stream",
          "text": [
            "/home/maximo.fernandez/miniconda3/envs/cursopytorch/lib/python3.8/site-packages/torchvision/models/_utils.py:208: UserWarning: The parameter 'pretrained' is deprecated since 0.13 and may be removed in the future, please use 'weights' instead.\n",
            "  warnings.warn(\n",
            "/home/maximo.fernandez/miniconda3/envs/cursopytorch/lib/python3.8/site-packages/torchvision/models/_utils.py:223: UserWarning: Arguments other than a weight enum or `None` for 'weights' are deprecated since 0.13 and may be removed in the future. The current behavior is equivalent to passing `weights=ResNet18_Weights.IMAGENET1K_V1`. You can also use `weights=ResNet18_Weights.DEFAULT` to get the most up-to-date weights.\n",
            "  warnings.warn(msg)\n"
          ]
        }
      ],
      "source": [
        "from torchvision import models\n",
        "\n",
        "# Creamos la red neuronal mediante transfer learning\n",
        "model_tl = models.resnet18(pretrained=True)\n",
        "model_tl.fc = nn.Linear(512, 10)"
      ]
    },
    {
      "attachments": {},
      "cell_type": "markdown",
      "metadata": {},
      "source": [
        "### Muestra del dataset"
      ]
    },
    {
      "attachments": {},
      "cell_type": "markdown",
      "metadata": {},
      "source": [
        "Cogemos una muestra aletoria del dataset"
      ]
    },
    {
      "cell_type": "code",
      "execution_count": 5,
      "metadata": {},
      "outputs": [
        {
          "data": {
            "image/png": "[encoded data removed]",
            "text/plain": [
              "<Figure size 500x500 with 1 Axes>"
            ]
          },
          "metadata": {},
          "output_type": "display_data"
        }
      ],
      "source": [
        "from random import randint\n",
        "import matplotlib.pyplot as plt\n",
        "\n",
        "# Cogemos una muestra al azahar\n",
        "idx = randint(0, len(train_dataloader)-1)\n",
        "sample_dataloader = next(iter(train_dataloader))\n",
        "sample_dataloader_images, sample_dataloader_labels = sample_dataloader\n",
        "idx = randint(0, len(sample_dataloader_images)-1)\n",
        "sample_image = sample_dataloader_images[idx]\n",
        "sample_label = sample_dataloader_labels[idx]\n",
        "\n",
        "labels_map = {\n",
        "    0: \"airplane\",\n",
        "    1: \"automobile\",\n",
        "    2: \"bird\",\n",
        "    3: \"cat\",\n",
        "    4: \"deer\",\n",
        "    5: \"dog\",\n",
        "    6: \"frog\",\n",
        "    7: \"horse\",\n",
        "    8: \"ship\",\n",
        "    9: \"truck\",\n",
        "}\n",
        "\n",
        "figure = plt.figure(figsize=(5, 5))\n",
        "plt.title(labels_map[sample_label.item()])\n",
        "plt.axis(\"off\")\n",
        "\n",
        "plt.imshow(sample_image.permute(1,2,0).squeeze())  \n",
        "# permute cambia el orden de las dimensiones, ya que las\n",
        "# imágenes tienen tamaño 3x32x32, pero necesitamos que\n",
        "# las dimensiones sean 32x32x3 para que matplotlib las pinte\n",
        "# así que se permutan poniendo primero las dos de 32 y \n",
        "# la última la de 3\n",
        "\n",
        "# squeeze elimina todas las dimensiones 1 de un tensor, \n",
        "# si se le mete un tensor de dimensiones (Ax1xBxCx1xD) \n",
        "# devuelve un tensor de dimensiones (AxBxCxD)\n",
        "\n",
        "plt.show()"
      ]
    },
    {
      "attachments": {},
      "cell_type": "markdown",
      "metadata": {},
      "source": [
        "Se la pasamos a las redes"
      ]
    },
    {
      "cell_type": "code",
      "execution_count": 6,
      "metadata": {},
      "outputs": [
        {
          "name": "stdout",
          "output_type": "stream",
          "text": [
            "La red ha devuelto torch.Size([64, 10]) logits\n"
          ]
        }
      ],
      "source": [
        "# Le pasamos la imagen a la red neuronal creada desde cero\n",
        "logits_scratch = model_scratch(sample_dataloader_images)\n",
        "print(f\"La red ha devuelto {logits_scratch.shape} logits\")"
      ]
    },
    {
      "attachments": {},
      "cell_type": "markdown",
      "metadata": {},
      "source": [
        "La red ha creado 64 logits, de 10 probabilidades cada uno, porque hemos creado un Dataloader con un batch size de 64, es decir hemos hecho que se divida el Dataset que contienen 50.000 imágenes de entrenamiento en batches con 64 imágenes cada uno.\n",
        "\n",
        "Como se le ha pasado a la red ese Dataloader con 64 imágenes devuelve 64 resultados"
      ]
    },
    {
      "cell_type": "code",
      "execution_count": 7,
      "metadata": {},
      "outputs": [
        {
          "name": "stdout",
          "output_type": "stream",
          "text": [
            "La red cree que en la imagen hay bird\n"
          ]
        }
      ],
      "source": [
        "# La red ha devuelto 64 logits, por lo que nos quedamos con el \n",
        "# número idx que es el que se ha representado antes\n",
        "probs_scratch = logits_scratch.softmax(dim=1)\n",
        "label = probs_scratch[idx].argmax().item()\n",
        "print(f\"La red cree que en la imagen hay {labels_map[label]}\")"
      ]
    },
    {
      "cell_type": "code",
      "execution_count": 8,
      "metadata": {},
      "outputs": [
        {
          "name": "stdout",
          "output_type": "stream",
          "text": [
            "La red cree que en la imagen hay airplane\n"
          ]
        }
      ],
      "source": [
        "# Le pasamos la imagen a la red neuronal creada desde transfer learning\n",
        "\n",
        "# Introducimos este tensor a la red, esto nos dará 64 predicciones\n",
        "label_tl = model_tl(sample_dataloader_images)\n",
        "\n",
        "# Cogemos una de las predicciones\n",
        "label = label_tl[0].argmax().item()\n",
        "print(f\"La red cree que en la imagen hay {labels_map[label]}\")"
      ]
    },
    {
      "attachments": {},
      "cell_type": "markdown",
      "metadata": {},
      "source": [
        "## Entrenamiento de la red neuronal"
      ]
    },
    {
      "attachments": {},
      "cell_type": "markdown",
      "metadata": {},
      "source": [
        "Como podemos ver, ninguna de las dos ha acertado, por lo que pasamos a entrenarlas"
      ]
    },
    {
      "attachments": {},
      "cell_type": "markdown",
      "metadata": {},
      "source": [
        "### Función de pérdida"
      ]
    },
    {
      "attachments": {},
      "cell_type": "markdown",
      "metadata": {},
      "source": [
        "Creamos una función de pérdida\n",
        "\n",
        "Como recordatorio, la función de pérdida es lo que nos permite saber cómo de equivocada está la red, y es la función que queremos minimizar. Para calcular esta función de pérdida comparamos el resultado que nos ha dado la red, con el que sabemos a través de las etiquetas que debería haber \n",
        "\n",
        "Las funciones de pérdida comunes incluyen [``nn.MSELoss``](https://pytorch.org/docs/stable/generated/torch.nn.MSELoss.html#torch.nn.MSELoss) (error cuadrático medio) para tareas de regresión y [``nn.NLLLoss``](https://pytorch.org/docs/stable/generated/torch.nn.NLLLoss.html#torch.nn.NLLLoss) (probabilidad de registro negativo) para clasificación.\n",
        "\n",
        "En este caso estamos en un problema de clasificación\n",
        "\n",
        "[``nn.CrossEntropyLoss``](https://pytorch.org/docs/stable/generated/torch.nn.CrossEntropyLoss.html#torch.nn.CrossEntropyLoss) combina ``nn.LogSoftmax`` y ``nn.NLLLoss``.\n",
        "\n",
        "Si te fijas, en la red creada desde cero hemos comentado la capa de `softmax` para así poder usar la función ``nn.CrossEntropyLoss``. Es mejor no usar la capa de `softmax` y usar la función ``nn.CrossEntropyLoss`` que ya incluye la parte de `softmax`. Esto es debido a motivos computacionales, haciéndolo así es más estable. Ahora no es el momento de entender esto\n",
        "\n",
        "Pasamos los logits de salida de nuestro modelo a ``nn.CrossEntropyLoss``, que normalizarán los logits y calcularán el error de predicción."
      ]
    },
    {
      "cell_type": "code",
      "execution_count": 9,
      "metadata": {},
      "outputs": [],
      "source": [
        "# Initialize the loss function\n",
        "loss_fn = nn.CrossEntropyLoss()"
      ]
    },
    {
      "attachments": {},
      "cell_type": "markdown",
      "metadata": {},
      "source": [
        "### Optimizador"
      ]
    },
    {
      "attachments": {},
      "cell_type": "markdown",
      "metadata": {},
      "source": [
        "El optimizador es el proceso por el que minimizamos la función de pérdida, haciendo que la diferencia entre lo que predice la red y lo que de verdad es sea lo menos posible"
      ]
    },
    {
      "attachments": {},
      "cell_type": "markdown",
      "metadata": {},
      "source": [
        "La optimización es el proceso de ajustar los parámetros del modelo para reducir el error del modelo en cada paso de entrenamiento. **Los algoritmos de optimización** definen cómo se realiza este proceso (en este ejemplo usamos Descenso de gradiente estocástico). Toda la lógica de optimización está encapsulada en el objeto ``optimizer``. Aquí usamos el optimizador SGD; Además, hay muchos [optimizadores diferentes](https://pytorch.org/docs/stable/optim.html) disponibles en PyTorch, como `ADAM` y `RMSProp`, que funcionan mejor para diferentes tipos de modelos y datos.\n",
        "\n",
        "En el siguiente tema veremos algunos otros\n",
        "\n",
        "Inicializamos el optimizador registrando los parámetros del modelo que necesitan ser entrenados y pasando el hiperparámetro de tasa de aprendizaje."
      ]
    },
    {
      "attachments": {},
      "cell_type": "markdown",
      "metadata": {},
      "source": [
        "Vamos a entrenar solo la red neuronal creada desde cero, ya que es un perceptron multicapa, mientras que la creada mediante transfer learning es una red convolucional que aun no se ha explicado"
      ]
    },
    {
      "cell_type": "code",
      "execution_count": 10,
      "metadata": {},
      "outputs": [],
      "source": [
        "import torch\n",
        "\n",
        "LR = 1e-2\n",
        "\n",
        "optimizer = torch.optim.SGD(model_scratch.parameters(), lr=LR)"
      ]
    },
    {
      "attachments": {},
      "cell_type": "markdown",
      "metadata": {},
      "source": [
        "### Ciclo de entrenamiento"
      ]
    },
    {
      "attachments": {},
      "cell_type": "markdown",
      "metadata": {},
      "source": [
        "Dentro del ciclo de entrenamiento, la optimización ocurre en tres pasos:\n",
        " * Llamada a ``optimizer.zero_grad()`` para restablecer los gradientes de los parámetros del modelo. Los gradientes se suman por defecto; para evitar el doble conteo, los ponemos a cero explícitamente en cada iteración.\n",
        " * Backpropagation con una llamada a ``loss.backwards()``. PyTorch deposita los gradientes de pérdida con cada parámetro.\n",
        " * Una vez que tenemos nuestros gradientes, llamamos ``optimizer.step()`` a ajustar los parámetros por los degradados recogidos en la backward."
      ]
    },
    {
      "attachments": {},
      "cell_type": "markdown",
      "metadata": {},
      "source": [
        "Definimos ``train_loop`` que recorre nuestro código de optimización y ``test_loop`` que evalúa el rendimiento del modelo en comparación con nuestros datos de prueba."
      ]
    },
    {
      "cell_type": "code",
      "execution_count": 11,
      "metadata": {},
      "outputs": [],
      "source": [
        "def train_loop(dataloader, model, loss_fn, optimizer):\n",
        "    size = len(dataloader.dataset)\n",
        "    for batch, (X, y) in enumerate(dataloader):\n",
        "        # X and y to device\n",
        "        X, y = X.to(device), y.to(device)\n",
        "\n",
        "        # Compute prediction and loss\n",
        "        pred = model(X)\n",
        "        loss = loss_fn(pred, y)\n",
        "\n",
        "        # Backpropagation\n",
        "        optimizer.zero_grad()\n",
        "        loss.backward()\n",
        "        optimizer.step()\n",
        "\n",
        "        if batch % 100 == 0:\n",
        "            loss, current = loss.item(), batch * len(X)\n",
        "            print(f\"loss: {loss:>7f}  [{current:>5d}/{size:>5d}]\")\n",
        "\n",
        "\n",
        "def test_loop(dataloader, model, loss_fn):\n",
        "    size = len(dataloader.dataset)\n",
        "    num_batches = len(dataloader)\n",
        "    test_loss, correct = 0, 0\n",
        "\n",
        "    with torch.no_grad():\n",
        "        for X, y in dataloader:\n",
        "            # X and y to device\n",
        "            X, y = X.to(device), y.to(device)\n",
        "            \n",
        "            pred = model(X)\n",
        "            test_loss += loss_fn(pred, y).item()\n",
        "            correct += (pred.argmax(1) == y).type(torch.float).sum().item()\n",
        "\n",
        "    test_loss /= num_batches\n",
        "    correct /= size\n",
        "    print(f\"Test Error: \\n Accuracy: {(100*correct):>0.1f}%, Avg loss: {test_loss:>8f} \\n\")"
      ]
    },
    {
      "cell_type": "code",
      "execution_count": 12,
      "metadata": {},
      "outputs": [
        {
          "name": "stdout",
          "output_type": "stream",
          "text": [
            "Using cuda device\n"
          ]
        },
        {
          "data": {
            "text/plain": [
              "NeuralNetworkFromScratch(\n",
              "  (flatten): Flatten(start_dim=1, end_dim=-1)\n",
              "  (linear_relu_stack): Sequential(\n",
              "    (0): Linear(in_features=3072, out_features=512, bias=True)\n",
              "    (1): ReLU()\n",
              "    (2): Linear(in_features=512, out_features=512, bias=True)\n",
              "    (3): ReLU()\n",
              "    (4): Linear(in_features=512, out_features=10, bias=True)\n",
              "  )\n",
              ")"
            ]
          },
          "execution_count": 12,
          "metadata": {},
          "output_type": "execute_result"
        }
      ],
      "source": [
        "# Get cpu or gpu device for training.\n",
        "device = \"cuda\" if torch.cuda.is_available() else \"cpu\"\n",
        "print(\"Using {} device\".format(device))\n",
        "\n",
        "model_scratch.to(device)"
      ]
    },
    {
      "cell_type": "code",
      "execution_count": 13,
      "metadata": {},
      "outputs": [
        {
          "name": "stdout",
          "output_type": "stream",
          "text": [
            "Epoch 1\n",
            "-------------------------------\n",
            "loss: 2.297056  [    0/50000]\n",
            "loss: 2.275259  [ 6400/50000]\n",
            "loss: 2.174157  [12800/50000]\n",
            "loss: 2.185177  [19200/50000]\n",
            "loss: 2.066475  [25600/50000]\n",
            "loss: 2.038621  [32000/50000]\n",
            "loss: 2.135064  [38400/50000]\n",
            "loss: 1.972107  [44800/50000]\n",
            "Test Error: \n",
            " Accuracy: 30.1%, Avg loss: 1.955979 \n",
            "\n",
            "Epoch 2\n",
            "-------------------------------\n",
            "loss: 2.007579  [    0/50000]\n",
            "loss: 1.988406  [ 6400/50000]\n",
            "loss: 1.777435  [12800/50000]\n",
            "loss: 1.993032  [19200/50000]\n",
            "loss: 1.962603  [25600/50000]\n",
            "loss: 1.937213  [32000/50000]\n",
            "loss: 1.993167  [38400/50000]\n",
            "loss: 1.845601  [44800/50000]\n",
            "Test Error: \n",
            " Accuracy: 34.2%, Avg loss: 1.854214 \n",
            "\n",
            "Epoch 3\n",
            "-------------------------------\n",
            "loss: 1.834173  [    0/50000]\n",
            "loss: 1.842259  [ 6400/50000]\n",
            "loss: 1.638991  [12800/50000]\n",
            "loss: 1.882616  [19200/50000]\n",
            "loss: 1.895643  [25600/50000]\n",
            "loss: 1.856325  [32000/50000]\n",
            "loss: 1.917497  [38400/50000]\n",
            "loss: 1.764811  [44800/50000]\n",
            "Test Error: \n",
            " Accuracy: 36.7%, Avg loss: 1.784249 \n",
            "\n",
            "Epoch 4\n",
            "-------------------------------\n",
            "loss: 1.743588  [    0/50000]\n",
            "loss: 1.733674  [ 6400/50000]\n",
            "loss: 1.548835  [12800/50000]\n",
            "loss: 1.799675  [19200/50000]\n",
            "loss: 1.819064  [25600/50000]\n",
            "loss: 1.809021  [32000/50000]\n",
            "loss: 1.844128  [38400/50000]\n",
            "loss: 1.702648  [44800/50000]\n",
            "Test Error: \n",
            " Accuracy: 38.1%, Avg loss: 1.738407 \n",
            "\n",
            "Epoch 5\n",
            "-------------------------------\n",
            "loss: 1.702282  [    0/50000]\n",
            "loss: 1.665043  [ 6400/50000]\n",
            "loss: 1.486659  [12800/50000]\n",
            "loss: 1.759873  [19200/50000]\n",
            "loss: 1.749656  [25600/50000]\n",
            "loss: 1.769868  [32000/50000]\n",
            "loss: 1.782495  [38400/50000]\n",
            "loss: 1.653653  [44800/50000]\n",
            "Test Error: \n",
            " Accuracy: 38.6%, Avg loss: 1.715921 \n",
            "\n",
            "Epoch 6\n",
            "-------------------------------\n",
            "loss: 1.689240  [    0/50000]\n",
            "loss: 1.615453  [ 6400/50000]\n",
            "loss: 1.436573  [12800/50000]\n",
            "loss: 1.741114  [19200/50000]\n",
            "loss: 1.701272  [25600/50000]\n",
            "loss: 1.733334  [32000/50000]\n",
            "loss: 1.731261  [38400/50000]\n",
            "loss: 1.618098  [44800/50000]\n",
            "Test Error: \n",
            " Accuracy: 37.6%, Avg loss: 1.732058 \n",
            "\n",
            "Epoch 7\n",
            "-------------------------------\n",
            "loss: 1.710331  [    0/50000]\n",
            "loss: 1.577488  [ 6400/50000]\n",
            "loss: 1.394285  [12800/50000]\n",
            "loss: 1.734558  [19200/50000]\n",
            "loss: 1.662129  [25600/50000]\n",
            "loss: 1.698187  [32000/50000]\n",
            "loss: 1.687754  [38400/50000]\n",
            "loss: 1.592326  [44800/50000]\n",
            "Test Error: \n",
            " Accuracy: 37.1%, Avg loss: 1.739110 \n",
            "\n",
            "Epoch 8\n",
            "-------------------------------\n",
            "loss: 1.712347  [    0/50000]\n",
            "loss: 1.548169  [ 6400/50000]\n",
            "loss: 1.355414  [12800/50000]\n",
            "loss: 1.725909  [19200/50000]\n",
            "loss: 1.629638  [25600/50000]\n",
            "loss: 1.663809  [32000/50000]\n",
            "loss: 1.659464  [38400/50000]\n",
            "loss: 1.581910  [44800/50000]\n",
            "Test Error: \n",
            " Accuracy: 36.9%, Avg loss: 1.753017 \n",
            "\n",
            "Epoch 9\n",
            "-------------------------------\n",
            "loss: 1.717921  [    0/50000]\n",
            "loss: 1.516873  [ 6400/50000]\n",
            "loss: 1.323762  [12800/50000]\n",
            "loss: 1.714146  [19200/50000]\n",
            "loss: 1.600765  [25600/50000]\n",
            "loss: 1.639730  [32000/50000]\n",
            "loss: 1.634651  [38400/50000]\n",
            "loss: 1.567460  [44800/50000]\n",
            "Test Error: \n",
            " Accuracy: 36.9%, Avg loss: 1.762260 \n",
            "\n",
            "Epoch 10\n",
            "-------------------------------\n",
            "loss: 1.722189  [    0/50000]\n",
            "loss: 1.491875  [ 6400/50000]\n",
            "loss: 1.296640  [12800/50000]\n",
            "loss: 1.703636  [19200/50000]\n",
            "loss: 1.575256  [25600/50000]\n",
            "loss: 1.626927  [32000/50000]\n",
            "loss: 1.611913  [38400/50000]\n",
            "loss: 1.556783  [44800/50000]\n",
            "Test Error: \n",
            " Accuracy: 37.4%, Avg loss: 1.756800 \n",
            "\n",
            "Done!\n"
          ]
        }
      ],
      "source": [
        "epochs = 10\n",
        "for t in range(epochs):\n",
        "    print(f\"Epoch {t+1}\\n-------------------------------\")\n",
        "    train_loop(train_dataloader, model_scratch, loss_fn, optimizer)\n",
        "    test_loop(test_dataloader, model_scratch, loss_fn)\n",
        "print(\"Done!\")"
      ]
    },
    {
      "attachments": {},
      "cell_type": "markdown",
      "metadata": {},
      "source": [
        "### Inferencia"
      ]
    },
    {
      "attachments": {},
      "cell_type": "markdown",
      "metadata": {},
      "source": [
        "Veamos ahora qué tal predice. Cogemos una muestra aletoria del dataset"
      ]
    },
    {
      "cell_type": "code",
      "execution_count": 14,
      "metadata": {},
      "outputs": [],
      "source": [
        "# Cogemos una muestra al azahar\n",
        "sample_dataloader = next(iter(train_dataloader))\n",
        "sample_dataloader_images, sample_dataloader_labels = sample_dataloader"
      ]
    },
    {
      "cell_type": "code",
      "execution_count": 17,
      "metadata": {},
      "outputs": [
        {
          "data": {
            "image/png": "[encoded data removed]",
            "text/plain": [
              "<Figure size 500x500 with 1 Axes>"
            ]
          },
          "metadata": {},
          "output_type": "display_data"
        }
      ],
      "source": [
        "from random import randint, seed\n",
        "import matplotlib.pyplot as plt\n",
        "\n",
        "# Generamos una semilla fija para poder repetir el ejemplo\n",
        "seed(10)\n",
        "\n",
        "idx = randint(0, len(sample_dataloader_images)-1)\n",
        "sample_image = sample_dataloader_images[idx]\n",
        "sample_label = sample_dataloader_labels[idx]\n",
        "\n",
        "labels_map = {\n",
        "    0: \"airplane\",\n",
        "    1: \"automobile\",\n",
        "    2: \"bird\",\n",
        "    3: \"cat\",\n",
        "    4: \"deer\",\n",
        "    5: \"dog\",\n",
        "    6: \"frog\",\n",
        "    7: \"horse\",\n",
        "    8: \"ship\",\n",
        "    9: \"truck\",\n",
        "}\n",
        "\n",
        "figure = plt.figure(figsize=(5, 5))\n",
        "plt.title(labels_map[sample_label.item()])\n",
        "plt.axis(\"off\")\n",
        "\n",
        "plt.imshow(sample_image.permute(1,2,0).squeeze())  \n",
        "# permute cambia el orden de las dimensiones, ya que las\n",
        "# imágenes tienen tamaño 3x32x32, pero necesitamos que\n",
        "# las dimensiones sean 32x32x3 para que matplotlib las pinte\n",
        "# así que se permutan poniendo primero las dos de 32 y \n",
        "# la última la de 3\n",
        "\n",
        "# squeeze elimina todas las dimensiones 1 de un tensor, \n",
        "# si se le mete un tensor de dimensiones (Ax1xBxCx1xD) \n",
        "# devuelve un tensor de dimensiones (AxBxCxD)\n",
        "\n",
        "plt.show()"
      ]
    },
    {
      "attachments": {},
      "cell_type": "markdown",
      "metadata": {},
      "source": [
        "Se la pasamos a la red"
      ]
    },
    {
      "cell_type": "code",
      "execution_count": 18,
      "metadata": {},
      "outputs": [
        {
          "name": "stdout",
          "output_type": "stream",
          "text": [
            "La red cree que en la imagen hay automobile\n"
          ]
        }
      ],
      "source": [
        "# Le pasamos la imagen a la red neuronal creada desde cero\n",
        "model_scratch.to(\"cpu\")\n",
        "logits_scratch = model_scratch(sample_dataloader_images)\n",
        "\n",
        "# La red ha devuelto 64 logits, por lo que nos quedamos con el \n",
        "# número idx que es el que se ha representado antes\n",
        "probs_scratch = logits_scratch.softmax(dim=1)\n",
        "label = probs_scratch[idx].argmax().item()\n",
        "print(f\"La red cree que en la imagen hay {labels_map[label]}\")"
      ]
    }
  ],
  "metadata": {
    "interpreter": {
      "hash": "2da05e9852e3725e6cd29dd2f3d6ebaa07dda6697715ddc2b5ea77aa5959f695"
    },
    "kernelspec": {
      "display_name": "Python 3.8.11 ('base')",
      "language": "python",
      "name": "python3"
    },
    "language_info": {
      "codemirror_mode": {
        "name": "ipython",
        "version": 3
      },
      "file_extension": ".py",
      "mimetype": "text/x-python",
      "name": "python",
      "nbconvert_exporter": "python",
      "pygments_lexer": "ipython3",
      "version": "3.8.17"
    }
  },
  "nbformat": 4,
  "nbformat_minor": 2
}
