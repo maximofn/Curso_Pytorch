{
  "cells": [
    {
      "attachments": {},
      "cell_type": "markdown",
      "metadata": {},
      "source": [
        "# Guardar y cargar el modelo - 03 Guardar el modelo"
      ]
    },
    {
      "attachments": {},
      "cell_type": "markdown",
      "metadata": {},
      "source": [
        "## Entrenamiento de la red"
      ]
    },
    {
      "attachments": {},
      "cell_type": "markdown",
      "metadata": {},
      "source": [
        "Vamos a hacer de manera rápida el entrenamiento de una red (creada desde cero) para el conjunto de datos `CIFAR-10`"
      ]
    },
    {
      "attachments": {},
      "cell_type": "markdown",
      "metadata": {},
      "source": [
        "### Dataset"
      ]
    },
    {
      "attachments": {},
      "cell_type": "markdown",
      "metadata": {},
      "source": [
        "Descargamos y creamos el dataset"
      ]
    },
    {
      "cell_type": "code",
      "execution_count": 1,
      "metadata": {},
      "outputs": [
        {
          "name": "stdout",
          "output_type": "stream",
          "text": [
            "Files already downloaded and verified\n",
            "Files already downloaded and verified\n"
          ]
        }
      ],
      "source": [
        "from torchvision import datasets\n",
        "from torchvision.transforms import ToTensor\n",
        "\n",
        "# Descargamos y creamos el dataset\n",
        "dataset_train = datasets.CIFAR10(\n",
        "    root=\"data\",\n",
        "    train=True,\n",
        "    download=True,\n",
        "    transform=ToTensor()\n",
        ")\n",
        "\n",
        "dataset_test = datasets.CIFAR10(\n",
        "    root=\"data\",\n",
        "    train=False,\n",
        "    download=True,\n",
        "    transform=ToTensor()\n",
        ")"
      ]
    },
    {
      "attachments": {},
      "cell_type": "markdown",
      "metadata": {},
      "source": [
        "### Dataloader"
      ]
    },
    {
      "attachments": {},
      "cell_type": "markdown",
      "metadata": {},
      "source": [
        "Creamos un dataloader"
      ]
    },
    {
      "cell_type": "code",
      "execution_count": 2,
      "metadata": {},
      "outputs": [],
      "source": [
        "from torch.utils.data import DataLoader\n",
        "\n",
        "BATCH_SIZE = 64\n",
        "\n",
        "train_dataloader = DataLoader(dataset_train, batch_size=BATCH_SIZE)\n",
        "test_dataloader = DataLoader(dataset_test, batch_size=BATCH_SIZE)"
      ]
    },
    {
      "attachments": {},
      "cell_type": "markdown",
      "metadata": {},
      "source": [
        "### Red"
      ]
    },
    {
      "attachments": {},
      "cell_type": "markdown",
      "metadata": {},
      "source": [
        "Creamos la red neuronal"
      ]
    },
    {
      "cell_type": "code",
      "execution_count": 3,
      "metadata": {},
      "outputs": [],
      "source": [
        "from torch import nn\n",
        "\n",
        "# Creamos la red neuronal desde cero\n",
        "class NeuralNetworkFromScratch(nn.Module):\n",
        "    def __init__(self):\n",
        "        super(NeuralNetworkFromScratch, self).__init__()   # Se inicializa el módulo nn.Module\n",
        "        self.flatten = nn.Flatten()             # Se crea una primera capa que aplana la imagen de entrada\n",
        "        self.linear_relu_stack = nn.Sequential( # Se crea una módulo de arquitectura secuencial:\n",
        "            nn.Linear(3*32*32, 512),                # Se añade una primera capa lineal que está preparada \n",
        "                                                    # para que le entre un vector de 28*28 (784)\n",
        "                                                    # y sacará un vector de 512\n",
        "            nn.ReLU(),                              # Se añade una no linealidad\n",
        "            nn.Linear(512, 512),                    # Se añade una segunda capa lineal que le entran 512 \n",
        "                                                    # datos y saca 512 datos\n",
        "            nn.ReLU(),                              # Se añade una no linealidad\n",
        "            nn.Linear(512, 10)                      # Se añade una tercera capa lineal que le entran 512 \n",
        "                                                    # datos y saca un array de tamaño 10 (el número\n",
        "                                                    # de etiquetas)\n",
        "        )\n",
        "        #self.softmax = nn.Softmax(dim=1)\n",
        "\n",
        "    def forward(self, x):\n",
        "        x = self.flatten(x)                         # Se pasa la imagen por la capa de aplanado\n",
        "        logits = self.linear_relu_stack(x)          # Se pasa el vector resultante por la red\n",
        "        #probs = self.softmax(logits)\n",
        "        return logits\n",
        "\n",
        "model_scratch = NeuralNetworkFromScratch()"
      ]
    },
    {
      "attachments": {},
      "cell_type": "markdown",
      "metadata": {},
      "source": [
        "### Función de pérdida"
      ]
    },
    {
      "cell_type": "code",
      "execution_count": 4,
      "metadata": {},
      "outputs": [],
      "source": [
        "loss_fn = nn.CrossEntropyLoss()"
      ]
    },
    {
      "attachments": {},
      "cell_type": "markdown",
      "metadata": {},
      "source": [
        "### Optimizador"
      ]
    },
    {
      "cell_type": "code",
      "execution_count": 5,
      "metadata": {},
      "outputs": [],
      "source": [
        "import torch\n",
        "\n",
        "LR = 1e-2\n",
        "\n",
        "optimizer = torch.optim.SGD(model_scratch.parameters(), lr=LR)"
      ]
    },
    {
      "attachments": {},
      "cell_type": "markdown",
      "metadata": {},
      "source": [
        "### Ciclo de entrenamiento"
      ]
    },
    {
      "cell_type": "code",
      "execution_count": 6,
      "metadata": {},
      "outputs": [],
      "source": [
        "def train_loop(dataloader, model, loss_fn, optimizer):\n",
        "    size = len(dataloader.dataset)\n",
        "    for batch, (X, y) in enumerate(dataloader):\n",
        "        # X and y to device\n",
        "        X, y = X.to(device), y.to(device)\n",
        "\n",
        "        # Compute prediction and loss\n",
        "        pred = model(X)\n",
        "        loss = loss_fn(pred, y)\n",
        "\n",
        "        # Backpropagation\n",
        "        optimizer.zero_grad()\n",
        "        loss.backward()\n",
        "        optimizer.step()\n",
        "\n",
        "        if batch % 100 == 0:\n",
        "            loss, current = loss.item(), batch * len(X)\n",
        "            print(f\"loss: {loss:>7f}  [{current:>5d}/{size:>5d}]\")\n",
        "\n",
        "\n",
        "def test_loop(dataloader, model, loss_fn):\n",
        "    size = len(dataloader.dataset)\n",
        "    num_batches = len(dataloader)\n",
        "    test_loss, correct = 0, 0\n",
        "\n",
        "    with torch.no_grad():\n",
        "        for X, y in dataloader:\n",
        "            # X and y to device\n",
        "            X, y = X.to(device), y.to(device)\n",
        "            \n",
        "            pred = model(X)\n",
        "            test_loss += loss_fn(pred, y).item()\n",
        "            correct += (pred.argmax(1) == y).type(torch.float).sum().item()\n",
        "\n",
        "    test_loss /= num_batches\n",
        "    correct /= size\n",
        "    print(f\"Test Error: \\n Accuracy: {(100*correct):>0.1f}%, Avg loss: {test_loss:>8f} \\n\")"
      ]
    },
    {
      "cell_type": "code",
      "execution_count": 7,
      "metadata": {},
      "outputs": [
        {
          "name": "stdout",
          "output_type": "stream",
          "text": [
            "Using cuda device\n"
          ]
        },
        {
          "data": {
            "text/plain": [
              "NeuralNetworkFromScratch(\n",
              "  (flatten): Flatten(start_dim=1, end_dim=-1)\n",
              "  (linear_relu_stack): Sequential(\n",
              "    (0): Linear(in_features=3072, out_features=512, bias=True)\n",
              "    (1): ReLU()\n",
              "    (2): Linear(in_features=512, out_features=512, bias=True)\n",
              "    (3): ReLU()\n",
              "    (4): Linear(in_features=512, out_features=10, bias=True)\n",
              "  )\n",
              ")"
            ]
          },
          "execution_count": 7,
          "metadata": {},
          "output_type": "execute_result"
        }
      ],
      "source": [
        "# Get cpu or gpu device for training.\n",
        "device = \"cuda\" if torch.cuda.is_available() else \"cpu\"\n",
        "print(\"Using {} device\".format(device))\n",
        "\n",
        "model_scratch.to(device)"
      ]
    },
    {
      "cell_type": "code",
      "execution_count": 8,
      "metadata": {},
      "outputs": [
        {
          "name": "stdout",
          "output_type": "stream",
          "text": [
            "Epoch 1\n",
            "-------------------------------\n",
            "loss: 2.297500  [    0/50000]\n",
            "loss: 2.273115  [ 6400/50000]\n",
            "loss: 2.167075  [12800/50000]\n",
            "loss: 2.193869  [19200/50000]\n",
            "loss: 2.066513  [25600/50000]\n",
            "loss: 2.049825  [32000/50000]\n",
            "loss: 2.147772  [38400/50000]\n",
            "loss: 1.977103  [44800/50000]\n",
            "Test Error: \n",
            " Accuracy: 29.9%, Avg loss: 1.953596 \n",
            "\n",
            "Epoch 2\n",
            "-------------------------------\n",
            "loss: 2.013334  [    0/50000]\n",
            "loss: 1.979165  [ 6400/50000]\n",
            "loss: 1.753738  [12800/50000]\n",
            "loss: 1.980866  [19200/50000]\n",
            "loss: 1.968721  [25600/50000]\n",
            "loss: 1.936092  [32000/50000]\n",
            "loss: 1.994581  [38400/50000]\n",
            "loss: 1.847821  [44800/50000]\n",
            "Test Error: \n",
            " Accuracy: 34.6%, Avg loss: 1.850171 \n",
            "\n",
            "Epoch 3\n",
            "-------------------------------\n",
            "loss: 1.841283  [    0/50000]\n",
            "loss: 1.828651  [ 6400/50000]\n",
            "loss: 1.616995  [12800/50000]\n",
            "loss: 1.870397  [19200/50000]\n",
            "loss: 1.902885  [25600/50000]\n",
            "loss: 1.857974  [32000/50000]\n",
            "loss: 1.904596  [38400/50000]\n",
            "loss: 1.766008  [44800/50000]\n",
            "Test Error: \n",
            " Accuracy: 37.2%, Avg loss: 1.780384 \n",
            "\n",
            "Epoch 4\n",
            "-------------------------------\n",
            "loss: 1.741295  [    0/50000]\n",
            "loss: 1.717360  [ 6400/50000]\n",
            "loss: 1.528953  [12800/50000]\n",
            "loss: 1.790232  [19200/50000]\n",
            "loss: 1.822257  [25600/50000]\n",
            "loss: 1.814621  [32000/50000]\n",
            "loss: 1.827086  [38400/50000]\n",
            "loss: 1.710543  [44800/50000]\n",
            "Test Error: \n",
            " Accuracy: 38.3%, Avg loss: 1.734752 \n",
            "\n",
            "Epoch 5\n",
            "-------------------------------\n",
            "loss: 1.695144  [    0/50000]\n",
            "loss: 1.651533  [ 6400/50000]\n",
            "loss: 1.469116  [12800/50000]\n",
            "loss: 1.752925  [19200/50000]\n",
            "loss: 1.752931  [25600/50000]\n",
            "loss: 1.784810  [32000/50000]\n",
            "loss: 1.762769  [38400/50000]\n",
            "loss: 1.667260  [44800/50000]\n",
            "Test Error: \n",
            " Accuracy: 39.1%, Avg loss: 1.709724 \n",
            "\n",
            "Epoch 6\n",
            "-------------------------------\n",
            "loss: 1.674111  [    0/50000]\n",
            "loss: 1.600189  [ 6400/50000]\n",
            "loss: 1.417650  [12800/50000]\n",
            "loss: 1.736582  [19200/50000]\n",
            "loss: 1.702333  [25600/50000]\n",
            "loss: 1.749207  [32000/50000]\n",
            "loss: 1.705704  [38400/50000]\n",
            "loss: 1.630090  [44800/50000]\n",
            "Test Error: \n",
            " Accuracy: 38.7%, Avg loss: 1.706252 \n",
            "\n",
            "Epoch 7\n",
            "-------------------------------\n",
            "loss: 1.675841  [    0/50000]\n",
            "loss: 1.561848  [ 6400/50000]\n",
            "loss: 1.368347  [12800/50000]\n",
            "loss: 1.732339  [19200/50000]\n",
            "loss: 1.661627  [25600/50000]\n",
            "loss: 1.712428  [32000/50000]\n",
            "loss: 1.665246  [38400/50000]\n",
            "loss: 1.605820  [44800/50000]\n",
            "Test Error: \n",
            " Accuracy: 37.8%, Avg loss: 1.719410 \n",
            "\n",
            "Epoch 8\n",
            "-------------------------------\n",
            "loss: 1.690870  [    0/50000]\n",
            "loss: 1.529835  [ 6400/50000]\n",
            "loss: 1.324171  [12800/50000]\n",
            "loss: 1.731445  [19200/50000]\n",
            "loss: 1.628520  [25600/50000]\n",
            "loss: 1.680707  [32000/50000]\n",
            "loss: 1.632827  [38400/50000]\n",
            "loss: 1.582952  [44800/50000]\n",
            "Test Error: \n",
            " Accuracy: 37.3%, Avg loss: 1.731112 \n",
            "\n",
            "Epoch 9\n",
            "-------------------------------\n",
            "loss: 1.700814  [    0/50000]\n",
            "loss: 1.500688  [ 6400/50000]\n",
            "loss: 1.287959  [12800/50000]\n",
            "loss: 1.730740  [19200/50000]\n",
            "loss: 1.595135  [25600/50000]\n",
            "loss: 1.652802  [32000/50000]\n",
            "loss: 1.607305  [38400/50000]\n",
            "loss: 1.567208  [44800/50000]\n",
            "Test Error: \n",
            " Accuracy: 37.4%, Avg loss: 1.732900 \n",
            "\n",
            "Epoch 10\n",
            "-------------------------------\n",
            "loss: 1.700356  [    0/50000]\n",
            "loss: 1.473785  [ 6400/50000]\n",
            "loss: 1.257931  [12800/50000]\n",
            "loss: 1.719843  [19200/50000]\n",
            "loss: 1.574314  [25600/50000]\n",
            "loss: 1.631117  [32000/50000]\n",
            "loss: 1.586651  [38400/50000]\n",
            "loss: 1.557483  [44800/50000]\n",
            "Test Error: \n",
            " Accuracy: 37.8%, Avg loss: 1.729991 \n",
            "\n",
            "Done!\n"
          ]
        }
      ],
      "source": [
        "epochs = 10\n",
        "for t in range(epochs):\n",
        "    print(f\"Epoch {t+1}\\n-------------------------------\")\n",
        "    train_loop(train_dataloader, model_scratch, loss_fn, optimizer)\n",
        "    test_loop(test_dataloader, model_scratch, loss_fn)\n",
        "print(\"Done!\")"
      ]
    },
    {
      "attachments": {},
      "cell_type": "markdown",
      "metadata": {},
      "source": [
        "## Guardar el modelo"
      ]
    },
    {
      "attachments": {},
      "cell_type": "markdown",
      "metadata": {},
      "source": [
        "Al cargar pesos de modelo, necesitábamos crear una instancia de la clase de modelo primero, porque la clase define la estructura de una red. Es posible que deseemos guardar la estructura de esta clase junto con el modelo, en cuyo caso podemos pasar ``model`` (y no ''model.state_dict()'') a la función de guardar:"
      ]
    },
    {
      "cell_type": "code",
      "execution_count": 9,
      "metadata": {
        "collapsed": false
      },
      "outputs": [],
      "source": [
        "path = \"data/modelo.pth\"\n",
        "torch.save(model_scratch, path)"
      ]
    }
  ],
  "metadata": {
    "interpreter": {
      "hash": "d1c24abb23a313e1f9ae042292cd8e6e3c60c5818227ced3d46e3df2c65171ef"
    },
    "kernelspec": {
      "display_name": "Python 3.8.5 64-bit ('base': conda)",
      "name": "python3"
    },
    "language_info": {
      "codemirror_mode": {
        "name": "ipython",
        "version": 3
      },
      "file_extension": ".py",
      "mimetype": "text/x-python",
      "name": "python",
      "nbconvert_exporter": "python",
      "pygments_lexer": "ipython3",
      "version": "3.8.17"
    }
  },
  "nbformat": 4,
  "nbformat_minor": 2
}
