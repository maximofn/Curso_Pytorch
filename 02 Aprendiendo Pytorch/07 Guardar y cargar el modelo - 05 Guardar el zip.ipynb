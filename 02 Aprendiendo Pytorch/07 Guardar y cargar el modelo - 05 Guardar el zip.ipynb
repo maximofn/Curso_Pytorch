{
  "cells": [
    {
      "cell_type": "code",
      "execution_count": 1,
      "metadata": {
        "collapsed": false
      },
      "outputs": [],
      "source": [
        "%matplotlib inline"
      ]
    },
    {
      "cell_type": "markdown",
      "metadata": {},
      "source": [
        "# Guardar y cargar el modelo - 05 Guardar zip"
      ]
    },
    {
      "cell_type": "markdown",
      "metadata": {},
      "source": [
        "## Entrenamiento de la red"
      ]
    },
    {
      "cell_type": "markdown",
      "metadata": {},
      "source": [
        "Vamos a hacer de manera rápida el entrenamiento de una red (creada desde cero) para el conjunto de datos `CIFAR-10`"
      ]
    },
    {
      "cell_type": "markdown",
      "metadata": {},
      "source": [
        "### Dataset"
      ]
    },
    {
      "cell_type": "markdown",
      "metadata": {},
      "source": [
        "Descargamos y creamos el dataset"
      ]
    },
    {
      "cell_type": "code",
      "execution_count": 2,
      "metadata": {},
      "outputs": [
        {
          "name": "stdout",
          "output_type": "stream",
          "text": [
            "Files already downloaded and verified\n",
            "Files already downloaded and verified\n"
          ]
        }
      ],
      "source": [
        "from torchvision import datasets\n",
        "from torchvision.transforms import ToTensor\n",
        "\n",
        "# Descargamos y creamos el dataset\n",
        "dataset_train = datasets.CIFAR10(\n",
        "    root=\"data\",\n",
        "    train=True,\n",
        "    download=True,\n",
        "    transform=ToTensor()\n",
        ")\n",
        "\n",
        "dataset_test = datasets.CIFAR10(\n",
        "    root=\"data\",\n",
        "    train=False,\n",
        "    download=True,\n",
        "    transform=ToTensor()\n",
        ")"
      ]
    },
    {
      "cell_type": "markdown",
      "metadata": {},
      "source": [
        "### Dataloader"
      ]
    },
    {
      "cell_type": "markdown",
      "metadata": {},
      "source": [
        "Creamos un dataloader"
      ]
    },
    {
      "cell_type": "code",
      "execution_count": 3,
      "metadata": {},
      "outputs": [],
      "source": [
        "from torch.utils.data import DataLoader\n",
        "\n",
        "BATCH_SIZE = 64\n",
        "\n",
        "train_dataloader = DataLoader(dataset_train, batch_size=BATCH_SIZE)\n",
        "test_dataloader = DataLoader(dataset_test, batch_size=BATCH_SIZE)"
      ]
    },
    {
      "cell_type": "markdown",
      "metadata": {},
      "source": [
        "### Red"
      ]
    },
    {
      "cell_type": "markdown",
      "metadata": {},
      "source": [
        "Creamos la red neuronal"
      ]
    },
    {
      "cell_type": "code",
      "execution_count": 4,
      "metadata": {},
      "outputs": [],
      "source": [
        "from torch import nn\n",
        "\n",
        "# Creamos la red neuronal desde cero\n",
        "class NeuralNetworkFromScratch(nn.Module):\n",
        "    def __init__(self):\n",
        "        super(NeuralNetworkFromScratch, self).__init__()   # Se inicializa el módulo nn.Module\n",
        "        self.flatten = nn.Flatten()             # Se crea una primera capa que aplana la imagen de entrada\n",
        "        self.linear_relu_stack = nn.Sequential( # Se crea una módulo de arquitectura secuencial:\n",
        "            nn.Linear(3*32*32, 512),                # Se añade una primera capa lineal que está preparada \n",
        "                                                    # para que le entre un vector de 28*28 (784)\n",
        "                                                    # y sacará un vector de 512\n",
        "            nn.ReLU(),                              # Se añade una no linealidad\n",
        "            nn.Linear(512, 512),                    # Se añade una segunda capa lineal que le entran 512 \n",
        "                                                    # datos y saca 512 datos\n",
        "            nn.ReLU(),                              # Se añade una no linealidad\n",
        "            nn.Linear(512, 10)                      # Se añade una tercera capa lineal que le entran 512 \n",
        "                                                    # datos y saca un array de tamaño 10 (el número\n",
        "                                                    # de etiquetas)\n",
        "        )\n",
        "        #self.softmax = nn.Softmax(dim=1)\n",
        "\n",
        "    def forward(self, x):\n",
        "        x = self.flatten(x)                         # Se pasa la imagen por la capa de aplanado\n",
        "        logits = self.linear_relu_stack(x)          # Se pasa el vector resultante por la red\n",
        "        #probs = self.softmax(logits)\n",
        "        return logits\n",
        "\n",
        "model_scratch = NeuralNetworkFromScratch()"
      ]
    },
    {
      "cell_type": "markdown",
      "metadata": {},
      "source": [
        "### Función de pérdida"
      ]
    },
    {
      "cell_type": "code",
      "execution_count": 5,
      "metadata": {},
      "outputs": [],
      "source": [
        "loss_fn = nn.CrossEntropyLoss()"
      ]
    },
    {
      "cell_type": "markdown",
      "metadata": {},
      "source": [
        "### Optimizador"
      ]
    },
    {
      "cell_type": "code",
      "execution_count": 6,
      "metadata": {},
      "outputs": [],
      "source": [
        "import torch\n",
        "\n",
        "LR = 1e-2\n",
        "\n",
        "optimizer = torch.optim.SGD(model_scratch.parameters(), lr=LR)"
      ]
    },
    {
      "cell_type": "markdown",
      "metadata": {},
      "source": [
        "### Ciclo de entrenamiento"
      ]
    },
    {
      "cell_type": "code",
      "execution_count": 7,
      "metadata": {},
      "outputs": [],
      "source": [
        "def train_loop(dataloader, model, loss_fn, optimizer):\n",
        "    size = len(dataloader.dataset)\n",
        "    for batch, (X, y) in enumerate(dataloader):\n",
        "        # X and y to device\n",
        "        X, y = X.to(device), y.to(device)\n",
        "\n",
        "        # Compute prediction and loss\n",
        "        pred = model(X)\n",
        "        loss = loss_fn(pred, y)\n",
        "\n",
        "        # Backpropagation\n",
        "        optimizer.zero_grad()\n",
        "        loss.backward()\n",
        "        optimizer.step()\n",
        "\n",
        "        if batch % 100 == 0:\n",
        "            loss, current = loss.item(), batch * len(X)\n",
        "            print(f\"loss: {loss:>7f}  [{current:>5d}/{size:>5d}]\")\n",
        "\n",
        "\n",
        "def test_loop(dataloader, model, loss_fn):\n",
        "    size = len(dataloader.dataset)\n",
        "    num_batches = len(dataloader)\n",
        "    test_loss, correct = 0, 0\n",
        "\n",
        "    with torch.no_grad():\n",
        "        for X, y in dataloader:\n",
        "            # X and y to device\n",
        "            X, y = X.to(device), y.to(device)\n",
        "            \n",
        "            pred = model(X)\n",
        "            test_loss += loss_fn(pred, y).item()\n",
        "            correct += (pred.argmax(1) == y).type(torch.float).sum().item()\n",
        "\n",
        "    test_loss /= num_batches\n",
        "    correct /= size\n",
        "    print(f\"Test Error: \\n Accuracy: {(100*correct):>0.1f}%, Avg loss: {test_loss:>8f} \\n\")"
      ]
    },
    {
      "cell_type": "code",
      "execution_count": 8,
      "metadata": {},
      "outputs": [
        {
          "name": "stdout",
          "output_type": "stream",
          "text": [
            "Using cuda device\n"
          ]
        },
        {
          "data": {
            "text/plain": [
              "NeuralNetworkFromScratch(\n",
              "  (flatten): Flatten(start_dim=1, end_dim=-1)\n",
              "  (linear_relu_stack): Sequential(\n",
              "    (0): Linear(in_features=3072, out_features=512, bias=True)\n",
              "    (1): ReLU()\n",
              "    (2): Linear(in_features=512, out_features=512, bias=True)\n",
              "    (3): ReLU()\n",
              "    (4): Linear(in_features=512, out_features=10, bias=True)\n",
              "  )\n",
              ")"
            ]
          },
          "execution_count": 8,
          "metadata": {},
          "output_type": "execute_result"
        }
      ],
      "source": [
        "# Get cpu or gpu device for training.\n",
        "device = \"cuda\" if torch.cuda.is_available() else \"cpu\"\n",
        "print(\"Using {} device\".format(device))\n",
        "\n",
        "model_scratch.to(device)"
      ]
    },
    {
      "cell_type": "code",
      "execution_count": 9,
      "metadata": {},
      "outputs": [
        {
          "name": "stdout",
          "output_type": "stream",
          "text": [
            "Epoch 1\n",
            "-------------------------------\n",
            "loss: 2.301225  [    0/50000]\n",
            "loss: 2.277909  [ 6400/50000]\n",
            "loss: 2.173830  [12800/50000]\n",
            "loss: 2.195755  [19200/50000]\n",
            "loss: 2.067676  [25600/50000]\n",
            "loss: 2.035912  [32000/50000]\n",
            "loss: 2.138791  [38400/50000]\n",
            "loss: 1.974689  [44800/50000]\n",
            "Test Error: \n",
            " Accuracy: 29.4%, Avg loss: 1.958342 \n",
            "\n",
            "Epoch 2\n",
            "-------------------------------\n",
            "loss: 2.008191  [    0/50000]\n",
            "loss: 1.987148  [ 6400/50000]\n",
            "loss: 1.761046  [12800/50000]\n",
            "loss: 2.001823  [19200/50000]\n",
            "loss: 1.969094  [25600/50000]\n",
            "loss: 1.930694  [32000/50000]\n",
            "loss: 1.994791  [38400/50000]\n",
            "loss: 1.856293  [44800/50000]\n",
            "Test Error: \n",
            " Accuracy: 33.9%, Avg loss: 1.856161 \n",
            "\n",
            "Epoch 3\n",
            "-------------------------------\n",
            "loss: 1.838799  [    0/50000]\n",
            "loss: 1.839898  [ 6400/50000]\n",
            "loss: 1.622337  [12800/50000]\n",
            "loss: 1.886332  [19200/50000]\n",
            "loss: 1.901909  [25600/50000]\n",
            "loss: 1.856423  [32000/50000]\n",
            "loss: 1.919078  [38400/50000]\n",
            "loss: 1.775067  [44800/50000]\n",
            "Test Error: \n",
            " Accuracy: 36.8%, Avg loss: 1.780902 \n",
            "\n",
            "Epoch 4\n",
            "-------------------------------\n",
            "loss: 1.743779  [    0/50000]\n",
            "loss: 1.731779  [ 6400/50000]\n",
            "loss: 1.533315  [12800/50000]\n",
            "loss: 1.792488  [19200/50000]\n",
            "loss: 1.824754  [25600/50000]\n",
            "loss: 1.812679  [32000/50000]\n",
            "loss: 1.839923  [38400/50000]\n",
            "loss: 1.719481  [44800/50000]\n",
            "Test Error: \n",
            " Accuracy: 38.5%, Avg loss: 1.731857 \n",
            "\n",
            "Epoch 5\n",
            "-------------------------------\n",
            "loss: 1.698617  [    0/50000]\n",
            "loss: 1.658360  [ 6400/50000]\n",
            "loss: 1.469690  [12800/50000]\n",
            "loss: 1.743388  [19200/50000]\n",
            "loss: 1.755342  [25600/50000]\n",
            "loss: 1.782386  [32000/50000]\n",
            "loss: 1.768816  [38400/50000]\n",
            "loss: 1.669461  [44800/50000]\n",
            "Test Error: \n",
            " Accuracy: 38.9%, Avg loss: 1.708948 \n",
            "\n",
            "Epoch 6\n",
            "-------------------------------\n",
            "loss: 1.679903  [    0/50000]\n",
            "loss: 1.606119  [ 6400/50000]\n",
            "loss: 1.414931  [12800/50000]\n",
            "loss: 1.724918  [19200/50000]\n",
            "loss: 1.704418  [25600/50000]\n",
            "loss: 1.745483  [32000/50000]\n",
            "loss: 1.707589  [38400/50000]\n",
            "loss: 1.632677  [44800/50000]\n",
            "Test Error: \n",
            " Accuracy: 38.9%, Avg loss: 1.701612 \n",
            "\n",
            "Epoch 7\n",
            "-------------------------------\n",
            "loss: 1.675947  [    0/50000]\n",
            "loss: 1.565399  [ 6400/50000]\n",
            "loss: 1.367833  [12800/50000]\n",
            "loss: 1.711913  [19200/50000]\n",
            "loss: 1.665273  [25600/50000]\n",
            "loss: 1.706784  [32000/50000]\n",
            "loss: 1.663572  [38400/50000]\n",
            "loss: 1.607689  [44800/50000]\n",
            "Test Error: \n",
            " Accuracy: 38.7%, Avg loss: 1.702800 \n",
            "\n",
            "Epoch 8\n",
            "-------------------------------\n",
            "loss: 1.675105  [    0/50000]\n",
            "loss: 1.531459  [ 6400/50000]\n",
            "loss: 1.330325  [12800/50000]\n",
            "loss: 1.709831  [19200/50000]\n",
            "loss: 1.636146  [25600/50000]\n",
            "loss: 1.669537  [32000/50000]\n",
            "loss: 1.629335  [38400/50000]\n",
            "loss: 1.588683  [44800/50000]\n",
            "Test Error: \n",
            " Accuracy: 37.8%, Avg loss: 1.721431 \n",
            "\n",
            "Epoch 9\n",
            "-------------------------------\n",
            "loss: 1.691594  [    0/50000]\n",
            "loss: 1.504313  [ 6400/50000]\n",
            "loss: 1.293288  [12800/50000]\n",
            "loss: 1.703552  [19200/50000]\n",
            "loss: 1.610455  [25600/50000]\n",
            "loss: 1.639264  [32000/50000]\n",
            "loss: 1.603577  [38400/50000]\n",
            "loss: 1.572465  [44800/50000]\n",
            "Test Error: \n",
            " Accuracy: 38.1%, Avg loss: 1.719543 \n",
            "\n",
            "Epoch 10\n",
            "-------------------------------\n",
            "loss: 1.688341  [    0/50000]\n",
            "loss: 1.478840  [ 6400/50000]\n",
            "loss: 1.267541  [12800/50000]\n",
            "loss: 1.703946  [19200/50000]\n",
            "loss: 1.581963  [25600/50000]\n",
            "loss: 1.620765  [32000/50000]\n",
            "loss: 1.580766  [38400/50000]\n",
            "loss: 1.564572  [44800/50000]\n",
            "Test Error: \n",
            " Accuracy: 38.5%, Avg loss: 1.704597 \n",
            "\n",
            "Done!\n"
          ]
        }
      ],
      "source": [
        "epochs = 10\n",
        "for t in range(epochs):\n",
        "    print(f\"Epoch {t+1}\\n-------------------------------\")\n",
        "    train_loop(train_dataloader, model_scratch, loss_fn, optimizer)\n",
        "    test_loop(test_dataloader, model_scratch, loss_fn)\n",
        "print(\"Done!\")"
      ]
    },
    {
      "cell_type": "markdown",
      "metadata": {},
      "source": [
        "## Guardar el modelo"
      ]
    },
    {
      "cell_type": "markdown",
      "metadata": {},
      "source": [
        "Al cargar pesos de modelo, necesitábamos crear una instancia de la clase de modelo primero, porque la clase define la estructura de una red. Es posible que deseemos guardar la estructura de esta clase junto con el modelo, en cuyo caso podemos pasar ``model`` (y no ''model.state_dict()'') a la función de guardar:"
      ]
    },
    {
      "cell_type": "code",
      "execution_count": 10,
      "metadata": {
        "collapsed": false
      },
      "outputs": [],
      "source": [
        "path = \"data/modelo.zip\"\n",
        "torch.jit.save(torch.jit.script(model_scratch.cpu()), path)"
      ]
    }
  ],
  "metadata": {
    "interpreter": {
      "hash": "2da05e9852e3725e6cd29dd2f3d6ebaa07dda6697715ddc2b5ea77aa5959f695"
    },
    "kernelspec": {
      "display_name": "Python 3.8.11 ('base')",
      "language": "python",
      "name": "python3"
    },
    "language_info": {
      "codemirror_mode": {
        "name": "ipython",
        "version": 3
      },
      "file_extension": ".py",
      "mimetype": "text/x-python",
      "name": "python",
      "nbconvert_exporter": "python",
      "pygments_lexer": "ipython3",
      "version": "3.8.11"
    }
  },
  "nbformat": 4,
  "nbformat_minor": 2
}
