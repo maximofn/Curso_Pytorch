{
  "cells": [
    {
      "attachments": {},
      "cell_type": "markdown",
      "metadata": {},
      "source": [
        "# Guardar y cargar el modelo - 07 Exportar el modelo"
      ]
    },
    {
      "attachments": {},
      "cell_type": "markdown",
      "metadata": {},
      "source": [
        "## Entrenamiento de la red"
      ]
    },
    {
      "attachments": {},
      "cell_type": "markdown",
      "metadata": {},
      "source": [
        "Vamos a hacer de manera rápida el entrenamiento de una red (creada desde cero) para el conjunto de datos `CIFAR-10`"
      ]
    },
    {
      "attachments": {},
      "cell_type": "markdown",
      "metadata": {},
      "source": [
        "### Dataset"
      ]
    },
    {
      "attachments": {},
      "cell_type": "markdown",
      "metadata": {},
      "source": [
        "Descargamos y creamos el dataset"
      ]
    },
    {
      "cell_type": "code",
      "execution_count": 1,
      "metadata": {},
      "outputs": [
        {
          "name": "stdout",
          "output_type": "stream",
          "text": [
            "Files already downloaded and verified\n",
            "Files already downloaded and verified\n"
          ]
        }
      ],
      "source": [
        "from torchvision import datasets\n",
        "from torchvision.transforms import ToTensor\n",
        "\n",
        "# Descargamos y creamos el dataset\n",
        "dataset_train = datasets.CIFAR10(\n",
        "    root=\"data\",\n",
        "    train=True,\n",
        "    download=True,\n",
        "    transform=ToTensor()\n",
        ")\n",
        "\n",
        "dataset_test = datasets.CIFAR10(\n",
        "    root=\"data\",\n",
        "    train=False,\n",
        "    download=True,\n",
        "    transform=ToTensor()\n",
        ")"
      ]
    },
    {
      "attachments": {},
      "cell_type": "markdown",
      "metadata": {},
      "source": [
        "### Dataloader"
      ]
    },
    {
      "attachments": {},
      "cell_type": "markdown",
      "metadata": {},
      "source": [
        "Creamos un dataloader"
      ]
    },
    {
      "cell_type": "code",
      "execution_count": 2,
      "metadata": {},
      "outputs": [],
      "source": [
        "from torch.utils.data import DataLoader\n",
        "\n",
        "BATCH_SIZE = 64\n",
        "\n",
        "train_dataloader = DataLoader(dataset_train, batch_size=BATCH_SIZE)\n",
        "test_dataloader = DataLoader(dataset_test, batch_size=BATCH_SIZE)"
      ]
    },
    {
      "attachments": {},
      "cell_type": "markdown",
      "metadata": {},
      "source": [
        "### Red"
      ]
    },
    {
      "attachments": {},
      "cell_type": "markdown",
      "metadata": {},
      "source": [
        "Creamos la red neuronal"
      ]
    },
    {
      "cell_type": "code",
      "execution_count": 3,
      "metadata": {},
      "outputs": [],
      "source": [
        "from torch import nn\n",
        "\n",
        "# Creamos la red neuronal desde cero\n",
        "class NeuralNetworkFromScratch(nn.Module):\n",
        "    def __init__(self):\n",
        "        super(NeuralNetworkFromScratch, self).__init__()   # Se inicializa el módulo nn.Module\n",
        "        self.flatten = nn.Flatten()             # Se crea una primera capa que aplana la imagen de entrada\n",
        "        self.linear_relu_stack = nn.Sequential( # Se crea una módulo de arquitectura secuencial:\n",
        "            nn.Linear(3*32*32, 512),                # Se añade una primera capa lineal que está preparada \n",
        "                                                    # para que le entre un vector de 28*28 (784)\n",
        "                                                    # y sacará un vector de 512\n",
        "            nn.ReLU(),                              # Se añade una no linealidad\n",
        "            nn.Linear(512, 512),                    # Se añade una segunda capa lineal que le entran 512 \n",
        "                                                    # datos y saca 512 datos\n",
        "            nn.ReLU(),                              # Se añade una no linealidad\n",
        "            nn.Linear(512, 10)                      # Se añade una tercera capa lineal que le entran 512 \n",
        "                                                    # datos y saca un array de tamaño 10 (el número\n",
        "                                                    # de etiquetas)\n",
        "        )\n",
        "        #self.softmax = nn.Softmax(dim=1)\n",
        "\n",
        "    def forward(self, x):\n",
        "        x = self.flatten(x)                         # Se pasa la imagen por la capa de aplanado\n",
        "        logits = self.linear_relu_stack(x)          # Se pasa el vector resultante por la red\n",
        "        #probs = self.softmax(logits)\n",
        "        return logits\n",
        "\n",
        "model_scratch = NeuralNetworkFromScratch()"
      ]
    },
    {
      "attachments": {},
      "cell_type": "markdown",
      "metadata": {},
      "source": [
        "### Función de pérdida"
      ]
    },
    {
      "cell_type": "code",
      "execution_count": 4,
      "metadata": {},
      "outputs": [],
      "source": [
        "loss_fn = nn.CrossEntropyLoss()"
      ]
    },
    {
      "attachments": {},
      "cell_type": "markdown",
      "metadata": {},
      "source": [
        "### Optimizador"
      ]
    },
    {
      "cell_type": "code",
      "execution_count": 5,
      "metadata": {},
      "outputs": [],
      "source": [
        "import torch\n",
        "\n",
        "LR = 1e-2\n",
        "\n",
        "optimizer = torch.optim.SGD(model_scratch.parameters(), lr=LR)"
      ]
    },
    {
      "attachments": {},
      "cell_type": "markdown",
      "metadata": {},
      "source": [
        "### Ciclo de entrenamiento"
      ]
    },
    {
      "cell_type": "code",
      "execution_count": 6,
      "metadata": {},
      "outputs": [],
      "source": [
        "def train_loop(dataloader, model, loss_fn, optimizer):\n",
        "    size = len(dataloader.dataset)\n",
        "    for batch, (X, y) in enumerate(dataloader):\n",
        "        # X and y to device\n",
        "        X, y = X.to(device), y.to(device)\n",
        "\n",
        "        # Compute prediction and loss\n",
        "        pred = model(X)\n",
        "        loss = loss_fn(pred, y)\n",
        "\n",
        "        # Backpropagation\n",
        "        optimizer.zero_grad()\n",
        "        loss.backward()\n",
        "        optimizer.step()\n",
        "\n",
        "        if batch % 100 == 0:\n",
        "            loss, current = loss.item(), batch * len(X)\n",
        "            print(f\"loss: {loss:>7f}  [{current:>5d}/{size:>5d}]\")\n",
        "\n",
        "\n",
        "def test_loop(dataloader, model, loss_fn):\n",
        "    size = len(dataloader.dataset)\n",
        "    num_batches = len(dataloader)\n",
        "    test_loss, correct = 0, 0\n",
        "\n",
        "    with torch.no_grad():\n",
        "        for X, y in dataloader:\n",
        "            # X and y to device\n",
        "            X, y = X.to(device), y.to(device)\n",
        "            \n",
        "            pred = model(X)\n",
        "            test_loss += loss_fn(pred, y).item()\n",
        "            correct += (pred.argmax(1) == y).type(torch.float).sum().item()\n",
        "\n",
        "    test_loss /= num_batches\n",
        "    correct /= size\n",
        "    print(f\"Test Error: \\n Accuracy: {(100*correct):>0.1f}%, Avg loss: {test_loss:>8f} \\n\")"
      ]
    },
    {
      "cell_type": "code",
      "execution_count": 7,
      "metadata": {},
      "outputs": [
        {
          "name": "stdout",
          "output_type": "stream",
          "text": [
            "Using cuda device\n"
          ]
        },
        {
          "data": {
            "text/plain": [
              "NeuralNetworkFromScratch(\n",
              "  (flatten): Flatten(start_dim=1, end_dim=-1)\n",
              "  (linear_relu_stack): Sequential(\n",
              "    (0): Linear(in_features=3072, out_features=512, bias=True)\n",
              "    (1): ReLU()\n",
              "    (2): Linear(in_features=512, out_features=512, bias=True)\n",
              "    (3): ReLU()\n",
              "    (4): Linear(in_features=512, out_features=10, bias=True)\n",
              "  )\n",
              ")"
            ]
          },
          "execution_count": 7,
          "metadata": {},
          "output_type": "execute_result"
        }
      ],
      "source": [
        "# Get cpu or gpu device for training.\n",
        "device = \"cuda\" if torch.cuda.is_available() else \"cpu\"\n",
        "print(\"Using {} device\".format(device))\n",
        "\n",
        "model_scratch.to(device)"
      ]
    },
    {
      "cell_type": "code",
      "execution_count": 8,
      "metadata": {},
      "outputs": [
        {
          "name": "stdout",
          "output_type": "stream",
          "text": [
            "Epoch 1\n",
            "-------------------------------\n",
            "loss: 2.311884  [    0/50000]\n",
            "loss: 2.279388  [ 6400/50000]\n",
            "loss: 2.168390  [12800/50000]\n",
            "loss: 2.208697  [19200/50000]\n",
            "loss: 2.061219  [25600/50000]\n",
            "loss: 2.043150  [32000/50000]\n",
            "loss: 2.145425  [38400/50000]\n",
            "loss: 1.961504  [44800/50000]\n",
            "Test Error: \n",
            " Accuracy: 29.8%, Avg loss: 1.957002 \n",
            "\n",
            "Epoch 2\n",
            "-------------------------------\n",
            "loss: 1.996380  [    0/50000]\n",
            "loss: 1.988638  [ 6400/50000]\n",
            "loss: 1.746577  [12800/50000]\n",
            "loss: 2.003356  [19200/50000]\n",
            "loss: 1.976030  [25600/50000]\n",
            "loss: 1.932840  [32000/50000]\n",
            "loss: 1.990224  [38400/50000]\n",
            "loss: 1.839992  [44800/50000]\n",
            "Test Error: \n",
            " Accuracy: 34.0%, Avg loss: 1.859366 \n",
            "\n",
            "Epoch 3\n",
            "-------------------------------\n",
            "loss: 1.823661  [    0/50000]\n",
            "loss: 1.838709  [ 6400/50000]\n",
            "loss: 1.611265  [12800/50000]\n",
            "loss: 1.885597  [19200/50000]\n",
            "loss: 1.908738  [25600/50000]\n",
            "loss: 1.857956  [32000/50000]\n",
            "loss: 1.900487  [38400/50000]\n",
            "loss: 1.758391  [44800/50000]\n",
            "Test Error: \n",
            " Accuracy: 36.6%, Avg loss: 1.787971 \n",
            "\n",
            "Epoch 4\n",
            "-------------------------------\n",
            "loss: 1.732844  [    0/50000]\n",
            "loss: 1.725659  [ 6400/50000]\n",
            "loss: 1.528567  [12800/50000]\n",
            "loss: 1.794739  [19200/50000]\n",
            "loss: 1.830251  [25600/50000]\n",
            "loss: 1.820016  [32000/50000]\n",
            "loss: 1.821944  [38400/50000]\n",
            "loss: 1.699316  [44800/50000]\n",
            "Test Error: \n",
            " Accuracy: 37.9%, Avg loss: 1.743201 \n",
            "\n",
            "Epoch 5\n",
            "-------------------------------\n",
            "loss: 1.696182  [    0/50000]\n",
            "loss: 1.654470  [ 6400/50000]\n",
            "loss: 1.468514  [12800/50000]\n",
            "loss: 1.749748  [19200/50000]\n",
            "loss: 1.757642  [25600/50000]\n",
            "loss: 1.788231  [32000/50000]\n",
            "loss: 1.759424  [38400/50000]\n",
            "loss: 1.655328  [44800/50000]\n",
            "Test Error: \n",
            " Accuracy: 37.7%, Avg loss: 1.729956 \n",
            "\n",
            "Epoch 6\n",
            "-------------------------------\n",
            "loss: 1.698681  [    0/50000]\n",
            "loss: 1.601580  [ 6400/50000]\n",
            "loss: 1.417597  [12800/50000]\n",
            "loss: 1.733036  [19200/50000]\n",
            "loss: 1.713008  [25600/50000]\n",
            "loss: 1.751326  [32000/50000]\n",
            "loss: 1.712293  [38400/50000]\n",
            "loss: 1.621358  [44800/50000]\n",
            "Test Error: \n",
            " Accuracy: 36.2%, Avg loss: 1.759331 \n",
            "\n",
            "Epoch 7\n",
            "-------------------------------\n",
            "loss: 1.736183  [    0/50000]\n",
            "loss: 1.560898  [ 6400/50000]\n",
            "loss: 1.369939  [12800/50000]\n",
            "loss: 1.729501  [19200/50000]\n",
            "loss: 1.675059  [25600/50000]\n",
            "loss: 1.712040  [32000/50000]\n",
            "loss: 1.675189  [38400/50000]\n",
            "loss: 1.602493  [44800/50000]\n",
            "Test Error: \n",
            " Accuracy: 35.7%, Avg loss: 1.765886 \n",
            "\n",
            "Epoch 8\n",
            "-------------------------------\n",
            "loss: 1.747020  [    0/50000]\n",
            "loss: 1.524016  [ 6400/50000]\n",
            "loss: 1.330067  [12800/50000]\n",
            "loss: 1.723620  [19200/50000]\n",
            "loss: 1.637394  [25600/50000]\n",
            "loss: 1.676636  [32000/50000]\n",
            "loss: 1.643601  [38400/50000]\n",
            "loss: 1.587141  [44800/50000]\n",
            "Test Error: \n",
            " Accuracy: 35.9%, Avg loss: 1.763518 \n",
            "\n",
            "Epoch 9\n",
            "-------------------------------\n",
            "loss: 1.742171  [    0/50000]\n",
            "loss: 1.496645  [ 6400/50000]\n",
            "loss: 1.298952  [12800/50000]\n",
            "loss: 1.720995  [19200/50000]\n",
            "loss: 1.604235  [25600/50000]\n",
            "loss: 1.650097  [32000/50000]\n",
            "loss: 1.615748  [38400/50000]\n",
            "loss: 1.577892  [44800/50000]\n",
            "Test Error: \n",
            " Accuracy: 36.8%, Avg loss: 1.743908 \n",
            "\n",
            "Epoch 10\n",
            "-------------------------------\n",
            "loss: 1.731075  [    0/50000]\n",
            "loss: 1.470230  [ 6400/50000]\n",
            "loss: 1.271562  [12800/50000]\n",
            "loss: 1.710241  [19200/50000]\n",
            "loss: 1.569563  [25600/50000]\n",
            "loss: 1.626513  [32000/50000]\n",
            "loss: 1.594790  [38400/50000]\n",
            "loss: 1.567406  [44800/50000]\n",
            "Test Error: \n",
            " Accuracy: 37.8%, Avg loss: 1.727608 \n",
            "\n",
            "Done!\n"
          ]
        }
      ],
      "source": [
        "epochs = 10\n",
        "for t in range(epochs):\n",
        "    print(f\"Epoch {t+1}\\n-------------------------------\")\n",
        "    train_loop(train_dataloader, model_scratch, loss_fn, optimizer)\n",
        "    test_loop(test_dataloader, model_scratch, loss_fn)\n",
        "print(\"Done!\")"
      ]
    },
    {
      "attachments": {},
      "cell_type": "markdown",
      "metadata": {},
      "source": [
        "## Exportar el modelo"
      ]
    },
    {
      "attachments": {},
      "cell_type": "markdown",
      "metadata": {},
      "source": [
        "Hasta ahora teníamos el problema de que para cargar un modelo, una de dos, si guardábamos los pesos, necesitábamos declarar la red e instanciarla, y en el caso de guardar el modelo, no hacía falta instanciarla, pero si declarar la red.\n",
        "\n",
        "Además que cuando queríamos volver a usar el modelo entrenado necesitábamos Pytorch, pero si en donde vamos a realizar la inferencia no tenemos Pytorch, o incluso peor, no tenemos ni Python estos métodos no nos valen"
      ]
    },
    {
      "attachments": {},
      "cell_type": "markdown",
      "metadata": {},
      "source": [
        "Para ello Pytorch también tiene soporte de exportación [ONNX](https://onnx.ai/) nativo.\n",
        "\n",
        "ONNX es un formato abierto creado para representar modelos de aprendizaje automático. ONNX define un conjunto común de operadores (los componentes básicos de los modelos de aprendizaje automático y aprendizaje profundo) y un formato de archivo común para permitir que los desarrolladores de IA usen modelos con una variedad de marcos, herramientas, tiempos de ejecución y compiladores.\n",
        "\n",
        "Sin embargo, dada la naturaleza dinámica del gráfico de ejecución de PyTorch, el proceso de exportación debe atravesar el gráfico de ejecución para producir un modelo ONNX persistente. Por esta razón, se debe pasar una variable de prueba del tamaño apropiado a la rutina de exportación (en nuestro caso, crearemos un tensor aleatorio ficticio del tamaño correcto):"
      ]
    },
    {
      "cell_type": "code",
      "execution_count": 10,
      "metadata": {
        "collapsed": false
      },
      "outputs": [
        {
          "name": "stdout",
          "output_type": "stream",
          "text": [
            "============= Diagnostic Run torch.onnx.export version 2.0.1+cu117 =============\n",
            "verbose: False, log level: Level.ERROR\n",
            "======================= 0 NONE 0 NOTE 0 WARNING 0 ERROR ========================\n",
            "\n"
          ]
        }
      ],
      "source": [
        "import torch.onnx as onnx\n",
        "\n",
        "path = \"data/modelo.onnx\"\n",
        "\n",
        "batch = 8\n",
        "input_image = torch.rand((batch,3,32,32))\n",
        "\n",
        "# Llevamos la red neuronal a la CPU\n",
        "model_scratch.to('cpu')\n",
        "\n",
        "onnx.export(model_scratch, input_image, path)"
      ]
    },
    {
      "attachments": {},
      "cell_type": "markdown",
      "metadata": {},
      "source": [
        "El uso de [ONNX](https://onnx.ai/) es algo que se escapa al objetivo de este curso, por lo que si se quiere aprender cómo importar el modelo se recomienda visitar el [tutorial de ONNX](https://github.com/onnx/tutorials)."
      ]
    },
    {
      "cell_type": "markdown",
      "metadata": {},
      "source": [
        "Pero hay que volver a destacar que ONNX es un estandar que se puede usar en varios lenguajes, por lo que es muy útil si queremos usar la red en otro entorno que no tenga Python. Gracias a Pytorch podemos usar un framework muy fácil de usar para entrenar una red, que además permite el uso muy cómodo y fácil de GPUs, y una vez la red neuronal está entrenada se puede usar en otro lenguaje"
      ]
    }
  ],
  "metadata": {
    "interpreter": {
      "hash": "2da05e9852e3725e6cd29dd2f3d6ebaa07dda6697715ddc2b5ea77aa5959f695"
    },
    "kernelspec": {
      "display_name": "Python 3.8.11 ('base')",
      "language": "python",
      "name": "python3"
    },
    "language_info": {
      "codemirror_mode": {
        "name": "ipython",
        "version": 3
      },
      "file_extension": ".py",
      "mimetype": "text/x-python",
      "name": "python",
      "nbconvert_exporter": "python",
      "pygments_lexer": "ipython3",
      "version": "3.8.17"
    }
  },
  "nbformat": 4,
  "nbformat_minor": 2
}
