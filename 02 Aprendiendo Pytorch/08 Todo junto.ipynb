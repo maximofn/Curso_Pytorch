{
  "cells": [
    {
      "cell_type": "code",
      "execution_count": 1,
      "metadata": {
        "collapsed": false
      },
      "outputs": [],
      "source": [
        "%matplotlib inline"
      ]
    },
    {
      "cell_type": "markdown",
      "metadata": {},
      "source": [
        "# Todo junto"
      ]
    },
    {
      "cell_type": "markdown",
      "metadata": {},
      "source": [
        "Volvemos a crear una red para entrenarla en el conjunto de datos `CIFAR-10` para hacer un resumen de lo que hemos aprendido y reforzar los conocimientos"
      ]
    },
    {
      "cell_type": "markdown",
      "metadata": {},
      "source": [
        "## Datasets, Dataloaders y transformaciones"
      ]
    },
    {
      "cell_type": "markdown",
      "metadata": {},
      "source": [
        "Necesitamos crear un dataset, podemos hacerlo descargándo el conjunto de datos de Pytorch. O también podemos crear el dataset desde cero\n",
        "\n",
        "Una vez tenemos el dataset, podemos dividirlo en batches para el entrenamiento.\n",
        "\n",
        "Además a la hora de crear el dataset, podemos hacer transformaciones de los datos que nos vengan bien para el entrenamiento"
      ]
    },
    {
      "cell_type": "code",
      "execution_count": 2,
      "metadata": {},
      "outputs": [
        {
          "name": "stdout",
          "output_type": "stream",
          "text": [
            "Files already downloaded and verified\n",
            "Files already downloaded and verified\n"
          ]
        }
      ],
      "source": [
        "from torchvision import datasets\n",
        "from torchvision.transforms import ToTensor\n",
        "\n",
        "training_data = datasets.CIFAR10(\n",
        "    root=\"data\",\n",
        "    train=True,\n",
        "    download=True,\n",
        "    transform=ToTensor()\n",
        ")\n",
        "\n",
        "test_data = datasets.CIFAR10(\n",
        "    root=\"data\",\n",
        "    train=False,\n",
        "    download=True,\n",
        "    transform=ToTensor()\n",
        ")"
      ]
    },
    {
      "cell_type": "code",
      "execution_count": 3,
      "metadata": {},
      "outputs": [],
      "source": [
        "from torch.utils.data import DataLoader\n",
        "\n",
        "BS = 64\n",
        "\n",
        "train_dataloader = DataLoader(training_data, batch_size=BS, shuffle=True)\n",
        "test_dataloader = DataLoader(test_data, batch_size=BS, shuffle=True)"
      ]
    },
    {
      "cell_type": "markdown",
      "metadata": {},
      "source": [
        "## Red neuronal (modelo)"
      ]
    },
    {
      "cell_type": "markdown",
      "metadata": {},
      "source": [
        "Definimos e instanciamos nuestra red neuronal. Podemos crearla desde cero o meadiante transfer learning.\n",
        "\n",
        "Si tenemos una GPU podemos llevarnos la red a la GPU para que el entrenamiento sea más rápido"
      ]
    },
    {
      "cell_type": "code",
      "execution_count": 4,
      "metadata": {},
      "outputs": [],
      "source": [
        "from torch import nn\n",
        "\n",
        "# Creamos la red neuronal desde cero\n",
        "class NeuralNetworkFromScratch(nn.Module):\n",
        "    def __init__(self):\n",
        "        super(NeuralNetworkFromScratch, self).__init__()   # Se inicializa el módulo nn.Module\n",
        "        self.flatten = nn.Flatten()             # Se crea una primera capa que aplana la imagen de entrada\n",
        "        self.linear_relu_stack = nn.Sequential( # Se crea una módulo de arquitectura secuencial:\n",
        "            nn.Linear(3*32*32, 512),                # Se añade una primera capa lineal que está preparada \n",
        "                                                    # para que le entre un vector de 28*28 (784)\n",
        "                                                    # y sacará un vector de 512\n",
        "            nn.ReLU(),                              # Se añade una no linealidad\n",
        "            nn.Linear(512, 512),                    # Se añade una segunda capa lineal que le entran 512 \n",
        "                                                    # datos y saca 512 datos\n",
        "            nn.ReLU(),                              # Se añade una no linealidad\n",
        "            nn.Linear(512, 10)                      # Se añade una tercera capa lineal que le entran 512 \n",
        "                                                    # datos y saca un array de tamaño 10 (el número\n",
        "                                                    # de etiquetas)\n",
        "        )\n",
        "        #self.softmax = nn.Softmax(dim=1)\n",
        "\n",
        "    def forward(self, x):\n",
        "        x = self.flatten(x)                         # Se pasa la imagen por la capa de aplanado\n",
        "        logits = self.linear_relu_stack(x)          # Se pasa el vector resultante por la red\n",
        "        #probs = self.softmax(logits)\n",
        "        return logits\n",
        "\n",
        "model_scratch = NeuralNetworkFromScratch()"
      ]
    },
    {
      "cell_type": "code",
      "execution_count": 5,
      "metadata": {},
      "outputs": [
        {
          "name": "stdout",
          "output_type": "stream",
          "text": [
            "Using cuda device\n"
          ]
        },
        {
          "data": {
            "text/plain": [
              "NeuralNetworkFromScratch(\n",
              "  (flatten): Flatten(start_dim=1, end_dim=-1)\n",
              "  (linear_relu_stack): Sequential(\n",
              "    (0): Linear(in_features=3072, out_features=512, bias=True)\n",
              "    (1): ReLU()\n",
              "    (2): Linear(in_features=512, out_features=512, bias=True)\n",
              "    (3): ReLU()\n",
              "    (4): Linear(in_features=512, out_features=10, bias=True)\n",
              "  )\n",
              ")"
            ]
          },
          "execution_count": 5,
          "metadata": {},
          "output_type": "execute_result"
        }
      ],
      "source": [
        "import torch\n",
        "\n",
        "# Get cpu or gpu device for training.\n",
        "device = \"cuda\" if torch.cuda.is_available() else \"cpu\"\n",
        "print(\"Using {} device\".format(device))\n",
        "\n",
        "model_scratch.to(device)"
      ]
    },
    {
      "cell_type": "markdown",
      "metadata": {},
      "source": [
        "## Función de pérdida y optimizador"
      ]
    },
    {
      "cell_type": "markdown",
      "metadata": {},
      "source": [
        "Definimos una función de pérdida y un optimizador"
      ]
    },
    {
      "cell_type": "code",
      "execution_count": 6,
      "metadata": {},
      "outputs": [],
      "source": [
        "LR = 1e-2\n",
        "\n",
        "loss_fn = nn.CrossEntropyLoss()\n",
        "optimizer = torch.optim.SGD(model_scratch.parameters(), lr=LR)\n"
      ]
    },
    {
      "cell_type": "markdown",
      "metadata": {},
      "source": [
        "## Ciclo de entrenamiento"
      ]
    },
    {
      "cell_type": "markdown",
      "metadata": {},
      "source": [
        "Entrenamos la red"
      ]
    },
    {
      "cell_type": "code",
      "execution_count": 7,
      "metadata": {},
      "outputs": [],
      "source": [
        "def train_loop(dataloader, model, loss_fn, optimizer):\n",
        "    size = len(dataloader.dataset)\n",
        "    for batch, (X, y) in enumerate(dataloader):\n",
        "        # X and y to device\n",
        "        X, y = X.to(device), y.to(device)\n",
        "\n",
        "        # Compute prediction and loss\n",
        "        pred = model(X)\n",
        "        loss = loss_fn(pred, y)\n",
        "\n",
        "        # Backpropagation\n",
        "        optimizer.zero_grad()\n",
        "        loss.backward()\n",
        "        optimizer.step()\n",
        "\n",
        "        if batch % 100 == 0:\n",
        "            loss, current = loss.item(), batch * len(X)\n",
        "            print(f\"loss: {loss:>7f}  [{current:>5d}/{size:>5d}]\")\n",
        "\n",
        "\n",
        "def test_loop(dataloader, model, loss_fn):\n",
        "    size = len(dataloader.dataset)\n",
        "    num_batches = len(dataloader)\n",
        "    test_loss, correct = 0, 0\n",
        "\n",
        "    with torch.no_grad():\n",
        "        for X, y in dataloader:\n",
        "            # X and y to device\n",
        "            X, y = X.to(device), y.to(device)\n",
        "            \n",
        "            pred = model(X)\n",
        "            test_loss += loss_fn(pred, y).item()\n",
        "            correct += (pred.argmax(1) == y).type(torch.float).sum().item()\n",
        "\n",
        "    test_loss /= num_batches\n",
        "    correct /= size\n",
        "    print(f\"Test Error: \\n Accuracy: {(100*correct):>0.1f}%, Avg loss: {test_loss:>8f} \\n\")"
      ]
    },
    {
      "cell_type": "code",
      "execution_count": 8,
      "metadata": {},
      "outputs": [
        {
          "name": "stdout",
          "output_type": "stream",
          "text": [
            "Epoch 1\n",
            "-------------------------------\n",
            "loss: 2.292881  [    0/50000]\n",
            "loss: 2.253162  [ 6400/50000]\n",
            "loss: 2.254493  [12800/50000]\n",
            "loss: 2.131873  [19200/50000]\n",
            "loss: 2.044054  [25600/50000]\n",
            "loss: 2.040840  [32000/50000]\n",
            "loss: 1.946755  [38400/50000]\n",
            "loss: 1.903936  [44800/50000]\n",
            "Test Error: \n",
            " Accuracy: 30.6%, Avg loss: 1.949836 \n",
            "\n",
            "Epoch 2\n",
            "-------------------------------\n",
            "loss: 2.012805  [    0/50000]\n",
            "loss: 2.038391  [ 6400/50000]\n",
            "loss: 2.039904  [12800/50000]\n",
            "loss: 1.918222  [19200/50000]\n",
            "loss: 1.917239  [25600/50000]\n",
            "loss: 1.964177  [32000/50000]\n",
            "loss: 1.927772  [38400/50000]\n",
            "loss: 1.857523  [44800/50000]\n",
            "Test Error: \n",
            " Accuracy: 34.9%, Avg loss: 1.843790 \n",
            "\n",
            "Epoch 3\n",
            "-------------------------------\n",
            "loss: 1.765827  [    0/50000]\n",
            "loss: 1.691749  [ 6400/50000]\n",
            "loss: 1.787539  [12800/50000]\n",
            "loss: 1.778993  [19200/50000]\n",
            "loss: 2.037781  [25600/50000]\n",
            "loss: 1.752187  [32000/50000]\n",
            "loss: 1.784580  [38400/50000]\n",
            "loss: 1.633242  [44800/50000]\n",
            "Test Error: \n",
            " Accuracy: 31.1%, Avg loss: 1.931956 \n",
            "\n",
            "Epoch 4\n",
            "-------------------------------\n",
            "loss: 1.846174  [    0/50000]\n",
            "loss: 1.872676  [ 6400/50000]\n",
            "loss: 1.809991  [12800/50000]\n",
            "loss: 1.873386  [19200/50000]\n",
            "loss: 1.829244  [25600/50000]\n",
            "loss: 1.743187  [32000/50000]\n",
            "loss: 1.808505  [38400/50000]\n",
            "loss: 1.635011  [44800/50000]\n",
            "Test Error: \n",
            " Accuracy: 38.8%, Avg loss: 1.726842 \n",
            "\n",
            "Epoch 5\n",
            "-------------------------------\n",
            "loss: 1.600091  [    0/50000]\n",
            "loss: 1.714626  [ 6400/50000]\n",
            "loss: 1.657216  [12800/50000]\n",
            "loss: 1.688834  [19200/50000]\n",
            "loss: 1.752804  [25600/50000]\n",
            "loss: 1.552619  [32000/50000]\n",
            "loss: 1.632835  [38400/50000]\n",
            "loss: 1.930504  [44800/50000]\n",
            "Test Error: \n",
            " Accuracy: 39.8%, Avg loss: 1.679429 \n",
            "\n",
            "Epoch 6\n",
            "-------------------------------\n",
            "loss: 1.471980  [    0/50000]\n",
            "loss: 1.538952  [ 6400/50000]\n",
            "loss: 1.651030  [12800/50000]\n",
            "loss: 1.507904  [19200/50000]\n",
            "loss: 1.751692  [25600/50000]\n",
            "loss: 1.686795  [32000/50000]\n",
            "loss: 1.587971  [38400/50000]\n",
            "loss: 1.543423  [44800/50000]\n",
            "Test Error: \n",
            " Accuracy: 42.4%, Avg loss: 1.621927 \n",
            "\n",
            "Epoch 7\n",
            "-------------------------------\n",
            "loss: 1.593557  [    0/50000]\n",
            "loss: 1.749055  [ 6400/50000]\n",
            "loss: 1.583334  [12800/50000]\n",
            "loss: 1.547219  [19200/50000]\n",
            "loss: 1.683659  [25600/50000]\n",
            "loss: 1.660721  [32000/50000]\n",
            "loss: 1.444562  [38400/50000]\n",
            "loss: 1.567297  [44800/50000]\n",
            "Test Error: \n",
            " Accuracy: 42.8%, Avg loss: 1.610994 \n",
            "\n",
            "Epoch 8\n",
            "-------------------------------\n",
            "loss: 1.545299  [    0/50000]\n",
            "loss: 1.656602  [ 6400/50000]\n",
            "loss: 1.737031  [12800/50000]\n",
            "loss: 1.829681  [19200/50000]\n",
            "loss: 1.548696  [25600/50000]\n",
            "loss: 1.762576  [32000/50000]\n",
            "loss: 1.790601  [38400/50000]\n",
            "loss: 1.733546  [44800/50000]\n",
            "Test Error: \n",
            " Accuracy: 44.1%, Avg loss: 1.595892 \n",
            "\n",
            "Epoch 9\n",
            "-------------------------------\n",
            "loss: 1.576528  [    0/50000]\n",
            "loss: 1.415443  [ 6400/50000]\n",
            "loss: 1.397622  [12800/50000]\n",
            "loss: 1.572268  [19200/50000]\n",
            "loss: 1.330171  [25600/50000]\n",
            "loss: 1.531623  [32000/50000]\n",
            "loss: 1.493511  [38400/50000]\n",
            "loss: 1.726095  [44800/50000]\n",
            "Test Error: \n",
            " Accuracy: 40.1%, Avg loss: 1.675446 \n",
            "\n",
            "Epoch 10\n",
            "-------------------------------\n",
            "loss: 1.634020  [    0/50000]\n",
            "loss: 1.545090  [ 6400/50000]\n",
            "loss: 1.624678  [12800/50000]\n",
            "loss: 1.325535  [19200/50000]\n",
            "loss: 1.581432  [25600/50000]\n",
            "loss: 1.573768  [32000/50000]\n",
            "loss: 1.373697  [38400/50000]\n",
            "loss: 1.441515  [44800/50000]\n",
            "Test Error: \n",
            " Accuracy: 45.6%, Avg loss: 1.539085 \n",
            "\n",
            "Done!\n"
          ]
        }
      ],
      "source": [
        "epochs = 10\n",
        "for t in range(epochs):\n",
        "    print(f\"Epoch {t+1}\\n-------------------------------\")\n",
        "    train_loop(train_dataloader, model_scratch, loss_fn, optimizer)\n",
        "    test_loop(test_dataloader, model_scratch, loss_fn)\n",
        "print(\"Done!\")"
      ]
    },
    {
      "cell_type": "markdown",
      "metadata": {},
      "source": [
        "## Guardar o exportar el modelo"
      ]
    },
    {
      "cell_type": "markdown",
      "metadata": {},
      "source": [
        "Podemos guardar o exportar el modelo"
      ]
    },
    {
      "cell_type": "code",
      "execution_count": 9,
      "metadata": {},
      "outputs": [],
      "source": [
        "import torch.onnx as onnx\n",
        "\n",
        "# Pesos\n",
        "path = \"data/pesos.pth\"\n",
        "torch.save(model_scratch.state_dict(), path)\n",
        "\n",
        "# Red\n",
        "path = \"data/modelo.pth\"\n",
        "torch.save(model_scratch, path)\n",
        "\n",
        "# Zip\n",
        "path = \"data/modelo.zip\"\n",
        "torch.jit.save(torch.jit.script(model_scratch.cpu()), path)\n",
        "\n",
        "# ONNX\n",
        "path = \"data/modelo.onnx\"\n",
        "batch = 8\n",
        "input_image = torch.rand((batch,3,32,32))\n",
        "model_scratch.to('cpu')\n",
        "onnx.export(model_scratch, input_image, 'model.onnx')"
      ]
    },
    {
      "cell_type": "markdown",
      "metadata": {},
      "source": [
        "## Cargar el modelo"
      ]
    },
    {
      "cell_type": "markdown",
      "metadata": {},
      "source": [
        "Podmeos cargar el modelo guardado previamente"
      ]
    },
    {
      "cell_type": "code",
      "execution_count": 10,
      "metadata": {},
      "outputs": [],
      "source": [
        "from torch import load\n",
        "\n",
        "# Pesos\n",
        "path = \"data/pesos.pth\"\n",
        "model_scratch.load_state_dict(load(path))\n",
        "\n",
        "# Red\n",
        "path = \"data/modelo.pth\"\n",
        "model_scratch = load(path)\n",
        "\n",
        "# Zip\n",
        "path = \"data/modelo.zip\"\n",
        "model_scratch = torch.jit.load(path)"
      ]
    },
    {
      "cell_type": "markdown",
      "metadata": {},
      "source": [
        "## Inferencia"
      ]
    },
    {
      "cell_type": "markdown",
      "metadata": {},
      "source": [
        "Una vez tenemos nuestra red entrenada la podemos usar para hacer predicciones"
      ]
    },
    {
      "cell_type": "code",
      "execution_count": 14,
      "metadata": {},
      "outputs": [
        {
          "data": {
            "text/plain": [
              "<matplotlib.image.AxesImage at 0x7f1fd4648340>"
            ]
          },
          "execution_count": 14,
          "metadata": {},
          "output_type": "execute_result"
        },
        {
          "data": {
            "image/png": "[encoded data removed]",
            "text/plain": [
              "<Figure size 360x360 with 1 Axes>"
            ]
          },
          "metadata": {
            "needs_background": "light"
          },
          "output_type": "display_data"
        }
      ],
      "source": [
        "from random import randint, seed\n",
        "import matplotlib.pyplot as plt\n",
        "\n",
        "# Generamos una semilla fija para poder repetir el ejemplo\n",
        "seed(10)\n",
        "\n",
        "# Cogemos una muestra al azahar\n",
        "idx = randint(0, len(train_dataloader)-1)\n",
        "sample_dataloader = next(iter(train_dataloader))\n",
        "sample_dataloader_images, sample_dataloader_labels = sample_dataloader\n",
        "idx = randint(0, len(sample_dataloader_images)-1)\n",
        "sample_image = sample_dataloader_images[idx]\n",
        "sample_label = sample_dataloader_labels[idx]\n",
        "\n",
        "labels_map = {\n",
        "    0: \"airplane\",\n",
        "    1: \"automobile\",\n",
        "    2: \"bird\",\n",
        "    3: \"cat\",\n",
        "    4: \"deer\",\n",
        "    5: \"dog\",\n",
        "    6: \"frog\",\n",
        "    7: \"horse\",\n",
        "    8: \"ship\",\n",
        "    9: \"truck\",\n",
        "}\n",
        "\n",
        "figure = plt.figure(figsize=(5, 5))\n",
        "plt.title(labels_map[sample_label.item()])\n",
        "plt.axis(\"off\")\n",
        "\n",
        "plt.imshow(sample_image.permute(1,2,0).squeeze())  \n",
        "# permute cambia el orden de las dimensiones, ya que las\n",
        "# imágenes tienen tamaño 3x32x32, pero necesitamos que\n",
        "# las dimensiones sean 32x32x3 para que matplotlib las pinte\n",
        "# así que se permutan poniendo primero las dos de 32 y \n",
        "# la última la de 3\n",
        "\n",
        "# squeeze elimina todas las dimensiones 1 de un tensor, \n",
        "# si se le mete un tensor de dimensiones (Ax1xBxCx1xD) \n",
        "# devuelve un tensor de dimensiones (AxBxCxD)"
      ]
    },
    {
      "cell_type": "code",
      "execution_count": 15,
      "metadata": {},
      "outputs": [
        {
          "name": "stdout",
          "output_type": "stream",
          "text": [
            "La red cree que en la imagen hay dog\n"
          ]
        }
      ],
      "source": [
        "# Le pasamos la imagen a la red neuronal creada desde cero\n",
        "model_scratch.to(\"cpu\")\n",
        "logits_scratch = model_scratch(sample_dataloader_images)\n",
        "\n",
        "# La red ha devuelto 64 logits, por lo que nos quedamos con el \n",
        "# número idx que es el que se ha representado antes\n",
        "probs_scratch = logits_scratch.softmax(dim=1)\n",
        "label = probs_scratch[idx].argmax().item()\n",
        "print(f\"La red cree que en la imagen hay {labels_map[label]}\")"
      ]
    }
  ],
  "metadata": {
    "interpreter": {
      "hash": "d1c24abb23a313e1f9ae042292cd8e6e3c60c5818227ced3d46e3df2c65171ef"
    },
    "kernelspec": {
      "display_name": "Python 3.8.5 64-bit ('base': conda)",
      "name": "python3"
    },
    "language_info": {
      "codemirror_mode": {
        "name": "ipython",
        "version": 3
      },
      "file_extension": ".py",
      "mimetype": "text/x-python",
      "name": "python",
      "nbconvert_exporter": "python",
      "pygments_lexer": "ipython3",
      "version": "3.8.8"
    }
  },
  "nbformat": 4,
  "nbformat_minor": 2
}
