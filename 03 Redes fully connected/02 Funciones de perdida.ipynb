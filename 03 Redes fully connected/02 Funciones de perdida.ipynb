{
 "cells": [
  {
   "cell_type": "markdown",
   "metadata": {},
   "source": [
    "# Funciones de pérdida"
   ]
  },
  {
   "cell_type": "markdown",
   "metadata": {},
   "source": [
    "Aunque hay muchas más, vamos a ver las funciones de pérdida más comunes"
   ]
  },
  {
   "cell_type": "markdown",
   "metadata": {},
   "source": [
    "## L1"
   ]
  },
  {
   "cell_type": "markdown",
   "metadata": {},
   "source": [
    "```python\n",
    "torch.nn.L1loss(size_average=None, reduce=None, reduction='mean')\n",
    "```\n",
    "\n",
    "Calcula el error absoluto\n",
    "\n",
    "$ l\\left(x,y\\right) = \\left[l_1,...,l_N\\right]^T $, donde $l_n = \\left|x_n-y_n\\right|$\n",
    "\n",
    "`reduction` usa por defecto ``'mean'``, pero puede también usar ``'sum'`` y ``'none'``. Los parámetros ``size_average`` y ``reduce`` están obsoletos y Pytorch recomienda no usarlos y solo usar ``reduction``\n",
    "\n",
    "Cuando en ``reduction`` se usa ``'mean'`` se hace una media de todos los errores, cuando se usa ``'sum'`` se hace la suma de todos los errores y cuando se usa ``'none'`` no se hace nada\n",
    "\n",
    "Vamos a verlo"
   ]
  },
  {
   "cell_type": "markdown",
   "metadata": {},
   "source": [
    "Creamos lo que sería la predicción de la red neuronal"
   ]
  },
  {
   "cell_type": "code",
   "execution_count": 28,
   "metadata": {},
   "outputs": [
    {
     "data": {
      "text/plain": [
       "tensor([[0.1499, 0.7838, 0.6332, 0.4235, 0.5981],\n",
       "        [0.7691, 0.4440, 0.9998, 0.1718, 0.0864],\n",
       "        [0.3246, 0.6581, 0.2118, 0.6618, 0.8150]], requires_grad=True)"
      ]
     },
     "execution_count": 28,
     "metadata": {},
     "output_type": "execute_result"
    }
   ],
   "source": [
    "import torch\n",
    "\n",
    "preds = torch.rand(3, 5, requires_grad=True)\n",
    "preds"
   ]
  },
  {
   "cell_type": "markdown",
   "metadata": {},
   "source": [
    "Creamos lo que sería la verdadera salida"
   ]
  },
  {
   "cell_type": "code",
   "execution_count": 29,
   "metadata": {},
   "outputs": [
    {
     "data": {
      "text/plain": [
       "tensor([[0.9842, 0.0592, 0.1925, 0.2206, 0.8483],\n",
       "        [0.9688, 0.5489, 0.5241, 0.3715, 0.6758],\n",
       "        [0.7450, 0.4149, 0.6630, 0.8465, 0.8706]])"
      ]
     },
     "execution_count": 29,
     "metadata": {},
     "output_type": "execute_result"
    }
   ],
   "source": [
    "target = torch.rand(3, 5)\n",
    "target"
   ]
  },
  {
   "cell_type": "markdown",
   "metadata": {},
   "source": [
    "Definimos la función de coste con `reduction` con su valor predeterminado, es decir, `mean` y comparamos lo que da la función de coste con hacer nosotros la operación que dice la teoría"
   ]
  },
  {
   "cell_type": "code",
   "execution_count": 30,
   "metadata": {},
   "outputs": [
    {
     "data": {
      "text/plain": [
       "(0.3584846556186676, 0.3584846556186676)"
      ]
     },
     "execution_count": 30,
     "metadata": {},
     "output_type": "execute_result"
    }
   ],
   "source": [
    "loss = torch.nn.L1Loss(size_average=None, reduce=None, reduction='mean') # Predeterminado\n",
    "\n",
    "loss_fn = loss(preds, target)\n",
    "my_loss = abs(preds - target).mean()\n",
    "\n",
    "loss_fn.item(), my_loss.item()"
   ]
  },
  {
   "cell_type": "markdown",
   "metadata": {},
   "source": [
    "Definimos la función de coste ahora con `reduction` con valor `sum` y comparamos lo que da la función de coste con hacer nosotros la operación que dice la teoría"
   ]
  },
  {
   "cell_type": "code",
   "execution_count": 31,
   "metadata": {},
   "outputs": [
    {
     "data": {
      "text/plain": [
       "(5.377269744873047, 5.377269744873047)"
      ]
     },
     "execution_count": 31,
     "metadata": {},
     "output_type": "execute_result"
    }
   ],
   "source": [
    "loss = torch.nn.L1Loss(size_average=None, reduce=None, reduction='sum')\n",
    "\n",
    "loss_fn = loss(preds, target)\n",
    "my_loss = abs(preds - target).sum()\n",
    "\n",
    "loss_fn.item(), my_loss.item()"
   ]
  },
  {
   "cell_type": "markdown",
   "metadata": {},
   "source": [
    "Definimos la función de coste ahora con `reduction` con valor `none` y comparamos lo que da la función de coste con hacer nosotros la operación que dice la teoría"
   ]
  },
  {
   "cell_type": "code",
   "execution_count": 32,
   "metadata": {},
   "outputs": [
    {
     "data": {
      "text/plain": [
       "(tensor([[0.8343, 0.7246, 0.4406, 0.2028, 0.2503],\n",
       "         [0.1998, 0.1049, 0.4757, 0.1997, 0.5894],\n",
       "         [0.4204, 0.2432, 0.4513, 0.1847, 0.0557]], grad_fn=<L1LossBackward0>),\n",
       " tensor([[0.8343, 0.7246, 0.4406, 0.2028, 0.2503],\n",
       "         [0.1998, 0.1049, 0.4757, 0.1997, 0.5894],\n",
       "         [0.4204, 0.2432, 0.4513, 0.1847, 0.0557]], grad_fn=<AbsBackward0>))"
      ]
     },
     "execution_count": 32,
     "metadata": {},
     "output_type": "execute_result"
    }
   ],
   "source": [
    "loss = torch.nn.L1Loss(size_average=None, reduce=None, reduction='none')\n",
    "\n",
    "loss_fn = loss(preds, target)\n",
    "my_loss = abs(preds - target)\n",
    "\n",
    "loss_fn, my_loss"
   ]
  },
  {
   "cell_type": "markdown",
   "metadata": {},
   "source": [
    "## MSE"
   ]
  },
  {
   "cell_type": "markdown",
   "metadata": {},
   "source": [
    "```python\n",
    "torch.nn.MSELoss(size_average=None, reduce=None, reduction='mean')\n",
    "```\n",
    "\n",
    "Calcula el error cuadrático\n",
    "\n",
    "$ l\\left(x,y\\right) = \\left[l_1,...,l_N\\right]^T $, donde $l_n = \\left(x_n-y_n\\right)^2$\n",
    "\n",
    "`reduction` usa por defecto ``'mean'``, pero puede también usar ``'sum'`` y ``'none'``. Los parámetros ``size_average`` y ``reduce`` están obsoletos y Pytorch recomienda no usarlos y solo usar ``reduction``\n",
    "\n",
    "Cuando en ``reduction`` se usa ``'mean'`` se hace una media de todos los errores, cuando se usa ``'sum'`` se hace la suma de todos los errores y cuando se usa ``'none'`` no se hace nada\n",
    "\n",
    "Vamos a verlo"
   ]
  },
  {
   "cell_type": "markdown",
   "metadata": {},
   "source": [
    "Creamos lo que sería la predicción de la red neuronal"
   ]
  },
  {
   "cell_type": "code",
   "execution_count": 33,
   "metadata": {},
   "outputs": [
    {
     "data": {
      "text/plain": [
       "tensor([[0.5684, 0.4625, 0.5211, 0.9668, 0.8776],\n",
       "        [0.7379, 0.9137, 0.6533, 0.5459, 0.2191],\n",
       "        [0.5523, 0.9015, 0.8059, 0.8893, 0.3489]], requires_grad=True)"
      ]
     },
     "execution_count": 33,
     "metadata": {},
     "output_type": "execute_result"
    }
   ],
   "source": [
    "import torch\n",
    "\n",
    "preds = torch.rand(3, 5, requires_grad=True)\n",
    "preds"
   ]
  },
  {
   "cell_type": "markdown",
   "metadata": {},
   "source": [
    "Creamos lo que sería la verdadera salida"
   ]
  },
  {
   "cell_type": "code",
   "execution_count": 34,
   "metadata": {},
   "outputs": [
    {
     "data": {
      "text/plain": [
       "tensor([[0.8533, 0.8784, 0.0505, 0.9376, 0.2134],\n",
       "        [0.2214, 0.6986, 0.1518, 0.2798, 0.2936],\n",
       "        [0.5170, 0.2116, 0.8899, 0.6630, 0.0535]])"
      ]
     },
     "execution_count": 34,
     "metadata": {},
     "output_type": "execute_result"
    }
   ],
   "source": [
    "target = torch.rand(3, 5)\n",
    "target"
   ]
  },
  {
   "cell_type": "markdown",
   "metadata": {},
   "source": [
    "Definimos la función de coste con `reduction` con su valor predeterminado, es decir, `mean` y comparamos lo que da la función de coste con hacer nosotros la operación que dice la teoría"
   ]
  },
  {
   "cell_type": "code",
   "execution_count": 35,
   "metadata": {},
   "outputs": [
    {
     "data": {
      "text/plain": [
       "(0.1454271823167801, 0.10110653936862946)"
      ]
     },
     "execution_count": 35,
     "metadata": {},
     "output_type": "execute_result"
    }
   ],
   "source": [
    "loss = torch.nn.MSELoss(size_average=None, reduce=None, reduction='mean') # Predeterminado\n",
    "\n",
    "loss_fn = loss(preds, target)\n",
    "my_loss = ((preds - target)**2).mean()\n",
    "\n",
    "loss_fn.item(), my_loss.item()"
   ]
  },
  {
   "cell_type": "markdown",
   "metadata": {},
   "source": [
    "Definimos la función de coste ahora con `reduction` con valor `sum` y comparamos lo que da la función de coste con hacer nosotros la operación que dice la teoría"
   ]
  },
  {
   "cell_type": "code",
   "execution_count": 36,
   "metadata": {},
   "outputs": [
    {
     "data": {
      "text/plain": [
       "(2.1814076900482178, 2.1814076900482178)"
      ]
     },
     "execution_count": 36,
     "metadata": {},
     "output_type": "execute_result"
    }
   ],
   "source": [
    "loss = torch.nn.MSELoss(size_average=None, reduce=None, reduction='sum')\n",
    "\n",
    "loss_fn = loss(preds, target)\n",
    "my_loss = ((preds - target)**2).sum()\n",
    "\n",
    "loss_fn.item(), my_loss.item()"
   ]
  },
  {
   "cell_type": "markdown",
   "metadata": {},
   "source": [
    "Definimos la función de coste ahora con `reduction` con valor `none` y comparamos lo que da la función de coste con hacer nosotros la operación que dice la teoría"
   ]
  },
  {
   "cell_type": "code",
   "execution_count": 37,
   "metadata": {},
   "outputs": [
    {
     "data": {
      "text/plain": [
       "(tensor([[0.0812, 0.1730, 0.2215, 0.0009, 0.4411],\n",
       "         [0.2669, 0.0463, 0.2515, 0.0708, 0.0056],\n",
       "         [0.0012, 0.4759, 0.0071, 0.0512, 0.0873]], grad_fn=<MseLossBackward0>),\n",
       " tensor([[0.0812, 0.1730, 0.2215, 0.0009, 0.4411],\n",
       "         [0.2669, 0.0463, 0.2515, 0.0708, 0.0056],\n",
       "         [0.0012, 0.4759, 0.0071, 0.0512, 0.0873]], grad_fn=<PowBackward0>))"
      ]
     },
     "execution_count": 37,
     "metadata": {},
     "output_type": "execute_result"
    }
   ],
   "source": [
    "loss = torch.nn.MSELoss(size_average=None, reduce=None, reduction='none')\n",
    "\n",
    "loss_fn = loss(preds, target)\n",
    "my_loss = (preds - target)**2\n",
    "\n",
    "loss_fn, my_loss"
   ]
  },
  {
   "cell_type": "markdown",
   "metadata": {},
   "source": [
    "## Binary cross entropy"
   ]
  },
  {
   "cell_type": "markdown",
   "metadata": {},
   "source": [
    "```python\n",
    "torch.nn.BCELoss(weight=None, size_average=None, reduce=None, reduction='mean')\n",
    "```\n",
    "\n",
    "Calcula la entropía cruzada binaria entre lo predicho por la red y el target. Es útil cuando se entrena un problema de clasificación con clases C.\n",
    "\n",
    "Si se proporciona, el argumento opcional `weight` debe ser un tensor 1D que asigne peso a cada una de las clases. Esto es particularmente útil cuando se tiene un conjunto de entrenamiento desbalanceado.\n",
    "\n",
    "$ l\\left(x,y\\right) = \\left[l_1,...,l_N\\right]^T $, donde $l_n = -\\omega_n\\left[y_n·log\\left(x_n\\right) + \\left(1-y_n\\right)·log\\left(1-x_n\\right) \\right]$ dónde $\\omega_n$ corresponde al valor del peso explicado en el párrafo anterior"
   ]
  },
  {
   "cell_type": "markdown",
   "metadata": {},
   "source": [
    "`reduction` usa por defecto ``'mean'``, pero puede también usar ``'sum'`` y ``'none'``. Los parámetros ``size_average`` y ``reduce`` están obsoletos y Pytorch recomienda no usarlos y solo usar ``reduction``"
   ]
  },
  {
   "cell_type": "markdown",
   "metadata": {},
   "source": [
    "Cuando en ``reduction`` se usa ``'mean'`` se hace una media de todos los errores, cuando se usa ``'sum'`` se hace la suma de todos los errores y cuando se usa ``'none'`` no se hace nada"
   ]
  },
  {
   "cell_type": "markdown",
   "metadata": {},
   "source": [
    "Hay que tener en cuenta que tanto $x$ como $y$ tienen que tener valores entre 0 y 1"
   ]
  },
  {
   "cell_type": "markdown",
   "metadata": {},
   "source": [
    "También hay que tener en cuenta que si $x_n$ vale 0 o 1 vamos a tener el caso de $log\\left(0\\right) = - \\infty$. Esto no es deseable por dos razones\n",
    "\n",
    " * Como $y_n$ va a ser 0 o 1, entonces vamos a tener $y_n = 0$ o $\\left(1 - y_n\\right) = 0$. Es decir, vamos a tener una multiplicación de $0$ por $\\infty$\n",
    " * Si tenemos un valor de $\\infty$ en la función de pérdida vamos a tener también un valor de $\\infty$ en el gradiente, de manera que cuando vayamos a actualizar los parámetros de la red vamos a tener problemas"
   ]
  },
  {
   "cell_type": "markdown",
   "metadata": {},
   "source": [
    "Vamos a verlo"
   ]
  },
  {
   "cell_type": "markdown",
   "metadata": {},
   "source": [
    "Creamos lo que sería la predicción de la red neuronal"
   ]
  },
  {
   "cell_type": "code",
   "execution_count": 34,
   "metadata": {},
   "outputs": [
    {
     "data": {
      "text/plain": [
       "tensor([-0.6201, -0.0933,  0.0652], requires_grad=True)"
      ]
     },
     "execution_count": 34,
     "metadata": {},
     "output_type": "execute_result"
    }
   ],
   "source": [
    "import torch\n",
    "\n",
    "logits = torch.randn(3, requires_grad=True)\n",
    "logits"
   ]
  },
  {
   "cell_type": "markdown",
   "metadata": {},
   "source": [
    "Ahora tenemos que crear probabilidades a partir de estos valores, por lo que usamos la función `Sigmoid`"
   ]
  },
  {
   "cell_type": "code",
   "execution_count": 36,
   "metadata": {},
   "outputs": [],
   "source": [
    "def my_sigmoid(x):\n",
    "    return 1 / (1 + torch.exp(-x))\n",
    "\n",
    "pytorch_sigmoid = torch.nn.Sigmoid()"
   ]
  },
  {
   "cell_type": "code",
   "execution_count": 37,
   "metadata": {},
   "outputs": [
    {
     "data": {
      "text/plain": [
       "(tensor([0.3497, 0.4767, 0.5163], grad_fn=<MulBackward0>),\n",
       " tensor([0.3497, 0.4767, 0.5163], grad_fn=<SigmoidBackward0>))"
      ]
     },
     "execution_count": 37,
     "metadata": {},
     "output_type": "execute_result"
    }
   ],
   "source": [
    "my_preds = my_sigmoid(logits)\n",
    "pytorch_preds = pytorch_sigmoid(logits)\n",
    "\n",
    "my_preds, pytorch_preds"
   ]
  },
  {
   "cell_type": "markdown",
   "metadata": {},
   "source": [
    "Creamos lo que sería la verdadera salida"
   ]
  },
  {
   "cell_type": "code",
   "execution_count": 32,
   "metadata": {},
   "outputs": [
    {
     "data": {
      "text/plain": [
       "tensor([0., 1., 1.])"
      ]
     },
     "execution_count": 32,
     "metadata": {},
     "output_type": "execute_result"
    }
   ],
   "source": [
    "target = torch.empty(3).random_(2)\n",
    "target"
   ]
  },
  {
   "cell_type": "markdown",
   "metadata": {},
   "source": [
    "Creamos también la matriz de pesos para cuando la queramos usar"
   ]
  },
  {
   "cell_type": "code",
   "execution_count": 50,
   "metadata": {},
   "outputs": [
    {
     "data": {
      "text/plain": [
       "tensor([50., 69., 75.])"
      ]
     },
     "execution_count": 50,
     "metadata": {},
     "output_type": "execute_result"
    }
   ],
   "source": [
    "weight = torch.empty(3).random_(100)\n",
    "weight"
   ]
  },
  {
   "cell_type": "markdown",
   "metadata": {},
   "source": [
    "Definimos la función de coste con `reduction` con su valor predeterminado, es decir, `mean` y comparamos lo que da la función de coste con hacer nosotros la operación que dice la teoría"
   ]
  },
  {
   "cell_type": "code",
   "execution_count": 46,
   "metadata": {},
   "outputs": [
    {
     "data": {
      "text/plain": [
       "(tensor(0.6108, grad_fn=<BinaryCrossEntropyBackward0>),\n",
       " tensor(0.6108, grad_fn=<MeanBackward0>))"
      ]
     },
     "execution_count": 46,
     "metadata": {},
     "output_type": "execute_result"
    }
   ],
   "source": [
    "loss = torch.nn.BCELoss(weight=None, size_average=None, reduce=None, reduction='mean') # Predeterminado\n",
    "\n",
    "loss_fn = loss(pytorch_preds, target)\n",
    "my_loss = (-(target*torch.log(my_preds) + (1-target)*torch.log(1-my_preds))).mean()\n",
    "\n",
    "loss_fn, my_loss"
   ]
  },
  {
   "cell_type": "markdown",
   "metadata": {},
   "source": [
    "Definimos la función de coste ahora con `reduction` con valor `sum` y comparamos lo que da la función de coste con hacer nosotros la operación que dice la teoría"
   ]
  },
  {
   "cell_type": "code",
   "execution_count": 47,
   "metadata": {},
   "outputs": [
    {
     "data": {
      "text/plain": [
       "(1.8323338031768799, 1.8323338031768799)"
      ]
     },
     "execution_count": 47,
     "metadata": {},
     "output_type": "execute_result"
    }
   ],
   "source": [
    "loss = torch.nn.BCELoss(weight=None, size_average=None, reduce=None, reduction='sum')\n",
    "\n",
    "loss_fn = loss(pytorch_preds, target)\n",
    "my_loss = (-(target*torch.log(my_preds) + (1-target)*torch.log(1-my_preds))).sum()\n",
    "\n",
    "loss_fn.item(), my_loss.item()"
   ]
  },
  {
   "cell_type": "markdown",
   "metadata": {},
   "source": [
    "Definimos la función de coste ahora con `reduction` con valor `none` y comparamos lo que da la función de coste con hacer nosotros la operación que dice la teoría"
   ]
  },
  {
   "cell_type": "code",
   "execution_count": 48,
   "metadata": {},
   "outputs": [
    {
     "data": {
      "text/plain": [
       "(tensor([0.4304, 0.7409, 0.6611], grad_fn=<BinaryCrossEntropyBackward0>),\n",
       " tensor([0.4304, 0.7409, 0.6611], grad_fn=<NegBackward0>))"
      ]
     },
     "execution_count": 48,
     "metadata": {},
     "output_type": "execute_result"
    }
   ],
   "source": [
    "loss = torch.nn.BCELoss(weight=None, size_average=None, reduce=None, reduction='none')\n",
    "\n",
    "loss_fn = loss(pytorch_preds, target)\n",
    "my_loss = -(target*torch.log(my_preds) + (1-target)*torch.log(1-my_preds))\n",
    "\n",
    "loss_fn, my_loss"
   ]
  },
  {
   "cell_type": "markdown",
   "metadata": {},
   "source": [
    "Vemos ahora el efecto de meter la matriz de pesos"
   ]
  },
  {
   "cell_type": "code",
   "execution_count": 51,
   "metadata": {},
   "outputs": [
    {
     "data": {
      "text/plain": [
       "(tensor([21.5198, 51.1205, 49.5796], grad_fn=<BinaryCrossEntropyBackward0>),\n",
       " tensor([21.5198, 51.1205, 49.5796], grad_fn=<MulBackward0>))"
      ]
     },
     "execution_count": 51,
     "metadata": {},
     "output_type": "execute_result"
    }
   ],
   "source": [
    "loss = torch.nn.BCELoss(weight=weight, size_average=None, reduce=None, reduction='none')\n",
    "\n",
    "loss_fn = loss(pytorch_preds, target)\n",
    "my_loss = -weight*(target*torch.log(my_preds) + (1-target)*torch.log(1-my_preds))\n",
    "\n",
    "loss_fn, my_loss"
   ]
  },
  {
   "cell_type": "markdown",
   "metadata": {},
   "source": [
    "## Binary cross entropy with logits"
   ]
  },
  {
   "cell_type": "markdown",
   "metadata": {},
   "source": [
    "```python\n",
    "torch.nn.BCEWithLogitsLoss(weight=None, size_average=None, reduce=None, reduction='mean', pos_weight=None)\n",
    "```\n",
    "\n",
    "Esta pérdida combina una capa Sigmoide y la BCELoss en una sola clase. Esta versión es más estable numéricamente que usar un Sigmoide simple seguida de BCELoss ya que, al combinar las operaciones en una sola capa, aprovechamos el truco log-sum-exp para la estabilidad numérica.\n",
    "\n",
    "Es útil cuando se entrena un problema de clasificación con clases C. Si se proporciona, el argumento opcional `weight` debe ser un tensor 1D que asigne peso a cada una de las clases. Esto es particularmente útil cuando se tiene un conjunto de entrenamiento desbalanceado.\n",
    "\n",
    "$ l\\left(x,y\\right) = \\left[l_1,...,l_N\\right]^T $, donde $l_n = -\\omega_n\\left[y_n·log\\left(\\sigma\\left(x_n\\right)\\right) + \\left(1-y_n\\right)·log\\left(1-\\sigma\\left(x_n\\right)\\right) \\right]$ dónde $\\omega_n$ corresponde al valor del peso explicado en el párrafo anterior"
   ]
  },
  {
   "cell_type": "markdown",
   "metadata": {},
   "source": [
    "`reduction` usa por defecto ``'mean'``, pero puede también usar ``'sum'`` y ``'none'``. Los parámetros ``size_average`` y ``reduce`` están obsoletos y Pytorch recomienda no usarlos y solo usar ``reduction``"
   ]
  },
  {
   "cell_type": "markdown",
   "metadata": {},
   "source": [
    "Cuando en ``reduction`` se usa ``'mean'`` se hace una media de todos los errores, cuando se usa ``'sum'`` se hace la suma de todos los errores y cuando se usa ``'none'`` no se hace nada"
   ]
  },
  {
   "cell_type": "markdown",
   "metadata": {},
   "source": [
    "Hay que tener en cuenta que tanto $x$ como $y$ tienen que tener valores entre 0 y 1"
   ]
  },
  {
   "cell_type": "markdown",
   "metadata": {},
   "source": [
    "Es posible compensar el recuerdo y la precisión agregando pesos a los ejemplos positivos.\n",
    "\n",
    "$ l\\left(x,y\\right) = \\left[l_1,...,l_N\\right]^T $, donde $l_n = -\\omega_n\\left[p·y_n·log\\left(\\sigma\\left(x_n\\right)\\right) + \\left(1-y_n\\right)·log\\left(1-\\sigma\\left(x_n\\right)\\right) \\right]$\n",
    "\n",
    "p>1 aumenta el recuerdo, mientars que p<1 aumenta la precisión.\n",
    "\n",
    "Por ejemplo, si un conjunto de datos contiene 100 ejemplos positivos y 300 negativos de una sola clase, entonces pos_weight para la clase debe ser igual a $\\frac{300}{100}=3$. La pérdida actuaría como si el conjunto de datos contuviera $3×100=300$ ejemplos positivos."
   ]
  },
  {
   "cell_type": "markdown",
   "metadata": {},
   "source": [
    "Vamos a verlo"
   ]
  },
  {
   "cell_type": "markdown",
   "metadata": {},
   "source": [
    "Creamos lo que sería la predicción de la red neuronal"
   ]
  },
  {
   "cell_type": "code",
   "execution_count": 1,
   "metadata": {},
   "outputs": [
    {
     "data": {
      "text/plain": [
       "tensor([ 0.5018,  0.7041, -0.1742], requires_grad=True)"
      ]
     },
     "execution_count": 1,
     "metadata": {},
     "output_type": "execute_result"
    }
   ],
   "source": [
    "import torch\n",
    "\n",
    "logits = torch.randn(3, requires_grad=True)\n",
    "logits"
   ]
  },
  {
   "cell_type": "markdown",
   "metadata": {},
   "source": [
    "Ya no tenemos que calcular las probabilidades"
   ]
  },
  {
   "cell_type": "markdown",
   "metadata": {},
   "source": [
    "Creamos lo que sería la verdadera salida"
   ]
  },
  {
   "cell_type": "code",
   "execution_count": 2,
   "metadata": {},
   "outputs": [
    {
     "data": {
      "text/plain": [
       "tensor([0., 1., 0.])"
      ]
     },
     "execution_count": 2,
     "metadata": {},
     "output_type": "execute_result"
    }
   ],
   "source": [
    "target = torch.empty(3).random_(2)\n",
    "target"
   ]
  },
  {
   "cell_type": "markdown",
   "metadata": {},
   "source": [
    "Creamos también la matriz de pesos para cuando la queramos usar"
   ]
  },
  {
   "cell_type": "code",
   "execution_count": 3,
   "metadata": {},
   "outputs": [
    {
     "data": {
      "text/plain": [
       "tensor([79., 45., 22.])"
      ]
     },
     "execution_count": 3,
     "metadata": {},
     "output_type": "execute_result"
    }
   ],
   "source": [
    "weight = torch.empty(3).random_(100)\n",
    "weight"
   ]
  },
  {
   "cell_type": "markdown",
   "metadata": {},
   "source": [
    "Creamos la matriz de pesos positivos para cuando la queramos usar"
   ]
  },
  {
   "cell_type": "code",
   "execution_count": 15,
   "metadata": {},
   "outputs": [
    {
     "data": {
      "text/plain": [
       "tensor([1., 5., 1.])"
      ]
     },
     "execution_count": 15,
     "metadata": {},
     "output_type": "execute_result"
    }
   ],
   "source": [
    "pos_weight = torch.ones([3])\n",
    "pos_weight[1] = 5\n",
    "pos_weight"
   ]
  },
  {
   "cell_type": "markdown",
   "metadata": {},
   "source": [
    "Definimos la función de coste con `reduction` con su valor predeterminado, es decir, `mean` y comparamos lo que da la función de coste con hacer nosotros la operación que dice la teoría"
   ]
  },
  {
   "cell_type": "code",
   "execution_count": 5,
   "metadata": {},
   "outputs": [
    {
     "data": {
      "text/plain": [
       "(tensor(0.6623, grad_fn=<BinaryCrossEntropyWithLogitsBackward0>),\n",
       " tensor(0.6623, grad_fn=<MeanBackward0>))"
      ]
     },
     "execution_count": 5,
     "metadata": {},
     "output_type": "execute_result"
    }
   ],
   "source": [
    "loss = torch.nn.BCEWithLogitsLoss(weight=None, size_average=None, reduce=None, reduction='mean', pos_weight=None) # Predeterminado\n",
    "\n",
    "loss_fn = loss(logits, target)\n",
    "my_loss = (-(target*torch.log(torch.sigmoid(logits)) + (1-target)*torch.log(1-torch.sigmoid(logits)))).mean()\n",
    "\n",
    "loss_fn, my_loss"
   ]
  },
  {
   "cell_type": "markdown",
   "metadata": {},
   "source": [
    "Definimos la función de coste ahora con `reduction` con valor `sum` y comparamos lo que da la función de coste con hacer nosotros la operación que dice la teoría"
   ]
  },
  {
   "cell_type": "code",
   "execution_count": 6,
   "metadata": {},
   "outputs": [
    {
     "data": {
      "text/plain": [
       "(1.9868481159210205, 1.9868481159210205)"
      ]
     },
     "execution_count": 6,
     "metadata": {},
     "output_type": "execute_result"
    }
   ],
   "source": [
    "loss = torch.nn.BCEWithLogitsLoss(weight=None, size_average=None, reduce=None, reduction='sum', pos_weight=None)\n",
    "\n",
    "loss_fn = loss(logits, target)\n",
    "my_loss = (-(target*torch.log(torch.sigmoid(logits)) + (1-target)*torch.log(1-torch.sigmoid(logits)))).sum()\n",
    "\n",
    "loss_fn.item(), my_loss.item()"
   ]
  },
  {
   "cell_type": "markdown",
   "metadata": {},
   "source": [
    "Definimos la función de coste ahora con `reduction` con valor `none` y comparamos lo que da la función de coste con hacer nosotros la operación que dice la teoría"
   ]
  },
  {
   "cell_type": "code",
   "execution_count": 7,
   "metadata": {},
   "outputs": [
    {
     "data": {
      "text/plain": [
       "(tensor([0.9752, 0.4018, 0.6098],\n",
       "        grad_fn=<BinaryCrossEntropyWithLogitsBackward0>),\n",
       " tensor([0.9752, 0.4018, 0.6098], grad_fn=<NegBackward0>))"
      ]
     },
     "execution_count": 7,
     "metadata": {},
     "output_type": "execute_result"
    }
   ],
   "source": [
    "loss = torch.nn.BCEWithLogitsLoss(weight=None, size_average=None, reduce=None, reduction='none', pos_weight=None)\n",
    "\n",
    "loss_fn = loss(logits, target)\n",
    "my_loss = -(target*torch.log(torch.sigmoid(logits)) + (1-target)*torch.log(1-torch.sigmoid(logits)))\n",
    "\n",
    "loss_fn, my_loss"
   ]
  },
  {
   "cell_type": "markdown",
   "metadata": {},
   "source": [
    "Vemos ahora el efecto de meter la matriz de pesos"
   ]
  },
  {
   "cell_type": "code",
   "execution_count": 10,
   "metadata": {},
   "outputs": [
    {
     "data": {
      "text/plain": [
       "(tensor([77.0408, 18.0819, 13.4162],\n",
       "        grad_fn=<BinaryCrossEntropyWithLogitsBackward0>),\n",
       " tensor([77.0408, 18.0819, 13.4162], grad_fn=<MulBackward0>))"
      ]
     },
     "execution_count": 10,
     "metadata": {},
     "output_type": "execute_result"
    }
   ],
   "source": [
    "loss = torch.nn.BCEWithLogitsLoss(weight=weight, size_average=None, reduce=None, reduction='none', pos_weight=None)\n",
    "\n",
    "loss_fn = loss(logits, target)\n",
    "my_loss = -weight*(target*torch.log(torch.sigmoid(logits)) + (1-target)*torch.log(1-torch.sigmoid(logits)))\n",
    "\n",
    "loss_fn, my_loss"
   ]
  },
  {
   "cell_type": "markdown",
   "metadata": {},
   "source": [
    "Vemos ahora el efecto de meter la matriz de pesos positivos"
   ]
  },
  {
   "cell_type": "code",
   "execution_count": 17,
   "metadata": {},
   "outputs": [
    {
     "data": {
      "text/plain": [
       "(tensor([77.0408, 90.4093, 13.4162],\n",
       "        grad_fn=<BinaryCrossEntropyWithLogitsBackward0>),\n",
       " tensor([77.0408, 90.4093, 13.4162], grad_fn=<MulBackward0>))"
      ]
     },
     "execution_count": 17,
     "metadata": {},
     "output_type": "execute_result"
    }
   ],
   "source": [
    "loss = torch.nn.BCEWithLogitsLoss(weight=weight, size_average=None, reduce=None, reduction='none', pos_weight=pos_weight)\n",
    "\n",
    "loss_fn = loss(logits, target)\n",
    "my_loss = -weight*(pos_weight*target*torch.log(torch.sigmoid(logits)) + (1-target)*torch.log(1-torch.sigmoid(logits)))\n",
    "\n",
    "loss_fn, my_loss"
   ]
  },
  {
   "cell_type": "markdown",
   "metadata": {},
   "source": []
  },
  {
   "cell_type": "markdown",
   "metadata": {},
   "source": []
  }
 ],
 "metadata": {
  "interpreter": {
   "hash": "8e4d58f53b4b3ced286559ef92073773937aa87eedd0536c036fd264999b02c5"
  },
  "kernelspec": {
   "display_name": "Python 3.9.7 ('base')",
   "language": "python",
   "name": "python3"
  },
  "language_info": {
   "codemirror_mode": {
    "name": "ipython",
    "version": 3
   },
   "file_extension": ".py",
   "mimetype": "text/x-python",
   "name": "python",
   "nbconvert_exporter": "python",
   "pygments_lexer": "ipython3",
   "version": "3.9.7"
  },
  "orig_nbformat": 4
 },
 "nbformat": 4,
 "nbformat_minor": 2
}
