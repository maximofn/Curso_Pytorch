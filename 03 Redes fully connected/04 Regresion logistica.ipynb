{
 "cells": [
  {
   "cell_type": "markdown",
   "metadata": {},
   "source": [
    "# Regresión logística"
   ]
  },
  {
   "cell_type": "markdown",
   "metadata": {},
   "source": [
    "Ya sabemos cómo funciona una red neuronal y ya sabemos implementarla mediante Pytorch, así que vamos a empezar a ver el ejemplo más sencillo de una red neuronal, la regresión logística."
   ]
  },
  {
   "cell_type": "markdown",
   "metadata": {},
   "source": [
    "Importamos la base de datos de precios de casas de Boston"
   ]
  },
  {
   "cell_type": "code",
   "execution_count": 1,
   "metadata": {},
   "outputs": [
    {
     "name": "stderr",
     "output_type": "stream",
     "text": [
      "/home/maximo.fernandez/miniconda3/envs/cursopytorch/lib/python3.8/site-packages/sklearn/utils/deprecation.py:87: FutureWarning: Function load_boston is deprecated; `load_boston` is deprecated in 1.0 and will be removed in 1.2.\n",
      "\n",
      "    The Boston housing prices dataset has an ethical problem. You can refer to\n",
      "    the documentation of this function for further details.\n",
      "\n",
      "    The scikit-learn maintainers therefore strongly discourage the use of this\n",
      "    dataset unless the purpose of the code is to study and educate about\n",
      "    ethical issues in data science and machine learning.\n",
      "\n",
      "    In this special case, you can fetch the dataset from the original\n",
      "    source::\n",
      "\n",
      "        import pandas as pd\n",
      "        import numpy as np\n",
      "\n",
      "        data_url = \"http://lib.stat.cmu.edu/datasets/boston\"\n",
      "        raw_df = pd.read_csv(data_url, sep=\"\\s+\", skiprows=22, header=None)\n",
      "        data = np.hstack([raw_df.values[::2, :], raw_df.values[1::2, :2]])\n",
      "        target = raw_df.values[1::2, 2]\n",
      "\n",
      "    Alternative datasets include the California housing dataset (i.e.\n",
      "    :func:`~sklearn.datasets.fetch_california_housing`) and the Ames housing\n",
      "    dataset. You can load the datasets as follows::\n",
      "\n",
      "        from sklearn.datasets import fetch_california_housing\n",
      "        housing = fetch_california_housing()\n",
      "\n",
      "    for the California housing dataset and::\n",
      "\n",
      "        from sklearn.datasets import fetch_openml\n",
      "        housing = fetch_openml(name=\"house_prices\", as_frame=True)\n",
      "\n",
      "    for the Ames housing dataset.\n",
      "  warnings.warn(msg, category=FutureWarning)\n"
     ]
    }
   ],
   "source": [
    "from sklearn import datasets\n",
    "\n",
    "boston = datasets.load_boston()"
   ]
  },
  {
   "cell_type": "markdown",
   "metadata": {},
   "source": [
    "Podemos ver qué trae esta base de datos"
   ]
  },
  {
   "cell_type": "code",
   "execution_count": 2,
   "metadata": {},
   "outputs": [
    {
     "data": {
      "text/plain": [
       "dict_keys(['data', 'target', 'feature_names', 'DESCR', 'filename', 'data_module'])"
      ]
     },
     "execution_count": 2,
     "metadata": {},
     "output_type": "execute_result"
    }
   ],
   "source": [
    "boston.keys()"
   ]
  },
  {
   "cell_type": "markdown",
   "metadata": {},
   "source": [
    "La llave `DESCR` es una descripción de la base de datos"
   ]
  },
  {
   "cell_type": "code",
   "execution_count": 3,
   "metadata": {},
   "outputs": [
    {
     "name": "stdout",
     "output_type": "stream",
     "text": [
      ".. _boston_dataset:\n",
      "\n",
      "Boston house prices dataset\n",
      "---------------------------\n",
      "\n",
      "**Data Set Characteristics:**  \n",
      "\n",
      "    :Number of Instances: 506 \n",
      "\n",
      "    :Number of Attributes: 13 numeric/categorical predictive. Median Value (attribute 14) is usually the target.\n",
      "\n",
      "    :Attribute Information (in order):\n",
      "        - CRIM     per capita crime rate by town\n",
      "        - ZN       proportion of residential land zoned for lots over 25,000 sq.ft.\n",
      "        - INDUS    proportion of non-retail business acres per town\n",
      "        - CHAS     Charles River dummy variable (= 1 if tract bounds river; 0 otherwise)\n",
      "        - NOX      nitric oxides concentration (parts per 10 million)\n",
      "        - RM       average number of rooms per dwelling\n",
      "        - AGE      proportion of owner-occupied units built prior to 1940\n",
      "        - DIS      weighted distances to five Boston employment centres\n",
      "        - RAD      index of accessibility to radial highways\n",
      "        - TAX      full-value property-tax rate per $10,000\n",
      "        - PTRATIO  pupil-teacher ratio by town\n",
      "        - B        1000(Bk - 0.63)^2 where Bk is the proportion of black people by town\n",
      "        - LSTAT    % lower status of the population\n",
      "        - MEDV     Median value of owner-occupied homes in $1000's\n",
      "\n",
      "    :Missing Attribute Values: None\n",
      "\n",
      "    :Creator: Harrison, D. and Rubinfeld, D.L.\n",
      "\n",
      "This is a copy of UCI ML housing dataset.\n",
      "https://archive.ics.uci.edu/ml/machine-learning-databases/housing/\n",
      "\n",
      "\n",
      "This dataset was taken from the StatLib library which is maintained at Carnegie Mellon University.\n",
      "\n",
      "The Boston house-price data of Harrison, D. and Rubinfeld, D.L. 'Hedonic\n",
      "prices and the demand for clean air', J. Environ. Economics & Management,\n",
      "vol.5, 81-102, 1978.   Used in Belsley, Kuh & Welsch, 'Regression diagnostics\n",
      "...', Wiley, 1980.   N.B. Various transformations are used in the table on\n",
      "pages 244-261 of the latter.\n",
      "\n",
      "The Boston house-price data has been used in many machine learning papers that address regression\n",
      "problems.   \n",
      "     \n",
      ".. topic:: References\n",
      "\n",
      "   - Belsley, Kuh & Welsch, 'Regression diagnostics: Identifying Influential Data and Sources of Collinearity', Wiley, 1980. 244-261.\n",
      "   - Quinlan,R. (1993). Combining Instance-Based and Model-Based Learning. In Proceedings on the Tenth International Conference of Machine Learning, 236-243, University of Massachusetts, Amherst. Morgan Kaufmann.\n",
      "\n"
     ]
    }
   ],
   "source": [
    "print(boston.DESCR)"
   ]
  },
  {
   "cell_type": "markdown",
   "metadata": {},
   "source": [
    "Además tiene las llaves `data` y `target` donde se encuentran los datos anteriormente descritos. La llave `feature_names` contiene los numbres de cada una de las características\n",
    "\n",
    "Así que creamos un dataframe con los datos"
   ]
  },
  {
   "cell_type": "code",
   "execution_count": 4,
   "metadata": {},
   "outputs": [
    {
     "data": {
      "text/html": [
       "<div>\n",
       "<style scoped>\n",
       "    .dataframe tbody tr th:only-of-type {\n",
       "        vertical-align: middle;\n",
       "    }\n",
       "\n",
       "    .dataframe tbody tr th {\n",
       "        vertical-align: top;\n",
       "    }\n",
       "\n",
       "    .dataframe thead th {\n",
       "        text-align: right;\n",
       "    }\n",
       "</style>\n",
       "<table border=\"1\" class=\"dataframe\">\n",
       "  <thead>\n",
       "    <tr style=\"text-align: right;\">\n",
       "      <th></th>\n",
       "      <th>CRIM</th>\n",
       "      <th>ZN</th>\n",
       "      <th>INDUS</th>\n",
       "      <th>CHAS</th>\n",
       "      <th>NOX</th>\n",
       "      <th>RM</th>\n",
       "      <th>AGE</th>\n",
       "      <th>DIS</th>\n",
       "      <th>RAD</th>\n",
       "      <th>TAX</th>\n",
       "      <th>PTRATIO</th>\n",
       "      <th>B</th>\n",
       "      <th>LSTAT</th>\n",
       "      <th>target</th>\n",
       "    </tr>\n",
       "  </thead>\n",
       "  <tbody>\n",
       "    <tr>\n",
       "      <th>0</th>\n",
       "      <td>0.00632</td>\n",
       "      <td>18.0</td>\n",
       "      <td>2.31</td>\n",
       "      <td>0.0</td>\n",
       "      <td>0.538</td>\n",
       "      <td>6.575</td>\n",
       "      <td>65.2</td>\n",
       "      <td>4.0900</td>\n",
       "      <td>1.0</td>\n",
       "      <td>296.0</td>\n",
       "      <td>15.3</td>\n",
       "      <td>396.90</td>\n",
       "      <td>4.98</td>\n",
       "      <td>24.0</td>\n",
       "    </tr>\n",
       "    <tr>\n",
       "      <th>1</th>\n",
       "      <td>0.02731</td>\n",
       "      <td>0.0</td>\n",
       "      <td>7.07</td>\n",
       "      <td>0.0</td>\n",
       "      <td>0.469</td>\n",
       "      <td>6.421</td>\n",
       "      <td>78.9</td>\n",
       "      <td>4.9671</td>\n",
       "      <td>2.0</td>\n",
       "      <td>242.0</td>\n",
       "      <td>17.8</td>\n",
       "      <td>396.90</td>\n",
       "      <td>9.14</td>\n",
       "      <td>21.6</td>\n",
       "    </tr>\n",
       "    <tr>\n",
       "      <th>2</th>\n",
       "      <td>0.02729</td>\n",
       "      <td>0.0</td>\n",
       "      <td>7.07</td>\n",
       "      <td>0.0</td>\n",
       "      <td>0.469</td>\n",
       "      <td>7.185</td>\n",
       "      <td>61.1</td>\n",
       "      <td>4.9671</td>\n",
       "      <td>2.0</td>\n",
       "      <td>242.0</td>\n",
       "      <td>17.8</td>\n",
       "      <td>392.83</td>\n",
       "      <td>4.03</td>\n",
       "      <td>34.7</td>\n",
       "    </tr>\n",
       "    <tr>\n",
       "      <th>3</th>\n",
       "      <td>0.03237</td>\n",
       "      <td>0.0</td>\n",
       "      <td>2.18</td>\n",
       "      <td>0.0</td>\n",
       "      <td>0.458</td>\n",
       "      <td>6.998</td>\n",
       "      <td>45.8</td>\n",
       "      <td>6.0622</td>\n",
       "      <td>3.0</td>\n",
       "      <td>222.0</td>\n",
       "      <td>18.7</td>\n",
       "      <td>394.63</td>\n",
       "      <td>2.94</td>\n",
       "      <td>33.4</td>\n",
       "    </tr>\n",
       "    <tr>\n",
       "      <th>4</th>\n",
       "      <td>0.06905</td>\n",
       "      <td>0.0</td>\n",
       "      <td>2.18</td>\n",
       "      <td>0.0</td>\n",
       "      <td>0.458</td>\n",
       "      <td>7.147</td>\n",
       "      <td>54.2</td>\n",
       "      <td>6.0622</td>\n",
       "      <td>3.0</td>\n",
       "      <td>222.0</td>\n",
       "      <td>18.7</td>\n",
       "      <td>396.90</td>\n",
       "      <td>5.33</td>\n",
       "      <td>36.2</td>\n",
       "    </tr>\n",
       "  </tbody>\n",
       "</table>\n",
       "</div>"
      ],
      "text/plain": [
       "      CRIM    ZN  INDUS  CHAS    NOX     RM   AGE     DIS  RAD    TAX  \\\n",
       "0  0.00632  18.0   2.31   0.0  0.538  6.575  65.2  4.0900  1.0  296.0   \n",
       "1  0.02731   0.0   7.07   0.0  0.469  6.421  78.9  4.9671  2.0  242.0   \n",
       "2  0.02729   0.0   7.07   0.0  0.469  7.185  61.1  4.9671  2.0  242.0   \n",
       "3  0.03237   0.0   2.18   0.0  0.458  6.998  45.8  6.0622  3.0  222.0   \n",
       "4  0.06905   0.0   2.18   0.0  0.458  7.147  54.2  6.0622  3.0  222.0   \n",
       "\n",
       "   PTRATIO       B  LSTAT  target  \n",
       "0     15.3  396.90   4.98    24.0  \n",
       "1     17.8  396.90   9.14    21.6  \n",
       "2     17.8  392.83   4.03    34.7  \n",
       "3     18.7  394.63   2.94    33.4  \n",
       "4     18.7  396.90   5.33    36.2  "
      ]
     },
     "execution_count": 4,
     "metadata": {},
     "output_type": "execute_result"
    }
   ],
   "source": [
    "import pandas as pd\n",
    "\n",
    "boston_df = pd.DataFrame(boston['data'], columns=boston['feature_names'])\n",
    "boston_df['target'] = boston['target']\n",
    "boston_df.head()"
   ]
  },
  {
   "cell_type": "markdown",
   "metadata": {},
   "source": [
    "Por último vamos a ver si hay algún dato faltante"
   ]
  },
  {
   "cell_type": "code",
   "execution_count": 5,
   "metadata": {},
   "outputs": [
    {
     "data": {
      "text/plain": [
       "CRIM       0\n",
       "ZN         0\n",
       "INDUS      0\n",
       "CHAS       0\n",
       "NOX        0\n",
       "RM         0\n",
       "AGE        0\n",
       "DIS        0\n",
       "RAD        0\n",
       "TAX        0\n",
       "PTRATIO    0\n",
       "B          0\n",
       "LSTAT      0\n",
       "target     0\n",
       "dtype: int64"
      ]
     },
     "execution_count": 5,
     "metadata": {},
     "output_type": "execute_result"
    }
   ],
   "source": [
    "boston_df.isnull().sum()"
   ]
  },
  {
   "cell_type": "markdown",
   "metadata": {},
   "source": [
    "## Dataset y Dataloader"
   ]
  },
  {
   "cell_type": "markdown",
   "metadata": {},
   "source": [
    "Creamos el dataset"
   ]
  },
  {
   "cell_type": "code",
   "execution_count": 6,
   "metadata": {},
   "outputs": [],
   "source": [
    "import torch\n",
    "\n",
    "class BostonDataset(torch.utils.data.Dataset):\n",
    "    def __init__(self, dataframe):\n",
    "        cols = [col for col in dataframe.columns if col != 'target']\n",
    "        self.parameters = torch.from_numpy(dataframe[cols].values).type(torch.float32)\n",
    "        self.targets = torch.from_numpy(dataframe['target'].values).type(torch.float32)\n",
    "        self.targets = self.targets.reshape((len(self.targets), 1))\n",
    "\n",
    "    def __len__(self):\n",
    "        return len(self.parameters)\n",
    "\n",
    "    def __getitem__(self, idx):\n",
    "        parameters = self.parameters[idx]\n",
    "        target = self.targets[idx]\n",
    "        return parameters, target"
   ]
  },
  {
   "cell_type": "code",
   "execution_count": 7,
   "metadata": {},
   "outputs": [
    {
     "data": {
      "text/plain": [
       "(506, 506)"
      ]
     },
     "execution_count": 7,
     "metadata": {},
     "output_type": "execute_result"
    }
   ],
   "source": [
    "ds = BostonDataset(boston_df)\n",
    "len(ds), len(boston_df)"
   ]
  },
  {
   "cell_type": "markdown",
   "metadata": {},
   "source": [
    "Para poder entrenar hemos visto que necesitamos dividir los datos en un conjunto de datos de entrenamiento y en un conjunto de datos de validación. Así que dividimos nuestros datos en estos dos conjuntos.\n",
    "\n",
    "Como no tenemos muchos datos vamos a dividir el conjunto de datos en un 80% para entrenamiento entrenamiento y un 20% para validación"
   ]
  },
  {
   "cell_type": "code",
   "execution_count": 8,
   "metadata": {},
   "outputs": [
    {
     "data": {
      "text/plain": [
       "(404, 102, 506)"
      ]
     },
     "execution_count": 8,
     "metadata": {},
     "output_type": "execute_result"
    }
   ],
   "source": [
    "train_ds, valid_ds = torch.utils.data.random_split(ds, [int(0.8*len(ds)), len(ds) - int(0.8*len(ds))], generator=torch.Generator().manual_seed(42))\n",
    "len(train_ds), len(valid_ds), len(train_ds) + len(valid_ds)"
   ]
  },
  {
   "cell_type": "markdown",
   "metadata": {},
   "source": [
    "Vamos a ver una muestra"
   ]
  },
  {
   "cell_type": "code",
   "execution_count": 9,
   "metadata": {},
   "outputs": [
    {
     "name": "stdout",
     "output_type": "stream",
     "text": [
      "len(sample): 2\n",
      "parameters: tensor([3.6150e-02, 8.0000e+01, 4.9500e+00, 0.0000e+00, 4.1100e-01, 6.6300e+00,\n",
      "        2.3400e+01, 5.1167e+00, 4.0000e+00, 2.4500e+02, 1.9200e+01, 3.9690e+02,\n",
      "        4.7000e+00])\n",
      "type parameters: <class 'torch.Tensor'>\n",
      "parameters.dtype: torch.float32\n",
      "parameters.shape: torch.Size([13])\n",
      "\n",
      "\n",
      "target: tensor([27.9000]), type target: <class 'torch.Tensor'>, target.dtype: torch.float32, target.shape: torch.Size([1])\n"
     ]
    }
   ],
   "source": [
    "sample = train_ds[0]\n",
    "print(f\"len(sample): {len(sample)}\")\n",
    "\n",
    "parameters, target = sample\n",
    "print(f\"parameters: {parameters}\\ntype parameters: {type(parameters)}\\nparameters.dtype: {parameters.dtype}\\nparameters.shape: {parameters.shape}\\n\\n\")\n",
    "print(f\"target: {target}, type target: {type(target)}, target.dtype: {target.dtype}, target.shape: {target.shape}\")"
   ]
  },
  {
   "cell_type": "markdown",
   "metadata": {},
   "source": [
    "Creamos ahora el dataloader"
   ]
  },
  {
   "cell_type": "code",
   "execution_count": 10,
   "metadata": {},
   "outputs": [],
   "source": [
    "from torch.utils.data import DataLoader\n",
    "\n",
    "BS_train = 32\n",
    "BS_val = 1024\n",
    "\n",
    "train_dl = DataLoader(train_ds, batch_size=BS_train, shuffle=True)\n",
    "val_dl = DataLoader(valid_ds, batch_size=BS_val, shuffle=False)"
   ]
  },
  {
   "cell_type": "markdown",
   "metadata": {},
   "source": [
    "Vemos un batch"
   ]
  },
  {
   "cell_type": "code",
   "execution_count": 11,
   "metadata": {},
   "outputs": [
    {
     "data": {
      "text/plain": [
       "(torch.Tensor,\n",
       " torch.float32,\n",
       " torch.Size([32, 13]),\n",
       " torch.Tensor,\n",
       " torch.Size([32, 1]))"
      ]
     },
     "execution_count": 11,
     "metadata": {},
     "output_type": "execute_result"
    }
   ],
   "source": [
    "batch = next(iter(train_dl))\n",
    "parameters, target = batch[0], batch[1]\n",
    "type(parameters), parameters.dtype, parameters.shape, type(target), target.shape"
   ]
  },
  {
   "cell_type": "markdown",
   "metadata": {},
   "source": [
    "## Red Neuronal"
   ]
  },
  {
   "cell_type": "markdown",
   "metadata": {},
   "source": [
    "Creamos una red neuronal para entrenarla"
   ]
  },
  {
   "cell_type": "code",
   "execution_count": 12,
   "metadata": {},
   "outputs": [],
   "source": [
    "from torch import nn\n",
    "\n",
    "class BostonNeuralNetwork(nn.Module):\n",
    "    def __init__(self, num_inputs, num_outputs, hidden_layers=[100, 50, 20]):\n",
    "        super().__init__()\n",
    "        self.network = torch.nn.Sequential(\n",
    "            torch.nn.Linear(num_inputs, hidden_layers[0]),\n",
    "            torch.nn.Sigmoid(),\n",
    "            torch.nn.Linear(hidden_layers[0], hidden_layers[1]),\n",
    "            torch.nn.Sigmoid(),\n",
    "            torch.nn.Linear(hidden_layers[1], hidden_layers[2]),\n",
    "            torch.nn.Sigmoid(),\n",
    "            torch.nn.Linear(hidden_layers[2], num_outputs)\n",
    "        )\n",
    "\n",
    "    def forward(self, x):\n",
    "        logits = self.network(x)\n",
    "        return logits"
   ]
  },
  {
   "cell_type": "markdown",
   "metadata": {},
   "source": [
    "Hemos definido una red neuronal genérica, a la que hay que meterle las dimensiones de la capa de entrada y de la capa de salida, y opcionalmente, las dimensiones de las capas ocultas. Así que vamos a ver qué tamaño necesitamos a la entrada y a la salida de la red"
   ]
  },
  {
   "cell_type": "markdown",
   "metadata": {},
   "source": [
    "Un batch tiene unos parámetros con este tamaño"
   ]
  },
  {
   "cell_type": "code",
   "execution_count": 15,
   "metadata": {},
   "outputs": [
    {
     "data": {
      "text/plain": [
       "torch.Size([32, 13])"
      ]
     },
     "execution_count": 15,
     "metadata": {},
     "output_type": "execute_result"
    }
   ],
   "source": [
    "parameters.shape"
   ]
  },
  {
   "cell_type": "markdown",
   "metadata": {},
   "source": [
    "Tenemos una matriz de tamaño 32x13. 32 es el tamaño del batch size, mientras que 13 es el número de parámetros, por lo que **a la entrada necesitamos 13 neuronas**\n",
    "\n",
    "Otra forma de verlo es que como se tiene que hacer una multiplicación matricial de las entradas con la primera capa de la red, si la matriz de entradas tiene un tamaño de 32x13, la matriz que representa las neuronas de la primera capa tiene que tener un tamaño de 13xM. Ya que en una multiplicación matricial, el tamaño de las matrices que se multiplican tienen que ser AxB y BxC, es decir, la dimensión de en medio de las dos matrices tiene que ser la misma"
   ]
  },
  {
   "cell_type": "markdown",
   "metadata": {},
   "source": [
    "Por otro lado, el mismo batch a la salida tiene un target con este tamaño"
   ]
  },
  {
   "cell_type": "code",
   "execution_count": 16,
   "metadata": {},
   "outputs": [
    {
     "data": {
      "text/plain": [
       "torch.Size([32, 1])"
      ]
     },
     "execution_count": 16,
     "metadata": {},
     "output_type": "execute_result"
    }
   ],
   "source": [
    "target.shape"
   ]
  },
  {
   "cell_type": "markdown",
   "metadata": {},
   "source": [
    "32 es el tamaño del batch size, pero solo hay 1 target, que es el precio de las casas, por lo que **a la salida queremos que haya solo 1 neurona**"
   ]
  },
  {
   "cell_type": "code",
   "execution_count": 17,
   "metadata": {},
   "outputs": [
    {
     "data": {
      "text/plain": [
       "BostonNeuralNetwork(\n",
       "  (network): Sequential(\n",
       "    (0): Linear(in_features=13, out_features=100, bias=True)\n",
       "    (1): Sigmoid()\n",
       "    (2): Linear(in_features=100, out_features=50, bias=True)\n",
       "    (3): Sigmoid()\n",
       "    (4): Linear(in_features=50, out_features=20, bias=True)\n",
       "    (5): Sigmoid()\n",
       "    (6): Linear(in_features=20, out_features=1, bias=True)\n",
       "  )\n",
       ")"
      ]
     },
     "execution_count": 17,
     "metadata": {},
     "output_type": "execute_result"
    }
   ],
   "source": [
    "num_inputs = parameters.shape[1]\n",
    "num_outputs = target.shape[1]\n",
    "model = BostonNeuralNetwork(num_inputs, num_outputs)\n",
    "\n",
    "model"
   ]
  },
  {
   "cell_type": "markdown",
   "metadata": {},
   "source": [
    "Primero cogemos un batch del dataloader y se lo metemos a la red a ver si funciona y la hemos definido bien"
   ]
  },
  {
   "cell_type": "code",
   "execution_count": 18,
   "metadata": {},
   "outputs": [
    {
     "data": {
      "text/plain": [
       "torch.Size([32, 1])"
      ]
     },
     "execution_count": 18,
     "metadata": {},
     "output_type": "execute_result"
    }
   ],
   "source": [
    "preds = model(parameters)\n",
    "preds.shape"
   ]
  },
  {
   "cell_type": "markdown",
   "metadata": {},
   "source": [
    "Si se puede se manda la red a la GPU"
   ]
  },
  {
   "cell_type": "code",
   "execution_count": 19,
   "metadata": {},
   "outputs": [
    {
     "name": "stdout",
     "output_type": "stream",
     "text": [
      "Using cuda device\n"
     ]
    },
    {
     "data": {
      "text/plain": [
       "BostonNeuralNetwork(\n",
       "  (network): Sequential(\n",
       "    (0): Linear(in_features=13, out_features=100, bias=True)\n",
       "    (1): Sigmoid()\n",
       "    (2): Linear(in_features=100, out_features=50, bias=True)\n",
       "    (3): Sigmoid()\n",
       "    (4): Linear(in_features=50, out_features=20, bias=True)\n",
       "    (5): Sigmoid()\n",
       "    (6): Linear(in_features=20, out_features=1, bias=True)\n",
       "  )\n",
       ")"
      ]
     },
     "execution_count": 19,
     "metadata": {},
     "output_type": "execute_result"
    }
   ],
   "source": [
    "# Get cpu or gpu device for training.\n",
    "device = \"cuda\" if torch.cuda.is_available() else \"cpu\"\n",
    "print(\"Using {} device\".format(device))\n",
    "\n",
    "model.to(device)"
   ]
  },
  {
   "cell_type": "markdown",
   "metadata": {},
   "source": [
    "Ahora volvemos a probar a meterle un batch"
   ]
  },
  {
   "cell_type": "code",
   "execution_count": 20,
   "metadata": {},
   "outputs": [
    {
     "data": {
      "text/plain": [
       "torch.Size([32, 1])"
      ]
     },
     "execution_count": 20,
     "metadata": {},
     "output_type": "execute_result"
    }
   ],
   "source": [
    "parameters_gpu = parameters.to(device)\n",
    "preds = model(parameters_gpu)\n",
    "preds.shape"
   ]
  },
  {
   "cell_type": "markdown",
   "metadata": {},
   "source": [
    "## Función de pérdida y optimizador"
   ]
  },
  {
   "cell_type": "markdown",
   "metadata": {},
   "source": [
    "Definimos una función de pérdida y un optimizador. Como hemos visto en el cuaderno de las funciones de pérdida, como no es un problema de clasificación, la mejor función de pérdida para este problema es el `MSE`"
   ]
  },
  {
   "cell_type": "code",
   "execution_count": 21,
   "metadata": {},
   "outputs": [],
   "source": [
    "LR = 5e-4\n",
    "\n",
    "loss_fn = nn.MSELoss()\n",
    "optimizer = torch.optim.SGD(model.parameters(), lr=LR)\n"
   ]
  },
  {
   "cell_type": "markdown",
   "metadata": {},
   "source": [
    "## Ciclo de entrenamiento"
   ]
  },
  {
   "cell_type": "markdown",
   "metadata": {},
   "source": [
    "Entrenamos la red"
   ]
  },
  {
   "cell_type": "code",
   "execution_count": 22,
   "metadata": {},
   "outputs": [],
   "source": [
    "num_prints = 4\n",
    "\n",
    "def train_loop(dataloader, model, loss_fn, optimizer):\n",
    "    size = len(dataloader.dataset)\n",
    "    model.train()\n",
    "    for batch, (X, y) in enumerate(dataloader):\n",
    "        # X and y to device\n",
    "        X, y = X.to(device), y.to(device)\n",
    "\n",
    "        # Compute prediction and loss\n",
    "        pred = model(X)\n",
    "        loss = loss_fn(pred, y)\n",
    "\n",
    "        # Backpropagation\n",
    "        optimizer.zero_grad()\n",
    "        loss.backward()\n",
    "        optimizer.step()\n",
    "\n",
    "        if batch % int(len(dataloader)/(num_prints-1)) == 0:\n",
    "            loss, current = loss.item(), batch * len(X)\n",
    "            print(f\"loss: {loss:>7f}  [{current:>5d}/{size:>5d}]\")\n",
    "\n",
    "\n",
    "def val_loop(dataloader, model, loss_fn):\n",
    "    num_batches = len(dataloader)\n",
    "    test_loss = 0\n",
    "    model.eval()\n",
    "\n",
    "    with torch.no_grad():\n",
    "        for X, y in dataloader:\n",
    "            # X and y to device\n",
    "            X, y = X.to(device), y.to(device)\n",
    "            \n",
    "            pred = model(X)\n",
    "            test_loss += loss_fn(pred, y).item()\n",
    "\n",
    "    test_loss /= num_batches\n",
    "    print(f\"Test Error: \\n Avg loss: {test_loss:>8f} \\n\")"
   ]
  },
  {
   "cell_type": "markdown",
   "metadata": {},
   "source": [
    "Entrenamos"
   ]
  },
  {
   "cell_type": "code",
   "execution_count": 23,
   "metadata": {},
   "outputs": [
    {
     "name": "stdout",
     "output_type": "stream",
     "text": [
      "Epoch 1\n",
      "-------------------------------\n",
      "loss: 592.715576  [    0/  404]\n",
      "loss: 631.924072  [  128/  404]\n",
      "loss: 649.493164  [  256/  404]\n",
      "loss: 459.372650  [  240/  404]\n",
      "Test Error: \n",
      " Avg loss: 537.749939 \n",
      "\n",
      "Epoch 2\n",
      "-------------------------------\n",
      "loss: 373.319611  [    0/  404]\n",
      "loss: 427.977203  [  128/  404]\n",
      "loss: 399.665833  [  256/  404]\n",
      "loss: 421.489258  [  240/  404]\n",
      "Test Error: \n",
      " Avg loss: 452.626984 \n",
      "\n",
      "Epoch 3\n",
      "-------------------------------\n",
      "loss: 403.540955  [    0/  404]\n",
      "loss: 298.983490  [  128/  404]\n",
      "loss: 393.918213  [  256/  404]\n",
      "loss: 278.953186  [  240/  404]\n",
      "Test Error: \n",
      " Avg loss: 364.763123 \n",
      "\n",
      "Epoch 4\n",
      "-------------------------------\n",
      "loss: 299.536438  [    0/  404]\n",
      "loss: 343.799194  [  128/  404]\n",
      "loss: 441.735138  [  256/  404]\n",
      "loss: 130.662567  [  240/  404]\n",
      "Test Error: \n",
      " Avg loss: 282.768463 \n",
      "\n",
      "Epoch 5\n",
      "-------------------------------\n",
      "loss: 198.982742  [    0/  404]\n",
      "loss: 189.268021  [  128/  404]\n",
      "loss: 170.600098  [  256/  404]\n",
      "loss: 262.904541  [  240/  404]\n",
      "Test Error: \n",
      " Avg loss: 215.773132 \n",
      "\n",
      "Epoch 6\n",
      "-------------------------------\n",
      "loss: 170.314728  [    0/  404]\n",
      "loss: 208.412308  [  128/  404]\n",
      "loss: 115.167725  [  256/  404]\n",
      "loss: 190.369339  [  240/  404]\n",
      "Test Error: \n",
      " Avg loss: 169.048798 \n",
      "\n",
      "Epoch 7\n",
      "-------------------------------\n",
      "loss: 235.705627  [    0/  404]\n",
      "loss: 148.177368  [  128/  404]\n",
      "loss: 107.857796  [  256/  404]\n",
      "loss: 50.395901  [  240/  404]\n",
      "Test Error: \n",
      " Avg loss: 139.717834 \n",
      "\n",
      "Epoch 8\n",
      "-------------------------------\n",
      "loss: 191.425751  [    0/  404]\n",
      "loss: 89.971512  [  128/  404]\n",
      "loss: 155.722488  [  256/  404]\n",
      "loss: 52.710102  [  240/  404]\n",
      "Test Error: \n",
      " Avg loss: 121.819870 \n",
      "\n",
      "Epoch 9\n",
      "-------------------------------\n",
      "loss: 75.350945  [    0/  404]\n",
      "loss: 120.264557  [  128/  404]\n",
      "loss: 72.840691  [  256/  404]\n",
      "loss: 44.016392  [  240/  404]\n",
      "Test Error: \n",
      " Avg loss: 110.868416 \n",
      "\n",
      "Epoch 10\n",
      "-------------------------------\n",
      "loss: 117.613258  [    0/  404]\n",
      "loss: 49.124023  [  128/  404]\n",
      "loss: 64.764336  [  256/  404]\n",
      "loss: 112.082634  [  240/  404]\n",
      "Test Error: \n",
      " Avg loss: 104.107399 \n",
      "\n",
      "Epoch 11\n",
      "-------------------------------\n",
      "loss: 89.991974  [    0/  404]\n",
      "loss: 85.974625  [  128/  404]\n",
      "loss: 91.287743  [  256/  404]\n",
      "loss: 79.859818  [  240/  404]\n",
      "Test Error: \n",
      " Avg loss: 100.064262 \n",
      "\n",
      "Epoch 12\n",
      "-------------------------------\n",
      "loss: 56.693802  [    0/  404]\n",
      "loss: 127.147682  [  128/  404]\n",
      "loss: 69.850136  [  256/  404]\n",
      "loss: 52.092419  [  240/  404]\n",
      "Test Error: \n",
      " Avg loss: 97.715500 \n",
      "\n",
      "Epoch 13\n",
      "-------------------------------\n",
      "loss: 106.557968  [    0/  404]\n",
      "loss: 76.155190  [  128/  404]\n",
      "loss: 119.915672  [  256/  404]\n",
      "loss: 43.783611  [  240/  404]\n",
      "Test Error: \n",
      " Avg loss: 96.165222 \n",
      "\n",
      "Epoch 14\n",
      "-------------------------------\n",
      "loss: 116.377777  [    0/  404]\n",
      "loss: 98.736771  [  128/  404]\n",
      "loss: 104.449196  [  256/  404]\n",
      "loss: 19.176355  [  240/  404]\n",
      "Test Error: \n",
      " Avg loss: 95.270729 \n",
      "\n",
      "Done!\n"
     ]
    }
   ],
   "source": [
    "epochs = 14\n",
    "for t in range(epochs):\n",
    "    print(f\"Epoch {t+1}\\n-------------------------------\")\n",
    "    train_loop(train_dl, model, loss_fn, optimizer)\n",
    "    val_loop(val_dl, model, loss_fn)\n",
    "print(\"Done!\")"
   ]
  },
  {
   "cell_type": "markdown",
   "metadata": {},
   "source": [
    "Vamos a meterle un dato del dataset de validación a ver qué tal lo hace la red"
   ]
  },
  {
   "cell_type": "code",
   "execution_count": 24,
   "metadata": {},
   "outputs": [],
   "source": [
    "valid_parameters, valid_target = next(iter(val_dl))\n",
    "\n",
    "predictions = model(valid_parameters.to(device))"
   ]
  },
  {
   "cell_type": "code",
   "execution_count": 27,
   "metadata": {},
   "outputs": [
    {
     "name": "stdout",
     "output_type": "stream",
     "text": [
      "para todo el batch de validación\n",
      "\t se esperaba target: 20.000000, y se ha predicho: 21.370050\n",
      "\t se esperaba target: 18.600000, y se ha predicho: 21.537910\n",
      "\t se esperaba target: 22.799999, y se ha predicho: 21.562872\n",
      "\t se esperaba target: 10.900000, y se ha predicho: 21.077694\n",
      "\t se esperaba target: 20.400000, y se ha predicho: 21.565390\n",
      "\t se esperaba target: 37.900002, y se ha predicho: 21.536257\n",
      "\t se esperaba target: 21.700001, y se ha predicho: 21.558929\n",
      "\t se esperaba target: 10.400000, y se ha predicho: 21.415024\n",
      "\t se esperaba target: 20.299999, y se ha predicho: 21.551126\n",
      "\t se esperaba target: 11.300000, y se ha predicho: 21.363111\n",
      "\t se esperaba target: 23.700001, y se ha predicho: 21.565447\n",
      "\t se esperaba target: 23.200001, y se ha predicho: 21.567780\n",
      "\t se esperaba target: 25.000000, y se ha predicho: 21.565424\n",
      "\t se esperaba target: 21.900000, y se ha predicho: 21.352701\n",
      "\t se esperaba target: 7.000000, y se ha predicho: 21.343679\n",
      "\t se esperaba target: 8.800000, y se ha predicho: 21.313019\n",
      "\t se esperaba target: 22.000000, y se ha predicho: 21.565443\n",
      "\t se esperaba target: 26.200001, y se ha predicho: 21.565424\n",
      "\t se esperaba target: 24.799999, y se ha predicho: 21.565123\n",
      "\t se esperaba target: 20.100000, y se ha predicho: 21.563292\n",
      "\t se esperaba target: 37.299999, y se ha predicho: 21.571035\n",
      "\t se esperaba target: 20.600000, y se ha predicho: 21.388094\n",
      "\t se esperaba target: 28.100000, y se ha predicho: 21.565441\n",
      "\t se esperaba target: 19.600000, y se ha predicho: 21.534624\n",
      "\t se esperaba target: 19.299999, y se ha predicho: 21.540724\n",
      "\t se esperaba target: 24.700001, y se ha predicho: 21.565453\n",
      "\t se esperaba target: 16.799999, y se ha predicho: 21.350700\n",
      "\t se esperaba target: 18.900000, y se ha predicho: 21.479794\n",
      "\t se esperaba target: 36.400002, y se ha predicho: 21.554173\n",
      "\t se esperaba target: 20.600000, y se ha predicho: 21.566769\n",
      "\t se esperaba target: 50.000000, y se ha predicho: 21.374933\n",
      "\t se esperaba target: 17.799999, y se ha predicho: 21.558916\n",
      "\t se esperaba target: 15.600000, y se ha predicho: 21.557314\n",
      "\t se esperaba target: 23.100000, y se ha predicho: 21.565439\n",
      "\t se esperaba target: 29.400000, y se ha predicho: 21.565441\n",
      "\t se esperaba target: 18.400000, y se ha predicho: 21.363237\n",
      "\t se esperaba target: 50.000000, y se ha predicho: 21.365736\n",
      "\t se esperaba target: 21.100000, y se ha predicho: 21.566858\n",
      "\t se esperaba target: 20.400000, y se ha predicho: 21.540394\n",
      "\t se esperaba target: 29.799999, y se ha predicho: 21.368021\n",
      "\t se esperaba target: 13.900000, y se ha predicho: 21.538794\n",
      "\t se esperaba target: 29.100000, y se ha predicho: 21.570415\n",
      "\t se esperaba target: 26.600000, y se ha predicho: 21.566866\n",
      "\t se esperaba target: 15.200000, y se ha predicho: 21.558693\n",
      "\t se esperaba target: 19.299999, y se ha predicho: 21.567064\n",
      "\t se esperaba target: 14.100000, y se ha predicho: 21.363146\n",
      "\t se esperaba target: 50.000000, y se ha predicho: 21.535385\n",
      "\t se esperaba target: 9.500000, y se ha predicho: 21.101492\n",
      "\t se esperaba target: 18.299999, y se ha predicho: 21.515001\n",
      "\t se esperaba target: 12.500000, y se ha predicho: 21.363064\n",
      "\t se esperaba target: 16.600000, y se ha predicho: 21.558144\n",
      "\t se esperaba target: 23.100000, y se ha predicho: 21.142965\n",
      "\t se esperaba target: 19.799999, y se ha predicho: 21.523251\n",
      "\t se esperaba target: 23.100000, y se ha predicho: 21.561304\n",
      "\t se esperaba target: 19.400000, y se ha predicho: 21.561689\n",
      "\t se esperaba target: 18.299999, y se ha predicho: 21.548573\n",
      "\t se esperaba target: 17.200001, y se ha predicho: 21.101391\n",
      "\t se esperaba target: 32.000000, y se ha predicho: 21.569021\n",
      "\t se esperaba target: 30.100000, y se ha predicho: 21.525501\n",
      "\t se esperaba target: 14.000000, y se ha predicho: 21.533705\n",
      "\t se esperaba target: 17.100000, y se ha predicho: 21.534117\n",
      "\t se esperaba target: 29.000000, y se ha predicho: 21.550404\n",
      "\t se esperaba target: 41.700001, y se ha predicho: 21.560724\n",
      "\t se esperaba target: 27.500000, y se ha predicho: 21.352909\n",
      "\t se esperaba target: 20.600000, y se ha predicho: 21.564613\n",
      "\t se esperaba target: 17.200001, y se ha predicho: 21.558151\n",
      "\t se esperaba target: 17.100000, y se ha predicho: 21.361906\n",
      "\t se esperaba target: 17.400000, y se ha predicho: 21.531975\n",
      "\t se esperaba target: 18.799999, y se ha predicho: 21.537437\n",
      "\t se esperaba target: 21.700001, y se ha predicho: 21.560991\n",
      "\t se esperaba target: 46.700001, y se ha predicho: 21.565401\n",
      "\t se esperaba target: 5.000000, y se ha predicho: 21.388859\n",
      "\t se esperaba target: 22.600000, y se ha predicho: 21.565456\n",
      "\t se esperaba target: 20.000000, y se ha predicho: 21.539627\n",
      "\t se esperaba target: 34.900002, y se ha predicho: 21.568455\n",
      "\t se esperaba target: 42.799999, y se ha predicho: 21.565355\n",
      "\t se esperaba target: 22.000000, y se ha predicho: 21.520054\n",
      "\t se esperaba target: 14.600000, y se ha predicho: 21.361767\n",
      "\t se esperaba target: 24.799999, y se ha predicho: 21.564951\n",
      "\t se esperaba target: 16.100000, y se ha predicho: 21.564915\n",
      "\t se esperaba target: 10.800000, y se ha predicho: 21.306705\n",
      "\t se esperaba target: 21.400000, y se ha predicho: 21.520428\n",
      "\t se esperaba target: 19.200001, y se ha predicho: 21.534292\n",
      "\t se esperaba target: 50.000000, y se ha predicho: 21.536432\n",
      "\t se esperaba target: 23.100000, y se ha predicho: 21.568495\n",
      "\t se esperaba target: 16.500000, y se ha predicho: 21.558676\n",
      "\t se esperaba target: 14.300000, y se ha predicho: 21.105354\n",
      "\t se esperaba target: 18.900000, y se ha predicho: 21.558422\n",
      "\t se esperaba target: 32.900002, y se ha predicho: 21.497505\n",
      "\t se esperaba target: 17.500000, y se ha predicho: 21.558361\n",
      "\t se esperaba target: 28.700001, y se ha predicho: 21.564203\n",
      "\t se esperaba target: 17.500000, y se ha predicho: 21.545712\n",
      "\t se esperaba target: 31.200001, y se ha predicho: 21.564308\n",
      "\t se esperaba target: 24.400000, y se ha predicho: 21.565418\n",
      "\t se esperaba target: 14.900000, y se ha predicho: 21.311359\n",
      "\t se esperaba target: 50.000000, y se ha predicho: 21.555454\n",
      "\t se esperaba target: 13.300000, y se ha predicho: 21.533823\n",
      "\t se esperaba target: 34.900002, y se ha predicho: 21.560509\n",
      "\t se esperaba target: 23.100000, y se ha predicho: 21.557316\n",
      "\t se esperaba target: 21.600000, y se ha predicho: 21.558929\n",
      "\t se esperaba target: 24.299999, y se ha predicho: 21.565437\n",
      "\t se esperaba target: 11.500000, y se ha predicho: 21.363029\n"
     ]
    }
   ],
   "source": [
    "print(f\"para todo el batch de validación\")\n",
    "for i in range(len(valid_target)):\n",
    "    print(f\"\\t se esperaba target: {valid_target[i].item():>7f}, y se ha predicho: {predictions[i].item():>7f}\")"
   ]
  },
  {
   "cell_type": "markdown",
   "metadata": {},
   "source": [
    "Vemos que a la red le falta más entrenamiento porque a la salida casi siempre predice en torno al mismo valor. Pero ahora no vamos a buscar la mejor red posible, eso lo haremos al final del tema"
   ]
  }
 ],
 "metadata": {
  "interpreter": {
   "hash": "8e4d58f53b4b3ced286559ef92073773937aa87eedd0536c036fd264999b02c5"
  },
  "kernelspec": {
   "display_name": "Python 3.9.7 ('base')",
   "language": "python",
   "name": "python3"
  },
  "language_info": {
   "codemirror_mode": {
    "name": "ipython",
    "version": 3
   },
   "file_extension": ".py",
   "mimetype": "text/x-python",
   "name": "python",
   "nbconvert_exporter": "python",
   "pygments_lexer": "ipython3",
   "version": "3.8.17"
  },
  "orig_nbformat": 4
 },
 "nbformat": 4,
 "nbformat_minor": 2
}
