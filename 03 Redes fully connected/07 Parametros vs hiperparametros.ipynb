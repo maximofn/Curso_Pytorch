{
 "cells": [
  {
   "cell_type": "markdown",
   "metadata": {},
   "source": [
    "# Parámetros vs hiperparámetros"
   ]
  },
  {
   "cell_type": "markdown",
   "metadata": {},
   "source": [
    "Hemos visto que a la hora de entrenar una red neuronal la entrenamos para cambiar sus parámetros y que se ajuste lo mejor posible a nuestro problema"
   ]
  },
  {
   "cell_type": "markdown",
   "metadata": {},
   "source": [
    "También hemos visto que tenemos que elegir el valor de otras variables, como el learning rate, el tamaño de cada batch, qué arquitectura de red usar, el número de épocas que vamos a entrenar, qué funciones de error usar, etc."
   ]
  },
  {
   "cell_type": "markdown",
   "metadata": {},
   "source": [
    "Por tanto tenemos que distinguir entre los **parámetros** y los **hiperparámetros**\n",
    "\n",
    " * **Parámetros**: Es todo lo que se ajusta automáticamente y que nosotros no tenemos que elegir. Como los pesos de la red neuronal\n",
    " * **Hiperparametros**: Son todos los valores que no se ajustan automáticamente y tenemos que elgir nosotros"
   ]
  },
  {
   "cell_type": "markdown",
   "metadata": {},
   "source": [
    "Por tanto los pesos de una red neuronal corresponden a los **parámetros**, mientras que el learning rate, el tamaño de cada batch, qué arquitectura usar, etc. corresponden a los **hiperparámetros**"
   ]
  }
 ],
 "metadata": {
  "language_info": {
   "name": "python"
  },
  "orig_nbformat": 4
 },
 "nbformat": 4,
 "nbformat_minor": 2
}
