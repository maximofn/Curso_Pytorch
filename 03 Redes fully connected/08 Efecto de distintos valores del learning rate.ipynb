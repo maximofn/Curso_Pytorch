{
 "cells": [
  {
   "cell_type": "markdown",
   "metadata": {},
   "source": [
    "# Efecto de distintos valores de learning rate $\\alpha$"
   ]
  },
  {
   "cell_type": "markdown",
   "metadata": {},
   "source": [
    "El valor del learning rate $\\alpha$ determina la velocidad de aprendizaje. Si recordamos los parámetros se modificaban mediante la siguiente fórmula\n",
    "\n",
    "$$\\omega_i' = \\omega_i - \\alpha\\frac{\\partial loss}{\\partial \\omega_i}$$\n",
    "\n",
    "Es decir el peso de la red se modifica restándole el gradiente de la función de coste multiplicado por el learning rate $\\alpha$. Por lo que modificar este valor va a hacer que se modifique más o menos el valor del peso, es decir, que la red aprenda más o menos deprisa\n",
    "\n",
    "Vamos e ver este efecto en el primer ejemplo de entrenamiento que vimos"
   ]
  },
  {
   "cell_type": "markdown",
   "metadata": {},
   "source": [
    "Supongamos que tenemos la siguiente distribución de puntos"
   ]
  },
  {
   "cell_type": "code",
   "execution_count": 1,
   "metadata": {},
   "outputs": [],
   "source": [
    "import numpy as np\n",
    "\n",
    "x = np.array( [ 0.        ,  0.34482759,  0.68965517,  1.03448276,  1.37931034,\n",
    "        1.72413793,  2.06896552,  2.4137931 ,  2.75862069,  3.10344828,\n",
    "        3.44827586,  3.79310345,  4.13793103,  4.48275862,  4.82758621,\n",
    "        5.17241379,  5.51724138,  5.86206897,  6.20689655,  6.55172414,\n",
    "        6.89655172,  7.24137931,  7.5862069 ,  7.93103448,  8.27586207,\n",
    "        8.62068966,  8.96551724,  9.31034483,  9.65517241, 10.        ])\n",
    "\n",
    "y = np.array( [-0.16281253,  1.88707606,  0.39649312,  0.03857752,  4.0148778 ,\n",
    "        0.58866234,  3.35711859,  1.94314906,  6.96106424,  5.89792585,\n",
    "        8.47226615,  3.67698542, 12.05958678,  9.85234481,  9.82181679,\n",
    "        6.07652248, 14.17536744, 12.67825433, 12.97499286, 11.76098542,\n",
    "       12.7843083 , 16.42241036, 13.67913705, 15.55066478, 17.45979602,\n",
    "       16.41982806, 17.01977617, 20.28151197, 19.38148414, 19.41029831])"
   ]
  },
  {
   "cell_type": "markdown",
   "metadata": {},
   "source": [
    "Los representamos"
   ]
  },
  {
   "cell_type": "code",
   "execution_count": 2,
   "metadata": {},
   "outputs": [
    {
     "data": {
      "image/png": "[encoded data removed]",
      "text/plain": [
       "<Figure size 432x288 with 1 Axes>"
      ]
     },
     "metadata": {
      "needs_background": "light"
     },
     "output_type": "display_data"
    }
   ],
   "source": [
    "import matplotlib.pyplot as plt\n",
    "\n",
    "plt.scatter(x, y)\n",
    "plt.xlabel('X')\n",
    "plt.ylabel('Y  ', rotation=0)\n",
    "plt.show()"
   ]
  },
  {
   "cell_type": "markdown",
   "metadata": {},
   "source": [
    "Queremos crear una red neuronal que se ajuste a esos puntos, así que hacemos todo el proceso"
   ]
  },
  {
   "cell_type": "markdown",
   "metadata": {},
   "source": [
    "## Dataset y Dataloader"
   ]
  },
  {
   "cell_type": "markdown",
   "metadata": {},
   "source": [
    "Creamos un dataset"
   ]
  },
  {
   "cell_type": "code",
   "execution_count": 3,
   "metadata": {},
   "outputs": [],
   "source": [
    "import torch\n",
    "\n",
    "class Dataset(torch.utils.data.Dataset):\n",
    "    def __init__(self, x, y):\n",
    "        self.x = torch.from_numpy(x).type(torch.float32).reshape((len(x), 1))\n",
    "        self.y = torch.from_numpy(y).type(torch.float32).reshape((len(y), 1))\n",
    "\n",
    "    def __len__(self):\n",
    "        return len(self.x)\n",
    "\n",
    "    def __getitem__(self, idx):\n",
    "        return self.x[idx], self.y[idx]"
   ]
  },
  {
   "cell_type": "code",
   "execution_count": 4,
   "metadata": {},
   "outputs": [
    {
     "data": {
      "text/plain": [
       "((30,), (30,), 30)"
      ]
     },
     "execution_count": 4,
     "metadata": {},
     "output_type": "execute_result"
    }
   ],
   "source": [
    "dataset = Dataset(x, y)\n",
    "\n",
    "x.shape, y.shape, len(dataset)"
   ]
  },
  {
   "cell_type": "code",
   "execution_count": 5,
   "metadata": {},
   "outputs": [
    {
     "data": {
      "text/plain": [
       "(torch.float32, torch.float32)"
      ]
     },
     "execution_count": 5,
     "metadata": {},
     "output_type": "execute_result"
    }
   ],
   "source": [
    "sample = dataset[0]\n",
    "x_sample, y_sample = sample\n",
    "\n",
    "x_sample.dtype, y_sample.dtype"
   ]
  },
  {
   "cell_type": "code",
   "execution_count": 6,
   "metadata": {},
   "outputs": [],
   "source": [
    "from torch.utils.data import DataLoader\n",
    "\n",
    "BS = 4\n",
    "\n",
    "dataloader = DataLoader(dataset, batch_size=BS)"
   ]
  },
  {
   "cell_type": "code",
   "execution_count": 7,
   "metadata": {},
   "outputs": [
    {
     "data": {
      "text/plain": [
       "(torch.Size([4, 1]), torch.Size([4, 1]))"
      ]
     },
     "execution_count": 7,
     "metadata": {},
     "output_type": "execute_result"
    }
   ],
   "source": [
    "batch = next(iter(dataloader))\n",
    "sample_x, sample_y = batch\n",
    "sample_x.shape, sample_y.shape"
   ]
  },
  {
   "cell_type": "markdown",
   "metadata": {},
   "source": [
    "## Red neuronal"
   ]
  },
  {
   "cell_type": "code",
   "execution_count": 12,
   "metadata": {},
   "outputs": [],
   "source": [
    "from torch import nn\n",
    "\n",
    "class Model(nn.Module):\n",
    "    def __init__(self, num_inputs, num_outputs):\n",
    "        super().__init__()\n",
    "        self.layer = torch.nn.Linear(num_inputs, num_outputs, bias=False)\n",
    "\n",
    "    def forward(self, x):\n",
    "        logits = self.layer(x)\n",
    "        return logits"
   ]
  },
  {
   "cell_type": "code",
   "execution_count": 13,
   "metadata": {},
   "outputs": [
    {
     "data": {
      "text/plain": [
       "Model(\n",
       "  (layer): Linear(in_features=1, out_features=1, bias=False)\n",
       ")"
      ]
     },
     "execution_count": 13,
     "metadata": {},
     "output_type": "execute_result"
    }
   ],
   "source": [
    "num_inputs = 1\n",
    "num_outputs = 1\n",
    "model = Model(num_inputs, num_outputs)\n",
    "\n",
    "model"
   ]
  },
  {
   "cell_type": "code",
   "execution_count": 15,
   "metadata": {},
   "outputs": [
    {
     "name": "stdout",
     "output_type": "stream",
     "text": [
      "Capa: layer.weight | Size: torch.Size([1, 1]) | Value : tensor([[-0.2244]], grad_fn=<SliceBackward>) \n",
      "\n"
     ]
    }
   ],
   "source": [
    "for name, param in model.named_parameters():\n",
    "    print(f\"Capa: {name} | Size: {param.size()} | Value : {param[:2]} \\n\")"
   ]
  },
  {
   "cell_type": "code",
   "execution_count": 16,
   "metadata": {},
   "outputs": [
    {
     "data": {
      "text/plain": [
       "torch.Size([4, 1])"
      ]
     },
     "execution_count": 16,
     "metadata": {},
     "output_type": "execute_result"
    }
   ],
   "source": [
    "logits = model(sample_x)\n",
    "logits.shape"
   ]
  },
  {
   "cell_type": "code",
   "execution_count": 17,
   "metadata": {},
   "outputs": [
    {
     "name": "stdout",
     "output_type": "stream",
     "text": [
      "Using cuda device\n"
     ]
    },
    {
     "data": {
      "text/plain": [
       "Model(\n",
       "  (layer): Linear(in_features=1, out_features=1, bias=False)\n",
       ")"
      ]
     },
     "execution_count": 17,
     "metadata": {},
     "output_type": "execute_result"
    }
   ],
   "source": [
    "# Get cpu or gpu device for training.\n",
    "device = \"cuda\" if torch.cuda.is_available() else \"cpu\"\n",
    "print(\"Using {} device\".format(device))\n",
    "\n",
    "model.to(device)"
   ]
  },
  {
   "cell_type": "markdown",
   "metadata": {},
   "source": [
    "## Función de pérdida y optimizador"
   ]
  },
  {
   "cell_type": "code",
   "execution_count": 18,
   "metadata": {},
   "outputs": [],
   "source": [
    "LR = 1e-3\n",
    "\n",
    "loss_fn = nn.MSELoss()\n",
    "optimizer = torch.optim.SGD(model.parameters(), lr=LR)"
   ]
  },
  {
   "cell_type": "markdown",
   "metadata": {},
   "source": [
    "## Ciclo de entrenamiento"
   ]
  },
  {
   "cell_type": "code",
   "execution_count": 19,
   "metadata": {},
   "outputs": [],
   "source": [
    "num_prints = 4\n",
    "\n",
    "def train_loop(dataloader, model, loss_fn, optimizer):\n",
    "    size = len(dataloader.dataset)\n",
    "    model.train()\n",
    "    \n",
    "    for batch, (X, y) in enumerate(dataloader):\n",
    "        # X and y to device\n",
    "        X, y = X.to(device), y.to(device)\n",
    "\n",
    "        # Compute prediction and loss\n",
    "        pred = model(X)\n",
    "        loss = loss_fn(pred, y)\n",
    "\n",
    "        # Backpropagation\n",
    "        optimizer.zero_grad()\n",
    "        loss.backward()\n",
    "        optimizer.step()\n",
    "\n",
    "        if batch % int(len(dataloader)/(num_prints-1)) == 0:\n",
    "            loss, current = loss.item(), batch * len(X)\n",
    "            print(f\"loss: {loss:>7f}  [{current:>5d}/{size:>5d}]\")"
   ]
  },
  {
   "cell_type": "code",
   "execution_count": 20,
   "metadata": {},
   "outputs": [
    {
     "name": "stdout",
     "output_type": "stream",
     "text": [
      "Epoch 1\n",
      "-------------------------------\n",
      "loss: 1.065680  [    0/   30]\n",
      "loss: 51.217781  [    8/   30]\n",
      "loss: 178.792908  [   16/   30]\n",
      "loss: 233.358154  [   24/   30]\n",
      "Epoch 2\n",
      "-------------------------------\n",
      "loss: 0.824169  [    0/   30]\n",
      "loss: 15.990150  [    8/   30]\n",
      "loss: 56.403248  [   16/   30]\n",
      "loss: 66.892082  [   24/   30]\n",
      "Epoch 3\n",
      "-------------------------------\n",
      "loss: 1.068729  [    0/   30]\n",
      "loss: 7.140075  [    8/   30]\n",
      "loss: 20.579899  [   16/   30]\n",
      "loss: 20.434147  [   24/   30]\n",
      "Epoch 4\n",
      "-------------------------------\n",
      "loss: 1.297140  [    0/   30]\n",
      "loss: 5.115815  [    8/   30]\n",
      "loss: 9.517916  [   16/   30]\n",
      "loss: 7.187534  [   24/   30]\n",
      "Epoch 5\n",
      "-------------------------------\n",
      "loss: 1.443731  [    0/   30]\n",
      "loss: 4.765315  [    8/   30]\n",
      "loss: 5.822448  [   16/   30]\n",
      "loss: 3.267590  [   24/   30]\n",
      "Epoch 6\n",
      "-------------------------------\n",
      "loss: 1.527668  [    0/   30]\n",
      "loss: 4.774450  [    8/   30]\n",
      "loss: 4.459370  [   16/   30]\n",
      "loss: 2.036445  [   24/   30]\n",
      "Epoch 7\n",
      "-------------------------------\n",
      "loss: 1.573487  [    0/   30]\n",
      "loss: 4.831457  [    8/   30]\n",
      "loss: 3.901973  [   16/   30]\n",
      "loss: 1.615643  [   24/   30]\n",
      "Epoch 8\n",
      "-------------------------------\n",
      "loss: 1.597941  [    0/   30]\n",
      "loss: 4.875411  [    8/   30]\n",
      "loss: 3.653021  [   16/   30]\n",
      "loss: 1.456387  [   24/   30]\n",
      "Epoch 9\n",
      "-------------------------------\n",
      "loss: 1.610849  [    0/   30]\n",
      "loss: 4.902208  [    8/   30]\n",
      "loss: 3.534533  [   16/   30]\n",
      "loss: 1.389708  [   24/   30]\n",
      "Epoch 10\n",
      "-------------------------------\n",
      "loss: 1.617622  [    0/   30]\n",
      "loss: 4.917240  [    8/   30]\n",
      "loss: 3.475819  [   16/   30]\n",
      "loss: 1.359387  [   24/   30]\n",
      "Epoch 11\n",
      "-------------------------------\n",
      "loss: 1.621168  [    0/   30]\n",
      "loss: 4.925368  [    8/   30]\n",
      "loss: 3.446034  [   16/   30]\n",
      "loss: 1.344784  [   24/   30]\n",
      "Epoch 12\n",
      "-------------------------------\n",
      "loss: 1.623020  [    0/   30]\n",
      "loss: 4.929686  [    8/   30]\n",
      "loss: 3.430726  [   16/   30]\n",
      "loss: 1.337496  [   24/   30]\n",
      "Epoch 13\n",
      "-------------------------------\n",
      "loss: 1.623987  [    0/   30]\n",
      "loss: 4.931960  [    8/   30]\n",
      "loss: 3.422801  [   16/   30]\n",
      "loss: 1.333784  [   24/   30]\n",
      "Epoch 14\n",
      "-------------------------------\n",
      "loss: 1.624492  [    0/   30]\n",
      "loss: 4.933152  [    8/   30]\n",
      "loss: 3.418685  [   16/   30]\n",
      "loss: 1.331874  [   24/   30]\n",
      "Done!\n"
     ]
    }
   ],
   "source": [
    "epochs = 14\n",
    "for t in range(epochs):\n",
    "    print(f\"Epoch {t+1}\\n-------------------------------\")\n",
    "    train_loop(dataloader, model, loss_fn, optimizer)\n",
    "print(\"Done!\")"
   ]
  },
  {
   "cell_type": "markdown",
   "metadata": {},
   "source": [
    "## Resultado"
   ]
  },
  {
   "cell_type": "code",
   "execution_count": 30,
   "metadata": {},
   "outputs": [
    {
     "data": {
      "image/png": "[encoded data removed]",
      "text/plain": [
       "<Figure size 432x288 with 1 Axes>"
      ]
     },
     "metadata": {
      "needs_background": "light"
     },
     "output_type": "display_data"
    }
   ],
   "source": [
    "x_tensor = torch.from_numpy(x).type(torch.float32).reshape((len(x), 1))\n",
    "model.to(\"cpu\")\n",
    "z = model(x_tensor).detach().numpy()\n",
    "x_tensor.shape, z.shape\n",
    "\n",
    "plt.scatter(x, y)\n",
    "plt.plot(x, z, 'k')\n",
    "plt.xlabel('X')\n",
    "plt.ylabel('Y  ', rotation=0)\n",
    "plt.show()"
   ]
  },
  {
   "cell_type": "markdown",
   "metadata": {},
   "source": [
    "## Varios LR"
   ]
  },
  {
   "cell_type": "markdown",
   "metadata": {},
   "source": [
    "Volvemos a crear la red neuronal desde cero y probamos a entrenarla con varios LRs"
   ]
  },
  {
   "cell_type": "code",
   "execution_count": 31,
   "metadata": {},
   "outputs": [],
   "source": [
    "LRs = [1e-3, 1e-5, 1e-1]"
   ]
  },
  {
   "cell_type": "code",
   "execution_count": 93,
   "metadata": {},
   "outputs": [],
   "source": [
    "def entrenamiento(epochs, dataloader, model, loss_fn, optimizer):\n",
    "    Zs = np.empty((epochs, len(x), 1))\n",
    "    for e in range(epochs):\n",
    "        print(f\"Epoch {t+1}\\n-------------------------------\")\n",
    "        train_loop(dataloader, model, loss_fn, optimizer)\n",
    "        Zs[e] = model(x_tensor.to(device)).to(\"cpu\").detach().numpy()\n",
    "    print(\"Done!\")\n",
    "    \n",
    "    return Zs"
   ]
  },
  {
   "cell_type": "code",
   "execution_count": 94,
   "metadata": {},
   "outputs": [
    {
     "name": "stdout",
     "output_type": "stream",
     "text": [
      "Epoch 14\n",
      "-------------------------------\n",
      "loss: 0.818341  [    0/   30]\n",
      "loss: 16.636269  [    8/   30]\n",
      "loss: 58.818615  [   16/   30]\n",
      "loss: 70.101120  [   24/   30]\n",
      "Epoch 14\n",
      "-------------------------------\n",
      "loss: 1.058632  [    0/   30]\n",
      "loss: 7.295704  [    8/   30]\n",
      "loss: 21.306252  [   16/   30]\n",
      "loss: 21.339176  [   24/   30]\n",
      "Epoch 14\n",
      "-------------------------------\n",
      "loss: 1.289952  [    0/   30]\n",
      "loss: 5.147630  [    8/   30]\n",
      "loss: 9.751597  [   16/   30]\n",
      "loss: 7.450385  [   24/   30]\n",
      "Epoch 14\n",
      "-------------------------------\n",
      "loss: 1.439459  [    0/   30]\n",
      "loss: 4.768477  [    8/   30]\n",
      "loss: 5.904832  [   16/   30]\n",
      "loss: 3.347764  [   24/   30]\n",
      "Epoch 14\n",
      "-------------------------------\n",
      "loss: 1.525298  [    0/   30]\n",
      "loss: 4.772444  [    8/   30]\n",
      "loss: 4.491592  [   16/   30]\n",
      "loss: 2.062774  [   24/   30]\n",
      "Epoch 14\n",
      "-------------------------------\n",
      "loss: 1.572211  [    0/   30]\n",
      "loss: 4.829415  [    8/   30]\n",
      "loss: 3.915859  [   16/   30]\n",
      "loss: 1.625162  [   24/   30]\n",
      "Epoch 14\n",
      "-------------------------------\n",
      "loss: 1.597265  [    0/   30]\n",
      "loss: 4.874075  [    8/   30]\n",
      "loss: 3.659468  [   16/   30]\n",
      "loss: 1.460205  [   24/   30]\n",
      "Epoch 14\n",
      "-------------------------------\n",
      "loss: 1.610493  [    0/   30]\n",
      "loss: 4.901438  [    8/   30]\n",
      "loss: 3.537679  [   16/   30]\n",
      "loss: 1.391387  [   24/   30]\n",
      "Epoch 14\n",
      "-------------------------------\n",
      "loss: 1.617436  [    0/   30]\n",
      "loss: 4.916818  [    8/   30]\n",
      "loss: 3.477402  [   16/   30]\n",
      "loss: 1.360178  [   24/   30]\n",
      "Epoch 14\n",
      "-------------------------------\n",
      "loss: 1.621070  [    0/   30]\n",
      "loss: 4.925142  [    8/   30]\n",
      "loss: 3.446843  [   16/   30]\n",
      "loss: 1.345174  [   24/   30]\n",
      "Epoch 14\n",
      "-------------------------------\n",
      "loss: 1.622969  [    0/   30]\n",
      "loss: 4.929566  [    8/   30]\n",
      "loss: 3.431144  [   16/   30]\n",
      "loss: 1.337693  [   24/   30]\n",
      "Epoch 14\n",
      "-------------------------------\n",
      "loss: 1.623960  [    0/   30]\n",
      "loss: 4.931897  [    8/   30]\n",
      "loss: 3.423019  [   16/   30]\n",
      "loss: 1.333885  [   24/   30]\n",
      "Epoch 14\n",
      "-------------------------------\n",
      "loss: 1.624477  [    0/   30]\n",
      "loss: 4.933118  [    8/   30]\n",
      "loss: 3.418801  [   16/   30]\n",
      "loss: 1.331926  [   24/   30]\n",
      "Epoch 14\n",
      "-------------------------------\n",
      "loss: 1.624748  [    0/   30]\n",
      "loss: 4.933758  [    8/   30]\n",
      "loss: 3.416602  [   16/   30]\n",
      "loss: 1.330909  [   24/   30]\n",
      "Done!\n",
      "Epoch 14\n",
      "-------------------------------\n",
      "loss: 0.818341  [    0/   30]\n",
      "loss: 16.701015  [    8/   30]\n",
      "loss: 65.821762  [   16/   30]\n",
      "loss: 115.821136  [   24/   30]\n",
      "Epoch 14\n",
      "-------------------------------\n",
      "loss: 0.819708  [    0/   30]\n",
      "loss: 16.538727  [    8/   30]\n",
      "loss: 65.137863  [   16/   30]\n",
      "loss: 114.482666  [   24/   30]\n",
      "Epoch 14\n",
      "-------------------------------\n",
      "loss: 0.821110  [    0/   30]\n",
      "loss: 16.378515  [    8/   30]\n",
      "loss: 64.461792  [   16/   30]\n",
      "loss: 113.160065  [   24/   30]\n",
      "Epoch 14\n",
      "-------------------------------\n",
      "loss: 0.822545  [    0/   30]\n",
      "loss: 16.220360  [    8/   30]\n",
      "loss: 63.793449  [   16/   30]\n",
      "loss: 111.853149  [   24/   30]\n",
      "Epoch 14\n",
      "-------------------------------\n",
      "loss: 0.824012  [    0/   30]\n",
      "loss: 16.064228  [    8/   30]\n",
      "loss: 63.132732  [   16/   30]\n",
      "loss: 110.561737  [   24/   30]\n",
      "Epoch 14\n",
      "-------------------------------\n",
      "loss: 0.825511  [    0/   30]\n",
      "loss: 15.910105  [    8/   30]\n",
      "loss: 62.479568  [   16/   30]\n",
      "loss: 109.285629  [   24/   30]\n",
      "Epoch 14\n",
      "-------------------------------\n",
      "loss: 0.827041  [    0/   30]\n",
      "loss: 15.757957  [    8/   30]\n",
      "loss: 61.833874  [   16/   30]\n",
      "loss: 108.024643  [   24/   30]\n",
      "Epoch 14\n",
      "-------------------------------\n",
      "loss: 0.828601  [    0/   30]\n",
      "loss: 15.607759  [    8/   30]\n",
      "loss: 61.195541  [   16/   30]\n",
      "loss: 106.778595  [   24/   30]\n",
      "Epoch 14\n",
      "-------------------------------\n",
      "loss: 0.830191  [    0/   30]\n",
      "loss: 15.459496  [    8/   30]\n",
      "loss: 60.564499  [   16/   30]\n",
      "loss: 105.547333  [   24/   30]\n",
      "Epoch 14\n",
      "-------------------------------\n",
      "loss: 0.831810  [    0/   30]\n",
      "loss: 15.313137  [    8/   30]\n",
      "loss: 59.940647  [   16/   30]\n",
      "loss: 104.330643  [   24/   30]\n",
      "Epoch 14\n",
      "-------------------------------\n",
      "loss: 0.833458  [    0/   30]\n",
      "loss: 15.168659  [    8/   30]\n",
      "loss: 59.323917  [   16/   30]\n",
      "loss: 103.128387  [   24/   30]\n",
      "Epoch 14\n",
      "-------------------------------\n",
      "loss: 0.835133  [    0/   30]\n",
      "loss: 15.026039  [    8/   30]\n",
      "loss: 58.714230  [   16/   30]\n",
      "loss: 101.940384  [   24/   30]\n",
      "Epoch 14\n",
      "-------------------------------\n",
      "loss: 0.836835  [    0/   30]\n",
      "loss: 14.885258  [    8/   30]\n",
      "loss: 58.111496  [   16/   30]\n",
      "loss: 100.766449  [   24/   30]\n",
      "Epoch 14\n",
      "-------------------------------\n",
      "loss: 0.838564  [    0/   30]\n",
      "loss: 14.746286  [    8/   30]\n",
      "loss: 57.515621  [   16/   30]\n",
      "loss: 99.606407  [   24/   30]\n",
      "Done!\n",
      "Epoch 14\n",
      "-------------------------------\n",
      "loss: 0.818341  [    0/   30]\n",
      "loss: 10.820536  [    8/   30]\n",
      "loss: 262.209534  [   16/   30]\n",
      "loss: 2242159.250000  [   24/   30]\n",
      "Epoch 14\n",
      "-------------------------------\n",
      "loss: 849400384.000000  [    0/   30]\n",
      "loss: 1174957056.000000  [    8/   30]\n",
      "loss: 61789454336.000000  [   16/   30]\n",
      "loss: 524056138874880.000000  [   24/   30]\n",
      "Epoch 14\n",
      "-------------------------------\n",
      "loss: 198532904752513024.000000  [    0/   30]\n",
      "loss: 274583993742000128.000000  [    8/   30]\n",
      "loss: 14440221558628679680.000000  [   16/   30]\n",
      "loss: 122471987145022346625024.000000  [   24/   30]\n",
      "Epoch 14\n",
      "-------------------------------\n",
      "loss: 46397163072159914104193024.000000  [    0/   30]\n",
      "loss: 64170365791192127289425920.000000  [    8/   30]\n",
      "loss: 3374683368888857253675794432.000000  [   16/   30]\n",
      "loss: 28621734649858293143604815724544.000000  [   24/   30]\n",
      "Epoch 14\n",
      "-------------------------------\n",
      "loss: 10843031386237935136602461038444544.000000  [    0/   30]\n",
      "loss: 14996622275409971591676098196275200.000000  [    8/   30]\n",
      "loss: 788664067242242066280918286587658240.000000  [   16/   30]\n",
      "loss:     inf  [   24/   30]\n",
      "Epoch 14\n",
      "-------------------------------\n",
      "loss:     inf  [    0/   30]\n",
      "loss:     inf  [    8/   30]\n",
      "loss:     inf  [   16/   30]\n",
      "loss:     inf  [   24/   30]\n",
      "Epoch 14\n",
      "-------------------------------\n",
      "loss:     inf  [    0/   30]\n",
      "loss:     inf  [    8/   30]\n",
      "loss:     inf  [   16/   30]\n",
      "loss:     inf  [   24/   30]\n",
      "Epoch 14\n",
      "-------------------------------\n",
      "loss:     inf  [    0/   30]\n",
      "loss:     inf  [    8/   30]\n",
      "loss:     inf  [   16/   30]\n",
      "loss:     inf  [   24/   30]\n",
      "Epoch 14\n",
      "-------------------------------\n",
      "loss:     inf  [    0/   30]\n",
      "loss:     inf  [    8/   30]\n",
      "loss:     inf  [   16/   30]\n",
      "loss:     inf  [   24/   30]\n",
      "Epoch 14\n",
      "-------------------------------\n",
      "loss:     nan  [    0/   30]\n",
      "loss:     nan  [    8/   30]\n",
      "loss:     nan  [   16/   30]\n",
      "loss:     nan  [   24/   30]\n",
      "Epoch 14\n",
      "-------------------------------\n",
      "loss:     nan  [    0/   30]\n",
      "loss:     nan  [    8/   30]\n",
      "loss:     nan  [   16/   30]\n",
      "loss:     nan  [   24/   30]\n",
      "Epoch 14\n",
      "-------------------------------\n",
      "loss:     nan  [    0/   30]\n",
      "loss:     nan  [    8/   30]\n",
      "loss:     nan  [   16/   30]\n",
      "loss:     nan  [   24/   30]\n",
      "Epoch 14\n",
      "-------------------------------\n",
      "loss:     nan  [    0/   30]\n",
      "loss:     nan  [    8/   30]\n",
      "loss:     nan  [   16/   30]\n",
      "loss:     nan  [   24/   30]\n",
      "Epoch 14\n",
      "-------------------------------\n",
      "loss:     nan  [    0/   30]\n",
      "loss:     nan  [    8/   30]\n",
      "loss:     nan  [   16/   30]\n",
      "loss:     nan  [   24/   30]\n",
      "Done!\n"
     ]
    }
   ],
   "source": [
    "import copy\n",
    "\n",
    "model = Model(num_inputs, num_outputs)\n",
    "Zs = np.empty((len(LRs), epochs, len(x), 1))\n",
    "epochs = 14\n",
    "\n",
    "for i, LR in enumerate(LRs):\n",
    "    # Se copia la red neuronal original y se manda a la GPU\n",
    "    model_copy = copy.deepcopy(model).to(device)\n",
    "\n",
    "    # Se define el optimizador\n",
    "    optimizer = torch.optim.SGD(model_copy.parameters(), lr=LR)\n",
    "\n",
    "    # Se entrena la red\n",
    "    model_copy.to(device)\n",
    "    entrenamiento(epochs, dataloader, model_copy, loss_fn, optimizer)\n",
    "\n",
    "    # Se mueve la red neuronal entrenada a la CPU\n",
    "    model_copy.to(\"cpu\")\n",
    "\n",
    "    # Se obtiene el logits de la red neuronal entrenada\n",
    "    logits = model_copy(x_tensor).detach().numpy()\n",
    "    Zs[i] = logits"
   ]
  },
  {
   "cell_type": "code",
   "execution_count": 95,
   "metadata": {},
   "outputs": [
    {
     "data": {
      "text/plain": [
       "((3, 14, 30, 1), (14, 30, 1))"
      ]
     },
     "execution_count": 95,
     "metadata": {},
     "output_type": "execute_result"
    }
   ],
   "source": [
    "Zs.shape, Zs[0].shape"
   ]
  },
  {
   "cell_type": "code",
   "execution_count": 74,
   "metadata": {},
   "outputs": [
    {
     "data": {
      "image/png": "[encoded data removed]",
      "text/plain": [
       "<Figure size 432x288 with 1 Axes>"
      ]
     },
     "metadata": {
      "needs_background": "light"
     },
     "output_type": "display_data"
    }
   ],
   "source": [
    "plt.scatter(x, y)\n",
    "plt.plot(x, Zs[0], 'k')\n",
    "plt.xlabel('X')\n",
    "plt.ylabel('Y  ', rotation=0)\n",
    "plt.show()"
   ]
  },
  {
   "cell_type": "code",
   "execution_count": 75,
   "metadata": {},
   "outputs": [
    {
     "data": {
      "image/png": "[encoded data removed]",
      "text/plain": [
       "<Figure size 432x288 with 1 Axes>"
      ]
     },
     "metadata": {
      "needs_background": "light"
     },
     "output_type": "display_data"
    }
   ],
   "source": [
    "plt.scatter(x, y)\n",
    "plt.plot(x, Zs[1], 'k')\n",
    "plt.xlabel('X')\n",
    "plt.ylabel('Y  ', rotation=0)\n",
    "plt.show()"
   ]
  },
  {
   "cell_type": "code",
   "execution_count": 76,
   "metadata": {},
   "outputs": [
    {
     "data": {
      "image/png": "[encoded data removed]",
      "text/plain": [
       "<Figure size 432x288 with 1 Axes>"
      ]
     },
     "metadata": {
      "needs_background": "light"
     },
     "output_type": "display_data"
    }
   ],
   "source": [
    "plt.scatter(x, y)\n",
    "plt.plot(x, Zs[2], 'k')\n",
    "plt.xlabel('X')\n",
    "plt.ylabel('Y  ', rotation=0)\n",
    "plt.show()"
   ]
  }
 ],
 "metadata": {
  "kernelspec": {
   "display_name": "Python 3.8.13 ('base')",
   "language": "python",
   "name": "python3"
  },
  "language_info": {
   "codemirror_mode": {
    "name": "ipython",
    "version": 3
   },
   "file_extension": ".py",
   "mimetype": "text/x-python",
   "name": "python",
   "nbconvert_exporter": "python",
   "pygments_lexer": "ipython3",
   "version": "3.8.13"
  },
  "orig_nbformat": 4,
  "vscode": {
   "interpreter": {
    "hash": "2da05e9852e3725e6cd29dd2f3d6ebaa07dda6697715ddc2b5ea77aa5959f695"
   }
  }
 },
 "nbformat": 4,
 "nbformat_minor": 2
}
