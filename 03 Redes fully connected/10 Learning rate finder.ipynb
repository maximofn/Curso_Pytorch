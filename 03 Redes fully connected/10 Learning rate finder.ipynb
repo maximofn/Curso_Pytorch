{
 "cells": [
  {
   "cell_type": "markdown",
   "metadata": {},
   "source": [
    "# Learning rate finder"
   ]
  },
  {
   "cell_type": "markdown",
   "metadata": {},
   "source": [
    "Como hemos visto el learning rate es uno de los hiperparámetros que podemos cambiar durante el entrenamiento de una red neuronal, y de hecho, es uno de los más importantes. Por tanto debemos encotrar un valor bueno, pero buscarlo dando palos de ciego parece que no es la mejor idea. Lo mejor sería tener un algoritmo que nos ayude en esta tarea, y por suerte lo hay y lo vamos a explicar"
   ]
  },
  {
   "cell_type": "markdown",
   "metadata": {},
   "source": [
    "Lo primero que se nos podría ocurrir es entrenar nuestro modelo con varios learning rates y quedarnos con el mejor resultado. Pero hay modeos muy grandes que tardan horas, días, incluso semanas en entrenarse, por lo que no parece la mejor idea"
   ]
  },
  {
   "cell_type": "markdown",
   "metadata": {},
   "source": [
    "Así que una aproximación que podemos hacer es entrenar una época entera e ir cambiando el learning rate en cada mini batch. Haciendo esto el número de learning rates diferentes que vamos a probar es igual a la cantidad de mini batches que tenga nuestro data loader. Pero ahora hay que decidir cómo distribuir estos valores.\n",
    "\n",
    "Supongamos que queremos probar valores de learning rate desde 10<sup>-8</sup> hasta 1, podemos distribuior los valores linealmente\n",
    "\n",
    "![distribución lineal](./Imagenes/Distribucion_lineal.png)\n",
    "\n",
    "Tenemos el problema que la mayoría de valores que se van a probar están por encima de 0,1, pero a lo mejor nuestro mejor valor de learning rate está por debajo de 0,1. Así que lo mejor es hacer una distribución logarítmica\n",
    "\n",
    "![distribución logarítmica](./Imagenes/Distribucion_logaritmica.png)\n",
    "\n",
    "Sabiéndo cómo hacer la distribución, ahora tenemos que calcular cómo cambiar el valor de learning rate en cada mini batch."
   ]
  },
  {
   "cell_type": "markdown",
   "metadata": {},
   "source": [
    "En cada mini batch, para cambiar el valor del learning rate podemos multiplicar por un número.\n",
    "\n",
    "$$lr_i = q·lr_{i-1} = q^2·lr_{i-2} = ... = q^i·lr_0$$\n",
    "\n",
    "Por tanto\n",
    "\n",
    "$$lr_{N-1} = q^{N-1}·lr_0$$\n",
    "\n",
    "Así que \n",
    "\n",
    "$$q^{N-1} = \\frac{lr_{N-1}}{lr_0}$$\n",
    "\n",
    "Así que se puede calcular $q$ como\n",
    "\n",
    "$$q = \\left(\\frac{lr_{N-1}}{lr_0}\\right)^{\\frac{1}{N-1}}$$"
   ]
  },
  {
   "cell_type": "markdown",
   "metadata": {},
   "source": [
    "Por último, no es necesario entrenar durante toda la epoch. Si el learning se dispara podemos para antes. Así que lo que vamos a hacer es que si el error durante el entrenamiento es mayor que 4 veces el menor error medido, podemos parar el entrenamiento."
   ]
  },
  {
   "cell_type": "markdown",
   "metadata": {},
   "source": [
    "Vamos a hacer esto en código. Vamos a verlo con el ejemplo que vimos de clasificación binaria con el dataset Cancer."
   ]
  },
  {
   "cell_type": "markdown",
   "metadata": {},
   "source": [
    "Descargamos los datos y creamos los dataframes"
   ]
  },
  {
   "cell_type": "code",
   "execution_count": 1,
   "metadata": {},
   "outputs": [],
   "source": [
    "from sklearn import datasets\n",
    "cancer = datasets.load_breast_cancer()"
   ]
  },
  {
   "cell_type": "code",
   "execution_count": 2,
   "metadata": {},
   "outputs": [
    {
     "data": {
      "text/html": [
       "<div>\n",
       "<style scoped>\n",
       "    .dataframe tbody tr th:only-of-type {\n",
       "        vertical-align: middle;\n",
       "    }\n",
       "\n",
       "    .dataframe tbody tr th {\n",
       "        vertical-align: top;\n",
       "    }\n",
       "\n",
       "    .dataframe thead th {\n",
       "        text-align: right;\n",
       "    }\n",
       "</style>\n",
       "<table border=\"1\" class=\"dataframe\">\n",
       "  <thead>\n",
       "    <tr style=\"text-align: right;\">\n",
       "      <th></th>\n",
       "      <th>mean radius</th>\n",
       "      <th>mean texture</th>\n",
       "      <th>mean perimeter</th>\n",
       "      <th>mean area</th>\n",
       "      <th>mean smoothness</th>\n",
       "      <th>mean compactness</th>\n",
       "      <th>mean concavity</th>\n",
       "      <th>mean concave points</th>\n",
       "      <th>mean symmetry</th>\n",
       "      <th>mean fractal dimension</th>\n",
       "      <th>...</th>\n",
       "      <th>worst texture</th>\n",
       "      <th>worst perimeter</th>\n",
       "      <th>worst area</th>\n",
       "      <th>worst smoothness</th>\n",
       "      <th>worst compactness</th>\n",
       "      <th>worst concavity</th>\n",
       "      <th>worst concave points</th>\n",
       "      <th>worst symmetry</th>\n",
       "      <th>worst fractal dimension</th>\n",
       "      <th>type</th>\n",
       "    </tr>\n",
       "  </thead>\n",
       "  <tbody>\n",
       "    <tr>\n",
       "      <th>0</th>\n",
       "      <td>17.99</td>\n",
       "      <td>10.38</td>\n",
       "      <td>122.80</td>\n",
       "      <td>1001.0</td>\n",
       "      <td>0.11840</td>\n",
       "      <td>0.27760</td>\n",
       "      <td>0.3001</td>\n",
       "      <td>0.14710</td>\n",
       "      <td>0.2419</td>\n",
       "      <td>0.07871</td>\n",
       "      <td>...</td>\n",
       "      <td>17.33</td>\n",
       "      <td>184.60</td>\n",
       "      <td>2019.0</td>\n",
       "      <td>0.1622</td>\n",
       "      <td>0.6656</td>\n",
       "      <td>0.7119</td>\n",
       "      <td>0.2654</td>\n",
       "      <td>0.4601</td>\n",
       "      <td>0.11890</td>\n",
       "      <td>0</td>\n",
       "    </tr>\n",
       "    <tr>\n",
       "      <th>1</th>\n",
       "      <td>20.57</td>\n",
       "      <td>17.77</td>\n",
       "      <td>132.90</td>\n",
       "      <td>1326.0</td>\n",
       "      <td>0.08474</td>\n",
       "      <td>0.07864</td>\n",
       "      <td>0.0869</td>\n",
       "      <td>0.07017</td>\n",
       "      <td>0.1812</td>\n",
       "      <td>0.05667</td>\n",
       "      <td>...</td>\n",
       "      <td>23.41</td>\n",
       "      <td>158.80</td>\n",
       "      <td>1956.0</td>\n",
       "      <td>0.1238</td>\n",
       "      <td>0.1866</td>\n",
       "      <td>0.2416</td>\n",
       "      <td>0.1860</td>\n",
       "      <td>0.2750</td>\n",
       "      <td>0.08902</td>\n",
       "      <td>0</td>\n",
       "    </tr>\n",
       "    <tr>\n",
       "      <th>2</th>\n",
       "      <td>19.69</td>\n",
       "      <td>21.25</td>\n",
       "      <td>130.00</td>\n",
       "      <td>1203.0</td>\n",
       "      <td>0.10960</td>\n",
       "      <td>0.15990</td>\n",
       "      <td>0.1974</td>\n",
       "      <td>0.12790</td>\n",
       "      <td>0.2069</td>\n",
       "      <td>0.05999</td>\n",
       "      <td>...</td>\n",
       "      <td>25.53</td>\n",
       "      <td>152.50</td>\n",
       "      <td>1709.0</td>\n",
       "      <td>0.1444</td>\n",
       "      <td>0.4245</td>\n",
       "      <td>0.4504</td>\n",
       "      <td>0.2430</td>\n",
       "      <td>0.3613</td>\n",
       "      <td>0.08758</td>\n",
       "      <td>0</td>\n",
       "    </tr>\n",
       "    <tr>\n",
       "      <th>3</th>\n",
       "      <td>11.42</td>\n",
       "      <td>20.38</td>\n",
       "      <td>77.58</td>\n",
       "      <td>386.1</td>\n",
       "      <td>0.14250</td>\n",
       "      <td>0.28390</td>\n",
       "      <td>0.2414</td>\n",
       "      <td>0.10520</td>\n",
       "      <td>0.2597</td>\n",
       "      <td>0.09744</td>\n",
       "      <td>...</td>\n",
       "      <td>26.50</td>\n",
       "      <td>98.87</td>\n",
       "      <td>567.7</td>\n",
       "      <td>0.2098</td>\n",
       "      <td>0.8663</td>\n",
       "      <td>0.6869</td>\n",
       "      <td>0.2575</td>\n",
       "      <td>0.6638</td>\n",
       "      <td>0.17300</td>\n",
       "      <td>0</td>\n",
       "    </tr>\n",
       "    <tr>\n",
       "      <th>4</th>\n",
       "      <td>20.29</td>\n",
       "      <td>14.34</td>\n",
       "      <td>135.10</td>\n",
       "      <td>1297.0</td>\n",
       "      <td>0.10030</td>\n",
       "      <td>0.13280</td>\n",
       "      <td>0.1980</td>\n",
       "      <td>0.10430</td>\n",
       "      <td>0.1809</td>\n",
       "      <td>0.05883</td>\n",
       "      <td>...</td>\n",
       "      <td>16.67</td>\n",
       "      <td>152.20</td>\n",
       "      <td>1575.0</td>\n",
       "      <td>0.1374</td>\n",
       "      <td>0.2050</td>\n",
       "      <td>0.4000</td>\n",
       "      <td>0.1625</td>\n",
       "      <td>0.2364</td>\n",
       "      <td>0.07678</td>\n",
       "      <td>0</td>\n",
       "    </tr>\n",
       "  </tbody>\n",
       "</table>\n",
       "<p>5 rows × 31 columns</p>\n",
       "</div>"
      ],
      "text/plain": [
       "   mean radius  mean texture  mean perimeter  mean area  mean smoothness  \\\n",
       "0        17.99         10.38          122.80     1001.0          0.11840   \n",
       "1        20.57         17.77          132.90     1326.0          0.08474   \n",
       "2        19.69         21.25          130.00     1203.0          0.10960   \n",
       "3        11.42         20.38           77.58      386.1          0.14250   \n",
       "4        20.29         14.34          135.10     1297.0          0.10030   \n",
       "\n",
       "   mean compactness  mean concavity  mean concave points  mean symmetry  \\\n",
       "0           0.27760          0.3001              0.14710         0.2419   \n",
       "1           0.07864          0.0869              0.07017         0.1812   \n",
       "2           0.15990          0.1974              0.12790         0.2069   \n",
       "3           0.28390          0.2414              0.10520         0.2597   \n",
       "4           0.13280          0.1980              0.10430         0.1809   \n",
       "\n",
       "   mean fractal dimension  ...  worst texture  worst perimeter  worst area  \\\n",
       "0                 0.07871  ...          17.33           184.60      2019.0   \n",
       "1                 0.05667  ...          23.41           158.80      1956.0   \n",
       "2                 0.05999  ...          25.53           152.50      1709.0   \n",
       "3                 0.09744  ...          26.50            98.87       567.7   \n",
       "4                 0.05883  ...          16.67           152.20      1575.0   \n",
       "\n",
       "   worst smoothness  worst compactness  worst concavity  worst concave points  \\\n",
       "0            0.1622             0.6656           0.7119                0.2654   \n",
       "1            0.1238             0.1866           0.2416                0.1860   \n",
       "2            0.1444             0.4245           0.4504                0.2430   \n",
       "3            0.2098             0.8663           0.6869                0.2575   \n",
       "4            0.1374             0.2050           0.4000                0.1625   \n",
       "\n",
       "   worst symmetry  worst fractal dimension  type  \n",
       "0          0.4601                  0.11890     0  \n",
       "1          0.2750                  0.08902     0  \n",
       "2          0.3613                  0.08758     0  \n",
       "3          0.6638                  0.17300     0  \n",
       "4          0.2364                  0.07678     0  \n",
       "\n",
       "[5 rows x 31 columns]"
      ]
     },
     "execution_count": 2,
     "metadata": {},
     "output_type": "execute_result"
    }
   ],
   "source": [
    "import pandas as pd\n",
    "\n",
    "cancer_df = pd.DataFrame(cancer['data'], columns=cancer['feature_names'])\n",
    "cancer_df['type'] = cancer['target']\n",
    "cancer_df.head()"
   ]
  },
  {
   "cell_type": "markdown",
   "metadata": {},
   "source": [
    "Creamos el dataset y el dataloader"
   ]
  },
  {
   "cell_type": "code",
   "execution_count": 3,
   "metadata": {},
   "outputs": [],
   "source": [
    "import torch\n",
    "\n",
    "class CancerDataset(torch.utils.data.Dataset):\n",
    "    def __init__(self, dataframe):\n",
    "        cols = [col for col in dataframe.columns if col != 'target']\n",
    "        self.parameters = torch.from_numpy(dataframe[cols].values).type(torch.float32)\n",
    "        self.targets = torch.from_numpy(dataframe['type'].values).type(torch.float32)\n",
    "        self.targets = self.targets.reshape((len(self.targets), 1))\n",
    "\n",
    "    def __len__(self):\n",
    "        return len(self.parameters)\n",
    "\n",
    "    def __getitem__(self, idx):\n",
    "        parameters = self.parameters[idx]\n",
    "        target = self.targets[idx]\n",
    "        return parameters, target\n",
    "\n",
    "ds = CancerDataset(cancer_df)"
   ]
  },
  {
   "cell_type": "code",
   "execution_count": 4,
   "metadata": {},
   "outputs": [],
   "source": [
    "train_ds, valid_ds = torch.utils.data.random_split(ds, [int(0.8*len(ds)), len(ds) - int(0.8*len(ds))], generator=torch.Generator().manual_seed(42))"
   ]
  },
  {
   "cell_type": "code",
   "execution_count": 5,
   "metadata": {},
   "outputs": [],
   "source": [
    "from torch.utils.data import DataLoader\n",
    "\n",
    "BS_train = 4 # Elegimos un batch size de 4 para tener varios valores de lr para probar\n",
    "BS_val = 128\n",
    "\n",
    "train_dl = DataLoader(train_ds, batch_size=BS_train, shuffle=True)\n",
    "val_dl = DataLoader(valid_ds, batch_size=BS_val, shuffle=False)"
   ]
  },
  {
   "cell_type": "markdown",
   "metadata": {},
   "source": [
    "Creamos la red neuronal"
   ]
  },
  {
   "cell_type": "code",
   "execution_count": 6,
   "metadata": {},
   "outputs": [],
   "source": [
    "from torch import nn\n",
    "\n",
    "class CancerNeuralNetwork(nn.Module):\n",
    "    def __init__(self, num_inputs, num_outputs, hidden_layers=[100, 50, 20]):\n",
    "        super().__init__()\n",
    "        self.network = torch.nn.Sequential(\n",
    "            torch.nn.Linear(num_inputs, hidden_layers[0]),\n",
    "            torch.nn.ReLU(),\n",
    "            torch.nn.Linear(hidden_layers[0], hidden_layers[1]),\n",
    "            torch.nn.ReLU(),\n",
    "            torch.nn.Linear(hidden_layers[1], hidden_layers[2]),\n",
    "            torch.nn.ReLU(),\n",
    "            torch.nn.Linear(hidden_layers[2], num_outputs),\n",
    "        )\n",
    "        self.activation = torch.nn.Sigmoid()\n",
    "\n",
    "    def forward(self, x):\n",
    "        logits = self.network(x)\n",
    "        probs = self.activation(logits)\n",
    "        return logits, probs"
   ]
  },
  {
   "cell_type": "markdown",
   "metadata": {},
   "source": [
    "Se define el dispositivo"
   ]
  },
  {
   "cell_type": "code",
   "execution_count": 7,
   "metadata": {},
   "outputs": [
    {
     "name": "stdout",
     "output_type": "stream",
     "text": [
      "Using cuda device\n"
     ]
    }
   ],
   "source": [
    "# Get cpu or gpu device for training.\n",
    "device = \"cuda\" if torch.cuda.is_available() else \"cpu\"\n",
    "print(\"Using {} device\".format(device))"
   ]
  },
  {
   "cell_type": "markdown",
   "metadata": {},
   "source": [
    "Definimos la función de pérdida"
   ]
  },
  {
   "cell_type": "code",
   "execution_count": 8,
   "metadata": {},
   "outputs": [],
   "source": [
    "loss_fn = nn.BCEWithLogitsLoss()"
   ]
  },
  {
   "cell_type": "markdown",
   "metadata": {},
   "source": [
    "Hacemos la función de búsqueda del learning rate"
   ]
  },
  {
   "cell_type": "code",
   "execution_count": 9,
   "metadata": {},
   "outputs": [],
   "source": [
    "def lr_finder(model, train_dl, loss_fn, lr_init=1e-8, lr_end=10, increment=4):\n",
    "    num = len(train_dl)-1 # Numero de lrs que vamos a probar\n",
    "    q = (lr_end/lr_init)**(1/num) # Incremento de lr\n",
    "    lr = lr_init\n",
    "    optimizer = torch.optim.SGD(model.parameters(), lr=lr)\n",
    "    loss = 0\n",
    "    best_loss = 0\n",
    "    losses = []\n",
    "    lrs = []\n",
    "    for batch, (X, y) in enumerate(train_dl):\n",
    "        # X and y to device\n",
    "        X, y = X.to(device), y.to(device)\n",
    "\n",
    "        # Compute prediction and loss\n",
    "        logits, probs = model(X)\n",
    "        loss = loss_fn(logits, y)\n",
    "        if increment is not None:\n",
    "            # Se para si el loss se dispara\n",
    "            window = 10\n",
    "            if batch > window and losses[-window] > increment * best_loss:\n",
    "                return lrs, losses\n",
    "        \n",
    "        # Se guarda la menor pérdida\n",
    "        if loss < best_loss or batch==0:\n",
    "            best_loss = loss\n",
    "        \n",
    "        # Se guardan los datos\n",
    "        losses.append(loss.to(\"cpu\").item())\n",
    "        lrs.append(lr)\n",
    "\n",
    "        # Backpropagation\n",
    "        optimizer.zero_grad()\n",
    "        loss.backward()\n",
    "        optimizer.step()\n",
    "\n",
    "        # Update lr\n",
    "        lr *= q\n",
    "\n",
    "    return lrs, losses"
   ]
  },
  {
   "cell_type": "code",
   "execution_count": 10,
   "metadata": {},
   "outputs": [
    {
     "data": {
      "image/png": "[encoded data removed]",
      "text/plain": [
       "<Figure size 432x288 with 1 Axes>"
      ]
     },
     "metadata": {
      "needs_background": "light"
     },
     "output_type": "display_data"
    }
   ],
   "source": [
    "import matplotlib.pyplot as plt\n",
    "\n",
    "# Se define una semilla para que la inicialización de los pesos aleatoria sea siempre la misma\n",
    "seed = 27\n",
    "torch.manual_seed(seed)\n",
    "torch.cuda.manual_seed(seed)\n",
    "torch.cuda.manual_seed_all(seed)\n",
    "\n",
    "model = CancerNeuralNetwork(num_inputs=31, num_outputs=1)\n",
    "model.to(device)\n",
    "loss_fn = nn.BCEWithLogitsLoss()\n",
    "\n",
    "[lrss, losses] = lr_finder(model, train_dl, loss_fn, increment=None)\n",
    "\n",
    "plt.plot(lrss, losses)\n",
    "plt.xlabel(\"lr\")\n",
    "plt.ylabel(\"loss\")\n",
    "plt.xscale(\"log\")\n",
    "plt.show()"
   ]
  },
  {
   "cell_type": "markdown",
   "metadata": {},
   "source": [
    "Como se puede ver se tiene mucho ruido, por lo que vamos a hacer un filtro de los medios para suavizar esta curva"
   ]
  },
  {
   "cell_type": "markdown",
   "metadata": {},
   "source": [
    "Un filtro sencillo sería coger varios valores de pérdidas y calcular el promedio, pero esto podría ser muy pesado computacionalmente, sobre todo con redes muy grandes.\n",
    "\n",
    "Por lo que otra manera de hacer una media es mediante los [promedios ponderados exponencialmente](https://medium.com/@dhartidhami/exponentially-weighted-averages-5de212b5be46). No es el objetivo de este curso explicar este tipo de medias, por lo que para hacer un resumen diremos que podemos calcular el promedio de la pérdida mediante la medida actual de pérdida y la anterior\n",
    "\n",
    "$$\\overline{loss_i} = \\left(1-\\beta\\right)loss_i + \\beta\\overline{loss_{i-1}}$$\n",
    "\n",
    "Si desarrollamos esta ecuación\n",
    "\n",
    "$$\\overline{loss_i} = \\left(1-\\beta\\right)loss_i + \\beta\\left(1-\\beta\\right)loss_{i-1} + \\beta^2\\overline{loss_{i-2}} = $$\n",
    "$$ = \\left(1-\\beta\\right)loss_i + \\beta\\left(1-\\beta\\right)loss_{i-1} + ... + \\beta^{i-1}\\left(1-\\beta\\right)loss_{1} + \\beta^{i}\\left(1-\\beta\\right)loss_{0} = $$\n",
    "$$ = \\left(1-\\beta\\right)\\left[loss_i + \\beta loss_{i-1} + ... + \\beta^{i-1}loss_{1} + \\beta^{i}loss_{0}\\right] = $$\n",
    "$$ = \\left(1-\\beta\\right)\\sum_{j=0}^{i} \\beta^{i-j}loss_{0} = $$\n",
    "\n",
    "Además se puede demostrar que mediante este método, el número de muestras con el que se hace la media es equivalente a\n",
    "\n",
    "$$num \\approx \\frac{1}{1-\\beta}$$\n",
    "\n",
    "Por tanto si elegimos una $\\beta$ de 0.9, el número de muestras con el que se hace la media es equivalente a 10"
   ]
  },
  {
   "cell_type": "code",
   "execution_count": 11,
   "metadata": {},
   "outputs": [],
   "source": [
    "def lr_finder(model, train_dl, loss_fn, lr_init=1e-8, lr_end=10, increment=4, beta=0.98):\n",
    "    num = len(train_dl)-1 # Numero de lrs que vamos a probar\n",
    "    q = (lr_end/lr_init)**(1/num) # Incremento de lr\n",
    "    lr = lr_init\n",
    "    optimizer = torch.optim.SGD(model.parameters(), lr=lr)\n",
    "    loss = 0\n",
    "    best_loss = 0.\n",
    "    avg_loss = 0.\n",
    "    losses = []\n",
    "    avg_losses = []\n",
    "    lrs = []\n",
    "    for batch, (X, y) in enumerate(train_dl):\n",
    "        # X and y to device\n",
    "        X, y = X.to(device), y.to(device)\n",
    "\n",
    "        # Compute prediction and loss\n",
    "        logits, probs = model(X)\n",
    "        loss = loss_fn(logits, y)\n",
    "        avg_loss = beta * avg_loss + (1-beta) * loss.to(\"cpu\").item()\n",
    "        if increment is not None:\n",
    "            # Se para si el loss se dispara\n",
    "            window = 10\n",
    "            if batch > window and avg_losses[-window] > increment * best_loss:\n",
    "                return lrs, losses, avg_losses\n",
    "        \n",
    "        # Se guarda la menor pérdida\n",
    "        if avg_loss < best_loss or batch==0:\n",
    "            best_loss = avg_loss\n",
    "        \n",
    "        # Se guardan los datos\n",
    "        losses.append(loss.to(\"cpu\").item())\n",
    "        avg_losses.append(avg_loss)\n",
    "        lrs.append(lr)\n",
    "\n",
    "        # Backpropagation\n",
    "        optimizer.zero_grad()\n",
    "        loss.backward()\n",
    "        optimizer.step()\n",
    "\n",
    "        # Update lr\n",
    "        lr *= q\n",
    "\n",
    "    return lrs, losses, avg_losses"
   ]
  },
  {
   "cell_type": "code",
   "execution_count": 12,
   "metadata": {},
   "outputs": [
    {
     "data": {
      "image/png": "[encoded data removed]",
      "text/plain": [
       "<Figure size 432x288 with 1 Axes>"
      ]
     },
     "metadata": {
      "needs_background": "light"
     },
     "output_type": "display_data"
    }
   ],
   "source": [
    "torch.manual_seed(seed)\n",
    "torch.cuda.manual_seed(seed)\n",
    "torch.cuda.manual_seed_all(seed)\n",
    "\n",
    "model = CancerNeuralNetwork(num_inputs=31, num_outputs=1)\n",
    "model.to(device)\n",
    "loss_fn = nn.BCEWithLogitsLoss()\n",
    "\n",
    "[lrss, losses, avg_losses] = lr_finder(model, train_dl, loss_fn, increment=None)\n",
    "\n",
    "# Plot the losses and avg_losses over the lrs in log scale\n",
    "plt.plot(lrss, losses)\n",
    "plt.plot(lrss, avg_losses)\n",
    "plt.legend([\"loss\", \"avg_loss\"])\n",
    "plt.xlabel(\"lr\")\n",
    "plt.ylabel(\"loss\")\n",
    "plt.xscale(\"log\")\n",
    "plt.show()"
   ]
  },
  {
   "cell_type": "markdown",
   "metadata": {},
   "source": [
    "Como se puede ver, la media ahora es mucho más suave y más interpretable. Pero tiene el problema de que en los primeros valores vale 0 y va subiendo hasta que se alcanzan suficientes muestras para que la media sea efectiva.\n",
    "\n",
    "Así que una manera de solucionar esto es hacer\n",
    "\n",
    "$$\\overline{loss_i, suavizado} = \\frac{\\overline{loss_i}}{1-\\beta^{i+1}}$$"
   ]
  },
  {
   "cell_type": "code",
   "execution_count": 13,
   "metadata": {},
   "outputs": [],
   "source": [
    "def lr_finder(model, train_dl, loss_fn, lr_init=1e-8, lr_end=10, increment=4, beta=0.98):\n",
    "    num = len(train_dl)-1 # Numero de lrs que vamos a probar\n",
    "    q = (lr_end/lr_init)**(1/num) # Incremento de lr\n",
    "    lr = lr_init\n",
    "    optimizer = torch.optim.SGD(model.parameters(), lr=lr)\n",
    "    loss = 0\n",
    "    best_loss = 0.\n",
    "    avg_loss = 0.\n",
    "    losses = []\n",
    "    avg_losses = []\n",
    "    smoothed_avg_losses = []\n",
    "    lrs = []\n",
    "    for batch, (X, y) in enumerate(train_dl):\n",
    "        # X and y to device\n",
    "        X, y = X.to(device), y.to(device)\n",
    "\n",
    "        # Compute prediction and loss\n",
    "        logits, probs = model(X)\n",
    "        loss = loss_fn(logits, y)\n",
    "        avg_loss = beta * avg_loss + (1-beta) * loss.to(\"cpu\").item()\n",
    "        smoothed_loss = avg_loss / (1 - beta**(batch+1))\n",
    "        if increment is not None:\n",
    "            # Se para si el loss se dispara\n",
    "            window = 10\n",
    "            if batch > window and smoothed_avg_losses[-window] > increment * best_loss:\n",
    "                return lrs, losses, avg_losses, smoothed_avg_losses\n",
    "        \n",
    "        # Se guarda la menor pérdida\n",
    "        if avg_loss < best_loss or batch==0:\n",
    "            best_loss = smoothed_loss\n",
    "        \n",
    "        # Se guardan los datos\n",
    "        losses.append(loss.to(\"cpu\").item())\n",
    "        avg_losses.append(avg_loss)\n",
    "        smoothed_avg_losses.append(smoothed_loss)\n",
    "        lrs.append(lr)\n",
    "\n",
    "        # Backpropagation\n",
    "        optimizer.zero_grad()\n",
    "        loss.backward()\n",
    "        optimizer.step()\n",
    "\n",
    "        # Update lr\n",
    "        lr *= q\n",
    "\n",
    "    return lrs, losses, avg_losses, smoothed_avg_losses"
   ]
  },
  {
   "cell_type": "code",
   "execution_count": 14,
   "metadata": {},
   "outputs": [
    {
     "data": {
      "image/png": "[encoded data removed]",
      "text/plain": [
       "<Figure size 432x288 with 1 Axes>"
      ]
     },
     "metadata": {
      "needs_background": "light"
     },
     "output_type": "display_data"
    }
   ],
   "source": [
    "torch.manual_seed(seed)\n",
    "torch.cuda.manual_seed(seed)\n",
    "torch.cuda.manual_seed_all(seed)\n",
    "\n",
    "model = CancerNeuralNetwork(num_inputs=31, num_outputs=1)\n",
    "model.to(device)\n",
    "loss_fn = nn.BCEWithLogitsLoss()\n",
    "\n",
    "[lrss, losses, avg_losses, smoothed_avg_losses] = lr_finder(model, train_dl, loss_fn, increment=None)\n",
    "\n",
    "plt.plot(lrss, losses)\n",
    "plt.plot(lrss, avg_losses)\n",
    "plt.plot(lrss, smoothed_avg_losses)\n",
    "plt.legend([\"loss\", \"avg_loss\", \"smoothed_avg_loss\"])\n",
    "plt.xlabel(\"lr\")\n",
    "plt.ylabel(\"loss\")\n",
    "plt.xscale(\"log\")\n",
    "plt.show()"
   ]
  },
  {
   "cell_type": "markdown",
   "metadata": {},
   "source": [
    "Ahora la curva en los primeros valores se parece más a una media de la pérdida en crudo"
   ]
  },
  {
   "cell_type": "markdown",
   "metadata": {},
   "source": [
    "Así que corregimos la función de búsqueda del learning rate quedándonos solo con la media suavizada"
   ]
  },
  {
   "cell_type": "code",
   "execution_count": 15,
   "metadata": {},
   "outputs": [],
   "source": [
    "def lr_finder(model, train_dl, loss_fn, lr_init=1e-8, lr_end=10, increment=4, beta=0.98):\n",
    "    num = len(train_dl)-1 # Numero de lrs que vamos a probar\n",
    "    q = (lr_end/lr_init)**(1/num) # Incremento de lr\n",
    "    lr = lr_init\n",
    "    optimizer = torch.optim.SGD(model.parameters(), lr=lr)\n",
    "    loss = 0\n",
    "    best_loss = 0.\n",
    "    avg_loss = 0.\n",
    "    smoothed_avg_losses = []\n",
    "    lrs = []\n",
    "    for batch, (X, y) in enumerate(train_dl):\n",
    "        # X and y to device\n",
    "        X, y = X.to(device), y.to(device)\n",
    "\n",
    "        # Compute prediction and loss\n",
    "        logits, probs = model(X)\n",
    "        loss = loss_fn(logits, y)\n",
    "        avg_loss = beta * avg_loss + (1-beta) * loss.to(\"cpu\").item()\n",
    "        smoothed_loss = avg_loss / (1 - beta**(batch+1))\n",
    "        if increment is not None:\n",
    "            # Se para si el loss se dispara\n",
    "            window = 10\n",
    "            if batch > window and smoothed_avg_losses[-window] > increment * best_loss:\n",
    "                return lrs, smoothed_avg_losses\n",
    "        \n",
    "        # Se guarda la menor pérdida\n",
    "        if avg_loss < best_loss or batch==0:\n",
    "            best_loss = smoothed_loss\n",
    "        \n",
    "        # Se guardan los datos\n",
    "        losses.append(loss.to(\"cpu\").item())\n",
    "        avg_losses.append(avg_loss)\n",
    "        smoothed_avg_losses.append(smoothed_loss)\n",
    "        lrs.append(lr)\n",
    "\n",
    "        # Backpropagation\n",
    "        optimizer.zero_grad()\n",
    "        loss.backward()\n",
    "        optimizer.step()\n",
    "\n",
    "        # Update lr\n",
    "        lr *= q\n",
    "\n",
    "    return lrs, smoothed_avg_losses"
   ]
  },
  {
   "cell_type": "code",
   "execution_count": 16,
   "metadata": {},
   "outputs": [
    {
     "data": {
      "image/png": "[encoded data removed]",
      "text/plain": [
       "<Figure size 432x288 with 1 Axes>"
      ]
     },
     "metadata": {
      "needs_background": "light"
     },
     "output_type": "display_data"
    }
   ],
   "source": [
    "torch.manual_seed(seed)\n",
    "torch.cuda.manual_seed(seed)\n",
    "torch.cuda.manual_seed_all(seed)\n",
    "\n",
    "model = CancerNeuralNetwork(num_inputs=31, num_outputs=1)\n",
    "model.to(device)\n",
    "loss_fn = nn.BCEWithLogitsLoss()\n",
    "\n",
    "[lrss, smoothed_avg_losses] = lr_finder(model, train_dl, loss_fn)\n",
    "\n",
    "plt.plot(lrss, smoothed_avg_losses)\n",
    "plt.xlabel(\"lr\")\n",
    "plt.ylabel(\"loss\")\n",
    "plt.xscale(\"log\")\n",
    "plt.grid()\n",
    "plt.show()"
   ]
  },
  {
   "cell_type": "markdown",
   "metadata": {},
   "source": [
    "Ahora ya solo falta elegír  el mejor learning rate para entrenar nuestra red. Podríamos pensar en coger un valor en torno a 10<sup>-3</sup>, que es donde se encuentra el mínimo de pérdida. Pero ese no es un buen punto por dos motivos:\n",
    " * Estamos muy cerca de donde el modelo empieza a comportarse peor y este método es una aproximación para encontrar el mejor learning rate. No podemos tomar el resultado como absoluto, ya que para evitar tener que entrenar el modelo con distintos leanring rates, lo que hemos hecho ha sido solo entrenar una época con distintos learning rates.\n",
    " * Por otro lado estamos representando una media suavizada, por lo que en el mínimo está influenciado por los valores anteriores, por lo que es posible que si elegimos un learning rate en el mínimo de la gráfica ya sea un learning rate malo\n",
    "\n",
    "Por tanto una buena solución es tomarlo una década antes, por ejemplo coger 10<sup>-2</sup>"
   ]
  }
 ],
 "metadata": {
  "kernelspec": {
   "display_name": "Python 3.9.7 ('base')",
   "language": "python",
   "name": "python3"
  },
  "language_info": {
   "codemirror_mode": {
    "name": "ipython",
    "version": 3
   },
   "file_extension": ".py",
   "mimetype": "text/x-python",
   "name": "python",
   "nbconvert_exporter": "python",
   "pygments_lexer": "ipython3",
   "version": "3.9.7"
  },
  "orig_nbformat": 4,
  "vscode": {
   "interpreter": {
    "hash": "8e4d58f53b4b3ced286559ef92073773937aa87eedd0536c036fd264999b02c5"
   }
  }
 },
 "nbformat": 4,
 "nbformat_minor": 2
}
