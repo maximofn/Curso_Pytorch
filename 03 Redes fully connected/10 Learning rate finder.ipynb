{
 "cells": [
  {
   "cell_type": "markdown",
   "metadata": {},
   "source": [
    "# Learning rate finder"
   ]
  },
  {
   "cell_type": "markdown",
   "metadata": {},
   "source": [
    "Como hemos visto el learning rate es uno de los hiperparámetros que podemos cambiar durante el entrenamiento de una red neuronal, y de hecho, es uno de los más importantes. Por tanto debemos encotrar un valor bueno, pero buscarlo dando palos de ciego parece que no es la mejor idea. Lo mejor sería tener un algoritmo que nos ayude en esta tarea, y por suerte lo hay y lo vamos a explicar"
   ]
  },
  {
   "cell_type": "markdown",
   "metadata": {},
   "source": [
    "Lo primero que se nos podría ocurrir es entrenar nuestro modelo con varios learning rates y quedarnos con el mejor resultado. Pero hay modeos muy grandes que tardan horas, días, incluso semanas en entrenarse, por lo que no parece la mejor idea"
   ]
  },
  {
   "cell_type": "markdown",
   "metadata": {},
   "source": [
    "Así que una aproximación que podemos hacer es entrenar una época entera e ir cambiando el learning rate en cada mini batch. Haciendo esto el número de learning rates diferentes que vamos a probar es igual a la cantidad de mini batches que tenga nuestro data loader. Pero ahora hay que decidir cómo distribuir estos valores.\n",
    "\n",
    "Supongamos que queremos probar valores de learning rate desde 10<sup>-8</sup> hasta 1, podemos distribuior los valores linealmente\n",
    "\n",
    "![distribución lineal](./Imagenes/Distribucion_lineal.png)\n",
    "\n",
    "Tenemos el problema que la mayoría de valores que se van a probar están por encima de 0,1, pero a lo mejor nuestro mejor valor de learning rate está por debajo de 0,1. Así que lo mejor es hacer una distribución logarítmica\n",
    "\n",
    "![distribución logarítmica](./Imagenes/Distribucion_logaritmica.png)\n",
    "\n",
    "Sabiéndo cómo hacer la distribución, ahora tenemos que calcular cómo cambiar el valor de learning rate en cada mini batch."
   ]
  },
  {
   "cell_type": "markdown",
   "metadata": {},
   "source": [
    "En cada mini batch, para cambiar el valor del learning rate podemos multiplicar por un número.\n",
    "\n",
    "$$lr_i = q·lr_{i-1} = q^2·lr_{i-2} = ... = q^i·lr_0$$\n",
    "\n",
    "Por tanto\n",
    "\n",
    "$$lr_{N-1} = q^{N-1}·lr_0$$\n",
    "\n",
    "Así que \n",
    "\n",
    "$$q^{N-1} = \\frac{lr_{N-1}}{lr_0}$$\n",
    "\n",
    "Así que se puede calcular $q$ como\n",
    "\n",
    "$$q = \\left(\\frac{lr_{N-1}}{lr_0}\\right)^{\\frac{1}{N-1}}$$"
   ]
  },
  {
   "cell_type": "markdown",
   "metadata": {},
   "source": [
    "Por último, no es necesario entrenar durante toda la epoch. Si el learning se dispara podemos para antes. Así que lo que vamos a hacer es que si el error durante el entrenamiento es mayor que 4 veces el menor error medido, podemos parar el entrenamiento."
   ]
  },
  {
   "cell_type": "markdown",
   "metadata": {},
   "source": [
    "Vamos a hacer esto en código. Vamos a verlo con el ejemplo que vimos de clasificación binaria con el dataset Cancer."
   ]
  },
  {
   "cell_type": "markdown",
   "metadata": {},
   "source": [
    "Descargamos los datos y creamos los dataframes"
   ]
  },
  {
   "cell_type": "code",
   "execution_count": 231,
   "metadata": {},
   "outputs": [],
   "source": [
    "from sklearn import datasets\n",
    "cancer = datasets.load_breast_cancer()"
   ]
  },
  {
   "cell_type": "code",
   "execution_count": 232,
   "metadata": {},
   "outputs": [
    {
     "data": {
      "text/html": [
       "<div>\n",
       "<style scoped>\n",
       "    .dataframe tbody tr th:only-of-type {\n",
       "        vertical-align: middle;\n",
       "    }\n",
       "\n",
       "    .dataframe tbody tr th {\n",
       "        vertical-align: top;\n",
       "    }\n",
       "\n",
       "    .dataframe thead th {\n",
       "        text-align: right;\n",
       "    }\n",
       "</style>\n",
       "<table border=\"1\" class=\"dataframe\">\n",
       "  <thead>\n",
       "    <tr style=\"text-align: right;\">\n",
       "      <th></th>\n",
       "      <th>mean radius</th>\n",
       "      <th>mean texture</th>\n",
       "      <th>mean perimeter</th>\n",
       "      <th>mean area</th>\n",
       "      <th>mean smoothness</th>\n",
       "      <th>mean compactness</th>\n",
       "      <th>mean concavity</th>\n",
       "      <th>mean concave points</th>\n",
       "      <th>mean symmetry</th>\n",
       "      <th>mean fractal dimension</th>\n",
       "      <th>...</th>\n",
       "      <th>worst texture</th>\n",
       "      <th>worst perimeter</th>\n",
       "      <th>worst area</th>\n",
       "      <th>worst smoothness</th>\n",
       "      <th>worst compactness</th>\n",
       "      <th>worst concavity</th>\n",
       "      <th>worst concave points</th>\n",
       "      <th>worst symmetry</th>\n",
       "      <th>worst fractal dimension</th>\n",
       "      <th>type</th>\n",
       "    </tr>\n",
       "  </thead>\n",
       "  <tbody>\n",
       "    <tr>\n",
       "      <th>0</th>\n",
       "      <td>17.99</td>\n",
       "      <td>10.38</td>\n",
       "      <td>122.80</td>\n",
       "      <td>1001.0</td>\n",
       "      <td>0.11840</td>\n",
       "      <td>0.27760</td>\n",
       "      <td>0.3001</td>\n",
       "      <td>0.14710</td>\n",
       "      <td>0.2419</td>\n",
       "      <td>0.07871</td>\n",
       "      <td>...</td>\n",
       "      <td>17.33</td>\n",
       "      <td>184.60</td>\n",
       "      <td>2019.0</td>\n",
       "      <td>0.1622</td>\n",
       "      <td>0.6656</td>\n",
       "      <td>0.7119</td>\n",
       "      <td>0.2654</td>\n",
       "      <td>0.4601</td>\n",
       "      <td>0.11890</td>\n",
       "      <td>0</td>\n",
       "    </tr>\n",
       "    <tr>\n",
       "      <th>1</th>\n",
       "      <td>20.57</td>\n",
       "      <td>17.77</td>\n",
       "      <td>132.90</td>\n",
       "      <td>1326.0</td>\n",
       "      <td>0.08474</td>\n",
       "      <td>0.07864</td>\n",
       "      <td>0.0869</td>\n",
       "      <td>0.07017</td>\n",
       "      <td>0.1812</td>\n",
       "      <td>0.05667</td>\n",
       "      <td>...</td>\n",
       "      <td>23.41</td>\n",
       "      <td>158.80</td>\n",
       "      <td>1956.0</td>\n",
       "      <td>0.1238</td>\n",
       "      <td>0.1866</td>\n",
       "      <td>0.2416</td>\n",
       "      <td>0.1860</td>\n",
       "      <td>0.2750</td>\n",
       "      <td>0.08902</td>\n",
       "      <td>0</td>\n",
       "    </tr>\n",
       "    <tr>\n",
       "      <th>2</th>\n",
       "      <td>19.69</td>\n",
       "      <td>21.25</td>\n",
       "      <td>130.00</td>\n",
       "      <td>1203.0</td>\n",
       "      <td>0.10960</td>\n",
       "      <td>0.15990</td>\n",
       "      <td>0.1974</td>\n",
       "      <td>0.12790</td>\n",
       "      <td>0.2069</td>\n",
       "      <td>0.05999</td>\n",
       "      <td>...</td>\n",
       "      <td>25.53</td>\n",
       "      <td>152.50</td>\n",
       "      <td>1709.0</td>\n",
       "      <td>0.1444</td>\n",
       "      <td>0.4245</td>\n",
       "      <td>0.4504</td>\n",
       "      <td>0.2430</td>\n",
       "      <td>0.3613</td>\n",
       "      <td>0.08758</td>\n",
       "      <td>0</td>\n",
       "    </tr>\n",
       "    <tr>\n",
       "      <th>3</th>\n",
       "      <td>11.42</td>\n",
       "      <td>20.38</td>\n",
       "      <td>77.58</td>\n",
       "      <td>386.1</td>\n",
       "      <td>0.14250</td>\n",
       "      <td>0.28390</td>\n",
       "      <td>0.2414</td>\n",
       "      <td>0.10520</td>\n",
       "      <td>0.2597</td>\n",
       "      <td>0.09744</td>\n",
       "      <td>...</td>\n",
       "      <td>26.50</td>\n",
       "      <td>98.87</td>\n",
       "      <td>567.7</td>\n",
       "      <td>0.2098</td>\n",
       "      <td>0.8663</td>\n",
       "      <td>0.6869</td>\n",
       "      <td>0.2575</td>\n",
       "      <td>0.6638</td>\n",
       "      <td>0.17300</td>\n",
       "      <td>0</td>\n",
       "    </tr>\n",
       "    <tr>\n",
       "      <th>4</th>\n",
       "      <td>20.29</td>\n",
       "      <td>14.34</td>\n",
       "      <td>135.10</td>\n",
       "      <td>1297.0</td>\n",
       "      <td>0.10030</td>\n",
       "      <td>0.13280</td>\n",
       "      <td>0.1980</td>\n",
       "      <td>0.10430</td>\n",
       "      <td>0.1809</td>\n",
       "      <td>0.05883</td>\n",
       "      <td>...</td>\n",
       "      <td>16.67</td>\n",
       "      <td>152.20</td>\n",
       "      <td>1575.0</td>\n",
       "      <td>0.1374</td>\n",
       "      <td>0.2050</td>\n",
       "      <td>0.4000</td>\n",
       "      <td>0.1625</td>\n",
       "      <td>0.2364</td>\n",
       "      <td>0.07678</td>\n",
       "      <td>0</td>\n",
       "    </tr>\n",
       "  </tbody>\n",
       "</table>\n",
       "<p>5 rows × 31 columns</p>\n",
       "</div>"
      ],
      "text/plain": [
       "   mean radius  mean texture  mean perimeter  mean area  mean smoothness  \\\n",
       "0        17.99         10.38          122.80     1001.0          0.11840   \n",
       "1        20.57         17.77          132.90     1326.0          0.08474   \n",
       "2        19.69         21.25          130.00     1203.0          0.10960   \n",
       "3        11.42         20.38           77.58      386.1          0.14250   \n",
       "4        20.29         14.34          135.10     1297.0          0.10030   \n",
       "\n",
       "   mean compactness  mean concavity  mean concave points  mean symmetry  \\\n",
       "0           0.27760          0.3001              0.14710         0.2419   \n",
       "1           0.07864          0.0869              0.07017         0.1812   \n",
       "2           0.15990          0.1974              0.12790         0.2069   \n",
       "3           0.28390          0.2414              0.10520         0.2597   \n",
       "4           0.13280          0.1980              0.10430         0.1809   \n",
       "\n",
       "   mean fractal dimension  ...  worst texture  worst perimeter  worst area  \\\n",
       "0                 0.07871  ...          17.33           184.60      2019.0   \n",
       "1                 0.05667  ...          23.41           158.80      1956.0   \n",
       "2                 0.05999  ...          25.53           152.50      1709.0   \n",
       "3                 0.09744  ...          26.50            98.87       567.7   \n",
       "4                 0.05883  ...          16.67           152.20      1575.0   \n",
       "\n",
       "   worst smoothness  worst compactness  worst concavity  worst concave points  \\\n",
       "0            0.1622             0.6656           0.7119                0.2654   \n",
       "1            0.1238             0.1866           0.2416                0.1860   \n",
       "2            0.1444             0.4245           0.4504                0.2430   \n",
       "3            0.2098             0.8663           0.6869                0.2575   \n",
       "4            0.1374             0.2050           0.4000                0.1625   \n",
       "\n",
       "   worst symmetry  worst fractal dimension  type  \n",
       "0          0.4601                  0.11890     0  \n",
       "1          0.2750                  0.08902     0  \n",
       "2          0.3613                  0.08758     0  \n",
       "3          0.6638                  0.17300     0  \n",
       "4          0.2364                  0.07678     0  \n",
       "\n",
       "[5 rows x 31 columns]"
      ]
     },
     "execution_count": 232,
     "metadata": {},
     "output_type": "execute_result"
    }
   ],
   "source": [
    "import pandas as pd\n",
    "\n",
    "cancer_df = pd.DataFrame(cancer['data'], columns=cancer['feature_names'])\n",
    "cancer_df['type'] = cancer['target']\n",
    "cancer_df.head()"
   ]
  },
  {
   "cell_type": "markdown",
   "metadata": {},
   "source": [
    "Creamos el dataset y el dataloader"
   ]
  },
  {
   "cell_type": "code",
   "execution_count": 233,
   "metadata": {},
   "outputs": [],
   "source": [
    "import torch\n",
    "\n",
    "class CancerDataset(torch.utils.data.Dataset):\n",
    "    def __init__(self, dataframe):\n",
    "        cols = [col for col in dataframe.columns if col != 'target']\n",
    "        self.parameters = torch.from_numpy(dataframe[cols].values).type(torch.float32)\n",
    "        self.targets = torch.from_numpy(dataframe['type'].values).type(torch.float32)\n",
    "        self.targets = self.targets.reshape((len(self.targets), 1))\n",
    "\n",
    "    def __len__(self):\n",
    "        return len(self.parameters)\n",
    "\n",
    "    def __getitem__(self, idx):\n",
    "        parameters = self.parameters[idx]\n",
    "        target = self.targets[idx]\n",
    "        return parameters, target\n",
    "\n",
    "ds = CancerDataset(cancer_df)"
   ]
  },
  {
   "cell_type": "code",
   "execution_count": 234,
   "metadata": {},
   "outputs": [],
   "source": [
    "train_ds, valid_ds = torch.utils.data.random_split(ds, [int(0.8*len(ds)), len(ds) - int(0.8*len(ds))], generator=torch.Generator().manual_seed(42))"
   ]
  },
  {
   "cell_type": "code",
   "execution_count": 235,
   "metadata": {},
   "outputs": [],
   "source": [
    "from torch.utils.data import DataLoader\n",
    "\n",
    "BS_train = 4 # Elegimos un batch size de 4 para tener varios valores de lr para probar\n",
    "BS_val = 128\n",
    "\n",
    "train_dl = DataLoader(train_ds, batch_size=BS_train, shuffle=True)\n",
    "val_dl = DataLoader(valid_ds, batch_size=BS_val, shuffle=False)"
   ]
  },
  {
   "cell_type": "markdown",
   "metadata": {},
   "source": [
    "Creamos la red neuronal"
   ]
  },
  {
   "cell_type": "code",
   "execution_count": 236,
   "metadata": {},
   "outputs": [],
   "source": [
    "from torch import nn\n",
    "\n",
    "class CancerNeuralNetwork(nn.Module):\n",
    "    def __init__(self, num_inputs, num_outputs, hidden_layers=[100, 50, 20]):\n",
    "        super().__init__()\n",
    "        self.network = torch.nn.Sequential(\n",
    "            torch.nn.Linear(num_inputs, hidden_layers[0]),\n",
    "            torch.nn.ReLU(),\n",
    "            torch.nn.Linear(hidden_layers[0], hidden_layers[1]),\n",
    "            torch.nn.ReLU(),\n",
    "            torch.nn.Linear(hidden_layers[1], hidden_layers[2]),\n",
    "            torch.nn.ReLU(),\n",
    "            torch.nn.Linear(hidden_layers[2], num_outputs),\n",
    "        )\n",
    "        self.activation = torch.nn.Sigmoid()\n",
    "\n",
    "    def forward(self, x):\n",
    "        logits = self.network(x)\n",
    "        probs = self.activation(logits)\n",
    "        return logits, probs\n",
    "\n",
    "model = CancerNeuralNetwork(num_inputs=31, num_outputs=1)"
   ]
  },
  {
   "cell_type": "markdown",
   "metadata": {},
   "source": [
    "Se manda a la GPU"
   ]
  },
  {
   "cell_type": "code",
   "execution_count": 237,
   "metadata": {},
   "outputs": [
    {
     "name": "stdout",
     "output_type": "stream",
     "text": [
      "Using cuda device\n"
     ]
    },
    {
     "data": {
      "text/plain": [
       "CancerNeuralNetwork(\n",
       "  (network): Sequential(\n",
       "    (0): Linear(in_features=31, out_features=100, bias=True)\n",
       "    (1): ReLU()\n",
       "    (2): Linear(in_features=100, out_features=50, bias=True)\n",
       "    (3): ReLU()\n",
       "    (4): Linear(in_features=50, out_features=20, bias=True)\n",
       "    (5): ReLU()\n",
       "    (6): Linear(in_features=20, out_features=1, bias=True)\n",
       "  )\n",
       "  (activation): Sigmoid()\n",
       ")"
      ]
     },
     "execution_count": 237,
     "metadata": {},
     "output_type": "execute_result"
    }
   ],
   "source": [
    "# Get cpu or gpu device for training.\n",
    "device = \"cuda\" if torch.cuda.is_available() else \"cpu\"\n",
    "print(\"Using {} device\".format(device))\n",
    "\n",
    "model.to(device)"
   ]
  },
  {
   "cell_type": "markdown",
   "metadata": {},
   "source": [
    "Definimos la función de pérdida"
   ]
  },
  {
   "cell_type": "code",
   "execution_count": 238,
   "metadata": {},
   "outputs": [],
   "source": [
    "loss_fn = nn.BCEWithLogitsLoss()"
   ]
  },
  {
   "cell_type": "markdown",
   "metadata": {},
   "source": [
    "Hacemos la función de búsqueda del learning rate"
   ]
  },
  {
   "cell_type": "code",
   "execution_count": 239,
   "metadata": {},
   "outputs": [],
   "source": [
    "import math\n",
    "import numpy as np\n",
    "\n",
    "def lr_finder(model, train_dl, loss_fn, lr_init=1e-8, lr_end=10, increment=4):\n",
    "    num = len(train_dl)-1 # Numero de lrs que vamos a probar\n",
    "    q = (lr_end/lr_init)**(1/num) # Incremento de lr\n",
    "    lr = lr_init\n",
    "    optimizer = torch.optim.SGD(model.parameters(), lr=lr)\n",
    "    loss = 0\n",
    "    best_loss = 0\n",
    "    losses = []\n",
    "    lrs = []\n",
    "    for batch, (X, y) in enumerate(train_dl):\n",
    "        # X and y to device\n",
    "        X, y = X.to(device), y.to(device)\n",
    "\n",
    "        # Compute prediction and loss\n",
    "        logits, probs = model(X)\n",
    "        loss = loss_fn(logits, y)\n",
    "        print(f\"batch: {batch}, loss: {loss.item():.4f}, lr: {lr:.4e}, best_loss: {best_loss:.4f}\", end='')\n",
    "        if increment is not None:\n",
    "            print(f\", increment*best_loss: {increment*best_loss:.4f}\")\n",
    "\n",
    "            # Se para si el loss se dispara\n",
    "            if batch > 1 and loss > increment * best_loss:\n",
    "                print(\"Stopping\")\n",
    "                return lrs, losses\n",
    "        else:\n",
    "            print()\n",
    "        \n",
    "        # Se guarda la menor pérdida\n",
    "        if loss < best_loss or batch==0:\n",
    "            best_loss = loss\n",
    "        \n",
    "        # Se guardan los datos\n",
    "        losses.append(loss.to(\"cpu\").detach().numpy())\n",
    "        lrs.append(math.log10(lr))\n",
    "\n",
    "        # Backpropagation\n",
    "        optimizer.zero_grad()\n",
    "        loss.backward()\n",
    "        optimizer.step()\n",
    "\n",
    "        # Update lr\n",
    "        lr *= q\n",
    "\n",
    "    return lrs, losses"
   ]
  },
  {
   "cell_type": "code",
   "execution_count": 240,
   "metadata": {},
   "outputs": [
    {
     "name": "stdout",
     "output_type": "stream",
     "text": [
      "batch: 0, loss: 6.8653, lr: 1.0000e-08, best_loss: 0.0000\n",
      "batch: 1, loss: 3.1647, lr: 1.2013e-08, best_loss: 6.8653\n",
      "batch: 2, loss: 8.8051, lr: 1.4431e-08, best_loss: 3.1647\n",
      "batch: 3, loss: 5.6594, lr: 1.7336e-08, best_loss: 3.1647\n",
      "batch: 4, loss: 9.1332, lr: 2.0825e-08, best_loss: 3.1647\n",
      "batch: 5, loss: 2.8825, lr: 2.5017e-08, best_loss: 3.1647\n",
      "batch: 6, loss: 5.0076, lr: 3.0052e-08, best_loss: 2.8825\n",
      "batch: 7, loss: 7.6817, lr: 3.6101e-08, best_loss: 2.8825\n",
      "batch: 8, loss: 1.8344, lr: 4.3368e-08, best_loss: 2.8825\n",
      "batch: 9, loss: 2.7482, lr: 5.2097e-08, best_loss: 1.8344\n",
      "batch: 10, loss: 4.9475, lr: 6.2584e-08, best_loss: 1.8344\n",
      "batch: 11, loss: 2.4334, lr: 7.5181e-08, best_loss: 1.8344\n",
      "batch: 12, loss: 0.0161, lr: 9.0313e-08, best_loss: 1.8344\n",
      "batch: 13, loss: 5.8298, lr: 1.0849e-07, best_loss: 0.0161\n",
      "batch: 14, loss: 7.3793, lr: 1.3033e-07, best_loss: 0.0161\n",
      "batch: 15, loss: 4.2209, lr: 1.5656e-07, best_loss: 0.0161\n",
      "batch: 16, loss: 8.3666, lr: 1.8808e-07, best_loss: 0.0161\n",
      "batch: 17, loss: 5.2258, lr: 2.2593e-07, best_loss: 0.0161\n",
      "batch: 18, loss: 7.8082, lr: 2.7141e-07, best_loss: 0.0161\n",
      "batch: 19, loss: 9.0924, lr: 3.2604e-07, best_loss: 0.0161\n",
      "batch: 20, loss: 5.6223, lr: 3.9167e-07, best_loss: 0.0161\n",
      "batch: 21, loss: 8.1263, lr: 4.7051e-07, best_loss: 0.0161\n",
      "batch: 22, loss: 16.8793, lr: 5.6521e-07, best_loss: 0.0161\n",
      "batch: 23, loss: 2.5838, lr: 6.7898e-07, best_loss: 0.0161\n",
      "batch: 24, loss: 0.0011, lr: 8.1565e-07, best_loss: 0.0161\n",
      "batch: 25, loss: 8.2441, lr: 9.7983e-07, best_loss: 0.0011\n",
      "batch: 26, loss: 2.8963, lr: 1.1771e-06, best_loss: 0.0011\n",
      "batch: 27, loss: 3.6853, lr: 1.4140e-06, best_loss: 0.0011\n",
      "batch: 28, loss: 2.6306, lr: 1.6986e-06, best_loss: 0.0011\n",
      "batch: 29, loss: 3.4934, lr: 2.0405e-06, best_loss: 0.0011\n",
      "batch: 30, loss: 4.7119, lr: 2.4512e-06, best_loss: 0.0011\n",
      "batch: 31, loss: 3.2507, lr: 2.9446e-06, best_loss: 0.0011\n",
      "batch: 32, loss: 0.0150, lr: 3.5373e-06, best_loss: 0.0011\n",
      "batch: 33, loss: 4.4070, lr: 4.2493e-06, best_loss: 0.0011\n",
      "batch: 34, loss: 4.7194, lr: 5.1046e-06, best_loss: 0.0011\n",
      "batch: 35, loss: 2.3639, lr: 6.1321e-06, best_loss: 0.0011\n",
      "batch: 36, loss: 9.0334, lr: 7.3664e-06, best_loss: 0.0011\n",
      "batch: 37, loss: 4.1481, lr: 8.8492e-06, best_loss: 0.0011\n",
      "batch: 38, loss: 4.1730, lr: 1.0630e-05, best_loss: 0.0011\n",
      "batch: 39, loss: 2.8087, lr: 1.2770e-05, best_loss: 0.0011\n",
      "batch: 40, loss: 4.0883, lr: 1.5341e-05, best_loss: 0.0011\n",
      "batch: 41, loss: 2.9753, lr: 1.8428e-05, best_loss: 0.0011\n",
      "batch: 42, loss: 6.5501, lr: 2.2138e-05, best_loss: 0.0011\n",
      "batch: 43, loss: 5.3721, lr: 2.6594e-05, best_loss: 0.0011\n",
      "batch: 44, loss: 3.0820, lr: 3.1947e-05, best_loss: 0.0011\n",
      "batch: 45, loss: 4.9212, lr: 3.8377e-05, best_loss: 0.0011\n",
      "batch: 46, loss: 0.0023, lr: 4.6102e-05, best_loss: 0.0011\n",
      "batch: 47, loss: 10.7625, lr: 5.5381e-05, best_loss: 0.0011\n",
      "batch: 48, loss: 6.3860, lr: 6.6529e-05, best_loss: 0.0011\n",
      "batch: 49, loss: 0.0044, lr: 7.9920e-05, best_loss: 0.0011\n",
      "batch: 50, loss: 2.0388, lr: 9.6007e-05, best_loss: 0.0011\n",
      "batch: 51, loss: 2.4747, lr: 1.1533e-04, best_loss: 0.0011\n",
      "batch: 52, loss: 7.4460, lr: 1.3855e-04, best_loss: 0.0011\n",
      "batch: 53, loss: 3.2916, lr: 1.6643e-04, best_loss: 0.0011\n",
      "batch: 54, loss: 7.5212, lr: 1.9993e-04, best_loss: 0.0011\n",
      "batch: 55, loss: 6.6898, lr: 2.4018e-04, best_loss: 0.0011\n",
      "batch: 56, loss: 3.0163, lr: 2.8852e-04, best_loss: 0.0011\n",
      "batch: 57, loss: 5.3954, lr: 3.4660e-04, best_loss: 0.0011\n",
      "batch: 58, loss: 1.9695, lr: 4.1636e-04, best_loss: 0.0011\n",
      "batch: 59, loss: 6.8508, lr: 5.0017e-04, best_loss: 0.0011\n",
      "batch: 60, loss: 5.9545, lr: 6.0084e-04, best_loss: 0.0011\n",
      "batch: 61, loss: 1.3986, lr: 7.2178e-04, best_loss: 0.0011\n",
      "batch: 62, loss: 4.1294, lr: 8.6707e-04, best_loss: 0.0011\n",
      "batch: 63, loss: 5.8363, lr: 1.0416e-03, best_loss: 0.0011\n",
      "batch: 64, loss: 1.4447, lr: 1.2513e-03, best_loss: 0.0011\n",
      "batch: 65, loss: 9.3579, lr: 1.5031e-03, best_loss: 0.0011\n",
      "batch: 66, loss: 11.5705, lr: 1.8057e-03, best_loss: 0.0011\n",
      "batch: 67, loss: 6.9963, lr: 2.1691e-03, best_loss: 0.0011\n",
      "batch: 68, loss: 2.4274, lr: 2.6057e-03, best_loss: 0.0011\n",
      "batch: 69, loss: 0.0080, lr: 3.1302e-03, best_loss: 0.0011\n",
      "batch: 70, loss: 0.0110, lr: 3.7603e-03, best_loss: 0.0011\n",
      "batch: 71, loss: 5.9160, lr: 4.5172e-03, best_loss: 0.0011\n",
      "batch: 72, loss: 1.9643, lr: 5.4264e-03, best_loss: 0.0011\n",
      "batch: 73, loss: 11.1305, lr: 6.5187e-03, best_loss: 0.0011\n",
      "batch: 74, loss: 6.5298, lr: 7.8308e-03, best_loss: 0.0011\n",
      "batch: 75, loss: 2.4369, lr: 9.4070e-03, best_loss: 0.0011\n",
      "batch: 76, loss: 0.0158, lr: 1.1300e-02, best_loss: 0.0011\n",
      "batch: 77, loss: 0.0180, lr: 1.3575e-02, best_loss: 0.0011\n",
      "batch: 78, loss: 0.0035, lr: 1.6308e-02, best_loss: 0.0011\n",
      "batch: 79, loss: 3.6971, lr: 1.9590e-02, best_loss: 0.0011\n",
      "batch: 80, loss: 3.7394, lr: 2.3533e-02, best_loss: 0.0011\n",
      "batch: 81, loss: 5.0286, lr: 2.8270e-02, best_loss: 0.0011\n",
      "batch: 82, loss: 6.6395, lr: 3.3960e-02, best_loss: 0.0011\n",
      "batch: 83, loss: 0.0029, lr: 4.0796e-02, best_loss: 0.0011\n",
      "batch: 84, loss: 7.4388, lr: 4.9008e-02, best_loss: 0.0011\n",
      "batch: 85, loss: 4.2566, lr: 5.8872e-02, best_loss: 0.0011\n",
      "batch: 86, loss: 6.5182, lr: 7.0722e-02, best_loss: 0.0011\n",
      "batch: 87, loss: 14.0993, lr: 8.4958e-02, best_loss: 0.0011\n",
      "batch: 88, loss: 19.4096, lr: 1.0206e-01, best_loss: 0.0011\n",
      "batch: 89, loss: 2.2243, lr: 1.2260e-01, best_loss: 0.0011\n",
      "batch: 90, loss: 5.8290, lr: 1.4728e-01, best_loss: 0.0011\n",
      "batch: 91, loss: 6.1494, lr: 1.7692e-01, best_loss: 0.0011\n",
      "batch: 92, loss: 1.7056, lr: 2.1254e-01, best_loss: 0.0011\n",
      "batch: 93, loss: 5.9657, lr: 2.5532e-01, best_loss: 0.0011\n",
      "batch: 94, loss: 0.0052, lr: 3.0671e-01, best_loss: 0.0011\n",
      "batch: 95, loss: 10.5168, lr: 3.6844e-01, best_loss: 0.0011\n",
      "batch: 96, loss: 0.0128, lr: 4.4261e-01, best_loss: 0.0011\n",
      "batch: 97, loss: 9.5924, lr: 5.3170e-01, best_loss: 0.0011\n",
      "batch: 98, loss: 8.2211, lr: 6.3872e-01, best_loss: 0.0011\n",
      "batch: 99, loss: 7.0965, lr: 7.6728e-01, best_loss: 0.0011\n",
      "batch: 100, loss: 5.5905, lr: 9.2173e-01, best_loss: 0.0011\n",
      "batch: 101, loss: 7.0593, lr: 1.1073e+00, best_loss: 0.0011\n",
      "batch: 102, loss: 1.8463, lr: 1.3301e+00, best_loss: 0.0011\n",
      "batch: 103, loss: 2.6438, lr: 1.5979e+00, best_loss: 0.0011\n",
      "batch: 104, loss: 1.9789, lr: 1.9195e+00, best_loss: 0.0011\n",
      "batch: 105, loss: 2.2593, lr: 2.3059e+00, best_loss: 0.0011\n",
      "batch: 106, loss: 1.7853, lr: 2.7700e+00, best_loss: 0.0011\n",
      "batch: 107, loss: 8.6049, lr: 3.3275e+00, best_loss: 0.0011\n",
      "batch: 108, loss: 0.0064, lr: 3.9973e+00, best_loss: 0.0011\n",
      "batch: 109, loss: 1.9776, lr: 4.8019e+00, best_loss: 0.0011\n",
      "batch: 110, loss: 10.7791, lr: 5.7685e+00, best_loss: 0.0011\n",
      "batch: 111, loss: 10.7574, lr: 6.9296e+00, best_loss: 0.0011\n",
      "batch: 112, loss: 7.2160, lr: 8.3244e+00, best_loss: 0.0011\n",
      "batch: 113, loss: 14.4765, lr: 1.0000e+01, best_loss: 0.0011\n"
     ]
    }
   ],
   "source": [
    "[lrss, losses] = lr_finder(model, train_dl, loss_fn, increment=None)"
   ]
  },
  {
   "cell_type": "code",
   "execution_count": 241,
   "metadata": {},
   "outputs": [
    {
     "data": {
      "text/plain": [
       "[<matplotlib.lines.Line2D at 0x7f6a1935bd30>]"
      ]
     },
     "execution_count": 241,
     "metadata": {},
     "output_type": "execute_result"
    },
    {
     "data": {
      "image/png": "[encoded data removed]",
      "text/plain": [
       "<Figure size 432x288 with 1 Axes>"
      ]
     },
     "metadata": {
      "needs_background": "light"
     },
     "output_type": "display_data"
    }
   ],
   "source": [
    "import matplotlib.pyplot as plt\n",
    "plt.plot(lrss, losses)"
   ]
  },
  {
   "cell_type": "code",
   "execution_count": null,
   "metadata": {},
   "outputs": [],
   "source": []
  }
 ],
 "metadata": {
  "kernelspec": {
   "display_name": "Python 3.9.7 ('base')",
   "language": "python",
   "name": "python3"
  },
  "language_info": {
   "codemirror_mode": {
    "name": "ipython",
    "version": 3
   },
   "file_extension": ".py",
   "mimetype": "text/x-python",
   "name": "python",
   "nbconvert_exporter": "python",
   "pygments_lexer": "ipython3",
   "version": "3.9.7"
  },
  "orig_nbformat": 4,
  "vscode": {
   "interpreter": {
    "hash": "8e4d58f53b4b3ced286559ef92073773937aa87eedd0536c036fd264999b02c5"
   }
  }
 },
 "nbformat": 4,
 "nbformat_minor": 2
}
