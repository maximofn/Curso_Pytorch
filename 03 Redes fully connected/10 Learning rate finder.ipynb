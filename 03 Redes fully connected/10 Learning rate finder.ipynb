{
 "cells": [
  {
   "cell_type": "markdown",
   "metadata": {},
   "source": [
    "# Learning rate finder"
   ]
  },
  {
   "cell_type": "markdown",
   "metadata": {},
   "source": [
    "Como hemos visto el learning rate es uno de los hiperparámetros que podemos cambiar durante el entrenamiento de una red neuronal, y de hecho, es uno de los más importantes. Por tanto debemos encotrar un valor bueno, pero buscarlo dando palos de ciego parece que no es la mejor idea. Lo mejor sería tener un algoritmo que nos ayude en esta tarea, y por suerte lo hay y lo vamos a explicar"
   ]
  },
  {
   "cell_type": "markdown",
   "metadata": {},
   "source": [
    "Lo primero que se nos podría ocurrir es entrenar nuestro modelo con varios learning rates y quedarnos con el mejor resultado. Pero hay modeos muy grandes que tardan horas, días, incluso semanas en entrenarse, por lo que no parece la mejor idea"
   ]
  },
  {
   "cell_type": "markdown",
   "metadata": {},
   "source": [
    "Así que una aproximación que podemos hacer es entrenar una época entera"
   ]
  }
 ],
 "metadata": {
  "language_info": {
   "name": "python"
  },
  "orig_nbformat": 4
 },
 "nbformat": 4,
 "nbformat_minor": 2
}
