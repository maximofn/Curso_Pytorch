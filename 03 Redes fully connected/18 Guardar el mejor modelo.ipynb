{
 "cells": [
  {
   "cell_type": "markdown",
   "metadata": {},
   "source": [
    "# Guardar el mejor modelo"
   ]
  },
  {
   "cell_type": "markdown",
   "metadata": {},
   "source": [
    "Una de las cosas que hemos visto que tenemos que elegir es el número de épocas que entrenamos a nuestro modelo, pero ¿cómo sabemos cuántas épocas entrenar? No tenemos manera de saber cuántas épocas son las mejores pare entrenar a nuestro modelo, por lo que puede pasar que entrenemos pocas, que lo entrenemos las justas y necesarias (raro) o que lo entrenemos de más y lo sobreentrenemos.\n",
    "\n",
    "Así que lo que se suele hacer es entrenar un número alto de épocas e ir guardando el mejor modelo para el conjunto de validación, así nos aseguramos de no entrenarlo de menos, y cuando pasen más épocas de las que necesita y comience a sobreentrenarse, tengamos guardado el modelo que dio el mejor resultado en el modelo de validación.\n",
    "\n",
    "Si lo entrenamos muchas épocas, el error o la métrica en el conjunto de entrenamiento irá bajando, porque lo estamos sobreentrenando, está aprendiéndose el conjunto de entrenamiento. Por eso nos tenemos que quedar con el mejor modelo del conjunto de validación"
   ]
  },
  {
   "cell_type": "markdown",
   "metadata": {},
   "source": [
    "Ya sabemos cómo entrenar un modelo y también hemos visto como guardarlo. Ahora vamos a ver cómo guardar el mejor modelo posible en el conjunto de validación. Vamos a verlo con el conjunto de datos de cancer"
   ]
  },
  {
   "cell_type": "code",
   "execution_count": 1,
   "metadata": {},
   "outputs": [],
   "source": [
    "from sklearn import datasets\n",
    "\n",
    "cancer = datasets.load_breast_cancer()"
   ]
  },
  {
   "cell_type": "code",
   "execution_count": 2,
   "metadata": {},
   "outputs": [
    {
     "data": {
      "text/html": [
       "<div>\n",
       "<style scoped>\n",
       "    .dataframe tbody tr th:only-of-type {\n",
       "        vertical-align: middle;\n",
       "    }\n",
       "\n",
       "    .dataframe tbody tr th {\n",
       "        vertical-align: top;\n",
       "    }\n",
       "\n",
       "    .dataframe thead th {\n",
       "        text-align: right;\n",
       "    }\n",
       "</style>\n",
       "<table border=\"1\" class=\"dataframe\">\n",
       "  <thead>\n",
       "    <tr style=\"text-align: right;\">\n",
       "      <th></th>\n",
       "      <th>mean radius</th>\n",
       "      <th>mean texture</th>\n",
       "      <th>mean perimeter</th>\n",
       "      <th>mean area</th>\n",
       "      <th>mean smoothness</th>\n",
       "      <th>mean compactness</th>\n",
       "      <th>mean concavity</th>\n",
       "      <th>mean concave points</th>\n",
       "      <th>mean symmetry</th>\n",
       "      <th>mean fractal dimension</th>\n",
       "      <th>...</th>\n",
       "      <th>worst texture</th>\n",
       "      <th>worst perimeter</th>\n",
       "      <th>worst area</th>\n",
       "      <th>worst smoothness</th>\n",
       "      <th>worst compactness</th>\n",
       "      <th>worst concavity</th>\n",
       "      <th>worst concave points</th>\n",
       "      <th>worst symmetry</th>\n",
       "      <th>worst fractal dimension</th>\n",
       "      <th>type</th>\n",
       "    </tr>\n",
       "  </thead>\n",
       "  <tbody>\n",
       "    <tr>\n",
       "      <th>0</th>\n",
       "      <td>17.99</td>\n",
       "      <td>10.38</td>\n",
       "      <td>122.80</td>\n",
       "      <td>1001.0</td>\n",
       "      <td>0.11840</td>\n",
       "      <td>0.27760</td>\n",
       "      <td>0.3001</td>\n",
       "      <td>0.14710</td>\n",
       "      <td>0.2419</td>\n",
       "      <td>0.07871</td>\n",
       "      <td>...</td>\n",
       "      <td>17.33</td>\n",
       "      <td>184.60</td>\n",
       "      <td>2019.0</td>\n",
       "      <td>0.1622</td>\n",
       "      <td>0.6656</td>\n",
       "      <td>0.7119</td>\n",
       "      <td>0.2654</td>\n",
       "      <td>0.4601</td>\n",
       "      <td>0.11890</td>\n",
       "      <td>0</td>\n",
       "    </tr>\n",
       "    <tr>\n",
       "      <th>1</th>\n",
       "      <td>20.57</td>\n",
       "      <td>17.77</td>\n",
       "      <td>132.90</td>\n",
       "      <td>1326.0</td>\n",
       "      <td>0.08474</td>\n",
       "      <td>0.07864</td>\n",
       "      <td>0.0869</td>\n",
       "      <td>0.07017</td>\n",
       "      <td>0.1812</td>\n",
       "      <td>0.05667</td>\n",
       "      <td>...</td>\n",
       "      <td>23.41</td>\n",
       "      <td>158.80</td>\n",
       "      <td>1956.0</td>\n",
       "      <td>0.1238</td>\n",
       "      <td>0.1866</td>\n",
       "      <td>0.2416</td>\n",
       "      <td>0.1860</td>\n",
       "      <td>0.2750</td>\n",
       "      <td>0.08902</td>\n",
       "      <td>0</td>\n",
       "    </tr>\n",
       "    <tr>\n",
       "      <th>2</th>\n",
       "      <td>19.69</td>\n",
       "      <td>21.25</td>\n",
       "      <td>130.00</td>\n",
       "      <td>1203.0</td>\n",
       "      <td>0.10960</td>\n",
       "      <td>0.15990</td>\n",
       "      <td>0.1974</td>\n",
       "      <td>0.12790</td>\n",
       "      <td>0.2069</td>\n",
       "      <td>0.05999</td>\n",
       "      <td>...</td>\n",
       "      <td>25.53</td>\n",
       "      <td>152.50</td>\n",
       "      <td>1709.0</td>\n",
       "      <td>0.1444</td>\n",
       "      <td>0.4245</td>\n",
       "      <td>0.4504</td>\n",
       "      <td>0.2430</td>\n",
       "      <td>0.3613</td>\n",
       "      <td>0.08758</td>\n",
       "      <td>0</td>\n",
       "    </tr>\n",
       "    <tr>\n",
       "      <th>3</th>\n",
       "      <td>11.42</td>\n",
       "      <td>20.38</td>\n",
       "      <td>77.58</td>\n",
       "      <td>386.1</td>\n",
       "      <td>0.14250</td>\n",
       "      <td>0.28390</td>\n",
       "      <td>0.2414</td>\n",
       "      <td>0.10520</td>\n",
       "      <td>0.2597</td>\n",
       "      <td>0.09744</td>\n",
       "      <td>...</td>\n",
       "      <td>26.50</td>\n",
       "      <td>98.87</td>\n",
       "      <td>567.7</td>\n",
       "      <td>0.2098</td>\n",
       "      <td>0.8663</td>\n",
       "      <td>0.6869</td>\n",
       "      <td>0.2575</td>\n",
       "      <td>0.6638</td>\n",
       "      <td>0.17300</td>\n",
       "      <td>0</td>\n",
       "    </tr>\n",
       "    <tr>\n",
       "      <th>4</th>\n",
       "      <td>20.29</td>\n",
       "      <td>14.34</td>\n",
       "      <td>135.10</td>\n",
       "      <td>1297.0</td>\n",
       "      <td>0.10030</td>\n",
       "      <td>0.13280</td>\n",
       "      <td>0.1980</td>\n",
       "      <td>0.10430</td>\n",
       "      <td>0.1809</td>\n",
       "      <td>0.05883</td>\n",
       "      <td>...</td>\n",
       "      <td>16.67</td>\n",
       "      <td>152.20</td>\n",
       "      <td>1575.0</td>\n",
       "      <td>0.1374</td>\n",
       "      <td>0.2050</td>\n",
       "      <td>0.4000</td>\n",
       "      <td>0.1625</td>\n",
       "      <td>0.2364</td>\n",
       "      <td>0.07678</td>\n",
       "      <td>0</td>\n",
       "    </tr>\n",
       "  </tbody>\n",
       "</table>\n",
       "<p>5 rows × 31 columns</p>\n",
       "</div>"
      ],
      "text/plain": [
       "   mean radius  mean texture  mean perimeter  mean area  mean smoothness  \\\n",
       "0        17.99         10.38          122.80     1001.0          0.11840   \n",
       "1        20.57         17.77          132.90     1326.0          0.08474   \n",
       "2        19.69         21.25          130.00     1203.0          0.10960   \n",
       "3        11.42         20.38           77.58      386.1          0.14250   \n",
       "4        20.29         14.34          135.10     1297.0          0.10030   \n",
       "\n",
       "   mean compactness  mean concavity  mean concave points  mean symmetry  \\\n",
       "0           0.27760          0.3001              0.14710         0.2419   \n",
       "1           0.07864          0.0869              0.07017         0.1812   \n",
       "2           0.15990          0.1974              0.12790         0.2069   \n",
       "3           0.28390          0.2414              0.10520         0.2597   \n",
       "4           0.13280          0.1980              0.10430         0.1809   \n",
       "\n",
       "   mean fractal dimension  ...  worst texture  worst perimeter  worst area  \\\n",
       "0                 0.07871  ...          17.33           184.60      2019.0   \n",
       "1                 0.05667  ...          23.41           158.80      1956.0   \n",
       "2                 0.05999  ...          25.53           152.50      1709.0   \n",
       "3                 0.09744  ...          26.50            98.87       567.7   \n",
       "4                 0.05883  ...          16.67           152.20      1575.0   \n",
       "\n",
       "   worst smoothness  worst compactness  worst concavity  worst concave points  \\\n",
       "0            0.1622             0.6656           0.7119                0.2654   \n",
       "1            0.1238             0.1866           0.2416                0.1860   \n",
       "2            0.1444             0.4245           0.4504                0.2430   \n",
       "3            0.2098             0.8663           0.6869                0.2575   \n",
       "4            0.1374             0.2050           0.4000                0.1625   \n",
       "\n",
       "   worst symmetry  worst fractal dimension  type  \n",
       "0          0.4601                  0.11890     0  \n",
       "1          0.2750                  0.08902     0  \n",
       "2          0.3613                  0.08758     0  \n",
       "3          0.6638                  0.17300     0  \n",
       "4          0.2364                  0.07678     0  \n",
       "\n",
       "[5 rows x 31 columns]"
      ]
     },
     "execution_count": 2,
     "metadata": {},
     "output_type": "execute_result"
    }
   ],
   "source": [
    "import pandas as pd\n",
    "\n",
    "cancer_df = pd.DataFrame(cancer['data'], columns=cancer['feature_names'])\n",
    "cancer_df['type'] = cancer['target']\n",
    "cancer_df.head()"
   ]
  },
  {
   "cell_type": "markdown",
   "metadata": {},
   "source": [
    "Creamos el dataset"
   ]
  },
  {
   "cell_type": "code",
   "execution_count": 3,
   "metadata": {},
   "outputs": [],
   "source": [
    "import torch\n",
    "\n",
    "class CancerDataset(torch.utils.data.Dataset):\n",
    "    def __init__(self, dataframe):\n",
    "        cols = [col for col in dataframe.columns if col != 'target']\n",
    "        self.parameters = torch.from_numpy(dataframe[cols].values).type(torch.float32)\n",
    "        self.targets = torch.from_numpy(dataframe['type'].values).type(torch.float32)\n",
    "        self.targets = self.targets.reshape((len(self.targets), 1))\n",
    "\n",
    "    def __len__(self):\n",
    "        return len(self.parameters)\n",
    "\n",
    "    def __getitem__(self, idx):\n",
    "        parameters = self.parameters[idx]\n",
    "        target = self.targets[idx]\n",
    "        return parameters, target\n",
    "\n",
    "ds = CancerDataset(cancer_df)\n",
    "\n",
    "train_ds, valid_ds = torch.utils.data.random_split(ds, [int(0.8*len(ds)), len(ds) - int(0.8*len(ds))], generator=torch.Generator().manual_seed(42))"
   ]
  },
  {
   "cell_type": "markdown",
   "metadata": {},
   "source": [
    "Creamos el dataloader"
   ]
  },
  {
   "cell_type": "code",
   "execution_count": 4,
   "metadata": {},
   "outputs": [],
   "source": [
    "from torch.utils.data import DataLoader\n",
    "\n",
    "BS_train = 512\n",
    "BS_val = 128\n",
    "\n",
    "train_dl = DataLoader(train_ds, batch_size=BS_train, shuffle=True)\n",
    "val_dl = DataLoader(valid_ds, batch_size=BS_val, shuffle=False)"
   ]
  },
  {
   "cell_type": "markdown",
   "metadata": {},
   "source": [
    "Creamos la red neuronal"
   ]
  },
  {
   "cell_type": "code",
   "execution_count": 5,
   "metadata": {},
   "outputs": [
    {
     "name": "stdout",
     "output_type": "stream",
     "text": [
      "Using cuda device\n"
     ]
    },
    {
     "data": {
      "text/plain": [
       "CancerNeuralNetwork(\n",
       "  (network): Sequential(\n",
       "    (0): Linear(in_features=31, out_features=200, bias=True)\n",
       "    (1): ReLU()\n",
       "    (2): Linear(in_features=200, out_features=150, bias=True)\n",
       "    (3): ReLU()\n",
       "    (4): Linear(in_features=150, out_features=100, bias=True)\n",
       "    (5): ReLU()\n",
       "    (6): Linear(in_features=100, out_features=75, bias=True)\n",
       "    (7): ReLU()\n",
       "    (8): Linear(in_features=75, out_features=50, bias=True)\n",
       "    (9): ReLU()\n",
       "    (10): Linear(in_features=50, out_features=25, bias=True)\n",
       "    (11): ReLU()\n",
       "    (12): Linear(in_features=25, out_features=20, bias=True)\n",
       "    (13): ReLU()\n",
       "    (14): Linear(in_features=20, out_features=1, bias=True)\n",
       "  )\n",
       "  (activation): Sigmoid()\n",
       ")"
      ]
     },
     "execution_count": 5,
     "metadata": {},
     "output_type": "execute_result"
    }
   ],
   "source": [
    "from torch import nn\n",
    "\n",
    "class CancerNeuralNetwork(nn.Module):\n",
    "    def __init__(self, num_inputs, num_outputs, hidden_layers=[200, 150, 100, 75, 50, 25, 20]):\n",
    "        super().__init__()\n",
    "        self.network = torch.nn.Sequential(\n",
    "            torch.nn.Linear(num_inputs, hidden_layers[0]),\n",
    "            torch.nn.ReLU(),\n",
    "            torch.nn.Linear(hidden_layers[0], hidden_layers[1]),\n",
    "            torch.nn.ReLU(),\n",
    "            torch.nn.Linear(hidden_layers[1], hidden_layers[2]),\n",
    "            torch.nn.ReLU(),\n",
    "            torch.nn.Linear(hidden_layers[2], hidden_layers[3]),\n",
    "            torch.nn.ReLU(),\n",
    "            torch.nn.Linear(hidden_layers[3], hidden_layers[4]),\n",
    "            torch.nn.ReLU(),\n",
    "            torch.nn.Linear(hidden_layers[4], hidden_layers[5]),\n",
    "            torch.nn.ReLU(),\n",
    "            torch.nn.Linear(hidden_layers[5], hidden_layers[6]),\n",
    "            torch.nn.ReLU(),\n",
    "            torch.nn.Linear(hidden_layers[6], num_outputs),\n",
    "        )\n",
    "        self.activation = torch.nn.Sigmoid()\n",
    "\n",
    "    def forward(self, x):\n",
    "        logits = self.network(x)\n",
    "        probs = self.activation(logits)\n",
    "        return logits, probs\n",
    "\n",
    "num_inputs = 31\n",
    "num_outputs = 1\n",
    "model = CancerNeuralNetwork(num_inputs, num_outputs)\n",
    "\n",
    "device = \"cuda\" if torch.cuda.is_available() else \"cpu\"\n",
    "print(\"Using {} device\".format(device))\n",
    "model.to(device)"
   ]
  },
  {
   "cell_type": "markdown",
   "metadata": {},
   "source": [
    "Creamos la funcuón de pérdida y el optimizador"
   ]
  },
  {
   "cell_type": "code",
   "execution_count": 6,
   "metadata": {},
   "outputs": [],
   "source": [
    "LR = 1e-3\n",
    "\n",
    "loss_fn = nn.BCEWithLogitsLoss()\n",
    "optimizer = torch.optim.SGD(model.parameters(), lr=LR)"
   ]
  },
  {
   "cell_type": "markdown",
   "metadata": {},
   "source": [
    "Definimos la función de entrenamiento, volvemos a usar la barra de progreso vista en el tema anterior"
   ]
  },
  {
   "cell_type": "markdown",
   "metadata": {},
   "source": [
    "Durante el entrenamiento hacemos el bucle de `train` y `val`. Durante la validación medimos 2 cosas, el error (`val_loss`) y la cantidad de datos predichos correctamente (`correct`), este último es nuestra métrica, y es lo que vamos a tener en cuenta para guardar el modelo.\n",
    "\n",
    "Lo que haremos es que cuando en la época en la que se esté, el modelo prediga más datos correctos que en épocas anteriores guardaremos ese modelo."
   ]
  },
  {
   "cell_type": "code",
   "execution_count": 7,
   "metadata": {},
   "outputs": [],
   "source": [
    "import numpy as np\n",
    "\n",
    "def plot_loss_update(epoch, epochs, mb, train_loss, valid_loss):\n",
    "    \"\"\" dynamically print the loss plot during the training/validation loop.\n",
    "        expects epoch to start from 1.\n",
    "    \"\"\"\n",
    "    x = range(1, epoch+1)\n",
    "    y = np.concatenate((train_loss, valid_loss))\n",
    "    graphs = [[x,train_loss], [x,valid_loss]]\n",
    "    x_margin = 0.2\n",
    "    y_margin = 0.05\n",
    "    x_bounds = [1-x_margin, epochs+x_margin]\n",
    "    y_bounds = [np.min(y)-y_margin, np.max(y)+y_margin]\n",
    "\n",
    "    mb.update_graph(graphs, x_bounds, y_bounds)"
   ]
  },
  {
   "cell_type": "code",
   "execution_count": 8,
   "metadata": {},
   "outputs": [
    {
     "data": {
      "text/html": [
       "\n",
       "<style>\n",
       "    /* Turns off some styling */\n",
       "    progress {\n",
       "        /* gets rid of default border in Firefox and Opera. */\n",
       "        border: none;\n",
       "        /* Needs to be in here for Safari polyfill so background images work as expected. */\n",
       "        background-size: auto;\n",
       "    }\n",
       "    progress:not([value]), progress:not([value])::-webkit-progress-bar {\n",
       "        background: repeating-linear-gradient(45deg, #7e7e7e, #7e7e7e 10px, #5c5c5c 10px, #5c5c5c 20px);\n",
       "    }\n",
       "    .progress-bar-interrupted, .progress-bar-interrupted::-webkit-progress-bar {\n",
       "        background: #F44336;\n",
       "    }\n",
       "</style>\n"
      ],
      "text/plain": [
       "<IPython.core.display.HTML object>"
      ]
     },
     "metadata": {},
     "output_type": "display_data"
    },
    {
     "data": {
      "text/html": [
       "epoch: 1, train loss: 0.692706, valid loss: 0.701143, correct:  68, best model<p>epoch: 52, train loss: 0.660807, valid loss: 0.665107, correct:  69, best model<p>epoch: 53, train loss: 0.660293, valid loss: 0.664506, correct:  70, best model<p>epoch: 55, train loss: 0.659210, valid loss: 0.663261, correct:  71, best model<p>epoch: 58, train loss: 0.657510, valid loss: 0.661389, correct:  74, best model<p>epoch: 59, train loss: 0.656975, valid loss: 0.660810, correct:  76, best model<p>epoch: 61, train loss: 0.656000, valid loss: 0.659748, correct:  77, best model<p>epoch: 63, train loss: 0.655164, valid loss: 0.658807, correct:  79, best model<p>epoch: 64, train loss: 0.654785, valid loss: 0.658370, correct:  80, best model<p>epoch: 65, train loss: 0.654420, valid loss: 0.657950, correct:  81, best model<p>epoch: 66, train loss: 0.654069, valid loss: 0.657545, correct:  82, best model<p>epoch: 67, train loss: 0.653727, valid loss: 0.657152, correct:  84, best model<p>epoch: 69, train loss: 0.653076, valid loss: 0.656397, correct:  85, best model<p>epoch: 70, train loss: 0.652763, valid loss: 0.656029, correct:  87, best model<p>epoch: 72, train loss: 0.652163, valid loss: 0.655307, correct:  89, best model<p>epoch: 74, train loss: 0.651578, valid loss: 0.654601, correct:  90, best model<p>epoch: 80, train loss: 0.649942, valid loss: 0.652598, correct:  91, best model<p>epoch: 83, train loss: 0.649169, valid loss: 0.651644, correct:  92, best model<p>epoch: 94, train loss: 0.646550, valid loss: 0.648320, correct:  93, best model<p>epoch: 95, train loss: 0.646323, valid loss: 0.648028, correct:  94, best model<p>epoch: 96, train loss: 0.646099, valid loss: 0.647738, correct:  95, best model<p>epoch: 98, train loss: 0.645654, valid loss: 0.647162, correct:  96, best model<p>epoch: 99, train loss: 0.645432, valid loss: 0.646869, correct:  97, best model<p>epoch: 107, train loss: 0.643637, valid loss: 0.644533, correct:  98, best model<p>epoch: 109, train loss: 0.643181, valid loss: 0.643951, correct:  99, best model<p>epoch: 116, train loss: 0.641550, valid loss: 0.641908, correct: 100, best model<p>epoch: 123, train loss: 0.639881, valid loss: 0.639854, correct: 101, best model<p>epoch: 124, train loss: 0.639644, valid loss: 0.639569, correct: 103, best model<p>epoch: 128, train loss: 0.638720, valid loss: 0.638443, correct: 104, best model<p>epoch: 137, train loss: 0.636734, valid loss: 0.636012, correct: 105, best model<p>epoch: 172, train loss: 0.629593, valid loss: 0.627231, correct: 106, best model<p>epoch: 197, train loss: 0.621345, valid loss: 0.618097, correct: 107, best model"
      ],
      "text/plain": [
       "<IPython.core.display.HTML object>"
      ]
     },
     "metadata": {},
     "output_type": "display_data"
    },
    {
     "data": {
      "image/png": "[encoded data removed]",
      "text/plain": [
       "<Figure size 600x400 with 1 Axes>"
      ]
     },
     "metadata": {},
     "output_type": "display_data"
    }
   ],
   "source": [
    "from fastprogress.fastprogress import master_bar, progress_bar\n",
    "from time import sleep\n",
    "import os\n",
    "\n",
    "path_folder = \"data/\"\n",
    "# Si el directorio donde se va a guardar el modelo no existe, se crea\n",
    "if not os.path.isdir(path_folder):\n",
    "    os.mkdir(path_folder)\n",
    "\n",
    "epochs = 5000\n",
    "epochs = 25000\n",
    "mb = master_bar(range(1, epochs+1))\n",
    "train_loss, valid_loss = [], []\n",
    "correct_metric = 0\n",
    "for epoch in mb:\n",
    "    # train loop\n",
    "    model.train()\n",
    "    for (X, y) in progress_bar(train_dl, parent=mb):\n",
    "        # X and y to device\n",
    "        X, y = X.to(device), y.to(device)\n",
    "\n",
    "        # Compute prediction and loss\n",
    "        logits, probs = model(X)\n",
    "        loss = loss_fn(logits, y)\n",
    "        mb.child.comment = f'train loss: {loss.item():>7f}'\n",
    "\n",
    "        # Backpropagation\n",
    "        optimizer.zero_grad()\n",
    "        loss.backward()\n",
    "        optimizer.step()\n",
    "    \n",
    "    # validation loop\n",
    "    num_batches = len(val_dl)\n",
    "    val_loss, correct = 0, 0\n",
    "    model.eval()\n",
    "    with torch.no_grad():\n",
    "        for X, y in progress_bar(val_dl, parent=mb):\n",
    "            # X and y to device\n",
    "            X, y = X.to(device), y.to(device)\n",
    "            \n",
    "            logits, probs = model(X)\n",
    "            val_loss += loss_fn(logits, y).item()\n",
    "            correct += (probs.round() == y).type(torch.float).sum().item()\n",
    "            mb.child.comment = f'epoch: {epoch}, val loss: {val_loss:>7f}, correct: {int(correct):03d}'\n",
    "\n",
    "    train_loss.append(loss.item())\n",
    "    valid_loss.append(val_loss)\n",
    "    mb.main_bar.comment = f'epoch: {epoch}/{epochs}, train loss: {train_loss[-1]:>7f}, valid loss: {valid_loss[-1]:>7f}'\n",
    "    if int(correct) > correct_metric:\n",
    "        best_model_name = f'best_model_epoch_{epoch}.zip'\n",
    "        model_path = path_folder + best_model_name\n",
    "        correct_metric = int(correct)\n",
    "        # Remove the previous best model\n",
    "        for f in os.listdir(path_folder):\n",
    "            os.remove(os.path.join(path_folder, f))\n",
    "        # Save model\n",
    "        torch.jit.save(torch.jit.script(model), model_path)\n",
    "        mb.write(f'epoch: {epoch}, train loss: {train_loss[-1]:>7f}, valid loss: {valid_loss[-1]:>7f}, correct: {int(correct):>3d}, best model')\n",
    "\n",
    "    plot_loss_update(epoch, epochs, mb, train_loss, valid_loss)"
   ]
  },
  {
   "cell_type": "markdown",
   "metadata": {},
   "source": [
    "Como se puede ver nos hemos quedado con el mejor modelo de una de las épocas del inicio"
   ]
  }
 ],
 "metadata": {
  "kernelspec": {
   "display_name": "Python 3.8.13 ('cursoPytorch')",
   "language": "python",
   "name": "python3"
  },
  "language_info": {
   "codemirror_mode": {
    "name": "ipython",
    "version": 3
   },
   "file_extension": ".py",
   "mimetype": "text/x-python",
   "name": "python",
   "nbconvert_exporter": "python",
   "pygments_lexer": "ipython3",
   "version": "3.8.17"
  },
  "orig_nbformat": 4,
  "vscode": {
   "interpreter": {
    "hash": "d5bc1ee3c77952ec27629ca4df39b2d196e4e16f06fca6055137af5fbf570f5e"
   }
  }
 },
 "nbformat": 4,
 "nbformat_minor": 2
}
