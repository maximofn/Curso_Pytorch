{
 "cells": [
  {
   "cell_type": "markdown",
   "metadata": {},
   "source": [
    "# Funciones de pérdida"
   ]
  },
  {
   "cell_type": "markdown",
   "metadata": {},
   "source": [
    "Aunque hay muchas más, vamos a ver las funciones de pérdida incluidas dentro de Pytorch"
   ]
  },
  {
   "cell_type": "markdown",
   "metadata": {},
   "source": [
    "## L1"
   ]
  },
  {
   "cell_type": "markdown",
   "metadata": {},
   "source": [
    "```python\n",
    "torch.nn.L1loss(size_average=None, reduce=None, reduction='mean')\n",
    "```\n",
    "\n",
    "Calcula el error absoluto\n",
    "\n",
    "$ l\\left(x,y\\right) = \\left[l_1,...,l_N\\right]^T $, donde $l = \\left|x_n-y_n\\right|$\n",
    "\n",
    "`reduction` usa por defecto ``'mean'``, pero puede también usar ``'sum'`` y ``'none'``. Los parámetros ``size_average`` y ``reduce`` están obsoletos y Pytorch recomienda no usarlos y solo usar ``reduction``\n",
    "\n",
    "Cuando en ``reduction`` se usa ``'mean'`` se hace una media de todos los errores, cuando se usa ``'sum'`` se hace la suma de todos los errores y cuando se usa ``'none'`` no se hace nada\n",
    "\n",
    "Vamos a verlo"
   ]
  },
  {
   "cell_type": "code",
   "execution_count": 1,
   "metadata": {},
   "outputs": [],
   "source": [
    "import torch"
   ]
  },
  {
   "cell_type": "code",
   "execution_count": 2,
   "metadata": {},
   "outputs": [
    {
     "data": {
      "text/plain": [
       "tensor([[0.1351, 0.0239, 0.1770, 0.1488, 0.9657],\n",
       "        [0.0284, 0.5864, 0.5616, 0.1387, 0.0609],\n",
       "        [0.7296, 0.1779, 0.4360, 0.4632, 0.5106]], requires_grad=True)"
      ]
     },
     "execution_count": 2,
     "metadata": {},
     "output_type": "execute_result"
    }
   ],
   "source": [
    "input = torch.rand(3, 5, requires_grad=True)\n",
    "input"
   ]
  },
  {
   "cell_type": "code",
   "execution_count": 3,
   "metadata": {},
   "outputs": [
    {
     "data": {
      "text/plain": [
       "tensor([[0.1807, 0.1055, 0.5387, 0.6478, 0.5624],\n",
       "        [0.2496, 0.3099, 0.8192, 0.1058, 0.4319],\n",
       "        [0.5870, 0.0883, 0.3144, 0.0442, 0.3914]])"
      ]
     },
     "execution_count": 3,
     "metadata": {},
     "output_type": "execute_result"
    }
   ],
   "source": [
    "target = torch.rand(3, 5)\n",
    "target"
   ]
  },
  {
   "cell_type": "code",
   "execution_count": 4,
   "metadata": {},
   "outputs": [
    {
     "data": {
      "text/plain": [
       "(tensor(0.2295, grad_fn=<MeanBackward0>),\n",
       " tensor(0.2295, grad_fn=<L1LossBackward>))"
      ]
     },
     "execution_count": 4,
     "metadata": {},
     "output_type": "execute_result"
    }
   ],
   "source": [
    "loss = torch.nn.L1Loss(size_average=None, reduce=None, reduction='mean') # Predeterminado\n",
    "\n",
    "loss_output = loss(input, target)\n",
    "output = abs(input - target).mean()\n",
    "\n",
    "output, loss_output"
   ]
  },
  {
   "cell_type": "code",
   "execution_count": 8,
   "metadata": {},
   "outputs": [
    {
     "data": {
      "text/plain": [
       "(tensor(3.4423, grad_fn=<SumBackward0>),\n",
       " tensor(3.4423, grad_fn=<L1LossBackward>))"
      ]
     },
     "execution_count": 8,
     "metadata": {},
     "output_type": "execute_result"
    }
   ],
   "source": [
    "loss = torch.nn.L1Loss(size_average=None, reduce=None, reduction='sum')\n",
    "\n",
    "loss_output = loss(input, target)\n",
    "output = abs(input - target).sum()\n",
    "\n",
    "output, loss_output"
   ]
  },
  {
   "cell_type": "code",
   "execution_count": 6,
   "metadata": {},
   "outputs": [
    {
     "data": {
      "text/plain": [
       "(tensor([[0.0456, 0.0816, 0.3617, 0.4990, 0.4033],\n",
       "         [0.2212, 0.2765, 0.2576, 0.0329, 0.3710],\n",
       "         [0.1426, 0.0896, 0.1216, 0.4190, 0.1193]], grad_fn=<AbsBackward>),\n",
       " tensor([[0.0456, 0.0816, 0.3617, 0.4990, 0.4033],\n",
       "         [0.2212, 0.2765, 0.2576, 0.0329, 0.3710],\n",
       "         [0.1426, 0.0896, 0.1216, 0.4190, 0.1193]], grad_fn=<L1LossBackward>))"
      ]
     },
     "execution_count": 6,
     "metadata": {},
     "output_type": "execute_result"
    }
   ],
   "source": [
    "loss = torch.nn.L1Loss(size_average=None, reduce=None, reduction='none')\n",
    "\n",
    "loss_output = loss(input, target)\n",
    "output = abs(input - target)\n",
    "\n",
    "output, loss_output"
   ]
  }
 ],
 "metadata": {
  "interpreter": {
   "hash": "2da05e9852e3725e6cd29dd2f3d6ebaa07dda6697715ddc2b5ea77aa5959f695"
  },
  "kernelspec": {
   "display_name": "Python 3.8.13 ('base')",
   "language": "python",
   "name": "python3"
  },
  "language_info": {
   "codemirror_mode": {
    "name": "ipython",
    "version": 3
   },
   "file_extension": ".py",
   "mimetype": "text/x-python",
   "name": "python",
   "nbconvert_exporter": "python",
   "pygments_lexer": "ipython3",
   "version": "3.8.13"
  },
  "orig_nbformat": 4
 },
 "nbformat": 4,
 "nbformat_minor": 2
}
