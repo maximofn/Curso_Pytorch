{
 "cells": [
  {
   "cell_type": "markdown",
   "metadata": {},
   "source": [
    "# Métricas"
   ]
  },
  {
   "cell_type": "markdown",
   "metadata": {},
   "source": [
    "Como hemos explicado, durante el entrenamiento necesitamos una función para saber cómo de bien o mal lo está haciendo nuestra red y así poder entrenarla mediante el algoritmo del descenso del gradiente. Pero estas son funciones para nuestra red, que a nosotros nos puede llegar a costar entender, por lo tanto necesitamos métricas para nosotoros, para que podamos valorar cómo de bien lo está haciendo nuestro modelo"
   ]
  },
  {
   "cell_type": "markdown",
   "metadata": {},
   "source": [
    "## Métricas para probemas de regresión"
   ]
  },
  {
   "cell_type": "markdown",
   "metadata": {},
   "source": [
    "En caso de los problemas de regresión podemos usar el error cuadrático medio (MSE - Mean Square Error) o el error absoluto medio o L1 (MAE - Mean Absolute Error), que como ya las hemos visto en el tema de las funciones de pérdida no las vamos a volver a ver"
   ]
  },
  {
   "cell_type": "markdown",
   "metadata": {},
   "source": [
    "## Métricas para problemas de clasificación"
   ]
  },
  {
   "cell_type": "markdown",
   "metadata": {},
   "source": [
    "Para los problemas de clasificación hemos visto la entropía cruzada binaria (BCE - Binary Cross Entropy) como función de pérdida, que no nos aporta mucha información. Por lo que aquí si necesitamos funciones para medir lo bien o mal que lo está haciendo nuestro modelo"
   ]
  },
  {
   "cell_type": "markdown",
   "metadata": {},
   "source": [
    "### Matriz de confusión"
   ]
  },
  {
   "cell_type": "markdown",
   "metadata": {},
   "source": [
    "Supongamos que tenemos una clasificador que tiene que clasificar perros, gatos y pájaros y obtenemos la siguiente tabla de resultados\n",
    "\n",
    "<table>\n",
    "    <thead>\n",
    "        <tr>\n",
    "            <th></th>\n",
    "            <th></th>\n",
    "            <th colspan=3><center>Real</center></th>\n",
    "        </tr>\n",
    "        <tr>\n",
    "            <th></th>\n",
    "            <th></th>\n",
    "            <th><center>Perro</center></th>\n",
    "            <th><center>Gato</center></th>\n",
    "            <th><center>Pájaro</center></th>\n",
    "        </tr>\n",
    "    </thead>\n",
    "    <tbody>\n",
    "        <tr>\n",
    "            <th rowspan=3>Predicho</th>\n",
    "            <th>Perro</th>\n",
    "            <td><center>112</center></td>\n",
    "            <td><center>28</center></td>\n",
    "            <td><center>19</center></td>\n",
    "        </tr>\n",
    "        <tr>\n",
    "            <th>Gato</th>\n",
    "            <td><center>21</center></td>\n",
    "            <td><center>134</center></td>\n",
    "            <td><center>07</center></td>\n",
    "        </tr>\n",
    "        <tr>\n",
    "            <th>Pájaro</th>\n",
    "            <td><center>14</center></td>\n",
    "            <td><center>25</center></td>\n",
    "            <td><center>103</center></td>\n",
    "        </tr>\n",
    "    </tbody>\n",
    "</table>"
   ]
  },
  {
   "cell_type": "markdown",
   "metadata": {},
   "source": [
    "En est"
   ]
  },
  {
   "cell_type": "markdown",
   "metadata": {},
   "source": []
  },
  {
   "cell_type": "code",
   "execution_count": 2,
   "metadata": {},
   "outputs": [],
   "source": [
    "import ignite"
   ]
  }
 ],
 "metadata": {
  "kernelspec": {
   "display_name": "Python 3.8.13 ('base')",
   "language": "python",
   "name": "python3"
  },
  "language_info": {
   "codemirror_mode": {
    "name": "ipython",
    "version": 3
   },
   "file_extension": ".py",
   "mimetype": "text/x-python",
   "name": "python",
   "nbconvert_exporter": "python",
   "pygments_lexer": "ipython3",
   "version": "3.8.13"
  },
  "orig_nbformat": 4,
  "vscode": {
   "interpreter": {
    "hash": "2da05e9852e3725e6cd29dd2f3d6ebaa07dda6697715ddc2b5ea77aa5959f695"
   }
  }
 },
 "nbformat": 4,
 "nbformat_minor": 2
}
