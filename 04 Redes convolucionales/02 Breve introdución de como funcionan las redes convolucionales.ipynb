{
 "cells": [
  {
   "cell_type": "markdown",
   "metadata": {},
   "source": [
    "# Breve instroducción de cómo funcionan las redes convolucionales"
   ]
  },
  {
   "cell_type": "markdown",
   "metadata": {},
   "source": [
    "## Enfoque clásico de la visión por computador"
   ]
  },
  {
   "cell_type": "markdown",
   "metadata": {},
   "source": [
    "Para entender cómo funcionan las redes convolucionales, primero hay que explicar cómo se hacían los algoritmos de visión por computador antes de la llegada del deep learning"
   ]
  },
  {
   "cell_type": "markdown",
   "metadata": {},
   "source": [
    "Los algoritmos clásicos de visión por computador estaban basados en filtros. Ya hemos visto que una imagen no es nada más que una matriz de números, por lo que aplicarle un filtro a una imagen supone multiplicar a la matriz correspondiente a la imagen por otra matriz, de manera que como resultado se obtenga otra imagen con el filtro que deseamos\n",
    "\n",
    "<div style=\"text-align:center;\">\n",
    "  <img src=\"Imagenes/filter_example.webp\" alt=\"Ejemplo de filtro\"> <!-- style=\"width:425px;height:626px;\"> -->\n",
    "</div>\n",
    "\n",
    "Como se puede ver en esta imagen, solo con multiplicar a la imagen de la izquierda con el filtro mostrado en la matriz se obtiene la imagen de la derecha. En realidad, ese filtro lo que ha hecho es solamente quitar la componente roja de la imagen"
   ]
  },
  {
   "cell_type": "markdown",
   "metadata": {},
   "source": [
    "Existen muchos tipos de filtros, para obtener lineas verticales, lineas horizontales, obtener bordes, etc. De modo que antes lo que se hacía para el procesamiento de imágenes era aplicar varios filtros a la imagen en función de lo que se quería conseguir. Lo que cambia de unos a otros son los números que hay dentro de la matriz del filtro\n",
    "\n",
    "Esto implicaba que era necesario tener a una persona experta en filtros que se conocía muchos tipos de filtros distintos y que hacía pruebas aplicando unos y otros hasta que obtenía resultados que se consideraban buenos"
   ]
  },
  {
   "cell_type": "markdown",
   "metadata": {},
   "source": [
    "Esta manera de trabajar tenía varios problemas\n",
    " * Era necesaria una o varias personas expertas en visión por computador, que conociera muchos tipos de filtros\n",
    " * El proceso de conseguir un resultado aceptable era muy lento, ya que consistía en mucha prueba y error y en la pericia del experto probando y modificando filtros\n",
    " * Los resultados no eran muy buenos\n",
    " * Además no se conseguía generalizar mucho, ya que se probaban con algunas imágenes, pero luego el trabajo obtenido podía no funcionar bien en imágenes nuevas"
   ]
  },
  {
   "cell_type": "markdown",
   "metadata": {},
   "source": [
    "## Enfoque moderno, uso del deep learning y redes convolucionales"
   ]
  },
  {
   "cell_type": "markdown",
   "metadata": {},
   "source": [
    "Con la llegada de las redes neuronales, se han mejorado mucho los resultados obtenidos en los algoritmos de visión por computador. Veamos por qué"
   ]
  },
  {
   "cell_type": "markdown",
   "metadata": {},
   "source": [
    "Ahora lo que se hace es crear redes con muchos filtros, sin embargo los números de las matrices que corresponden a esos filtros se inicializan al azahar. De manera que lo que se hace es introducir imágenes a las redes neuronales junto con sus etiquetas. Y durante el entrenamiento que sea la red la que elija que valores poner en las matrices de cada filtro\n",
    "\n",
    "De esta manera teniendo una gran cantidad de imágenes etiquetadas podemos obtener redes neuronales que obtienen resultados asombrosos"
   ]
  },
  {
   "cell_type": "markdown",
   "metadata": {},
   "source": [
    "Las operaciones que se hacen entre las imágenes y los filtros son convoluciones, que veremos más adelante, pero esta es la razón por la que a este tipo de redes neuronales se les llama redes neuronales convolucionales o convolutional neural networks (`CNN`s)\n",
    "\n",
    "<div style=\"text-align:center;\">\n",
    "  <img src=\"Imagenes/CNN.jpeg\" alt=\"CNN\"> <!-- style=\"width:425px;height:626px;\"> -->\n",
    "</div>"
   ]
  }
 ],
 "metadata": {
  "kernelspec": {
   "display_name": "Python 3.8.10 64-bit",
   "language": "python",
   "name": "python3"
  },
  "language_info": {
   "name": "python",
   "version": "3.8.17"
  },
  "orig_nbformat": 4,
  "vscode": {
   "interpreter": {
    "hash": "916dbcbb3f70747c44a77c7bcd40155683ae19c65e1c03b4aa3499c5328201f1"
   }
  }
 },
 "nbformat": 4,
 "nbformat_minor": 2
}
