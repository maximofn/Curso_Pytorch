{
 "cells": [
  {
   "cell_type": "markdown",
   "metadata": {},
   "source": [
    "# Convoluciones"
   ]
  },
  {
   "cell_type": "markdown",
   "metadata": {},
   "source": [
    "Hemos visto que las redes neuronales convolucionales se basan en las convoluciones, así que vamos a ver en qué consisten\n",
    "\n",
    " > Nota: En realidad no se hace una convolución, ya que una convolución es una operación matemática dentro del procesamiento de señales, en la que el filtro se invierte, se desplaza sobre la señal y se realiza la integral. Aquí no hacemos nada de eso, sino que la operación matemática que en realidad se emplea es la correlación cruzada. Pero se ha llamado así desde el inicio, y por convenio se sigue llamando así"
   ]
  },
  {
   "cell_type": "markdown",
   "metadata": {},
   "source": [
    "Este es un tipo de operación entre dos matrices, viene bien conocerlo para entender cómo funcionan las redes convolucionales. Pero no es algo que vayamos a hacer nosotros, todas las operaciones matemáticas las hará Pytorch por nosotros, por lo que si no las consigues entender, o no quieres aprenderlas no te preocupes, ya que no es algo indispensable. Pero si viene bien saber cómo funcionan, al menos tener una idea."
   ]
  },
  {
   "cell_type": "markdown",
   "metadata": {},
   "source": [
    "## Cómo se calculan las convoluciones"
   ]
  },
  {
   "cell_type": "markdown",
   "metadata": {},
   "source": [
    "La convolución consiste en la suma del producto escalar deslizante entre dos matrices. Es decir, se coloca el filtro sobre el inicio de la matriz, se realiza el producto escalar de cada uno de los componentes que coinciden de las dos matrices, se suman todos los productos escalares y el resultado supone el valor del inicio de la matriz resultante. Se desplaza el filtro y se vuelve a repetir la operación.\n",
    "\n",
    "Sé que esta explicación no aclara nada, así que lo mejor es verlo gráficamente"
   ]
  },
  {
   "cell_type": "markdown",
   "metadata": {},
   "source": [
    "En el siguiente gif se puede ver en qué consiste la convolución entre dos matrices\n",
    "\n",
    "![convolution](Imagenes/Animaci%C3%B3n%20convoluci%C3%B3n.gif)"
   ]
  },
  {
   "cell_type": "markdown",
   "metadata": {},
   "source": [
    "## Convoluciones en Pytorch"
   ]
  },
  {
   "cell_type": "markdown",
   "metadata": {},
   "source": [
    "Este filtro que hemos visto en realidad consiste en un filtro de detección de bordes verticales, así que vamos a verlo cómo actúa sobre una imagen real. Vamos a verlo sobre una imagen de un código QR"
   ]
  },
  {
   "cell_type": "markdown",
   "metadata": {},
   "source": [
    "Importamos la imagen"
   ]
  },
  {
   "cell_type": "code",
   "execution_count": 9,
   "metadata": {},
   "outputs": [
    {
     "data": {
      "image/png": "[encoded data removed]",
      "text/plain": [
       "<Figure size 720x720 with 1 Axes>"
      ]
     },
     "metadata": {
      "needs_background": "light"
     },
     "output_type": "display_data"
    }
   ],
   "source": [
    "from PIL import Image\n",
    "import matplotlib.pyplot as plt\n",
    "\n",
    "img = Image.open('Imagenes/qr.png')\n",
    "fig = plt.figure(figsize=(10, 10))\n",
    "plt.imshow(img, cmap='gray')\n",
    "plt.show()"
   ]
  },
  {
   "cell_type": "markdown",
   "metadata": {},
   "source": [
    "La convertimos a un tensor"
   ]
  },
  {
   "cell_type": "code",
   "execution_count": 2,
   "metadata": {},
   "outputs": [
    {
     "data": {
      "text/plain": [
       "torch.Size([1600, 1600])"
      ]
     },
     "execution_count": 2,
     "metadata": {},
     "output_type": "execute_result"
    }
   ],
   "source": [
    "import numpy as np\n",
    "import torch\n",
    "\n",
    "array = np.array(img)\n",
    "tensor = torch.from_numpy(array)\n",
    "tensor.shape"
   ]
  },
  {
   "cell_type": "markdown",
   "metadata": {},
   "source": [
    "Vemos que la imagen corresponde a un tensor de 1600x1600 píxeles, solo tiene un canal, es decir, es una imagen en blanco y negro. Para poder usar la convolución de Pytorch, necesitamos añadirle 2 dimensiones, una correspondiente al batch size y otra correspondiente al número de canales"
   ]
  },
  {
   "cell_type": "code",
   "execution_count": 3,
   "metadata": {},
   "outputs": [
    {
     "data": {
      "text/plain": [
       "(torch.Size([1, 1, 1600, 1600]), torch.float32)"
      ]
     },
     "execution_count": 3,
     "metadata": {},
     "output_type": "execute_result"
    }
   ],
   "source": [
    "tensor = tensor.unsqueeze(0).unsqueeze(0).type(torch.float32)\n",
    "tensor.shape, tensor.dtype"
   ]
  },
  {
   "cell_type": "markdown",
   "metadata": {},
   "source": [
    "Definimos el filtro que hemos visto en el ejemplo. Al igual que antes, le añadimos dos dimensiones, una para el batch size y otra para el número de canales"
   ]
  },
  {
   "cell_type": "code",
   "execution_count": 4,
   "metadata": {},
   "outputs": [
    {
     "name": "stdout",
     "output_type": "stream",
     "text": [
      "tensor([[ 1,  0, -1],\n",
      "        [ 1,  0, -1],\n",
      "        [ 1,  0, -1]])\n"
     ]
    },
    {
     "data": {
      "text/plain": [
       "(torch.Size([1, 1, 3, 3]), torch.float32)"
      ]
     },
     "execution_count": 4,
     "metadata": {},
     "output_type": "execute_result"
    }
   ],
   "source": [
    "filter = torch.tensor([[1, 0, -1], [1, 0, -1], [1, 0, -1]])\n",
    "print(filter)\n",
    "filter = filter.unsqueeze(0).unsqueeze(0).type(torch.float32)\n",
    "filter.shape, filter.dtype"
   ]
  },
  {
   "cell_type": "markdown",
   "metadata": {},
   "source": [
    "Realizamos la convolución"
   ]
  },
  {
   "cell_type": "code",
   "execution_count": 16,
   "metadata": {},
   "outputs": [
    {
     "data": {
      "text/plain": [
       "torch.Size([1, 1, 1598, 1598])"
      ]
     },
     "execution_count": 16,
     "metadata": {},
     "output_type": "execute_result"
    }
   ],
   "source": [
    "import torch.nn.functional as F\n",
    "\n",
    "tensor_filtered = F.conv2d(tensor, filter)\n",
    "tensor_filtered.shape"
   ]
  },
  {
   "cell_type": "markdown",
   "metadata": {},
   "source": [
    "Quitamos las dimensiones correspondientes al batch size y al número de canales"
   ]
  },
  {
   "cell_type": "code",
   "execution_count": 17,
   "metadata": {},
   "outputs": [
    {
     "data": {
      "text/plain": [
       "torch.Size([1598, 1598])"
      ]
     },
     "execution_count": 17,
     "metadata": {},
     "output_type": "execute_result"
    }
   ],
   "source": [
    "tensor_filtered = tensor_filtered.squeeze()\n",
    "tensor_filtered.shape"
   ]
  },
  {
   "cell_type": "markdown",
   "metadata": {},
   "source": [
    "Vemos que la dimensión de la imagen filtrada ya no es de 1600x1600 píxeles, sino que es de 1598x1598 píxeles. Luego explicaremos esto"
   ]
  },
  {
   "cell_type": "markdown",
   "metadata": {},
   "source": [
    "Convertimos el tensor a una imagen"
   ]
  },
  {
   "cell_type": "code",
   "execution_count": 18,
   "metadata": {},
   "outputs": [
    {
     "data": {
      "image/png": "[encoded data removed]",
      "text/plain": [
       "<Figure size 720x720 with 1 Axes>"
      ]
     },
     "metadata": {
      "needs_background": "light"
     },
     "output_type": "display_data"
    }
   ],
   "source": [
    "import torchvision.transforms as T\n",
    "\n",
    "img_filtered = T.ToPILImage()(tensor_filtered)\n",
    "fig = plt.figure(figsize=(10, 10))\n",
    "plt.imshow(img_filtered, cmap='gray')\n",
    "plt.show()"
   ]
  },
  {
   "cell_type": "markdown",
   "metadata": {},
   "source": [
    "Representamos la imagen original y la filtrada"
   ]
  },
  {
   "cell_type": "code",
   "execution_count": 15,
   "metadata": {},
   "outputs": [
    {
     "data": {
      "image/png": "[encoded data removed]",
      "text/plain": [
       "<Figure size 1440x1440 with 2 Axes>"
      ]
     },
     "metadata": {
      "needs_background": "light"
     },
     "output_type": "display_data"
    }
   ],
   "source": [
    "fig, axs = plt.subplots(1, 2, figsize=(20, 20))\n",
    "plt.subplot(1, 2, 1)\n",
    "plt.imshow(img, cmap='gray')\n",
    "plt.subplot(1, 2, 2)\n",
    "plt.imshow(img_filtered, cmap='gray')\n",
    "plt.show()"
   ]
  },
  {
   "cell_type": "markdown",
   "metadata": {},
   "source": [
    "Como habíamos dicho, este filtro detecta los bordes verticales, pero los detecta solo cuando se produce una transición de blanco a negro"
   ]
  },
  {
   "cell_type": "markdown",
   "metadata": {},
   "source": [
    "## Cambio de tamaño de imagen filtrada"
   ]
  },
  {
   "cell_type": "markdown",
   "metadata": {},
   "source": [
    "En el primer ejemplo teníamos una imagen de 6x6 píxeles y un filtro de 3x3 píxeles, con lo que hemos acabado con una imagen de 4x4 píxeles, eso es porque el filtro solo se va a poder colocar sobre 4 posiciones distintas de la imagen a lo largo y a lo alto\n",
    "\n",
    "Por tanto si tenemos una imagen de `HxW` y un filtro de `nxm` la imagen resultante va a ser de `(H-n+1)x(W-m+1)`"
   ]
  }
 ],
 "metadata": {
  "kernelspec": {
   "display_name": "Python 3.8.13 ('cursoPytorch')",
   "language": "python",
   "name": "python3"
  },
  "language_info": {
   "codemirror_mode": {
    "name": "ipython",
    "version": 3
   },
   "file_extension": ".py",
   "mimetype": "text/x-python",
   "name": "python",
   "nbconvert_exporter": "python",
   "pygments_lexer": "ipython3",
   "version": "3.8.13"
  },
  "orig_nbformat": 4,
  "vscode": {
   "interpreter": {
    "hash": "d5bc1ee3c77952ec27629ca4df39b2d196e4e16f06fca6055137af5fbf570f5e"
   }
  }
 },
 "nbformat": 4,
 "nbformat_minor": 2
}
