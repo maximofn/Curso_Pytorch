{
 "cells": [
  {
   "cell_type": "markdown",
   "metadata": {},
   "source": [
    "# Padding"
   ]
  },
  {
   "cell_type": "markdown",
   "metadata": {},
   "source": [
    "Si nos fijamos, uno de los problemas de hacer las convoluciones como hemos explicado en el tema anterior, es que por ejemplo al primer pixel de la imagen solo se le pasa el filtro una vez\n",
    "\n",
    "![primer pixel](Imagenes/Padding01.png)\n",
    "\n",
    "Mientras que a uno de los píxeles centrales se le pasa el filtro hasta 9 veces\n",
    "\n",
    "![pixel central](Imagenes/Padding02.png)\n",
    "\n",
    "Esto va a hacer que la información que aporta el primer pixel tenga menos peso que la del pixel central"
   ]
  },
  {
   "cell_type": "markdown",
   "metadata": {},
   "source": [
    "Para evitar esto, se añade un padding (relleno) a la imagen, de esta manera se minimiza el problema de la poca información que aportan los píxeles de los bordes.\n",
    "\n",
    "Por otro lado también hace que la imagen tras aplicar el filtro pueda tener el mismo tamaño que la imagen original\n",
    "\n",
    "![Padding](Imagenes/Padding03.png)"
   ]
  },
  {
   "cell_type": "markdown",
   "metadata": {},
   "source": [
    "Para que la imagen filtrada tenga el mismo tamaño que la imagen original necesitamos que se cumpla que\n",
    "\n",
    "$$H-n+1+2p_x = H$$\n",
    "$$W-m+1+2p_y = W$$\n",
    "\n",
    "Resolviendo esto nos queda\n",
    "\n",
    "$$p_x = \\frac{n-1}{2}$$\n",
    "$$p_y = \\frac{m-1}{2}$$\n",
    "\n",
    "En nuestro caso, como el filtro es de 3x3, el padding tiene que ser $p_x = 1$ y $p_y = 1$"
   ]
  },
  {
   "cell_type": "markdown",
   "metadata": {},
   "source": [
    "Por convenio se suelen rellenar los píxeles de padding con 0s\n",
    "\n",
    "![relleno padding](Imagenes/Padding04.png)"
   ]
  },
  {
   "cell_type": "markdown",
   "metadata": {},
   "source": [
    "Como hemos dicho, el tamaño del padding tiene que ser \n",
    "\n",
    "$$p_x = \\frac{n-1}{2}$$\n",
    "$$p_y = \\frac{m-1}{2}$$\n",
    "\n",
    "Esto hace que sea conveniente usar filtros de tamaño impar, para así tener un tamaño de padding entero. Además al tener filtros de tamaño impar, podemos determinar la posición del filtro como la posición del pixel central del filtro\n",
    "\n",
    "![Posición central del filtro](Imagenes/Padding05.png)"
   ]
  }
 ],
 "metadata": {
  "language_info": {
   "name": "python"
  },
  "orig_nbformat": 4
 },
 "nbformat": 4,
 "nbformat_minor": 2
}
