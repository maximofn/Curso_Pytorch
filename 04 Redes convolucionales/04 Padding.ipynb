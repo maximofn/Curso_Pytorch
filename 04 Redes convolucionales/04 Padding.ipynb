{
 "cells": [
  {
   "cell_type": "markdown",
   "metadata": {},
   "source": [
    "# Padding"
   ]
  },
  {
   "cell_type": "markdown",
   "metadata": {},
   "source": [
    "Si nos fijamos, uno de los problemas de hacer las convoluciones como hemos explicado en el tema anterior, es que por ejemplo al primer pixel de la imagen solo se le pasa el filtro una vez\n",
    "\n",
    "<div style=\"text-align:center;\">\n",
    "  <img src=\"Imagenes/Padding01.png\" alt=\"primer pixel\"> <!-- style=\"width:425px;height:626px;\"> -->\n",
    "</div>\n",
    "\n",
    "Mientras que a uno de los píxeles centrales se le pasa el filtro hasta 9 veces\n",
    "\n",
    "<div style=\"text-align:center;\">\n",
    "  <img src=\"Imagenes/Padding02.png\" alt=\"pixel central\"> <!-- style=\"width:425px;height:626px;\"> -->\n",
    "</div>\n",
    "\n",
    "Esto va a hacer que la información que aporta el primer pixel tenga menos peso que la del pixel central"
   ]
  },
  {
   "cell_type": "markdown",
   "metadata": {},
   "source": [
    "Para evitar esto, se añade un padding (relleno) a la imagen, de esta manera se minimiza el problema de la poca información que aportan los píxeles de los bordes.\n",
    "\n",
    "Por otro lado también hace que la imagen tras aplicar el filtro pueda tener el mismo tamaño que la imagen original\n",
    "\n",
    "<div style=\"text-align:center;\">\n",
    "  <img src=\"Imagenes/Padding03.png\" alt=\"Padding\"> <!-- style=\"width:425px;height:626px;\"> -->\n",
    "</div>"
   ]
  },
  {
   "cell_type": "markdown",
   "metadata": {},
   "source": [
    "Para que la imagen filtrada tenga el mismo tamaño que la imagen original necesitamos que se cumpla que\n",
    "\n",
    "$$H-n+1+2p_x = H$$\n",
    "$$W-m+1+2p_y = W$$\n",
    "\n",
    "Resolviendo esto nos queda\n",
    "\n",
    "$$p_x = \\frac{n-1}{2}$$\n",
    "$$p_y = \\frac{m-1}{2}$$\n",
    "\n",
    "En nuestro caso, como el filtro es de 3x3, el padding tiene que ser $p_x = 1$ y $p_y = 1$"
   ]
  },
  {
   "cell_type": "markdown",
   "metadata": {},
   "source": [
    "Por convenio se suelen rellenar los píxeles de padding con 0s\n",
    "\n",
    "<div style=\"text-align:center;\">\n",
    "  <img src=\"Imagenes/Padding04.png\" alt=\"relleno padding\"> <!-- style=\"width:425px;height:626px;\"> -->\n",
    "</div>"
   ]
  },
  {
   "cell_type": "markdown",
   "metadata": {},
   "source": [
    "Como hemos dicho, el tamaño del padding tiene que ser \n",
    "\n",
    "$$p_x = \\frac{n-1}{2}$$\n",
    "$$p_y = \\frac{m-1}{2}$$\n",
    "\n",
    "Esto hace que sea conveniente usar filtros de tamaño impar, para así tener un tamaño de padding entero. Además al tener filtros de tamaño impar, podemos determinar la posición del filtro como la posición del pixel central del filtro\n",
    "\n",
    "<div style=\"text-align:center;\">\n",
    "  <img src=\"Imagenes/Padding05.png\" alt=\"Posición central del filtro\"> <!-- style=\"width:425px;height:626px;\"> -->\n",
    "</div>"
   ]
  },
  {
   "cell_type": "markdown",
   "metadata": {},
   "source": [
    "## Padding en Pytorch"
   ]
  },
  {
   "cell_type": "markdown",
   "metadata": {},
   "source": [
    "Para añadir el padding en Pytorch solo hace falta indicar el valor de padding que queremos mediante el parámetro `padding` de la función `conv2d` que hemos visto en el cuaderno anterior. Vamos a verlo con el mismo ejemplo de antes"
   ]
  },
  {
   "cell_type": "code",
   "execution_count": 1,
   "metadata": {},
   "outputs": [
    {
     "data": {
      "image/png": "[encoded data removed]",
      "text/plain": [
       "<Figure size 1000x1000 with 1 Axes>"
      ]
     },
     "metadata": {},
     "output_type": "display_data"
    }
   ],
   "source": [
    "from PIL import Image\n",
    "import matplotlib.pyplot as plt\n",
    "\n",
    "img = Image.open('Imagenes/qr.png')\n",
    "fig = plt.figure(figsize=(10, 10))\n",
    "plt.imshow(img, cmap='gray')\n",
    "plt.show()"
   ]
  },
  {
   "cell_type": "markdown",
   "metadata": {},
   "source": [
    "Convertimos la imagen a un tensor"
   ]
  },
  {
   "cell_type": "code",
   "execution_count": 2,
   "metadata": {},
   "outputs": [
    {
     "data": {
      "text/plain": [
       "torch.Size([1600, 1600])"
      ]
     },
     "execution_count": 2,
     "metadata": {},
     "output_type": "execute_result"
    }
   ],
   "source": [
    "import numpy as np\n",
    "import torch\n",
    "\n",
    "array = np.array(img)\n",
    "tensor = torch.from_numpy(array)\n",
    "tensor.shape"
   ]
  },
  {
   "cell_type": "markdown",
   "metadata": {},
   "source": [
    "Añadimos el batch size y el número de canales"
   ]
  },
  {
   "cell_type": "code",
   "execution_count": 3,
   "metadata": {},
   "outputs": [
    {
     "data": {
      "text/plain": [
       "(torch.Size([1, 1, 1600, 1600]), torch.float32)"
      ]
     },
     "execution_count": 3,
     "metadata": {},
     "output_type": "execute_result"
    }
   ],
   "source": [
    "tensor = tensor.unsqueeze(0).unsqueeze(0).type(torch.float32)\n",
    "tensor.shape, tensor.dtype"
   ]
  },
  {
   "cell_type": "markdown",
   "metadata": {},
   "source": [
    "Definimos el kernell"
   ]
  },
  {
   "cell_type": "code",
   "execution_count": 4,
   "metadata": {},
   "outputs": [
    {
     "name": "stdout",
     "output_type": "stream",
     "text": [
      "tensor([[ 1,  0, -1],\n",
      "        [ 1,  0, -1],\n",
      "        [ 1,  0, -1]])\n"
     ]
    },
    {
     "data": {
      "text/plain": [
       "(torch.Size([1, 1, 3, 3]), torch.float32)"
      ]
     },
     "execution_count": 4,
     "metadata": {},
     "output_type": "execute_result"
    }
   ],
   "source": [
    "filter = torch.tensor([[1, 0, -1], [1, 0, -1], [1, 0, -1]])\n",
    "print(filter)\n",
    "filter = filter.unsqueeze(0).unsqueeze(0).type(torch.float32)\n",
    "filter.shape, filter.dtype"
   ]
  },
  {
   "cell_type": "markdown",
   "metadata": {},
   "source": [
    "Realizamos la convolición con padding y sin padding"
   ]
  },
  {
   "cell_type": "code",
   "execution_count": 5,
   "metadata": {},
   "outputs": [
    {
     "data": {
      "text/plain": [
       "(torch.Size([1, 1, 1598, 1598]), torch.Size([1, 1, 1602, 1602]))"
      ]
     },
     "execution_count": 5,
     "metadata": {},
     "output_type": "execute_result"
    }
   ],
   "source": [
    "import torch.nn.functional as F\n",
    "\n",
    "tensor_filtered_no_padding = F.conv2d(tensor, filter)\n",
    "tensor_filtered_padding = F.conv2d(tensor, filter, padding=2)\n",
    "tensor_filtered_no_padding.shape, tensor_filtered_padding.shape"
   ]
  },
  {
   "cell_type": "markdown",
   "metadata": {},
   "source": [
    "Como vemos al añadir el pading a la salida tenemos una imagen mayor"
   ]
  }
 ],
 "metadata": {
  "kernelspec": {
   "display_name": "Python 3.8.13 ('cursoPytorch')",
   "language": "python",
   "name": "python3"
  },
  "language_info": {
   "codemirror_mode": {
    "name": "ipython",
    "version": 3
   },
   "file_extension": ".py",
   "mimetype": "text/x-python",
   "name": "python",
   "nbconvert_exporter": "python",
   "pygments_lexer": "ipython3",
   "version": "3.8.17"
  },
  "orig_nbformat": 4,
  "vscode": {
   "interpreter": {
    "hash": "d5bc1ee3c77952ec27629ca4df39b2d196e4e16f06fca6055137af5fbf570f5e"
   }
  }
 },
 "nbformat": 4,
 "nbformat_minor": 2
}
