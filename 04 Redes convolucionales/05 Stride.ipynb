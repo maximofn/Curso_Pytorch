{
 "cells": [
  {
   "cell_type": "markdown",
   "metadata": {},
   "source": [
    "# Stride"
   ]
  },
  {
   "cell_type": "markdown",
   "metadata": {},
   "source": [
    "Hasta ahora hemos visto que cuando hacíamos las convoluciones desplazábamos el filtro una posición cada vez, pero esto no tiene por qué ser así. ya que puede ser más posiciones. Esto viene definido por una variable llamada stride"
   ]
  },
  {
   "cell_type": "markdown",
   "metadata": {},
   "source": [
    "Ahora lo que se hace es avanzar tantas posiciones como el stride indique, el ejemplo que hemos visto anteriormente, con un stride de 2 quedaría así\n",
    "\n",
    "![stride](Imagenes/Animacion-convolucion-stride-2.gif)"
   ]
  },
  {
   "cell_type": "markdown",
   "metadata": {},
   "source": [
    "Con stride, el tamaño de una imagen tras un filtro quedaría así\n",
    "\n",
    "$$\\left(\\frac{H-n+2p_x}{s_x}+1\\right)x\\left(\\frac{W-m+2p_y}{s_y}+1\\right)$$\n",
    "\n",
    "En nuestro caso, la imagen original tenía un tamaño par, por lo que con un padding de 0 y un stride de 2 el tamaño de la imagen filtrada quedaría con este tamaño\n",
    "\n",
    "$$\\left(\\frac{6-3}{2}+1\\right)x\\left(\\frac{6-3}{2}+1\\right)$$\n",
    "$$\\left(\\frac{3}{2}+1\\right)x\\left(\\frac{3}{2}+1\\right)$$\n",
    "\n",
    "Como se puede ver no quedaría un número entero, por lo que en estos casos lo que se hace es truncar el resultado\n",
    "\n",
    "$$\\left(\\left[\\frac{3}{2}\\right]+1\\right)x\\left(\\left[\\frac{3}{2}\\right]+1\\right)$$\n",
    "$$\\left(1+1\\right)x\\left(1+1\\right)$$\n",
    "$$2x2$$\n",
    "\n",
    "Dónde $\\left[\\right]$ indica truncar\n",
    "\n",
    "Por tanto, el tamaño resultante con padding y stride es\n",
    "\n",
    "$$\\left(\\left[\\frac{H-n+2p_x}{s_x}\\right]+1\\right)x\\left(\\left[\\frac{W-m+2p_y}{s_y}\\right]+1\\right)$$"
   ]
  }
 ],
 "metadata": {
  "kernelspec": {
   "display_name": "Python 3.8.10 64-bit",
   "language": "python",
   "name": "python3"
  },
  "language_info": {
   "name": "python",
   "version": "3.8.10"
  },
  "orig_nbformat": 4,
  "vscode": {
   "interpreter": {
    "hash": "916dbcbb3f70747c44a77c7bcd40155683ae19c65e1c03b4aa3499c5328201f1"
   }
  }
 },
 "nbformat": 4,
 "nbformat_minor": 2
}
