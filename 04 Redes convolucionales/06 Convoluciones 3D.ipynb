{
 "cells": [
  {
   "cell_type": "markdown",
   "metadata": {},
   "source": [
    "# Convoluciones 3D"
   ]
  },
  {
   "cell_type": "markdown",
   "metadata": {},
   "source": [
    "Hasta ahora hemos visto cómo hacer convoluciones con imágenes y filtros de una sola dimensión, pero lo normal es que las imágenes tengan más de una dimensión, así que vamos a ver cómo se hacen las convoluciones en imágenes de 3 canales"
   ]
  },
  {
   "cell_type": "markdown",
   "metadata": {},
   "source": [
    "Supongamos que tenemos una imagen de 3 canales (RGB), lo que tenemos que hacer es aplicarle un filtro de 3 canales también. \n",
    "\n",
    "![convolución 3D](Imagenes/Convoluci%C3%B3n%203D.png)\n",
    "\n",
    "Lo que se hace es calcular la convolución del primer canal (canal rojo de la imagen con el canal rojo del filtro), la convolcuión del segundo canal (canal verde de la imagen con el canal verde del filtro) y la convolución del tercer canal (canal azul de la imagen con el canal azul del filtro). Una vez se tengan las tres convoluciones, se suman"
   ]
  },
  {
   "cell_type": "markdown",
   "metadata": {},
   "source": [
    "Al igual que antes, nosotros no elejimos los valores del filtro en cada canal, sino que son los parámetros que la red va a aprender al entrenar"
   ]
  }
 ],
 "metadata": {
  "language_info": {
   "name": "python"
  },
  "orig_nbformat": 4
 },
 "nbformat": 4,
 "nbformat_minor": 2
}
