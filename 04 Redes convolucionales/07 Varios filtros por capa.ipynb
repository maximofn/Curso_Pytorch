{
 "cells": [
  {
   "cell_type": "markdown",
   "metadata": {},
   "source": [
    "# Varios filtros por capa"
   ]
  },
  {
   "cell_type": "markdown",
   "metadata": {},
   "source": [
    "En cada capa podemos aplicar varios filtros a la imagen y como resultado tendremos una matriz con tantos canales como filtros hayamos aplicado"
   ]
  },
  {
   "cell_type": "markdown",
   "metadata": {},
   "source": [
    "Por ejemplo, si tenemos una imagen a la que le aplicamo 3 filtros, como resultado se tendrá una matriz de 3 canales\n",
    "\n",
    "![Varios filtros](Imagenes/Varios%20filtros.png)"
   ]
  }
 ],
 "metadata": {
  "language_info": {
   "name": "python"
  },
  "orig_nbformat": 4
 },
 "nbformat": 4,
 "nbformat_minor": 2
}
