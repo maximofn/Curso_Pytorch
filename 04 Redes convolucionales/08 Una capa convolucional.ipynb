{
 "cells": [
  {
   "cell_type": "markdown",
   "metadata": {},
   "source": [
    "# Una capa convolucional"
   ]
  },
  {
   "cell_type": "markdown",
   "metadata": {},
   "source": [
    "Como vimos en el tema anterior, si solo realizamos operaciones lineales no vamos a poder generalizar, por lo que a cada filtro hay que sumarle un término de *bias* y aplicarle una función no lineal. Por lo que en una capa convolucional en tendremos varios filtros que se le aplican a una imagen, con sus *bias* y sus no linealidades\n",
    "\n",
    "![No linealidad](Imagenes/No%20linealidad.png)"
   ]
  }
 ],
 "metadata": {
  "kernelspec": {
   "display_name": "Python 3.8.10 64-bit",
   "language": "python",
   "name": "python3"
  },
  "language_info": {
   "name": "python",
   "version": "3.8.10"
  },
  "orig_nbformat": 4,
  "vscode": {
   "interpreter": {
    "hash": "916dbcbb3f70747c44a77c7bcd40155683ae19c65e1c03b4aa3499c5328201f1"
   }
  }
 },
 "nbformat": 4,
 "nbformat_minor": 2
}
