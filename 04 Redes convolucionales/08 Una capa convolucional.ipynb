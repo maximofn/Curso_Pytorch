{
 "cells": [
  {
   "cell_type": "markdown",
   "metadata": {},
   "source": [
    "# Una capa convolucional"
   ]
  },
  {
   "cell_type": "markdown",
   "metadata": {},
   "source": [
    "Como vimos en el tema anterior, si solo realizamos operaciones lineales no vamos a poder generalizar, por lo que a cada filtro hay que sumarle un término de *bias* y aplicarle una función no lineal. Por lo que en una capa convolucional tendremos varios filtros que se le aplican a una imagen, con sus *bias* y sus no linealidades\n",
    "\n",
    "![No linealidad](Imagenes/No%20linealidad.png)"
   ]
  },
  {
   "cell_type": "markdown",
   "metadata": {},
   "source": [
    "# Comparando una capa convolucional con una capa fully connected"
   ]
  },
  {
   "cell_type": "markdown",
   "metadata": {},
   "source": [
    "Supongamos que tenemos una imagen de `32x32x3` píxeles (una imagen muy pequeña) y que queremos que en la siguiente capa de la red neuronal salga otra imagen de `28x28x6` píxeles\n",
    "\n",
    " * Si usamos stride de 1 y sin padding, con una capa convolucional necesitaríamos 6 filtros de kernels de 5x5x3. Es decir, cada filtro supondría 75 parámetros, que con el bias en total serían 76 parámetros. Así que en total, entre los 6 filtros tendríamos 456 parámetros\n",
    " * Si en cambio usamos una capa fully connected necesitaríamos 32x32x3 = 3072 neuronas de entrada y 28x28x6 = 4704 neuronas de salida. Como la capa es fully connected, es decir, están todas las neuronas conectadas, necesitaríamos 3072x4704 + 4704 = 14.455.392 parámetros, es decir unos 14 millones y medio de parámetros\n",
    "\n",
    "Como se puede ver, computacionalmente es mucho mejor usar capas convolucionales"
   ]
  }
 ],
 "metadata": {
  "kernelspec": {
   "display_name": "Python 3.8.10 64-bit",
   "language": "python",
   "name": "python3"
  },
  "language_info": {
   "name": "python",
   "version": "3.8.10"
  },
  "orig_nbformat": 4,
  "vscode": {
   "interpreter": {
    "hash": "916dbcbb3f70747c44a77c7bcd40155683ae19c65e1c03b4aa3499c5328201f1"
   }
  }
 },
 "nbformat": 4,
 "nbformat_minor": 2
}
