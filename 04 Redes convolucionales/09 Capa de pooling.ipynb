{
 "cells": [
  {
   "cell_type": "markdown",
   "metadata": {},
   "source": [
    "# Capa de pooling"
   ]
  },
  {
   "cell_type": "markdown",
   "metadata": {},
   "source": [
    "Además de las capas convolucionales, se suelen añadir capas de pooling para reducir el tamaño de las matrices. Suele haber dos tipos de capas de pooling: `max pooling` y `average pooling`, aunque la más usada es `average pooling`.\n",
    "\n",
    "Las capas de pooling consisten también en nucleos o kernels que se le aplican a las matrices y al igual que antes se puede añadir padding y se puede modificar el stride. Como el objetivo es reducir el tamaño de las matrices, no se suele añadir padding, y el stride suele ser del mismo tamaño del kernell, es decir, si el kernell es de 3x3, se suele avanzar 3 posiciones"
   ]
  },
  {
   "cell_type": "markdown",
   "metadata": {},
   "source": [
    "## Max pooling"
   ]
  },
  {
   "cell_type": "markdown",
   "metadata": {},
   "source": [
    "En el `max pooling` lo que se hace es quedarnos con el máximo valor de todos los elementos de dentro del kernell\n",
    "\n",
    "![max pooling](Imagenes/Animacion_convolucion_amx_pooling.gif)"
   ]
  },
  {
   "cell_type": "markdown",
   "metadata": {},
   "source": [
    "## Average pooling"
   ]
  },
  {
   "cell_type": "markdown",
   "metadata": {},
   "source": [
    "En el average pooling lo que se hace es quedarnos con la media de todos los elementos de dentro del kernell\n",
    "\n",
    "![average pooling](Imagenes/Animacion_convolucion_average_pooling.gif)"
   ]
  }
 ],
 "metadata": {
  "kernelspec": {
   "display_name": "Python 3.8.10 64-bit",
   "language": "python",
   "name": "python3"
  },
  "language_info": {
   "name": "python",
   "version": "3.8.10"
  },
  "orig_nbformat": 4,
  "vscode": {
   "interpreter": {
    "hash": "916dbcbb3f70747c44a77c7bcd40155683ae19c65e1c03b4aa3499c5328201f1"
   }
  }
 },
 "nbformat": 4,
 "nbformat_minor": 2
}
