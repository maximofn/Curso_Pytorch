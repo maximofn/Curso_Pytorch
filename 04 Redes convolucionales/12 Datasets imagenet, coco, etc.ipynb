{
 "cells": [
  {
   "cell_type": "markdown",
   "metadata": {},
   "source": [
    "# Datasets como Imagenet, COCO, etc"
   ]
  },
  {
   "cell_type": "markdown",
   "metadata": {},
   "source": [
    "Es sabido que a la hora de entrenar un dataset es importante la arquitectura de la red, pero mucho más importante es tener datos suficientes para entrenarla. Por tanto tiene mucha importancia grandes datasets como Imagenet, COCO, Google open images, etc. Gracias a estos grandes datasets el deep learning ha experimentado un auge enorme, como se explica en el primer tema, en la historia del deep learning"
   ]
  },
  {
   "cell_type": "markdown",
   "metadata": {},
   "source": [
    "Pero gracias a que existan estos datasets y a competiciones que han lanzado, las grandes universidades y empresas han desarrolado arquitecturas, entrenadas en estos datasets. Y lo más importante es que estas arquitecturas están todas en abierto, es decir, al alcance de cualquier persona para su uso personal"
   ]
  },
  {
   "cell_type": "markdown",
   "metadata": {},
   "source": [
    "Hay que recordar que estos datasets tienen millones de imágenes, por ejemplo Imagenet contiene más de 14 millones de imágenes clasificadas en 1000 categorías distintas. Entrenar una arquitectura para esto es casi imposible para una persona en su casa."
   ]
  },
  {
   "cell_type": "markdown",
   "metadata": {},
   "source": [
    "Por tanto gracias a estos datasets y a las grandes universidades y empresas tenemos a nuestro alcance arquitecturas entrenadas con millones de imágenes y entrenadas en muchísimas categorías, una arquitectura entrenada en Imagenet te permite clasificar objetos en 1000 categorías distintas, raro es que si quieres clasificar un objeto no sea uno de esos 1000"
   ]
  },
  {
   "cell_type": "markdown",
   "metadata": {},
   "source": [
    "Pero si aun así, lo que quieres clasificar no está entre los objetos preentrenados, podemos seguir beneficiándonos de estos modelos gracias al `transfer learning` o `transferencia de aprendizaje` que veremos en el siguiente cuaderno"
   ]
  }
 ],
 "metadata": {
  "kernelspec": {
   "display_name": "Python 3.8.10 64-bit",
   "language": "python",
   "name": "python3"
  },
  "language_info": {
   "name": "python",
   "version": "3.8.10"
  },
  "orig_nbformat": 4,
  "vscode": {
   "interpreter": {
    "hash": "916dbcbb3f70747c44a77c7bcd40155683ae19c65e1c03b4aa3499c5328201f1"
   }
  }
 },
 "nbformat": 4,
 "nbformat_minor": 2
}
