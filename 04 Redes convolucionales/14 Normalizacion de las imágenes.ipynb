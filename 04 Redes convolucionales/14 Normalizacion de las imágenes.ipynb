{
 "cells": [
  {
   "cell_type": "markdown",
   "metadata": {},
   "source": [
    "# Normalización de las imágenes"
   ]
  },
  {
   "cell_type": "markdown",
   "metadata": {},
   "source": [
    "Como vimos en el anterior tema, es importante normalizar los datos que entran a una red neuronal. Con las imágenes pasa lo mismo"
   ]
  },
  {
   "cell_type": "markdown",
   "metadata": {},
   "source": [
    "## División entre 255"
   ]
  },
  {
   "cell_type": "markdown",
   "metadata": {},
   "source": [
    "La mayoría de las veces nos enfrentamos a imágenes en formato RGB, donde cada uno de sus píxeles puede valer entre 0 y 255, por lo que normalmente se divide la matriz entre 255 para que de esta manera, ahora cada pixel valga entre 0 y 1"
   ]
  },
  {
   "cell_type": "markdown",
   "metadata": {},
   "source": [
    "## Media y desviación estandar"
   ]
  },
  {
   "cell_type": "markdown",
   "metadata": {},
   "source": [
    "Además de dividir entre 255, se puede restar la media y dividir entre la desviación estandar. De esta manera el conjunto de datos ahora tendrá media 0 y desviación estandar 1. Esto también lo vimos en el tema anterior"
   ]
  },
  {
   "cell_type": "markdown",
   "metadata": {},
   "source": [
    "Pero en el caso de imágenes a veces hay que tener cuidado, porque si no se tiene un dataset muy variado puede que no sea recomendable corregir por la media y la desviación estandar. Depende de si las imágenes que se le van a meter luego a la red son muy diferentes o no de las imágenes con las que se le ha entrenado.\n",
    "Sin embargo, con un dataset de imágenes grande y muy variado como Imagenet, que recordamos que son millones de imágenes de 1000 diferentes categorías, sí merece la pena corregir con la media y la desviación estandar"
   ]
  }
 ],
 "metadata": {
  "kernelspec": {
   "display_name": "Python 3.8.10 64-bit",
   "language": "python",
   "name": "python3"
  },
  "language_info": {
   "name": "python",
   "version": "3.8.10"
  },
  "orig_nbformat": 4,
  "vscode": {
   "interpreter": {
    "hash": "916dbcbb3f70747c44a77c7bcd40155683ae19c65e1c03b4aa3499c5328201f1"
   }
  }
 },
 "nbformat": 4,
 "nbformat_minor": 2
}
