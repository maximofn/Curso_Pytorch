{
 "cells": [
  {
   "cell_type": "markdown",
   "metadata": {},
   "source": [
    "# Librería timm"
   ]
  },
  {
   "cell_type": "markdown",
   "metadata": {},
   "source": [
    "Aunque Pytorch ofrece una gran cantidad de redes preentrenadas para hacer transfern learning, en la mayoría de aplicaciones se usa la librería [timm](https://rwightman.github.io/pytorch-image-models/) porque ofrece el *state of the art* (SOTA) de redes ya preentrenadas. Es decir, en cuanto se crea una nueva arquitectura de red, al poco tiempo las tienes implementada en esta librería\n",
    "\n",
    "El objetivo de este curso es hacer una introducción al deep learning, por lo que se escapa de su alcance explicar la librería. Pero es muy sencilla de utilizar y está documentada.\n",
    "\n",
    "Pero me parece importante mencionarla, para que si en un futuro quieres presentarte a una competición o hacer alguna aplicación es bueno que sepas que existe"
   ]
  },
  {
   "cell_type": "code",
   "execution_count": null,
   "metadata": {},
   "outputs": [],
   "source": []
  }
 ],
 "metadata": {
  "language_info": {
   "name": "python"
  },
  "orig_nbformat": 4
 },
 "nbformat": 4,
 "nbformat_minor": 2
}
