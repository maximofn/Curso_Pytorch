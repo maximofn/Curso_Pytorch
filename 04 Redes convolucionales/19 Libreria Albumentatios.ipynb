{
 "cells": [
  {
   "attachments": {},
   "cell_type": "markdown",
   "metadata": {},
   "source": [
    "# Librería Albumentations"
   ]
  },
  {
   "attachments": {},
   "cell_type": "markdown",
   "metadata": {},
   "source": [
    "Anque Pytorch ofrece una gran cantidad de transformaciones, en la mayoría de aplicaciones se usa la librería [albumentations](https://albumentations.ai/), porque ofrece una gran cantidad de transformaciones.\n",
    "\n",
    "El objetivo de este curso es hacer una introducción al deep learning, por lo que se escapa de su alcance explicar la librería. Pero es muy sencilla de utilizar y está muy bien documentada.\n",
    "\n",
    "Me parece importante mecionarla, para que si en algún futuro quieres hacer alguna aplicación es bueno que sepas que existe."
   ]
  }
 ],
 "metadata": {
  "language_info": {
   "name": "python"
  },
  "orig_nbformat": 4
 },
 "nbformat": 4,
 "nbformat_minor": 2
}
