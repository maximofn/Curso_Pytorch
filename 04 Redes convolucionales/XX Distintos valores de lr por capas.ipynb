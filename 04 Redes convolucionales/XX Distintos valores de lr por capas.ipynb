{
 "cells": [
  {
   "cell_type": "code",
   "execution_count": null,
   "metadata": {},
   "outputs": [],
   "source": []
  },
  {
   "cell_type": "markdown",
   "metadata": {},
   "source": [
    "Si se quieren distintos valores de lr por capas se puede hacer mediante\n",
    "\n",
    "```python\n",
    "optim.SGD([\n",
    "                {'params': model.base.parameters()},\n",
    "                {'params': model.classifier.parameters(), 'lr': 1e-3}\n",
    "            ], lr=1e-2, momentum=0.9)\n",
    "```\n",
    "\n",
    "Esto significa que los parámetros de model.base usarán la tasa de aprendizaje predeterminada de 1e-2, mientras que los parámetros de model.classifier usarán una tasa de aprendizaje de 1e-3 y se usará un impulso de 0.9 para todos los parámetros"
   ]
  }
 ],
 "metadata": {
  "language_info": {
   "name": "python"
  },
  "orig_nbformat": 4
 },
 "nbformat": 4,
 "nbformat_minor": 2
}
