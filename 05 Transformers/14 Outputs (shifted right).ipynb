{
 "cells": [
  {
   "attachments": {},
   "cell_type": "markdown",
   "metadata": {},
   "source": [
    "# Outputs (shifted right)"
   ]
  },
  {
   "attachments": {},
   "cell_type": "markdown",
   "metadata": {},
   "source": [
    "Ahora ya si hemos terminado con la parte del encoder y podemos empezar con la parte del decoder, así que empezamos desde el principio, como vemos lo primero que hay en el decoder es `Outputs (shifted right)`\n",
    "\n",
    "<div style=\"text-align:center;\">\n",
    "  <img src=\"Imagenes/transformer_architecture_model_outputs.png\" alt=\"Outputs (shifted right)\" style=\"width:425px;height:626px;\">\n",
    "</div>\n",
    "\n",
    "¿Esto qué quiere decir? Porque se puede ver que en la parte de arriba del encoder, al final genera un output, pero por la parte de abajo del decoder le entra el output, pero desplazado a la derecha. Veámoslo paso a paso\n",
    "\n",
    "Supongamos que queremos usar el transformer para traducir del español al inglés y que le introducimos la frase en español `¿Cúal es tu nombre?`, se procesa toda la parte del encoder y la salida del encoder entra al decoder por el lateral del decoder, pero por la parte de abajo del decoder ¿qué entra? Pues lo que tiene que entrar es un token especial que indique el inicio de la traducción.\n",
    "\n",
    "A continuación el decoder hace su trabajo y concluye que el primer token que debería salir de la traducción es el correspondiente a `What` (voy a suponer que cada palabra es un token por simplificar)\n",
    "\n",
    "Por lo que en la primera iteracción del decoder le ha entrado el token de inicio de traducción y saca el token correspondiente a `What`\n",
    "\n",
    " > Primera iteracción\n",
    "\n",
    " > Input: `[Start]`\n",
    " \n",
    " > Output: `[What]`\n",
    "\n",
    "Ahora el decoder tiene que hacer una segunda iteracción, pero si no se le dice que ya ha predicho el primer token, volvería a generar el token correspondiente a `What` por lo que ahora se le mete como entrada el token de inicio de traducción y el token correspondiente a `What`, para que así tenga contexto de lo que ya había hecho\n",
    "\n",
    "Hace su trabajo y predice que el siguiente token debería ser el correspondiente a la palabra `is`\n",
    "\n",
    " > Segunda iteracción\n",
    "\n",
    " > Input: `[Start What]`\n",
    " \n",
    " > Output: `[What is]`\n",
    "\n",
    "Otra vez el decoder vuelve a hacer su trabajo sabiendo que ya ha generado los tokens de las palabras `What` e `is`, por lo que predice que el siguiente token debería ser el correspondiente a la palabra `your`\n",
    "\n",
    " > Tercera iteracción\n",
    "\n",
    " > Input: `[Start What is]`\n",
    " \n",
    " > Output: `[What is your]`\n",
    "\n",
    "El decoder vuelve a trabajar y predice que el siguiente token es `name`\n",
    "\n",
    " > Cuarta iteracción\n",
    "\n",
    " > Input: `[Start What is your]`\n",
    " \n",
    " > Output: `[What is your name]`\n",
    "\n",
    "Otra vez el decoder predice y ahora predice el token correspondiente a `?`\n",
    "\n",
    " > Cuarta iteracción\n",
    "\n",
    " > Input: `[Start What is your name]`\n",
    " \n",
    " > Output: `[What is your name ?]`\n",
    "\n",
    "Ahora el decoder vuelve a hacer su trabajo y concluye que ya no corresponden nuevos tokens, por lo que genera a la salida el token de final de traducción\n",
    "\n",
    " > Quinta iteracción\n",
    "\n",
    " > Input: `[Start What is your name ?]`\n",
    " \n",
    " > Output: `[What is your name ? Stop]`\n",
    "\n",
    "Después de ver este ejemplo, si te fijas, al decoder siempre le ha entrado la salida que generaba, pero siempre desplazada una posición a la derecha, por eso en la arquitectura se especifica que la salida tiene que estar movida una posición a la derecha"
   ]
  },
  {
   "attachments": {},
   "cell_type": "markdown",
   "metadata": {},
   "source": [
    "Para esta parte no hay que hacer ninguna clase"
   ]
  }
 ],
 "metadata": {
  "language_info": {
   "name": "python"
  },
  "orig_nbformat": 4
 },
 "nbformat": 4,
 "nbformat_minor": 2
}
