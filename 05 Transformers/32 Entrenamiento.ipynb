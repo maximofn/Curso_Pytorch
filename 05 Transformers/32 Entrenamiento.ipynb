{
 "cells": [
  {
   "attachments": {},
   "cell_type": "markdown",
   "metadata": {},
   "source": [
    "# Entrenamiento"
   ]
  },
  {
   "attachments": {},
   "cell_type": "markdown",
   "metadata": {},
   "source": [
    "## Carga de los datos"
   ]
  },
  {
   "attachments": {},
   "cell_type": "markdown",
   "metadata": {},
   "source": [
    "Primero de todo cargamos los datos a los que le hicimos la limpieza"
   ]
  },
  {
   "cell_type": "code",
   "execution_count": 1,
   "metadata": {},
   "outputs": [],
   "source": [
    "from datasets import load_from_disk\n",
    "\n",
    "path = \"data/opus100_croped\"\n",
    "opus100_croped = load_from_disk(path)"
   ]
  },
  {
   "attachments": {},
   "cell_type": "markdown",
   "metadata": {},
   "source": [
    "Volvemos a hacer una inspección rápida de los datos"
   ]
  },
  {
   "cell_type": "code",
   "execution_count": 4,
   "metadata": {},
   "outputs": [
    {
     "name": "stdout",
     "output_type": "stream",
     "text": [
      "dataset keys: dict_keys(['test', 'train', 'validation'])\n"
     ]
    }
   ],
   "source": [
    "print(f\"dataset keys: {opus100_croped.keys()}\")"
   ]
  },
  {
   "cell_type": "code",
   "execution_count": 5,
   "metadata": {},
   "outputs": [
    {
     "name": "stdout",
     "output_type": "stream",
     "text": [
      "train length: 983138,\n",
      "validation length: 1963,\n",
      "test length: 1955\n"
     ]
    }
   ],
   "source": [
    "print(f\"train length: {len(opus100_croped['train'])},\\nvalidation length: {len(opus100_croped['validation'])},\\ntest length: {len(opus100_croped['test'])}\")"
   ]
  },
  {
   "cell_type": "code",
   "execution_count": 7,
   "metadata": {},
   "outputs": [
    {
     "name": "stdout",
     "output_type": "stream",
     "text": [
      "train keys: dict_keys(['translation']),\n",
      "validation keys: dict_keys(['translation']),\n",
      "test keys: dict_keys(['translation'])\n"
     ]
    }
   ],
   "source": [
    "print(f\"train keys: {opus100_croped['train'][0].keys()},\\nvalidation keys: {opus100_croped['validation'][0].keys()},\\ntest keys: {opus100_croped['test'][0].keys()}\")"
   ]
  },
  {
   "cell_type": "code",
   "execution_count": 8,
   "metadata": {},
   "outputs": [
    {
     "name": "stdout",
     "output_type": "stream",
     "text": [
      "train translation keys: dict_keys(['en', 'es']),\n",
      "validation translation keys: dict_keys(['en', 'es']),\n",
      "test translation keys: dict_keys(['en', 'es'])\n"
     ]
    }
   ],
   "source": [
    "print(f\"train translation keys: {opus100_croped['train'][0]['translation'].keys()},\\nvalidation translation keys: {opus100_croped['validation'][0]['translation'].keys()},\\ntest translation keys: {opus100_croped['test'][0]['translation'].keys()}\")"
   ]
  },
  {
   "cell_type": "code",
   "execution_count": 10,
   "metadata": {},
   "outputs": [
    {
     "data": {
      "text/plain": [
       "{'en': 'The preparation of the seventh periodic report should draw upon the non-governmental organizations operating in the country.',\n",
       " 'es': 'Para la preparación del séptimo informe periódico debería recurrirse a las ONG que operan en el país.'}"
      ]
     },
     "execution_count": 10,
     "metadata": {},
     "output_type": "execute_result"
    }
   ],
   "source": [
    "import numpy.random as random\n",
    "idx = random.randint(0, len(opus100_croped[\"train\"]))\n",
    "opus100_croped[\"train\"][idx][\"translation\"]"
   ]
  },
  {
   "attachments": {},
   "cell_type": "markdown",
   "metadata": {},
   "source": [
    "## Dataset y dataloader"
   ]
  },
  {
   "attachments": {},
   "cell_type": "markdown",
   "metadata": {},
   "source": [
    "Ahora que hemos visto cómo es el dataset que nos hemos descargado, vamos a crear un dataset y un dataloader de python"
   ]
  },
  {
   "attachments": {},
   "cell_type": "markdown",
   "metadata": {},
   "source": [
    "Primero creamos la clase `Opus100Dataset`"
   ]
  },
  {
   "cell_type": "code",
   "execution_count": 113,
   "metadata": {},
   "outputs": [],
   "source": [
    "import torch\n",
    "from torch.utils.data import Dataset\n",
    "\n",
    "class Opus100Dataset(Dataset):\n",
    "    def __init__(self, dataset, source_language, target_language, tokenizer, start_token, end_token, padding_token, max_length):\n",
    "        self.dataset = dataset\n",
    "        self.source_language = source_language\n",
    "        self.target_language = target_language\n",
    "        self.tokenizer = tokenizer\n",
    "        self.start_token = start_token\n",
    "        self.end_token = end_token\n",
    "        self.padding_token = padding_token\n",
    "        self.max_length = max_length\n",
    "    \n",
    "    def __len__(self):\n",
    "        return len(self.dataset)\n",
    "    \n",
    "    def encode(self, text):\n",
    "        encoded = self.tokenizer(text)\n",
    "        encoded = self.start_token + encoded + self.end_token\n",
    "        encoded = encoded + self.padding_token * (self.max_length - len(encoded)) # Padding\n",
    "        return torch.tensor(encoded)\n",
    "    \n",
    "    def decode(self, tensor, decoder):\n",
    "        end_token_position = (tensor == self.end_token[0]).nonzero(as_tuple=True)[0]\n",
    "        encoded_sentence = tensor[1:end_token_position].tolist()\n",
    "        return decoder(encoded_sentence)\n",
    "    \n",
    "    def __getitem__(self, idx):\n",
    "        source = self.dataset[idx][\"translation\"][self.source_language]\n",
    "        source = self.encode(source)\n",
    "\n",
    "        target = self.dataset[idx][\"translation\"][self.target_language]\n",
    "        target = self.encode(target)\n",
    "        return source, target"
   ]
  },
  {
   "attachments": {},
   "cell_type": "markdown",
   "metadata": {},
   "source": [
    "Ahora creamos un objeto para `train`, `validation` y `test`"
   ]
  },
  {
   "cell_type": "code",
   "execution_count": 114,
   "metadata": {},
   "outputs": [],
   "source": [
    "import tiktoken\n",
    "\n",
    "encoder = tiktoken.get_encoding(\"cl100k_base\")\n",
    "\n",
    "start_token = chr(1)\n",
    "start_token = encoder.encode(start_token)\n",
    "\n",
    "end_token = chr(2)\n",
    "end_token = encoder.encode(end_token)\n",
    "\n",
    "padding_token = chr(3)\n",
    "padding_token = encoder.encode(padding_token)\n",
    "\n",
    "max_secuence_length = 104 #128\n",
    "\n",
    "train_dataset = Opus100Dataset(opus100_croped[\"train\"], \"en\", \"es\", encoder.encode, start_token, end_token, padding_token, max_secuence_length)\n",
    "validation_dataset = Opus100Dataset(opus100_croped[\"validation\"], \"en\", \"es\", encoder.encode, start_token, end_token, padding_token, max_secuence_length)\n",
    "test_dataset = Opus100Dataset(opus100_croped[\"test\"], \"en\", \"es\", encoder.encode, start_token, end_token, padding_token, max_secuence_length)"
   ]
  },
  {
   "attachments": {},
   "cell_type": "markdown",
   "metadata": {},
   "source": [
    "Vamos a ver si las longitudes coinciden"
   ]
  },
  {
   "cell_type": "code",
   "execution_count": 115,
   "metadata": {},
   "outputs": [
    {
     "name": "stdout",
     "output_type": "stream",
     "text": [
      "len opus100 train 983138, len train_dataset 983138\n",
      "len opus100 validation 1963, len validation_dataset 1963\n",
      "len opus100 test 1955, len test_dataset 1955\n"
     ]
    }
   ],
   "source": [
    "print(f\"len opus100 train {len(opus100_croped['train'])}, len train_dataset {len(train_dataset)}\")\n",
    "print(f\"len opus100 validation {len(opus100_croped['validation'])}, len validation_dataset {len(validation_dataset)}\")\n",
    "print(f\"len opus100 test {len(opus100_croped['test'])}, len test_dataset {len(test_dataset)}\")"
   ]
  },
  {
   "attachments": {},
   "cell_type": "markdown",
   "metadata": {},
   "source": [
    "Veamos ahora si una muestra de entrenamiento coincide"
   ]
  },
  {
   "cell_type": "code",
   "execution_count": 125,
   "metadata": {},
   "outputs": [
    {
     "name": "stdout",
     "output_type": "stream",
     "text": [
      "opus100_idx_en: So the more we see, the less we know., opus100_idx_es: Así que cuanto más vemos, menos sabemos.\n",
      "sample train_dataset en: So the more we see, the less we know., sample train_dataset es: Así que cuanto más vemos, menos sabemos.\n"
     ]
    }
   ],
   "source": [
    "idx = 259178 #random.randint(0, len(train_dataset))\n",
    "\n",
    "opus100_idx_en = opus100_croped[\"train\"][idx][\"translation\"][\"en\"]\n",
    "opus100_idx_es = opus100_croped[\"train\"][idx][\"translation\"][\"es\"]\n",
    "print(f\"opus100_idx_en: {opus100_idx_en}, opus100_idx_es: {opus100_idx_es}\")\n",
    "\n",
    "sample_train_dataset_idx_en, sample_train_dataset_idx_es = train_dataset[idx]\n",
    "sample_train_dataset_idx_en_sentence = train_dataset.decode(sample_train_dataset_idx_en, encoder.decode)\n",
    "sample_train_dataset_idx_es_sentence = train_dataset.decode(sample_train_dataset_idx_es, encoder.decode)\n",
    "print(f\"sample train_dataset en: {sample_train_dataset_idx_en_sentence}, sample train_dataset es: {sample_train_dataset_idx_es_sentence}\")"
   ]
  },
  {
   "cell_type": "markdown",
   "metadata": {},
   "source": [
    "Vamos a ver si tiene la longitud que debería tener"
   ]
  },
  {
   "cell_type": "code",
   "execution_count": 126,
   "metadata": {},
   "outputs": [
    {
     "data": {
      "text/plain": [
       "torch.Size([104])"
      ]
     },
     "execution_count": 126,
     "metadata": {},
     "output_type": "execute_result"
    }
   ],
   "source": [
    "sample_train_dataset_idx_en.shape"
   ]
  },
  {
   "cell_type": "markdown",
   "metadata": {},
   "source": [
    "Vamos ahora a ver muestras de validación y test"
   ]
  },
  {
   "cell_type": "code",
   "execution_count": 129,
   "metadata": {},
   "outputs": [
    {
     "name": "stdout",
     "output_type": "stream",
     "text": [
      "opus100_idx_en: I want you alive!, opus100_idx_es: ¡Te quiero vivo!\n",
      "sample validation_dataset en: I want you alive!, sample validation_dataset es: ¡Te quiero vivo!\n"
     ]
    }
   ],
   "source": [
    "idx = 1724 #random.randint(0, len(validation_dataset))\n",
    "\n",
    "opus100_idx_en = opus100_croped[\"validation\"][idx][\"translation\"][\"en\"]\n",
    "opus100_idx_es = opus100_croped[\"validation\"][idx][\"translation\"][\"es\"]\n",
    "print(f\"opus100_idx_en: {opus100_idx_en}, opus100_idx_es: {opus100_idx_es}\")\n",
    "\n",
    "sample_validation_dataset_idx_en, sample_validation_dataset_idx_es = validation_dataset[idx]\n",
    "sample_validation_dataset_idx_en_sentence = validation_dataset.decode(sample_validation_dataset_idx_en, encoder.decode)\n",
    "sample_validation_dataset_idx_es_sentence = validation_dataset.decode(sample_validation_dataset_idx_es, encoder.decode)\n",
    "print(f\"sample validation_dataset en: {sample_validation_dataset_idx_en_sentence}, sample validation_dataset es: {sample_validation_dataset_idx_es_sentence}\")"
   ]
  },
  {
   "cell_type": "code",
   "execution_count": 131,
   "metadata": {},
   "outputs": [
    {
     "name": "stdout",
     "output_type": "stream",
     "text": [
      "opus100_idx_en: Most likely, this is Michael Farmer., opus100_idx_es: Lo más probable es que sea Michael Farmer.\n",
      "sample test_dataset en: Most likely, this is Michael Farmer., sample test_dataset es: Lo más probable es que sea Michael Farmer.\n"
     ]
    }
   ],
   "source": [
    "idx = 1044 #random.randint(0, len(test_dataset))\n",
    "\n",
    "opus100_idx_en = opus100_croped[\"test\"][idx][\"translation\"][\"en\"]\n",
    "opus100_idx_es = opus100_croped[\"test\"][idx][\"translation\"][\"es\"]\n",
    "print(f\"opus100_idx_en: {opus100_idx_en}, opus100_idx_es: {opus100_idx_es}\")\n",
    "\n",
    "sample_test_dataset_idx_en, sample_test_dataset_idx_es = test_dataset[idx]\n",
    "sample_test_dataset_idx_en_sentence = test_dataset.decode(sample_test_dataset_idx_en, encoder.decode)\n",
    "sample_test_dataset_idx_es_sentence = test_dataset.decode(sample_test_dataset_idx_es, encoder.decode)\n",
    "print(f\"sample test_dataset en: {sample_test_dataset_idx_en_sentence}, sample test_dataset es: {sample_test_dataset_idx_es_sentence}\")"
   ]
  },
  {
   "attachments": {},
   "cell_type": "markdown",
   "metadata": {},
   "source": [
    "Vemos que el dataset está bien creado, ahora creamos el `Dataloader`"
   ]
  },
  {
   "cell_type": "code",
   "execution_count": 132,
   "metadata": {},
   "outputs": [],
   "source": [
    "from torch.utils.data import DataLoader\n",
    "\n",
    "BS = 64\n",
    "\n",
    "train_dataloader = DataLoader(train_dataset, batch_size=BS, shuffle=True)\n",
    "validation_dataloader = DataLoader(validation_dataset, batch_size=BS, shuffle=False)\n",
    "test_dataloader = DataLoader(test_dataset, batch_size=BS, shuffle=False)"
   ]
  },
  {
   "attachments": {},
   "cell_type": "markdown",
   "metadata": {},
   "source": [
    "Vamos a ver una muestra"
   ]
  },
  {
   "cell_type": "code",
   "execution_count": 134,
   "metadata": {},
   "outputs": [
    {
     "name": "stdout",
     "output_type": "stream",
     "text": [
      "batch_en shape: torch.Size([64, 104]), batch_es shape: torch.Size([64, 104])\n"
     ]
    }
   ],
   "source": [
    "batch_en, batch_es = next(iter(train_dataloader))\n",
    "print(f\"batch_en shape: {batch_en.shape}, batch_es shape: {batch_es.shape}\")"
   ]
  },
  {
   "cell_type": "markdown",
   "metadata": {},
   "source": [
    "## Modelo"
   ]
  },
  {
   "cell_type": "markdown",
   "metadata": {},
   "source": [
    "Volvemos a escribir todo el código del transformer y creamos un objeto de este"
   ]
  },
  {
   "cell_type": "markdown",
   "metadata": {},
   "source": [
    "### Clases de bajo nivel"
   ]
  },
  {
   "cell_type": "code",
   "execution_count": 136,
   "metadata": {},
   "outputs": [],
   "source": [
    "import torch\n",
    "import torch.nn as nn\n",
    "import math\n",
    "import torch.nn.functional as F\n",
    "\n",
    "class Dropout(torch.nn.Module):\n",
    "    def __init__(self, p=0.1):\n",
    "        super().__init__()\n",
    "        self.p = p\n",
    "\n",
    "    def forward(self, x):\n",
    "        if self.training:\n",
    "            return torch.nn.functional.dropout(x, p=self.p)\n",
    "        else:\n",
    "            return x\n",
    "        \n",
    "class Embedding(nn.Module):\n",
    "    def __init__(self, vocab_size, embedding_dim):\n",
    "        super().__init__()\n",
    "        self.vocab_size = vocab_size\n",
    "        self.embedding_dim = embedding_dim\n",
    "\n",
    "        self.embedding = nn.Embedding(vocab_size, embedding_dim)\n",
    "\n",
    "    def forward(self, x):\n",
    "        return self.embedding(x)\n",
    "\n",
    "class PositionalEncoding(nn.Module):\n",
    "    def __init__(self, max_sequence_len, embedding_model_dim):\n",
    "        super().__init__()\n",
    "        self.embedding_dim = embedding_model_dim\n",
    "\n",
    "        positional_encoding = torch.zeros(max_sequence_len, self.embedding_dim)\n",
    "        for pos in range(max_sequence_len):\n",
    "            for i in range(0, self.embedding_dim, 2):\n",
    "                positional_encoding[pos, i]     = math.sin(pos / (10000 ** ((2 *     i) / self.embedding_dim)))\n",
    "                positional_encoding[pos, i + 1] = math.cos(pos / (10000 ** ((2 * (i+1)) / self.embedding_dim)))\n",
    "        positional_encoding = positional_encoding.unsqueeze(0)\n",
    "        self.register_buffer('positional_encoding', positional_encoding)\n",
    "\n",
    "    def forward(self, x):\n",
    "        x = x * math.sqrt(self.embedding_dim)\n",
    "        sequence_len = x.size(1)\n",
    "        x = x + self.positional_encoding[:,:sequence_len]\n",
    "        return x\n",
    "\n",
    "class ScaledDotProductAttention(nn.Module):\n",
    "    def __init__(self, dim_embedding):\n",
    "        super().__init__()\n",
    "        self.dim_embedding = dim_embedding\n",
    "    \n",
    "    def forward(self, key, query, value, mask=None):\n",
    "        key_trasposed = key.transpose(-1,-2)\n",
    "        product = torch.matmul(query, key_trasposed)\n",
    "        scale = product / math.sqrt(self.dim_embedding)\n",
    "        if mask is not None:\n",
    "            scale = scale.masked_fill(mask == 0, float('-inf'))\n",
    "        attention_matrix = torch.nn.functional.softmax(scale, dim=-1)\n",
    "        output = torch.matmul(attention_matrix, value)\n",
    "        \n",
    "        return output\n",
    "\n",
    "class MultiHeadAttention(nn.Module):\n",
    "    def __init__(self, heads, dim_embedding):\n",
    "        super().__init__()\n",
    "        \n",
    "        self.dim_embedding = dim_embedding\n",
    "        self.dim_proyection = dim_embedding // heads\n",
    "        self.heads = heads\n",
    "        \n",
    "        self.proyection_Q = nn.Linear(dim_embedding, dim_embedding)\n",
    "        self.proyection_K = nn.Linear(dim_embedding, dim_embedding)\n",
    "        self.proyection_V = nn.Linear(dim_embedding, dim_embedding)\n",
    "        self.attention = nn.Linear(dim_embedding, dim_embedding)\n",
    "\n",
    "        self.scaled_dot_product_attention = ScaledDotProductAttention(self.dim_proyection)\n",
    "    \n",
    "    def forward(self, Q, K, V):\n",
    "        batch_size = Q.size(0)\n",
    "        \n",
    "        proyection_Q = self.proyection_Q(Q).view(batch_size, -1, self.heads, self.dim_proyection)\n",
    "        proyection_K = self.proyection_K(K).view(batch_size, -1, self.heads, self.dim_proyection)\n",
    "        proyection_V = self.proyection_V(V).view(batch_size, -1, self.heads, self.dim_proyection)\n",
    "        \n",
    "        proyection_Q = proyection_Q.transpose(1,2)\n",
    "        proyection_K = proyection_K.transpose(1,2)\n",
    "        proyection_V = proyection_V.transpose(1,2)\n",
    "\n",
    "        scaled_dot_product_attention = self.scaled_dot_product_attention(proyection_Q, proyection_K, proyection_V)\n",
    "        \n",
    "        concat = scaled_dot_product_attention.transpose(1,2).contiguous().view(batch_size, -1, self.dim_embedding)\n",
    "        \n",
    "        output = self.attention(concat)\n",
    "    \n",
    "        return output\n",
    "\n",
    "class AddAndNorm(nn.Module):\n",
    "    def __init__(self, dim_embedding):\n",
    "        super().__init__()\n",
    "        self.normalization = nn.LayerNorm(dim_embedding)\n",
    "\n",
    "    def forward(self, x, sublayer):\n",
    "        return self.normalization(torch.add(x, sublayer))\n",
    "\n",
    "class FeedForward(nn.Module):\n",
    "    def __init__(self, dim_embedding, increment=4):\n",
    "        super().__init__()\n",
    "        self.feed_forward = nn.Sequential(\n",
    "            nn.Linear(dim_embedding, dim_embedding*increment),\n",
    "            nn.ReLU(),\n",
    "            nn.Linear(dim_embedding*increment, dim_embedding)\n",
    "        )\n",
    "    \n",
    "    def forward(self, x):\n",
    "        x = self.feed_forward(x)\n",
    "        return x\n",
    "\n",
    "class Linear(nn.Module):\n",
    "    def __init__(self, dim_embedding, vocab_size):\n",
    "        super().__init__()\n",
    "        self.linear = nn.Linear(dim_embedding, vocab_size)\n",
    "        \n",
    "    def forward(self, x):\n",
    "        x = self.linear(x)\n",
    "        return x\n",
    "\n",
    "class Softmax(nn.Module):\n",
    "    def __init__(self):\n",
    "        super().__init__()\n",
    "        self.softmax = nn.Softmax(dim=1)\n",
    "        \n",
    "    def forward(self, x):\n",
    "        x = self.softmax(x)\n",
    "        return x"
   ]
  },
  {
   "cell_type": "markdown",
   "metadata": {},
   "source": [
    "### Clases de medio nivel"
   ]
  },
  {
   "cell_type": "code",
   "execution_count": 137,
   "metadata": {},
   "outputs": [],
   "source": [
    "class EncoderLayer(nn.Module):\n",
    "    def __init__(self, heads, dim_embedding, prob_dropout=0.1):\n",
    "        super().__init__()\n",
    "        self.multi_head_attention = MultiHeadAttention(heads, dim_embedding)\n",
    "        self.dropout_1 = Dropout(prob_dropout)\n",
    "        self.add_and_norm_1 = AddAndNorm(dim_embedding)\n",
    "        self.feed_forward = FeedForward(dim_embedding)\n",
    "        self.dropout_2 = Dropout(prob_dropout)\n",
    "        self.add_and_norm_2 = AddAndNorm(dim_embedding)\n",
    "    \n",
    "    def forward(self, x):\n",
    "        multi_head_attention = self.multi_head_attention(x, x, x)\n",
    "        dropout1 = self.dropout_1(multi_head_attention)\n",
    "        add_and_norm_1 = self.add_and_norm_1(x, dropout1)\n",
    "        feed_forward = self.feed_forward(add_and_norm_1)\n",
    "        dropout2 = self.dropout_2(feed_forward)\n",
    "        add_and_norm_2 = self.add_and_norm_2(add_and_norm_1, dropout2)\n",
    "        return add_and_norm_2\n",
    "\n",
    "class DecoderLayer(nn.Module):\n",
    "    def __init__(self, heads, dim_embedding, prob_dropout=0.1):\n",
    "        super().__init__()\n",
    "        self.masked_multi_head_attention = MultiHeadAttention(heads, dim_embedding)\n",
    "        self.dropout_1 = Dropout(prob_dropout)\n",
    "        self.add_and_norm_1 = AddAndNorm(dim_embedding)\n",
    "        self.encoder_decoder_multi_head_attention = MultiHeadAttention(heads, dim_embedding)\n",
    "        self.dropout_2 = Dropout(prob_dropout)\n",
    "        self.add_and_norm_2 = AddAndNorm(dim_embedding)\n",
    "        self.feed_forward = FeedForward(dim_embedding)\n",
    "        self.dropout_3 = Dropout(prob_dropout)\n",
    "        self.add_and_norm_3 = AddAndNorm(dim_embedding)\n",
    "    \n",
    "    def forward(self, x, encoder_output, mask=None):\n",
    "        masked_multi_head_attention = self.masked_multi_head_attention(x, x, x, mask)\n",
    "        dropout1 = self.dropout_1(masked_multi_head_attention)\n",
    "        add_and_norm_1 = self.add_and_norm_1(dropout1, x)\n",
    "        encoder_decoder_multi_head_attention = self.encoder_decoder_multi_head_attention(add_and_norm_1, encoder_output, encoder_output)\n",
    "        dropout2 = self.dropout_2(encoder_decoder_multi_head_attention)\n",
    "        add_and_norm_2 = self.add_and_norm_2(dropout2, add_and_norm_1)\n",
    "        feed_forward = self.feed_forward(add_and_norm_2)\n",
    "        dropout3 = self.dropout_3(feed_forward)\n",
    "        add_and_norm_3 = self.add_and_norm_3(dropout3, add_and_norm_2)\n",
    "        return add_and_norm_3\n",
    "\n",
    "class Encoder(nn.Module):\n",
    "    def __init__(self, heads, dim_embedding, Nx, prob_dropout=0.1):\n",
    "        super().__init__()\n",
    "        self.encoder_layers = nn.ModuleList([EncoderLayer(heads, dim_embedding, prob_dropout) for _ in range(Nx)])\n",
    "    \n",
    "    def forward(self, x):\n",
    "        for encoder_layer in self.encoder_layers:\n",
    "            x = encoder_layer(x)\n",
    "        return x\n",
    "\n",
    "class Decoder(nn.Module):\n",
    "    def __init__(self, heads, dim_embedding, Nx, prob_dropout=0.1):\n",
    "        super().__init__()\n",
    "        self.layers = nn.ModuleList([DecoderLayer(heads, dim_embedding, prob_dropout) for _ in range(Nx)])\n",
    "    \n",
    "    def forward(self, x, encoder_output, mask=None):\n",
    "        for decoder_layer in self.layers:\n",
    "            x = decoder_layer(x, encoder_output, mask)\n",
    "        return x\n",
    "\n",
    "class TransformerEncoder(nn.Module):\n",
    "    def __init__(self, vocab_size, dim_embedding, max_sequence_len, heads, Nx, prob_dropout=0.1):\n",
    "        super().__init__()\n",
    "        self.input_embedding = Embedding(vocab_size, dim_embedding)\n",
    "        self.positional_encoding = PositionalEncoding(max_sequence_len, dim_embedding)\n",
    "        self.encoder = Encoder(heads, dim_embedding, Nx, prob_dropout)\n",
    "    \n",
    "    def forward(self, x):\n",
    "        input_embedding = self.input_embedding(x)\n",
    "        positional_encoding = self.positional_encoding(input_embedding)\n",
    "        encoder = self.encoder(positional_encoding)\n",
    "        return encoder\n",
    "\n",
    "class TransformerDecoder(nn.Module):\n",
    "    def __init__(self, heads, dim_embedding, Nx, vocab_size, max_sequence_len, prob_dropout=0.1):\n",
    "        super().__init__()\n",
    "        self.embedding = Embedding(vocab_size, dim_embedding)\n",
    "        self.positional_encoding = PositionalEncoding(max_sequence_len, dim_embedding)\n",
    "        self.decoder = Decoder(heads, dim_embedding, Nx, prob_dropout)\n",
    "        self.linear = Linear(dim_embedding, vocab_size)\n",
    "        self.softmax = Softmax()\n",
    "    \n",
    "    def forward(self, x, encoder_output, mask=None):\n",
    "        x = self.embedding(x)\n",
    "        x = self.positional_encoding(x)\n",
    "        x = self.decoder(x, encoder_output, mask)\n",
    "        x = self.linear(x)\n",
    "        x = self.softmax(x)\n",
    "        return x"
   ]
  },
  {
   "cell_type": "markdown",
   "metadata": {},
   "source": [
    "### Clase de alto nivel"
   ]
  },
  {
   "cell_type": "code",
   "execution_count": 138,
   "metadata": {},
   "outputs": [],
   "source": [
    "class Transformer(nn.Module):\n",
    "    def __init__(self, vocab_size, dim_embedding, max_sequence_len, heads, Nx, prob_dropout=0.1):\n",
    "        super().__init__()\n",
    "        self.encoder = TransformerEncoder(vocab_size, dim_embedding, max_sequence_len, heads, Nx, prob_dropout)\n",
    "        self.decoder = TransformerDecoder(heads, dim_embedding, Nx, vocab_size, max_sequence_len, prob_dropout)\n",
    "    \n",
    "    def forward(self, source, target, mask=None):\n",
    "        encoder_output = self.encoder(source)\n",
    "        decoder_output = self.decoder(target, encoder_output, mask)\n",
    "        return decoder_output"
   ]
  },
  {
   "cell_type": "markdown",
   "metadata": {},
   "source": [
    "### Transformer"
   ]
  },
  {
   "cell_type": "code",
   "execution_count": 139,
   "metadata": {},
   "outputs": [],
   "source": [
    "def create_mask(sequence_len):\n",
    "    \"\"\"\n",
    "    Args:\n",
    "        sequence_len: length of sequence\n",
    "        \n",
    "    Returns:\n",
    "        mask matrix\n",
    "    \"\"\"\n",
    "    mask = torch.tril(torch.ones((sequence_len, sequence_len)))\n",
    "    return mask"
   ]
  },
  {
   "cell_type": "code",
   "execution_count": 143,
   "metadata": {},
   "outputs": [],
   "source": [
    "vocab_size = encoder.n_vocab\n",
    "dim_embedding = 512\n",
    "max_secuence_length = 104 #128\n",
    "heads = 8\n",
    "Nx = 6\n",
    "prob_dropout = 0.1\n",
    "\n",
    "transformer = Transformer(vocab_size=vocab_size,\n",
    "                          dim_embedding=dim_embedding,\n",
    "                          max_sequence_len=max_secuence_length,\n",
    "                          heads=heads,\n",
    "                          Nx=Nx,\n",
    "                          prob_dropout=prob_dropout)\n",
    "\n",
    "mask = create_mask(max_secuence_length)"
   ]
  },
  {
   "cell_type": "markdown",
   "metadata": {},
   "source": [
    "Vamos a probar el modelo con una muestra del dataset"
   ]
  },
  {
   "cell_type": "code",
   "execution_count": 144,
   "metadata": {},
   "outputs": [
    {
     "name": "stdout",
     "output_type": "stream",
     "text": [
      "sample sentence train_dataset en: So the more we see, the less we know.\n",
      "sample sentence train_dataset es: Así que cuanto más vemos, menos sabemos.\n",
      "\n",
      "sample train_dataset en: tensor([ 189, 4516,  279,  810,  584, 1518,   11,  279, 2753,  584, 1440,   13,\n",
      "         190,  191,  191,  191,  191,  191,  191,  191,  191,  191,  191,  191,\n",
      "         191,  191,  191,  191,  191,  191,  191,  191,  191,  191,  191,  191,\n",
      "         191,  191,  191,  191,  191,  191,  191,  191,  191,  191,  191,  191,\n",
      "         191,  191,  191,  191,  191,  191,  191,  191,  191,  191,  191,  191,\n",
      "         191,  191,  191,  191,  191,  191,  191,  191,  191,  191,  191,  191,\n",
      "         191,  191,  191,  191,  191,  191,  191,  191,  191,  191,  191,  191,\n",
      "         191,  191,  191,  191,  191,  191,  191,  191,  191,  191,  191,  191,\n",
      "         191,  191,  191,  191,  191,  191,  191,  191])\n",
      "sample train_dataset es: tensor([  189,  2170,  2483,  1744, 87587, 11158,   348, 15295,    11, 32895,\n",
      "        19972, 15295,    13,   190,   191,   191,   191,   191,   191,   191,\n",
      "          191,   191,   191,   191,   191,   191,   191,   191,   191,   191,\n",
      "          191,   191,   191,   191,   191,   191,   191,   191,   191,   191,\n",
      "          191,   191,   191,   191,   191,   191,   191,   191,   191,   191,\n",
      "          191,   191,   191,   191,   191,   191,   191,   191,   191,   191,\n",
      "          191,   191,   191,   191,   191,   191,   191,   191,   191,   191,\n",
      "          191,   191,   191,   191,   191,   191,   191,   191,   191,   191,\n",
      "          191,   191,   191,   191,   191,   191,   191,   191,   191,   191,\n",
      "          191,   191,   191,   191,   191,   191,   191,   191,   191,   191,\n",
      "          191,   191,   191,   191])\n"
     ]
    }
   ],
   "source": [
    "idx = 259178 #random.randint(0, len(train_dataset))\n",
    "\n",
    "sample_train_dataset_idx_en, sample_train_dataset_idx_es = train_dataset[idx]\n",
    "sample_train_dataset_idx_en_sentence = train_dataset.decode(sample_train_dataset_idx_en, encoder.decode)\n",
    "sample_train_dataset_idx_es_sentence = train_dataset.decode(sample_train_dataset_idx_es, encoder.decode)\n",
    "print(f\"sample sentence train_dataset en: {sample_train_dataset_idx_en_sentence}\")\n",
    "print(f\"sample sentence train_dataset es: {sample_train_dataset_idx_es_sentence}\")\n",
    "print(\"\")\n",
    "print(f\"sample train_dataset en: {sample_train_dataset_idx_en}\")\n",
    "print(f\"sample train_dataset es: {sample_train_dataset_idx_es}\")"
   ]
  },
  {
   "cell_type": "code",
   "execution_count": 145,
   "metadata": {},
   "outputs": [
    {
     "ename": "TypeError",
     "evalue": "MultiHeadAttention.forward() takes 4 positional arguments but 5 were given",
     "output_type": "error",
     "traceback": [
      "\u001b[0;31m---------------------------------------------------------------------------\u001b[0m",
      "\u001b[0;31mTypeError\u001b[0m                                 Traceback (most recent call last)",
      "Cell \u001b[0;32mIn[145], line 1\u001b[0m\n\u001b[0;32m----> 1\u001b[0m output \u001b[39m=\u001b[39m transformer(sample_train_dataset_idx_en\u001b[39m.\u001b[39;49munsqueeze(\u001b[39m0\u001b[39;49m), sample_train_dataset_idx_es\u001b[39m.\u001b[39;49munsqueeze(\u001b[39m0\u001b[39;49m), mask)\n\u001b[1;32m      2\u001b[0m output\u001b[39m.\u001b[39mshape\n",
      "File \u001b[0;32m~/miniconda3/envs/cursopytorch/lib/python3.10/site-packages/torch/nn/modules/module.py:1130\u001b[0m, in \u001b[0;36mModule._call_impl\u001b[0;34m(self, *input, **kwargs)\u001b[0m\n\u001b[1;32m   1126\u001b[0m \u001b[39m# If we don't have any hooks, we want to skip the rest of the logic in\u001b[39;00m\n\u001b[1;32m   1127\u001b[0m \u001b[39m# this function, and just call forward.\u001b[39;00m\n\u001b[1;32m   1128\u001b[0m \u001b[39mif\u001b[39;00m \u001b[39mnot\u001b[39;00m (\u001b[39mself\u001b[39m\u001b[39m.\u001b[39m_backward_hooks \u001b[39mor\u001b[39;00m \u001b[39mself\u001b[39m\u001b[39m.\u001b[39m_forward_hooks \u001b[39mor\u001b[39;00m \u001b[39mself\u001b[39m\u001b[39m.\u001b[39m_forward_pre_hooks \u001b[39mor\u001b[39;00m _global_backward_hooks\n\u001b[1;32m   1129\u001b[0m         \u001b[39mor\u001b[39;00m _global_forward_hooks \u001b[39mor\u001b[39;00m _global_forward_pre_hooks):\n\u001b[0;32m-> 1130\u001b[0m     \u001b[39mreturn\u001b[39;00m forward_call(\u001b[39m*\u001b[39;49m\u001b[39minput\u001b[39;49m, \u001b[39m*\u001b[39;49m\u001b[39m*\u001b[39;49mkwargs)\n\u001b[1;32m   1131\u001b[0m \u001b[39m# Do not call functions when jit is used\u001b[39;00m\n\u001b[1;32m   1132\u001b[0m full_backward_hooks, non_full_backward_hooks \u001b[39m=\u001b[39m [], []\n",
      "Cell \u001b[0;32mIn[138], line 9\u001b[0m, in \u001b[0;36mTransformer.forward\u001b[0;34m(self, source, target, mask)\u001b[0m\n\u001b[1;32m      7\u001b[0m \u001b[39mdef\u001b[39;00m \u001b[39mforward\u001b[39m(\u001b[39mself\u001b[39m, source, target, mask\u001b[39m=\u001b[39m\u001b[39mNone\u001b[39;00m):\n\u001b[1;32m      8\u001b[0m     encoder_output \u001b[39m=\u001b[39m \u001b[39mself\u001b[39m\u001b[39m.\u001b[39mencoder(source)\n\u001b[0;32m----> 9\u001b[0m     decoder_output \u001b[39m=\u001b[39m \u001b[39mself\u001b[39;49m\u001b[39m.\u001b[39;49mdecoder(target, encoder_output, mask)\n\u001b[1;32m     10\u001b[0m     \u001b[39mreturn\u001b[39;00m decoder_output\n",
      "File \u001b[0;32m~/miniconda3/envs/cursopytorch/lib/python3.10/site-packages/torch/nn/modules/module.py:1130\u001b[0m, in \u001b[0;36mModule._call_impl\u001b[0;34m(self, *input, **kwargs)\u001b[0m\n\u001b[1;32m   1126\u001b[0m \u001b[39m# If we don't have any hooks, we want to skip the rest of the logic in\u001b[39;00m\n\u001b[1;32m   1127\u001b[0m \u001b[39m# this function, and just call forward.\u001b[39;00m\n\u001b[1;32m   1128\u001b[0m \u001b[39mif\u001b[39;00m \u001b[39mnot\u001b[39;00m (\u001b[39mself\u001b[39m\u001b[39m.\u001b[39m_backward_hooks \u001b[39mor\u001b[39;00m \u001b[39mself\u001b[39m\u001b[39m.\u001b[39m_forward_hooks \u001b[39mor\u001b[39;00m \u001b[39mself\u001b[39m\u001b[39m.\u001b[39m_forward_pre_hooks \u001b[39mor\u001b[39;00m _global_backward_hooks\n\u001b[1;32m   1129\u001b[0m         \u001b[39mor\u001b[39;00m _global_forward_hooks \u001b[39mor\u001b[39;00m _global_forward_pre_hooks):\n\u001b[0;32m-> 1130\u001b[0m     \u001b[39mreturn\u001b[39;00m forward_call(\u001b[39m*\u001b[39;49m\u001b[39minput\u001b[39;49m, \u001b[39m*\u001b[39;49m\u001b[39m*\u001b[39;49mkwargs)\n\u001b[1;32m   1131\u001b[0m \u001b[39m# Do not call functions when jit is used\u001b[39;00m\n\u001b[1;32m   1132\u001b[0m full_backward_hooks, non_full_backward_hooks \u001b[39m=\u001b[39m [], []\n",
      "Cell \u001b[0;32mIn[137], line 90\u001b[0m, in \u001b[0;36mTransformerDecoder.forward\u001b[0;34m(self, x, encoder_output, mask)\u001b[0m\n\u001b[1;32m     88\u001b[0m x \u001b[39m=\u001b[39m \u001b[39mself\u001b[39m\u001b[39m.\u001b[39membedding(x)\n\u001b[1;32m     89\u001b[0m x \u001b[39m=\u001b[39m \u001b[39mself\u001b[39m\u001b[39m.\u001b[39mpositional_encoding(x)\n\u001b[0;32m---> 90\u001b[0m x \u001b[39m=\u001b[39m \u001b[39mself\u001b[39;49m\u001b[39m.\u001b[39;49mdecoder(x, encoder_output, mask)\n\u001b[1;32m     91\u001b[0m x \u001b[39m=\u001b[39m \u001b[39mself\u001b[39m\u001b[39m.\u001b[39mlinear(x)\n\u001b[1;32m     92\u001b[0m x \u001b[39m=\u001b[39m \u001b[39mself\u001b[39m\u001b[39m.\u001b[39msoftmax(x)\n",
      "File \u001b[0;32m~/miniconda3/envs/cursopytorch/lib/python3.10/site-packages/torch/nn/modules/module.py:1130\u001b[0m, in \u001b[0;36mModule._call_impl\u001b[0;34m(self, *input, **kwargs)\u001b[0m\n\u001b[1;32m   1126\u001b[0m \u001b[39m# If we don't have any hooks, we want to skip the rest of the logic in\u001b[39;00m\n\u001b[1;32m   1127\u001b[0m \u001b[39m# this function, and just call forward.\u001b[39;00m\n\u001b[1;32m   1128\u001b[0m \u001b[39mif\u001b[39;00m \u001b[39mnot\u001b[39;00m (\u001b[39mself\u001b[39m\u001b[39m.\u001b[39m_backward_hooks \u001b[39mor\u001b[39;00m \u001b[39mself\u001b[39m\u001b[39m.\u001b[39m_forward_hooks \u001b[39mor\u001b[39;00m \u001b[39mself\u001b[39m\u001b[39m.\u001b[39m_forward_pre_hooks \u001b[39mor\u001b[39;00m _global_backward_hooks\n\u001b[1;32m   1129\u001b[0m         \u001b[39mor\u001b[39;00m _global_forward_hooks \u001b[39mor\u001b[39;00m _global_forward_pre_hooks):\n\u001b[0;32m-> 1130\u001b[0m     \u001b[39mreturn\u001b[39;00m forward_call(\u001b[39m*\u001b[39;49m\u001b[39minput\u001b[39;49m, \u001b[39m*\u001b[39;49m\u001b[39m*\u001b[39;49mkwargs)\n\u001b[1;32m   1131\u001b[0m \u001b[39m# Do not call functions when jit is used\u001b[39;00m\n\u001b[1;32m   1132\u001b[0m full_backward_hooks, non_full_backward_hooks \u001b[39m=\u001b[39m [], []\n",
      "Cell \u001b[0;32mIn[137], line 62\u001b[0m, in \u001b[0;36mDecoder.forward\u001b[0;34m(self, x, encoder_output, mask)\u001b[0m\n\u001b[1;32m     60\u001b[0m \u001b[39mdef\u001b[39;00m \u001b[39mforward\u001b[39m(\u001b[39mself\u001b[39m, x, encoder_output, mask\u001b[39m=\u001b[39m\u001b[39mNone\u001b[39;00m):\n\u001b[1;32m     61\u001b[0m     \u001b[39mfor\u001b[39;00m decoder_layer \u001b[39min\u001b[39;00m \u001b[39mself\u001b[39m\u001b[39m.\u001b[39mlayers:\n\u001b[0;32m---> 62\u001b[0m         x \u001b[39m=\u001b[39m decoder_layer(x, encoder_output, mask)\n\u001b[1;32m     63\u001b[0m     \u001b[39mreturn\u001b[39;00m x\n",
      "File \u001b[0;32m~/miniconda3/envs/cursopytorch/lib/python3.10/site-packages/torch/nn/modules/module.py:1130\u001b[0m, in \u001b[0;36mModule._call_impl\u001b[0;34m(self, *input, **kwargs)\u001b[0m\n\u001b[1;32m   1126\u001b[0m \u001b[39m# If we don't have any hooks, we want to skip the rest of the logic in\u001b[39;00m\n\u001b[1;32m   1127\u001b[0m \u001b[39m# this function, and just call forward.\u001b[39;00m\n\u001b[1;32m   1128\u001b[0m \u001b[39mif\u001b[39;00m \u001b[39mnot\u001b[39;00m (\u001b[39mself\u001b[39m\u001b[39m.\u001b[39m_backward_hooks \u001b[39mor\u001b[39;00m \u001b[39mself\u001b[39m\u001b[39m.\u001b[39m_forward_hooks \u001b[39mor\u001b[39;00m \u001b[39mself\u001b[39m\u001b[39m.\u001b[39m_forward_pre_hooks \u001b[39mor\u001b[39;00m _global_backward_hooks\n\u001b[1;32m   1129\u001b[0m         \u001b[39mor\u001b[39;00m _global_forward_hooks \u001b[39mor\u001b[39;00m _global_forward_pre_hooks):\n\u001b[0;32m-> 1130\u001b[0m     \u001b[39mreturn\u001b[39;00m forward_call(\u001b[39m*\u001b[39;49m\u001b[39minput\u001b[39;49m, \u001b[39m*\u001b[39;49m\u001b[39m*\u001b[39;49mkwargs)\n\u001b[1;32m   1131\u001b[0m \u001b[39m# Do not call functions when jit is used\u001b[39;00m\n\u001b[1;32m   1132\u001b[0m full_backward_hooks, non_full_backward_hooks \u001b[39m=\u001b[39m [], []\n",
      "Cell \u001b[0;32mIn[137], line 34\u001b[0m, in \u001b[0;36mDecoderLayer.forward\u001b[0;34m(self, x, encoder_output, mask)\u001b[0m\n\u001b[1;32m     33\u001b[0m \u001b[39mdef\u001b[39;00m \u001b[39mforward\u001b[39m(\u001b[39mself\u001b[39m, x, encoder_output, mask\u001b[39m=\u001b[39m\u001b[39mNone\u001b[39;00m):\n\u001b[0;32m---> 34\u001b[0m     masked_multi_head_attention \u001b[39m=\u001b[39m \u001b[39mself\u001b[39;49m\u001b[39m.\u001b[39;49mmasked_multi_head_attention(x, x, x, mask)\n\u001b[1;32m     35\u001b[0m     dropout1 \u001b[39m=\u001b[39m \u001b[39mself\u001b[39m\u001b[39m.\u001b[39mdropout_1(masked_multi_head_attention)\n\u001b[1;32m     36\u001b[0m     add_and_norm_1 \u001b[39m=\u001b[39m \u001b[39mself\u001b[39m\u001b[39m.\u001b[39madd_and_norm_1(dropout1, x)\n",
      "File \u001b[0;32m~/miniconda3/envs/cursopytorch/lib/python3.10/site-packages/torch/nn/modules/module.py:1130\u001b[0m, in \u001b[0;36mModule._call_impl\u001b[0;34m(self, *input, **kwargs)\u001b[0m\n\u001b[1;32m   1126\u001b[0m \u001b[39m# If we don't have any hooks, we want to skip the rest of the logic in\u001b[39;00m\n\u001b[1;32m   1127\u001b[0m \u001b[39m# this function, and just call forward.\u001b[39;00m\n\u001b[1;32m   1128\u001b[0m \u001b[39mif\u001b[39;00m \u001b[39mnot\u001b[39;00m (\u001b[39mself\u001b[39m\u001b[39m.\u001b[39m_backward_hooks \u001b[39mor\u001b[39;00m \u001b[39mself\u001b[39m\u001b[39m.\u001b[39m_forward_hooks \u001b[39mor\u001b[39;00m \u001b[39mself\u001b[39m\u001b[39m.\u001b[39m_forward_pre_hooks \u001b[39mor\u001b[39;00m _global_backward_hooks\n\u001b[1;32m   1129\u001b[0m         \u001b[39mor\u001b[39;00m _global_forward_hooks \u001b[39mor\u001b[39;00m _global_forward_pre_hooks):\n\u001b[0;32m-> 1130\u001b[0m     \u001b[39mreturn\u001b[39;00m forward_call(\u001b[39m*\u001b[39;49m\u001b[39minput\u001b[39;49m, \u001b[39m*\u001b[39;49m\u001b[39m*\u001b[39;49mkwargs)\n\u001b[1;32m   1131\u001b[0m \u001b[39m# Do not call functions when jit is used\u001b[39;00m\n\u001b[1;32m   1132\u001b[0m full_backward_hooks, non_full_backward_hooks \u001b[39m=\u001b[39m [], []\n",
      "\u001b[0;31mTypeError\u001b[0m: MultiHeadAttention.forward() takes 4 positional arguments but 5 were given"
     ]
    }
   ],
   "source": [
    "output = transformer(sample_train_dataset_idx_en.unsqueeze(0), sample_train_dataset_idx_es.unsqueeze(0), mask)\n",
    "output.shape"
   ]
  }
 ],
 "metadata": {
  "kernelspec": {
   "display_name": "cursopytorch",
   "language": "python",
   "name": "python3"
  },
  "language_info": {
   "codemirror_mode": {
    "name": "ipython",
    "version": 3
   },
   "file_extension": ".py",
   "mimetype": "text/x-python",
   "name": "python",
   "nbconvert_exporter": "python",
   "pygments_lexer": "ipython3",
   "version": "3.10.12"
  },
  "orig_nbformat": 4
 },
 "nbformat": 4,
 "nbformat_minor": 2
}
