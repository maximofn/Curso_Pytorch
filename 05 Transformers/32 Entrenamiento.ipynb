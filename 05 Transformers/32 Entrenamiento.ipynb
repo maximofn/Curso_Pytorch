{
    "cells": [
     {
      "attachments": {},
      "cell_type": "markdown",
      "metadata": {},
      "source": [
       "# Entrenamiento"
      ]
     },
     {
      "attachments": {},
      "cell_type": "markdown",
      "metadata": {},
      "source": [
       "## Carga de los datos"
      ]
     },
     {
      "attachments": {},
      "cell_type": "markdown",
      "metadata": {},
      "source": [
       "Primero de todo cargamos los datos a los que le hicimos la limpieza"
      ]
     },
     {
      "cell_type": "code",
      "execution_count": 1,
      "metadata": {},
      "outputs": [],
      "source": [
       "from datasets import load_from_disk\n",
       "\n",
       "path = \"data/opus100_croped\"\n",
       "# path = \"data/opus100_croped_10\" # ! Quitar\n",
       "opus100_croped = load_from_disk(path)"
      ]
     },
     {
      "attachments": {},
      "cell_type": "markdown",
      "metadata": {},
      "source": [
       "Volvemos a hacer una inspección rápida de los datos"
      ]
     },
     {
      "cell_type": "code",
      "execution_count": 2,
      "metadata": {},
      "outputs": [
       {
        "name": "stdout",
        "output_type": "stream",
        "text": [
         "dataset keys: dict_keys(['test', 'train', 'validation'])\n"
        ]
       }
      ],
      "source": [
       "print(f\"dataset keys: {opus100_croped.keys()}\")"
      ]
     },
     {
      "cell_type": "code",
      "execution_count": 3,
      "metadata": {},
      "outputs": [
       {
        "name": "stdout",
        "output_type": "stream",
        "text": [
         "train length: 463854,\n",
         "validation length: 681,\n",
         "test length: 691\n"
        ]
       }
      ],
      "source": [
       "print(f\"train length: {len(opus100_croped['train'])},\\nvalidation length: {len(opus100_croped['validation'])},\\ntest length: {len(opus100_croped['test'])}\")"
      ]
     },
     {
      "cell_type": "code",
      "execution_count": 4,
      "metadata": {},
      "outputs": [
       {
        "name": "stdout",
        "output_type": "stream",
        "text": [
         "train keys: dict_keys(['translation']),\n",
         "validation keys: dict_keys(['translation']),\n",
         "test keys: dict_keys(['translation'])\n"
        ]
       }
      ],
      "source": [
       "print(f\"train keys: {opus100_croped['train'][0].keys()},\\nvalidation keys: {opus100_croped['validation'][0].keys()},\\ntest keys: {opus100_croped['test'][0].keys()}\")"
      ]
     },
     {
      "cell_type": "code",
      "execution_count": 5,
      "metadata": {},
      "outputs": [
       {
        "name": "stdout",
        "output_type": "stream",
        "text": [
         "train translation keys: dict_keys(['en', 'es']),\n",
         "validation translation keys: dict_keys(['en', 'es']),\n",
         "test translation keys: dict_keys(['en', 'es'])\n"
        ]
       }
      ],
      "source": [
       "print(f\"train translation keys: {opus100_croped['train'][0]['translation'].keys()},\\nvalidation translation keys: {opus100_croped['validation'][0]['translation'].keys()},\\ntest translation keys: {opus100_croped['test'][0]['translation'].keys()}\")"
      ]
     },
     {
      "cell_type": "code",
      "execution_count": 6,
      "metadata": {},
      "outputs": [
       {
        "data": {
         "text/plain": [
          "{'en': 'One of us is gonna win that paid vacation.',\n",
          " 'es': 'Uno de nosotros tendrá vacaciones pagas.'}"
         ]
        },
        "execution_count": 6,
        "metadata": {},
        "output_type": "execute_result"
       }
      ],
      "source": [
       "import numpy.random as random\n",
       "idx = random.randint(0, len(opus100_croped[\"train\"]))\n",
       "opus100_croped[\"train\"][idx][\"translation\"]"
      ]
     },
     {
      "attachments": {},
      "cell_type": "markdown",
      "metadata": {},
      "source": [
       "## Dataset y dataloader"
      ]
     },
     {
      "attachments": {},
      "cell_type": "markdown",
      "metadata": {},
      "source": [
       "Ahora que hemos visto cómo es el dataset que nos hemos descargado, vamos a crear un dataset y un dataloader de python"
      ]
     },
     {
      "attachments": {},
      "cell_type": "markdown",
      "metadata": {},
      "source": [
       "Primero creamos la clase `Opus100Dataset`"
      ]
     },
     {
      "cell_type": "code",
      "execution_count": 7,
      "metadata": {},
      "outputs": [],
      "source": [
       "import torch\n",
       "from torch.utils.data import Dataset\n",
       "\n",
       "class Opus100Dataset(Dataset):\n",
       "    def __init__(self, dataset, source_language, target_language, tokenizer, start_token, end_token, padding_token, max_length):\n",
       "        self.dataset = dataset\n",
       "        self.source_language = source_language\n",
       "        self.target_language = target_language\n",
       "        self.tokenizer = tokenizer\n",
       "        self.start_token = start_token\n",
       "        self.end_token = end_token\n",
       "        self.padding_token = padding_token\n",
       "        self.max_length = max_length\n",
       "    \n",
       "    def __len__(self):\n",
       "        return len(self.dataset)\n",
       "    \n",
       "    def encode(self, text):\n",
       "        encoded = self.tokenizer(text)\n",
       "        encoded = self.start_token + encoded + self.end_token\n",
       "        if len(encoded) > self.max_length:  # Truncate if too long\n",
       "            encoded = encoded[:self.max_length]\n",
       "        else:  # Pad if too short\n",
       "            encoded = encoded + self.padding_token * (self.max_length - len(encoded))\n",
       "        return torch.tensor(encoded)\n",
       "    \n",
       "    def decode(self, tensor, decoder):\n",
       "        end_token_position = (tensor == self.end_token[0]).nonzero(as_tuple=True)[0]\n",
       "        encoded_sentence = tensor[1:end_token_position].tolist()\n",
       "        return decoder(encoded_sentence)\n",
       "    \n",
       "    def __getitem__(self, idx):\n",
       "        source = self.dataset[idx][\"translation\"][self.source_language]\n",
       "        source = self.encode(source)\n",
       "\n",
       "        target = self.dataset[idx][\"translation\"][self.target_language]\n",
       "        target = self.encode(target)\n",
       "        return source, target\n"
      ]
     },
     {
      "attachments": {},
      "cell_type": "markdown",
      "metadata": {},
      "source": [
       "Ahora creamos un objeto para `train`, `validation` y `test`"
      ]
     },
     {
      "cell_type": "code",
      "execution_count": 8,
      "metadata": {},
      "outputs": [],
      "source": [
       "import tiktoken\n",
       "\n",
       "encoder = tiktoken.get_encoding(\"cl100k_base\")\n",
       "\n",
       "start_token = chr(1)\n",
       "start_token = encoder.encode(start_token)\n",
       "\n",
       "end_token = chr(2)\n",
       "end_token = encoder.encode(end_token)\n",
       "\n",
       "padding_token = chr(3)\n",
       "padding_token = encoder.encode(padding_token)\n",
       "\n",
       "max_secuence_length = 104 + 2 #128\n",
       "# max_secuence_length = 10 + 2 # ! Quitar\n",
       "\n",
       "train_dataset = Opus100Dataset(opus100_croped[\"train\"], \"en\", \"es\", encoder.encode, start_token, end_token, padding_token, max_secuence_length)\n",
       "validation_dataset = Opus100Dataset(opus100_croped[\"validation\"], \"en\", \"es\", encoder.encode, start_token, end_token, padding_token, max_secuence_length)\n",
       "test_dataset = Opus100Dataset(opus100_croped[\"test\"], \"en\", \"es\", encoder.encode, start_token, end_token, padding_token, max_secuence_length)\n"
      ]
     },
     {
      "attachments": {},
      "cell_type": "markdown",
      "metadata": {},
      "source": [
       "Vamos a ver si las longitudes coinciden"
      ]
     },
     {
      "cell_type": "code",
      "execution_count": 9,
      "metadata": {},
      "outputs": [
       {
        "name": "stdout",
        "output_type": "stream",
        "text": [
         "len opus100 train 463854, len train_dataset 463854\n",
         "len opus100 validation 681, len validation_dataset 681\n",
         "len opus100 test 691, len test_dataset 691\n"
        ]
       }
      ],
      "source": [
       "print(f\"len opus100 train {len(opus100_croped['train'])}, len train_dataset {len(train_dataset)}\")\n",
       "print(f\"len opus100 validation {len(opus100_croped['validation'])}, len validation_dataset {len(validation_dataset)}\")\n",
       "print(f\"len opus100 test {len(opus100_croped['test'])}, len test_dataset {len(test_dataset)}\")"
      ]
     },
     {
      "attachments": {},
      "cell_type": "markdown",
      "metadata": {},
      "source": [
       "Veamos ahora si una muestra de entrenamiento coincide"
      ]
     },
     {
      "cell_type": "code",
      "execution_count": 10,
      "metadata": {},
      "outputs": [
       {
        "name": "stdout",
        "output_type": "stream",
        "text": [
         "opus100_idx_en: Elaine, are you gaining weight?, opus100_idx_es: Elaine, ¿Estás engordando?\n",
         "sample train_dataset en: Elaine, are you gaining weight?, sample train_dataset es: Elaine, ¿Estás engordando?\n"
        ]
       }
      ],
      "source": [
       "idx = 259178 #random.randint(0, len(train_dataset))\n",
       "\n",
       "opus100_idx_en = opus100_croped[\"train\"][idx][\"translation\"][\"en\"]\n",
       "opus100_idx_es = opus100_croped[\"train\"][idx][\"translation\"][\"es\"]\n",
       "print(f\"opus100_idx_en: {opus100_idx_en}, opus100_idx_es: {opus100_idx_es}\")\n",
       "\n",
       "sample_train_dataset_idx_en, sample_train_dataset_idx_es = train_dataset[idx]\n",
       "sample_train_dataset_idx_en_sentence = train_dataset.decode(sample_train_dataset_idx_en, encoder.decode)\n",
       "sample_train_dataset_idx_es_sentence = train_dataset.decode(sample_train_dataset_idx_es, encoder.decode)\n",
       "print(f\"sample train_dataset en: {sample_train_dataset_idx_en_sentence}, sample train_dataset es: {sample_train_dataset_idx_es_sentence}\")"
      ]
     },
     {
      "attachments": {},
      "cell_type": "markdown",
      "metadata": {},
      "source": [
       "Vamos a ver si tiene la longitud que debería tener"
      ]
     },
     {
      "cell_type": "code",
      "execution_count": 11,
      "metadata": {},
      "outputs": [
       {
        "data": {
         "text/plain": [
          "torch.Size([12])"
         ]
        },
        "execution_count": 11,
        "metadata": {},
        "output_type": "execute_result"
       }
      ],
      "source": [
       "sample_train_dataset_idx_en.shape"
      ]
     },
     {
      "attachments": {},
      "cell_type": "markdown",
      "metadata": {},
      "source": [
       "Vamos ahora a ver muestras de validación y test"
      ]
     },
     {
      "cell_type": "code",
      "execution_count": 12,
      "metadata": {},
      "outputs": [
       {
        "name": "stdout",
        "output_type": "stream",
        "text": [
         "opus100_idx_en: The guy's been really good to us., opus100_idx_es: Fue muy bueno con nosotros.\n",
         "sample validation_dataset en: The guy's been really good to us., sample validation_dataset es: Fue muy bueno con nosotros.\n"
        ]
       }
      ],
      "source": [
       "idx = 114 #random.randint(0, len(validation_dataset))\n",
       "\n",
       "opus100_idx_en = opus100_croped[\"validation\"][idx][\"translation\"][\"en\"]\n",
       "opus100_idx_es = opus100_croped[\"validation\"][idx][\"translation\"][\"es\"]\n",
       "print(f\"opus100_idx_en: {opus100_idx_en}, opus100_idx_es: {opus100_idx_es}\")\n",
       "\n",
       "sample_validation_dataset_idx_en, sample_validation_dataset_idx_es = validation_dataset[idx]\n",
       "sample_validation_dataset_idx_en_sentence = validation_dataset.decode(sample_validation_dataset_idx_en, encoder.decode)\n",
       "sample_validation_dataset_idx_es_sentence = validation_dataset.decode(sample_validation_dataset_idx_es, encoder.decode)\n",
       "print(f\"sample validation_dataset en: {sample_validation_dataset_idx_en_sentence}, sample validation_dataset es: {sample_validation_dataset_idx_es_sentence}\")"
      ]
     },
     {
      "cell_type": "code",
      "execution_count": 13,
      "metadata": {},
      "outputs": [
       {
        "name": "stdout",
        "output_type": "stream",
        "text": [
         "opus100_idx_en: What fits here?, opus100_idx_es: ¿Qué encaja aquí?\n",
         "sample test_dataset en: What fits here?, sample test_dataset es: ¿Qué encaja aquí?\n"
        ]
       }
      ],
      "source": [
       "idx = 510 #random.randint(0, len(test_dataset))\n",
       "\n",
       "opus100_idx_en = opus100_croped[\"test\"][idx][\"translation\"][\"en\"]\n",
       "opus100_idx_es = opus100_croped[\"test\"][idx][\"translation\"][\"es\"]\n",
       "print(f\"opus100_idx_en: {opus100_idx_en}, opus100_idx_es: {opus100_idx_es}\")\n",
       "\n",
       "sample_test_dataset_idx_en, sample_test_dataset_idx_es = test_dataset[idx]\n",
       "sample_test_dataset_idx_en_sentence = test_dataset.decode(sample_test_dataset_idx_en, encoder.decode)\n",
       "sample_test_dataset_idx_es_sentence = test_dataset.decode(sample_test_dataset_idx_es, encoder.decode)\n",
       "print(f\"sample test_dataset en: {sample_test_dataset_idx_en_sentence}, sample test_dataset es: {sample_test_dataset_idx_es_sentence}\")"
      ]
     },
     {
      "attachments": {},
      "cell_type": "markdown",
      "metadata": {},
      "source": [
       "Vemos que el dataset está bien creado, ahora creamos el `Dataloader`"
      ]
     },
     {
      "cell_type": "code",
      "execution_count": 14,
      "metadata": {},
      "outputs": [],
      "source": [
       "# import numpy as np\n",
       "# # ! Quitar\n",
       "# def subsample_dataset(dataset, new_size):\n",
       "#     indices = np.random.choice(len(dataset), new_size, replace=False)\n",
       "#     indices = indices.tolist()  # Convert numpy.int64 indices to native int\n",
       "#     return torch.utils.data.Subset(dataset, indices)\n",
       "\n",
       "# new_size = 500  # Elige el tamaño que prefieras\n",
       "\n",
       "# train_dataset = subsample_dataset(train_dataset, new_size)\n",
       "# validation_dataset = subsample_dataset(validation_dataset, new_size)\n",
       "# test_dataset = subsample_dataset(test_dataset, new_size)"
      ]
     },
     {
      "cell_type": "code",
      "execution_count": 15,
      "metadata": {},
      "outputs": [],
      "source": [
       "from torch.utils.data import DataLoader\n",
       "\n",
       "BS = 16\n",
       "# BS = 128 # ! Quitar\n",
       "\n",
       "train_dataloader = DataLoader(train_dataset, batch_size=BS, shuffle=True)\n",
       "validation_dataloader = DataLoader(validation_dataset, batch_size=BS, shuffle=False)\n",
       "test_dataloader = DataLoader(test_dataset, batch_size=BS, shuffle=False)\n"
      ]
     },
     {
      "attachments": {},
      "cell_type": "markdown",
      "metadata": {},
      "source": [
       "Vamos a ver una muestra"
      ]
     },
     {
      "cell_type": "code",
      "execution_count": 16,
      "metadata": {},
      "outputs": [
       {
        "name": "stdout",
        "output_type": "stream",
        "text": [
         "batch_en shape: torch.Size([128, 12]), batch_es shape: torch.Size([128, 12])\n"
        ]
       }
      ],
      "source": [
       "batch_en, batch_es = next(iter(train_dataloader))\n",
       "print(f\"batch_en shape: {batch_en.shape}, batch_es shape: {batch_es.shape}\")"
      ]
     },
     {
      "attachments": {},
      "cell_type": "markdown",
      "metadata": {},
      "source": [
       "## Modelo"
      ]
     },
     {
      "attachments": {},
      "cell_type": "markdown",
      "metadata": {},
      "source": [
       "Volvemos a escribir todo el código del transformer y creamos un objeto de este"
      ]
     },
     {
      "attachments": {},
      "cell_type": "markdown",
      "metadata": {},
      "source": [
       "### Clases de bajo nivel"
      ]
     },
     {
      "cell_type": "code",
      "execution_count": 17,
      "metadata": {},
      "outputs": [],
      "source": [
       "import torch\n",
       "import torch.nn as nn\n",
       "import torch.nn.functional as F\n",
       "import math\n",
       "\n",
       "class Embedding(nn.Module):\n",
       "    def __init__(self, vocab_size, embedding_dim):\n",
       "        super().__init__()\n",
       "        self.vocab_size = vocab_size\n",
       "        self.embedding_dim = embedding_dim\n",
       "\n",
       "        self.embedding = nn.Embedding(vocab_size, embedding_dim)\n",
       "\n",
       "    def forward(self, x):\n",
       "        return self.embedding(x)\n",
       "\n",
       "class PositionalEncoding(nn.Module):\n",
       "    def __init__(self, max_sequence_len, embedding_model_dim):\n",
       "        super().__init__()\n",
       "        self.embedding_dim = embedding_model_dim\n",
       "        positional_encoding = torch.zeros(max_sequence_len, self.embedding_dim)\n",
       "        for pos in range(max_sequence_len):\n",
       "            for i in range(0, self.embedding_dim, 2):\n",
       "                positional_encoding[pos, i]     = torch.sin(torch.tensor(pos / (10000 ** ((2 * i) / self.embedding_dim))))\n",
       "                positional_encoding[pos, i + 1] = torch.cos(torch.tensor(pos / (10000 ** ((2 * (i+1)) / self.embedding_dim))))\n",
       "        positional_encoding = positional_encoding.unsqueeze(0)\n",
       "        self.register_buffer('positional_encoding', positional_encoding)\n",
       "\n",
       "    def forward(self, x):\n",
       "        x = x * torch.sqrt(torch.tensor(self.embedding_dim))\n",
       "        sequence_len = x.size(1)\n",
       "        x = x + self.positional_encoding[:,:sequence_len]\n",
       "        return x\n",
       "\n",
       "class ScaledDotProductAttention(nn.Module):\n",
       "    def __init__(self, dim_embedding):\n",
       "        super().__init__()\n",
       "        self.dim_embedding = dim_embedding\n",
       "    \n",
       "    def forward(self, query, key, value, mask=None):\n",
       "        key_trasposed = key.transpose(-1,-2)\n",
       "        product = torch.matmul(query, key_trasposed)\n",
       "        scale = product / torch.sqrt(torch.tensor(self.dim_embedding))\n",
       "        if mask is not None:\n",
       "            scale = scale.masked_fill(mask == 0, float('-inf'))\n",
       "        attention_matrix = torch.softmax(scale, dim=-1)\n",
       "        output = torch.matmul(attention_matrix, value)\n",
       "        return output\n",
       "\n",
       "class MultiHeadAttention(nn.Module):\n",
       "    def __init__(self, heads, dim_embedding):\n",
       "        super().__init__()\n",
       "        \n",
       "        self.dim_embedding = dim_embedding\n",
       "        self.dim_proyection = dim_embedding // heads\n",
       "        self.heads = heads\n",
       "        self.proyection_Q = nn.Linear(dim_embedding, dim_embedding)\n",
       "        self.proyection_K = nn.Linear(dim_embedding, dim_embedding)\n",
       "        self.proyection_V = nn.Linear(dim_embedding, dim_embedding)\n",
       "        self.attention = nn.Linear(dim_embedding, dim_embedding)\n",
       "        self.scaled_dot_product_attention = ScaledDotProductAttention(self.dim_proyection)\n",
       "    \n",
       "    def forward(self, Q, K, V, mask=None):\n",
       "        batch_size = Q.size(0)\n",
       "        proyection_Q = self.proyection_Q(Q).view(batch_size, -1, self.heads, self.dim_proyection)\n",
       "        proyection_K = self.proyection_K(K).view(batch_size, -1, self.heads, self.dim_proyection)\n",
       "        proyection_V = self.proyection_V(V).view(batch_size, -1, self.heads, self.dim_proyection)\n",
       "        proyection_Q = proyection_Q.transpose(1,2)\n",
       "        proyection_K = proyection_K.transpose(1,2)\n",
       "        proyection_V = proyection_V.transpose(1,2)\n",
       "        scaled_dot_product_attention = self.scaled_dot_product_attention(proyection_Q, proyection_K, proyection_V, mask=mask)\n",
       "        concat = scaled_dot_product_attention.transpose(1,2).contiguous().view(batch_size, -1, self.dim_embedding)\n",
       "        output = self.attention(concat)\n",
       "        return output\n",
       "\n",
       "class AddAndNorm(nn.Module):\n",
       "    def __init__(self, dim_embedding):\n",
       "        super().__init__()\n",
       "        self.normalization = nn.LayerNorm(dim_embedding)\n",
       "\n",
       "    def forward(self, x, sublayer):\n",
       "        return self.normalization(torch.add(x, sublayer))\n",
       "\n",
       "class FeedForward(nn.Module):\n",
       "    def __init__(self, dim_embedding, increment=4):\n",
       "        super().__init__()\n",
       "        self.feed_forward = nn.Sequential(\n",
       "            nn.Linear(dim_embedding, dim_embedding*increment),\n",
       "            nn.ReLU(),\n",
       "            nn.Linear(dim_embedding*increment, dim_embedding)\n",
       "        )\n",
       "    \n",
       "    def forward(self, x):\n",
       "        x = self.feed_forward(x)\n",
       "        return x\n",
       "\n",
       "class Linear(nn.Module):\n",
       "    def __init__(self, dim_embedding, vocab_size):\n",
       "        super().__init__()\n",
       "        self.linear = nn.Linear(dim_embedding, vocab_size)\n",
       "        \n",
       "    def forward(self, x):\n",
       "        x = self.linear(x)\n",
       "        return x\n",
       "\n",
       "class Softmax(nn.Module):\n",
       "    def __init__(self):\n",
       "        super().__init__()\n",
       "        self.softmax = nn.Softmax(dim=1)\n",
       "        \n",
       "    def forward(self, x):\n",
       "        x = self.softmax(x)\n",
       "        return x\n",
       "\n",
       "class Dropout(torch.nn.Module):\n",
       "    def __init__(self, p=0.1):\n",
       "        super().__init__()\n",
       "        self.p = p\n",
       "\n",
       "    def forward(self, x):\n",
       "        if self.training:\n",
       "            return torch.nn.functional.dropout(x, p=self.p)\n",
       "        else:\n",
       "            return x\n"
      ]
     },
     {
      "attachments": {},
      "cell_type": "markdown",
      "metadata": {},
      "source": [
       "### Clases de medio nivel"
      ]
     },
     {
      "cell_type": "code",
      "execution_count": 18,
      "metadata": {},
      "outputs": [],
      "source": [
       "class EncoderLayer(nn.Module):\n",
       "    def __init__(self, heads, dim_embedding, prob_dropout=0.1):\n",
       "        super().__init__()\n",
       "        self.multi_head_attention = MultiHeadAttention(heads, dim_embedding)\n",
       "        self.dropout_1 = Dropout(prob_dropout)\n",
       "        self.add_and_norm_1 = AddAndNorm(dim_embedding)\n",
       "        self.feed_forward = FeedForward(dim_embedding)\n",
       "        self.dropout_2 = Dropout(prob_dropout)\n",
       "        self.add_and_norm_2 = AddAndNorm(dim_embedding)\n",
       "    \n",
       "    def forward(self, x):\n",
       "        multi_head_attention = self.multi_head_attention(x, x, x)\n",
       "        dropout1 = self.dropout_1(multi_head_attention)\n",
       "        add_and_norm_1 = self.add_and_norm_1(x, dropout1)\n",
       "        feed_forward = self.feed_forward(add_and_norm_1)\n",
       "        dropout2 = self.dropout_2(feed_forward)\n",
       "        add_and_norm_2 = self.add_and_norm_2(add_and_norm_1, dropout2)\n",
       "        return add_and_norm_2\n",
       "\n",
       "class Encoder(nn.Module):\n",
       "    def __init__(self, heads, dim_embedding, Nx, prob_dropout=0.1):\n",
       "        super().__init__()\n",
       "        self.encoder_layers = nn.ModuleList([EncoderLayer(heads, dim_embedding, prob_dropout) for _ in range(Nx)])\n",
       "    \n",
       "    def forward(self, x):\n",
       "        for encoder_layer in self.encoder_layers:\n",
       "            x = encoder_layer(x)\n",
       "        return x\n",
       "\n",
       "class TransformerEncoder(nn.Module):\n",
       "    def __init__(self, vocab_size, dim_embedding, max_sequence_len, heads, Nx, prob_dropout=0.1):\n",
       "        super().__init__()\n",
       "        self.input_embedding = Embedding(vocab_size, dim_embedding)\n",
       "        self.positional_encoding = PositionalEncoding(max_sequence_len, dim_embedding)\n",
       "        self.encoder = Encoder(heads, dim_embedding, Nx, prob_dropout)\n",
       "    \n",
       "    def forward(self, x):\n",
       "        input_embedding = self.input_embedding(x)\n",
       "        positional_encoding = self.positional_encoding(input_embedding)\n",
       "        encoder = self.encoder(positional_encoding)\n",
       "        return encoder\n",
       "\n",
       "class DecoderLayer(nn.Module):\n",
       "    def __init__(self, heads, dim_embedding, prob_dropout=0.1):\n",
       "        super().__init__()\n",
       "        self.masked_multi_head_attention = MultiHeadAttention(heads, dim_embedding)\n",
       "        self.dropout_1 = Dropout(prob_dropout)\n",
       "        self.add_and_norm_1 = AddAndNorm(dim_embedding)\n",
       "        self.encoder_decoder_multi_head_attention = MultiHeadAttention(heads, dim_embedding)\n",
       "        self.dropout_2 = Dropout(prob_dropout)\n",
       "        self.add_and_norm_2 = AddAndNorm(dim_embedding)\n",
       "        self.feed_forward = FeedForward(dim_embedding)\n",
       "        self.dropout_3 = Dropout(prob_dropout)\n",
       "        self.add_and_norm_3 = AddAndNorm(dim_embedding)\n",
       "    \n",
       "    def forward(self, x, encoder_output, mask=None):\n",
       "        Q = x\n",
       "        K = x\n",
       "        V = x\n",
       "        masked_multi_head_attention = self.masked_multi_head_attention(Q, K, V, mask=mask)\n",
       "        dropout1 = self.dropout_1(masked_multi_head_attention)\n",
       "        add_and_norm_1 = self.add_and_norm_1(dropout1, x)\n",
       "\n",
       "        Q = add_and_norm_1\n",
       "        K = encoder_output\n",
       "        V = encoder_output\n",
       "        encoder_decoder_multi_head_attention = self.encoder_decoder_multi_head_attention(Q, K, V)\n",
       "        dropout2 = self.dropout_2(encoder_decoder_multi_head_attention)\n",
       "        add_and_norm_2 = self.add_and_norm_2(dropout2, add_and_norm_1)\n",
       "\n",
       "        feed_forward = self.feed_forward(add_and_norm_2)\n",
       "        dropout3 = self.dropout_3(feed_forward)\n",
       "        add_and_norm_3 = self.add_and_norm_3(dropout3, add_and_norm_2)\n",
       "\n",
       "        return add_and_norm_3\n",
       "\n",
       "class Decoder(nn.Module):\n",
       "    def __init__(self, heads, dim_embedding, Nx, prob_dropout=0.1):\n",
       "        super().__init__()\n",
       "        self.layers = nn.ModuleList([DecoderLayer(heads, dim_embedding, prob_dropout) for _ in range(Nx)])\n",
       "    \n",
       "    def forward(self, x, encoder_output, mask=None):\n",
       "        for decoder_layer in self.layers:\n",
       "            x = decoder_layer(x, encoder_output, mask)\n",
       "        return x\n",
       "\n",
       "class TransformerDecoder(nn.Module):\n",
       "    def __init__(self, heads, dim_embedding, Nx, vocab_size, max_sequence_len, prob_dropout=0.1):\n",
       "        super().__init__()\n",
       "        self.embedding = Embedding(vocab_size, dim_embedding)\n",
       "        self.positional_encoding = PositionalEncoding(max_sequence_len, dim_embedding)\n",
       "        self.decoder = Decoder(heads, dim_embedding, Nx, prob_dropout)\n",
       "        self.linear = Linear(dim_embedding, vocab_size)\n",
       "        self.softmax = Softmax()\n",
       "    \n",
       "    def forward(self, x, encoder_output, mask=None):\n",
       "        x = self.embedding(x)\n",
       "        x = self.positional_encoding(x)\n",
       "        x = self.decoder(x, encoder_output, mask)\n",
       "        x = self.linear(x)\n",
       "        x = self.softmax(x)\n",
       "        return x\n"
      ]
     },
     {
      "attachments": {},
      "cell_type": "markdown",
      "metadata": {},
      "source": [
       "### Clase de alto nivel"
      ]
     },
     {
      "cell_type": "code",
      "execution_count": 19,
      "metadata": {},
      "outputs": [],
      "source": [
       "class Transformer(nn.Module):\n",
       "    def __init__(self, vocab_size, dim_embedding, max_sequence_len, heads, Nx, prob_dropout=0.1):\n",
       "        super().__init__()\n",
       "        self.encoder = TransformerEncoder(vocab_size, dim_embedding, max_sequence_len, heads, Nx, prob_dropout)\n",
       "        self.decoder = TransformerDecoder(heads, dim_embedding, Nx, vocab_size, max_sequence_len, prob_dropout)\n",
       "    \n",
       "    def forward(self, source, target, mask=None):\n",
       "        encoder_output = self.encoder(source)\n",
       "        decoder_output = self.decoder(target, encoder_output, mask)\n",
       "        return decoder_output\n"
      ]
     },
     {
      "attachments": {},
      "cell_type": "markdown",
      "metadata": {},
      "source": [
       "### Transformer"
      ]
     },
     {
      "cell_type": "code",
      "execution_count": 20,
      "metadata": {},
      "outputs": [],
      "source": [
       "def create_mask(sequence_len):\n",
       "    \"\"\"\n",
       "    Args:\n",
       "        sequence_len: length of sequence\n",
       "        \n",
       "    Returns:\n",
       "        mask matrix\n",
       "    \"\"\"\n",
       "    mask = torch.tril(torch.ones((sequence_len, sequence_len)))\n",
       "    return mask\n"
      ]
     },
     {
      "cell_type": "code",
      "execution_count": 21,
      "metadata": {},
      "outputs": [
       {
        "name": "stdout",
        "output_type": "stream",
        "text": [
         "vocab_size: 100277, dim_embedding: 512, max_secuence_length: 12, heads: 8, Nx: 6, prob_dropout: 0.1\n"
        ]
       }
      ],
      "source": [
       "vocab_size = encoder.n_vocab\n",
       "dim_embedding = 512\n",
       "max_sequence_len = 104\n",
       "heads = 8\n",
       "Nx = 6\n",
       "prob_dropout = 0.1\n",
       "print(f\"vocab_size: {vocab_size}, dim_embedding: {dim_embedding}, max_secuence_length: {max_secuence_length}, heads: {heads}, Nx: {Nx}, prob_dropout: {prob_dropout}\")\n",
       "\n",
       "transformer = Transformer(vocab_size=vocab_size,\n",
       "                          dim_embedding=dim_embedding,\n",
       "                          max_sequence_len=max_secuence_length,\n",
       "                          heads=heads,\n",
       "                          Nx=Nx,\n",
       "                          prob_dropout=prob_dropout)\n",
       "\n",
       "mask = create_mask(max_secuence_length)"
      ]
     },
     {
      "attachments": {},
      "cell_type": "markdown",
      "metadata": {},
      "source": [
       "Vamos a probar el modelo con una muestra del dataloader"
      ]
     },
     {
      "cell_type": "code",
      "execution_count": 22,
      "metadata": {},
      "outputs": [
       {
        "name": "stdout",
        "output_type": "stream",
        "text": [
         "idx: 278\n"
        ]
       },
       {
        "ename": "AttributeError",
        "evalue": "'Subset' object has no attribute 'decode'",
        "output_type": "error",
        "traceback": [
         "\u001b[0;31m---------------------------------------------------------------------------\u001b[0m",
         "\u001b[0;31mAttributeError\u001b[0m                            Traceback (most recent call last)",
         "Cell \u001b[0;32mIn[22], line 6\u001b[0m\n\u001b[1;32m      3\u001b[0m \u001b[39mprint\u001b[39m(\u001b[39mf\u001b[39m\u001b[39m\"\u001b[39m\u001b[39midx: \u001b[39m\u001b[39m{\u001b[39;00midx\u001b[39m}\u001b[39;00m\u001b[39m\"\u001b[39m)\n\u001b[1;32m      5\u001b[0m sample_train_dataset_idx_en, sample_train_dataset_idx_es \u001b[39m=\u001b[39m train_dataset[idx]\n\u001b[0;32m----> 6\u001b[0m sample_train_dataset_idx_en_sentence \u001b[39m=\u001b[39m train_dataset\u001b[39m.\u001b[39;49mdecode(sample_train_dataset_idx_en, encoder\u001b[39m.\u001b[39mdecode)\n\u001b[1;32m      7\u001b[0m sample_train_dataset_idx_es_sentence \u001b[39m=\u001b[39m train_dataset\u001b[39m.\u001b[39mdecode(sample_train_dataset_idx_es, encoder\u001b[39m.\u001b[39mdecode)\n\u001b[1;32m      8\u001b[0m \u001b[39mprint\u001b[39m(\u001b[39mf\u001b[39m\u001b[39m\"\u001b[39m\u001b[39msample sentence train_dataset en: \u001b[39m\u001b[39m{\u001b[39;00msample_train_dataset_idx_en_sentence\u001b[39m}\u001b[39;00m\u001b[39m\"\u001b[39m)\n",
         "\u001b[0;31mAttributeError\u001b[0m: 'Subset' object has no attribute 'decode'"
        ]
       }
      ],
      "source": [
       "idx = 259178 #\n",
       "idx = random.randint(0, len(train_dataset))\n",
       "print(f\"idx: {idx}\")\n",
       "\n",
       "sample_train_dataset_idx_en, sample_train_dataset_idx_es = train_dataset[idx]\n",
       "sample_train_dataset_idx_en_sentence = train_dataset.decode(sample_train_dataset_idx_en, encoder.decode)\n",
       "sample_train_dataset_idx_es_sentence = train_dataset.decode(sample_train_dataset_idx_es, encoder.decode)\n",
       "print(f\"sample sentence train_dataset en: {sample_train_dataset_idx_en_sentence}\")\n",
       "print(f\"sample sentence train_dataset es: {sample_train_dataset_idx_es_sentence}\")\n",
       "print(\"\")\n",
       "print(f\"sample train_dataset en: {sample_train_dataset_idx_en}, shape: {sample_train_dataset_idx_en.shape}\")\n",
       "print(f\"sample train_dataset es: {sample_train_dataset_idx_es}, shape: {sample_train_dataset_idx_es.shape}\")"
      ]
     },
     {
      "cell_type": "code",
      "execution_count": 23,
      "metadata": {},
      "outputs": [
       {
        "data": {
         "text/plain": [
          "torch.Size([1, 12, 100277])"
         ]
        },
        "execution_count": 23,
        "metadata": {},
        "output_type": "execute_result"
       }
      ],
      "source": [
       "source = sample_train_dataset_idx_en.unsqueeze(0)\n",
       "target = sample_train_dataset_idx_es.unsqueeze(0)\n",
       "output = transformer(source, target, mask)\n",
       "output.shape"
      ]
     },
     {
      "cell_type": "code",
      "execution_count": 24,
      "metadata": {},
      "outputs": [
       {
        "name": "stdout",
        "output_type": "stream",
        "text": [
         "batch_en shape: torch.Size([128, 12]), batch_es shape: torch.Size([128, 12])\n"
        ]
       },
       {
        "data": {
         "text/plain": [
          "torch.Size([128, 12, 100277])"
         ]
        },
        "execution_count": 24,
        "metadata": {},
        "output_type": "execute_result"
       }
      ],
      "source": [
       "batch_en, batch_es = next(iter(train_dataloader))\n",
       "print(f\"batch_en shape: {batch_en.shape}, batch_es shape: {batch_es.shape}\")\n",
       "\n",
       "device = torch.device(\"cuda\" if torch.cuda.is_available() else \"cpu\")\n",
       "batch_en = batch_en.to(device)\n",
       "batch_es = batch_es.to(device)\n",
       "mask = mask.to(device)\n",
       "transformer = transformer.to(device)\n",
       "\n",
       "output = transformer(batch_en, batch_es, mask)\n",
       "output.shape"
      ]
     },
     {
      "attachments": {},
      "cell_type": "markdown",
      "metadata": {},
      "source": [
       "## Entrenamiento"
      ]
     },
     {
      "attachments": {},
      "cell_type": "markdown",
      "metadata": {},
      "source": [
       "### Función de pérdida"
      ]
     },
     {
      "attachments": {},
      "cell_type": "markdown",
      "metadata": {},
      "source": [
       "Usamos la clase creada para el label smoothing"
      ]
     },
     {
      "cell_type": "code",
      "execution_count": 25,
      "metadata": {},
      "outputs": [],
      "source": [
       "class LabelSmoothingLoss(nn.Module):\n",
       "    def __init__(self, classes, smoothing=0.1, dim=-1, ignore_index=-100):\n",
       "        super(LabelSmoothingLoss, self).__init__()\n",
       "        self.confidence = 1.0 - smoothing\n",
       "        self.smoothing = smoothing\n",
       "        self.classes = classes\n",
       "        self.dim = dim\n",
       "        self.ignore_index = ignore_index\n",
       "\n",
       "    def forward(self, pred, target):\n",
       "        pred = pred.log_softmax(dim=self.dim)\n",
       "        with torch.no_grad():\n",
       "            true_dist = torch.zeros_like(pred)\n",
       "            true_dist.fill_(self.smoothing / (self.classes - 1))\n",
       "            true_dist.scatter_(1, target.data.unsqueeze(1), self.confidence)\n",
       "            mask = (target == self.ignore_index).unsqueeze(1).expand_as(true_dist)\n",
       "            if mask.any():\n",
       "                true_dist[mask] = 0\n",
       "        return torch.mean(torch.sum(-true_dist * pred, dim=self.dim))\n",
       "\n",
       "loss_function = LabelSmoothingLoss(classes=vocab_size, smoothing=0.1, ignore_index=padding_token[0])\n"
      ]
     },
     {
      "attachments": {},
      "cell_type": "markdown",
      "metadata": {},
      "source": [
       "### Optimizador"
      ]
     },
     {
      "attachments": {},
      "cell_type": "markdown",
      "metadata": {},
      "source": [
       "Creamos el optimizador con los parámetros del paper e implementamos el scheduler del learning rate"
      ]
     },
     {
      "cell_type": "code",
      "execution_count": 26,
      "metadata": {},
      "outputs": [],
      "source": [
       "LR = 1e-4\n",
       "optimizer = torch.optim.Adam(transformer.parameters(), lr=LR, betas=(0.9, 0.98), eps=1e-9)"
      ]
     },
     {
      "cell_type": "code",
      "execution_count": 27,
      "metadata": {},
      "outputs": [],
      "source": [
       "def calculate_lr(step_num, dim_embeding_model=512, warmup_steps=4000):\n",
       "    step_num += 1e-7 # Avoid division by zero\n",
       "    return (dim_embeding_model**-0.5) * min(step_num**-0.5, step_num*(warmup_steps**-1.5))\n",
       "\n",
       "lr_lambda = lambda step: calculate_lr(step, dim_embeding_model=dim_embedding)\n",
       "scheduler = torch.optim.lr_scheduler.LambdaLR(optimizer, lr_lambda)"
      ]
     },
     {
      "attachments": {},
      "cell_type": "markdown",
      "metadata": {},
      "source": [
       "### Ciclo de entrenamiento"
      ]
     },
     {
      "cell_type": "code",
      "execution_count": 45,
      "metadata": {},
      "outputs": [],
      "source": [
       "import numpy as np\n",
       "\n",
       "def train_loop(dataloader, model, loss_fn, optimizer, device, mask):\n",
       "    size = len(dataloader.dataset)\n",
       "    num_batches = len(dataloader)\n",
       "    mean_loss = 0\n",
       "    lr_list = []\n",
       "    for batch, (src, trg) in enumerate(dataloader):\n",
       "        src = src.to(device)\n",
       "        trg = trg.to(device)\n",
       "        mask = mask.to(device)\n",
       "\n",
       "        pred = model(src, trg, mask)\n",
       "        loss = loss_fn(pred.transpose(1, 2), trg)\n",
       "        mean_loss += loss.item()\n",
       "\n",
       "        lr = optimizer.param_groups[0]['lr']\n",
       "        lr_list.append(lr)\n",
       "\n",
       "        optimizer.zero_grad()\n",
       "        loss.backward()\n",
       "        optimizer.step()\n",
       "        scheduler.step()\n",
       "\n",
       "        if batch % 100 == 0:\n",
       "            loss, current = loss.item(), batch * len(src)\n",
       "            print(f\"loss: {loss:>7f}  [{current:>5d}/{size:>5d}]\")\n",
       "    return mean_loss/num_batches, np.array(lr_list)\n",
       "\n",
       "def validation_loop(dataloader, model, loss_fn, device, mask):\n",
       "    num_batches = len(dataloader)\n",
       "    validation_loss = 0\n",
       "    with torch.no_grad():\n",
       "        for src, trg in dataloader:\n",
       "            src = src.to(device)\n",
       "            trg = trg.to(device)\n",
       "            mask = mask.to(device)\n",
       "\n",
       "            pred = model(src, trg, mask)\n",
       "            validation_loss += loss_fn(pred.transpose(1, 2), trg).item()\n",
       "    validation_loss /= num_batches\n",
       "    print(f\"Avg validation loss: {validation_loss:>8f} \\n\")\n",
       "    return validation_loss"
      ]
     },
     {
      "cell_type": "code",
      "execution_count": 46,
      "metadata": {},
      "outputs": [
       {
        "name": "stdout",
        "output_type": "stream",
        "text": [
         "device: cuda\n"
        ]
       }
      ],
      "source": [
       "device = torch.device(\"cuda\" if torch.cuda.is_available() else \"cpu\")\n",
       "print(f\"device: {device}\")\n",
       "\n",
       "transformer = transformer.to(device)"
      ]
     },
     {
      "cell_type": "code",
      "execution_count": 54,
      "metadata": {},
      "outputs": [
       {
        "name": "stdout",
        "output_type": "stream",
        "text": [
         "Epoch 1\n",
         "-------------------------------\n",
         "loss: 0.000209  [    0/  500]\n",
         "Avg validation loss: 0.000235 \n",
         "\n",
         "Epoch 2\n",
         "-------------------------------\n",
         "loss: 0.000200  [    0/  500]\n",
         "Avg validation loss: 0.000235 \n",
         "\n",
         "Epoch 3\n",
         "-------------------------------\n",
         "loss: 0.000213  [    0/  500]\n",
         "Avg validation loss: 0.000235 \n",
         "\n",
         "Epoch 4\n",
         "-------------------------------\n",
         "loss: 0.000212  [    0/  500]\n",
         "Avg validation loss: 0.000235 \n",
         "\n",
         "Epoch 5\n",
         "-------------------------------\n",
         "loss: 0.000206  [    0/  500]\n",
         "Avg validation loss: 0.000235 \n",
         "\n",
         "Epoch 6\n",
         "-------------------------------\n",
         "loss: 0.000213  [    0/  500]\n",
         "Avg validation loss: 0.000235 \n",
         "\n",
         "Epoch 7\n",
         "-------------------------------\n",
         "loss: 0.000210  [    0/  500]\n",
         "Avg validation loss: 0.000235 \n",
         "\n",
         "Epoch 8\n",
         "-------------------------------\n",
         "loss: 0.000216  [    0/  500]\n",
         "Avg validation loss: 0.000235 \n",
         "\n",
         "Epoch 9\n",
         "-------------------------------\n",
         "loss: 0.000221  [    0/  500]\n",
         "Avg validation loss: 0.000235 \n",
         "\n",
         "Epoch 10\n",
         "-------------------------------\n",
         "loss: 0.000208  [    0/  500]\n",
         "Avg validation loss: 0.000235 \n",
         "\n",
         "Epoch 11\n",
         "-------------------------------\n",
         "loss: 0.000202  [    0/  500]\n",
         "Avg validation loss: 0.000235 \n",
         "\n",
         "Epoch 12\n",
         "-------------------------------\n",
         "loss: 0.000215  [    0/  500]\n",
         "Avg validation loss: 0.000235 \n",
         "\n",
         "Epoch 13\n",
         "-------------------------------\n",
         "loss: 0.000215  [    0/  500]\n",
         "Avg validation loss: 0.000235 \n",
         "\n",
         "Epoch 14\n",
         "-------------------------------\n",
         "loss: 0.000201  [    0/  500]\n",
         "Avg validation loss: 0.000235 \n",
         "\n",
         "Epoch 15\n",
         "-------------------------------\n",
         "loss: 0.000212  [    0/  500]\n",
         "Avg validation loss: 0.000235 \n",
         "\n",
         "Epoch 16\n",
         "-------------------------------\n",
         "loss: 0.000213  [    0/  500]\n",
         "Avg validation loss: 0.000235 \n",
         "\n",
         "Epoch 17\n",
         "-------------------------------\n",
         "loss: 0.000213  [    0/  500]\n",
         "Avg validation loss: 0.000235 \n",
         "\n",
         "Epoch 18\n",
         "-------------------------------\n",
         "loss: 0.000213  [    0/  500]\n",
         "Avg validation loss: 0.000235 \n",
         "\n",
         "Epoch 19\n",
         "-------------------------------\n",
         "loss: 0.000212  [    0/  500]\n",
         "Avg validation loss: 0.000235 \n",
         "\n",
         "Epoch 20\n",
         "-------------------------------\n",
         "loss: 0.000216  [    0/  500]\n",
         "Avg validation loss: 0.000235 \n",
         "\n",
         "Epoch 21\n",
         "-------------------------------\n",
         "loss: 0.000216  [    0/  500]\n",
         "Avg validation loss: 0.000235 \n",
         "\n",
         "Epoch 22\n",
         "-------------------------------\n",
         "loss: 0.000214  [    0/  500]\n",
         "Avg validation loss: 0.000235 \n",
         "\n",
         "Epoch 23\n",
         "-------------------------------\n",
         "loss: 0.000219  [    0/  500]\n",
         "Avg validation loss: 0.000235 \n",
         "\n",
         "Epoch 24\n",
         "-------------------------------\n",
         "loss: 0.000211  [    0/  500]\n",
         "Avg validation loss: 0.000235 \n",
         "\n",
         "Epoch 25\n",
         "-------------------------------\n",
         "loss: 0.000211  [    0/  500]\n",
         "Avg validation loss: 0.000235 \n",
         "\n",
         "Epoch 26\n",
         "-------------------------------\n",
         "loss: 0.000211  [    0/  500]\n",
         "Avg validation loss: 0.000235 \n",
         "\n",
         "Epoch 27\n",
         "-------------------------------\n",
         "loss: 0.000213  [    0/  500]\n",
         "Avg validation loss: 0.000235 \n",
         "\n",
         "Epoch 28\n",
         "-------------------------------\n",
         "loss: 0.000211  [    0/  500]\n",
         "Avg validation loss: 0.000235 \n",
         "\n",
         "Epoch 29\n",
         "-------------------------------\n",
         "loss: 0.000216  [    0/  500]\n",
         "Avg validation loss: 0.000235 \n",
         "\n",
         "Epoch 30\n",
         "-------------------------------\n",
         "loss: 0.000210  [    0/  500]\n",
         "Avg validation loss: 0.000235 \n",
         "\n",
         "Epoch 31\n",
         "-------------------------------\n",
         "loss: 0.000210  [    0/  500]\n",
         "Avg validation loss: 0.000235 \n",
         "\n",
         "Epoch 32\n",
         "-------------------------------\n",
         "loss: 0.000213  [    0/  500]\n",
         "Avg validation loss: 0.000235 \n",
         "\n",
         "Epoch 33\n",
         "-------------------------------\n",
         "loss: 0.000218  [    0/  500]\n",
         "Avg validation loss: 0.000235 \n",
         "\n",
         "Epoch 34\n",
         "-------------------------------\n",
         "loss: 0.000210  [    0/  500]\n",
         "Avg validation loss: 0.000235 \n",
         "\n",
         "Epoch 35\n",
         "-------------------------------\n",
         "loss: 0.000212  [    0/  500]\n",
         "Avg validation loss: 0.000235 \n",
         "\n",
         "Epoch 36\n",
         "-------------------------------\n",
         "loss: 0.000206  [    0/  500]\n",
         "Avg validation loss: 0.000235 \n",
         "\n",
         "Epoch 37\n",
         "-------------------------------\n",
         "loss: 0.000203  [    0/  500]\n",
         "Avg validation loss: 0.000235 \n",
         "\n",
         "Epoch 38\n",
         "-------------------------------\n",
         "loss: 0.000225  [    0/  500]\n",
         "Avg validation loss: 0.000235 \n",
         "\n",
         "Epoch 39\n",
         "-------------------------------\n",
         "loss: 0.000210  [    0/  500]\n",
         "Avg validation loss: 0.000235 \n",
         "\n",
         "Epoch 40\n",
         "-------------------------------\n",
         "loss: 0.000214  [    0/  500]\n",
         "Avg validation loss: 0.000235 \n",
         "\n",
         "Epoch 41\n",
         "-------------------------------\n",
         "loss: 0.000211  [    0/  500]\n",
         "Avg validation loss: 0.000235 \n",
         "\n",
         "Epoch 42\n",
         "-------------------------------\n",
         "loss: 0.000208  [    0/  500]\n",
         "Avg validation loss: 0.000235 \n",
         "\n",
         "Epoch 43\n",
         "-------------------------------\n",
         "loss: 0.000213  [    0/  500]\n",
         "Avg validation loss: 0.000235 \n",
         "\n",
         "Epoch 44\n",
         "-------------------------------\n",
         "loss: 0.000208  [    0/  500]\n",
         "Avg validation loss: 0.000235 \n",
         "\n",
         "Epoch 45\n",
         "-------------------------------\n",
         "loss: 0.000210  [    0/  500]\n",
         "Avg validation loss: 0.000235 \n",
         "\n",
         "Epoch 46\n",
         "-------------------------------\n",
         "loss: 0.000204  [    0/  500]\n",
         "Avg validation loss: 0.000235 \n",
         "\n",
         "Epoch 47\n",
         "-------------------------------\n",
         "loss: 0.000218  [    0/  500]\n",
         "Avg validation loss: 0.000235 \n",
         "\n",
         "Epoch 48\n",
         "-------------------------------\n",
         "loss: 0.000211  [    0/  500]\n",
         "Avg validation loss: 0.000235 \n",
         "\n",
         "Epoch 49\n",
         "-------------------------------\n",
         "loss: 0.000210  [    0/  500]\n",
         "Avg validation loss: 0.000235 \n",
         "\n",
         "Epoch 50\n",
         "-------------------------------\n",
         "loss: 0.000214  [    0/  500]\n",
         "Avg validation loss: 0.000235 \n",
         "\n",
         "Epoch 51\n",
         "-------------------------------\n",
         "loss: 0.000216  [    0/  500]\n",
         "Avg validation loss: 0.000235 \n",
         "\n",
         "Epoch 52\n",
         "-------------------------------\n",
         "loss: 0.000206  [    0/  500]\n",
         "Avg validation loss: 0.000235 \n",
         "\n",
         "Epoch 53\n",
         "-------------------------------\n",
         "loss: 0.000209  [    0/  500]\n",
         "Avg validation loss: 0.000235 \n",
         "\n",
         "Epoch 54\n",
         "-------------------------------\n",
         "loss: 0.000212  [    0/  500]\n",
         "Avg validation loss: 0.000235 \n",
         "\n",
         "Epoch 55\n",
         "-------------------------------\n",
         "loss: 0.000205  [    0/  500]\n",
         "Avg validation loss: 0.000235 \n",
         "\n",
         "Epoch 56\n",
         "-------------------------------\n",
         "loss: 0.000212  [    0/  500]\n",
         "Avg validation loss: 0.000235 \n",
         "\n",
         "Epoch 57\n",
         "-------------------------------\n",
         "loss: 0.000209  [    0/  500]\n",
         "Avg validation loss: 0.000235 \n",
         "\n",
         "Epoch 58\n",
         "-------------------------------\n",
         "loss: 0.000203  [    0/  500]\n",
         "Avg validation loss: 0.000235 \n",
         "\n",
         "Epoch 59\n",
         "-------------------------------\n",
         "loss: 0.000209  [    0/  500]\n",
         "Avg validation loss: 0.000235 \n",
         "\n",
         "Epoch 60\n",
         "-------------------------------\n",
         "loss: 0.000209  [    0/  500]\n",
         "Avg validation loss: 0.000235 \n",
         "\n",
         "Epoch 61\n",
         "-------------------------------\n",
         "loss: 0.000209  [    0/  500]\n",
         "Avg validation loss: 0.000235 \n",
         "\n",
         "Epoch 62\n",
         "-------------------------------\n",
         "loss: 0.000207  [    0/  500]\n",
         "Avg validation loss: 0.000235 \n",
         "\n",
         "Epoch 63\n",
         "-------------------------------\n",
         "loss: 0.000209  [    0/  500]\n",
         "Avg validation loss: 0.000235 \n",
         "\n",
         "Epoch 64\n",
         "-------------------------------\n",
         "loss: 0.000204  [    0/  500]\n",
         "Avg validation loss: 0.000235 \n",
         "\n",
         "Epoch 65\n",
         "-------------------------------\n",
         "loss: 0.000208  [    0/  500]\n",
         "Avg validation loss: 0.000235 \n",
         "\n",
         "Epoch 66\n",
         "-------------------------------\n",
         "loss: 0.000207  [    0/  500]\n",
         "Avg validation loss: 0.000235 \n",
         "\n",
         "Epoch 67\n",
         "-------------------------------\n",
         "loss: 0.000208  [    0/  500]\n",
         "Avg validation loss: 0.000235 \n",
         "\n",
         "Epoch 68\n",
         "-------------------------------\n",
         "loss: 0.000199  [    0/  500]\n",
         "Avg validation loss: 0.000235 \n",
         "\n",
         "Epoch 69\n",
         "-------------------------------\n",
         "loss: 0.000210  [    0/  500]\n",
         "Avg validation loss: 0.000235 \n",
         "\n",
         "Epoch 70\n",
         "-------------------------------\n",
         "loss: 0.000210  [    0/  500]\n",
         "Avg validation loss: 0.000235 \n",
         "\n",
         "Epoch 71\n",
         "-------------------------------\n",
         "loss: 0.000211  [    0/  500]\n",
         "Avg validation loss: 0.000235 \n",
         "\n",
         "Epoch 72\n",
         "-------------------------------\n",
         "loss: 0.000213  [    0/  500]\n",
         "Avg validation loss: 0.000235 \n",
         "\n",
         "Epoch 73\n",
         "-------------------------------\n",
         "loss: 0.000218  [    0/  500]\n",
         "Avg validation loss: 0.000235 \n",
         "\n",
         "Epoch 74\n",
         "-------------------------------\n",
         "loss: 0.000213  [    0/  500]\n",
         "Avg validation loss: 0.000235 \n",
         "\n",
         "Epoch 75\n",
         "-------------------------------\n",
         "loss: 0.000213  [    0/  500]\n",
         "Avg validation loss: 0.000235 \n",
         "\n",
         "Epoch 76\n",
         "-------------------------------\n",
         "loss: 0.000215  [    0/  500]\n",
         "Avg validation loss: 0.000235 \n",
         "\n",
         "Epoch 77\n",
         "-------------------------------\n",
         "loss: 0.000209  [    0/  500]\n",
         "Avg validation loss: 0.000235 \n",
         "\n",
         "Epoch 78\n",
         "-------------------------------\n",
         "loss: 0.000211  [    0/  500]\n",
         "Avg validation loss: 0.000235 \n",
         "\n",
         "Epoch 79\n",
         "-------------------------------\n",
         "loss: 0.000208  [    0/  500]\n",
         "Avg validation loss: 0.000235 \n",
         "\n",
         "Epoch 80\n",
         "-------------------------------\n",
         "loss: 0.000207  [    0/  500]\n",
         "Avg validation loss: 0.000235 \n",
         "\n",
         "Epoch 81\n",
         "-------------------------------\n",
         "loss: 0.000205  [    0/  500]\n",
         "Avg validation loss: 0.000235 \n",
         "\n",
         "Epoch 82\n",
         "-------------------------------\n",
         "loss: 0.000209  [    0/  500]\n",
         "Avg validation loss: 0.000235 \n",
         "\n",
         "Epoch 83\n",
         "-------------------------------\n",
         "loss: 0.000218  [    0/  500]\n",
         "Avg validation loss: 0.000235 \n",
         "\n",
         "Epoch 84\n",
         "-------------------------------\n",
         "loss: 0.000209  [    0/  500]\n",
         "Avg validation loss: 0.000235 \n",
         "\n",
         "Epoch 85\n",
         "-------------------------------\n",
         "loss: 0.000210  [    0/  500]\n",
         "Avg validation loss: 0.000235 \n",
         "\n",
         "Epoch 86\n",
         "-------------------------------\n",
         "loss: 0.000210  [    0/  500]\n",
         "Avg validation loss: 0.000235 \n",
         "\n",
         "Epoch 87\n",
         "-------------------------------\n",
         "loss: 0.000207  [    0/  500]\n",
         "Avg validation loss: 0.000235 \n",
         "\n",
         "Epoch 88\n",
         "-------------------------------\n",
         "loss: 0.000211  [    0/  500]\n",
         "Avg validation loss: 0.000235 \n",
         "\n",
         "Epoch 89\n",
         "-------------------------------\n",
         "loss: 0.000215  [    0/  500]\n",
         "Avg validation loss: 0.000235 \n",
         "\n",
         "Epoch 90\n",
         "-------------------------------\n",
         "loss: 0.000212  [    0/  500]\n",
         "Avg validation loss: 0.000235 \n",
         "\n",
         "Epoch 91\n",
         "-------------------------------\n",
         "loss: 0.000211  [    0/  500]\n",
         "Avg validation loss: 0.000235 \n",
         "\n",
         "Epoch 92\n",
         "-------------------------------\n",
         "loss: 0.000209  [    0/  500]\n",
         "Avg validation loss: 0.000235 \n",
         "\n",
         "Epoch 93\n",
         "-------------------------------\n",
         "loss: 0.000216  [    0/  500]\n",
         "Avg validation loss: 0.000235 \n",
         "\n",
         "Epoch 94\n",
         "-------------------------------\n",
         "loss: 0.000204  [    0/  500]\n",
         "Avg validation loss: 0.000235 \n",
         "\n",
         "Epoch 95\n",
         "-------------------------------\n",
         "loss: 0.000208  [    0/  500]\n",
         "Avg validation loss: 0.000235 \n",
         "\n",
         "Epoch 96\n",
         "-------------------------------\n",
         "loss: 0.000207  [    0/  500]\n",
         "Avg validation loss: 0.000235 \n",
         "\n",
         "Epoch 97\n",
         "-------------------------------\n",
         "loss: 0.000211  [    0/  500]\n",
         "Avg validation loss: 0.000235 \n",
         "\n",
         "Epoch 98\n",
         "-------------------------------\n",
         "loss: 0.000203  [    0/  500]\n",
         "Avg validation loss: 0.000235 \n",
         "\n",
         "Epoch 99\n",
         "-------------------------------\n",
         "loss: 0.000207  [    0/  500]\n",
         "Avg validation loss: 0.000235 \n",
         "\n",
         "Epoch 100\n",
         "-------------------------------\n",
         "loss: 0.000210  [    0/  500]\n",
         "Avg validation loss: 0.000235 \n",
         "\n",
         "Done!\n"
        ]
       }
      ],
      "source": [
       "epochs = 100000\n",
       "# epochs = 100 # ! Quitar\n",
       "train_loss_list = []\n",
       "train_lr_list = []\n",
       "test_loss_list = []\n",
       "train_loss_list = np.array(train_loss_list)\n",
       "train_lr_list = np.array(train_lr_list)\n",
       "test_loss_list = np.array(test_loss_list)\n",
       "for t in range(epochs):\n",
       "    print(f\"Epoch {t+1}\\n-------------------------------\")\n",
       "    train_loss, train_lr = train_loop(train_dataloader, transformer, loss_function, optimizer, device, mask)\n",
       "    validation_loss = validation_loop(validation_dataloader, transformer, loss_function, device, mask)\n",
       "    train_loss_list = np.append(train_loss_list, train_loss)\n",
       "    train_lr_list = np.append(train_lr_list, train_lr)\n",
       "    test_loss_list = np.append(test_loss_list, validation_loss)\n",
       "print(\"Done!\")"
      ]
     },
     {
      "cell_type": "code",
      "execution_count": 57,
      "metadata": {},
      "outputs": [
       {
        "data": {
         "image/png": "[encoded data removed]",
         "text/plain": [
          "<Figure size 1500x500 with 2 Axes>"
         ]
        },
        "metadata": {},
        "output_type": "display_data"
       }
      ],
      "source": [
       "import matplotlib.pyplot as plt\n",
       "\n",
       "fig, axs = plt.subplots(1, 2, figsize=(15, 5))\n",
       "axs[0].plot(train_loss_list)\n",
       "axs[0].plot(test_loss_list)\n",
       "axs[0].set_title(\"Loss\")\n",
       "axs[0].legend([\"Train\", \"Test\"])\n",
       "axs[1].plot(train_lr_list)\n",
       "axs[1].set_title(\"Learning rate\")\n",
       "plt.show()"
      ]
     }
    ],
    "metadata": {
     "kernelspec": {
      "display_name": "cursopytorch",
      "language": "python",
      "name": "python3"
     },
     "language_info": {
      "codemirror_mode": {
       "name": "ipython",
       "version": 3
      },
      "file_extension": ".py",
      "mimetype": "text/x-python",
      "name": "python",
      "nbconvert_exporter": "python",
      "pygments_lexer": "ipython3",
      "version": "3.10.11"
     },
     "orig_nbformat": 4
    },
    "nbformat": 4,
    "nbformat_minor": 2
   }
   