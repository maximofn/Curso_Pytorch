{
 "cells": [
  {
   "attachments": {},
   "cell_type": "markdown",
   "metadata": {},
   "source": [
    "# Preprocesado del dataset"
   ]
  },
  {
   "attachments": {},
   "cell_type": "markdown",
   "metadata": {},
   "source": [
    "## Carga de los datos"
   ]
  },
  {
   "attachments": {},
   "cell_type": "markdown",
   "metadata": {},
   "source": [
    "Primero de todo cargamos los datos a los que le hicimos la limpieza"
   ]
  },
  {
   "cell_type": "code",
   "execution_count": 1,
   "metadata": {},
   "outputs": [],
   "source": [
    "from datasets import load_from_disk\n",
    "\n",
    "path = \"data/opus100_croped_10\"\n",
    "opus100 = load_from_disk(path)"
   ]
  },
  {
   "cell_type": "code",
   "execution_count": 2,
   "metadata": {},
   "outputs": [],
   "source": [
    "import tiktoken\n",
    "\n",
    "encoder = tiktoken.get_encoding(\"cl100k_base\")\n",
    "\n",
    "start_token = chr(1)\n",
    "start_token = encoder.encode(start_token)\n",
    "\n",
    "end_token = chr(2)\n",
    "end_token = encoder.encode(end_token)\n",
    "\n",
    "padding_token = chr(3)\n",
    "padding_token = encoder.encode(padding_token)\n",
    "\n",
    "max_secuence_length = 10 + 2"
   ]
  },
  {
   "cell_type": "code",
   "execution_count": 3,
   "metadata": {},
   "outputs": [
    {
     "name": "stderr",
     "output_type": "stream",
     "text": [
      "100%|█████████▉| 463666/463854 [00:48<00:00, 9693.34it/s] "
     ]
    }
   ],
   "source": [
    "import torch\n",
    "import tqdm\n",
    "\n",
    "inputs = []\n",
    "labels = []\n",
    "\n",
    "progress_bar = tqdm.tqdm(total=len(opus100['train']))\n",
    "\n",
    "for example in opus100['train']:\n",
    "    input = example['translation']['en']\n",
    "    input = start_token + encoder.encode(input) + end_token\n",
    "    if len(input) > max_secuence_length:  # Truncate if too long\n",
    "        input = input[:max_secuence_length]\n",
    "    else:  # Pad if too short\n",
    "        input = input + padding_token * (max_secuence_length - len(input))\n",
    "    input = torch.tensor(input)\n",
    "    inputs.append(input)\n",
    "\n",
    "    label = example['translation']['es']\n",
    "    label = start_token + encoder.encode(label) + end_token\n",
    "    if len(label) > max_secuence_length:  # Truncate if too long\n",
    "        label = label[:max_secuence_length]\n",
    "    else:  # Pad if too short\n",
    "        label = label + padding_token * (max_secuence_length - len(label))\n",
    "    label = torch.tensor(label)\n",
    "    labels.append(label)\n",
    "\n",
    "    progress_bar.update(1)\n",
    "\n",
    "inputs = torch.stack(inputs)\n",
    "labels = torch.stack(labels)\n",
    "\n",
    "torch.save(inputs, \"data/opus100_croped_10/train_inputs.pt\")\n",
    "torch.save(labels, \"data/opus100_croped_10/train_labels.pt\")"
   ]
  },
  {
   "cell_type": "code",
   "execution_count": 4,
   "metadata": {},
   "outputs": [
    {
     "name": "stderr",
     "output_type": "stream",
     "text": [
      "100%|██████████| 463854/463854 [00:50<00:00, 9213.83it/s]\n"
     ]
    }
   ],
   "source": [
    "path = \"data/opus100_croped_20\"\n",
    "opus100 = load_from_disk(path)\n",
    "\n",
    "inputs = []\n",
    "labels = []\n",
    "\n",
    "progress_bar = tqdm.tqdm(total=len(opus100['train']))\n",
    "\n",
    "for example in opus100['train']:\n",
    "    input = example['translation']['en']\n",
    "    input = start_token + encoder.encode(input) + end_token\n",
    "    if len(input) > max_secuence_length:  # Truncate if too long\n",
    "        input = input[:max_secuence_length]\n",
    "    else:  # Pad if too short\n",
    "        input = input + padding_token * (max_secuence_length - len(input))\n",
    "    input = torch.tensor(input)\n",
    "    inputs.append(input)\n",
    "\n",
    "    label = example['translation']['es']\n",
    "    label = start_token + encoder.encode(label) + end_token\n",
    "    if len(label) > max_secuence_length:  # Truncate if too long\n",
    "        label = label[:max_secuence_length]\n",
    "    else:  # Pad if too short\n",
    "        label = label + padding_token * (max_secuence_length - len(label))\n",
    "    label = torch.tensor(label)\n",
    "    labels.append(label)\n",
    "\n",
    "    progress_bar.update(1)\n",
    "\n",
    "inputs = torch.stack(inputs)\n",
    "labels = torch.stack(labels)\n",
    "\n",
    "torch.save(inputs, \"data/opus100_croped_20/train_inputs.pt\")\n",
    "torch.save(labels, \"data/opus100_croped_20/train_labels.pt\")"
   ]
  },
  {
   "cell_type": "code",
   "execution_count": 5,
   "metadata": {},
   "outputs": [
    {
     "name": "stderr",
     "output_type": "stream",
     "text": [
      "100%|██████████| 741145/741145 [01:27<00:00, 8472.43it/s]\n",
      "100%|█████████▉| 983121/983138 [02:31<00:00, 6289.68it/s]"
     ]
    },
    {
     "name": "stderr",
     "output_type": "stream",
     "text": [
      "100%|██████████| 983138/983138 [02:42<00:00, 6289.68it/s]"
     ]
    }
   ],
   "source": [
    "path = \"data/opus100_croped\"\n",
    "opus100 = load_from_disk(path)\n",
    "\n",
    "inputs = []\n",
    "labels = []\n",
    "\n",
    "progress_bar = tqdm.tqdm(total=len(opus100['train']))\n",
    "\n",
    "for example in opus100['train']:\n",
    "    input = example['translation']['en']\n",
    "    input = start_token + encoder.encode(input) + end_token\n",
    "    if len(input) > max_secuence_length:  # Truncate if too long\n",
    "        input = input[:max_secuence_length]\n",
    "    else:  # Pad if too short\n",
    "        input = input + padding_token * (max_secuence_length - len(input))\n",
    "    input = torch.tensor(input)\n",
    "    inputs.append(input)\n",
    "\n",
    "    label = example['translation']['es']\n",
    "    label = start_token + encoder.encode(label) + end_token\n",
    "    if len(label) > max_secuence_length:  # Truncate if too long\n",
    "        label = label[:max_secuence_length]\n",
    "    else:  # Pad if too short\n",
    "        label = label + padding_token * (max_secuence_length - len(label))\n",
    "    label = torch.tensor(label)\n",
    "    labels.append(label)\n",
    "\n",
    "    progress_bar.update(1)\n",
    "\n",
    "inputs = torch.stack(inputs)\n",
    "labels = torch.stack(labels)\n",
    "\n",
    "torch.save(inputs, \"data/opus100_croped/train_inputs.pt\")\n",
    "torch.save(labels, \"data/opus100_croped/train_labels.pt\")"
   ]
  }
 ],
 "metadata": {
  "kernelspec": {
   "display_name": "cursopytorch",
   "language": "python",
   "name": "python3"
  },
  "language_info": {
   "codemirror_mode": {
    "name": "ipython",
    "version": 3
   },
   "file_extension": ".py",
   "mimetype": "text/x-python",
   "name": "python",
   "nbconvert_exporter": "python",
   "pygments_lexer": "ipython3",
   "version": "3.8.17"
  },
  "orig_nbformat": 4
 },
 "nbformat": 4,
 "nbformat_minor": 2
}
