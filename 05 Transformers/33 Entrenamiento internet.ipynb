{
 "cells": [
  {
   "attachments": {},
   "cell_type": "markdown",
   "metadata": {},
   "source": [
    "# Entrenamiento internet"
   ]
  },
  {
   "cell_type": "code",
   "execution_count": 1,
   "metadata": {},
   "outputs": [
    {
     "name": "stdout",
     "output_type": "stream",
     "text": [
      "BS: 60\n"
     ]
    }
   ],
   "source": [
    "import os\n",
    "\n",
    "# Dataset\n",
    "SOURCE_LANGUAGE = \"en\"\n",
    "TARGET_LANGUAGE = \"it\"\n",
    "SUBSET = False\n",
    "PERCENT_SUBSET = 0.1\n",
    "\n",
    "# Train\n",
    "EPOCH0 = 0\n",
    "STEP0 = 0\n",
    "LR = 1e-5\n",
    "EPOCHS = 100000\n",
    "GPUS = 1\n",
    "GPU_NUMBER = 0\n",
    "if GPUS > 1:\n",
    "    BS = 120\n",
    "else:\n",
    "    if SUBSET:\n",
    "        BS = 128\n",
    "    else:\n",
    "        BS = 60\n",
    "print(f\"BS: {BS}\")\n",
    "LR_SCHEDULER = False\n",
    "\n",
    "# Model\n",
    "MODEL_PATH = f\"model\"\n",
    "if os.path.exists(MODEL_PATH):\n",
    "    files = os.listdir(MODEL_PATH)\n",
    "    for file in files:\n",
    "        if \"transformer\" in file:\n",
    "            name = file.split(\".\")[0]\n",
    "            STEP0 = int(name.split(\"_\")[-1])\n",
    "            EPOCH0 = int(name.split(\"_\")[-2])\n",
    "DIM_EMBEDDING = 512\n",
    "NUM_HEADS = 8\n",
    "NUM_LAYERS = 6\n",
    "DROPOUT = 0.1\n",
    "LABEL_SMOOTHING = 0.1\n",
    "\n",
    "# Tokenizers\n",
    "TOKENIZERS_PATH = f\"tokenizers\"\n",
    "if not os.path.exists(TOKENIZERS_PATH):\n",
    "    os.makedirs(TOKENIZERS_PATH)\n",
    "UNKNOWN_TOKEN = \"[UNK]\"\n",
    "PADDING_TOKEN = \"[PAD]\"\n",
    "START_OF_SEQUENCE = \"[SOS]\"\n",
    "END_OF_SEQUENCE = \"[EOS]\""
   ]
  },
  {
   "cell_type": "code",
   "execution_count": 2,
   "metadata": {},
   "outputs": [],
   "source": [
    "# TODOs\n",
    "# TODO: Cambiar el dataset\n",
    "# TODO: Podar el transformer\n",
    "# TODO: Usar mi función de crear máscara\n",
    "# TODO: Sacar la máscara del dataset"
   ]
  },
  {
   "cell_type": "markdown",
   "metadata": {},
   "source": [
    "## Device ✔"
   ]
  },
  {
   "cell_type": "code",
   "execution_count": 3,
   "metadata": {},
   "outputs": [
    {
     "name": "stdout",
     "output_type": "stream",
     "text": [
      "Using GPU 0\n"
     ]
    }
   ],
   "source": [
    "import torch\n",
    "\n",
    "if torch.cuda.device_count() > 1 and GPUS > 1:\n",
    "    device = torch.device(\"cuda\" if torch.cuda.is_available() else \"cpu\")\n",
    "    print(f\"Using {torch.cuda.device_count()} GPUs\")\n",
    "else:\n",
    "    if torch.cuda.is_available():\n",
    "        device = torch.device(f\"cuda:{GPU_NUMBER}\")\n",
    "        print(f\"Using GPU {GPU_NUMBER}\")\n",
    "    else:\n",
    "        device = torch.device(\"cpu\")\n",
    "        print(\"Using CPU\")"
   ]
  },
  {
   "cell_type": "markdown",
   "metadata": {},
   "source": [
    "## Carga de los datos ✔"
   ]
  },
  {
   "cell_type": "markdown",
   "metadata": {},
   "source": [
    "Cargamos el dataset"
   ]
  },
  {
   "cell_type": "code",
   "execution_count": 4,
   "metadata": {},
   "outputs": [
    {
     "name": "stderr",
     "output_type": "stream",
     "text": [
      "Found cached dataset opus_books (/home/wallabot/.cache/huggingface/datasets/opus_books/en-it/1.0.0/e8f950a4f32dc39b7f9088908216cd2d7e21ac35f893d04d39eb594746af2daf)\n"
     ]
    },
    {
     "data": {
      "text/plain": [
       "32332"
      ]
     },
     "execution_count": 4,
     "metadata": {},
     "output_type": "execute_result"
    }
   ],
   "source": [
    "from datasets import load_dataset\n",
    "\n",
    "if SUBSET:\n",
    "    dataset_raw = load_dataset('opus_books', f'{SOURCE_LANGUAGE}-{TARGET_LANGUAGE}', split='train')\n",
    "    len_dataset = len(dataset_raw)\n",
    "    len_subset = int(len_dataset * PERCENT_SUBSET)\n",
    "    dataset_raw = load_dataset('opus_books', f'{SOURCE_LANGUAGE}-{TARGET_LANGUAGE}', split=f'train[:{len_subset}]')\n",
    "else:\n",
    "    dataset_raw = load_dataset('opus_books', f'{SOURCE_LANGUAGE}-{TARGET_LANGUAGE}', split='train')\n",
    "\n",
    "len(dataset_raw)"
   ]
  },
  {
   "cell_type": "markdown",
   "metadata": {},
   "source": [
    "Vamos a ver cómo es el dataset"
   ]
  },
  {
   "cell_type": "code",
   "execution_count": 5,
   "metadata": {},
   "outputs": [
    {
     "data": {
      "text/plain": [
       "Dataset({\n",
       "    features: ['id', 'translation'],\n",
       "    num_rows: 32332\n",
       "})"
      ]
     },
     "execution_count": 5,
     "metadata": {},
     "output_type": "execute_result"
    }
   ],
   "source": [
    "dataset_raw"
   ]
  },
  {
   "cell_type": "markdown",
   "metadata": {},
   "source": [
    "Vemos que es una tupla de con dos características cada elemento, la primera la id y la segunda el texto.\n",
    "\n",
    "Vamos a ver el primer elemento de la tupla"
   ]
  },
  {
   "cell_type": "code",
   "execution_count": 6,
   "metadata": {},
   "outputs": [
    {
     "data": {
      "text/plain": [
       "{'id': '0',\n",
       " 'translation': {'en': 'Source: Project Gutenberg',\n",
       "  'it': 'Source: www.liberliber.it/Audiobook available here'}}"
      ]
     },
     "execution_count": 6,
     "metadata": {},
     "output_type": "execute_result"
    }
   ],
   "source": [
    "dataset_raw[0]"
   ]
  },
  {
   "cell_type": "markdown",
   "metadata": {},
   "source": [
    "Veamos ahora el segundo elemento de la tupla"
   ]
  },
  {
   "cell_type": "code",
   "execution_count": 7,
   "metadata": {},
   "outputs": [
    {
     "data": {
      "text/plain": [
       "{'id': '1', 'translation': {'en': 'Jane Eyre', 'it': 'Jane Eyre'}}"
      ]
     },
     "execution_count": 7,
     "metadata": {},
     "output_type": "execute_result"
    }
   ],
   "source": [
    "dataset_raw[1]"
   ]
  },
  {
   "cell_type": "markdown",
   "metadata": {},
   "source": [
    "Vemos que el `id` no nos aporta mucha información, por lo que no lo usaremos"
   ]
  },
  {
   "cell_type": "markdown",
   "metadata": {},
   "source": [
    "Vamos ahora a ver el elemento `translation`"
   ]
  },
  {
   "cell_type": "code",
   "execution_count": 8,
   "metadata": {},
   "outputs": [
    {
     "data": {
      "text/plain": [
       "{'en': 'Charlotte Bronte', 'it': 'Charlotte Brontë'}"
      ]
     },
     "execution_count": 8,
     "metadata": {},
     "output_type": "execute_result"
    }
   ],
   "source": [
    "dataset_raw[2]['translation']"
   ]
  },
  {
   "cell_type": "markdown",
   "metadata": {},
   "source": [
    "Cada elemento `translation` es un diccionario con el texto en el idioma original y el texto traducido"
   ]
  },
  {
   "cell_type": "markdown",
   "metadata": {},
   "source": [
    "## Entrenamiento de los tokenizers ✔"
   ]
  },
  {
   "cell_type": "markdown",
   "metadata": {},
   "source": [
    "Vamos a entrenar un tokenizer para cada idioma. Podríamos utilizar uno ya preentrenado, pero a veces entrenar uno propio puede dar mejores resultados."
   ]
  },
  {
   "cell_type": "code",
   "execution_count": 9,
   "metadata": {},
   "outputs": [],
   "source": [
    "from tokenizers import Tokenizer\n",
    "from tokenizers.models import WordLevel\n",
    "from tokenizers.trainers import WordLevelTrainer\n",
    "from tokenizers.pre_tokenizers import Whitespace"
   ]
  },
  {
   "cell_type": "code",
   "execution_count": 10,
   "metadata": {},
   "outputs": [],
   "source": [
    "def get_all_sentences(dataset):\n",
    "    all_sentences = []\n",
    "    for i in range(len(dataset)):\n",
    "        all_sentences.append(dataset[i]['translation'][SOURCE_LANGUAGE])\n",
    "        all_sentences.append(dataset[i]['translation'][TARGET_LANGUAGE])\n",
    "    return all_sentences"
   ]
  },
  {
   "cell_type": "markdown",
   "metadata": {},
   "source": [
    "Entrenamos el tokenizer para el idioma original"
   ]
  },
  {
   "cell_type": "code",
   "execution_count": 11,
   "metadata": {},
   "outputs": [
    {
     "name": "stdout",
     "output_type": "stream",
     "text": [
      "Training source tokenizer\n"
     ]
    }
   ],
   "source": [
    "tokenizer_source_path = f\"{TOKENIZERS_PATH}/tokenizer_{SOURCE_LANGUAGE}.json\"\n",
    "\n",
    "if not os.path.exists(tokenizer_source_path) or STEP0 == 0 or EPOCH0 == 0:\n",
    "    print(f\"Training source tokenizer\")\n",
    "    tokenizer_source = Tokenizer(WordLevel(unk_token=UNKNOWN_TOKEN))\n",
    "    tokenizer_source.pre_tokenizer = Whitespace()\n",
    "    trainer = WordLevelTrainer(special_tokens=[UNKNOWN_TOKEN, PADDING_TOKEN, START_OF_SEQUENCE, END_OF_SEQUENCE])\n",
    "    all_sentences = get_all_sentences(dataset_raw)\n",
    "    tokenizer_source.train_from_iterator(all_sentences, trainer)\n",
    "    tokenizer_source.save(tokenizer_source_path)\n",
    "else:\n",
    "    tokenizer_source = Tokenizer.from_file(tokenizer_source_path)"
   ]
  },
  {
   "cell_type": "markdown",
   "metadata": {},
   "source": [
    "Vamos a ver cómo es el tokenizer"
   ]
  },
  {
   "cell_type": "code",
   "execution_count": 12,
   "metadata": {},
   "outputs": [
    {
     "name": "stdout",
     "output_type": "stream",
     "text": [
      "{\n",
      "  \"version\": \"1.0\",\n",
      "  \"truncation\": null,\n",
      "  \"padding\": null,\n",
      "  \"added_tokens\": [\n",
      "    {\n",
      "      \"id\": 0,\n",
      "      \"content\": \"[UNK]\",\n",
      "      \"single_word\": false,\n",
      "      \"lstrip\": false,\n",
      "      \"rstrip\": false,\n",
      "      \"normalized\": false,\n",
      "      \"special\": true\n",
      "    },\n",
      "    {\n",
      "      \"id\": 1,\n",
      "      \"content\": \"[PAD]\",\n",
      "      \"single_word\": false,\n",
      "      \"lstrip\": false,\n",
      "      \"rstrip\": false,\n",
      "      \"normalized\": false,\n",
      "      \"special\": true\n",
      "    },\n",
      "    {\n",
      "      \"id\": 2,\n",
      "      \"content\": \"[SOS]\",\n",
      "      \"single_word\": false,\n",
      "      \"lstrip\": false,\n",
      "      \"rstrip\": false,\n",
      "      \"normalized\": false,\n",
      "      \"special\": true\n",
      "    },\n",
      "    {\n",
      "      \"id\": 3,\n",
      "      \"content\": \"[EOS]\",\n",
      "      \"single_word\": false,\n",
      "      \"lstrip\": false,\n",
      "      \"rstrip\": false,\n",
      "      \"normalized\": false,\n",
      "      \"special\": true\n",
      "    }\n",
      "  ],\n",
      "  \"normalizer\": null,\n",
      "  \"pre_tokenizer\": {\n",
      "    \"type\": \"Whitespace\"\n",
      "  },\n",
      "  \"post_processor\": null,\n",
      "  \"decoder\": null,\n",
      "  \"model\": {\n",
      "    \"type\": \"WordLevel\",\n",
      "    \"vocab\": {\n",
      "      \"[UNK]\": 0,\n",
      "      \"[PAD]\": 1,\n",
      "      \"[SOS]\": 2,\n",
      "      \"[EOS]\": 3,\n",
      "      \",\": 4,\n",
      "      \".\": 5,\n",
      "      \"the\": 6,\n",
      "      \"and\": 7,\n",
      "      \"a\": 8,\n",
      "      \"e\": 9,\n",
      "      \"to\": 10,\n",
      "      \"di\": 11,\n",
      "      \"in\": 12,\n",
      "      \"I\": 13,\n",
      "      \"'\": 14,\n",
      "      \"che\": 15,\n",
      "      \"of\": 16,\n",
      "      \"—\": 17,\n",
      "      \"’\": 18,\n",
      "      \";\": 19,\n",
      "      \"la\": 20,\n",
      "      \"non\": 21,\n",
      "      \"il\": 22,\n",
      "      \"was\": 23,\n",
      "      \"that\": 24,\n",
      "      \"he\": 25,\n",
      "      \"it\": 26,\n",
      "      \"un\": 27,\n",
      "      \"had\": 28,\n",
      "      \"per\": 29,\n",
      "      \"his\": 30,\n",
      "      \"not\": 31,\n",
      "      \"with\": 32,\n",
      "      \"her\": 33,\n",
      "      \"si\": 34,\n",
      "      \":\": 35,\n",
      "      \"me\": 36,\n",
      "      \"you\": 37,\n",
      "      \"as\": 38,\n",
      "      \"con\": 39,\n",
      "      \"una\": 40,\n",
      "      \"for\": 41,\n",
      "      \"le\": 42,\n",
      "      \"era\": 43,\n",
      "      \"?\": 44,\n",
      "      \"-\": 45,\n",
      "      \"she\": 46,\n",
      "      \"\\\"\": 47,\n",
      "      \"my\": 48,\n"
     ]
    }
   ],
   "source": [
    "with open(tokenizer_source_path, 'r') as file:\n",
    "    for i in range(100):\n",
    "        line = file.readline()\n",
    "        if line == \"\\n\":\n",
    "            continue\n",
    "        print(line, end=\"\")"
   ]
  },
  {
   "cell_type": "markdown",
   "metadata": {},
   "source": [
    "Entrenamos el tokenizer para el idioma traducido"
   ]
  },
  {
   "cell_type": "code",
   "execution_count": 13,
   "metadata": {},
   "outputs": [
    {
     "name": "stdout",
     "output_type": "stream",
     "text": [
      "Training target tokenizer\n"
     ]
    }
   ],
   "source": [
    "tokenizer_target_path = f\"{TOKENIZERS_PATH}/tokenizer_{TARGET_LANGUAGE}.json\"\n",
    "\n",
    "if not os.path.exists(tokenizer_target_path) or STEP0 == 0 or EPOCH0 == 0:\n",
    "    print(f\"Training target tokenizer\")\n",
    "    tokenizer_target = Tokenizer(WordLevel(unk_token=UNKNOWN_TOKEN))\n",
    "    tokenizer_target.pre_tokenizer = Whitespace()\n",
    "    trainer = WordLevelTrainer(special_tokens=[UNKNOWN_TOKEN, PADDING_TOKEN, START_OF_SEQUENCE, END_OF_SEQUENCE])\n",
    "    all_sentences = get_all_sentences(dataset_raw)\n",
    "    tokenizer_target.train_from_iterator(all_sentences, trainer)\n",
    "    tokenizer_target.save(tokenizer_target_path)\n",
    "else:\n",
    "    tokenizer_target = Tokenizer.from_file(tokenizer_target_path)"
   ]
  },
  {
   "cell_type": "markdown",
   "metadata": {},
   "source": [
    "Vamos a ver cómo es el tokenizer"
   ]
  },
  {
   "cell_type": "code",
   "execution_count": 14,
   "metadata": {},
   "outputs": [
    {
     "name": "stdout",
     "output_type": "stream",
     "text": [
      "{\n",
      "  \"version\": \"1.0\",\n",
      "  \"truncation\": null,\n",
      "  \"padding\": null,\n",
      "  \"added_tokens\": [\n",
      "    {\n",
      "      \"id\": 0,\n",
      "      \"content\": \"[UNK]\",\n",
      "      \"single_word\": false,\n",
      "      \"lstrip\": false,\n",
      "      \"rstrip\": false,\n",
      "      \"normalized\": false,\n",
      "      \"special\": true\n",
      "    },\n",
      "    {\n",
      "      \"id\": 1,\n",
      "      \"content\": \"[PAD]\",\n",
      "      \"single_word\": false,\n",
      "      \"lstrip\": false,\n",
      "      \"rstrip\": false,\n",
      "      \"normalized\": false,\n",
      "      \"special\": true\n",
      "    },\n",
      "    {\n",
      "      \"id\": 2,\n",
      "      \"content\": \"[SOS]\",\n",
      "      \"single_word\": false,\n",
      "      \"lstrip\": false,\n",
      "      \"rstrip\": false,\n",
      "      \"normalized\": false,\n",
      "      \"special\": true\n",
      "    },\n",
      "    {\n",
      "      \"id\": 3,\n",
      "      \"content\": \"[EOS]\",\n",
      "      \"single_word\": false,\n",
      "      \"lstrip\": false,\n",
      "      \"rstrip\": false,\n",
      "      \"normalized\": false,\n",
      "      \"special\": true\n",
      "    }\n",
      "  ],\n",
      "  \"normalizer\": null,\n",
      "  \"pre_tokenizer\": {\n",
      "    \"type\": \"Whitespace\"\n",
      "  },\n",
      "  \"post_processor\": null,\n",
      "  \"decoder\": null,\n",
      "  \"model\": {\n",
      "    \"type\": \"WordLevel\",\n",
      "    \"vocab\": {\n",
      "      \"[UNK]\": 0,\n",
      "      \"[PAD]\": 1,\n",
      "      \"[SOS]\": 2,\n",
      "      \"[EOS]\": 3,\n",
      "      \",\": 4,\n",
      "      \".\": 5,\n",
      "      \"the\": 6,\n",
      "      \"and\": 7,\n",
      "      \"a\": 8,\n",
      "      \"e\": 9,\n",
      "      \"to\": 10,\n",
      "      \"di\": 11,\n",
      "      \"in\": 12,\n",
      "      \"I\": 13,\n",
      "      \"'\": 14,\n",
      "      \"che\": 15,\n",
      "      \"of\": 16,\n",
      "      \"—\": 17,\n",
      "      \"’\": 18,\n",
      "      \";\": 19,\n",
      "      \"la\": 20,\n",
      "      \"non\": 21,\n",
      "      \"il\": 22,\n",
      "      \"was\": 23,\n",
      "      \"that\": 24,\n",
      "      \"he\": 25,\n",
      "      \"it\": 26,\n",
      "      \"un\": 27,\n",
      "      \"had\": 28,\n",
      "      \"per\": 29,\n",
      "      \"his\": 30,\n",
      "      \"not\": 31,\n",
      "      \"with\": 32,\n",
      "      \"her\": 33,\n",
      "      \"si\": 34,\n",
      "      \":\": 35,\n",
      "      \"me\": 36,\n",
      "      \"you\": 37,\n",
      "      \"as\": 38,\n",
      "      \"con\": 39,\n",
      "      \"una\": 40,\n",
      "      \"for\": 41,\n",
      "      \"le\": 42,\n",
      "      \"era\": 43,\n",
      "      \"?\": 44,\n",
      "      \"-\": 45,\n",
      "      \"she\": 46,\n",
      "      \"\\\"\": 47,\n",
      "      \"my\": 48,\n"
     ]
    }
   ],
   "source": [
    "with open(tokenizer_target_path, 'r') as file:\n",
    "    for i in range(100):\n",
    "        line = file.readline()\n",
    "        if line == \"\\n\":\n",
    "            continue\n",
    "        print(line, end=\"\")"
   ]
  },
  {
   "cell_type": "markdown",
   "metadata": {},
   "source": [
    "## Obtención de la lóngitud máxima de las secuencias ✔"
   ]
  },
  {
   "cell_type": "code",
   "execution_count": 15,
   "metadata": {},
   "outputs": [
    {
     "name": "stdout",
     "output_type": "stream",
     "text": [
      "Max source sequence length: 309\n",
      "Max target sequence length: 274\n",
      "Max sequence length: 311\n"
     ]
    }
   ],
   "source": [
    "max_source_sequence_length = 0\n",
    "max_target_sequence_length = 0\n",
    "\n",
    "for i in range(len(dataset_raw)):\n",
    "    source_sequence_length = len(tokenizer_source.encode(dataset_raw[i]['translation'][SOURCE_LANGUAGE]).ids)\n",
    "    target_sequence_length = len(tokenizer_target.encode(dataset_raw[i]['translation'][TARGET_LANGUAGE]).ids)\n",
    "    if source_sequence_length > max_source_sequence_length:\n",
    "        max_source_sequence_length = source_sequence_length\n",
    "    if target_sequence_length > max_target_sequence_length:\n",
    "        max_target_sequence_length = target_sequence_length\n",
    "\n",
    "max_sequence_len = max(max_source_sequence_length, max_target_sequence_length)\n",
    "max_sequence_len += 2   # Add 2 for the start and end of sequence tokens\n",
    "\n",
    "print(f\"Max source sequence length: {max_source_sequence_length}\")\n",
    "print(f\"Max target sequence length: {max_target_sequence_length}\")\n",
    "print(f\"Max sequence length: {max_sequence_len}\")"
   ]
  },
  {
   "cell_type": "markdown",
   "metadata": {},
   "source": [
    "## Datasets ✔"
   ]
  },
  {
   "cell_type": "markdown",
   "metadata": {},
   "source": [
    "### Mask ✔"
   ]
  },
  {
   "cell_type": "code",
   "execution_count": 16,
   "metadata": {},
   "outputs": [],
   "source": [
    "def create_mask(size):\n",
    "    mask = torch.triu(torch.ones(1, size, size), diagonal = 1).type(torch.int)\n",
    "    return mask == 0"
   ]
  },
  {
   "cell_type": "markdown",
   "metadata": {},
   "source": [
    "### Dataset class ✔"
   ]
  },
  {
   "cell_type": "code",
   "execution_count": 17,
   "metadata": {},
   "outputs": [],
   "source": [
    "import torch\n",
    "from torch.utils.data import Dataset\n",
    "\n",
    "class BilingualDataset(Dataset):\n",
    "    def __init__(self, dataset, tokenizer_src, tokenizer_tgt, src_lang, tgt_lang, max_seq_len) -> None:\n",
    "        super().__init__()\n",
    "        \n",
    "        self.max_seq_len = max_seq_len\n",
    "        self.dataset = dataset\n",
    "        self.tokenizer_src = tokenizer_src\n",
    "        self.tokenizer_tgt = tokenizer_tgt\n",
    "        self.src_lang = src_lang\n",
    "        self.tgt_lang = tgt_lang\n",
    "        \n",
    "        # Defining special tokens by using the target language tokenizer\n",
    "        self.sos_token = torch.tensor([tokenizer_tgt.token_to_id(START_OF_SEQUENCE)], dtype=torch.int64)\n",
    "        self.eos_token = torch.tensor([tokenizer_tgt.token_to_id(END_OF_SEQUENCE)], dtype=torch.int64)\n",
    "        self.pad_token = torch.tensor([tokenizer_tgt.token_to_id(PADDING_TOKEN)], dtype=torch.int64)\n",
    "        self.unk_token = torch.tensor([tokenizer_tgt.token_to_id(UNKNOWN_TOKEN)], dtype=torch.int64)\n",
    "        \n",
    "    def __len__(self):\n",
    "        return len(self.dataset)\n",
    "    \n",
    "    def __getitem__(self, index):\n",
    "        # Getting the source and target texts from the dataset\n",
    "        src_target_pair = self.dataset[index]['translation']\n",
    "        src_text = src_target_pair[self.src_lang]\n",
    "        tgt_text = src_target_pair[self.tgt_lang]\n",
    "        \n",
    "        # Tokenizing source and target texts \n",
    "        encoder_input_tokens = self.tokenizer_src.encode(src_text).ids\n",
    "        decoder_input_tokens = self.tokenizer_tgt.encode(tgt_text).ids\n",
    "        \n",
    "        # Computing how many padding tokens need to be added to the tokenized texts \n",
    "        encoder_num_padding_tokens = self.max_seq_len - len(encoder_input_tokens) - 2 # Subtracting the two '[EOS]' and '[SOS]' special tokens\n",
    "        decoder_num_padding_tokens = self.max_seq_len - len(decoder_input_tokens) - 1 # Subtracting the '[SOS]' special token\n",
    "        \n",
    "        # If the texts exceed the 'seq_len' allowed, it will raise an error. This means that one of the sentences in the pair is too long to be processed\n",
    "        # given the current sequence length limit (this will be defined in the config dictionary below)\n",
    "        if encoder_num_padding_tokens < 0 or decoder_num_padding_tokens < 0:\n",
    "            raise ValueError('Sentence is too long')\n",
    "         \n",
    "        # Building the encoder input tensor by combining several elements\n",
    "        encoder_input = torch.cat(\n",
    "            [\n",
    "                self.sos_token, # inserting the '[SOS]' token\n",
    "                torch.tensor(encoder_input_tokens, dtype = torch.int64), # Inserting the tokenized source text\n",
    "                self.eos_token, # Inserting the '[EOS]' token\n",
    "                torch.tensor([self.pad_token] * encoder_num_padding_tokens, dtype = torch.int64) # Addind padding tokens\n",
    "            ]\n",
    "        )\n",
    "        \n",
    "        # Building the decoder input tensor by combining several elements\n",
    "        decoder_input = torch.cat(\n",
    "            [\n",
    "                self.sos_token, # inserting the '[SOS]' token \n",
    "                torch.tensor(decoder_input_tokens, dtype = torch.int64), # Inserting the tokenized target text\n",
    "                torch.tensor([self.pad_token] * decoder_num_padding_tokens, dtype = torch.int64) # Addind padding tokens\n",
    "            ]\n",
    "        )\n",
    "        \n",
    "        # Creating a label tensor, the expected output for training the model\n",
    "        label = torch.cat(\n",
    "            [\n",
    "                torch.tensor(decoder_input_tokens, dtype = torch.int64), # Inserting the tokenized target text\n",
    "                self.eos_token, # Inserting the '[EOS]' token \n",
    "                torch.tensor([self.pad_token] * decoder_num_padding_tokens, dtype = torch.int64) # Adding padding tokens\n",
    "            ]\n",
    "        )\n",
    "        \n",
    "        # Ensuring that the length of each tensor above is equal to the defined 'seq_len'\n",
    "        assert encoder_input.size(0) == self.max_seq_len\n",
    "        assert decoder_input.size(0) == self.max_seq_len\n",
    "        assert label.size(0) == self.max_seq_len\n",
    "\n",
    "        return {\n",
    "            'encoder_input': encoder_input,\n",
    "            'decoder_input': decoder_input, \n",
    "            'decoder_mask': (decoder_input != self.pad_token).unsqueeze(0).unsqueeze(0).int() & create_mask(decoder_input.size(0)),\n",
    "            'label': label,\n",
    "            'src_text': src_text,\n",
    "            'tgt_text': tgt_text\n",
    "        }\n"
   ]
  },
  {
   "cell_type": "markdown",
   "metadata": {},
   "source": [
    "Veamos una muestra"
   ]
  },
  {
   "cell_type": "code",
   "execution_count": 18,
   "metadata": {},
   "outputs": [
    {
     "name": "stdout",
     "output_type": "stream",
     "text": [
      "Encoder input shape: torch.Size([311])\n",
      "Decoder input shape: torch.Size([311])\n",
      "Label shape: torch.Size([311])\n",
      "Source text: She sailed with what we call a shoulder-of-mutton sail; and the boom jibed over the top of the cabin, which lay very snug and low, and had in it room for him to lie, with a slave or two, and a table to eat on, with some small lockers to put in some bottles of such liquor as he thought fit to drink; and his bread, rice, and coffee.\n",
      "Target text: Egli si giovava d’una di quelle vele chiamate spalla di castrato, e l’albero sovrastava alla stanza stretta e bassa, che nondimeno conteneva il letto per coricarvisi egli ed una o due schiave, una tavola da mangiare, e qualche piccola credenza per riporvi fiaschetti di quel liquore che gli fosse piaciuto bere, e soprattutto la sua provvigione di pane, riso e caffè.\n"
     ]
    }
   ],
   "source": [
    "from random import randint\n",
    "\n",
    "sample_dataset = BilingualDataset(dataset_raw, tokenizer_source, tokenizer_target, SOURCE_LANGUAGE, TARGET_LANGUAGE, max_sequence_len)\n",
    "idx = randint(0, len(sample_dataset))\n",
    "sample_dataset = sample_dataset[idx]\n",
    "\n",
    "print(f\"Encoder input shape: {sample_dataset['encoder_input'].shape}\")\n",
    "print(f\"Decoder input shape: {sample_dataset['decoder_input'].shape}\")\n",
    "print(f\"Label shape: {sample_dataset['label'].shape}\")\n",
    "print(f\"Source text: {sample_dataset['src_text']}\")\n",
    "print(f\"Target text: {sample_dataset['tgt_text']}\")"
   ]
  },
  {
   "cell_type": "markdown",
   "metadata": {},
   "source": [
    "### Split dataset ✔"
   ]
  },
  {
   "cell_type": "markdown",
   "metadata": {},
   "source": [
    "Ahora que vemos que está bien, creamos los datasets de entrenamiento y validación"
   ]
  },
  {
   "cell_type": "code",
   "execution_count": 19,
   "metadata": {},
   "outputs": [
    {
     "name": "stdout",
     "output_type": "stream",
     "text": [
      "Len train: 32008, len validation: 324\n"
     ]
    }
   ],
   "source": [
    "from torch.utils.data import random_split\n",
    "\n",
    "percent_train = 0.99\n",
    "len_train = int(len(dataset_raw) * percent_train)\n",
    "len_val = len(dataset_raw) - len_train\n",
    "train_dataset_raw, validation_dataset_raw = random_split(dataset_raw, [len_train, len_val])\n",
    "\n",
    "print(f\"Len train: {len(train_dataset_raw)}, len validation: {len(validation_dataset_raw)}\")"
   ]
  },
  {
   "cell_type": "code",
   "execution_count": 20,
   "metadata": {},
   "outputs": [],
   "source": [
    "train_dataset = BilingualDataset(train_dataset_raw, tokenizer_source, tokenizer_target, SOURCE_LANGUAGE, TARGET_LANGUAGE, max_sequence_len)\n",
    "validation_dataset = BilingualDataset(validation_dataset_raw, tokenizer_source, tokenizer_target, SOURCE_LANGUAGE, TARGET_LANGUAGE, max_sequence_len)"
   ]
  },
  {
   "cell_type": "markdown",
   "metadata": {},
   "source": [
    "## Dataloaders ✔"
   ]
  },
  {
   "cell_type": "code",
   "execution_count": 21,
   "metadata": {},
   "outputs": [],
   "source": [
    "from torch.utils.data import DataLoader\n",
    "\n",
    "train_dataloader = DataLoader(train_dataset, batch_size=BS, shuffle=True)\n",
    "validation_dataloader = DataLoader(validation_dataset, batch_size=BS, shuffle=True)\n"
   ]
  },
  {
   "cell_type": "markdown",
   "metadata": {},
   "source": [
    "Vamos a ver una muestra"
   ]
  },
  {
   "cell_type": "code",
   "execution_count": 22,
   "metadata": {},
   "outputs": [
    {
     "data": {
      "text/plain": [
       "dict"
      ]
     },
     "execution_count": 22,
     "metadata": {},
     "output_type": "execute_result"
    }
   ],
   "source": [
    "batch = next(iter(train_dataloader))\n",
    "type(batch)"
   ]
  },
  {
   "cell_type": "markdown",
   "metadata": {},
   "source": [
    "Como vemos la muestra es un diccionario, vamos a ver sus claves"
   ]
  },
  {
   "cell_type": "code",
   "execution_count": 23,
   "metadata": {},
   "outputs": [
    {
     "data": {
      "text/plain": [
       "dict_keys(['encoder_input', 'decoder_input', 'decoder_mask', 'label', 'src_text', 'tgt_text'])"
      ]
     },
     "execution_count": 23,
     "metadata": {},
     "output_type": "execute_result"
    }
   ],
   "source": [
    "batch.keys()"
   ]
  },
  {
   "cell_type": "markdown",
   "metadata": {},
   "source": [
    "Las claves son las salidas que habíamos definido en el dataset. Vamos a ver ahora cómo es cada una de las claves"
   ]
  },
  {
   "cell_type": "code",
   "execution_count": 24,
   "metadata": {},
   "outputs": [
    {
     "data": {
      "text/plain": [
       "(torch.Size([60, 311]), torch.Size([60, 311]), torch.Size([60, 311]), 60, 60)"
      ]
     },
     "execution_count": 24,
     "metadata": {},
     "output_type": "execute_result"
    }
   ],
   "source": [
    "batch['encoder_input'].shape, batch['decoder_input'].shape, batch['label'].shape, len(batch['src_text']), len(batch['tgt_text'])"
   ]
  },
  {
   "cell_type": "markdown",
   "metadata": {},
   "source": [
    "Cada una de las claves tiene tantas muestras como hemos definido en el batch size (`BS`). Vamos ahora a ver una de las muestras"
   ]
  },
  {
   "cell_type": "code",
   "execution_count": 25,
   "metadata": {},
   "outputs": [
    {
     "name": "stdout",
     "output_type": "stream",
     "text": [
      "Encoder input shape: torch.Size([311])\n",
      "Decoder input shape: torch.Size([311])\n",
      "Label shape: torch.Size([311])\n",
      "Source text: I rave: perhaps at this moment he is watching the sun rise over the Pyrenees, or on the tideless sea of the south.\"\n",
      "Target text: \"Ma io deliro; forse in questo momento contempla il sorger del sole sui Pirenei o sui mari del Sud!\n"
     ]
    }
   ],
   "source": [
    "idx = randint(0, BS)\n",
    "\n",
    "print(f\"Encoder input shape: {batch['encoder_input'][idx].shape}\")\n",
    "print(f\"Decoder input shape: {batch['decoder_input'][idx].shape}\")\n",
    "print(f\"Label shape: {batch['label'][idx].shape}\")\n",
    "print(f\"Source text: {batch['src_text'][idx]}\")\n",
    "print(f\"Target text: {batch['tgt_text'][idx]}\")"
   ]
  },
  {
   "cell_type": "markdown",
   "metadata": {},
   "source": [
    "## Modelo ✔"
   ]
  },
  {
   "cell_type": "markdown",
   "metadata": {},
   "source": [
    "Volvemos a escribir todo el código del transformer y creamos un objeto de este"
   ]
  },
  {
   "cell_type": "markdown",
   "metadata": {},
   "source": [
    "### Clases de bajo nivel"
   ]
  },
  {
   "cell_type": "code",
   "execution_count": 26,
   "metadata": {},
   "outputs": [],
   "source": [
    "import torch\n",
    "import torch.nn as nn\n",
    "import torch.nn.init as init\n",
    "\n",
    "class CustomLinear(nn.Module):\n",
    "    def __init__(self, in_features, out_features):\n",
    "        super(CustomLinear, self).__init__()\n",
    "        self.linear = nn.Linear(in_features, out_features)\n",
    "        init.kaiming_uniform_(self.linear.weight, nonlinearity='relu')\n",
    "        if self.linear.bias is not None:\n",
    "            init.zeros_(self.linear.bias)\n",
    "    \n",
    "    def forward(self, x):\n",
    "        return self.linear(x)\n",
    "\n",
    "class CustomEmbedding(nn.Module):\n",
    "    def __init__(self, num_embeddings, embedding_dim):\n",
    "        super(CustomEmbedding, self).__init__()\n",
    "        self.embedding = nn.Embedding(num_embeddings, embedding_dim)\n",
    "        init.xavier_uniform_(self.embedding.weight)\n",
    "    \n",
    "    def forward(self, x):\n",
    "        return self.embedding(x)\n",
    "\n",
    "class Embedding(nn.Module):\n",
    "    def __init__(self, vocab_size, embedding_dim):\n",
    "        super().__init__()\n",
    "        self.vocab_size = vocab_size\n",
    "        self.embedding_dim = embedding_dim\n",
    "\n",
    "        self.embedding = CustomEmbedding(vocab_size, embedding_dim)\n",
    "\n",
    "    def forward(self, x):\n",
    "        return self.embedding(x)\n",
    "\n",
    "class PositionalEncoding(nn.Module):\n",
    "    def __init__(self, max_sequence_len, embedding_model_dim):\n",
    "        super().__init__()\n",
    "        self.embedding_dim = embedding_model_dim\n",
    "        positional_encoding = torch.zeros(max_sequence_len, self.embedding_dim)\n",
    "        for pos in range(max_sequence_len):\n",
    "            for i in range(0, self.embedding_dim, 2):\n",
    "                positional_encoding[pos, i]     = torch.sin(torch.tensor(pos / (10000 ** ((2 * i) / self.embedding_dim))))\n",
    "                positional_encoding[pos, i + 1] = torch.cos(torch.tensor(pos / (10000 ** ((2 * (i+1)) / self.embedding_dim))))\n",
    "        positional_encoding = positional_encoding.unsqueeze(0)\n",
    "        self.register_buffer('positional_encoding', positional_encoding)\n",
    "\n",
    "    def forward(self, x):\n",
    "        x = x * torch.sqrt(torch.tensor(self.embedding_dim))\n",
    "        sequence_len = x.size(1)\n",
    "        x = x + self.positional_encoding[:,:sequence_len]\n",
    "        return x\n",
    "\n",
    "class ScaledDotProductAttention(nn.Module):\n",
    "    def __init__(self, dim_embedding):\n",
    "        super().__init__()\n",
    "        self.dim_embedding = dim_embedding\n",
    "    \n",
    "    def forward(self, query, key, value, mask=None):\n",
    "        key_trasposed = key.transpose(-1,-2)\n",
    "        product = torch.matmul(query, key_trasposed)\n",
    "        scale = product / torch.sqrt(torch.tensor(self.dim_embedding))\n",
    "        if mask is not None:\n",
    "            scale = scale.masked_fill(mask == 0, float('-inf'))\n",
    "        attention_matrix = torch.softmax(scale, dim=-1)\n",
    "        output = torch.matmul(attention_matrix, value)\n",
    "        return output\n",
    "\n",
    "class MultiHeadAttention(nn.Module):\n",
    "    def __init__(self, heads, dim_embedding):\n",
    "        super().__init__()\n",
    "        \n",
    "        self.dim_embedding = dim_embedding\n",
    "        self.dim_proyection = dim_embedding // heads\n",
    "        self.heads = heads\n",
    "        self.proyection_Q = CustomLinear(dim_embedding, dim_embedding)\n",
    "        self.proyection_K = CustomLinear(dim_embedding, dim_embedding)\n",
    "        self.proyection_V = CustomLinear(dim_embedding, dim_embedding)\n",
    "        self.attention = CustomLinear(dim_embedding, dim_embedding)\n",
    "        self.scaled_dot_product_attention = ScaledDotProductAttention(self.dim_proyection)\n",
    "    \n",
    "    def forward(self, Q, K, V, mask=None):\n",
    "        batch_size = Q.size(0)\n",
    "        proyection_Q = self.proyection_Q(Q).view(batch_size, -1, self.heads, self.dim_proyection)\n",
    "        proyection_K = self.proyection_K(K).view(batch_size, -1, self.heads, self.dim_proyection)\n",
    "        proyection_V = self.proyection_V(V).view(batch_size, -1, self.heads, self.dim_proyection)\n",
    "        proyection_Q = proyection_Q.transpose(1,2)\n",
    "        proyection_K = proyection_K.transpose(1,2)\n",
    "        proyection_V = proyection_V.transpose(1,2)\n",
    "        scaled_dot_product_attention = self.scaled_dot_product_attention(proyection_Q, proyection_K, proyection_V, mask=mask)\n",
    "        concat = scaled_dot_product_attention.transpose(1,2).contiguous().view(batch_size, -1, self.dim_embedding)\n",
    "        output = self.attention(concat)\n",
    "        return output\n",
    "\n",
    "class AddAndNorm(nn.Module):\n",
    "    def __init__(self, dim_embedding):\n",
    "        super().__init__()\n",
    "        self.normalization = nn.LayerNorm(dim_embedding)\n",
    "\n",
    "    def forward(self, x, sublayer):\n",
    "        return self.normalization(torch.add(x, sublayer))\n",
    "\n",
    "class FeedForward(nn.Module):\n",
    "    def __init__(self, dim_embedding, increment=4):\n",
    "        super().__init__()\n",
    "        self.feed_forward = nn.Sequential(\n",
    "            CustomLinear(dim_embedding, dim_embedding*increment),\n",
    "            nn.ReLU(),\n",
    "            CustomLinear(dim_embedding*increment, dim_embedding)\n",
    "        )\n",
    "    \n",
    "    def forward(self, x):\n",
    "        x = self.feed_forward(x)\n",
    "        return x\n",
    "\n",
    "class Linear(nn.Module):\n",
    "    def __init__(self, dim_embedding, vocab_size):\n",
    "        super().__init__()\n",
    "        self.linear = CustomLinear(dim_embedding, vocab_size)\n",
    "        \n",
    "    def forward(self, x):\n",
    "        x = self.linear(x)\n",
    "        return x\n",
    "\n",
    "class Softmax(nn.Module):\n",
    "    def __init__(self):\n",
    "        super().__init__()\n",
    "        self.softmax = nn.Softmax(dim=1)\n",
    "        \n",
    "    def forward(self, x):\n",
    "        x = self.softmax(x)\n",
    "        return x\n",
    "\n",
    "class Dropout(torch.nn.Module):\n",
    "    def __init__(self, p=0.1):\n",
    "        super().__init__()\n",
    "        self.p = p\n",
    "\n",
    "    def forward(self, x):\n",
    "        if self.training:\n",
    "            return torch.nn.functional.dropout(x, p=self.p)\n",
    "        else:\n",
    "            return x\n"
   ]
  },
  {
   "cell_type": "markdown",
   "metadata": {},
   "source": [
    "### Clases de medio nivel"
   ]
  },
  {
   "cell_type": "code",
   "execution_count": 27,
   "metadata": {},
   "outputs": [],
   "source": [
    "class EncoderLayer(nn.Module):\n",
    "    def __init__(self, heads, dim_embedding, prob_dropout=0.1):\n",
    "        super().__init__()\n",
    "        self.multi_head_attention = MultiHeadAttention(heads, dim_embedding)\n",
    "        self.dropout_1 = Dropout(prob_dropout)\n",
    "        self.add_and_norm_1 = AddAndNorm(dim_embedding)\n",
    "        self.feed_forward = FeedForward(dim_embedding)\n",
    "        self.dropout_2 = Dropout(prob_dropout)\n",
    "        self.add_and_norm_2 = AddAndNorm(dim_embedding)\n",
    "    \n",
    "    def forward(self, x):\n",
    "        multi_head_attention = self.multi_head_attention(x, x, x)\n",
    "        dropout1 = self.dropout_1(multi_head_attention)\n",
    "        add_and_norm_1 = self.add_and_norm_1(x, dropout1)\n",
    "        feed_forward = self.feed_forward(add_and_norm_1)\n",
    "        dropout2 = self.dropout_2(feed_forward)\n",
    "        add_and_norm_2 = self.add_and_norm_2(add_and_norm_1, dropout2)\n",
    "        return add_and_norm_2\n",
    "\n",
    "class Encoder(nn.Module):\n",
    "    def __init__(self, heads, dim_embedding, Nx, prob_dropout=0.1):\n",
    "        super().__init__()\n",
    "        self.encoder_layers = nn.ModuleList([EncoderLayer(heads, dim_embedding, prob_dropout) for _ in range(Nx)])\n",
    "    \n",
    "    def forward(self, x):\n",
    "        for encoder_layer in self.encoder_layers:\n",
    "            x = encoder_layer(x)\n",
    "        return x\n",
    "\n",
    "class TransformerEncoder(nn.Module):\n",
    "    def __init__(self, vocab_size, dim_embedding, max_sequence_len, heads, Nx, prob_dropout=0.1):\n",
    "        super().__init__()\n",
    "        self.input_embedding = Embedding(vocab_size, dim_embedding)\n",
    "        self.positional_encoding = PositionalEncoding(max_sequence_len, dim_embedding)\n",
    "        self.encoder = Encoder(heads, dim_embedding, Nx, prob_dropout)\n",
    "    \n",
    "    def forward(self, x):\n",
    "        input_embedding = self.input_embedding(x)\n",
    "        positional_encoding = self.positional_encoding(input_embedding)\n",
    "        encoder = self.encoder(positional_encoding)\n",
    "        return encoder\n",
    "\n",
    "class DecoderLayer(nn.Module):\n",
    "    def __init__(self, heads, dim_embedding, prob_dropout=0.1):\n",
    "        super().__init__()\n",
    "        self.masked_multi_head_attention = MultiHeadAttention(heads, dim_embedding)\n",
    "        self.dropout_1 = Dropout(prob_dropout)\n",
    "        self.add_and_norm_1 = AddAndNorm(dim_embedding)\n",
    "        self.encoder_decoder_multi_head_attention = MultiHeadAttention(heads, dim_embedding)\n",
    "        self.dropout_2 = Dropout(prob_dropout)\n",
    "        self.add_and_norm_2 = AddAndNorm(dim_embedding)\n",
    "        self.feed_forward = FeedForward(dim_embedding)\n",
    "        self.dropout_3 = Dropout(prob_dropout)\n",
    "        self.add_and_norm_3 = AddAndNorm(dim_embedding)\n",
    "    \n",
    "    def forward(self, x, encoder_output, mask=None):\n",
    "        Q = x\n",
    "        K = x\n",
    "        V = x\n",
    "        masked_multi_head_attention = self.masked_multi_head_attention(Q, K, V, mask=mask)\n",
    "        dropout1 = self.dropout_1(masked_multi_head_attention)\n",
    "        add_and_norm_1 = self.add_and_norm_1(dropout1, x)\n",
    "\n",
    "        Q = add_and_norm_1\n",
    "        K = encoder_output\n",
    "        V = encoder_output\n",
    "        encoder_decoder_multi_head_attention = self.encoder_decoder_multi_head_attention(Q, K, V)\n",
    "        dropout2 = self.dropout_2(encoder_decoder_multi_head_attention)\n",
    "        add_and_norm_2 = self.add_and_norm_2(dropout2, add_and_norm_1)\n",
    "\n",
    "        feed_forward = self.feed_forward(add_and_norm_2)\n",
    "        dropout3 = self.dropout_3(feed_forward)\n",
    "        add_and_norm_3 = self.add_and_norm_3(dropout3, add_and_norm_2)\n",
    "\n",
    "        return add_and_norm_3\n",
    "\n",
    "class Decoder(nn.Module):\n",
    "    def __init__(self, heads, dim_embedding, Nx, prob_dropout=0.1):\n",
    "        super().__init__()\n",
    "        self.layers = nn.ModuleList([DecoderLayer(heads, dim_embedding, prob_dropout) for _ in range(Nx)])\n",
    "    \n",
    "    def forward(self, x, encoder_output, mask=None):\n",
    "        for decoder_layer in self.layers:\n",
    "            x = decoder_layer(x, encoder_output, mask)\n",
    "        return x\n",
    "\n",
    "class TransformerDecoder(nn.Module):\n",
    "    def __init__(self, heads, dim_embedding, Nx, vocab_size, max_sequence_len, prob_dropout=0.1):\n",
    "        super().__init__()\n",
    "        self.embedding = Embedding(vocab_size, dim_embedding)\n",
    "        self.positional_encoding = PositionalEncoding(max_sequence_len, dim_embedding)\n",
    "        self.decoder = Decoder(heads, dim_embedding, Nx, prob_dropout)\n",
    "        self.linear = Linear(dim_embedding, vocab_size)\n",
    "        # self.softmax = Softmax()\n",
    "    \n",
    "    def forward(self, x, encoder_output, mask=None):\n",
    "        x = self.embedding(x)\n",
    "        x = self.positional_encoding(x)\n",
    "        x = self.decoder(x, encoder_output, mask)\n",
    "        x = self.linear(x)\n",
    "        # x = self.softmax(x)\n",
    "        return x\n",
    "\n",
    "class Linear_and_softmax(nn.Module):\n",
    "    def __init__(self, dim_embedding, vocab_size):\n",
    "        super().__init__()\n",
    "        self.linear = CustomLinear(dim_embedding, vocab_size)\n",
    "        # self.softmax = Softmax()\n",
    "    \n",
    "    def forward(self, x):\n",
    "        x = self.linear(x)\n",
    "        # x = self.softmax(x)\n",
    "        return x\n"
   ]
  },
  {
   "cell_type": "markdown",
   "metadata": {},
   "source": [
    "### Clase de alto nivel"
   ]
  },
  {
   "cell_type": "code",
   "execution_count": 28,
   "metadata": {},
   "outputs": [],
   "source": [
    "class Transformer(nn.Module):\n",
    "    def __init__(self, src_vocab_size, tgt_vocab_size, src_max_seq_len, tgt_max_seq_len, dim_embedding, Nx, heads, prob_dropout=0.1):\n",
    "        super().__init__()\n",
    "        self.transformerEncoder = TransformerEncoder(src_vocab_size, dim_embedding, src_max_seq_len, heads, Nx, prob_dropout)\n",
    "        self.transformerDecoder = TransformerDecoder(heads, dim_embedding, Nx, tgt_vocab_size, tgt_max_seq_len, prob_dropout)\n",
    "        self.encoder = Encoder(heads, dim_embedding, Nx, prob_dropout)\n",
    "        self.decoder = Decoder(heads, dim_embedding, Nx, prob_dropout)\n",
    "        self.sourceEmbedding = Embedding(src_vocab_size, dim_embedding)\n",
    "        self.targetEmbedding = Embedding(tgt_vocab_size, dim_embedding)\n",
    "        self.sourcePositional_encoding = PositionalEncoding(src_max_seq_len, dim_embedding)\n",
    "        self.targetPositional_encoding = PositionalEncoding(tgt_max_seq_len, dim_embedding)\n",
    "        self.linear = Linear_and_softmax(dim_embedding, tgt_vocab_size)\n",
    "    \n",
    "    def encode(self, source):\n",
    "        embedding = self.sourceEmbedding(source)\n",
    "        positional_encoding = self.sourcePositional_encoding(embedding)\n",
    "        encoder_output = self.encoder(positional_encoding)\n",
    "        return encoder_output\n",
    "    \n",
    "    def decode(self, encoder_output, target, target_mask):\n",
    "        embedding = self.targetEmbedding(target)\n",
    "        positional_encoding = self.targetPositional_encoding(embedding)\n",
    "        decoder_output = self.decoder(positional_encoding, encoder_output, target_mask)\n",
    "        return decoder_output\n",
    "    \n",
    "    def projection(self, decoder_output):\n",
    "        linear_output = self.linear(decoder_output)\n",
    "        # softmax_output = self.softmax(linear_output)\n",
    "        return linear_output\n",
    "    \n",
    "    def forward(self, source, target, mask=None):\n",
    "        encoder_output = self.transformerEncoder(source)\n",
    "        decoder_output = self.transformerDecoder(target, encoder_output, mask)\n",
    "        return decoder_output\n"
   ]
  },
  {
   "cell_type": "markdown",
   "metadata": {},
   "source": [
    "### Transformer"
   ]
  },
  {
   "cell_type": "code",
   "execution_count": 29,
   "metadata": {},
   "outputs": [
    {
     "name": "stdout",
     "output_type": "stream",
     "text": [
      "source vocab size: 30000, target vocab size: 30000, source max sequence len: 311, target max sequence len: 311, dim_embedding: 512, heads: 8, Nx: 6, prob_dropout: 0.1\n"
     ]
    },
    {
     "name": "stdout",
     "output_type": "stream",
     "text": [
      "\n"
     ]
    }
   ],
   "source": [
    "source_vocab_size = tokenizer_source.get_vocab_size()\n",
    "target_vocab_size = tokenizer_target.get_vocab_size()\n",
    "src_max_seq_len = max_sequence_len\n",
    "tgt_max_seq_len = max_sequence_len\n",
    "dim_embedding = DIM_EMBEDDING\n",
    "Nx = NUM_LAYERS\n",
    "heads = NUM_HEADS\n",
    "prob_dropout = DROPOUT\n",
    "print(f\"source vocab size: {source_vocab_size}, target vocab size: {target_vocab_size}, source max sequence len: {src_max_seq_len}, target max sequence len: {tgt_max_seq_len}, dim_embedding: {dim_embedding}, heads: {heads}, Nx: {Nx}, prob_dropout: {prob_dropout}\")\n",
    "\n",
    "model = Transformer(\n",
    "    src_vocab_size = source_vocab_size,\n",
    "    tgt_vocab_size = target_vocab_size,\n",
    "    src_max_seq_len = src_max_seq_len,\n",
    "    tgt_max_seq_len = tgt_max_seq_len,\n",
    "    dim_embedding = dim_embedding,\n",
    "    Nx = Nx,\n",
    "    heads = heads,\n",
    "    prob_dropout = prob_dropout,\n",
    ")\n",
    "\n",
    "model.to(device)\n",
    "print(\"\")"
   ]
  },
  {
   "cell_type": "code",
   "execution_count": 30,
   "metadata": {},
   "outputs": [],
   "source": [
    "# Data parallel\n",
    "# if torch.cuda.device_count() > 1 and GPUS > 1:\n",
    "#     number_gpus = torch.cuda.device_count()\n",
    "#     print(f\"Let's use {number_gpus} GPUs!\")\n",
    "#     transformer = nn.DataParallel(transformer)\n",
    "\n",
    "#     # def create_mask(sequence_len):\n",
    "#     #     mask = torch.tril(torch.ones((2*sequence_len, sequence_len)))\n",
    "#     #     return mask\n",
    "#     def create_mask(sequence_len):\n",
    "#         mask = torch.triu(torch.ones(1, 2*sequence_len, sequence_len), diagonal = 1).type(torch.int)\n",
    "#         return mask == 0\n",
    "# else:\n",
    "#     number_gpus = 1\n",
    "#     print(f\"Let's use {number_gpus} GPUs! GPU NUMBER: {GPU_NUMBER}\")\n",
    "    \n",
    "#     # def create_mask(sequence_len):\n",
    "#     #     mask = torch.tril(torch.ones((sequence_len, sequence_len)))\n",
    "#     #     return mask\n",
    "#     def create_mask(sequence_len):\n",
    "#         mask = torch.triu(torch.ones(1, sequence_len, sequence_len), diagonal = 1).type(torch.int)\n",
    "#         return mask == 0\n"
   ]
  },
  {
   "cell_type": "code",
   "execution_count": 31,
   "metadata": {},
   "outputs": [
    {
     "data": {
      "text/plain": [
       "torch.Size([1, 311, 311])"
      ]
     },
     "execution_count": 31,
     "metadata": {},
     "output_type": "execute_result"
    }
   ],
   "source": [
    "mask = create_mask(max_sequence_len)\n",
    "mask.shape"
   ]
  },
  {
   "cell_type": "markdown",
   "metadata": {},
   "source": [
    "## Entrenamiento"
   ]
  },
  {
   "cell_type": "markdown",
   "metadata": {},
   "source": [
    "### Optimizador ✔"
   ]
  },
  {
   "cell_type": "code",
   "execution_count": 32,
   "metadata": {},
   "outputs": [],
   "source": [
    "optimizer = torch.optim.Adam(model.parameters(), lr=LR, betas=(0.9, 0.98), eps=1e-9)"
   ]
  },
  {
   "cell_type": "markdown",
   "metadata": {},
   "source": [
    "### Función de pérdida ✔"
   ]
  },
  {
   "cell_type": "markdown",
   "metadata": {},
   "source": [
    "Creamos la función de pérdida con label smoothing"
   ]
  },
  {
   "cell_type": "code",
   "execution_count": 33,
   "metadata": {},
   "outputs": [],
   "source": [
    "loss_fn = nn.CrossEntropyLoss(\n",
    "    ignore_index = tokenizer_source.token_to_id(PADDING_TOKEN), \n",
    "    label_smoothing = LABEL_SMOOTHING).to(device)\n"
   ]
  },
  {
   "cell_type": "markdown",
   "metadata": {},
   "source": [
    "### LR ✔"
   ]
  },
  {
   "cell_type": "code",
   "execution_count": 34,
   "metadata": {},
   "outputs": [],
   "source": [
    "class Step():\n",
    "    def __init__(self):\n",
    "        self.step = 0\n",
    "    \n",
    "    def set_step(self, st):\n",
    "        self.step = st\n",
    "    \n",
    "    def get_step(self):\n",
    "        return int(self.step)\n",
    "\n",
    "class LearningRate():\n",
    "    def __init__(self):\n",
    "        self.lr = 0\n",
    "    \n",
    "    def set_lr(self, l_r_):\n",
    "        self.lr = l_r_\n",
    "    \n",
    "    def get_lr(self):\n",
    "        return self.lr\n",
    "\n",
    "actual_step = Step()\n",
    "actual_lr = LearningRate()"
   ]
  },
  {
   "cell_type": "code",
   "execution_count": 35,
   "metadata": {},
   "outputs": [],
   "source": [
    "import numpy as np\n",
    "\n",
    "def calculate_lr(step_num, dim_embeding_model=512, warmup_steps=4000):\n",
    "    step_num += 1e-7 # Avoid division by zero\n",
    "    step_num += STEP0\n",
    "    actual_step.set_step(step_num)\n",
    "    step_num_exp = -0.4\n",
    "    warmup_steps_exp = -2.6\n",
    "    dim_embeding_model_exp = -0.1\n",
    "    lr = np.power(dim_embeding_model, dim_embeding_model_exp) * np.minimum(np.power(step_num, step_num_exp), step_num * np.power(warmup_steps, warmup_steps_exp))\n",
    "    actual_lr.set_lr(lr)\n",
    "    return lr\n",
    "\n",
    "lr_lambda = lambda step: calculate_lr(step, dim_embeding_model=dim_embedding)\n",
    "if LR_SCHEDULER:\n",
    "    lr_scheduler = torch.optim.lr_scheduler.LambdaLR(optimizer, lr_lambda)"
   ]
  },
  {
   "cell_type": "markdown",
   "metadata": {},
   "source": [
    "### Validation loop ✔"
   ]
  },
  {
   "cell_type": "code",
   "execution_count": 36,
   "metadata": {},
   "outputs": [],
   "source": [
    "def greedy_decode(model, source, tokenizer_tgt, max_len, device, bs):\n",
    "    # Retrieving the indices from the start and end of sequences of the target tokens\n",
    "    sos_idx = tokenizer_tgt.token_to_id('[SOS]')    # Start of Sentence token index (2)\n",
    "    # eos_idx = tokenizer_tgt.token_to_id('[EOS]')    # End of Sentence token index (3)\n",
    "\n",
    "    # Computing the output of the encoder for the source sequence\n",
    "    encoder_output = model.encode(source)\n",
    "    \n",
    "    # Initializing the decoder input with the Start of Sentence token\n",
    "    decoder_input = torch.empty(bs,1).fill_(sos_idx).type_as(source).to(device)\n",
    "    \n",
    "    # Looping until the 'max_len', maximum length, is reached\n",
    "    while True:\n",
    "        if decoder_input.size(1) == max_len:\n",
    "            break\n",
    "            \n",
    "        # Building a mask for the decoder input\n",
    "        decoder_mask = create_mask(decoder_input.size(1)).to(device)\n",
    "        \n",
    "        # Calculating the output of the decoder\n",
    "        out = model.decode(encoder_output, decoder_input, decoder_mask)\n",
    "        \n",
    "        # Applying the projection layer to get the probabilities for the next token\n",
    "        prob = model.projection(out[:, -1])\n",
    "\n",
    "        # Selecting token with the highest probability\n",
    "        _, next_word = torch.max(prob, dim=1)\n",
    "        # decoder_input = torch.cat([decoder_input, torch.empty(1,1). type_as(source).fill_(next_word.item()).to(device)], dim=1)\n",
    "        decoder_input = torch.cat([decoder_input, next_word.unsqueeze(1)], dim=1)\n",
    "    \n",
    "    if len(decoder_input.shape) == 1:\n",
    "        decoder_input = decoder_input.unsqueeze(0)\n",
    "    elif len(decoder_input.shape) == 3:\n",
    "        decoder_input = decoder_input.squeeze(0)\n",
    "\n",
    "    return decoder_input # Sequence of tokens generated by the decoder\n"
   ]
  },
  {
   "cell_type": "code",
   "execution_count": 37,
   "metadata": {},
   "outputs": [],
   "source": [
    "from tqdm import tqdm\n",
    "\n",
    "import nltk\n",
    "from nltk.translate.bleu_score import sentence_bleu\n",
    "from nltk.translate.meteor_score import meteor_score\n",
    "\n",
    "def validation_loop(model, validation_ds, tokenizer_tgt, max_len, device):\n",
    "    model.eval() # Setting model to evaluation mode\n",
    "\n",
    "    # Calculating the number of batches in the validation dataset\n",
    "    dataset_size = len(validation_ds.dataset)  # Tamaño total del conjunto de datos\n",
    "    batch_size = validation_ds.batch_size      # Tamaño del batch\n",
    "    drop_last = validation_ds.drop_last        # Configuración de drop_last\n",
    "    num_batches = len(validation_ds)           # Número total de batches\n",
    "\n",
    "    # Calculating the total number of samples in the validation dataset\n",
    "    total_samples = batch_size * (num_batches - 1) + min(batch_size, dataset_size % batch_size)\n",
    "\n",
    "    # If drop_last is False and the dataset size is not divisible by the batch size, we need to add one more batch\n",
    "    if drop_last and dataset_size % batch_size != 0:\n",
    "        total_samples -= dataset_size % batch_size\n",
    "\n",
    "    # Initializing progress bar\n",
    "    progress_bar = tqdm(range(total_samples), desc = 'Processing validation examples') # Initializing progress bar\n",
    "\n",
    "    # Initializing lists to store scores\n",
    "    bleu_scores = []\n",
    "    meteor_scores = []\n",
    "    \n",
    "    # Creating evaluation loop\n",
    "    with torch.no_grad(): # Ensuring that no gradients are computed during this process\n",
    "        for batch in validation_ds:\n",
    "            # Loading input data and masks onto the GPU\n",
    "            encoder_input = batch['encoder_input'].to(device)\n",
    "            \n",
    "            # Applying the 'greedy_decode' function to get the model's output for the source text of the input batch\n",
    "            num_samples = len(batch['src_text'])\n",
    "            model_out_bs = greedy_decode(model, encoder_input, tokenizer_tgt, max_len, device, num_samples)\n",
    "\n",
    "            # Get metrics for every example in the batch\n",
    "            for i in range(num_samples):\n",
    "                source_text = batch['src_text'][i]\n",
    "                target_text = batch['tgt_text'][i]\n",
    "                model_out_i = model_out_bs[i]\n",
    "                model_out_text = tokenizer_tgt.decode(model_out_i.detach().cpu().numpy())\n",
    "\n",
    "                # Calculating metrics\n",
    "                references = [target_text.split()]\n",
    "                hypothesis = model_out_text.split()\n",
    "                bleu_score = sentence_bleu(references, hypothesis)\n",
    "                meteor_score_value = meteor_score(references, hypothesis)\n",
    "            \n",
    "                # Appending scores to lists\n",
    "                bleu_scores.append(bleu_score)\n",
    "                meteor_scores.append(meteor_score_value)\n",
    "\n",
    "                # Calculating mean scores            \n",
    "                mean_bleu_score = sum(bleu_scores)/len(bleu_scores) # Calculating mean BLEU score\n",
    "                mean_meteor_score = sum(meteor_scores)/len(meteor_scores) # Calculating mean METEOR score\n",
    "\n",
    "                # Updating progress bar and printing bleu and meteor scores\n",
    "                progress_bar.update(1)\n",
    "                progress_bar.set_postfix({'BLEU': f'{mean_bleu_score:.9f}', 'METEOR': f'{mean_meteor_score:.9f}'})\n",
    "\n",
    "    # Printing results\n",
    "    console_width = 80 # Fixed witdh for printed messages\n",
    "    print('-'*console_width)\n",
    "    print(f'SOURCE: {source_text}')\n",
    "    print(f'TARGET: {target_text}')\n",
    "    print(f'PREDICTED: {model_out_text}')\n",
    "    print('-'*console_width)\n",
    "\n",
    "    return mean_bleu_score, mean_meteor_score\n"
   ]
  },
  {
   "cell_type": "markdown",
   "metadata": {},
   "source": [
    "### Train loop ✔"
   ]
  },
  {
   "cell_type": "code",
   "execution_count": 38,
   "metadata": {},
   "outputs": [],
   "source": [
    "def train_loop(model, train_dataloader, device, tokenizer_target, epoch, loss_fn, optimizer, lr_scheduler=None):\n",
    "    # Initializing an iterator over the training dataloader\n",
    "    # We also use tqdm to display a progress bar\n",
    "    print()\n",
    "    batch_iterator = tqdm(train_dataloader, desc = f'Processing epoch {epoch:02d}')\n",
    "    \n",
    "    # For each batch...\n",
    "    for batch in batch_iterator:\n",
    "        model.train() # Train the model\n",
    "            \n",
    "        # Loading input data and masks onto the GPU\n",
    "        encoder_input = batch['encoder_input'].to(device)\n",
    "        decoder_input = batch['decoder_input'].to(device)\n",
    "        decoder_mask = batch['decoder_mask'].to(device)\n",
    "        \n",
    "        # Running tensors through the Transformer\n",
    "        encoder_output = model.encode(encoder_input)\n",
    "        decoder_output = model.decode(encoder_output, decoder_input, decoder_mask)\n",
    "        proj_output = model.projection(decoder_output)\n",
    "        \n",
    "        # Loading the target labels onto the GPU\n",
    "        label = batch['label'].to(device)\n",
    "        \n",
    "        # Computing loss between model's output and true labels\n",
    "        loss = loss_fn(proj_output.view(-1, tokenizer_target.get_vocab_size()), label.view(-1))\n",
    "        \n",
    "        # Updating progress bar, print loss and lr\n",
    "        batch_iterator.set_postfix({'loss': f'{loss.item():.6f}', 'lr': f'{actual_lr.get_lr():.9f}'})\n",
    "        \n",
    "        # Performing backpropagation\n",
    "        loss.backward()\n",
    "        \n",
    "        # Updating parameters based on the gradients\n",
    "        optimizer.step()\n",
    "        \n",
    "        # Clearing the gradients to prepare for the next batch\n",
    "        optimizer.zero_grad()\n",
    "\n",
    "        # Update step and LR\n",
    "        if LR_SCHEDULER:\n",
    "            lr_scheduler.step()\n",
    "        \n",
    "    return loss.item(), actual_lr.get_lr()"
   ]
  },
  {
   "cell_type": "markdown",
   "metadata": {},
   "source": [
    "### Train"
   ]
  },
  {
   "cell_type": "code",
   "execution_count": 39,
   "metadata": {},
   "outputs": [],
   "source": [
    "import time\n",
    "\n",
    "def elapsed_time(t0):\n",
    "    t = time.time() - t0  # tiempo transcurrido en segundos\n",
    "\n",
    "    # Convertir el tiempo a días, horas, minutos y segundos\n",
    "    days, t = divmod(t, 86400)  # 86400 segundos en un día\n",
    "    hours, t = divmod(t, 3600)  # 3600 segundos en una hora\n",
    "    minutes, seconds = divmod(t, 60)  # 60 segundos en un minuto\n",
    "\n",
    "    return int(days), int(hours), int(minutes), int(seconds)\n",
    "\n",
    "def elapsed_seconds(days, hours, minutes, seconds):\n",
    "    return days * 86400 + hours * 3600 + minutes * 60 + seconds\n"
   ]
  },
  {
   "cell_type": "code",
   "execution_count": 40,
   "metadata": {},
   "outputs": [],
   "source": [
    "if EPOCH0 != 0 or STEP0 != 0:\n",
    "    if GPUS > 1:\n",
    "        print(f\"Loading model from {MODEL_PATH}/transformer_{EPOCH0}_{STEP0}.pth\")\n",
    "        model.load_state_dict(torch.load(f'{MODEL_PATH}/transformer_{EPOCH0}_{STEP0}.pth'))\n",
    "        print(f\"Model loaded from {MODEL_PATH}/transformer_{EPOCH0}_{STEP0}.pth\")\n",
    "    else:\n",
    "        print(f\"Loading model from {MODEL_PATH}/transformer_model_{EPOCH0}_{STEP0}.pth\")\n",
    "        weights = f\"{MODEL_PATH}/transformer_model_{EPOCH0}_{STEP0}.pth\"\n",
    "        transformer = torch.load(weights, map_location=device)\n",
    "        if isinstance(transformer, nn.DataParallel):\n",
    "            print(\"Transforming model to nn.Module\")\n",
    "            transformer = transformer.module\n",
    "        print(f\"Model loaded from {MODEL_PATH}/transformer_{EPOCH0}_{STEP0}.pth\")\n",
    "\n",
    "    print(f\"load best validation loss from {MODEL_PATH}/best_validation_loss_{EPOCH0}_{STEP0}.npy\")\n",
    "    best_meteor = np.load(f'{MODEL_PATH}/validation_loss_{EPOCH0}_{STEP0}.npy')\n",
    "    print(f\"best validation meteor: {best_meteor}\")\n",
    "else:\n",
    "    best_meteor = 1000000\n"
   ]
  },
  {
   "cell_type": "code",
   "execution_count": 41,
   "metadata": {},
   "outputs": [],
   "source": [
    "train_loss_list = []\n",
    "train_lr_list = []\n",
    "validation_meteor_list = []\n",
    "validation_bleu_list = []\n",
    "\n",
    "train_loss_list = np.array(train_loss_list)\n",
    "train_lr_list = np.array(train_lr_list)\n",
    "validation_meteor_list = np.array(validation_meteor_list)\n",
    "validation_bleu_list = np.array(validation_bleu_list)"
   ]
  },
  {
   "cell_type": "code",
   "execution_count": 42,
   "metadata": {},
   "outputs": [
    {
     "name": "stdout",
     "output_type": "stream",
     "text": [
      "\n",
      "Epoch 0\n",
      "-------------------------------, 0 days, 0 hours, 0 minutes, 0 seconds\n",
      "\n"
     ]
    },
    {
     "name": "stderr",
     "output_type": "stream",
     "text": [
      "Processing epoch 00:   0%|          | 0/534 [00:00<?, ?it/s, loss=11.500007, lr=0.000000000]"
     ]
    },
    {
     "name": "stderr",
     "output_type": "stream",
     "text": [
      "Processing epoch 00: 100%|██████████| 534/534 [05:21<00:00,  1.66it/s, loss=7.568767, lr=0.000000000]\n",
      "Processing validation examples: 100%|██████████| 324/324 [01:27<00:00,  3.70it/s, BLEU=0.000000000, METEOR=0.000000000]\n"
     ]
    },
    {
     "name": "stdout",
     "output_type": "stream",
     "text": [
      "--------------------------------------------------------------------------------\n",
      "SOURCE: 'I don't think about it, and don't want to,' she said, listening to her husband coming up the balcony steps. 'I don't want to think about it.'\n",
      "TARGET: E non ci voglio pensare — disse, prestando orecchio ai passi noti del marito per la scala della terrazza.\n",
      "PREDICTED: , , , , , , , , , , , , , , , , , , , , , , , , , , , , , , , , , , , , , , , , , , , , , , , , , , , , , , , , , , , , , , , , , , , , , , , , , , , , , , , , , , , , , , , , , , , , , , , , , , , , , , , , , , , , , , , , , , , , , , , , , , , , , , , , , , , , , , , , , , , , , , , , , , , , , , , , , , , , , , , , , , , , , , , , , , , , , , , , , , , , , , , , , , , , , , , , , , , , , , , , , , , , , , , , , , , , , , , , , , , , , , , , , , , , , , , , , , , , , , , , , , , , , , , , , , , , , , , , , , , , , , , , , , , , , , , , , , , , , , , , , , , , , , , , , , , , , , , , , , , , , , , , , , , , , ,\n",
      "--------------------------------------------------------------------------------\n",
      "\n",
      "Epoch 1\n",
      "-------------------------------, 0 days, 0 hours, 6 minutes, 48 seconds\n",
      "\n"
     ]
    },
    {
     "name": "stderr",
     "output_type": "stream",
     "text": [
      "Processing epoch 01: 100%|██████████| 534/534 [05:20<00:00,  1.67it/s, loss=7.151945, lr=0.000000000]\n",
      "Processing validation examples:   0%|          | 0/324 [00:00<?, ?it/s]/home/wallabot/miniconda3/envs/cursopytorch/lib/python3.10/site-packages/nltk/translate/bleu_score.py:552: UserWarning: \n",
      "The hypothesis contains 0 counts of 2-gram overlaps.\n",
      "Therefore the BLEU score evaluates to 0, independently of\n",
      "how many N-gram overlaps of lower order it contains.\n",
      "Consider using lower n-gram order or use SmoothingFunction()\n",
      "  warnings.warn(_msg)\n",
      "/home/wallabot/miniconda3/envs/cursopytorch/lib/python3.10/site-packages/nltk/translate/bleu_score.py:552: UserWarning: \n",
      "The hypothesis contains 0 counts of 3-gram overlaps.\n",
      "Therefore the BLEU score evaluates to 0, independently of\n",
      "how many N-gram overlaps of lower order it contains.\n",
      "Consider using lower n-gram order or use SmoothingFunction()\n",
      "  warnings.warn(_msg)\n",
      "/home/wallabot/miniconda3/envs/cursopytorch/lib/python3.10/site-packages/nltk/translate/bleu_score.py:552: UserWarning: \n",
      "The hypothesis contains 0 counts of 4-gram overlaps.\n",
      "Therefore the BLEU score evaluates to 0, independently of\n",
      "how many N-gram overlaps of lower order it contains.\n",
      "Consider using lower n-gram order or use SmoothingFunction()\n",
      "  warnings.warn(_msg)\n",
      "Processing validation examples: 100%|██████████| 324/324 [01:26<00:00,  3.75it/s, BLEU=0.000000000, METEOR=0.020260342] \n"
     ]
    },
    {
     "name": "stdout",
     "output_type": "stream",
     "text": [
      "--------------------------------------------------------------------------------\n",
      "SOURCE: Now then, chorus - it is the last two lines repeated, you know.\n",
      "TARGET: Ora poi, sapete, il coro... sono gli ultimi due versi ripetuti.\n",
      "PREDICTED: — , , , , , , , , , , , . . . .\n",
      "--------------------------------------------------------------------------------\n",
      "\n",
      "Epoch 2\n",
      "-------------------------------, 0 days, 0 hours, 13 minutes, 35 seconds\n",
      "\n"
     ]
    },
    {
     "name": "stderr",
     "output_type": "stream",
     "text": [
      "Processing epoch 02: 100%|██████████| 534/534 [05:20<00:00,  1.67it/s, loss=7.009095, lr=0.000000000]\n",
      "Processing validation examples: 100%|██████████| 324/324 [01:26<00:00,  3.75it/s, BLEU=0.000000000, METEOR=0.026604605] \n"
     ]
    },
    {
     "name": "stdout",
     "output_type": "stream",
     "text": [
      "--------------------------------------------------------------------------------\n",
      "SOURCE: I felt that.\n",
      "TARGET: Io lo capii.\n",
      "PREDICTED: — E , , ,\n",
      "--------------------------------------------------------------------------------\n",
      "\n",
      "Epoch 3\n",
      "-------------------------------, 0 days, 0 hours, 20 minutes, 22 seconds\n",
      "\n"
     ]
    },
    {
     "name": "stderr",
     "output_type": "stream",
     "text": [
      "Processing epoch 03: 100%|██████████| 534/534 [05:20<00:00,  1.67it/s, loss=6.956638, lr=0.000000000]\n",
      "Processing validation examples: 100%|██████████| 324/324 [01:26<00:00,  3.74it/s, BLEU=0.000000000, METEOR=0.029448721] \n"
     ]
    },
    {
     "name": "stdout",
     "output_type": "stream",
     "text": [
      "--------------------------------------------------------------------------------\n",
      "SOURCE: \"Everybody, Jane?\n",
      "TARGET: — Tutti, Jane?\n",
      "PREDICTED: — Sì ?\n",
      "--------------------------------------------------------------------------------\n",
      "\n",
      "Epoch 4\n",
      "-------------------------------, 0 days, 0 hours, 27 minutes, 9 seconds\n",
      "\n"
     ]
    },
    {
     "name": "stderr",
     "output_type": "stream",
     "text": [
      "Processing epoch 04: 100%|██████████| 534/534 [05:20<00:00,  1.67it/s, loss=6.765758, lr=0.000000000]\n",
      "Processing validation examples: 100%|██████████| 324/324 [01:26<00:00,  3.73it/s, BLEU=0.000000000, METEOR=0.024192087] \n"
     ]
    },
    {
     "name": "stdout",
     "output_type": "stream",
     "text": [
      "--------------------------------------------------------------------------------\n",
      "SOURCE: She was naturally of the sweetest and gentlest disposition imaginable, but on the river it was quite awful to hear her.\n",
      "TARGET: Ella naturalmente era della più dolce e più gentile indole immaginabile, ma sul fiume era terribile a udirsi.\n",
      "PREDICTED: Il , , , , , , , , , , , , , , , , , , , , , , , , , , , , , , , , , , , e . . . . . . . . . . . . . . . . . .\n",
      "--------------------------------------------------------------------------------\n",
      "\n",
      "Epoch 5\n",
      "-------------------------------, 0 days, 0 hours, 33 minutes, 57 seconds\n",
      "\n"
     ]
    },
    {
     "name": "stderr",
     "output_type": "stream",
     "text": [
      "Processing epoch 05: 100%|██████████| 534/534 [05:20<00:00,  1.67it/s, loss=6.971791, lr=0.000000000]\n",
      "Processing validation examples: 100%|██████████| 324/324 [01:26<00:00,  3.73it/s, BLEU=0.000000000, METEOR=0.026491381] \n"
     ]
    },
    {
     "name": "stdout",
     "output_type": "stream",
     "text": [
      "--------------------------------------------------------------------------------\n",
      "SOURCE: Zealous in his ministerial labours, blameless in his life and habits, he yet did not appear to enjoy that mental serenity, that inward content, which should be the reward of every sincere Christian and practical philanthropist.\n",
      "TARGET: Pieno di zelo nell'adempimento de' suoi doveri evangelici, irreprensibile di condotta, non godeva peraltro di quella interna serenità, che dovrebbe esser la ricompensa di ogni sincero cristiano, di ogni filantropo attivo.\n",
      "PREDICTED: Il , , , , , , , , , , , , , , , , , , , , , , , , , , , , , , , , , , , , , , , , , , , , , , , , , , , , , , , , , , , , , , , , , , , , , , , , , , , , , , , , , , , , , , , , , , , , , , , , , , , , , , , , , , , , , , , , , , , , , , , , , , , , , , , , , , , , , , , , , , , , , , , , , , , , , , , , , , , , , , , , , , , , , , , , , , , , , , , , , , , , , , , , , , , , , , , , , , , , , , , , , , , , , , , , , , , , , , , , , , , , , , , , , , , , , , , , , , , , , , , , , , , , , , , , , , , , , , , , , , , , , , , , , , , , , , , , , , , , , , , , , , , , , , , , , , , , , , , , , , , , , , , , , , , , ,\n",
      "--------------------------------------------------------------------------------\n",
      "\n",
      "Epoch 6\n",
      "-------------------------------, 0 days, 0 hours, 40 minutes, 44 seconds\n",
      "\n"
     ]
    },
    {
     "name": "stderr",
     "output_type": "stream",
     "text": [
      "Processing epoch 06: 100%|██████████| 534/534 [05:20<00:00,  1.67it/s, loss=6.807984, lr=0.000000000]\n",
      "Processing validation examples: 100%|██████████| 324/324 [01:27<00:00,  3.72it/s, BLEU=0.000000000, METEOR=0.025605361] \n"
     ]
    },
    {
     "name": "stdout",
     "output_type": "stream",
     "text": [
      "--------------------------------------------------------------------------------\n",
      "SOURCE: The perturbation of my mind during this fifteen or sixteen months’ interval was very great; I slept unquietly, dreamed always frightful dreams, and often started out of my sleep in the night.\n",
      "TARGET: Grande fu, già lo dissi, l’agitazione della mia mente durante quei quindici o sedici mesi: dormiva inquieto; facea sempre orridi sogni, dai quali spesse volte mi destava d’improvviso, e preso da brividi d’atterrimento; nè più tranquilla era la mia mente durante il giorno.\n",
      "PREDICTED: , , , , , , , , , , , , , , , , , , , , , , , , , , , , , , , , , , , , , , , , , , , , , , , , , , , , , , , , , , , , , , , , , , , , , , , , , , , , , , , , , , , , , , , , , , , , , , , , , , , , , , , , , , , , , , , , , , , , , , , , , , , , , , , , , , , , , , , , , , , , , , , , , , , , , , , , , , , , , , , , , , , , , , , , , , , , , , , , , , , , , , , , , , , , , , , , , , , , , , , , , , , , , , , , , , , , , , , , , , , , , , , , , , , , , , , , , , , , , , , , , , , , , , , , , , , , , , , , , , , , , , , , , , , , , , , , , , , , , , , , , , , , , , , , , , , , , , , , , , , , , , , , , , , , ,\n",
      "--------------------------------------------------------------------------------\n",
      "\n",
      "Epoch 7\n",
      "-------------------------------, 0 days, 0 hours, 47 minutes, 31 seconds\n",
      "\n"
     ]
    },
    {
     "name": "stderr",
     "output_type": "stream",
     "text": [
      "Processing epoch 07: 100%|██████████| 534/534 [05:20<00:00,  1.67it/s, loss=6.792014, lr=0.000000000]\n",
      "Processing validation examples: 100%|██████████| 324/324 [01:27<00:00,  3.72it/s, BLEU=0.000000000, METEOR=0.020999175] \n"
     ]
    },
    {
     "name": "stdout",
     "output_type": "stream",
     "text": [
      "--------------------------------------------------------------------------------\n",
      "SOURCE: But all the same if it is possible you should get married.'\n",
      "TARGET: Tuttavia, se è possibile, occorre sposarsi...\n",
      "PREDICTED: Ma , non , , , , , , , , , , , , , , , , , , , , , , , , , , , , , , , , , , , , , , , , , ? . . . . . .\n",
      "--------------------------------------------------------------------------------\n",
      "\n",
      "Epoch 8\n",
      "-------------------------------, 0 days, 0 hours, 54 minutes, 19 seconds\n",
      "\n"
     ]
    },
    {
     "name": "stderr",
     "output_type": "stream",
     "text": [
      "Processing epoch 08: 100%|██████████| 534/534 [05:20<00:00,  1.67it/s, loss=6.765651, lr=0.000000000]\n",
      "Processing validation examples: 100%|██████████| 324/324 [01:27<00:00,  3.72it/s, BLEU=0.000000000, METEOR=0.026038871] \n"
     ]
    },
    {
     "name": "stdout",
     "output_type": "stream",
     "text": [
      "--------------------------------------------------------------------------------\n",
      "SOURCE: The Frenchman had fallen asleep just as Oblonsky had done.\n",
      "TARGET: Il francese s’era addormentato proprio come Stepan Arkad’ic.\n",
      "PREDICTED: Aleksej ’ ’ ’ ’ ’ ’ ’ ’ ’ ’ ’ ’ ’ ’ ’ ’ ’ ’ ’ ’ ’ ’ ’ ’ ’ ’ ’ ’ ’ ’ ’ ’ ’ ’ ’ ’ ’ ’ ’ ’ ’ ’ ’ ’ ’ ’ ’ ’ ’ ’ ’ ’ ’ ’ ’ ’ ’ ’ ’ ’ ’ ’ ’ ’ ’ ’ ’ ’ ’ ’ ’ ’ ’ ’ ’ ’ ’ ’ ’ ’ ’ ’ ’ ’ ’ ’ ’ ’ ’ ’ ’ ’ ’ ’ ’ ’ ’ ’ ’ ’ ’ ’ ’ ’ ’ ’ ’ ’ ’ ’ ’ ’ ’ ’ ’ ’ ’ ’ ’ ’ ’ ’ ’ ’ ’ ’ ’ ’ ’ ’ ’ ’ ’ ’ ’ ’ ’ ’ ’ ’ ’ ’ ’ ’ ’ ’ ’ ’ ’ ’ ’ ’ ’ ’ ’ ’ ’ ’ ’ ’ ’ ’ ’ ’ ’ ’ ’ ’ ’ ’ ’ ’ ’ ’ ’ ’ ’ ’ ’ ’ ’ ’ ’ ’ ’ ’ ’ ’ ’ ’ ’ ’ ’ ’ ’ ’ ’ ’ ’ ’ ’ ’ ’ ’ ’ ’ ’ ’ ’ ’ ’ ’ ’ ’ ’ ’ ’ ’ ’ ’ ’ ’ ’ ’ ’ ’ ’ ’ ’ ’ ’ ’ ’ ’ ’ ’ ’ ’ ’ ’ ’ ’ ’ ’ ’ ’ ’ ’ ’ ’ ’ ’ ’ ’ ’ ’ ’ ’ ’ ’ ’ ’ ’ ’ ’ ’ ’ ’ ’ ’ ’ ’ ’ ’ ’ ’ ’ ’ ’ ’ ’ ’ ’ ’ ’ ’ ’ ’ ’ ’ ’ ’ ’ ’ ’ ’ ’ ’ ’ ’ ’ ’ ’ ’ ’ ’ ’ ’ ’\n",
      "--------------------------------------------------------------------------------\n",
      "\n",
      "Epoch 9\n",
      "-------------------------------, 0 days, 1 hours, 1 minutes, 7 seconds\n",
      "\n"
     ]
    },
    {
     "name": "stderr",
     "output_type": "stream",
     "text": [
      "Processing epoch 09: 100%|██████████| 534/534 [05:20<00:00,  1.67it/s, loss=6.567898, lr=0.000000000]\n",
      "Processing validation examples: 100%|██████████| 324/324 [01:27<00:00,  3.71it/s, BLEU=0.000000000, METEOR=0.021972035] \n"
     ]
    },
    {
     "name": "stdout",
     "output_type": "stream",
     "text": [
      "--------------------------------------------------------------------------------\n",
      "SOURCE: \"Everybody, Jane?\n",
      "TARGET: — Tutti, Jane?\n",
      "PREDICTED: — Che , , ? ? ? ? ? ? ? ? ? ? ? ? ? ? ? ? ? ?\n",
      "--------------------------------------------------------------------------------\n",
      "\n",
      "Epoch 10\n",
      "-------------------------------, 0 days, 1 hours, 7 minutes, 55 seconds\n",
      "\n"
     ]
    },
    {
     "name": "stderr",
     "output_type": "stream",
     "text": [
      "Processing epoch 10: 100%|██████████| 534/534 [05:20<00:00,  1.66it/s, loss=6.382074, lr=0.000000000]\n",
      "Processing validation examples: 100%|██████████| 324/324 [01:27<00:00,  3.71it/s, BLEU=0.000000000, METEOR=0.026027517] \n"
     ]
    },
    {
     "name": "stdout",
     "output_type": "stream",
     "text": [
      "--------------------------------------------------------------------------------\n",
      "SOURCE: Mrs. Poole advanced. \"Keep out of the way,\" said Mr. Rochester, thrusting her aside: \"she has no knife now, I suppose, and I'm on my guard.\"\n",
      "TARGET: — Ritiratevi, — disse il signor Rochester, spingendola da un lato. — Oggi suppongo che non abbia il coltello e sto bene attento.\n",
      "PREDICTED: — No , — — — — — — — — — — — — — — — — — — — — — — — — — — — — — — — — — — — — — — — — — — — — — — — — — — — — — — — — — — — — — — — — — — — — — — — — — — — — — — — — — — — — — — — — — — — — — — — — — — — — — — — — — — — — — — — — — — — — — — — — — — — — — — — — — — — — — — — — — — — — — — — — — — — — — — — — — — — — — — — — — — — — — — — — — — — — — — — — — — — — — , — — — — — — , — , — , — , — , — — — — — — — — — — , — , — , — , — , , , , , , , , , , , , , — , , , , , , , , , , , , , , , , , , , , , , , , , , , , , , , , , , , , , , , , , , , , , , , , , , , , , , , , , , , , , , , , , , , , , , , , , , , , , ,\n",
      "--------------------------------------------------------------------------------\n",
      "\n",
      "Epoch 11\n",
      "-------------------------------, 0 days, 1 hours, 14 minutes, 43 seconds\n",
      "\n"
     ]
    },
    {
     "name": "stderr",
     "output_type": "stream",
     "text": [
      "Processing epoch 11: 100%|██████████| 534/534 [05:20<00:00,  1.67it/s, loss=6.366135, lr=0.000000000]\n",
      "Processing validation examples: 100%|██████████| 324/324 [01:27<00:00,  3.72it/s, BLEU=0.000000000, METEOR=0.029339230] \n"
     ]
    },
    {
     "name": "stdout",
     "output_type": "stream",
     "text": [
      "--------------------------------------------------------------------------------\n",
      "SOURCE: Katavasov returning to his carriage involuntarily prevaricated; and in telling Koznyshev his observations of the Volunteers, let it appear that they were excellent fellows.\n",
      "TARGET: Katavasov, entrato nel suo scompartimento, andando involontariamente contro coscienza, raccontò a Sergej Ivanovic le osservazioni sui volontari, dalle quali risultava che erano ottimi figlioli.\n",
      "PREDICTED: Il ’ ’ ’ ’ ’ ’ ’ ’ ’ ’ ’ ’ ’ ’ ’ ’ ’ ’ ’ ’ ’ ’ ’ ’ ’ ’ ’ ’ ’ ’ ’ ’ ’ ’ ’ ’ ’ ’ ’ ’ ’ ’ ’ ’ ’ ’ ’ ’ ’ ’ ’ ’ ’ ’ ’ ’ ’ ’ ’ ’ ’ ’ ’ ’ ’ ’ ’ ’ , ’ , ’ ’ ’ ’ ’ ’ , ’ , ’ , ’ , ’ ’ , ’ , ’ , ’ , ’ , ’ , ’ , ’ , ’ , ’ , , , , , ’ , ’ , ’ , ’ , ’ , ’ , ’ , ’ , ’ , ’ , ’ , , ’ , ’ , ’ , ’ , ’ , , ’ , ’ , ’ , ’ , ’ , , , ’ , ’ , ’ , ’ , , ’ , ’ , ’ , ’ , , , , , ’ , ’ , , , , , ’ , ’ , ’ , , ’ , , , , , , , , , ’ , ’ , ’ , ’ , ’ ’ , ’ , , , , , ’ , , , , , , , , , , , , ’ , , , , , , , , , , , , , , , , , ’ , ’ , , , , , , , , , , , , , , , , , ’ , , , , , ’ , , , , , , , , , , , , , , , , , , , , , , , , , , , , , , , , ,\n",
      "--------------------------------------------------------------------------------\n",
      "\n",
      "Epoch 12\n",
      "-------------------------------, 0 days, 1 hours, 21 minutes, 31 seconds\n",
      "\n"
     ]
    },
    {
     "name": "stderr",
     "output_type": "stream",
     "text": [
      "Processing epoch 12: 100%|██████████| 534/534 [05:20<00:00,  1.67it/s, loss=6.247642, lr=0.000000000]\n",
      "Processing validation examples: 100%|██████████| 324/324 [01:26<00:00,  3.73it/s, BLEU=0.000000000, METEOR=0.034554997] \n"
     ]
    },
    {
     "name": "stdout",
     "output_type": "stream",
     "text": [
      "--------------------------------------------------------------------------------\n",
      "SOURCE: Oh, pray! no shoot, me shoot by and then:” he would have said by-and-by.\n",
      "TARGET: Ma tirare adesso allora.» E per lui adesso allora voleva dire adesso adesso.\n",
      "PREDICTED: Ma , , , , disse , , , , . , . . . . . . . . . . . . ! . . . . . . . . . . . .\n",
      "--------------------------------------------------------------------------------\n",
      "\n",
      "Epoch 13\n",
      "-------------------------------, 0 days, 1 hours, 28 minutes, 18 seconds\n",
      "\n"
     ]
    },
    {
     "name": "stderr",
     "output_type": "stream",
     "text": [
      "Processing epoch 13: 100%|██████████| 534/534 [05:20<00:00,  1.66it/s, loss=6.265522, lr=0.000000000]\n",
      "Processing validation examples: 100%|██████████| 324/324 [01:26<00:00,  3.73it/s, BLEU=0.000000000, METEOR=0.037156493] \n"
     ]
    },
    {
     "name": "stdout",
     "output_type": "stream",
     "text": [
      "--------------------------------------------------------------------------------\n",
      "SOURCE: She lay in bed with open eyes, looking at the stucco cornice under the ceiling by the light of a single burnt-down candle, and at the shadow of the screen which fell on it, and she vividly imagined what he would feel when she was no more, when she was for him nothing but a memory.\n",
      "TARGET: Ella giaceva nel letto con gli occhi aperti, guardando, alla luce di una candela che stava per spegnersi, la cornice modellata del soffitto e l’ombra di un paravento che ne invadeva una parte, e immaginava con chiarezza quello ch’egli avrebbe provato quando lei non ci sarebbe stata più e sarebbe stata soltanto un ricordo per lui.\n",
      "PREDICTED: Il ’ ’ era era , il ’ ’ ’ , , , , , , , , , , , , , , , , , , , , , , , , , , , , , , , , , . , , , , , , , , , . , , . . . . . . . . . . . . . . . . . . . . . . . . . . . . . . . . . . . . . . . . . . . . . . . . . . . . . . . . . . . . . . . . . . . . . . . . . . . . . . . . . . . . . . . . . . . . . . . . . . . . . . . .\n",
      "--------------------------------------------------------------------------------\n",
      "\n",
      "Epoch 14\n",
      "-------------------------------, 0 days, 1 hours, 35 minutes, 6 seconds\n",
      "\n"
     ]
    },
    {
     "name": "stderr",
     "output_type": "stream",
     "text": [
      "Processing epoch 14: 100%|██████████| 534/534 [05:20<00:00,  1.67it/s, loss=6.410811, lr=0.000000000]\n",
      "Processing validation examples: 100%|██████████| 324/324 [01:26<00:00,  3.73it/s, BLEU=0.000000000, METEOR=0.042832990] \n"
     ]
    },
    {
     "name": "stdout",
     "output_type": "stream",
     "text": [
      "--------------------------------------------------------------------------------\n",
      "SOURCE: 'Here's a biceps!\n",
      "TARGET: — Che bicipite!\n",
      "PREDICTED: — ! ! ! ! ! ! ! ! ! ! ! ! ! ! !\n",
      "--------------------------------------------------------------------------------\n",
      "\n",
      "Epoch 15\n",
      "-------------------------------, 0 days, 1 hours, 41 minutes, 53 seconds\n",
      "\n"
     ]
    },
    {
     "name": "stderr",
     "output_type": "stream",
     "text": [
      "Processing epoch 15: 100%|██████████| 534/534 [05:20<00:00,  1.67it/s, loss=6.369853, lr=0.000000000]\n",
      "Processing validation examples: 100%|██████████| 324/324 [01:26<00:00,  3.73it/s, BLEU=0.000000000, METEOR=0.041569719] \n"
     ]
    },
    {
     "name": "stdout",
     "output_type": "stream",
     "text": [
      "--------------------------------------------------------------------------------\n",
      "SOURCE: Now if you will consider what was the nature of the government of Darius, you will find it similar to the kingdom of the Turk, and therefore it was only necessary for Alexander, first to overthrow him in the field, and then to take the country from him. After which victory, Darius being killed, the state remained secure to Alexander, for the above reasons.\n",
      "TARGET: Ora, se voi considerrete di qual natura di governi era quello di Dario, lo troverrete simile al regno del Turco; e però ad Alessandro fu necessario prima urtarlo tutto e tòrli la campagna: dopo la quale vittoria, sendo Dario morto, rimase ad Alessandro quello stato sicuro, per le ragioni di sopra discorse.\n",
      "PREDICTED: E , , , , , , , , , , , , , , , , , , , , , , , , , , , , , , , , , , , , , , , , , , , , . , , , , , , , , , , , , , . , , , , , , , , , . , , , , , , . , , , , . , , , , . , , , . , , , . , , , . , , , , . , , , . , , , . , , , . , , , , . , , . , , , , . , , . , , , , , . , , . , , . , , , . , , . , , , .\n",
      "--------------------------------------------------------------------------------\n",
      "\n",
      "Epoch 16\n",
      "-------------------------------, 0 days, 1 hours, 48 minutes, 41 seconds\n",
      "\n"
     ]
    },
    {
     "name": "stderr",
     "output_type": "stream",
     "text": [
      "Processing epoch 16: 100%|██████████| 534/534 [05:20<00:00,  1.66it/s, loss=6.181960, lr=0.000000000]\n",
      "Processing validation examples: 100%|██████████| 324/324 [01:26<00:00,  3.73it/s, BLEU=0.000000000, METEOR=0.046385835] \n"
     ]
    },
    {
     "name": "stdout",
     "output_type": "stream",
     "text": [
      "--------------------------------------------------------------------------------\n",
      "SOURCE: It was three o'clock; the church bell tolled as I passed under the belfry: the charm of the hour lay in its approaching dimness, in the low-gliding and pale-beaming sun.\n",
      "TARGET: Le tre erano suonate all'orologio della chiesa, quando passai sotto al campanile. Quel momento della giornata aveva per me una grande attrattiva, perché l'oscurità già incominciava e i pallidi raggi del sole scendevano lentamente sull'orizzonte.\n",
      "PREDICTED: La , , , il , , , , , , , , , , , . il . il . . . . . . . . . . . . . . . . . . . . . . . . . . . . . . . . . . . . . . . . . . . . . . . . . . . . . . . . . . . . . . . . . . . . . . . . . . . . . . . . .\n",
      "--------------------------------------------------------------------------------\n",
      "\n",
      "Epoch 17\n",
      "-------------------------------, 0 days, 1 hours, 55 minutes, 28 seconds\n",
      "\n"
     ]
    },
    {
     "name": "stderr",
     "output_type": "stream",
     "text": [
      "Processing epoch 17: 100%|██████████| 534/534 [05:20<00:00,  1.67it/s, loss=6.257831, lr=0.000000000]\n",
      "Processing validation examples: 100%|██████████| 324/324 [01:26<00:00,  3.73it/s, BLEU=0.000000000, METEOR=0.045783175] \n"
     ]
    },
    {
     "name": "stdout",
     "output_type": "stream",
     "text": [
      "--------------------------------------------------------------------------------\n",
      "SOURCE: He is a wonderful portrait-painter.\n",
      "TARGET: È un ritrattista famoso.\n",
      "PREDICTED: È è è è un è è . . . . . . . . . . . . . . . . . . . . . . . . . .\n",
      "--------------------------------------------------------------------------------\n",
      "\n",
      "Epoch 18\n",
      "-------------------------------, 0 days, 2 hours, 2 minutes, 16 seconds\n",
      "\n"
     ]
    },
    {
     "name": "stderr",
     "output_type": "stream",
     "text": [
      "Processing epoch 18: 100%|██████████| 534/534 [05:20<00:00,  1.67it/s, loss=5.931219, lr=0.000000000]\n",
      "Processing validation examples: 100%|██████████| 324/324 [01:26<00:00,  3.73it/s, BLEU=0.000000000, METEOR=0.050776013] \n"
     ]
    },
    {
     "name": "stdout",
     "output_type": "stream",
     "text": [
      "--------------------------------------------------------------------------------\n",
      "SOURCE: I heard voices, too, speaking with a hollow sound, and as if muffled by a rush of wind or water: agitation, uncertainty, and an all-predominating sense of terror confused my faculties.\n",
      "TARGET: Sentii alcune voci sommesse coperte dal rumore dell'acqua e del vento. L'agitazione, l'incertezza e un senso di terrore avevano gettata una grande confusione nella mia mente.\n",
      "PREDICTED: , un , , , , , , , , , , , , , . , mi , mi . . . . . . . . . . . . . . . . . . . . . . . . . . . . . . . . . . . . . . . . . . . . . . . . . . . . . . . . . . . . . . . . . . . . . . . . . . . . . . . . . . . . . . . . . . . . . . . . . .\n",
      "--------------------------------------------------------------------------------\n",
      "\n",
      "Epoch 19\n",
      "-------------------------------, 0 days, 2 hours, 9 minutes, 3 seconds\n",
      "\n"
     ]
    },
    {
     "name": "stderr",
     "output_type": "stream",
     "text": [
      "Processing epoch 19: 100%|██████████| 534/534 [05:20<00:00,  1.66it/s, loss=6.112763, lr=0.000000000]\n",
      "Processing validation examples: 100%|██████████| 324/324 [01:26<00:00,  3.73it/s, BLEU=0.000000000, METEOR=0.051781325] \n"
     ]
    },
    {
     "name": "stdout",
     "output_type": "stream",
     "text": [
      "--------------------------------------------------------------------------------\n",
      "SOURCE: But they would not hear of that, and said it would be much better if they had it then, because otherwise the interest would accumulate so.\n",
      "TARGET: Ma questa promessa non fu trovata soddisfacente: era meglio averla subito, perchè non si accumulassero gl’interessi.\n",
      "PREDICTED: Ma non non cosa se se se se se se se se se se se se se se se se se se se se se se se se se se se se se se se se se se se se se se se se se se se se se se se se se se se se se se se se se se se se se se se se se se se se se se se se se se se se se se se se se se se se se se se se se se se se se se se se se se se se se se se se se se se se se . se se se se se se se se se se se se se se se se se se se se se se se se se . . . . . . . . .\n",
      "--------------------------------------------------------------------------------\n",
      "\n",
      "Epoch 20\n",
      "-------------------------------, 0 days, 2 hours, 15 minutes, 51 seconds\n",
      "\n"
     ]
    },
    {
     "name": "stderr",
     "output_type": "stream",
     "text": [
      "Processing epoch 20: 100%|██████████| 534/534 [05:21<00:00,  1.66it/s, loss=6.142862, lr=0.000000000]\n",
      "Processing validation examples: 100%|██████████| 324/324 [01:26<00:00,  3.73it/s, BLEU=0.000000000, METEOR=0.052991250] \n"
     ]
    },
    {
     "name": "stdout",
     "output_type": "stream",
     "text": [
      "--------------------------------------------------------------------------------\n",
      "SOURCE: \"Well, you know Missis always said they were poor and quite despicable: and they may be poor; but I believe they are as much gentry as the Reeds are; for one day, nearly seven years ago, a Mr. Eyre came to Gateshead and wanted to see you; Missis said you were at school fifty miles off; he seemed so much disappointed, for he could not stay: he was going on a voyage to a foreign country, and the ship was to sail from London in a day or two.\n",
      "TARGET: Sette anni fa circa, un certo signor Eyre venne a Gateshead e chiese di vedervi. La signora rispose che eravate in una pensione a cinquanta miglia di distanza; ne fu dolente perché non poteva trattenersi; partiva per un paese lontano e il bastimento doveva salpare da Londra dopo due giorni.\n",
      "PREDICTED: — Non è — , — disse che — disse che — disse che — che — che — che — che e non che e un suo che non che e un suo che non che non , e un suo che , non che che che non che non che non che non che e un . che è è è è è è un ' . che è è è è è è è è è è è è un ' . che è è un ' . che è è è è è è è è è è è è è è un ' . che è è è è . che è è è che è che è è è è . . . . che è è è è è che è che è che è che è che è che è che è che è che è che è che è che è che è è è è è . che è è è . . . . . . . . . . . che è è è è è è è è è è che è che è che è è è è è è . . . che è è è è è è è è è è è è è è . che è è è è è . . che è è . che è . che è . che è\n",
      "--------------------------------------------------------------------------------\n",
      "\n",
      "Epoch 21\n",
      "-------------------------------, 0 days, 2 hours, 22 minutes, 39 seconds\n",
      "\n"
     ]
    },
    {
     "name": "stderr",
     "output_type": "stream",
     "text": [
      "Processing epoch 21: 100%|██████████| 534/534 [05:20<00:00,  1.66it/s, loss=6.114128, lr=0.000000000]\n",
      "Processing validation examples: 100%|██████████| 324/324 [01:26<00:00,  3.73it/s, BLEU=0.000000000, METEOR=0.056497050] \n"
     ]
    },
    {
     "name": "stdout",
     "output_type": "stream",
     "text": [
      "--------------------------------------------------------------------------------\n",
      "SOURCE: I see you would ask why I keep such a woman in my house: when we have been married a year and a day, I will tell you; but not now.\n",
      "TARGET: \"Mi domanderete perché tengo in casa quella donna. Dopo un anno e un giorno che saremo uniti, ve lo dirò, ma non adesso.\n",
      "PREDICTED: \" Non ho non ho , non ho , non , ma non , non , ma non , non , non me . , non ho ho ho ho ho un ' me . , non ho un ' me . . . . . . . . . . . . . . . . . . . . . . . . . . . .\n",
      "--------------------------------------------------------------------------------\n",
      "\n",
      "Epoch 22\n",
      "-------------------------------, 0 days, 2 hours, 29 minutes, 27 seconds\n",
      "\n"
     ]
    },
    {
     "name": "stderr",
     "output_type": "stream",
     "text": [
      "Processing epoch 22: 100%|██████████| 534/534 [05:20<00:00,  1.67it/s, loss=6.042853, lr=0.000000000]\n",
      "Processing validation examples: 100%|██████████| 324/324 [01:26<00:00,  3.73it/s, BLEU=0.000000000, METEOR=0.050911188] \n"
     ]
    },
    {
     "name": "stdout",
     "output_type": "stream",
     "text": [
      "--------------------------------------------------------------------------------\n",
      "SOURCE: Like all such matters it went on of itself, by inertia.\n",
      "TARGET: Così questa, come tutte le altre questioni, andava avanti da sé, per forza di inerzia.\n",
      "PREDICTED: E , l ’ era l ’ , , . , . . . . . . . . .\n",
      "--------------------------------------------------------------------------------\n",
      "\n",
      "Epoch 23\n",
      "-------------------------------, 0 days, 2 hours, 36 minutes, 14 seconds\n",
      "\n"
     ]
    },
    {
     "name": "stderr",
     "output_type": "stream",
     "text": [
      "Processing epoch 23: 100%|██████████| 534/534 [05:20<00:00,  1.67it/s, loss=6.130719, lr=0.000000000]\n",
      "Processing validation examples: 100%|██████████| 324/324 [01:26<00:00,  3.73it/s, BLEU=0.000000000, METEOR=0.052952898] \n"
     ]
    },
    {
     "name": "stdout",
     "output_type": "stream",
     "text": [
      "--------------------------------------------------------------------------------\n",
      "SOURCE: HOW GEORGE, ONCE UPON A TIME, GOT UP EARLY IN THE MORNING. - GEORGE, HARRIS, AND MONTMORENCY DO NOT LIKE THE LOOK OF THE COLD WATER. - HEROISM AND DETERMINATION ON THE PART OF J. - GEORGE AND HIS SHIRT: STORY WITH A MORAL. - HARRIS AS COOK. - HISTORICAL RETROSPECT, SPECIALLY INSERTED FOR THE USE OF SCHOOLS.\n",
      "TARGET: Come Giorgio, una volta, si alzò presto la mattina. — A Giorgio, Harris e Montmorency non piace lo sguardo dell’acqua fredda. — Eroismo e determinazione da parte di Gerolamo. — Giorgio e la camicia: storia con una morale. — Harris cuoco. — Retrospettiva storica, inserita specialmente per uso delle scuole.\n",
      "PREDICTED: La di . — La La La La La La di . — La di . — di di di . — di . — . — . — . — . — . — . — . — . — . — . — . — . — La . — . — . — La . — La . — La . — La . — La . — La . — La . — . — . — . — . — . — . — . — . — . — . — . — . — . — . — . — . — . — . — . — . — . — . — . — . — . — . — . — . — . — . — . — . . . . . . . . . . . . . . . . . . . . . . . . . . . . . . . . . . . . . . .\n",
      "--------------------------------------------------------------------------------\n",
      "\n",
      "Epoch 24\n",
      "-------------------------------, 0 days, 2 hours, 43 minutes, 2 seconds\n",
      "\n"
     ]
    },
    {
     "name": "stderr",
     "output_type": "stream",
     "text": [
      "Processing epoch 24: 100%|██████████| 534/534 [05:20<00:00,  1.67it/s, loss=6.009040, lr=0.000000000]\n",
      "Processing validation examples: 100%|██████████| 324/324 [01:27<00:00,  3.72it/s, BLEU=0.000000000, METEOR=0.048131652] \n"
     ]
    },
    {
     "name": "stdout",
     "output_type": "stream",
     "text": [
      "--------------------------------------------------------------------------------\n",
      "SOURCE: 'Dear me! If you please,' said Oblonsky, motioning them toward the dining-room.\n",
      "TARGET: — Ecco, signori, accomodatevi — disse Stepan Arkad’ic, facendo segno verso la sala da pranzo.\n",
      "PREDICTED: — Ah , ! — disse Stepan Arkad ’ ic , Stepan Arkad ’ ic , , . — E , , ! ! ! ! ! ! ! ! ! ! ! ! ! ! ! ! ! ! ! ! ! ! ! ! ! ! ! ! ! ! ! ! ! ! ! ! ! ! ! ! ! ! ! ! ! ! ! ! ! ! ! ! ! ! ! ! ! ! ! ! ! ! ! ! ! ! ! ! ! ! ! ! ! ! ! ! ! ! ! ! ! ! ! ! ! ! ! ! ! ! ! ! ! ! ! ! ! ! ! ! ! ! ! ! ! ! ! ! ! ! ! ! ! ! ! ! !\n",
      "--------------------------------------------------------------------------------\n",
      "\n",
      "Epoch 25\n",
      "-------------------------------, 0 days, 2 hours, 49 minutes, 49 seconds\n",
      "\n"
     ]
    },
    {
     "name": "stderr",
     "output_type": "stream",
     "text": [
      "Processing epoch 25: 100%|██████████| 534/534 [05:20<00:00,  1.66it/s, loss=5.789157, lr=0.000000000]\n",
      "Processing validation examples: 100%|██████████| 324/324 [01:27<00:00,  3.72it/s, BLEU=0.000048502, METEOR=0.054367778] \n"
     ]
    },
    {
     "name": "stdout",
     "output_type": "stream",
     "text": [
      "--------------------------------------------------------------------------------\n",
      "SOURCE: 'The game's going on rather better now,' she said, by way of keeping up the conversation a little.\n",
      "TARGET: — Il giuoco va meglio, ora, — disse per alimentare un po' la conversazione.\n",
      "PREDICTED: — È — disse il vecchio , — disse il viso , — disse il viso di lei . , — disse il vecchio la sua volta . . . . . . . . . . . . . . . . . . . . . . . . . . . . . . . . . . . . . . . . . . . . . . . . . . . . . . . . . . . . . . . . . . . . . . . . . . . . . . . . . . . . . . . . .\n",
      "--------------------------------------------------------------------------------\n",
      "\n",
      "Epoch 26\n",
      "-------------------------------, 0 days, 2 hours, 56 minutes, 37 seconds\n",
      "\n"
     ]
    },
    {
     "name": "stderr",
     "output_type": "stream",
     "text": [
      "Processing epoch 26: 100%|██████████| 534/534 [05:20<00:00,  1.66it/s, loss=5.937883, lr=0.000000000]\n",
      "Processing validation examples: 100%|██████████| 324/324 [01:26<00:00,  3.73it/s, BLEU=0.000000000, METEOR=0.061979100] \n"
     ]
    },
    {
     "name": "stdout",
     "output_type": "stream",
     "text": [
      "--------------------------------------------------------------------------------\n",
      "SOURCE: My black silk frock hung against the wall. The traces of the bog were removed from it; the creases left by the wet smoothed out: it was quite decent.\n",
      "TARGET: Il mio abito di seta nera era appeso al muro e non portava più traccia di fango, le pieghe formate dall'umidità erano sparite, insomma era un vestito decente.\n",
      "PREDICTED: La signor signor signor ' signor ' signor signor ' signor signor ' signor ' mattina era era era era il signor ' era era il signor ' . il signor signor signor signor ' . . . . . . . . . . . . . . . . . . . . . . . . . . . . . . . . . . . . . . . . . . . . . . . . .\n",
      "--------------------------------------------------------------------------------\n",
      "\n",
      "Epoch 27\n",
      "-------------------------------, 0 days, 3 hours, 3 minutes, 25 seconds\n",
      "\n"
     ]
    },
    {
     "name": "stderr",
     "output_type": "stream",
     "text": [
      "Processing epoch 27: 100%|██████████| 534/534 [05:20<00:00,  1.67it/s, loss=5.907502, lr=0.000000000]\n",
      "Processing validation examples: 100%|██████████| 324/324 [01:27<00:00,  3.72it/s, BLEU=0.000059978, METEOR=0.056692664] \n"
     ]
    },
    {
     "name": "stdout",
     "output_type": "stream",
     "text": [
      "--------------------------------------------------------------------------------\n",
      "SOURCE: He is a wonderful portrait-painter.\n",
      "TARGET: È un ritrattista famoso.\n",
      "PREDICTED: È una momento , con una momento . . . . . . . . . . . . . . . . . . . . . . . . . . . . . . . . . . . . . . . . . . . .\n",
      "--------------------------------------------------------------------------------\n",
      "\n",
      "Epoch 28\n",
      "-------------------------------, 0 days, 3 hours, 10 minutes, 13 seconds\n",
      "\n"
     ]
    },
    {
     "name": "stderr",
     "output_type": "stream",
     "text": [
      "Processing epoch 28: 100%|██████████| 534/534 [05:20<00:00,  1.67it/s, loss=5.697254, lr=0.000000000]\n",
      "Processing validation examples: 100%|██████████| 324/324 [01:26<00:00,  3.73it/s, BLEU=0.000091446, METEOR=0.065692177] \n"
     ]
    },
    {
     "name": "stdout",
     "output_type": "stream",
     "text": [
      "--------------------------------------------------------------------------------\n",
      "SOURCE: 'No, Papa, he is very nice, and Kostya is very fond of him,' Kitty replied with a smile as of entreaty, having noticed a sarcastic expression on her father's face.\n",
      "TARGET: — No, papà, è molto simpatico, e Kostja gli vuole molto bene — disse sorridendo Kitty, come a supplicarlo di qualcosa, dopo aver notato l’espressione di canzonatura sul viso del padre.\n",
      "PREDICTED: — Sì , non è un sorriso — disse Levin , ma Kitty di un sorriso di un sorriso di un sorriso di un sorriso , e non si un sorriso di un sorriso . , è un sorriso , è un sorriso , non è un sorriso . . . . . . . . . . . . . . . . . . . . . . . . . . . . . . . . . . . . . . . . . . . . . . . . . . . . . . . . . . . . . . . . . . . . . . . . . . . . . . . . . . . . . . . . . . . . . . . . . . . . . . . . . . . . . . . . . . . . . . . . . . . . . . . . . . .\n",
      "--------------------------------------------------------------------------------\n",
      "\n",
      "Epoch 29\n",
      "-------------------------------, 0 days, 3 hours, 17 minutes, 0 seconds\n",
      "\n"
     ]
    },
    {
     "name": "stderr",
     "output_type": "stream",
     "text": [
      "Processing epoch 29: 100%|██████████| 534/534 [05:20<00:00,  1.66it/s, loss=5.644149, lr=0.000000000]\n",
      "Processing validation examples: 100%|██████████| 324/324 [01:26<00:00,  3.73it/s, BLEU=0.000189328, METEOR=0.066137304] \n"
     ]
    },
    {
     "name": "stdout",
     "output_type": "stream",
     "text": [
      "--------------------------------------------------------------------------------\n",
      "SOURCE: \"This is you, Mary, is it not?\"\n",
      "TARGET: — Siete voi, Maria, non è vero? — disse.\n",
      "PREDICTED: — Non è ? , non è ? ? ? ? ? ? ? ? ? ? ? ? ? ? ? ? ? ? ? ? ? ? ? ? ? ? ? ? ? ? ? ? ? ? ? ? ? ? ? ? ? ? ? ? ? ? ? ? ? ? ? ? ? ? ? ? ? ? ? ? ? ? ? ? ? ? ? ? ? ? ? ? ? ? ? ? ? ? ? ? ? ? ? ? ? ? ? ? ? ? ? ? ? ? ? ? ? ? ?\n",
      "--------------------------------------------------------------------------------\n",
      "\n",
      "Epoch 30\n",
      "-------------------------------, 0 days, 3 hours, 23 minutes, 48 seconds\n",
      "\n"
     ]
    },
    {
     "name": "stderr",
     "output_type": "stream",
     "text": [
      "Processing epoch 30: 100%|██████████| 534/534 [05:20<00:00,  1.66it/s, loss=5.605240, lr=0.000000000]\n",
      "Processing validation examples: 100%|██████████| 324/324 [01:26<00:00,  3.73it/s, BLEU=0.000118170, METEOR=0.067767107] \n"
     ]
    },
    {
     "name": "stdout",
     "output_type": "stream",
     "text": [
      "--------------------------------------------------------------------------------\n",
      "SOURCE: Change of scene, and absence of the necessity for thought, will restore the mental equilibrium.\"\n",
      "TARGET: Il cambiamento d’aria e l’assenza della necessità di pensare ci ridaranno l’equilibrio mentale.\n",
      "PREDICTED: Le di di , di di di . . . . . . . . . . . . . . . .\n",
      "--------------------------------------------------------------------------------\n",
      "\n",
      "Epoch 31\n",
      "-------------------------------, 0 days, 3 hours, 30 minutes, 35 seconds\n",
      "\n"
     ]
    },
    {
     "name": "stderr",
     "output_type": "stream",
     "text": [
      "Processing epoch 31: 100%|██████████| 534/534 [05:20<00:00,  1.66it/s, loss=5.620923, lr=0.000000000]\n",
      "Processing validation examples: 100%|██████████| 324/324 [01:26<00:00,  3.73it/s, BLEU=0.000094546, METEOR=0.063879536] \n"
     ]
    },
    {
     "name": "stdout",
     "output_type": "stream",
     "text": [
      "--------------------------------------------------------------------------------\n",
      "SOURCE: We questioned Harris on the subject in the morning, and he said, \"What swans?\" and seemed to think that George and I had been dreaming.\n",
      "TARGET: Interrogammo Harris la mattina sull’argomento; ed egli ci disse: — Quali cigni? — e parve pensare che io e Giorgio ce li fossimo sognati.\n",
      "PREDICTED: Harris Giorgio Giorgio Giorgio che Harris Giorgio e Giorgio Giorgio e Giorgio Giorgio e Giorgio Giorgio . Giorgio . e Giorgio . Giorgio . .\n",
      "--------------------------------------------------------------------------------\n",
      "\n",
      "Epoch 32\n",
      "-------------------------------, 0 days, 3 hours, 37 minutes, 23 seconds\n",
      "\n"
     ]
    },
    {
     "name": "stderr",
     "output_type": "stream",
     "text": [
      "Processing epoch 32: 100%|██████████| 534/534 [05:20<00:00,  1.67it/s, loss=5.768773, lr=0.000000000]\n",
      "Processing validation examples: 100%|██████████| 324/324 [01:26<00:00,  3.72it/s, BLEU=0.000079920, METEOR=0.063951228] \n"
     ]
    },
    {
     "name": "stdout",
     "output_type": "stream",
     "text": [
      "--------------------------------------------------------------------------------\n",
      "SOURCE: 'Oh yes; you keep racehorses too? '\n",
      "TARGET: — Ma già, anche voi avete dei cavalli.\n",
      "PREDICTED: — Oh , , — mi ? ! ! ! ! ! ! ! ! ! ! ! ! ! ! ! ! ! ! ! ! ! ! ! ! ! ! ! ! ! ! ! ! ! ! ! ! ! ! ! ! ! ! ! ! ! ! ! ! ! ! ! ! ! ! ! ! ! ! ! ! ! ! ! ! ! ! ! ! !\n",
      "--------------------------------------------------------------------------------\n",
      "\n",
      "Epoch 33\n",
      "-------------------------------, 0 days, 3 hours, 44 minutes, 11 seconds\n",
      "\n"
     ]
    },
    {
     "name": "stderr",
     "output_type": "stream",
     "text": [
      "Processing epoch 33: 100%|██████████| 534/534 [05:20<00:00,  1.66it/s, loss=5.668536, lr=0.000000000]\n",
      "Processing validation examples: 100%|██████████| 324/324 [01:26<00:00,  3.73it/s, BLEU=0.000089021, METEOR=0.062812604] \n"
     ]
    },
    {
     "name": "stdout",
     "output_type": "stream",
     "text": [
      "--------------------------------------------------------------------------------\n",
      "SOURCE: 'Put it,' she said, 'on the fourth finger of my left hand, and I am yours, and you are mine; and we shall leave earth, and make our own heaven yonder.'\n",
      "TARGET: \"Mettetelo nel quarto dito della mano sinistra e io sarò vostra e voi sarete mio, e insieme lasceremo la terra e avremo lassù il paradiso.\"\n",
      "PREDICTED: — , — disse la mano e la mano e la mano e la mano e e e e e . , ho e io ho la vostra e io ho e la vostra . e io ho e io ho . ! ! ! ! e ! e ! e ! e ! e ! e e e io ho ! e e ! e ! e ! e ! e ! e ! e e e e e e e e e e e e e e e e e e e e e e e e e e e e e e e e e e e e e e e e e e e e e e e e e e e e e e e e e e e e e e e e e e e e e e e e e e e e e e e e e e e e e e e e e e e e e e e e e e e e e e e e e e e e e e e e e e e e e e e e e e e e e e e e e e e e e e e e e e e e e e e e e e e e e e e e e e e e e e e e e e e e e e e e e e e e e e e e e e e e e e e e e e e e e e e e io io io io io io io io io io io io io\n",
      "--------------------------------------------------------------------------------\n",
      "\n",
      "Epoch 34\n",
      "-------------------------------, 0 days, 3 hours, 50 minutes, 59 seconds\n",
      "\n"
     ]
    },
    {
     "name": "stderr",
     "output_type": "stream",
     "text": [
      "Processing epoch 34: 100%|██████████| 534/534 [05:20<00:00,  1.67it/s, loss=5.655887, lr=0.000000000]\n",
      "Processing validation examples: 100%|██████████| 324/324 [01:26<00:00,  3.73it/s, BLEU=0.000140013, METEOR=0.062219878] \n"
     ]
    },
    {
     "name": "stdout",
     "output_type": "stream",
     "text": [
      "--------------------------------------------------------------------------------\n",
      "SOURCE: Moreover, he was vaguely conscious that what he had called his convictions were really ignorance and, more than that, were a state of mind which rendered knowledge of what he needed impossible.\n",
      "TARGET: Inoltre, sentiva confusamente che ciò che chiamava le sue convinzioni, era non solo ignoranza, ma un modo di pensare col quale era impossibile raggiungere la conoscenza di quello che gli occorreva.\n",
      "PREDICTED: Sentiva che che aveva quello che aveva quello che aveva detto che aveva detto , che aveva detto che aveva stato stato stato stato stato che aveva stato stato stato stato stato quello che aveva stato che aveva stato che aveva stato stato che aveva stato . che aveva . . . . . . . . . . . . . . . . . . . . . . . . . . . . . . . . . . . .\n",
      "--------------------------------------------------------------------------------\n",
      "\n",
      "Epoch 35\n",
      "-------------------------------, 0 days, 3 hours, 57 minutes, 46 seconds\n",
      "\n"
     ]
    },
    {
     "name": "stderr",
     "output_type": "stream",
     "text": [
      "Processing epoch 35: 100%|██████████| 534/534 [05:20<00:00,  1.66it/s, loss=5.466490, lr=0.000000000]\n",
      "Processing validation examples: 100%|██████████| 324/324 [01:27<00:00,  3.72it/s, BLEU=0.000107675, METEOR=0.062183057] \n"
     ]
    },
    {
     "name": "stdout",
     "output_type": "stream",
     "text": [
      "--------------------------------------------------------------------------------\n",
      "SOURCE: 'Let us go. I have finished,' said Vronsky, and he rose and moved toward the door.\n",
      "TARGET: — Andiamo, ho finito — disse Vronskij e, alzatosi, si diresse verso la porta.\n",
      "PREDICTED: — No , — disse Vronskij , e Vronskij , e si fermò la porta e si fermò . . . . . . . . . . . . . . . . . . . . . . . . . . . . . . . . . . . . . . . . . . . . . . . . . . . . . . . . . . . . . . . . . . . . . . . . . . . . . . . . . . . . . . . . . . . . . . . . . . . . . . . . . . . . . . . . . . . . . . . . . . . . . . . . . . . . . . . .\n",
      "--------------------------------------------------------------------------------\n",
      "\n",
      "Epoch 36\n",
      "-------------------------------, 0 days, 4 hours, 4 minutes, 34 seconds\n",
      "\n"
     ]
    },
    {
     "name": "stderr",
     "output_type": "stream",
     "text": [
      "Processing epoch 36: 100%|██████████| 534/534 [05:20<00:00,  1.67it/s, loss=5.716694, lr=0.000000000]\n",
      "Processing validation examples: 100%|██████████| 324/324 [01:26<00:00,  3.72it/s, BLEU=0.000119754, METEOR=0.065928929] \n"
     ]
    },
    {
     "name": "stdout",
     "output_type": "stream",
     "text": [
      "--------------------------------------------------------------------------------\n",
      "SOURCE: 'Not going?' said Petrov, flushing and immediately beginning to cough and looking round for his wife.\n",
      "TARGET: — Come non saremmo andati! — disse Petrov, arrossendo e tossendo subito, cercando con gli occhi la moglie. — Aneta!\n",
      "PREDICTED: — Ma mi ho detto — disse Levin , e , e , e , e , e , egli egli egli egli egli aveva andare il sorriso a Levin . ? ? ? , , , , , , , a me , . . a me . , . . . . . . . . . . . . . . . . . . . . . . . . . . . . . . . . . . . . . . . . . . . . . . . . . . . . . . . . . .\n",
      "--------------------------------------------------------------------------------\n",
      "\n",
      "Epoch 37\n",
      "-------------------------------, 0 days, 4 hours, 11 minutes, 21 seconds\n",
      "\n"
     ]
    },
    {
     "name": "stderr",
     "output_type": "stream",
     "text": [
      "Processing epoch 37: 100%|██████████| 534/534 [05:20<00:00,  1.67it/s, loss=5.568131, lr=0.000000000]\n",
      "Processing validation examples: 100%|██████████| 324/324 [01:26<00:00,  3.73it/s, BLEU=0.000090363, METEOR=0.069004963] \n"
     ]
    },
    {
     "name": "stdout",
     "output_type": "stream",
     "text": [
      "--------------------------------------------------------------------------------\n",
      "SOURCE: 'The game's going on rather better now,' she said, by way of keeping up the conversation a little.\n",
      "TARGET: — Il giuoco va meglio, ora, — disse per alimentare un po' la conversazione.\n",
      "PREDICTED: — È molto molto molto — disse Anna , — disse il vecchio . — È un vecchio Aleksandrovna . . . . . . . . . . . . . . . . . . . . . . . . . . . . . . . . . .\n",
      "--------------------------------------------------------------------------------\n",
      "\n",
      "Epoch 38\n",
      "-------------------------------, 0 days, 4 hours, 18 minutes, 8 seconds\n",
      "\n"
     ]
    },
    {
     "name": "stderr",
     "output_type": "stream",
     "text": [
      "Processing epoch 38: 100%|██████████| 534/534 [05:20<00:00,  1.67it/s, loss=5.540076, lr=0.000000000]\n",
      "Processing validation examples: 100%|██████████| 324/324 [01:26<00:00,  3.73it/s, BLEU=0.000157024, METEOR=0.069688888] \n"
     ]
    },
    {
     "name": "stdout",
     "output_type": "stream",
     "text": [
      "--------------------------------------------------------------------------------\n",
      "SOURCE: He was followed by the barber with shaving tackle.\n",
      "TARGET: Dietro a Matvej entrò anche il barbiere con l’occorrente per la barba.\n",
      "PREDICTED: L ’ ic era l ’ altro e l ’ altro . . . . . . . . . . . . . . . . . . . . . . . . . . . . . . . . .\n",
      "--------------------------------------------------------------------------------\n",
      "\n",
      "Epoch 39\n",
      "-------------------------------, 0 days, 4 hours, 24 minutes, 56 seconds\n",
      "\n"
     ]
    },
    {
     "name": "stderr",
     "output_type": "stream",
     "text": [
      "Processing epoch 39: 100%|██████████| 534/534 [05:20<00:00,  1.67it/s, loss=5.582595, lr=0.000000000]\n",
      "Processing validation examples: 100%|██████████| 324/324 [01:26<00:00,  3.73it/s, BLEU=0.000000000, METEOR=0.070328262] \n"
     ]
    },
    {
     "name": "stdout",
     "output_type": "stream",
     "text": [
      "--------------------------------------------------------------------------------\n",
      "SOURCE: But fortresses were of little value to her afterwards when Cesare Borgia attacked her, and when the people, her enemy, were allied with foreigners.\n",
      "TARGET: E li tempi stavano allora in modo, che il forestiere non posseva soccorrere el populo; ma di poi, valsono ancora a poco lei le fortezze, quando Cesare Borgia l'assaltò, e che il populo suo inimico si coniunse co’ forestieri.\n",
      "PREDICTED: Ma le , le , le , le le , le le , le , le con le . , e le , e le , le . , e le , e le , e le , e le , , , . , , , . , , e le , , , . , , e , , . , . , e , , e , , , . . , , , , , e . . . , , e , e , . . . , e , , e , e , e , e , e , e , e , e , e , e , e , e , . . . , . , , e , e , e , e , , . . , e , e . , e . . . , , e . . . , , e . . . . . . . . . . . . . . . .\n",
      "--------------------------------------------------------------------------------\n",
      "\n",
      "Epoch 40\n",
      "-------------------------------, 0 days, 4 hours, 31 minutes, 43 seconds\n",
      "\n"
     ]
    },
    {
     "name": "stderr",
     "output_type": "stream",
     "text": [
      "Processing epoch 40: 100%|██████████| 534/534 [05:20<00:00,  1.66it/s, loss=5.640477, lr=0.000000000]\n",
      "Processing validation examples: 100%|██████████| 324/324 [01:26<00:00,  3.73it/s, BLEU=0.000322614, METEOR=0.073529770] \n"
     ]
    },
    {
     "name": "stdout",
     "output_type": "stream",
     "text": [
      "--------------------------------------------------------------------------------\n",
      "SOURCE: \"All that interests him interests me..\"\n",
      "TARGET: ‘Tutto quello che interessa lui, interessa me’.\n",
      "PREDICTED: — E i i suoi suoi suoi . . . . . . . . .\n",
      "--------------------------------------------------------------------------------\n",
      "\n",
      "Epoch 41\n",
      "-------------------------------, 0 days, 4 hours, 38 minutes, 31 seconds\n",
      "\n"
     ]
    },
    {
     "name": "stderr",
     "output_type": "stream",
     "text": [
      "Processing epoch 41: 100%|██████████| 534/534 [05:20<00:00,  1.66it/s, loss=5.487034, lr=0.000000000]\n",
      "Processing validation examples: 100%|██████████| 324/324 [01:26<00:00,  3.73it/s, BLEU=0.000324346, METEOR=0.070135077] \n"
     ]
    },
    {
     "name": "stdout",
     "output_type": "stream",
     "text": [
      "--------------------------------------------------------------------------------\n",
      "SOURCE: 'I am not bothering about them: I am doing it for myself.'\n",
      "TARGET: — Io non mi angustio per loro; lo faccio per me.\n",
      "PREDICTED: — Io non ho nulla , non sono più più di me ; e non sono . . . . . . . . . . . . . . . . . . . . . . . . . . . . . .\n",
      "--------------------------------------------------------------------------------\n",
      "\n",
      "Epoch 42\n",
      "-------------------------------, 0 days, 4 hours, 45 minutes, 19 seconds\n",
      "\n"
     ]
    },
    {
     "name": "stderr",
     "output_type": "stream",
     "text": [
      "Processing epoch 42: 100%|██████████| 534/534 [05:20<00:00,  1.66it/s, loss=5.771070, lr=0.000000000]\n",
      "Processing validation examples: 100%|██████████| 324/324 [01:26<00:00,  3.73it/s, BLEU=0.000321254, METEOR=0.069908575] \n"
     ]
    },
    {
     "name": "stdout",
     "output_type": "stream",
     "text": [
      "--------------------------------------------------------------------------------\n",
      "SOURCE: Moreover, he was vaguely conscious that what he had called his convictions were really ignorance and, more than that, were a state of mind which rendered knowledge of what he needed impossible.\n",
      "TARGET: Inoltre, sentiva confusamente che ciò che chiamava le sue convinzioni, era non solo ignoranza, ma un modo di pensare col quale era impossibile raggiungere la conoscenza di quello che gli occorreva.\n",
      "PREDICTED: Sentiva che che aveva detto che aveva detto che aveva detto che aveva detto che aveva detto che aveva detto , che aveva detto , che aveva detto che aveva detto che aveva detto , che aveva detto . quello che sarebbe detto . . . . . . . . . . . . . . . . . . . . . . . . . . . . . . . . . . . . . . . . . . . . . . . . . . . . . . . . . . . . . .\n",
      "--------------------------------------------------------------------------------\n",
      "\n",
      "Epoch 43\n",
      "-------------------------------, 0 days, 4 hours, 52 minutes, 7 seconds\n",
      "\n"
     ]
    },
    {
     "name": "stderr",
     "output_type": "stream",
     "text": [
      "Processing epoch 43: 100%|██████████| 534/534 [05:20<00:00,  1.67it/s, loss=5.297340, lr=0.000000000]\n",
      "Processing validation examples: 100%|██████████| 324/324 [01:26<00:00,  3.73it/s, BLEU=0.000074614, METEOR=0.075067121] \n"
     ]
    },
    {
     "name": "stdout",
     "output_type": "stream",
     "text": [
      "--------------------------------------------------------------------------------\n",
      "SOURCE: 'Don't you know that you are all my life to me?...\n",
      "TARGET: — Non sapete forse che siete per me tutta la vita?\n",
      "PREDICTED: — Tu non so che non mi so la mia vita ? . . . . . . . . . . . . . .\n",
      "--------------------------------------------------------------------------------\n",
      "\n",
      "Epoch 44\n",
      "-------------------------------, 0 days, 4 hours, 58 minutes, 54 seconds\n",
      "\n"
     ]
    },
    {
     "name": "stderr",
     "output_type": "stream",
     "text": [
      "Processing epoch 44: 100%|██████████| 534/534 [05:20<00:00,  1.66it/s, loss=5.200766, lr=0.000000000]\n",
      "Processing validation examples: 100%|██████████| 324/324 [01:26<00:00,  3.73it/s, BLEU=0.000054139, METEOR=0.068571605] \n"
     ]
    },
    {
     "name": "stdout",
     "output_type": "stream",
     "text": [
      "--------------------------------------------------------------------------------\n",
      "SOURCE: At six, they came and told him dinner was ready.\n",
      "TARGET: Alle sei andarono ad annunciargli che il desinare era pronto.\n",
      "PREDICTED: Dopo pranzo gli a pranzo e gli : . : : : : : : : : : : : : : : : : : . : : : : : : : : : : : : : . : : : : : : : : : : . : : : : : : : : . : : : : : : : . : : : : : : . : :\n",
      "--------------------------------------------------------------------------------\n",
      "\n",
      "Epoch 45\n",
      "-------------------------------, 0 days, 5 hours, 5 minutes, 42 seconds\n",
      "\n"
     ]
    },
    {
     "name": "stderr",
     "output_type": "stream",
     "text": [
      "Processing epoch 45: 100%|██████████| 534/534 [05:20<00:00,  1.66it/s, loss=5.321210, lr=0.000000000]\n",
      "Processing validation examples: 100%|██████████| 324/324 [01:26<00:00,  3.73it/s, BLEU=0.000380966, METEOR=0.077598761] \n"
     ]
    },
    {
     "name": "stdout",
     "output_type": "stream",
     "text": [
      "--------------------------------------------------------------------------------\n",
      "SOURCE: Last year, at Sviyazhsky the Marshal's house.'\n",
      "TARGET: L’anno scorso, da Nikolaj Ivanovic, il maresciallo.\n",
      "PREDICTED: E il vecchio di casa , il Arkad ’ ic di casa . a casa . . . . . . . . . . . . . . . .\n",
      "--------------------------------------------------------------------------------\n",
      "\n",
      "Epoch 46\n",
      "-------------------------------, 0 days, 5 hours, 12 minutes, 29 seconds\n",
      "\n"
     ]
    },
    {
     "name": "stderr",
     "output_type": "stream",
     "text": [
      "Processing epoch 46: 100%|██████████| 534/534 [05:20<00:00,  1.67it/s, loss=5.316983, lr=0.000000000]\n",
      "Processing validation examples: 100%|██████████| 324/324 [01:26<00:00,  3.73it/s, BLEU=0.000620558, METEOR=0.079226210] \n"
     ]
    },
    {
     "name": "stdout",
     "output_type": "stream",
     "text": [
      "--------------------------------------------------------------------------------\n",
      "SOURCE: 'She is wonderfully sweet!' she said, looking at Varenka. who was handing a tumbler to the Frenchwoman. 'See how naturally and sweetly she does it.'\n",
      "TARGET: — È un incanto, com’è cara! — ella disse, guardando Varen’ka, nel momento in cui porgeva un bicchiere alla francese. — Guardate come in lei tutto è schietto e grazioso.\n",
      "PREDICTED: — Sì , è così ! — disse Anna , sorridendo con un ’ ka e le sue che si di lei , e le la sua conversazione di lei . — È ! . ! . . . . . . . . . . . . . . . . . . . . . . . . . . . . . . . . . . . . . . . . . . . . . . . . . . . . . . . . . . . . . . . . .\n",
      "--------------------------------------------------------------------------------\n",
      "\n",
      "Epoch 47\n",
      "-------------------------------, 0 days, 5 hours, 19 minutes, 17 seconds\n",
      "\n"
     ]
    },
    {
     "name": "stderr",
     "output_type": "stream",
     "text": [
      "Processing epoch 47: 100%|██████████| 534/534 [05:20<00:00,  1.66it/s, loss=5.451471, lr=0.000000000]\n",
      "Processing validation examples: 100%|██████████| 324/324 [01:26<00:00,  3.74it/s, BLEU=0.000426016, METEOR=0.082906921] \n"
     ]
    },
    {
     "name": "stdout",
     "output_type": "stream",
     "text": [
      "--------------------------------------------------------------------------------\n",
      "SOURCE: 'We must burn the house down!' said the Rabbit's voice; and Alice called out as loud as she could, 'If you do.\n",
      "TARGET: — Si deve appiccar fuoco alla casa! — esclamò la voce del Coniglio; ma Alice gridò subito con quanta forza aveva in gola: — Se lo fate, guai!\n",
      "PREDICTED: — il Coniglio ! — disse Alice , — e si a nuovo la Regina . — E ne a nuovo a nuovo . ! ! ! ! ! ! ! ! ! ! ! ! ! . . . ! . . . . . . . . . . . . . . . . . . . . . . . . . . . . .\n",
      "--------------------------------------------------------------------------------\n",
      "\n",
      "Epoch 48\n",
      "-------------------------------, 0 days, 5 hours, 26 minutes, 4 seconds\n",
      "\n"
     ]
    },
    {
     "name": "stderr",
     "output_type": "stream",
     "text": [
      "Processing epoch 48: 100%|██████████| 534/534 [05:20<00:00,  1.66it/s, loss=5.125597, lr=0.000000000]\n",
      "Processing validation examples: 100%|██████████| 324/324 [01:26<00:00,  3.73it/s, BLEU=0.000424543, METEOR=0.078835858] \n"
     ]
    },
    {
     "name": "stdout",
     "output_type": "stream",
     "text": [
      "--------------------------------------------------------------------------------\n",
      "SOURCE: Jane, a little water.\"\n",
      "TARGET: Jane, un po' d'acqua.\n",
      "PREDICTED: — , Jane , Jane . . . . . . . . . .\n",
      "--------------------------------------------------------------------------------\n",
      "\n",
      "Epoch 49\n",
      "-------------------------------, 0 days, 5 hours, 32 minutes, 52 seconds\n",
      "\n"
     ]
    },
    {
     "name": "stderr",
     "output_type": "stream",
     "text": [
      "Processing epoch 49: 100%|██████████| 534/534 [05:20<00:00,  1.67it/s, loss=5.309498, lr=0.000000000]\n",
      "Processing validation examples: 100%|██████████| 324/324 [01:26<00:00,  3.73it/s, BLEU=0.000401095, METEOR=0.076019741] \n"
     ]
    },
    {
     "name": "stdout",
     "output_type": "stream",
     "text": [
      "--------------------------------------------------------------------------------\n",
      "SOURCE: 'What have you done?\n",
      "TARGET: — Che cosa avete fatto?\n",
      "PREDICTED: — Che cosa cosa cosa cosa ? ? . ? ? . . . . .\n",
      "--------------------------------------------------------------------------------\n",
      "\n",
      "Epoch 50\n",
      "-------------------------------, 0 days, 5 hours, 39 minutes, 40 seconds\n",
      "\n"
     ]
    },
    {
     "name": "stderr",
     "output_type": "stream",
     "text": [
      "Processing epoch 50: 100%|██████████| 534/534 [05:20<00:00,  1.67it/s, loss=5.415375, lr=0.000000000]\n",
      "Processing validation examples: 100%|██████████| 324/324 [01:26<00:00,  3.73it/s, BLEU=0.000432094, METEOR=0.071103914] \n"
     ]
    },
    {
     "name": "stdout",
     "output_type": "stream",
     "text": [
      "--------------------------------------------------------------------------------\n",
      "SOURCE: I know all that, but that does not make it easier for me.\n",
      "TARGET: Tutto questo lo so, ma per questo non sto meglio.\n",
      "PREDICTED: Io so che so , ma non so nulla . . . . . . . . . . . . . . . . . . . . . . . .\n",
      "--------------------------------------------------------------------------------\n",
      "\n",
      "Epoch 51\n",
      "-------------------------------, 0 days, 5 hours, 46 minutes, 27 seconds\n",
      "\n"
     ]
    },
    {
     "name": "stderr",
     "output_type": "stream",
     "text": [
      "Processing epoch 51: 100%|██████████| 534/534 [05:20<00:00,  1.66it/s, loss=5.180647, lr=0.000000000]\n",
      "Processing validation examples: 100%|██████████| 324/324 [01:26<00:00,  3.73it/s, BLEU=0.000198115, METEOR=0.077162949] \n"
     ]
    },
    {
     "name": "stdout",
     "output_type": "stream",
     "text": [
      "--------------------------------------------------------------------------------\n",
      "SOURCE: And this put me in mind that I wanted many things notwithstanding all that I had amassed together; and of these, ink was one; as also a spade, pickaxe, and shovel, to dig or remove the earth; needles, pins, and thread; as for linen, I soon learned to want that without much difficulty.\n",
      "TARGET: Una di queste fu da principio l’inchiostro; ma mi mancarono poi sempre e una pala e una vanga e una zappa per ismovere la terra, ed aghi e spilli e filo. Quanto a vestimenta di tela, di cui pure aveva scarsezza, il caldo m’insegnò presto a poterne far senza con poca fatica.\n",
      "PREDICTED: Ma la mia mia mia mia parte era più più più più più più di , e più che non più più più più più più , e più più più più più più più più più più più più più di , e di di e . la mia parte che non . . . . . . . . . . . . . . . . . . . . . . . . . . . . . . . . . . . . . . . . . . . . . . . . . . . . . . . . . . . . . . . . . . . . . . . . . . . . . . . . . . . . . . . . . . . . . . . . . . . . . . . . . . . . . . . . . . . . . . . . . . .\n",
      "--------------------------------------------------------------------------------\n",
      "\n",
      "Epoch 52\n",
      "-------------------------------, 0 days, 5 hours, 53 minutes, 15 seconds\n",
      "\n"
     ]
    },
    {
     "name": "stderr",
     "output_type": "stream",
     "text": [
      "Processing epoch 52: 100%|██████████| 534/534 [05:20<00:00,  1.67it/s, loss=4.892847, lr=0.000000000]\n",
      "Processing validation examples: 100%|██████████| 324/324 [01:26<00:00,  3.73it/s, BLEU=0.000383946, METEOR=0.076134807] \n"
     ]
    },
    {
     "name": "stdout",
     "output_type": "stream",
     "text": [
      "--------------------------------------------------------------------------------\n",
      "SOURCE: They knew his generosity, and in a quarter of an hour the sick Hamburg doctor, who lived upstairs, was looking with envy from his window at the merry party of healthy Russians gathered under the chestnut tree.\n",
      "TARGET: Essi conoscevano la sua liberalità; mezz’ora dopo un dottore d’Amburgo, ammalato, che era alloggiato al piano superiore, guardava con invidia dalla finestra quell’allegra brigata di russi, formata di persone sane, raccolta sotto il castagno.\n",
      "PREDICTED: La sera , che era fatto il dottore , il dottore , il dottore , il dottore , il dottore , il dottore , il dottore , il dottore , il dottore , il dottore , il dottore , con il dottore , il dottore , il dottore , il dottore , il dottore , il dottore , il dottore , il dottore , il dottore , il dottore , il dottore , il dottore , il dottore di il dottore di il dottore di un dottore . di un dottore . di un dottore . . . . . . . . . . . . . . . . . . . . . . . . . . . . . . . . . . . . . . . . . . . . . . . . . . . . . . . . . . . . . . . . . . . . . . . . . . . . . . . . . . . . . . . . . . . . . . . . . . . . . . . . . .\n",
      "--------------------------------------------------------------------------------\n",
      "\n",
      "Epoch 53\n",
      "-------------------------------, 0 days, 6 hours, 0 minutes, 2 seconds\n",
      "\n"
     ]
    },
    {
     "name": "stderr",
     "output_type": "stream",
     "text": [
      "Processing epoch 53: 100%|██████████| 534/534 [05:20<00:00,  1.67it/s, loss=5.179608, lr=0.000000000]\n",
      "Processing validation examples: 100%|██████████| 324/324 [01:26<00:00,  3.73it/s, BLEU=0.000524945, METEOR=0.076933983] \n"
     ]
    },
    {
     "name": "stdout",
     "output_type": "stream",
     "text": [
      "--------------------------------------------------------------------------------\n",
      "SOURCE: Well, you see, he weighed twenty-six pound.\n",
      "TARGET: Come vedete, pesava ventisei libbre.\n",
      "PREDICTED: a sei un po ’ a sei , signore . ? . . . . . . . . . . . . . . . . . . . . . . . .\n",
      "--------------------------------------------------------------------------------\n",
      "\n",
      "Epoch 54\n",
      "-------------------------------, 0 days, 6 hours, 6 minutes, 50 seconds\n",
      "\n"
     ]
    },
    {
     "name": "stderr",
     "output_type": "stream",
     "text": [
      "Processing epoch 54: 100%|██████████| 534/534 [05:20<00:00,  1.66it/s, loss=5.266914, lr=0.000000000]\n",
      "Processing validation examples: 100%|██████████| 324/324 [01:26<00:00,  3.73it/s, BLEU=0.000659467, METEOR=0.081213254] \n"
     ]
    },
    {
     "name": "stdout",
     "output_type": "stream",
     "text": [
      "--------------------------------------------------------------------------------\n",
      "SOURCE: Each person has what he doesn't want, and other people have what he does want.\n",
      "TARGET: Ogni persona ha ciò che non vuole, e ciò che vorrebbe l’hanno gli altri.\n",
      "PREDICTED: Io è fatto che non ha fatto , ma non ha fatto di essere fatto di lui . , e è bene che è . . . . . . . . . . . . . . . . . . . . . . . .\n",
      "--------------------------------------------------------------------------------\n",
      "\n",
      "Epoch 55\n",
      "-------------------------------, 0 days, 6 hours, 13 minutes, 37 seconds\n",
      "\n"
     ]
    },
    {
     "name": "stderr",
     "output_type": "stream",
     "text": [
      "Processing epoch 55: 100%|██████████| 534/534 [05:20<00:00,  1.67it/s, loss=5.183428, lr=0.000000000]\n",
      "Processing validation examples: 100%|██████████| 324/324 [01:26<00:00,  3.73it/s, BLEU=0.000437114, METEOR=0.077992524] \n"
     ]
    },
    {
     "name": "stdout",
     "output_type": "stream",
     "text": [
      "--------------------------------------------------------------------------------\n",
      "SOURCE: Besides, he felt sure that Yashvin certainly found no pleasure in gossip and scandal, and understood his feeling in the right way – that is, knew and believed that this love was not a joke or an amusement, but something more serious and important.\n",
      "TARGET: Inoltre era sicuro che Jašvin non godeva del pettegolezzo e dello scandalo, ma intendeva quel sentimento così come andava inteso, e capiva e credeva cioè che quel suo amore non era un giuoco, né uno svago, ma qualcosa di molto più grave ed importante.\n",
      "PREDICTED: Ma che si sapeva e si sapeva che si sapeva , e si sapeva che si sapeva , e che si sapeva che si sapeva che si sapeva che si sapeva a lui , e che si sapeva a lui che si sapeva a lui , e che si sapeva a lui che si sapeva a lui e che si sapeva a lui e lui e lui a lui . che lui , si sapeva a lui e che lui , e lui che lui e lui e lui . a lui e lui . a lui . . . . . . . . . . . . . . . . . . . . . . . . . . . . . . . . . . . . . . . . . . . . . . . . . . . . . . . . . . . . . . . . . . . . . . . . . . . . . . . . . . . .\n",
      "--------------------------------------------------------------------------------\n",
      "\n",
      "Epoch 56\n",
      "-------------------------------, 0 days, 6 hours, 20 minutes, 24 seconds\n",
      "\n"
     ]
    },
    {
     "name": "stderr",
     "output_type": "stream",
     "text": [
      "Processing epoch 56: 100%|██████████| 534/534 [05:20<00:00,  1.66it/s, loss=5.309716, lr=0.000000000]\n",
      "Processing validation examples: 100%|██████████| 324/324 [01:26<00:00,  3.73it/s, BLEU=0.000367632, METEOR=0.082985495] \n"
     ]
    },
    {
     "name": "stdout",
     "output_type": "stream",
     "text": [
      "--------------------------------------------------------------------------------\n",
      "SOURCE: I wondered what it meant: I wondered, too, at the punctual satisfaction he never failed to exhibit on an occasion that seemed to me of small moment, namely, my weekly visit to Morton school; and still more was I puzzled when, if the day was unfavourable, if there was snow, or rain, or high wind, and his sisters urged me not to go, he would invariably make light of their solicitude, and encourage me to accomplish the task without regard to the elements.\n",
      "TARGET: Se nevicava o pioveva e le sue sorelle mi pregavano a rimettere quella visita, egli al contrario m'incoraggiava a compiere quel dovere a dispetto degli elementi.\n",
      "PREDICTED: Non mi che mi a quel tempo , e mi a quel tempo che mi in quel tempo , e se mi a quel tempo di quel modo che mi in quel modo di quel modo di quel modo di quel modo di quel modo di quel modo di quel modo di quel modo , e se mi che mi a quel modo di quel modo di a a a a a a , e il mio tempo di quel luogo di quel luogo , e se mi a a terra , e se mi a a a terra , e il mio tempo di . a quel tempo che mi a quel tempo che mi a quel tempo il mio tempo di in quel tempo di quel tempo il mio tempo di quel tempo di quel tempo di quel tempo in quel luogo di quel luogo di quel tempo di quel tempo , e il mio . . di quel tempo di . . di quel tempo che mi , e mi di quel tempo che mi , mi , mi di di di di . , e il mio . , e mi , e se mi di quel tempo di quel tempo di , e il mio tempo di , e il mio . di , e mi , e se mi , mi , mi di quel tempo di in quel tempo di quel tempo di quel tempo il mio tempo il mio volta il mio volta il mio volta di quel tempo di\n",
      "--------------------------------------------------------------------------------\n",
      "\n",
      "Epoch 57\n",
      "-------------------------------, 0 days, 6 hours, 27 minutes, 12 seconds\n",
      "\n"
     ]
    },
    {
     "name": "stderr",
     "output_type": "stream",
     "text": [
      "Processing epoch 57: 100%|██████████| 534/534 [05:20<00:00,  1.67it/s, loss=5.239555, lr=0.000000000]\n",
      "Processing validation examples: 100%|██████████| 324/324 [01:26<00:00,  3.73it/s, BLEU=0.000531460, METEOR=0.082999286] \n"
     ]
    },
    {
     "name": "stdout",
     "output_type": "stream",
     "text": [
      "--------------------------------------------------------------------------------\n",
      "SOURCE: That afternoon lapsed in peace and harmony; and in the evening Bessie told me some of her most enchanting stories, and sang me some of her sweetest songs.\n",
      "TARGET: Il dopopranzo trascorse nella pace e nell'armonia. La sera Bessie mi narrò le più belle fra le sue novelle e mi cantò le più dolci canzoni.\n",
      "PREDICTED: La vita mi parve di me e mi di me , mi di me e mi di me di me e mi una vita di me e mi di me di me di me di me . di me . .\n",
      "--------------------------------------------------------------------------------\n",
      "\n",
      "Epoch 58\n",
      "-------------------------------, 0 days, 6 hours, 33 minutes, 59 seconds\n",
      "\n"
     ]
    },
    {
     "name": "stderr",
     "output_type": "stream",
     "text": [
      "Processing epoch 58: 100%|██████████| 534/534 [05:20<00:00,  1.67it/s, loss=5.010731, lr=0.000000000]\n",
      "Processing validation examples: 100%|██████████| 324/324 [01:26<00:00,  3.73it/s, BLEU=0.000268155, METEOR=0.083121096] \n"
     ]
    },
    {
     "name": "stdout",
     "output_type": "stream",
     "text": [
      "--------------------------------------------------------------------------------\n",
      "SOURCE: He put on a winning smile, and said: \"Oh, please could you spare us a little water?\"\n",
      "TARGET: Assunse un sorriso seducente e disse: — Per piacere, ci potete dare un po’ di acqua?\n",
      "PREDICTED: E un ' , — disse , : — : — : un ' altra : : : : : : : :\n",
      "--------------------------------------------------------------------------------\n",
      "\n",
      "Epoch 59\n",
      "-------------------------------, 0 days, 6 hours, 40 minutes, 46 seconds\n",
      "\n"
     ]
    },
    {
     "name": "stderr",
     "output_type": "stream",
     "text": [
      "Processing epoch 59: 100%|██████████| 534/534 [05:20<00:00,  1.67it/s, loss=5.322489, lr=0.000000000]\n",
      "Processing validation examples: 100%|██████████| 324/324 [01:26<00:00,  3.73it/s, BLEU=0.000557370, METEOR=0.085520088] \n"
     ]
    },
    {
     "name": "stdout",
     "output_type": "stream",
     "text": [
      "--------------------------------------------------------------------------------\n",
      "SOURCE: How I wished sleep would silence her. It seemed as if, could I but go back to the idea which had last entered my mind as I stood at the window, some inventive suggestion would rise for my relief.\n",
      "TARGET: Desideravo che il sonno le imponesse silenzio e mi pareva che avrei trovato una soluzione al problema, se soltanto avessi potuto riflettere un poco a ciò che mi preoccupava quando ero appoggiata alla finestra.\n",
      "PREDICTED: Mi avevo fatto la mia voce , mi a me , ma mi aveva fatto la mia voce di quel cuore , mi a quel cuore , mi la mia voce . , . . . . . . . . . . . . . . . . . . . . . . . . . . . . . . . . . . . . . . . . . . . . . . .\n",
      "--------------------------------------------------------------------------------\n",
      "\n",
      "Epoch 60\n",
      "-------------------------------, 0 days, 6 hours, 47 minutes, 34 seconds\n",
      "\n"
     ]
    },
    {
     "name": "stderr",
     "output_type": "stream",
     "text": [
      "Processing epoch 60: 100%|██████████| 534/534 [05:20<00:00,  1.66it/s, loss=5.163817, lr=0.000000000]\n",
      "Processing validation examples: 100%|██████████| 324/324 [01:26<00:00,  3.73it/s, BLEU=0.000303992, METEOR=0.080290771] \n"
     ]
    },
    {
     "name": "stdout",
     "output_type": "stream",
     "text": [
      "--------------------------------------------------------------------------------\n",
      "SOURCE: She had an alarm to call her up early. I know not how she occupied herself before breakfast, but after that meal she divided her time into regular portions, and each hour had its allotted task.\n",
      "TARGET: Si alzava prestissimo e non so che cosa facesse prima di colazione, ma dopo essa aveva diviso il tempo in porzioni regolari e ogni ora era destinata a fare un compito.\n",
      "PREDICTED: Ella , dopo il momento , dopo la mattina , dopo la mattina , dopo l ’ aveva andata a casa , e , e , dopo l ’ aveva andata il tè , e , si aveva andata il tè di casa il tè . il tè . ancora la mattina . . . . . . . . . . . . . . . . . . . . . . . . . . . . . . . . . . . . . . . . . . . . . . . . . . . . . . . . . . . . . . . . . . . . . . . . . . . . . . . . . . . . . . . . . . . . . . . . . . . . . . . . . . . . . . . . . . . . . . . . . . . . . . . .\n",
      "--------------------------------------------------------------------------------\n",
      "\n",
      "Epoch 61\n",
      "-------------------------------, 0 days, 6 hours, 54 minutes, 22 seconds\n",
      "\n"
     ]
    },
    {
     "name": "stderr",
     "output_type": "stream",
     "text": [
      "Processing epoch 61: 100%|██████████| 534/534 [05:20<00:00,  1.66it/s, loss=4.836563, lr=0.000000000]\n",
      "Processing validation examples: 100%|██████████| 324/324 [01:26<00:00,  3.73it/s, BLEU=0.000351507, METEOR=0.085985021] \n"
     ]
    },
    {
     "name": "stdout",
     "output_type": "stream",
     "text": [
      "--------------------------------------------------------------------------------\n",
      "SOURCE: 'Come in!\n",
      "TARGET: — Entriamo, allora.\n",
      "PREDICTED: — Su , dove ! !\n",
      "--------------------------------------------------------------------------------\n",
      "\n",
      "Epoch 62\n",
      "-------------------------------, 0 days, 7 hours, 1 minutes, 9 seconds\n",
      "\n"
     ]
    },
    {
     "name": "stderr",
     "output_type": "stream",
     "text": [
      "Processing epoch 62: 100%|██████████| 534/534 [05:20<00:00,  1.66it/s, loss=4.668763, lr=0.000000000]\n",
      "Processing validation examples: 100%|██████████| 324/324 [01:26<00:00,  3.73it/s, BLEU=0.000437775, METEOR=0.087158965] \n"
     ]
    },
    {
     "name": "stdout",
     "output_type": "stream",
     "text": [
      "--------------------------------------------------------------------------------\n",
      "SOURCE: They used these things in ancient days for curbing women's tongues.\n",
      "TARGET: Si usavano simili strumenti nei tempi antichi per mettere un freno alla lingua delle donne.\n",
      "PREDICTED: Le . li . . . . . . . . . . . . . . . . . . . . . . . . . . . . . . . . . . . . . . . . . . . . . . . . . . . . . . . . . . . . . . . . . . . . . . . . . . . . .\n",
      "--------------------------------------------------------------------------------\n",
      "\n",
      "Epoch 63\n",
      "-------------------------------, 0 days, 7 hours, 7 minutes, 57 seconds\n",
      "\n"
     ]
    },
    {
     "name": "stderr",
     "output_type": "stream",
     "text": [
      "Processing epoch 63: 100%|██████████| 534/534 [05:20<00:00,  1.67it/s, loss=4.676517, lr=0.000000000]\n",
      "Processing validation examples: 100%|██████████| 324/324 [01:26<00:00,  3.73it/s, BLEU=0.000072216, METEOR=0.082208181] \n"
     ]
    },
    {
     "name": "stdout",
     "output_type": "stream",
     "text": [
      "--------------------------------------------------------------------------------\n",
      "SOURCE: \"Another jolly evening!\" murmured George.\n",
      "TARGET: — Un’altra bella serata! — mormorò Giorgio.\n",
      "PREDICTED: — Il tè Giorgio Giorgio Giorgio Giorgio , Giorgio Giorgio Giorgio ? . . . . .\n",
      "--------------------------------------------------------------------------------\n",
      "\n",
      "Epoch 64\n",
      "-------------------------------, 0 days, 7 hours, 14 minutes, 44 seconds\n",
      "\n"
     ]
    },
    {
     "name": "stderr",
     "output_type": "stream",
     "text": [
      "Processing epoch 64: 100%|██████████| 534/534 [05:20<00:00,  1.66it/s, loss=5.088035, lr=0.000000000]\n",
      "Processing validation examples: 100%|██████████| 324/324 [01:26<00:00,  3.73it/s, BLEU=0.000362832, METEOR=0.084215466] \n"
     ]
    },
    {
     "name": "stdout",
     "output_type": "stream",
     "text": [
      "--------------------------------------------------------------------------------\n",
      "SOURCE: “But,” said I, “you swim well enough to reach to the shore, and the sea is calm; make the best of your way to shore, and I will do you no harm; but if you come near the boat I’ll shoot you through the head, for I am resolved to have my liberty;” so he turned himself about, and swam for the shore, and I make no doubt but he reached it with ease, for he was an excellent swimmer.\n",
      "TARGET: Fate quanto potete per guadagnare il lido, nè vi farò male di sorta alcuna; ma se continuate ad accostarvi alla scialuppa, vi fo saltare in aria il cervello, perchè son risoluto di ottenere la mia libertà.» Dopo le quali parole, egli tornò addietro e nuotò verso la spiaggia, nè dubito che non vi arrivasse comodamente, perchè, come ho detto, era un ottimo notatore.\n",
      "PREDICTED: Ma io , io vi , e io vi a un ’ altra parte di un ’ altra volta , e io vi , e , e , mi la mia parte , la mia spiaggia di due volte , la mia parte di due volte di due volte di casa di casa di casa di terra , la spiaggia , e io vi , la mia parte di fare la spiaggia , e io vi , e io vi , la spiaggia di un ’ altra parte di un ’ altra parte di terra di terra , e io vi . , vi , vi , vi , la spiaggia , e io vi , vi , vi , vi , la spiaggia a fare la spiaggia , la spiaggia . a fare , vi , vi , vi , vi , vi , vi , vi , vi , vi , io vi , vi , io vi a fare a fare a fare la mia spiaggia , me io , me vi la mia spiaggia , me io vi , me , me , me , io vi , me , io vi , io vi , io vi , io vi , io vi , io vi , io vi , io vi , io vi , io vi , io , io , io , io vi , io vi . a casa , io vi , io vi , io vi , io vi a fare la spiaggia , io vi\n",
      "--------------------------------------------------------------------------------\n",
      "\n",
      "Epoch 65\n",
      "-------------------------------, 0 days, 7 hours, 21 minutes, 32 seconds\n",
      "\n"
     ]
    },
    {
     "name": "stderr",
     "output_type": "stream",
     "text": [
      "Processing epoch 65: 100%|██████████| 534/534 [05:20<00:00,  1.66it/s, loss=5.032456, lr=0.000000000]\n",
      "Processing validation examples: 100%|██████████| 324/324 [01:26<00:00,  3.73it/s, BLEU=0.000333735, METEOR=0.086104918] \n"
     ]
    },
    {
     "name": "stdout",
     "output_type": "stream",
     "text": [
      "--------------------------------------------------------------------------------\n",
      "SOURCE: The first explosion of jealousy, once past, could not be repeated. Not even the discovery of an act of infidelity could again affect her as it had done the first time.\n",
      "TARGET: Il primo accesso di gelosia, una volta superato, non poteva più ripetersi, e anche la scoperta di un’altra infedeltà non avrebbe prodotto su di lei lo stesso effetto della prima.\n",
      "PREDICTED: La sua volta del tempo del tempo , non si in cui si in cui si in cui si in cui si in cui si in cui si in cui si della sua natura della sua natura della sua natura della natura . . . . . . . . . . . . . . . . . .\n",
      "--------------------------------------------------------------------------------\n",
      "\n",
      "Epoch 66\n",
      "-------------------------------, 0 days, 7 hours, 28 minutes, 19 seconds\n",
      "\n"
     ]
    },
    {
     "name": "stderr",
     "output_type": "stream",
     "text": [
      "Processing epoch 66: 100%|██████████| 534/534 [05:20<00:00,  1.67it/s, loss=4.585209, lr=0.000000000]\n",
      "Processing validation examples: 100%|██████████| 324/324 [01:26<00:00,  3.73it/s, BLEU=0.001045504, METEOR=0.086770499] \n"
     ]
    },
    {
     "name": "stdout",
     "output_type": "stream",
     "text": [
      "--------------------------------------------------------------------------------\n",
      "SOURCE: He is the sort of man we want round the backwaters now.\n",
      "TARGET: È la specie di uomo che ci vorrebbe ora sulle acque di rigurgito.\n",
      "PREDICTED: di di di . di . . . . . . . . . .\n",
      "--------------------------------------------------------------------------------\n",
      "\n",
      "Epoch 67\n",
      "-------------------------------, 0 days, 7 hours, 35 minutes, 7 seconds\n",
      "\n"
     ]
    },
    {
     "name": "stderr",
     "output_type": "stream",
     "text": [
      "Processing epoch 67: 100%|██████████| 534/534 [05:20<00:00,  1.67it/s, loss=4.956368, lr=0.000000000]\n",
      "Processing validation examples: 100%|██████████| 324/324 [01:26<00:00,  3.73it/s, BLEU=0.000921218, METEOR=0.088904709] \n"
     ]
    },
    {
     "name": "stdout",
     "output_type": "stream",
     "text": [
      "--------------------------------------------------------------------------------\n",
      "SOURCE: The Queen's argument was, that if something wasn't done about it in less than no time she'd have everybody executed, all round.\n",
      "TARGET: L'argomento della Regina era questo: che se non si fosse eseguito immediatamente il suo ordine, avrebbe ordinato l'esecuzione di quanti la circondavano.\n",
      "PREDICTED: Il suo bambino era già la servitù , ma non era già già già già già detto , e non era già già stata stata la morte di tutto la morte . la morte . : : : : . : : . :\n",
      "--------------------------------------------------------------------------------\n",
      "\n",
      "Epoch 68\n",
      "-------------------------------, 0 days, 7 hours, 41 minutes, 54 seconds\n",
      "\n"
     ]
    },
    {
     "name": "stderr",
     "output_type": "stream",
     "text": [
      "Processing epoch 68: 100%|██████████| 534/534 [05:20<00:00,  1.67it/s, loss=5.016363, lr=0.000000000]\n",
      "Processing validation examples: 100%|██████████| 324/324 [01:26<00:00,  3.73it/s, BLEU=0.001554521, METEOR=0.090434047] \n"
     ]
    },
    {
     "name": "stdout",
     "output_type": "stream",
     "text": [
      "--------------------------------------------------------------------------------\n",
      "SOURCE: The maid, quite bewildered, carries on the negotiations.\n",
      "TARGET: La cameriera, perplessa, conduce delle trattative.\n",
      "PREDICTED: La mia - John , la mia . . . . . . . . . .\n",
      "--------------------------------------------------------------------------------\n",
      "\n",
      "Epoch 69\n",
      "-------------------------------, 0 days, 7 hours, 48 minutes, 41 seconds\n",
      "\n"
     ]
    },
    {
     "name": "stderr",
     "output_type": "stream",
     "text": [
      "Processing epoch 69: 100%|██████████| 534/534 [05:20<00:00,  1.66it/s, loss=4.805646, lr=0.000000000]\n",
      "Processing validation examples: 100%|██████████| 324/324 [01:26<00:00,  3.73it/s, BLEU=0.000173867, METEOR=0.088486145] \n"
     ]
    },
    {
     "name": "stdout",
     "output_type": "stream",
     "text": [
      "--------------------------------------------------------------------------------\n",
      "SOURCE: 'No, I'll go in.\n",
      "TARGET: — No, voglio entrare.\n",
      "PREDICTED: — No , io io io , io io . . . . . . . .\n",
      "--------------------------------------------------------------------------------\n",
      "\n",
      "Epoch 70\n",
      "-------------------------------, 0 days, 7 hours, 55 minutes, 29 seconds\n",
      "\n"
     ]
    },
    {
     "name": "stderr",
     "output_type": "stream",
     "text": [
      "Processing epoch 70: 100%|██████████| 534/534 [05:20<00:00,  1.67it/s, loss=4.917447, lr=0.000000000]\n",
      "Processing validation examples: 100%|██████████| 324/324 [01:26<00:00,  3.73it/s, BLEU=0.001561251, METEOR=0.086864598] \n"
     ]
    },
    {
     "name": "stdout",
     "output_type": "stream",
     "text": [
      "--------------------------------------------------------------------------------\n",
      "SOURCE: \"And you do not lie dead in some ditch under some stream?\n",
      "TARGET: — Allora non siete morta in qualche fosso, nel fondo di qualche torrente?\n",
      "PREDICTED: — E non un ? . ? ? ? ? ? ? ? . .\n",
      "--------------------------------------------------------------------------------\n",
      "\n",
      "Epoch 71\n",
      "-------------------------------, 0 days, 8 hours, 2 minutes, 17 seconds\n",
      "\n"
     ]
    },
    {
     "name": "stderr",
     "output_type": "stream",
     "text": [
      "Processing epoch 71: 100%|██████████| 534/534 [05:20<00:00,  1.66it/s, loss=5.021334, lr=0.000000000]\n",
      "Processing validation examples: 100%|██████████| 324/324 [01:26<00:00,  3.73it/s, BLEU=0.000993247, METEOR=0.089449931] \n"
     ]
    },
    {
     "name": "stdout",
     "output_type": "stream",
     "text": [
      "--------------------------------------------------------------------------------\n",
      "SOURCE: Animated with this, he took the musket I had given him in his hand, and a pistol in his belt, and his two comrades with him, with each a piece in his hand; the two men who were with him going first made some noise, at which one of the seamen who was awake turned about, and seeing them coming, cried out to the rest; but was too late then, for the moment he cried out they fired—I mean the two men, the captain wisely reserving his own piece.\n",
      "TARGET: Un po’ di romore fatto da questi svegliò uno di quegli sgraziati, il quale saltato in piedi e voltatosi a guardar chi veniva, gridò agli altri perchè si destassero. Ma allora era troppo tardi, perchè il suo grido fu contemporaneo al fuoco fatto su loro da due moschetti; che il capitano non senza consiglio tenne in ozio la propria arma.\n",
      "PREDICTED: a un poco di terra , lo di con un poco di di , e lo con la sua di terra , lo di terra di terra , e lo con un poco di terra con un . lo , lo , lo con un poco con un poco di terra con un , e lo con un e lo . a Venerdì lo , lo , lo , lo . a Venerdì lo . a Venerdì lo . a Venerdì , e lo . a Venerdì lo . a Venerdì lo . . . . a Venerdì lo . a Venerdì a Venerdì lo . . . . . . . . . . . . . . . . . . . . . . . . . . . . . . . a Venerdì lo . . . . . . . . . . . . . . . . . . . . . . . . . . . . . . . . . . . . . . . . . . . . . . . . . .\n",
      "--------------------------------------------------------------------------------\n",
      "\n",
      "Epoch 72\n",
      "-------------------------------, 0 days, 8 hours, 9 minutes, 4 seconds\n",
      "\n"
     ]
    },
    {
     "name": "stderr",
     "output_type": "stream",
     "text": [
      "Processing epoch 72: 100%|██████████| 534/534 [05:20<00:00,  1.67it/s, loss=4.606610, lr=0.000000000]\n",
      "Processing validation examples: 100%|██████████| 324/324 [01:26<00:00,  3.73it/s, BLEU=0.000153726, METEOR=0.089106539] \n"
     ]
    },
    {
     "name": "stdout",
     "output_type": "stream",
     "text": [
      "--------------------------------------------------------------------------------\n",
      "SOURCE: She was naturally of the sweetest and gentlest disposition imaginable, but on the river it was quite awful to hear her.\n",
      "TARGET: Ella naturalmente era della più dolce e più gentile indole immaginabile, ma sul fiume era terribile a udirsi.\n",
      "PREDICTED: Era un di , e il un , e il il . la : la : di un . . . . . . . . . . . . . . .\n",
      "--------------------------------------------------------------------------------\n",
      "\n",
      "Epoch 73\n",
      "-------------------------------, 0 days, 8 hours, 15 minutes, 51 seconds\n",
      "\n"
     ]
    },
    {
     "name": "stderr",
     "output_type": "stream",
     "text": [
      "Processing epoch 73: 100%|██████████| 534/534 [05:20<00:00,  1.67it/s, loss=4.874732, lr=0.000000000]\n",
      "Processing validation examples: 100%|██████████| 324/324 [01:26<00:00,  3.73it/s, BLEU=0.000939460, METEOR=0.091173098] \n"
     ]
    },
    {
     "name": "stdout",
     "output_type": "stream",
     "text": [
      "--------------------------------------------------------------------------------\n",
      "SOURCE: Well, supposing I picture to myself what I want in order to be happy?\n",
      "TARGET: Ebbene, ammettiamo che io trovi quello che voglio per essere felice.\n",
      "PREDICTED: E che ho detto che cosa cosa cosa cosa cosa , cosa che cosa cosa ? . . . . . . . . .\n",
      "--------------------------------------------------------------------------------\n",
      "\n",
      "Epoch 74\n",
      "-------------------------------, 0 days, 8 hours, 22 minutes, 39 seconds\n",
      "\n"
     ]
    },
    {
     "name": "stderr",
     "output_type": "stream",
     "text": [
      "Processing epoch 74: 100%|██████████| 534/534 [05:20<00:00,  1.67it/s, loss=4.503223, lr=0.000000000]\n",
      "Processing validation examples: 100%|██████████| 324/324 [01:26<00:00,  3.73it/s, BLEU=0.000706790, METEOR=0.091111410] \n"
     ]
    },
    {
     "name": "stdout",
     "output_type": "stream",
     "text": [
      "--------------------------------------------------------------------------------\n",
      "SOURCE: It is terrible!'\n",
      "TARGET: Che orrore!\n",
      "PREDICTED: È terribile , terribile ! ! ! ! ! !\n",
      "--------------------------------------------------------------------------------\n",
      "\n",
      "Epoch 75\n",
      "-------------------------------, 0 days, 8 hours, 29 minutes, 26 seconds\n",
      "\n"
     ]
    },
    {
     "name": "stderr",
     "output_type": "stream",
     "text": [
      "Processing epoch 75: 100%|██████████| 534/534 [05:20<00:00,  1.66it/s, loss=4.468089, lr=0.000000000]\n",
      "Processing validation examples: 100%|██████████| 324/324 [01:26<00:00,  3.74it/s, BLEU=0.001583518, METEOR=0.087608035] \n"
     ]
    },
    {
     "name": "stdout",
     "output_type": "stream",
     "text": [
      "--------------------------------------------------------------------------------\n",
      "SOURCE: 'I am very sorry you don't wish to understand me,' he interrupted, stubbornly intent on expressing his thought. 'The indefiniteness consists in your imagining that I am free.'\n",
      "TARGET: — Mi spiace molto che tu non voglia capire — la interruppe lui, desiderando d’esprimere il proprio pensiero: — l’indeterminatezza consiste nel fatto che a te pare ch’io sia libero.\n",
      "PREDICTED: — Io non sono detto che non sono felice — disse la voce con voce con voce di voce , sorridendo , sorridendo , con la sua che mi , ma io mi . ! . . . . . . . , . . . . . . . . . . . . . . . . . . . . . . . . . . . . . . . . .\n",
      "--------------------------------------------------------------------------------\n",
      "\n",
      "Epoch 76\n",
      "-------------------------------, 0 days, 8 hours, 36 minutes, 14 seconds\n",
      "\n"
     ]
    },
    {
     "name": "stderr",
     "output_type": "stream",
     "text": [
      "Processing epoch 76: 100%|██████████| 534/534 [05:20<00:00,  1.67it/s, loss=4.646642, lr=0.000000000]\n",
      "Processing validation examples: 100%|██████████| 324/324 [01:26<00:00,  3.73it/s, BLEU=0.000970509, METEOR=0.090053861] \n"
     ]
    },
    {
     "name": "stdout",
     "output_type": "stream",
     "text": [
      "--------------------------------------------------------------------------------\n",
      "SOURCE: 'Frou-Frou is the braver, but the other is the more powerful horse,' said Vronsky, smiling at the compliment to his riding:\n",
      "TARGET: — Frou-Frou è più nervosa, questo qui è più forte — disse Vronskij, sorridendo per la lode alla sua abilità di cavallerizzo.\n",
      "PREDICTED: — Il signore è ancora ancora ancora ancora ancora ancora ancora ancora ancora ancora ancora ancora ancora ancora ancora ancora di , è ancora ancora ancora ancora ancora ancora di Vronskij . ancora è ancora ancora ancora ? . . . . . . . . . . . . . . . . . . . . . . . . . . . . . . . . . . . . . . . . . . . . . . . . . . . . . . . . . . . . . . . . . . . . . . . . . . . . . . . . . . . . . . . . . . . . . . . . . . .\n",
      "--------------------------------------------------------------------------------\n",
      "\n",
      "Epoch 77\n",
      "-------------------------------, 0 days, 8 hours, 43 minutes, 1 seconds\n",
      "\n"
     ]
    },
    {
     "name": "stderr",
     "output_type": "stream",
     "text": [
      "Processing epoch 77: 100%|██████████| 534/534 [05:20<00:00,  1.67it/s, loss=4.643489, lr=0.000000000]\n",
      "Processing validation examples: 100%|██████████| 324/324 [01:26<00:00,  3.73it/s, BLEU=0.001360180, METEOR=0.089725709] \n"
     ]
    },
    {
     "name": "stdout",
     "output_type": "stream",
     "text": [
      "--------------------------------------------------------------------------------\n",
      "SOURCE: 'The twinkling of the what?' said the King.\n",
      "TARGET: — Che tremolio? — esclamò il re.\n",
      "PREDICTED: — Chi è ? — chiese il Re . ? ? ? ? . ? . . . ? . . . ? . . . . . . . . . . . . . . .\n",
      "--------------------------------------------------------------------------------\n",
      "\n",
      "Epoch 78\n",
      "-------------------------------, 0 days, 8 hours, 49 minutes, 48 seconds\n",
      "\n"
     ]
    },
    {
     "name": "stderr",
     "output_type": "stream",
     "text": [
      "Processing epoch 78: 100%|██████████| 534/534 [05:20<00:00,  1.67it/s, loss=4.695766, lr=0.000000000]\n",
      "Processing validation examples: 100%|██████████| 324/324 [01:26<00:00,  3.73it/s, BLEU=0.001384534, METEOR=0.092488065] \n"
     ]
    },
    {
     "name": "stdout",
     "output_type": "stream",
     "text": [
      "--------------------------------------------------------------------------------\n",
      "SOURCE: I obeyed her directions.\n",
      "TARGET: Le obbedii.\n",
      "PREDICTED: Mi . .\n",
      "--------------------------------------------------------------------------------\n",
      "\n",
      "Epoch 79\n",
      "-------------------------------, 0 days, 8 hours, 56 minutes, 36 seconds\n",
      "\n"
     ]
    },
    {
     "name": "stderr",
     "output_type": "stream",
     "text": [
      "Processing epoch 79: 100%|██████████| 534/534 [05:20<00:00,  1.66it/s, loss=4.712531, lr=0.000000000]\n",
      "Processing validation examples: 100%|██████████| 324/324 [01:26<00:00,  3.73it/s, BLEU=0.000993075, METEOR=0.090568096] \n"
     ]
    },
    {
     "name": "stdout",
     "output_type": "stream",
     "text": [
      "--------------------------------------------------------------------------------\n",
      "SOURCE: Such English Xury spoke by conversing among us slaves.\n",
      "TARGET: Contentissimo di vedere sì buono spirito in questo ragazzo, gli diedi alcun poco del liquore contenuto ne’ fiaschetti portati via al nostro padrone, per infondergli sempre maggiore allegria.\n",
      "PREDICTED: Ma a tre tre tre , — disse a andare a andare a andare a andare a andare . a lui . a lui . . . a lui .\n",
      "--------------------------------------------------------------------------------\n",
      "\n",
      "Epoch 80\n",
      "-------------------------------, 0 days, 9 hours, 3 minutes, 23 seconds\n",
      "\n"
     ]
    },
    {
     "name": "stderr",
     "output_type": "stream",
     "text": [
      "Processing epoch 80: 100%|██████████| 534/534 [05:20<00:00,  1.67it/s, loss=4.600182, lr=0.000000000]\n",
      "Processing validation examples: 100%|██████████| 324/324 [01:26<00:00,  3.74it/s, BLEU=0.000889506, METEOR=0.091953400] \n"
     ]
    },
    {
     "name": "stdout",
     "output_type": "stream",
     "text": [
      "--------------------------------------------------------------------------------\n",
      "SOURCE: Where turn for a companion and for some hope?\"\n",
      "TARGET: Dove troverò una compagna? Dove cercherò la speranza?\n",
      "PREDICTED: Dove forse forse un po ’ ? ? ? ? ? ? ? ? ? ? ? ? ?\n",
      "--------------------------------------------------------------------------------\n",
      "\n",
      "Epoch 81\n",
      "-------------------------------, 0 days, 9 hours, 10 minutes, 11 seconds\n",
      "\n"
     ]
    },
    {
     "name": "stderr",
     "output_type": "stream",
     "text": [
      "Processing epoch 81: 100%|██████████| 534/534 [05:20<00:00,  1.67it/s, loss=4.736287, lr=0.000000000]\n",
      "Processing validation examples: 100%|██████████| 324/324 [01:26<00:00,  3.73it/s, BLEU=0.000961367, METEOR=0.088613512] \n"
     ]
    },
    {
     "name": "stdout",
     "output_type": "stream",
     "text": [
      "--------------------------------------------------------------------------------\n",
      "SOURCE: And yet here I was perplexed again, for I neither knew how to grind or make meal of my corn, or indeed how to clean it and part it; nor, if made into meal, how to make bread of it; and if how to make it, yet I knew not how to bake it.\n",
      "TARGET: Per altro mi rimaneva sempre un grand’impaccio, perchè io non sapeva in qual modo macinare o sia convertire in farina il mio grano, nè come rimondar questa farina, ove l’avessi ottenuta, e separarla della crusca; in oltre io non sapea come farne del pane, e ancorchè ciò fosse stato facile, mi mancava il modo di cuocerlo.\n",
      "PREDICTED: questo tempo era un modo di di me , me non ne era un modo di di me . me me ne era un ’ miei o il mio modo di me di me , me ne era un modo di me , me di me di me , me , me il mio modo di me il mio modo di me , me con me il mio modo di me , me con me ! . a me ! . . . . . . . . . . . . . . . . . . . . . . . . . . . . . . . . . . . . . . . . . . . . . . . . . . . . . . . . . . . . .\n",
      "--------------------------------------------------------------------------------\n",
      "\n",
      "Epoch 82\n",
      "-------------------------------, 0 days, 9 hours, 16 minutes, 58 seconds\n",
      "\n"
     ]
    },
    {
     "name": "stderr",
     "output_type": "stream",
     "text": [
      "Processing epoch 82: 100%|██████████| 534/534 [05:20<00:00,  1.67it/s, loss=5.035652, lr=0.000000000]\n",
      "Processing validation examples: 100%|██████████| 324/324 [01:26<00:00,  3.73it/s, BLEU=0.001561309, METEOR=0.090711018] \n"
     ]
    },
    {
     "name": "stdout",
     "output_type": "stream",
     "text": [
      "--------------------------------------------------------------------------------\n",
      "SOURCE: 'Maman! I asked you not to speak to me about that subject,' he answered frowning.\n",
      "TARGET: — Maman, vi prego di non parlarmi di questo — egli rispose accigliato.\n",
      "PREDICTED: — Non mi mi mi mi mi mi ? — disse , cercando di lacrime . — Non mi mi . . . . . . . . . . . . . . . . . . . . . . . . . . . . . . . . . . . . .\n",
      "--------------------------------------------------------------------------------\n",
      "\n",
      "Epoch 83\n",
      "-------------------------------, 0 days, 9 hours, 23 minutes, 46 seconds\n",
      "\n"
     ]
    },
    {
     "name": "stderr",
     "output_type": "stream",
     "text": [
      "Processing epoch 83: 100%|██████████| 534/534 [05:20<00:00,  1.67it/s, loss=4.600664, lr=0.000000000]\n",
      "Processing validation examples: 100%|██████████| 324/324 [01:26<00:00,  3.74it/s, BLEU=0.000922130, METEOR=0.092000789] \n"
     ]
    },
    {
     "name": "stdout",
     "output_type": "stream",
     "text": [
      "--------------------------------------------------------------------------------\n",
      "SOURCE: Well, Kitty, have you been skating again?'\n",
      "TARGET: Ebbene, Kitty, hai pattinato di nuovo?\n",
      "PREDICTED: Di che sei ? Kitty , si alzò a Kitty . ? ? ? ? ? ? ? ? ? ? ? ? ? ? ? ? ? ? ? ? ? ? ?\n",
      "--------------------------------------------------------------------------------\n",
      "\n",
      "Epoch 84\n",
      "-------------------------------, 0 days, 9 hours, 30 minutes, 33 seconds\n",
      "\n"
     ]
    },
    {
     "name": "stderr",
     "output_type": "stream",
     "text": [
      "Processing epoch 84: 100%|██████████| 534/534 [05:20<00:00,  1.66it/s, loss=4.743432, lr=0.000000000]\n",
      "Processing validation examples: 100%|██████████| 324/324 [01:26<00:00,  3.74it/s, BLEU=0.001446995, METEOR=0.095470808] \n"
     ]
    },
    {
     "name": "stdout",
     "output_type": "stream",
     "text": [
      "--------------------------------------------------------------------------------\n",
      "SOURCE: I rose ere long.\n",
      "TARGET: Mi alzai.\n",
      "PREDICTED: Mi alzai di me . . . . . . . . .\n",
      "--------------------------------------------------------------------------------\n",
      "\n",
      "Epoch 85\n",
      "-------------------------------, 0 days, 9 hours, 37 minutes, 20 seconds\n",
      "\n"
     ]
    },
    {
     "name": "stderr",
     "output_type": "stream",
     "text": [
      "Processing epoch 85: 100%|██████████| 534/534 [05:20<00:00,  1.66it/s, loss=4.840450, lr=0.000000000]\n",
      "Processing validation examples: 100%|██████████| 324/324 [01:26<00:00,  3.73it/s, BLEU=0.000808941, METEOR=0.091800776] \n"
     ]
    },
    {
     "name": "stdout",
     "output_type": "stream",
     "text": [
      "--------------------------------------------------------------------------------\n",
      "SOURCE: 'I don't think about it, and don't want to,' she said, listening to her husband coming up the balcony steps. 'I don't want to think about it.'\n",
      "TARGET: E non ci voglio pensare — disse, prestando orecchio ai passi noti del marito per la scala della terrazza.\n",
      "PREDICTED: — Non ne capisco nulla , non ne può nulla — disse il marito , e , guardando il marito di lei , se si il marito . via . via . via . . . . . . . . . . . . . . . . . . . . . . . . . . . . . . . . . . . . . . . . . . . . . . . . . . . . .\n",
      "--------------------------------------------------------------------------------\n",
      "\n",
      "Epoch 86\n",
      "-------------------------------, 0 days, 9 hours, 44 minutes, 8 seconds\n",
      "\n"
     ]
    },
    {
     "name": "stderr",
     "output_type": "stream",
     "text": [
      "Processing epoch 86: 100%|██████████| 534/534 [05:21<00:00,  1.66it/s, loss=4.617052, lr=0.000000000]\n",
      "Processing validation examples: 100%|██████████| 324/324 [01:26<00:00,  3.73it/s, BLEU=0.000895464, METEOR=0.093946458] \n"
     ]
    },
    {
     "name": "stdout",
     "output_type": "stream",
     "text": [
      "--------------------------------------------------------------------------------\n",
      "SOURCE: \"Everybody, Jane?\n",
      "TARGET: — Tutti, Jane?\n",
      "PREDICTED: — È Jane , Jane ? ?\n",
      "--------------------------------------------------------------------------------\n",
      "\n",
      "Epoch 87\n",
      "-------------------------------, 0 days, 9 hours, 50 minutes, 56 seconds\n",
      "\n"
     ]
    },
    {
     "name": "stderr",
     "output_type": "stream",
     "text": [
      "Processing epoch 87: 100%|██████████| 534/534 [05:20<00:00,  1.67it/s, loss=4.191464, lr=0.000000000]\n",
      "Processing validation examples: 100%|██████████| 324/324 [01:26<00:00,  3.74it/s, BLEU=0.000074869, METEOR=0.093901430] \n"
     ]
    },
    {
     "name": "stdout",
     "output_type": "stream",
     "text": [
      "--------------------------------------------------------------------------------\n",
      "SOURCE: She heard Vasily Lukich's step as he came to the door and coughed, and then the steps of the nurse as she entered; but she sat as if turned to stone, powerless to speak or rise.\n",
      "TARGET: Aveva sentito i passi di Vasilij Lukic che si era avvicinato alla porta e aveva tossito; aveva sentito i passi della njanja che s’era accostata, ma lei era rimasta a sedere, come impietrita, senza aver la forza di parlare, né di alzarsi.\n",
      "PREDICTED: Si fermò di lui , si fermò con la porta di lui , sedette su la porta di un tratto di lui , e , si mise a lui sulla porta , si mise a lui sulla porta , sedette con la porta . — E si mise a lui ! . : . . : : : : : : : : : . . . : . . . . . . . . . . . . . . . . . . . . . . . . . . . . . . . . . . . . . . . . . . . . . . . . . . . . . . . . . . . . . . . . . . . . . . . . . . . . . . . . . . . . . . . .\n",
      "--------------------------------------------------------------------------------\n",
      "\n",
      "Epoch 88\n",
      "-------------------------------, 0 days, 9 hours, 57 minutes, 43 seconds\n",
      "\n"
     ]
    },
    {
     "name": "stderr",
     "output_type": "stream",
     "text": [
      "Processing epoch 88: 100%|██████████| 534/534 [05:20<00:00,  1.67it/s, loss=4.645470, lr=0.000000000]\n",
      "Processing validation examples: 100%|██████████| 324/324 [01:26<00:00,  3.73it/s, BLEU=0.000228352, METEOR=0.091273095] \n"
     ]
    },
    {
     "name": "stdout",
     "output_type": "stream",
     "text": [
      "--------------------------------------------------------------------------------\n",
      "SOURCE: I heard voices, too, speaking with a hollow sound, and as if muffled by a rush of wind or water: agitation, uncertainty, and an all-predominating sense of terror confused my faculties.\n",
      "TARGET: Sentii alcune voci sommesse coperte dal rumore dell'acqua e del vento. L'agitazione, l'incertezza e un senso di terrore avevano gettata una grande confusione nella mia mente.\n",
      "PREDICTED: \" Una vita mi parve un ' aria di vita , come un ' aria dei pensieri , come un ' aria di sue pensieri , come un ' aria di sue pensieri , come un ' aria , come un ' aria , come un ' aria , come un ' aria , come mi parve come un ' aria . come mi parve di vita . . . . . . . . . .\n",
      "--------------------------------------------------------------------------------\n",
      "\n",
      "Epoch 89\n",
      "-------------------------------, 0 days, 10 hours, 4 minutes, 31 seconds\n",
      "\n"
     ]
    },
    {
     "name": "stderr",
     "output_type": "stream",
     "text": [
      "Processing epoch 89: 100%|██████████| 534/534 [05:20<00:00,  1.66it/s, loss=4.610343, lr=0.000000000]\n",
      "Processing validation examples: 100%|██████████| 324/324 [01:26<00:00,  3.73it/s, BLEU=0.001077021, METEOR=0.092924905] \n"
     ]
    },
    {
     "name": "stdout",
     "output_type": "stream",
     "text": [
      "--------------------------------------------------------------------------------\n",
      "SOURCE: His successful drawing was already forgotten.\n",
      "TARGET: Aveva già dimenticato la figura che gli era riuscita.\n",
      "PREDICTED: tutto tutto tutto tutto e la . : non non non non . .\n",
      "--------------------------------------------------------------------------------\n",
      "\n",
      "Epoch 90\n",
      "-------------------------------, 0 days, 10 hours, 11 minutes, 19 seconds\n",
      "\n"
     ]
    },
    {
     "name": "stderr",
     "output_type": "stream",
     "text": [
      "Processing epoch 90: 100%|██████████| 534/534 [05:20<00:00,  1.67it/s, loss=4.209993, lr=0.000000000]\n",
      "Processing validation examples: 100%|██████████| 324/324 [01:26<00:00,  3.74it/s, BLEU=0.000309998, METEOR=0.089473181] \n"
     ]
    },
    {
     "name": "stdout",
     "output_type": "stream",
     "text": [
      "--------------------------------------------------------------------------------\n",
      "SOURCE: I was glad to notice that they had sufficient decency left in them to look very foolish.\n",
      "TARGET: Io fui lieto di osservare che ad essi era rimasto abbastanza decoro da assumere un aspetto da scemi.\n",
      "PREDICTED: Sono tanto in mente che ho avuto un ’ altra , e ho avuto a fare in mente in mente in mente . a fare a fare . per fare . . . . . . . . . . . . . . . . . . . . . . . . . . . . . . . . . . . .\n",
      "--------------------------------------------------------------------------------\n",
      "\n",
      "Epoch 91\n",
      "-------------------------------, 0 days, 10 hours, 18 minutes, 6 seconds\n",
      "\n"
     ]
    },
    {
     "name": "stderr",
     "output_type": "stream",
     "text": [
      "Processing epoch 91: 100%|██████████| 534/534 [05:21<00:00,  1.66it/s, loss=4.798761, lr=0.000000000]\n",
      "Processing validation examples: 100%|██████████| 324/324 [01:26<00:00,  3.73it/s, BLEU=0.000720428, METEOR=0.089394167] \n"
     ]
    },
    {
     "name": "stdout",
     "output_type": "stream",
     "text": [
      "--------------------------------------------------------------------------------\n",
      "SOURCE: 'Yours are Petersburg views, madam.'\n",
      "TARGET: — È il punto di vista pietroburghese, signora.\n",
      "PREDICTED: — Va ’ in Pietroburgo , ’ est in Pietroburgo . . . . . . . . . . . . . . . . . . . . . . . . . . . . . . . . . . . . . . . . . . . . . . . . . . . . . . . . . . . . . . . . . . . . . . . . . . . . . . . . . . . . . . . . . . . . . . . . . . . . . . . . . . . . . . . . . . . . . . . . .\n",
      "--------------------------------------------------------------------------------\n",
      "\n",
      "Epoch 92\n",
      "-------------------------------, 0 days, 10 hours, 24 minutes, 54 seconds\n",
      "\n"
     ]
    },
    {
     "name": "stderr",
     "output_type": "stream",
     "text": [
      "Processing epoch 92: 100%|██████████| 534/534 [05:20<00:00,  1.66it/s, loss=4.726850, lr=0.000000000]\n",
      "Processing validation examples: 100%|██████████| 324/324 [01:26<00:00,  3.73it/s, BLEU=0.000202504, METEOR=0.092121044] \n"
     ]
    },
    {
     "name": "stdout",
     "output_type": "stream",
     "text": [
      "--------------------------------------------------------------------------------\n",
      "SOURCE: The steward, formerly a non-commissioned officer, to whom Oblonsky had taken a fancy and whom he had promoted from hall porter to steward because of the man's handsome and respectful appearance, took no interest in his mistress's troubles, only saying in a deferential tone, 'Quite impossible, the people are so abominable,' and did nothing to help her.\n",
      "TARGET: L’amministratore, un ex sottufficiale, che Stepan Arkad’ic aveva preso a benvolere e che aveva promosso, per la sua prestanza e il suo fare ossequioso, dall’ufficio di portiere, non prese parte alcuna alle pene di Dar’ja Aleksandrovna; si limitava a dire rispettosamente: “Non è proprio possibile, è gente così cattiva” e non l’aiutava in nulla.\n",
      "PREDICTED: L ’ amministratore era di un ’ altra parte di Mosca , e che , il in fondo di fondo , in fondo a Mosca , il suo posto in fondo e che era , in fondo e , da un ’ altra parte , e Levin Levin Levin Levin Levin , Levin Levin Levin Levin . a Levin , Levin , Levin , Levin , Levin di Levin di Levin di Levin . . . a Levin . . a Levin . . . . . . . a Levin . . . . . . . . . . . . . . . . . . . . . . . . . . . . .\n",
      "--------------------------------------------------------------------------------\n",
      "\n",
      "Epoch 93\n",
      "-------------------------------, 0 days, 10 hours, 31 minutes, 42 seconds\n",
      "\n"
     ]
    },
    {
     "name": "stderr",
     "output_type": "stream",
     "text": [
      "Processing epoch 93: 100%|██████████| 534/534 [05:20<00:00,  1.67it/s, loss=4.366832, lr=0.000000000]\n",
      "Processing validation examples: 100%|██████████| 324/324 [01:26<00:00,  3.74it/s, BLEU=0.000994832, METEOR=0.091938561] \n"
     ]
    },
    {
     "name": "stdout",
     "output_type": "stream",
     "text": [
      "--------------------------------------------------------------------------------\n",
      "SOURCE: Dolly dozed, and only woke up when approaching the inn where the horses were to be changed.\n",
      "TARGET: Dar’ja Aleksandrovna sonnecchiava e si svegliò solo all’avvicinarsi della locanda, dove bisognava dare il cambio ai cavalli.\n",
      "PREDICTED: via , Dolly , Dolly ! — ella disse , e i cavalli che si era già incontro in casa . via . via , Dolly . via . . . . . . . . . . . . . . . . . . . . . . . . . . . . . . . . . . . . . . . . . . . .\n",
      "--------------------------------------------------------------------------------\n",
      "\n",
      "Epoch 94\n",
      "-------------------------------, 0 days, 10 hours, 38 minutes, 29 seconds\n",
      "\n"
     ]
    },
    {
     "name": "stderr",
     "output_type": "stream",
     "text": [
      "Processing epoch 94: 100%|██████████| 534/534 [05:20<00:00,  1.66it/s, loss=4.560030, lr=0.000000000]\n",
      "Processing validation examples: 100%|██████████| 324/324 [01:26<00:00,  3.74it/s, BLEU=0.000243155, METEOR=0.095713210] \n"
     ]
    },
    {
     "name": "stdout",
     "output_type": "stream",
     "text": [
      "--------------------------------------------------------------------------------\n",
      "SOURCE: I rose ere long.\n",
      "TARGET: Mi alzai.\n",
      "PREDICTED: Mi sono ancora ancora in silenzio . . . . . . .\n",
      "--------------------------------------------------------------------------------\n",
      "\n",
      "Epoch 95\n",
      "-------------------------------, 0 days, 10 hours, 45 minutes, 16 seconds\n",
      "\n"
     ]
    },
    {
     "name": "stderr",
     "output_type": "stream",
     "text": [
      "Processing epoch 95: 100%|██████████| 534/534 [05:20<00:00,  1.67it/s, loss=4.427500, lr=0.000000000]\n",
      "Processing validation examples: 100%|██████████| 324/324 [01:26<00:00,  3.74it/s, BLEU=0.000492308, METEOR=0.094267358] \n"
     ]
    },
    {
     "name": "stdout",
     "output_type": "stream",
     "text": [
      "--------------------------------------------------------------------------------\n",
      "SOURCE: He waited for an answer. I demanded a quarter of an hour to think, before I again hazarded a reply.\n",
      "TARGET: Egli aspettava la mia risposta; gli chiesi un quarto d'ora per riflettere.\n",
      "PREDICTED: Sono un po ' di minuti di minuti , ma ho parlato di un po ' di silenzio . di quel momento , . . . . . . . . . . . . . . . . . . . . . . . . . . . . . .\n",
      "--------------------------------------------------------------------------------\n",
      "\n",
      "Epoch 96\n",
      "-------------------------------, 0 days, 10 hours, 52 minutes, 3 seconds\n",
      "\n"
     ]
    },
    {
     "name": "stderr",
     "output_type": "stream",
     "text": [
      "Processing epoch 96: 100%|██████████| 534/534 [05:20<00:00,  1.66it/s, loss=4.541380, lr=0.000000000]\n",
      "Processing validation examples: 100%|██████████| 324/324 [01:26<00:00,  3.74it/s, BLEU=0.001178306, METEOR=0.091183249] \n"
     ]
    },
    {
     "name": "stdout",
     "output_type": "stream",
     "text": [
      "--------------------------------------------------------------------------------\n",
      "SOURCE: It makes me sick to see it, simply sick, and you have had your way and have turned the child's head.\n",
      "TARGET: A me veder questo, fa schifo, schifo, e ci siete riuscita voi a far girar la testa alla ragazza.\n",
      "PREDICTED: L ’ ha fatto il tuo bambino , e il tuo bambino , e tu ha fatto bene , il cuore . bene . .... . . . . . . . . . . . . . . . . . . . . .\n",
      "--------------------------------------------------------------------------------\n",
      "\n",
      "Epoch 97\n",
      "-------------------------------, 0 days, 10 hours, 58 minutes, 51 seconds\n",
      "\n"
     ]
    },
    {
     "name": "stderr",
     "output_type": "stream",
     "text": [
      "Processing epoch 97: 100%|██████████| 534/534 [05:20<00:00,  1.66it/s, loss=4.423426, lr=0.000000000]\n",
      "Processing validation examples: 100%|██████████| 324/324 [01:26<00:00,  3.74it/s, BLEU=0.000201293, METEOR=0.094783288] \n"
     ]
    },
    {
     "name": "stdout",
     "output_type": "stream",
     "text": [
      "--------------------------------------------------------------------------------\n",
      "SOURCE: 'What did you consider improper?' she asked again.\n",
      "TARGET: — Che cosa avete trovato di sconveniente? — ella ripeté.\n",
      "PREDICTED: — Che cosa cosa cosa cosa avete fatto ? — domandò per sé . . . . . . . . . . . . . . . . .\n",
      "--------------------------------------------------------------------------------\n",
      "\n",
      "Epoch 98\n",
      "-------------------------------, 0 days, 11 hours, 5 minutes, 38 seconds\n",
      "\n"
     ]
    },
    {
     "name": "stderr",
     "output_type": "stream",
     "text": [
      "Processing epoch 98: 100%|██████████| 534/534 [05:20<00:00,  1.67it/s, loss=3.975483, lr=0.000000000]\n",
      "Processing validation examples: 100%|██████████| 324/324 [01:26<00:00,  3.74it/s, BLEU=0.000257578, METEOR=0.090536636] \n"
     ]
    },
    {
     "name": "stdout",
     "output_type": "stream",
     "text": [
      "--------------------------------------------------------------------------------\n",
      "SOURCE: Change of scene, and absence of the necessity for thought, will restore the mental equilibrium.\"\n",
      "TARGET: Il cambiamento d’aria e l’assenza della necessità di pensare ci ridaranno l’equilibrio mentale.\n",
      "PREDICTED: Come mi di di nella sala di , con la sala di . di nuovo di nuovo di nuovo di nuovo . . . . . . . . . . .\n",
      "--------------------------------------------------------------------------------\n",
      "\n",
      "Epoch 99\n",
      "-------------------------------, 0 days, 11 hours, 12 minutes, 26 seconds\n",
      "\n"
     ]
    },
    {
     "name": "stderr",
     "output_type": "stream",
     "text": [
      "Processing epoch 99: 100%|██████████| 534/534 [05:21<00:00,  1.66it/s, loss=4.644642, lr=0.000000000]\n",
      "Processing validation examples: 100%|██████████| 324/324 [01:26<00:00,  3.74it/s, BLEU=0.001077828, METEOR=0.095782660] \n"
     ]
    },
    {
     "name": "stdout",
     "output_type": "stream",
     "text": [
      "--------------------------------------------------------------------------------\n",
      "SOURCE: Summer approached; Diana tried to cheer me: she said I looked ill, and wished to accompany me to the sea-side.\n",
      "TARGET: L'estate si avvicinava e Diana, per distrarmi, disse che ero pallida, e volle accompagnarmi ai bagni di mare.\n",
      "PREDICTED: Il mio posto di me mi di me mi ha , Jane , ma mi disse a me mi ha . a me . . . . . . . . .\n",
      "--------------------------------------------------------------------------------\n",
      "\n",
      "Epoch 100\n",
      "-------------------------------, 0 days, 11 hours, 19 minutes, 14 seconds\n",
      "\n"
     ]
    },
    {
     "name": "stderr",
     "output_type": "stream",
     "text": [
      "Processing epoch 100: 100%|██████████| 534/534 [05:20<00:00,  1.67it/s, loss=4.467642, lr=0.000000000]\n",
      "Processing validation examples: 100%|██████████| 324/324 [01:26<00:00,  3.73it/s, BLEU=0.000260109, METEOR=0.093584193] \n"
     ]
    },
    {
     "name": "stdout",
     "output_type": "stream",
     "text": [
      "--------------------------------------------------------------------------------\n",
      "SOURCE: That afternoon lapsed in peace and harmony; and in the evening Bessie told me some of her most enchanting stories, and sang me some of her sweetest songs.\n",
      "TARGET: Il dopopranzo trascorse nella pace e nell'armonia. La sera Bessie mi narrò le più belle fra le sue novelle e mi cantò le più dolci canzoni.\n",
      "PREDICTED: Ma mi parve un freddo e mi parve più più più di vita , e mi parve più vita e di vita di vita , di vita mi di vita e di vita . sempre sempre in vita . . . .\n",
      "--------------------------------------------------------------------------------\n",
      "\n",
      "Epoch 101\n",
      "-------------------------------, 0 days, 11 hours, 26 minutes, 1 seconds\n",
      "\n"
     ]
    },
    {
     "name": "stderr",
     "output_type": "stream",
     "text": [
      "Processing epoch 101: 100%|██████████| 534/534 [05:20<00:00,  1.67it/s, loss=4.334505, lr=0.000000000]\n",
      "Processing validation examples: 100%|██████████| 324/324 [01:26<00:00,  3.73it/s, BLEU=0.000402563, METEOR=0.091352893] "
     ]
    },
    {
     "name": "stdout",
     "output_type": "stream",
     "text": [
      "--------------------------------------------------------------------------------\n",
      "SOURCE: \"Love your enemies; bless them that curse you; do good to them that hate you and despitefully use you.\"\n",
      "TARGET: — Dice: \"Amate i nemici, benedite coloro che vi maledicono e fate del bene a quelli che vi odiano e vi trattano con disprezzo.\"\n",
      "PREDICTED: — \" , vi con voi , vi e vi voi ? . . . . . . . .\n",
      "--------------------------------------------------------------------------------\n",
      "Elapsed time: 0 days, 11 hours, 32 minutes, 48 seconds\n",
      "Done\n"
     ]
    },
    {
     "name": "stderr",
     "output_type": "stream",
     "text": [
      "\n"
     ]
    }
   ],
   "source": [
    "from tqdm import tqdm\n",
    "\n",
    "best_meteor = 1e-20\n",
    "max_seconds = 60*60*11 + 60*30 # 11 horas y 30 minutos\n",
    "t0 = time.time()\n",
    "\n",
    "for epoch in range(0, EPOCHS):\n",
    "    days, hours, minutes, seconds = elapsed_time(t0)\n",
    "    print(f\"\\nEpoch {epoch}\\n-------------------------------, {days} days, {hours} hours, {minutes} minutes, {seconds} seconds\")\n",
    "\n",
    "    # We run the 'train_loop' function at the beginning of each epoch\n",
    "    if LR_SCHEDULER:\n",
    "        train_loss, train_lr = train_loop(model, train_dataloader, device, tokenizer_target, epoch, loss_fn, optimizer, lr_scheduler)    \n",
    "    else:\n",
    "        train_loss, train_lr = train_loop(model, train_dataloader, device, tokenizer_target, epoch, loss_fn, optimizer)\n",
    "        \n",
    "    # We run the 'run_validation' function at the end of each epoch\n",
    "    # to evaluate model performance\n",
    "    validation_meteor, validation_bleu = validation_loop(model, validation_dataloader, tokenizer_target, max_sequence_len, device)\n",
    "\n",
    "    train_loss_list = np.append(train_loss_list, train_loss)\n",
    "    train_lr_list = np.append(train_lr_list, train_lr)\n",
    "    validation_meteor_list = np.append(validation_meteor_list, validation_meteor)\n",
    "    validation_bleu_list = np.append(validation_bleu_list, validation_bleu)\n",
    "\n",
    "    # if validation_meteor > best_meteor:\n",
    "    #     best_meteor = validation_meteor\n",
    "    #     if GPUS > 1:\n",
    "    #         print(f\"Saving model to {MODEL_PATH}/transformer_{epoch}_{actual_step.get_step()}.pth\")\n",
    "    #         torch.save(model.state_dict(), f'{MODEL_PATH}/transformer_{epoch}_{actual_step.get_step()}.pth')\n",
    "    #         print(f\"Model saved to {MODEL_PATH}/transformer_{epoch}_{actual_step.get_step()}.pth\")\n",
    "    #     else:\n",
    "    #         print(f\"Saving model to {MODEL_PATH}/transformer_model_{epoch}_{actual_step.get_step()}.pth\")\n",
    "    #         torch.save(model, f'{MODEL_PATH}/transformer_model_{epoch}_{actual_step.get_step()}.pth')\n",
    "    #         print(f\"Model saved to {MODEL_PATH}/transformer_model_{epoch}_{actual_step.get_step()}.pth\")\n",
    "\n",
    "    #     print(f\"Saving best validation meteor to {MODEL_PATH}/best_validation_meteor_{epoch}_{actual_step.get_step()}.npy\")\n",
    "    #     np.save(f'{MODEL_PATH}/best_validation_meteor_{epoch}_{actual_step.get_step()}.npy', best_meteor)\n",
    "    #     print(f\"Best validation meteor saved to {MODEL_PATH}/best_validation_meteor_{epoch}_{actual_step.get_step()}.npy\")\n",
    "    \n",
    "    days, hours, minutes, seconds = elapsed_time(t0)\n",
    "    if elapsed_seconds(days, hours, minutes, seconds) > max_seconds:\n",
    "        print(f\"Elapsed time: {days} days, {hours} hours, {minutes} minutes, {seconds} seconds\")\n",
    "        break\n",
    "\n",
    "print(\"Done\")"
   ]
  },
  {
   "cell_type": "code",
   "execution_count": 43,
   "metadata": {},
   "outputs": [
    {
     "data": {
      "image/png": "[encoded data removed]",
      "text/plain": [
       "<Figure size 2000x500 with 3 Axes>"
      ]
     },
     "metadata": {},
     "output_type": "display_data"
    }
   ],
   "source": [
    "import matplotlib.pyplot as plt\n",
    "\n",
    "fig, axs = plt.subplots(1, 3, figsize=(20, 5))\n",
    "axs[0].plot(train_loss_list)\n",
    "axs[0].set_title(\"Loss\")\n",
    "axs[1].plot(validation_meteor_list)\n",
    "axs[1].plot(validation_bleu_list)\n",
    "axs[1].legend([\"Meteor\", \"Bleu\"])\n",
    "axs[1].set_title(\"Validation metrics\")\n",
    "axs[2].plot(train_lr_list)\n",
    "axs[2].set_title(\"Learning rate\")\n",
    "plt.show()"
   ]
  }
 ],
 "metadata": {
  "kernelspec": {
   "display_name": "cursopytorch",
   "language": "python",
   "name": "python3"
  },
  "language_info": {
   "codemirror_mode": {
    "name": "ipython",
    "version": 3
   },
   "file_extension": ".py",
   "mimetype": "text/x-python",
   "name": "python",
   "nbconvert_exporter": "python",
   "pygments_lexer": "ipython3",
   "version": "3.10.11"
  },
  "orig_nbformat": 4
 },
 "nbformat": 4,
 "nbformat_minor": 2
}
