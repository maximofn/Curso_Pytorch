{
 "cells": [
  {
   "attachments": {},
   "cell_type": "markdown",
   "metadata": {},
   "source": [
    "# Entrenamiento internet"
   ]
  },
  {
   "cell_type": "code",
   "execution_count": 1,
   "metadata": {},
   "outputs": [
    {
     "name": "stdout",
     "output_type": "stream",
     "text": [
      "BS: 56\n",
      "EPOCH0: 0, STEP0: 0\n"
     ]
    }
   ],
   "source": [
    "import os\n",
    "\n",
    "# Dataset\n",
    "SOURCE_LANGUAGE = \"en\"\n",
    "TARGET_LANGUAGE = \"it\"\n",
    "SUBSET = False\n",
    "PERCENT_SUBSET = 0.1\n",
    "\n",
    "# Train\n",
    "LR = 1e-5\n",
    "EPOCHS = 100000\n",
    "GPUS = 1\n",
    "GPU_NUMBER = 0\n",
    "if GPUS > 1:\n",
    "    BS = 120\n",
    "else:\n",
    "    if SUBSET:\n",
    "        BS = 128\n",
    "    else:\n",
    "        BS = 56\n",
    "print(f\"BS: {BS}\")\n",
    "LR_SCHEDULER = False\n",
    "SAVE_BEST_MODEL = False\n",
    "STOP_AT_TIME = False\n",
    "\n",
    "# Model\n",
    "MODEL_PATH = f\"model\"\n",
    "if os.path.exists(MODEL_PATH):\n",
    "    files = os.listdir(MODEL_PATH)\n",
    "    model_files = [file for file in files if \"transformer\" in file]\n",
    "    if len(model_files) > 0:\n",
    "        name = model_files[0].split(\".\")[0]\n",
    "        STEP0 = int(name.split(\"_\")[-1])\n",
    "        EPOCH0 = int(name.split(\"_\")[-2])\n",
    "    else:\n",
    "        EPOCH0 = 0\n",
    "        STEP0 = 0\n",
    "else:\n",
    "    EPOCH0 = 0\n",
    "    STEP0 = 0\n",
    "print(f\"EPOCH0: {EPOCH0}, STEP0: {STEP0}\")\n",
    "DIM_EMBEDDING = 512\n",
    "NUM_HEADS = 8\n",
    "NUM_LAYERS = 6\n",
    "DROPOUT = 0.1\n",
    "LABEL_SMOOTHING = 0.1\n",
    "\n",
    "# Tokenizers\n",
    "TOKENIZERS_PATH = f\"tokenizers\"\n",
    "if not os.path.exists(TOKENIZERS_PATH):\n",
    "    os.makedirs(TOKENIZERS_PATH)\n",
    "UNKNOWN_TOKEN = \"[UNK]\"\n",
    "PADDING_TOKEN = \"[PAD]\"\n",
    "START_OF_SEQUENCE = \"[SOS]\"\n",
    "END_OF_SEQUENCE = \"[EOS]\""
   ]
  },
  {
   "cell_type": "code",
   "execution_count": 2,
   "metadata": {},
   "outputs": [],
   "source": [
    "# TODOs\n",
    "# TODO: Cambiar el dataset\n",
    "# TODO: Podar el transformer\n",
    "# TODO: Entrenar en paralelo\n",
    "# TODO: Ajustar bien los parámetros del LR scheduler"
   ]
  },
  {
   "cell_type": "markdown",
   "metadata": {},
   "source": [
    "## Device ✔"
   ]
  },
  {
   "cell_type": "code",
   "execution_count": 3,
   "metadata": {},
   "outputs": [
    {
     "name": "stdout",
     "output_type": "stream",
     "text": [
      "Using GPU 0\n"
     ]
    }
   ],
   "source": [
    "import torch\n",
    "\n",
    "if torch.cuda.device_count() > 1 and GPUS > 1:\n",
    "    device = torch.device(\"cuda\" if torch.cuda.is_available() else \"cpu\")\n",
    "    print(f\"Using {torch.cuda.device_count()} GPUs\")\n",
    "else:\n",
    "    if torch.cuda.is_available():\n",
    "        device = torch.device(f\"cuda:{GPU_NUMBER}\")\n",
    "        print(f\"Using GPU {GPU_NUMBER}\")\n",
    "    else:\n",
    "        device = torch.device(\"cpu\")\n",
    "        print(\"Using CPU\")"
   ]
  },
  {
   "cell_type": "markdown",
   "metadata": {},
   "source": [
    "## Carga de los datos ✔"
   ]
  },
  {
   "cell_type": "markdown",
   "metadata": {},
   "source": [
    "Cargamos el dataset"
   ]
  },
  {
   "cell_type": "code",
   "execution_count": 4,
   "metadata": {},
   "outputs": [
    {
     "name": "stderr",
     "output_type": "stream",
     "text": [
      "Found cached dataset opus_books (/home/wallabot/.cache/huggingface/datasets/opus_books/en-it/1.0.0/e8f950a4f32dc39b7f9088908216cd2d7e21ac35f893d04d39eb594746af2daf)\n"
     ]
    },
    {
     "data": {
      "text/plain": [
       "32332"
      ]
     },
     "execution_count": 4,
     "metadata": {},
     "output_type": "execute_result"
    }
   ],
   "source": [
    "from datasets import load_dataset\n",
    "\n",
    "if SUBSET:\n",
    "    dataset_raw = load_dataset('opus_books', f'{SOURCE_LANGUAGE}-{TARGET_LANGUAGE}', split='train')\n",
    "    len_dataset = len(dataset_raw)\n",
    "    len_subset = int(len_dataset * PERCENT_SUBSET)\n",
    "    dataset_raw = load_dataset('opus_books', f'{SOURCE_LANGUAGE}-{TARGET_LANGUAGE}', split=f'train[:{len_subset}]')\n",
    "else:\n",
    "    dataset_raw = load_dataset('opus_books', f'{SOURCE_LANGUAGE}-{TARGET_LANGUAGE}', split='train')\n",
    "\n",
    "len(dataset_raw)"
   ]
  },
  {
   "cell_type": "markdown",
   "metadata": {},
   "source": [
    "Vamos a ver cómo es el dataset"
   ]
  },
  {
   "cell_type": "code",
   "execution_count": 5,
   "metadata": {},
   "outputs": [
    {
     "data": {
      "text/plain": [
       "Dataset({\n",
       "    features: ['id', 'translation'],\n",
       "    num_rows: 32332\n",
       "})"
      ]
     },
     "execution_count": 5,
     "metadata": {},
     "output_type": "execute_result"
    }
   ],
   "source": [
    "dataset_raw"
   ]
  },
  {
   "cell_type": "markdown",
   "metadata": {},
   "source": [
    "Vemos que es una tupla de con dos características cada elemento, la primera la id y la segunda el texto.\n",
    "\n",
    "Vamos a ver el primer elemento de la tupla"
   ]
  },
  {
   "cell_type": "code",
   "execution_count": 6,
   "metadata": {},
   "outputs": [
    {
     "data": {
      "text/plain": [
       "{'id': '0',\n",
       " 'translation': {'en': 'Source: Project Gutenberg',\n",
       "  'it': 'Source: www.liberliber.it/Audiobook available here'}}"
      ]
     },
     "execution_count": 6,
     "metadata": {},
     "output_type": "execute_result"
    }
   ],
   "source": [
    "dataset_raw[0]"
   ]
  },
  {
   "cell_type": "markdown",
   "metadata": {},
   "source": [
    "Veamos ahora el segundo elemento de la tupla"
   ]
  },
  {
   "cell_type": "code",
   "execution_count": 7,
   "metadata": {},
   "outputs": [
    {
     "data": {
      "text/plain": [
       "{'id': '1', 'translation': {'en': 'Jane Eyre', 'it': 'Jane Eyre'}}"
      ]
     },
     "execution_count": 7,
     "metadata": {},
     "output_type": "execute_result"
    }
   ],
   "source": [
    "dataset_raw[1]"
   ]
  },
  {
   "cell_type": "markdown",
   "metadata": {},
   "source": [
    "Vemos que el `id` no nos aporta mucha información, por lo que no lo usaremos"
   ]
  },
  {
   "cell_type": "markdown",
   "metadata": {},
   "source": [
    "Vamos ahora a ver el elemento `translation`"
   ]
  },
  {
   "cell_type": "code",
   "execution_count": 8,
   "metadata": {},
   "outputs": [
    {
     "data": {
      "text/plain": [
       "{'en': 'Charlotte Bronte', 'it': 'Charlotte Brontë'}"
      ]
     },
     "execution_count": 8,
     "metadata": {},
     "output_type": "execute_result"
    }
   ],
   "source": [
    "dataset_raw[2]['translation']"
   ]
  },
  {
   "cell_type": "markdown",
   "metadata": {},
   "source": [
    "Cada elemento `translation` es un diccionario con el texto en el idioma original y el texto traducido"
   ]
  },
  {
   "cell_type": "markdown",
   "metadata": {},
   "source": [
    "## Entrenamiento de los tokenizers ✔"
   ]
  },
  {
   "cell_type": "markdown",
   "metadata": {},
   "source": [
    "Vamos a entrenar un tokenizer para cada idioma. Podríamos utilizar uno ya preentrenado, pero a veces entrenar uno propio puede dar mejores resultados."
   ]
  },
  {
   "cell_type": "code",
   "execution_count": 9,
   "metadata": {},
   "outputs": [],
   "source": [
    "from tokenizers import Tokenizer\n",
    "from tokenizers.models import WordLevel\n",
    "from tokenizers.trainers import WordLevelTrainer\n",
    "from tokenizers.pre_tokenizers import Whitespace"
   ]
  },
  {
   "cell_type": "code",
   "execution_count": 10,
   "metadata": {},
   "outputs": [],
   "source": [
    "def get_all_sentences(dataset):\n",
    "    all_sentences = []\n",
    "    for i in range(len(dataset)):\n",
    "        all_sentences.append(dataset[i]['translation'][SOURCE_LANGUAGE])\n",
    "        all_sentences.append(dataset[i]['translation'][TARGET_LANGUAGE])\n",
    "    return all_sentences"
   ]
  },
  {
   "cell_type": "markdown",
   "metadata": {},
   "source": [
    "Entrenamos el tokenizer para el idioma original"
   ]
  },
  {
   "cell_type": "code",
   "execution_count": 11,
   "metadata": {},
   "outputs": [
    {
     "name": "stdout",
     "output_type": "stream",
     "text": [
      "Training source tokenizer\n"
     ]
    }
   ],
   "source": [
    "tokenizer_source_path = f\"{TOKENIZERS_PATH}/tokenizer_{SOURCE_LANGUAGE}.json\"\n",
    "\n",
    "if not os.path.exists(tokenizer_source_path) or STEP0 == 0 or EPOCH0 == 0:\n",
    "    print(f\"Training source tokenizer\")\n",
    "    tokenizer_source = Tokenizer(WordLevel(unk_token=UNKNOWN_TOKEN))\n",
    "    tokenizer_source.pre_tokenizer = Whitespace()\n",
    "    trainer = WordLevelTrainer(special_tokens=[UNKNOWN_TOKEN, PADDING_TOKEN, START_OF_SEQUENCE, END_OF_SEQUENCE])\n",
    "    all_sentences = get_all_sentences(dataset_raw)\n",
    "    tokenizer_source.train_from_iterator(all_sentences, trainer)\n",
    "    tokenizer_source.save(tokenizer_source_path)\n",
    "else:\n",
    "    tokenizer_source = Tokenizer.from_file(tokenizer_source_path)"
   ]
  },
  {
   "cell_type": "markdown",
   "metadata": {},
   "source": [
    "Vamos a ver cómo es el tokenizer"
   ]
  },
  {
   "cell_type": "code",
   "execution_count": 12,
   "metadata": {},
   "outputs": [
    {
     "name": "stdout",
     "output_type": "stream",
     "text": [
      "{\n",
      "  \"version\": \"1.0\",\n",
      "  \"truncation\": null,\n",
      "  \"padding\": null,\n",
      "  \"added_tokens\": [\n",
      "    {\n",
      "      \"id\": 0,\n",
      "      \"content\": \"[UNK]\",\n",
      "      \"single_word\": false,\n",
      "      \"lstrip\": false,\n",
      "      \"rstrip\": false,\n",
      "      \"normalized\": false,\n",
      "      \"special\": true\n",
      "    },\n",
      "    {\n",
      "      \"id\": 1,\n",
      "      \"content\": \"[PAD]\",\n",
      "      \"single_word\": false,\n",
      "      \"lstrip\": false,\n",
      "      \"rstrip\": false,\n",
      "      \"normalized\": false,\n",
      "      \"special\": true\n",
      "    },\n",
      "    {\n",
      "      \"id\": 2,\n",
      "      \"content\": \"[SOS]\",\n",
      "      \"single_word\": false,\n",
      "      \"lstrip\": false,\n",
      "      \"rstrip\": false,\n",
      "      \"normalized\": false,\n",
      "      \"special\": true\n",
      "    },\n",
      "    {\n",
      "      \"id\": 3,\n",
      "      \"content\": \"[EOS]\",\n",
      "      \"single_word\": false,\n",
      "      \"lstrip\": false,\n",
      "      \"rstrip\": false,\n",
      "      \"normalized\": false,\n",
      "      \"special\": true\n",
      "    }\n",
      "  ],\n",
      "  \"normalizer\": null,\n",
      "  \"pre_tokenizer\": {\n",
      "    \"type\": \"Whitespace\"\n",
      "  },\n",
      "  \"post_processor\": null,\n",
      "  \"decoder\": null,\n",
      "  \"model\": {\n",
      "    \"type\": \"WordLevel\",\n",
      "    \"vocab\": {\n",
      "      \"[UNK]\": 0,\n",
      "      \"[PAD]\": 1,\n",
      "      \"[SOS]\": 2,\n",
      "      \"[EOS]\": 3,\n",
      "      \",\": 4,\n",
      "      \".\": 5,\n",
      "      \"the\": 6,\n",
      "      \"and\": 7,\n",
      "      \"a\": 8,\n",
      "      \"e\": 9,\n",
      "      \"to\": 10,\n",
      "      \"di\": 11,\n",
      "      \"in\": 12,\n",
      "      \"I\": 13,\n",
      "      \"'\": 14,\n",
      "      \"che\": 15,\n",
      "      \"of\": 16,\n",
      "      \"—\": 17,\n",
      "      \"’\": 18,\n",
      "      \";\": 19,\n",
      "      \"la\": 20,\n",
      "      \"non\": 21,\n",
      "      \"il\": 22,\n",
      "      \"was\": 23,\n",
      "      \"that\": 24,\n",
      "      \"he\": 25,\n",
      "      \"it\": 26,\n",
      "      \"un\": 27,\n",
      "      \"had\": 28,\n",
      "      \"per\": 29,\n",
      "      \"his\": 30,\n",
      "      \"not\": 31,\n",
      "      \"with\": 32,\n",
      "      \"her\": 33,\n",
      "      \"si\": 34,\n",
      "      \":\": 35,\n",
      "      \"me\": 36,\n",
      "      \"you\": 37,\n",
      "      \"as\": 38,\n",
      "      \"con\": 39,\n",
      "      \"una\": 40,\n",
      "      \"for\": 41,\n",
      "      \"le\": 42,\n",
      "      \"era\": 43,\n",
      "      \"?\": 44,\n",
      "      \"-\": 45,\n",
      "      \"she\": 46,\n",
      "      \"\\\"\": 47,\n",
      "      \"my\": 48,\n"
     ]
    }
   ],
   "source": [
    "with open(tokenizer_source_path, 'r') as file:\n",
    "    for i in range(100):\n",
    "        line = file.readline()\n",
    "        if line == \"\\n\":\n",
    "            continue\n",
    "        print(line, end=\"\")"
   ]
  },
  {
   "cell_type": "markdown",
   "metadata": {},
   "source": [
    "Entrenamos el tokenizer para el idioma traducido"
   ]
  },
  {
   "cell_type": "code",
   "execution_count": 13,
   "metadata": {},
   "outputs": [
    {
     "name": "stdout",
     "output_type": "stream",
     "text": [
      "Training target tokenizer\n"
     ]
    }
   ],
   "source": [
    "tokenizer_target_path = f\"{TOKENIZERS_PATH}/tokenizer_{TARGET_LANGUAGE}.json\"\n",
    "\n",
    "if not os.path.exists(tokenizer_target_path) or STEP0 == 0 or EPOCH0 == 0:\n",
    "    print(f\"Training target tokenizer\")\n",
    "    tokenizer_target = Tokenizer(WordLevel(unk_token=UNKNOWN_TOKEN))\n",
    "    tokenizer_target.pre_tokenizer = Whitespace()\n",
    "    trainer = WordLevelTrainer(special_tokens=[UNKNOWN_TOKEN, PADDING_TOKEN, START_OF_SEQUENCE, END_OF_SEQUENCE])\n",
    "    all_sentences = get_all_sentences(dataset_raw)\n",
    "    tokenizer_target.train_from_iterator(all_sentences, trainer)\n",
    "    tokenizer_target.save(tokenizer_target_path)\n",
    "else:\n",
    "    tokenizer_target = Tokenizer.from_file(tokenizer_target_path)"
   ]
  },
  {
   "cell_type": "markdown",
   "metadata": {},
   "source": [
    "Vamos a ver cómo es el tokenizer"
   ]
  },
  {
   "cell_type": "code",
   "execution_count": 14,
   "metadata": {},
   "outputs": [
    {
     "name": "stdout",
     "output_type": "stream",
     "text": [
      "{\n",
      "  \"version\": \"1.0\",\n",
      "  \"truncation\": null,\n",
      "  \"padding\": null,\n",
      "  \"added_tokens\": [\n",
      "    {\n",
      "      \"id\": 0,\n",
      "      \"content\": \"[UNK]\",\n",
      "      \"single_word\": false,\n",
      "      \"lstrip\": false,\n",
      "      \"rstrip\": false,\n",
      "      \"normalized\": false,\n",
      "      \"special\": true\n",
      "    },\n",
      "    {\n",
      "      \"id\": 1,\n",
      "      \"content\": \"[PAD]\",\n",
      "      \"single_word\": false,\n",
      "      \"lstrip\": false,\n",
      "      \"rstrip\": false,\n",
      "      \"normalized\": false,\n",
      "      \"special\": true\n",
      "    },\n",
      "    {\n",
      "      \"id\": 2,\n",
      "      \"content\": \"[SOS]\",\n",
      "      \"single_word\": false,\n",
      "      \"lstrip\": false,\n",
      "      \"rstrip\": false,\n",
      "      \"normalized\": false,\n",
      "      \"special\": true\n",
      "    },\n",
      "    {\n",
      "      \"id\": 3,\n",
      "      \"content\": \"[EOS]\",\n",
      "      \"single_word\": false,\n",
      "      \"lstrip\": false,\n",
      "      \"rstrip\": false,\n",
      "      \"normalized\": false,\n",
      "      \"special\": true\n",
      "    }\n",
      "  ],\n",
      "  \"normalizer\": null,\n",
      "  \"pre_tokenizer\": {\n",
      "    \"type\": \"Whitespace\"\n",
      "  },\n",
      "  \"post_processor\": null,\n",
      "  \"decoder\": null,\n",
      "  \"model\": {\n",
      "    \"type\": \"WordLevel\",\n",
      "    \"vocab\": {\n",
      "      \"[UNK]\": 0,\n",
      "      \"[PAD]\": 1,\n",
      "      \"[SOS]\": 2,\n",
      "      \"[EOS]\": 3,\n",
      "      \",\": 4,\n",
      "      \".\": 5,\n",
      "      \"the\": 6,\n",
      "      \"and\": 7,\n",
      "      \"a\": 8,\n",
      "      \"e\": 9,\n",
      "      \"to\": 10,\n",
      "      \"di\": 11,\n",
      "      \"in\": 12,\n",
      "      \"I\": 13,\n",
      "      \"'\": 14,\n",
      "      \"che\": 15,\n",
      "      \"of\": 16,\n",
      "      \"—\": 17,\n",
      "      \"’\": 18,\n",
      "      \";\": 19,\n",
      "      \"la\": 20,\n",
      "      \"non\": 21,\n",
      "      \"il\": 22,\n",
      "      \"was\": 23,\n",
      "      \"that\": 24,\n",
      "      \"he\": 25,\n",
      "      \"it\": 26,\n",
      "      \"un\": 27,\n",
      "      \"had\": 28,\n",
      "      \"per\": 29,\n",
      "      \"his\": 30,\n",
      "      \"not\": 31,\n",
      "      \"with\": 32,\n",
      "      \"her\": 33,\n",
      "      \"si\": 34,\n",
      "      \":\": 35,\n",
      "      \"me\": 36,\n",
      "      \"you\": 37,\n",
      "      \"as\": 38,\n",
      "      \"con\": 39,\n",
      "      \"una\": 40,\n",
      "      \"for\": 41,\n",
      "      \"le\": 42,\n",
      "      \"era\": 43,\n",
      "      \"?\": 44,\n",
      "      \"-\": 45,\n",
      "      \"she\": 46,\n",
      "      \"\\\"\": 47,\n",
      "      \"my\": 48,\n"
     ]
    }
   ],
   "source": [
    "with open(tokenizer_target_path, 'r') as file:\n",
    "    for i in range(100):\n",
    "        line = file.readline()\n",
    "        if line == \"\\n\":\n",
    "            continue\n",
    "        print(line, end=\"\")"
   ]
  },
  {
   "cell_type": "markdown",
   "metadata": {},
   "source": [
    "## Obtención de la lóngitud máxima de las secuencias ✔"
   ]
  },
  {
   "cell_type": "code",
   "execution_count": 15,
   "metadata": {},
   "outputs": [
    {
     "name": "stdout",
     "output_type": "stream",
     "text": [
      "Max source sequence length: 309\n",
      "Max target sequence length: 274\n",
      "Max sequence length: 311\n"
     ]
    }
   ],
   "source": [
    "max_source_sequence_length = 0\n",
    "max_target_sequence_length = 0\n",
    "\n",
    "for i in range(len(dataset_raw)):\n",
    "    source_sequence_length = len(tokenizer_source.encode(dataset_raw[i]['translation'][SOURCE_LANGUAGE]).ids)\n",
    "    target_sequence_length = len(tokenizer_target.encode(dataset_raw[i]['translation'][TARGET_LANGUAGE]).ids)\n",
    "    if source_sequence_length > max_source_sequence_length:\n",
    "        max_source_sequence_length = source_sequence_length\n",
    "    if target_sequence_length > max_target_sequence_length:\n",
    "        max_target_sequence_length = target_sequence_length\n",
    "\n",
    "max_sequence_len = max(max_source_sequence_length, max_target_sequence_length)\n",
    "max_sequence_len += 2   # Add 2 for the start and end of sequence tokens\n",
    "\n",
    "print(f\"Max source sequence length: {max_source_sequence_length}\")\n",
    "print(f\"Max target sequence length: {max_target_sequence_length}\")\n",
    "print(f\"Max sequence length: {max_sequence_len}\")"
   ]
  },
  {
   "cell_type": "markdown",
   "metadata": {},
   "source": [
    "## Datasets ✔"
   ]
  },
  {
   "cell_type": "markdown",
   "metadata": {},
   "source": [
    "### Mask ✔"
   ]
  },
  {
   "cell_type": "code",
   "execution_count": 16,
   "metadata": {},
   "outputs": [],
   "source": [
    "# def create_mask(size):\n",
    "#     mask = torch.triu(torch.ones(1, size, size), diagonal = 1).type(torch.int)\n",
    "#     return mask == 0\n",
    "def create_mask(sequence_len):\n",
    "    mask = torch.tril(torch.ones((1, sequence_len, sequence_len)))\n",
    "    return mask"
   ]
  },
  {
   "cell_type": "markdown",
   "metadata": {},
   "source": [
    "### Dataset class ✔"
   ]
  },
  {
   "cell_type": "code",
   "execution_count": 17,
   "metadata": {},
   "outputs": [],
   "source": [
    "import torch\n",
    "from torch.utils.data import Dataset\n",
    "\n",
    "class BilingualDataset(Dataset):\n",
    "    def __init__(self, dataset, tokenizer_src, tokenizer_tgt, src_lang, tgt_lang, max_seq_len) -> None:\n",
    "        super().__init__()\n",
    "        \n",
    "        self.max_seq_len = max_seq_len\n",
    "        self.dataset = dataset\n",
    "        self.tokenizer_src = tokenizer_src\n",
    "        self.tokenizer_tgt = tokenizer_tgt\n",
    "        self.src_lang = src_lang\n",
    "        self.tgt_lang = tgt_lang\n",
    "        \n",
    "        # Defining special tokens by using the target language tokenizer\n",
    "        self.sos_token = torch.tensor([tokenizer_tgt.token_to_id(START_OF_SEQUENCE)], dtype=torch.int64)\n",
    "        self.eos_token = torch.tensor([tokenizer_tgt.token_to_id(END_OF_SEQUENCE)], dtype=torch.int64)\n",
    "        self.pad_token = torch.tensor([tokenizer_tgt.token_to_id(PADDING_TOKEN)], dtype=torch.int64)\n",
    "        self.unk_token = torch.tensor([tokenizer_tgt.token_to_id(UNKNOWN_TOKEN)], dtype=torch.int64)\n",
    "        \n",
    "    def __len__(self):\n",
    "        return len(self.dataset)\n",
    "    \n",
    "    def __getitem__(self, index):\n",
    "        # Getting the source and target texts from the dataset\n",
    "        src_target_pair = self.dataset[index]['translation']\n",
    "        src_text = src_target_pair[self.src_lang]\n",
    "        tgt_text = src_target_pair[self.tgt_lang]\n",
    "        \n",
    "        # Tokenizing source and target texts \n",
    "        encoder_input_tokens = self.tokenizer_src.encode(src_text).ids\n",
    "        decoder_input_tokens = self.tokenizer_tgt.encode(tgt_text).ids\n",
    "        \n",
    "        # Computing how many padding tokens need to be added to the tokenized texts \n",
    "        encoder_num_padding_tokens = self.max_seq_len - len(encoder_input_tokens) - 2 # Subtracting the two '[EOS]' and '[SOS]' special tokens\n",
    "        decoder_num_padding_tokens = self.max_seq_len - len(decoder_input_tokens) - 1 # Subtracting the '[SOS]' special token\n",
    "        \n",
    "        # If the texts exceed the 'seq_len' allowed, it will raise an error. This means that one of the sentences in the pair is too long to be processed\n",
    "        # given the current sequence length limit (this will be defined in the config dictionary below)\n",
    "        if encoder_num_padding_tokens < 0 or decoder_num_padding_tokens < 0:\n",
    "            raise ValueError('Sentence is too long')\n",
    "         \n",
    "        # Building the encoder input tensor by combining several elements\n",
    "        encoder_input = torch.cat(\n",
    "            [\n",
    "                self.sos_token, # inserting the '[SOS]' token\n",
    "                torch.tensor(encoder_input_tokens, dtype = torch.int64), # Inserting the tokenized source text\n",
    "                self.eos_token, # Inserting the '[EOS]' token\n",
    "                torch.tensor([self.pad_token] * encoder_num_padding_tokens, dtype = torch.int64) # Addind padding tokens\n",
    "            ]\n",
    "        )\n",
    "        \n",
    "        # Building the decoder input tensor by combining several elements\n",
    "        decoder_input = torch.cat(\n",
    "            [\n",
    "                self.sos_token, # inserting the '[SOS]' token \n",
    "                torch.tensor(decoder_input_tokens, dtype = torch.int64), # Inserting the tokenized target text\n",
    "                torch.tensor([self.pad_token] * decoder_num_padding_tokens, dtype = torch.int64) # Addind padding tokens\n",
    "            ]\n",
    "        )\n",
    "        \n",
    "        # Creating a label tensor, the expected output for training the model\n",
    "        label = torch.cat(\n",
    "            [\n",
    "                torch.tensor(decoder_input_tokens, dtype = torch.int64), # Inserting the tokenized target text\n",
    "                self.eos_token, # Inserting the '[EOS]' token \n",
    "                torch.tensor([self.pad_token] * decoder_num_padding_tokens, dtype = torch.int64) # Adding padding tokens\n",
    "            ]\n",
    "        )\n",
    "        \n",
    "        # Ensuring that the length of each tensor above is equal to the defined 'seq_len'\n",
    "        assert encoder_input.size(0) == self.max_seq_len\n",
    "        assert decoder_input.size(0) == self.max_seq_len\n",
    "        assert label.size(0) == self.max_seq_len\n",
    "\n",
    "        return {\n",
    "            'encoder_input': encoder_input,\n",
    "            'decoder_input': decoder_input, \n",
    "            'label': label,\n",
    "            'src_text': src_text,\n",
    "            'tgt_text': tgt_text\n",
    "        }\n"
   ]
  },
  {
   "cell_type": "markdown",
   "metadata": {},
   "source": [
    "Veamos una muestra"
   ]
  },
  {
   "cell_type": "code",
   "execution_count": 18,
   "metadata": {},
   "outputs": [
    {
     "name": "stdout",
     "output_type": "stream",
     "text": [
      "Encoder input shape: torch.Size([311])\n",
      "Decoder input shape: torch.Size([311])\n",
      "Label shape: torch.Size([311])\n",
      "Source text: \"Oh, a trifle! Nothing of course to speak of--twenty thousand pounds, I think they say--but what is that?\"\n",
      "Target text: — Ventimila sterline.\n"
     ]
    }
   ],
   "source": [
    "from random import randint\n",
    "\n",
    "sample_dataset = BilingualDataset(dataset_raw, tokenizer_source, tokenizer_target, SOURCE_LANGUAGE, TARGET_LANGUAGE, max_sequence_len)\n",
    "idx = randint(0, len(sample_dataset))\n",
    "sample_dataset = sample_dataset[idx]\n",
    "\n",
    "print(f\"Encoder input shape: {sample_dataset['encoder_input'].shape}\")\n",
    "print(f\"Decoder input shape: {sample_dataset['decoder_input'].shape}\")\n",
    "print(f\"Label shape: {sample_dataset['label'].shape}\")\n",
    "print(f\"Source text: {sample_dataset['src_text']}\")\n",
    "print(f\"Target text: {sample_dataset['tgt_text']}\")"
   ]
  },
  {
   "cell_type": "markdown",
   "metadata": {},
   "source": [
    "### Split dataset ✔"
   ]
  },
  {
   "cell_type": "markdown",
   "metadata": {},
   "source": [
    "Ahora que vemos que está bien, creamos los datasets de entrenamiento y validación"
   ]
  },
  {
   "cell_type": "code",
   "execution_count": 19,
   "metadata": {},
   "outputs": [
    {
     "name": "stdout",
     "output_type": "stream",
     "text": [
      "Len train: 32008, len validation: 324\n"
     ]
    }
   ],
   "source": [
    "from torch.utils.data import random_split\n",
    "\n",
    "percent_train = 0.99\n",
    "len_train = int(len(dataset_raw) * percent_train)\n",
    "len_val = len(dataset_raw) - len_train\n",
    "train_dataset_raw, validation_dataset_raw = random_split(dataset_raw, [len_train, len_val])\n",
    "\n",
    "print(f\"Len train: {len(train_dataset_raw)}, len validation: {len(validation_dataset_raw)}\")"
   ]
  },
  {
   "cell_type": "code",
   "execution_count": 20,
   "metadata": {},
   "outputs": [],
   "source": [
    "train_dataset = BilingualDataset(train_dataset_raw, tokenizer_source, tokenizer_target, SOURCE_LANGUAGE, TARGET_LANGUAGE, max_sequence_len)\n",
    "validation_dataset = BilingualDataset(validation_dataset_raw, tokenizer_source, tokenizer_target, SOURCE_LANGUAGE, TARGET_LANGUAGE, max_sequence_len)"
   ]
  },
  {
   "cell_type": "markdown",
   "metadata": {},
   "source": [
    "## Dataloaders ✔"
   ]
  },
  {
   "cell_type": "code",
   "execution_count": 21,
   "metadata": {},
   "outputs": [],
   "source": [
    "from torch.utils.data import DataLoader\n",
    "\n",
    "train_dataloader = DataLoader(train_dataset, batch_size=BS, shuffle=True)\n",
    "validation_dataloader = DataLoader(validation_dataset, batch_size=BS, shuffle=True)\n"
   ]
  },
  {
   "cell_type": "markdown",
   "metadata": {},
   "source": [
    "Vamos a ver una muestra"
   ]
  },
  {
   "cell_type": "code",
   "execution_count": 22,
   "metadata": {},
   "outputs": [
    {
     "data": {
      "text/plain": [
       "dict"
      ]
     },
     "execution_count": 22,
     "metadata": {},
     "output_type": "execute_result"
    }
   ],
   "source": [
    "batch = next(iter(train_dataloader))\n",
    "type(batch)"
   ]
  },
  {
   "cell_type": "markdown",
   "metadata": {},
   "source": [
    "Como vemos la muestra es un diccionario, vamos a ver sus claves"
   ]
  },
  {
   "cell_type": "code",
   "execution_count": 23,
   "metadata": {},
   "outputs": [
    {
     "data": {
      "text/plain": [
       "dict_keys(['encoder_input', 'decoder_input', 'label', 'src_text', 'tgt_text'])"
      ]
     },
     "execution_count": 23,
     "metadata": {},
     "output_type": "execute_result"
    }
   ],
   "source": [
    "batch.keys()"
   ]
  },
  {
   "cell_type": "markdown",
   "metadata": {},
   "source": [
    "Las claves son las salidas que habíamos definido en el dataset. Vamos a ver ahora cómo es cada una de las claves"
   ]
  },
  {
   "cell_type": "code",
   "execution_count": 24,
   "metadata": {},
   "outputs": [
    {
     "data": {
      "text/plain": [
       "(torch.Size([56, 311]), torch.Size([56, 311]), torch.Size([56, 311]), 56, 56)"
      ]
     },
     "execution_count": 24,
     "metadata": {},
     "output_type": "execute_result"
    }
   ],
   "source": [
    "batch['encoder_input'].shape, batch['decoder_input'].shape, batch['label'].shape, len(batch['src_text']), len(batch['tgt_text'])"
   ]
  },
  {
   "cell_type": "markdown",
   "metadata": {},
   "source": [
    "Cada una de las claves tiene tantas muestras como hemos definido en el batch size (`BS`). Vamos ahora a ver una de las muestras"
   ]
  },
  {
   "cell_type": "code",
   "execution_count": 25,
   "metadata": {},
   "outputs": [
    {
     "name": "stdout",
     "output_type": "stream",
     "text": [
      "Encoder input shape: torch.Size([311])\n",
      "Decoder input shape: torch.Size([311])\n",
      "Label shape: torch.Size([311])\n",
      "Source text: Everything did itself.\n",
      "Target text: Qui tutto andava da sé.\n"
     ]
    }
   ],
   "source": [
    "idx = randint(0, BS)\n",
    "\n",
    "print(f\"Encoder input shape: {batch['encoder_input'][idx].shape}\")\n",
    "print(f\"Decoder input shape: {batch['decoder_input'][idx].shape}\")\n",
    "print(f\"Label shape: {batch['label'][idx].shape}\")\n",
    "print(f\"Source text: {batch['src_text'][idx]}\")\n",
    "print(f\"Target text: {batch['tgt_text'][idx]}\")"
   ]
  },
  {
   "cell_type": "markdown",
   "metadata": {},
   "source": [
    "## Modelo ✔"
   ]
  },
  {
   "cell_type": "markdown",
   "metadata": {},
   "source": [
    "Volvemos a escribir todo el código del transformer y creamos un objeto de este"
   ]
  },
  {
   "cell_type": "markdown",
   "metadata": {},
   "source": [
    "### Clases de bajo nivel"
   ]
  },
  {
   "cell_type": "code",
   "execution_count": 26,
   "metadata": {},
   "outputs": [],
   "source": [
    "import torch\n",
    "import torch.nn as nn\n",
    "import torch.nn.init as init\n",
    "\n",
    "class CustomLinear(nn.Module):\n",
    "    def __init__(self, in_features, out_features):\n",
    "        super(CustomLinear, self).__init__()\n",
    "        self.linear = nn.Linear(in_features, out_features)\n",
    "        init.kaiming_uniform_(self.linear.weight, nonlinearity='relu')\n",
    "        if self.linear.bias is not None:\n",
    "            init.zeros_(self.linear.bias)\n",
    "    \n",
    "    def forward(self, x):\n",
    "        return self.linear(x)\n",
    "\n",
    "class CustomEmbedding(nn.Module):\n",
    "    def __init__(self, num_embeddings, embedding_dim):\n",
    "        super(CustomEmbedding, self).__init__()\n",
    "        self.embedding = nn.Embedding(num_embeddings, embedding_dim)\n",
    "        init.xavier_uniform_(self.embedding.weight)\n",
    "    \n",
    "    def forward(self, x):\n",
    "        return self.embedding(x)\n",
    "\n",
    "class Embedding(nn.Module):\n",
    "    def __init__(self, vocab_size, embedding_dim):\n",
    "        super().__init__()\n",
    "        self.vocab_size = vocab_size\n",
    "        self.embedding_dim = embedding_dim\n",
    "\n",
    "        self.embedding = CustomEmbedding(vocab_size, embedding_dim)\n",
    "\n",
    "    def forward(self, x):\n",
    "        return self.embedding(x)\n",
    "\n",
    "class PositionalEncoding(nn.Module):\n",
    "    def __init__(self, max_sequence_len, embedding_model_dim):\n",
    "        super().__init__()\n",
    "        self.embedding_dim = embedding_model_dim\n",
    "        positional_encoding = torch.zeros(max_sequence_len, self.embedding_dim)\n",
    "        for pos in range(max_sequence_len):\n",
    "            for i in range(0, self.embedding_dim, 2):\n",
    "                positional_encoding[pos, i]     = torch.sin(torch.tensor(pos / (10000 ** ((2 * i) / self.embedding_dim))))\n",
    "                positional_encoding[pos, i + 1] = torch.cos(torch.tensor(pos / (10000 ** ((2 * (i+1)) / self.embedding_dim))))\n",
    "        positional_encoding = positional_encoding.unsqueeze(0)\n",
    "        self.register_buffer('positional_encoding', positional_encoding)\n",
    "\n",
    "    def forward(self, x):\n",
    "        x = x * torch.sqrt(torch.tensor(self.embedding_dim))\n",
    "        sequence_len = x.size(1)\n",
    "        x = x + self.positional_encoding[:,:sequence_len]\n",
    "        return x\n",
    "\n",
    "class ScaledDotProductAttention(nn.Module):\n",
    "    def __init__(self, dim_embedding):\n",
    "        super().__init__()\n",
    "        self.dim_embedding = dim_embedding\n",
    "    \n",
    "    def forward(self, query, key, value, mask=None):\n",
    "        key_trasposed = key.transpose(-1,-2)\n",
    "        product = torch.matmul(query, key_trasposed)\n",
    "        scale = product / torch.sqrt(torch.tensor(self.dim_embedding))\n",
    "        if mask is not None:\n",
    "            scale = scale.masked_fill(mask == 0, float('-inf'))\n",
    "        attention_matrix = torch.softmax(scale, dim=-1)\n",
    "        output = torch.matmul(attention_matrix, value)\n",
    "        return output\n",
    "\n",
    "class MultiHeadAttention(nn.Module):\n",
    "    def __init__(self, heads, dim_embedding):\n",
    "        super().__init__()\n",
    "        \n",
    "        self.dim_embedding = dim_embedding\n",
    "        self.dim_proyection = dim_embedding // heads\n",
    "        self.heads = heads\n",
    "        self.proyection_Q = CustomLinear(dim_embedding, dim_embedding)\n",
    "        self.proyection_K = CustomLinear(dim_embedding, dim_embedding)\n",
    "        self.proyection_V = CustomLinear(dim_embedding, dim_embedding)\n",
    "        self.attention = CustomLinear(dim_embedding, dim_embedding)\n",
    "        self.scaled_dot_product_attention = ScaledDotProductAttention(self.dim_proyection)\n",
    "    \n",
    "    def forward(self, Q, K, V, mask=None):\n",
    "        batch_size = Q.size(0)\n",
    "        proyection_Q = self.proyection_Q(Q).view(batch_size, -1, self.heads, self.dim_proyection)\n",
    "        proyection_K = self.proyection_K(K).view(batch_size, -1, self.heads, self.dim_proyection)\n",
    "        proyection_V = self.proyection_V(V).view(batch_size, -1, self.heads, self.dim_proyection)\n",
    "        proyection_Q = proyection_Q.transpose(1,2)\n",
    "        proyection_K = proyection_K.transpose(1,2)\n",
    "        proyection_V = proyection_V.transpose(1,2)\n",
    "        scaled_dot_product_attention = self.scaled_dot_product_attention(proyection_Q, proyection_K, proyection_V, mask=mask)\n",
    "        concat = scaled_dot_product_attention.transpose(1,2).contiguous().view(batch_size, -1, self.dim_embedding)\n",
    "        output = self.attention(concat)\n",
    "        return output\n",
    "\n",
    "class AddAndNorm(nn.Module):\n",
    "    def __init__(self, dim_embedding):\n",
    "        super().__init__()\n",
    "        self.normalization = nn.LayerNorm(dim_embedding)\n",
    "\n",
    "    def forward(self, x, sublayer):\n",
    "        return self.normalization(torch.add(x, sublayer))\n",
    "\n",
    "class FeedForward(nn.Module):\n",
    "    def __init__(self, dim_embedding, increment=4):\n",
    "        super().__init__()\n",
    "        self.feed_forward = nn.Sequential(\n",
    "            CustomLinear(dim_embedding, dim_embedding*increment),\n",
    "            nn.ReLU(),\n",
    "            CustomLinear(dim_embedding*increment, dim_embedding)\n",
    "        )\n",
    "    \n",
    "    def forward(self, x):\n",
    "        x = self.feed_forward(x)\n",
    "        return x\n",
    "\n",
    "class Linear(nn.Module):\n",
    "    def __init__(self, dim_embedding, vocab_size):\n",
    "        super().__init__()\n",
    "        self.linear = CustomLinear(dim_embedding, vocab_size)\n",
    "        \n",
    "    def forward(self, x):\n",
    "        x = self.linear(x)\n",
    "        return x\n",
    "\n",
    "class Softmax(nn.Module):\n",
    "    def __init__(self):\n",
    "        super().__init__()\n",
    "        self.softmax = nn.Softmax(dim=1)\n",
    "        \n",
    "    def forward(self, x):\n",
    "        x = self.softmax(x)\n",
    "        return x\n",
    "\n",
    "class Dropout(torch.nn.Module):\n",
    "    def __init__(self, p=0.1):\n",
    "        super().__init__()\n",
    "        self.p = p\n",
    "\n",
    "    def forward(self, x):\n",
    "        if self.training:\n",
    "            return torch.nn.functional.dropout(x, p=self.p)\n",
    "        else:\n",
    "            return x\n"
   ]
  },
  {
   "cell_type": "markdown",
   "metadata": {},
   "source": [
    "### Clases de medio nivel"
   ]
  },
  {
   "cell_type": "code",
   "execution_count": 27,
   "metadata": {},
   "outputs": [],
   "source": [
    "class EncoderLayer(nn.Module):\n",
    "    def __init__(self, heads, dim_embedding, prob_dropout=0.1):\n",
    "        super().__init__()\n",
    "        self.multi_head_attention = MultiHeadAttention(heads, dim_embedding)\n",
    "        self.dropout_1 = Dropout(prob_dropout)\n",
    "        self.add_and_norm_1 = AddAndNorm(dim_embedding)\n",
    "        self.feed_forward = FeedForward(dim_embedding)\n",
    "        self.dropout_2 = Dropout(prob_dropout)\n",
    "        self.add_and_norm_2 = AddAndNorm(dim_embedding)\n",
    "    \n",
    "    def forward(self, x):\n",
    "        multi_head_attention = self.multi_head_attention(x, x, x)\n",
    "        dropout1 = self.dropout_1(multi_head_attention)\n",
    "        add_and_norm_1 = self.add_and_norm_1(x, dropout1)\n",
    "        feed_forward = self.feed_forward(add_and_norm_1)\n",
    "        dropout2 = self.dropout_2(feed_forward)\n",
    "        add_and_norm_2 = self.add_and_norm_2(add_and_norm_1, dropout2)\n",
    "        return add_and_norm_2\n",
    "\n",
    "class Encoder(nn.Module):\n",
    "    def __init__(self, heads, dim_embedding, Nx, prob_dropout=0.1):\n",
    "        super().__init__()\n",
    "        self.encoder_layers = nn.ModuleList([EncoderLayer(heads, dim_embedding, prob_dropout) for _ in range(Nx)])\n",
    "    \n",
    "    def forward(self, x):\n",
    "        for encoder_layer in self.encoder_layers:\n",
    "            x = encoder_layer(x)\n",
    "        return x\n",
    "\n",
    "class TransformerEncoder(nn.Module):\n",
    "    def __init__(self, vocab_size, dim_embedding, max_sequence_len, heads, Nx, prob_dropout=0.1):\n",
    "        super().__init__()\n",
    "        self.input_embedding = Embedding(vocab_size, dim_embedding)\n",
    "        self.positional_encoding = PositionalEncoding(max_sequence_len, dim_embedding)\n",
    "        self.encoder = Encoder(heads, dim_embedding, Nx, prob_dropout)\n",
    "    \n",
    "    def forward(self, x):\n",
    "        input_embedding = self.input_embedding(x)\n",
    "        positional_encoding = self.positional_encoding(input_embedding)\n",
    "        encoder = self.encoder(positional_encoding)\n",
    "        return encoder\n",
    "\n",
    "class DecoderLayer(nn.Module):\n",
    "    def __init__(self, heads, dim_embedding, prob_dropout=0.1):\n",
    "        super().__init__()\n",
    "        self.masked_multi_head_attention = MultiHeadAttention(heads, dim_embedding)\n",
    "        self.dropout_1 = Dropout(prob_dropout)\n",
    "        self.add_and_norm_1 = AddAndNorm(dim_embedding)\n",
    "        self.encoder_decoder_multi_head_attention = MultiHeadAttention(heads, dim_embedding)\n",
    "        self.dropout_2 = Dropout(prob_dropout)\n",
    "        self.add_and_norm_2 = AddAndNorm(dim_embedding)\n",
    "        self.feed_forward = FeedForward(dim_embedding)\n",
    "        self.dropout_3 = Dropout(prob_dropout)\n",
    "        self.add_and_norm_3 = AddAndNorm(dim_embedding)\n",
    "    \n",
    "    def forward(self, x, encoder_output, mask=None):\n",
    "        Q = x\n",
    "        K = x\n",
    "        V = x\n",
    "        masked_multi_head_attention = self.masked_multi_head_attention(Q, K, V, mask=mask)\n",
    "        dropout1 = self.dropout_1(masked_multi_head_attention)\n",
    "        add_and_norm_1 = self.add_and_norm_1(dropout1, x)\n",
    "\n",
    "        Q = add_and_norm_1\n",
    "        K = encoder_output\n",
    "        V = encoder_output\n",
    "        encoder_decoder_multi_head_attention = self.encoder_decoder_multi_head_attention(Q, K, V)\n",
    "        dropout2 = self.dropout_2(encoder_decoder_multi_head_attention)\n",
    "        add_and_norm_2 = self.add_and_norm_2(dropout2, add_and_norm_1)\n",
    "\n",
    "        feed_forward = self.feed_forward(add_and_norm_2)\n",
    "        dropout3 = self.dropout_3(feed_forward)\n",
    "        add_and_norm_3 = self.add_and_norm_3(dropout3, add_and_norm_2)\n",
    "\n",
    "        return add_and_norm_3\n",
    "\n",
    "class Decoder(nn.Module):\n",
    "    def __init__(self, heads, dim_embedding, Nx, prob_dropout=0.1):\n",
    "        super().__init__()\n",
    "        self.layers = nn.ModuleList([DecoderLayer(heads, dim_embedding, prob_dropout) for _ in range(Nx)])\n",
    "    \n",
    "    def forward(self, x, encoder_output, mask=None):\n",
    "        for decoder_layer in self.layers:\n",
    "            x = decoder_layer(x, encoder_output, mask)\n",
    "        return x\n",
    "\n",
    "class TransformerDecoder(nn.Module):\n",
    "    def __init__(self, heads, dim_embedding, Nx, vocab_size, max_sequence_len, prob_dropout=0.1):\n",
    "        super().__init__()\n",
    "        self.embedding = Embedding(vocab_size, dim_embedding)\n",
    "        self.positional_encoding = PositionalEncoding(max_sequence_len, dim_embedding)\n",
    "        self.decoder = Decoder(heads, dim_embedding, Nx, prob_dropout)\n",
    "        self.linear = Linear(dim_embedding, vocab_size)\n",
    "        # self.softmax = Softmax()\n",
    "    \n",
    "    def forward(self, x, encoder_output, mask=None):\n",
    "        x = self.embedding(x)\n",
    "        x = self.positional_encoding(x)\n",
    "        x = self.decoder(x, encoder_output, mask)\n",
    "        x = self.linear(x)\n",
    "        # x = self.softmax(x)\n",
    "        return x\n",
    "\n",
    "class Linear_and_softmax(nn.Module):\n",
    "    def __init__(self, dim_embedding, vocab_size):\n",
    "        super().__init__()\n",
    "        self.linear = CustomLinear(dim_embedding, vocab_size)\n",
    "        # self.softmax = Softmax()\n",
    "    \n",
    "    def forward(self, x):\n",
    "        x = self.linear(x)\n",
    "        # x = self.softmax(x)\n",
    "        return x\n"
   ]
  },
  {
   "cell_type": "markdown",
   "metadata": {},
   "source": [
    "### Clase de alto nivel"
   ]
  },
  {
   "cell_type": "code",
   "execution_count": 28,
   "metadata": {},
   "outputs": [],
   "source": [
    "class Transformer(nn.Module):\n",
    "    def __init__(self, src_vocab_size, tgt_vocab_size, src_max_seq_len, tgt_max_seq_len, dim_embedding, Nx, heads, prob_dropout=0.1):\n",
    "        super().__init__()\n",
    "        self.transformerEncoder = TransformerEncoder(src_vocab_size, dim_embedding, src_max_seq_len, heads, Nx, prob_dropout)\n",
    "        self.transformerDecoder = TransformerDecoder(heads, dim_embedding, Nx, tgt_vocab_size, tgt_max_seq_len, prob_dropout)\n",
    "        self.encoder = Encoder(heads, dim_embedding, Nx, prob_dropout)\n",
    "        self.decoder = Decoder(heads, dim_embedding, Nx, prob_dropout)\n",
    "        self.sourceEmbedding = Embedding(src_vocab_size, dim_embedding)\n",
    "        self.targetEmbedding = Embedding(tgt_vocab_size, dim_embedding)\n",
    "        self.sourcePositional_encoding = PositionalEncoding(src_max_seq_len, dim_embedding)\n",
    "        self.targetPositional_encoding = PositionalEncoding(tgt_max_seq_len, dim_embedding)\n",
    "        self.linear = Linear_and_softmax(dim_embedding, tgt_vocab_size)\n",
    "    \n",
    "    def encode(self, source):\n",
    "        embedding = self.sourceEmbedding(source)\n",
    "        positional_encoding = self.sourcePositional_encoding(embedding)\n",
    "        encoder_output = self.encoder(positional_encoding)\n",
    "        return encoder_output\n",
    "    \n",
    "    def decode(self, encoder_output, target, target_mask):\n",
    "        embedding = self.targetEmbedding(target)\n",
    "        positional_encoding = self.targetPositional_encoding(embedding)\n",
    "        decoder_output = self.decoder(positional_encoding, encoder_output, target_mask)\n",
    "        return decoder_output\n",
    "    \n",
    "    def projection(self, decoder_output):\n",
    "        linear_output = self.linear(decoder_output)\n",
    "        # softmax_output = self.softmax(linear_output)\n",
    "        return linear_output\n",
    "    \n",
    "    def forward(self, source, target, target_mask):\n",
    "        # Encode\n",
    "        embedding_encoder = self.sourceEmbedding(source)\n",
    "        positional_encoding_encoder = self.sourcePositional_encoding(embedding_encoder)\n",
    "        encoder_output = self.encoder(positional_encoding_encoder)\n",
    "\n",
    "        # Decode\n",
    "        embedding_decoder = self.targetEmbedding(target)\n",
    "        positional_encoding_decoder = self.targetPositional_encoding(embedding_decoder)\n",
    "        decoder_output = self.decoder(positional_encoding_decoder, encoder_output, target_mask)\n",
    "\n",
    "        # Projection\n",
    "        proj_output = self.linear(decoder_output)\n",
    "        return proj_output\n"
   ]
  },
  {
   "cell_type": "markdown",
   "metadata": {},
   "source": [
    "### Transformer"
   ]
  },
  {
   "cell_type": "code",
   "execution_count": 29,
   "metadata": {},
   "outputs": [
    {
     "name": "stdout",
     "output_type": "stream",
     "text": [
      "source vocab size: 30000, target vocab size: 30000, source max sequence len: 311, target max sequence len: 311, dim_embedding: 512, heads: 8, Nx: 6, prob_dropout: 0.1\n"
     ]
    },
    {
     "name": "stdout",
     "output_type": "stream",
     "text": [
      "\n"
     ]
    }
   ],
   "source": [
    "source_vocab_size = tokenizer_source.get_vocab_size()\n",
    "target_vocab_size = tokenizer_target.get_vocab_size()\n",
    "src_max_seq_len = max_sequence_len\n",
    "tgt_max_seq_len = max_sequence_len\n",
    "dim_embedding = DIM_EMBEDDING\n",
    "Nx = NUM_LAYERS\n",
    "heads = NUM_HEADS\n",
    "prob_dropout = DROPOUT\n",
    "print(f\"source vocab size: {source_vocab_size}, target vocab size: {target_vocab_size}, source max sequence len: {src_max_seq_len}, target max sequence len: {tgt_max_seq_len}, dim_embedding: {dim_embedding}, heads: {heads}, Nx: {Nx}, prob_dropout: {prob_dropout}\")\n",
    "\n",
    "model = Transformer(\n",
    "    src_vocab_size = source_vocab_size,\n",
    "    tgt_vocab_size = target_vocab_size,\n",
    "    src_max_seq_len = src_max_seq_len,\n",
    "    tgt_max_seq_len = tgt_max_seq_len,\n",
    "    dim_embedding = dim_embedding,\n",
    "    Nx = Nx,\n",
    "    heads = heads,\n",
    "    prob_dropout = prob_dropout,\n",
    ")\n",
    "\n",
    "model.to(device)\n",
    "print(\"\")"
   ]
  },
  {
   "cell_type": "code",
   "execution_count": 30,
   "metadata": {},
   "outputs": [],
   "source": [
    "# Data parallel\n",
    "# if torch.cuda.device_count() > 1 and GPUS > 1:\n",
    "#     number_gpus = torch.cuda.device_count()\n",
    "#     print(f\"Let's use {number_gpus} GPUs!\")\n",
    "#     transformer = nn.DataParallel(transformer)\n",
    "\n",
    "#     # def create_mask(sequence_len):\n",
    "#     #     mask = torch.tril(torch.ones((2*sequence_len, sequence_len)))\n",
    "#     #     return mask\n",
    "#     def create_mask(sequence_len):\n",
    "#         mask = torch.triu(torch.ones(1, 2*sequence_len, sequence_len), diagonal = 1).type(torch.int)\n",
    "#         return mask == 0\n",
    "# else:\n",
    "#     number_gpus = 1\n",
    "#     print(f\"Let's use {number_gpus} GPUs! GPU NUMBER: {GPU_NUMBER}\")\n",
    "    \n",
    "#     # def create_mask(sequence_len):\n",
    "#     #     mask = torch.tril(torch.ones((sequence_len, sequence_len)))\n",
    "#     #     return mask\n",
    "#     def create_mask(sequence_len):\n",
    "#         mask = torch.triu(torch.ones(1, sequence_len, sequence_len), diagonal = 1).type(torch.int)\n",
    "#         return mask == 0\n"
   ]
  },
  {
   "cell_type": "code",
   "execution_count": 31,
   "metadata": {},
   "outputs": [
    {
     "data": {
      "text/plain": [
       "torch.Size([1, 311, 311])"
      ]
     },
     "execution_count": 31,
     "metadata": {},
     "output_type": "execute_result"
    }
   ],
   "source": [
    "mask = create_mask(max_sequence_len)\n",
    "mask.shape"
   ]
  },
  {
   "cell_type": "markdown",
   "metadata": {},
   "source": [
    "## Entrenamiento"
   ]
  },
  {
   "cell_type": "markdown",
   "metadata": {},
   "source": [
    "### Optimizador ✔"
   ]
  },
  {
   "cell_type": "code",
   "execution_count": 32,
   "metadata": {},
   "outputs": [],
   "source": [
    "optimizer = torch.optim.Adam(model.parameters(), lr=LR, betas=(0.9, 0.98), eps=1e-9)"
   ]
  },
  {
   "cell_type": "markdown",
   "metadata": {},
   "source": [
    "### Función de pérdida ✔"
   ]
  },
  {
   "cell_type": "markdown",
   "metadata": {},
   "source": [
    "Creamos la función de pérdida con label smoothing"
   ]
  },
  {
   "cell_type": "code",
   "execution_count": 33,
   "metadata": {},
   "outputs": [],
   "source": [
    "loss_fn = nn.CrossEntropyLoss(\n",
    "    ignore_index = tokenizer_source.token_to_id(PADDING_TOKEN), \n",
    "    label_smoothing = LABEL_SMOOTHING).to(device)\n"
   ]
  },
  {
   "cell_type": "markdown",
   "metadata": {},
   "source": [
    "### LR ✔"
   ]
  },
  {
   "cell_type": "code",
   "execution_count": 34,
   "metadata": {},
   "outputs": [],
   "source": [
    "class Step():\n",
    "    def __init__(self):\n",
    "        self.step = 0\n",
    "    \n",
    "    def set_step(self, st):\n",
    "        self.step = st\n",
    "    \n",
    "    def get_step(self):\n",
    "        return int(self.step)\n",
    "\n",
    "class LearningRate():\n",
    "    def __init__(self):\n",
    "        self.lr = 0\n",
    "    \n",
    "    def set_lr(self, l_r_):\n",
    "        self.lr = l_r_\n",
    "    \n",
    "    def get_lr(self):\n",
    "        return self.lr\n",
    "\n",
    "actual_step = Step()\n",
    "actual_lr = LearningRate()"
   ]
  },
  {
   "cell_type": "markdown",
   "metadata": {},
   "source": [
    "Ahora vamos a crear la función que calcula el learning rate en función del step. Como vimos, en el paper dicen que usan la fórmula\n",
    "\n",
    "$$lr = d_{model}^{-0.5} \\cdot min \\left(stepNumber^{-0.5}, stepNumber \\cdot stepWarmUp^{-1.5} \\right)$$\n",
    "\n",
    "Sin embargo, con nuestro batch size y el número de épocas, el learning rate evolucionaría así"
   ]
  },
  {
   "cell_type": "code",
   "execution_count": 35,
   "metadata": {},
   "outputs": [
    {
     "data": {
      "image/png": "[encoded data removed]",
      "text/plain": [
       "<Figure size 640x480 with 1 Axes>"
      ]
     },
     "metadata": {},
     "output_type": "display_data"
    }
   ],
   "source": [
    "import numpy as np\n",
    "import matplotlib.pyplot as plt\n",
    "\n",
    "warmup_steps = 4000\n",
    "num_steps_by_epoch = len(train_dataloader)\n",
    "step_num = np.arange(1, EPOCHS*num_steps_by_epoch, 10)\n",
    "step_num_exp = -0.5\n",
    "warmup_steps_exp = -1.5\n",
    "dim_embedding_exp = -0.5\n",
    "lr = np.power(dim_embedding, dim_embedding_exp) * np.minimum(np.power(step_num, step_num_exp), step_num * np.power(warmup_steps, warmup_steps_exp))\n",
    "\n",
    "plt.plot(step_num, lr)\n",
    "plt.xlabel('step_num')\n",
    "plt.ylabel('lr')\n",
    "plt.ylim(0, 0.0014)\n",
    "plt.show()"
   ]
  },
  {
   "cell_type": "markdown",
   "metadata": {},
   "source": [
    "Como se puede ver sube muy rápido y luego baja muy rápido a un valor tan pequeño que es casi como si no hubiera learning rate. Por lo que los pesos de la red neuronal apenas se van a actualizar. Por lo que probando voy a usar esta fórmula\n",
    "\n",
    "$$lr = d_{model}^{-0.1} \\cdot min \\left(stepNumber^{-0.4}, stepNumber \\cdot stepWarmUp^{-2.6} \\right)$$\n",
    "\n",
    "Con lo que el learning rate evolucionaría así"
   ]
  },
  {
   "cell_type": "code",
   "execution_count": 36,
   "metadata": {},
   "outputs": [
    {
     "data": {
      "image/png": "[encoded data removed]",
      "text/plain": [
       "<Figure size 640x480 with 1 Axes>"
      ]
     },
     "metadata": {},
     "output_type": "display_data"
    }
   ],
   "source": [
    "warmup_steps = 4000\n",
    "num_steps_by_epoch = len(train_dataloader)\n",
    "step_num = np.arange(1, EPOCHS*num_steps_by_epoch, 10)\n",
    "step_num_exp = -0.4\n",
    "warmup_steps_exp = -2.6\n",
    "dim_embedding_exp = -0.1\n",
    "lr = np.power(dim_embedding, dim_embedding_exp) * np.minimum(np.power(step_num, step_num_exp), step_num * np.power(warmup_steps, warmup_steps_exp))\n",
    "\n",
    "plt.plot(step_num, lr)\n",
    "plt.xlabel('step_num')\n",
    "plt.ylabel('lr')\n",
    "plt.ylim(0, 0.0014)\n",
    "plt.show()"
   ]
  },
  {
   "cell_type": "code",
   "execution_count": 37,
   "metadata": {},
   "outputs": [],
   "source": [
    "import numpy as np\n",
    "\n",
    "def calculate_lr(step_num, dim_embeding_model=512, warmup_steps=4000):\n",
    "    step_num += 1e-7 # Avoid division by zero\n",
    "    step_num += STEP0\n",
    "    actual_step.set_step(step_num)\n",
    "    step_num_exp = -0.4\n",
    "    warmup_steps_exp = -2.6\n",
    "    dim_embeding_model_exp = -0.1\n",
    "    lr = np.power(dim_embeding_model, dim_embeding_model_exp) * np.minimum(np.power(step_num, step_num_exp), step_num * np.power(warmup_steps, warmup_steps_exp))\n",
    "    actual_lr.set_lr(lr)\n",
    "    return lr\n",
    "\n",
    "lr_lambda = lambda step: calculate_lr(step, dim_embeding_model=dim_embedding)\n",
    "if LR_SCHEDULER:\n",
    "    lr_scheduler = torch.optim.lr_scheduler.LambdaLR(optimizer, lr_lambda)"
   ]
  },
  {
   "cell_type": "markdown",
   "metadata": {},
   "source": [
    "### Validation loop ✔"
   ]
  },
  {
   "cell_type": "code",
   "execution_count": 38,
   "metadata": {},
   "outputs": [],
   "source": [
    "def greedy_decode(model, source, tokenizer_tgt, max_len, device, bs):\n",
    "    # Retrieving the indices from the start and end of sequences of the target tokens\n",
    "    sos_idx = tokenizer_tgt.token_to_id('[SOS]')    # Start of Sentence token index (2)\n",
    "    # eos_idx = tokenizer_tgt.token_to_id('[EOS]')    # End of Sentence token index (3)\n",
    "\n",
    "    # Computing the output of the encoder for the source sequence\n",
    "    encoder_output = model.encode(source)\n",
    "    \n",
    "    # Initializing the decoder input with the Start of Sentence token\n",
    "    decoder_input = torch.empty(bs,1).fill_(sos_idx).type_as(source).to(device)\n",
    "    \n",
    "    # Looping until the 'max_len', maximum length, is reached\n",
    "    while True:\n",
    "        if decoder_input.size(1) == max_len:\n",
    "            break\n",
    "            \n",
    "        # Building a mask for the decoder input\n",
    "        decoder_mask = create_mask(decoder_input.size(1)).to(device)\n",
    "        \n",
    "        # Calculating the output of the decoder\n",
    "        out = model.decode(encoder_output, decoder_input, decoder_mask)\n",
    "        \n",
    "        # Applying the projection layer to get the probabilities for the next token\n",
    "        prob = model.projection(out[:, -1])\n",
    "\n",
    "        # Selecting token with the highest probability\n",
    "        _, next_word = torch.max(prob, dim=1)\n",
    "        # decoder_input = torch.cat([decoder_input, torch.empty(1,1). type_as(source).fill_(next_word.item()).to(device)], dim=1)\n",
    "        decoder_input = torch.cat([decoder_input, next_word.unsqueeze(1)], dim=1)\n",
    "    \n",
    "    if len(decoder_input.shape) == 1:\n",
    "        decoder_input = decoder_input.unsqueeze(0)\n",
    "    elif len(decoder_input.shape) == 3:\n",
    "        decoder_input = decoder_input.squeeze(0)\n",
    "\n",
    "    return decoder_input # Sequence of tokens generated by the decoder\n"
   ]
  },
  {
   "cell_type": "code",
   "execution_count": 39,
   "metadata": {},
   "outputs": [],
   "source": [
    "from tqdm import tqdm\n",
    "\n",
    "import nltk\n",
    "from nltk.translate.bleu_score import sentence_bleu\n",
    "from nltk.translate.meteor_score import meteor_score\n",
    "\n",
    "def validation_loop(model, validation_ds, tokenizer_tgt, max_len, device):\n",
    "    model.eval() # Setting model to evaluation mode\n",
    "\n",
    "    # Calculating the number of batches in the validation dataset\n",
    "    dataset_size = len(validation_ds.dataset)  # Tamaño total del conjunto de datos\n",
    "    batch_size = validation_ds.batch_size      # Tamaño del batch\n",
    "    drop_last = validation_ds.drop_last        # Configuración de drop_last\n",
    "    num_batches = len(validation_ds)           # Número total de batches\n",
    "\n",
    "    # Calculating the total number of samples in the validation dataset\n",
    "    total_samples = batch_size * (num_batches - 1) + min(batch_size, dataset_size % batch_size)\n",
    "\n",
    "    # If drop_last is False and the dataset size is not divisible by the batch size, we need to add one more batch\n",
    "    if drop_last and dataset_size % batch_size != 0:\n",
    "        total_samples -= dataset_size % batch_size\n",
    "\n",
    "    # Initializing progress bar\n",
    "    progress_bar = tqdm(range(total_samples), desc = 'Processing validation examples') # Initializing progress bar\n",
    "\n",
    "    # Initializing lists to store scores\n",
    "    bleu_scores = []\n",
    "    meteor_scores = []\n",
    "    \n",
    "    # Creating evaluation loop\n",
    "    with torch.no_grad(): # Ensuring that no gradients are computed during this process\n",
    "        for batch in validation_ds:\n",
    "            # Loading input data and masks onto the GPU\n",
    "            encoder_input = batch['encoder_input'].to(device)\n",
    "            \n",
    "            # Applying the 'greedy_decode' function to get the model's output for the source text of the input batch\n",
    "            num_samples = len(batch['src_text'])\n",
    "            model_out_bs = greedy_decode(model, encoder_input, tokenizer_tgt, max_len, device, num_samples)\n",
    "\n",
    "            # Get metrics for every example in the batch\n",
    "            for i in range(num_samples):\n",
    "                source_text = batch['src_text'][i]\n",
    "                target_text = batch['tgt_text'][i]\n",
    "                model_out_i = model_out_bs[i]\n",
    "                model_out_text = tokenizer_tgt.decode(model_out_i.detach().cpu().numpy())\n",
    "\n",
    "                # Calculating metrics\n",
    "                references = [target_text.split()]\n",
    "                hypothesis = model_out_text.split()\n",
    "                bleu_score = sentence_bleu(references, hypothesis)\n",
    "                meteor_score_value = meteor_score(references, hypothesis)\n",
    "            \n",
    "                # Appending scores to lists\n",
    "                bleu_scores.append(bleu_score)\n",
    "                meteor_scores.append(meteor_score_value)\n",
    "\n",
    "                # Calculating mean scores            \n",
    "                mean_bleu_score = sum(bleu_scores)/len(bleu_scores) # Calculating mean BLEU score\n",
    "                mean_meteor_score = sum(meteor_scores)/len(meteor_scores) # Calculating mean METEOR score\n",
    "\n",
    "                # Updating progress bar and printing bleu and meteor scores\n",
    "                progress_bar.update(1)\n",
    "                progress_bar.set_postfix({'BLEU': f'{mean_bleu_score:.9f}', 'METEOR': f'{mean_meteor_score:.9f}'})\n",
    "\n",
    "    # Printing results\n",
    "    console_width = 80 # Fixed witdh for printed messages\n",
    "    print('-'*console_width)\n",
    "    print(f'SOURCE: {source_text}')\n",
    "    print(f'TARGET: {target_text}')\n",
    "    print(f'PREDICTED: {model_out_text}')\n",
    "    print('-'*console_width)\n",
    "\n",
    "    return mean_bleu_score, mean_meteor_score\n"
   ]
  },
  {
   "cell_type": "markdown",
   "metadata": {},
   "source": [
    "### Train loop ✔"
   ]
  },
  {
   "cell_type": "code",
   "execution_count": 40,
   "metadata": {},
   "outputs": [],
   "source": [
    "def train_loop(model, train_dataloader, device, tokenizer_target, epoch, loss_fn, optimizer, lr_scheduler=None):\n",
    "    # Initializing an iterator over the training dataloader\n",
    "    # We also use tqdm to display a progress bar\n",
    "    print()\n",
    "    batch_iterator = tqdm(train_dataloader, desc = f'Processing epoch {epoch:02d}')\n",
    "    \n",
    "    # For each batch...\n",
    "    for batch in batch_iterator:\n",
    "        model.train() # Train the model\n",
    "            \n",
    "        # Loading input data and masks onto the GPU\n",
    "        encoder_input = batch['encoder_input'].to(device)\n",
    "        decoder_input = batch['decoder_input'].to(device)\n",
    "        decoder_mask = create_mask(decoder_input.size(1)).to(device)\n",
    "        \n",
    "        # Running tensors through the Transformer\n",
    "        proj_output = model(encoder_input, decoder_input, decoder_mask)\n",
    "        \n",
    "        # Loading the target labels onto the GPU\n",
    "        label = batch['label'].to(device)\n",
    "        \n",
    "        # Computing loss between model's output and true labels\n",
    "        loss = loss_fn(proj_output.view(-1, tokenizer_target.get_vocab_size()), label.view(-1))\n",
    "        \n",
    "        # Updating progress bar, print loss and lr\n",
    "        batch_iterator.set_postfix({'loss': f'{loss.item():.6f}', 'lr': f'{actual_lr.get_lr():.9f}'})\n",
    "        \n",
    "        # Performing backpropagation\n",
    "        loss.backward()\n",
    "        \n",
    "        # Updating parameters based on the gradients\n",
    "        optimizer.step()\n",
    "        \n",
    "        # Clearing the gradients to prepare for the next batch\n",
    "        optimizer.zero_grad()\n",
    "\n",
    "        # Update step and LR\n",
    "        if LR_SCHEDULER:\n",
    "            lr_scheduler.step()\n",
    "        \n",
    "    return loss.item(), actual_lr.get_lr()"
   ]
  },
  {
   "cell_type": "markdown",
   "metadata": {},
   "source": [
    "### Train"
   ]
  },
  {
   "cell_type": "code",
   "execution_count": 41,
   "metadata": {},
   "outputs": [],
   "source": [
    "import time\n",
    "\n",
    "def elapsed_time(t0):\n",
    "    t = time.time() - t0  # tiempo transcurrido en segundos\n",
    "\n",
    "    # Convertir el tiempo a días, horas, minutos y segundos\n",
    "    days, t = divmod(t, 86400)  # 86400 segundos en un día\n",
    "    hours, t = divmod(t, 3600)  # 3600 segundos en una hora\n",
    "    minutes, seconds = divmod(t, 60)  # 60 segundos en un minuto\n",
    "\n",
    "    return int(days), int(hours), int(minutes), int(seconds)\n",
    "\n",
    "def elapsed_seconds(days, hours, minutes, seconds):\n",
    "    return days * 86400 + hours * 3600 + minutes * 60 + seconds\n"
   ]
  },
  {
   "cell_type": "code",
   "execution_count": 42,
   "metadata": {},
   "outputs": [
    {
     "name": "stdout",
     "output_type": "stream",
     "text": [
      "Starting training from epoch 0 and step 0, best bleu: 1e-20\n"
     ]
    }
   ],
   "source": [
    "if EPOCH0 != 0 or STEP0 != 0:\n",
    "    weights = f\"{MODEL_PATH}/transformer_{EPOCH0}_{STEP0}.pth\"\n",
    "    print(f\"Loading model from {weights}\")\n",
    "    if GPUS > 1:\n",
    "        model.load_state_dict(torch.load(weights))\n",
    "    else:\n",
    "        model = torch.load(weights, map_location=device)\n",
    "        if isinstance(model, nn.DataParallel):\n",
    "            print(\"Transforming model from data parallel to model\")\n",
    "            model = model.module\n",
    "    print(f\"Model loaded from {weights}\")\n",
    "\n",
    "    validation_file_path = f\"{MODEL_PATH}/best_validation_bleu_{EPOCH0}_{STEP0}.npy\"\n",
    "    print(f\"load best validation loss from {validation_file_path}\")\n",
    "    best_bleu = np.load(validation_file_path)\n",
    "    print(f\"best validation meteor: {best_bleu}\")\n",
    "else:\n",
    "    best_bleu = 1e-20\n",
    "\n",
    "print(f\"Starting training from epoch {EPOCH0} and step {STEP0}, best bleu: {best_bleu}\")\n"
   ]
  },
  {
   "cell_type": "code",
   "execution_count": 43,
   "metadata": {},
   "outputs": [],
   "source": [
    "train_loss_list = []\n",
    "train_lr_list = []\n",
    "validation_meteor_list = []\n",
    "validation_bleu_list = []\n",
    "\n",
    "train_loss_list = np.array(train_loss_list)\n",
    "train_lr_list = np.array(train_lr_list)\n",
    "validation_meteor_list = np.array(validation_meteor_list)\n",
    "validation_bleu_list = np.array(validation_bleu_list)"
   ]
  },
  {
   "cell_type": "code",
   "execution_count": 44,
   "metadata": {},
   "outputs": [
    {
     "name": "stdout",
     "output_type": "stream",
     "text": [
      "\n",
      "Epoch 0\n",
      "-------------------------------, 0 days, 0 hours, 0 minutes, 0 seconds\n",
      "\n"
     ]
    },
    {
     "name": "stderr",
     "output_type": "stream",
     "text": [
      "Processing epoch 00: 100%|██████████| 572/572 [05:13<00:00,  1.82it/s, loss=7.469092, lr=0.000000000]\n",
      "Processing validation examples: 100%|██████████| 324/324 [01:28<00:00,  3.66it/s, BLEU=0.000000000, METEOR=0.000000000] \n"
     ]
    },
    {
     "name": "stdout",
     "output_type": "stream",
     "text": [
      "--------------------------------------------------------------------------------\n",
      "SOURCE: Superstition was with me at that moment; but it was not yet her hour for complete victory: my blood was still warm; the mood of the revolted slave was still bracing me with its bitter vigour; I had to stem a rapid rush of retrospective thought before I quailed to the dismal present.\n",
      "TARGET: La superstizione si era insinuata nell'anima mia in quel momento; ma essa non trionfava ancora; il sangue mi correva ancora caldo nelle vene; la rabbia della schiava ribelle mi animava ancora con il suo amaro vigore; dovevo trattenere la rapida corsa del pensiero verso il passato prima di lasciarmi abbattere dallo sgomento del presente.\n",
      "PREDICTED: , , , , , , , , , , , , , , , , , , , , , , , , , , , , , , , , , , , , , , , , , , , , , , , , , , , , , , , , , , , , , , , , , , , , , , , , , , , , , , , , , , , , , , , , , , , , , , , , , , , , , , , , , , , , , , , , , , , , , , , , , , , , , , , , , , , , , , , , , , , , , , , , , , , , , , , , , , , , , , , , , , , , , , , , , , , , , , , , , , , , , , , , , , , , , , , , , , , , , , , , , , , , , , , , , , , , , , , , , , , , , , , , , , , , , , , , , , , , , , , , , , , , , , , , , , , , , , , , , , , , , , , , , , , , , , , , , , , , , , , , , , , , , , , , , , , , , , , , , , , , , , , , , , , , , ,\n",
      "--------------------------------------------------------------------------------\n",
      "\n",
      "Epoch 1\n",
      "-------------------------------, 0 days, 0 hours, 6 minutes, 42 seconds\n",
      "\n"
     ]
    },
    {
     "name": "stderr",
     "output_type": "stream",
     "text": [
      "Processing epoch 01: 100%|██████████| 572/572 [05:14<00:00,  1.82it/s, loss=7.034576, lr=0.000000000]\n",
      "Processing validation examples:   1%|          | 3/324 [00:14<1:19:32, 14.87s/it, BLEU=0.000000000, METEOR=0.000000000]/home/wallabot/miniconda3/envs/cursopytorch/lib/python3.10/site-packages/nltk/translate/bleu_score.py:552: UserWarning: \n",
      "The hypothesis contains 0 counts of 2-gram overlaps.\n",
      "Therefore the BLEU score evaluates to 0, independently of\n",
      "how many N-gram overlaps of lower order it contains.\n",
      "Consider using lower n-gram order or use SmoothingFunction()\n",
      "  warnings.warn(_msg)\n",
      "/home/wallabot/miniconda3/envs/cursopytorch/lib/python3.10/site-packages/nltk/translate/bleu_score.py:552: UserWarning: \n",
      "The hypothesis contains 0 counts of 3-gram overlaps.\n",
      "Therefore the BLEU score evaluates to 0, independently of\n",
      "how many N-gram overlaps of lower order it contains.\n",
      "Consider using lower n-gram order or use SmoothingFunction()\n",
      "  warnings.warn(_msg)\n",
      "/home/wallabot/miniconda3/envs/cursopytorch/lib/python3.10/site-packages/nltk/translate/bleu_score.py:552: UserWarning: \n",
      "The hypothesis contains 0 counts of 4-gram overlaps.\n",
      "Therefore the BLEU score evaluates to 0, independently of\n",
      "how many N-gram overlaps of lower order it contains.\n",
      "Consider using lower n-gram order or use SmoothingFunction()\n",
      "  warnings.warn(_msg)\n",
      "Processing validation examples: 100%|██████████| 324/324 [01:26<00:00,  3.73it/s, BLEU=0.000000000, METEOR=0.018993971] \n"
     ]
    },
    {
     "name": "stdout",
     "output_type": "stream",
     "text": [
      "--------------------------------------------------------------------------------\n",
      "SOURCE: After sitting a while longer, and musing what I should do in this case, I was not able to bear sitting in ignorance longer; so setting up my ladder to the side of the hill, where there was a flat place, as I observed before, and then pulling the ladder after me, I set it up again and mounted the top of the hill, and pulling out my perspective glass, which I had taken on purpose, I laid me down flat on my belly on the ground, and began to look for the place.\n",
      "TARGET: Dopo essere restato qualche tempo di più in tale perplessità, meditando che cosa si potesse fare nel caso mio, non fui buono di durarla più lungamente e di rimanere per maggior tempo all’oscuro delle cose. Posata quindi la mia scala al lato del monte su cui stava uno spianato, come già dissi, vi salii, poi tiratami da presso la mia scala, me ne valsi per salire la cima del monte; indi livellato il mio cannocchiale, che avea preso meco a tal fine, mi gettai boccone a terra e cominciai a riguardare sul luogo dianzi notato.\n",
      "PREDICTED: , , , , , , , , , , , , , , , , , , , , , , , , , , , , , , , , , , , , , , , , , , , , , , , , , , , , , , , , , , , , , , , , , , , , , , , , , , , , , , , , , , , , , , , , , , , , , , , , , , , , , , , , , , , , , , , , , , , , , , , , , , , , , , , , , , , , , , , , , , , , , , , , , , , , , , , , , , , , , , , , , , , , , , , , , , , , , , , , , , , , , , , , , , , , , , , , , , , , , , , , , , , , , , , , , , , , , , , , , , , , , , , , , , , , , , , , , , , , , , , , , , , , , , , , , , , , , , , , , , , , , , , , , , , , , , , , , , , , , , , , , , , , , , , , , , , , , , , , , , , , , , , , , , , , , ,\n",
      "--------------------------------------------------------------------------------\n",
      "\n",
      "Epoch 2\n",
      "-------------------------------, 0 days, 0 hours, 13 minutes, 23 seconds\n",
      "\n"
     ]
    },
    {
     "name": "stderr",
     "output_type": "stream",
     "text": [
      "Processing epoch 02: 100%|██████████| 572/572 [05:14<00:00,  1.82it/s, loss=7.107856, lr=0.000000000]\n",
      "Processing validation examples: 100%|██████████| 324/324 [01:27<00:00,  3.71it/s, BLEU=0.000000000, METEOR=0.023416849] \n"
     ]
    },
    {
     "name": "stdout",
     "output_type": "stream",
     "text": [
      "--------------------------------------------------------------------------------\n",
      "SOURCE: They had hardly entered the marsh when both dogs began searching together and started off toward a rusty-looking spot in the marsh.\n",
      "TARGET: Erano appena entrati nella palude, che tutti e due i cani cominciarono a cercare insieme e si spinsero verso l’acqua rugginosa.\n",
      "PREDICTED: Il , , , , , , , , , , , , , , , , , , , , , , , , , ,\n",
      "--------------------------------------------------------------------------------\n",
      "\n",
      "Epoch 3\n",
      "-------------------------------, 0 days, 0 hours, 20 minutes, 5 seconds\n",
      "\n"
     ]
    },
    {
     "name": "stderr",
     "output_type": "stream",
     "text": [
      "Processing epoch 03: 100%|██████████| 572/572 [05:14<00:00,  1.82it/s, loss=6.809515, lr=0.000000000]\n",
      "Processing validation examples: 100%|██████████| 324/324 [01:27<00:00,  3.70it/s, BLEU=0.000000000, METEOR=0.024851000] \n"
     ]
    },
    {
     "name": "stdout",
     "output_type": "stream",
     "text": [
      "--------------------------------------------------------------------------------\n",
      "SOURCE: 'I don't know,' she said. 'She said we were not to have any lessons, but must walk with Miss Hull to Grandmamma's.'\n",
      "TARGET: — Non so — disse. — Non ha detto di studiare, ha detto di andare a spasso con miss Hull dalla nonna.\n",
      "PREDICTED: — Non — — — — — — — — — — — — — — — — — — — — — — — — — — — — — — — — — — — — — — — — — — — — — — — — — — — — — — — — — — — — — — — — — — — — — — — — — — — — — — — — — — — — — — — — — — — — — — — — — — — — — — — — — — — — — — — — — — — — — — — — — — — — — — — — — — — — — — — — — — — — — — — — — — — — — — — — — — — — — — — — — — — — — — — — — — — — — — — — — — — — — — — — — — — — — — — — — — — — — — — — — — — — — — — — — — — — — — — — — — — — — — — — — — — — — — — — — — — — — — — — — — — — — — — — — — — — — — — — — — — — — — — — — — — — — — — — — — — — — — — — — — — — — — — — — — — — — — — — — — — — — — — — — — — —\n",
      "--------------------------------------------------------------------------------\n",
      "\n",
      "Epoch 4\n",
      "-------------------------------, 0 days, 0 hours, 26 minutes, 48 seconds\n",
      "\n"
     ]
    },
    {
     "name": "stderr",
     "output_type": "stream",
     "text": [
      "Processing epoch 04: 100%|██████████| 572/572 [05:14<00:00,  1.82it/s, loss=6.801328, lr=0.000000000]\n",
      "Processing validation examples: 100%|██████████| 324/324 [01:27<00:00,  3.69it/s, BLEU=0.000000000, METEOR=0.022875576] \n"
     ]
    },
    {
     "name": "stdout",
     "output_type": "stream",
     "text": [
      "--------------------------------------------------------------------------------\n",
      "SOURCE: I was loth to spend our shot too hastily; so I called my servant, not my man Friday, for he was better employed, for, with the greatest dexterity imaginable, he had charged my fusee and his own while we were engaged—but, as I said, I called my other man, and giving him a horn of powder, I had him lay a train all along the piece of timber, and let it be a large train.\n",
      "TARGET: Rimastine abbrustoliti quelli che erano sul pancone, sei o sette di essi caddero; ma i più balzati dalla paura e dal bruciore del fuoco, spiccarono un salto entro la nostra trincea, ove facemmo presto a spacciarli. I lupi di fuori spaventati da tale vampa improvvisa che il buio della notte già sopraggiunto rendea più spaventosa, rincularono un poco.\n",
      "PREDICTED: La , , , , , , , , , , , , , , , , , , , , , , , , , , , , , , , , , , , , , , , , , , , , , , , , , , , , , , , , , , , , , , , , , , , , , , , , , , , , , , , , , , , , , , , , , , , , , , , , , , , , , , , , , , , , , , , , , , , , , , , , , , , , , , , , , , , , , , , , , , , , , , , , , , , , , , , , , , , , , , , , , , , , , , , , , , , , , , , , , , , , , , , , , , , , , , , , , , , , , , , , , , , , , , , , , , , , , , , , , , , , , , , , , , , , , , , , , , , , , , , , , , , , , , , , , , , , , , , , , , , , , , , , , , , , , , , , , , , , , , , , , , , , , , , , , , , , , , , , , , , , , , , , , , , , ,\n",
      "--------------------------------------------------------------------------------\n",
      "\n",
      "Epoch 5\n",
      "-------------------------------, 0 days, 0 hours, 33 minutes, 30 seconds\n",
      "\n"
     ]
    },
    {
     "name": "stderr",
     "output_type": "stream",
     "text": [
      "Processing epoch 05: 100%|██████████| 572/572 [05:14<00:00,  1.82it/s, loss=6.449796, lr=0.000000000]\n",
      "Processing validation examples: 100%|██████████| 324/324 [01:27<00:00,  3.69it/s, BLEU=0.000000000, METEOR=0.019091548] \n"
     ]
    },
    {
     "name": "stdout",
     "output_type": "stream",
     "text": [
      "--------------------------------------------------------------------------------\n",
      "SOURCE: \"Much better, sir; I shall be well soon.\"\n",
      "TARGET: — Molto meglio, signore. Fra poco non avrò altro.\n",
      "PREDICTED: — Non , , , , , , , , , , , , , , , . . . . . . . .\n",
      "--------------------------------------------------------------------------------\n",
      "\n",
      "Epoch 6\n",
      "-------------------------------, 0 days, 0 hours, 40 minutes, 13 seconds\n",
      "\n"
     ]
    },
    {
     "name": "stderr",
     "output_type": "stream",
     "text": [
      "Processing epoch 06: 100%|██████████| 572/572 [05:14<00:00,  1.82it/s, loss=6.801692, lr=0.000000000]\n",
      "Processing validation examples: 100%|██████████| 324/324 [01:27<00:00,  3.69it/s, BLEU=0.000000000, METEOR=0.020456138] \n"
     ]
    },
    {
     "name": "stdout",
     "output_type": "stream",
     "text": [
      "--------------------------------------------------------------------------------\n",
      "SOURCE: I daresay it is only a rat scrambling along the rafters of the adjoining schoolroom: it was a barn before I had it repaired and altered, and barns are generally haunted by rats.\n",
      "TARGET: Sarà un topo che rosica il muro della scuola; prima che la facessi restaurare era un granaio e i topi bazzicano nei granai.\n",
      "PREDICTED: \" , , , , , , , , , , , , , , , , , , , , , , , , , , , , , , , , , , , , , , , , , , , , , , , , , , , , , , , , , , , , , , , , , , , , , , , , , , , , , , , , , , , , , , , , , , , , , , , , , , , , , , , , , , , , , , , , , , , , , , , , , , , , , , , , , , , , , , , , , , , , , , , , , , , , , , , , , , , , , , , , , , , , , , , , , , , , , , , , , , , , , , , , , , , , , , , , , , , , , , , , , , , , , , , , , , , , , , , , , , , , , , , , , , , , , , , , , , , , , , , , , , , , , , , , , , , , , , , , , , , , , , , , , , , , , , , , , , , , , , , , , , , , , , , , , , , , , , , , , , , , , , , , , , , ,\n",
      "--------------------------------------------------------------------------------\n",
      "\n",
      "Epoch 7\n",
      "-------------------------------, 0 days, 0 hours, 46 minutes, 55 seconds\n",
      "\n"
     ]
    },
    {
     "name": "stderr",
     "output_type": "stream",
     "text": [
      "Processing epoch 07: 100%|██████████| 572/572 [05:14<00:00,  1.82it/s, loss=6.743566, lr=0.000000000]\n",
      "Processing validation examples: 100%|██████████| 324/324 [01:27<00:00,  3.69it/s, BLEU=0.000000000, METEOR=0.021843579] \n"
     ]
    },
    {
     "name": "stdout",
     "output_type": "stream",
     "text": [
      "--------------------------------------------------------------------------------\n",
      "SOURCE: Everything about his face and figure – from his black closely-cropped hair and freshly-shaven chin to his wide, brand-new uniform – was simple and at the same time elegant.\n",
      "TARGET: Nel viso e nella persona di lui, dai capelli neri dal taglio corto e dal mento rasato di fresco fino all’uniforme ampia e nuova fiammante, tutto era semplice e nello stesso tempo elegante.\n",
      "PREDICTED: Il , , , , , , , , , , , , , , , , , , , , , , , , , , , , , , , , , , , , , , , , , , , , , , , , , , , , , , , , , , , , , , , , , , , , , , , , , , , , , , , , , , , , , , , , , , , , , , , , , , , , , , , , , , , , , , , , , , , , , , , , , , , , , , , , , , , , , , , , , , , , , , , , , , , , , , , , , , , , , , , , , , , , , , , , , , , , , , , , , , , , , , , , , , , , , , , , , , , , , , , , , , , , , , , , , , , , , , , , , , , , , , , , , , , , , , , , , , , , , , , , , , , , , , , , , , , , , , , , , , , , , , , , , , , , , , , , , , , , , , , , , , , , , , , , , , , , , , , , , , , , , , , , , , , , ,\n",
      "--------------------------------------------------------------------------------\n",
      "\n",
      "Epoch 8\n",
      "-------------------------------, 0 days, 0 hours, 53 minutes, 38 seconds\n",
      "\n"
     ]
    },
    {
     "name": "stderr",
     "output_type": "stream",
     "text": [
      "Processing epoch 08: 100%|██████████| 572/572 [05:15<00:00,  1.81it/s, loss=6.785760, lr=0.000000000]\n",
      "Processing validation examples: 100%|██████████| 324/324 [01:28<00:00,  3.68it/s, BLEU=0.000000000, METEOR=0.020965884] \n"
     ]
    },
    {
     "name": "stdout",
     "output_type": "stream",
     "text": [
      "--------------------------------------------------------------------------------\n",
      "SOURCE: Stepping lightly and glancing repeatedly at her husband, showing him a brave face full of sympathy she entered the sick-room, and, turning without haste, noiselessly closed the door.\n",
      "TARGET: Con passo leggero, guardando sempre il marito e mostrandogli un viso coraggioso e compassionevole, ella entrò nella stanza del malato e, voltatasi con calma, chiuse l’uscio senza far rumore.\n",
      "PREDICTED: Il , , , , , , , , , , , , , , , , , , , , , , , , , , , , , , , , , , , , , , , , , , , , , , , , , , , , , , , , , , , , , , , , , , , , , , , , , , , , , , , , , , , , , , , , , , , , , , , , , , , , , , , , , , , , , , , , , , , , , , , , , , , , , , , , , , , , , , , , , , , , , , , , , , , , , , , , , , , , , , , , , , , , , , , , , , , , , , , , , , , , , , , , , , , , , , , , , , , , , , , , , , , , , , , , , , , , , , , , , , , , , , , , , , , , , , , , , , , , , , , , , , , , , , , , , , , , , , , , , , , , , , , , , , , , , , , , , , , , , , , , , , , , , , , , , , , , , , , , , , , , , , , , , , , , ,\n",
      "--------------------------------------------------------------------------------\n",
      "\n",
      "Epoch 9\n",
      "-------------------------------, 0 days, 1 hours, 0 minutes, 22 seconds\n",
      "\n"
     ]
    },
    {
     "name": "stderr",
     "output_type": "stream",
     "text": [
      "Processing epoch 09: 100%|██████████| 572/572 [05:14<00:00,  1.82it/s, loss=6.531263, lr=0.000000000]\n",
      "Processing validation examples: 100%|██████████| 324/324 [01:27<00:00,  3.69it/s, BLEU=0.000000000, METEOR=0.024868403] \n"
     ]
    },
    {
     "name": "stdout",
     "output_type": "stream",
     "text": [
      "--------------------------------------------------------------------------------\n",
      "SOURCE: The Shcherbatskys' hall-porter certainly knew everything.\n",
      "TARGET: Il portiere degli Šcerbackij sapeva tutto certamente.\n",
      "PREDICTED: Il ’ ’ ’ ’ ’ ’ ’ ’ ’ il il il il il il il il il il di ’ ’ ’ ’ ’ ’ ’ ’ ’ il di di . . . . . . . . . . . . . . . . . . . . . . . . . . . . . . . . . . . . . . . . . . . . .\n",
      "--------------------------------------------------------------------------------\n",
      "\n",
      "Epoch 10\n",
      "-------------------------------, 0 days, 1 hours, 7 minutes, 4 seconds\n",
      "\n"
     ]
    },
    {
     "name": "stderr",
     "output_type": "stream",
     "text": [
      "Processing epoch 10: 100%|██████████| 572/572 [05:15<00:00,  1.82it/s, loss=6.461578, lr=0.000000000]\n",
      "Processing validation examples: 100%|██████████| 324/324 [01:27<00:00,  3.69it/s, BLEU=0.000000000, METEOR=0.033156920] \n"
     ]
    },
    {
     "name": "stdout",
     "output_type": "stream",
     "text": [
      "--------------------------------------------------------------------------------\n",
      "SOURCE: His head drooped and he remained silent, unable to speak.\n",
      "TARGET: Egli abbassò il capo e tacque. Non poteva dir nulla.\n",
      "PREDICTED: La si si si e , e e e e e e e e e e e e e e e e e e e e e e e e e e e . . . . . . . . . . . . . . . . . . . . . . . . . . . . . .\n",
      "--------------------------------------------------------------------------------\n",
      "\n",
      "Epoch 11\n",
      "-------------------------------, 0 days, 1 hours, 13 minutes, 47 seconds\n",
      "\n"
     ]
    },
    {
     "name": "stderr",
     "output_type": "stream",
     "text": [
      "Processing epoch 11: 100%|██████████| 572/572 [05:14<00:00,  1.82it/s, loss=6.421533, lr=0.000000000]\n",
      "Processing validation examples: 100%|██████████| 324/324 [01:27<00:00,  3.69it/s, BLEU=0.000000000, METEOR=0.036125736] \n"
     ]
    },
    {
     "name": "stdout",
     "output_type": "stream",
     "text": [
      "--------------------------------------------------------------------------------\n",
      "SOURCE: Shaking this off with a gasp and a struggle, I uplifted myself upon the pillows, and, peering earnestly within the intense darkness of the chamber, hearkened—I know not why, except that an instinctive spirit prompted me—to certain low and indefinite sounds which came, through the pauses of the storm, at long intervals, I knew not whence.\n",
      "TARGET: Respirai con energia, feci uno sforzo, ed arrivai a scuotermi; e sollevandomi sui cuscini, e figgendo ardentemente lo sguardo nella fitta oscurità della camera, tesi l'orecchio, non saprei dire perchè, se non mi ci spinse una forza istintiva, a certi suoni bassi e vaghi che partivano non so di dove, e che m'arrivavano a lunghi intervalli, traverso i riposi della tempesta.\n",
      "PREDICTED: , ' , ' , e , e , e , e , e , e , e , e , e , e , e , ' , ' , ' , ' , ' , ' , ' , ' , ' , ' , ' , ' , ' , ' , ' , ' , ' , ' , ' , ' , , ' , ' , ' , ' , , , ' , , , , , ' , ' , , ' , ' , , , , , , , ' , ' , ' , , ' , ' . , , , , , , , , , , , , , , , ' , , . , , , ' , , , , , , , , , , , , , , . , , , , , , , , , , , ' , ' , ' , , , , , , , , , , . , , , , , ,\n",
      "--------------------------------------------------------------------------------\n",
      "\n",
      "Epoch 12\n",
      "-------------------------------, 0 days, 1 hours, 20 minutes, 30 seconds\n",
      "\n"
     ]
    },
    {
     "name": "stderr",
     "output_type": "stream",
     "text": [
      "Processing epoch 12: 100%|██████████| 572/572 [05:15<00:00,  1.82it/s, loss=6.205577, lr=0.000000000]\n",
      "Processing validation examples: 100%|██████████| 324/324 [01:27<00:00,  3.70it/s, BLEU=0.000000000, METEOR=0.047200807] \n"
     ]
    },
    {
     "name": "stdout",
     "output_type": "stream",
     "text": [
      "--------------------------------------------------------------------------------\n",
      "SOURCE: Levin's arrival at the beginning of the winter, his frequent visits and evident love for Kitty gave rise to her parents' first serious deliberation as to her future and to disputes between them.\n",
      "TARGET: L’apparizione di Levin al principio dell’inverno, le visite frequenti e il suo evidente amore per Kitty erano stato l’oggetto dei primi discorsi seri fra i genitori di Kitty sul suo avvenire, e di litigi fra il principe e la principessa.\n",
      "PREDICTED: Il , ’ , e la , e la , e la , e la , e la , e la , e , e , e , e di . , ’ , ’ . . . . . . . . . . . . . . . . . . . . . .\n",
      "--------------------------------------------------------------------------------\n",
      "\n",
      "Epoch 13\n",
      "-------------------------------, 0 days, 1 hours, 27 minutes, 12 seconds\n",
      "\n"
     ]
    },
    {
     "name": "stderr",
     "output_type": "stream",
     "text": [
      "Processing epoch 13: 100%|██████████| 572/572 [05:15<00:00,  1.81it/s, loss=6.539275, lr=0.000000000]\n",
      "Processing validation examples: 100%|██████████| 324/324 [01:27<00:00,  3.69it/s, BLEU=0.000000000, METEOR=0.042868092] \n"
     ]
    },
    {
     "name": "stdout",
     "output_type": "stream",
     "text": [
      "--------------------------------------------------------------------------------\n",
      "SOURCE: How stern you look now!\n",
      "TARGET: Ci rinunciate così presto?\n",
      "PREDICTED: Come ! ! — ! ! ! ! ! ! ! ! ! ! ! ! ! ! ! ! ! ! ! ! ! ! ! ! ! ! ! ! ! ! ! ! ! ! ! ! ! ! ! ! ! ! ! ! ! ! ! ! ! !\n",
      "--------------------------------------------------------------------------------\n",
      "\n",
      "Epoch 14\n",
      "-------------------------------, 0 days, 1 hours, 33 minutes, 55 seconds\n",
      "\n"
     ]
    },
    {
     "name": "stderr",
     "output_type": "stream",
     "text": [
      "Processing epoch 14: 100%|██████████| 572/572 [05:14<00:00,  1.82it/s, loss=6.333810, lr=0.000000000]\n",
      "Processing validation examples: 100%|██████████| 324/324 [01:27<00:00,  3.70it/s, BLEU=0.000000000, METEOR=0.051057528] \n"
     ]
    },
    {
     "name": "stdout",
     "output_type": "stream",
     "text": [
      "--------------------------------------------------------------------------------\n",
      "SOURCE: There is, it must be confessed, something very sad about the early efforts of an amateur in bagpipes.\n",
      "TARGET: V’è, bisogna confessarlo, qualche cosa di molto triste nei primi esercizî d’un dilettante di cornamusa.\n",
      "PREDICTED: È un è un è un un un un un un un un un un un un un un un un un un un un un un un un un un un un un un un un un un un un un un un un un un un un un un un un un un un un un un un un un un un un un un un un un un un un un un un un un un un un un un un un un un un un un un un un un un un un un un un un un un un un un un un un un un un un un un un un un un un un un un un un un un un un un un un un un un un un un un un un un un un un un un un un un un un un un un un un un un un un un un un un un un un un un un un un un un un un un un un un un un un un un un un un un un un un un un un un un un un un un un un un un un un un un un un un un un un un un un un un un un un un un un un un un un un un un un un un un un un un un un un un un un un un un un un un un un un un un un un un un un un un un un un un un un un un un un un un un un un un un un un un un un un un un un un un un un un un un un un un un un un un un un un un un\n",
      "--------------------------------------------------------------------------------\n",
      "\n",
      "Epoch 15\n",
      "-------------------------------, 0 days, 1 hours, 40 minutes, 37 seconds\n",
      "\n"
     ]
    },
    {
     "name": "stderr",
     "output_type": "stream",
     "text": [
      "Processing epoch 15: 100%|██████████| 572/572 [05:14<00:00,  1.82it/s, loss=6.409299, lr=0.000000000]\n",
      "Processing validation examples: 100%|██████████| 324/324 [01:27<00:00,  3.70it/s, BLEU=0.000000000, METEOR=0.052595492] \n"
     ]
    },
    {
     "name": "stdout",
     "output_type": "stream",
     "text": [
      "--------------------------------------------------------------------------------\n",
      "SOURCE: The night was coming on, and the light began to be dusky, which made it worse on our side; but the noise increasing, we could easily perceive that it was the howling and yelling of those hellish creatures; and on a sudden we perceived three troops of wolves, one on our left, one behind us, and one in our front, so that we seemed to be surrounded with them: however, as they did not fall upon us, we kept our way forward, as fast as we could make our horses go, which, the way being very rough, was only a good hard trot.\n",
      "TARGET: Cominciava ad imbrunire, perchè s’avvicinava la notte a far la nostra condizione più trista, e lo strepito crescea sempre di più, quando ci accorgemmo che derivava tuttavia da ululati di quelle diaboliche creature. In un subito ne vedemmo tre branchi, uno a sinistra, l’altro a destra, il terzo a fronte di noi, sì che potevamo dire d’essere accerchiati dai lupi.\n",
      "PREDICTED: , , ma il , ma , ma il , ma , ma , ma , ma , ma , ma , ma , ma , ma , ma , ma , ma , ma , ma , ma , ma , ma , ma , ma , ma , ma , ma , ma , e , e , e , e , e , e , e , e , e , e , e , e , e , e , e , e , e , e , e , e , e , e , e , e , e , e , e , e , e , e , e , e , e , e . , , , , , , , , , , , , , , , , , , , , , , , , , , , , , , , , , , . , , , , , , , , , , , , , , , , ,\n",
      "--------------------------------------------------------------------------------\n",
      "\n",
      "Epoch 16\n",
      "-------------------------------, 0 days, 1 hours, 47 minutes, 20 seconds\n",
      "\n"
     ]
    },
    {
     "name": "stderr",
     "output_type": "stream",
     "text": [
      "Processing epoch 16: 100%|██████████| 572/572 [05:14<00:00,  1.82it/s, loss=6.130496, lr=0.000000000]\n",
      "Processing validation examples: 100%|██████████| 324/324 [01:27<00:00,  3.70it/s, BLEU=0.000000000, METEOR=0.058936079] \n"
     ]
    },
    {
     "name": "stdout",
     "output_type": "stream",
     "text": [
      "--------------------------------------------------------------------------------\n",
      "SOURCE: 'Go to Mariette,' she said to Serezha, who had come out after her, and she began pacing up and down the straw matting of the verandah.\n",
      "TARGET: — Va’, va’ da Mariette — disse a Serëza che l’aveva seguita, e si mise a camminare sulla stuoia della terrazza.\n",
      "PREDICTED: — E , disse — disse , disse , disse , disse , disse , disse , e la la . . . . . . . . . . . . . . .\n",
      "--------------------------------------------------------------------------------\n",
      "\n",
      "Epoch 17\n",
      "-------------------------------, 0 days, 1 hours, 54 minutes, 2 seconds\n",
      "\n"
     ]
    },
    {
     "name": "stderr",
     "output_type": "stream",
     "text": [
      "Processing epoch 17: 100%|██████████| 572/572 [05:14<00:00,  1.82it/s, loss=6.243798, lr=0.000000000]\n",
      "Processing validation examples: 100%|██████████| 324/324 [01:27<00:00,  3.69it/s, BLEU=0.000000000, METEOR=0.053625930] \n"
     ]
    },
    {
     "name": "stdout",
     "output_type": "stream",
     "text": [
      "--------------------------------------------------------------------------------\n",
      "SOURCE: No, I am sick of it.\n",
      "TARGET: No, m’è venuto a noia.\n",
      "PREDICTED: No , non ho ho . . . . . . . .\n",
      "--------------------------------------------------------------------------------\n",
      "\n",
      "Epoch 18\n",
      "-------------------------------, 0 days, 2 hours, 0 minutes, 44 seconds\n",
      "\n"
     ]
    },
    {
     "name": "stderr",
     "output_type": "stream",
     "text": [
      "Processing epoch 18: 100%|██████████| 572/572 [05:14<00:00,  1.82it/s, loss=5.987699, lr=0.000000000]\n",
      "Processing validation examples: 100%|██████████| 324/324 [01:27<00:00,  3.70it/s, BLEU=0.000000000, METEOR=0.058611960] \n"
     ]
    },
    {
     "name": "stdout",
     "output_type": "stream",
     "text": [
      "--------------------------------------------------------------------------------\n",
      "SOURCE: Help me!\"... These horses, this carriage, how horrid it is of me to be in this carriage – they are all his, but I shall not see them any more.'\n",
      "TARGET: Questi cavalli, questo carrozzino, come mi vedo ripugnante in questo carrozzino. Tutto è suo, ma non vedrò più nulla”.\n",
      "PREDICTED: Ma , è , , ma , ma , ma , ma , ma , ma , ma , ma . , è , è , è . , è , è , è , è , è , è . , è , è , è , è , è . , è , è , è , è , è . , è , è , è , è , è , è . , è , è , è , è , è , è . , è , è , è , è , è , è . , è , è , è , è , è , è . , è , è , è , è . , è , è , è . , è . , è , è , è . , è . , è , è , è , è . , è . , è , è . , è , è , è , , , è , è , è , è , è , è , è , è , è , è , è , è , è , è , è , è , , , , , è , è ,\n",
      "--------------------------------------------------------------------------------\n",
      "\n",
      "Epoch 19\n",
      "-------------------------------, 0 days, 2 hours, 7 minutes, 27 seconds\n",
      "\n"
     ]
    },
    {
     "name": "stderr",
     "output_type": "stream",
     "text": [
      "Processing epoch 19: 100%|██████████| 572/572 [05:14<00:00,  1.82it/s, loss=6.076156, lr=0.000000000]\n",
      "Processing validation examples: 100%|██████████| 324/324 [01:27<00:00,  3.69it/s, BLEU=0.000000000, METEOR=0.055120511] \n"
     ]
    },
    {
     "name": "stdout",
     "output_type": "stream",
     "text": [
      "--------------------------------------------------------------------------------\n",
      "SOURCE: Before quitting him for ever, I will tell him everything.\n",
      "TARGET: Prima di partire per sempre gli dirò tutto.\n",
      "PREDICTED: Io non , non lui , non lui , e non lui , non lui . . . . . . . . . . . . . . . . . . . . . . . . . . . . . . . . . . . . . . . . . . . . . . . . . . . . . . . . . . . . . . . . . . . . . . .\n",
      "--------------------------------------------------------------------------------\n",
      "\n",
      "Epoch 20\n",
      "-------------------------------, 0 days, 2 hours, 14 minutes, 8 seconds\n",
      "\n"
     ]
    },
    {
     "name": "stderr",
     "output_type": "stream",
     "text": [
      "Processing epoch 20: 100%|██████████| 572/572 [05:14<00:00,  1.82it/s, loss=5.982708, lr=0.000000000]\n",
      "Processing validation examples: 100%|██████████| 324/324 [01:27<00:00,  3.70it/s, BLEU=0.000000000, METEOR=0.062735590] \n"
     ]
    },
    {
     "name": "stdout",
     "output_type": "stream",
     "text": [
      "--------------------------------------------------------------------------------\n",
      "SOURCE: At that moment Agatha Mikhaylovna came in with some jam.\n",
      "TARGET: In quel momento entrò Agaf’ja Michajlovna con la marmellata.\n",
      "PREDICTED: Il ja ja ja ja ja ja ja ja ja ja ja ja ja ja ja ja ja ja ja ja ja ja ja ja ja ja ja ja ja ja ja ja ja ja ja ja ja ja ja ja ja ja ja ja ja ja ja ja ja ja ja ja ja ja ja ja ja ja ja ja ja ja ja ja ja ja ja ja ja ja ja ja ja ja ja ja ja ja ja ja ja ja ja ja ja ja ja ja ja ja ja ja ja ja ja ja ja ja ja ja ja ja ja ja ja ja ja ja ja ja ja ja ja ja ja ja ja ja ja ja ja ja ja ja ja ja ja ja ja ja ja ja ja ja ja ja ja ja ja ja ja ja ja ja ja ja ja ja ja ja ja ja ja ja ja ja ja ja ja ja ja ja ja ja ja ja ja ja ja ja ja ja ja ja ja ja ja ja ja ja ja ja ja ja ja ja ja ja ja ja ja ja ja ja ja ja ja ja ja ja ja ja ja ja ja ja ja ja ja ja ja ja ja ja ja ja ja ja ja ja ja ja ja ja ja ja ja ja ja ja ja ja ja ja ja ja ja ja ja ja ja ja ja ja ja ja ja ja ja ja ja ja ja ja ja ja ja ja ja ja ja ja ja ja ja ja ja ja ja ja ja ja ja ja ja ja ja ja ja ja ja ja ja ja ja ja ja ja ja ja ja ja ja ja ja ja ja ja ja ja ja ja ja ja ja ja ja ja ja\n",
      "--------------------------------------------------------------------------------\n",
      "\n",
      "Epoch 21\n",
      "-------------------------------, 0 days, 2 hours, 20 minutes, 50 seconds\n",
      "\n"
     ]
    },
    {
     "name": "stderr",
     "output_type": "stream",
     "text": [
      "Processing epoch 21: 100%|██████████| 572/572 [05:14<00:00,  1.82it/s, loss=6.051060, lr=0.000000000]\n",
      "Processing validation examples: 100%|██████████| 324/324 [01:27<00:00,  3.70it/s, BLEU=0.000000000, METEOR=0.065861947] \n"
     ]
    },
    {
     "name": "stdout",
     "output_type": "stream",
     "text": [
      "--------------------------------------------------------------------------------\n",
      "SOURCE: You won't have got your hat before I am back.'\n",
      "TARGET: Non farai in tempo a metterti il cappello che sarò qui.\n",
      "PREDICTED: Non ho la a . . . . . . . .\n",
      "--------------------------------------------------------------------------------\n",
      "\n",
      "Epoch 22\n",
      "-------------------------------, 0 days, 2 hours, 27 minutes, 32 seconds\n",
      "\n"
     ]
    },
    {
     "name": "stderr",
     "output_type": "stream",
     "text": [
      "Processing epoch 22: 100%|██████████| 572/572 [05:14<00:00,  1.82it/s, loss=6.100922, lr=0.000000000]\n",
      "Processing validation examples: 100%|██████████| 324/324 [01:27<00:00,  3.70it/s, BLEU=0.000000000, METEOR=0.063711427] \n"
     ]
    },
    {
     "name": "stdout",
     "output_type": "stream",
     "text": [
      "--------------------------------------------------------------------------------\n",
      "SOURCE: Hannah, the servant, was my most frequent visitor. Her coming disturbed me. I had a feeling that she wished me away: that she did not understand me or my circumstances; that she was prejudiced against me.\n",
      "TARGET: Anna era quella che mi visitava più spesso; non mi faceva piacere di vederla, perché capivo che avrebbe voluto che me ne andassi, che non comprendeva la mia posizione ed era mal disposta verso di me.\n",
      "PREDICTED: \" La mia mia mia mia mia mia mia mia mia mia mia mia mia mia mia mia mia mia mia mia , ma mi mia che mi mia che mi mia . . . . . . . .\n",
      "--------------------------------------------------------------------------------\n",
      "\n",
      "Epoch 23\n",
      "-------------------------------, 0 days, 2 hours, 34 minutes, 14 seconds\n",
      "\n"
     ]
    },
    {
     "name": "stderr",
     "output_type": "stream",
     "text": [
      "Processing epoch 23: 100%|██████████| 572/572 [05:14<00:00,  1.82it/s, loss=5.968872, lr=0.000000000]\n",
      "Processing validation examples: 100%|██████████| 324/324 [01:27<00:00,  3.69it/s, BLEU=0.000000000, METEOR=0.064153126] \n"
     ]
    },
    {
     "name": "stdout",
     "output_type": "stream",
     "text": [
      "--------------------------------------------------------------------------------\n",
      "SOURCE: In a little while, however, she again heard a little pattering of footsteps in the distance, and she looked up eagerly, half hoping that the Mouse had changed his mind, and was coming back to finish his story.\n",
      "TARGET: Ma alcuni momenti dopo avvertì di nuovo uno scalpiccio in lontananza, e guardò fissamente nella speranza che il Topo, dopo averci ripensato, tornasse per finire il suo racconto.\n",
      "PREDICTED: La , e la , e la , e la , e la , e la , e la , e la , e la , e la , e la , e la , e la , . , , , , , , e la . , , , , , , , . , , , . , , , . , . , , , . , . . . . . . . . . . . . . . . . . . . . . . . . . . . . . . . . . . . . . . . .\n",
      "--------------------------------------------------------------------------------\n",
      "\n",
      "Epoch 24\n",
      "-------------------------------, 0 days, 2 hours, 40 minutes, 57 seconds\n",
      "\n"
     ]
    },
    {
     "name": "stderr",
     "output_type": "stream",
     "text": [
      "Processing epoch 24: 100%|██████████| 572/572 [05:13<00:00,  1.82it/s, loss=5.945724, lr=0.000000000]\n",
      "Processing validation examples: 100%|██████████| 324/324 [01:27<00:00,  3.70it/s, BLEU=0.000000000, METEOR=0.062325448] \n"
     ]
    },
    {
     "name": "stdout",
     "output_type": "stream",
     "text": [
      "--------------------------------------------------------------------------------\n",
      "SOURCE: He was an intelligent and remarkably kind fellow.\n",
      "TARGET: Era un uomo intelligente e buono in modo straordinario.\n",
      "PREDICTED: Era un donna , e era un donna . . . . . . . . . . . . . . . . . . . . . . . . . . . . . . . . . . . . . .\n",
      "--------------------------------------------------------------------------------\n",
      "\n",
      "Epoch 25\n",
      "-------------------------------, 0 days, 2 hours, 47 minutes, 38 seconds\n",
      "\n"
     ]
    },
    {
     "name": "stderr",
     "output_type": "stream",
     "text": [
      "Processing epoch 25: 100%|██████████| 572/572 [05:13<00:00,  1.83it/s, loss=5.579867, lr=0.000000000]\n",
      "Processing validation examples: 100%|██████████| 324/324 [01:27<00:00,  3.70it/s, BLEU=0.000147001, METEOR=0.061707211] \n"
     ]
    },
    {
     "name": "stdout",
     "output_type": "stream",
     "text": [
      "--------------------------------------------------------------------------------\n",
      "SOURCE: When they had reached the wood Levin got down and led Oblonsky to the corner of a mossy and marshy glade, already free from snow.\n",
      "TARGET: Giunti al bosco, Levin accompagnò Oblonskij all’angolo di una radura coperta di musco e di fango, già sgombra di neve.\n",
      "PREDICTED: Levin Levin , Levin , Levin , Levin , Levin , Levin , Levin , Levin a a a . . . . . .\n",
      "--------------------------------------------------------------------------------\n",
      "\n",
      "Epoch 26\n",
      "-------------------------------, 0 days, 2 hours, 54 minutes, 18 seconds\n",
      "\n"
     ]
    },
    {
     "name": "stderr",
     "output_type": "stream",
     "text": [
      "Processing epoch 26: 100%|██████████| 572/572 [05:13<00:00,  1.83it/s, loss=5.686766, lr=0.000000000]\n",
      "Processing validation examples: 100%|██████████| 324/324 [01:27<00:00,  3.70it/s, BLEU=0.000184096, METEOR=0.068143336] \n"
     ]
    },
    {
     "name": "stdout",
     "output_type": "stream",
     "text": [
      "--------------------------------------------------------------------------------\n",
      "SOURCE: \"Much better, sir; I shall be well soon.\"\n",
      "TARGET: — Molto meglio, signore. Fra poco non avrò altro.\n",
      "PREDICTED: — Sì , signore , signore . . . . . . . . . . . . .\n",
      "--------------------------------------------------------------------------------\n",
      "\n",
      "Epoch 27\n",
      "-------------------------------, 0 days, 3 hours, 0 minutes, 59 seconds\n",
      "\n"
     ]
    },
    {
     "name": "stderr",
     "output_type": "stream",
     "text": [
      "Processing epoch 27: 100%|██████████| 572/572 [05:13<00:00,  1.83it/s, loss=5.487133, lr=0.000000000]\n",
      "Processing validation examples: 100%|██████████| 324/324 [01:27<00:00,  3.70it/s, BLEU=0.000153635, METEOR=0.070090846] \n"
     ]
    },
    {
     "name": "stdout",
     "output_type": "stream",
     "text": [
      "--------------------------------------------------------------------------------\n",
      "SOURCE: 'I am much flattered that you remember my words so well, Countess,' replied Levin who had had time to recover his self-possession, resuming immediately and by force of habit his banteringly hostile relation with her. 'They evidently produced a strong impression on you.'\n",
      "TARGET: — Sono molto lusingato, contessa, che ricordiate le mie parole — rispose Levin che si era affrettato a rimettersi, entrando subito, per abitudine, nei suoi rapporti di scherzosa inimicizia con la contessa Nordston. — Evidentemente, esse hanno fatto molto effetto su di voi.\n",
      "PREDICTED: — Io , sono la madre — disse — disse , disse , disse , , , , , , con la madre , che la madre , che la madre , che la madre , che la madre . , che sono la madre . , che sono la madre . . . . . . . . . . . . . . . . . . . . . . . . . . . .\n",
      "--------------------------------------------------------------------------------\n",
      "\n",
      "Epoch 28\n",
      "-------------------------------, 0 days, 3 hours, 7 minutes, 40 seconds\n",
      "\n"
     ]
    },
    {
     "name": "stderr",
     "output_type": "stream",
     "text": [
      "Processing epoch 28: 100%|██████████| 572/572 [05:13<00:00,  1.83it/s, loss=5.992270, lr=0.000000000]\n",
      "Processing validation examples: 100%|██████████| 324/324 [01:27<00:00,  3.71it/s, BLEU=0.000137133, METEOR=0.070904694] \n"
     ]
    },
    {
     "name": "stdout",
     "output_type": "stream",
     "text": [
      "--------------------------------------------------------------------------------\n",
      "SOURCE: 'I must be going!' he said, moving toward the door.\n",
      "TARGET: — Oh, è già ora — e andò verso la porta.\n",
      "PREDICTED: — Ebbene , disse , disse il porta , e la porta alla porta . . . . . . . . . . . . . . . . . . . . . .\n",
      "--------------------------------------------------------------------------------\n",
      "\n",
      "Epoch 29\n",
      "-------------------------------, 0 days, 3 hours, 14 minutes, 21 seconds\n",
      "\n"
     ]
    },
    {
     "name": "stderr",
     "output_type": "stream",
     "text": [
      "Processing epoch 29: 100%|██████████| 572/572 [05:12<00:00,  1.83it/s, loss=5.885407, lr=0.000000000]\n",
      "Processing validation examples: 100%|██████████| 324/324 [01:27<00:00,  3.71it/s, BLEU=0.000155981, METEOR=0.068992220] \n"
     ]
    },
    {
     "name": "stdout",
     "output_type": "stream",
     "text": [
      "--------------------------------------------------------------------------------\n",
      "SOURCE: Since his brother's arrival, however, he was in doubt whether to go mowing or not.\n",
      "TARGET: Da quando era arrivato il fratello era in dubbio: falciare o no?\n",
      "PREDICTED: Il giorno , non non aveva un giorno , ma il suo suo suo suo suo suo suo suo suo suo suo suo suo suo suo suo suo suo suo suo suo suo suo suo suo suo suo suo suo suo suo suo suo suo suo suo suo suo . . . . . . . . . . . . . . .\n",
      "--------------------------------------------------------------------------------\n",
      "\n",
      "Epoch 30\n",
      "-------------------------------, 0 days, 3 hours, 21 minutes, 1 seconds\n",
      "\n"
     ]
    },
    {
     "name": "stderr",
     "output_type": "stream",
     "text": [
      "Processing epoch 30: 100%|██████████| 572/572 [05:13<00:00,  1.83it/s, loss=5.925578, lr=0.000000000]\n",
      "Processing validation examples: 100%|██████████| 324/324 [01:27<00:00,  3.70it/s, BLEU=0.000000000, METEOR=0.068928008] \n"
     ]
    },
    {
     "name": "stdout",
     "output_type": "stream",
     "text": [
      "--------------------------------------------------------------------------------\n",
      "SOURCE: You will not be my comforter, my rescuer?\n",
      "TARGET: Non volete essere il mio conforto, la mia salvatrice?\n",
      "PREDICTED: Non mi la mia mia mia mia mia mia mia mia mia mia ? ?\n",
      "--------------------------------------------------------------------------------\n",
      "\n",
      "Epoch 31\n",
      "-------------------------------, 0 days, 3 hours, 27 minutes, 41 seconds\n",
      "\n"
     ]
    },
    {
     "name": "stderr",
     "output_type": "stream",
     "text": [
      "Processing epoch 31: 100%|██████████| 572/572 [05:12<00:00,  1.83it/s, loss=5.702632, lr=0.000000000]\n",
      "Processing validation examples: 100%|██████████| 324/324 [01:27<00:00,  3.70it/s, BLEU=0.000140917, METEOR=0.075081191] \n"
     ]
    },
    {
     "name": "stdout",
     "output_type": "stream",
     "text": [
      "--------------------------------------------------------------------------------\n",
      "SOURCE: How lucky you are, Anna,' said Dolly. 'Everything in your soul is clear and good.'\n",
      "TARGET: Come sei felice, Anna! — disse Dolly. — Nell’anima tua tutto è limpido e bello.\n",
      "PREDICTED: — Ma , è Anna — disse Anna . — Ma tu tu tu tu tu tu tu tu tu tu tu tu tu tu tu tu tu tu tu tu tu tu tu tu tu tu tu tu tu tu tu tu tu tu tu tu tu tu tu tu tu tu tu tu tu tu tu tu tu tu tu tu tu tu è bene . , è questo è questo è questo è questo è questo è questo è questo è tutto . . . . . . . . . . . . . . . . . . . . . . . . . . . . . . .\n",
      "--------------------------------------------------------------------------------\n",
      "\n",
      "Epoch 32\n",
      "-------------------------------, 0 days, 3 hours, 34 minutes, 22 seconds\n",
      "\n"
     ]
    },
    {
     "name": "stderr",
     "output_type": "stream",
     "text": [
      "Processing epoch 32: 100%|██████████| 572/572 [05:12<00:00,  1.83it/s, loss=5.453832, lr=0.000000000]\n",
      "Processing validation examples: 100%|██████████| 324/324 [01:27<00:00,  3.70it/s, BLEU=0.000171716, METEOR=0.072684375] \n"
     ]
    },
    {
     "name": "stdout",
     "output_type": "stream",
     "text": [
      "--------------------------------------------------------------------------------\n",
      "SOURCE: But whereas Oblonsky's sleep would, he imagined, have offended them – he did not really even think this, for everything seemed so strange – Landau's sleep delighted them extremely, especially Lydia Ivanovna.\n",
      "TARGET: Ma il sonno di Stepan Arkad’ic, come egli pensava, li avrebbe offesi (ormai non pensava neanche più questo, tanto ormai gli sembrava tutto strano), e il sonno di Landau, invece, li rallegrò straordinariamente, in particolare rallegrò la contessa Lidija Ivanovna.\n",
      "PREDICTED: Ma , Stepan Arkad ’ ic , e , non non non non non non non non non non non non non non non non non non non non non non non non più più più più più . . . . . . . . . . . . . . . . . . . . . . . . . . . . . .\n",
      "--------------------------------------------------------------------------------\n",
      "\n",
      "Epoch 33\n",
      "-------------------------------, 0 days, 3 hours, 41 minutes, 2 seconds\n",
      "\n"
     ]
    },
    {
     "name": "stderr",
     "output_type": "stream",
     "text": [
      "Processing epoch 33: 100%|██████████| 572/572 [05:13<00:00,  1.83it/s, loss=5.539295, lr=0.000000000]\n",
      "Processing validation examples: 100%|██████████| 324/324 [01:27<00:00,  3.70it/s, BLEU=0.000119487, METEOR=0.072550707] \n"
     ]
    },
    {
     "name": "stdout",
     "output_type": "stream",
     "text": [
      "--------------------------------------------------------------------------------\n",
      "SOURCE: It was too far to send to the Shcherbatskys', so they sent out to buy one; but as it was Sunday all the shops had closed early.\n",
      "TARGET: Avevano mandato a comprare una camicia. Il servitore era tornato indietro: era tutto chiuso, perché era domenica.\n",
      "PREDICTED: Il vecchio era il bambini , ma era il bambini , era il bambini , e era un bambini , era un bambini , era un bambini , e era un bambini , era un ’ era . . . . . . . . . . . . . . . . . . . . . . . . . . . . . . . . . . . . . . . . . . . . . . . . .\n",
      "--------------------------------------------------------------------------------\n",
      "\n",
      "Epoch 34\n",
      "-------------------------------, 0 days, 3 hours, 47 minutes, 43 seconds\n",
      "\n"
     ]
    },
    {
     "name": "stderr",
     "output_type": "stream",
     "text": [
      "Processing epoch 34: 100%|██████████| 572/572 [05:12<00:00,  1.83it/s, loss=5.713125, lr=0.000000000]\n",
      "Processing validation examples: 100%|██████████| 324/324 [01:27<00:00,  3.71it/s, BLEU=0.000000000, METEOR=0.074224837] \n"
     ]
    },
    {
     "name": "stdout",
     "output_type": "stream",
     "text": [
      "--------------------------------------------------------------------------------\n",
      "SOURCE: Hannah, the servant, was my most frequent visitor. Her coming disturbed me. I had a feeling that she wished me away: that she did not understand me or my circumstances; that she was prejudiced against me.\n",
      "TARGET: Anna era quella che mi visitava più spesso; non mi faceva piacere di vederla, perché capivo che avrebbe voluto che me ne andassi, che non comprendeva la mia posizione ed era mal disposta verso di me.\n",
      "PREDICTED: \" Quando mi era che mi che mi che mi che mi che mi che mi che mi che mi che mi . . . . . . . . . . . . . . . . . . . . . . . . . . . . mi mi mi mi mi mi mi mi mi . mi mi mi mi mi mi mi mi mi mi mi mi mi mi mi mi mi mi mi mi mi mi mi mi mi mi mi .\n",
      "--------------------------------------------------------------------------------\n",
      "\n",
      "Epoch 35\n",
      "-------------------------------, 0 days, 3 hours, 54 minutes, 23 seconds\n",
      "\n"
     ]
    },
    {
     "name": "stderr",
     "output_type": "stream",
     "text": [
      "Processing epoch 35: 100%|██████████| 572/572 [05:12<00:00,  1.83it/s, loss=5.800014, lr=0.000000000]\n",
      "Processing validation examples: 100%|██████████| 324/324 [01:27<00:00,  3.71it/s, BLEU=0.000153635, METEOR=0.075308737] \n"
     ]
    },
    {
     "name": "stdout",
     "output_type": "stream",
     "text": [
      "--------------------------------------------------------------------------------\n",
      "SOURCE: 'Tea, please, and tell Serezha that his father is here.\n",
      "TARGET: — Servite il tè, e dite a Serëza che Aleksej Aleksandrovic è qui.\n",
      "PREDICTED: Il padre ha , ha la padre , . ! ! ! ! !\n",
      "--------------------------------------------------------------------------------\n",
      "\n",
      "Epoch 36\n",
      "-------------------------------, 0 days, 4 hours, 1 minutes, 3 seconds\n",
      "\n"
     ]
    },
    {
     "name": "stderr",
     "output_type": "stream",
     "text": [
      "Processing epoch 36: 100%|██████████| 572/572 [05:12<00:00,  1.83it/s, loss=5.601414, lr=0.000000000]\n",
      "Processing validation examples: 100%|██████████| 324/324 [01:27<00:00,  3.70it/s, BLEU=0.000023644, METEOR=0.076506320] \n"
     ]
    },
    {
     "name": "stdout",
     "output_type": "stream",
     "text": [
      "--------------------------------------------------------------------------------\n",
      "SOURCE: When he had settled in the arm-chair in the little drawing room where he always had his tea, and Agatha Mikhaylovna had brought it in for him and had sat down at the window with her usual remark, 'I will sit down sir!' he felt that, strange to say, he had not really forgotten his dreams and that he could not live without them.\n",
      "TARGET: Quando entrò nel salottino dove era solito prendere il tè e si mise a sedere nella sua poltrona con un libro, e quando Agaf’ja Michajlovna gli portò il tè e, col suo solito «e mi metto a sedere anch’io, batjuška», si accomodò sulla sedia accanto alla finestra, Levin sentì che, per quanto ciò fosse strano, egli non aveva abbandonato il suo sogno e non poteva vivere senza esso.\n",
      "PREDICTED: E , la conversazione , come , aveva detto , come la sua sua sua sua sua sua sua sua sua conversazione , , , , e , , , , , , , , , , , , , , , , , , , , a lei , . , ella , ella ella ella ella ella ella ella ella ella ella ella ella ella ella ella ella ella ella ella ella ella ella ella ella ella ella ella ella ella ella ella ella ella ella ella ella ella ella ella ella ella ella ella ella ella ella ella ella ella ella ella ella ella ella ella ella ella ella ella ella ella ella ella ella ella ella ella ella ella ella ella ella ella ella ella ella ella ella ella ella ella ella ella ella ella ella ella ella ella ella ella ella ella ella ella ella ella ella ella , ella ella ella ella ella ella ella ella ella ella ella ella ella ella ella ella ella ella ella ella ella ella ella ella ella ella ella ella ella ella ella ella ella ella ella ella ella ella ella ella ella ella ella ella ella ella ella ella ella ella ella ella ella ella ella ella ella ella ella ella ella ella ella ella ella ella ella ella ella ella ella ella ella ella ella ella ella ella ella ella ella ella ella ella ella ella ella ella ella ella ella ella ella ella ella ella ella ella ella ella ella ella ella ella disse , ella ella ella ella ella ella ella ella ella ella disse , ella era lei , ella era lei , ella ella ella\n",
      "--------------------------------------------------------------------------------\n",
      "\n",
      "Epoch 37\n",
      "-------------------------------, 0 days, 4 hours, 7 minutes, 44 seconds\n",
      "\n"
     ]
    },
    {
     "name": "stderr",
     "output_type": "stream",
     "text": [
      "Processing epoch 37: 100%|██████████| 572/572 [05:13<00:00,  1.83it/s, loss=5.488170, lr=0.000000000]\n",
      "Processing validation examples: 100%|██████████| 324/324 [01:27<00:00,  3.71it/s, BLEU=0.000000000, METEOR=0.078560572] \n"
     ]
    },
    {
     "name": "stdout",
     "output_type": "stream",
     "text": [
      "--------------------------------------------------------------------------------\n",
      "SOURCE: We went a goodish way without coming across any more hotels, and then we met a man, and asked him to direct us to a few.\n",
      "TARGET: Percorremmo un buon tratto senza incontrare altri alberghi, e allora ci rivolgemmo a un passante pregandolo di indicarcene qualcuno.\n",
      "PREDICTED: a un , e ci a , e ci a a , e ci a . , e ci a a a . , e ci a , e ci a a . . , , , e ci di di di di . . . . , , di di di di . . , , , di di di . . , , di di di di di di . . . . . , di di di di di . . . . , , , , di di . . . . . . . . . . . . . . . . . . . . . . . . . . . . . . . . . . . . . . . . . . e ci ci e ci e ci e ci e ci e ci e ci e e e ci ci ci ci e ci e ci e ci\n",
      "--------------------------------------------------------------------------------\n",
      "\n",
      "Epoch 38\n",
      "-------------------------------, 0 days, 4 hours, 14 minutes, 24 seconds\n",
      "\n"
     ]
    },
    {
     "name": "stderr",
     "output_type": "stream",
     "text": [
      "Processing epoch 38: 100%|██████████| 572/572 [05:12<00:00,  1.83it/s, loss=5.483183, lr=0.000000000]\n",
      "Processing validation examples: 100%|██████████| 324/324 [01:27<00:00,  3.71it/s, BLEU=0.000000000, METEOR=0.079462700] \n"
     ]
    },
    {
     "name": "stdout",
     "output_type": "stream",
     "text": [
      "--------------------------------------------------------------------------------\n",
      "SOURCE: And in spite of her agitation Anna smiled on noticing the naive expression of curiosity, surprise and terror on Dolly's face.\n",
      "TARGET: E, malgrado tutta la sua agitazione, Anna sorrise avendo notato un’espressione ingenua di curiosità, di stupore e di orrore sul viso di Dolly.\n",
      "PREDICTED: Ma , Anna , Anna , si si si occhi di Anna , e , si occhi di Anna di Anna , si occhi di Anna di Anna di Anna di Anna di lei . , ella ella ella ella ella ella ella ella ella ella ella ella ella ella ella ella ella ella ella ella ella ella ella ella ella ella ella ella ella ella ella ella ella ella ella ella ella ella ella ella ella Aleksandrovna . . di Anna . . . . . . . . . . .\n",
      "--------------------------------------------------------------------------------\n",
      "\n",
      "Epoch 39\n",
      "-------------------------------, 0 days, 4 hours, 21 minutes, 5 seconds\n",
      "\n"
     ]
    },
    {
     "name": "stderr",
     "output_type": "stream",
     "text": [
      "Processing epoch 39: 100%|██████████| 572/572 [05:12<00:00,  1.83it/s, loss=5.501269, lr=0.000000000]\n",
      "Processing validation examples: 100%|██████████| 324/324 [01:27<00:00,  3.71it/s, BLEU=0.000108636, METEOR=0.081698935] \n"
     ]
    },
    {
     "name": "stdout",
     "output_type": "stream",
     "text": [
      "--------------------------------------------------------------------------------\n",
      "SOURCE: 'Anna has changed very much since her trip to Moscow.\n",
      "TARGET: — Anna è molto cambiata dopo il viaggio a Mosca.\n",
      "PREDICTED: — Anna , Anna è già a Mosca , Anna Anna di Anna . . . . . . . . . . . . . .\n",
      "--------------------------------------------------------------------------------\n",
      "\n",
      "Epoch 40\n",
      "-------------------------------, 0 days, 4 hours, 27 minutes, 45 seconds\n",
      "\n"
     ]
    },
    {
     "name": "stderr",
     "output_type": "stream",
     "text": [
      "Processing epoch 40: 100%|██████████| 572/572 [05:13<00:00,  1.83it/s, loss=5.339874, lr=0.000000000]\n",
      "Processing validation examples: 100%|██████████| 324/324 [01:27<00:00,  3.71it/s, BLEU=0.000096968, METEOR=0.080548385] \n"
     ]
    },
    {
     "name": "stdout",
     "output_type": "stream",
     "text": [
      "--------------------------------------------------------------------------------\n",
      "SOURCE: Everything about his face and figure – from his black closely-cropped hair and freshly-shaven chin to his wide, brand-new uniform – was simple and at the same time elegant.\n",
      "TARGET: Nel viso e nella persona di lui, dai capelli neri dal taglio corto e dal mento rasato di fresco fino all’uniforme ampia e nuova fiammante, tutto era semplice e nello stesso tempo elegante.\n",
      "PREDICTED: I viso , le occhi era , e i capelli gli occhi , e gli , e i suoi occhi gli , , e i viso le occhi , , e le occhi , . che gli a lei che gli a lei che gli . , e gli più più più più più più più più più . . . . . . . . . . . . . . . . . . .\n",
      "--------------------------------------------------------------------------------\n",
      "\n",
      "Epoch 41\n",
      "-------------------------------, 0 days, 4 hours, 34 minutes, 25 seconds\n",
      "\n"
     ]
    },
    {
     "name": "stderr",
     "output_type": "stream",
     "text": [
      "Processing epoch 41: 100%|██████████| 572/572 [05:13<00:00,  1.83it/s, loss=5.283131, lr=0.000000000]\n",
      "Processing validation examples: 100%|██████████| 324/324 [01:27<00:00,  3.71it/s, BLEU=0.000261912, METEOR=0.082181623] \n"
     ]
    },
    {
     "name": "stdout",
     "output_type": "stream",
     "text": [
      "--------------------------------------------------------------------------------\n",
      "SOURCE: She expected now to hear words of insincere sympathy: but Anna said nothing of the kind.\n",
      "TARGET: Si aspettava ora delle frasi convenzionali di simpatia, ma Anna non disse nulla di simile.\n",
      "PREDICTED: Anna non parole non parole , ma non parole non parole , ma non parole a Anna che non parole a Anna . . . . . . . . . . . . . .\n",
      "--------------------------------------------------------------------------------\n",
      "\n",
      "Epoch 42\n",
      "-------------------------------, 0 days, 4 hours, 41 minutes, 5 seconds\n",
      "\n"
     ]
    },
    {
     "name": "stderr",
     "output_type": "stream",
     "text": [
      "Processing epoch 42: 100%|██████████| 572/572 [05:13<00:00,  1.83it/s, loss=5.385159, lr=0.000000000]\n",
      "Processing validation examples: 100%|██████████| 324/324 [01:27<00:00,  3.71it/s, BLEU=0.000000000, METEOR=0.079885822] \n"
     ]
    },
    {
     "name": "stdout",
     "output_type": "stream",
     "text": [
      "--------------------------------------------------------------------------------\n",
      "SOURCE: We said we had no objection to being photo'd full-length, but we preferred being taken the right way up.\n",
      "TARGET: Rispondemmo che non avevamo alcuna obiezione a farci ritrarre in piena lunghezza, ma che preferivamo essere presi in senso verticale.\n",
      "PREDICTED: Io era , e ci era , e ci a a . ! ! . . ! ! . . . . . . .\n",
      "--------------------------------------------------------------------------------\n",
      "\n",
      "Epoch 43\n",
      "-------------------------------, 0 days, 4 hours, 47 minutes, 46 seconds\n",
      "\n"
     ]
    },
    {
     "name": "stderr",
     "output_type": "stream",
     "text": [
      "Processing epoch 43: 100%|██████████| 572/572 [05:12<00:00,  1.83it/s, loss=5.409417, lr=0.000000000]\n",
      "Processing validation examples: 100%|██████████| 324/324 [01:27<00:00,  3.71it/s, BLEU=0.000160212, METEOR=0.079738247] \n"
     ]
    },
    {
     "name": "stdout",
     "output_type": "stream",
     "text": [
      "--------------------------------------------------------------------------------\n",
      "SOURCE: Death, the inevitable end of everything, confronted him for the first time with irresistible force. And that Death which was present in this dear brother (who, waking up, moaned and by habit called indiscriminately on God and on the devil) was not so far away as it had hitherto seemed to be.\n",
      "TARGET: La morte, l’inevitabile fine di tutto, per la prima volta gli si presentava con una violenza ineluttabile, e questa morte che era là in quel fratello caro che gemeva nel sonno e che per abitudine invocava indifferentemente ora Dio ora il diavolo, non era così lontana come gli era sempre parsa.\n",
      "PREDICTED: La cosa era più più , e la sua sua cosa , la cosa la cosa , lo era più più , e la sua cosa la sua cosa , lo , e la sua suo suo suo suo , e la sua suo suo suo suo suo suo suo suo suo suo suo suo suo , e lo , e lo , e lo . , e lo più . , e lo . , e lo . , e lo . , e lo . , e lo . . . . . . . . . . . . . . . . . . . . . . . .\n",
      "--------------------------------------------------------------------------------\n",
      "\n",
      "Epoch 44\n",
      "-------------------------------, 0 days, 4 hours, 54 minutes, 26 seconds\n",
      "\n"
     ]
    },
    {
     "name": "stderr",
     "output_type": "stream",
     "text": [
      "Processing epoch 44: 100%|██████████| 572/572 [05:12<00:00,  1.83it/s, loss=5.096811, lr=0.000000000]\n",
      "Processing validation examples: 100%|██████████| 324/324 [01:27<00:00,  3.72it/s, BLEU=0.000135216, METEOR=0.083001164] \n"
     ]
    },
    {
     "name": "stdout",
     "output_type": "stream",
     "text": [
      "--------------------------------------------------------------------------------\n",
      "SOURCE: 'I can't go no lower,' said the Hatter: 'I'm on the floor, as it is.'\n",
      "TARGET: — Non posso ritirarmi, — disse il Cappellaio, — sono già sul pavimento.\n",
      "PREDICTED: — Non non posso il Cappellaio , — disse il Cappellaio , — — — — non è il Cappellaio . ! ! ! . . . . . . . . . . . . . . . . .\n",
      "--------------------------------------------------------------------------------\n",
      "\n",
      "Epoch 45\n",
      "-------------------------------, 0 days, 5 hours, 1 minutes, 6 seconds\n",
      "\n"
     ]
    },
    {
     "name": "stderr",
     "output_type": "stream",
     "text": [
      "Processing epoch 45: 100%|██████████| 572/572 [05:13<00:00,  1.83it/s, loss=5.407777, lr=0.000000000]\n",
      "Processing validation examples: 100%|██████████| 324/324 [01:27<00:00,  3.71it/s, BLEU=0.000140855, METEOR=0.087153202] \n"
     ]
    },
    {
     "name": "stdout",
     "output_type": "stream",
     "text": [
      "--------------------------------------------------------------------------------\n",
      "SOURCE: 'Well, and what of it?\n",
      "TARGET: E allora?\n",
      "PREDICTED: — E che cosa mai ? ?\n",
      "--------------------------------------------------------------------------------\n",
      "\n",
      "Epoch 46\n",
      "-------------------------------, 0 days, 5 hours, 7 minutes, 46 seconds\n",
      "\n"
     ]
    },
    {
     "name": "stderr",
     "output_type": "stream",
     "text": [
      "Processing epoch 46: 100%|██████████| 572/572 [05:13<00:00,  1.83it/s, loss=5.268573, lr=0.000000000]\n",
      "Processing validation examples: 100%|██████████| 324/324 [01:27<00:00,  3.71it/s, BLEU=0.000438279, METEOR=0.086665485] \n"
     ]
    },
    {
     "name": "stdout",
     "output_type": "stream",
     "text": [
      "--------------------------------------------------------------------------------\n",
      "SOURCE: I walked as far as I could upon the shore to have got to her; but found a neck or inlet of water between me and the boat which was about half a mile broad; so I came back for the present, being more intent upon getting at the ship, where I hoped to find something for my present subsistence.\n",
      "TARGET: Camminai finchè potei alla sua volta, ma giaceva tra essa e me un braccio d’acqua della larghezza quasi di un mezzo miglio. Voltai dunque addietro per allora; che assai più stavami a cuore il tornare a bordo del vascello, ove io sperava raccorre qualche cosa utile al mio sostentamento.\n",
      "PREDICTED: a un a , ma io la spiaggia che la spiaggia era a a , e che la spiaggia che la spiaggia che la spiaggia che la spiaggia , che a a a a a a a a a a a a un a un , che io io io io io io io io io mi a un a un . , e io io mi a a a a . , e che io mi a a . , e che mi a a a a a . . . . , ma che mi che mi che mi a a me che mi a a a . . . che io io io mi . . . . . . . . . . . . . . . . . . . . . . . . . . . . . . . . che mi a che mi che io che io che mi che mi che io che io che io . . . . . . .\n",
      "--------------------------------------------------------------------------------\n",
      "\n",
      "Epoch 47\n",
      "-------------------------------, 0 days, 5 hours, 14 minutes, 27 seconds\n",
      "\n"
     ]
    },
    {
     "name": "stderr",
     "output_type": "stream",
     "text": [
      "Processing epoch 47: 100%|██████████| 572/572 [05:13<00:00,  1.83it/s, loss=5.259025, lr=0.000000000]\n",
      "Processing validation examples: 100%|██████████| 324/324 [01:27<00:00,  3.71it/s, BLEU=0.000177513, METEOR=0.081082959] \n"
     ]
    },
    {
     "name": "stdout",
     "output_type": "stream",
     "text": [
      "--------------------------------------------------------------------------------\n",
      "SOURCE: Then a sweet young lady entered, leading a meek-looking little fox- terrier, and left him, chained up there, between the bull-dog and the poodle.\n",
      "TARGET: Poi entrò una dolce signorina che conduceva un piccolo foxterrier molto mite all’aspetto. Lo lasciò lì incatenato, fra il bulldog e il volpino.\n",
      "PREDICTED: Dopo un po ’ una volta , e la sala , dopo la sala , dopo un po ’ un po ’ un po ’ un po ’ un po ’ un po ’ un po ’ un po ’ altra volta , e , si mise a un po ’ un po ’ un po ’ altra sala , e si mise a un po ’ un po ’ altra sua sua sua sala . . . . , e si . . . . . . . . . . . . .\n",
      "--------------------------------------------------------------------------------\n",
      "\n",
      "Epoch 48\n",
      "-------------------------------, 0 days, 5 hours, 21 minutes, 7 seconds\n",
      "\n"
     ]
    },
    {
     "name": "stderr",
     "output_type": "stream",
     "text": [
      "Processing epoch 48: 100%|██████████| 572/572 [05:12<00:00,  1.83it/s, loss=5.340519, lr=0.000000000]\n",
      "Processing validation examples: 100%|██████████| 324/324 [01:27<00:00,  3.71it/s, BLEU=0.000403636, METEOR=0.086637769] \n"
     ]
    },
    {
     "name": "stdout",
     "output_type": "stream",
     "text": [
      "--------------------------------------------------------------------------------\n",
      "SOURCE: This afternoon and morning and all other days, past and future,' she replied.\n",
      "TARGET: E così il giorno e la mattina e tutti i giorni passati e futuri — ella disse.\n",
      "PREDICTED: Ora e ci sono e i nostri nostri nostri signore e i nostri . e e e e e e e sono e e e e e e e e e e e e e e e e e e e e e e e e e e e e e e e e e e e e e e e e e e e e e e e e e e e e e e e e e e e e e e e e e e e e e e e e e e e e e e e e e e e e e e e e e e e e e e e e e e e e e e e e e e e e e e e e e e e e e e e e e e e e e e e e e e e e e e e e e e e e e e e e e e e e e e e e e e e e e e e e e e e e e e e e e e e e e e e e e e e e e e e e e e e e e e e e e e e e e e e e e e e e e e e e e e e e e e e e e e e e e e e e e e e e e e e e e e e e e e e e e e e e e e e e e e e e e e e e e e e e e e e e e e e e e e e e e e e e e e e e e e e e\n",
      "--------------------------------------------------------------------------------\n",
      "\n",
      "Epoch 49\n",
      "-------------------------------, 0 days, 5 hours, 27 minutes, 48 seconds\n",
      "\n"
     ]
    },
    {
     "name": "stderr",
     "output_type": "stream",
     "text": [
      "Processing epoch 49: 100%|██████████| 572/572 [05:12<00:00,  1.83it/s, loss=5.405489, lr=0.000000000]\n",
      "Processing validation examples: 100%|██████████| 324/324 [01:27<00:00,  3.71it/s, BLEU=0.000531994, METEOR=0.084730054] \n"
     ]
    },
    {
     "name": "stdout",
     "output_type": "stream",
     "text": [
      "--------------------------------------------------------------------------------\n",
      "SOURCE: But whereas Oblonsky's sleep would, he imagined, have offended them – he did not really even think this, for everything seemed so strange – Landau's sleep delighted them extremely, especially Lydia Ivanovna.\n",
      "TARGET: Ma il sonno di Stepan Arkad’ic, come egli pensava, li avrebbe offesi (ormai non pensava neanche più questo, tanto ormai gli sembrava tutto strano), e il sonno di Landau, invece, li rallegrò straordinariamente, in particolare rallegrò la contessa Lidija Ivanovna.\n",
      "PREDICTED: E , Stepan Arkad ’ ic , non si Arkad ’ ic , non si era più più più , e più più più più più più più , e più più più più più più più più più , e più più più più . . . . . . . . . . . . . . . . . . . . . . . . . . . . . . . . . . . . . . . . . . . . . . . . . . . . . . . .\n",
      "--------------------------------------------------------------------------------\n",
      "\n",
      "Epoch 50\n",
      "-------------------------------, 0 days, 5 hours, 34 minutes, 28 seconds\n",
      "\n"
     ]
    },
    {
     "name": "stderr",
     "output_type": "stream",
     "text": [
      "Processing epoch 50: 100%|██████████| 572/572 [05:13<00:00,  1.83it/s, loss=5.073023, lr=0.000000000]\n",
      "Processing validation examples: 100%|██████████| 324/324 [01:27<00:00,  3.71it/s, BLEU=0.000291026, METEOR=0.084843464] \n"
     ]
    },
    {
     "name": "stdout",
     "output_type": "stream",
     "text": [
      "--------------------------------------------------------------------------------\n",
      "SOURCE: You should be bolder.\"\n",
      "TARGET: Se foste più ardita....\n",
      "PREDICTED: Tu si che hai più più . . . . . . . . . . . .\n",
      "--------------------------------------------------------------------------------\n",
      "\n",
      "Epoch 51\n",
      "-------------------------------, 0 days, 5 hours, 41 minutes, 8 seconds\n",
      "\n"
     ]
    },
    {
     "name": "stderr",
     "output_type": "stream",
     "text": [
      "Processing epoch 51: 100%|██████████| 572/572 [05:13<00:00,  1.83it/s, loss=5.308723, lr=0.000000000]\n",
      "Processing validation examples: 100%|██████████| 324/324 [01:27<00:00,  3.71it/s, BLEU=0.000312953, METEOR=0.081151327] \n"
     ]
    },
    {
     "name": "stdout",
     "output_type": "stream",
     "text": [
      "--------------------------------------------------------------------------------\n",
      "SOURCE: Koznyshev was the centre around whom the rest were grouped.\n",
      "TARGET: Sergej Ivanovic era il centro intorno al quale si raggruppavano gli altri.\n",
      "PREDICTED: Sergej Ivanovic era il Ivanovic della Sergej Ivanovic . di Sergej Ivanovic . . . . . . . . . . . . . . . . . . . . . . . . .\n",
      "--------------------------------------------------------------------------------\n",
      "\n",
      "Epoch 52\n",
      "-------------------------------, 0 days, 5 hours, 47 minutes, 48 seconds\n",
      "\n"
     ]
    },
    {
     "name": "stderr",
     "output_type": "stream",
     "text": [
      "Processing epoch 52: 100%|██████████| 572/572 [05:12<00:00,  1.83it/s, loss=4.818407, lr=0.000000000]\n",
      "Processing validation examples: 100%|██████████| 324/324 [01:27<00:00,  3.72it/s, BLEU=0.000231853, METEOR=0.080804043] \n"
     ]
    },
    {
     "name": "stdout",
     "output_type": "stream",
     "text": [
      "--------------------------------------------------------------------------------\n",
      "SOURCE: \"What have you been trying to do with it, make a fishing-net of it?\n",
      "TARGET: — Che ne volevi fare, una rete da pesca? Hai fatto un bel pasticcio!\n",
      "PREDICTED: — Vi siete mai mai mai un uomo di letto che vi in un altro . che vi . . . . . . . . . . . . . . . . . . . . . . . . . . . . . . . . . . . . . . . . .\n",
      "--------------------------------------------------------------------------------\n",
      "\n",
      "Epoch 53\n",
      "-------------------------------, 0 days, 5 hours, 54 minutes, 28 seconds\n",
      "\n"
     ]
    },
    {
     "name": "stderr",
     "output_type": "stream",
     "text": [
      "Processing epoch 53: 100%|██████████| 572/572 [05:12<00:00,  1.83it/s, loss=5.210222, lr=0.000000000]\n",
      "Processing validation examples: 100%|██████████| 324/324 [01:27<00:00,  3.71it/s, BLEU=0.000109819, METEOR=0.086317132] \n"
     ]
    },
    {
     "name": "stdout",
     "output_type": "stream",
     "text": [
      "--------------------------------------------------------------------------------\n",
      "SOURCE: \"And mind,\" he continued, \"don't bother me with any details of the anatomical process, or any notice of the condition of the entrails: let your operation be conducted in silence: tiens-toi tranquille, enfant; comprends-tu?\"\n",
      "TARGET: — Ma non mi annoiate con i particolari del vostro processo anatomico, e sopratutto state zitta, bambina, capite?\n",
      "PREDICTED: — Sì , — continuò con la vostra vostra vostra vostra vostra vostra vostra vostra vostra vostra vostra vostra vostra , — perché voi non di voi che vi a voi è , perché voi a voi che voi che voi a voi è a voi . , perché voi , voi è voi , voi che voi che voi . ? .... .... .... .... .... .... .... .... .... .... .... .... .... . . . . . . . . . . . . . . . . . . . . . . . . . . . . . .\n",
      "--------------------------------------------------------------------------------\n",
      "\n",
      "Epoch 54\n",
      "-------------------------------, 0 days, 6 hours, 1 minutes, 9 seconds\n",
      "\n"
     ]
    },
    {
     "name": "stderr",
     "output_type": "stream",
     "text": [
      "Processing epoch 54: 100%|██████████| 572/572 [05:13<00:00,  1.83it/s, loss=5.251638, lr=0.000000000]\n",
      "Processing validation examples: 100%|██████████| 324/324 [01:27<00:00,  3.71it/s, BLEU=0.000331032, METEOR=0.086651185] \n"
     ]
    },
    {
     "name": "stdout",
     "output_type": "stream",
     "text": [
      "--------------------------------------------------------------------------------\n",
      "SOURCE: Who has not passed through it?'\n",
      "TARGET: Chi non è passato attraverso questo?\n",
      "PREDICTED: Chi è un fiume ? ?\n",
      "--------------------------------------------------------------------------------\n",
      "\n",
      "Epoch 55\n",
      "-------------------------------, 0 days, 6 hours, 7 minutes, 49 seconds\n",
      "\n"
     ]
    },
    {
     "name": "stderr",
     "output_type": "stream",
     "text": [
      "Processing epoch 55: 100%|██████████| 572/572 [05:12<00:00,  1.83it/s, loss=5.140826, lr=0.000000000]\n",
      "Processing validation examples: 100%|██████████| 324/324 [01:27<00:00,  3.71it/s, BLEU=0.000404853, METEOR=0.089895147] \n"
     ]
    },
    {
     "name": "stdout",
     "output_type": "stream",
     "text": [
      "--------------------------------------------------------------------------------\n",
      "SOURCE: 'There is one thing more that I must tell you,' began Oblonsky. 'You know Vronsky?'\n",
      "TARGET: Conosci Vronskij? — chiese Stepan Arkad’ic a Levin.\n",
      "PREDICTED: — Ma io io ho fatto che io io io io io ho fatto — disse Stepan Arkad ’ ic . — Ma tu tu tu tu tu tu che ho fatto che ho fatto di Vronskij ? ? ? . . . . . . . . . . . . . . . . . . . . . . . . . . . . . . . . . . . . . . . . .\n",
      "--------------------------------------------------------------------------------\n",
      "\n",
      "Epoch 56\n",
      "-------------------------------, 0 days, 6 hours, 14 minutes, 29 seconds\n",
      "\n"
     ]
    },
    {
     "name": "stderr",
     "output_type": "stream",
     "text": [
      "Processing epoch 56: 100%|██████████| 572/572 [05:12<00:00,  1.83it/s, loss=5.224050, lr=0.000000000]\n",
      "Processing validation examples: 100%|██████████| 324/324 [01:27<00:00,  3.71it/s, BLEU=0.000129378, METEOR=0.086243409] \n"
     ]
    },
    {
     "name": "stdout",
     "output_type": "stream",
     "text": [
      "--------------------------------------------------------------------------------\n",
      "SOURCE: He who does otherwise, either from timidity or evil advice, is always compelled to keep the knife in his hand; neither can he rely on his subjects, nor can they attach themselves to him, owing to their continued and repeated wrongs.\n",
      "TARGET: Chi fa altrimenti, o per timidità o per mal consiglio, è sempre necessitato tenere el coltello in mano; né mai può fondarsi sopra li sua sudditi non si potendo quelli per le fresche e continue iniurie assicurare di lui.\n",
      "PREDICTED: Non posso essere la virtù , né la natura , né la natura , né non , né , né e non , né , né e la sua virtù , né , né e la sua né . , non la sua e la sua . e la sua . , non , non . e la sua . e la . , non . e la . . . e la . . . e non . . e non . . . . . . .\n",
      "--------------------------------------------------------------------------------\n",
      "\n",
      "Epoch 57\n",
      "-------------------------------, 0 days, 6 hours, 21 minutes, 10 seconds\n",
      "\n"
     ]
    },
    {
     "name": "stderr",
     "output_type": "stream",
     "text": [
      "Processing epoch 57: 100%|██████████| 572/572 [05:12<00:00,  1.83it/s, loss=4.978342, lr=0.000000000]\n",
      "Processing validation examples: 100%|██████████| 324/324 [01:27<00:00,  3.72it/s, BLEU=0.000471232, METEOR=0.089582952] \n"
     ]
    },
    {
     "name": "stdout",
     "output_type": "stream",
     "text": [
      "--------------------------------------------------------------------------------\n",
      "SOURCE: After sitting a while longer, and musing what I should do in this case, I was not able to bear sitting in ignorance longer; so setting up my ladder to the side of the hill, where there was a flat place, as I observed before, and then pulling the ladder after me, I set it up again and mounted the top of the hill, and pulling out my perspective glass, which I had taken on purpose, I laid me down flat on my belly on the ground, and began to look for the place.\n",
      "TARGET: Dopo essere restato qualche tempo di più in tale perplessità, meditando che cosa si potesse fare nel caso mio, non fui buono di durarla più lungamente e di rimanere per maggior tempo all’oscuro delle cose. Posata quindi la mia scala al lato del monte su cui stava uno spianato, come già dissi, vi salii, poi tiratami da presso la mia scala, me ne valsi per salire la cima del monte; indi livellato il mio cannocchiale, che avea preso meco a tal fine, mi gettai boccone a terra e cominciai a riguardare sul luogo dianzi notato.\n",
      "PREDICTED: la mia mia volta di , come mi a un ’ altra volta di un po ’ altra , e la mia volta di un ’ altra volta di un ’ altra volta di un ’ altra volta di un ’ altra volta di , e a un ’ altra volta di un ’ altra volta di un ’ altra volta che , e a un ’ altra volta , a un ’ altra volta di un ’ altra , e a un ’ altra volta che a un ’ altra volta di un ’ altra volta di un ’ altra volta , a un ’ altra , e a un ’ altra volta , e a un ’ altra , a un ’ altra , e a un ’ altra , a un ’ altra volta di a un ’ altra volta di , e a un ’ altra volta di un ’ altra , e la mia scala a un ’ altra , e a un ’ altra volta di un ’ altra volta , come a un ’ altra volta di un ’ altra , e a un ’ altra volta , come a un ’ altra volta , e a un ’ altra volta di un ’ altra volta che a un ’ altra , a un poco di un ’ altra , a un poco a un ’ altra , e a un ’ altra volta a un ’ altra scala a un ’ altra volta di terra , e la mia scala a un poco , e la scala a , e la volta a un mio volta a un mio volta a un ’\n",
      "--------------------------------------------------------------------------------\n",
      "\n",
      "Epoch 58\n",
      "-------------------------------, 0 days, 6 hours, 27 minutes, 49 seconds\n",
      "\n"
     ]
    },
    {
     "name": "stderr",
     "output_type": "stream",
     "text": [
      "Processing epoch 58: 100%|██████████| 572/572 [05:12<00:00,  1.83it/s, loss=5.203362, lr=0.000000000]\n",
      "Processing validation examples: 100%|██████████| 324/324 [01:27<00:00,  3.72it/s, BLEU=0.000228429, METEOR=0.089167008] \n"
     ]
    },
    {
     "name": "stdout",
     "output_type": "stream",
     "text": [
      "--------------------------------------------------------------------------------\n",
      "SOURCE: 'You know how: rightly, in a godly way.\n",
      "TARGET: — Ma si sa come: secondo la verità, secondo il volere di Dio.\n",
      "PREDICTED: — Ma come come come come come come come come come come come come fatto . . . . . . . . . . . . . . . . . . . . . . . . . . . . . . . . . . . . . . . . . . . . . . . . . . .\n",
      "--------------------------------------------------------------------------------\n",
      "\n",
      "Epoch 59\n",
      "-------------------------------, 0 days, 6 hours, 34 minutes, 29 seconds\n",
      "\n"
     ]
    },
    {
     "name": "stderr",
     "output_type": "stream",
     "text": [
      "Processing epoch 59: 100%|██████████| 572/572 [05:12<00:00,  1.83it/s, loss=4.978260, lr=0.000000000]\n",
      "Processing validation examples: 100%|██████████| 324/324 [01:27<00:00,  3.72it/s, BLEU=0.000629910, METEOR=0.090365967] \n"
     ]
    },
    {
     "name": "stdout",
     "output_type": "stream",
     "text": [
      "--------------------------------------------------------------------------------\n",
      "SOURCE: _April_ 30.—Having perceived my bread had been low a great while, now I took a survey of it, and reduced myself to one biscuit cake a day, which made my heart very heavy.\n",
      "TARGET: Accortomi che il mio pane andava calando a dismisura, venni perciò in grave considerazione; onde fatta la mia rivista, mi ridussi, non senza grave cordoglio, ad un biscotto al giorno. Effetti del tremuoto su gli avanzi del vascello naufragato.\n",
      "PREDICTED: la mia mia mia mia mia mia mia mia mia mia mia mia mia mia mia mia mia mia mia mia mia mia mia mia mia mia mia mia mia mia mia mia mia mia mia mia mia mia mia mia mia mia mia mia mia mia mia mia mia mia mia mia mia mia mia mia mia mia mia mia mia mia mia mia mia mia mia mia mia mia mia mia mia mia mia mia mia mia mia mia mia mia mia mia mia mia mia mia mia mia mia mia mia mia mia mia mia mia mia mia mia mia mia mia mia mia mia mia mia mia mia mia mia mia mia mia mia ’ mia mia mia mia ’ ’ ’ ’ ’ ’ ’ ’ ’ ’ ’ ’ ’ ’ ’ ’ ’ ’ ’ ’ ’ ’ ’ ’ ’ ’ ’ ’ ’ ’ ’ ’ ’ ’ ’ ’ ’ ’ ’ ’ ’ ’ ’ ’ ’ ’ ’ ’ ’ ’ ’ ’ ’ ’ ’ ’ ’ ’ ’ ’ ’ ’ ’ ’ ’ ’ ’ ’ ’ ’ ’ ’ . . . . .\n",
      "--------------------------------------------------------------------------------\n",
      "\n",
      "Epoch 60\n",
      "-------------------------------, 0 days, 6 hours, 41 minutes, 9 seconds\n",
      "\n"
     ]
    },
    {
     "name": "stderr",
     "output_type": "stream",
     "text": [
      "Processing epoch 60: 100%|██████████| 572/572 [05:12<00:00,  1.83it/s, loss=4.916186, lr=0.000000000]\n",
      "Processing validation examples: 100%|██████████| 324/324 [01:27<00:00,  3.72it/s, BLEU=0.000265063, METEOR=0.089367317] \n"
     ]
    },
    {
     "name": "stdout",
     "output_type": "stream",
     "text": [
      "--------------------------------------------------------------------------------\n",
      "SOURCE: \"Have you got a spoon there?\" says Harris; \"I want a spoon to help the gravy with.\"\n",
      "TARGET: — Hai un cucchiaio lì? — disse Harris. — Ho bisogno d’un cucchiaio per pigliare il sugo.\n",
      "PREDICTED: — che di Dio ... Dio ! — Harris , Harris . . . . . . . . . . . . . . . . . . . . . . . .\n",
      "--------------------------------------------------------------------------------\n",
      "\n",
      "Epoch 61\n",
      "-------------------------------, 0 days, 6 hours, 47 minutes, 49 seconds\n",
      "\n"
     ]
    },
    {
     "name": "stderr",
     "output_type": "stream",
     "text": [
      "Processing epoch 61: 100%|██████████| 572/572 [05:13<00:00,  1.83it/s, loss=4.985247, lr=0.000000000]\n",
      "Processing validation examples: 100%|██████████| 324/324 [01:27<00:00,  3.71it/s, BLEU=0.000055317, METEOR=0.082153982] \n"
     ]
    },
    {
     "name": "stdout",
     "output_type": "stream",
     "text": [
      "--------------------------------------------------------------------------------\n",
      "SOURCE: At length I set three traps in one night, and going the next morning I found them, all standing, and yet the bait eaten and gone; this was very discouraging.\n",
      "TARGET: Una notte finalmente collocai i pesi ai loro posti, ma tornato la seguente mattina trovai che questi non aveano ceduto, ed il mio grano tuttavia era stato mangiato; la qual cosa da vero mi scoraggiava.\n",
      "PREDICTED: a casa , e , a a casa , e la prima volta , a a a un po ’ un ’ altra volta , e ne a casa . , a casa , io ne ne ne ne ne ne ne ne ne ne ne ne ne ne ne ne ne ne ne ne ne ne ne ne ne ne ne ne ne ne ne ne ne ne ne ne ne ne ne ne ne ho prima , a prima , . a prima a prima a prima . a prima a prima a prima a prima a prima . a prima a prima . a prima . a prima a prima . a prima a prima . a prima . a prima a prima . . a prima . . . . a prima . . . a prima a prima . . . . . . . . . . . . . . . . . .\n",
      "--------------------------------------------------------------------------------\n",
      "\n",
      "Epoch 62\n",
      "-------------------------------, 0 days, 6 hours, 54 minutes, 30 seconds\n",
      "\n"
     ]
    },
    {
     "name": "stderr",
     "output_type": "stream",
     "text": [
      "Processing epoch 62: 100%|██████████| 572/572 [05:12<00:00,  1.83it/s, loss=4.999525, lr=0.000000000]\n",
      "Processing validation examples: 100%|██████████| 324/324 [01:27<00:00,  3.71it/s, BLEU=0.000347119, METEOR=0.087145157] \n"
     ]
    },
    {
     "name": "stdout",
     "output_type": "stream",
     "text": [
      "--------------------------------------------------------------------------------\n",
      "SOURCE: 'But I'm not used to it!' pleaded poor Alice in a piteous tone.\n",
      "TARGET: — Ma io non ci sono abituata! — si scusò Alice in tono lamentoso.\n",
      "PREDICTED: — Ma non ci ci di di ! — disse Alice . . . . . . . . . . . . . . . . . . . . .\n",
      "--------------------------------------------------------------------------------\n",
      "\n",
      "Epoch 63\n",
      "-------------------------------, 0 days, 7 hours, 1 minutes, 10 seconds\n",
      "\n"
     ]
    },
    {
     "name": "stderr",
     "output_type": "stream",
     "text": [
      "Processing epoch 63: 100%|██████████| 572/572 [05:12<00:00,  1.83it/s, loss=4.650814, lr=0.000000000]\n",
      "Processing validation examples: 100%|██████████| 324/324 [01:27<00:00,  3.72it/s, BLEU=0.000237697, METEOR=0.086450843] \n"
     ]
    },
    {
     "name": "stdout",
     "output_type": "stream",
     "text": [
      "--------------------------------------------------------------------------------\n",
      "SOURCE: 'It is mentioned in the guide-book,' said Golenishchev, referring to the palazzo Vronsky was taking. 'There is a fine Tintoretto there... one of his later period.'\n",
      "TARGET: — C’è nella guida — disse Golenišcev a proposito di quel palazzo che Vronskij aveva preso in affitto. — Là c’è un bellissimo Tintoretto. Dell’ultimo periodo.\n",
      "PREDICTED: — È ora ora ora ora ora , ora ora ora ora ora — disse Anna , Vronskij , guardando il reggimento . è un ’ ora da un ’ ora . . . . . . . . . . . . . . . . . .\n",
      "--------------------------------------------------------------------------------\n",
      "\n",
      "Epoch 64\n",
      "-------------------------------, 0 days, 7 hours, 7 minutes, 50 seconds\n",
      "\n"
     ]
    },
    {
     "name": "stderr",
     "output_type": "stream",
     "text": [
      "Processing epoch 64: 100%|██████████| 572/572 [05:13<00:00,  1.83it/s, loss=5.065449, lr=0.000000000]\n",
      "Processing validation examples: 100%|██████████| 324/324 [01:27<00:00,  3.71it/s, BLEU=0.000331376, METEOR=0.082169576] \n"
     ]
    },
    {
     "name": "stdout",
     "output_type": "stream",
     "text": [
      "--------------------------------------------------------------------------------\n",
      "SOURCE: 'But confess that you were vexed to get my letter, and did not believe me?'\n",
      "TARGET: — Di’ la verità, ti sei arrabbiato quando hai ricevuto la lettera, e non m’hai creduto?\n",
      "PREDICTED: — Non mi so che non mi ha detto che non ne ha detto . che non sia vero . . . . . . . . . . . . . . . . . . . . . . .\n",
      "--------------------------------------------------------------------------------\n",
      "\n",
      "Epoch 65\n",
      "-------------------------------, 0 days, 7 hours, 14 minutes, 30 seconds\n",
      "\n"
     ]
    },
    {
     "name": "stderr",
     "output_type": "stream",
     "text": [
      "Processing epoch 65: 100%|██████████| 572/572 [05:12<00:00,  1.83it/s, loss=5.147801, lr=0.000000000]\n",
      "Processing validation examples: 100%|██████████| 324/324 [01:27<00:00,  3.71it/s, BLEU=0.000245743, METEOR=0.088315982] \n"
     ]
    },
    {
     "name": "stdout",
     "output_type": "stream",
     "text": [
      "--------------------------------------------------------------------------------\n",
      "SOURCE: Dolly's children, their governess, and Varenka were planning where they should hunt for mushrooms; Koznyshev, who by his intellect and learning commanded a respect almost amounting to veneration from all the visitors, surprised every one by joining in the conversation about mushrooms.\n",
      "TARGET: I bambini di Dolly con la governante e Varen’ka, facevano progetti per andare a cogliere funghi. Sergej Ivanovic, che fra gli ospiti, per intelligenza e cultura, godeva di un prestigio che giungeva quasi all’adorazione, sorprese tutti con l’intervenire nel discorso sui funghi.\n",
      "PREDICTED: Varen ’ ka , che la conversazione era stata così , che la conversazione di loro , che la conversazione Varen ’ ka era così , che la conversazione , che la conversazione di loro , che era così Varen ’ ka , che la conversazione che la conversazione che era così Varen ’ ka , e la conversazione di loro , la conversazione che la conversazione che la conversazione , la conversazione , e la conversazione di loro conversazione che era stata così la conversazione di loro loro loro loro loro loro loro loro loro cosa e la conversazione . . è così . . . . . . . . . . . . . . . . . . . . . . . . . . . . . . . .\n",
      "--------------------------------------------------------------------------------\n",
      "\n",
      "Epoch 66\n",
      "-------------------------------, 0 days, 7 hours, 21 minutes, 10 seconds\n",
      "\n"
     ]
    },
    {
     "name": "stderr",
     "output_type": "stream",
     "text": [
      "Processing epoch 66: 100%|██████████| 572/572 [05:12<00:00,  1.83it/s, loss=4.976403, lr=0.000000000]\n",
      "Processing validation examples: 100%|██████████| 324/324 [01:27<00:00,  3.71it/s, BLEU=0.000205328, METEOR=0.084442188] \n"
     ]
    },
    {
     "name": "stdout",
     "output_type": "stream",
     "text": [
      "--------------------------------------------------------------------------------\n",
      "SOURCE: \"My strength is quite failing me,\" I said in a soliloquy. \"I feel I cannot go much farther.\n",
      "TARGET: — Le forze stanno per abbandonarmi, — dissi a me stessa. — Sento che non posso andar oltre, debbo passare anche stanotte come una vagabonda?\n",
      "PREDICTED: — Non posso che mi , — dissi che mi . . . . . . . . . . . . . . . . . . . . . . . . . . . . . . . . . . . . . . . . . . . . . . . . . . .\n",
      "--------------------------------------------------------------------------------\n",
      "\n",
      "Epoch 67\n",
      "-------------------------------, 0 days, 7 hours, 27 minutes, 50 seconds\n",
      "\n"
     ]
    },
    {
     "name": "stderr",
     "output_type": "stream",
     "text": [
      "Processing epoch 67: 100%|██████████| 572/572 [05:12<00:00,  1.83it/s, loss=5.103025, lr=0.000000000]\n",
      "Processing validation examples: 100%|██████████| 324/324 [01:27<00:00,  3.72it/s, BLEU=0.000115591, METEOR=0.084490144] \n"
     ]
    },
    {
     "name": "stdout",
     "output_type": "stream",
     "text": [
      "--------------------------------------------------------------------------------\n",
      "SOURCE: As he was going out he caught sight in a looking-glass of her pale face and trembling lips.\n",
      "TARGET: Uscendo vide nello specchio il viso di lei, pallido, con le labbra tremanti.\n",
      "PREDICTED: Ella si voltò di nuovo e si voltò in voce di voce di voce , si voltò e si voltò in voce di voce di un viso . . . . . . . . . . . . . . . . . . . . . . . . . . . . . . . . . . . . . . . . . . . . . . . . . . . . . . . .\n",
      "--------------------------------------------------------------------------------\n",
      "\n",
      "Epoch 68\n",
      "-------------------------------, 0 days, 7 hours, 34 minutes, 30 seconds\n",
      "\n"
     ]
    },
    {
     "name": "stderr",
     "output_type": "stream",
     "text": [
      "Processing epoch 68: 100%|██████████| 572/572 [05:12<00:00,  1.83it/s, loss=4.679304, lr=0.000000000]\n",
      "Processing validation examples: 100%|██████████| 324/324 [01:27<00:00,  3.72it/s, BLEU=0.000399900, METEOR=0.092348399] \n"
     ]
    },
    {
     "name": "stdout",
     "output_type": "stream",
     "text": [
      "--------------------------------------------------------------------------------\n",
      "SOURCE: They hate to see anything that is beyond them.\n",
      "TARGET: Tutto quello che non è fatto da lui lo disgusta.\n",
      "PREDICTED: E si che si . . . . . . . . . . . . . . . . . . . . . . . . . . . . . . . . . . . . . . . . . . . . . . . . . . . . . . . . . . . . . . . . . . . . . . . . . . . . . . . . . . . . . . . . . . . . . . . . . . . . . . . . . . . . . . . . . . . . .\n",
      "--------------------------------------------------------------------------------\n",
      "\n",
      "Epoch 69\n",
      "-------------------------------, 0 days, 7 hours, 41 minutes, 10 seconds\n",
      "\n"
     ]
    },
    {
     "name": "stderr",
     "output_type": "stream",
     "text": [
      "Processing epoch 69: 100%|██████████| 572/572 [05:13<00:00,  1.83it/s, loss=4.916614, lr=0.000000000]\n",
      "Processing validation examples: 100%|██████████| 324/324 [01:27<00:00,  3.71it/s, BLEU=0.000195430, METEOR=0.085591533] \n"
     ]
    },
    {
     "name": "stdout",
     "output_type": "stream",
     "text": [
      "--------------------------------------------------------------------------------\n",
      "SOURCE: Mama is coming and Grandpapa and Sergius Ivanich, and some one else!' they cried, clambering into the trap.\n",
      "TARGET: Stanno venendo la mamma e il nonno, e Sergej Ivanyc, e ancora qualcuno — dicevano, arrampicandosi sul calesse.\n",
      "PREDICTED: — Ecco , è un po ’ è di un po ’ è a una bella bella e un po ’ è bella — e poi con un po ’ è bella e poi di Sergej Ivanovic ! — gridò ! ! ! ! ! ! ! ! ! ! ! ! ! ! ! ! ! ! ! ! ! ! ! ! ! ! ! ! ! ! ! ! ! ! !\n",
      "--------------------------------------------------------------------------------\n",
      "\n",
      "Epoch 70\n",
      "-------------------------------, 0 days, 7 hours, 47 minutes, 50 seconds\n",
      "\n"
     ]
    },
    {
     "name": "stderr",
     "output_type": "stream",
     "text": [
      "Processing epoch 70: 100%|██████████| 572/572 [05:12<00:00,  1.83it/s, loss=4.811882, lr=0.000000000]\n",
      "Processing validation examples: 100%|██████████| 324/324 [01:27<00:00,  3.71it/s, BLEU=0.000067986, METEOR=0.085302507] \n"
     ]
    },
    {
     "name": "stdout",
     "output_type": "stream",
     "text": [
      "--------------------------------------------------------------------------------\n",
      "SOURCE: But when heated with the work, and seeing Veslovsky pulling at the splashboard so strenuously and zealously that he actually wrenched it off, Levin reproached himself with being influenced by his sentiments of the previous day and with treating Veslovsky too coldly, and he tried to efface his unfriendliness by particular courtesy.\n",
      "TARGET: Ma poi, riscaldatosi nel lavoro e avendo visto con quanta buona volontà Veslovskij tirasse il calesse per un parafango, fin quasi a staccarlo, Levin si rimproverò di essere stato troppo freddo verso di lui, sotto l’influenza del sentimento del giorno innanzi, e cercò di riparare alla propria freddezza con una particolare affabilità.\n",
      "PREDICTED: Ma il loro loro si erano con loro e con loro loro e con loro , con le persone che con le sue loro persone , con le sue loro loro e con le , con le sue loro , con le sue sue sue sue sue sue sue sue sue sue sue sue sue sue sue sue sue sue sue sue sue sue sue sue sue sue sue sue sue sue sue sue sue sue sue sue sue sue sue sue sue sue sue sue sue sue sue sue sue sue sue sue sue sue sue sue sue sue sue sue sue sue sue sue sue sue sue sue sue sue sue sue sue sue sue sue sue sue sue sue sue sue sue sue sue sue sue sue sue sue sue sue sue sue sue sue sue sue sue sue sue sue sue sue e e . .\n",
      "--------------------------------------------------------------------------------\n",
      "\n",
      "Epoch 71\n",
      "-------------------------------, 0 days, 7 hours, 54 minutes, 30 seconds\n",
      "\n"
     ]
    },
    {
     "name": "stderr",
     "output_type": "stream",
     "text": [
      "Processing epoch 71: 100%|██████████| 572/572 [05:12<00:00,  1.83it/s, loss=4.949942, lr=0.000000000]\n",
      "Processing validation examples: 100%|██████████| 324/324 [01:27<00:00,  3.71it/s, BLEU=0.000113770, METEOR=0.083803763] \n"
     ]
    },
    {
     "name": "stdout",
     "output_type": "stream",
     "text": [
      "--------------------------------------------------------------------------------\n",
      "SOURCE: And I am careful of my work, too.\n",
      "TARGET: E con quanto rispetto, anche, tratto il mio lavoro!\n",
      "PREDICTED: E io io io io io . . . . . . . . . . . . . . . . . . . . . . . . . . . . . . . . . . . . . . . . . . . . . . . . . . . . . . . . . . . . . . . . . . . . . . . . . . . . . . . . . . . . . . . . . . . . . . . . . . . . . . . . .\n",
      "--------------------------------------------------------------------------------\n",
      "\n",
      "Epoch 72\n",
      "-------------------------------, 0 days, 8 hours, 1 minutes, 11 seconds\n",
      "\n"
     ]
    },
    {
     "name": "stderr",
     "output_type": "stream",
     "text": [
      "Processing epoch 72: 100%|██████████| 572/572 [05:12<00:00,  1.83it/s, loss=4.776047, lr=0.000000000]\n",
      "Processing validation examples: 100%|██████████| 324/324 [01:27<00:00,  3.72it/s, BLEU=0.000272820, METEOR=0.090190141] \n"
     ]
    },
    {
     "name": "stdout",
     "output_type": "stream",
     "text": [
      "--------------------------------------------------------------------------------\n",
      "SOURCE: 'On the other side,' she said to her husband, 'he always sleeps on that side.\n",
      "TARGET: — Dall’altro lato — ella disse al marito; — dorme sempre da quella parte.\n",
      "PREDICTED: — Su , il marito — disse il marito . — È il marito , il marito di nuovo . è ancora ancora . . . . . . .\n",
      "--------------------------------------------------------------------------------\n",
      "\n",
      "Epoch 73\n",
      "-------------------------------, 0 days, 8 hours, 7 minutes, 51 seconds\n",
      "\n"
     ]
    },
    {
     "name": "stderr",
     "output_type": "stream",
     "text": [
      "Processing epoch 73: 100%|██████████| 572/572 [05:13<00:00,  1.83it/s, loss=4.702926, lr=0.000000000]\n",
      "Processing validation examples: 100%|██████████| 324/324 [01:27<00:00,  3.71it/s, BLEU=0.000119414, METEOR=0.082603427] \n"
     ]
    },
    {
     "name": "stdout",
     "output_type": "stream",
     "text": [
      "--------------------------------------------------------------------------------\n",
      "SOURCE: And all at once a strange sensation came over him.\n",
      "TARGET: E a un tratto lo afferrò una strana sensazione.\n",
      "PREDICTED: E gli sentiva una sensazione da un tratto . . . . .\n",
      "--------------------------------------------------------------------------------\n",
      "\n",
      "Epoch 74\n",
      "-------------------------------, 0 days, 8 hours, 14 minutes, 31 seconds\n",
      "\n"
     ]
    },
    {
     "name": "stderr",
     "output_type": "stream",
     "text": [
      "Processing epoch 74: 100%|██████████| 572/572 [05:12<00:00,  1.83it/s, loss=4.778602, lr=0.000000000]\n",
      "Processing validation examples: 100%|██████████| 324/324 [01:27<00:00,  3.71it/s, BLEU=0.000131834, METEOR=0.084456341] \n"
     ]
    },
    {
     "name": "stdout",
     "output_type": "stream",
     "text": [
      "--------------------------------------------------------------------------------\n",
      "SOURCE: He remembered an affair with a sharper to whom his brother had lost money, and whom he had first given a promissory note and then prosecuted on a charge of fraud. (That was when his brother Sergius had paid the money for him.)\n",
      "TARGET: Ricordò la storia del baro col quale aveva perso i denari e al quale aveva richiesto una cambiale e sporto poi egli stesso querela, dimostrando d’essere stato ingannato (era questo il denaro che aveva sborsato Sergej Ivanyc).\n",
      "PREDICTED: Aveva un tempo ( aveva fatto un denaro di Pietroburgo ( aveva stato stato un biglietto ( aveva un biglietto ( ( aveva un biglietto ( aveva un biglietto ( ( aveva un biglietto ( ( aveva un biglietto di Aleksej Aleksandrovic ( ( aveva un biglietto di Aleksej Aleksandrovic . per un biglietto del denaro . . . . . . . . . . . . . . . . . . . . . . . . . . . . . . . . . . .\n",
      "--------------------------------------------------------------------------------\n",
      "\n",
      "Epoch 75\n",
      "-------------------------------, 0 days, 8 hours, 21 minutes, 12 seconds\n",
      "\n"
     ]
    },
    {
     "name": "stderr",
     "output_type": "stream",
     "text": [
      "Processing epoch 75: 100%|██████████| 572/572 [05:13<00:00,  1.83it/s, loss=4.760954, lr=0.000000000]\n",
      "Processing validation examples: 100%|██████████| 324/324 [01:27<00:00,  3.71it/s, BLEU=0.000200172, METEOR=0.080367960] \n"
     ]
    },
    {
     "name": "stdout",
     "output_type": "stream",
     "text": [
      "--------------------------------------------------------------------------------\n",
      "SOURCE: It was only my station, and the rank of my wife, that you valued? Now that you think me disqualified to become your husband, you recoil from my touch as if I were some toad or ape.\"\n",
      "TARGET: Ora non valgo più nulla ai vostri occhi, perché sapete che non posso esser vostro marito, e mi fuggite come un rospo o un mostro?\n",
      "PREDICTED: per me , per me , per il mio mio figlio , e per me per me , per , e per me non la mia vita , per me per me , per per me . , , , mio mio mio mio mio mio mio mio mio mio mio mio mio mio mio mio mio mio mio mio mio mio mio mio mio mio mio mio mio mio mio mio mio mio mio mio mio mio mio mio mio mio mio mio mio mio mio mio mio , mio , mio , mio mio mio mio mio mio mio mio mio mio mio , mio . , mio mio mio mio mio mio mio mio mio mio mio , mio , mio , mio mio mio mio mio mio mio mio mio mio mio mio mio mio mio , mio mio mio mio mio mio mio mio mio mio mio mio mio mio mio mio mio mio mio mio mio , mio mio mio , mio . , mio mio mio , mio , mio mio mio mio , mio , mio , mio mia mia mia mia mia mia mia mia . , mio mia mia mia mia mia mia mia mia mia mia mia mia mia mia mia mia mia mia mia mia mia mia mia mia mia mia mia mia mia mia mia mia mia mia mia mia mia mia . . mia mia mia mia mia mia mia mia mia mia mia mia mia mia mia mia mia mia mia mia mia mia mia mia mia mia mia mia mia mia mia mia mia mia mia mia mia mia mia mia mia mia mia mia mia mia mia mia mia mia mia mia mia mia mia mia mia mia mia\n",
      "--------------------------------------------------------------------------------\n",
      "\n",
      "Epoch 76\n",
      "-------------------------------, 0 days, 8 hours, 27 minutes, 52 seconds\n",
      "\n"
     ]
    },
    {
     "name": "stderr",
     "output_type": "stream",
     "text": [
      "Processing epoch 76: 100%|██████████| 572/572 [05:12<00:00,  1.83it/s, loss=4.675991, lr=0.000000000]\n",
      "Processing validation examples: 100%|██████████| 324/324 [01:27<00:00,  3.71it/s, BLEU=0.000178257, METEOR=0.083929433] \n"
     ]
    },
    {
     "name": "stdout",
     "output_type": "stream",
     "text": [
      "--------------------------------------------------------------------------------\n",
      "SOURCE: The verses, which were entitled “The Haunted Palace,” ran very nearly, if not accurately, thus:—\n",
      "TARGET: S'intitolava Il palazzo incantato. Eccola qui, a un dipresso:\n",
      "PREDICTED: Quando se si a esser a quel posto , se si a quel quale si , se si a quel mezzo : ! ! ! ! ! ! ! ! ! ! ! ! ! ! ! ! ! ! ! ! ! ! ! ! ! ! ! ! ! ! ! ! ! ! ! ! ! ! ! ! ! ! ! !\n",
      "--------------------------------------------------------------------------------\n",
      "\n",
      "Epoch 77\n",
      "-------------------------------, 0 days, 8 hours, 34 minutes, 32 seconds\n",
      "\n"
     ]
    },
    {
     "name": "stderr",
     "output_type": "stream",
     "text": [
      "Processing epoch 77: 100%|██████████| 572/572 [05:12<00:00,  1.83it/s, loss=4.780856, lr=0.000000000]\n",
      "Processing validation examples: 100%|██████████| 324/324 [01:27<00:00,  3.71it/s, BLEU=0.000195503, METEOR=0.081346268] \n"
     ]
    },
    {
     "name": "stdout",
     "output_type": "stream",
     "text": [
      "--------------------------------------------------------------------------------\n",
      "SOURCE: 'If you looked carefully into that girl's story, you would find that she had left her family or a sister's family, where she might have done woman's work,' said Dolly, irritably and unexpectedly intervening in the conversation. She probably guessed what girl her husband had in his mind.\n",
      "TARGET: — Se esaminate bene la storia di una tale ragazza, troverete che essa ha abbandonato la famiglia propria o quella della sorella dove avrebbe potuto avere un lavoro femminile — disse con irritazione Dar’ja Aleksandrovna, entrando improvvisamente nella conversazione e indovinando probabilmente quale ragazza avesse presente Stepan Arkad’ic .\n",
      "PREDICTED: — E io ho detto che cosa la cosa — disse la risposta Dolly , e dopo un sorriso che la sua cosa era detto che la risposta di una cosa — e a un ’ altra e , dopo la risposta che cosa era detto di una cosa che cosa la risposta . — E tu tu tu tu tu tu tu tu tu tu tu è detto ? ? ? , che tu tu tu tu ? ? ? . . . . . . . . . . . . . . . . . . . . . . . . . . . . . . . . . . . . . . . . . . . . . . . .\n",
      "--------------------------------------------------------------------------------\n",
      "\n",
      "Epoch 78\n",
      "-------------------------------, 0 days, 8 hours, 41 minutes, 12 seconds\n",
      "\n"
     ]
    },
    {
     "name": "stderr",
     "output_type": "stream",
     "text": [
      "Processing epoch 78: 100%|██████████| 572/572 [05:12<00:00,  1.83it/s, loss=4.652030, lr=0.000000000]\n",
      "Processing validation examples: 100%|██████████| 324/324 [01:27<00:00,  3.71it/s, BLEU=0.000067197, METEOR=0.086929618] \n"
     ]
    },
    {
     "name": "stdout",
     "output_type": "stream",
     "text": [
      "--------------------------------------------------------------------------------\n",
      "SOURCE: Help me!\"... These horses, this carriage, how horrid it is of me to be in this carriage – they are all his, but I shall not see them any more.'\n",
      "TARGET: Questi cavalli, questo carrozzino, come mi vedo ripugnante in questo carrozzino. Tutto è suo, ma non vedrò più nulla”.\n",
      "PREDICTED: E , se la vita è più più più più più più più più come più come è più più , ma se è più più più più più più , ma è più più più più più più , ma è più per me . , è più più più più più così . . . . ! ! ! ! ! ! ! ! ! ! !\n",
      "--------------------------------------------------------------------------------\n",
      "\n",
      "Epoch 79\n",
      "-------------------------------, 0 days, 8 hours, 47 minutes, 52 seconds\n",
      "\n"
     ]
    },
    {
     "name": "stderr",
     "output_type": "stream",
     "text": [
      "Processing epoch 79: 100%|██████████| 572/572 [05:12<00:00,  1.83it/s, loss=4.633182, lr=0.000000000]\n",
      "Processing validation examples: 100%|██████████| 324/324 [01:27<00:00,  3.71it/s, BLEU=0.000117421, METEOR=0.083405160] \n"
     ]
    },
    {
     "name": "stdout",
     "output_type": "stream",
     "text": [
      "--------------------------------------------------------------------------------\n",
      "SOURCE: When he had settled in the arm-chair in the little drawing room where he always had his tea, and Agatha Mikhaylovna had brought it in for him and had sat down at the window with her usual remark, 'I will sit down sir!' he felt that, strange to say, he had not really forgotten his dreams and that he could not live without them.\n",
      "TARGET: Quando entrò nel salottino dove era solito prendere il tè e si mise a sedere nella sua poltrona con un libro, e quando Agaf’ja Michajlovna gli portò il tè e, col suo solito «e mi metto a sedere anch’io, batjuška», si accomodò sulla sedia accanto alla finestra, Levin sentì che, per quanto ciò fosse strano, egli non aveva abbandonato il suo sogno e non poteva vivere senza esso.\n",
      "PREDICTED: la sua padrona , quando aveva già preso in Kitty aveva preso la sua mano di Kitty , si aveva preso in Kitty , e , aveva preso la sua mano a un ’ espressione di Kitty , aveva preso in Kitty , aveva preso in Kitty , aveva preso in mano in mano in mano a un ’ espressione di Kitty che aveva , e lo aveva , e , aveva in in in Kitty lo : “ ! ! ! ! ! ! ! ! ! ! ! ! ! ! ! ! ! ! ! ! ! ! ! ! ! ! ! ! ! ! ! ! ! ! ! ! ! ! ! ! ! ! ! ! ! ! ! ! ! ! ! ! ! ! ! ! ! ! ! ! ! ! ! ! ! ! ! ! ! ! ! ! ! ! ! ! ! ! ! ! ! ! ! ! ! ! ! ! ! ! ! ! ! ! ! ! ! ! ! ! ! ! ! ! ! ! ! !\n",
      "--------------------------------------------------------------------------------\n",
      "\n",
      "Epoch 80\n",
      "-------------------------------, 0 days, 8 hours, 54 minutes, 32 seconds\n",
      "\n"
     ]
    },
    {
     "name": "stderr",
     "output_type": "stream",
     "text": [
      "Processing epoch 80: 100%|██████████| 572/572 [05:13<00:00,  1.83it/s, loss=4.941232, lr=0.000000000]\n",
      "Processing validation examples: 100%|██████████| 324/324 [01:27<00:00,  3.71it/s, BLEU=0.000211568, METEOR=0.090948382] \n"
     ]
    },
    {
     "name": "stdout",
     "output_type": "stream",
     "text": [
      "--------------------------------------------------------------------------------\n",
      "SOURCE: Can't possibly take you in to- night.\"\n",
      "TARGET: Non mi è possibile albergarvi, stasera.\n",
      "PREDICTED: Che avete vero non avete vero ? . . . . .\n",
      "--------------------------------------------------------------------------------\n",
      "\n",
      "Epoch 81\n",
      "-------------------------------, 0 days, 9 hours, 1 minutes, 13 seconds\n",
      "\n"
     ]
    },
    {
     "name": "stderr",
     "output_type": "stream",
     "text": [
      "Processing epoch 81: 100%|██████████| 572/572 [05:12<00:00,  1.83it/s, loss=4.645003, lr=0.000000000]\n",
      "Processing validation examples: 100%|██████████| 324/324 [01:27<00:00,  3.71it/s, BLEU=0.000108793, METEOR=0.081779313] \n"
     ]
    },
    {
     "name": "stdout",
     "output_type": "stream",
     "text": [
      "--------------------------------------------------------------------------------\n",
      "SOURCE: It was only my station, and the rank of my wife, that you valued? Now that you think me disqualified to become your husband, you recoil from my touch as if I were some toad or ape.\"\n",
      "TARGET: Ora non valgo più nulla ai vostri occhi, perché sapete che non posso esser vostro marito, e mi fuggite come un rospo o un mostro?\n",
      "PREDICTED: per me , per me , per la mia vita , e per per me , per il mio figlio , e per la mia vita , per me per me , per mio figlio . , , , mio mio mio mio mio mio mio mio mio mio . , mio mio mio mio mio mio , mio mio mio mio mio mio mio mio mio mio mio mio mio mio mio mio mio , mio mio mio mio mio mio mio mio mio mio mio mio , mio , mio mio mio mio mio mio mio mio mio mio mio , mio . , mio mio mio mio mio mio mio mio mio mio mio , mio , mio , mio mio mio mio mio mio mio mio mio mio , mio mio mio mio mio . , mio mio mio mio mio mio mio mio mio mio mio mio mio mio mio mio mio mio mio , mio mio mio mio , mio . . , mio , mio mio mio mio mio , mio , mio , mio , mio mio mio mio mio mio mio . , mio mio , mio , mio , mio mio mio mio mio mio mio , mio . . , mio mio , mio mio mio mio mio mio mio , mio mio mio mio , mio mio mio mio mio mio mio mio mio mio mio mio mio mio mio mio mio mio mio mio mio mio mio mio mio mio mio mio mio mio mio mio mio mio mio mio mio mio mio mio mio mio mio mio mio mio mio mio mio mio mio , mio mio mio mio mio mio mio mio mio mio mio mio mio\n",
      "--------------------------------------------------------------------------------\n",
      "\n",
      "Epoch 82\n",
      "-------------------------------, 0 days, 9 hours, 7 minutes, 53 seconds\n",
      "\n"
     ]
    },
    {
     "name": "stderr",
     "output_type": "stream",
     "text": [
      "Processing epoch 82: 100%|██████████| 572/572 [05:12<00:00,  1.83it/s, loss=4.682205, lr=0.000000000]\n",
      "Processing validation examples: 100%|██████████| 324/324 [01:27<00:00,  3.71it/s, BLEU=0.000060191, METEOR=0.085343773] \n"
     ]
    },
    {
     "name": "stdout",
     "output_type": "stream",
     "text": [
      "--------------------------------------------------------------------------------\n",
      "SOURCE: Everything about his face and figure – from his black closely-cropped hair and freshly-shaven chin to his wide, brand-new uniform – was simple and at the same time elegant.\n",
      "TARGET: Nel viso e nella persona di lui, dai capelli neri dal taglio corto e dal mento rasato di fresco fino all’uniforme ampia e nuova fiammante, tutto era semplice e nello stesso tempo elegante.\n",
      "PREDICTED: La figura che gli erano ancora le capelli , le capelli che gli erano e due capelli , gli occhi che gli erano , e i capelli erano , gli occhi di lei , gli occhi che gli faceva in lei e due capelli sul viso . ! ! ! . . . . . . . . . . . . . . . . . . . . . .\n",
      "--------------------------------------------------------------------------------\n",
      "\n",
      "Epoch 83\n",
      "-------------------------------, 0 days, 9 hours, 14 minutes, 33 seconds\n",
      "\n"
     ]
    },
    {
     "name": "stderr",
     "output_type": "stream",
     "text": [
      "Processing epoch 83: 100%|██████████| 572/572 [05:12<00:00,  1.83it/s, loss=4.948690, lr=0.000000000]\n",
      "Processing validation examples: 100%|██████████| 324/324 [01:27<00:00,  3.71it/s, BLEU=0.000067308, METEOR=0.088160969] \n"
     ]
    },
    {
     "name": "stdout",
     "output_type": "stream",
     "text": [
      "--------------------------------------------------------------------------------\n",
      "SOURCE: 'There is one thing more that I must tell you,' began Oblonsky. 'You know Vronsky?'\n",
      "TARGET: Conosci Vronskij? — chiese Stepan Arkad’ic a Levin.\n",
      "PREDICTED: — Ah che io ho fatto di Vronskij — disse Stepan Arkad ’ ic — che vi è fatto a Vronskij . — È forse io io io io ho bisogno ? . . . . . . . . . . . . . . . . . . . . . . . . . . . . . . . .\n",
      "--------------------------------------------------------------------------------\n",
      "\n",
      "Epoch 84\n",
      "-------------------------------, 0 days, 9 hours, 21 minutes, 13 seconds\n",
      "\n"
     ]
    },
    {
     "name": "stderr",
     "output_type": "stream",
     "text": [
      "Processing epoch 84: 100%|██████████| 572/572 [05:13<00:00,  1.83it/s, loss=4.891421, lr=0.000000000]\n",
      "Processing validation examples: 100%|██████████| 324/324 [01:27<00:00,  3.71it/s, BLEU=0.000083828, METEOR=0.088412496] \n"
     ]
    },
    {
     "name": "stdout",
     "output_type": "stream",
     "text": [
      "--------------------------------------------------------------------------------\n",
      "SOURCE: My slippers were thin: I could walk the matted floor as softly as a cat.\n",
      "TARGET: Avevo le pantofole fine e camminando sul tappeto non facevo più rumore di un gatto.\n",
      "PREDICTED: La voce che un da un da un ' aria . ! ! ! . . . . . . . . . . . . . . . . . . . . . . . . . . . . . . . . . . . . . . . . . . . . . . . . . . . . . . . . . . . . . . . . . . . . . . . . . . . . . . . . . . . .\n",
      "--------------------------------------------------------------------------------\n",
      "\n",
      "Epoch 85\n",
      "-------------------------------, 0 days, 9 hours, 27 minutes, 53 seconds\n",
      "\n"
     ]
    },
    {
     "name": "stderr",
     "output_type": "stream",
     "text": [
      "Processing epoch 85: 100%|██████████| 572/572 [05:12<00:00,  1.83it/s, loss=4.804609, lr=0.000000000]\n",
      "Processing validation examples: 100%|██████████| 324/324 [01:27<00:00,  3.71it/s, BLEU=0.000057651, METEOR=0.077660865] \n"
     ]
    },
    {
     "name": "stdout",
     "output_type": "stream",
     "text": [
      "--------------------------------------------------------------------------------\n",
      "SOURCE: She was three days without speaking; but last Tuesday she seemed rather better: she appeared as if she wanted to say something, and kept making signs to my wife and mumbling. It was only yesterday morning, however, that Bessie understood she was pronouncing your name; and at last she made out the words, 'Bring Jane--fetch Jane Eyre: I want to speak to her.'\n",
      "TARGET: Per tre giorni non ha parlato, martedì poi stava un po' meglio e accennava sempre a mia moglie di voler parlarvi; però soltanto iermattina Bessie l'ha intesa balbettare il vostro nome, perché finalmente ha potuto dire queste parole: \"Conducete Jane, andate a cercare Jane Eyre, perché voglio parlarle.\"\n",
      "PREDICTED: Le parole mi aveva dimenticato la signora e non avevo dimenticato ; ma non avevo dimenticato la signora Fairfax . Le John aveva dimenticato due minuti e non avevo dimenticato ; ma voleva e voleva e si aveva dimenticato di lei , e si aveva dimenticato la porta di mano di mano . . . . . . . . . . . . . . . . . . . . . . . . . . . .\n",
      "--------------------------------------------------------------------------------\n",
      "\n",
      "Epoch 86\n",
      "-------------------------------, 0 days, 9 hours, 34 minutes, 34 seconds\n",
      "\n"
     ]
    },
    {
     "name": "stderr",
     "output_type": "stream",
     "text": [
      "Processing epoch 86: 100%|██████████| 572/572 [05:12<00:00,  1.83it/s, loss=4.466791, lr=0.000000000]\n",
      "Processing validation examples: 100%|██████████| 324/324 [01:27<00:00,  3.71it/s, BLEU=0.000000000, METEOR=0.088520176] \n"
     ]
    },
    {
     "name": "stdout",
     "output_type": "stream",
     "text": [
      "--------------------------------------------------------------------------------\n",
      "SOURCE: I hung my great sword, as usual, naked by my side, and gave Friday his hatchet.\n",
      "TARGET: Attaccatami, secondo il solito, alla cintura la mia spada senza fodero, diedi a Venerdì il suo segolo.\n",
      "PREDICTED: il mio , che il mio mio , il mio con cui aveva il mio , il mio . , in cui aveva fatto il mio . in questo che aveva fatto il mio tempo . . . . . . . . . . . . . . . . . . . . . . . . . . . . . . . . . . . . . . . . . . . . . . . .\n",
      "--------------------------------------------------------------------------------\n",
      "\n",
      "Epoch 87\n",
      "-------------------------------, 0 days, 9 hours, 41 minutes, 14 seconds\n",
      "\n"
     ]
    },
    {
     "name": "stderr",
     "output_type": "stream",
     "text": [
      "Processing epoch 87: 100%|██████████| 572/572 [05:12<00:00,  1.83it/s, loss=4.558562, lr=0.000000000]\n",
      "Processing validation examples: 100%|██████████| 324/324 [01:27<00:00,  3.72it/s, BLEU=0.000239326, METEOR=0.088712600] \n"
     ]
    },
    {
     "name": "stdout",
     "output_type": "stream",
     "text": [
      "--------------------------------------------------------------------------------\n",
      "SOURCE: The expression of his face and his whole figure, in uniform with crosses and white trousers trimmed with gold lace, as he went hurriedly along, reminded Levin of a hunted animal conscious that things are going badly with him.\n",
      "TARGET: La espressione del viso e di tutta la sua figura in divisa, con le croci e i pantaloni bianchi gallonati, mentre camminava in fretta, ricordò a Levin una bestia inseguita che vede la propria situazione farsi cattiva.\n",
      "PREDICTED: Il principe con gli con una voce con una e con Levin con una e con una con gli occhi con una , con una con Levin , con lo sguardo con lo sguardo con Levin e lo sguardo con lo sguardo con lo sguardo . con lui . . . . .\n",
      "--------------------------------------------------------------------------------\n",
      "\n",
      "Epoch 88\n",
      "-------------------------------, 0 days, 9 hours, 47 minutes, 54 seconds\n",
      "\n"
     ]
    },
    {
     "name": "stderr",
     "output_type": "stream",
     "text": [
      "Processing epoch 88: 100%|██████████| 572/572 [05:12<00:00,  1.83it/s, loss=4.461212, lr=0.000000000]\n",
      "Processing validation examples: 100%|██████████| 324/324 [01:27<00:00,  3.71it/s, BLEU=0.000203324, METEOR=0.083415676] \n"
     ]
    },
    {
     "name": "stdout",
     "output_type": "stream",
     "text": [
      "--------------------------------------------------------------------------------\n",
      "SOURCE: 'Oh, not at all!\n",
      "TARGET: — Ah! per nulla!\n",
      "PREDICTED: — No , tutto ! . . . . . . . . . . . . . . . . . . . . . . . . . . . . . . . . . . . . . . . . . . . . . . . . . . . . . . . . . . . . . . . . . . . . . . . . . . . . . . . . . . . . . . . . . . . . . . . . . . . .\n",
      "--------------------------------------------------------------------------------\n",
      "\n",
      "Epoch 89\n",
      "-------------------------------, 0 days, 9 hours, 54 minutes, 34 seconds\n",
      "\n"
     ]
    },
    {
     "name": "stderr",
     "output_type": "stream",
     "text": [
      "Processing epoch 89: 100%|██████████| 572/572 [05:13<00:00,  1.83it/s, loss=4.621060, lr=0.000000000]\n",
      "Processing validation examples: 100%|██████████| 324/324 [01:27<00:00,  3.71it/s, BLEU=0.000000000, METEOR=0.087700418] \n"
     ]
    },
    {
     "name": "stdout",
     "output_type": "stream",
     "text": [
      "--------------------------------------------------------------------------------\n",
      "SOURCE: When she saw Levin she embraced him and began to cry.\n",
      "TARGET: Visto Levin, lo abbracciò e si mise a piangere.\n",
      "PREDICTED: Quando si alzò , Levin si alzò e si alzò a lui , si alzò . . . . . . . . . . . . . . . . . . . . . . . . . . . . . . . . . . . . . . . . . . . . . . . . . . . . . . . . . . . . . . . . . . . . . . . . . . . . . . . . . . . . . . . . . . . . . . . . . . . . . . . . . . . . . . . .\n",
      "--------------------------------------------------------------------------------\n",
      "\n",
      "Epoch 90\n",
      "-------------------------------, 0 days, 10 hours, 1 minutes, 15 seconds\n",
      "\n"
     ]
    },
    {
     "name": "stderr",
     "output_type": "stream",
     "text": [
      "Processing epoch 90: 100%|██████████| 572/572 [05:13<00:00,  1.83it/s, loss=4.335298, lr=0.000000000]\n",
      "Processing validation examples: 100%|██████████| 324/324 [01:27<00:00,  3.71it/s, BLEU=0.000000000, METEOR=0.085610393] \n"
     ]
    },
    {
     "name": "stdout",
     "output_type": "stream",
     "text": [
      "--------------------------------------------------------------------------------\n",
      "SOURCE: Levin's arrival at the beginning of the winter, his frequent visits and evident love for Kitty gave rise to her parents' first serious deliberation as to her future and to disputes between them.\n",
      "TARGET: L’apparizione di Levin al principio dell’inverno, le visite frequenti e il suo evidente amore per Kitty erano stato l’oggetto dei primi discorsi seri fra i genitori di Kitty sul suo avvenire, e di litigi fra il principe e la principessa.\n",
      "PREDICTED: Per Kitty al suo marito , al suo marito , al suo tempo si al suo marito e in Kitty in Kitty in Kitty . al tempo in Kitty in Kitty . in Kitty . . . . . . . . . . . . . . . .\n",
      "--------------------------------------------------------------------------------\n",
      "\n",
      "Epoch 91\n",
      "-------------------------------, 0 days, 10 hours, 7 minutes, 55 seconds\n",
      "\n"
     ]
    },
    {
     "name": "stderr",
     "output_type": "stream",
     "text": [
      "Processing epoch 91: 100%|██████████| 572/572 [05:12<00:00,  1.83it/s, loss=4.473525, lr=0.000000000]\n",
      "Processing validation examples: 100%|██████████| 324/324 [01:27<00:00,  3.71it/s, BLEU=0.000000000, METEOR=0.078906858] \n"
     ]
    },
    {
     "name": "stdout",
     "output_type": "stream",
     "text": [
      "--------------------------------------------------------------------------------\n",
      "SOURCE: You are dreaming, sir,--or you are sneering.\n",
      "TARGET: Sognate, signore, o vi burlate di me?\n",
      "PREDICTED: Vi sono più l ' amore , signore . , signore , signore , signore .... .... .... . . . . . . . .\n",
      "--------------------------------------------------------------------------------\n",
      "\n",
      "Epoch 92\n",
      "-------------------------------, 0 days, 10 hours, 14 minutes, 35 seconds\n",
      "\n"
     ]
    },
    {
     "name": "stderr",
     "output_type": "stream",
     "text": [
      "Processing epoch 92: 100%|██████████| 572/572 [05:12<00:00,  1.83it/s, loss=4.099119, lr=0.000000000]\n",
      "Processing validation examples: 100%|██████████| 324/324 [01:27<00:00,  3.71it/s, BLEU=0.000054873, METEOR=0.082795151] \n"
     ]
    },
    {
     "name": "stdout",
     "output_type": "stream",
     "text": [
      "--------------------------------------------------------------------------------\n",
      "SOURCE: But as in carrying them into effect they become revealed and known, they are at once obstructed by those men whom he has around him, and he, being pliant, is diverted from them.\n",
      "TARGET: Perché l’imperatore è uomo secreto, non comunica li sua disegni con persona, non ne piglia parere: ma, come nel metterli ad effetto si cominciono a conoscere e scoprire, li cominciono ad essere contradetti da coloro che elli ha d'intorno; e quello, come facile, se ne stoglie.\n",
      "PREDICTED: Ma , si , si , di loro , di loro loro loro , di loro , si , e più più più più di loro , si più più delle loro persone di loro . . . . . . . . . . . . . . . . . . . . . . . . . . . . . . . . . . . . . . . . . . . . . . . . . . . . . . . . . . . . . . . . . . . . . . . .\n",
      "--------------------------------------------------------------------------------\n",
      "\n",
      "Epoch 93\n",
      "-------------------------------, 0 days, 10 hours, 21 minutes, 15 seconds\n",
      "\n"
     ]
    },
    {
     "name": "stderr",
     "output_type": "stream",
     "text": [
      "Processing epoch 93: 100%|██████████| 572/572 [05:12<00:00,  1.83it/s, loss=4.238201, lr=0.000000000]\n",
      "Processing validation examples: 100%|██████████| 324/324 [01:27<00:00,  3.71it/s, BLEU=0.000000000, METEOR=0.084886981] \n"
     ]
    },
    {
     "name": "stdout",
     "output_type": "stream",
     "text": [
      "--------------------------------------------------------------------------------\n",
      "SOURCE: That's him,' said the door-keeper pointing to a strongly-built broad-shouldered man with a curly beard, who, without taking off his sheep-skin cap, was running lightly and quickly up the worn steps of the stone staircase.\n",
      "TARGET: Eccolo — disse l’usciere, indicando un uomo di costituzione forte, largo di spalle, con la barba ricciuta, il quale, senza togliersi il berretto di montone, saliva lesto e leggero i gradini consumati della scala di pietra.\n",
      "PREDICTED: — È una bella bella — disse , guardando con la testa e guardando con le , con la testa , con le , con la testa del cappello del cappello del cappello e del cappello , che era , con la testa del cappello . .... .... .... , che non c ’ era .... .... .... .... .... .... .... . . . .... . . . . . . . . . . . . . . . .\n",
      "--------------------------------------------------------------------------------\n",
      "\n",
      "Epoch 94\n",
      "-------------------------------, 0 days, 10 hours, 27 minutes, 56 seconds\n",
      "\n"
     ]
    },
    {
     "name": "stderr",
     "output_type": "stream",
     "text": [
      "Processing epoch 94:  57%|█████▋    | 325/572 [02:58<02:15,  1.82it/s, loss=4.201868, lr=0.000000000]\n"
     ]
    },
    {
     "ename": "KeyboardInterrupt",
     "evalue": "",
     "output_type": "error",
     "traceback": [
      "\u001b[0;31m---------------------------------------------------------------------------\u001b[0m",
      "\u001b[0;31mKeyboardInterrupt\u001b[0m                         Traceback (most recent call last)",
      "Cell \u001b[0;32mIn[44], line 14\u001b[0m\n\u001b[1;32m     12\u001b[0m     train_loss, train_lr \u001b[38;5;241m=\u001b[39m train_loop(model, train_dataloader, device, tokenizer_target, epoch, loss_fn, optimizer, lr_scheduler)    \n\u001b[1;32m     13\u001b[0m \u001b[38;5;28;01melse\u001b[39;00m:\n\u001b[0;32m---> 14\u001b[0m     train_loss, train_lr \u001b[38;5;241m=\u001b[39m \u001b[43mtrain_loop\u001b[49m\u001b[43m(\u001b[49m\u001b[43mmodel\u001b[49m\u001b[43m,\u001b[49m\u001b[43m \u001b[49m\u001b[43mtrain_dataloader\u001b[49m\u001b[43m,\u001b[49m\u001b[43m \u001b[49m\u001b[43mdevice\u001b[49m\u001b[43m,\u001b[49m\u001b[43m \u001b[49m\u001b[43mtokenizer_target\u001b[49m\u001b[43m,\u001b[49m\u001b[43m \u001b[49m\u001b[43mepoch\u001b[49m\u001b[43m,\u001b[49m\u001b[43m \u001b[49m\u001b[43mloss_fn\u001b[49m\u001b[43m,\u001b[49m\u001b[43m \u001b[49m\u001b[43moptimizer\u001b[49m\u001b[43m)\u001b[49m\n\u001b[1;32m     16\u001b[0m \u001b[38;5;66;03m# We run the 'run_validation' function at the end of each epoch\u001b[39;00m\n\u001b[1;32m     17\u001b[0m \u001b[38;5;66;03m# to evaluate model performance\u001b[39;00m\n\u001b[1;32m     18\u001b[0m validation_meteor, validation_bleu \u001b[38;5;241m=\u001b[39m validation_loop(model, validation_dataloader, tokenizer_target, max_sequence_len, device)\n",
      "Cell \u001b[0;32mIn[40], line 23\u001b[0m, in \u001b[0;36mtrain_loop\u001b[0;34m(model, train_dataloader, device, tokenizer_target, epoch, loss_fn, optimizer, lr_scheduler)\u001b[0m\n\u001b[1;32m     20\u001b[0m proj_output \u001b[38;5;241m=\u001b[39m model(encoder_input, decoder_input, decoder_mask)\n\u001b[1;32m     22\u001b[0m \u001b[38;5;66;03m# Loading the target labels onto the GPU\u001b[39;00m\n\u001b[0;32m---> 23\u001b[0m label \u001b[38;5;241m=\u001b[39m \u001b[43mbatch\u001b[49m\u001b[43m[\u001b[49m\u001b[38;5;124;43m'\u001b[39;49m\u001b[38;5;124;43mlabel\u001b[39;49m\u001b[38;5;124;43m'\u001b[39;49m\u001b[43m]\u001b[49m\u001b[38;5;241;43m.\u001b[39;49m\u001b[43mto\u001b[49m\u001b[43m(\u001b[49m\u001b[43mdevice\u001b[49m\u001b[43m)\u001b[49m\n\u001b[1;32m     25\u001b[0m \u001b[38;5;66;03m# Computing loss between model's output and true labels\u001b[39;00m\n\u001b[1;32m     26\u001b[0m loss \u001b[38;5;241m=\u001b[39m loss_fn(proj_output\u001b[38;5;241m.\u001b[39mview(\u001b[38;5;241m-\u001b[39m\u001b[38;5;241m1\u001b[39m, tokenizer_target\u001b[38;5;241m.\u001b[39mget_vocab_size()), label\u001b[38;5;241m.\u001b[39mview(\u001b[38;5;241m-\u001b[39m\u001b[38;5;241m1\u001b[39m))\n",
      "\u001b[0;31mKeyboardInterrupt\u001b[0m: "
     ]
    }
   ],
   "source": [
    "from tqdm import tqdm\n",
    "\n",
    "max_seconds = 60*60*11 + 60*30 # 11 horas y 30 minutos\n",
    "t0 = time.time()\n",
    "\n",
    "for epoch in range(0, EPOCHS):\n",
    "    days, hours, minutes, seconds = elapsed_time(t0)\n",
    "    print(f\"\\nEpoch {epoch}\\n-------------------------------, {days} days, {hours} hours, {minutes} minutes, {seconds} seconds\")\n",
    "\n",
    "    # We run the 'train_loop' function at the beginning of each epoch\n",
    "    if LR_SCHEDULER:\n",
    "        train_loss, train_lr = train_loop(model, train_dataloader, device, tokenizer_target, epoch, loss_fn, optimizer, lr_scheduler)    \n",
    "    else:\n",
    "        train_loss, train_lr = train_loop(model, train_dataloader, device, tokenizer_target, epoch, loss_fn, optimizer)\n",
    "        \n",
    "    # We run the 'run_validation' function at the end of each epoch\n",
    "    # to evaluate model performance\n",
    "    validation_meteor, validation_bleu = validation_loop(model, validation_dataloader, tokenizer_target, max_sequence_len, device)\n",
    "\n",
    "    train_loss_list = np.append(train_loss_list, train_loss)\n",
    "    train_lr_list = np.append(train_lr_list, train_lr)\n",
    "    validation_meteor_list = np.append(validation_meteor_list, validation_meteor)\n",
    "    validation_bleu_list = np.append(validation_bleu_list, validation_bleu)\n",
    "\n",
    "    if (validation_bleu > best_bleu) and SAVE_BEST_MODEL:\n",
    "        best_bleu = validation_bleu\n",
    "        weights = f\"{MODEL_PATH}/transformer_{epoch}_{actual_step.get_step()}.pth\"\n",
    "        print(f\"Saving model to {weights}\")\n",
    "        if GPUS > 1:\n",
    "            torch.save(model.state_dict(), weights)\n",
    "        else:\n",
    "            torch.save(model, weights)\n",
    "        print(f\"Model saved to {weights}\")\n",
    "\n",
    "        best_bleu_path = f\"{MODEL_PATH}/best_validation_bleu_{epoch}_{actual_step.get_step()}.npy\"\n",
    "        print(f\"Saving best validation meteor to {best_bleu_path}\")\n",
    "        np.save(best_bleu_path, best_bleu)\n",
    "        print(f\"Best validation meteor saved to {best_bleu_path}\")\n",
    "    \n",
    "    days, hours, minutes, seconds = elapsed_time(t0)\n",
    "    if (elapsed_seconds(days, hours, minutes, seconds) > max_seconds) and STOP_AT_TIME:\n",
    "        print(f\"Elapsed time: {days} days, {hours} hours, {minutes} minutes, {seconds} seconds\")\n",
    "        break\n",
    "\n",
    "print(\"Done\")"
   ]
  },
  {
   "cell_type": "code",
   "execution_count": 45,
   "metadata": {},
   "outputs": [
    {
     "data": {
      "image/png": "[encoded data removed]",
      "text/plain": [
       "<Figure size 2000x500 with 3 Axes>"
      ]
     },
     "metadata": {},
     "output_type": "display_data"
    }
   ],
   "source": [
    "import matplotlib.pyplot as plt\n",
    "\n",
    "fig, axs = plt.subplots(1, 3, figsize=(20, 5))\n",
    "axs[0].plot(train_loss_list)\n",
    "axs[0].set_title(\"Loss\")\n",
    "axs[1].plot(validation_meteor_list)\n",
    "axs[1].plot(validation_bleu_list)\n",
    "axs[1].legend([\"Meteor\", \"Bleu\"])\n",
    "axs[1].set_title(\"Validation metrics\")\n",
    "axs[2].plot(train_lr_list)\n",
    "axs[2].set_title(\"Learning rate\")\n",
    "plt.show()"
   ]
  }
 ],
 "metadata": {
  "kernelspec": {
   "display_name": "cursopytorch",
   "language": "python",
   "name": "python3"
  },
  "language_info": {
   "codemirror_mode": {
    "name": "ipython",
    "version": 3
   },
   "file_extension": ".py",
   "mimetype": "text/x-python",
   "name": "python",
   "nbconvert_exporter": "python",
   "pygments_lexer": "ipython3",
   "version": "3.10.11"
  },
  "orig_nbformat": 4
 },
 "nbformat": 4,
 "nbformat_minor": 2
}
