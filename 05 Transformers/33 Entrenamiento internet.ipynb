{
 "cells": [
  {
   "attachments": {},
   "cell_type": "markdown",
   "metadata": {},
   "source": [
    "# Entrenamiento internet"
   ]
  },
  {
   "cell_type": "code",
   "execution_count": 1,
   "metadata": {},
   "outputs": [
    {
     "name": "stdout",
     "output_type": "stream",
     "text": [
      "BS: 128\n",
      "EPOCH0: 1, STEP0: 0\n"
     ]
    }
   ],
   "source": [
    "import os\n",
    "\n",
    "# Dataset\n",
    "SOURCE_LANGUAGE = \"en\"\n",
    "TARGET_LANGUAGE = \"it\"\n",
    "SUBSET = True\n",
    "PERCENT_SUBSET = 0.1\n",
    "\n",
    "# Train\n",
    "LR = 1e-5\n",
    "EPOCHS = 100000\n",
    "GPUS = 1\n",
    "GPU_NUMBER = 0\n",
    "if GPUS > 1:\n",
    "    BS = 120\n",
    "else:\n",
    "    if SUBSET:\n",
    "        BS = 128\n",
    "    else:\n",
    "        BS = 56\n",
    "print(f\"BS: {BS}\")\n",
    "LR_SCHEDULER = False\n",
    "SAVE_BEST_MODEL = True\n",
    "STOP_AT_TIME = False\n",
    "\n",
    "# Model\n",
    "MODEL_PATH = f\"model\"\n",
    "if os.path.exists(MODEL_PATH):\n",
    "    files = os.listdir(MODEL_PATH)\n",
    "    model_files = [file for file in files if \"transformer\" in file]\n",
    "    if len(model_files) > 0:\n",
    "        name = model_files[0].split(\".\")[0]\n",
    "        STEP0 = int(name.split(\"_\")[-1])\n",
    "        EPOCH0 = int(name.split(\"_\")[-2])\n",
    "    else:\n",
    "        EPOCH0 = 0\n",
    "        STEP0 = 0\n",
    "else:\n",
    "    EPOCH0 = 0\n",
    "    STEP0 = 0\n",
    "print(f\"EPOCH0: {EPOCH0}, STEP0: {STEP0}\")\n",
    "DIM_EMBEDDING = 512\n",
    "NUM_HEADS = 8\n",
    "NUM_LAYERS = 6\n",
    "DROPOUT = 0.1\n",
    "LABEL_SMOOTHING = 0.1\n",
    "\n",
    "# Tokenizers\n",
    "TOKENIZERS_PATH = f\"tokenizers\"\n",
    "if not os.path.exists(TOKENIZERS_PATH):\n",
    "    os.makedirs(TOKENIZERS_PATH)\n",
    "UNKNOWN_TOKEN = \"[UNK]\"\n",
    "PADDING_TOKEN = \"[PAD]\"\n",
    "START_OF_SEQUENCE = \"[SOS]\"\n",
    "END_OF_SEQUENCE = \"[EOS]\""
   ]
  },
  {
   "cell_type": "code",
   "execution_count": 2,
   "metadata": {},
   "outputs": [],
   "source": [
    "# TODOs\n",
    "# TODO: Cambiar el dataset\n",
    "# TODO: Podar el transformer\n",
    "# TODO: Entrenar en paralelo\n",
    "# TODO: Ajustar bien los parámetros del LR scheduler"
   ]
  },
  {
   "cell_type": "markdown",
   "metadata": {},
   "source": [
    "## Device ✔"
   ]
  },
  {
   "cell_type": "code",
   "execution_count": 3,
   "metadata": {},
   "outputs": [
    {
     "name": "stdout",
     "output_type": "stream",
     "text": [
      "Using GPU 0\n"
     ]
    }
   ],
   "source": [
    "import torch\n",
    "\n",
    "if torch.cuda.device_count() > 1 and GPUS > 1:\n",
    "    device = torch.device(\"cuda\" if torch.cuda.is_available() else \"cpu\")\n",
    "    print(f\"Using {torch.cuda.device_count()} GPUs\")\n",
    "else:\n",
    "    if torch.cuda.is_available():\n",
    "        device = torch.device(f\"cuda:{GPU_NUMBER}\")\n",
    "        print(f\"Using GPU {GPU_NUMBER}\")\n",
    "    else:\n",
    "        device = torch.device(\"cpu\")\n",
    "        print(\"Using CPU\")"
   ]
  },
  {
   "cell_type": "markdown",
   "metadata": {},
   "source": [
    "## Carga de los datos ✔"
   ]
  },
  {
   "cell_type": "markdown",
   "metadata": {},
   "source": [
    "Cargamos el dataset"
   ]
  },
  {
   "cell_type": "code",
   "execution_count": 4,
   "metadata": {},
   "outputs": [
    {
     "name": "stderr",
     "output_type": "stream",
     "text": [
      "Found cached dataset opus_books (/home/wallabot/.cache/huggingface/datasets/opus_books/en-it/1.0.0/e8f950a4f32dc39b7f9088908216cd2d7e21ac35f893d04d39eb594746af2daf)\n",
      "Found cached dataset opus_books (/home/wallabot/.cache/huggingface/datasets/opus_books/en-it/1.0.0/e8f950a4f32dc39b7f9088908216cd2d7e21ac35f893d04d39eb594746af2daf)\n"
     ]
    },
    {
     "data": {
      "text/plain": [
       "3233"
      ]
     },
     "execution_count": 4,
     "metadata": {},
     "output_type": "execute_result"
    }
   ],
   "source": [
    "from datasets import load_dataset\n",
    "\n",
    "if SUBSET:\n",
    "    dataset_raw = load_dataset('opus_books', f'{SOURCE_LANGUAGE}-{TARGET_LANGUAGE}', split='train')\n",
    "    len_dataset = len(dataset_raw)\n",
    "    len_subset = int(len_dataset * PERCENT_SUBSET)\n",
    "    dataset_raw = load_dataset('opus_books', f'{SOURCE_LANGUAGE}-{TARGET_LANGUAGE}', split=f'train[:{len_subset}]')\n",
    "else:\n",
    "    dataset_raw = load_dataset('opus_books', f'{SOURCE_LANGUAGE}-{TARGET_LANGUAGE}', split='train')\n",
    "\n",
    "len(dataset_raw)"
   ]
  },
  {
   "cell_type": "markdown",
   "metadata": {},
   "source": [
    "Vamos a ver cómo es el dataset"
   ]
  },
  {
   "cell_type": "code",
   "execution_count": 5,
   "metadata": {},
   "outputs": [
    {
     "data": {
      "text/plain": [
       "Dataset({\n",
       "    features: ['id', 'translation'],\n",
       "    num_rows: 3233\n",
       "})"
      ]
     },
     "execution_count": 5,
     "metadata": {},
     "output_type": "execute_result"
    }
   ],
   "source": [
    "dataset_raw"
   ]
  },
  {
   "cell_type": "markdown",
   "metadata": {},
   "source": [
    "Vemos que es una tupla de con dos características cada elemento, la primera la id y la segunda el texto.\n",
    "\n",
    "Vamos a ver el primer elemento de la tupla"
   ]
  },
  {
   "cell_type": "code",
   "execution_count": 6,
   "metadata": {},
   "outputs": [
    {
     "data": {
      "text/plain": [
       "{'id': '0',\n",
       " 'translation': {'en': 'Source: Project Gutenberg',\n",
       "  'it': 'Source: www.liberliber.it/Audiobook available here'}}"
      ]
     },
     "execution_count": 6,
     "metadata": {},
     "output_type": "execute_result"
    }
   ],
   "source": [
    "dataset_raw[0]"
   ]
  },
  {
   "cell_type": "markdown",
   "metadata": {},
   "source": [
    "Veamos ahora el segundo elemento de la tupla"
   ]
  },
  {
   "cell_type": "code",
   "execution_count": 7,
   "metadata": {},
   "outputs": [
    {
     "data": {
      "text/plain": [
       "{'id': '1', 'translation': {'en': 'Jane Eyre', 'it': 'Jane Eyre'}}"
      ]
     },
     "execution_count": 7,
     "metadata": {},
     "output_type": "execute_result"
    }
   ],
   "source": [
    "dataset_raw[1]"
   ]
  },
  {
   "cell_type": "markdown",
   "metadata": {},
   "source": [
    "Vemos que el `id` no nos aporta mucha información, por lo que no lo usaremos"
   ]
  },
  {
   "cell_type": "markdown",
   "metadata": {},
   "source": [
    "Vamos ahora a ver el elemento `translation`"
   ]
  },
  {
   "cell_type": "code",
   "execution_count": 8,
   "metadata": {},
   "outputs": [
    {
     "data": {
      "text/plain": [
       "{'en': 'Charlotte Bronte', 'it': 'Charlotte Brontë'}"
      ]
     },
     "execution_count": 8,
     "metadata": {},
     "output_type": "execute_result"
    }
   ],
   "source": [
    "dataset_raw[2]['translation']"
   ]
  },
  {
   "cell_type": "markdown",
   "metadata": {},
   "source": [
    "Cada elemento `translation` es un diccionario con el texto en el idioma original y el texto traducido"
   ]
  },
  {
   "cell_type": "markdown",
   "metadata": {},
   "source": [
    "## Entrenamiento de los tokenizers ✔"
   ]
  },
  {
   "cell_type": "markdown",
   "metadata": {},
   "source": [
    "Vamos a entrenar un tokenizer para cada idioma. Podríamos utilizar uno ya preentrenado, pero a veces entrenar uno propio puede dar mejores resultados."
   ]
  },
  {
   "cell_type": "code",
   "execution_count": 9,
   "metadata": {},
   "outputs": [],
   "source": [
    "from tokenizers import Tokenizer\n",
    "from tokenizers.models import WordLevel\n",
    "from tokenizers.trainers import WordLevelTrainer\n",
    "from tokenizers.pre_tokenizers import Whitespace"
   ]
  },
  {
   "cell_type": "code",
   "execution_count": 10,
   "metadata": {},
   "outputs": [],
   "source": [
    "def get_all_sentences(dataset):\n",
    "    all_sentences = []\n",
    "    for i in range(len(dataset)):\n",
    "        all_sentences.append(dataset[i]['translation'][SOURCE_LANGUAGE])\n",
    "        all_sentences.append(dataset[i]['translation'][TARGET_LANGUAGE])\n",
    "    return all_sentences"
   ]
  },
  {
   "cell_type": "markdown",
   "metadata": {},
   "source": [
    "Entrenamos el tokenizer para el idioma original"
   ]
  },
  {
   "cell_type": "code",
   "execution_count": 11,
   "metadata": {},
   "outputs": [
    {
     "name": "stdout",
     "output_type": "stream",
     "text": [
      "Training source tokenizer\n"
     ]
    }
   ],
   "source": [
    "tokenizer_source_path = f\"{TOKENIZERS_PATH}/tokenizer_{SOURCE_LANGUAGE}.json\"\n",
    "\n",
    "if not os.path.exists(tokenizer_source_path) or STEP0 == 0 or EPOCH0 == 0:\n",
    "    print(f\"Training source tokenizer\")\n",
    "    tokenizer_source = Tokenizer(WordLevel(unk_token=UNKNOWN_TOKEN))\n",
    "    tokenizer_source.pre_tokenizer = Whitespace()\n",
    "    trainer = WordLevelTrainer(special_tokens=[UNKNOWN_TOKEN, PADDING_TOKEN, START_OF_SEQUENCE, END_OF_SEQUENCE])\n",
    "    all_sentences = get_all_sentences(dataset_raw)\n",
    "    tokenizer_source.train_from_iterator(all_sentences, trainer)\n",
    "    tokenizer_source.save(tokenizer_source_path)\n",
    "else:\n",
    "    tokenizer_source = Tokenizer.from_file(tokenizer_source_path)"
   ]
  },
  {
   "cell_type": "markdown",
   "metadata": {},
   "source": [
    "Vamos a ver cómo es el tokenizer"
   ]
  },
  {
   "cell_type": "code",
   "execution_count": 12,
   "metadata": {},
   "outputs": [
    {
     "name": "stdout",
     "output_type": "stream",
     "text": [
      "{\n",
      "  \"version\": \"1.0\",\n",
      "  \"truncation\": null,\n",
      "  \"padding\": null,\n",
      "  \"added_tokens\": [\n",
      "    {\n",
      "      \"id\": 0,\n",
      "      \"content\": \"[UNK]\",\n",
      "      \"single_word\": false,\n",
      "      \"lstrip\": false,\n",
      "      \"rstrip\": false,\n",
      "      \"normalized\": false,\n",
      "      \"special\": true\n",
      "    },\n",
      "    {\n",
      "      \"id\": 1,\n",
      "      \"content\": \"[PAD]\",\n",
      "      \"single_word\": false,\n",
      "      \"lstrip\": false,\n",
      "      \"rstrip\": false,\n",
      "      \"normalized\": false,\n",
      "      \"special\": true\n",
      "    },\n",
      "    {\n",
      "      \"id\": 2,\n",
      "      \"content\": \"[SOS]\",\n",
      "      \"single_word\": false,\n",
      "      \"lstrip\": false,\n",
      "      \"rstrip\": false,\n",
      "      \"normalized\": false,\n",
      "      \"special\": true\n",
      "    },\n",
      "    {\n",
      "      \"id\": 3,\n",
      "      \"content\": \"[EOS]\",\n",
      "      \"single_word\": false,\n",
      "      \"lstrip\": false,\n",
      "      \"rstrip\": false,\n",
      "      \"normalized\": false,\n",
      "      \"special\": true\n",
      "    }\n",
      "  ],\n",
      "  \"normalizer\": null,\n",
      "  \"pre_tokenizer\": {\n",
      "    \"type\": \"Whitespace\"\n",
      "  },\n",
      "  \"post_processor\": null,\n",
      "  \"decoder\": null,\n",
      "  \"model\": {\n",
      "    \"type\": \"WordLevel\",\n",
      "    \"vocab\": {\n",
      "      \"[UNK]\": 0,\n",
      "      \"[PAD]\": 1,\n",
      "      \"[SOS]\": 2,\n",
      "      \"[EOS]\": 3,\n",
      "      \",\": 4,\n",
      "      \".\": 5,\n",
      "      \"the\": 6,\n",
      "      \"and\": 7,\n",
      "      \"I\": 8,\n",
      "      \"a\": 9,\n",
      "      \";\": 10,\n",
      "      \"to\": 11,\n",
      "      \"e\": 12,\n",
      "      \"of\": 13,\n",
      "      \"in\": 14,\n",
      "      \"di\": 15,\n",
      "      \"—\": 16,\n",
      "      \"che\": 17,\n",
      "      \"\\\"\": 18,\n",
      "      \"'\": 19,\n",
      "      \"la\": 20,\n",
      "      \":\": 21,\n",
      "      \"was\": 22,\n",
      "      \"il\": 23,\n",
      "      \"me\": 24,\n",
      "      \"her\": 25,\n",
      "      \"you\": 26,\n",
      "      \"non\": 27,\n",
      "      \"it\": 28,\n",
      "      \"un\": 29,\n",
      "      \"my\": 30,\n",
      "      \"mi\": 31,\n",
      "      \"?\": 32,\n",
      "      \"she\": 33,\n",
      "      \"una\": 34,\n",
      "      \"that\": 35,\n",
      "      \"had\": 36,\n",
      "      \".\\\"\": 37,\n",
      "      \"le\": 38,\n",
      "      \"as\": 39,\n",
      "      \"not\": 40,\n",
      "      \"per\": 41,\n",
      "      \"with\": 42,\n",
      "      \"-\": 43,\n",
      "      \"era\": 44,\n",
      "      \"on\": 45,\n",
      "      \"he\": 46,\n",
      "      \"is\": 47,\n",
      "      \"for\": 48,\n"
     ]
    }
   ],
   "source": [
    "with open(tokenizer_source_path, 'r') as file:\n",
    "    for i in range(100):\n",
    "        line = file.readline()\n",
    "        if line == \"\\n\":\n",
    "            continue\n",
    "        print(line, end=\"\")"
   ]
  },
  {
   "cell_type": "markdown",
   "metadata": {},
   "source": [
    "Entrenamos el tokenizer para el idioma traducido"
   ]
  },
  {
   "cell_type": "code",
   "execution_count": 13,
   "metadata": {},
   "outputs": [
    {
     "name": "stdout",
     "output_type": "stream",
     "text": [
      "Training target tokenizer\n"
     ]
    }
   ],
   "source": [
    "tokenizer_target_path = f\"{TOKENIZERS_PATH}/tokenizer_{TARGET_LANGUAGE}.json\"\n",
    "\n",
    "if not os.path.exists(tokenizer_target_path) or STEP0 == 0 or EPOCH0 == 0:\n",
    "    print(f\"Training target tokenizer\")\n",
    "    tokenizer_target = Tokenizer(WordLevel(unk_token=UNKNOWN_TOKEN))\n",
    "    tokenizer_target.pre_tokenizer = Whitespace()\n",
    "    trainer = WordLevelTrainer(special_tokens=[UNKNOWN_TOKEN, PADDING_TOKEN, START_OF_SEQUENCE, END_OF_SEQUENCE])\n",
    "    all_sentences = get_all_sentences(dataset_raw)\n",
    "    tokenizer_target.train_from_iterator(all_sentences, trainer)\n",
    "    tokenizer_target.save(tokenizer_target_path)\n",
    "else:\n",
    "    tokenizer_target = Tokenizer.from_file(tokenizer_target_path)"
   ]
  },
  {
   "cell_type": "markdown",
   "metadata": {},
   "source": [
    "Vamos a ver cómo es el tokenizer"
   ]
  },
  {
   "cell_type": "code",
   "execution_count": 14,
   "metadata": {},
   "outputs": [
    {
     "name": "stdout",
     "output_type": "stream",
     "text": [
      "{\n",
      "  \"version\": \"1.0\",\n",
      "  \"truncation\": null,\n",
      "  \"padding\": null,\n",
      "  \"added_tokens\": [\n",
      "    {\n",
      "      \"id\": 0,\n",
      "      \"content\": \"[UNK]\",\n",
      "      \"single_word\": false,\n",
      "      \"lstrip\": false,\n",
      "      \"rstrip\": false,\n",
      "      \"normalized\": false,\n",
      "      \"special\": true\n",
      "    },\n",
      "    {\n",
      "      \"id\": 1,\n",
      "      \"content\": \"[PAD]\",\n",
      "      \"single_word\": false,\n",
      "      \"lstrip\": false,\n",
      "      \"rstrip\": false,\n",
      "      \"normalized\": false,\n",
      "      \"special\": true\n",
      "    },\n",
      "    {\n",
      "      \"id\": 2,\n",
      "      \"content\": \"[SOS]\",\n",
      "      \"single_word\": false,\n",
      "      \"lstrip\": false,\n",
      "      \"rstrip\": false,\n",
      "      \"normalized\": false,\n",
      "      \"special\": true\n",
      "    },\n",
      "    {\n",
      "      \"id\": 3,\n",
      "      \"content\": \"[EOS]\",\n",
      "      \"single_word\": false,\n",
      "      \"lstrip\": false,\n",
      "      \"rstrip\": false,\n",
      "      \"normalized\": false,\n",
      "      \"special\": true\n",
      "    }\n",
      "  ],\n",
      "  \"normalizer\": null,\n",
      "  \"pre_tokenizer\": {\n",
      "    \"type\": \"Whitespace\"\n",
      "  },\n",
      "  \"post_processor\": null,\n",
      "  \"decoder\": null,\n",
      "  \"model\": {\n",
      "    \"type\": \"WordLevel\",\n",
      "    \"vocab\": {\n",
      "      \"[UNK]\": 0,\n",
      "      \"[PAD]\": 1,\n",
      "      \"[SOS]\": 2,\n",
      "      \"[EOS]\": 3,\n",
      "      \",\": 4,\n",
      "      \".\": 5,\n",
      "      \"the\": 6,\n",
      "      \"and\": 7,\n",
      "      \"I\": 8,\n",
      "      \"a\": 9,\n",
      "      \";\": 10,\n",
      "      \"to\": 11,\n",
      "      \"e\": 12,\n",
      "      \"of\": 13,\n",
      "      \"in\": 14,\n",
      "      \"di\": 15,\n",
      "      \"—\": 16,\n",
      "      \"che\": 17,\n",
      "      \"\\\"\": 18,\n",
      "      \"'\": 19,\n",
      "      \"la\": 20,\n",
      "      \":\": 21,\n",
      "      \"was\": 22,\n",
      "      \"il\": 23,\n",
      "      \"me\": 24,\n",
      "      \"her\": 25,\n",
      "      \"you\": 26,\n",
      "      \"non\": 27,\n",
      "      \"it\": 28,\n",
      "      \"un\": 29,\n",
      "      \"my\": 30,\n",
      "      \"mi\": 31,\n",
      "      \"?\": 32,\n",
      "      \"she\": 33,\n",
      "      \"una\": 34,\n",
      "      \"that\": 35,\n",
      "      \"had\": 36,\n",
      "      \".\\\"\": 37,\n",
      "      \"le\": 38,\n",
      "      \"as\": 39,\n",
      "      \"not\": 40,\n",
      "      \"per\": 41,\n",
      "      \"with\": 42,\n",
      "      \"-\": 43,\n",
      "      \"era\": 44,\n",
      "      \"on\": 45,\n",
      "      \"he\": 46,\n",
      "      \"is\": 47,\n",
      "      \"for\": 48,\n"
     ]
    }
   ],
   "source": [
    "with open(tokenizer_target_path, 'r') as file:\n",
    "    for i in range(100):\n",
    "        line = file.readline()\n",
    "        if line == \"\\n\":\n",
    "            continue\n",
    "        print(line, end=\"\")"
   ]
  },
  {
   "cell_type": "markdown",
   "metadata": {},
   "source": [
    "## Obtención de la lóngitud máxima de las secuencias ✔"
   ]
  },
  {
   "cell_type": "code",
   "execution_count": 15,
   "metadata": {},
   "outputs": [
    {
     "name": "stdout",
     "output_type": "stream",
     "text": [
      "Max source sequence length: 190\n",
      "Max target sequence length: 159\n",
      "Max sequence length: 192\n"
     ]
    }
   ],
   "source": [
    "max_source_sequence_length = 0\n",
    "max_target_sequence_length = 0\n",
    "\n",
    "for i in range(len(dataset_raw)):\n",
    "    source_sequence_length = len(tokenizer_source.encode(dataset_raw[i]['translation'][SOURCE_LANGUAGE]).ids)\n",
    "    target_sequence_length = len(tokenizer_target.encode(dataset_raw[i]['translation'][TARGET_LANGUAGE]).ids)\n",
    "    if source_sequence_length > max_source_sequence_length:\n",
    "        max_source_sequence_length = source_sequence_length\n",
    "    if target_sequence_length > max_target_sequence_length:\n",
    "        max_target_sequence_length = target_sequence_length\n",
    "\n",
    "max_sequence_len = max(max_source_sequence_length, max_target_sequence_length)\n",
    "max_sequence_len += 2   # Add 2 for the start and end of sequence tokens\n",
    "\n",
    "print(f\"Max source sequence length: {max_source_sequence_length}\")\n",
    "print(f\"Max target sequence length: {max_target_sequence_length}\")\n",
    "print(f\"Max sequence length: {max_sequence_len}\")"
   ]
  },
  {
   "cell_type": "markdown",
   "metadata": {},
   "source": [
    "## Datasets ✔"
   ]
  },
  {
   "cell_type": "markdown",
   "metadata": {},
   "source": [
    "### Mask ✔"
   ]
  },
  {
   "cell_type": "code",
   "execution_count": 16,
   "metadata": {},
   "outputs": [],
   "source": [
    "# def create_mask(size):\n",
    "#     mask = torch.triu(torch.ones(1, size, size), diagonal = 1).type(torch.int)\n",
    "#     return mask == 0\n",
    "def create_mask(sequence_len):\n",
    "    mask = torch.tril(torch.ones((1, sequence_len, sequence_len)))\n",
    "    return mask"
   ]
  },
  {
   "cell_type": "markdown",
   "metadata": {},
   "source": [
    "### Dataset class ✔"
   ]
  },
  {
   "cell_type": "code",
   "execution_count": 17,
   "metadata": {},
   "outputs": [],
   "source": [
    "import torch\n",
    "from torch.utils.data import Dataset\n",
    "\n",
    "class BilingualDataset(Dataset):\n",
    "    def __init__(self, dataset, tokenizer_src, tokenizer_tgt, src_lang, tgt_lang, max_seq_len) -> None:\n",
    "        super().__init__()\n",
    "        \n",
    "        self.max_seq_len = max_seq_len\n",
    "        self.dataset = dataset\n",
    "        self.tokenizer_src = tokenizer_src\n",
    "        self.tokenizer_tgt = tokenizer_tgt\n",
    "        self.src_lang = src_lang\n",
    "        self.tgt_lang = tgt_lang\n",
    "        \n",
    "        # Defining special tokens by using the target language tokenizer\n",
    "        self.sos_token = torch.tensor([tokenizer_tgt.token_to_id(START_OF_SEQUENCE)], dtype=torch.int64)\n",
    "        self.eos_token = torch.tensor([tokenizer_tgt.token_to_id(END_OF_SEQUENCE)], dtype=torch.int64)\n",
    "        self.pad_token = torch.tensor([tokenizer_tgt.token_to_id(PADDING_TOKEN)], dtype=torch.int64)\n",
    "        self.unk_token = torch.tensor([tokenizer_tgt.token_to_id(UNKNOWN_TOKEN)], dtype=torch.int64)\n",
    "        \n",
    "    def __len__(self):\n",
    "        return len(self.dataset)\n",
    "    \n",
    "    def __getitem__(self, index):\n",
    "        # Getting the source and target texts from the dataset\n",
    "        src_target_pair = self.dataset[index]['translation']\n",
    "        src_text = src_target_pair[self.src_lang]\n",
    "        tgt_text = src_target_pair[self.tgt_lang]\n",
    "        \n",
    "        # Tokenizing source and target texts \n",
    "        encoder_input_tokens = self.tokenizer_src.encode(src_text).ids\n",
    "        decoder_input_tokens = self.tokenizer_tgt.encode(tgt_text).ids\n",
    "        \n",
    "        # Computing how many padding tokens need to be added to the tokenized texts \n",
    "        encoder_num_padding_tokens = self.max_seq_len - len(encoder_input_tokens) - 2 # Subtracting the two '[EOS]' and '[SOS]' special tokens\n",
    "        decoder_num_padding_tokens = self.max_seq_len - len(decoder_input_tokens) - 1 # Subtracting the '[SOS]' special token\n",
    "        \n",
    "        # If the texts exceed the 'seq_len' allowed, it will raise an error. This means that one of the sentences in the pair is too long to be processed\n",
    "        # given the current sequence length limit (this will be defined in the config dictionary below)\n",
    "        if encoder_num_padding_tokens < 0 or decoder_num_padding_tokens < 0:\n",
    "            raise ValueError('Sentence is too long')\n",
    "         \n",
    "        # Building the encoder input tensor by combining several elements\n",
    "        encoder_input = torch.cat(\n",
    "            [\n",
    "                self.sos_token, # inserting the '[SOS]' token\n",
    "                torch.tensor(encoder_input_tokens, dtype = torch.int64), # Inserting the tokenized source text\n",
    "                self.eos_token, # Inserting the '[EOS]' token\n",
    "                torch.tensor([self.pad_token] * encoder_num_padding_tokens, dtype = torch.int64) # Addind padding tokens\n",
    "            ]\n",
    "        )\n",
    "        \n",
    "        # Building the decoder input tensor by combining several elements\n",
    "        decoder_input = torch.cat(\n",
    "            [\n",
    "                self.sos_token, # inserting the '[SOS]' token \n",
    "                torch.tensor(decoder_input_tokens, dtype = torch.int64), # Inserting the tokenized target text\n",
    "                torch.tensor([self.pad_token] * decoder_num_padding_tokens, dtype = torch.int64) # Addind padding tokens\n",
    "            ]\n",
    "        )\n",
    "        \n",
    "        # Creating a label tensor, the expected output for training the model\n",
    "        label = torch.cat(\n",
    "            [\n",
    "                torch.tensor(decoder_input_tokens, dtype = torch.int64), # Inserting the tokenized target text\n",
    "                self.eos_token, # Inserting the '[EOS]' token \n",
    "                torch.tensor([self.pad_token] * decoder_num_padding_tokens, dtype = torch.int64) # Adding padding tokens\n",
    "            ]\n",
    "        )\n",
    "        \n",
    "        # Ensuring that the length of each tensor above is equal to the defined 'seq_len'\n",
    "        assert encoder_input.size(0) == self.max_seq_len\n",
    "        assert decoder_input.size(0) == self.max_seq_len\n",
    "        assert label.size(0) == self.max_seq_len\n",
    "\n",
    "        return {\n",
    "            'encoder_input': encoder_input,\n",
    "            'decoder_input': decoder_input, \n",
    "            'label': label,\n",
    "            'src_text': src_text,\n",
    "            'tgt_text': tgt_text\n",
    "        }\n"
   ]
  },
  {
   "cell_type": "markdown",
   "metadata": {},
   "source": [
    "Veamos una muestra"
   ]
  },
  {
   "cell_type": "code",
   "execution_count": 18,
   "metadata": {},
   "outputs": [
    {
     "name": "stdout",
     "output_type": "stream",
     "text": [
      "Encoder input shape: torch.Size([192])\n",
      "Decoder input shape: torch.Size([192])\n",
      "Label shape: torch.Size([192])\n",
      "Source text: Presently the chambers gave up their fair tenants one after another: each came out gaily and airily, with dress that gleamed lustrous through the dusk.\n",
      "Target text: Non potevo giungere allo studio, senza esser veduta così carica di provvigioni.\n"
     ]
    }
   ],
   "source": [
    "from random import randint\n",
    "\n",
    "sample_dataset = BilingualDataset(dataset_raw, tokenizer_source, tokenizer_target, SOURCE_LANGUAGE, TARGET_LANGUAGE, max_sequence_len)\n",
    "idx = randint(0, len(sample_dataset))\n",
    "sample_dataset = sample_dataset[idx]\n",
    "\n",
    "print(f\"Encoder input shape: {sample_dataset['encoder_input'].shape}\")\n",
    "print(f\"Decoder input shape: {sample_dataset['decoder_input'].shape}\")\n",
    "print(f\"Label shape: {sample_dataset['label'].shape}\")\n",
    "print(f\"Source text: {sample_dataset['src_text']}\")\n",
    "print(f\"Target text: {sample_dataset['tgt_text']}\")"
   ]
  },
  {
   "cell_type": "markdown",
   "metadata": {},
   "source": [
    "### Split dataset ✔"
   ]
  },
  {
   "cell_type": "markdown",
   "metadata": {},
   "source": [
    "Ahora que vemos que está bien, creamos los datasets de entrenamiento y validación"
   ]
  },
  {
   "cell_type": "code",
   "execution_count": 19,
   "metadata": {},
   "outputs": [
    {
     "name": "stdout",
     "output_type": "stream",
     "text": [
      "Len train: 3200, len validation: 33\n"
     ]
    }
   ],
   "source": [
    "from torch.utils.data import random_split\n",
    "\n",
    "percent_train = 0.99\n",
    "len_train = int(len(dataset_raw) * percent_train)\n",
    "len_val = len(dataset_raw) - len_train\n",
    "train_dataset_raw, validation_dataset_raw = random_split(dataset_raw, [len_train, len_val])\n",
    "\n",
    "print(f\"Len train: {len(train_dataset_raw)}, len validation: {len(validation_dataset_raw)}\")"
   ]
  },
  {
   "cell_type": "code",
   "execution_count": 20,
   "metadata": {},
   "outputs": [],
   "source": [
    "train_dataset = BilingualDataset(train_dataset_raw, tokenizer_source, tokenizer_target, SOURCE_LANGUAGE, TARGET_LANGUAGE, max_sequence_len)\n",
    "validation_dataset = BilingualDataset(validation_dataset_raw, tokenizer_source, tokenizer_target, SOURCE_LANGUAGE, TARGET_LANGUAGE, max_sequence_len)"
   ]
  },
  {
   "cell_type": "markdown",
   "metadata": {},
   "source": [
    "## Dataloaders ✔"
   ]
  },
  {
   "cell_type": "code",
   "execution_count": 21,
   "metadata": {},
   "outputs": [],
   "source": [
    "from torch.utils.data import DataLoader\n",
    "\n",
    "train_dataloader = DataLoader(train_dataset, batch_size=BS, shuffle=True)\n",
    "validation_dataloader = DataLoader(validation_dataset, batch_size=BS, shuffle=True)\n"
   ]
  },
  {
   "cell_type": "markdown",
   "metadata": {},
   "source": [
    "Vamos a ver una muestra"
   ]
  },
  {
   "cell_type": "code",
   "execution_count": 22,
   "metadata": {},
   "outputs": [
    {
     "data": {
      "text/plain": [
       "dict"
      ]
     },
     "execution_count": 22,
     "metadata": {},
     "output_type": "execute_result"
    }
   ],
   "source": [
    "batch = next(iter(train_dataloader))\n",
    "type(batch)"
   ]
  },
  {
   "cell_type": "markdown",
   "metadata": {},
   "source": [
    "Como vemos la muestra es un diccionario, vamos a ver sus claves"
   ]
  },
  {
   "cell_type": "code",
   "execution_count": 23,
   "metadata": {},
   "outputs": [
    {
     "data": {
      "text/plain": [
       "dict_keys(['encoder_input', 'decoder_input', 'label', 'src_text', 'tgt_text'])"
      ]
     },
     "execution_count": 23,
     "metadata": {},
     "output_type": "execute_result"
    }
   ],
   "source": [
    "batch.keys()"
   ]
  },
  {
   "cell_type": "markdown",
   "metadata": {},
   "source": [
    "Las claves son las salidas que habíamos definido en el dataset. Vamos a ver ahora cómo es cada una de las claves"
   ]
  },
  {
   "cell_type": "code",
   "execution_count": 24,
   "metadata": {},
   "outputs": [
    {
     "data": {
      "text/plain": [
       "(torch.Size([128, 192]),\n",
       " torch.Size([128, 192]),\n",
       " torch.Size([128, 192]),\n",
       " 128,\n",
       " 128)"
      ]
     },
     "execution_count": 24,
     "metadata": {},
     "output_type": "execute_result"
    }
   ],
   "source": [
    "batch['encoder_input'].shape, batch['decoder_input'].shape, batch['label'].shape, len(batch['src_text']), len(batch['tgt_text'])"
   ]
  },
  {
   "cell_type": "markdown",
   "metadata": {},
   "source": [
    "Cada una de las claves tiene tantas muestras como hemos definido en el batch size (`BS`). Vamos ahora a ver una de las muestras"
   ]
  },
  {
   "cell_type": "code",
   "execution_count": 25,
   "metadata": {},
   "outputs": [
    {
     "name": "stdout",
     "output_type": "stream",
     "text": [
      "Encoder input shape: torch.Size([192])\n",
      "Decoder input shape: torch.Size([192])\n",
      "Label shape: torch.Size([192])\n",
      "Source text: She was pretty too, if my recollections of her face and person are correct.\n",
      "Target text: Se rammento bene, doveva essere anche bellina.\n"
     ]
    }
   ],
   "source": [
    "idx = randint(0, BS)\n",
    "\n",
    "print(f\"Encoder input shape: {batch['encoder_input'][idx].shape}\")\n",
    "print(f\"Decoder input shape: {batch['decoder_input'][idx].shape}\")\n",
    "print(f\"Label shape: {batch['label'][idx].shape}\")\n",
    "print(f\"Source text: {batch['src_text'][idx]}\")\n",
    "print(f\"Target text: {batch['tgt_text'][idx]}\")"
   ]
  },
  {
   "cell_type": "markdown",
   "metadata": {},
   "source": [
    "## Modelo ✔"
   ]
  },
  {
   "cell_type": "markdown",
   "metadata": {},
   "source": [
    "Volvemos a escribir todo el código del transformer y creamos un objeto de este"
   ]
  },
  {
   "cell_type": "markdown",
   "metadata": {},
   "source": [
    "### Clases de bajo nivel"
   ]
  },
  {
   "cell_type": "code",
   "execution_count": 26,
   "metadata": {},
   "outputs": [],
   "source": [
    "import torch\n",
    "import torch.nn as nn\n",
    "import torch.nn.init as init\n",
    "\n",
    "class CustomLinear(nn.Module):\n",
    "    def __init__(self, in_features, out_features):\n",
    "        super(CustomLinear, self).__init__()\n",
    "        self.linear = nn.Linear(in_features, out_features)\n",
    "        init.kaiming_uniform_(self.linear.weight, nonlinearity='relu')\n",
    "        if self.linear.bias is not None:\n",
    "            init.zeros_(self.linear.bias)\n",
    "    \n",
    "    def forward(self, x):\n",
    "        return self.linear(x)\n",
    "\n",
    "class CustomEmbedding(nn.Module):\n",
    "    def __init__(self, num_embeddings, embedding_dim):\n",
    "        super(CustomEmbedding, self).__init__()\n",
    "        self.embedding = nn.Embedding(num_embeddings, embedding_dim)\n",
    "        init.xavier_uniform_(self.embedding.weight)\n",
    "    \n",
    "    def forward(self, x):\n",
    "        return self.embedding(x)\n",
    "\n",
    "class Embedding(nn.Module):\n",
    "    def __init__(self, vocab_size, embedding_dim):\n",
    "        super().__init__()\n",
    "        self.vocab_size = vocab_size\n",
    "        self.embedding_dim = embedding_dim\n",
    "\n",
    "        self.embedding = CustomEmbedding(vocab_size, embedding_dim)\n",
    "\n",
    "    def forward(self, x):\n",
    "        return self.embedding(x)\n",
    "\n",
    "class PositionalEncoding(nn.Module):\n",
    "    def __init__(self, max_sequence_len, embedding_model_dim):\n",
    "        super().__init__()\n",
    "        self.embedding_dim = embedding_model_dim\n",
    "        positional_encoding = torch.zeros(max_sequence_len, self.embedding_dim)\n",
    "        for pos in range(max_sequence_len):\n",
    "            for i in range(0, self.embedding_dim, 2):\n",
    "                positional_encoding[pos, i]     = torch.sin(torch.tensor(pos / (10000 ** ((2 * i) / self.embedding_dim))))\n",
    "                positional_encoding[pos, i + 1] = torch.cos(torch.tensor(pos / (10000 ** ((2 * (i+1)) / self.embedding_dim))))\n",
    "        positional_encoding = positional_encoding.unsqueeze(0)\n",
    "        self.register_buffer('positional_encoding', positional_encoding)\n",
    "\n",
    "    def forward(self, x):\n",
    "        x = x * torch.sqrt(torch.tensor(self.embedding_dim))\n",
    "        sequence_len = x.size(1)\n",
    "        x = x + self.positional_encoding[:,:sequence_len]\n",
    "        return x\n",
    "\n",
    "class ScaledDotProductAttention(nn.Module):\n",
    "    def __init__(self, dim_embedding):\n",
    "        super().__init__()\n",
    "        self.dim_embedding = dim_embedding\n",
    "    \n",
    "    def forward(self, query, key, value, mask=None):\n",
    "        key_trasposed = key.transpose(-1,-2)\n",
    "        product = torch.matmul(query, key_trasposed)\n",
    "        scale = product / torch.sqrt(torch.tensor(self.dim_embedding))\n",
    "        if mask is not None:\n",
    "            scale = scale.masked_fill(mask == 0, float('-inf'))\n",
    "        attention_matrix = torch.softmax(scale, dim=-1)\n",
    "        output = torch.matmul(attention_matrix, value)\n",
    "        return output\n",
    "\n",
    "class MultiHeadAttention(nn.Module):\n",
    "    def __init__(self, heads, dim_embedding):\n",
    "        super().__init__()\n",
    "        \n",
    "        self.dim_embedding = dim_embedding\n",
    "        self.dim_proyection = dim_embedding // heads\n",
    "        self.heads = heads\n",
    "        self.proyection_Q = CustomLinear(dim_embedding, dim_embedding)\n",
    "        self.proyection_K = CustomLinear(dim_embedding, dim_embedding)\n",
    "        self.proyection_V = CustomLinear(dim_embedding, dim_embedding)\n",
    "        self.attention = CustomLinear(dim_embedding, dim_embedding)\n",
    "        self.scaled_dot_product_attention = ScaledDotProductAttention(self.dim_proyection)\n",
    "    \n",
    "    def forward(self, Q, K, V, mask=None):\n",
    "        batch_size = Q.size(0)\n",
    "        proyection_Q = self.proyection_Q(Q).view(batch_size, -1, self.heads, self.dim_proyection)\n",
    "        proyection_K = self.proyection_K(K).view(batch_size, -1, self.heads, self.dim_proyection)\n",
    "        proyection_V = self.proyection_V(V).view(batch_size, -1, self.heads, self.dim_proyection)\n",
    "        proyection_Q = proyection_Q.transpose(1,2)\n",
    "        proyection_K = proyection_K.transpose(1,2)\n",
    "        proyection_V = proyection_V.transpose(1,2)\n",
    "        scaled_dot_product_attention = self.scaled_dot_product_attention(proyection_Q, proyection_K, proyection_V, mask=mask)\n",
    "        concat = scaled_dot_product_attention.transpose(1,2).contiguous().view(batch_size, -1, self.dim_embedding)\n",
    "        output = self.attention(concat)\n",
    "        return output\n",
    "\n",
    "class AddAndNorm(nn.Module):\n",
    "    def __init__(self, dim_embedding):\n",
    "        super().__init__()\n",
    "        self.normalization = nn.LayerNorm(dim_embedding)\n",
    "\n",
    "    def forward(self, x, sublayer):\n",
    "        return self.normalization(torch.add(x, sublayer))\n",
    "\n",
    "class FeedForward(nn.Module):\n",
    "    def __init__(self, dim_embedding, increment=4):\n",
    "        super().__init__()\n",
    "        self.feed_forward = nn.Sequential(\n",
    "            CustomLinear(dim_embedding, dim_embedding*increment),\n",
    "            nn.ReLU(),\n",
    "            CustomLinear(dim_embedding*increment, dim_embedding)\n",
    "        )\n",
    "    \n",
    "    def forward(self, x):\n",
    "        x = self.feed_forward(x)\n",
    "        return x\n",
    "\n",
    "class Linear(nn.Module):\n",
    "    def __init__(self, dim_embedding, vocab_size):\n",
    "        super().__init__()\n",
    "        self.linear = CustomLinear(dim_embedding, vocab_size)\n",
    "        \n",
    "    def forward(self, x):\n",
    "        x = self.linear(x)\n",
    "        return x\n",
    "\n",
    "class Softmax(nn.Module):\n",
    "    def __init__(self):\n",
    "        super().__init__()\n",
    "        self.softmax = nn.Softmax(dim=1)\n",
    "        \n",
    "    def forward(self, x):\n",
    "        x = self.softmax(x)\n",
    "        return x\n",
    "\n",
    "class Dropout(torch.nn.Module):\n",
    "    def __init__(self, p=0.1):\n",
    "        super().__init__()\n",
    "        self.p = p\n",
    "\n",
    "    def forward(self, x):\n",
    "        if self.training:\n",
    "            return torch.nn.functional.dropout(x, p=self.p)\n",
    "        else:\n",
    "            return x\n"
   ]
  },
  {
   "cell_type": "markdown",
   "metadata": {},
   "source": [
    "### Clases de medio nivel"
   ]
  },
  {
   "cell_type": "code",
   "execution_count": 27,
   "metadata": {},
   "outputs": [],
   "source": [
    "class EncoderLayer(nn.Module):\n",
    "    def __init__(self, heads, dim_embedding, prob_dropout=0.1):\n",
    "        super().__init__()\n",
    "        self.multi_head_attention = MultiHeadAttention(heads, dim_embedding)\n",
    "        self.dropout_1 = Dropout(prob_dropout)\n",
    "        self.add_and_norm_1 = AddAndNorm(dim_embedding)\n",
    "        self.feed_forward = FeedForward(dim_embedding)\n",
    "        self.dropout_2 = Dropout(prob_dropout)\n",
    "        self.add_and_norm_2 = AddAndNorm(dim_embedding)\n",
    "    \n",
    "    def forward(self, x):\n",
    "        multi_head_attention = self.multi_head_attention(x, x, x)\n",
    "        dropout1 = self.dropout_1(multi_head_attention)\n",
    "        add_and_norm_1 = self.add_and_norm_1(x, dropout1)\n",
    "        feed_forward = self.feed_forward(add_and_norm_1)\n",
    "        dropout2 = self.dropout_2(feed_forward)\n",
    "        add_and_norm_2 = self.add_and_norm_2(add_and_norm_1, dropout2)\n",
    "        return add_and_norm_2\n",
    "\n",
    "class Encoder(nn.Module):\n",
    "    def __init__(self, heads, dim_embedding, Nx, prob_dropout=0.1):\n",
    "        super().__init__()\n",
    "        self.encoder_layers = nn.ModuleList([EncoderLayer(heads, dim_embedding, prob_dropout) for _ in range(Nx)])\n",
    "    \n",
    "    def forward(self, x):\n",
    "        for encoder_layer in self.encoder_layers:\n",
    "            x = encoder_layer(x)\n",
    "        return x\n",
    "\n",
    "class TransformerEncoder(nn.Module):\n",
    "    def __init__(self, vocab_size, dim_embedding, max_sequence_len, heads, Nx, prob_dropout=0.1):\n",
    "        super().__init__()\n",
    "        self.input_embedding = Embedding(vocab_size, dim_embedding)\n",
    "        self.positional_encoding = PositionalEncoding(max_sequence_len, dim_embedding)\n",
    "        self.encoder = Encoder(heads, dim_embedding, Nx, prob_dropout)\n",
    "    \n",
    "    def forward(self, x):\n",
    "        input_embedding = self.input_embedding(x)\n",
    "        positional_encoding = self.positional_encoding(input_embedding)\n",
    "        encoder = self.encoder(positional_encoding)\n",
    "        return encoder\n",
    "\n",
    "class DecoderLayer(nn.Module):\n",
    "    def __init__(self, heads, dim_embedding, prob_dropout=0.1):\n",
    "        super().__init__()\n",
    "        self.masked_multi_head_attention = MultiHeadAttention(heads, dim_embedding)\n",
    "        self.dropout_1 = Dropout(prob_dropout)\n",
    "        self.add_and_norm_1 = AddAndNorm(dim_embedding)\n",
    "        self.encoder_decoder_multi_head_attention = MultiHeadAttention(heads, dim_embedding)\n",
    "        self.dropout_2 = Dropout(prob_dropout)\n",
    "        self.add_and_norm_2 = AddAndNorm(dim_embedding)\n",
    "        self.feed_forward = FeedForward(dim_embedding)\n",
    "        self.dropout_3 = Dropout(prob_dropout)\n",
    "        self.add_and_norm_3 = AddAndNorm(dim_embedding)\n",
    "    \n",
    "    def forward(self, x, encoder_output, mask=None):\n",
    "        Q = x\n",
    "        K = x\n",
    "        V = x\n",
    "        masked_multi_head_attention = self.masked_multi_head_attention(Q, K, V, mask=mask)\n",
    "        dropout1 = self.dropout_1(masked_multi_head_attention)\n",
    "        add_and_norm_1 = self.add_and_norm_1(dropout1, x)\n",
    "\n",
    "        Q = add_and_norm_1\n",
    "        K = encoder_output\n",
    "        V = encoder_output\n",
    "        encoder_decoder_multi_head_attention = self.encoder_decoder_multi_head_attention(Q, K, V)\n",
    "        dropout2 = self.dropout_2(encoder_decoder_multi_head_attention)\n",
    "        add_and_norm_2 = self.add_and_norm_2(dropout2, add_and_norm_1)\n",
    "\n",
    "        feed_forward = self.feed_forward(add_and_norm_2)\n",
    "        dropout3 = self.dropout_3(feed_forward)\n",
    "        add_and_norm_3 = self.add_and_norm_3(dropout3, add_and_norm_2)\n",
    "\n",
    "        return add_and_norm_3\n",
    "\n",
    "class Decoder(nn.Module):\n",
    "    def __init__(self, heads, dim_embedding, Nx, prob_dropout=0.1):\n",
    "        super().__init__()\n",
    "        self.layers = nn.ModuleList([DecoderLayer(heads, dim_embedding, prob_dropout) for _ in range(Nx)])\n",
    "    \n",
    "    def forward(self, x, encoder_output, mask=None):\n",
    "        for decoder_layer in self.layers:\n",
    "            x = decoder_layer(x, encoder_output, mask)\n",
    "        return x\n",
    "\n",
    "class TransformerDecoder(nn.Module):\n",
    "    def __init__(self, heads, dim_embedding, Nx, vocab_size, max_sequence_len, prob_dropout=0.1):\n",
    "        super().__init__()\n",
    "        self.embedding = Embedding(vocab_size, dim_embedding)\n",
    "        self.positional_encoding = PositionalEncoding(max_sequence_len, dim_embedding)\n",
    "        self.decoder = Decoder(heads, dim_embedding, Nx, prob_dropout)\n",
    "        self.linear = Linear(dim_embedding, vocab_size)\n",
    "        # self.softmax = Softmax()\n",
    "    \n",
    "    def forward(self, x, encoder_output, mask=None):\n",
    "        x = self.embedding(x)\n",
    "        x = self.positional_encoding(x)\n",
    "        x = self.decoder(x, encoder_output, mask)\n",
    "        x = self.linear(x)\n",
    "        # x = self.softmax(x)\n",
    "        return x\n",
    "\n",
    "class Linear_and_softmax(nn.Module):\n",
    "    def __init__(self, dim_embedding, vocab_size):\n",
    "        super().__init__()\n",
    "        self.linear = CustomLinear(dim_embedding, vocab_size)\n",
    "        # self.softmax = Softmax()\n",
    "    \n",
    "    def forward(self, x):\n",
    "        x = self.linear(x)\n",
    "        # x = self.softmax(x)\n",
    "        return x\n"
   ]
  },
  {
   "cell_type": "markdown",
   "metadata": {},
   "source": [
    "### Clase de alto nivel"
   ]
  },
  {
   "cell_type": "code",
   "execution_count": 28,
   "metadata": {},
   "outputs": [],
   "source": [
    "class Transformer(nn.Module):\n",
    "    def __init__(self, src_vocab_size, tgt_vocab_size, src_max_seq_len, tgt_max_seq_len, dim_embedding, Nx, heads, prob_dropout=0.1):\n",
    "        super().__init__()\n",
    "        self.transformerEncoder = TransformerEncoder(src_vocab_size, dim_embedding, src_max_seq_len, heads, Nx, prob_dropout)\n",
    "        self.transformerDecoder = TransformerDecoder(heads, dim_embedding, Nx, tgt_vocab_size, tgt_max_seq_len, prob_dropout)\n",
    "        self.encoder = Encoder(heads, dim_embedding, Nx, prob_dropout)\n",
    "        self.decoder = Decoder(heads, dim_embedding, Nx, prob_dropout)\n",
    "        self.sourceEmbedding = Embedding(src_vocab_size, dim_embedding)\n",
    "        self.targetEmbedding = Embedding(tgt_vocab_size, dim_embedding)\n",
    "        self.sourcePositional_encoding = PositionalEncoding(src_max_seq_len, dim_embedding)\n",
    "        self.targetPositional_encoding = PositionalEncoding(tgt_max_seq_len, dim_embedding)\n",
    "        self.linear = Linear_and_softmax(dim_embedding, tgt_vocab_size)\n",
    "    \n",
    "    def encode(self, source):\n",
    "        embedding = self.sourceEmbedding(source)\n",
    "        positional_encoding = self.sourcePositional_encoding(embedding)\n",
    "        encoder_output = self.encoder(positional_encoding)\n",
    "        return encoder_output\n",
    "    \n",
    "    def decode(self, encoder_output, target, target_mask):\n",
    "        embedding = self.targetEmbedding(target)\n",
    "        positional_encoding = self.targetPositional_encoding(embedding)\n",
    "        decoder_output = self.decoder(positional_encoding, encoder_output, target_mask)\n",
    "        return decoder_output\n",
    "    \n",
    "    def projection(self, decoder_output):\n",
    "        linear_output = self.linear(decoder_output)\n",
    "        # softmax_output = self.softmax(linear_output)\n",
    "        return linear_output\n",
    "    \n",
    "    def forward(self, source, target, mask=None):\n",
    "        encoder_output = self.transformerEncoder(source)\n",
    "        decoder_output = self.transformerDecoder(target, encoder_output, mask)\n",
    "        return decoder_output\n"
   ]
  },
  {
   "cell_type": "markdown",
   "metadata": {},
   "source": [
    "### Transformer"
   ]
  },
  {
   "cell_type": "code",
   "execution_count": 29,
   "metadata": {},
   "outputs": [
    {
     "name": "stdout",
     "output_type": "stream",
     "text": [
      "source vocab size: 19061, target vocab size: 19061, source max sequence len: 192, target max sequence len: 192, dim_embedding: 512, heads: 8, Nx: 6, prob_dropout: 0.1\n"
     ]
    },
    {
     "name": "stdout",
     "output_type": "stream",
     "text": [
      "\n"
     ]
    }
   ],
   "source": [
    "source_vocab_size = tokenizer_source.get_vocab_size()\n",
    "target_vocab_size = tokenizer_target.get_vocab_size()\n",
    "src_max_seq_len = max_sequence_len\n",
    "tgt_max_seq_len = max_sequence_len\n",
    "dim_embedding = DIM_EMBEDDING\n",
    "Nx = NUM_LAYERS\n",
    "heads = NUM_HEADS\n",
    "prob_dropout = DROPOUT\n",
    "print(f\"source vocab size: {source_vocab_size}, target vocab size: {target_vocab_size}, source max sequence len: {src_max_seq_len}, target max sequence len: {tgt_max_seq_len}, dim_embedding: {dim_embedding}, heads: {heads}, Nx: {Nx}, prob_dropout: {prob_dropout}\")\n",
    "\n",
    "model = Transformer(\n",
    "    src_vocab_size = source_vocab_size,\n",
    "    tgt_vocab_size = target_vocab_size,\n",
    "    src_max_seq_len = src_max_seq_len,\n",
    "    tgt_max_seq_len = tgt_max_seq_len,\n",
    "    dim_embedding = dim_embedding,\n",
    "    Nx = Nx,\n",
    "    heads = heads,\n",
    "    prob_dropout = prob_dropout,\n",
    ")\n",
    "\n",
    "model.to(device)\n",
    "print(\"\")"
   ]
  },
  {
   "cell_type": "code",
   "execution_count": 30,
   "metadata": {},
   "outputs": [],
   "source": [
    "# Data parallel\n",
    "# if torch.cuda.device_count() > 1 and GPUS > 1:\n",
    "#     number_gpus = torch.cuda.device_count()\n",
    "#     print(f\"Let's use {number_gpus} GPUs!\")\n",
    "#     transformer = nn.DataParallel(transformer)\n",
    "\n",
    "#     # def create_mask(sequence_len):\n",
    "#     #     mask = torch.tril(torch.ones((2*sequence_len, sequence_len)))\n",
    "#     #     return mask\n",
    "#     def create_mask(sequence_len):\n",
    "#         mask = torch.triu(torch.ones(1, 2*sequence_len, sequence_len), diagonal = 1).type(torch.int)\n",
    "#         return mask == 0\n",
    "# else:\n",
    "#     number_gpus = 1\n",
    "#     print(f\"Let's use {number_gpus} GPUs! GPU NUMBER: {GPU_NUMBER}\")\n",
    "    \n",
    "#     # def create_mask(sequence_len):\n",
    "#     #     mask = torch.tril(torch.ones((sequence_len, sequence_len)))\n",
    "#     #     return mask\n",
    "#     def create_mask(sequence_len):\n",
    "#         mask = torch.triu(torch.ones(1, sequence_len, sequence_len), diagonal = 1).type(torch.int)\n",
    "#         return mask == 0\n"
   ]
  },
  {
   "cell_type": "code",
   "execution_count": 31,
   "metadata": {},
   "outputs": [
    {
     "data": {
      "text/plain": [
       "torch.Size([1, 192, 192])"
      ]
     },
     "execution_count": 31,
     "metadata": {},
     "output_type": "execute_result"
    }
   ],
   "source": [
    "mask = create_mask(max_sequence_len)\n",
    "mask.shape"
   ]
  },
  {
   "cell_type": "markdown",
   "metadata": {},
   "source": [
    "## Entrenamiento"
   ]
  },
  {
   "cell_type": "markdown",
   "metadata": {},
   "source": [
    "### Optimizador ✔"
   ]
  },
  {
   "cell_type": "code",
   "execution_count": 32,
   "metadata": {},
   "outputs": [],
   "source": [
    "optimizer = torch.optim.Adam(model.parameters(), lr=LR, betas=(0.9, 0.98), eps=1e-9)"
   ]
  },
  {
   "cell_type": "markdown",
   "metadata": {},
   "source": [
    "### Función de pérdida ✔"
   ]
  },
  {
   "cell_type": "markdown",
   "metadata": {},
   "source": [
    "Creamos la función de pérdida con label smoothing"
   ]
  },
  {
   "cell_type": "code",
   "execution_count": 33,
   "metadata": {},
   "outputs": [],
   "source": [
    "loss_fn = nn.CrossEntropyLoss(\n",
    "    ignore_index = tokenizer_source.token_to_id(PADDING_TOKEN), \n",
    "    label_smoothing = LABEL_SMOOTHING).to(device)\n"
   ]
  },
  {
   "cell_type": "markdown",
   "metadata": {},
   "source": [
    "### LR ✔"
   ]
  },
  {
   "cell_type": "code",
   "execution_count": 34,
   "metadata": {},
   "outputs": [],
   "source": [
    "class Step():\n",
    "    def __init__(self):\n",
    "        self.step = 0\n",
    "    \n",
    "    def set_step(self, st):\n",
    "        self.step = st\n",
    "    \n",
    "    def get_step(self):\n",
    "        return int(self.step)\n",
    "\n",
    "class LearningRate():\n",
    "    def __init__(self):\n",
    "        self.lr = 0\n",
    "    \n",
    "    def set_lr(self, l_r_):\n",
    "        self.lr = l_r_\n",
    "    \n",
    "    def get_lr(self):\n",
    "        return self.lr\n",
    "\n",
    "actual_step = Step()\n",
    "actual_lr = LearningRate()"
   ]
  },
  {
   "cell_type": "markdown",
   "metadata": {},
   "source": [
    "Ahora vamos a crear la función que calcula el learning rate en función del step. Como vimos, en el paper dicen que usan la fórmula\n",
    "\n",
    "$$lr = d_{model}^{-0.5} \\cdot min \\left(stepNumber^{-0.5}, stepNumber \\cdot stepWarmUp^{-1.5} \\right)$$\n",
    "\n",
    "Sin embargo, con nuestro batch size y el número de épocas, el learning rate evolucionaría así"
   ]
  },
  {
   "cell_type": "code",
   "execution_count": 35,
   "metadata": {},
   "outputs": [
    {
     "data": {
      "image/png": "[encoded data removed]",
      "text/plain": [
       "<Figure size 640x480 with 1 Axes>"
      ]
     },
     "metadata": {},
     "output_type": "display_data"
    }
   ],
   "source": [
    "import numpy as np\n",
    "import matplotlib.pyplot as plt\n",
    "\n",
    "warmup_steps = 4000\n",
    "num_steps_by_epoch = len(train_dataloader)\n",
    "step_num = np.arange(1, EPOCHS*num_steps_by_epoch, 10)\n",
    "step_num_exp = -0.5\n",
    "warmup_steps_exp = -1.5\n",
    "dim_embedding_exp = -0.5\n",
    "lr = np.power(dim_embedding, dim_embedding_exp) * np.minimum(np.power(step_num, step_num_exp), step_num * np.power(warmup_steps, warmup_steps_exp))\n",
    "\n",
    "plt.plot(step_num, lr)\n",
    "plt.xlabel('step_num')\n",
    "plt.ylabel('lr')\n",
    "plt.ylim(0, 0.0014)\n",
    "plt.show()"
   ]
  },
  {
   "cell_type": "markdown",
   "metadata": {},
   "source": [
    "Como se puede ver sube muy rápido y luego baja muy rápido a un valor tan pequeño que es casi como si no hubiera learning rate. Por lo que los pesos de la red neuronal apenas se van a actualizar. Por lo que probando voy a usar esta fórmula\n",
    "\n",
    "$$lr = d_{model}^{-0.1} \\cdot min \\left(stepNumber^{-0.4}, stepNumber \\cdot stepWarmUp^{-2.6} \\right)$$\n",
    "\n",
    "Con lo que el learning rate evolucionaría así"
   ]
  },
  {
   "cell_type": "code",
   "execution_count": 36,
   "metadata": {},
   "outputs": [
    {
     "data": {
      "image/png": "[encoded data removed]",
      "text/plain": [
       "<Figure size 640x480 with 1 Axes>"
      ]
     },
     "metadata": {},
     "output_type": "display_data"
    }
   ],
   "source": [
    "warmup_steps = 4000\n",
    "num_steps_by_epoch = len(train_dataloader)\n",
    "step_num = np.arange(1, EPOCHS*num_steps_by_epoch, 10)\n",
    "step_num_exp = -0.4\n",
    "warmup_steps_exp = -2.6\n",
    "dim_embedding_exp = -0.1\n",
    "lr = np.power(dim_embedding, dim_embedding_exp) * np.minimum(np.power(step_num, step_num_exp), step_num * np.power(warmup_steps, warmup_steps_exp))\n",
    "\n",
    "plt.plot(step_num, lr)\n",
    "plt.xlabel('step_num')\n",
    "plt.ylabel('lr')\n",
    "plt.ylim(0, 0.0014)\n",
    "plt.show()"
   ]
  },
  {
   "cell_type": "code",
   "execution_count": 37,
   "metadata": {},
   "outputs": [],
   "source": [
    "import numpy as np\n",
    "\n",
    "def calculate_lr(step_num, dim_embeding_model=512, warmup_steps=4000):\n",
    "    step_num += 1e-7 # Avoid division by zero\n",
    "    step_num += STEP0\n",
    "    actual_step.set_step(step_num)\n",
    "    step_num_exp = -0.4\n",
    "    warmup_steps_exp = -2.6\n",
    "    dim_embeding_model_exp = -0.1\n",
    "    lr = np.power(dim_embeding_model, dim_embeding_model_exp) * np.minimum(np.power(step_num, step_num_exp), step_num * np.power(warmup_steps, warmup_steps_exp))\n",
    "    actual_lr.set_lr(lr)\n",
    "    return lr\n",
    "\n",
    "lr_lambda = lambda step: calculate_lr(step, dim_embeding_model=dim_embedding)\n",
    "if LR_SCHEDULER:\n",
    "    lr_scheduler = torch.optim.lr_scheduler.LambdaLR(optimizer, lr_lambda)"
   ]
  },
  {
   "cell_type": "markdown",
   "metadata": {},
   "source": [
    "### Validation loop ✔"
   ]
  },
  {
   "cell_type": "code",
   "execution_count": 38,
   "metadata": {},
   "outputs": [],
   "source": [
    "def greedy_decode(model, source, tokenizer_tgt, max_len, device, bs):\n",
    "    # Retrieving the indices from the start and end of sequences of the target tokens\n",
    "    sos_idx = tokenizer_tgt.token_to_id('[SOS]')    # Start of Sentence token index (2)\n",
    "    # eos_idx = tokenizer_tgt.token_to_id('[EOS]')    # End of Sentence token index (3)\n",
    "\n",
    "    # Computing the output of the encoder for the source sequence\n",
    "    encoder_output = model.encode(source)\n",
    "    \n",
    "    # Initializing the decoder input with the Start of Sentence token\n",
    "    decoder_input = torch.empty(bs,1).fill_(sos_idx).type_as(source).to(device)\n",
    "    \n",
    "    # Looping until the 'max_len', maximum length, is reached\n",
    "    while True:\n",
    "        if decoder_input.size(1) == max_len:\n",
    "            break\n",
    "            \n",
    "        # Building a mask for the decoder input\n",
    "        decoder_mask = create_mask(decoder_input.size(1)).to(device)\n",
    "        \n",
    "        # Calculating the output of the decoder\n",
    "        out = model.decode(encoder_output, decoder_input, decoder_mask)\n",
    "        \n",
    "        # Applying the projection layer to get the probabilities for the next token\n",
    "        prob = model.projection(out[:, -1])\n",
    "\n",
    "        # Selecting token with the highest probability\n",
    "        _, next_word = torch.max(prob, dim=1)\n",
    "        # decoder_input = torch.cat([decoder_input, torch.empty(1,1). type_as(source).fill_(next_word.item()).to(device)], dim=1)\n",
    "        decoder_input = torch.cat([decoder_input, next_word.unsqueeze(1)], dim=1)\n",
    "    \n",
    "    if len(decoder_input.shape) == 1:\n",
    "        decoder_input = decoder_input.unsqueeze(0)\n",
    "    elif len(decoder_input.shape) == 3:\n",
    "        decoder_input = decoder_input.squeeze(0)\n",
    "\n",
    "    return decoder_input # Sequence of tokens generated by the decoder\n"
   ]
  },
  {
   "cell_type": "code",
   "execution_count": 39,
   "metadata": {},
   "outputs": [],
   "source": [
    "from tqdm import tqdm\n",
    "\n",
    "import nltk\n",
    "from nltk.translate.bleu_score import sentence_bleu\n",
    "from nltk.translate.meteor_score import meteor_score\n",
    "\n",
    "def validation_loop(model, validation_ds, tokenizer_tgt, max_len, device):\n",
    "    model.eval() # Setting model to evaluation mode\n",
    "\n",
    "    # Calculating the number of batches in the validation dataset\n",
    "    dataset_size = len(validation_ds.dataset)  # Tamaño total del conjunto de datos\n",
    "    batch_size = validation_ds.batch_size      # Tamaño del batch\n",
    "    drop_last = validation_ds.drop_last        # Configuración de drop_last\n",
    "    num_batches = len(validation_ds)           # Número total de batches\n",
    "\n",
    "    # Calculating the total number of samples in the validation dataset\n",
    "    total_samples = batch_size * (num_batches - 1) + min(batch_size, dataset_size % batch_size)\n",
    "\n",
    "    # If drop_last is False and the dataset size is not divisible by the batch size, we need to add one more batch\n",
    "    if drop_last and dataset_size % batch_size != 0:\n",
    "        total_samples -= dataset_size % batch_size\n",
    "\n",
    "    # Initializing progress bar\n",
    "    progress_bar = tqdm(range(total_samples), desc = 'Processing validation examples') # Initializing progress bar\n",
    "\n",
    "    # Initializing lists to store scores\n",
    "    bleu_scores = []\n",
    "    meteor_scores = []\n",
    "    \n",
    "    # Creating evaluation loop\n",
    "    with torch.no_grad(): # Ensuring that no gradients are computed during this process\n",
    "        for batch in validation_ds:\n",
    "            # Loading input data and masks onto the GPU\n",
    "            encoder_input = batch['encoder_input'].to(device)\n",
    "            \n",
    "            # Applying the 'greedy_decode' function to get the model's output for the source text of the input batch\n",
    "            num_samples = len(batch['src_text'])\n",
    "            model_out_bs = greedy_decode(model, encoder_input, tokenizer_tgt, max_len, device, num_samples)\n",
    "\n",
    "            # Get metrics for every example in the batch\n",
    "            for i in range(num_samples):\n",
    "                source_text = batch['src_text'][i]\n",
    "                target_text = batch['tgt_text'][i]\n",
    "                model_out_i = model_out_bs[i]\n",
    "                model_out_text = tokenizer_tgt.decode(model_out_i.detach().cpu().numpy())\n",
    "\n",
    "                # Calculating metrics\n",
    "                references = [target_text.split()]\n",
    "                hypothesis = model_out_text.split()\n",
    "                bleu_score = sentence_bleu(references, hypothesis)\n",
    "                meteor_score_value = meteor_score(references, hypothesis)\n",
    "            \n",
    "                # Appending scores to lists\n",
    "                bleu_scores.append(bleu_score)\n",
    "                meteor_scores.append(meteor_score_value)\n",
    "\n",
    "                # Calculating mean scores            \n",
    "                mean_bleu_score = sum(bleu_scores)/len(bleu_scores) # Calculating mean BLEU score\n",
    "                mean_meteor_score = sum(meteor_scores)/len(meteor_scores) # Calculating mean METEOR score\n",
    "\n",
    "                # Updating progress bar and printing bleu and meteor scores\n",
    "                progress_bar.update(1)\n",
    "                progress_bar.set_postfix({'BLEU': f'{mean_bleu_score:.9f}', 'METEOR': f'{mean_meteor_score:.9f}'})\n",
    "\n",
    "    # Printing results\n",
    "    console_width = 80 # Fixed witdh for printed messages\n",
    "    print('-'*console_width)\n",
    "    print(f'SOURCE: {source_text}')\n",
    "    print(f'TARGET: {target_text}')\n",
    "    print(f'PREDICTED: {model_out_text}')\n",
    "    print('-'*console_width)\n",
    "\n",
    "    return mean_bleu_score, mean_meteor_score\n"
   ]
  },
  {
   "cell_type": "markdown",
   "metadata": {},
   "source": [
    "### Train loop ✔"
   ]
  },
  {
   "cell_type": "code",
   "execution_count": 40,
   "metadata": {},
   "outputs": [],
   "source": [
    "def train_loop(model, train_dataloader, device, tokenizer_target, epoch, loss_fn, optimizer, lr_scheduler=None):\n",
    "    # Initializing an iterator over the training dataloader\n",
    "    # We also use tqdm to display a progress bar\n",
    "    print()\n",
    "    batch_iterator = tqdm(train_dataloader, desc = f'Processing epoch {epoch:02d}')\n",
    "    \n",
    "    # For each batch...\n",
    "    for batch in batch_iterator:\n",
    "        model.train() # Train the model\n",
    "            \n",
    "        # Loading input data and masks onto the GPU\n",
    "        encoder_input = batch['encoder_input'].to(device)\n",
    "        decoder_input = batch['decoder_input'].to(device)\n",
    "        decoder_mask = create_mask(decoder_input.size(1)).to(device)\n",
    "        \n",
    "        # Running tensors through the Transformer\n",
    "        encoder_output = model.encode(encoder_input)\n",
    "        decoder_output = model.decode(encoder_output, decoder_input, decoder_mask)\n",
    "        proj_output = model.projection(decoder_output)\n",
    "        \n",
    "        # Loading the target labels onto the GPU\n",
    "        label = batch['label'].to(device)\n",
    "        \n",
    "        # Computing loss between model's output and true labels\n",
    "        loss = loss_fn(proj_output.view(-1, tokenizer_target.get_vocab_size()), label.view(-1))\n",
    "        \n",
    "        # Updating progress bar, print loss and lr\n",
    "        batch_iterator.set_postfix({'loss': f'{loss.item():.6f}', 'lr': f'{actual_lr.get_lr():.9f}'})\n",
    "        \n",
    "        # Performing backpropagation\n",
    "        loss.backward()\n",
    "        \n",
    "        # Updating parameters based on the gradients\n",
    "        optimizer.step()\n",
    "        \n",
    "        # Clearing the gradients to prepare for the next batch\n",
    "        optimizer.zero_grad()\n",
    "\n",
    "        # Update step and LR\n",
    "        if LR_SCHEDULER:\n",
    "            lr_scheduler.step()\n",
    "        \n",
    "    return loss.item(), actual_lr.get_lr()"
   ]
  },
  {
   "cell_type": "markdown",
   "metadata": {},
   "source": [
    "### Train"
   ]
  },
  {
   "cell_type": "code",
   "execution_count": 41,
   "metadata": {},
   "outputs": [],
   "source": [
    "import time\n",
    "\n",
    "def elapsed_time(t0):\n",
    "    t = time.time() - t0  # tiempo transcurrido en segundos\n",
    "\n",
    "    # Convertir el tiempo a días, horas, minutos y segundos\n",
    "    days, t = divmod(t, 86400)  # 86400 segundos en un día\n",
    "    hours, t = divmod(t, 3600)  # 3600 segundos en una hora\n",
    "    minutes, seconds = divmod(t, 60)  # 60 segundos en un minuto\n",
    "\n",
    "    return int(days), int(hours), int(minutes), int(seconds)\n",
    "\n",
    "def elapsed_seconds(days, hours, minutes, seconds):\n",
    "    return days * 86400 + hours * 3600 + minutes * 60 + seconds\n"
   ]
  },
  {
   "cell_type": "code",
   "execution_count": 42,
   "metadata": {},
   "outputs": [
    {
     "name": "stdout",
     "output_type": "stream",
     "text": [
      "Loading model from model/transformer_1_0.pth\n",
      "Model loaded from model/transformer_1_0.pth\n",
      "load best validation loss from model/best_validation_bleu_1_0.npy\n",
      "best validation meteor: 2.0\n",
      "Starting training from epoch 1 and step 0, best bleu: 2.0\n"
     ]
    }
   ],
   "source": [
    "if EPOCH0 != 0 or STEP0 != 0:\n",
    "    weights = f\"{MODEL_PATH}/transformer_{EPOCH0}_{STEP0}.pth\"\n",
    "    print(f\"Loading model from {weights}\")\n",
    "    if GPUS > 1:\n",
    "        model.load_state_dict(torch.load(weights))\n",
    "    else:\n",
    "        model = torch.load(weights, map_location=device)\n",
    "        if isinstance(model, nn.DataParallel):\n",
    "            print(\"Transforming model from data parallel to model\")\n",
    "            model = model.module\n",
    "    print(f\"Model loaded from {weights}\")\n",
    "\n",
    "    validation_file_path = f\"{MODEL_PATH}/best_validation_bleu_{EPOCH0}_{STEP0}.npy\"\n",
    "    print(f\"load best validation loss from {validation_file_path}\")\n",
    "    best_bleu = np.load(validation_file_path)\n",
    "    print(f\"best validation meteor: {best_bleu}\")\n",
    "else:\n",
    "    best_bleu = 1e-20\n",
    "\n",
    "print(f\"Starting training from epoch {EPOCH0} and step {STEP0}, best bleu: {best_bleu}\")\n"
   ]
  },
  {
   "cell_type": "code",
   "execution_count": 43,
   "metadata": {},
   "outputs": [],
   "source": [
    "train_loss_list = []\n",
    "train_lr_list = []\n",
    "validation_meteor_list = []\n",
    "validation_bleu_list = []\n",
    "\n",
    "train_loss_list = np.array(train_loss_list)\n",
    "train_lr_list = np.array(train_lr_list)\n",
    "validation_meteor_list = np.array(validation_meteor_list)\n",
    "validation_bleu_list = np.array(validation_bleu_list)"
   ]
  },
  {
   "cell_type": "code",
   "execution_count": 44,
   "metadata": {},
   "outputs": [
    {
     "name": "stdout",
     "output_type": "stream",
     "text": [
      "\n",
      "Epoch 0\n",
      "-------------------------------, 0 days, 0 hours, 0 minutes, 0 seconds\n",
      "\n"
     ]
    },
    {
     "name": "stderr",
     "output_type": "stream",
     "text": [
      "Processing epoch 00:   0%|          | 0/25 [00:00<?, ?it/s]"
     ]
    },
    {
     "name": "stderr",
     "output_type": "stream",
     "text": [
      "Processing epoch 00: 100%|██████████| 25/25 [00:16<00:00,  1.50it/s, loss=8.570494, lr=0.000000000]\n",
      "Processing validation examples: 100%|██████████| 33/33 [00:04<00:00,  7.50it/s, BLEU=0.000000000, METEOR=0.000000000]\n"
     ]
    },
    {
     "name": "stdout",
     "output_type": "stream",
     "text": [
      "--------------------------------------------------------------------------------\n",
      "SOURCE: My wretched feet, flayed and swollen to lameness by the sharp air of January, began to heal and subside under the gentler breathings of April; the nights and mornings no longer by their Canadian temperature froze the very blood in our veins; we could now endure the play-hour passed in the garden: sometimes on a sunny day it began even to be pleasant and genial, and a greenness grew over those brown beds, which, freshening daily, suggested the thought that Hope traversed them at night, and left each morning brighter traces of her steps.\n",
      "TARGET: Le notti e le mattinate non ci ghiacciavano più il sangue nelle vene e le ricreazioni in giardino erano tollerabili, anzi quando brillava il sole erano anche piacevoli. Dai rami scuri e spogliati spuntavano ogni giorno nuove foglie, come se la speranza le traversasse durante la notte, lasciando ogni mattina tracce visibili del suo passaggio.\n",
      "PREDICTED: , , , , , , , , , , , , , , , , , , , , , , , , , , , , , , , , , , , , , , , , , , , , , , , , , , , , , , , , , , , , , , , , , , , , , , , , , , , , , , , , , , , , , , , , , , , , , , , , , , , , , , , , , , , , , , , , , , , , , , , , , , , , , , , , , , , , , , , , , , , , , , , , , , , , , , , , , , , , , , , , , , , , , , , , , , , , , , , , , , , , , , , , , , , , , , ,\n",
      "--------------------------------------------------------------------------------\n",
      "Saving model to model/transformer_0_0.pth\n",
      "Model saved to model/transformer_0_0.pth\n",
      "Saving best validation meteor to model/best_validation_bleu_0_0.npy\n",
      "Best validation meteor saved to model/best_validation_bleu_0_0.npy\n",
      "\n",
      "Epoch 1\n",
      "-------------------------------, 0 days, 0 hours, 0 minutes, 21 seconds\n",
      "\n"
     ]
    },
    {
     "name": "stderr",
     "output_type": "stream",
     "text": [
      "Processing epoch 01:  16%|█▌        | 4/25 [00:02<00:14,  1.41it/s, loss=8.609870, lr=0.000000000]\n"
     ]
    },
    {
     "ename": "KeyboardInterrupt",
     "evalue": "",
     "output_type": "error",
     "traceback": [
      "\u001b[0;31m---------------------------------------------------------------------------\u001b[0m",
      "\u001b[0;31mKeyboardInterrupt\u001b[0m                         Traceback (most recent call last)",
      "Cell \u001b[0;32mIn[44], line 14\u001b[0m\n\u001b[1;32m     12\u001b[0m     train_loss, train_lr \u001b[38;5;241m=\u001b[39m train_loop(model, train_dataloader, device, tokenizer_target, epoch, loss_fn, optimizer, lr_scheduler)    \n\u001b[1;32m     13\u001b[0m \u001b[38;5;28;01melse\u001b[39;00m:\n\u001b[0;32m---> 14\u001b[0m     train_loss, train_lr \u001b[38;5;241m=\u001b[39m \u001b[43mtrain_loop\u001b[49m\u001b[43m(\u001b[49m\u001b[43mmodel\u001b[49m\u001b[43m,\u001b[49m\u001b[43m \u001b[49m\u001b[43mtrain_dataloader\u001b[49m\u001b[43m,\u001b[49m\u001b[43m \u001b[49m\u001b[43mdevice\u001b[49m\u001b[43m,\u001b[49m\u001b[43m \u001b[49m\u001b[43mtokenizer_target\u001b[49m\u001b[43m,\u001b[49m\u001b[43m \u001b[49m\u001b[43mepoch\u001b[49m\u001b[43m,\u001b[49m\u001b[43m \u001b[49m\u001b[43mloss_fn\u001b[49m\u001b[43m,\u001b[49m\u001b[43m \u001b[49m\u001b[43moptimizer\u001b[49m\u001b[43m)\u001b[49m\n\u001b[1;32m     16\u001b[0m \u001b[38;5;66;03m# We run the 'run_validation' function at the end of each epoch\u001b[39;00m\n\u001b[1;32m     17\u001b[0m \u001b[38;5;66;03m# to evaluate model performance\u001b[39;00m\n\u001b[1;32m     18\u001b[0m validation_meteor, validation_bleu \u001b[38;5;241m=\u001b[39m validation_loop(model, validation_dataloader, tokenizer_target, max_sequence_len, device)\n",
      "Cell \u001b[0;32mIn[40], line 22\u001b[0m, in \u001b[0;36mtrain_loop\u001b[0;34m(model, train_dataloader, device, tokenizer_target, epoch, loss_fn, optimizer, lr_scheduler)\u001b[0m\n\u001b[1;32m     19\u001b[0m proj_output \u001b[38;5;241m=\u001b[39m model\u001b[38;5;241m.\u001b[39mprojection(decoder_output)\n\u001b[1;32m     21\u001b[0m \u001b[38;5;66;03m# Loading the target labels onto the GPU\u001b[39;00m\n\u001b[0;32m---> 22\u001b[0m label \u001b[38;5;241m=\u001b[39m \u001b[43mbatch\u001b[49m\u001b[43m[\u001b[49m\u001b[38;5;124;43m'\u001b[39;49m\u001b[38;5;124;43mlabel\u001b[39;49m\u001b[38;5;124;43m'\u001b[39;49m\u001b[43m]\u001b[49m\u001b[38;5;241;43m.\u001b[39;49m\u001b[43mto\u001b[49m\u001b[43m(\u001b[49m\u001b[43mdevice\u001b[49m\u001b[43m)\u001b[49m\n\u001b[1;32m     24\u001b[0m \u001b[38;5;66;03m# Computing loss between model's output and true labels\u001b[39;00m\n\u001b[1;32m     25\u001b[0m loss \u001b[38;5;241m=\u001b[39m loss_fn(proj_output\u001b[38;5;241m.\u001b[39mview(\u001b[38;5;241m-\u001b[39m\u001b[38;5;241m1\u001b[39m, tokenizer_target\u001b[38;5;241m.\u001b[39mget_vocab_size()), label\u001b[38;5;241m.\u001b[39mview(\u001b[38;5;241m-\u001b[39m\u001b[38;5;241m1\u001b[39m))\n",
      "\u001b[0;31mKeyboardInterrupt\u001b[0m: "
     ]
    }
   ],
   "source": [
    "from tqdm import tqdm\n",
    "\n",
    "max_seconds = 60*60*11 + 60*30 # 11 horas y 30 minutos\n",
    "t0 = time.time()\n",
    "\n",
    "for epoch in range(0, EPOCHS):\n",
    "    days, hours, minutes, seconds = elapsed_time(t0)\n",
    "    print(f\"\\nEpoch {epoch}\\n-------------------------------, {days} days, {hours} hours, {minutes} minutes, {seconds} seconds\")\n",
    "\n",
    "    # We run the 'train_loop' function at the beginning of each epoch\n",
    "    if LR_SCHEDULER:\n",
    "        train_loss, train_lr = train_loop(model, train_dataloader, device, tokenizer_target, epoch, loss_fn, optimizer, lr_scheduler)    \n",
    "    else:\n",
    "        train_loss, train_lr = train_loop(model, train_dataloader, device, tokenizer_target, epoch, loss_fn, optimizer)\n",
    "        \n",
    "    # We run the 'run_validation' function at the end of each epoch\n",
    "    # to evaluate model performance\n",
    "    validation_meteor, validation_bleu = validation_loop(model, validation_dataloader, tokenizer_target, max_sequence_len, device)\n",
    "\n",
    "    train_loss_list = np.append(train_loss_list, train_loss)\n",
    "    train_lr_list = np.append(train_lr_list, train_lr)\n",
    "    validation_meteor_list = np.append(validation_meteor_list, validation_meteor)\n",
    "    validation_bleu_list = np.append(validation_bleu_list, validation_bleu)\n",
    "\n",
    "    if (validation_bleu > best_bleu) and SAVE_BEST_MODEL:\n",
    "        best_bleu = validation_bleu\n",
    "        weights = f\"{MODEL_PATH}/transformer_{epoch}_{actual_step.get_step()}.pth\"\n",
    "        print(f\"Saving model to {weights}\")\n",
    "        if GPUS > 1:\n",
    "            torch.save(model.state_dict(), weights)\n",
    "        else:\n",
    "            torch.save(model, weights)\n",
    "        print(f\"Model saved to {weights}\")\n",
    "\n",
    "        best_bleu_path = f\"{MODEL_PATH}/best_validation_bleu_{epoch}_{actual_step.get_step()}.npy\"\n",
    "        print(f\"Saving best validation meteor to {best_bleu_path}\")\n",
    "        np.save(best_bleu_path, best_bleu)\n",
    "        print(f\"Best validation meteor saved to {best_bleu_path}\")\n",
    "    \n",
    "    days, hours, minutes, seconds = elapsed_time(t0)\n",
    "    if (elapsed_seconds(days, hours, minutes, seconds) > max_seconds) and STOP_AT_TIME:\n",
    "        print(f\"Elapsed time: {days} days, {hours} hours, {minutes} minutes, {seconds} seconds\")\n",
    "        break\n",
    "\n",
    "print(\"Done\")"
   ]
  },
  {
   "cell_type": "code",
   "execution_count": null,
   "metadata": {},
   "outputs": [
    {
     "data": {
      "image/png": "[encoded data removed]",
      "text/plain": [
       "<Figure size 2000x500 with 3 Axes>"
      ]
     },
     "metadata": {},
     "output_type": "display_data"
    }
   ],
   "source": [
    "import matplotlib.pyplot as plt\n",
    "\n",
    "fig, axs = plt.subplots(1, 3, figsize=(20, 5))\n",
    "axs[0].plot(train_loss_list)\n",
    "axs[0].set_title(\"Loss\")\n",
    "axs[1].plot(validation_meteor_list)\n",
    "axs[1].plot(validation_bleu_list)\n",
    "axs[1].legend([\"Meteor\", \"Bleu\"])\n",
    "axs[1].set_title(\"Validation metrics\")\n",
    "axs[2].plot(train_lr_list)\n",
    "axs[2].set_title(\"Learning rate\")\n",
    "plt.show()"
   ]
  }
 ],
 "metadata": {
  "kernelspec": {
   "display_name": "cursopytorch",
   "language": "python",
   "name": "python3"
  },
  "language_info": {
   "codemirror_mode": {
    "name": "ipython",
    "version": 3
   },
   "file_extension": ".py",
   "mimetype": "text/x-python",
   "name": "python",
   "nbconvert_exporter": "python",
   "pygments_lexer": "ipython3",
   "version": "3.10.11"
  },
  "orig_nbformat": 4
 },
 "nbformat": 4,
 "nbformat_minor": 2
}
