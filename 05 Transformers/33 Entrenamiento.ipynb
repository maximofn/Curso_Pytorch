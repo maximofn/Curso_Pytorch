{
 "cells": [
  {
   "attachments": {},
   "cell_type": "markdown",
   "metadata": {},
   "source": [
    "# Entrenamiento internet"
   ]
  },
  {
   "cell_type": "code",
   "execution_count": 1,
   "metadata": {},
   "outputs": [
    {
     "name": "stdout",
     "output_type": "stream",
     "text": [
      "BS: 1024\n",
      "EPOCH0: 0, STEP0: 0\n"
     ]
    }
   ],
   "source": [
    "import os\n",
    "\n",
    "# Dataset\n",
    "SOURCE_LANGUAGE = \"en\"\n",
    "TARGET_LANGUAGE = \"es\"\n",
    "SUBSET = False\n",
    "PERCENT_SUBSET = 0.1\n",
    "\n",
    "# Train\n",
    "LR = 1e-5\n",
    "EPOCHS = 100000\n",
    "GPUS = 1\n",
    "GPU_NUMBER = 0\n",
    "if GPUS > 1:\n",
    "    BS = 56\n",
    "else:\n",
    "    if SUBSET:\n",
    "        BS = 128\n",
    "    else:\n",
    "        BS = 1024\n",
    "print(f\"BS: {BS}\")\n",
    "LR_SCHEDULER = False\n",
    "SAVE_BEST_MODEL = False\n",
    "STOP_AT_TIME = False\n",
    "\n",
    "# Model\n",
    "MODEL_PATH = f\"model\"\n",
    "if os.path.exists(MODEL_PATH):\n",
    "    files = os.listdir(MODEL_PATH)\n",
    "    model_files = [file for file in files if \"transformer\" in file]\n",
    "    if len(model_files) > 0:\n",
    "        name = model_files[0].split(\".\")[0]\n",
    "        STEP0 = int(name.split(\"_\")[-1])\n",
    "        EPOCH0 = int(name.split(\"_\")[-2])\n",
    "    else:\n",
    "        EPOCH0 = 0\n",
    "        STEP0 = 0\n",
    "else:\n",
    "    EPOCH0 = 0\n",
    "    STEP0 = 0\n",
    "print(f\"EPOCH0: {EPOCH0}, STEP0: {STEP0}\")\n",
    "DIM_EMBEDDING = 512\n",
    "NUM_HEADS = 8\n",
    "NUM_LAYERS = 6\n",
    "DROPOUT = 0.1\n",
    "LABEL_SMOOTHING = 0.1\n",
    "\n",
    "# Tokenizers\n",
    "TOKENIZERS_PATH = f\"tokenizers\"\n",
    "if not os.path.exists(TOKENIZERS_PATH):\n",
    "    os.makedirs(TOKENIZERS_PATH)\n",
    "UNKNOWN_TOKEN = \"[UNK]\"\n",
    "PADDING_TOKEN = \"[PAD]\"\n",
    "START_OF_SEQUENCE = \"[SOS]\"\n",
    "END_OF_SEQUENCE = \"[EOS]\""
   ]
  },
  {
   "cell_type": "code",
   "execution_count": 2,
   "metadata": {},
   "outputs": [],
   "source": [
    "# TODOs\n",
    "# TODO: Podar el transformer\n",
    "# TODO: Ajustar bien los parámetros del LR scheduler\n",
    "# TODO: Añadir enlace a colab"
   ]
  },
  {
   "cell_type": "markdown",
   "metadata": {},
   "source": [
    "## Carga de los datos ✔"
   ]
  },
  {
   "cell_type": "markdown",
   "metadata": {},
   "source": [
    "Cargamos el dataset"
   ]
  },
  {
   "cell_type": "code",
   "execution_count": 3,
   "metadata": {},
   "outputs": [
    {
     "data": {
      "text/plain": [
       "(728561, 1458, 1444)"
      ]
     },
     "execution_count": 3,
     "metadata": {},
     "output_type": "execute_result"
    }
   ],
   "source": [
    "from datasets import load_from_disk\n",
    "\n",
    "path_train = \"data/opus100_train_croped_3_20\"\n",
    "path_val = \"data/opus100_val_croped_3_20\"\n",
    "path_test = \"data/opus100_test_croped_3_20\"\n",
    "\n",
    "dataset_raw_train = load_from_disk(path_train)\n",
    "dataset_raw_val = load_from_disk(path_val)\n",
    "dataset_raw_test = load_from_disk(path_test)\n",
    "\n",
    "if SUBSET:\n",
    "    len_dataset_train = len(dataset_raw_train)\n",
    "    len_dataset_val = len(dataset_raw_val)\n",
    "    len_dataset_test = len(dataset_raw_test)\n",
    "    len_subset_train = int(len_dataset_train * PERCENT_SUBSET)\n",
    "    len_subset_val = int(len_dataset_val * PERCENT_SUBSET)\n",
    "    len_subset_test = int(len_dataset_test * PERCENT_SUBSET)\n",
    "    dataset_raw_train = dataset_raw_train.select(range(len_subset_train))\n",
    "    dataset_raw_val = dataset_raw_val.select(range(len_subset_val))\n",
    "    dataset_raw_test = dataset_raw_test.select(range(len_subset_test))\n",
    "\n",
    "len(dataset_raw_train), len(dataset_raw_val), len(dataset_raw_test)"
   ]
  },
  {
   "cell_type": "markdown",
   "metadata": {},
   "source": [
    "Vamos a ver cómo es el dataset"
   ]
  },
  {
   "cell_type": "code",
   "execution_count": 4,
   "metadata": {},
   "outputs": [
    {
     "data": {
      "text/plain": [
       "Dataset({\n",
       "    features: ['translation'],\n",
       "    num_rows: 728561\n",
       "})"
      ]
     },
     "execution_count": 4,
     "metadata": {},
     "output_type": "execute_result"
    }
   ],
   "source": [
    "dataset_raw_train"
   ]
  },
  {
   "cell_type": "markdown",
   "metadata": {},
   "source": [
    "Vemos que es un objeto con 1000000 de filas y una `feature` llamada `translation`\n",
    "\n",
    "Vamos a ver la feature `translation`"
   ]
  },
  {
   "cell_type": "code",
   "execution_count": 5,
   "metadata": {},
   "outputs": [
    {
     "data": {
      "text/plain": [
       "[{'en': \"It was the asbestos in here, that's what did it!\",\n",
       "  'es': 'Fueron los asbestos aquí. ¡Eso es lo que ocurrió!'},\n",
       " {'en': \"I'm out of here.\", 'es': 'Me voy de aquí.'},\n",
       " {'en': 'One time, I swear I pooped out a stick of chalk.',\n",
       "  'es': 'Una vez, juro que cagué una barra de tiza.'},\n",
       " {'en': 'And I will move, do you understand me?',\n",
       "  'es': 'Y prefiero mudarme, ¿Entiendes?'},\n",
       " {'en': '- Thank you, my lord.', 'es': '- Gracias.'},\n",
       " {'en': 'You have to help me.', 'es': 'Debes ayudarme.'},\n",
       " {'en': 'Fuck this!', 'es': '¡Por la mierda!'},\n",
       " {'en': 'The safety and efficacy of MIRCERA therapy in other indications has not been established.',\n",
       "  'es': 'No se ha establecido la seguridad y eficacia del tratamiento con MIRCERA en otras indicaciones.'},\n",
       " {'en': 'You can stay if you want.',\n",
       "  'es': 'Así lo decidí, pueden quedarse si quieren.'},\n",
       " {'en': \"- I'm not stupid.\", 'es': '- Yo no soy estúpido.'},\n",
       " {'en': 'Sorry, a weird gas bubble for a sec.',\n",
       "  'es': 'Perdón, he tenido una burbuja de gas extraño un momentito'},\n",
       " {'en': \"It's uncomplicated.\", 'es': 'Es algo sin complicaciones.'},\n",
       " {'en': 'in paragraph 2, the first subparagraph is replaced by the following:',\n",
       "  'es': 'en el apartado 2, el párrafo primero se sustituye por el texto siguiente:'},\n",
       " {'en': \"- Mm. I'll tell you something my father told me.\",\n",
       "  'es': 'Te diré algo que me dijo mi padre.'},\n",
       " {'en': \"Good night, ma'am.\",\n",
       "  'es': 'Esta tarde,hubo conciertos en las ciudades ocupadas.'},\n",
       " {'en': 'http://www.vodniraj.cz/bazen.asp', 'es': 'http://www.madeira.ji.cz/'},\n",
       " {'en': \"- I'm afraid so.\", 'es': 'Eso me temo.'},\n",
       " {'en': '- Come on.', 'es': '- Vamos.'},\n",
       " {'en': 'Now pivot as you deliver the stroke.',\n",
       "  'es': 'Ahora gira mientras propinas el golpe.'},\n",
       " {'en': \"I'm sorry.\", 'es': 'Lo siento.'},\n",
       " {'en': 'Of course.', 'es': 'Por supuesto.'},\n",
       " {'en': \"You know it's true.\", 'es': 'Sabes que es verdad.'},\n",
       " {'en': 'Good to see you.', 'es': 'Me alegro de verte.'},\n",
       " {'en': \"- We don't know that.\", 'es': '- No lo sabemos.'},\n",
       " {'en': 'Why are you late?', 'es': '¿Por qué vienes tarde?'},\n",
       " {'en': '- All right.', 'es': '- De acuerdo.'},\n",
       " {'en': 'I want answers.', 'es': 'Quiero respuestas.'},\n",
       " {'en': 'I am quite certain.', 'es': 'Estoy bastante seguro.'},\n",
       " {'en': 'Hey, Johnny.', 'es': 'Hola, Johnny.'},\n",
       " {'en': \"No, it's OK.\", 'es': 'No pasa nada.'},\n",
       " {'en': 'No dad.', 'es': 'No papá.'},\n",
       " {'en': 'Someone betrayed me.', 'es': 'Alguien me la jugó'},\n",
       " {'en': \"It's only for one night.\", 'es': 'Es sólo por una noche.'},\n",
       " {'en': 'C95-132/I95-143 C95-132/I95-143',\n",
       "  'es': 'C95-132/ I95-143 C95-132/ I95-143'},\n",
       " {'en': \"It's me.\", 'es': 'Soy yo.'},\n",
       " {'en': \"No, I don't want any lessons from some up-north stranger.\",\n",
       "  'es': 'No, yo no recibo lecciones... de un extranjero venido del norte.'},\n",
       " {'en': 'Well, what are we gonna do?', 'es': '- Bueno, ¿qué vamos a hacer?'},\n",
       " {'en': 'And then...', 'es': 'Y luego ...'},\n",
       " {'en': 'Three million.', 'es': '- Tres millones.'},\n",
       " {'en': '- Oh, have fun scrubbing my boxers.', 'es': '- ¿Qué?'},\n",
       " {'en': 'Prepare yourself!', 'es': '¡Seif!'},\n",
       " {'en': '- Tom?', 'es': '- ¿Tom?'},\n",
       " {'en': 'That was beautiful.', 'es': 'Eso ha sido precioso.'},\n",
       " {'en': \"It's fine.\", 'es': 'No pasa nada.'},\n",
       " {'en': \"It's business.\", 'es': 'Son los negocios.'},\n",
       " {'en': 'You were there?', 'es': '¿Estuvo allí?'},\n",
       " {'en': \"If I wasn't, you wouldn't like me.\",\n",
       "  'es': 'Si no lo fuera, no te gustaría.'},\n",
       " {'en': '- I would love that.', 'es': '- Me encantaría.'},\n",
       " {'en': 'Put the weapon down.', 'es': '- Arroje el arma.'},\n",
       " {'en': \"That's all I got.\", 'es': 'Eso es todo lo que tengo.'},\n",
       " {'en': 'Get out of my face.', 'es': 'Vete de mi vista.'},\n",
       " {'en': 'I wish...', 'es': 'Tal vez...'},\n",
       " {'en': 'I got nothing to say.', 'es': 'No tengo nada que decir.'},\n",
       " {'en': 'You go.', 'es': 'Tú hazlo.'},\n",
       " {'en': 'You got the wrong guy!', 'es': '¡Se equivocan de hombre!'},\n",
       " {'en': 'What will he choose, ladies and gentlemen?',\n",
       "  'es': '¿Qué elegirá, damas y caballeros?'},\n",
       " {'en': \"It doesn't have to be.\", 'es': 'No tiene por qué serlo.'},\n",
       " {'en': '- All right!', 'es': '- ¡Sí!'},\n",
       " {'en': 'Address European Development Centre, 3 Milton Park, Abingdon, Oxon OX14 4RN, United Kingdom',\n",
       "  'es': 'Dirección European Development Centre, 3 Milton Park, Abingdon, Oxon OX14 4RN, Reino Unido'},\n",
       " {'en': '- Yes?', 'es': '- ¿Si?'},\n",
       " {'en': 'Having regard to the Treaty establishing the European Community,',\n",
       "  'es': 'Visto el Tratado constitutivo de la Comunidad Europea,'},\n",
       " {'en': '- Okay.', 'es': 'Está bien.'},\n",
       " {'en': '- Is that a fact?', 'es': '- ¿No me diga?'},\n",
       " {'en': 'Anything to stop you taking off?',\n",
       "  'es': 'Cualquier cosa para detener se aparta ?'},\n",
       " {'en': 'I chose you.', 'es': 'Te elegí a ti.'},\n",
       " {'en': '- Hi there.', 'es': '- Hola.'},\n",
       " {'en': 'Are you angry with me?', 'es': '¿Estás enfadado conmigo?'},\n",
       " {'en': 'I told you.', 'es': 'Se lo dije.'},\n",
       " {'en': '- I am.', 'es': '- Sí.'},\n",
       " {'en': 'Come with me.', 'es': 'Ven conmigo.'},\n",
       " {'en': 'Regular regular.', 'es': 'Normal, tirando a regular.'},\n",
       " {'en': \"I'm trying to narrow it down.\", 'es': 'Estoy tratando de reducirlo.'},\n",
       " {'en': 'One life is just the blink of an eye.',\n",
       "  'es': 'Una vida es sólo un parpadeo.'},\n",
       " {'en': 'And I think we should get a drink.',\n",
       "  'es': 'Y creo que hay que conseguir un trago.'},\n",
       " {'en': '- Is this it?', 'es': '- ¿Es aquí?'},\n",
       " {'en': 'Okay, okay!', 'es': '¡Está bien, está bien!'},\n",
       " {'en': \"It's not to everybody's taste.\",\n",
       "  'es': 'No es para el gusto de cualquiera.'},\n",
       " {'en': \"Blackie don't like nobody to walk out of a game.\",\n",
       "  'es': 'A Blackie no le agrada que alguien se retire de una partida.'},\n",
       " {'en': 'Hi, Jake.', 'es': 'Hola, Jake.'},\n",
       " {'en': 'Time periods indicated include presentations and discussion.',\n",
       "  'es': 'Time periods indicated include presentations and discussion.'},\n",
       " {'en': 'Let me handle this.', 'es': 'Dejame manejar esto.'},\n",
       " {'en': '- Which I give unopened to my PR man.',\n",
       "  'es': '- Que se la doy a mi relacionista público.'},\n",
       " {'en': 'Oh, yeah?', 'es': '¿Ah, sí?'},\n",
       " {'en': \"We're in the middle of a goddamn minefield!\",\n",
       "  'es': '¡Estamos en medio de un maldito campo minado!'},\n",
       " {'en': 'Use that big brain of yours to think your way out.',\n",
       "  'es': 'Usa tu cerebro de genio para pensar una salida.'},\n",
       " {'en': \"That's a beautiful name.\", 'es': 'Es un bonito nombre.'},\n",
       " {'en': 'Not you, trooper.', 'es': 'Tú no, soldado.'},\n",
       " {'en': 'I am.', 'es': '- Sí, sí.'},\n",
       " {'en': 'Get on the ground!', 'es': '¡Al suelo!'},\n",
       " {'en': 'I can wait.', 'es': 'Puedo esperar.'},\n",
       " {'en': 'Forget it.', 'es': 'Olvídadlo. No importa.'},\n",
       " {'en': '27/06/2014', 'es': '19/11/2014'},\n",
       " {'en': \"That's what they said.\", 'es': 'Es lo que han dicho.'},\n",
       " {'en': 'I only assumed you would not waste excessive coin towards them.',\n",
       "  'es': 'Solo asumo que no deberías desperdiciar una gran cantidad de monedas en ellos.'},\n",
       " {'en': \"- Oh, that's too bad.\", 'es': '- Qué pena.'},\n",
       " {'en': 'As a family?', 'es': '¿Como familia?'},\n",
       " {'en': 'Oh, jeez.', 'es': '- Ya viene el bebé.'},\n",
       " {'en': 'Dating a junior?', 'es': '¿Saliendo con una niña?'},\n",
       " {'en': 'Whoever did it only arrived in town last night.',\n",
       "  'es': 'Porque quien lo hizo llegó a la ciudad anoche.'},\n",
       " {'en': 'They came for you.', 'es': 'Vienen por ti.'},\n",
       " {'en': '[Laughter]', 'es': '[Risa]'},\n",
       " {'en': 'Look at this.', 'es': 'Mira esto.'},\n",
       " {'en': 'He looks happy.', 'es': '- Parece feliz.'},\n",
       " {'en': 'Is Tahiti better than this place?',\n",
       "  'es': '¿Es mejor Tahití que esto?'},\n",
       " {'en': '- Thank you, baby.', 'es': '- Gracias, cariño.'},\n",
       " {'en': 'Anybody here?', 'es': '¿ Hay alguien aquí?'},\n",
       " {'en': '- Oh, man!', 'es': '- ¡Hombre!'},\n",
       " {'en': 'Protests in Dhaka.', 'es': 'Protestas en Daca.'},\n",
       " {'en': '- It is?', 'es': '- Lo es?'},\n",
       " {'en': '- Sorry to interrupt.', 'es': '- Perdón por interrumpir.'},\n",
       " {'en': 'Can I have one?', 'es': '¿Puedo fumar uno?'},\n",
       " {'en': 'What is this?', 'es': '¿Qué es esto?'},\n",
       " {'en': 'Not right now.', 'es': 'Ahora no.'},\n",
       " {'en': 'Trust me.', 'es': 'Confía en mí.'},\n",
       " {'en': 'You can... you can have my bedroom.',\n",
       "  'es': 'Puedes... puedes quedarte en mi habitación.'},\n",
       " {'en': '- If you have autoimmune hepatitis or any other problem with your immune system; if you are',\n",
       "  'es': '- Si presenta una hepatitis autoinmune o cualquier otro problema del sistema inmune; si se'},\n",
       " {'en': 'Hello, pretty.', 'es': 'Hola, linda.'},\n",
       " {'en': '- Sabrina?', 'es': '- ¿Sabrina?'},\n",
       " {'en': '- Bruce:', 'es': '- Bueno.'},\n",
       " {'en': \"It's night.\", 'es': 'Es de noche.'},\n",
       " {'en': '- Good.', 'es': '- Bien.'},\n",
       " {'en': 'I thought it would suit you.',\n",
       "  'es': 'Pensé que sería apropiado para ti.'},\n",
       " {'en': 'You got it.', 'es': 'A ti.'},\n",
       " {'en': \"It's okay.\", 'es': 'Está bien.'},\n",
       " {'en': 'I just mean files.', 'es': '¡Quiero decir archivos!'},\n",
       " {'en': 'Say what?', 'es': '¿Qué dijiste?'},\n",
       " {'en': \"You're a professional.\", 'es': 'Eres un profesional.'},\n",
       " {'en': \"You're gonna miss the slumber party.\",\n",
       "  'es': 'Se perderán la fiesta de pijamas.'},\n",
       " {'en': 'of 21 December 2006', 'es': 'de 21 de diciembre de 2006'},\n",
       " {'en': '- Where?', 'es': '- ¿Dónde?'},\n",
       " {'en': \"It's so beautiful.\", 'es': 'Es tan hermoso.'},\n",
       " {'en': 'This is terrible.', 'es': 'Esto es terrible.'},\n",
       " {'en': '- Oh...', 'es': '- Oh...'},\n",
       " {'en': 'She has Only herself to blame!', 'es': '¡Ella misma es culpable!'},\n",
       " {'en': 'Thank you.', 'es': '- Gracias.'},\n",
       " {'en': 'Go on!', 'es': '¡Órale!'},\n",
       " {'en': '- Get out!', 'es': '¡Fuera!'},\n",
       " {'en': \"I've done nothing wrong!\", 'es': '¡No he hecho nada malo!'},\n",
       " {'en': '- Thank you.', 'es': '- Gracias.'},\n",
       " {'en': 'Get back.', 'es': '¡Retrocedan!'},\n",
       " {'en': \"You can't be serious.\", 'es': 'No puedes estar hablando en serio.'},\n",
       " {'en': 'And I was at the end of it.', 'es': 'Y yo estaba al final.'},\n",
       " {'en': 'Of course you can.', 'es': 'Por supuesto que sí .'},\n",
       " {'en': 'What do I get in return?', 'es': '¿Qué consigo a cambio?'},\n",
       " {'en': '- Let me know how it goes.', 'es': '- Hazme saber como estuvo.'},\n",
       " {'en': '- Roc can get am-fucker anything am-fucker gonna ask for.',\n",
       "  'es': 'J-Roc puede conseguir cualquier mierda que quieras.'},\n",
       " {'en': \"I told you I'd do my best.\", 'es': '- Te dije que me esforzaría.'},\n",
       " {'en': 'Aniline derivatives and their salts',\n",
       "  'es': 'Derivados de la anilina y sus sales'},\n",
       " {'en': \"But you're right, it's not relevant.\",\n",
       "  'es': 'Pero, tienes razón, no es relevante.'},\n",
       " {'en': 'Not very.', 'es': 'No mucho.'},\n",
       " {'en': \"I'm sorry, Paul.\", 'es': 'Lo siento, Paul.'},\n",
       " {'en': '- Excuse me?', 'es': '¿Disculpa?'},\n",
       " {'en': \"You're not good enough to be my friend\",\n",
       "  'es': 'No eres lo suficientemente buena para ser mi amiga.'},\n",
       " {'en': 'I-I know.', 'es': 'Lo sé.'},\n",
       " {'en': \"I don't want to lose you.\", 'es': 'No quiero perderte.'},\n",
       " {'en': 'Okay, here we go.', 'es': 'Ahí vamos.'},\n",
       " {'en': \"I'll find a way.\", 'es': 'Hallaré el modo.'},\n",
       " {'en': 'Be right back.', 'es': 'Enseguida vuelvo.'},\n",
       " {'en': 'Wanna come?', 'es': '¿Quiere venir?'},\n",
       " {'en': \"I really hope you don't.\", 'es': 'Realmente espero que no.'},\n",
       " {'en': '18 A.', 'es': '19 A.'},\n",
       " {'en': '- Who are you?', 'es': '- ¿Quien eres tu?'},\n",
       " {'en': 'Good evening.', 'es': 'Buenas noches.'},\n",
       " {'en': '- Huh?', 'es': '- ¿Eh?'},\n",
       " {'en': \"That's right.\", 'es': 'Eso es.'},\n",
       " {'en': 'And what are you doing?', 'es': '¿Y qué está haciendo?'},\n",
       " {'en': \"It doesn't matter what I feel.\", 'es': 'No importa lo que siento.'},\n",
       " {'en': 'Yeah, sure.', 'es': 'Qué bobada.'},\n",
       " {'en': 'The entire building almost burned down.',\n",
       "  'es': 'Casi se quemó todo el edificio entero.'},\n",
       " {'en': \"He's one of the most brilliant minds we have.\",\n",
       "  'es': 'Es de los más inteligentes.'},\n",
       " {'en': 'Knock-knock.', 'es': '¿Se puede?'},\n",
       " {'en': '- Arrested? !', 'es': '- ¿Arrestado?'},\n",
       " {'en': 'Having regard to the proposal from the Commission(1),',\n",
       "  'es': 'Vista la propuesta de la Comisión(1),'},\n",
       " {'en': 'It takes time.', 'es': 'Lleva su tiempo.'},\n",
       " {'en': 'Get you back on your feet.', 'es': 'Ayudarte a recuperar.'},\n",
       " {'en': 'Many centuries ago, a Chinese poet foresaw a Hong Kong that glittered like the stars in the heavens.',\n",
       "  'es': 'Hace muchos siglos, un poeta chino imaginó una Hong Kong que brillara como las estrellas del cielo.'},\n",
       " {'en': 'That was pretty fast.', 'es': '- Eso fue muy rápido.'},\n",
       " {'en': 'I will allow it.', 'es': 'Lo permitiré.'},\n",
       " {'en': \"She's in danger.\", 'es': 'Está en peligro'},\n",
       " {'en': 'Battle stations.', 'es': 'Estaciones de batalla.'},\n",
       " {'en': 'The window was open.', 'es': 'La ventana está abierta.'},\n",
       " {'en': 'You got something to say, just say it.',\n",
       "  'es': 'Si tienes algo que decir, simplemente dilo.'},\n",
       " {'en': 'I think this machine works.',\n",
       "  'es': 'Creo que esta máquina funciona.'},\n",
       " {'en': '- I am not!', 'es': '- ¡No soy comunista!'},\n",
       " {'en': 'All alone?', 'es': '¿Sola?'},\n",
       " {'en': 'This is for you.', 'es': 'Es para ti.'},\n",
       " {'en': 'Sharon, please.', 'es': '- Sharon, por favor.'},\n",
       " {'en': \"It's worse than death in the mines.\",\n",
       "  'es': 'Es incluso peor que trabajar en las minas.'},\n",
       " {'en': 'You had taken a risk.', 'es': 'Has tomado un riesgo.'},\n",
       " {'en': '- I know.', 'es': '- Lo sé.'},\n",
       " {'en': '- Yes, love?', 'es': '- ¿Si amor? .'},\n",
       " {'en': '- Fi!', 'es': '-¡Fi!'},\n",
       " {'en': \"It doesn't work with a bow...\", 'es': 'No funciona con un corba...'},\n",
       " {'en': \"We're only waiting for you.\", 'es': '¡Fuera de aquí!'},\n",
       " {'en': 'My darling.', 'es': 'Mi querido.'},\n",
       " {'en': \"- You're welcome.\", 'es': '-De nada.'},\n",
       " {'en': \"I'm not here.\", 'es': '- No estoy aquí.'},\n",
       " {'en': \"Let's go to sleep.\", 'es': 'Vamos a dormir.'},\n",
       " {'en': 'Give me your hand.', 'es': 'Dame la mano.'},\n",
       " {'en': \"You've got me.\", 'es': 'Me tiene a mí.'},\n",
       " {'en': 'Suit yourself.', 'es': 'haz lo que quieras.'},\n",
       " {'en': '-So?', 'es': '- ¿Y?'},\n",
       " {'en': \"You're a good boy.\", 'es': 'Eres un buen muchacho.'},\n",
       " {'en': 'For the Commission', 'es': 'Por la Comisión'},\n",
       " {'en': 'Okay, great.', 'es': '- Adiós.'},\n",
       " {'en': \"Where's the sample, Kat?\", 'es': '¿Dónde está la muestra, Kat?'},\n",
       " {'en': \"They're gone.\", 'es': 'Se han ido'},\n",
       " {'en': 'I want my baby!', 'es': '¡Quiero a mi bebé!'},\n",
       " {'en': '- Sure.', 'es': '- Claro.'},\n",
       " {'en': \"Let's get going.\", 'es': 'Sigamos adelante.'},\n",
       " {'en': '-What the hell does that mean?', 'es': '-Qué significa eso?'},\n",
       " {'en': '- Who is it?', 'es': '¿Quién?'},\n",
       " {'en': '- Already?', 'es': '- Ahora?'},\n",
       " {'en': 'Everybody, quiet!', 'es': '¡Chicos, silencio!'},\n",
       " {'en': '- Of course she does.', 'es': '- Claro que tiene.'},\n",
       " {'en': '-Hellfish.', 'es': '- Hellfish.'},\n",
       " {'en': '4.3 Contraindications', 'es': '4.3 Contraindicaciones'},\n",
       " {'en': 'A train.', 'es': 'Un tren.'},\n",
       " {'en': 'As you can see, we have everything under control.',\n",
       "  'es': 'Tenemos todo bajo control.'},\n",
       " {'en': \"If anything goes wrong, it's all down to you, Martha.\",\n",
       "  'es': 'Si algo va mal, todo depende de ti, Martha.'},\n",
       " {'en': \"So, if you don't mind...\", 'es': 'Entonces, si no te importa...'},\n",
       " {'en': \"That's really pretty.\", 'es': 'Es muy bonito.'},\n",
       " {'en': 'Is someone there?', 'es': 'Hay alguien allí?'},\n",
       " {'en': 'Wait until tomorrow.', 'es': 'Espera hasta mañana.'},\n",
       " {'en': 'A lifetime in jail.', 'es': 'Toda una vida en la cárcel.'},\n",
       " {'en': 'I know what you look like.', 'es': 'Sé como luces.'},\n",
       " {'en': 'But then he began to fear discovery.',\n",
       "  'es': 'Pero luego tuvo miedo, de ser descubierto.'},\n",
       " {'en': 'Thanks a lot.', 'es': 'Muchas gracias.'},\n",
       " {'en': 'What are you looking for?', 'es': '¿Qué está buscando?'},\n",
       " {'en': 'Me neither.', 'es': 'Yo tampoco.'},\n",
       " {'en': \"I said don't!\", 'es': 'No ! Yo no dije !'},\n",
       " {'en': \"I don't need any help.\", 'es': 'No necesito ayuda.'},\n",
       " {'en': \"- I'm so sorry.\", 'es': '- Cuanto lo siento.'},\n",
       " {'en': \"It's easy for you, Victor.\", 'es': 'Es fácil para ti, Victor'},\n",
       " {'en': \"I think she's going to help us.\", 'es': 'Nos ayudará.'},\n",
       " {'en': 'You got that right.',\n",
       "  'es': '- En eso tienes razón. - Y trabajaremos en eso.'},\n",
       " {'en': \"I'm not gonna narc on them.\", 'es': 'No voy a chivarme.'},\n",
       " {'en': \"You're late.\", 'es': 'Llegas tarde.'},\n",
       " {'en': \"Doctor she won't listen.\", 'es': 'Doctor... ella no escucha.'},\n",
       " {'en': \"- What'd he do?\", 'es': '- ¿Qué hizo?'},\n",
       " {'en': \"You'll hardly know we're here.\", 'es': 'Apenas sabrá dónde estamos.'},\n",
       " {'en': '- Sure.', 'es': '- Seguro.'},\n",
       " {'en': 'I need a word.', 'es': 'Necesito hablar.'},\n",
       " {'en': 'Love it.', 'es': 'Me encanta.'},\n",
       " {'en': \"You weren't?\", 'es': '¿No fue así?'},\n",
       " {'en': '- Which one?', 'es': '- ¿Qué?'},\n",
       " {'en': 'Just a suggestion.', 'es': 'Era una sugerencia.'},\n",
       " {'en': 'He has severe scar tissue all over his body.',\n",
       "  'es': 'Tiene cicatrices por todo el cuerpo.'},\n",
       " {'en': 'What are you thinking?', 'es': '¿Qué piensas?'},\n",
       " {'en': '- Nothing.', 'es': '- Nada.'},\n",
       " {'en': \"Sorry to disturb you but it's important.\",\n",
       "  'es': 'Siento molestarte pero es importante.'},\n",
       " {'en': 'Come on, off you go!', 'es': '¡Vamos, empiecen!'},\n",
       " {'en': \"- It's nice to see you.\", 'es': '- Me alegra verte.'},\n",
       " {'en': \"What's so funny?\", 'es': '¿Qué te resulta tan divertido?'},\n",
       " {'en': \"- They're dead.\", 'es': '- Están muertos.'},\n",
       " {'en': \"Let's see your hands.\", 'es': 'Dejame ver tus manos.'},\n",
       " {'en': 'What are you afraid of?', 'es': '¿De qué tiene miedo?'},\n",
       " {'en': 'Call the police.', 'es': '- Tengo que llamar a la policía.'},\n",
       " {'en': \"He's crashing.\", 'es': 'Está entrando en shock.'},\n",
       " {'en': 'Done at Brussels, 27 April 2006.',\n",
       "  'es': 'Hecho en Bruselas, el 27 de abril de 2006.'},\n",
       " {'en': 'It would be my honor to play your husband, Claire.',\n",
       "  'es': 'Será un honor para mí actuar de marido tuyo, Claire.'},\n",
       " {'en': 'What are you doing here?', 'es': '¿Qué estás haciendo aquí?'},\n",
       " {'en': 'PHARMACEUTICAL FORM AND CONTENTS',\n",
       "  'es': 'FORMA FARMACÉUTICA Y CONTENIDO DEL ENVASE'},\n",
       " {'en': 'Do not use in pregnant or lactating animals.',\n",
       "  'es': 'No usar en animales en gestación o lactancia.'},\n",
       " {'en': 'I had...', 'es': '- Tenía...'},\n",
       " {'en': '- I am.', 'es': '- Lo estoy.'},\n",
       " {'en': '\"When you hear them, scream.', 'es': '\"Cuando los oigas, grita.'},\n",
       " {'en': 'How do you know her?', 'es': '¿cómo la conoces?'},\n",
       " {'en': \"She doesn't look good.\", 'es': 'Ella no se ve bien.'},\n",
       " {'en': 'Agenda item 7', 'es': 'Tema 7 del programa'},\n",
       " {'en': 'Thanks for waiting.', 'es': 'Perdón por la espera.'},\n",
       " {'en': '- Thank you.', 'es': '- Muchas gracias,'},\n",
       " {'en': 'Right on the dot.', 'es': 'El peso exacto.'},\n",
       " {'en': \"Why don't you go give this to Carrie?\",\n",
       "  'es': '¿Qué tal si se Io das a Carrie?'},\n",
       " {'en': 'Okay, I am.', 'es': '¿Qué? ¿te estás riendo?'},\n",
       " {'en': \"That's it.\", 'es': 'Eso es todo. ¡Es asombroso!'},\n",
       " {'en': \"You're crazy.\", 'es': 'Estás loca.'},\n",
       " {'en': 'I panicked.', 'es': 'Entré en pánico.'},\n",
       " {'en': 'ibuprofen) or to COX-2 inhibitors.',\n",
       "  'es': 'o AINE (p.ej.: ibuprofeno) o a inhibidores de la COX -2.'},\n",
       " {'en': '- Thank you.', 'es': '- Gracias.'},\n",
       " {'en': 'Of course you do.', 'es': 'Claro que te acuerdas.'},\n",
       " {'en': \"Wow, hadn't thought of that.\", 'es': 'No Había pensado en eso.'},\n",
       " {'en': 'Her parents?', 'es': '¿Es sobre sus padres?'},\n",
       " {'en': 'Are you okay?', 'es': '¿Estás bien?'},\n",
       " {'en': \"Why didn't you tell me before?\",\n",
       "  'es': '¿Por qué no me lo dijiste antes?'},\n",
       " {'en': 'Not now.', 'es': 'Ahora no.'},\n",
       " {'en': 'Is there a point to this?', 'es': '¿Quieres llegar a algo?'},\n",
       " {'en': 'Get to work. Yes, sir.', 'es': 'Sí, señor.'},\n",
       " {'en': '- Nothing.', 'es': '- Nada.'},\n",
       " {'en': \"Here's my card.\", 'es': 'Aquí está mi tarjeta.'},\n",
       " {'en': \"That's the thing.\", 'es': 'Esa es la cuestión.'},\n",
       " {'en': 'Am I too late?', 'es': '¿Llego tarde?'},\n",
       " {'en': 'I knew it was real.', 'es': 'Sabía que era real.'},\n",
       " {'en': '- Great.', 'es': '-Genial.'},\n",
       " {'en': 'I mean, I was just in grade school at the time.',\n",
       "  'es': 'Quiero decir, solo estaba en la primaria en ese tiempo.'},\n",
       " {'en': \"That's right.\", 'es': 'Así es.'},\n",
       " {'en': '\"let it go, please\"', 'es': 'Suéltalo... \"Suéltalo, por favor\"'},\n",
       " {'en': 'Fancy meeting you here.', 'es': 'Un lujo encontrarte aquí.'},\n",
       " {'en': 'My son!', 'es': '¡Mi hijo!'},\n",
       " {'en': 'What should they do?', 'es': '¿Qué tendrían que hacer?'},\n",
       " {'en': 'Liquid, yellowish.', 'es': 'Líquido, con un tono amarillento.'},\n",
       " {'en': \"- I'm proud of you.\", 'es': '-Te admiro. -¿Por qué?'},\n",
       " {'en': '- With physical force?', 'es': '- ¿Con fuerza física?'},\n",
       " {'en': 'Thank you for coming.', 'es': 'Gracias por venir.'},\n",
       " {'en': \"Let's go inside.\", 'es': 'Vamos adentro.'},\n",
       " {'en': 'Good gracious!', 'es': '¡Dios mío! ¡Bertie!'},\n",
       " {'en': 'Stop it!', 'es': '- Deténganse. ¡Deténganse ya!'},\n",
       " {'en': 'I thought you were...', 'es': 'Pensé que...'},\n",
       " {'en': 'For God Sake,Lee!', 'es': '¡Por dios santo, Lee!'},\n",
       " {'en': \"I'm in!\", 'es': '¡Me aceptaron!'},\n",
       " {'en': 'I am the hostess .', 'es': 'Yo soy la azafata.'},\n",
       " {'en': 'All of a sudden...', 'es': 'De repente-'},\n",
       " {'en': 'Now, listen, I am still having my annual Fourth of July Clambake.',\n",
       "  'es': 'Ahora, escucha, sigo teniendo mi fiesta de la almeja del cuatro de Julio'},\n",
       " {'en': 'Did you talk to him?', 'es': '¿Habló con él?'},\n",
       " {'en': 'Can you...?', 'es': '¿Puede...?'},\n",
       " {'en': 'Come on, come on, come on.', 'es': 'Vamos, vamos.'},\n",
       " {'en': 'We are too late.', 'es': 'Es demasiado tarde.'},\n",
       " {'en': 'Come on.', 'es': '¡Vayan!'},\n",
       " {'en': 'Get down!', 'es': '¡Al suelo!'},\n",
       " {'en': 'I can do that.', 'es': 'Puedo hacer eso.'},\n",
       " {'en': 'Oh, no.', 'es': 'Oh, no.'},\n",
       " {'en': \"The quantity of time isn't always the most important.\",\n",
       "  'es': 'La cantidad de tiempo no siempre es lo más importante.'},\n",
       " {'en': \"You're alive!\", 'es': '¡Estáis vivos!'},\n",
       " {'en': 'Is he okay?', 'es': '¿Está bien?'},\n",
       " {'en': 'Your father was a great man.', 'es': 'Tu padre era un gran hombre.'},\n",
       " {'en': '- No problem.', 'es': '- No hay problema.'},\n",
       " {'en': 'What? What?', 'es': '¿Qué?'},\n",
       " {'en': '- Back off!', 'es': '-¡Atrás!'},\n",
       " {'en': 'Who are you looking for?', 'es': '¿A quién está buscando?'},\n",
       " {'en': 'Drop your weapons!', 'es': '¡Tira tus armas! .'},\n",
       " {'en': 'Burn it down!', 'es': '¡Quémenlo!'},\n",
       " {'en': \"- Yes, ma'am.\", 'es': '- Sí, señora.'},\n",
       " {'en': \"- I'm innocent.\", 'es': '- Muy bien.'},\n",
       " {'en': 'Enough already.', 'es': 'Ya lo está.'},\n",
       " {'en': 'I just need a place to rest.',\n",
       "  'es': 'Sólo necesito un lugar donde descansar.'},\n",
       " {'en': 'I got it!', 'es': '¡Lo tengo!'},\n",
       " {'en': 'Move on!', 'es': '¡Vamos!'},\n",
       " {'en': 'I have no idea.', 'es': 'No tengo ni idea.'},\n",
       " {'en': \"That's what I want.\", 'es': 'Esto es lo que quiero.'},\n",
       " {'en': \"I don't like lying.\", 'es': 'No me gusta mentir.'},\n",
       " {'en': '- You could be my Peter.', 'es': 'Podrías ser mi Pedro.'},\n",
       " {'en': 'Oh, my God!', 'es': '¡Por Dios!'},\n",
       " {'en': 'Now are you absolutely, positively clear about rule number one?',\n",
       "  'es': '¿Está absoluta, positivamente segura de la regla número uno?'},\n",
       " {'en': 'Ring the bell.', 'es': 'Llama al timbre.'},\n",
       " {'en': 'No kidding.', 'es': 'No es broma.'},\n",
       " {'en': 'You want a hint?', 'es': '¿Quieres una pista?'},\n",
       " {'en': '-Why?', 'es': '- ¿Por qué?'},\n",
       " {'en': 'Impact warning 30° West.', 'es': 'Aviso de impacto.'},\n",
       " {'en': 'What are you, stupid?', 'es': '¿Qué eres tú, estúpido?'},\n",
       " {'en': \"You're kidding, right?\", 'es': '- ¿Estás de broma?'},\n",
       " {'en': 'I think that was a strange question.',\n",
       "  'es': 'Esa fue una pregunta extraña.'},\n",
       " {'en': \"Carter's dead?\", 'es': '¿Carter está muerto?'},\n",
       " {'en': '- Nobody move.', 'es': '- Nadie se mueva.'},\n",
       " {'en': 'One, two, three!', 'es': 'Una... dos... ¡tres!'},\n",
       " {'en': 'Thank you so much.', 'es': 'Muchas gracias.'},\n",
       " {'en': '- Motherland!', 'es': '- Patria!'},\n",
       " {'en': \"No, you don't.\", 'es': 'No,no lo haces'},\n",
       " {'en': \"I'm a cop.\", 'es': 'Soy policía.'},\n",
       " {'en': 'What the hell are you doing in there?',\n",
       "  'es': '¿Qué diablos estás haciendo?'},\n",
       " {'en': 'All right.', 'es': '¿OK?'},\n",
       " {'en': \"I've changed my mind.\", 'es': 'He cambiado de opinión.'},\n",
       " {'en': 'Almost nothing.', 'es': 'Prácticamente nada.'},\n",
       " {'en': \"Oh, Virgil. I don't think you're gonna win many races.\",\n",
       "  'es': 'Virgil, no creo que ganes muchas carreras.'},\n",
       " {'en': 'You need anything?', 'es': '¿Necesitas algo?'},\n",
       " {'en': \"I'm so sorry.\", 'es': 'Lo siento mucho.'},\n",
       " {'en': 'Hi, Charlie.', 'es': '¡Oye, Charlie!'},\n",
       " {'en': \"- What? That's it?\", 'es': '¿Eso es todo?'},\n",
       " {'en': 'The restaurant.', 'es': 'Del restaurante.'},\n",
       " {'en': \"- I'm just...\", 'es': '- Sí. - Voy a...'},\n",
       " {'en': \"I wasn't looking for an invite.\", 'es': 'No buscaba una invitación.'},\n",
       " {'en': 'It was just a dream.', 'es': 'Fue sólo un sueño.'},\n",
       " {'en': \"Stop what you're doing.\", 'es': 'Paren lo que hacen.'},\n",
       " {'en': \"You're welcome.\", 'es': 'De nada.'},\n",
       " {'en': 'Number of visits: 2734', 'es': 'Número de visitas: 404'},\n",
       " {'en': 'One, two, three.', 'es': 'Uno, dos, tres.'},\n",
       " {'en': \"Don't you?\", 'es': '¿Tú no?'},\n",
       " {'en': 'Brought to you by WITH S2 Written In The Heavens Subbing Squad',\n",
       "  'es': 'Subtítulos en español: *** Coffee-Wings Subs ***'},\n",
       " {'en': \"If it's not too late.\", 'es': 'Vean a esa pobre gente ahí afuera.'},\n",
       " {'en': 'No, no.', 'es': 'No, no.'},\n",
       " {'en': 'Oh, my!', 'es': '¡Ah, caray!'},\n",
       " {'en': 'It happens.', 'es': 'Eso pasa.'},\n",
       " {'en': 'In centrum (3)', 'es': 'In centrum (54)'},\n",
       " {'en': 'Prescribers should refer to national guidelines for influenza vaccination.',\n",
       "  'es': 'El médico deberá observar las directrices nacionales para la vacunación contra la gripe.'},\n",
       " {'en': '- Hi.', 'es': '- Hola.'},\n",
       " {'en': 'Not exactly.', 'es': 'No precisamente.'},\n",
       " {'en': 'Oh, stop it.', 'es': 'Oh, basta.'},\n",
       " {'en': 'NAME AND ADDRESS OF THE MARKETING AUTHORISATION HOLDER',\n",
       "  'es': 'NOMBRE O RAZÓN SOCIAL DEL TITULAR DE LA AUTORIZACIÓN DE COMERCIALIZACIÓN'},\n",
       " {'en': '- Mercy.', 'es': '- Mercy.'},\n",
       " {'en': 'Is that what you think?', 'es': '¿Eso es lo que crees?'},\n",
       " {'en': 'To both of us.', 'es': 'Para ambos.'},\n",
       " {'en': 'This is fresh.', 'es': 'Es reciente.'},\n",
       " {'en': '- May I ?', 'es': '- ¿Puedo?'},\n",
       " {'en': \"If that's all right with you?\", 'es': '- ¿Si estás de acuerdo?'},\n",
       " {'en': 'Take those off.', 'es': 'Sacate eso.'},\n",
       " {'en': 'Any relationship problems?',\n",
       "  'es': '¿Cualquier problema con las relaciones?'},\n",
       " {'en': 'No, what?', 'es': 'No, ¿qué?'},\n",
       " {'en': 'I want to leave an Eliot Stemple skid mark.',\n",
       "  'es': 'Quiero dejar una marca de derrape Eliot Stemple.'},\n",
       " {'en': '- My father.', 'es': 'Mi padre.'},\n",
       " {'en': \"- It's a little bit of trivia.\", 'es': '- Es un poco de trivia.'},\n",
       " {'en': 'Five dates.', 'es': 'Cinco citas.'},\n",
       " {'en': 'Most of them are non-lethal.',\n",
       "  'es': 'La mayoría de ellas no son letales.'},\n",
       " {'en': 'I spent the whole time sleeping.',\n",
       "  'es': 'Me pasé todo el santo tiempo, durmiendo.'},\n",
       " {'en': 'Hey, Kent.', 'es': 'Hola, Kent.'},\n",
       " {'en': 'Quantum mechanics allows--', 'es': 'La mecánica cuántica permite...'},\n",
       " {'en': 'Yard sale!', 'es': '¡Venta de garaje!'},\n",
       " {'en': 'What is it?', 'es': '¿Que es?'},\n",
       " {'en': \"What's up, brother?\", 'es': '¿Qué tal? Hola, Dé.'},\n",
       " {'en': 'I have to go.', 'es': 'Debo irme.'},\n",
       " {'en': \"It's fine.\", 'es': 'Esto se mete por todas partes.'},\n",
       " {'en': '- God.', 'es': '- Dios.'},\n",
       " {'en': \"It's you?\", 'es': '¿Eres tú?'},\n",
       " {'en': '- Four!', 'es': '- ¡Cuatro!'},\n",
       " {'en': 'Since when?', 'es': 'Desde cuando?'},\n",
       " {'en': \"What do you think'?\", 'es': '¿Que piensas?'},\n",
       " {'en': \"I mean, I don't shop in this neighborhood, but...\",\n",
       "  'es': 'No compro en este barrio, pero...'},\n",
       " {'en': '- I know.', 'es': '- Lo sé.'},\n",
       " {'en': \"I'll see you at dinner.\", 'es': 'Nos vemos en la cena.'},\n",
       " {'en': 'You alone?', 'es': '¿Estás sola?'},\n",
       " {'en': 'Come here.', 'es': 'Ven acá.'},\n",
       " {'en': 'Development of clear and transparent indicators, especially for ODA.',\n",
       "  'es': 'Asistencia oficial para el desarrollo/asistencia para el desarrollo'},\n",
       " {'en': 'It will be fine.', 'es': 'No pasa nada.'},\n",
       " {'en': '- Tonight.', 'es': '- Todos nosotros.'},\n",
       " {'en': 'Here you go.', 'es': 'Aquí tiene.'},\n",
       " {'en': 'Can you hear me?', 'es': '¿Puedes oírme?'},\n",
       " {'en': \"That's true.\", 'es': 'Eso es verdad.'},\n",
       " {'en': \"She won't do it, Dad.\", 'es': 'Ella no lo hará, papá.'},\n",
       " {'en': '(1)', 'es': 'Douche (116)'},\n",
       " {'en': 'Valenzuela is dead.', 'es': 'Valenzuela está muerto.'},\n",
       " {'en': 'Clear right.', 'es': 'Despejado a la derecha.'},\n",
       " {'en': 'What, right now?', 'es': '¿Cómo, ahora mismo?'},\n",
       " {'en': \"Then that's what we'll do.\", 'es': 'Entonces vayamos.'},\n",
       " {'en': \"- You don't seem too worried.\", 'es': '- No pareces muy preocupado.'},\n",
       " {'en': 'You found it.', 'es': '- Lo encontró.'},\n",
       " {'en': 'You first.', 'es': 'Tú el primero.'},\n",
       " {'en': \"I don't want it.\", 'es': 'No lo quiero.'},\n",
       " {'en': '%#: session number', 'es': '%#: número de sesión'},\n",
       " {'en': 'I gave you one.', 'es': 'Yo te di uno.'},\n",
       " {'en': 'This is my fault?',\n",
       "  'es': '¿Y es culpa mía? Le puse mis datos en unas tarjetas.'},\n",
       " {'en': 'Yes, she is.', 'es': 'Sí, es preciosa.'},\n",
       " {'en': 'Do me a favor.', 'es': 'Hazme un favor.'},\n",
       " {'en': 'Individually and collectively, States will endeavour, as appropriate, to support the following actions:',\n",
       "  'es': 'Individual y colectivamente, según proceda, los Estados se esforzarán por apoyar:'},\n",
       " {'en': 'I checked out his web page.', 'es': 'Ojeé su página web.'},\n",
       " {'en': '6.2 Incompatibilities', 'es': '21 6.2 Incompatibilidades'},\n",
       " {'en': 'No morphine.', 'es': '- Morfina. No, morfina no.'},\n",
       " {'en': 'Yeah, he does.', 'es': 'Sí que me odia.'},\n",
       " {'en': 'You OK?', 'es': '¿Estás bien?'},\n",
       " {'en': 'Tiny bars of soap.', 'es': 'Jaboncitos individuales.'},\n",
       " {'en': \"- I'm aware of that.\", 'es': '- Soy consciente de ello.'},\n",
       " {'en': \"- Take 'em off.\", 'es': '- Quítatelos.'},\n",
       " {'en': \"It's about time.\", 'es': 'A buenas horas.'},\n",
       " {'en': '- You sure?', 'es': '-¿Estás seguro?'},\n",
       " {'en': 'Yeah, she does.', 'es': 'Sí, así es.'},\n",
       " {'en': \"It's nothing.\", 'es': 'No es nada.'},\n",
       " {'en': '- Hang on.', 'es': '- Espera.'},\n",
       " {'en': '- Hi.', 'es': '- Hola.'},\n",
       " {'en': 'Somebody stop him!', 'es': 'IQue alguien le detenga!'},\n",
       " {'en': \"That's all.\", 'es': 'Eso es todo.'},\n",
       " {'en': 'Many users on social media referred to the double standard the Bogota police showed.',\n",
       "  'es': 'Muchos usuarios en redes sociales se refirieron al doble estándar que mostró la policía de Bogotá.'},\n",
       " {'en': 'Everybody does it.', 'es': 'Todo el mundo lo hace.'},\n",
       " {'en': '4.4 Special warnings and precautions for use',\n",
       "  'es': '4.4 Advertencias y precauciones especiales de empleo'},\n",
       " {'en': 'The John Galt Line.', 'es': 'La Línea John Galt.'},\n",
       " {'en': '- I think so.', 'es': '- Eso creo.'},\n",
       " {'en': \"It's up to you.\", 'es': 'Depende de ti.'},\n",
       " {'en': '- What? !', 'es': '- ¿Qué?'},\n",
       " {'en': \"Yeah, I don't know.\", 'es': 'Sí, no lo sé.'},\n",
       " {'en': 'Oh, I see.', 'es': 'Ya veo.'},\n",
       " {'en': 'Yes, sir.', 'es': 'Si señor.'},\n",
       " {'en': 'What happened to your face?', 'es': '¿Qué te pasó en la cara?'},\n",
       " {'en': \"I'm gonna get me a new partner.\", 'es': 'Me buscaré un socio nuevo.'},\n",
       " {'en': \"I left it at Maria's a while ago.\",\n",
       "  'es': 'Se lo dejé a María hace un tiempo.'},\n",
       " {'en': 'Have you gone mad?', 'es': 'Es un poco tarde para esas preguntas.'},\n",
       " {'en': 'Anyway, thank you.', 'es': 'En fin, gracias.'},\n",
       " {'en': \"No, that's just a...\", 'es': 'No, es solo...'},\n",
       " {'en': 'Well, that is absolutely not true.',\n",
       "  'es': 'Bueno, eso no es para nada verdad.'},\n",
       " {'en': 'Wait, what?', 'es': 'Espera, ¿qué?'},\n",
       " {'en': 'No, no, no.', 'es': 'No, no.'},\n",
       " {'en': 'Well, okay.', 'es': 'Está bien.'},\n",
       " {'en': 'You think?', 'es': '¿Eso crees?'},\n",
       " {'en': 'She says that you can, uh, pull greatness right out of people.',\n",
       "  'es': 'Dice que tú puedes sacar la grandeza de la gente.'},\n",
       " {'en': \"It's the Thunderbowl, the ultimate test of bowling nerve.\",\n",
       "  'es': 'Esto es Bocha relámpago, la máxima prueba para los nervios.'},\n",
       " {'en': 'What are you looking at?', 'es': '¿Qué estás mirando?'},\n",
       " {'en': '- Oh, I know, I know.', 'es': 'Lo sé.'},\n",
       " {'en': 'Oh, please.', 'es': 'Ah, por favor.'},\n",
       " {'en': 'Stop it!', 'es': '¡Para!'},\n",
       " {'en': 'The Assembly:', 'es': 'La Asamblea:'},\n",
       " {'en': \"Yeah. Yeah, you're right.\", 'es': 'Tienes razón.'},\n",
       " {'en': 'Get the lead out!', 'es': '¡Fuera!'},\n",
       " {'en': \"What have you told him about his father's death?\",\n",
       "  'es': '¿Qué le dijiste sobre su muerte?'},\n",
       " {'en': 'Okay, okay, okay.', 'es': 'Bien, está bien, está bien.'},\n",
       " {'en': 'Are you deaf?', 'es': '- ¿Es sorda?'},\n",
       " {'en': 'No worries.', 'es': 'Sin problema.'},\n",
       " {'en': 'Well, what do you think?', 'es': 'Bueno, ¿qué crees tú?'},\n",
       " {'en': \"Lover's quarrel?\", 'es': '¿Pleito de enamorados?'},\n",
       " {'en': '- OK?', 'es': '- ¿OK?'},\n",
       " {'en': 'Hey, man.', 'es': 'Hey hombre.'},\n",
       " {'en': \"That's really nice of you.\", 'es': 'Es muy bonito por tu parte.'},\n",
       " {'en': 'He does.', 'es': 'Lo está.'},\n",
       " {'en': 'Just cut to the chase.', 'es': 'Para. Ve directo al grano.'},\n",
       " {'en': \"Now he's dead.\", 'es': 'Y ahora está muerto.'},\n",
       " {'en': \"This isn't about me.\", 'es': 'Esto no es sobre mí.'},\n",
       " {'en': 'BEVERLY: What?', 'es': '¿Qué?'},\n",
       " {'en': \"I'll see you all tomorrow.\", 'es': 'Hasta mañana.'},\n",
       " {'en': 'No, you crazy?', 'es': '- No. ¿Estás loco?'},\n",
       " {'en': \"Oh, I'm sorry.\", 'es': 'Lo siento.'},\n",
       " {'en': \"Don't tempt me.\", 'es': 'No me tientes.'},\n",
       " {'en': \"I just couldn't do it.\", 'es': 'yo no podía hacerlo.'},\n",
       " {'en': '- Wait.', 'es': '- Espera.'},\n",
       " {'en': 'Enron on-line will change the markets for many many commodities.',\n",
       "  'es': 'Enron Online cambiará los mercados ...para muchas mercancías.'},\n",
       " {'en': \"He can't take care of himself.\",\n",
       "  'es': 'No puede cuidarse a si mismo.'},\n",
       " {'en': '-Close your eyes.', 'es': 'Cierra tus ojos.'},\n",
       " {'en': 'Wanna give it a shot?', 'es': '¿Quieres darle algún toque?'},\n",
       " {'en': 'Do you understand that?', 'es': '¿Entiendes eso?'},\n",
       " {'en': 'Nobody gave shit for me!', 'es': '¡A nadie le importo una mierda!'},\n",
       " {'en': \"- You're welcome.\", 'es': '- De nada.'},\n",
       " {'en': '- Who? Me?', 'es': '¿Yo?'},\n",
       " {'en': \"He's a liar.\", 'es': '- Es un mentiroso.'},\n",
       " {'en': 'Tell me everything.', 'es': 'Cuéntemelo todo.'},\n",
       " {'en': \"It's a metaphor.\", 'es': 'Es una metáfora.'},\n",
       " {'en': '- Oh, no, please.', 'es': '- No, por favor.'},\n",
       " {'en': 'Hope so.', 'es': 'Eso espero.'},\n",
       " {'en': '- Roger, roger.', 'es': '- Entendido, entendido.'},\n",
       " {'en': '- Who is it?', 'es': '- Quién es?'},\n",
       " {'en': \"They're coming back.\", 'es': 'Aquí vamos.'},\n",
       " {'en': \"It's almost 8.\", 'es': 'Son casi las 8.'},\n",
       " {'en': 'I promise.', 'es': 'Lo prometo.'},\n",
       " {'en': 'Maybe we should just do our jobs.',\n",
       "  'es': 'Tal vez deberíamos dedicarnos a nuestros trabajos.'},\n",
       " {'en': \"If you don't like it, don't look.\",\n",
       "  'es': 'Si no te gusta, no mires.'},\n",
       " {'en': 'No, sorry.', 'es': 'Ni me importa.'},\n",
       " {'en': 'See you tomorrow.', 'es': 'Nos vemos mañana.'},\n",
       " {'en': 'What are you trying to say?', 'es': '¿Qué tratas de decir?'},\n",
       " {'en': 'One vial with powder for solution for injection contains nonacog alfa 1000 IU and excipients.',\n",
       "  'es': 'Un vial con polvo para solución inyectable que contiene 1000 UI de nonacog alfa y excipientes.'},\n",
       " {'en': \"I understand, ma'am.\", 'es': 'Lo entiendo, señora.'},\n",
       " {'en': '- I heard you.', 'es': 'Sí, sargento.'},\n",
       " {'en': '- Who do you think?', 'es': '- ¿Quién va a ser?'},\n",
       " {'en': 'Stop now.', 'es': 'Para ya.'},\n",
       " {'en': 'Actually, no.', 'es': 'De hecho, no.'},\n",
       " {'en': \"I don't know, honey.\", 'es': 'No lo sé, cariño.'},\n",
       " {'en': 'DATE OF FIRST AUTHORISATION/ RENEWAL OF THE AUTHORISATION',\n",
       "  'es': 'FECHA DE LA PRIMERA AUTORIZACIÓN/ RENOVACIÓN DE LA AUTORIZACIÓN'},\n",
       " {'en': '- I trust you.', 'es': '- Confío en ti.'},\n",
       " {'en': \"I've tried.\", 'es': 'Lo he intentado.'},\n",
       " {'en': \"-You don't understand...\", 'es': '-No entiende...'},\n",
       " {'en': 'Do you know where they went?', 'es': '¿Sabes adónde fueron?'},\n",
       " {'en': \"No, it's not possible.\", 'es': 'No, no es posible.'},\n",
       " {'en': 'Stay calm! No!', 'es': '¡Mantén la calma!'},\n",
       " {'en': '-Hello.', 'es': '- Hola.'},\n",
       " {'en': 'Oh, no, no!', 'es': '¡No, no!'},\n",
       " {'en': 'Well, talk to you later.', 'es': 'Bueno, luego hablamos.'},\n",
       " {'en': '-A LSD predecessor?', 'es': '- ¿Un predecesor del LSD?'},\n",
       " {'en': 'Is she all right?', 'es': '¿Está bien?'},\n",
       " {'en': '- Quiet!', 'es': '- ¡Silencio!'},\n",
       " {'en': 'You look great.', 'es': 'Te ves genial.'},\n",
       " {'en': 'You wore them so proudly.',\n",
       "  'es': 'Usted los portaba tan orgullosamente.'},\n",
       " {'en': '26:48', 'es': '7:26'},\n",
       " {'en': 'How to get there?', 'es': '¿Cómo llegar?'},\n",
       " {'en': 'And then my Mr. Tuttle and your Mr. Moguy can hash out the finer details between themselves.',\n",
       "  'es': 'Y entonces mi Sr. Tuttle y su Sr. Moguy puede discutir los más íntimos detalles entre ellos.'},\n",
       " {'en': '- Oh, get out.', 'es': '-Lárgate.'},\n",
       " {'en': 'How do I know I can trust you?',\n",
       "  'es': '¿Cómo sé que puedo confiar en ti?'},\n",
       " {'en': \"You don't know that.\", 'es': 'No lo sabes.'},\n",
       " {'en': '- Yeah, we know.', 'es': '-Sí, lo sabemos.'},\n",
       " {'en': \"That's classified.\", 'es': '- Es un secreto.'},\n",
       " {'en': '- Friends.', 'es': '- Amigos.'},\n",
       " {'en': \"What's this?\", 'es': '¿Qué es esto?'},\n",
       " {'en': \"No, I'm okay.\", 'es': '- No estoy bien, estoy bien.'},\n",
       " {'en': 'Now, say it again once more.', 'es': 'Repítelo otra vez.'},\n",
       " {'en': 'Joint Inspection Unit', 'es': 'Dependencia Común de Inspección'},\n",
       " {'en': 'I was just looking for--', 'es': 'Estaba buscando...'},\n",
       " {'en': 'Can you see?', 'es': '¿Puedes ver?'},\n",
       " {'en': \"That's really something.\", 'es': 'Es verdaderamente importante.'},\n",
       " {'en': 'News flash.', 'es': 'Noticia de última hora.'},\n",
       " {'en': \"Shouldn't be a big deal.\", 'es': 'No debe ser cualquier cosa que,'},\n",
       " {'en': '- Have you seen him?', 'es': '- ¿Le has visto?'},\n",
       " {'en': 'I understand.', 'es': 'Lo entiendo.'},\n",
       " {'en': 'For how long?', 'es': '¿Por cuánto tiempo?'},\n",
       " {'en': 'Not then.', 'es': 'No en esa época.'},\n",
       " {'en': \"Wait, wait, what's that?\", 'es': 'Espera, espera, qué es eso?'},\n",
       " {'en': 'I love you.', 'es': 'Te amo.'},\n",
       " {'en': \"I'll see you in court.\", 'es': 'Te veré en el tribunal.'},\n",
       " {'en': '- Of course.', 'es': '- Por supuesto.'},\n",
       " {'en': '- No, no.', 'es': '- No, no.'},\n",
       " {'en': '- You sure?', 'es': '¿Seguro?'},\n",
       " {'en': '- Or else?', 'es': '¿O bien?'},\n",
       " {'en': 'Respect for the views of the child',\n",
       "  'es': 'Respeto de las opiniones del niño'},\n",
       " {'en': 'This is Paul.', 'es': 'Habla Paul.'},\n",
       " {'en': 'Oh, dear.', 'es': 'Oh, querida.'},\n",
       " {'en': \"What's the secret?\", 'es': '¿Cuál es el secreto?'},\n",
       " {'en': \"I don't see a thing.\", 'es': 'No veo nada.'},\n",
       " {'en': 'Got it?', 'es': '¿Enterado?'},\n",
       " {'en': 'Well done.', 'es': 'Bien hecho.'},\n",
       " {'en': 'Have you ever thought about getting out?',\n",
       "  'es': '¿Alguna vez has pensado en irte?'},\n",
       " {'en': 'But then, when we find that gold...',\n",
       "  'es': 'Pero entonces, cuando encontremos el oro...'},\n",
       " {'en': \"I know what I'm doing.\", 'es': 'Sé lo que estoy haciendo.'},\n",
       " {'en': \"We're fucked.\", 'es': 'Estamos jodidos.'},\n",
       " {'en': \"He's killing bad people who got a 2nd chance in life.\",\n",
       "  'es': 'Está matando \"gente mala\" que obtuvo una 2ª oportunidad en la vida.'},\n",
       " {'en': 'You know which one?', 'es': '¿Sabes cúal?'},\n",
       " {'en': 'You all right?', 'es': '¿Estás bien?'},\n",
       " {'en': 'Uh, yeah.', 'es': 'Sí. Está bien.'},\n",
       " {'en': '[LAUGHING]',\n",
       "  'es': 'Así es que me gustaría presentar Una moción para que le enviamos'},\n",
       " {'en': 'Yeah, what?', 'es': 'Ok. ¿Qué?'},\n",
       " {'en': 'I have her.', 'es': 'La tengo.'},\n",
       " {'en': 'What are you doing there?', 'es': '? Que haces ahi parado? ?'},\n",
       " {'en': 'The minute I see an opening, okay?',\n",
       "  'es': '¿En cuanto vea el momento, vale?'},\n",
       " {'en': \"Oh, that's so cute.\", 'es': 'Qué mono.'},\n",
       " {'en': '- Yes, sorry.', 'es': 'Sí, perdónanos.'},\n",
       " {'en': 'Font &Size',\n",
       "  'es': 'Tamaño del tipo de letra@action boldify selected text'},\n",
       " {'en': '-Do you have a moment?', 'es': 'Director Green, ¿tiene un momento?'},\n",
       " {'en': \"I'm not going through that.\", 'es': 'No pasaré por ello.'},\n",
       " {'en': 'METHOD AND ROUTE(S) OF ADMINISTRATION',\n",
       "  'es': 'FORMA Y VÍA(S) DE ADMINISTRACIÓN'},\n",
       " {'en': '- Yep.', 'es': '- Sí.'},\n",
       " {'en': 'Come on, Spock.', 'es': '¡Vamos, Spock!'},\n",
       " {'en': '- Do what I say.', 'es': '- Haz lo que te digo.'},\n",
       " {'en': 'OK, then.', 'es': 'De acuerdo, entonces.'},\n",
       " {'en': 'Oh, you have got to be freaking kidding me!',\n",
       "  'es': 'Oh, ¡tienes que estar bromeando carajo¡'},\n",
       " {'en': 'Yes, sir.', 'es': 'Sí, señor.'},\n",
       " {'en': 'Well, Mrs Norbury,', 'es': 'Bien, Sra. Norbury,'},\n",
       " {'en': 'I accept your apology.', 'es': 'Acepto tu disculpa.'},\n",
       " {'en': '-I only provide winners.', 'es': '¡Yo sólo doy ganadores!'},\n",
       " {'en': 'Maybe you should.', 'es': 'Tal vez deberías.'},\n",
       " {'en': 'If you pollinate too early, it may not work.',\n",
       "  'es': 'Si polinizas demasiado pronto, puede que no funcione bien.'},\n",
       " {'en': 'One, two, and three.', 'es': 'Una, dos y tres.'},\n",
       " {'en': \"But that ain't all, come take a looksee.\",\n",
       "  'es': 'Pero eso no es todo. Ven aquí y mira.'},\n",
       " {'en': 'She wants a divorce.', 'es': 'Ella quiere el divorcio.'},\n",
       " {'en': 'Is it?', 'es': '¿Sí?'},\n",
       " {'en': 'Office of the Director', 'es': 'Oficina del Director'},\n",
       " {'en': '- Who?', 'es': '- ¿De quién?'},\n",
       " {'en': \"What's going on?\", 'es': '- ¿Qué pasa?'},\n",
       " {'en': 'Lenny. How have you been?', 'es': 'Lenny, ¿cómo has estado?'},\n",
       " {'en': \"I'm here.\", 'es': 'He llegado.'},\n",
       " {'en': \"That's bullshit.\", 'es': 'Qué disparate.'},\n",
       " {'en': 'A little senile, you mean, with one foot and a big toe in the grave?',\n",
       "  'es': 'Quieres decir un poco senil, ¿con un pie en la tumba?'},\n",
       " {'en': '- Yes?', 'es': '¿Si?'},\n",
       " {'en': \"Oh, it's good to be home.\", 'es': 'Es bueno estar en casa.'},\n",
       " {'en': 'What is so special about me?', 'es': '¿Qué tengo de especial?'},\n",
       " {'en': 'What was the plan?', 'es': '¿Cuál era el plan?'},\n",
       " {'en': \"- Who's that?\", 'es': '- ¿Quién es esa?'},\n",
       " {'en': 'You again.', 'es': 'Otra vez tú.'},\n",
       " {'en': 'Let me take you home.', 'es': 'Permíteme llevarte a casa.'},\n",
       " {'en': 'There was nothing we could do.', 'es': 'No pudimos hacer nada.'},\n",
       " {'en': 'No, actually, I come for your girls.',\n",
       "  'es': 'No, de hecho, yo vengo por ellas.'},\n",
       " {'en': '- Key?', 'es': '- ¿Llave?'},\n",
       " {'en': '- Okay.', 'es': '- De acuerdo.'},\n",
       " {'en': \"- 'Bye.\", 'es': '- Adiós.'},\n",
       " {'en': 'Her body language is all wrong.',\n",
       "  'es': 'Su lenguaje corporal es todo incorrecto.'},\n",
       " {'en': \"I'm sorry!\", 'es': '¡Lo siento!'},\n",
       " {'en': '- Damn.', 'es': '- Maldición.'},\n",
       " {'en': \"People's direct action.\", 'es': 'Acción directa del Pueblo.'},\n",
       " {'en': 'Fine weather today.', 'es': 'El tiempo está bueno hoy.'},\n",
       " {'en': \"This might sound crazy, but they're allergic to drunk people.\",\n",
       "  'es': 'Esto probablemente sonará como una locura, pero son alérgicos a la gente ebria.'},\n",
       " {'en': 'You oughta be ashamed of yourself.',\n",
       "  'es': '-Seguro. -Debería avergonzarte de ti mismo.'},\n",
       " {'en': 'Who then?', 'es': '¿Y quién es?'},\n",
       " {'en': \"I don't know how to tell you, but...\",\n",
       "  'es': 'No sé cómo decírtelo, pero...'},\n",
       " {'en': 'What the hell just happened?', 'es': '¿Qué diablos acaba de pasar?'},\n",
       " {'en': 'Just kidding.', 'es': 'Estoy bromenado.'},\n",
       " {'en': 'Can I come in?', 'es': '¿Puedo pasar?'},\n",
       " {'en': 'points 4.1 and 4.2 are deleted;',\n",
       "  'es': 'se suprimen los puntos 4.1 y 4.2;'},\n",
       " {'en': 'Are you kidding me?', 'es': '¿Estás de broma?'},\n",
       " {'en': 'You threatened Hans Pettersson in prison.',\n",
       "  'es': 'Amenazaste a Hans Pettersson desde la cárcel.'},\n",
       " {'en': '- What the hell are you doing?', 'es': '¿Qué haces aquí?'},\n",
       " {'en': 'You want a hug?', 'es': '¿Quieres un abrazo?'},\n",
       " {'en': 'You were flawed, weak, malleable.',\n",
       "  'es': 'Estabas dañado, débil, maleable.'},\n",
       " {'en': \"What's the use in fighting our natures.\",\n",
       "  'es': '¿Qué sentido tiene luchar contra nuestra propia naturaleza?'},\n",
       " {'en': 'He is your son.', 'es': 'Es tu hijo.'},\n",
       " {'en': \"I'm Gravity, Mission Commander's assistant.\",\n",
       "  'es': 'Soy Gravedad, asistente del comandante de la misión.'},\n",
       " {'en': '\"PWIP PIP\"?', 'es': '¿PPG PIP?'},\n",
       " {'en': 'You sad?', 'es': '¿Triste?'},\n",
       " {'en': '- Jubilee?', 'es': '- ¿Jubileo?'},\n",
       " {'en': \"I can't wait to tell the judge all about this tomorrow.\",\n",
       "  'es': 'No veo la hora de contarle al juez todo esto mañana.'},\n",
       " {'en': \"It's not bad.\", 'es': '- Igual no es poco.'},\n",
       " {'en': \"- I don't know.\", 'es': 'Va a estar enojada.'},\n",
       " {'en': '[ Doorbell rings ]', 'es': '[Suena el timbre]'},\n",
       " {'en': 'I gotta go to the bathroom.', 'es': 'Debo ir al baño.'},\n",
       " {'en': \"I'll blow them away.\", 'es': 'Los machacaré.'},\n",
       " {'en': \"That's it.\", 'es': 'Se acabó.'},\n",
       " {'en': \"Don't you want to call me a phony jerk first?\",\n",
       "  'es': 'No deseas llamarme falso idiota primero?'},\n",
       " {'en': 'Neither the radio.', 'es': 'Tampoco las radios.'},\n",
       " {'en': '\"No.', 'es': '\"No.'},\n",
       " {'en': '-Of course I do.', 'es': 'Claro que sí.'},\n",
       " {'en': \"- You're a bad boy.\", 'es': '- Eres un mal tipo.'},\n",
       " {'en': \"You don't think?\", 'es': '- ¿Creen?'},\n",
       " {'en': \"You're in excellent hands.\", 'es': 'Estás en excelentes manos.'},\n",
       " {'en': \"Keep 'em closed.\", 'es': 'Mantenlos cerrados.'},\n",
       " {'en': 'Alone and forgotten.', 'es': 'Solo y olvidado.'},\n",
       " {'en': \"No, I didn't.\", 'es': 'No, yo no le he dicho nada.'},\n",
       " {'en': \"He's all alone?\", 'es': '¿Él está totalmente solo?'},\n",
       " {'en': 'Well, okay.', 'es': 'Bueno, de acuerdo.'},\n",
       " {'en': \"He's not.\", 'es': 'No está libre.'},\n",
       " {'en': '- Christ!', 'es': '- Cristo.'},\n",
       " {'en': 'The demon woman was here, the one who attacked you.',\n",
       "  'es': 'La chica demonio estuvo aquí, la que te atacó.'},\n",
       " {'en': 'Having regard to the proposal of the Italian Government,',\n",
       "  'es': 'Vista la propuesta del Gobierno italiano,'},\n",
       " {'en': \"You're not going to help me?\", 'es': '¿No me ayudarás?'},\n",
       " {'en': \"I don't know what...\", 'es': 'No sé qué ...'},\n",
       " {'en': \"You don't have to tattoo my dad.\",\n",
       "  'es': 'No tienen que tatuar a mi papá.'},\n",
       " {'en': \"It's in you.\", 'es': 'Está dentro de ti.'},\n",
       " {'en': \"The others didn't save me.\", 'es': 'Nadie puede salvarte.'},\n",
       " {'en': \"I promise I'll never lie to you again.\",\n",
       "  'es': 'Te prometo que nunca volveré a mentirte.'},\n",
       " {'en': 'No, no.', 'es': 'No, no.'},\n",
       " {'en': \"- They're watching me on Facebook?\", 'es': '- ¿Me ven en Facebook?'},\n",
       " {'en': 'Commission on the Status of Women',\n",
       "  'es': 'Comisión de la Condición Jurídica y Social de la Mujer'},\n",
       " {'en': '- You did that on purpose.',\n",
       "  'es': 'Mi- ¡Maldita sea! ¡Lo hiciste a propósito!'},\n",
       " {'en': \"Lizzy, it's just a house and it's yours.\",\n",
       "  'es': 'Lizzy, es sólo una casa y es tuya.'},\n",
       " {'en': \"She's wrong.\", 'es': 'Está mal.'},\n",
       " {'en': 'I think this has finally been achieved.',\n",
       "  'es': 'Creo que al final se ha logrado.'},\n",
       " {'en': 'The costs and benefits taken into account shall include at least the following:',\n",
       "  'es': 'Los costes y beneficios que se tengan en cuenta incluirán, al menos, lo siguiente:'},\n",
       " {'en': \"It's taken care of.\", 'es': 'Ya ha sido solucionado.'},\n",
       " {'en': 'What a view!', 'es': 'Que vista!'},\n",
       " {'en': \"Now, let's get back to work.\", 'es': 'Manos a la obra.'},\n",
       " {'en': \"And I don't believe you.\", 'es': 'Y no te creo.'},\n",
       " {'en': 'We have multiple vortices touching down.',\n",
       "  'es': '¡Tenemos múltiples vórtices tocando tierra!'},\n",
       " {'en': \"She's smart.\", 'es': 'Es inteligente.'},\n",
       " {'en': 'You and your wife?', 'es': '¿Tuya y de tu esposa?'},\n",
       " {'en': 'Billy, no!', 'es': '¡Billy, no!'},\n",
       " {'en': \"You don't know that.\", 'es': 'No lo sabes. Sí lo sé.'},\n",
       " {'en': 'Sverige sanofi-aventis AB Tel: +46 (0)8 634 50 00',\n",
       "  'es': 'Sverige sanofi-aventis AB Tel: +46 (0)8 634 50 00'},\n",
       " {'en': '21 December 2009', 'es': '29 de diciembre de 2013'},\n",
       " {'en': 'Why should I mind?', 'es': 'Por qué debería importarme?'},\n",
       " {'en': \"Isn't it?\", 'es': '¿No es así?'},\n",
       " {'en': 'This is my fault.', 'es': 'Esto es culpa mía.'},\n",
       " {'en': 'Come on, you know what.', 'es': 'Vamos, ya lo sabes.'},\n",
       " {'en': \"- Let's see.\", 'es': '- A ver...'},\n",
       " {'en': 'I believed in you.', 'es': 'Creo en ti.'},\n",
       " {'en': '- Someone like me?', 'es': '- ¿Alguien como yo?'},\n",
       " {'en': '- Yeah, but...', 'es': '- Sí, pero...'},\n",
       " {'en': \"That's very clever.\", 'es': 'Eso es muy inteligente.'},\n",
       " {'en': 'You going somewhere?', 'es': 'Vas a alguna parte?'},\n",
       " {'en': \"Isn't it?\", 'es': 'No lo es?'},\n",
       " {'en': 'I have seen you.', 'es': 'La vi hace 4 años.'},\n",
       " {'en': 'Yeah, it does.', 'es': 'Si, claro.'},\n",
       " {'en': \"I'm sure you'll be very happy.\",\n",
       "  'es': 'Qué novia tan guapa, estoy seguro de que serás feliz. Adiós.'},\n",
       " {'en': 'Godspeed, my lord.', 'es': 'Buena suerte, mi señor.'},\n",
       " {'en': 'Right which is why I think you should keep your day job.',\n",
       "  'es': 'Correcto, es por eso que creo que tienes que mantener tú trabajo diurno.'},\n",
       " {'en': \"I feel like I'm dreaming.\", 'es': 'Siento que estoy soñando.'},\n",
       " {'en': \"I don't think I need to, honey.\",\n",
       "  'es': 'No creo que lo necesite, cariño.'},\n",
       " {'en': \"- Which bit don't you understand?\",\n",
       "  'es': '- ¿Qué parte no entiendes?'},\n",
       " {'en': 'Is it anything like your last Christmas letter?', 'es': 'Sí, bueno.'},\n",
       " {'en': 'The haemoglobin should be measured every one or two weeks until it is stable.',\n",
       "  'es': 'La hemoglobina se medirá cada una o dos semanas hasta que se estabilice.'},\n",
       " {'en': 'Yeah, buddy!', 'es': '- ¡Sí, amigo!'},\n",
       " {'en': \"That's not it.\", 'es': 'No se trata de eso.'},\n",
       " {'en': 'I knew this would happen.', 'es': 'Sabía que esto sucedería.'},\n",
       " {'en': 'Watch out!', 'es': '¡Cuidado!'},\n",
       " {'en': 'Why not?', 'es': '¿Por qué no?'},\n",
       " {'en': \"Well, you're wrong.\", 'es': '¡Te equivocas!'},\n",
       " {'en': 'What are you doing out here?', 'es': '¿Qué haces aquí?'},\n",
       " {'en': 'Polska Roche Polska Sp.z o.o.',\n",
       "  'es': 'Polska Roche Polska Sp.z o.o.'},\n",
       " {'en': 'I can hear you.', 'es': 'Puedo oírte.'},\n",
       " {'en': 'Hell, no.', 'es': 'Demonios, no.'},\n",
       " {'en': 'What is wrong with you? !', 'es': '¡¿Qué sucede contigo?'},\n",
       " {'en': 'Still, there were frequent volcanic eruptions.',\n",
       "  'es': 'Pero todavía había erupciones volcánicas con frecuencia.'},\n",
       " {'en': '- Take it easy.', 'es': '- Take it easy.'},\n",
       " {'en': 'Where did you find that?', 'es': '¿De dónde has sacado eso?'},\n",
       " {'en': \"- Yes, ma'am.\", 'es': 'Sí, señora.'},\n",
       " {'en': 'Is that...', 'es': '¿Es eso...?'},\n",
       " {'en': \"- You should've waited for me.\",\n",
       "  'es': '- Tenían que haberme esperado.'},\n",
       " {'en': 'They managed it.Heavy water tanks are blasted.All is safe up on the plateau,',\n",
       "  'es': 'Lo lograron. Los tanques de agua pesada destruidos. Todos seguros en la meseta.'},\n",
       " {'en': \"Ogden, it's Harvey!\", 'es': '¡Ogden, soy Harvey!'},\n",
       " {'en': 'ZONES IN GERMANY APPROVED WITH REGARD TO VHS AND IHN',\n",
       "  'es': 'ZONAS AUTORIZADAS RESPECTO DE LA SHV Y LA NHI EN ALEMANIA'},\n",
       " {'en': \"I can't come with you now, I've got to go.\",\n",
       "  'es': '- No puedo quedarme, me tengo que ir. - ¿Qué vas a hacer?'},\n",
       " {'en': \"It's pretty obvious, no?\", 'es': 'Es bastante obvio, ¿no?'},\n",
       " {'en': 'Oh no.', 'es': 'Oh, no.'},\n",
       " {'en': \"It's all yours.\", 'es': 'Es todo tuyo.'},\n",
       " {'en': 'There you are!', 'es': 'Ahí estás.'},\n",
       " {'en': 'What will you choose?', 'es': '¿Qué prefieres? ¿Vino?'},\n",
       " {'en': 'That was amazing.', 'es': '-Eso fue increible.'},\n",
       " {'en': 'poor birdies!', 'es': '¡Pobres pajaritos!'},\n",
       " {'en': '[ door opens ]', 'es': '[Abre la puerta]'},\n",
       " {'en': 'Can I stand up now?', 'es': '¿Me puedo parar?'},\n",
       " {'en': \"Why don't you try it?\", 'es': '¿Por qué no lo intentas?'},\n",
       " {'en': \"It's good.\", 'es': 'Está buena.'},\n",
       " {'en': 'Give me the money.', 'es': 'Dame el dinero.'},\n",
       " {'en': \"Those bones from the river, they were victims of a fire at your family's factory.\",\n",
       "  'es': 'Esos huesos en el río... eran víctimas de un incendio en la fábrica de tu familia.'},\n",
       " {'en': \"What's the problem?\", 'es': '¿Cuál es el problema?'},\n",
       " {'en': \"I can't!\", 'es': '¡No puedo!'},\n",
       " {'en': '(OJ L 229, 28.8.1985, p. 20)',\n",
       "  'es': '(DO L 229 de 28.8.1985, p. 20)'},\n",
       " {'en': '> 4 (10)', 'es': '4 (10)'},\n",
       " {'en': 'Machines for making bags, sacks or envelopes of paper or paperboard',\n",
       "  'es': 'Máquinas para la fabricación de sacos, bolsas o sobres de papel o de cartón'},\n",
       " {'en': 'Have a nice day.', 'es': 'Que tenga un buen día.'},\n",
       " {'en': 'Hey, what happened to you?', 'es': 'Oye, ¿qué te ha ocurrido?'},\n",
       " {'en': 'Get down!', 'es': '¡Abajo!'},\n",
       " {'en': \"it's time for you to honour yours.\",\n",
       "  'es': 'es hora que haga honor al suyo.'},\n",
       " {'en': \"Fuck off. No one's home.\", 'es': 'Olvidadme, no hay nadie en casa.'},\n",
       " {'en': 'I chose to become Zokkomon.', 'es': 'Escogí ser Zokkomon.'},\n",
       " {'en': \"I haven't finished.\", 'es': 'No he terminado.'},\n",
       " {'en': 'I just work here.', 'es': 'Solamente trabajo aquí.'},\n",
       " {'en': \"Don't even think about it.\", 'es': 'Ni lo pienses.'},\n",
       " {'en': \"We'll start together.\", 'es': 'Vamos a empezar juntos.'},\n",
       " {'en': '- How do you do?', 'es': '- ¿Cómo está?'},\n",
       " {'en': 'He should be back soon.', 'es': 'Regresará pronto.'},\n",
       " {'en': \"You don't want someone you know and you don't want someone better than you.\",\n",
       "  'es': 'No quieres que sea un conocido ni alguien mejor que tú.'},\n",
       " {'en': 'Good morning, Sir.', 'es': 'Buenos días, señor.'},\n",
       " {'en': 'Report of the Secretary-General',\n",
       "  'es': 'Informe del Secretario General'},\n",
       " {'en': 'United Kingdom Bristol-Myers Squibb Pharmaceuticals Ltd.',\n",
       "  'es': 'United Kingdom Bristol-Myers Squibb Pharmaceuticals Ltd.'},\n",
       " {'en': 'Not now.', 'es': 'Ahora no.'},\n",
       " {'en': 'Aw, geez.', 'es': 'Aw, caramba.'},\n",
       " {'en': 'You know where to find me.', 'es': 'Ya sabes dónde encontrarme.'},\n",
       " {'en': 'I can do it.', 'es': 'Puedo hacerlo.'},\n",
       " {'en': \"- That's great.\", 'es': '- Eso es genial.'},\n",
       " {'en': 'Hold it!', 'es': '- ¡Quieto!'},\n",
       " {'en': \"I'm a doctor.\", 'es': 'Soy médico.'},\n",
       " {'en': 'Standard import value', 'es': 'Valor global de importación'},\n",
       " {'en': 'Well... not all the fucking time.',\n",
       "  'es': 'Bueno... no todo el tiempo.'},\n",
       " {'en': '- What for ?', 'es': '- ¿Para qué?'},\n",
       " {'en': 'Sounds like a plan.', 'es': 'Suena un buen plan.'},\n",
       " {'en': 'Holy Christ.', 'es': 'Sagrado Cristo.'},\n",
       " {'en': 'Guess we were just enjoying the scenery.',\n",
       "  'es': 'Supongo que estábamos disfrutando del paisaje.'},\n",
       " {'en': 'Yeah, wow.', 'es': 'Sí, vaya.'},\n",
       " {'en': 'See ya.', 'es': 'Te veo luego.'},\n",
       " {'en': 'Others (Edible flowers)', 'es': 'Otros (Flores comestibles)'},\n",
       " {'en': '(d) Focusing on special needs: efforts made to work with vulnerable or special populations',\n",
       "  'es': 'd) Focalización en las necesidades especiales: esfuerzos por trabajar con poblaciones vulnerables o especiales'},\n",
       " {'en': 'Yes, monsieur.', 'es': 'Sí, señor.'},\n",
       " {'en': 'She got pregnant.', 'es': 'Se quedó embarazada.'},\n",
       " {'en': \"I'll see you guys.\", 'es': 'Nos vemos.'},\n",
       " {'en': 'I sure hope so.', 'es': 'Espero que sí.'},\n",
       " {'en': 'And Luke, my son.', 'es': 'Y Luke. Mi hijo.'},\n",
       " {'en': \"It's as though we're going to an orgy.\",\n",
       "  'es': 'Es como si fuéramos a una orgía.'},\n",
       " {'en': 'For how long?', 'es': '¿Por cuánto tiempo?'},\n",
       " {'en': \"I'll go tomorrow.\", 'es': 'Iré mañana. Pero...'},\n",
       " {'en': 'Whatever she told you is the truth.',\n",
       "  'es': 'Lo que sea que te dijera es la verdad.'},\n",
       " {'en': '- Hi.', 'es': '- Hola.'},\n",
       " {'en': 'For your mom.', 'es': 'Para tu mamá.'},\n",
       " {'en': 'Hold them there.', 'es': 'Que aguarden aquí.'},\n",
       " {'en': 'Wait here.', 'es': 'Esperen aquí.'},\n",
       " {'en': 'After you.', 'es': 'Primero ustedes.'},\n",
       " {'en': 'A bird in the hand.', 'es': 'Un pájaro en la mano.'},\n",
       " {'en': \"Okay, who's up first?\", 'es': 'Vale, ¿quién empieza?'},\n",
       " {'en': \"- I'm so sorry.\", 'es': '- Lo siento mucho.'},\n",
       " {'en': 'I mean, I get it.', 'es': 'Sí, entendí.'},\n",
       " {'en': '- What are you laughing at?', 'es': '- ¿De qué te ríes?'},\n",
       " {'en': \"Now where'd you go, little guy?\",\n",
       "  'es': '¿Dónde te metiste, chiquitín?'},\n",
       " {'en': '- What are you talking about?', 'es': '- ¿De qué hablas?'},\n",
       " {'en': \"I'm turning myself in.\", 'es': 'Voy a entregarme.'},\n",
       " {'en': '- Edmond!', 'es': '¡Edmond!'},\n",
       " {'en': 'You shut up!', 'es': '¡Tú cállate!'},\n",
       " {'en': '- At a time like this?', 'es': '- ¿En un momento así?'},\n",
       " {'en': '- Yes!', 'es': '-¡Sí!'},\n",
       " {'en': '-There!', 'es': '- ¡Allí!'},\n",
       " {'en': \"Don't worry.\", 'es': 'No te preocupes.'},\n",
       " {'en': 'Did you mention your dreams to your colleague?',\n",
       "  'es': '¿Mencionó Ud. sus sueños a su colega?'},\n",
       " {'en': 'Pulse ox is dropping.', 'es': '- Oxigeno está cayendo.'},\n",
       " {'en': 'Get out!', 'es': '¡Salid!'},\n",
       " {'en': \"- I've changed my mind.\", 'es': '-Cambié de idea.'},\n",
       " {'en': 'For the Commission', 'es': 'Por la Comisión'},\n",
       " {'en': \"What's it worth?\", 'es': '¿Cuánto vale?'},\n",
       " {'en': '- Can we talk about this?', 'es': '- Podemos hablar de esto?'},\n",
       " {'en': 'Maybe we just found our killer.',\n",
       "  'es': 'Tal vez hemos encontrado nuestro asesino.'},\n",
       " {'en': 'The head of delegation', 'es': 'El Jefe de Delegación'},\n",
       " {'en': \"You're up.\", 'es': 'Estás despierta.'},\n",
       " {'en': 'Man, you have an asshole of a doctor.',\n",
       "  'es': 'Tu médico es un desastre.'},\n",
       " {'en': \"Let's do that.\", 'es': 'Vamos a hacer eso.'},\n",
       " {'en': \"Don't exaggerate!\", 'es': '¡No exageres!'},\n",
       " {'en': 'The cause of death?', 'es': '¿La causa de muerte?'},\n",
       " {'en': 'Give me a break.', 'es': 'Por favor. - ¿Qué?'},\n",
       " {'en': \"Don't look over there.\", 'es': '- No mires hacia allá.'},\n",
       " {'en': '- Read this.', 'es': 'Lea esto.'},\n",
       " {'en': 'Just a second.', 'es': 'Un segundo.'},\n",
       " {'en': 'A cup of wine to honor the one true God.',\n",
       "  'es': 'Una copa de vino para honrar al verdadero Dios.'},\n",
       " {'en': '~ Hello.', 'es': '- Hola.'},\n",
       " {'en': 'United Nations, Treaty Series, vol. 75, Nos. 970-973.',\n",
       "  'es': 'Naciones Unidas, Recueil des Traités, vol. 75, Nos.'},\n",
       " {'en': 'TV money!', 'es': '¡Comprado con plata de la TV!'},\n",
       " {'en': 'Get him!', 'es': '¡Dale!'},\n",
       " {'en': \"I'm not going anywhere.\", 'es': 'No voy a ningún sitio.'},\n",
       " {'en': 'And my children?', 'es': '¿Y mis hijos?'},\n",
       " {'en': 'Is that sad?', 'es': '¿Eso es triste?'},\n",
       " {'en': 'There is nothing we can do.', 'es': 'No hay nada que podamos hacer.'},\n",
       " {'en': '- You!', 'es': '- ¡Usted!'},\n",
       " {'en': \"He'll be glad to have that.\", 'es': 'Ya verá, estará muy feliz.'},\n",
       " {'en': 'Last summer.', 'es': 'El verano pasado.'},\n",
       " {'en': 'Ten years.', 'es': 'Diez años.'},\n",
       " {'en': \"I've got nothing.\", 'es': 'No tengo nada.'},\n",
       " {'en': \"No, it's cool.\", 'es': 'No, está bien.'},\n",
       " {'en': 'Therefore, no specific frequency can be presented.',\n",
       "  'es': 'Por tanto, no puede detallarse ninguna frecuencia específica.'},\n",
       " {'en': 'truly, your Lord is the Mighty One, the Merciful.',\n",
       "  'es': 'En verdad, tu Señor es el Poderoso, el Misericordioso.'},\n",
       " {'en': \"It's going well.\", 'es': '¡Todo va bien!'},\n",
       " {'en': 'Hey, put me down!', 'es': '¡Suéltame!'},\n",
       " {'en': 'But when I was 13 and I went to the mall to meet boys, it was a date.',\n",
       "  'es': 'Pero cuando yo tenía 13 años e iba al centro comercial a reunirme con chicos, era una cita.'},\n",
       " {'en': 'You son of a bitch!', 'es': '¡Hijo de puta!'},\n",
       " {'en': \"Yeah, yeah, I'm sorry.\", 'es': 'Sí, sí, lo siento.'},\n",
       " {'en': \"What's the emergency?\", 'es': '¿Cuál es la emergencia?'},\n",
       " {'en': 'You saved my life.', 'es': 'Me salvaste la vida.'},\n",
       " {'en': 'Hi, baby.', 'es': 'Hola, cariño.'},\n",
       " {'en': '- Oh, yes, sir.', 'es': '-Oh, sí, señor.'},\n",
       " {'en': 'You would?', 'es': '¿Querrias?'},\n",
       " {'en': 'Do you see it?', 'es': 'La ve?'},\n",
       " {'en': 'Hold onto it.', 'es': 'Por ahora guárdelo.'},\n",
       " {'en': 'Enjoy to the fullest.',\n",
       "  'es': 'Disfruta al máximo. Disfruta al máximo. Disfruta al máximo.'},\n",
       " {'en': 'Who are you?', 'es': 'Eh, ¿quién eres?'},\n",
       " {'en': 'Are you listening to me?', 'es': '¿Me está escuchando?'},\n",
       " {'en': 'You what?', 'es': '¡¿Tú qué?'},\n",
       " {'en': 'We need to talk to our new reporter Jamie Garnett.',\n",
       "  'es': 'Necesitamos hablar con nuestro nuevo corresponsal Jamie Garnett.'},\n",
       " {'en': 'Key #2', 'es': '2 2.'},\n",
       " {'en': 'That lady you muff-dove come-come after you, what?',\n",
       "  'es': '¿Esa mujer con la que te metiste anda detrás de ti, qué?'},\n",
       " {'en': 'Let go of me!', 'es': '¡Suéltame!'},\n",
       " {'en': \"You're going to get better.\", 'es': 'Se va a mejorar.'},\n",
       " {'en': \"It's crunchy.\", 'es': 'Está crocante.'},\n",
       " {'en': 'Come on in.', 'es': 'Ven, entra.'},\n",
       " {'en': 'Why then?',\n",
       "  'es': 'En los treinta años que llevo de pobre he ido apartando poquito a poquito...'},\n",
       " {'en': \"Let's hear it.\", 'es': 'Te escucho.'},\n",
       " {'en': '-l know.', 'es': '-Ya lo sé.'},\n",
       " {'en': \"I'm an exceptional case, monsieur.\",\n",
       "  'es': 'Soy un caso excepcional, monsieur.'},\n",
       " {'en': '- Oh, OK!', 'es': '- Oh, ok.'},\n",
       " {'en': \"Hey! Don't!\", 'es': '¡Oigan!'},\n",
       " {'en': \"It's a massacre.\", 'es': 'Es brutal.'},\n",
       " {'en': \"That's a fact.\", 'es': 'Es cierto.'},\n",
       " {'en': \"He's not talking.\", 'es': 'No va a hablar.'},\n",
       " {'en': \"You're too good a detective.\",\n",
       "  'es': 'Eres un detective demasiado bueno.'},\n",
       " {'en': '- Of course.', 'es': '- Por supuesto.'},\n",
       " {'en': 'General exchange of views.',\n",
       "  'es': 'Intercambio general de opiniones.'},\n",
       " {'en': 'These two types of crops are to be indicated if the information is available in the accounts.',\n",
       "  'es': 'Deberán indicarse estos dos tipos de cultivos cuando la información correspondiente figure en la contabilidad.'},\n",
       " {'en': \"That's what we do.\", 'es': 'A eso nos dedicamos.'},\n",
       " {'en': '- Are you OK?', 'es': '- ¿Estas bien?'},\n",
       " {'en': \"It's alright.\", 'es': 'Está bien.'},\n",
       " {'en': \"There is something finer in this galaxy than Ming's law.\",\n",
       "  'es': 'Hay cosas mejores en esta galaxia que la Ley de Ming.'},\n",
       " {'en': '- Can you close up?', 'es': '- ¿Puedes cerrar?'},\n",
       " {'en': \"They're coming back!\", 'es': '¡Están regresando!'},\n",
       " {'en': \"Where's Hank?\", 'es': '¿Dónde está Hank?'},\n",
       " {'en': \"It's funny.\", 'es': 'Tiene gracia.'},\n",
       " {'en': 'And you know what?', 'es': '¿Y sabes qué?'},\n",
       " {'en': 'Thinking is not your strong suit, George.',\n",
       "  'es': 'Pensar no es tu fuerte, George.'},\n",
       " {'en': \"Don't bother me.\", 'es': 'No me molestes.'},\n",
       " {'en': \"I'm not available right now.\",\n",
       "  'es': 'No estoy disponible en este momento.'},\n",
       " {'en': 'Rubin, open the door.', 'es': '¡Rubin, abre la puerta!'},\n",
       " {'en': \"He'll tell you.\", 'es': 'Él se lo dirá.'},\n",
       " {'en': \"What's going on?\", 'es': '¿Que está pasando?'},\n",
       " {'en': \"You think I'm stupid?\", 'es': '¿Me crees estúpido?'},\n",
       " {'en': \"- I don't know it.\", 'es': '- No lo conozco.'},\n",
       " {'en': 'Things are good.', 'es': 'Las cosas van bien.'},\n",
       " {'en': 'It would be a good first step, I think.',\n",
       "  'es': 'Sería, pienso yo, un buen primer paso.'},\n",
       " {'en': 'What is this?', 'es': '¿Qué es esto?'},\n",
       " {'en': 'Got it.', 'es': 'Lo pillo.'},\n",
       " {'en': 'I need to tell you something.', 'es': 'Tengo que decirte algo.'},\n",
       " {'en': 'The time now is 11:05 AM .', 'es': 'El tiempo ahora es 21:21 .'},\n",
       " {'en': '- RODERICK: Good evening.', 'es': '- Buena noches.'},\n",
       " {'en': 'Have you?', 'es': '¿Sí?'},\n",
       " {'en': 'Why, no.', 'es': '¿Un gato?'},\n",
       " {'en': 'So you up for it, Suit?', 'es': '¿Preparado para esto, trajeado?'},\n",
       " {'en': '- This is different.', 'es': '- Esto es diferente.'},\n",
       " {'en': '- Who is this?', 'es': '- ¿Quién la llama?'},\n",
       " {'en': 'Make love not war.', 'es': 'Haz el amor y no la guerra.'},\n",
       " {'en': 'Right where you are.', 'es': 'Desde donde estás.'},\n",
       " {'en': \"That's right.\", 'es': 'Eso es.'},\n",
       " {'en': 'Where have you been?', 'es': '¿Dónde has estado?'},\n",
       " {'en': 'Place is trashed.', 'es': 'El lugar está destrozado.'},\n",
       " {'en': \"Life's short.\", 'es': '! La vida es corta. ¡Manteles!'},\n",
       " {'en': 'Hey, boss.', 'es': 'Oiga, jefe.'},\n",
       " {'en': 'Good day.', 'es': '- Buenos días.'},\n",
       " {'en': \"I'm doing this for you.\", 'es': 'Hago esto por ti.'},\n",
       " {'en': 'The only thing I care about is my town.',\n",
       "  'es': 'La única cosa que me importa es mi ciudad.'},\n",
       " {'en': 'I should get back.', 'es': 'Debería volver.'},\n",
       " {'en': 'She has wide hips.', 'es': 'Ella tiene caderas anchas.'},\n",
       " {'en': 'What the...?', 'es': '¿Qué...?'},\n",
       " {'en': '- Never.', 'es': '- Nunca.'},\n",
       " {'en': \"How's that going, anyway?\", 'es': '¿Cómo va eso?'},\n",
       " {'en': 'Poor things.', 'es': 'Pobres cosas.'},\n",
       " {'en': 'I got an interview.', 'es': 'Tengo una entrevista.'},\n",
       " {'en': '- The patio door is shut and our hair is caught in it.',\n",
       "  'es': 'La puerta se cerró y nos pilló el cabello. - Lo sé.'},\n",
       " {'en': 'Looking on this scale, which is not drawn to scale...',\n",
       "  'es': 'Si lo vemos en este gráfico que no está a escala....'},\n",
       " {'en': 'Aw, why not?', 'es': '¿Por qué no?'},\n",
       " {'en': 'Well, maybe you missed something.',\n",
       "  'es': 'A lo mejor hay algo que no has visto.'},\n",
       " {'en': 'Because I love her.', 'es': 'Porque la amo.'},\n",
       " {'en': \"It's a routine.\", 'es': 'Es una rutina.'},\n",
       " {'en': 'You know exactly what I mean.',\n",
       "  'es': 'Sabes exactamente lo que quiero decir.'},\n",
       " {'en': 'Stop right there.', 'es': 'Para ahí mismo.'},\n",
       " {'en': 'Probably Neville forgot the password again.',\n",
       "  'es': 'Quizá Neville volvió a olvidar la contraseña.'},\n",
       " {'en': 'The large backyard.', 'es': 'Amplio jardín.'},\n",
       " {'en': \"I'll be alright.\", 'es': '¿Hay alguna diferencia?'},\n",
       " {'en': '- Says you.', 'es': '- Dices usted.'},\n",
       " {'en': 'Then what are you going to do?',\n",
       "  'es': '-Primero me voy a lavar la cara.'},\n",
       " {'en': \"You didn't have a good relationship with her?\",\n",
       "  'es': '¿No tenías buena relación con ella?'},\n",
       " {'en': \"That's the whole point.\", 'es': 'Todos juntos.'},\n",
       " {'en': 'Place your bets.', 'es': 'Está en ello.'},\n",
       " {'en': 'You love her.', 'es': 'De que la amas.'},\n",
       " {'en': 'There was no way out.', 'es': 'Que no había escapatoria.'},\n",
       " {'en': 'I went to bed.', 'es': 'Me fui a la cama.'},\n",
       " {'en': \"Good e'en to your worships.\",\n",
       "  'es': 'Buenas tardes a vuestras señorías.'},\n",
       " {'en': 'I can imagine.', 'es': '- Puedo imaginarlo.'},\n",
       " {'en': 'I should probably go.', 'es': 'Ya tengo que irme.'},\n",
       " {'en': 'they gave us .', 'es': 'Lo siento.'},\n",
       " {'en': \"Excuse me, I didn't understand you.\",\n",
       "  'es': 'Lo siento, pero no te entiendo.'},\n",
       " {'en': \"I'm curious.\", 'es': 'Soy curioso.'},\n",
       " {'en': '- Stop what?', 'es': '- ¿Parar qué?'},\n",
       " {'en': 'Where are you?', 'es': '¿Dónde estás?'},\n",
       " {'en': 'I do.', 'es': 'De verdad.'},\n",
       " {'en': '-No.',\n",
       "  'es': 'Lo siento, pero no es un delito conocer a Tomás Riffaut.'},\n",
       " {'en': \"It's good to see you.\", 'es': 'Es bueno verlos.'},\n",
       " {'en': 'Now David must go.', 'es': 'David se tiene que ir.'},\n",
       " {'en': 'Are you nuts?', 'es': '¿Estás loco?'},\n",
       " {'en': 'I hope not.', 'es': 'Espero que no.'},\n",
       " {'en': 'I mean, a blender does suggest a certain... 1950s reference to sexual politics, but...',\n",
       "  'es': 'Una licuadora sugiere una referencia a la política sexual de los años 50.'},\n",
       " {'en': \"Don't yell at me.\", 'es': 'No me grites.'},\n",
       " {'en': 'You should see her.', 'es': 'Deberías verla.'},\n",
       " {'en': 'Thank you very much, Commissioner.',\n",
       "  'es': 'Muchas gracias, señor Comisario.'},\n",
       " {'en': \"That's right.\", 'es': 'Eso es correcto.'},\n",
       " {'en': 'Get lost!', 'es': '¡Piérdete!'},\n",
       " {'en': \"Don't do it!\", 'es': '¡No quiero!'},\n",
       " {'en': 'This woman was in tip-top shape.',\n",
       "  'es': 'Esta mujer estaba en forma estupenda.'},\n",
       " {'en': 'Have a nice evening.', 'es': '- Feliz velada.'},\n",
       " {'en': \"No, I can't.\", 'es': 'No, no puedo.'},\n",
       " {'en': 'Oh, shit!', 'es': '¡Mierda!'},\n",
       " {'en': '- Give me a kiss.', 'es': '- Dame un beso.'},\n",
       " {'en': 'All right.', 'es': 'Muy bien.'},\n",
       " {'en': 'T.K.!', 'es': '¡TK!'},\n",
       " {'en': 'He did. Broke the company and jailed Mother Murphy.',\n",
       "  'es': '\"Madre Murphy\" se arruinó y acabó en la cárcel.'},\n",
       " {'en': '\"Very slowly, the Dutchman raised his Winchester, while the Indians seemed to stop breathing. \"',\n",
       "  'es': '\" Muy lentamente, el alemán levantó su Winchester en tanto que el indio pareció dejar de respirar\" .'},\n",
       " ...]"
      ]
     },
     "execution_count": 5,
     "metadata": {},
     "output_type": "execute_result"
    }
   ],
   "source": [
    "dataset_raw_train['translation']"
   ]
  },
  {
   "cell_type": "markdown",
   "metadata": {},
   "source": [
    "Vemos que es una lista, vamos a ver el primer elemento"
   ]
  },
  {
   "cell_type": "code",
   "execution_count": 6,
   "metadata": {},
   "outputs": [
    {
     "data": {
      "text/plain": [
       "{'en': \"It was the asbestos in here, that's what did it!\",\n",
       " 'es': 'Fueron los asbestos aquí. ¡Eso es lo que ocurrió!'}"
      ]
     },
     "execution_count": 6,
     "metadata": {},
     "output_type": "execute_result"
    }
   ],
   "source": [
    "dataset_raw_train[0]['translation']"
   ]
  },
  {
   "cell_type": "markdown",
   "metadata": {},
   "source": [
    "Vemos que es un diccionario con la frase en el idioma original y la traducción"
   ]
  },
  {
   "cell_type": "markdown",
   "metadata": {},
   "source": [
    "Vamos a ver una frase en cada idioma"
   ]
  },
  {
   "cell_type": "code",
   "execution_count": 7,
   "metadata": {},
   "outputs": [
    {
     "data": {
      "text/plain": [
       "\"It was the asbestos in here, that's what did it!\""
      ]
     },
     "execution_count": 7,
     "metadata": {},
     "output_type": "execute_result"
    }
   ],
   "source": [
    "dataset_raw_train[0]['translation'][SOURCE_LANGUAGE]"
   ]
  },
  {
   "cell_type": "code",
   "execution_count": 8,
   "metadata": {},
   "outputs": [
    {
     "data": {
      "text/plain": [
       "'Fueron los asbestos aquí. ¡Eso es lo que ocurrió!'"
      ]
     },
     "execution_count": 8,
     "metadata": {},
     "output_type": "execute_result"
    }
   ],
   "source": [
    "dataset_raw_train[0]['translation'][TARGET_LANGUAGE]"
   ]
  },
  {
   "cell_type": "markdown",
   "metadata": {},
   "source": [
    "## Device ✔"
   ]
  },
  {
   "cell_type": "code",
   "execution_count": 9,
   "metadata": {},
   "outputs": [
    {
     "name": "stdout",
     "output_type": "stream",
     "text": [
      "Using GPU 0\n"
     ]
    }
   ],
   "source": [
    "import torch\n",
    "\n",
    "if torch.cuda.device_count() > 1 and GPUS > 1:\n",
    "    device = torch.device(\"cuda\" if torch.cuda.is_available() else \"cpu\")\n",
    "    print(f\"Using {torch.cuda.device_count()} GPUs\")\n",
    "else:\n",
    "    if torch.cuda.is_available():\n",
    "        device = torch.device(f\"cuda:{GPU_NUMBER}\")\n",
    "        print(f\"Using GPU {GPU_NUMBER}\")\n",
    "    else:\n",
    "        device = torch.device(\"cpu\")\n",
    "        print(\"Using CPU\")"
   ]
  },
  {
   "cell_type": "markdown",
   "metadata": {},
   "source": [
    "## Entrenamiento de los tokenizers ✔"
   ]
  },
  {
   "cell_type": "markdown",
   "metadata": {},
   "source": [
    "Vamos a entrenar un tokenizer para cada idioma. Podríamos utilizar uno ya preentrenado, pero a veces entrenar uno propio puede dar mejores resultados."
   ]
  },
  {
   "cell_type": "code",
   "execution_count": 10,
   "metadata": {},
   "outputs": [],
   "source": [
    "from tokenizers import Tokenizer\n",
    "from tokenizers.models import WordLevel\n",
    "from tokenizers.trainers import WordLevelTrainer\n",
    "from tokenizers.pre_tokenizers import Whitespace"
   ]
  },
  {
   "cell_type": "code",
   "execution_count": 11,
   "metadata": {},
   "outputs": [],
   "source": [
    "import tqdm\n",
    "\n",
    "def get_all_sentences(dataset, languaje):\n",
    "    all_sentences = []\n",
    "    bar = tqdm.tqdm(range(len(dataset)))\n",
    "    for i in bar:\n",
    "        all_sentences.append(dataset[i]['translation'][languaje])\n",
    "    return all_sentences"
   ]
  },
  {
   "cell_type": "markdown",
   "metadata": {},
   "source": [
    "Entrenamos el tokenizer para el idioma original"
   ]
  },
  {
   "cell_type": "code",
   "execution_count": 12,
   "metadata": {},
   "outputs": [
    {
     "name": "stdout",
     "output_type": "stream",
     "text": [
      "Loading source tokenizer from tokenizers/tokenizer_en.json\n"
     ]
    }
   ],
   "source": [
    "tokenizer_source_path = f\"{TOKENIZERS_PATH}/tokenizer_{SOURCE_LANGUAGE}.json\"\n",
    "\n",
    "if not os.path.exists(tokenizer_source_path):\n",
    "    print(f\"Training source tokenizer\")\n",
    "    tokenizer_source = Tokenizer(WordLevel(unk_token=UNKNOWN_TOKEN))\n",
    "    tokenizer_source.pre_tokenizer = Whitespace()\n",
    "    trainer = WordLevelTrainer(special_tokens=[UNKNOWN_TOKEN, PADDING_TOKEN, START_OF_SEQUENCE, END_OF_SEQUENCE])\n",
    "    all_sentences = get_all_sentences(dataset_raw_train, SOURCE_LANGUAGE)\n",
    "    tokenizer_source.train_from_iterator(all_sentences, trainer)\n",
    "    tokenizer_source.save(tokenizer_source_path)\n",
    "else:\n",
    "    print(f\"Loading source tokenizer from {tokenizer_source_path}\")\n",
    "    tokenizer_source = Tokenizer.from_file(tokenizer_source_path)"
   ]
  },
  {
   "cell_type": "markdown",
   "metadata": {},
   "source": [
    "Vamos a ver cómo es el tokenizer"
   ]
  },
  {
   "cell_type": "code",
   "execution_count": 13,
   "metadata": {},
   "outputs": [
    {
     "name": "stdout",
     "output_type": "stream",
     "text": [
      "{\n",
      "  \"version\": \"1.0\",\n",
      "  \"truncation\": null,\n",
      "  \"padding\": null,\n",
      "  \"added_tokens\": [\n",
      "    {\n",
      "      \"id\": 0,\n",
      "      \"content\": \"[UNK]\",\n",
      "      \"single_word\": false,\n",
      "      \"lstrip\": false,\n",
      "      \"rstrip\": false,\n",
      "      \"normalized\": false,\n",
      "      \"special\": true\n",
      "    },\n",
      "    {\n",
      "      \"id\": 1,\n",
      "      \"content\": \"[PAD]\",\n",
      "      \"single_word\": false,\n",
      "      \"lstrip\": false,\n",
      "      \"rstrip\": false,\n",
      "      \"normalized\": false,\n",
      "      \"special\": true\n",
      "    },\n",
      "    {\n",
      "      \"id\": 2,\n",
      "      \"content\": \"[SOS]\",\n",
      "      \"single_word\": false,\n",
      "      \"lstrip\": false,\n",
      "      \"rstrip\": false,\n",
      "      \"normalized\": false,\n",
      "      \"special\": true\n",
      "    },\n",
      "    {\n",
      "      \"id\": 3,\n",
      "      \"content\": \"[EOS]\",\n",
      "      \"single_word\": false,\n",
      "      \"lstrip\": false,\n",
      "      \"rstrip\": false,\n",
      "      \"normalized\": false,\n",
      "      \"special\": true\n",
      "    }\n",
      "  ],\n",
      "  \"normalizer\": null,\n",
      "  \"pre_tokenizer\": {\n",
      "    \"type\": \"Whitespace\"\n",
      "  },\n",
      "  \"post_processor\": null,\n",
      "  \"decoder\": null,\n",
      "  \"model\": {\n",
      "    \"type\": \"WordLevel\",\n",
      "    \"vocab\": {\n",
      "      \"[UNK]\": 0,\n",
      "      \"[PAD]\": 1,\n",
      "      \"[SOS]\": 2,\n",
      "      \"[EOS]\": 3,\n",
      "      \".\": 4,\n",
      "      \",\": 5,\n",
      "      \"the\": 6,\n",
      "      \"of\": 7,\n",
      "      \"'\": 8,\n",
      "      \"to\": 9,\n",
      "      \"and\": 10,\n",
      "      \"I\": 11,\n",
      "      \"a\": 12,\n",
      "      \"-\": 13,\n",
      "      \"in\": 14,\n",
      "      \"you\": 15,\n",
      "      \"?\": 16,\n",
      "      \"s\": 17,\n",
      "      \"that\": 18,\n",
      "      \"is\": 19,\n",
      "      \"for\": 20,\n",
      "      \"it\": 21,\n",
      "      \"on\": 22,\n",
      "      \"t\": 23,\n",
      "      \"be\": 24,\n",
      "      \"with\": 25,\n",
      "      \"The\": 26,\n",
      "      \"!\": 27,\n",
      "      \"(\": 28,\n",
      "      \"this\": 29,\n",
      "      \"are\": 30,\n",
      "      \"was\": 31,\n",
      "      \"have\": 32,\n",
      "      \"You\": 33,\n",
      "      \"not\": 34,\n",
      "      \"...\": 35,\n",
      "      \"me\": 36,\n",
      "      \"as\": 37,\n",
      "      \"by\": 38,\n",
      "      \"we\": 39,\n",
      "      \")\": 40,\n",
      "      \"It\": 41,\n",
      "      \"your\": 42,\n",
      "      \"at\": 43,\n",
      "      \":\": 44,\n",
      "      \"from\": 45,\n",
      "      \"can\": 46,\n",
      "      \"or\": 47,\n",
      "      \"all\": 48,\n"
     ]
    }
   ],
   "source": [
    "with open(tokenizer_source_path, 'r') as file:\n",
    "    for i in range(100):\n",
    "        line = file.readline()\n",
    "        if line == \"\\n\":\n",
    "            continue\n",
    "        print(line, end=\"\")"
   ]
  },
  {
   "cell_type": "markdown",
   "metadata": {},
   "source": [
    "Entrenamos el tokenizer para el idioma traducido"
   ]
  },
  {
   "cell_type": "code",
   "execution_count": 14,
   "metadata": {},
   "outputs": [
    {
     "name": "stdout",
     "output_type": "stream",
     "text": [
      "Loading target tokenizer from tokenizers/tokenizer_es.json\n"
     ]
    }
   ],
   "source": [
    "tokenizer_target_path = f\"{TOKENIZERS_PATH}/tokenizer_{TARGET_LANGUAGE}.json\"\n",
    "\n",
    "if not os.path.exists(tokenizer_target_path):\n",
    "    print(f\"Training target tokenizer\")\n",
    "    tokenizer_target = Tokenizer(WordLevel(unk_token=UNKNOWN_TOKEN))\n",
    "    tokenizer_target.pre_tokenizer = Whitespace()\n",
    "    trainer = WordLevelTrainer(special_tokens=[UNKNOWN_TOKEN, PADDING_TOKEN, START_OF_SEQUENCE, END_OF_SEQUENCE])\n",
    "    all_sentences = get_all_sentences(dataset_raw_train)\n",
    "    tokenizer_target.train_from_iterator(all_sentences, trainer)\n",
    "    tokenizer_target.save(tokenizer_target_path)\n",
    "else:\n",
    "    print(f\"Loading target tokenizer from {tokenizer_target_path}\")\n",
    "    tokenizer_target = Tokenizer.from_file(tokenizer_target_path)"
   ]
  },
  {
   "cell_type": "markdown",
   "metadata": {},
   "source": [
    "Vamos a ver cómo es el tokenizer"
   ]
  },
  {
   "cell_type": "code",
   "execution_count": 15,
   "metadata": {},
   "outputs": [
    {
     "name": "stdout",
     "output_type": "stream",
     "text": [
      "{\n",
      "  \"version\": \"1.0\",\n",
      "  \"truncation\": null,\n",
      "  \"padding\": null,\n",
      "  \"added_tokens\": [\n",
      "    {\n",
      "      \"id\": 0,\n",
      "      \"content\": \"[UNK]\",\n",
      "      \"single_word\": false,\n",
      "      \"lstrip\": false,\n",
      "      \"rstrip\": false,\n",
      "      \"normalized\": false,\n",
      "      \"special\": true\n",
      "    },\n",
      "    {\n",
      "      \"id\": 1,\n",
      "      \"content\": \"[PAD]\",\n",
      "      \"single_word\": false,\n",
      "      \"lstrip\": false,\n",
      "      \"rstrip\": false,\n",
      "      \"normalized\": false,\n",
      "      \"special\": true\n",
      "    },\n",
      "    {\n",
      "      \"id\": 2,\n",
      "      \"content\": \"[SOS]\",\n",
      "      \"single_word\": false,\n",
      "      \"lstrip\": false,\n",
      "      \"rstrip\": false,\n",
      "      \"normalized\": false,\n",
      "      \"special\": true\n",
      "    },\n",
      "    {\n",
      "      \"id\": 3,\n",
      "      \"content\": \"[EOS]\",\n",
      "      \"single_word\": false,\n",
      "      \"lstrip\": false,\n",
      "      \"rstrip\": false,\n",
      "      \"normalized\": false,\n",
      "      \"special\": true\n",
      "    }\n",
      "  ],\n",
      "  \"normalizer\": null,\n",
      "  \"pre_tokenizer\": {\n",
      "    \"type\": \"Whitespace\"\n",
      "  },\n",
      "  \"post_processor\": null,\n",
      "  \"decoder\": null,\n",
      "  \"model\": {\n",
      "    \"type\": \"WordLevel\",\n",
      "    \"vocab\": {\n",
      "      \"[UNK]\": 0,\n",
      "      \"[PAD]\": 1,\n",
      "      \"[SOS]\": 2,\n",
      "      \"[EOS]\": 3,\n",
      "      \".\": 4,\n",
      "      \"de\": 5,\n",
      "      \",\": 6,\n",
      "      \"la\": 7,\n",
      "      \"que\": 8,\n",
      "      \"en\": 9,\n",
      "      \"el\": 10,\n",
      "      \"y\": 11,\n",
      "      \"a\": 12,\n",
      "      \"los\": 13,\n",
      "      \"?\": 14,\n",
      "      \"¿\": 15,\n",
      "      \"-\": 16,\n",
      "      \"del\": 17,\n",
      "      \"las\": 18,\n",
      "      \"un\": 19,\n",
      "      \"no\": 20,\n",
      "      \"se\": 21,\n",
      "      \"para\": 22,\n",
      "      \"es\": 23,\n",
      "      \"una\": 24,\n",
      "      \"por\": 25,\n",
      "      \"con\": 26,\n",
      "      \"lo\": 27,\n",
      "      \"No\": 28,\n",
      "      \"!\": 29,\n",
      "      \"su\": 30,\n",
      "      \"...\": 31,\n",
      "      \"¡\": 32,\n",
      "      \"al\": 33,\n",
      "      \"(\": 34,\n",
      "      \"El\": 35,\n",
      "      \"como\": 36,\n",
      "      \"más\": 37,\n",
      "      \":\": 38,\n",
      "      \")\": 39,\n",
      "      \"La\": 40,\n",
      "      \"/\": 41,\n",
      "      \"o\": 42,\n",
      "      \"me\": 43,\n",
      "      \"\\\"\": 44,\n",
      "      \"sobre\": 45,\n",
      "      \"está\": 46,\n",
      "      \"ha\": 47,\n",
      "      \"Y\": 48,\n"
     ]
    }
   ],
   "source": [
    "with open(tokenizer_target_path, 'r') as file:\n",
    "    for i in range(100):\n",
    "        line = file.readline()\n",
    "        if line == \"\\n\":\n",
    "            continue\n",
    "        print(line, end=\"\")"
   ]
  },
  {
   "cell_type": "markdown",
   "metadata": {},
   "source": [
    "## Obtención de la lóngitud máxima de las secuencias ✔"
   ]
  },
  {
   "cell_type": "code",
   "execution_count": 16,
   "metadata": {},
   "outputs": [
    {
     "name": "stdout",
     "output_type": "stream",
     "text": [
      "Max source sequence length: 20\n",
      "Max target sequence length: 20\n",
      "Max sequence length: 22\n"
     ]
    }
   ],
   "source": [
    "max_source_sequence_length = 0\n",
    "max_target_sequence_length = 0\n",
    "\n",
    "for i in range(len(dataset_raw_train)):\n",
    "    source_sequence_length = len(tokenizer_source.encode(dataset_raw_train[i]['translation'][SOURCE_LANGUAGE]).ids)\n",
    "    target_sequence_length = len(tokenizer_target.encode(dataset_raw_train[i]['translation'][TARGET_LANGUAGE]).ids)\n",
    "    if source_sequence_length > max_source_sequence_length:\n",
    "        max_source_sequence_length = source_sequence_length\n",
    "    if target_sequence_length > max_target_sequence_length:\n",
    "        max_target_sequence_length = target_sequence_length\n",
    "\n",
    "max_sequence_len = max(max_source_sequence_length, max_target_sequence_length)\n",
    "max_sequence_len += 2   # Add 2 for the start and end of sequence tokens\n",
    "\n",
    "print(f\"Max source sequence length: {max_source_sequence_length}\")\n",
    "print(f\"Max target sequence length: {max_target_sequence_length}\")\n",
    "print(f\"Max sequence length: {max_sequence_len}\")"
   ]
  },
  {
   "cell_type": "markdown",
   "metadata": {},
   "source": [
    "## Datasets ✔"
   ]
  },
  {
   "cell_type": "markdown",
   "metadata": {},
   "source": [
    "### Mask ✔"
   ]
  },
  {
   "cell_type": "code",
   "execution_count": 17,
   "metadata": {},
   "outputs": [],
   "source": [
    "def create_mask(sequence_len):\n",
    "    if GPUS > 1:\n",
    "        mask = torch.tril(torch.ones((torch.cuda.device_count(), sequence_len, sequence_len)))\n",
    "    else:\n",
    "        mask = torch.tril(torch.ones((1, sequence_len, sequence_len)))\n",
    "    return mask"
   ]
  },
  {
   "cell_type": "markdown",
   "metadata": {},
   "source": [
    "### Dataset class ✔"
   ]
  },
  {
   "cell_type": "code",
   "execution_count": 18,
   "metadata": {},
   "outputs": [],
   "source": [
    "import torch\n",
    "from torch.utils.data import Dataset\n",
    "\n",
    "class BilingualDataset(Dataset):\n",
    "    def __init__(self, dataset, tokenizer_src, tokenizer_tgt, src_lang, tgt_lang, max_seq_len) -> None:\n",
    "        super().__init__()\n",
    "        \n",
    "        self.max_seq_len = max_seq_len\n",
    "        self.dataset = dataset\n",
    "        self.tokenizer_src = tokenizer_src\n",
    "        self.tokenizer_tgt = tokenizer_tgt\n",
    "        self.src_lang = src_lang\n",
    "        self.tgt_lang = tgt_lang\n",
    "        \n",
    "        # Defining special tokens by using the target language tokenizer\n",
    "        self.sos_token = torch.tensor([tokenizer_tgt.token_to_id(START_OF_SEQUENCE)], dtype=torch.int64)\n",
    "        self.eos_token = torch.tensor([tokenizer_tgt.token_to_id(END_OF_SEQUENCE)], dtype=torch.int64)\n",
    "        self.pad_token = torch.tensor([tokenizer_tgt.token_to_id(PADDING_TOKEN)], dtype=torch.int64)\n",
    "        self.unk_token = torch.tensor([tokenizer_tgt.token_to_id(UNKNOWN_TOKEN)], dtype=torch.int64)\n",
    "        \n",
    "    def __len__(self):\n",
    "        return len(self.dataset)\n",
    "    \n",
    "    def __getitem__(self, index):\n",
    "        # Getting the source and target texts from the dataset\n",
    "        src_target_pair = self.dataset[index]['translation']\n",
    "        src_text = src_target_pair[self.src_lang]\n",
    "        tgt_text = src_target_pair[self.tgt_lang]\n",
    "        \n",
    "        # Tokenizing source and target texts \n",
    "        encoder_input_tokens = self.tokenizer_src.encode(src_text).ids\n",
    "        decoder_input_tokens = self.tokenizer_tgt.encode(tgt_text).ids\n",
    "        \n",
    "        # Computing how many padding tokens need to be added to the tokenized texts \n",
    "        encoder_num_padding_tokens = self.max_seq_len - len(encoder_input_tokens) - 2 # Subtracting the two '[EOS]' and '[SOS]' special tokens\n",
    "        decoder_num_padding_tokens = self.max_seq_len - len(decoder_input_tokens) - 1 # Subtracting the '[SOS]' special token\n",
    "        \n",
    "        # If the texts exceed the 'seq_len' allowed, it will raise an error. This means that one of the sentences in the pair is too long to be processed\n",
    "        # given the current sequence length limit (this will be defined in the config dictionary below)\n",
    "        if encoder_num_padding_tokens < 0 or decoder_num_padding_tokens < 0:\n",
    "            raise ValueError('Sentence is too long')\n",
    "         \n",
    "        # Building the encoder input tensor by combining several elements\n",
    "        encoder_input = torch.cat(\n",
    "            [\n",
    "                self.sos_token, # inserting the '[SOS]' token\n",
    "                torch.tensor(encoder_input_tokens, dtype = torch.int64), # Inserting the tokenized source text\n",
    "                self.eos_token, # Inserting the '[EOS]' token\n",
    "                torch.tensor([self.pad_token] * encoder_num_padding_tokens, dtype = torch.int64) # Addind padding tokens\n",
    "            ]\n",
    "        )\n",
    "        \n",
    "        # Building the decoder input tensor by combining several elements\n",
    "        decoder_input = torch.cat(\n",
    "            [\n",
    "                self.sos_token, # inserting the '[SOS]' token \n",
    "                torch.tensor(decoder_input_tokens, dtype = torch.int64), # Inserting the tokenized target text\n",
    "                torch.tensor([self.pad_token] * decoder_num_padding_tokens, dtype = torch.int64) # Addind padding tokens\n",
    "            ]\n",
    "        )\n",
    "        \n",
    "        # Creating a label tensor, the expected output for training the model\n",
    "        label = torch.cat(\n",
    "            [\n",
    "                torch.tensor(decoder_input_tokens, dtype = torch.int64), # Inserting the tokenized target text\n",
    "                self.eos_token, # Inserting the '[EOS]' token \n",
    "                torch.tensor([self.pad_token] * decoder_num_padding_tokens, dtype = torch.int64) # Adding padding tokens\n",
    "            ]\n",
    "        )\n",
    "        \n",
    "        # Ensuring that the length of each tensor above is equal to the defined 'seq_len'\n",
    "        assert encoder_input.size(0) == self.max_seq_len\n",
    "        assert decoder_input.size(0) == self.max_seq_len\n",
    "        assert label.size(0) == self.max_seq_len\n",
    "\n",
    "        return {\n",
    "            'encoder_input': encoder_input,\n",
    "            'decoder_input': decoder_input, \n",
    "            'label': label,\n",
    "            'src_text': src_text,\n",
    "            'tgt_text': tgt_text\n",
    "        }\n"
   ]
  },
  {
   "cell_type": "markdown",
   "metadata": {},
   "source": [
    "Veamos una muestra"
   ]
  },
  {
   "cell_type": "code",
   "execution_count": 19,
   "metadata": {},
   "outputs": [
    {
     "name": "stdout",
     "output_type": "stream",
     "text": [
      "Encoder input shape: torch.Size([22])\n",
      "Decoder input shape: torch.Size([22])\n",
      "Label shape: torch.Size([22])\n",
      "Source text: You remember this? Huh? Get out of the car!\n",
      "Target text: ¿Recuerdas esto? ¡Sal del coche!\n"
     ]
    }
   ],
   "source": [
    "from random import randint\n",
    "\n",
    "sample_dataset = BilingualDataset(dataset_raw_train, tokenizer_source, tokenizer_target, SOURCE_LANGUAGE, TARGET_LANGUAGE, max_sequence_len)\n",
    "idx = randint(0, len(sample_dataset))\n",
    "sample_dataset = sample_dataset[idx]\n",
    "\n",
    "print(f\"Encoder input shape: {sample_dataset['encoder_input'].shape}\")\n",
    "print(f\"Decoder input shape: {sample_dataset['decoder_input'].shape}\")\n",
    "print(f\"Label shape: {sample_dataset['label'].shape}\")\n",
    "print(f\"Source text: {sample_dataset['src_text']}\")\n",
    "print(f\"Target text: {sample_dataset['tgt_text']}\")"
   ]
  },
  {
   "cell_type": "markdown",
   "metadata": {},
   "source": [
    "### Split dataset ✔"
   ]
  },
  {
   "cell_type": "markdown",
   "metadata": {},
   "source": [
    "Ahora que vemos que está bien, creamos los datasets de entrenamiento y validación"
   ]
  },
  {
   "cell_type": "code",
   "execution_count": 20,
   "metadata": {},
   "outputs": [
    {
     "name": "stdout",
     "output_type": "stream",
     "text": [
      "Len train: 728561, len validation: 1458, len test: 1444\n"
     ]
    }
   ],
   "source": [
    "print(f\"Len train: {len(dataset_raw_train)}, len validation: {len(dataset_raw_val)}, len test: {len(dataset_raw_test)}\")"
   ]
  },
  {
   "cell_type": "code",
   "execution_count": 21,
   "metadata": {},
   "outputs": [],
   "source": [
    "train_dataset = BilingualDataset(dataset_raw_train, tokenizer_source, tokenizer_target, SOURCE_LANGUAGE, TARGET_LANGUAGE, max_sequence_len)\n",
    "validation_dataset = BilingualDataset(dataset_raw_val, tokenizer_source, tokenizer_target, SOURCE_LANGUAGE, TARGET_LANGUAGE, max_sequence_len)\n",
    "test_dataset = BilingualDataset(dataset_raw_test, tokenizer_source, tokenizer_target, SOURCE_LANGUAGE, TARGET_LANGUAGE, max_sequence_len)"
   ]
  },
  {
   "cell_type": "markdown",
   "metadata": {},
   "source": [
    "## Dataloaders ✔"
   ]
  },
  {
   "cell_type": "code",
   "execution_count": 22,
   "metadata": {},
   "outputs": [],
   "source": [
    "from torch.utils.data import DataLoader\n",
    "\n",
    "train_dataloader = DataLoader(train_dataset, batch_size=BS, shuffle=True)\n",
    "validation_dataloader = DataLoader(validation_dataset, batch_size=BS, shuffle=True)\n",
    "test_dataloader = DataLoader(test_dataset, batch_size=BS, shuffle=False)"
   ]
  },
  {
   "cell_type": "markdown",
   "metadata": {},
   "source": [
    "Vamos a ver una muestra"
   ]
  },
  {
   "cell_type": "code",
   "execution_count": 23,
   "metadata": {},
   "outputs": [
    {
     "data": {
      "text/plain": [
       "dict"
      ]
     },
     "execution_count": 23,
     "metadata": {},
     "output_type": "execute_result"
    }
   ],
   "source": [
    "batch = next(iter(train_dataloader))\n",
    "type(batch)"
   ]
  },
  {
   "cell_type": "markdown",
   "metadata": {},
   "source": [
    "Como vemos la muestra es un diccionario, vamos a ver sus claves"
   ]
  },
  {
   "cell_type": "code",
   "execution_count": 24,
   "metadata": {},
   "outputs": [
    {
     "data": {
      "text/plain": [
       "dict_keys(['encoder_input', 'decoder_input', 'label', 'src_text', 'tgt_text'])"
      ]
     },
     "execution_count": 24,
     "metadata": {},
     "output_type": "execute_result"
    }
   ],
   "source": [
    "batch.keys()"
   ]
  },
  {
   "cell_type": "markdown",
   "metadata": {},
   "source": [
    "Las claves son las salidas que habíamos definido en el dataset. Vamos a ver ahora cómo es cada una de las claves"
   ]
  },
  {
   "cell_type": "code",
   "execution_count": 25,
   "metadata": {},
   "outputs": [
    {
     "data": {
      "text/plain": [
       "(torch.Size([1024, 22]),\n",
       " torch.Size([1024, 22]),\n",
       " torch.Size([1024, 22]),\n",
       " 1024,\n",
       " 1024)"
      ]
     },
     "execution_count": 25,
     "metadata": {},
     "output_type": "execute_result"
    }
   ],
   "source": [
    "batch['encoder_input'].shape, batch['decoder_input'].shape, batch['label'].shape, len(batch['src_text']), len(batch['tgt_text'])"
   ]
  },
  {
   "cell_type": "markdown",
   "metadata": {},
   "source": [
    "Cada una de las claves tiene tantas muestras como hemos definido en el batch size (`BS`). Vamos ahora a ver una de las muestras"
   ]
  },
  {
   "cell_type": "code",
   "execution_count": 26,
   "metadata": {},
   "outputs": [
    {
     "name": "stdout",
     "output_type": "stream",
     "text": [
      "Encoder input shape: torch.Size([22])\n",
      "Decoder input shape: torch.Size([22])\n",
      "Label shape: torch.Size([22])\n",
      "Source text: Okay, I've been saying they're all in bed together.\n",
      "Target text: Ya te lo dije. Todos están involucrados en esto.\n"
     ]
    }
   ],
   "source": [
    "idx = randint(0, BS)\n",
    "\n",
    "print(f\"Encoder input shape: {batch['encoder_input'][idx].shape}\")\n",
    "print(f\"Decoder input shape: {batch['decoder_input'][idx].shape}\")\n",
    "print(f\"Label shape: {batch['label'][idx].shape}\")\n",
    "print(f\"Source text: {batch['src_text'][idx]}\")\n",
    "print(f\"Target text: {batch['tgt_text'][idx]}\")"
   ]
  },
  {
   "cell_type": "markdown",
   "metadata": {},
   "source": [
    "## Modelo ✔"
   ]
  },
  {
   "cell_type": "markdown",
   "metadata": {},
   "source": [
    "Volvemos a escribir todo el código del transformer y creamos un objeto de este"
   ]
  },
  {
   "cell_type": "markdown",
   "metadata": {},
   "source": [
    "### Clases de bajo nivel"
   ]
  },
  {
   "cell_type": "code",
   "execution_count": 27,
   "metadata": {},
   "outputs": [],
   "source": [
    "import torch\n",
    "import torch.nn as nn\n",
    "import torch.nn.init as init\n",
    "\n",
    "class CustomLinear(nn.Module):\n",
    "    def __init__(self, in_features, out_features):\n",
    "        super(CustomLinear, self).__init__()\n",
    "        self.linear = nn.Linear(in_features, out_features)\n",
    "        init.kaiming_uniform_(self.linear.weight, nonlinearity='relu')\n",
    "        if self.linear.bias is not None:\n",
    "            init.zeros_(self.linear.bias)\n",
    "    \n",
    "    def forward(self, x):\n",
    "        return self.linear(x)\n",
    "\n",
    "class CustomEmbedding(nn.Module):\n",
    "    def __init__(self, num_embeddings, embedding_dim):\n",
    "        super(CustomEmbedding, self).__init__()\n",
    "        self.embedding = nn.Embedding(num_embeddings, embedding_dim)\n",
    "        init.xavier_uniform_(self.embedding.weight)\n",
    "    \n",
    "    def forward(self, x):\n",
    "        return self.embedding(x)\n",
    "\n",
    "class Embedding(nn.Module):\n",
    "    def __init__(self, vocab_size, embedding_dim):\n",
    "        super().__init__()\n",
    "        self.vocab_size = vocab_size\n",
    "        self.embedding_dim = embedding_dim\n",
    "\n",
    "        self.embedding = CustomEmbedding(vocab_size, embedding_dim)\n",
    "\n",
    "    def forward(self, x):\n",
    "        return self.embedding(x)\n",
    "\n",
    "class PositionalEncoding(nn.Module):\n",
    "    def __init__(self, max_sequence_len, embedding_model_dim):\n",
    "        super().__init__()\n",
    "        self.embedding_dim = embedding_model_dim\n",
    "        positional_encoding = torch.zeros(max_sequence_len, self.embedding_dim)\n",
    "        for pos in range(max_sequence_len):\n",
    "            for i in range(0, self.embedding_dim, 2):\n",
    "                positional_encoding[pos, i]     = torch.sin(torch.tensor(pos / (10000 ** ((2 * i) / self.embedding_dim))))\n",
    "                positional_encoding[pos, i + 1] = torch.cos(torch.tensor(pos / (10000 ** ((2 * (i+1)) / self.embedding_dim))))\n",
    "        positional_encoding = positional_encoding.unsqueeze(0)\n",
    "        self.register_buffer('positional_encoding', positional_encoding)\n",
    "\n",
    "    def forward(self, x):\n",
    "        x = x * torch.sqrt(torch.tensor(self.embedding_dim))\n",
    "        sequence_len = x.size(1)\n",
    "        x = x + self.positional_encoding[:,:sequence_len]\n",
    "        return x\n",
    "\n",
    "class ScaledDotProductAttention(nn.Module):\n",
    "    def __init__(self, dim_embedding):\n",
    "        super().__init__()\n",
    "        self.dim_embedding = dim_embedding\n",
    "    \n",
    "    def forward(self, query, key, value, mask=None):\n",
    "        key_trasposed = key.transpose(-1,-2)\n",
    "        product = torch.matmul(query, key_trasposed)\n",
    "        scale = product / torch.sqrt(torch.tensor(self.dim_embedding))\n",
    "        if mask is not None:\n",
    "            scale = scale.masked_fill(mask == 0, float('-inf'))\n",
    "        attention_matrix = torch.softmax(scale, dim=-1)\n",
    "        output = torch.matmul(attention_matrix, value)\n",
    "        return output\n",
    "\n",
    "class MultiHeadAttention(nn.Module):\n",
    "    def __init__(self, heads, dim_embedding):\n",
    "        super().__init__()\n",
    "        \n",
    "        self.dim_embedding = dim_embedding\n",
    "        self.dim_proyection = dim_embedding // heads\n",
    "        self.heads = heads\n",
    "        self.proyection_Q = CustomLinear(dim_embedding, dim_embedding)\n",
    "        self.proyection_K = CustomLinear(dim_embedding, dim_embedding)\n",
    "        self.proyection_V = CustomLinear(dim_embedding, dim_embedding)\n",
    "        self.attention = CustomLinear(dim_embedding, dim_embedding)\n",
    "        self.scaled_dot_product_attention = ScaledDotProductAttention(self.dim_proyection)\n",
    "    \n",
    "    def forward(self, Q, K, V, mask=None):\n",
    "        batch_size = Q.size(0)\n",
    "        proyection_Q = self.proyection_Q(Q).view(batch_size, -1, self.heads, self.dim_proyection)\n",
    "        proyection_K = self.proyection_K(K).view(batch_size, -1, self.heads, self.dim_proyection)\n",
    "        proyection_V = self.proyection_V(V).view(batch_size, -1, self.heads, self.dim_proyection)\n",
    "        proyection_Q = proyection_Q.transpose(1,2)\n",
    "        proyection_K = proyection_K.transpose(1,2)\n",
    "        proyection_V = proyection_V.transpose(1,2)\n",
    "        scaled_dot_product_attention = self.scaled_dot_product_attention(proyection_Q, proyection_K, proyection_V, mask=mask)\n",
    "        concat = scaled_dot_product_attention.transpose(1,2).contiguous().view(batch_size, -1, self.dim_embedding)\n",
    "        output = self.attention(concat)\n",
    "        return output\n",
    "\n",
    "class AddAndNorm(nn.Module):\n",
    "    def __init__(self, dim_embedding):\n",
    "        super().__init__()\n",
    "        self.normalization = nn.LayerNorm(dim_embedding)\n",
    "\n",
    "    def forward(self, x, sublayer):\n",
    "        return self.normalization(torch.add(x, sublayer))\n",
    "\n",
    "class FeedForward(nn.Module):\n",
    "    def __init__(self, dim_embedding, increment=4):\n",
    "        super().__init__()\n",
    "        self.feed_forward = nn.Sequential(\n",
    "            CustomLinear(dim_embedding, dim_embedding*increment),\n",
    "            nn.ReLU(),\n",
    "            CustomLinear(dim_embedding*increment, dim_embedding)\n",
    "        )\n",
    "    \n",
    "    def forward(self, x):\n",
    "        x = self.feed_forward(x)\n",
    "        return x\n",
    "\n",
    "class Linear(nn.Module):\n",
    "    def __init__(self, dim_embedding, vocab_size):\n",
    "        super().__init__()\n",
    "        self.linear = CustomLinear(dim_embedding, vocab_size)\n",
    "        \n",
    "    def forward(self, x):\n",
    "        x = self.linear(x)\n",
    "        return x\n",
    "\n",
    "class Softmax(nn.Module):\n",
    "    def __init__(self):\n",
    "        super().__init__()\n",
    "        self.softmax = nn.Softmax(dim=1)\n",
    "        \n",
    "    def forward(self, x):\n",
    "        x = self.softmax(x)\n",
    "        return x\n",
    "\n",
    "class Dropout(torch.nn.Module):\n",
    "    def __init__(self, p=0.1):\n",
    "        super().__init__()\n",
    "        self.p = p\n",
    "\n",
    "    def forward(self, x):\n",
    "        if self.training:\n",
    "            return torch.nn.functional.dropout(x, p=self.p)\n",
    "        else:\n",
    "            return x\n"
   ]
  },
  {
   "cell_type": "markdown",
   "metadata": {},
   "source": [
    "### Clases de medio nivel"
   ]
  },
  {
   "cell_type": "code",
   "execution_count": 28,
   "metadata": {},
   "outputs": [],
   "source": [
    "class EncoderLayer(nn.Module):\n",
    "    def __init__(self, heads, dim_embedding, prob_dropout=0.1):\n",
    "        super().__init__()\n",
    "        self.multi_head_attention = MultiHeadAttention(heads, dim_embedding)\n",
    "        self.dropout_1 = Dropout(prob_dropout)\n",
    "        self.add_and_norm_1 = AddAndNorm(dim_embedding)\n",
    "        self.feed_forward = FeedForward(dim_embedding)\n",
    "        self.dropout_2 = Dropout(prob_dropout)\n",
    "        self.add_and_norm_2 = AddAndNorm(dim_embedding)\n",
    "    \n",
    "    def forward(self, x):\n",
    "        multi_head_attention = self.multi_head_attention(x, x, x)\n",
    "        dropout1 = self.dropout_1(multi_head_attention)\n",
    "        add_and_norm_1 = self.add_and_norm_1(x, dropout1)\n",
    "        feed_forward = self.feed_forward(add_and_norm_1)\n",
    "        dropout2 = self.dropout_2(feed_forward)\n",
    "        add_and_norm_2 = self.add_and_norm_2(add_and_norm_1, dropout2)\n",
    "        return add_and_norm_2\n",
    "\n",
    "class Encoder(nn.Module):\n",
    "    def __init__(self, heads, dim_embedding, Nx, prob_dropout=0.1):\n",
    "        super().__init__()\n",
    "        self.encoder_layers = nn.ModuleList([EncoderLayer(heads, dim_embedding, prob_dropout) for _ in range(Nx)])\n",
    "    \n",
    "    def forward(self, x):\n",
    "        for encoder_layer in self.encoder_layers:\n",
    "            x = encoder_layer(x)\n",
    "        return x\n",
    "\n",
    "class TransformerEncoder(nn.Module):\n",
    "    def __init__(self, vocab_size, dim_embedding, max_sequence_len, heads, Nx, prob_dropout=0.1):\n",
    "        super().__init__()\n",
    "        self.input_embedding = Embedding(vocab_size, dim_embedding)\n",
    "        self.positional_encoding = PositionalEncoding(max_sequence_len, dim_embedding)\n",
    "        self.encoder = Encoder(heads, dim_embedding, Nx, prob_dropout)\n",
    "    \n",
    "    def forward(self, x):\n",
    "        input_embedding = self.input_embedding(x)\n",
    "        positional_encoding = self.positional_encoding(input_embedding)\n",
    "        encoder = self.encoder(positional_encoding)\n",
    "        return encoder\n",
    "\n",
    "class DecoderLayer(nn.Module):\n",
    "    def __init__(self, heads, dim_embedding, prob_dropout=0.1):\n",
    "        super().__init__()\n",
    "        self.masked_multi_head_attention = MultiHeadAttention(heads, dim_embedding)\n",
    "        self.dropout_1 = Dropout(prob_dropout)\n",
    "        self.add_and_norm_1 = AddAndNorm(dim_embedding)\n",
    "        self.encoder_decoder_multi_head_attention = MultiHeadAttention(heads, dim_embedding)\n",
    "        self.dropout_2 = Dropout(prob_dropout)\n",
    "        self.add_and_norm_2 = AddAndNorm(dim_embedding)\n",
    "        self.feed_forward = FeedForward(dim_embedding)\n",
    "        self.dropout_3 = Dropout(prob_dropout)\n",
    "        self.add_and_norm_3 = AddAndNorm(dim_embedding)\n",
    "    \n",
    "    def forward(self, x, encoder_output, mask=None):\n",
    "        Q = x\n",
    "        K = x\n",
    "        V = x\n",
    "        masked_multi_head_attention = self.masked_multi_head_attention(Q, K, V, mask=mask)\n",
    "        dropout1 = self.dropout_1(masked_multi_head_attention)\n",
    "        add_and_norm_1 = self.add_and_norm_1(dropout1, x)\n",
    "\n",
    "        Q = add_and_norm_1\n",
    "        K = encoder_output\n",
    "        V = encoder_output\n",
    "        encoder_decoder_multi_head_attention = self.encoder_decoder_multi_head_attention(Q, K, V)\n",
    "        dropout2 = self.dropout_2(encoder_decoder_multi_head_attention)\n",
    "        add_and_norm_2 = self.add_and_norm_2(dropout2, add_and_norm_1)\n",
    "\n",
    "        feed_forward = self.feed_forward(add_and_norm_2)\n",
    "        dropout3 = self.dropout_3(feed_forward)\n",
    "        add_and_norm_3 = self.add_and_norm_3(dropout3, add_and_norm_2)\n",
    "\n",
    "        return add_and_norm_3\n",
    "\n",
    "class Decoder(nn.Module):\n",
    "    def __init__(self, heads, dim_embedding, Nx, prob_dropout=0.1):\n",
    "        super().__init__()\n",
    "        self.layers = nn.ModuleList([DecoderLayer(heads, dim_embedding, prob_dropout) for _ in range(Nx)])\n",
    "    \n",
    "    def forward(self, x, encoder_output, mask=None):\n",
    "        for decoder_layer in self.layers:\n",
    "            x = decoder_layer(x, encoder_output, mask)\n",
    "        return x\n",
    "\n",
    "class TransformerDecoder(nn.Module):\n",
    "    def __init__(self, heads, dim_embedding, Nx, vocab_size, max_sequence_len, prob_dropout=0.1):\n",
    "        super().__init__()\n",
    "        self.embedding = Embedding(vocab_size, dim_embedding)\n",
    "        self.positional_encoding = PositionalEncoding(max_sequence_len, dim_embedding)\n",
    "        self.decoder = Decoder(heads, dim_embedding, Nx, prob_dropout)\n",
    "        self.linear = Linear(dim_embedding, vocab_size)\n",
    "        # self.softmax = Softmax()\n",
    "    \n",
    "    def forward(self, x, encoder_output, mask=None):\n",
    "        x = self.embedding(x)\n",
    "        x = self.positional_encoding(x)\n",
    "        x = self.decoder(x, encoder_output, mask)\n",
    "        x = self.linear(x)\n",
    "        # x = self.softmax(x)\n",
    "        return x\n",
    "\n",
    "class Linear_and_softmax(nn.Module):\n",
    "    def __init__(self, dim_embedding, vocab_size):\n",
    "        super().__init__()\n",
    "        self.linear = CustomLinear(dim_embedding, vocab_size)\n",
    "        # self.softmax = Softmax()\n",
    "    \n",
    "    def forward(self, x):\n",
    "        x = self.linear(x)\n",
    "        # x = self.softmax(x)\n",
    "        return x\n"
   ]
  },
  {
   "cell_type": "markdown",
   "metadata": {},
   "source": [
    "### Clase de alto nivel"
   ]
  },
  {
   "cell_type": "code",
   "execution_count": 29,
   "metadata": {},
   "outputs": [],
   "source": [
    "class Transformer(nn.Module):\n",
    "    def __init__(self, src_vocab_size, tgt_vocab_size, src_max_seq_len, tgt_max_seq_len, dim_embedding, Nx, heads, prob_dropout=0.1):\n",
    "        super().__init__()\n",
    "        self.transformerEncoder = TransformerEncoder(src_vocab_size, dim_embedding, src_max_seq_len, heads, Nx, prob_dropout)\n",
    "        self.transformerDecoder = TransformerDecoder(heads, dim_embedding, Nx, tgt_vocab_size, tgt_max_seq_len, prob_dropout)\n",
    "        self.encoder = Encoder(heads, dim_embedding, Nx, prob_dropout)\n",
    "        self.decoder = Decoder(heads, dim_embedding, Nx, prob_dropout)\n",
    "        self.sourceEmbedding = Embedding(src_vocab_size, dim_embedding)\n",
    "        self.targetEmbedding = Embedding(tgt_vocab_size, dim_embedding)\n",
    "        self.sourcePositional_encoding = PositionalEncoding(src_max_seq_len, dim_embedding)\n",
    "        self.targetPositional_encoding = PositionalEncoding(tgt_max_seq_len, dim_embedding)\n",
    "        self.linear = Linear_and_softmax(dim_embedding, tgt_vocab_size)\n",
    "    \n",
    "    def encode(self, source):\n",
    "        embedding = self.sourceEmbedding(source)\n",
    "        positional_encoding = self.sourcePositional_encoding(embedding)\n",
    "        encoder_output = self.encoder(positional_encoding)\n",
    "        return encoder_output\n",
    "    \n",
    "    def decode(self, encoder_output, target, target_mask):\n",
    "        embedding = self.targetEmbedding(target)\n",
    "        positional_encoding = self.targetPositional_encoding(embedding)\n",
    "        decoder_output = self.decoder(positional_encoding, encoder_output, target_mask)\n",
    "        return decoder_output\n",
    "    \n",
    "    def projection(self, decoder_output):\n",
    "        linear_output = self.linear(decoder_output)\n",
    "        # softmax_output = self.softmax(linear_output)\n",
    "        return linear_output\n",
    "    \n",
    "    def forward(self, source, target, target_mask):\n",
    "        # Encode\n",
    "        embedding_encoder = self.sourceEmbedding(source)\n",
    "        positional_encoding_encoder = self.sourcePositional_encoding(embedding_encoder)\n",
    "        encoder_output = self.encoder(positional_encoding_encoder)\n",
    "\n",
    "        # Decode\n",
    "        embedding_decoder = self.targetEmbedding(target)\n",
    "        positional_encoding_decoder = self.targetPositional_encoding(embedding_decoder)\n",
    "        decoder_output = self.decoder(positional_encoding_decoder, encoder_output, target_mask)\n",
    "\n",
    "        # Projection\n",
    "        proj_output = self.linear(decoder_output)\n",
    "        return proj_output\n"
   ]
  },
  {
   "cell_type": "markdown",
   "metadata": {},
   "source": [
    "### Transformer"
   ]
  },
  {
   "cell_type": "code",
   "execution_count": 30,
   "metadata": {},
   "outputs": [
    {
     "name": "stdout",
     "output_type": "stream",
     "text": [
      "source vocab size: 30000, target vocab size: 30000, source max sequence len: 22, target max sequence len: 22, dim_embedding: 512, heads: 8, Nx: 6, prob_dropout: 0.1\n"
     ]
    },
    {
     "name": "stdout",
     "output_type": "stream",
     "text": [
      "\n"
     ]
    }
   ],
   "source": [
    "source_vocab_size = tokenizer_source.get_vocab_size()\n",
    "target_vocab_size = tokenizer_target.get_vocab_size()\n",
    "src_max_seq_len = max_sequence_len\n",
    "tgt_max_seq_len = max_sequence_len\n",
    "dim_embedding = DIM_EMBEDDING\n",
    "Nx = NUM_LAYERS\n",
    "heads = NUM_HEADS\n",
    "prob_dropout = DROPOUT\n",
    "print(f\"source vocab size: {source_vocab_size}, target vocab size: {target_vocab_size}, source max sequence len: {src_max_seq_len}, target max sequence len: {tgt_max_seq_len}, dim_embedding: {dim_embedding}, heads: {heads}, Nx: {Nx}, prob_dropout: {prob_dropout}\")\n",
    "\n",
    "model = Transformer(\n",
    "    src_vocab_size = source_vocab_size,\n",
    "    tgt_vocab_size = target_vocab_size,\n",
    "    src_max_seq_len = src_max_seq_len,\n",
    "    tgt_max_seq_len = tgt_max_seq_len,\n",
    "    dim_embedding = dim_embedding,\n",
    "    Nx = Nx,\n",
    "    heads = heads,\n",
    "    prob_dropout = prob_dropout,\n",
    ")\n",
    "\n",
    "model.to(device)\n",
    "print(\"\")"
   ]
  },
  {
   "cell_type": "markdown",
   "metadata": {},
   "source": [
    "### Data parallel"
   ]
  },
  {
   "cell_type": "code",
   "execution_count": 31,
   "metadata": {},
   "outputs": [
    {
     "name": "stdout",
     "output_type": "stream",
     "text": [
      "Let's use 1 GPUs! GPU NUMBER: 0\n"
     ]
    }
   ],
   "source": [
    "# Data parallel\n",
    "if torch.cuda.device_count() > 1 and GPUS > 1:\n",
    "    number_gpus = torch.cuda.device_count()\n",
    "    print(f\"Let's use {number_gpus} GPUs!\")\n",
    "    model = nn.DataParallel(model)\n",
    "else:\n",
    "    number_gpus = 1\n",
    "    print(f\"Let's use {number_gpus} GPUs! GPU NUMBER: {GPU_NUMBER}\")\n"
   ]
  },
  {
   "cell_type": "code",
   "execution_count": 32,
   "metadata": {},
   "outputs": [
    {
     "data": {
      "text/plain": [
       "torch.Size([1, 22, 22])"
      ]
     },
     "execution_count": 32,
     "metadata": {},
     "output_type": "execute_result"
    }
   ],
   "source": [
    "mask = create_mask(max_sequence_len)\n",
    "mask.shape"
   ]
  },
  {
   "cell_type": "markdown",
   "metadata": {},
   "source": [
    "## Entrenamiento"
   ]
  },
  {
   "cell_type": "markdown",
   "metadata": {},
   "source": [
    "### Optimizador ✔"
   ]
  },
  {
   "cell_type": "code",
   "execution_count": 33,
   "metadata": {},
   "outputs": [],
   "source": [
    "optimizer = torch.optim.Adam(model.parameters(), lr=LR, betas=(0.9, 0.98), eps=1e-9)"
   ]
  },
  {
   "cell_type": "markdown",
   "metadata": {},
   "source": [
    "### Función de pérdida ✔"
   ]
  },
  {
   "cell_type": "markdown",
   "metadata": {},
   "source": [
    "Creamos la función de pérdida con label smoothing"
   ]
  },
  {
   "cell_type": "code",
   "execution_count": 34,
   "metadata": {},
   "outputs": [],
   "source": [
    "loss_fn = nn.CrossEntropyLoss(\n",
    "    ignore_index = tokenizer_source.token_to_id(PADDING_TOKEN), \n",
    "    label_smoothing = LABEL_SMOOTHING).to(device)\n"
   ]
  },
  {
   "cell_type": "markdown",
   "metadata": {},
   "source": [
    "### LR ✔"
   ]
  },
  {
   "cell_type": "code",
   "execution_count": 35,
   "metadata": {},
   "outputs": [],
   "source": [
    "class Step():\n",
    "    def __init__(self):\n",
    "        self.step = 0\n",
    "    \n",
    "    def set_step(self, st):\n",
    "        self.step = st\n",
    "    \n",
    "    def get_step(self):\n",
    "        return int(self.step)\n",
    "\n",
    "class LearningRate():\n",
    "    def __init__(self):\n",
    "        self.lr = 0\n",
    "    \n",
    "    def set_lr(self, l_r_):\n",
    "        self.lr = l_r_\n",
    "    \n",
    "    def get_lr(self):\n",
    "        return self.lr\n",
    "\n",
    "actual_step = Step()\n",
    "actual_lr = LearningRate()"
   ]
  },
  {
   "cell_type": "markdown",
   "metadata": {},
   "source": [
    "Ahora vamos a crear la función que calcula el learning rate en función del step. Como vimos, en el paper dicen que usan la fórmula\n",
    "\n",
    "$$lr = d_{model}^{-0.5} \\cdot min \\left(stepNumber^{-0.5}, stepNumber \\cdot stepWarmUp^{-1.5} \\right)$$\n",
    "\n",
    "Sin embargo, con nuestro batch size y el número de épocas, el learning rate evolucionaría así"
   ]
  },
  {
   "cell_type": "code",
   "execution_count": 36,
   "metadata": {},
   "outputs": [
    {
     "data": {
      "image/png": "[encoded data removed]",
      "text/plain": [
       "<Figure size 640x480 with 1 Axes>"
      ]
     },
     "metadata": {},
     "output_type": "display_data"
    }
   ],
   "source": [
    "import numpy as np\n",
    "import matplotlib.pyplot as plt\n",
    "\n",
    "warmup_steps = 4000\n",
    "num_steps_by_epoch = len(train_dataloader)\n",
    "step_num = np.arange(1, EPOCHS*num_steps_by_epoch, 10)\n",
    "step_num_exp = -0.5\n",
    "warmup_steps_exp = -1.5\n",
    "dim_embedding_exp = -0.5\n",
    "lr = np.power(dim_embedding, dim_embedding_exp) * np.minimum(np.power(step_num, step_num_exp), step_num * np.power(warmup_steps, warmup_steps_exp))\n",
    "\n",
    "plt.plot(step_num, lr)\n",
    "plt.xlabel('step_num')\n",
    "plt.ylabel('lr')\n",
    "plt.ylim(0, 0.0014)\n",
    "plt.show()"
   ]
  },
  {
   "cell_type": "markdown",
   "metadata": {},
   "source": [
    "Como se puede ver sube muy rápido y luego baja muy rápido a un valor tan pequeño que es casi como si no hubiera learning rate. Por lo que los pesos de la red neuronal apenas se van a actualizar. Por lo que probando voy a usar esta fórmula\n",
    "\n",
    "$$lr = d_{model}^{-0.1} \\cdot min \\left(stepNumber^{-0.4}, stepNumber \\cdot stepWarmUp^{-2.6} \\right)$$\n",
    "\n",
    "Con lo que el learning rate evolucionaría así"
   ]
  },
  {
   "cell_type": "code",
   "execution_count": 37,
   "metadata": {},
   "outputs": [
    {
     "data": {
      "image/png": "[encoded data removed]",
      "text/plain": [
       "<Figure size 640x480 with 1 Axes>"
      ]
     },
     "metadata": {},
     "output_type": "display_data"
    }
   ],
   "source": [
    "warmup_steps = 4000\n",
    "num_steps_by_epoch = len(train_dataloader)\n",
    "step_num = np.arange(1, EPOCHS*num_steps_by_epoch, 10)\n",
    "step_num_exp = -0.4\n",
    "warmup_steps_exp = -2.6\n",
    "dim_embedding_exp = -0.1\n",
    "lr = np.power(dim_embedding, dim_embedding_exp) * np.minimum(np.power(step_num, step_num_exp), step_num * np.power(warmup_steps, warmup_steps_exp))\n",
    "\n",
    "plt.plot(step_num, lr)\n",
    "plt.xlabel('step_num')\n",
    "plt.ylabel('lr')\n",
    "plt.ylim(0, 0.0014)\n",
    "plt.show()"
   ]
  },
  {
   "cell_type": "code",
   "execution_count": 38,
   "metadata": {},
   "outputs": [],
   "source": [
    "import numpy as np\n",
    "\n",
    "def calculate_lr(step_num, dim_embeding_model=512, warmup_steps=4000):\n",
    "    step_num += 1e-7 # Avoid division by zero\n",
    "    step_num += STEP0\n",
    "    actual_step.set_step(step_num)\n",
    "    step_num_exp = -0.4\n",
    "    warmup_steps_exp = -2.6\n",
    "    dim_embeding_model_exp = -0.1\n",
    "    lr = np.power(dim_embeding_model, dim_embeding_model_exp) * np.minimum(np.power(step_num, step_num_exp), step_num * np.power(warmup_steps, warmup_steps_exp))\n",
    "    actual_lr.set_lr(lr)\n",
    "    return lr\n",
    "\n",
    "lr_lambda = lambda step: calculate_lr(step, dim_embeding_model=dim_embedding)\n",
    "if LR_SCHEDULER:\n",
    "    lr_scheduler = torch.optim.lr_scheduler.LambdaLR(optimizer, lr_lambda)"
   ]
  },
  {
   "cell_type": "markdown",
   "metadata": {},
   "source": [
    "### Validation loop ✔"
   ]
  },
  {
   "cell_type": "code",
   "execution_count": 39,
   "metadata": {},
   "outputs": [],
   "source": [
    "def greedy_decode(model, source, tokenizer_tgt, max_len, device, bs):\n",
    "    # Retrieving the indices from the start and end of sequences of the target tokens\n",
    "    sos_idx = tokenizer_tgt.token_to_id('[SOS]')    # Start of Sentence token index (2)\n",
    "    # eos_idx = tokenizer_tgt.token_to_id('[EOS]')    # End of Sentence token index (3)\n",
    "\n",
    "    # Computing the output of the encoder for the source sequence\n",
    "    encoder_output = model.encode(source)\n",
    "    \n",
    "    # Initializing the decoder input with the Start of Sentence token\n",
    "    decoder_input = torch.empty(bs,1).fill_(sos_idx).type_as(source).to(device)\n",
    "    \n",
    "    # Looping until the 'max_len', maximum length, is reached\n",
    "    while True:\n",
    "        if decoder_input.size(1) == max_len:\n",
    "            break\n",
    "            \n",
    "        # Building a mask for the decoder input\n",
    "        decoder_mask = create_mask(decoder_input.size(1)).to(device)\n",
    "        \n",
    "        # Calculating the output of the decoder\n",
    "        out = model.decode(encoder_output, decoder_input, decoder_mask)\n",
    "        \n",
    "        # Applying the projection layer to get the probabilities for the next token\n",
    "        prob = model.projection(out[:, -1])\n",
    "\n",
    "        # Selecting token with the highest probability\n",
    "        _, next_word = torch.max(prob, dim=1)\n",
    "        # decoder_input = torch.cat([decoder_input, torch.empty(1,1). type_as(source).fill_(next_word.item()).to(device)], dim=1)\n",
    "        decoder_input = torch.cat([decoder_input, next_word.unsqueeze(1)], dim=1)\n",
    "    \n",
    "    if len(decoder_input.shape) == 1:\n",
    "        decoder_input = decoder_input.unsqueeze(0)\n",
    "    elif len(decoder_input.shape) == 3:\n",
    "        decoder_input = decoder_input.squeeze(0)\n",
    "\n",
    "    return decoder_input # Sequence of tokens generated by the decoder\n"
   ]
  },
  {
   "cell_type": "code",
   "execution_count": 40,
   "metadata": {},
   "outputs": [],
   "source": [
    "from tqdm import tqdm\n",
    "\n",
    "import nltk\n",
    "from nltk.translate.bleu_score import sentence_bleu\n",
    "from nltk.translate.meteor_score import meteor_score\n",
    "\n",
    "def validation_loop(model, validation_ds, tokenizer_tgt, max_len, device):\n",
    "    model.eval() # Setting model to evaluation mode\n",
    "\n",
    "    # Calculating the number of batches in the validation dataset\n",
    "    dataset_size = len(validation_ds.dataset)  # Tamaño total del conjunto de datos\n",
    "    batch_size = validation_ds.batch_size      # Tamaño del batch\n",
    "    drop_last = validation_ds.drop_last        # Configuración de drop_last\n",
    "    num_batches = len(validation_ds)           # Número total de batches\n",
    "\n",
    "    # Calculating the total number of samples in the validation dataset\n",
    "    total_samples = batch_size * (num_batches - 1) + min(batch_size, dataset_size % batch_size)\n",
    "\n",
    "    # If drop_last is False and the dataset size is not divisible by the batch size, we need to add one more batch\n",
    "    if drop_last and dataset_size % batch_size != 0:\n",
    "        total_samples -= dataset_size % batch_size\n",
    "\n",
    "    # Initializing progress bar\n",
    "    progress_bar = tqdm(range(total_samples), desc = 'Processing validation examples') # Initializing progress bar\n",
    "\n",
    "    # Initializing lists to store scores\n",
    "    bleu_scores = []\n",
    "    meteor_scores = []\n",
    "    \n",
    "    # Creating evaluation loop\n",
    "    with torch.no_grad(): # Ensuring that no gradients are computed during this process\n",
    "        for batch in validation_ds:\n",
    "            # Loading input data and masks onto the GPU\n",
    "            encoder_input = batch['encoder_input'].to(device)\n",
    "            \n",
    "            # Applying the 'greedy_decode' function to get the model's output for the source text of the input batch\n",
    "            num_samples = len(batch['src_text'])\n",
    "            model_out_bs = greedy_decode(model, encoder_input, tokenizer_tgt, max_len, device, num_samples)\n",
    "\n",
    "            # Get metrics for every example in the batch\n",
    "            for i in range(num_samples):\n",
    "                source_text = batch['src_text'][i]\n",
    "                target_text = batch['tgt_text'][i]\n",
    "                model_out_i = model_out_bs[i]\n",
    "                model_out_text = tokenizer_tgt.decode(model_out_i.detach().cpu().numpy())\n",
    "\n",
    "                # Calculating metrics\n",
    "                references = [target_text.split()]\n",
    "                hypothesis = model_out_text.split()\n",
    "                bleu_score = sentence_bleu(references, hypothesis)\n",
    "                meteor_score_value = meteor_score(references, hypothesis)\n",
    "            \n",
    "                # Appending scores to lists\n",
    "                bleu_scores.append(bleu_score)\n",
    "                meteor_scores.append(meteor_score_value)\n",
    "\n",
    "                # Calculating mean scores            \n",
    "                mean_bleu_score = sum(bleu_scores)/len(bleu_scores) # Calculating mean BLEU score\n",
    "                mean_meteor_score = sum(meteor_scores)/len(meteor_scores) # Calculating mean METEOR score\n",
    "\n",
    "                # Updating progress bar and printing bleu and meteor scores\n",
    "                progress_bar.update(1)\n",
    "                progress_bar.set_postfix({'BLEU': f'{mean_bleu_score:.9f}', 'METEOR': f'{mean_meteor_score:.9f}'})\n",
    "\n",
    "    # Printing results\n",
    "    console_width = 80 # Fixed witdh for printed messages\n",
    "    print('-'*console_width)\n",
    "    print(f'SOURCE: {source_text}')\n",
    "    print(f'TARGET: {target_text}')\n",
    "    print(f'PREDICTED: {model_out_text}')\n",
    "    print('-'*console_width)\n",
    "\n",
    "    return mean_bleu_score, mean_meteor_score\n"
   ]
  },
  {
   "cell_type": "markdown",
   "metadata": {},
   "source": [
    "### Train loop ✔"
   ]
  },
  {
   "cell_type": "code",
   "execution_count": 41,
   "metadata": {},
   "outputs": [],
   "source": [
    "def train_loop(model, train_dataloader, device, tokenizer_target, epoch, loss_fn, optimizer, lr_scheduler=None):\n",
    "    # Initializing an iterator over the training dataloader\n",
    "    # We also use tqdm to display a progress bar\n",
    "    print()\n",
    "    batch_iterator = tqdm(train_dataloader, desc = f'Processing epoch {epoch:02d}')\n",
    "    \n",
    "    # For each batch...\n",
    "    for batch in batch_iterator:\n",
    "        model.train() # Train the model\n",
    "            \n",
    "        # Loading input data and masks onto the GPU\n",
    "        encoder_input = batch['encoder_input'].to(device)\n",
    "        decoder_input = batch['decoder_input'].to(device)\n",
    "        decoder_mask = create_mask(decoder_input.size(1)).to(device)\n",
    "        \n",
    "        # Running tensors through the Transformer\n",
    "        proj_output = model(encoder_input, decoder_input, decoder_mask)\n",
    "        \n",
    "        # Loading the target labels onto the GPU\n",
    "        label = batch['label'].to(device)\n",
    "        \n",
    "        # Computing loss between model's output and true labels\n",
    "        loss = loss_fn(proj_output.view(-1, tokenizer_target.get_vocab_size()), label.view(-1))\n",
    "        \n",
    "        # Updating progress bar, print loss and lr\n",
    "        batch_iterator.set_postfix({'loss': f'{loss.item():.6f}', 'lr': f'{actual_lr.get_lr():.9f}'})\n",
    "        \n",
    "        # Performing backpropagation\n",
    "        loss.backward()\n",
    "        \n",
    "        # Updating parameters based on the gradients\n",
    "        optimizer.step()\n",
    "        \n",
    "        # Clearing the gradients to prepare for the next batch\n",
    "        optimizer.zero_grad()\n",
    "\n",
    "        # Update step and LR\n",
    "        if LR_SCHEDULER:\n",
    "            lr_scheduler.step()\n",
    "        \n",
    "    return loss.item(), actual_lr.get_lr()"
   ]
  },
  {
   "cell_type": "markdown",
   "metadata": {},
   "source": [
    "### Train"
   ]
  },
  {
   "cell_type": "code",
   "execution_count": 42,
   "metadata": {},
   "outputs": [],
   "source": [
    "import time\n",
    "\n",
    "def elapsed_time(t0):\n",
    "    t = time.time() - t0  # tiempo transcurrido en segundos\n",
    "\n",
    "    # Convertir el tiempo a días, horas, minutos y segundos\n",
    "    days, t = divmod(t, 86400)  # 86400 segundos en un día\n",
    "    hours, t = divmod(t, 3600)  # 3600 segundos en una hora\n",
    "    minutes, seconds = divmod(t, 60)  # 60 segundos en un minuto\n",
    "\n",
    "    return int(days), int(hours), int(minutes), int(seconds)\n",
    "\n",
    "def elapsed_seconds(days, hours, minutes, seconds):\n",
    "    return days * 86400 + hours * 3600 + minutes * 60 + seconds\n"
   ]
  },
  {
   "cell_type": "code",
   "execution_count": 43,
   "metadata": {},
   "outputs": [
    {
     "name": "stdout",
     "output_type": "stream",
     "text": [
      "Starting training from epoch 0 and step 0, best bleu: 1e-20\n"
     ]
    }
   ],
   "source": [
    "if EPOCH0 != 0 or STEP0 != 0:\n",
    "    weights = f\"{MODEL_PATH}/transformer_{EPOCH0}_{STEP0}.pth\"\n",
    "    print(f\"Loading model from {weights}\")\n",
    "    if GPUS > 1:\n",
    "        model.load_state_dict(torch.load(weights))\n",
    "    else:\n",
    "        model = torch.load(weights, map_location=device)\n",
    "        if isinstance(model, nn.DataParallel):\n",
    "            print(\"Transforming model from data parallel to model\")\n",
    "            model = model.module\n",
    "    print(f\"Model loaded from {weights}\")\n",
    "\n",
    "    validation_file_path = f\"{MODEL_PATH}/best_validation_bleu_{EPOCH0}_{STEP0}.npy\"\n",
    "    print(f\"load best validation loss from {validation_file_path}\")\n",
    "    best_bleu = np.load(validation_file_path)\n",
    "    print(f\"best validation meteor: {best_bleu}\")\n",
    "else:\n",
    "    best_bleu = 1e-20\n",
    "\n",
    "print(f\"Starting training from epoch {EPOCH0} and step {STEP0}, best bleu: {best_bleu}\")\n"
   ]
  },
  {
   "cell_type": "code",
   "execution_count": 44,
   "metadata": {},
   "outputs": [],
   "source": [
    "train_loss_list = []\n",
    "train_lr_list = []\n",
    "validation_meteor_list = []\n",
    "validation_bleu_list = []\n",
    "\n",
    "train_loss_list = np.array(train_loss_list)\n",
    "train_lr_list = np.array(train_lr_list)\n",
    "validation_meteor_list = np.array(validation_meteor_list)\n",
    "validation_bleu_list = np.array(validation_bleu_list)"
   ]
  },
  {
   "cell_type": "code",
   "execution_count": 45,
   "metadata": {},
   "outputs": [
    {
     "name": "stdout",
     "output_type": "stream",
     "text": [
      "\n",
      "Epoch 0\n",
      "-------------------------------, 0 days, 0 hours, 0 minutes, 0 seconds\n",
      "\n"
     ]
    },
    {
     "name": "stderr",
     "output_type": "stream",
     "text": [
      "Processing epoch 00:   0%|          | 0/712 [00:00<?, ?it/s]"
     ]
    },
    {
     "name": "stderr",
     "output_type": "stream",
     "text": [
      "Processing epoch 00: 100%|██████████| 712/712 [08:19<00:00,  1.43it/s, loss=6.168778, lr=0.000000000]\n",
      "Processing validation examples:   0%|          | 0/1458 [00:00<?, ?it/s]/home/wallabot/miniforge3/envs/cursopytorch2/lib/python3.11/site-packages/nltk/translate/bleu_score.py:552: UserWarning: \n",
      "The hypothesis contains 0 counts of 2-gram overlaps.\n",
      "Therefore the BLEU score evaluates to 0, independently of\n",
      "how many N-gram overlaps of lower order it contains.\n",
      "Consider using lower n-gram order or use SmoothingFunction()\n",
      "  warnings.warn(_msg)\n",
      "/home/wallabot/miniforge3/envs/cursopytorch2/lib/python3.11/site-packages/nltk/translate/bleu_score.py:552: UserWarning: \n",
      "The hypothesis contains 0 counts of 3-gram overlaps.\n",
      "Therefore the BLEU score evaluates to 0, independently of\n",
      "how many N-gram overlaps of lower order it contains.\n",
      "Consider using lower n-gram order or use SmoothingFunction()\n",
      "  warnings.warn(_msg)\n",
      "/home/wallabot/miniforge3/envs/cursopytorch2/lib/python3.11/site-packages/nltk/translate/bleu_score.py:552: UserWarning: \n",
      "The hypothesis contains 0 counts of 4-gram overlaps.\n",
      "Therefore the BLEU score evaluates to 0, independently of\n",
      "how many N-gram overlaps of lower order it contains.\n",
      "Consider using lower n-gram order or use SmoothingFunction()\n",
      "  warnings.warn(_msg)\n",
      "Processing validation examples: 100%|██████████| 1458/1458 [00:04<00:00, 361.58it/s, BLEU=0.000000000, METEOR=0.039625785]\n"
     ]
    },
    {
     "name": "stdout",
     "output_type": "stream",
     "text": [
      "--------------------------------------------------------------------------------\n",
      "SOURCE: - It's like you're speaking Brazilian.\n",
      "TARGET: Como si hablaras en brasileño.\n",
      "PREDICTED: - - que que que que .\n",
      "--------------------------------------------------------------------------------\n",
      "\n",
      "Epoch 1\n",
      "-------------------------------, 0 days, 0 hours, 8 minutes, 23 seconds\n",
      "\n"
     ]
    },
    {
     "name": "stderr",
     "output_type": "stream",
     "text": [
      "Processing epoch 01: 100%|██████████| 712/712 [08:20<00:00,  1.42it/s, loss=5.848699, lr=0.000000000]\n",
      "Processing validation examples: 100%|██████████| 1458/1458 [00:03<00:00, 433.03it/s, BLEU=0.000000000, METEOR=0.045590318]\n"
     ]
    },
    {
     "name": "stdout",
     "output_type": "stream",
     "text": [
      "--------------------------------------------------------------------------------\n",
      "SOURCE: Sure. That's ashley kemp.\n",
      "TARGET: Claro, es Ashley Kemp.\n",
      "PREDICTED: . . . . . . . .\n",
      "--------------------------------------------------------------------------------\n",
      "\n",
      "Epoch 2\n",
      "-------------------------------, 0 days, 0 hours, 16 minutes, 47 seconds\n",
      "\n"
     ]
    },
    {
     "name": "stderr",
     "output_type": "stream",
     "text": [
      "Processing epoch 02: 100%|██████████| 712/712 [08:19<00:00,  1.43it/s, loss=5.546427, lr=0.000000000]\n",
      "Processing validation examples: 100%|██████████| 1458/1458 [00:03<00:00, 438.52it/s, BLEU=0.000000000, METEOR=0.056506392]\n"
     ]
    },
    {
     "name": "stdout",
     "output_type": "stream",
     "text": [
      "--------------------------------------------------------------------------------\n",
      "SOURCE: Un grupo de viejos amigos vuelven a reunirse.\n",
      "TARGET: Un grupo de viejos amigos vuelven a reunirse.\n",
      "PREDICTED: de de de . . . . .\n",
      "--------------------------------------------------------------------------------\n",
      "\n",
      "Epoch 3\n",
      "-------------------------------, 0 days, 0 hours, 25 minutes, 9 seconds\n",
      "\n"
     ]
    },
    {
     "name": "stderr",
     "output_type": "stream",
     "text": [
      "Processing epoch 03: 100%|██████████| 712/712 [08:19<00:00,  1.42it/s, loss=5.365097, lr=0.000000000]\n",
      "Processing validation examples: 100%|██████████| 1458/1458 [00:03<00:00, 461.31it/s, BLEU=0.000000000, METEOR=0.067677070]\n"
     ]
    },
    {
     "name": "stdout",
     "output_type": "stream",
     "text": [
      "--------------------------------------------------------------------------------\n",
      "SOURCE: Way over on the wet side\n",
      "TARGET: En el lado húmedo\n",
      "PREDICTED: en la la la la .\n",
      "--------------------------------------------------------------------------------\n",
      "\n",
      "Epoch 4\n",
      "-------------------------------, 0 days, 0 hours, 33 minutes, 32 seconds\n",
      "\n"
     ]
    },
    {
     "name": "stderr",
     "output_type": "stream",
     "text": [
      "Processing epoch 04: 100%|██████████| 712/712 [08:18<00:00,  1.43it/s, loss=5.133404, lr=0.000000000]\n",
      "Processing validation examples: 100%|██████████| 1458/1458 [00:03<00:00, 452.08it/s, BLEU=0.000311178, METEOR=0.086955792]\n"
     ]
    },
    {
     "name": "stdout",
     "output_type": "stream",
     "text": [
      "--------------------------------------------------------------------------------\n",
      "SOURCE: Top hats and spats, old chum.\n",
      "TARGET: Galeras y polainas, muchacho.\n",
      "PREDICTED: y y . . . . . . . .\n",
      "--------------------------------------------------------------------------------\n",
      "\n",
      "Epoch 5\n",
      "-------------------------------, 0 days, 0 hours, 41 minutes, 54 seconds\n",
      "\n"
     ]
    },
    {
     "name": "stderr",
     "output_type": "stream",
     "text": [
      "Processing epoch 05: 100%|██████████| 712/712 [08:19<00:00,  1.43it/s, loss=5.094721, lr=0.000000000]\n",
      "Processing validation examples: 100%|██████████| 1458/1458 [00:03<00:00, 459.89it/s, BLEU=0.000000000, METEOR=0.097667100]\n"
     ]
    },
    {
     "name": "stdout",
     "output_type": "stream",
     "text": [
      "--------------------------------------------------------------------------------\n",
      "SOURCE: Your sister seems to be way too short tempered.\n",
      "TARGET: Tu hermana parece ser demasiado mal genio.\n",
      "PREDICTED: Tu se se . . . . . . . .\n",
      "--------------------------------------------------------------------------------\n",
      "\n",
      "Epoch 6\n",
      "-------------------------------, 0 days, 0 hours, 50 minutes, 17 seconds\n",
      "\n"
     ]
    },
    {
     "name": "stderr",
     "output_type": "stream",
     "text": [
      "Processing epoch 06: 100%|██████████| 712/712 [08:19<00:00,  1.43it/s, loss=4.895029, lr=0.000000000]\n",
      "Processing validation examples: 100%|██████████| 1458/1458 [00:03<00:00, 427.05it/s, BLEU=0.000754660, METEOR=0.101971844]\n"
     ]
    },
    {
     "name": "stdout",
     "output_type": "stream",
     "text": [
      "--------------------------------------------------------------------------------\n",
      "SOURCE: I am prepared to kill for you, and you say that I am not like you.\n",
      "TARGET: Estoy dispuesto a matar por ti, y dices que no soy como tú.\n",
      "PREDICTED: No me voy a mí a mí , y no me voy a mí . . .\n",
      "--------------------------------------------------------------------------------\n",
      "\n",
      "Epoch 7\n",
      "-------------------------------, 0 days, 0 hours, 58 minutes, 40 seconds\n",
      "\n"
     ]
    },
    {
     "name": "stderr",
     "output_type": "stream",
     "text": [
      "Processing epoch 07: 100%|██████████| 712/712 [08:18<00:00,  1.43it/s, loss=4.794056, lr=0.000000000]\n",
      "Processing validation examples: 100%|██████████| 1458/1458 [00:03<00:00, 451.57it/s, BLEU=0.001061199, METEOR=0.106163842]\n"
     ]
    },
    {
     "name": "stdout",
     "output_type": "stream",
     "text": [
      "--------------------------------------------------------------------------------\n",
      "SOURCE: You know,you can't say that you weren't warned.\n",
      "TARGET: Tu sabes, no puedes decir que no estabas advertida.\n",
      "PREDICTED: No sabes que no te dije que no te . . . . .\n",
      "--------------------------------------------------------------------------------\n",
      "\n",
      "Epoch 8\n",
      "-------------------------------, 0 days, 1 hours, 7 minutes, 2 seconds\n",
      "\n"
     ]
    },
    {
     "name": "stderr",
     "output_type": "stream",
     "text": [
      "Processing epoch 08: 100%|██████████| 712/712 [08:18<00:00,  1.43it/s, loss=4.836474, lr=0.000000000]\n",
      "Processing validation examples: 100%|██████████| 1458/1458 [00:03<00:00, 451.59it/s, BLEU=0.001024475, METEOR=0.108909076]\n"
     ]
    },
    {
     "name": "stdout",
     "output_type": "stream",
     "text": [
      "--------------------------------------------------------------------------------\n",
      "SOURCE: I am prepared to kill for you, and you say that I am not like you.\n",
      "TARGET: Estoy dispuesto a matar por ti, y dices que no soy como tú.\n",
      "PREDICTED: Te gusta que no te gusta a ti , y no soy un . . . .\n",
      "--------------------------------------------------------------------------------\n",
      "\n",
      "Epoch 9\n",
      "-------------------------------, 0 days, 1 hours, 15 minutes, 24 seconds\n",
      "\n"
     ]
    },
    {
     "name": "stderr",
     "output_type": "stream",
     "text": [
      "Processing epoch 09: 100%|██████████| 712/712 [08:19<00:00,  1.43it/s, loss=4.696813, lr=0.000000000]\n",
      "Processing validation examples: 100%|██████████| 1458/1458 [00:03<00:00, 444.97it/s, BLEU=0.001142605, METEOR=0.114409267]\n"
     ]
    },
    {
     "name": "stdout",
     "output_type": "stream",
     "text": [
      "--------------------------------------------------------------------------------\n",
      "SOURCE: - Do you want to prevent her?\n",
      "TARGET: ¿Quieres impedírselo? No.\n",
      "PREDICTED: - ¿ Quieres que ? . . . . . . .\n",
      "--------------------------------------------------------------------------------\n",
      "\n",
      "Epoch 10\n",
      "-------------------------------, 0 days, 1 hours, 23 minutes, 47 seconds\n",
      "\n"
     ]
    },
    {
     "name": "stderr",
     "output_type": "stream",
     "text": [
      "Processing epoch 10: 100%|██████████| 712/712 [08:18<00:00,  1.43it/s, loss=4.610322, lr=0.000000000]\n",
      "Processing validation examples: 100%|██████████| 1458/1458 [00:03<00:00, 441.50it/s, BLEU=0.001521061, METEOR=0.118617279]\n"
     ]
    },
    {
     "name": "stdout",
     "output_type": "stream",
     "text": [
      "--------------------------------------------------------------------------------\n",
      "SOURCE: (Parliament rejected the proposal)\n",
      "TARGET: (El Parlamento rechaza la solicitud)\n",
      "PREDICTED: ( El Comisión ( Parlamento ) ) ) ) ) ) ) )\n",
      "--------------------------------------------------------------------------------\n",
      "\n",
      "Epoch 11\n",
      "-------------------------------, 0 days, 1 hours, 32 minutes, 9 seconds\n",
      "\n"
     ]
    },
    {
     "name": "stderr",
     "output_type": "stream",
     "text": [
      "Processing epoch 11: 100%|██████████| 712/712 [08:19<00:00,  1.43it/s, loss=4.569115, lr=0.000000000]\n",
      "Processing validation examples: 100%|██████████| 1458/1458 [00:03<00:00, 453.23it/s, BLEU=0.002217385, METEOR=0.121752760]\n"
     ]
    },
    {
     "name": "stdout",
     "output_type": "stream",
     "text": [
      "--------------------------------------------------------------------------------\n",
      "SOURCE: - Quite a factory you've got here.\n",
      "TARGET: Vaya factoría que te has montado aquí.\n",
      "PREDICTED: - Aquí tiene un aquí . . . . . . . .\n",
      "--------------------------------------------------------------------------------\n",
      "\n",
      "Epoch 12\n",
      "-------------------------------, 0 days, 1 hours, 40 minutes, 32 seconds\n",
      "\n"
     ]
    },
    {
     "name": "stderr",
     "output_type": "stream",
     "text": [
      "Processing epoch 12: 100%|██████████| 712/712 [08:19<00:00,  1.43it/s, loss=4.488505, lr=0.000000000]\n",
      "Processing validation examples: 100%|██████████| 1458/1458 [00:03<00:00, 448.05it/s, BLEU=0.002114262, METEOR=0.125007360]\n"
     ]
    },
    {
     "name": "stdout",
     "output_type": "stream",
     "text": [
      "--------------------------------------------------------------------------------\n",
      "SOURCE: I'm just watching the pheromones ooze from your body.\n",
      "TARGET: Estoy viendo las feromonas saliendo de tu cuerpo.\n",
      "PREDICTED: Me el de tu . de tu . . . . .\n",
      "--------------------------------------------------------------------------------\n",
      "\n",
      "Epoch 13\n",
      "-------------------------------, 0 days, 1 hours, 48 minutes, 54 seconds\n",
      "\n"
     ]
    },
    {
     "name": "stderr",
     "output_type": "stream",
     "text": [
      "Processing epoch 13: 100%|██████████| 712/712 [08:18<00:00,  1.43it/s, loss=4.519080, lr=0.000000000]\n",
      "Processing validation examples: 100%|██████████| 1458/1458 [00:03<00:00, 456.47it/s, BLEU=0.002470066, METEOR=0.127758479]\n"
     ]
    },
    {
     "name": "stdout",
     "output_type": "stream",
     "text": [
      "--------------------------------------------------------------------------------\n",
      "SOURCE: To my parents' till I get myself together.\n",
      "TARGET: A la casa de mis padres, hasta que encuentre algo.\n",
      "PREDICTED: Por Dios me a mis padres . . . . . .\n",
      "--------------------------------------------------------------------------------\n",
      "\n",
      "Epoch 14\n",
      "-------------------------------, 0 days, 1 hours, 57 minutes, 16 seconds\n",
      "\n"
     ]
    },
    {
     "name": "stderr",
     "output_type": "stream",
     "text": [
      "Processing epoch 14: 100%|██████████| 712/712 [08:19<00:00,  1.43it/s, loss=4.366902, lr=0.000000000]\n",
      "Processing validation examples: 100%|██████████| 1458/1458 [00:03<00:00, 449.29it/s, BLEU=0.002205229, METEOR=0.131500343]\n"
     ]
    },
    {
     "name": "stdout",
     "output_type": "stream",
     "text": [
      "--------------------------------------------------------------------------------\n",
      "SOURCE: How's your baby?\n",
      "TARGET: ¿Cómo está tu hijo?\n",
      "PREDICTED: ¿ Cómo está tu bebé ? . . . . . . .\n",
      "--------------------------------------------------------------------------------\n",
      "\n",
      "Epoch 15\n",
      "-------------------------------, 0 days, 2 hours, 5 minutes, 39 seconds\n",
      "\n"
     ]
    },
    {
     "name": "stderr",
     "output_type": "stream",
     "text": [
      "Processing epoch 15: 100%|██████████| 712/712 [08:19<00:00,  1.43it/s, loss=4.375132, lr=0.000000000]\n",
      "Processing validation examples: 100%|██████████| 1458/1458 [00:03<00:00, 458.15it/s, BLEU=0.002656825, METEOR=0.132759307]\n"
     ]
    },
    {
     "name": "stdout",
     "output_type": "stream",
     "text": [
      "--------------------------------------------------------------------------------\n",
      "SOURCE: I will not kill! Not even my enemies.\n",
      "TARGET: Ni siquiera mis enemigos.\n",
      "PREDICTED: No me a mis . . . . . . . .\n",
      "--------------------------------------------------------------------------------\n",
      "\n",
      "Epoch 16\n",
      "-------------------------------, 0 days, 2 hours, 14 minutes, 1 seconds\n",
      "\n"
     ]
    },
    {
     "name": "stderr",
     "output_type": "stream",
     "text": [
      "Processing epoch 16: 100%|██████████| 712/712 [08:19<00:00,  1.43it/s, loss=4.424488, lr=0.000000000]\n",
      "Processing validation examples: 100%|██████████| 1458/1458 [00:03<00:00, 448.72it/s, BLEU=0.003341822, METEOR=0.137717138]\n"
     ]
    },
    {
     "name": "stdout",
     "output_type": "stream",
     "text": [
      "--------------------------------------------------------------------------------\n",
      "SOURCE: - When shall we know?\n",
      "TARGET: - ¿Cuándo lo sabremos?\n",
      "PREDICTED: - ¿ Cuándo lo sabemos ? . . . . . . .\n",
      "--------------------------------------------------------------------------------\n",
      "\n",
      "Epoch 17\n",
      "-------------------------------, 0 days, 2 hours, 22 minutes, 24 seconds\n",
      "\n"
     ]
    },
    {
     "name": "stderr",
     "output_type": "stream",
     "text": [
      "Processing epoch 17: 100%|██████████| 712/712 [08:19<00:00,  1.42it/s, loss=4.160849, lr=0.000000000]\n",
      "Processing validation examples: 100%|██████████| 1458/1458 [00:03<00:00, 453.81it/s, BLEU=0.003261939, METEOR=0.139135188]\n"
     ]
    },
    {
     "name": "stdout",
     "output_type": "stream",
     "text": [
      "--------------------------------------------------------------------------------\n",
      "SOURCE: We know that Karen controls the Espheni defenses up and down the eastern seaboard.\n",
      "TARGET: Sabemos que Karen controla las defensas Espheni en todo el tablero del este.\n",
      "PREDICTED: Sabes que los en los y los del . . . .\n",
      "--------------------------------------------------------------------------------\n",
      "\n",
      "Epoch 18\n",
      "-------------------------------, 0 days, 2 hours, 30 minutes, 47 seconds\n",
      "\n"
     ]
    },
    {
     "name": "stderr",
     "output_type": "stream",
     "text": [
      "Processing epoch 18: 100%|██████████| 712/712 [08:19<00:00,  1.43it/s, loss=4.179216, lr=0.000000000]\n",
      "Processing validation examples: 100%|██████████| 1458/1458 [00:03<00:00, 452.65it/s, BLEU=0.003358601, METEOR=0.138522243]\n"
     ]
    },
    {
     "name": "stdout",
     "output_type": "stream",
     "text": [
      "--------------------------------------------------------------------------------\n",
      "SOURCE: - Let's do this.Here you go.Let's go!\n",
      "TARGET: Hagámoslo. Aquí tienes. ¡Vamos!\n",
      "PREDICTED: - Vamos , vamos a hacer esto . . . . . . .\n",
      "--------------------------------------------------------------------------------\n",
      "\n",
      "Epoch 19\n",
      "-------------------------------, 0 days, 2 hours, 39 minutes, 9 seconds\n",
      "\n"
     ]
    },
    {
     "name": "stderr",
     "output_type": "stream",
     "text": [
      "Processing epoch 19: 100%|██████████| 712/712 [08:18<00:00,  1.43it/s, loss=4.153491, lr=0.000000000]\n",
      "Processing validation examples: 100%|██████████| 1458/1458 [00:03<00:00, 455.45it/s, BLEU=0.003751698, METEOR=0.143737876] \n"
     ]
    },
    {
     "name": "stdout",
     "output_type": "stream",
     "text": [
      "--------------------------------------------------------------------------------\n",
      "SOURCE: Subprogramme 2 Information services\n",
      "TARGET: Subprograma 2 Servicios de información\n",
      "PREDICTED: 2 de servicios de servicios\n",
      "--------------------------------------------------------------------------------\n",
      "\n",
      "Epoch 20\n",
      "-------------------------------, 0 days, 2 hours, 47 minutes, 31 seconds\n",
      "\n"
     ]
    },
    {
     "name": "stderr",
     "output_type": "stream",
     "text": [
      "Processing epoch 20: 100%|██████████| 712/712 [08:19<00:00,  1.43it/s, loss=4.217690, lr=0.000000000]\n",
      "Processing validation examples: 100%|██████████| 1458/1458 [00:03<00:00, 451.65it/s, BLEU=0.003251415, METEOR=0.145189107]\n"
     ]
    },
    {
     "name": "stdout",
     "output_type": "stream",
     "text": [
      "--------------------------------------------------------------------------------\n",
      "SOURCE: Did you really see humans?\n",
      "TARGET: ¿En realidad has visto humanos?\n",
      "PREDICTED: ¿ Has visto los humanos ? . . . . . . .\n",
      "--------------------------------------------------------------------------------\n",
      "\n",
      "Epoch 21\n",
      "-------------------------------, 0 days, 2 hours, 55 minutes, 54 seconds\n",
      "\n"
     ]
    },
    {
     "name": "stderr",
     "output_type": "stream",
     "text": [
      "Processing epoch 21: 100%|██████████| 712/712 [08:20<00:00,  1.42it/s, loss=4.096141, lr=0.000000000]\n",
      "Processing validation examples: 100%|██████████| 1458/1458 [00:03<00:00, 448.12it/s, BLEU=0.004029970, METEOR=0.147195330]\n"
     ]
    },
    {
     "name": "stdout",
     "output_type": "stream",
     "text": [
      "--------------------------------------------------------------------------------\n",
      "SOURCE: - no,no,jesus-- - no,I won't sign her death warrant.\n",
      "TARGET: - No, no, Jesús... - No quiero firmar su sentencia de muerte.\n",
      "PREDICTED: - No , no , no , no , no , no , no , no a la muerte .\n",
      "--------------------------------------------------------------------------------\n",
      "\n",
      "Epoch 22\n",
      "-------------------------------, 0 days, 3 hours, 4 minutes, 17 seconds\n",
      "\n"
     ]
    },
    {
     "name": "stderr",
     "output_type": "stream",
     "text": [
      "Processing epoch 22: 100%|██████████| 712/712 [08:19<00:00,  1.42it/s, loss=4.127289, lr=0.000000000]\n",
      "Processing validation examples: 100%|██████████| 1458/1458 [00:03<00:00, 443.78it/s, BLEU=0.003238016, METEOR=0.148255736]\n"
     ]
    },
    {
     "name": "stdout",
     "output_type": "stream",
     "text": [
      "--------------------------------------------------------------------------------\n",
      "SOURCE: J'onn, are you--?\n",
      "TARGET: ¿J'onn, estás...?\n",
      "PREDICTED: , ¿ qué estás haciendo ? , ,\n",
      "--------------------------------------------------------------------------------\n",
      "\n",
      "Epoch 23\n",
      "-------------------------------, 0 days, 3 hours, 12 minutes, 40 seconds\n",
      "\n"
     ]
    },
    {
     "name": "stderr",
     "output_type": "stream",
     "text": [
      "Processing epoch 23: 100%|██████████| 712/712 [08:19<00:00,  1.43it/s, loss=4.063649, lr=0.000000000]\n",
      "Processing validation examples: 100%|██████████| 1458/1458 [00:03<00:00, 444.47it/s, BLEU=0.003247217, METEOR=0.151011651]\n"
     ]
    },
    {
     "name": "stdout",
     "output_type": "stream",
     "text": [
      "--------------------------------------------------------------------------------\n",
      "SOURCE: Meeting like theives.\n",
      "TARGET: De que nos veamos así, como ladrones.\n",
      "PREDICTED: como . . . . . . . . .\n",
      "--------------------------------------------------------------------------------\n",
      "\n",
      "Epoch 24\n",
      "-------------------------------, 0 days, 3 hours, 21 minutes, 3 seconds\n",
      "\n"
     ]
    },
    {
     "name": "stderr",
     "output_type": "stream",
     "text": [
      "Processing epoch 24: 100%|██████████| 712/712 [08:19<00:00,  1.42it/s, loss=3.949463, lr=0.000000000]\n",
      "Processing validation examples: 100%|██████████| 1458/1458 [00:03<00:00, 438.62it/s, BLEU=0.003962895, METEOR=0.153569831]\n"
     ]
    },
    {
     "name": "stdout",
     "output_type": "stream",
     "text": [
      "--------------------------------------------------------------------------------\n",
      "SOURCE: - I earn my living!\n",
      "TARGET: - ¡Me gano la vida!\n",
      "PREDICTED: - ¡ Yo me ! . . . . . . .\n",
      "--------------------------------------------------------------------------------\n",
      "\n",
      "Epoch 25\n",
      "-------------------------------, 0 days, 3 hours, 29 minutes, 26 seconds\n",
      "\n"
     ]
    },
    {
     "name": "stderr",
     "output_type": "stream",
     "text": [
      "Processing epoch 25: 100%|██████████| 712/712 [08:19<00:00,  1.42it/s, loss=3.992885, lr=0.000000000]\n",
      "Processing validation examples: 100%|██████████| 1458/1458 [00:03<00:00, 444.45it/s, BLEU=0.003697189, METEOR=0.155334264]\n"
     ]
    },
    {
     "name": "stdout",
     "output_type": "stream",
     "text": [
      "--------------------------------------------------------------------------------\n",
      "SOURCE: You know,you can't say that you weren't warned.\n",
      "TARGET: Tu sabes, no puedes decir que no estabas advertida.\n",
      "PREDICTED: Sabes , no sabes que no puedes decir que no lo dijiste . . . .\n",
      "--------------------------------------------------------------------------------\n",
      "\n",
      "Epoch 26\n",
      "-------------------------------, 0 days, 3 hours, 37 minutes, 49 seconds\n",
      "\n"
     ]
    },
    {
     "name": "stderr",
     "output_type": "stream",
     "text": [
      "Processing epoch 26: 100%|██████████| 712/712 [08:19<00:00,  1.43it/s, loss=3.894267, lr=0.000000000]\n",
      "Processing validation examples: 100%|██████████| 1458/1458 [00:03<00:00, 443.89it/s, BLEU=0.004455754, METEOR=0.156104549]\n"
     ]
    },
    {
     "name": "stdout",
     "output_type": "stream",
     "text": [
      "--------------------------------------------------------------------------------\n",
      "SOURCE: I'm used to the way the children live at Downton, but it seems odd.\n",
      "TARGET: Me acostumbré a cómo los niños viven en Downton, pero aún es extraño.\n",
      "PREDICTED: Me gusta ser como los personas , pero me gusta ser en el pueblo . . .\n",
      "--------------------------------------------------------------------------------\n",
      "\n",
      "Epoch 27\n",
      "-------------------------------, 0 days, 3 hours, 46 minutes, 12 seconds\n",
      "\n"
     ]
    },
    {
     "name": "stderr",
     "output_type": "stream",
     "text": [
      "Processing epoch 27: 100%|██████████| 712/712 [08:19<00:00,  1.43it/s, loss=3.951819, lr=0.000000000]\n",
      "Processing validation examples: 100%|██████████| 1458/1458 [00:03<00:00, 458.33it/s, BLEU=0.005237675, METEOR=0.156582271]\n"
     ]
    },
    {
     "name": "stdout",
     "output_type": "stream",
     "text": [
      "--------------------------------------------------------------------------------\n",
      "SOURCE: But that's fine. Is it?\n",
      "TARGET: Pero está bien ¿no?\n",
      "PREDICTED: Pero eso está bien . . . . . . . .\n",
      "--------------------------------------------------------------------------------\n",
      "\n",
      "Epoch 28\n",
      "-------------------------------, 0 days, 3 hours, 54 minutes, 34 seconds\n",
      "\n"
     ]
    },
    {
     "name": "stderr",
     "output_type": "stream",
     "text": [
      "Processing epoch 28: 100%|██████████| 712/712 [08:19<00:00,  1.42it/s, loss=3.878961, lr=0.000000000]\n",
      "Processing validation examples: 100%|██████████| 1458/1458 [00:03<00:00, 445.45it/s, BLEU=0.004925468, METEOR=0.156994193]\n"
     ]
    },
    {
     "name": "stdout",
     "output_type": "stream",
     "text": [
      "--------------------------------------------------------------------------------\n",
      "SOURCE: Endless Summer, Local Boys.\n",
      "TARGET: Verano Sin Fin, Muchachos Locales.\n",
      "PREDICTED: , verano , . . . . . . . .\n",
      "--------------------------------------------------------------------------------\n",
      "\n",
      "Epoch 29\n",
      "-------------------------------, 0 days, 4 hours, 2 minutes, 57 seconds\n",
      "\n"
     ]
    },
    {
     "name": "stderr",
     "output_type": "stream",
     "text": [
      "Processing epoch 29: 100%|██████████| 712/712 [08:20<00:00,  1.42it/s, loss=3.964873, lr=0.000000000]\n",
      "Processing validation examples: 100%|██████████| 1458/1458 [00:03<00:00, 448.83it/s, BLEU=0.004946524, METEOR=0.160709783]\n"
     ]
    },
    {
     "name": "stdout",
     "output_type": "stream",
     "text": [
      "--------------------------------------------------------------------------------\n",
      "SOURCE: Larry you can't keep on carrying a secret like that.\n",
      "TARGET: Larry, ...no puedes algo así en secreto.\n",
      "PREDICTED: No puedes que no puedes . . . . . . .\n",
      "--------------------------------------------------------------------------------\n",
      "\n",
      "Epoch 30\n",
      "-------------------------------, 0 days, 4 hours, 11 minutes, 21 seconds\n",
      "\n"
     ]
    },
    {
     "name": "stderr",
     "output_type": "stream",
     "text": [
      "Processing epoch 30: 100%|██████████| 712/712 [08:19<00:00,  1.43it/s, loss=3.860911, lr=0.000000000]\n",
      "Processing validation examples: 100%|██████████| 1458/1458 [00:03<00:00, 447.81it/s, BLEU=0.005791962, METEOR=0.157589257]\n"
     ]
    },
    {
     "name": "stdout",
     "output_type": "stream",
     "text": [
      "--------------------------------------------------------------------------------\n",
      "SOURCE: There is a fraying link in Arthur's chain.\n",
      "TARGET: Hay un eslabón a punto de partirse en la cadena de Arturo.\n",
      "PREDICTED: Hay un de en el . . . . . .\n",
      "--------------------------------------------------------------------------------\n",
      "\n",
      "Epoch 31\n",
      "-------------------------------, 0 days, 4 hours, 19 minutes, 44 seconds\n",
      "\n"
     ]
    },
    {
     "name": "stderr",
     "output_type": "stream",
     "text": [
      "Processing epoch 31: 100%|██████████| 712/712 [08:19<00:00,  1.42it/s, loss=3.846123, lr=0.000000000]\n",
      "Processing validation examples: 100%|██████████| 1458/1458 [00:03<00:00, 452.11it/s, BLEU=0.006724168, METEOR=0.164106697]\n"
     ]
    },
    {
     "name": "stdout",
     "output_type": "stream",
     "text": [
      "--------------------------------------------------------------------------------\n",
      "SOURCE: 8.5; communication No. 458/1991, Mukong v.\n",
      "TARGET: 8.5; comunicación Nº 458/1991, Mukong c.\n",
      "PREDICTED: 8 . 8 . 8 . 8 . 8 , párr . . . .\n",
      "--------------------------------------------------------------------------------\n",
      "\n",
      "Epoch 32\n",
      "-------------------------------, 0 days, 4 hours, 28 minutes, 7 seconds\n",
      "\n"
     ]
    },
    {
     "name": "stderr",
     "output_type": "stream",
     "text": [
      "Processing epoch 32: 100%|██████████| 712/712 [08:19<00:00,  1.43it/s, loss=3.854848, lr=0.000000000]\n",
      "Processing validation examples: 100%|██████████| 1458/1458 [00:03<00:00, 452.90it/s, BLEU=0.006632564, METEOR=0.165047515]\n"
     ]
    },
    {
     "name": "stdout",
     "output_type": "stream",
     "text": [
      "--------------------------------------------------------------------------------\n",
      "SOURCE: We only became in love after she left.\n",
      "TARGET: Nos enamoramos cuando ya se había ido.\n",
      "PREDICTED: Sólo se cuando se . . . . . .\n",
      "--------------------------------------------------------------------------------\n",
      "\n",
      "Epoch 33\n",
      "-------------------------------, 0 days, 4 hours, 36 minutes, 30 seconds\n",
      "\n"
     ]
    },
    {
     "name": "stderr",
     "output_type": "stream",
     "text": [
      "Processing epoch 33: 100%|██████████| 712/712 [08:19<00:00,  1.43it/s, loss=3.824522, lr=0.000000000]\n",
      "Processing validation examples: 100%|██████████| 1458/1458 [00:03<00:00, 448.01it/s, BLEU=0.006155054, METEOR=0.164448308]\n"
     ]
    },
    {
     "name": "stdout",
     "output_type": "stream",
     "text": [
      "--------------------------------------------------------------------------------\n",
      "SOURCE: (Announcer) They will be pushed to new heights...\n",
      "TARGET: Serán empujado a nuevas alturas ...\n",
      "PREDICTED: a ) los nuevos nuevos nuevos nuevos horas ; ... ... ... ... ...\n",
      "--------------------------------------------------------------------------------\n",
      "\n",
      "Epoch 34\n",
      "-------------------------------, 0 days, 4 hours, 44 minutes, 52 seconds\n",
      "\n"
     ]
    },
    {
     "name": "stderr",
     "output_type": "stream",
     "text": [
      "Processing epoch 34: 100%|██████████| 712/712 [08:18<00:00,  1.43it/s, loss=3.843793, lr=0.000000000]\n",
      "Processing validation examples: 100%|██████████| 1458/1458 [00:03<00:00, 452.80it/s, BLEU=0.006788060, METEOR=0.164054825]\n"
     ]
    },
    {
     "name": "stdout",
     "output_type": "stream",
     "text": [
      "--------------------------------------------------------------------------------\n",
      "SOURCE: That is an inevitable reality - the question is 'when?'\n",
      "TARGET: Esa es una realidad inevitable, la cuestión es cuándo.\n",
      "PREDICTED: Es una gran historia de la causa de la causa de la historia , ¿ verdad ?\n",
      "--------------------------------------------------------------------------------\n",
      "\n",
      "Epoch 35\n",
      "-------------------------------, 0 days, 4 hours, 53 minutes, 15 seconds\n",
      "\n"
     ]
    },
    {
     "name": "stderr",
     "output_type": "stream",
     "text": [
      "Processing epoch 35: 100%|██████████| 712/712 [08:19<00:00,  1.42it/s, loss=3.754734, lr=0.000000000]\n",
      "Processing validation examples: 100%|██████████| 1458/1458 [00:03<00:00, 446.39it/s, BLEU=0.006411821, METEOR=0.164978338]\n"
     ]
    },
    {
     "name": "stdout",
     "output_type": "stream",
     "text": [
      "--------------------------------------------------------------------------------\n",
      "SOURCE: No one has the right to make anyone swear it perhaps\n",
      "TARGET: Nadie tiene el derecho de hacerle jurar a alguien algo así.\n",
      "PREDICTED: Nadie debe haber hecho la que le a nadie . . . .\n",
      "--------------------------------------------------------------------------------\n",
      "\n",
      "Epoch 36\n",
      "-------------------------------, 0 days, 5 hours, 1 minutes, 38 seconds\n",
      "\n"
     ]
    },
    {
     "name": "stderr",
     "output_type": "stream",
     "text": [
      "Processing epoch 36: 100%|██████████| 712/712 [08:19<00:00,  1.42it/s, loss=3.782715, lr=0.000000000]\n",
      "Processing validation examples: 100%|██████████| 1458/1458 [00:03<00:00, 456.43it/s, BLEU=0.007052102, METEOR=0.162205001]\n"
     ]
    },
    {
     "name": "stdout",
     "output_type": "stream",
     "text": [
      "--------------------------------------------------------------------------------\n",
      "SOURCE: I know you think that job wasn't right for me anyway.\n",
      "TARGET: Ya sé que pensabas que ese trabajo no era el adecuado para mí.\n",
      "PREDICTED: Sé que no sabía que es bueno para mí . de mí . . . .\n",
      "--------------------------------------------------------------------------------\n",
      "\n",
      "Epoch 37\n",
      "-------------------------------, 0 days, 5 hours, 10 minutes, 1 seconds\n",
      "\n"
     ]
    },
    {
     "name": "stderr",
     "output_type": "stream",
     "text": [
      "Processing epoch 37: 100%|██████████| 712/712 [08:19<00:00,  1.42it/s, loss=3.713181, lr=0.000000000]\n",
      "Processing validation examples: 100%|██████████| 1458/1458 [00:03<00:00, 463.50it/s, BLEU=0.006486387, METEOR=0.167642038]\n"
     ]
    },
    {
     "name": "stdout",
     "output_type": "stream",
     "text": [
      "--------------------------------------------------------------------------------\n",
      "SOURCE: - That's a lot of work.\n",
      "TARGET: - Es mucho trabajo.\n",
      "PREDICTED: - Es mucho trabajo . . . . . . . .\n",
      "--------------------------------------------------------------------------------\n",
      "\n",
      "Epoch 38\n",
      "-------------------------------, 0 days, 5 hours, 18 minutes, 24 seconds\n",
      "\n"
     ]
    },
    {
     "name": "stderr",
     "output_type": "stream",
     "text": [
      "Processing epoch 38: 100%|██████████| 712/712 [08:19<00:00,  1.42it/s, loss=3.691955, lr=0.000000000]\n",
      "Processing validation examples: 100%|██████████| 1458/1458 [00:03<00:00, 446.20it/s, BLEU=0.006815084, METEOR=0.166508619]\n"
     ]
    },
    {
     "name": "stdout",
     "output_type": "stream",
     "text": [
      "--------------------------------------------------------------------------------\n",
      "SOURCE: Perhaps we can use him in Las Vegas.\n",
      "TARGET: Puede sernos útil en Las Vegas.\n",
      "PREDICTED: Tal vez deberíamos ver a Las Vegas . . . . . . .\n",
      "--------------------------------------------------------------------------------\n",
      "\n",
      "Epoch 39\n",
      "-------------------------------, 0 days, 5 hours, 26 minutes, 47 seconds\n",
      "\n"
     ]
    },
    {
     "name": "stderr",
     "output_type": "stream",
     "text": [
      "Processing epoch 39: 100%|██████████| 712/712 [08:19<00:00,  1.43it/s, loss=3.757225, lr=0.000000000]\n",
      "Processing validation examples: 100%|██████████| 1458/1458 [00:03<00:00, 450.73it/s, BLEU=0.007971166, METEOR=0.170948917]\n"
     ]
    },
    {
     "name": "stdout",
     "output_type": "stream",
     "text": [
      "--------------------------------------------------------------------------------\n",
      "SOURCE: He's got two pools. Who wouldn't marry him?\n",
      "TARGET: Tiene dos piscinas, ¿quién no querría?\n",
      "PREDICTED: ¿ Quién tiene dos ? . . . . . . .\n",
      "--------------------------------------------------------------------------------\n",
      "\n",
      "Epoch 40\n",
      "-------------------------------, 0 days, 5 hours, 35 minutes, 9 seconds\n",
      "\n"
     ]
    },
    {
     "name": "stderr",
     "output_type": "stream",
     "text": [
      "Processing epoch 40: 100%|██████████| 712/712 [08:19<00:00,  1.42it/s, loss=3.667709, lr=0.000000000]\n",
      "Processing validation examples: 100%|██████████| 1458/1458 [00:03<00:00, 442.78it/s, BLEU=0.007610489, METEOR=0.172035643]\n"
     ]
    },
    {
     "name": "stdout",
     "output_type": "stream",
     "text": [
      "--------------------------------------------------------------------------------\n",
      "SOURCE: - The plane?\n",
      "TARGET: ¿ - El avión?\n",
      "PREDICTED: - ¿ El avión ? . . . . . . . .\n",
      "--------------------------------------------------------------------------------\n",
      "\n",
      "Epoch 41\n",
      "-------------------------------, 0 days, 5 hours, 43 minutes, 32 seconds\n",
      "\n"
     ]
    },
    {
     "name": "stderr",
     "output_type": "stream",
     "text": [
      "Processing epoch 41: 100%|██████████| 712/712 [08:19<00:00,  1.43it/s, loss=3.665800, lr=0.000000000]\n",
      "Processing validation examples: 100%|██████████| 1458/1458 [00:03<00:00, 436.21it/s, BLEU=0.007416143, METEOR=0.172869497]\n"
     ]
    },
    {
     "name": "stdout",
     "output_type": "stream",
     "text": [
      "--------------------------------------------------------------------------------\n",
      "SOURCE: So I'm a liar?\n",
      "TARGET: ¿Yo soy una mentirosa?\n",
      "PREDICTED: ¿ Soy un mentiroso ? . . . . . . .\n",
      "--------------------------------------------------------------------------------\n",
      "\n",
      "Epoch 42\n",
      "-------------------------------, 0 days, 5 hours, 51 minutes, 55 seconds\n",
      "\n"
     ]
    },
    {
     "name": "stderr",
     "output_type": "stream",
     "text": [
      "Processing epoch 42: 100%|██████████| 712/712 [08:19<00:00,  1.42it/s, loss=3.723778, lr=0.000000000]\n",
      "Processing validation examples: 100%|██████████| 1458/1458 [00:03<00:00, 450.32it/s, BLEU=0.007503981, METEOR=0.172500971]\n"
     ]
    },
    {
     "name": "stdout",
     "output_type": "stream",
     "text": [
      "--------------------------------------------------------------------------------\n",
      "SOURCE: (Parliament rejected the proposal)\n",
      "TARGET: (El Parlamento rechaza la solicitud)\n",
      "PREDICTED: ( El Parlamento aprueba la propuesta ) . de la propuesta de la propuesta de la propuesta ( propuesta\n",
      "--------------------------------------------------------------------------------\n",
      "\n",
      "Epoch 43\n",
      "-------------------------------, 0 days, 6 hours, 0 minutes, 18 seconds\n",
      "\n"
     ]
    },
    {
     "name": "stderr",
     "output_type": "stream",
     "text": [
      "Processing epoch 43: 100%|██████████| 712/712 [08:18<00:00,  1.43it/s, loss=3.577469, lr=0.000000000]\n",
      "Processing validation examples: 100%|██████████| 1458/1458 [00:03<00:00, 445.74it/s, BLEU=0.007742499, METEOR=0.174154865]\n"
     ]
    },
    {
     "name": "stdout",
     "output_type": "stream",
     "text": [
      "--------------------------------------------------------------------------------\n",
      "SOURCE: - Earl, you'll wake the baby.\n",
      "TARGET: - Earl, despertarás al bebé.\n",
      "PREDICTED: - Earl , puedes ir al bebé . . . . . . .\n",
      "--------------------------------------------------------------------------------\n",
      "\n",
      "Epoch 44\n",
      "-------------------------------, 0 days, 6 hours, 8 minutes, 40 seconds\n",
      "\n"
     ]
    },
    {
     "name": "stderr",
     "output_type": "stream",
     "text": [
      "Processing epoch 44: 100%|██████████| 712/712 [08:20<00:00,  1.42it/s, loss=3.678160, lr=0.000000000]\n",
      "Processing validation examples: 100%|██████████| 1458/1458 [00:03<00:00, 439.73it/s, BLEU=0.007771963, METEOR=0.177113840]\n"
     ]
    },
    {
     "name": "stdout",
     "output_type": "stream",
     "text": [
      "--------------------------------------------------------------------------------\n",
      "SOURCE: Come on, you must have something to say to me.\n",
      "TARGET: Anda, algo tendrás que contarme.\n",
      "PREDICTED: Vamos , tienes que tener que decirme algo . . . . . .\n",
      "--------------------------------------------------------------------------------\n",
      "\n",
      "Epoch 45\n",
      "-------------------------------, 0 days, 6 hours, 17 minutes, 3 seconds\n",
      "\n"
     ]
    },
    {
     "name": "stderr",
     "output_type": "stream",
     "text": [
      "Processing epoch 45: 100%|██████████| 712/712 [08:19<00:00,  1.43it/s, loss=3.630943, lr=0.000000000]\n",
      "Processing validation examples: 100%|██████████| 1458/1458 [00:03<00:00, 443.75it/s, BLEU=0.007918594, METEOR=0.175404772]\n"
     ]
    },
    {
     "name": "stdout",
     "output_type": "stream",
     "text": [
      "--------------------------------------------------------------------------------\n",
      "SOURCE: Emergency rehearsal?\n",
      "TARGET: ¿Ensayo urgente?\n",
      "PREDICTED: ¿ El ensayo de emergencia ? . . de la estación de emergencia de emergencia . .\n",
      "--------------------------------------------------------------------------------\n",
      "\n",
      "Epoch 46\n",
      "-------------------------------, 0 days, 6 hours, 25 minutes, 26 seconds\n",
      "\n"
     ]
    },
    {
     "name": "stderr",
     "output_type": "stream",
     "text": [
      "Processing epoch 46: 100%|██████████| 712/712 [08:19<00:00,  1.43it/s, loss=3.535844, lr=0.000000000]\n",
      "Processing validation examples: 100%|██████████| 1458/1458 [00:03<00:00, 453.48it/s, BLEU=0.008394640, METEOR=0.178341989]\n"
     ]
    },
    {
     "name": "stdout",
     "output_type": "stream",
     "text": [
      "--------------------------------------------------------------------------------\n",
      "SOURCE: Carla took this beautiful grouper and--and basically made chicken wings out of it.\n",
      "TARGET: Carla tenía este hermoso mero y básicamente hizo alas de pollo con eso.\n",
      "PREDICTED: una bolsa de y , y una bolsa de . . .\n",
      "--------------------------------------------------------------------------------\n",
      "\n",
      "Epoch 47\n",
      "-------------------------------, 0 days, 6 hours, 33 minutes, 49 seconds\n",
      "\n"
     ]
    },
    {
     "name": "stderr",
     "output_type": "stream",
     "text": [
      "Processing epoch 47: 100%|██████████| 712/712 [08:19<00:00,  1.43it/s, loss=3.617841, lr=0.000000000]\n",
      "Processing validation examples: 100%|██████████| 1458/1458 [00:03<00:00, 448.52it/s, BLEU=0.007980641, METEOR=0.180279534]\n"
     ]
    },
    {
     "name": "stdout",
     "output_type": "stream",
     "text": [
      "--------------------------------------------------------------------------------\n",
      "SOURCE: I only have this one shot.\n",
      "TARGET: solo tengo un disparo.\n",
      "PREDICTED: Sólo tengo una oportunidad . . . . a uno . . .\n",
      "--------------------------------------------------------------------------------\n",
      "\n",
      "Epoch 48\n",
      "-------------------------------, 0 days, 6 hours, 42 minutes, 12 seconds\n",
      "\n"
     ]
    },
    {
     "name": "stderr",
     "output_type": "stream",
     "text": [
      "Processing epoch 48: 100%|██████████| 712/712 [08:19<00:00,  1.43it/s, loss=3.641027, lr=0.000000000]\n",
      "Processing validation examples: 100%|██████████| 1458/1458 [00:03<00:00, 453.98it/s, BLEU=0.007720820, METEOR=0.176948607]\n"
     ]
    },
    {
     "name": "stdout",
     "output_type": "stream",
     "text": [
      "--------------------------------------------------------------------------------\n",
      "SOURCE: But Sasha was named National and World Team Coach.\n",
      "TARGET: Perp Sasha fue nombrado entrenador nacional para los mundiales.\n",
      "PREDICTED: - El Sr . fue un Sr . - . al Sr . . .\n",
      "--------------------------------------------------------------------------------\n",
      "\n",
      "Epoch 49\n",
      "-------------------------------, 0 days, 6 hours, 50 minutes, 34 seconds\n",
      "\n"
     ]
    },
    {
     "name": "stderr",
     "output_type": "stream",
     "text": [
      "Processing epoch 49: 100%|██████████| 712/712 [08:19<00:00,  1.42it/s, loss=3.566973, lr=0.000000000]\n",
      "Processing validation examples: 100%|██████████| 1458/1458 [00:03<00:00, 444.01it/s, BLEU=0.008438280, METEOR=0.179767798]\n"
     ]
    },
    {
     "name": "stdout",
     "output_type": "stream",
     "text": [
      "--------------------------------------------------------------------------------\n",
      "SOURCE: And where are them little magnets I had over here, huh?\n",
      "TARGET: ! Oh, ¡¿y dónde están los pequeños imanes que tenía por aquí, eh?\n",
      "PREDICTED: Y aquí he estado aquí , ¿ dónde estaban los ? . . . .\n",
      "--------------------------------------------------------------------------------\n",
      "\n",
      "Epoch 50\n",
      "-------------------------------, 0 days, 6 hours, 58 minutes, 57 seconds\n",
      "\n"
     ]
    },
    {
     "name": "stderr",
     "output_type": "stream",
     "text": [
      "Processing epoch 50: 100%|██████████| 712/712 [08:19<00:00,  1.43it/s, loss=3.603175, lr=0.000000000]\n",
      "Processing validation examples: 100%|██████████| 1458/1458 [00:03<00:00, 451.42it/s, BLEU=0.008535130, METEOR=0.179773316]\n"
     ]
    },
    {
     "name": "stdout",
     "output_type": "stream",
     "text": [
      "--------------------------------------------------------------------------------\n",
      "SOURCE: FORD Aspire car technical data.\n",
      "TARGET: FORD Aspire datos técnicos de coches. Las especificaciones de coches.\n",
      "PREDICTED: datos de coches . . de coches . . . .\n",
      "--------------------------------------------------------------------------------\n",
      "\n",
      "Epoch 51\n",
      "-------------------------------, 0 days, 7 hours, 7 minutes, 20 seconds\n",
      "\n"
     ]
    },
    {
     "name": "stderr",
     "output_type": "stream",
     "text": [
      "Processing epoch 51: 100%|██████████| 712/712 [08:19<00:00,  1.43it/s, loss=3.622034, lr=0.000000000]\n",
      "Processing validation examples: 100%|██████████| 1458/1458 [00:03<00:00, 438.22it/s, BLEU=0.008667760, METEOR=0.180287085]\n"
     ]
    },
    {
     "name": "stdout",
     "output_type": "stream",
     "text": [
      "--------------------------------------------------------------------------------\n",
      "SOURCE: A soul eater?\n",
      "TARGET: - ¿Come-almas?\n",
      "PREDICTED: ¿ Un de ? . . . . . . .\n",
      "--------------------------------------------------------------------------------\n",
      "\n",
      "Epoch 52\n",
      "-------------------------------, 0 days, 7 hours, 15 minutes, 43 seconds\n",
      "\n"
     ]
    },
    {
     "name": "stderr",
     "output_type": "stream",
     "text": [
      "Processing epoch 52: 100%|██████████| 712/712 [08:19<00:00,  1.42it/s, loss=3.497579, lr=0.000000000]\n",
      "Processing validation examples: 100%|██████████| 1458/1458 [00:03<00:00, 453.22it/s, BLEU=0.008448142, METEOR=0.182393057]\n"
     ]
    },
    {
     "name": "stdout",
     "output_type": "stream",
     "text": [
      "--------------------------------------------------------------------------------\n",
      "SOURCE: Michaelson, can you hear me?\n",
      "TARGET: Michaelson, puedes escucharme?\n",
      "PREDICTED: , ¿ me oyes ? . . . . . . .\n",
      "--------------------------------------------------------------------------------\n",
      "\n",
      "Epoch 53\n",
      "-------------------------------, 0 days, 7 hours, 24 minutes, 6 seconds\n",
      "\n"
     ]
    },
    {
     "name": "stderr",
     "output_type": "stream",
     "text": [
      "Processing epoch 53: 100%|██████████| 712/712 [08:19<00:00,  1.42it/s, loss=3.482820, lr=0.000000000]\n",
      "Processing validation examples: 100%|██████████| 1458/1458 [00:03<00:00, 450.38it/s, BLEU=0.009122156, METEOR=0.183634317]\n"
     ]
    },
    {
     "name": "stdout",
     "output_type": "stream",
     "text": [
      "--------------------------------------------------------------------------------\n",
      "SOURCE: \"sod all this, sod the queen, sod\n",
      "TARGET: \"a la mierda todo, a la mierda la reina, a la mierda...\n",
      "PREDICTED: \" , la reina de la reina , \" . .\n",
      "--------------------------------------------------------------------------------\n",
      "\n",
      "Epoch 54\n",
      "-------------------------------, 0 days, 7 hours, 32 minutes, 29 seconds\n",
      "\n"
     ]
    },
    {
     "name": "stderr",
     "output_type": "stream",
     "text": [
      "Processing epoch 54: 100%|██████████| 712/712 [08:19<00:00,  1.43it/s, loss=3.483160, lr=0.000000000]\n",
      "Processing validation examples: 100%|██████████| 1458/1458 [00:03<00:00, 456.66it/s, BLEU=0.008444746, METEOR=0.183700683]\n"
     ]
    },
    {
     "name": "stdout",
     "output_type": "stream",
     "text": [
      "--------------------------------------------------------------------------------\n",
      "SOURCE: You leave me no choice, Sefa.\n",
      "TARGET: No me dejas opción, Sefa.\n",
      "PREDICTED: No me , . . . . . . . .\n",
      "--------------------------------------------------------------------------------\n",
      "\n",
      "Epoch 55\n",
      "-------------------------------, 0 days, 7 hours, 40 minutes, 52 seconds\n",
      "\n"
     ]
    },
    {
     "name": "stderr",
     "output_type": "stream",
     "text": [
      "Processing epoch 55: 100%|██████████| 712/712 [08:19<00:00,  1.43it/s, loss=3.539994, lr=0.000000000]\n",
      "Processing validation examples: 100%|██████████| 1458/1458 [00:03<00:00, 445.82it/s, BLEU=0.008925025, METEOR=0.182388806]\n"
     ]
    },
    {
     "name": "stdout",
     "output_type": "stream",
     "text": [
      "--------------------------------------------------------------------------------\n",
      "SOURCE: Whoa! That was crazy fast.\n",
      "TARGET: - Eso sí que fue rápido.\n",
      "PREDICTED: ¡ Eso fue una locura ! . . . . . . .\n",
      "--------------------------------------------------------------------------------\n",
      "\n",
      "Epoch 56\n",
      "-------------------------------, 0 days, 7 hours, 49 minutes, 14 seconds\n",
      "\n"
     ]
    },
    {
     "name": "stderr",
     "output_type": "stream",
     "text": [
      "Processing epoch 56: 100%|██████████| 712/712 [08:19<00:00,  1.42it/s, loss=3.487466, lr=0.000000000]\n",
      "Processing validation examples: 100%|██████████| 1458/1458 [00:03<00:00, 443.84it/s, BLEU=0.008608335, METEOR=0.184454005]\n"
     ]
    },
    {
     "name": "stdout",
     "output_type": "stream",
     "text": [
      "--------------------------------------------------------------------------------\n",
      "SOURCE: - She's in my room.\n",
      "TARGET: - Está en mi habitación.\n",
      "PREDICTED: - Está en mi habitación . . . . . . . .\n",
      "--------------------------------------------------------------------------------\n",
      "\n",
      "Epoch 57\n",
      "-------------------------------, 0 days, 7 hours, 57 minutes, 37 seconds\n",
      "\n"
     ]
    },
    {
     "name": "stderr",
     "output_type": "stream",
     "text": [
      "Processing epoch 57: 100%|██████████| 712/712 [08:19<00:00,  1.43it/s, loss=3.411190, lr=0.000000000]\n",
      "Processing validation examples: 100%|██████████| 1458/1458 [00:03<00:00, 446.95it/s, BLEU=0.007980941, METEOR=0.184787648]\n"
     ]
    },
    {
     "name": "stdout",
     "output_type": "stream",
     "text": [
      "--------------------------------------------------------------------------------\n",
      "SOURCE: The GPS data from Henry's car.\n",
      "TARGET: La información del GPS del coche de Henry.\n",
      "PREDICTED: Los datos del coche del coche del coche se . . . . .\n",
      "--------------------------------------------------------------------------------\n",
      "\n",
      "Epoch 58\n",
      "-------------------------------, 0 days, 8 hours, 6 minutes, 0 seconds\n",
      "\n"
     ]
    },
    {
     "name": "stderr",
     "output_type": "stream",
     "text": [
      "Processing epoch 58: 100%|██████████| 712/712 [08:19<00:00,  1.43it/s, loss=3.430348, lr=0.000000000]\n",
      "Processing validation examples: 100%|██████████| 1458/1458 [00:03<00:00, 447.64it/s, BLEU=0.008805389, METEOR=0.185413184]\n"
     ]
    },
    {
     "name": "stdout",
     "output_type": "stream",
     "text": [
      "--------------------------------------------------------------------------------\n",
      "SOURCE: Those men over there will help you Emilka and I are going...\n",
      "TARGET: Esos hombres de allí les ayudarán Emilka y yo vamos...\n",
      "PREDICTED: Esos hombres están por ahí , y yo no te . . . .\n",
      "--------------------------------------------------------------------------------\n",
      "\n",
      "Epoch 59\n",
      "-------------------------------, 0 days, 8 hours, 14 minutes, 22 seconds\n",
      "\n"
     ]
    },
    {
     "name": "stderr",
     "output_type": "stream",
     "text": [
      "Processing epoch 59: 100%|██████████| 712/712 [08:19<00:00,  1.43it/s, loss=3.444800, lr=0.000000000]\n",
      "Processing validation examples: 100%|██████████| 1458/1458 [00:03<00:00, 442.25it/s, BLEU=0.008492373, METEOR=0.186662683]\n"
     ]
    },
    {
     "name": "stdout",
     "output_type": "stream",
     "text": [
      "--------------------------------------------------------------------------------\n",
      "SOURCE: Man, it's a piece of cake, all right?\n",
      "TARGET: Es muy fácil, Está bien?\n",
      "PREDICTED: ¿ Qué es un pastel , no es un pastel ? . . . .\n",
      "--------------------------------------------------------------------------------\n",
      "\n",
      "Epoch 60\n",
      "-------------------------------, 0 days, 8 hours, 22 minutes, 45 seconds\n",
      "\n"
     ]
    },
    {
     "name": "stderr",
     "output_type": "stream",
     "text": [
      "Processing epoch 60: 100%|██████████| 712/712 [08:19<00:00,  1.42it/s, loss=3.394102, lr=0.000000000]\n",
      "Processing validation examples: 100%|██████████| 1458/1458 [00:03<00:00, 452.11it/s, BLEU=0.009109621, METEOR=0.185861220]\n"
     ]
    },
    {
     "name": "stdout",
     "output_type": "stream",
     "text": [
      "--------------------------------------------------------------------------------\n",
      "SOURCE: Haven't I come...?\n",
      "TARGET: ¿No he venido yo...?\n",
      "PREDICTED: ¿ No he venido ...? . . . . . . .\n",
      "--------------------------------------------------------------------------------\n",
      "\n",
      "Epoch 61\n",
      "-------------------------------, 0 days, 8 hours, 31 minutes, 8 seconds\n",
      "\n"
     ]
    },
    {
     "name": "stderr",
     "output_type": "stream",
     "text": [
      "Processing epoch 61: 100%|██████████| 712/712 [08:19<00:00,  1.43it/s, loss=3.452201, lr=0.000000000]\n",
      "Processing validation examples: 100%|██████████| 1458/1458 [00:03<00:00, 455.50it/s, BLEU=0.009093141, METEOR=0.186642212]\n"
     ]
    },
    {
     "name": "stdout",
     "output_type": "stream",
     "text": [
      "--------------------------------------------------------------------------------\n",
      "SOURCE: - Economic consequences.\n",
      "TARGET: Consecuencias económicas.\n",
      "PREDICTED: - Las consecuencias consecuencias . . . . . . . .\n",
      "--------------------------------------------------------------------------------\n",
      "\n",
      "Epoch 62\n",
      "-------------------------------, 0 days, 8 hours, 39 minutes, 31 seconds\n",
      "\n"
     ]
    },
    {
     "name": "stderr",
     "output_type": "stream",
     "text": [
      "Processing epoch 62: 100%|██████████| 712/712 [08:19<00:00,  1.43it/s, loss=3.390078, lr=0.000000000]\n",
      "Processing validation examples: 100%|██████████| 1458/1458 [00:03<00:00, 447.93it/s, BLEU=0.008824783, METEOR=0.187872786]\n"
     ]
    },
    {
     "name": "stdout",
     "output_type": "stream",
     "text": [
      "--------------------------------------------------------------------------------\n",
      "SOURCE: I'll promote....\n",
      "TARGET: Sólo promocionaré...\n",
      "PREDICTED: Yo voy a ... ... ... ... ... ... ... ...\n",
      "--------------------------------------------------------------------------------\n",
      "\n",
      "Epoch 63\n",
      "-------------------------------, 0 days, 8 hours, 47 minutes, 53 seconds\n",
      "\n"
     ]
    },
    {
     "name": "stderr",
     "output_type": "stream",
     "text": [
      "Processing epoch 63: 100%|██████████| 712/712 [08:19<00:00,  1.43it/s, loss=3.438529, lr=0.000000000]\n",
      "Processing validation examples: 100%|██████████| 1458/1458 [00:03<00:00, 449.07it/s, BLEU=0.008725426, METEOR=0.187139357]\n"
     ]
    },
    {
     "name": "stdout",
     "output_type": "stream",
     "text": [
      "--------------------------------------------------------------------------------\n",
      "SOURCE: - You look cold.\n",
      "TARGET: - Parece que tienes frío.\n",
      "PREDICTED: - Tienes frío . . . . . . . . .\n",
      "--------------------------------------------------------------------------------\n",
      "\n",
      "Epoch 64\n",
      "-------------------------------, 0 days, 8 hours, 56 minutes, 16 seconds\n",
      "\n"
     ]
    },
    {
     "name": "stderr",
     "output_type": "stream",
     "text": [
      "Processing epoch 64: 100%|██████████| 712/712 [08:19<00:00,  1.43it/s, loss=3.380506, lr=0.000000000]\n",
      "Processing validation examples: 100%|██████████| 1458/1458 [00:03<00:00, 444.37it/s, BLEU=0.009460204, METEOR=0.190054595]\n"
     ]
    },
    {
     "name": "stdout",
     "output_type": "stream",
     "text": [
      "--------------------------------------------------------------------------------\n",
      "SOURCE: Catherine. Hey!\n",
      "TARGET: Catherine. ¡Oye!\n",
      "PREDICTED: ¡ Catherine ! . . a Catherine . . a Catherine . . .\n",
      "--------------------------------------------------------------------------------\n",
      "\n",
      "Epoch 65\n",
      "-------------------------------, 0 days, 9 hours, 4 minutes, 39 seconds\n",
      "\n"
     ]
    },
    {
     "name": "stderr",
     "output_type": "stream",
     "text": [
      "Processing epoch 65: 100%|██████████| 712/712 [08:19<00:00,  1.43it/s, loss=3.361476, lr=0.000000000]\n",
      "Processing validation examples: 100%|██████████| 1458/1458 [00:03<00:00, 447.12it/s, BLEU=0.008973070, METEOR=0.189706869]\n"
     ]
    },
    {
     "name": "stdout",
     "output_type": "stream",
     "text": [
      "--------------------------------------------------------------------------------\n",
      "SOURCE: He's using a lot of hot water.\n",
      "TARGET: Utiliza un montón de agua caliente.\n",
      "PREDICTED: Está caliente con agua caliente . . . . . . . .\n",
      "--------------------------------------------------------------------------------\n",
      "\n",
      "Epoch 66\n",
      "-------------------------------, 0 days, 9 hours, 13 minutes, 1 seconds\n",
      "\n"
     ]
    },
    {
     "name": "stderr",
     "output_type": "stream",
     "text": [
      "Processing epoch 66: 100%|██████████| 712/712 [08:18<00:00,  1.43it/s, loss=3.370683, lr=0.000000000]\n",
      "Processing validation examples: 100%|██████████| 1458/1458 [00:03<00:00, 445.22it/s, BLEU=0.009346535, METEOR=0.189160998]\n"
     ]
    },
    {
     "name": "stdout",
     "output_type": "stream",
     "text": [
      "--------------------------------------------------------------------------------\n",
      "SOURCE: ♪ I'm gonna make you scream ooh!\n",
      "TARGET: # ¡Te haré gritar! #\n",
      "PREDICTED: ¡ Voy a gritar ! de puta ! de puta . . . .\n",
      "--------------------------------------------------------------------------------\n",
      "\n",
      "Epoch 67\n",
      "-------------------------------, 0 days, 9 hours, 21 minutes, 23 seconds\n",
      "\n"
     ]
    },
    {
     "name": "stderr",
     "output_type": "stream",
     "text": [
      "Processing epoch 67: 100%|██████████| 712/712 [08:19<00:00,  1.43it/s, loss=3.377681, lr=0.000000000]\n",
      "Processing validation examples: 100%|██████████| 1458/1458 [00:03<00:00, 453.31it/s, BLEU=0.008682699, METEOR=0.190231335]\n"
     ]
    },
    {
     "name": "stdout",
     "output_type": "stream",
     "text": [
      "--------------------------------------------------------------------------------\n",
      "SOURCE: The allowance is paid out of the State budget by the State Social Insurance Fund.\n",
      "TARGET: Estas prestaciones son imputables al Fondo de seguridad social (o al presupuesto del Estado).\n",
      "PREDICTED: El Estado es el Estado jurídico de la Unión Europea para el Estado Estado del Estado . .\n",
      "--------------------------------------------------------------------------------\n",
      "\n",
      "Epoch 68\n",
      "-------------------------------, 0 days, 9 hours, 29 minutes, 45 seconds\n",
      "\n"
     ]
    },
    {
     "name": "stderr",
     "output_type": "stream",
     "text": [
      "Processing epoch 68: 100%|██████████| 712/712 [08:18<00:00,  1.43it/s, loss=3.384943, lr=0.000000000]\n",
      "Processing validation examples: 100%|██████████| 1458/1458 [00:03<00:00, 464.09it/s, BLEU=0.009809665, METEOR=0.190475237]\n"
     ]
    },
    {
     "name": "stdout",
     "output_type": "stream",
     "text": [
      "--------------------------------------------------------------------------------\n",
      "SOURCE: Whoa! That was crazy fast.\n",
      "TARGET: - Eso sí que fue rápido.\n",
      "PREDICTED: ¡ Fue una locura loco ! . . . . . .\n",
      "--------------------------------------------------------------------------------\n",
      "\n",
      "Epoch 69\n",
      "-------------------------------, 0 days, 9 hours, 38 minutes, 7 seconds\n",
      "\n"
     ]
    },
    {
     "name": "stderr",
     "output_type": "stream",
     "text": [
      "Processing epoch 69: 100%|██████████| 712/712 [08:18<00:00,  1.43it/s, loss=3.434204, lr=0.000000000]\n",
      "Processing validation examples: 100%|██████████| 1458/1458 [00:03<00:00, 439.68it/s, BLEU=0.009620736, METEOR=0.188586366]\n"
     ]
    },
    {
     "name": "stdout",
     "output_type": "stream",
     "text": [
      "--------------------------------------------------------------------------------\n",
      "SOURCE: Take all of it!\n",
      "TARGET: ¡Tomen todo!\n",
      "PREDICTED: ¡ todo ! . . . . . . .\n",
      "--------------------------------------------------------------------------------\n",
      "\n",
      "Epoch 70\n",
      "-------------------------------, 0 days, 9 hours, 46 minutes, 29 seconds\n",
      "\n"
     ]
    },
    {
     "name": "stderr",
     "output_type": "stream",
     "text": [
      "Processing epoch 70: 100%|██████████| 712/712 [08:18<00:00,  1.43it/s, loss=3.387462, lr=0.000000000]\n",
      "Processing validation examples: 100%|██████████| 1458/1458 [00:03<00:00, 453.66it/s, BLEU=0.009320903, METEOR=0.188748919]\n"
     ]
    },
    {
     "name": "stdout",
     "output_type": "stream",
     "text": [
      "--------------------------------------------------------------------------------\n",
      "SOURCE: That's good, you got it.\n",
      "TARGET: Muy bien, los tengo.\n",
      "PREDICTED: Eso es bueno . . . . . . . . .\n",
      "--------------------------------------------------------------------------------\n",
      "\n",
      "Epoch 71\n",
      "-------------------------------, 0 days, 9 hours, 54 minutes, 51 seconds\n",
      "\n"
     ]
    },
    {
     "name": "stderr",
     "output_type": "stream",
     "text": [
      "Processing epoch 71: 100%|██████████| 712/712 [08:18<00:00,  1.43it/s, loss=3.341431, lr=0.000000000]\n",
      "Processing validation examples: 100%|██████████| 1458/1458 [00:03<00:00, 448.79it/s, BLEU=0.008678497, METEOR=0.191756496]\n"
     ]
    },
    {
     "name": "stdout",
     "output_type": "stream",
     "text": [
      "--------------------------------------------------------------------------------\n",
      "SOURCE: My father and his physical therapist, charming Daphne.\n",
      "TARGET: Mi padre y su fisioterapeuta, la encantadora Daphne.\n",
      "PREDICTED: Mi padre y su doctor de seguridad , el doctor y el doctor . . .\n",
      "--------------------------------------------------------------------------------\n",
      "\n",
      "Epoch 72\n",
      "-------------------------------, 0 days, 10 hours, 3 minutes, 13 seconds\n",
      "\n"
     ]
    },
    {
     "name": "stderr",
     "output_type": "stream",
     "text": [
      "Processing epoch 72: 100%|██████████| 712/712 [08:19<00:00,  1.43it/s, loss=3.322247, lr=0.000000000]\n",
      "Processing validation examples: 100%|██████████| 1458/1458 [00:03<00:00, 456.65it/s, BLEU=0.009200696, METEOR=0.190281813]\n"
     ]
    },
    {
     "name": "stdout",
     "output_type": "stream",
     "text": [
      "--------------------------------------------------------------------------------\n",
      "SOURCE: \"I'll fix it,\" he says.\n",
      "TARGET: \"La arreglaré\", ha dicho.\n",
      "PREDICTED: \" Le digo que lo hará . . . . . . .\n",
      "--------------------------------------------------------------------------------\n",
      "\n",
      "Epoch 73\n",
      "-------------------------------, 0 days, 10 hours, 11 minutes, 35 seconds\n",
      "\n"
     ]
    },
    {
     "name": "stderr",
     "output_type": "stream",
     "text": [
      "Processing epoch 73: 100%|██████████| 712/712 [08:19<00:00,  1.43it/s, loss=3.199549, lr=0.000000000]\n",
      "Processing validation examples: 100%|██████████| 1458/1458 [00:03<00:00, 448.01it/s, BLEU=0.009536988, METEOR=0.190228440]\n"
     ]
    },
    {
     "name": "stdout",
     "output_type": "stream",
     "text": [
      "--------------------------------------------------------------------------------\n",
      "SOURCE: Now, before you give us an answer, I want to impress you with three things.\n",
      "TARGET: Antes de darnos una respuesta, quiero que sepa tres cosas.\n",
      "PREDICTED: Ahora , antes de que , una pregunta antes de que . . .\n",
      "--------------------------------------------------------------------------------\n",
      "\n",
      "Epoch 74\n",
      "-------------------------------, 0 days, 10 hours, 19 minutes, 57 seconds\n",
      "\n"
     ]
    },
    {
     "name": "stderr",
     "output_type": "stream",
     "text": [
      "Processing epoch 74: 100%|██████████| 712/712 [08:18<00:00,  1.43it/s, loss=3.286235, lr=0.000000000]\n",
      "Processing validation examples: 100%|██████████| 1458/1458 [00:03<00:00, 448.31it/s, BLEU=0.008827963, METEOR=0.190314120]\n"
     ]
    },
    {
     "name": "stdout",
     "output_type": "stream",
     "text": [
      "--------------------------------------------------------------------------------\n",
      "SOURCE: Well, that's all the time you got, Lopresti.\n",
      "TARGET: Pues, eso es todo el tiempo que tienes, LoPresti.\n",
      "PREDICTED: Bueno , todo el tiempo , te has tenido . . . . .\n",
      "--------------------------------------------------------------------------------\n",
      "\n",
      "Epoch 75\n",
      "-------------------------------, 0 days, 10 hours, 28 minutes, 19 seconds\n",
      "\n"
     ]
    },
    {
     "name": "stderr",
     "output_type": "stream",
     "text": [
      "Processing epoch 75: 100%|██████████| 712/712 [08:18<00:00,  1.43it/s, loss=3.291720, lr=0.000000000]\n",
      "Processing validation examples: 100%|██████████| 1458/1458 [00:03<00:00, 448.03it/s, BLEU=0.009128142, METEOR=0.189271594]\n"
     ]
    },
    {
     "name": "stdout",
     "output_type": "stream",
     "text": [
      "--------------------------------------------------------------------------------\n",
      "SOURCE: ♪ I'm ready to drown\n",
      "TARGET: *Estoy lista para ahogarme*\n",
      "PREDICTED: * Estoy lista para #\n",
      "--------------------------------------------------------------------------------\n",
      "\n",
      "Epoch 76\n",
      "-------------------------------, 0 days, 10 hours, 36 minutes, 41 seconds\n",
      "\n"
     ]
    },
    {
     "name": "stderr",
     "output_type": "stream",
     "text": [
      "Processing epoch 76: 100%|██████████| 712/712 [08:18<00:00,  1.43it/s, loss=3.325785, lr=0.000000000]\n",
      "Processing validation examples: 100%|██████████| 1458/1458 [00:03<00:00, 435.86it/s, BLEU=0.009622467, METEOR=0.191539314]\n"
     ]
    },
    {
     "name": "stdout",
     "output_type": "stream",
     "text": [
      "--------------------------------------------------------------------------------\n",
      "SOURCE: Conduct research on the financial costs and benefits of sustainability, and related investment products; and\n",
      "TARGET: tealizar investigación sobre los costos y beneficios financieros de la sostenibilidad y los productos de inversión relacionados; y\n",
      "PREDICTED: de beneficios en la comunicación de los beneficios y beneficios de las redes financieros y redes de inversión ;\n",
      "--------------------------------------------------------------------------------\n",
      "\n",
      "Epoch 77\n",
      "-------------------------------, 0 days, 10 hours, 45 minutes, 3 seconds\n",
      "\n"
     ]
    },
    {
     "name": "stderr",
     "output_type": "stream",
     "text": [
      "Processing epoch 77: 100%|██████████| 712/712 [08:18<00:00,  1.43it/s, loss=3.391144, lr=0.000000000]\n",
      "Processing validation examples: 100%|██████████| 1458/1458 [00:03<00:00, 448.12it/s, BLEU=0.009207228, METEOR=0.189635297]\n"
     ]
    },
    {
     "name": "stdout",
     "output_type": "stream",
     "text": [
      "--------------------------------------------------------------------------------\n",
      "SOURCE: Number of visits: 4686\n",
      "TARGET: Número de visitas: 1859\n",
      "PREDICTED: Número de visitas : de visitas de visitas de visitas de visitas\n",
      "--------------------------------------------------------------------------------\n",
      "\n",
      "Epoch 78\n",
      "-------------------------------, 0 days, 10 hours, 53 minutes, 26 seconds\n",
      "\n"
     ]
    },
    {
     "name": "stderr",
     "output_type": "stream",
     "text": [
      "Processing epoch 78: 100%|██████████| 712/712 [08:18<00:00,  1.43it/s, loss=3.313687, lr=0.000000000]\n",
      "Processing validation examples: 100%|██████████| 1458/1458 [00:03<00:00, 448.74it/s, BLEU=0.008128180, METEOR=0.189983691]\n"
     ]
    },
    {
     "name": "stdout",
     "output_type": "stream",
     "text": [
      "--------------------------------------------------------------------------------\n",
      "SOURCE: And if anyone asks, this is your savings account.\n",
      "TARGET: Y si alguien pregunta, esta es su cuenta de ahorros.\n",
      "PREDICTED: Y si esto es lo que alguien necesita , a sus ahorros . . . .\n",
      "--------------------------------------------------------------------------------\n",
      "\n",
      "Epoch 79\n",
      "-------------------------------, 0 days, 11 hours, 1 minutes, 48 seconds\n",
      "\n"
     ]
    },
    {
     "name": "stderr",
     "output_type": "stream",
     "text": [
      "Processing epoch 79: 100%|██████████| 712/712 [08:18<00:00,  1.43it/s, loss=3.293902, lr=0.000000000]\n",
      "Processing validation examples: 100%|██████████| 1458/1458 [00:03<00:00, 445.22it/s, BLEU=0.008956750, METEOR=0.193072044]\n"
     ]
    },
    {
     "name": "stdout",
     "output_type": "stream",
     "text": [
      "--------------------------------------------------------------------------------\n",
      "SOURCE: How's your baby?\n",
      "TARGET: ¿Cómo está tu hijo?\n",
      "PREDICTED: ¿ Cómo está tu bebé ? . . . . . . .\n",
      "--------------------------------------------------------------------------------\n",
      "\n",
      "Epoch 80\n",
      "-------------------------------, 0 days, 11 hours, 10 minutes, 10 seconds\n",
      "\n"
     ]
    },
    {
     "name": "stderr",
     "output_type": "stream",
     "text": [
      "Processing epoch 80: 100%|██████████| 712/712 [08:19<00:00,  1.43it/s, loss=3.204851, lr=0.000000000]\n",
      "Processing validation examples: 100%|██████████| 1458/1458 [00:03<00:00, 446.79it/s, BLEU=0.009819047, METEOR=0.190588708]\n"
     ]
    },
    {
     "name": "stdout",
     "output_type": "stream",
     "text": [
      "--------------------------------------------------------------------------------\n",
      "SOURCE: This is some sort of joke, right?\n",
      "TARGET: Esta es una especie de broma, ¿verdad?\n",
      "PREDICTED: Esto es una broma , ¿ no ? de broma . . . .\n",
      "--------------------------------------------------------------------------------\n",
      "\n",
      "Epoch 81\n",
      "-------------------------------, 0 days, 11 hours, 18 minutes, 32 seconds\n",
      "\n"
     ]
    },
    {
     "name": "stderr",
     "output_type": "stream",
     "text": [
      "Processing epoch 81: 100%|██████████| 712/712 [08:18<00:00,  1.43it/s, loss=3.225352, lr=0.000000000]\n",
      "Processing validation examples: 100%|██████████| 1458/1458 [00:03<00:00, 450.79it/s, BLEU=0.009684726, METEOR=0.192834784]\n"
     ]
    },
    {
     "name": "stdout",
     "output_type": "stream",
     "text": [
      "--------------------------------------------------------------------------------\n",
      "SOURCE: Do you know also why he left me?\n",
      "TARGET: ¿Sabe por qué me dejó?\n",
      "PREDICTED: ¿ Sabes por qué me dejó ? por mí . . . . .\n",
      "--------------------------------------------------------------------------------\n",
      "\n",
      "Epoch 82\n",
      "-------------------------------, 0 days, 11 hours, 26 minutes, 54 seconds\n",
      "\n"
     ]
    },
    {
     "name": "stderr",
     "output_type": "stream",
     "text": [
      "Processing epoch 82: 100%|██████████| 712/712 [08:18<00:00,  1.43it/s, loss=3.243775, lr=0.000000000]\n",
      "Processing validation examples: 100%|██████████| 1458/1458 [00:03<00:00, 445.37it/s, BLEU=0.010098086, METEOR=0.192456229]\n"
     ]
    },
    {
     "name": "stdout",
     "output_type": "stream",
     "text": [
      "--------------------------------------------------------------------------------\n",
      "SOURCE: Illawarra District, Australia, May 28, 2007.\n",
      "TARGET: Distrito de Illawarra, Australia, 28 de mayo del 2007.\n",
      "PREDICTED: 28 , 28 de mayo , 2007 , 28 de mayo . . . .\n",
      "--------------------------------------------------------------------------------\n",
      "\n",
      "Epoch 83\n",
      "-------------------------------, 0 days, 11 hours, 35 minutes, 16 seconds\n",
      "\n"
     ]
    },
    {
     "name": "stderr",
     "output_type": "stream",
     "text": [
      "Processing epoch 83: 100%|██████████| 712/712 [08:18<00:00,  1.43it/s, loss=3.336820, lr=0.000000000]\n",
      "Processing validation examples: 100%|██████████| 1458/1458 [00:03<00:00, 443.16it/s, BLEU=0.009572902, METEOR=0.193395747]\n"
     ]
    },
    {
     "name": "stdout",
     "output_type": "stream",
     "text": [
      "--------------------------------------------------------------------------------\n",
      "SOURCE: It very much involves you, Denny, and you're not invited.\n",
      "TARGET: Tu estas muy involucrado, Denny, y no estas invitado.\n",
      "PREDICTED: Cuánto te , Jack , y no a ti . . . . .\n",
      "--------------------------------------------------------------------------------\n",
      "\n",
      "Epoch 84\n",
      "-------------------------------, 0 days, 11 hours, 43 minutes, 38 seconds\n",
      "\n"
     ]
    },
    {
     "name": "stderr",
     "output_type": "stream",
     "text": [
      "Processing epoch 84: 100%|██████████| 712/712 [08:18<00:00,  1.43it/s, loss=3.178144, lr=0.000000000]\n",
      "Processing validation examples: 100%|██████████| 1458/1458 [00:03<00:00, 442.49it/s, BLEU=0.009349463, METEOR=0.191396823]\n"
     ]
    },
    {
     "name": "stdout",
     "output_type": "stream",
     "text": [
      "--------------------------------------------------------------------------------\n",
      "SOURCE: Did you spray the leuco-crystal violet in the lift? - Yes.\n",
      "TARGET: ¿Creo que rociaste el leuco cristal violeta en el ascensor?\n",
      "PREDICTED: ¿ el papel de - en la ? . . . .\n",
      "--------------------------------------------------------------------------------\n",
      "\n",
      "Epoch 85\n",
      "-------------------------------, 0 days, 11 hours, 52 minutes, 0 seconds\n",
      "\n"
     ]
    },
    {
     "name": "stderr",
     "output_type": "stream",
     "text": [
      "Processing epoch 85: 100%|██████████| 712/712 [08:18<00:00,  1.43it/s, loss=3.213080, lr=0.000000000]\n",
      "Processing validation examples: 100%|██████████| 1458/1458 [00:03<00:00, 446.60it/s, BLEU=0.010141470, METEOR=0.194013562]\n"
     ]
    },
    {
     "name": "stdout",
     "output_type": "stream",
     "text": [
      "--------------------------------------------------------------------------------\n",
      "SOURCE: - A plea?\n",
      "TARGET: - ¿Convenio de culpabilidad?\n",
      "PREDICTED: - ¿ Un acuerdo ? . . . . a un acuerdo de acuerdo .\n",
      "--------------------------------------------------------------------------------\n",
      "\n",
      "Epoch 86\n",
      "-------------------------------, 0 days, 12 hours, 0 minutes, 22 seconds\n",
      "\n"
     ]
    },
    {
     "name": "stderr",
     "output_type": "stream",
     "text": [
      "Processing epoch 86: 100%|██████████| 712/712 [08:18<00:00,  1.43it/s, loss=3.290501, lr=0.000000000]\n",
      "Processing validation examples: 100%|██████████| 1458/1458 [00:03<00:00, 433.45it/s, BLEU=0.009262569, METEOR=0.192055668]\n"
     ]
    },
    {
     "name": "stdout",
     "output_type": "stream",
     "text": [
      "--------------------------------------------------------------------------------\n",
      "SOURCE: How about a couple autographs?\n",
      "TARGET: ¿Qué tal unos autógrafos?\n",
      "PREDICTED: ¿ Qué tal un par de ? . . . . . .\n",
      "--------------------------------------------------------------------------------\n",
      "\n",
      "Epoch 87\n",
      "-------------------------------, 0 days, 12 hours, 8 minutes, 44 seconds\n",
      "\n"
     ]
    },
    {
     "name": "stderr",
     "output_type": "stream",
     "text": [
      "Processing epoch 87: 100%|██████████| 712/712 [08:19<00:00,  1.43it/s, loss=3.170935, lr=0.000000000]\n",
      "Processing validation examples: 100%|██████████| 1458/1458 [00:03<00:00, 447.94it/s, BLEU=0.009563356, METEOR=0.193153143]\n"
     ]
    },
    {
     "name": "stdout",
     "output_type": "stream",
     "text": [
      "--------------------------------------------------------------------------------\n",
      "SOURCE: Yuriko told him that she wanted to go... but not necessarily with him.\n",
      "TARGET: Yuriko le dijo que quería ir pero no necesariamente con él.\n",
      "PREDICTED: dijo que no quería pero eso no quería saber . . con él . .\n",
      "--------------------------------------------------------------------------------\n",
      "\n",
      "Epoch 88\n",
      "-------------------------------, 0 days, 12 hours, 17 minutes, 7 seconds\n",
      "\n"
     ]
    },
    {
     "name": "stderr",
     "output_type": "stream",
     "text": [
      "Processing epoch 88: 100%|██████████| 712/712 [08:18<00:00,  1.43it/s, loss=3.242581, lr=0.000000000]\n",
      "Processing validation examples: 100%|██████████| 1458/1458 [00:03<00:00, 436.51it/s, BLEU=0.009241648, METEOR=0.194546957]\n"
     ]
    },
    {
     "name": "stdout",
     "output_type": "stream",
     "text": [
      "--------------------------------------------------------------------------------\n",
      "SOURCE: Meeting like theives.\n",
      "TARGET: De que nos veamos así, como ladrones.\n",
      "PREDICTED: como el . como el . como el . . .\n",
      "--------------------------------------------------------------------------------\n",
      "\n",
      "Epoch 89\n",
      "-------------------------------, 0 days, 12 hours, 25 minutes, 29 seconds\n",
      "\n"
     ]
    },
    {
     "name": "stderr",
     "output_type": "stream",
     "text": [
      "Processing epoch 89: 100%|██████████| 712/712 [08:19<00:00,  1.43it/s, loss=3.252977, lr=0.000000000]\n",
      "Processing validation examples: 100%|██████████| 1458/1458 [00:03<00:00, 446.91it/s, BLEU=0.010764863, METEOR=0.195951871]\n"
     ]
    },
    {
     "name": "stdout",
     "output_type": "stream",
     "text": [
      "--------------------------------------------------------------------------------\n",
      "SOURCE: I had a drink with an ex.\n",
      "TARGET: Tomé un trago con un ex.\n",
      "PREDICTED: Tuve un trago con una copa . con él . con un trago . . .\n",
      "--------------------------------------------------------------------------------\n",
      "\n",
      "Epoch 90\n",
      "-------------------------------, 0 days, 12 hours, 33 minutes, 52 seconds\n",
      "\n"
     ]
    },
    {
     "name": "stderr",
     "output_type": "stream",
     "text": [
      "Processing epoch 90: 100%|██████████| 712/712 [08:19<00:00,  1.43it/s, loss=3.228736, lr=0.000000000]\n",
      "Processing validation examples: 100%|██████████| 1458/1458 [00:03<00:00, 455.42it/s, BLEU=0.009368201, METEOR=0.193523648]\n"
     ]
    },
    {
     "name": "stdout",
     "output_type": "stream",
     "text": [
      "--------------------------------------------------------------------------------\n",
      "SOURCE: - On Brecht.\n",
      "TARGET: - sobre Brecht.\n",
      "PREDICTED: - En . a . a . a . . .\n",
      "--------------------------------------------------------------------------------\n",
      "\n",
      "Epoch 91\n",
      "-------------------------------, 0 days, 12 hours, 42 minutes, 14 seconds\n",
      "\n"
     ]
    },
    {
     "name": "stderr",
     "output_type": "stream",
     "text": [
      "Processing epoch 91: 100%|██████████| 712/712 [08:19<00:00,  1.43it/s, loss=3.208500, lr=0.000000000]\n",
      "Processing validation examples: 100%|██████████| 1458/1458 [00:03<00:00, 447.92it/s, BLEU=0.009489132, METEOR=0.195469847]\n"
     ]
    },
    {
     "name": "stdout",
     "output_type": "stream",
     "text": [
      "--------------------------------------------------------------------------------\n",
      "SOURCE: But if she's into it, I ain't over it.\n",
      "TARGET: Pero le gusto, y no lo he superado.\n",
      "PREDICTED: Pero si ella está en ella , no lo estoy . . . . .\n",
      "--------------------------------------------------------------------------------\n",
      "\n",
      "Epoch 92\n",
      "-------------------------------, 0 days, 12 hours, 50 minutes, 37 seconds\n",
      "\n"
     ]
    },
    {
     "name": "stderr",
     "output_type": "stream",
     "text": [
      "Processing epoch 92: 100%|██████████| 712/712 [08:19<00:00,  1.43it/s, loss=3.166036, lr=0.000000000]\n",
      "Processing validation examples: 100%|██████████| 1458/1458 [00:03<00:00, 436.05it/s, BLEU=0.010019349, METEOR=0.195569751]\n"
     ]
    },
    {
     "name": "stdout",
     "output_type": "stream",
     "text": [
      "--------------------------------------------------------------------------------\n",
      "SOURCE: No, we're not zoned for this.\n",
      "TARGET: No, no estamos en zonas para esto.\n",
      "PREDICTED: No , no estamos para esto . . . . . .\n",
      "--------------------------------------------------------------------------------\n",
      "\n",
      "Epoch 93\n",
      "-------------------------------, 0 days, 12 hours, 58 minutes, 59 seconds\n",
      "\n"
     ]
    },
    {
     "name": "stderr",
     "output_type": "stream",
     "text": [
      "Processing epoch 93: 100%|██████████| 712/712 [08:18<00:00,  1.43it/s, loss=3.180710, lr=0.000000000]\n",
      "Processing validation examples: 100%|██████████| 1458/1458 [00:03<00:00, 458.79it/s, BLEU=0.010650467, METEOR=0.196938973]\n"
     ]
    },
    {
     "name": "stdout",
     "output_type": "stream",
     "text": [
      "--------------------------------------------------------------------------------\n",
      "SOURCE: Watch and learn, Holmes.\n",
      "TARGET: Mira y aprende, amigo.\n",
      "PREDICTED: Mira , Holmes , . a su cabeza . . . . .\n",
      "--------------------------------------------------------------------------------\n",
      "\n",
      "Epoch 94\n",
      "-------------------------------, 0 days, 13 hours, 7 minutes, 21 seconds\n",
      "\n"
     ]
    },
    {
     "name": "stderr",
     "output_type": "stream",
     "text": [
      "Processing epoch 94: 100%|██████████| 712/712 [08:18<00:00,  1.43it/s, loss=3.228462, lr=0.000000000]\n",
      "Processing validation examples: 100%|██████████| 1458/1458 [00:03<00:00, 452.71it/s, BLEU=0.010778072, METEOR=0.196693900]\n"
     ]
    },
    {
     "name": "stdout",
     "output_type": "stream",
     "text": [
      "--------------------------------------------------------------------------------\n",
      "SOURCE: The cosmic spores represented AIDS.\n",
      "TARGET: Las esporas cósmicas, por supuesto, representan el SIDA.\n",
      "PREDICTED: El autor se a la preocupación por los SIDA . en el SIDA . a la guerra\n",
      "--------------------------------------------------------------------------------\n",
      "\n",
      "Epoch 95\n",
      "-------------------------------, 0 days, 13 hours, 15 minutes, 43 seconds\n",
      "\n"
     ]
    },
    {
     "name": "stderr",
     "output_type": "stream",
     "text": [
      "Processing epoch 95: 100%|██████████| 712/712 [08:18<00:00,  1.43it/s, loss=3.157863, lr=0.000000000]\n",
      "Processing validation examples: 100%|██████████| 1458/1458 [00:03<00:00, 446.70it/s, BLEU=0.009990018, METEOR=0.197088037]\n"
     ]
    },
    {
     "name": "stdout",
     "output_type": "stream",
     "text": [
      "--------------------------------------------------------------------------------\n",
      "SOURCE: Knowing that these young men that I handcuff and punish.\n",
      "TARGET: Sabiendo que estos jóvenes que me esposan y castigan.\n",
      "PREDICTED: Para que los hombres tanto que a este joven . . a los hombres .\n",
      "--------------------------------------------------------------------------------\n",
      "\n",
      "Epoch 96\n",
      "-------------------------------, 0 days, 13 hours, 24 minutes, 5 seconds\n",
      "\n"
     ]
    },
    {
     "name": "stderr",
     "output_type": "stream",
     "text": [
      "Processing epoch 96: 100%|██████████| 712/712 [08:18<00:00,  1.43it/s, loss=3.155736, lr=0.000000000]\n",
      "Processing validation examples: 100%|██████████| 1458/1458 [00:03<00:00, 462.05it/s, BLEU=0.010265306, METEOR=0.194931116]\n"
     ]
    },
    {
     "name": "stdout",
     "output_type": "stream",
     "text": [
      "--------------------------------------------------------------------------------\n",
      "SOURCE: I really saw her climbing up the window\n",
      "TARGET: Yo en realidad la vi trepando la ventana.\n",
      "PREDICTED: Realmente vi la ventana de la ventana . a la ventana . a la ventana . .\n",
      "--------------------------------------------------------------------------------\n",
      "\n",
      "Epoch 97\n",
      "-------------------------------, 0 days, 13 hours, 32 minutes, 26 seconds\n",
      "\n"
     ]
    },
    {
     "name": "stderr",
     "output_type": "stream",
     "text": [
      "Processing epoch 97: 100%|██████████| 712/712 [08:18<00:00,  1.43it/s, loss=3.174748, lr=0.000000000]\n",
      "Processing validation examples: 100%|██████████| 1458/1458 [00:03<00:00, 441.74it/s, BLEU=0.009631258, METEOR=0.195988707]\n"
     ]
    },
    {
     "name": "stdout",
     "output_type": "stream",
     "text": [
      "--------------------------------------------------------------------------------\n",
      "SOURCE: Why don't we go to Toulon?\n",
      "TARGET: ¿Por qué no fuimos a Toulon?\n",
      "PREDICTED: ¿ Por qué no vamos a ir a ? . . a . .\n",
      "--------------------------------------------------------------------------------\n",
      "\n",
      "Epoch 98\n",
      "-------------------------------, 0 days, 13 hours, 40 minutes, 49 seconds\n",
      "\n"
     ]
    },
    {
     "name": "stderr",
     "output_type": "stream",
     "text": [
      "Processing epoch 98: 100%|██████████| 712/712 [08:19<00:00,  1.43it/s, loss=3.148260, lr=0.000000000]\n",
      "Processing validation examples: 100%|██████████| 1458/1458 [00:03<00:00, 454.79it/s, BLEU=0.009694823, METEOR=0.194391377]\n"
     ]
    },
    {
     "name": "stdout",
     "output_type": "stream",
     "text": [
      "--------------------------------------------------------------------------------\n",
      "SOURCE: You can only keep us from our work.\n",
      "TARGET: Sólo nos interrumpirá nuestro trabajo.\n",
      "PREDICTED: Puedes seguir nuestro trabajo . de trabajar . . . de trabajar . .\n",
      "--------------------------------------------------------------------------------\n",
      "\n",
      "Epoch 99\n",
      "-------------------------------, 0 days, 13 hours, 49 minutes, 11 seconds\n",
      "\n"
     ]
    },
    {
     "name": "stderr",
     "output_type": "stream",
     "text": [
      "Processing epoch 99: 100%|██████████| 712/712 [08:18<00:00,  1.43it/s, loss=3.136955, lr=0.000000000]\n",
      "Processing validation examples: 100%|██████████| 1458/1458 [00:03<00:00, 449.75it/s, BLEU=0.009782097, METEOR=0.195998191]\n"
     ]
    },
    {
     "name": "stdout",
     "output_type": "stream",
     "text": [
      "--------------------------------------------------------------------------------\n",
      "SOURCE: If it helps to have me around, even for a little bit,\n",
      "TARGET: Si ayuda tenerme cerca, aunque sea un poco,\n",
      "PREDICTED: Si me ayuda , por un poco me hace ir ,\n",
      "--------------------------------------------------------------------------------\n",
      "\n",
      "Epoch 100\n",
      "-------------------------------, 0 days, 13 hours, 57 minutes, 33 seconds\n",
      "\n"
     ]
    },
    {
     "name": "stderr",
     "output_type": "stream",
     "text": [
      "Processing epoch 100: 100%|██████████| 712/712 [08:18<00:00,  1.43it/s, loss=3.147243, lr=0.000000000]\n",
      "Processing validation examples: 100%|██████████| 1458/1458 [00:03<00:00, 449.25it/s, BLEU=0.010651847, METEOR=0.194744464]\n"
     ]
    },
    {
     "name": "stdout",
     "output_type": "stream",
     "text": [
      "--------------------------------------------------------------------------------\n",
      "SOURCE: - The plane?\n",
      "TARGET: ¿ - El avión?\n",
      "PREDICTED: - ¿ El avión ? . . . . en el avión . .\n",
      "--------------------------------------------------------------------------------\n",
      "\n",
      "Epoch 101\n",
      "-------------------------------, 0 days, 14 hours, 5 minutes, 55 seconds\n",
      "\n"
     ]
    },
    {
     "name": "stderr",
     "output_type": "stream",
     "text": [
      "Processing epoch 101: 100%|██████████| 712/712 [08:19<00:00,  1.43it/s, loss=3.146485, lr=0.000000000]\n",
      "Processing validation examples: 100%|██████████| 1458/1458 [00:03<00:00, 444.35it/s, BLEU=0.010308053, METEOR=0.196117566]\n"
     ]
    },
    {
     "name": "stdout",
     "output_type": "stream",
     "text": [
      "--------------------------------------------------------------------------------\n",
      "SOURCE: Merck Sharp & Dohme Limited Hertford Road Hoddesdon Hertfordshire EN11 9BU United Kingdom\n",
      "TARGET: Merck Sharp & Dohme Limited Hertford Road Hoddesdon Hertfordshire EN11 9BU Reino Unido\n",
      "PREDICTED: & Limited Reino Unido Reino Unido\n",
      "--------------------------------------------------------------------------------\n",
      "\n",
      "Epoch 102\n",
      "-------------------------------, 0 days, 14 hours, 14 minutes, 17 seconds\n",
      "\n"
     ]
    },
    {
     "name": "stderr",
     "output_type": "stream",
     "text": [
      "Processing epoch 102: 100%|██████████| 712/712 [08:19<00:00,  1.43it/s, loss=3.072046, lr=0.000000000]\n",
      "Processing validation examples: 100%|██████████| 1458/1458 [00:03<00:00, 440.37it/s, BLEU=0.011141595, METEOR=0.196013310]\n"
     ]
    },
    {
     "name": "stdout",
     "output_type": "stream",
     "text": [
      "--------------------------------------------------------------------------------\n",
      "SOURCE: - You can do it. CORDELIA:\n",
      "TARGET: Puedes hacerlo.\n",
      "PREDICTED: - Puedes hacerlo , . . . . . . . .\n",
      "--------------------------------------------------------------------------------\n",
      "\n",
      "Epoch 103\n",
      "-------------------------------, 0 days, 14 hours, 22 minutes, 40 seconds\n",
      "\n"
     ]
    },
    {
     "name": "stderr",
     "output_type": "stream",
     "text": [
      "Processing epoch 103: 100%|██████████| 712/712 [08:19<00:00,  1.43it/s, loss=3.113249, lr=0.000000000]\n",
      "Processing validation examples: 100%|██████████| 1458/1458 [00:03<00:00, 437.75it/s, BLEU=0.010614414, METEOR=0.194797386]\n"
     ]
    },
    {
     "name": "stdout",
     "output_type": "stream",
     "text": [
      "--------------------------------------------------------------------------------\n",
      "SOURCE: There's this mate of mine.\n",
      "TARGET: Ese amigo mío.\n",
      "PREDICTED: Es mi mejor amigo . . de esta noche . . . . .\n",
      "--------------------------------------------------------------------------------\n",
      "\n",
      "Epoch 104\n",
      "-------------------------------, 0 days, 14 hours, 31 minutes, 3 seconds\n",
      "\n"
     ]
    },
    {
     "name": "stderr",
     "output_type": "stream",
     "text": [
      "Processing epoch 104: 100%|██████████| 712/712 [08:18<00:00,  1.43it/s, loss=3.058244, lr=0.000000000]\n",
      "Processing validation examples: 100%|██████████| 1458/1458 [00:03<00:00, 441.38it/s, BLEU=0.011577414, METEOR=0.196272515]\n"
     ]
    },
    {
     "name": "stdout",
     "output_type": "stream",
     "text": [
      "--------------------------------------------------------------------------------\n",
      "SOURCE: Food and coffee. What time is it?\n",
      "TARGET: Comida y café. ¿Qué hora es?\n",
      "PREDICTED: El café y café , ¿ y qué es ? . . . .\n",
      "--------------------------------------------------------------------------------\n",
      "\n",
      "Epoch 105\n",
      "-------------------------------, 0 days, 14 hours, 39 minutes, 25 seconds\n",
      "\n"
     ]
    },
    {
     "name": "stderr",
     "output_type": "stream",
     "text": [
      "Processing epoch 105: 100%|██████████| 712/712 [08:18<00:00,  1.43it/s, loss=3.110889, lr=0.000000000]\n",
      "Processing validation examples: 100%|██████████| 1458/1458 [00:03<00:00, 442.62it/s, BLEU=0.011424700, METEOR=0.194915390]\n"
     ]
    },
    {
     "name": "stdout",
     "output_type": "stream",
     "text": [
      "--------------------------------------------------------------------------------\n",
      "SOURCE: - Would he?\n",
      "TARGET: ¿Lo haría?\n",
      "PREDICTED: - ¿ Lo haría ? . . . . . . .\n",
      "--------------------------------------------------------------------------------\n",
      "\n",
      "Epoch 106\n",
      "-------------------------------, 0 days, 14 hours, 47 minutes, 47 seconds\n",
      "\n"
     ]
    },
    {
     "name": "stderr",
     "output_type": "stream",
     "text": [
      "Processing epoch 106: 100%|██████████| 712/712 [08:18<00:00,  1.43it/s, loss=3.086984, lr=0.000000000]\n",
      "Processing validation examples: 100%|██████████| 1458/1458 [00:03<00:00, 430.88it/s, BLEU=0.010214434, METEOR=0.195889523]\n"
     ]
    },
    {
     "name": "stdout",
     "output_type": "stream",
     "text": [
      "--------------------------------------------------------------------------------\n",
      "SOURCE: Official medicine gave up on him.\n",
      "TARGET: La medicina Oficial renunció a él.\n",
      "PREDICTED: El oficial de le dio . a él . a él . en él .\n",
      "--------------------------------------------------------------------------------\n",
      "\n",
      "Epoch 107\n",
      "-------------------------------, 0 days, 14 hours, 56 minutes, 9 seconds\n",
      "\n"
     ]
    },
    {
     "name": "stderr",
     "output_type": "stream",
     "text": [
      "Processing epoch 107: 100%|██████████| 712/712 [08:18<00:00,  1.43it/s, loss=3.033761, lr=0.000000000]\n",
      "Processing validation examples: 100%|██████████| 1458/1458 [00:03<00:00, 449.93it/s, BLEU=0.011087728, METEOR=0.192889858]\n"
     ]
    },
    {
     "name": "stdout",
     "output_type": "stream",
     "text": [
      "--------------------------------------------------------------------------------\n",
      "SOURCE: Ah, that's easy, Sal.\n",
      "TARGET: Eso es fácil.\n",
      "PREDICTED: Eso es fácil , Sal . . . . . . . .\n",
      "--------------------------------------------------------------------------------\n",
      "\n",
      "Epoch 108\n",
      "-------------------------------, 0 days, 15 hours, 4 minutes, 31 seconds\n",
      "\n"
     ]
    },
    {
     "name": "stderr",
     "output_type": "stream",
     "text": [
      "Processing epoch 108: 100%|██████████| 712/712 [08:18<00:00,  1.43it/s, loss=3.078462, lr=0.000000000]\n",
      "Processing validation examples: 100%|██████████| 1458/1458 [00:03<00:00, 439.78it/s, BLEU=0.009927766, METEOR=0.193957617]\n"
     ]
    },
    {
     "name": "stdout",
     "output_type": "stream",
     "text": [
      "--------------------------------------------------------------------------------\n",
      "SOURCE: shall be grubbed up.\n",
      "TARGET: serán arrancadas.\n",
      "PREDICTED: Será . a la . . . . a la .\n",
      "--------------------------------------------------------------------------------\n",
      "\n",
      "Epoch 109\n",
      "-------------------------------, 0 days, 15 hours, 12 minutes, 53 seconds\n",
      "\n"
     ]
    },
    {
     "name": "stderr",
     "output_type": "stream",
     "text": [
      "Processing epoch 109: 100%|██████████| 712/712 [08:19<00:00,  1.43it/s, loss=3.025180, lr=0.000000000]\n",
      "Processing validation examples: 100%|██████████| 1458/1458 [00:03<00:00, 445.95it/s, BLEU=0.011159159, METEOR=0.192747601]\n"
     ]
    },
    {
     "name": "stdout",
     "output_type": "stream",
     "text": [
      "--------------------------------------------------------------------------------\n",
      "SOURCE: What is this din? What's going on?\n",
      "TARGET: ¿Qué es este escándalo, qué pasa?\n",
      "PREDICTED: ¿ Qué está pasando ? . . a . a . de un\n",
      "--------------------------------------------------------------------------------\n",
      "\n",
      "Epoch 110\n",
      "-------------------------------, 0 days, 15 hours, 21 minutes, 16 seconds\n",
      "\n"
     ]
    },
    {
     "name": "stderr",
     "output_type": "stream",
     "text": [
      "Processing epoch 110: 100%|██████████| 712/712 [08:18<00:00,  1.43it/s, loss=3.077365, lr=0.000000000]\n",
      "Processing validation examples: 100%|██████████| 1458/1458 [00:03<00:00, 453.41it/s, BLEU=0.009128249, METEOR=0.194171013]\n"
     ]
    },
    {
     "name": "stdout",
     "output_type": "stream",
     "text": [
      "--------------------------------------------------------------------------------\n",
      "SOURCE: It was just some stupid... fairy-tale rave.\n",
      "TARGET: Sólo fue una estúpida... fiesta de cuentos de hadas.\n",
      "PREDICTED: Fue una historia triste ... una de su . en un . de una\n",
      "--------------------------------------------------------------------------------\n",
      "\n",
      "Epoch 111\n",
      "-------------------------------, 0 days, 15 hours, 29 minutes, 38 seconds\n",
      "\n"
     ]
    },
    {
     "name": "stderr",
     "output_type": "stream",
     "text": [
      "Processing epoch 111: 100%|██████████| 712/712 [08:18<00:00,  1.43it/s, loss=3.066282, lr=0.000000000]\n",
      "Processing validation examples: 100%|██████████| 1458/1458 [00:03<00:00, 434.87it/s, BLEU=0.010636626, METEOR=0.195887748]\n"
     ]
    },
    {
     "name": "stdout",
     "output_type": "stream",
     "text": [
      "--------------------------------------------------------------------------------\n",
      "SOURCE: Isn't that right, Seth?\n",
      "TARGET: ¿No es así, Seth?\n",
      "PREDICTED: ¿ No es tan Seth ? a las . . . a las .\n",
      "--------------------------------------------------------------------------------\n",
      "\n",
      "Epoch 112\n",
      "-------------------------------, 0 days, 15 hours, 38 minutes, 0 seconds\n",
      "\n"
     ]
    },
    {
     "name": "stderr",
     "output_type": "stream",
     "text": [
      "Processing epoch 112: 100%|██████████| 712/712 [08:18<00:00,  1.43it/s, loss=3.101019, lr=0.000000000]\n",
      "Processing validation examples: 100%|██████████| 1458/1458 [00:03<00:00, 455.66it/s, BLEU=0.009711229, METEOR=0.196069934]\n"
     ]
    },
    {
     "name": "stdout",
     "output_type": "stream",
     "text": [
      "--------------------------------------------------------------------------------\n",
      "SOURCE: Ah, that's easy, Sal.\n",
      "TARGET: Eso es fácil.\n",
      "PREDICTED: Eso es fácil , Sal . . . . . . . .\n",
      "--------------------------------------------------------------------------------\n",
      "\n",
      "Epoch 113\n",
      "-------------------------------, 0 days, 15 hours, 46 minutes, 21 seconds\n",
      "\n"
     ]
    },
    {
     "name": "stderr",
     "output_type": "stream",
     "text": [
      "Processing epoch 113: 100%|██████████| 712/712 [08:19<00:00,  1.43it/s, loss=3.032236, lr=0.000000000]\n",
      "Processing validation examples: 100%|██████████| 1458/1458 [00:03<00:00, 447.97it/s, BLEU=0.011587951, METEOR=0.198197730]\n"
     ]
    },
    {
     "name": "stdout",
     "output_type": "stream",
     "text": [
      "--------------------------------------------------------------------------------\n",
      "SOURCE: - Will you marry me? - No. - Can I ask you a favour?\n",
      "TARGET: -¿Puedo pedirte un favor?\n",
      "PREDICTED: - ¿ Me das un favor ? de . con esto . . . .\n",
      "--------------------------------------------------------------------------------\n",
      "\n",
      "Epoch 114\n",
      "-------------------------------, 0 days, 15 hours, 54 minutes, 44 seconds\n",
      "\n"
     ]
    },
    {
     "name": "stderr",
     "output_type": "stream",
     "text": [
      "Processing epoch 114: 100%|██████████| 712/712 [08:18<00:00,  1.43it/s, loss=3.127697, lr=0.000000000]\n",
      "Processing validation examples: 100%|██████████| 1458/1458 [00:03<00:00, 441.16it/s, BLEU=0.011855460, METEOR=0.197813281]\n"
     ]
    },
    {
     "name": "stdout",
     "output_type": "stream",
     "text": [
      "--------------------------------------------------------------------------------\n",
      "SOURCE: Well an extraordinary story.\n",
      "TARGET: Bueno, una historia extraordinaria.\n",
      "PREDICTED: Bueno una historia extraordinario . . . . . . . .\n",
      "--------------------------------------------------------------------------------\n",
      "\n",
      "Epoch 115\n",
      "-------------------------------, 0 days, 16 hours, 3 minutes, 6 seconds\n",
      "\n"
     ]
    },
    {
     "name": "stderr",
     "output_type": "stream",
     "text": [
      "Processing epoch 115: 100%|██████████| 712/712 [08:18<00:00,  1.43it/s, loss=3.018272, lr=0.000000000]\n",
      "Processing validation examples: 100%|██████████| 1458/1458 [00:03<00:00, 455.65it/s, BLEU=0.011122329, METEOR=0.197524196]\n"
     ]
    },
    {
     "name": "stdout",
     "output_type": "stream",
     "text": [
      "--------------------------------------------------------------------------------\n",
      "SOURCE: Well, the law says you have that right.\n",
      "TARGET: Bueno, la ley dice que tienes ese derecho.\n",
      "PREDICTED: Bueno , la ley dice que tienes razón . . . . . .\n",
      "--------------------------------------------------------------------------------\n",
      "\n",
      "Epoch 116\n",
      "-------------------------------, 0 days, 16 hours, 11 minutes, 28 seconds\n",
      "\n"
     ]
    },
    {
     "name": "stderr",
     "output_type": "stream",
     "text": [
      "Processing epoch 116: 100%|██████████| 712/712 [08:18<00:00,  1.43it/s, loss=2.987785, lr=0.000000000]\n",
      "Processing validation examples: 100%|██████████| 1458/1458 [00:03<00:00, 449.10it/s, BLEU=0.010711469, METEOR=0.193835704]\n"
     ]
    },
    {
     "name": "stdout",
     "output_type": "stream",
     "text": [
      "--------------------------------------------------------------------------------\n",
      "SOURCE: The ghost is behind you!\n",
      "TARGET: El fantasma está detrás de ti!\n",
      "PREDICTED: ¡ El fantasma se vuelve ! . . . . . .\n",
      "--------------------------------------------------------------------------------\n",
      "\n",
      "Epoch 117\n",
      "-------------------------------, 0 days, 16 hours, 19 minutes, 50 seconds\n",
      "\n"
     ]
    },
    {
     "name": "stderr",
     "output_type": "stream",
     "text": [
      "Processing epoch 117: 100%|██████████| 712/712 [08:19<00:00,  1.43it/s, loss=3.044141, lr=0.000000000]\n",
      "Processing validation examples: 100%|██████████| 1458/1458 [00:03<00:00, 456.99it/s, BLEU=0.010481529, METEOR=0.196998871]\n"
     ]
    },
    {
     "name": "stdout",
     "output_type": "stream",
     "text": [
      "--------------------------------------------------------------------------------\n",
      "SOURCE: She won't go to hospital.\n",
      "TARGET: Ella no irá al hospital.\n",
      "PREDICTED: No va a ir al hospital . a la escuela . a la escuela . .\n",
      "--------------------------------------------------------------------------------\n",
      "\n",
      "Epoch 118\n",
      "-------------------------------, 0 days, 16 hours, 28 minutes, 12 seconds\n",
      "\n"
     ]
    },
    {
     "name": "stderr",
     "output_type": "stream",
     "text": [
      "Processing epoch 118: 100%|██████████| 712/712 [08:18<00:00,  1.43it/s, loss=3.099089, lr=0.000000000]\n",
      "Processing validation examples: 100%|██████████| 1458/1458 [00:03<00:00, 449.70it/s, BLEU=0.010688040, METEOR=0.194939741]\n"
     ]
    },
    {
     "name": "stdout",
     "output_type": "stream",
     "text": [
      "--------------------------------------------------------------------------------\n",
      "SOURCE: I'm going to go to Liverpool and discover The Beatles.\n",
      "TARGET: Voy a ir a Liverpool y descubrir a Los Beatles.\n",
      "PREDICTED: Voy a llamar a los Beatles . a los niños . a los niños . a los\n",
      "--------------------------------------------------------------------------------\n",
      "\n",
      "Epoch 119\n",
      "-------------------------------, 0 days, 16 hours, 36 minutes, 34 seconds\n",
      "\n"
     ]
    },
    {
     "name": "stderr",
     "output_type": "stream",
     "text": [
      "Processing epoch 119: 100%|██████████| 712/712 [08:18<00:00,  1.43it/s, loss=2.968488, lr=0.000000000]\n",
      "Processing validation examples: 100%|██████████| 1458/1458 [00:03<00:00, 444.40it/s, BLEU=0.011072256, METEOR=0.194860367]\n"
     ]
    },
    {
     "name": "stdout",
     "output_type": "stream",
     "text": [
      "--------------------------------------------------------------------------------\n",
      "SOURCE: Just sign the fucking document.\n",
      "TARGET: Firma el puto documento. Está bien.\n",
      "PREDICTED: ¡ el documento ! al maldito documento . al maldito documento . . .\n",
      "--------------------------------------------------------------------------------\n",
      "\n",
      "Epoch 120\n",
      "-------------------------------, 0 days, 16 hours, 44 minutes, 56 seconds\n",
      "\n"
     ]
    },
    {
     "name": "stderr",
     "output_type": "stream",
     "text": [
      "Processing epoch 120: 100%|██████████| 712/712 [08:18<00:00,  1.43it/s, loss=2.965745, lr=0.000000000]\n",
      "Processing validation examples: 100%|██████████| 1458/1458 [00:03<00:00, 439.82it/s, BLEU=0.010664243, METEOR=0.195842683]\n"
     ]
    },
    {
     "name": "stdout",
     "output_type": "stream",
     "text": [
      "--------------------------------------------------------------------------------\n",
      "SOURCE: He says, whoever talks will be swallowed up by the evil spirits of the rapids.\n",
      "TARGET: Que quien hable será engullido por los espíritus malignos del remolino.\n",
      "PREDICTED: Dice que que los sobre el silencio de los . a los .\n",
      "--------------------------------------------------------------------------------\n",
      "\n",
      "Epoch 121\n",
      "-------------------------------, 0 days, 16 hours, 53 minutes, 18 seconds\n",
      "\n"
     ]
    },
    {
     "name": "stderr",
     "output_type": "stream",
     "text": [
      "Processing epoch 121: 100%|██████████| 712/712 [08:19<00:00,  1.43it/s, loss=3.040096, lr=0.000000000]\n",
      "Processing validation examples: 100%|██████████| 1458/1458 [00:03<00:00, 466.10it/s, BLEU=0.010221049, METEOR=0.195937155]\n"
     ]
    },
    {
     "name": "stdout",
     "output_type": "stream",
     "text": [
      "--------------------------------------------------------------------------------\n",
      "SOURCE: · The operational section of the CEP must be changed sufficiently to ensure its neutrality.\n",
      "TARGET: · La sección de operaciones del CEP deberá ser suficientemente modificada a fin de asegurar su imparcialidad.\n",
      "PREDICTED: · Para su funcionamiento y la debe ser necesario para su funcionamiento del funcionamiento del funcionamiento . .\n",
      "--------------------------------------------------------------------------------\n",
      "\n",
      "Epoch 122\n",
      "-------------------------------, 0 days, 17 hours, 1 minutes, 40 seconds\n",
      "\n"
     ]
    },
    {
     "name": "stderr",
     "output_type": "stream",
     "text": [
      "Processing epoch 122: 100%|██████████| 712/712 [08:18<00:00,  1.43it/s, loss=3.001379, lr=0.000000000]\n",
      "Processing validation examples: 100%|██████████| 1458/1458 [00:03<00:00, 447.49it/s, BLEU=0.010379372, METEOR=0.192909745]\n"
     ]
    },
    {
     "name": "stdout",
     "output_type": "stream",
     "text": [
      "--------------------------------------------------------------------------------\n",
      "SOURCE: I just wanted to thank you for the rose.\n",
      "TARGET: Sólo quería... darte las gracias por la rosa.\n",
      "PREDICTED: Sólo quería darte las gracias por la gracias . . . por ti . .\n",
      "--------------------------------------------------------------------------------\n",
      "\n",
      "Epoch 123\n",
      "-------------------------------, 0 days, 17 hours, 10 minutes, 2 seconds\n",
      "\n"
     ]
    },
    {
     "name": "stderr",
     "output_type": "stream",
     "text": [
      "Processing epoch 123: 100%|██████████| 712/712 [08:18<00:00,  1.43it/s, loss=2.918663, lr=0.000000000]\n",
      "Processing validation examples: 100%|██████████| 1458/1458 [00:03<00:00, 428.80it/s, BLEU=0.009936728, METEOR=0.194167439]\n"
     ]
    },
    {
     "name": "stdout",
     "output_type": "stream",
     "text": [
      "--------------------------------------------------------------------------------\n",
      "SOURCE: He's using a lot of hot water.\n",
      "TARGET: Utiliza un montón de agua caliente.\n",
      "PREDICTED: Está un poco caliente de agua . a un montón de agua . . . .\n",
      "--------------------------------------------------------------------------------\n",
      "\n",
      "Epoch 124\n",
      "-------------------------------, 0 days, 17 hours, 18 minutes, 23 seconds\n",
      "\n"
     ]
    },
    {
     "name": "stderr",
     "output_type": "stream",
     "text": [
      "Processing epoch 124: 100%|██████████| 712/712 [08:19<00:00,  1.43it/s, loss=2.965253, lr=0.000000000]\n",
      "Processing validation examples: 100%|██████████| 1458/1458 [00:03<00:00, 425.44it/s, BLEU=0.011887357, METEOR=0.195961524]\n"
     ]
    },
    {
     "name": "stdout",
     "output_type": "stream",
     "text": [
      "--------------------------------------------------------------------------------\n",
      "SOURCE: The city of Breda was heavily fortified and defended by a garrison of 7,000 Dutch soldiers.\n",
      "TARGET: La ciudad estaba fuertemente fortificada y defendida por una guarnición de 14.000 soldados.\n",
      "PREDICTED: El de la ciudad fue de siete millones de y por los trabajadores de seguridad .\n",
      "--------------------------------------------------------------------------------\n",
      "\n",
      "Epoch 125\n",
      "-------------------------------, 0 days, 17 hours, 26 minutes, 46 seconds\n",
      "\n"
     ]
    },
    {
     "name": "stderr",
     "output_type": "stream",
     "text": [
      "Processing epoch 125: 100%|██████████| 712/712 [08:18<00:00,  1.43it/s, loss=2.997117, lr=0.000000000]\n",
      "Processing validation examples: 100%|██████████| 1458/1458 [00:03<00:00, 451.59it/s, BLEU=0.010626577, METEOR=0.193663074]\n"
     ]
    },
    {
     "name": "stdout",
     "output_type": "stream",
     "text": [
      "--------------------------------------------------------------------------------\n",
      "SOURCE: James Lacey.\n",
      "TARGET: James Lacey.\n",
      "PREDICTED: Lacey Lacey . a Lacey . a Lacey . a Lacey . . .\n",
      "--------------------------------------------------------------------------------\n",
      "\n",
      "Epoch 126\n",
      "-------------------------------, 0 days, 17 hours, 35 minutes, 8 seconds\n",
      "\n"
     ]
    },
    {
     "name": "stderr",
     "output_type": "stream",
     "text": [
      "Processing epoch 126: 100%|██████████| 712/712 [08:18<00:00,  1.43it/s, loss=2.919504, lr=0.000000000]\n",
      "Processing validation examples: 100%|██████████| 1458/1458 [00:03<00:00, 448.91it/s, BLEU=0.010932651, METEOR=0.196380086]\n"
     ]
    },
    {
     "name": "stdout",
     "output_type": "stream",
     "text": [
      "--------------------------------------------------------------------------------\n",
      "SOURCE: The song was mixed by Mark 'Spike' Stent.\n",
      "TARGET: La canción fue mezclada por Mark 'Spike' Stent.\n",
      "PREDICTED: La canción que estaba por Spike ' . en el anillo de Spike . .\n",
      "--------------------------------------------------------------------------------\n",
      "\n",
      "Epoch 127\n",
      "-------------------------------, 0 days, 17 hours, 43 minutes, 30 seconds\n",
      "\n"
     ]
    },
    {
     "name": "stderr",
     "output_type": "stream",
     "text": [
      "Processing epoch 127: 100%|██████████| 712/712 [08:18<00:00,  1.43it/s, loss=2.884293, lr=0.000000000]\n",
      "Processing validation examples: 100%|██████████| 1458/1458 [00:03<00:00, 459.72it/s, BLEU=0.010187167, METEOR=0.194113791]\n"
     ]
    },
    {
     "name": "stdout",
     "output_type": "stream",
     "text": [
      "--------------------------------------------------------------------------------\n",
      "SOURCE: Only that night I drank my wine and as I recall...\n",
      "TARGET: Sólo que esa noche yo bebí mi vino y me parece recordar que...\n",
      "PREDICTED: Sólo quiero que mi vino y la noche que me ... y ... ... ...\n",
      "--------------------------------------------------------------------------------\n",
      "\n",
      "Epoch 128\n",
      "-------------------------------, 0 days, 17 hours, 51 minutes, 52 seconds\n",
      "\n"
     ]
    },
    {
     "name": "stderr",
     "output_type": "stream",
     "text": [
      "Processing epoch 128: 100%|██████████| 712/712 [08:18<00:00,  1.43it/s, loss=2.923720, lr=0.000000000]\n",
      "Processing validation examples: 100%|██████████| 1458/1458 [00:03<00:00, 450.36it/s, BLEU=0.011590106, METEOR=0.193661899]\n"
     ]
    },
    {
     "name": "stdout",
     "output_type": "stream",
     "text": [
      "--------------------------------------------------------------------------------\n",
      "SOURCE: Haven't you ever heard of it?\n",
      "TARGET: ¿No lo conoces?\n",
      "PREDICTED: ¿ No has oído hablar de él ? de alguna vez . de alguna vez . .\n",
      "--------------------------------------------------------------------------------\n",
      "\n",
      "Epoch 129\n",
      "-------------------------------, 0 days, 18 hours, 0 minutes, 14 seconds\n",
      "\n"
     ]
    },
    {
     "name": "stderr",
     "output_type": "stream",
     "text": [
      "Processing epoch 129: 100%|██████████| 712/712 [08:18<00:00,  1.43it/s, loss=2.922182, lr=0.000000000]\n",
      "Processing validation examples: 100%|██████████| 1458/1458 [00:03<00:00, 439.04it/s, BLEU=0.011246288, METEOR=0.193521986]\n"
     ]
    },
    {
     "name": "stdout",
     "output_type": "stream",
     "text": [
      "--------------------------------------------------------------------------------\n",
      "SOURCE: So a compromise was reached.\n",
      "TARGET: Un compromiso fue alcanzado tan.\n",
      "PREDICTED: Así que se ha ido a un compromiso . . a un acuerdo con nosotros . .\n",
      "--------------------------------------------------------------------------------\n",
      "\n",
      "Epoch 130\n",
      "-------------------------------, 0 days, 18 hours, 8 minutes, 36 seconds\n",
      "\n"
     ]
    },
    {
     "name": "stderr",
     "output_type": "stream",
     "text": [
      "Processing epoch 130: 100%|██████████| 712/712 [08:19<00:00,  1.43it/s, loss=2.949348, lr=0.000000000]\n",
      "Processing validation examples: 100%|██████████| 1458/1458 [00:03<00:00, 438.82it/s, BLEU=0.010405109, METEOR=0.193046379]\n"
     ]
    },
    {
     "name": "stdout",
     "output_type": "stream",
     "text": [
      "--------------------------------------------------------------------------------\n",
      "SOURCE: - No.\n",
      "TARGET: - No.\n",
      "PREDICTED: - No . . a un poco de de vuelta . . .\n",
      "--------------------------------------------------------------------------------\n",
      "\n",
      "Epoch 131\n",
      "-------------------------------, 0 days, 18 hours, 16 minutes, 58 seconds\n",
      "\n"
     ]
    },
    {
     "name": "stderr",
     "output_type": "stream",
     "text": [
      "Processing epoch 131: 100%|██████████| 712/712 [08:18<00:00,  1.43it/s, loss=2.895273, lr=0.000000000]\n",
      "Processing validation examples: 100%|██████████| 1458/1458 [00:03<00:00, 441.46it/s, BLEU=0.010032116, METEOR=0.192844998]\n"
     ]
    },
    {
     "name": "stdout",
     "output_type": "stream",
     "text": [
      "--------------------------------------------------------------------------------\n",
      "SOURCE: I'm not to wait on ladies, am I?\n",
      "TARGET: - ¿Tendré que ocuparme de las señoras?\n",
      "PREDICTED: - No estoy en las señoras , ¿ eh , señoras ? . . .\n",
      "--------------------------------------------------------------------------------\n",
      "\n",
      "Epoch 132\n",
      "-------------------------------, 0 days, 18 hours, 25 minutes, 20 seconds\n",
      "\n"
     ]
    },
    {
     "name": "stderr",
     "output_type": "stream",
     "text": [
      "Processing epoch 132: 100%|██████████| 712/712 [08:19<00:00,  1.43it/s, loss=2.922932, lr=0.000000000]\n",
      "Processing validation examples: 100%|██████████| 1458/1458 [00:03<00:00, 456.48it/s, BLEU=0.010772758, METEOR=0.192477738]\n"
     ]
    },
    {
     "name": "stdout",
     "output_type": "stream",
     "text": [
      "--------------------------------------------------------------------------------\n",
      "SOURCE: well actually that was the conference at Copenhagen\n",
      "TARGET: Bueno, de hecho fue en la conferencia de Copenhague.\n",
      "PREDICTED: Bueno , en realidad era una reunión en Copenhague . en la ciudad . . .\n",
      "--------------------------------------------------------------------------------\n",
      "\n",
      "Epoch 133\n",
      "-------------------------------, 0 days, 18 hours, 33 minutes, 43 seconds\n",
      "\n"
     ]
    },
    {
     "name": "stderr",
     "output_type": "stream",
     "text": [
      "Processing epoch 133: 100%|██████████| 712/712 [08:19<00:00,  1.43it/s, loss=2.918685, lr=0.000000000]\n",
      "Processing validation examples: 100%|██████████| 1458/1458 [00:03<00:00, 441.35it/s, BLEU=0.010005039, METEOR=0.193073628]\n"
     ]
    },
    {
     "name": "stdout",
     "output_type": "stream",
     "text": [
      "--------------------------------------------------------------------------------\n",
      "SOURCE: 07/046 of 12 June 2007 establishing the Border Police.\n",
      "TARGET: 07/046, de 12 de junio de 2007, de creación de la Policía de Fronteras.\n",
      "PREDICTED: 24 de junio de 2006 . 5 / 12 de junio de 2006\n",
      "--------------------------------------------------------------------------------\n",
      "\n",
      "Epoch 134\n",
      "-------------------------------, 0 days, 18 hours, 42 minutes, 5 seconds\n",
      "\n"
     ]
    },
    {
     "name": "stderr",
     "output_type": "stream",
     "text": [
      "Processing epoch 134: 100%|██████████| 712/712 [08:18<00:00,  1.43it/s, loss=2.930256, lr=0.000000000]\n",
      "Processing validation examples: 100%|██████████| 1458/1458 [00:03<00:00, 438.32it/s, BLEU=0.010986812, METEOR=0.194320402]\n"
     ]
    },
    {
     "name": "stdout",
     "output_type": "stream",
     "text": [
      "--------------------------------------------------------------------------------\n",
      "SOURCE: I'm not spazzing out.\n",
      "TARGET: No me volví loco.\n",
      "PREDICTED: No estoy . a la . a la . a la .\n",
      "--------------------------------------------------------------------------------\n",
      "\n",
      "Epoch 135\n",
      "-------------------------------, 0 days, 18 hours, 50 minutes, 27 seconds\n",
      "\n"
     ]
    },
    {
     "name": "stderr",
     "output_type": "stream",
     "text": [
      "Processing epoch 135: 100%|██████████| 712/712 [08:19<00:00,  1.43it/s, loss=2.862185, lr=0.000000000]\n",
      "Processing validation examples: 100%|██████████| 1458/1458 [00:03<00:00, 456.68it/s, BLEU=0.011497791, METEOR=0.194282740]\n"
     ]
    },
    {
     "name": "stdout",
     "output_type": "stream",
     "text": [
      "--------------------------------------------------------------------------------\n",
      "SOURCE: - I thought this was the bathroom.\n",
      "TARGET: Pensé que éste era el baño.\n",
      "PREDICTED: - Pensé que era el baño . . al baño del baño . . .\n",
      "--------------------------------------------------------------------------------\n",
      "\n",
      "Epoch 136\n",
      "-------------------------------, 0 days, 18 hours, 58 minutes, 50 seconds\n",
      "\n"
     ]
    },
    {
     "name": "stderr",
     "output_type": "stream",
     "text": [
      "Processing epoch 136: 100%|██████████| 712/712 [08:19<00:00,  1.43it/s, loss=2.955034, lr=0.000000000]\n",
      "Processing validation examples: 100%|██████████| 1458/1458 [00:03<00:00, 453.37it/s, BLEU=0.009855661, METEOR=0.194941129]\n"
     ]
    },
    {
     "name": "stdout",
     "output_type": "stream",
     "text": [
      "--------------------------------------------------------------------------------\n",
      "SOURCE: All right, we'll deduct some time.\n",
      "TARGET: Muy bien, vamos a deducir algún tiempo.\n",
      "PREDICTED: Todo bien , nos un momento . en el tiempo . al otro momento . .\n",
      "--------------------------------------------------------------------------------\n",
      "\n",
      "Epoch 137\n",
      "-------------------------------, 0 days, 19 hours, 7 minutes, 12 seconds\n",
      "\n"
     ]
    },
    {
     "name": "stderr",
     "output_type": "stream",
     "text": [
      "Processing epoch 137: 100%|██████████| 712/712 [08:19<00:00,  1.43it/s, loss=2.886823, lr=0.000000000]\n",
      "Processing validation examples: 100%|██████████| 1458/1458 [00:03<00:00, 440.71it/s, BLEU=0.010580124, METEOR=0.191814609]\n"
     ]
    },
    {
     "name": "stdout",
     "output_type": "stream",
     "text": [
      "--------------------------------------------------------------------------------\n",
      "SOURCE: The ministry of telecom awarded a mobile network operation contract to Egyptian Orascom\n",
      "TARGET: El ministerio de telecomunicaciones premió con una operación de red móvil a la egipcia Orascom\n",
      "PREDICTED: El usuario de esta operación le pidió una operación de alquiler de videos\n",
      "--------------------------------------------------------------------------------\n",
      "\n",
      "Epoch 138\n",
      "-------------------------------, 0 days, 19 hours, 15 minutes, 34 seconds\n",
      "\n"
     ]
    },
    {
     "name": "stderr",
     "output_type": "stream",
     "text": [
      "Processing epoch 138: 100%|██████████| 712/712 [08:18<00:00,  1.43it/s, loss=2.868927, lr=0.000000000]\n",
      "Processing validation examples: 100%|██████████| 1458/1458 [00:03<00:00, 439.18it/s, BLEU=0.009858385, METEOR=0.192551430]\n"
     ]
    },
    {
     "name": "stdout",
     "output_type": "stream",
     "text": [
      "--------------------------------------------------------------------------------\n",
      "SOURCE: All the blood is the same type.\n",
      "TARGET: Toda la sangre es del mismo tipo.\n",
      "PREDICTED: Todo el mismo tipo de sangre es la misma . . . . .\n",
      "--------------------------------------------------------------------------------\n",
      "\n",
      "Epoch 139\n",
      "-------------------------------, 0 days, 19 hours, 23 minutes, 56 seconds\n",
      "\n"
     ]
    },
    {
     "name": "stderr",
     "output_type": "stream",
     "text": [
      "Processing epoch 139: 100%|██████████| 712/712 [08:18<00:00,  1.43it/s, loss=2.893588, lr=0.000000000]\n",
      "Processing validation examples: 100%|██████████| 1458/1458 [00:03<00:00, 442.02it/s, BLEU=0.011094212, METEOR=0.193682306]\n"
     ]
    },
    {
     "name": "stdout",
     "output_type": "stream",
     "text": [
      "--------------------------------------------------------------------------------\n",
      "SOURCE: - My partner .\n",
      "TARGET: - Mi compañera.\n",
      "PREDICTED: - Mi socio . . . . . . de que .\n",
      "--------------------------------------------------------------------------------\n",
      "\n",
      "Epoch 140\n",
      "-------------------------------, 0 days, 19 hours, 32 minutes, 19 seconds\n",
      "\n"
     ]
    },
    {
     "name": "stderr",
     "output_type": "stream",
     "text": [
      "Processing epoch 140: 100%|██████████| 712/712 [08:18<00:00,  1.43it/s, loss=2.933000, lr=0.000000000]\n",
      "Processing validation examples: 100%|██████████| 1458/1458 [00:03<00:00, 442.28it/s, BLEU=0.011062782, METEOR=0.192538810]\n"
     ]
    },
    {
     "name": "stdout",
     "output_type": "stream",
     "text": [
      "--------------------------------------------------------------------------------\n",
      "SOURCE: No one has the right to make anyone swear it perhaps\n",
      "TARGET: Nadie tiene el derecho de hacerle jurar a alguien algo así.\n",
      "PREDICTED: Nadie tiene que a nadie que lo haga . . . a él , .\n",
      "--------------------------------------------------------------------------------\n",
      "\n",
      "Epoch 141\n",
      "-------------------------------, 0 days, 19 hours, 40 minutes, 41 seconds\n",
      "\n"
     ]
    },
    {
     "name": "stderr",
     "output_type": "stream",
     "text": [
      "Processing epoch 141: 100%|██████████| 712/712 [08:18<00:00,  1.43it/s, loss=2.926468, lr=0.000000000]\n",
      "Processing validation examples: 100%|██████████| 1458/1458 [00:03<00:00, 449.82it/s, BLEU=0.009867302, METEOR=0.192235859]\n"
     ]
    },
    {
     "name": "stdout",
     "output_type": "stream",
     "text": [
      "--------------------------------------------------------------------------------\n",
      "SOURCE: The car's not for sale, Suzanne.\n",
      "TARGET: El auto no está en venta, Suzanne.\n",
      "PREDICTED: La casa no es para Richard . . . . . . .\n",
      "--------------------------------------------------------------------------------\n",
      "\n",
      "Epoch 142\n",
      "-------------------------------, 0 days, 19 hours, 49 minutes, 3 seconds\n",
      "\n"
     ]
    },
    {
     "name": "stderr",
     "output_type": "stream",
     "text": [
      "Processing epoch 142: 100%|██████████| 712/712 [08:18<00:00,  1.43it/s, loss=2.874341, lr=0.000000000]\n",
      "Processing validation examples: 100%|██████████| 1458/1458 [00:03<00:00, 436.32it/s, BLEU=0.010768747, METEOR=0.195978563]\n"
     ]
    },
    {
     "name": "stdout",
     "output_type": "stream",
     "text": [
      "--------------------------------------------------------------------------------\n",
      "SOURCE: And it's like I want to do something to help you.\n",
      "TARGET: Es como que quiero hacer algo para ayudarte.\n",
      "PREDICTED: Y es algo que quiero ayudarte . a algo como si fuera algo de lo que quiera . .\n",
      "--------------------------------------------------------------------------------\n",
      "\n",
      "Epoch 143\n",
      "-------------------------------, 0 days, 19 hours, 57 minutes, 25 seconds\n",
      "\n"
     ]
    },
    {
     "name": "stderr",
     "output_type": "stream",
     "text": [
      "Processing epoch 143: 100%|██████████| 712/712 [08:19<00:00,  1.43it/s, loss=2.821547, lr=0.000000000]\n",
      "Processing validation examples: 100%|██████████| 1458/1458 [00:03<00:00, 440.47it/s, BLEU=0.010105994, METEOR=0.190244493]\n"
     ]
    },
    {
     "name": "stdout",
     "output_type": "stream",
     "text": [
      "--------------------------------------------------------------------------------\n",
      "SOURCE: Blue tag, in the new building, right behind us.\n",
      "TARGET: Los de etiqueta azul, al nuevo edificio.\n",
      "PREDICTED: en la computadora , justo detrás de nosotros . detrás . justo justo justo detrás .\n",
      "--------------------------------------------------------------------------------\n",
      "\n",
      "Epoch 144\n",
      "-------------------------------, 0 days, 20 hours, 5 minutes, 47 seconds\n",
      "\n"
     ]
    },
    {
     "name": "stderr",
     "output_type": "stream",
     "text": [
      "Processing epoch 144: 100%|██████████| 712/712 [08:19<00:00,  1.43it/s, loss=2.860220, lr=0.000000000]\n",
      "Processing validation examples: 100%|██████████| 1458/1458 [00:03<00:00, 444.15it/s, BLEU=0.009588125, METEOR=0.192576790]\n"
     ]
    },
    {
     "name": "stdout",
     "output_type": "stream",
     "text": [
      "--------------------------------------------------------------------------------\n",
      "SOURCE: He's left the door open.\n",
      "TARGET: Ha dejado la puerta abierta.\n",
      "PREDICTED: Se ha ido a abrir la puerta . la puerta . a la puerta . . .\n",
      "--------------------------------------------------------------------------------\n",
      "\n",
      "Epoch 145\n",
      "-------------------------------, 0 days, 20 hours, 14 minutes, 10 seconds\n",
      "\n"
     ]
    },
    {
     "name": "stderr",
     "output_type": "stream",
     "text": [
      "Processing epoch 145: 100%|██████████| 712/712 [08:18<00:00,  1.43it/s, loss=2.842768, lr=0.000000000]\n",
      "Processing validation examples: 100%|██████████| 1458/1458 [00:03<00:00, 454.39it/s, BLEU=0.009977804, METEOR=0.190705626]\n"
     ]
    },
    {
     "name": "stdout",
     "output_type": "stream",
     "text": [
      "--------------------------------------------------------------------------------\n",
      "SOURCE: It's a university.\n",
      "TARGET: Es una universidad.\n",
      "PREDICTED: Es una universidad . a la universidad . a la universidad . a la universidad .\n",
      "--------------------------------------------------------------------------------\n",
      "\n",
      "Epoch 146\n",
      "-------------------------------, 0 days, 20 hours, 22 minutes, 32 seconds\n",
      "\n"
     ]
    },
    {
     "name": "stderr",
     "output_type": "stream",
     "text": [
      "Processing epoch 146: 100%|██████████| 712/712 [08:19<00:00,  1.43it/s, loss=2.930496, lr=0.000000000]\n",
      "Processing validation examples: 100%|██████████| 1458/1458 [00:03<00:00, 417.74it/s, BLEU=0.010943908, METEOR=0.193892354]\n"
     ]
    },
    {
     "name": "stdout",
     "output_type": "stream",
     "text": [
      "--------------------------------------------------------------------------------\n",
      "SOURCE: Just some trash.\n",
      "TARGET: Solo basura.\n",
      "PREDICTED: Sólo una basura . a un poco de basura . a algunos de los basura . .\n",
      "--------------------------------------------------------------------------------\n",
      "\n",
      "Epoch 147\n",
      "-------------------------------, 0 days, 20 hours, 30 minutes, 54 seconds\n",
      "\n"
     ]
    },
    {
     "name": "stderr",
     "output_type": "stream",
     "text": [
      "Processing epoch 147: 100%|██████████| 712/712 [08:19<00:00,  1.43it/s, loss=2.810501, lr=0.000000000]\n",
      "Processing validation examples: 100%|██████████| 1458/1458 [00:03<00:00, 442.32it/s, BLEU=0.009650355, METEOR=0.191668507]\n"
     ]
    },
    {
     "name": "stdout",
     "output_type": "stream",
     "text": [
      "--------------------------------------------------------------------------------\n",
      "SOURCE: - Yes, sir! - Mr. Secretary?\n",
      "TARGET: ¿Sr. Secretario?\n",
      "PREDICTED: - ¿ Señor Secretario dólares ? . , señor . . , señor . .\n",
      "--------------------------------------------------------------------------------\n",
      "\n",
      "Epoch 148\n",
      "-------------------------------, 0 days, 20 hours, 39 minutes, 17 seconds\n",
      "\n"
     ]
    },
    {
     "name": "stderr",
     "output_type": "stream",
     "text": [
      "Processing epoch 148: 100%|██████████| 712/712 [08:18<00:00,  1.43it/s, loss=2.820068, lr=0.000000000]\n",
      "Processing validation examples: 100%|██████████| 1458/1458 [00:03<00:00, 439.23it/s, BLEU=0.011599211, METEOR=0.192240414]\n"
     ]
    },
    {
     "name": "stdout",
     "output_type": "stream",
     "text": [
      "--------------------------------------------------------------------------------\n",
      "SOURCE: Did you talk to your folks?\n",
      "TARGET: ¿Hablaste con tus padres?\n",
      "PREDICTED: ¿ a tu familia ? a hablar con ella . a tu familia . .\n",
      "--------------------------------------------------------------------------------\n",
      "\n",
      "Epoch 149\n",
      "-------------------------------, 0 days, 20 hours, 47 minutes, 39 seconds\n",
      "\n"
     ]
    },
    {
     "name": "stderr",
     "output_type": "stream",
     "text": [
      "Processing epoch 149: 100%|██████████| 712/712 [08:18<00:00,  1.43it/s, loss=2.828666, lr=0.000000000]\n",
      "Processing validation examples: 100%|██████████| 1458/1458 [00:03<00:00, 442.87it/s, BLEU=0.010447649, METEOR=0.190840587]\n"
     ]
    },
    {
     "name": "stdout",
     "output_type": "stream",
     "text": [
      "--------------------------------------------------------------------------------\n",
      "SOURCE: Let's go, Big.\n",
      "TARGET: Vamos, Gordo.\n",
      "PREDICTED: Vamos , Big . . . . . . . . .\n",
      "--------------------------------------------------------------------------------\n",
      "\n",
      "Epoch 150\n",
      "-------------------------------, 0 days, 20 hours, 56 minutes, 1 seconds\n",
      "\n"
     ]
    },
    {
     "name": "stderr",
     "output_type": "stream",
     "text": [
      "Processing epoch 150: 100%|██████████| 712/712 [08:18<00:00,  1.43it/s, loss=2.872997, lr=0.000000000]\n",
      "Processing validation examples: 100%|██████████| 1458/1458 [00:03<00:00, 450.11it/s, BLEU=0.009133076, METEOR=0.189515971]\n"
     ]
    },
    {
     "name": "stdout",
     "output_type": "stream",
     "text": [
      "--------------------------------------------------------------------------------\n",
      "SOURCE: - I earn my living!\n",
      "TARGET: - ¡Me gano la vida!\n",
      "PREDICTED: ¡ Yo vivo mi vida ! en mi vida . . . . .\n",
      "--------------------------------------------------------------------------------\n",
      "\n",
      "Epoch 151\n",
      "-------------------------------, 0 days, 21 hours, 4 minutes, 22 seconds\n",
      "\n"
     ]
    },
    {
     "name": "stderr",
     "output_type": "stream",
     "text": [
      "Processing epoch 151: 100%|██████████| 712/712 [08:18<00:00,  1.43it/s, loss=2.776937, lr=0.000000000]\n",
      "Processing validation examples: 100%|██████████| 1458/1458 [00:03<00:00, 446.62it/s, BLEU=0.010266932, METEOR=0.192970785]\n"
     ]
    },
    {
     "name": "stdout",
     "output_type": "stream",
     "text": [
      "--------------------------------------------------------------------------------\n",
      "SOURCE: Vinny's like, you know, I really wanna go in the jacuzzi.\n",
      "TARGET: Vinny estaba como, de verdad quiero ir al jacuzzi.\n",
      "PREDICTED: , me parece que realmente quieres estar en el . en el lugar de verdad .\n",
      "--------------------------------------------------------------------------------\n",
      "\n",
      "Epoch 152\n",
      "-------------------------------, 0 days, 21 hours, 12 minutes, 45 seconds\n",
      "\n"
     ]
    },
    {
     "name": "stderr",
     "output_type": "stream",
     "text": [
      "Processing epoch 152: 100%|██████████| 712/712 [08:18<00:00,  1.43it/s, loss=2.828337, lr=0.000000000]\n",
      "Processing validation examples: 100%|██████████| 1458/1458 [00:03<00:00, 436.77it/s, BLEU=0.010249481, METEOR=0.189166138]\n"
     ]
    },
    {
     "name": "stdout",
     "output_type": "stream",
     "text": [
      "--------------------------------------------------------------------------------\n",
      "SOURCE: - Is Amy joining us today?\n",
      "TARGET: ¿Amy nos acompañará hoy?\n",
      "PREDICTED: - ¿ Hoy hoy se va con Amy ? . . . . hoy\n",
      "--------------------------------------------------------------------------------\n",
      "\n",
      "Epoch 153\n",
      "-------------------------------, 0 days, 21 hours, 21 minutes, 7 seconds\n",
      "\n"
     ]
    },
    {
     "name": "stderr",
     "output_type": "stream",
     "text": [
      "Processing epoch 153: 100%|██████████| 712/712 [08:18<00:00,  1.43it/s, loss=2.777205, lr=0.000000000]\n",
      "Processing validation examples: 100%|██████████| 1458/1458 [00:03<00:00, 439.58it/s, BLEU=0.010039808, METEOR=0.191578390]\n"
     ]
    },
    {
     "name": "stdout",
     "output_type": "stream",
     "text": [
      "--------------------------------------------------------------------------------\n",
      "SOURCE: That's good, you got it.\n",
      "TARGET: Muy bien, los tengo.\n",
      "PREDICTED: Eso es bueno , lo tienes . . . . . en tu vida .\n",
      "--------------------------------------------------------------------------------\n",
      "\n",
      "Epoch 154\n",
      "-------------------------------, 0 days, 21 hours, 29 minutes, 29 seconds\n",
      "\n"
     ]
    },
    {
     "name": "stderr",
     "output_type": "stream",
     "text": [
      "Processing epoch 154: 100%|██████████| 712/712 [08:18<00:00,  1.43it/s, loss=2.826667, lr=0.000000000]\n",
      "Processing validation examples: 100%|██████████| 1458/1458 [00:03<00:00, 433.73it/s, BLEU=0.010298298, METEOR=0.190493721]\n"
     ]
    },
    {
     "name": "stdout",
     "output_type": "stream",
     "text": [
      "--------------------------------------------------------------------------------\n",
      "SOURCE: - I released my own single, if that's a waste.\n",
      "TARGET: - Saqué mi propio single, si eso es malo.\n",
      "PREDICTED: - Yo también lo . a mi propia mina . a mi propio tiempo . .\n",
      "--------------------------------------------------------------------------------\n",
      "\n",
      "Epoch 155\n",
      "-------------------------------, 0 days, 21 hours, 37 minutes, 50 seconds\n",
      "\n"
     ]
    },
    {
     "name": "stderr",
     "output_type": "stream",
     "text": [
      "Processing epoch 155: 100%|██████████| 712/712 [08:18<00:00,  1.43it/s, loss=2.843855, lr=0.000000000]\n",
      "Processing validation examples: 100%|██████████| 1458/1458 [00:03<00:00, 441.25it/s, BLEU=0.009731471, METEOR=0.193370284]\n"
     ]
    },
    {
     "name": "stdout",
     "output_type": "stream",
     "text": [
      "--------------------------------------------------------------------------------\n",
      "SOURCE: - Michael, - sometimes...\n",
      "TARGET: - ...a veces...\n",
      "PREDICTED: - Michael , a veces ... a la noche . a veces . a la noche .\n",
      "--------------------------------------------------------------------------------\n",
      "\n",
      "Epoch 156\n",
      "-------------------------------, 0 days, 21 hours, 46 minutes, 12 seconds\n",
      "\n"
     ]
    },
    {
     "name": "stderr",
     "output_type": "stream",
     "text": [
      "Processing epoch 156: 100%|██████████| 712/712 [08:18<00:00,  1.43it/s, loss=2.871549, lr=0.000000000]\n",
      "Processing validation examples: 100%|██████████| 1458/1458 [00:03<00:00, 433.64it/s, BLEU=0.009867412, METEOR=0.192398339]\n"
     ]
    },
    {
     "name": "stdout",
     "output_type": "stream",
     "text": [
      "--------------------------------------------------------------------------------\n",
      "SOURCE: So a compromise was reached.\n",
      "TARGET: Un compromiso fue alcanzado tan.\n",
      "PREDICTED: Entonces fue un compromiso con nosotros . a un acuerdo . a la cárcel . .\n",
      "--------------------------------------------------------------------------------\n",
      "\n",
      "Epoch 157\n",
      "-------------------------------, 0 days, 21 hours, 54 minutes, 35 seconds\n",
      "\n"
     ]
    },
    {
     "name": "stderr",
     "output_type": "stream",
     "text": [
      "Processing epoch 157:  92%|█████████▏| 652/712 [07:37<00:42,  1.42it/s, loss=2.794640, lr=0.000000000]\n"
     ]
    },
    {
     "ename": "KeyboardInterrupt",
     "evalue": "",
     "output_type": "error",
     "traceback": [
      "\u001b[0;31m---------------------------------------------------------------------------\u001b[0m",
      "\u001b[0;31mKeyboardInterrupt\u001b[0m                         Traceback (most recent call last)",
      "Cell \u001b[0;32mIn[45], line 14\u001b[0m\n\u001b[1;32m     12\u001b[0m     train_loss, train_lr \u001b[38;5;241m=\u001b[39m train_loop(model, train_dataloader, device, tokenizer_target, epoch, loss_fn, optimizer, lr_scheduler)    \n\u001b[1;32m     13\u001b[0m \u001b[38;5;28;01melse\u001b[39;00m:\n\u001b[0;32m---> 14\u001b[0m     train_loss, train_lr \u001b[38;5;241m=\u001b[39m train_loop(model, train_dataloader, device, tokenizer_target, epoch, loss_fn, optimizer)\n\u001b[1;32m     16\u001b[0m \u001b[38;5;66;03m# We run the 'run_validation' function at the end of each epoch\u001b[39;00m\n\u001b[1;32m     17\u001b[0m \u001b[38;5;66;03m# to evaluate model performance\u001b[39;00m\n\u001b[1;32m     18\u001b[0m validation_meteor, validation_bleu \u001b[38;5;241m=\u001b[39m validation_loop(model, validation_dataloader, tokenizer_target, max_sequence_len, device)\n",
      "Cell \u001b[0;32mIn[41], line 20\u001b[0m, in \u001b[0;36mtrain_loop\u001b[0;34m(model, train_dataloader, device, tokenizer_target, epoch, loss_fn, optimizer, lr_scheduler)\u001b[0m\n\u001b[1;32m     17\u001b[0m proj_output \u001b[38;5;241m=\u001b[39m model(encoder_input, decoder_input, decoder_mask)\n\u001b[1;32m     19\u001b[0m \u001b[38;5;66;03m# Loading the target labels onto the GPU\u001b[39;00m\n\u001b[0;32m---> 20\u001b[0m label \u001b[38;5;241m=\u001b[39m batch[\u001b[38;5;124m'\u001b[39m\u001b[38;5;124mlabel\u001b[39m\u001b[38;5;124m'\u001b[39m]\u001b[38;5;241m.\u001b[39mto(device)\n\u001b[1;32m     22\u001b[0m \u001b[38;5;66;03m# Computing loss between model's output and true labels\u001b[39;00m\n\u001b[1;32m     23\u001b[0m loss \u001b[38;5;241m=\u001b[39m loss_fn(proj_output\u001b[38;5;241m.\u001b[39mview(\u001b[38;5;241m-\u001b[39m\u001b[38;5;241m1\u001b[39m, tokenizer_target\u001b[38;5;241m.\u001b[39mget_vocab_size()), label\u001b[38;5;241m.\u001b[39mview(\u001b[38;5;241m-\u001b[39m\u001b[38;5;241m1\u001b[39m))\n",
      "\u001b[0;31mKeyboardInterrupt\u001b[0m: "
     ]
    }
   ],
   "source": [
    "from tqdm import tqdm\n",
    "\n",
    "max_seconds = 60*60*11 + 60*30 # 11 horas y 30 minutos\n",
    "t0 = time.time()\n",
    "\n",
    "for epoch in range(0, EPOCHS):\n",
    "    days, hours, minutes, seconds = elapsed_time(t0)\n",
    "    print(f\"\\nEpoch {epoch}\\n-------------------------------, {days} days, {hours} hours, {minutes} minutes, {seconds} seconds\")\n",
    "\n",
    "    # We run the 'train_loop' function at the beginning of each epoch\n",
    "    if LR_SCHEDULER:\n",
    "        train_loss, train_lr = train_loop(model, train_dataloader, device, tokenizer_target, epoch, loss_fn, optimizer, lr_scheduler)    \n",
    "    else:\n",
    "        train_loss, train_lr = train_loop(model, train_dataloader, device, tokenizer_target, epoch, loss_fn, optimizer)\n",
    "        \n",
    "    # We run the 'run_validation' function at the end of each epoch\n",
    "    # to evaluate model performance\n",
    "    validation_meteor, validation_bleu = validation_loop(model, validation_dataloader, tokenizer_target, max_sequence_len, device)\n",
    "\n",
    "    train_loss_list = np.append(train_loss_list, train_loss)\n",
    "    train_lr_list = np.append(train_lr_list, train_lr)\n",
    "    validation_meteor_list = np.append(validation_meteor_list, validation_meteor)\n",
    "    validation_bleu_list = np.append(validation_bleu_list, validation_bleu)\n",
    "\n",
    "    if (validation_bleu > best_bleu) and SAVE_BEST_MODEL:\n",
    "        best_bleu = validation_bleu\n",
    "        weights = f\"{MODEL_PATH}/transformer_{epoch}_{actual_step.get_step()}.pth\"\n",
    "        print(f\"Saving model to {weights}\")\n",
    "        if GPUS > 1:\n",
    "            torch.save(model.state_dict(), weights)\n",
    "        else:\n",
    "            torch.save(model, weights)\n",
    "        print(f\"Model saved to {weights}\")\n",
    "\n",
    "        best_bleu_path = f\"{MODEL_PATH}/best_validation_bleu_{epoch}_{actual_step.get_step()}.npy\"\n",
    "        print(f\"Saving best validation meteor to {best_bleu_path}\")\n",
    "        np.save(best_bleu_path, best_bleu)\n",
    "        print(f\"Best validation meteor saved to {best_bleu_path}\")\n",
    "    \n",
    "    days, hours, minutes, seconds = elapsed_time(t0)\n",
    "    if (elapsed_seconds(days, hours, minutes, seconds) > max_seconds) and STOP_AT_TIME:\n",
    "        print(f\"Elapsed time: {days} days, {hours} hours, {minutes} minutes, {seconds} seconds\")\n",
    "        break\n",
    "\n",
    "print(\"Done\")"
   ]
  },
  {
   "cell_type": "code",
   "execution_count": 46,
   "metadata": {},
   "outputs": [
    {
     "data": {
      "image/png": "[encoded data removed]",
      "text/plain": [
       "<Figure size 2000x500 with 3 Axes>"
      ]
     },
     "metadata": {},
     "output_type": "display_data"
    }
   ],
   "source": [
    "import matplotlib.pyplot as plt\n",
    "\n",
    "fig, axs = plt.subplots(1, 3, figsize=(20, 5))\n",
    "axs[0].plot(train_loss_list)\n",
    "axs[0].set_title(\"Loss\")\n",
    "axs[1].plot(validation_meteor_list)\n",
    "axs[1].plot(validation_bleu_list)\n",
    "axs[1].legend([\"Meteor\", \"Bleu\"])\n",
    "axs[1].set_title(\"Validation metrics\")\n",
    "axs[2].plot(train_lr_list)\n",
    "axs[2].set_title(\"Learning rate\")\n",
    "plt.show()"
   ]
  }
 ],
 "metadata": {
  "kernelspec": {
   "display_name": "cursopytorch",
   "language": "python",
   "name": "python3"
  },
  "language_info": {
   "codemirror_mode": {
    "name": "ipython",
    "version": 3
   },
   "file_extension": ".py",
   "mimetype": "text/x-python",
   "name": "python",
   "nbconvert_exporter": "python",
   "pygments_lexer": "ipython3",
   "version": "3.11.7"
  },
  "orig_nbformat": 4
 },
 "nbformat": 4,
 "nbformat_minor": 2
}
