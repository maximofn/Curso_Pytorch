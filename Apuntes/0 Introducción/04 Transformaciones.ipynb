{
  "cells": [
    {
      "cell_type": "code",
      "execution_count": null,
      "metadata": {
        "collapsed": false
      },
      "outputs": [],
      "source": [
        "%matplotlib inline"
      ]
    },
    {
      "cell_type": "markdown",
      "metadata": {},
      "source": [
        "# Transformaciones"
      ]
    },
    {
      "cell_type": "markdown",
      "metadata": {},
      "source": [
        "Los datos no siempre vienen en su forma procesada final que se requiere para entrenar algoritmos de aprendizaje automático. Usamos transformaciones para realizar alguna manipulación de los datos y hacerlos aptos para el entrenamiento.\n",
        "\n",
        "Todos los conjuntos de datos de TorchVision tienen dos parámetros, ``transform`` para modificar las características y ``target_transform`` para modificar las etiquetas, que aceptan llamadas que contienen la lógica de transformación. El módulo [``torchvision.transforms``](https://pytorch.org/vision/stable/transforms.html) ofrece varias transformaciones de uso común listas para usar.\n",
        "\n",
        "Las características de FashionMNIST están en formato de imagen PIL y las etiquetas son números enteros. Para el entrenamiento, necesitamos las características como tensores normalizados y las etiquetas como tensores codificados como one-hot encoding. Para realizar estas transformaciones, usamos ``ToTensor`` y ``Lambda``."
      ]
    },
    {
      "cell_type": "code",
      "execution_count": 1,
      "metadata": {},
      "outputs": [],
      "source": [
        "import torch\n",
        "from torchvision import datasets\n",
        "from torchvision.transforms import ToTensor, Lambda"
      ]
    },
    {
      "cell_type": "code",
      "execution_count": 2,
      "metadata": {
        "collapsed": false
      },
      "outputs": [],
      "source": [
        "ds = datasets.FashionMNIST(\n",
        "    root=\"data\",\n",
        "    train=True,\n",
        "    download=True,\n",
        "    transform=ToTensor(),\n",
        "    target_transform=Lambda(lambda y: torch.zeros(10, dtype=torch.float).scatter_(0, torch.tensor(y), value=1))\n",
        ")"
      ]
    },
    {
      "cell_type": "markdown",
      "metadata": {},
      "source": [
        "## ToTensor()"
      ]
    },
    {
      "cell_type": "markdown",
      "metadata": {},
      "source": [
        "[``ToTensor``](https://pytorch.org/vision/stable/transforms.html#torchvision.transforms.ToTensor) convierte una imagen PIL o NumPy ``ndarray`` en un ``FloatTensor``, y escala los valores de intensidad de píxeles de la imagen en el rango [0., 1.]"
      ]
    },
    {
      "cell_type": "markdown",
      "metadata": {},
      "source": [
        "## Transformaciones Lambda"
      ]
    },
    {
      "cell_type": "markdown",
      "metadata": {},
      "source": [
        "Las transformaciones Lambda aplican cualquier función lambda definida por el usuario. Aquí, definimos una función para convertir el número entero en un tensor codificado como one-hot encoding. Primero crea un tensor de ceros de tamaño 10 (el número de etiquetas en nuestro conjunto de datos) y llama a [``scatter_``](https://pytorch.org/docs/stable/generated/torch.Tensor.scatter_.html), que asigna un value=1 en el índice que indique la etiqueta y."
      ]
    },
    {
      "cell_type": "code",
      "execution_count": null,
      "metadata": {
        "collapsed": false
      },
      "outputs": [],
      "source": [
        "target_transform = Lambda(lambda y: torch.zeros(\n",
        "    10, dtype=torch.float).scatter_(dim=0, index=torch.tensor(y), value=1))"
      ]
    }
  ],
  "metadata": {
    "interpreter": {
      "hash": "d1c24abb23a313e1f9ae042292cd8e6e3c60c5818227ced3d46e3df2c65171ef"
    },
    "kernelspec": {
      "display_name": "Python 3.8.11 64-bit ('base': conda)",
      "name": "python3"
    },
    "language_info": {
      "codemirror_mode": {
        "name": "ipython",
        "version": 3
      },
      "file_extension": ".py",
      "mimetype": "text/x-python",
      "name": "python",
      "nbconvert_exporter": "python",
      "pygments_lexer": "ipython3",
      "version": "3.8.11"
    }
  },
  "nbformat": 4,
  "nbformat_minor": 2
}
