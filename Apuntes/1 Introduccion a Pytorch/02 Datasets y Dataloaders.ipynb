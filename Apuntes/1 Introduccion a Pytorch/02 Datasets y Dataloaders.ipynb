{
  "cells": [
    {
      "cell_type": "code",
      "execution_count": 1,
      "metadata": {
        "collapsed": false
      },
      "outputs": [],
      "source": [
        "%matplotlib inline"
      ]
    },
    {
      "cell_type": "markdown",
      "metadata": {},
      "source": [
        "# Datasets y Dataloaders"
      ]
    },
    {
      "cell_type": "markdown",
      "metadata": {},
      "source": [
        "## Datasets"
      ]
    },
    {
      "cell_type": "markdown",
      "metadata": {},
      "source": [
        "Pytorch proporciona los ``Datasets`` que són como bases de datos con nuestros datos de entrenamiento, en ellos se guardan los datos junto con sus etiquetas y sus correspondencias\n",
        "\n",
        "Hay dos maneras de crear ``Datasets``, descargarlos de los conjuntos de datos de entrenamiento de Pytorch, o crearlos desde cero"
      ]
    },
    {
      "cell_type": "markdown",
      "metadata": {},
      "source": [
        "### Creación de un Dataset a partir de un conjunto de datos de Pytorch"
      ]
    },
    {
      "cell_type": "markdown",
      "metadata": {},
      "source": [
        "PyTorch proporcionan una serie de conjuntos de datos precargados que implementan funciones específicas para los datos. Se pueden utilizar para crear prototipos y comparar su modelo. Puede encontrarlos aquí:\n",
        " * [Conjuntos de datos de imagen](https://pytorch.org/vision/stable/datasets.html)\n",
        " * [Conjuntos de datos de texto](https://pytorch.org/text/stable/datasets.html)\n",
        " * [Conjuntos de datos de audio](https://pytorch.org/audio/stable/datasets.html)"
      ]
    },
    {
      "cell_type": "markdown",
      "metadata": {},
      "source": [
        "A continuación, se muestra un ejemplo de cómo cargar el conjunto de datos ``Fashion-MNIST`` de TorchVision. ``Fashion-MNIST`` es un conjunto de datos de imágenes de artículos de Zalando que consta de 60.000 ejemplos de entrenamiento y 10.000 ejemplos de prueba. Cada ejemplo comprende una imagen en escala de grises de 28×28 y una etiqueta asociada de una de las 10 posibles clases."
      ]
    },
    {
      "cell_type": "markdown",
      "metadata": {},
      "source": [
        "A la hora de crear un ``Dataset`` a partir de un conjunto de datos precargado de Pytorch tenemos cuatro parámetros que podemos modificar y son:\n",
        " * ``root``: es la ruta donde se van a almacenan los datos de train y test\n",
        " * ``train``: especifica si el conjunto de datos que se quiere descargar es el de entrenamiento o de prueba\n",
        " * ``download``: Por defecto es ``True``, descarga los datos de Internet si no están disponibles en ``root``.\n",
        " * ``transform`` y ``target_transform``: especifican las transformaciones de las características y etiquetas. Las transformaciones se explicarán más adelante"
      ]
    },
    {
      "cell_type": "code",
      "execution_count": 2,
      "metadata": {},
      "outputs": [],
      "source": [
        "from torchvision import datasets\n",
        "from torchvision.transforms import ToTensor"
      ]
    },
    {
      "cell_type": "code",
      "execution_count": 3,
      "metadata": {
        "collapsed": false
      },
      "outputs": [
        {
          "name": "stderr",
          "output_type": "stream",
          "text": [
            "C:\\Users\\mfnunez\\Anaconda3\\lib\\site-packages\\torchvision\\datasets\\mnist.py:498: UserWarning: The given NumPy array is not writeable, and PyTorch does not support non-writeable tensors. This means you can write to the underlying (supposedly non-writeable) NumPy array using the tensor. You may want to copy the array to protect its data or make it writeable before converting it to a tensor. This type of warning will be suppressed for the rest of this program. (Triggered internally at  ..\\torch\\csrc\\utils\\tensor_numpy.cpp:180.)\n",
            "  return torch.from_numpy(parsed.astype(m[2], copy=False)).view(*s)\n"
          ]
        }
      ],
      "source": [
        "training_data = datasets.FashionMNIST(\n",
        "    root=\"data\",\n",
        "    train=True,\n",
        "    download=True,\n",
        "    transform=ToTensor()\n",
        ")\n",
        "\n",
        "test_data = datasets.FashionMNIST(\n",
        "    root=\"data\",\n",
        "    train=False,\n",
        "    download=True,\n",
        "    transform=ToTensor()\n",
        ")"
      ]
    },
    {
      "cell_type": "markdown",
      "metadata": {},
      "source": [
        "Como se puede ver se han creado dos ``Dataset``s, uno de entrenamiento y otro de test. Los dos tienen sus datos en la carpeta data, en el de entrenamiento el parametro ``train`` es igual a ``True``, lo que indica que se descarguen los datos de entrenamiento, y en el de test el parámetro ``train`` es igual a ``False``, lo que indica que se descarguen los datos de test. Por último, en ambos dataset se ha indicado que se transformen los datos a tipo tensor."
      ]
    },
    {
      "cell_type": "markdown",
      "metadata": {},
      "source": [
        "Habíamos dicho que el conjunto de datos ``Fasion-MNIST`` constaba de 60.000 imágenes de entrenamiento y 10.000 imágenes de test, comprobemos si en nuestros ``Dataset``s se mantiene esto"
      ]
    },
    {
      "cell_type": "code",
      "execution_count": 4,
      "metadata": {},
      "outputs": [
        {
          "data": {
            "text/plain": [
              "(60000, 10000)"
            ]
          },
          "execution_count": 4,
          "metadata": {},
          "output_type": "execute_result"
        }
      ],
      "source": [
        "len(training_data), len(test_data)"
      ]
    },
    {
      "cell_type": "markdown",
      "metadata": {},
      "source": [
        "Veamos una muestra"
      ]
    },
    {
      "cell_type": "code",
      "execution_count": 5,
      "metadata": {},
      "outputs": [
        {
          "data": {
            "text/plain": [
              "2"
            ]
          },
          "execution_count": 5,
          "metadata": {},
          "output_type": "execute_result"
        }
      ],
      "source": [
        "sample_training_data = training_data[0]\n",
        "len(sample_training_data)"
      ]
    },
    {
      "cell_type": "markdown",
      "metadata": {},
      "source": [
        "Vemos que la muestra tiene 2 items, esto es porque contiene la imágen y la etiqueta. Así que procedamos a separarlos para analizarlos"
      ]
    },
    {
      "cell_type": "code",
      "execution_count": 6,
      "metadata": {},
      "outputs": [
        {
          "data": {
            "text/plain": [
              "(torch.Size([1, 28, 28]), 9)"
            ]
          },
          "execution_count": 6,
          "metadata": {},
          "output_type": "execute_result"
        }
      ],
      "source": [
        "image_sample_training_data = sample_training_data[0]\n",
        "image_sample_training_label = sample_training_data[1]\n",
        "image_sample_training_data.shape, image_sample_training_label"
      ]
    },
    {
      "cell_type": "markdown",
      "metadata": {},
      "source": [
        "Vemos que la imágen de la muestra tiene un tamaño de 1x28x28 píxeles, es decir, una imágen en blanco y negro de 28x28. Esta imágen corresponde a la prenda cuya etiqueta vale 9"
      ]
    },
    {
      "cell_type": "markdown",
      "metadata": {},
      "source": [
        "Representemos varias muestras"
      ]
    },
    {
      "cell_type": "code",
      "execution_count": 7,
      "metadata": {
        "collapsed": false
      },
      "outputs": [
        {
          "data": {
            "image/png": "[encoded data removed]",
            "text/plain": [
              "<Figure size 576x576 with 9 Axes>"
            ]
          },
          "metadata": {
            "needs_background": "light"
          },
          "output_type": "display_data"
        }
      ],
      "source": [
        "import matplotlib.pyplot as plt\n",
        "from random import randint\n",
        "\n",
        "labels_map = {\n",
        "    0: \"T-Shirt\",\n",
        "    1: \"Trouser\",\n",
        "    2: \"Pullover\",\n",
        "    3: \"Dress\",\n",
        "    4: \"Coat\",\n",
        "    5: \"Sandal\",\n",
        "    6: \"Shirt\",\n",
        "    7: \"Sneaker\",\n",
        "    8: \"Bag\",\n",
        "    9: \"Ankle Boot\",\n",
        "}\n",
        "\n",
        "figure = plt.figure(figsize=(8, 8))\n",
        "cols, rows = 3, 3\n",
        "for i in range(1, cols * rows + 1):\n",
        "    sample_idx = randint(0, len(training_data)-1)\n",
        "    img, label = training_data[sample_idx]\n",
        "    figure.add_subplot(rows, cols, i)\n",
        "    plt.title(labels_map[label])\n",
        "    plt.axis(\"off\")\n",
        "    plt.imshow(img.squeeze(), cmap=\"gray\")  \n",
        "    # squeeze elimina todas las dimensiones 1 de un tensor, \n",
        "    # # si se le mete un tensor de dimensiones (Ax1xBxCx1xD) \n",
        "    # # devuelve un tensor de dimensiones (AxBxCxD)\n",
        "\n",
        "plt.show()"
      ]
    },
    {
      "cell_type": "markdown",
      "metadata": {},
      "source": [
        "### Creación de un Dataset personalizado"
      ]
    },
    {
      "cell_type": "markdown",
      "metadata": {},
      "source": [
        "Ahora vamos a descargar el conjunto de datos ``MNIST`` que consiste en un conjunto de 60.000 imágenes de entrenamiento y 10.000 imágenes de test. Estas son imágenes en blanco y negro de números escritos a mano de tamáño 28x28.\n",
        "\n",
        "Si se descargan de su [fuente original](http://yann.lecun.com/exdb/mnist/) se obtendrán una serie de listas de python con los valores de cada pixel de cada imagen. Así que lo que vamos a hacer es descargar el conjunto de este repositorio de [github](https://github.com/teavanist/MNIST-JPG) en el que han convertido esas listas a imágenes en formato JPG"
      ]
    },
    {
      "cell_type": "code",
      "execution_count": 8,
      "metadata": {},
      "outputs": [],
      "source": [
        "import git\n",
        "import os\n",
        "\n",
        "url = \"https://github.com/teavanist/MNIST-JPG\"\n",
        "to_path = \"data/MNIST_JPG\"\n",
        "\n",
        "# Se comprueba si el directorio existe\n",
        "if os.path.isdir(to_path):\n",
        "\n",
        "    # Si existe, se comprueba si está vacío\n",
        "    if not os.listdir(to_path):\n",
        "\n",
        "        # Si está vacío se clona el repositorio\n",
        "        git.repo.base.Repo.clone_from(url=url, to_path=to_path)\n",
        "\n",
        "else:\n",
        "\n",
        "    # Si no extiste se crea y se clona el repositorio\n",
        "    os.mkdir(to_path)\n",
        "    git.repo.base.Repo.clone_from(url=url, to_path=to_path)"
      ]
    },
    {
      "cell_type": "markdown",
      "metadata": {},
      "source": [
        "Al descargar el repositorio tenemos un archivo .zip con las imágenes"
      ]
    },
    {
      "cell_type": "code",
      "execution_count": 9,
      "metadata": {},
      "outputs": [
        {
          "data": {
            "text/plain": [
              "['.git',\n",
              " 'MNIST Dataset JPG format',\n",
              " 'MNIST Dataset JPG format.zip',\n",
              " 'mnist_jpg.py',\n",
              " 'README.md']"
            ]
          },
          "execution_count": 9,
          "metadata": {},
          "output_type": "execute_result"
        }
      ],
      "source": [
        "os.listdir(to_path)"
      ]
    },
    {
      "cell_type": "markdown",
      "metadata": {},
      "source": [
        "Lo descomprimimos"
      ]
    },
    {
      "cell_type": "code",
      "execution_count": 10,
      "metadata": {},
      "outputs": [],
      "source": [
        "import zipfile\n",
        "\n",
        "path_to_zip_file = to_path + '/' + \"MNIST Dataset JPG format.zip\"\n",
        "directory_to_extract_to = to_path\n",
        "\n",
        "if not os.path.isdir(to_path + \"/\" + \"MNIST Dataset JPG format\"):  # Se comprueba si ya se ha descomprimido antes\n",
        "    with zipfile.ZipFile(path_to_zip_file, 'r') as zip_ref:\n",
        "        zip_ref.extractall(directory_to_extract_to)"
      ]
    },
    {
      "cell_type": "markdown",
      "metadata": {},
      "source": [
        "Una vez descomprimido vemos que tenemos una carpeta con las imágenes de train y otra con las de test, y dentro de cada una de ellas tenemos una carpeta con las imágenes de cada número. Ya podemos crear el ``Dataset`` personalizazo\n",
        "\n",
        "Para crear un ``Dataset`` personalizado Pytorch nos pide que hagamos una clase con los 3 siguientes métodos: ``__init__``, `__len__` y `__getitem__`. Como es un ``Dataset`` personalizado no se puede generalizar mucho, por lo que lo explicaremos para este conjunto de datos para que se entienda la idea."
      ]
    },
    {
      "cell_type": "code",
      "execution_count": 12,
      "metadata": {},
      "outputs": [],
      "source": [
        "import pandas as pd\n",
        "\n",
        "def createDataFrame(parent_dir):\n",
        "    # Numero de labels\n",
        "    N = 10\n",
        "\n",
        "    # Se crea un diccionario con datos aleatorios para hacer un dataframe vacío\n",
        "    diccionario = {\n",
        "        \"images names\": pd.Series([\"\"]),\n",
        "        \"path\": pd.Series([\"\"]),\n",
        "        \"label\": pd.Series([0])\n",
        "        }\n",
        "\n",
        "    # Se crea un dataframe a partir del diccionario\n",
        "    dataframe = pd.DataFrame(diccionario)\n",
        "\n",
        "    # Se elimina la primera fila, así se tiene un datframe vacío\n",
        "    dataframe.drop(dataframe.index[0], axis=0, inplace=True)\n",
        "\n",
        "    # Se completa el dataframe\n",
        "    for i in range (N):\n",
        "        label = i\n",
        "        images_dir = parent_dir + str(label) + \"/\"\n",
        "\n",
        "        # Se crea una lista con las imágenes\n",
        "        images_list = os.listdir(images_dir)\n",
        "\n",
        "        # Se crea una serie a partir de la lista\n",
        "        serie = pd.Series(images_list)\n",
        "\n",
        "        # Se crea un sub dataframe a partir de la serie\n",
        "        subdataframe = pd.DataFrame(serie, columns=[\"images names\"])\n",
        "\n",
        "        # Se añade una columna con el path de la imagen\n",
        "        subdataframe[\"path\"] = images_dir + subdataframe[\"images names\"]\n",
        "\n",
        "        # Se añade una columna con la etiqueta\n",
        "        subdataframe[\"label\"] = label\n",
        "\n",
        "        # Se concatena el dataframe con el sub dataframe\n",
        "        dataframe = pd.concat([dataframe, subdataframe], ignore_index=True)\n",
        "\n",
        "    return dataframe"
      ]
    },
    {
      "cell_type": "code",
      "execution_count": 13,
      "metadata": {},
      "outputs": [
        {
          "data": {
            "text/plain": [
              "(  images names                                               path  label\n",
              " 0        1.jpg  data/MNIST_JPG/MNIST Dataset JPG format/MNIST ...      0\n",
              " 1     1000.jpg  data/MNIST_JPG/MNIST Dataset JPG format/MNIST ...      0\n",
              " 2    10005.jpg  data/MNIST_JPG/MNIST Dataset JPG format/MNIST ...      0\n",
              " 3    10010.jpg  data/MNIST_JPG/MNIST Dataset JPG format/MNIST ...      0\n",
              " 4    10022.jpg  data/MNIST_JPG/MNIST Dataset JPG format/MNIST ...      0,\n",
              " 60000)"
            ]
          },
          "execution_count": 13,
          "metadata": {},
          "output_type": "execute_result"
        }
      ],
      "source": [
        "parent_dir = directory_to_extract_to+ '/' + \"MNIST Dataset JPG format/MNIST - JPG - training/\"\n",
        "train_dataframe = createDataFrame(parent_dir)\n",
        "train_dataframe.head(), len(train_dataframe)"
      ]
    },
    {
      "cell_type": "code",
      "execution_count": 14,
      "metadata": {},
      "outputs": [
        {
          "data": {
            "text/plain": [
              "(  images names                                               path  label\n",
              " 0       10.jpg  data/MNIST_JPG/MNIST Dataset JPG format/MNIST ...      0\n",
              " 1     1001.jpg  data/MNIST_JPG/MNIST Dataset JPG format/MNIST ...      0\n",
              " 2     1009.jpg  data/MNIST_JPG/MNIST Dataset JPG format/MNIST ...      0\n",
              " 3      101.jpg  data/MNIST_JPG/MNIST Dataset JPG format/MNIST ...      0\n",
              " 4     1034.jpg  data/MNIST_JPG/MNIST Dataset JPG format/MNIST ...      0,\n",
              " 10000)"
            ]
          },
          "execution_count": 14,
          "metadata": {},
          "output_type": "execute_result"
        }
      ],
      "source": [
        "parent_dir = directory_to_extract_to+ '/' + \"MNIST Dataset JPG format/MNIST - JPG - testing/\"\n",
        "test_dataframe = createDataFrame(parent_dir)\n",
        "test_dataframe.head(), len(test_dataframe)"
      ]
    },
    {
      "cell_type": "code",
      "execution_count": 15,
      "metadata": {},
      "outputs": [],
      "source": [
        "from skimage import io\n",
        "import torch\n",
        "from torch.utils.data import Dataset\n",
        "\n",
        "class CustomImageDataset(Dataset):\n",
        "    def __init__(self, images_dir, labels=None, train=True):\n",
        "        self.images_dir = images_dir\n",
        "        self.labels = labels\n",
        "        self.train = train\n",
        "\n",
        "    def __len__(self):\n",
        "        return len(self.images_dir)\n",
        "\n",
        "    def __getitem__(self, idx):\n",
        "        img = io.imread(self.images_dir[idx])\n",
        "        img = torch.from_numpy(img)\n",
        "\n",
        "        if self.train:\n",
        "            label = torch.tensor([self.labels[idx]]).item()\n",
        "            return img, label\n",
        "        else:\n",
        "            return img"
      ]
    },
    {
      "cell_type": "code",
      "execution_count": 16,
      "metadata": {},
      "outputs": [],
      "source": [
        "training_data = CustomImageDataset(images_dir=train_dataframe[\"path\"], labels=train_dataframe[\"label\"])\n",
        "test_data = CustomImageDataset(images_dir=test_dataframe[\"path\"], labels=test_dataframe[\"label\"])"
      ]
    },
    {
      "cell_type": "markdown",
      "metadata": {},
      "source": [
        "Vemos el número de mustras de entrenamiento y test"
      ]
    },
    {
      "cell_type": "code",
      "execution_count": 17,
      "metadata": {},
      "outputs": [
        {
          "data": {
            "text/plain": [
              "(60000, 10000)"
            ]
          },
          "execution_count": 17,
          "metadata": {},
          "output_type": "execute_result"
        }
      ],
      "source": [
        "len(training_data), len(test_data)"
      ]
    },
    {
      "cell_type": "markdown",
      "metadata": {},
      "source": [
        "Veamos una muestra"
      ]
    },
    {
      "cell_type": "code",
      "execution_count": 18,
      "metadata": {},
      "outputs": [
        {
          "data": {
            "text/plain": [
              "2"
            ]
          },
          "execution_count": 18,
          "metadata": {},
          "output_type": "execute_result"
        }
      ],
      "source": [
        "sample_training_data = training_data[0]\n",
        "len(sample_training_data)"
      ]
    },
    {
      "cell_type": "markdown",
      "metadata": {},
      "source": [
        "Se puede ver que la dimensión de la muestra es 2, esto es porque la muestra contiene la imagen y la etiqueta, así que obtenemos solo la imagen"
      ]
    },
    {
      "cell_type": "code",
      "execution_count": 19,
      "metadata": {},
      "outputs": [
        {
          "data": {
            "text/plain": [
              "(torch.Size([28, 28]), 0)"
            ]
          },
          "execution_count": 19,
          "metadata": {},
          "output_type": "execute_result"
        }
      ],
      "source": [
        "image_sample_training_data = sample_training_data[0]\n",
        "image_sample_training_label = sample_training_data[1]\n",
        "image_sample_training_data.shape, image_sample_training_label"
      ]
    },
    {
      "cell_type": "markdown",
      "metadata": {},
      "source": [
        "Vemos que la imágen de la muestra tiene un tamaño de 28x28 píxeles, es decir, una imágen en blanco y negro de 28x28. Esta imágen corresponde a la prenda cuya etiqueta vale 0"
      ]
    },
    {
      "cell_type": "markdown",
      "metadata": {},
      "source": [
        "Representemos varias muestras"
      ]
    },
    {
      "cell_type": "code",
      "execution_count": 20,
      "metadata": {
        "collapsed": false
      },
      "outputs": [
        {
          "data": {
            "image/png": "[encoded data removed]",
            "text/plain": [
              "<Figure size 576x576 with 9 Axes>"
            ]
          },
          "metadata": {
            "needs_background": "light"
          },
          "output_type": "display_data"
        }
      ],
      "source": [
        "import matplotlib.pyplot as plt\n",
        "from random import randint\n",
        "\n",
        "figure = plt.figure(figsize=(8, 8))\n",
        "cols, rows = 3, 3\n",
        "for i in range(1, cols * rows + 1):\n",
        "    sample_idx = randint(0, len(training_data)-1)\n",
        "    img, label = training_data[sample_idx]\n",
        "    figure.add_subplot(rows, cols, i)\n",
        "    plt.title(str(label))\n",
        "    plt.axis(\"off\")\n",
        "    plt.imshow(img.squeeze(), cmap=\"gray\")  \n",
        "    # squeeze elimina todas las dimensiones 1 de un tensor, \n",
        "    # # si se le mete un tensor de dimensiones (Ax1xBxCx1xD) \n",
        "    # # devuelve un tensor de dimensiones (AxBxCxD)\n",
        "\n",
        "plt.show()"
      ]
    },
    {
      "cell_type": "markdown",
      "metadata": {},
      "source": [
        "## Dataloaders"
      ]
    },
    {
      "cell_type": "markdown",
      "metadata": {},
      "source": [
        "Una vez tenemos el ``Dataset`` creado podemos crear *minibatches* muy facilmente mediante los ``Dataloader``s. El ``Dataloader`` iterará a través del ``Dataset``, cogiendo el número de muestras (*batch size*) que queramos. Además si queremos puede barajar los datos, es decir, los cogerá aleatoriamente, en vez de en el orden en el que está en el ``Dataset``, una vez ha pasado por todos los datos del ``Dataset``, si queremos volver a pasar el `Dataset` por la red neuronal, el orden será completamente distinto a la anterior vez."
      ]
    },
    {
      "cell_type": "code",
      "execution_count": 21,
      "metadata": {},
      "outputs": [],
      "source": [
        "from torch.utils.data import DataLoader\n",
        "\n",
        "BS = 64\n",
        "\n",
        "train_dataloader = DataLoader(training_data, batch_size=BS, shuffle=True)\n",
        "test_dataloader = DataLoader(test_data, batch_size=BS, shuffle=True)"
      ]
    },
    {
      "cell_type": "markdown",
      "metadata": {},
      "source": [
        "### Iterar a través de un Dataloader"
      ]
    },
    {
      "cell_type": "markdown",
      "metadata": {},
      "source": [
        "Podemos iterar a traves del ``Daaloader`` para obtener los *minibatches*"
      ]
    },
    {
      "cell_type": "code",
      "execution_count": 22,
      "metadata": {},
      "outputs": [
        {
          "data": {
            "text/plain": [
              "2"
            ]
          },
          "execution_count": 22,
          "metadata": {},
          "output_type": "execute_result"
        }
      ],
      "source": [
        "minibatch = next(iter(train_dataloader))\n",
        "len(minibatch)"
      ]
    },
    {
      "cell_type": "markdown",
      "metadata": {},
      "source": [
        "Como vemos el tamaño del minibatch es 2, tenemos por un lado las imágenes y por otro las etiquetas"
      ]
    },
    {
      "cell_type": "code",
      "execution_count": 27,
      "metadata": {},
      "outputs": [
        {
          "data": {
            "text/plain": [
              "(torch.Size([64, 28, 28]), torch.Size([64]))"
            ]
          },
          "execution_count": 27,
          "metadata": {},
          "output_type": "execute_result"
        }
      ],
      "source": [
        "train_features, train_labels = minibatch\n",
        "\n",
        "train_features.shape, train_labels.shape"
      ]
    },
    {
      "cell_type": "markdown",
      "metadata": {},
      "source": [
        "Ahora si podemos comrpobar como tenemos por un lado un minibatch con 64 imágenes de 28x28 píxeles y por otro lado 64 etiquetas"
      ]
    }
  ],
  "metadata": {
    "interpreter": {
      "hash": "d1c24abb23a313e1f9ae042292cd8e6e3c60c5818227ced3d46e3df2c65171ef"
    },
    "kernelspec": {
      "display_name": "Python 3.8.5 64-bit ('base': conda)",
      "name": "python3"
    },
    "language_info": {
      "codemirror_mode": {
        "name": "ipython",
        "version": 3
      },
      "file_extension": ".py",
      "mimetype": "text/x-python",
      "name": "python",
      "nbconvert_exporter": "python",
      "pygments_lexer": "ipython3",
      "version": "3.8.11"
    }
  },
  "nbformat": 4,
  "nbformat_minor": 2
}
