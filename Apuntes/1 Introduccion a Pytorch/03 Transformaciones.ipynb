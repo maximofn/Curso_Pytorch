{
  "cells": [
    {
      "cell_type": "code",
      "execution_count": 1,
      "metadata": {
        "collapsed": false
      },
      "outputs": [],
      "source": [
        "%matplotlib inline"
      ]
    },
    {
      "cell_type": "markdown",
      "metadata": {},
      "source": [
        "# Transformaciones"
      ]
    },
    {
      "cell_type": "markdown",
      "metadata": {},
      "source": [
        "Los datos no siempre vienen en el formato deseado para hacer el entrenamiento, por lo que a la hora de crear el ``Dataset`` es necesario hacer unas transformaciones de estos\n",
        "\n",
        "Cuando creamos el ``Dataset`` de forma personalizada podemos hacer las transformaciones como queramos, tanto en el método ``__init__``, como en el ``__getitem__``. Sin embargo, cuando creamos un ``Dataset`` mediante un conjunto de datos de Pytorch, este ofrece dos parámetros ``transform`` y ``target_transform`` para modificar los datos o las etiquetas.\n",
        "\n",
        "Volvemos a usar el conjunto de datos de ``FashionMNIST`` de la clase anterior. En este las imágenes están en formato PIL y las etiquetas son números enteros.\n",
        "Para realizar el entrenamiento debemos transformar las imágenes a tensores y las codificar las etiquetas como one-hot encoding"
      ]
    },
    {
      "cell_type": "markdown",
      "metadata": {},
      "source": [
        " > **One-hot encodign**:\n",
        " > En el conjunto de datos ``FashionMNIST``, tenemos etiquetas con valores conprendidos entre el 0 y el 9. El tipo de codificación one-hot encoding crea vectores de tamaño 10 con todos los valores 0 menos en la posición de la etiqueta. Es decir, si la etiqueta vale 0, la codificación one-hot encoding creará un vector de tamaño 10, donde el primer elemento vale 1 y el resto 0s, si la etiqueta vale 1, creará un vector de tamaño 10, con todos los elementos 0 menos el segundo, y así sucesivamente.\n",
        " >\n",
        " > Se aprenderá más sobre este tipo de codificación y otros tipos en el módulo de procesamiento del lenguaje natural (NLP Natural Languaje Processing)\n",
        " >\n",
        " > 0 ==> 1 0 0 0 0 0 0 0 0 0\n",
        " \n",
        " > 1 ==> 0 1 0 0 0 0 0 0 0 0\n",
        "\n",
        " > 2 ==> 0 0 1 0 0 0 0 0 0 0\n",
        "\n",
        " > 3 ==> 0 0 0 1 0 0 0 0 0 0\n",
        "\n",
        " > 4 ==> 0 0 0 0 1 0 0 0 0 0\n",
        "\n",
        " > 5 ==> 0 0 0 0 0 1 0 0 0 0\n",
        "\n",
        " > 6 ==> 0 0 0 0 0 0 1 0 0 0\n",
        "\n",
        " > 7 ==> 0 0 0 0 0 0 0 1 0 0\n",
        "\n",
        " > 8 ==> 0 0 0 0 0 0 0 0 1 0\n",
        " \n",
        " > 9 ==> 0 0 0 0 0 0 0 0 0 1"
      ]
    },
    {
      "cell_type": "markdown",
      "metadata": {},
      "source": [
        "Nos descargamos el conjunto de datos ``FashionMNIST`` sin realizar ningún tipo de transformación y analizamos las imágenes y las etiquetas"
      ]
    },
    {
      "cell_type": "code",
      "execution_count": 3,
      "metadata": {},
      "outputs": [],
      "source": [
        "from torchvision import datasets\n",
        "\n",
        "dataset_raw = datasets.FashionMNIST(\n",
        "    root=\"data\",\n",
        "    train=True,\n",
        "    download=True,\n",
        "    # transform=\n",
        "    # target_transform=\n",
        ")"
      ]
    },
    {
      "cell_type": "markdown",
      "metadata": {},
      "source": [
        "Cogemos una muestra"
      ]
    },
    {
      "cell_type": "code",
      "execution_count": 4,
      "metadata": {},
      "outputs": [],
      "source": [
        "imagen_raw, etiqueta_raw = dataset_raw[0]"
      ]
    },
    {
      "cell_type": "markdown",
      "metadata": {},
      "source": [
        "Analizamos la imagen"
      ]
    },
    {
      "cell_type": "code",
      "execution_count": 16,
      "metadata": {},
      "outputs": [
        {
          "name": "stdout",
          "output_type": "stream",
          "text": [
            "La imagen es de tipo: <class 'PIL.Image.Image'>\n",
            "El tamaño de la imagen es de (28, 28)\n",
            "La imagen está codificada en píxeles de valor entre 0 y 255\n"
          ]
        }
      ],
      "source": [
        "print(f\"La imagen es de tipo: {type(imagen_raw)}\")\n",
        "print(f\"El tamaño de la imagen es de {imagen_raw.size}\")\n",
        "min_value, max_value = imagen_raw.getextrema()\n",
        "print(f\"La imagen está codificada en píxeles de valor entre {min_value} y {max_value}\")"
      ]
    },
    {
      "cell_type": "markdown",
      "metadata": {},
      "source": [
        "Analizamos ahora la etiqueta"
      ]
    },
    {
      "cell_type": "code",
      "execution_count": 17,
      "metadata": {},
      "outputs": [
        {
          "ename": "AttributeError",
          "evalue": "squeeze",
          "output_type": "error",
          "traceback": [
            "\u001b[1;31m---------------------------------------------------------------------------\u001b[0m",
            "\u001b[1;31mAttributeError\u001b[0m                            Traceback (most recent call last)",
            "\u001b[1;32m~\\AppData\\Local\\Temp/ipykernel_10692/3066883502.py\u001b[0m in \u001b[0;36m<module>\u001b[1;34m\u001b[0m\n\u001b[0;32m      1\u001b[0m \u001b[1;32mimport\u001b[0m \u001b[0mmatplotlib\u001b[0m\u001b[1;33m.\u001b[0m\u001b[0mpyplot\u001b[0m \u001b[1;32mas\u001b[0m \u001b[0mplt\u001b[0m\u001b[1;33m\u001b[0m\u001b[1;33m\u001b[0m\u001b[0m\n\u001b[0;32m      2\u001b[0m \u001b[1;33m\u001b[0m\u001b[0m\n\u001b[1;32m----> 3\u001b[1;33m \u001b[0mplt\u001b[0m\u001b[1;33m.\u001b[0m\u001b[0mimshow\u001b[0m\u001b[1;33m(\u001b[0m\u001b[0mimagen_raw\u001b[0m\u001b[1;33m.\u001b[0m\u001b[0msqueeze\u001b[0m\u001b[1;33m(\u001b[0m\u001b[1;33m)\u001b[0m\u001b[1;33m,\u001b[0m \u001b[0mcmap\u001b[0m\u001b[1;33m=\u001b[0m\u001b[1;34m\"gray\"\u001b[0m\u001b[1;33m)\u001b[0m\u001b[1;33m\u001b[0m\u001b[1;33m\u001b[0m\u001b[0m\n\u001b[0m",
            "\u001b[1;32m~\\Anaconda3\\lib\\site-packages\\PIL\\Image.py\u001b[0m in \u001b[0;36m__getattr__\u001b[1;34m(self, name)\u001b[0m\n\u001b[0;32m    544\u001b[0m             )\n\u001b[0;32m    545\u001b[0m             \u001b[1;32mreturn\u001b[0m \u001b[0mself\u001b[0m\u001b[1;33m.\u001b[0m\u001b[0m_category\u001b[0m\u001b[1;33m\u001b[0m\u001b[1;33m\u001b[0m\u001b[0m\n\u001b[1;32m--> 546\u001b[1;33m         \u001b[1;32mraise\u001b[0m \u001b[0mAttributeError\u001b[0m\u001b[1;33m(\u001b[0m\u001b[0mname\u001b[0m\u001b[1;33m)\u001b[0m\u001b[1;33m\u001b[0m\u001b[1;33m\u001b[0m\u001b[0m\n\u001b[0m\u001b[0;32m    547\u001b[0m \u001b[1;33m\u001b[0m\u001b[0m\n\u001b[0;32m    548\u001b[0m     \u001b[1;33m@\u001b[0m\u001b[0mproperty\u001b[0m\u001b[1;33m\u001b[0m\u001b[1;33m\u001b[0m\u001b[0m\n",
            "\u001b[1;31mAttributeError\u001b[0m: squeeze"
          ]
        }
      ],
      "source": [
        "import matplotlib.pyplot as plt\n",
        "\n",
        "plt.imshow(imagen_raw.squeeze(), cmap=\"gray\")"
      ]
    }
  ],
  "metadata": {
    "interpreter": {
      "hash": "d1c24abb23a313e1f9ae042292cd8e6e3c60c5818227ced3d46e3df2c65171ef"
    },
    "kernelspec": {
      "display_name": "Python 3.8.5 64-bit ('base': conda)",
      "name": "python3"
    },
    "language_info": {
      "codemirror_mode": {
        "name": "ipython",
        "version": 3
      },
      "file_extension": ".py",
      "mimetype": "text/x-python",
      "name": "python",
      "nbconvert_exporter": "python",
      "pygments_lexer": "ipython3",
      "version": "3.8.11"
    }
  },
  "nbformat": 4,
  "nbformat_minor": 2
}
