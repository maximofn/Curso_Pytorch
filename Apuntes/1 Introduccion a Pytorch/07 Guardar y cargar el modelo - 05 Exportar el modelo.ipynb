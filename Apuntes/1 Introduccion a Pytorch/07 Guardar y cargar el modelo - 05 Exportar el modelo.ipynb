{
  "cells": [
    {
      "cell_type": "code",
      "execution_count": 1,
      "metadata": {
        "collapsed": false
      },
      "outputs": [],
      "source": [
        "%matplotlib inline"
      ]
    },
    {
      "cell_type": "markdown",
      "metadata": {},
      "source": [
        "# Guardar y cargar el modelo - 05 Exportar el modelo"
      ]
    },
    {
      "cell_type": "markdown",
      "metadata": {},
      "source": [
        "## Entrenamiento de la red"
      ]
    },
    {
      "cell_type": "markdown",
      "metadata": {},
      "source": [
        "Vamos a hacer de manera rápida el entrenamiento de una red (creada desde cero) para el conjunto de datos `CIFAR-10`"
      ]
    },
    {
      "cell_type": "markdown",
      "metadata": {},
      "source": [
        "### Dataset"
      ]
    },
    {
      "cell_type": "markdown",
      "metadata": {},
      "source": [
        "Descargamos y creamos el dataset"
      ]
    },
    {
      "cell_type": "code",
      "execution_count": 2,
      "metadata": {},
      "outputs": [
        {
          "name": "stdout",
          "output_type": "stream",
          "text": [
            "Files already downloaded and verified\n",
            "Files already downloaded and verified\n"
          ]
        }
      ],
      "source": [
        "from torchvision import datasets\n",
        "from torchvision.transforms import ToTensor\n",
        "\n",
        "# Descargamos y creamos el dataset\n",
        "dataset_train = datasets.CIFAR10(\n",
        "    root=\"data\",\n",
        "    train=True,\n",
        "    download=True,\n",
        "    transform=ToTensor()\n",
        ")\n",
        "\n",
        "dataset_test = datasets.CIFAR10(\n",
        "    root=\"data\",\n",
        "    train=False,\n",
        "    download=True,\n",
        "    transform=ToTensor()\n",
        ")"
      ]
    },
    {
      "cell_type": "markdown",
      "metadata": {},
      "source": [
        "### Dataloader"
      ]
    },
    {
      "cell_type": "markdown",
      "metadata": {},
      "source": [
        "Creamos un dataloader"
      ]
    },
    {
      "cell_type": "code",
      "execution_count": 3,
      "metadata": {},
      "outputs": [],
      "source": [
        "from torch.utils.data import DataLoader\n",
        "\n",
        "BATCH_SIZE = 64\n",
        "\n",
        "train_dataloader = DataLoader(dataset_train, batch_size=BATCH_SIZE)\n",
        "test_dataloader = DataLoader(dataset_test, batch_size=BATCH_SIZE)"
      ]
    },
    {
      "cell_type": "markdown",
      "metadata": {},
      "source": [
        "### Red"
      ]
    },
    {
      "cell_type": "markdown",
      "metadata": {},
      "source": [
        "Creamos la red neuronal"
      ]
    },
    {
      "cell_type": "code",
      "execution_count": 4,
      "metadata": {},
      "outputs": [],
      "source": [
        "from torch import nn\n",
        "\n",
        "# Creamos la red neuronal desde cero\n",
        "class NeuralNetworkFromScratch(nn.Module):\n",
        "    def __init__(self):\n",
        "        super(NeuralNetworkFromScratch, self).__init__()   # Se inicializa el módulo nn.Module\n",
        "        self.flatten = nn.Flatten()             # Se crea una primera capa que aplana la imagen de entrada\n",
        "        self.linear_relu_stack = nn.Sequential( # Se crea una módulo de arquitectura secuencial:\n",
        "            nn.Linear(3*32*32, 512),                # Se añade una primera capa lineal que está preparada \n",
        "                                                    # para que le entre un vector de 28*28 (784)\n",
        "                                                    # y sacará un vector de 512\n",
        "            nn.ReLU(),                              # Se añade una no linealidad\n",
        "            nn.Linear(512, 512),                    # Se añade una segunda capa lineal que le entran 512 \n",
        "                                                    # datos y saca 512 datos\n",
        "            nn.ReLU(),                              # Se añade una no linealidad\n",
        "            nn.Linear(512, 10)                      # Se añade una tercera capa lineal que le entran 512 \n",
        "                                                    # datos y saca un array de tamaño 10 (el número\n",
        "                                                    # de etiquetas)\n",
        "        )\n",
        "        #self.softmax = nn.Softmax(dim=1)\n",
        "\n",
        "    def forward(self, x):\n",
        "        x = self.flatten(x)                         # Se pasa la imagen por la capa de aplanado\n",
        "        logits = self.linear_relu_stack(x)          # Se pasa el vector resultante por la red\n",
        "        #probs = self.softmax(logits)\n",
        "        return logits\n",
        "\n",
        "model_scratch = NeuralNetworkFromScratch()"
      ]
    },
    {
      "cell_type": "markdown",
      "metadata": {},
      "source": [
        "### Función de pérdida"
      ]
    },
    {
      "cell_type": "code",
      "execution_count": 5,
      "metadata": {},
      "outputs": [],
      "source": [
        "loss_fn = nn.CrossEntropyLoss()"
      ]
    },
    {
      "cell_type": "markdown",
      "metadata": {},
      "source": [
        "### Optimizador"
      ]
    },
    {
      "cell_type": "code",
      "execution_count": 6,
      "metadata": {},
      "outputs": [],
      "source": [
        "import torch\n",
        "\n",
        "LR = 1e-2\n",
        "\n",
        "optimizer = torch.optim.SGD(model_scratch.parameters(), lr=LR)"
      ]
    },
    {
      "cell_type": "markdown",
      "metadata": {},
      "source": [
        "### Ciclo de entrenamiento"
      ]
    },
    {
      "cell_type": "code",
      "execution_count": 7,
      "metadata": {},
      "outputs": [],
      "source": [
        "def train_loop(dataloader, model, loss_fn, optimizer):\n",
        "    size = len(dataloader.dataset)\n",
        "    for batch, (X, y) in enumerate(dataloader):\n",
        "        # X and y to device\n",
        "        X, y = X.to(device), y.to(device)\n",
        "\n",
        "        # Compute prediction and loss\n",
        "        pred = model(X)\n",
        "        loss = loss_fn(pred, y)\n",
        "\n",
        "        # Backpropagation\n",
        "        optimizer.zero_grad()\n",
        "        loss.backward()\n",
        "        optimizer.step()\n",
        "\n",
        "        if batch % 100 == 0:\n",
        "            loss, current = loss.item(), batch * len(X)\n",
        "            print(f\"loss: {loss:>7f}  [{current:>5d}/{size:>5d}]\")\n",
        "\n",
        "\n",
        "def test_loop(dataloader, model, loss_fn):\n",
        "    size = len(dataloader.dataset)\n",
        "    num_batches = len(dataloader)\n",
        "    test_loss, correct = 0, 0\n",
        "\n",
        "    with torch.no_grad():\n",
        "        for X, y in dataloader:\n",
        "            # X and y to device\n",
        "            X, y = X.to(device), y.to(device)\n",
        "            \n",
        "            pred = model(X)\n",
        "            test_loss += loss_fn(pred, y).item()\n",
        "            correct += (pred.argmax(1) == y).type(torch.float).sum().item()\n",
        "\n",
        "    test_loss /= num_batches\n",
        "    correct /= size\n",
        "    print(f\"Test Error: \\n Accuracy: {(100*correct):>0.1f}%, Avg loss: {test_loss:>8f} \\n\")"
      ]
    },
    {
      "cell_type": "code",
      "execution_count": 8,
      "metadata": {},
      "outputs": [
        {
          "name": "stdout",
          "output_type": "stream",
          "text": [
            "Using cuda device\n"
          ]
        },
        {
          "data": {
            "text/plain": [
              "NeuralNetworkFromScratch(\n",
              "  (flatten): Flatten(start_dim=1, end_dim=-1)\n",
              "  (linear_relu_stack): Sequential(\n",
              "    (0): Linear(in_features=3072, out_features=512, bias=True)\n",
              "    (1): ReLU()\n",
              "    (2): Linear(in_features=512, out_features=512, bias=True)\n",
              "    (3): ReLU()\n",
              "    (4): Linear(in_features=512, out_features=10, bias=True)\n",
              "  )\n",
              ")"
            ]
          },
          "execution_count": 8,
          "metadata": {},
          "output_type": "execute_result"
        }
      ],
      "source": [
        "# Get cpu or gpu device for training.\n",
        "device = \"cuda\" if torch.cuda.is_available() else \"cpu\"\n",
        "print(\"Using {} device\".format(device))\n",
        "\n",
        "model_scratch.to(device)"
      ]
    },
    {
      "cell_type": "code",
      "execution_count": 9,
      "metadata": {},
      "outputs": [
        {
          "name": "stdout",
          "output_type": "stream",
          "text": [
            "Epoch 1\n",
            "-------------------------------\n",
            "loss: 2.303834  [    0/50000]\n",
            "loss: 2.284370  [ 6400/50000]\n",
            "loss: 2.190751  [12800/50000]\n",
            "loss: 2.203369  [19200/50000]\n",
            "loss: 2.076867  [25600/50000]\n",
            "loss: 2.048716  [32000/50000]\n",
            "loss: 2.147002  [38400/50000]\n",
            "loss: 1.972562  [44800/50000]\n",
            "Test Error: \n",
            " Accuracy: 29.8%, Avg loss: 1.957171 \n",
            "\n",
            "Epoch 2\n",
            "-------------------------------\n",
            "loss: 1.998735  [    0/50000]\n",
            "loss: 1.986486  [ 6400/50000]\n",
            "loss: 1.763244  [12800/50000]\n",
            "loss: 1.992296  [19200/50000]\n",
            "loss: 1.977212  [25600/50000]\n",
            "loss: 1.943170  [32000/50000]\n",
            "loss: 2.002307  [38400/50000]\n",
            "loss: 1.858565  [44800/50000]\n",
            "Test Error: \n",
            " Accuracy: 34.1%, Avg loss: 1.857772 \n",
            "\n",
            "Epoch 3\n",
            "-------------------------------\n",
            "loss: 1.823311  [    0/50000]\n",
            "loss: 1.846937  [ 6400/50000]\n",
            "loss: 1.631480  [12800/50000]\n",
            "loss: 1.879275  [19200/50000]\n",
            "loss: 1.916053  [25600/50000]\n",
            "loss: 1.869936  [32000/50000]\n",
            "loss: 1.925726  [38400/50000]\n",
            "loss: 1.784793  [44800/50000]\n",
            "Test Error: \n",
            " Accuracy: 36.4%, Avg loss: 1.788811 \n",
            "\n",
            "Epoch 4\n",
            "-------------------------------\n",
            "loss: 1.731350  [    0/50000]\n",
            "loss: 1.741349  [ 6400/50000]\n",
            "loss: 1.553743  [12800/50000]\n",
            "loss: 1.791648  [19200/50000]\n",
            "loss: 1.839766  [25600/50000]\n",
            "loss: 1.831551  [32000/50000]\n",
            "loss: 1.853864  [38400/50000]\n",
            "loss: 1.731318  [44800/50000]\n",
            "Test Error: \n",
            " Accuracy: 37.9%, Avg loss: 1.740857 \n",
            "\n",
            "Epoch 5\n",
            "-------------------------------\n",
            "loss: 1.687906  [    0/50000]\n",
            "loss: 1.672091  [ 6400/50000]\n",
            "loss: 1.492521  [12800/50000]\n",
            "loss: 1.740427  [19200/50000]\n",
            "loss: 1.771656  [25600/50000]\n",
            "loss: 1.804614  [32000/50000]\n",
            "loss: 1.791839  [38400/50000]\n",
            "loss: 1.683216  [44800/50000]\n",
            "Test Error: \n",
            " Accuracy: 38.3%, Avg loss: 1.717735 \n",
            "\n",
            "Epoch 6\n",
            "-------------------------------\n",
            "loss: 1.673372  [    0/50000]\n",
            "loss: 1.623179  [ 6400/50000]\n",
            "loss: 1.437029  [12800/50000]\n",
            "loss: 1.721123  [19200/50000]\n",
            "loss: 1.718399  [25600/50000]\n",
            "loss: 1.776102  [32000/50000]\n",
            "loss: 1.742390  [38400/50000]\n",
            "loss: 1.648246  [44800/50000]\n",
            "Test Error: \n",
            " Accuracy: 38.3%, Avg loss: 1.710998 \n",
            "\n",
            "Epoch 7\n",
            "-------------------------------\n",
            "loss: 1.677102  [    0/50000]\n",
            "loss: 1.581125  [ 6400/50000]\n",
            "loss: 1.387227  [12800/50000]\n",
            "loss: 1.718692  [19200/50000]\n",
            "loss: 1.678279  [25600/50000]\n",
            "loss: 1.735759  [32000/50000]\n",
            "loss: 1.700343  [38400/50000]\n",
            "loss: 1.621333  [44800/50000]\n",
            "Test Error: \n",
            " Accuracy: 37.3%, Avg loss: 1.726558 \n",
            "\n",
            "Epoch 8\n",
            "-------------------------------\n",
            "loss: 1.693173  [    0/50000]\n",
            "loss: 1.545436  [ 6400/50000]\n",
            "loss: 1.349403  [12800/50000]\n",
            "loss: 1.710965  [19200/50000]\n",
            "loss: 1.649033  [25600/50000]\n",
            "loss: 1.695418  [32000/50000]\n",
            "loss: 1.663132  [38400/50000]\n",
            "loss: 1.601837  [44800/50000]\n",
            "Test Error: \n",
            " Accuracy: 36.6%, Avg loss: 1.743275 \n",
            "\n",
            "Epoch 9\n",
            "-------------------------------\n",
            "loss: 1.715565  [    0/50000]\n",
            "loss: 1.512336  [ 6400/50000]\n",
            "loss: 1.315638  [12800/50000]\n",
            "loss: 1.705468  [19200/50000]\n",
            "loss: 1.619661  [25600/50000]\n",
            "loss: 1.662659  [32000/50000]\n",
            "loss: 1.634727  [38400/50000]\n",
            "loss: 1.586467  [44800/50000]\n",
            "Test Error: \n",
            " Accuracy: 37.4%, Avg loss: 1.728191 \n",
            "\n",
            "Epoch 10\n",
            "-------------------------------\n",
            "loss: 1.703826  [    0/50000]\n",
            "loss: 1.485974  [ 6400/50000]\n",
            "loss: 1.292199  [12800/50000]\n",
            "loss: 1.691664  [19200/50000]\n",
            "loss: 1.591564  [25600/50000]\n",
            "loss: 1.635060  [32000/50000]\n",
            "loss: 1.604418  [38400/50000]\n",
            "loss: 1.570460  [44800/50000]\n",
            "Test Error: \n",
            " Accuracy: 37.8%, Avg loss: 1.718278 \n",
            "\n",
            "Done!\n"
          ]
        }
      ],
      "source": [
        "epochs = 10\n",
        "for t in range(epochs):\n",
        "    print(f\"Epoch {t+1}\\n-------------------------------\")\n",
        "    train_loop(train_dataloader, model_scratch, loss_fn, optimizer)\n",
        "    test_loop(test_dataloader, model_scratch, loss_fn)\n",
        "print(\"Done!\")"
      ]
    },
    {
      "cell_type": "markdown",
      "metadata": {},
      "source": [
        "## Exportar el modelo"
      ]
    },
    {
      "cell_type": "markdown",
      "metadata": {},
      "source": [
        "Hasta ahora teníamos el problema de que para cargar un modelo, una de dos, si guardábamos los pesos, necesitábamos declarar la red e instanciarla, y en el caso de guardar el modelo, no hacía falta instanciarla, pero si declarar la red.\n",
        "\n",
        "Además que cuando queríamos volver a usar el modelo entrenado necesitábamos Pytorch, pero si en donde vamos a realizar la inferencia no tenemos Pytorch, o incluso peor, no tenemos ni Python estos métodos no nos valen"
      ]
    },
    {
      "cell_type": "markdown",
      "metadata": {},
      "source": [
        "Para ello Pytorch también tiene soporte de exportación [ONNX](https://onnx.ai/) nativo.\n",
        "\n",
        "ONNX es un formato abierto creado para representar modelos de aprendizaje automático. ONNX define un conjunto común de operadores (los componentes básicos de los modelos de aprendizaje automático y aprendizaje profundo) y un formato de archivo común para permitir que los desarrolladores de IA usen modelos con una variedad de marcos, herramientas, tiempos de ejecución y compiladores.\n",
        "\n",
        "Sin embargo, dada la naturaleza dinámica del gráfico de ejecución de PyTorch, el proceso de exportación debe atravesar el gráfico de ejecución para producir un modelo ONNX persistente. Por esta razón, se debe pasar una variable de prueba del tamaño apropiado a la rutina de exportación (en nuestro caso, crearemos un tensor aleatorio ficticio del tamaño correcto):"
      ]
    },
    {
      "cell_type": "code",
      "execution_count": 10,
      "metadata": {
        "collapsed": false
      },
      "outputs": [],
      "source": [
        "import torch.onnx as onnx\n",
        "\n",
        "path = \"data/modelo.onnx\"\n",
        "\n",
        "batch = 8\n",
        "input_image = torch.rand((batch,3,32,32))\n",
        "\n",
        "# Llevamos la red neuronal a la CPU\n",
        "model_scratch.to('cpu')\n",
        "\n",
        "onnx.export(model_scratch, input_image, path)"
      ]
    },
    {
      "cell_type": "markdown",
      "metadata": {},
      "source": [
        "El uso de [ONNX](https://onnx.ai/) es algo que se escapa al objetivo de este curso, por lo que si se quiere aprender cómo importar el modelo se recomienda visitar el [tutorial de ONNX](https://github.com/onnx/tutorials)."
      ]
    }
  ],
  "metadata": {
    "interpreter": {
      "hash": "d1c24abb23a313e1f9ae042292cd8e6e3c60c5818227ced3d46e3df2c65171ef"
    },
    "kernelspec": {
      "display_name": "Python 3.8.5 64-bit ('base': conda)",
      "name": "python3"
    },
    "language_info": {
      "codemirror_mode": {
        "name": "ipython",
        "version": 3
      },
      "file_extension": ".py",
      "mimetype": "text/x-python",
      "name": "python",
      "nbconvert_exporter": "python",
      "pygments_lexer": "ipython3",
      "version": "3.8.11"
    }
  },
  "nbformat": 4,
  "nbformat_minor": 2
}
