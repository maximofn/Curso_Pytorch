{
  "cells": [
    {
      "cell_type": "code",
      "execution_count": 1,
      "metadata": {
        "collapsed": false
      },
      "outputs": [],
      "source": [
        "%matplotlib inline"
      ]
    },
    {
      "cell_type": "markdown",
      "metadata": {},
      "source": [
        "# Aprender Pytorch con ejemplos - Numpy"
      ]
    },
    {
      "cell_type": "markdown",
      "metadata": {},
      "source": [
        "Antes de presentar PyTorch, primero implementaremos la red usando numpy.\n",
        "\n",
        "Numpy proporciona un objeto de matriz de n dimensiones y muchas funciones para manipular estas matrices. Numpy es un marco genérico para la informática científica; no sabe nada sobre gráficos de cálculo, aprendizaje profundo o gradientes. Sin embargo, podemos usar numpy fácilmente para ajustar un polinomio de tercer orden a la función sinusoidal implementando manualmente los pases hacia adelante y hacia atrás a través de la red utilizando operaciones numpy"
      ]
    },
    {
      "cell_type": "code",
      "execution_count": 2,
      "metadata": {
        "collapsed": false
      },
      "outputs": [
        {
          "name": "stdout",
          "output_type": "stream",
          "text": [
            "99 1113.482873594709\n",
            "199 744.3221235301014\n",
            "299 498.73983410528365\n",
            "399 335.30485132910974\n",
            "499 226.49489976569419\n",
            "599 154.02167108325276\n",
            "699 105.72889663504466\n",
            "799 73.53357367648138\n",
            "899 52.059205921092484\n",
            "999 37.72821591265727\n",
            "1099 28.159100952123353\n",
            "1199 21.76589056701134\n",
            "1299 17.491934821421726\n",
            "1399 14.632914430018495\n",
            "1499 12.719128689313276\n",
            "1599 11.437178935653124\n",
            "1699 10.57784245900979\n",
            "1799 10.001364042285811\n",
            "1899 9.614335094758129\n",
            "1999 9.354284751501002\n",
            "Result: y = -0.013065044734442846 + 0.8376729072194855 x + 0.0022539376199741798 x^2 + -0.09061814121037112 x^3\n"
          ]
        }
      ],
      "source": [
        "import numpy as np\n",
        "import math\n",
        "\n",
        "# Create random input and output data\n",
        "x = np.linspace(-math.pi, math.pi, 2000)\n",
        "y = np.sin(x)\n",
        "\n",
        "# Randomly initialize weights\n",
        "a = np.random.randn()\n",
        "b = np.random.randn()\n",
        "c = np.random.randn()\n",
        "d = np.random.randn()\n",
        "\n",
        "learning_rate = 1e-6\n",
        "for t in range(2000):\n",
        "    # Forward pass: compute predicted y\n",
        "    # y = a + b x + c x^2 + d x^3\n",
        "    y_pred = a + b * x + c * x ** 2 + d * x ** 3\n",
        "\n",
        "    # Compute and print loss\n",
        "    loss = np.square(y_pred - y).sum()\n",
        "    if t % 100 == 99:\n",
        "        print(t, loss)\n",
        "\n",
        "    # Backprop to compute gradients of a, b, c, d with respect to loss\n",
        "    grad_y_pred = 2.0 * (y_pred - y)\n",
        "    grad_a = grad_y_pred.sum()\n",
        "    grad_b = (grad_y_pred * x).sum()\n",
        "    grad_c = (grad_y_pred * x ** 2).sum()\n",
        "    grad_d = (grad_y_pred * x ** 3).sum()\n",
        "\n",
        "    # Update weights\n",
        "    a -= learning_rate * grad_a\n",
        "    b -= learning_rate * grad_b\n",
        "    c -= learning_rate * grad_c\n",
        "    d -= learning_rate * grad_d\n",
        "\n",
        "print(f'Result: y = {a} + {b} x + {c} x^2 + {d} x^3')"
      ]
    }
  ],
  "metadata": {
    "interpreter": {
      "hash": "d1c24abb23a313e1f9ae042292cd8e6e3c60c5818227ced3d46e3df2c65171ef"
    },
    "kernelspec": {
      "display_name": "Python 3.8.11 64-bit ('base': conda)",
      "name": "python3"
    },
    "language_info": {
      "codemirror_mode": {
        "name": "ipython",
        "version": 3
      },
      "file_extension": ".py",
      "mimetype": "text/x-python",
      "name": "python",
      "nbconvert_exporter": "python",
      "pygments_lexer": "ipython3",
      "version": "3.8.11"
    }
  },
  "nbformat": 4,
  "nbformat_minor": 0
}
