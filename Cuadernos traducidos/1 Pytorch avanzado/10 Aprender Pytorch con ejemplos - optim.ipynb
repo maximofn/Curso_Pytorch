{
  "cells": [
    {
      "cell_type": "code",
      "execution_count": 1,
      "metadata": {
        "collapsed": false
      },
      "outputs": [],
      "source": [
        "%matplotlib inline"
      ]
    },
    {
      "cell_type": "markdown",
      "metadata": {},
      "source": [
        "# Aprender Pytorch con ejemplos - optim"
      ]
    },
    {
      "cell_type": "markdown",
      "metadata": {},
      "source": [
        "Un polinomio de tercer orden, entrenado para predecir $y=\\sin(x)$ desde $-\\pi$ hasta $\\pi$ minimizando la distancia euclidiana al cuadrado.\n",
        "\n",
        "Esta implementación usa el paquete nn de PyTorch para construir la red.\n",
        "\n",
        "En lugar de actualizar manualmente los pesos del modelo como lo hemos estado haciendo, usamos el paquete optim para definir un Optimizador que actualizará los pesos por nosotros. El paquete optim define muchos algoritmos de optimización que se utilizan comúnmente para el aprendizaje profundo, incluidos SGD + momentum, RMSProp, Adam, etc."
      ]
    },
    {
      "cell_type": "code",
      "execution_count": 2,
      "metadata": {
        "collapsed": false
      },
      "outputs": [
        {
          "name": "stdout",
          "output_type": "stream",
          "text": [
            "99 1456.6724853515625\n",
            "199 531.96826171875\n",
            "299 237.06137084960938\n",
            "399 142.6994171142578\n",
            "499 91.10704803466797\n",
            "599 53.2227783203125\n",
            "699 28.41016960144043\n",
            "799 15.16347885131836\n",
            "899 10.045069694519043\n",
            "999 8.912086486816406\n",
            "1099 8.828826904296875\n",
            "1199 8.818403244018555\n",
            "1299 8.833887100219727\n",
            "1399 8.84537124633789\n",
            "1499 8.873991966247559\n",
            "1599 8.932276725769043\n",
            "1699 8.9205322265625\n",
            "1799 8.898303985595703\n",
            "1899 8.90528678894043\n",
            "1999 8.915214538574219\n",
            "Result: y = -0.00028290110640227795 + 0.8572515845298767 x + -0.0002829364384524524 x^2 + -0.09281949698925018 x^3\n"
          ]
        }
      ],
      "source": [
        "import torch\n",
        "import math\n",
        "\n",
        "\n",
        "# Create Tensors to hold input and outputs.\n",
        "x = torch.linspace(-math.pi, math.pi, 2000)\n",
        "y = torch.sin(x)\n",
        "\n",
        "# Prepare the input tensor (x, x^2, x^3).\n",
        "p = torch.tensor([1, 2, 3])\n",
        "xx = x.unsqueeze(-1).pow(p)\n",
        "\n",
        "# Use the nn package to define our model and loss function.\n",
        "model = torch.nn.Sequential(\n",
        "    torch.nn.Linear(3, 1),\n",
        "    torch.nn.Flatten(0, 1)\n",
        ")\n",
        "loss_fn = torch.nn.MSELoss(reduction='sum')\n",
        "\n",
        "# Use the optim package to define an Optimizer that will update the weights of\n",
        "# the model for us. Here we will use RMSprop; the optim package contains many other\n",
        "# optimization algorithms. The first argument to the RMSprop constructor tells the\n",
        "# optimizer which Tensors it should update.\n",
        "learning_rate = 1e-3\n",
        "optimizer = torch.optim.RMSprop(model.parameters(), lr=learning_rate)\n",
        "for t in range(2000):\n",
        "    # Forward pass: compute predicted y by passing x to the model.\n",
        "    y_pred = model(xx)\n",
        "\n",
        "    # Compute and print loss.\n",
        "    loss = loss_fn(y_pred, y)\n",
        "    if t % 100 == 99:\n",
        "        print(t, loss.item())\n",
        "\n",
        "    # Before the backward pass, use the optimizer object to zero all of the\n",
        "    # gradients for the variables it will update (which are the learnable\n",
        "    # weights of the model). This is because by default, gradients are\n",
        "    # accumulated in buffers( i.e, not overwritten) whenever .backward()\n",
        "    # is called. Checkout docs of torch.autograd.backward for more details.\n",
        "    optimizer.zero_grad()\n",
        "\n",
        "    # Backward pass: compute gradient of the loss with respect to model\n",
        "    # parameters\n",
        "    loss.backward()\n",
        "\n",
        "    # Calling the step function on an Optimizer makes an update to its\n",
        "    # parameters\n",
        "    optimizer.step()\n",
        "\n",
        "\n",
        "linear_layer = model[0]\n",
        "print(f'Result: y = {linear_layer.bias.item()} + {linear_layer.weight[:, 0].item()} x + {linear_layer.weight[:, 1].item()} x^2 + {linear_layer.weight[:, 2].item()} x^3')"
      ]
    }
  ],
  "metadata": {
    "interpreter": {
      "hash": "8e4d58f53b4b3ced286559ef92073773937aa87eedd0536c036fd264999b02c5"
    },
    "kernelspec": {
      "display_name": "Python 3.8.8 64-bit ('base': conda)",
      "name": "python3"
    },
    "language_info": {
      "codemirror_mode": {
        "name": "ipython",
        "version": 3
      },
      "file_extension": ".py",
      "mimetype": "text/x-python",
      "name": "python",
      "nbconvert_exporter": "python",
      "pygments_lexer": "ipython3",
      "version": "3.8.8"
    }
  },
  "nbformat": 4,
  "nbformat_minor": 0
}
