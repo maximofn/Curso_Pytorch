{
  "cells": [
    {
      "cell_type": "code",
      "execution_count": 1,
      "source": [
        "%matplotlib inline"
      ],
      "outputs": [],
      "metadata": {
        "collapsed": false
      }
    },
    {
      "cell_type": "markdown",
      "source": [
        "\n",
        "`Learn the Basics <intro.html>`_ ||\n",
        "`Quickstart <quickstart_tutorial.html>`_ ||\n",
        "`Tensors <tensorqs_tutorial.html>`_ ||\n",
        "`Datasets & DataLoaders <data_tutorial.html>`_ ||\n",
        "`Transforms <transforms_tutorial.html>`_ ||\n",
        "`Build Model <buildmodel_tutorial.html>`_ ||\n",
        "`Autograd <autogradqs_tutorial.html>`_ ||\n",
        "**Optimization** ||\n",
        "`Save & Load Model <saveloadrun_tutorial.html>`_\n",
        "\n",
        "Optimizing Model Parameters\n",
        "===========================\n",
        "\n",
        "Now that we have a model and data it's time to train, validate and test our model by optimizing its parameters on\n",
        "our data. Training a model is an iterative process; in each iteration (called an *epoch*) the model makes a guess about the output, calculates\n",
        "the error in its guess (*loss*), collects the derivatives of the error with respect to its parameters (as we saw in\n",
        "the `previous section  <autograd_tutorial.html>`_), and **optimizes** these parameters using gradient descent. For a more\n",
        "detailed walkthrough of this process, check out this video on `backpropagation from 3Blue1Brown <https://www.youtube.com/watch?v=tIeHLnjs5U8>`__.\n",
        "\n",
        "Prerequisite Code\n",
        "-----------------\n",
        "We load the code from the previous sections on `Datasets & DataLoaders <data_tutorial.html>`_\n",
        "and `Build Model  <buildmodel_tutorial.html>`_.\n",
        "\n"
      ],
      "metadata": {}
    },
    {
      "cell_type": "code",
      "execution_count": 2,
      "source": [
        "import torch\n",
        "from torch import nn\n",
        "from torch.utils.data import DataLoader\n",
        "from torchvision import datasets\n",
        "from torchvision.transforms import ToTensor, Lambda"
      ],
      "outputs": [],
      "metadata": {}
    },
    {
      "cell_type": "code",
      "execution_count": 3,
      "source": [
        "training_data = datasets.FashionMNIST(\n",
        "    root=\"data\",\n",
        "    train=True,\n",
        "    download=True,\n",
        "    transform=ToTensor()\n",
        ")\n",
        "\n",
        "test_data = datasets.FashionMNIST(\n",
        "    root=\"data\",\n",
        "    train=False,\n",
        "    download=True,\n",
        "    transform=ToTensor()\n",
        ")\n",
        "\n",
        "train_dataloader = DataLoader(training_data, batch_size=64)\n",
        "test_dataloader = DataLoader(test_data, batch_size=64)\n",
        "\n",
        "class NeuralNetwork(nn.Module):\n",
        "    def __init__(self):\n",
        "        super(NeuralNetwork, self).__init__()\n",
        "        self.flatten = nn.Flatten()\n",
        "        self.linear_relu_stack = nn.Sequential(\n",
        "            nn.Linear(28*28, 512),\n",
        "            nn.ReLU(),\n",
        "            nn.Linear(512, 512),\n",
        "            nn.ReLU(),\n",
        "            nn.Linear(512, 10),\n",
        "        )\n",
        "\n",
        "    def forward(self, x):\n",
        "        x = self.flatten(x)\n",
        "        logits = self.linear_relu_stack(x)\n",
        "        return logits\n",
        "\n",
        "model = NeuralNetwork()"
      ],
      "outputs": [],
      "metadata": {
        "collapsed": false
      }
    },
    {
      "cell_type": "markdown",
      "source": [
        "Hyperparameters\n",
        "-----------------\n",
        "\n",
        "Hyperparameters are adjustable parameters that let you control the model optimization process.\n",
        "Different hyperparameter values can impact model training and convergence rates\n",
        "(`read more <https://pytorch.org/tutorials/beginner/hyperparameter_tuning_tutorial.html>`__ about hyperparameter tuning)\n",
        "\n",
        "We define the following hyperparameters for training:\n",
        " - **Number of Epochs** - the number times to iterate over the dataset\n",
        " - **Batch Size** - the number of data samples propagated through the network before the parameters are updated\n",
        " - **Learning Rate** - how much to update models parameters at each batch/epoch. Smaller values yield slow learning speed, while large values may result in unpredictable behavior during training.\n",
        "\n",
        "\n"
      ],
      "metadata": {}
    },
    {
      "cell_type": "code",
      "execution_count": 4,
      "source": [
        "learning_rate = 1e-3\n",
        "batch_size = 64\n",
        "epochs = 5"
      ],
      "outputs": [],
      "metadata": {
        "collapsed": false
      }
    },
    {
      "cell_type": "markdown",
      "source": [
        "Optimization Loop\n",
        "-----------------\n",
        "\n",
        "Once we set our hyperparameters, we can then train and optimize our model with an optimization loop. Each\n",
        "iteration of the optimization loop is called an **epoch**.\n",
        "\n",
        "Each epoch consists of two main parts:\n",
        " - **The Train Loop** - iterate over the training dataset and try to converge to optimal parameters.\n",
        " - **The Validation/Test Loop** - iterate over the test dataset to check if model performance is improving.\n",
        "\n",
        "Let's briefly familiarize ourselves with some of the concepts used in the training loop. Jump ahead to\n",
        "see the `full-impl-label` of the optimization loop.\n",
        "\n",
        "Loss Function\n",
        "~~~~~~~~~~~~~~~~~\n",
        "\n",
        "When presented with some training data, our untrained network is likely not to give the correct\n",
        "answer. **Loss function** measures the degree of dissimilarity of obtained result to the target value,\n",
        "and it is the loss function that we want to minimize during training. To calculate the loss we make a\n",
        "prediction using the inputs of our given data sample and compare it against the true data label value.\n",
        "\n",
        "Common loss functions include `nn.MSELoss <https://pytorch.org/docs/stable/generated/torch.nn.MSELoss.html#torch.nn.MSELoss>`_ (Mean Square Error) for regression tasks, and\n",
        "`nn.NLLLoss <https://pytorch.org/docs/stable/generated/torch.nn.NLLLoss.html#torch.nn.NLLLoss>`_ (Negative Log Likelihood) for classification.\n",
        "`nn.CrossEntropyLoss <https://pytorch.org/docs/stable/generated/torch.nn.CrossEntropyLoss.html#torch.nn.CrossEntropyLoss>`_ combines ``nn.LogSoftmax`` and ``nn.NLLLoss``.\n",
        "\n",
        "We pass our model's output logits to ``nn.CrossEntropyLoss``, which will normalize the logits and compute the prediction error.\n",
        "\n"
      ],
      "metadata": {}
    },
    {
      "cell_type": "code",
      "execution_count": 5,
      "source": [
        "# Initialize the loss function\n",
        "loss_fn = nn.CrossEntropyLoss()"
      ],
      "outputs": [],
      "metadata": {
        "collapsed": false
      }
    },
    {
      "cell_type": "markdown",
      "source": [
        "Optimizer\n",
        "~~~~~~~~~~~~~~~~~\n",
        "\n",
        "Optimization is the process of adjusting model parameters to reduce model error in each training step. **Optimization algorithms** define how this process is performed (in this example we use Stochastic Gradient Descent).\n",
        "All optimization logic is encapsulated in  the ``optimizer`` object. Here, we use the SGD optimizer; additionally, there are many `different optimizers <https://pytorch.org/docs/stable/optim.html>`_\n",
        "available in PyTorch such as ADAM and RMSProp, that work better for different kinds of models and data.\n",
        "\n",
        "We initialize the optimizer by registering the model's parameters that need to be trained, and passing in the learning rate hyperparameter.\n",
        "\n"
      ],
      "metadata": {}
    },
    {
      "cell_type": "code",
      "execution_count": 6,
      "source": [
        "optimizer = torch.optim.SGD(model.parameters(), lr=learning_rate)"
      ],
      "outputs": [],
      "metadata": {
        "collapsed": false
      }
    },
    {
      "cell_type": "markdown",
      "source": [
        "Inside the training loop, optimization happens in three steps:\n",
        " * Call ``optimizer.zero_grad()`` to reset the gradients of model parameters. Gradients by default add up; to prevent double-counting, we explicitly zero them at each iteration.\n",
        " * Backpropagate the prediction loss with a call to ``loss.backwards()``. PyTorch deposits the gradients of the loss w.r.t. each parameter.\n",
        " * Once we have our gradients, we call ``optimizer.step()`` to adjust the parameters by the gradients collected in the backward pass.\n",
        "\n"
      ],
      "metadata": {}
    },
    {
      "cell_type": "markdown",
      "source": [
        "\n",
        "Full Implementation\n",
        "-----------------------\n",
        "We define ``train_loop`` that loops over our optimization code, and ``test_loop`` that\n",
        "evaluates the model's performance against our test data.\n",
        "\n"
      ],
      "metadata": {}
    },
    {
      "cell_type": "code",
      "execution_count": 7,
      "source": [
        "def train_loop(dataloader, model, loss_fn, optimizer):\n",
        "    size = len(dataloader.dataset)\n",
        "    for batch, (X, y) in enumerate(dataloader):\n",
        "        # Compute prediction and loss\n",
        "        pred = model(X)\n",
        "        loss = loss_fn(pred, y)\n",
        "\n",
        "        # Backpropagation\n",
        "        optimizer.zero_grad()\n",
        "        loss.backward()\n",
        "        optimizer.step()\n",
        "\n",
        "        if batch % 100 == 0:\n",
        "            loss, current = loss.item(), batch * len(X)\n",
        "            print(f\"loss: {loss:>7f}  [{current:>5d}/{size:>5d}]\")\n",
        "\n",
        "\n",
        "def test_loop(dataloader, model, loss_fn):\n",
        "    size = len(dataloader.dataset)\n",
        "    num_batches = len(dataloader)\n",
        "    test_loss, correct = 0, 0\n",
        "\n",
        "    with torch.no_grad():\n",
        "        for X, y in dataloader:\n",
        "            pred = model(X)\n",
        "            test_loss += loss_fn(pred, y).item()\n",
        "            correct += (pred.argmax(1) == y).type(torch.float).sum().item()\n",
        "\n",
        "    test_loss /= num_batches\n",
        "    correct /= size\n",
        "    print(f\"Test Error: \\n Accuracy: {(100*correct):>0.1f}%, Avg loss: {test_loss:>8f} \\n\")"
      ],
      "outputs": [],
      "metadata": {
        "collapsed": false
      }
    },
    {
      "cell_type": "markdown",
      "source": [
        "We initialize the loss function and optimizer, and pass it to ``train_loop`` and ``test_loop``.\n",
        "Feel free to increase the number of epochs to track the model's improving performance.\n",
        "\n"
      ],
      "metadata": {}
    },
    {
      "cell_type": "code",
      "execution_count": 8,
      "source": [
        "loss_fn = nn.CrossEntropyLoss()\n",
        "optimizer = torch.optim.SGD(model.parameters(), lr=learning_rate)\n",
        "\n",
        "epochs = 10\n",
        "for t in range(epochs):\n",
        "    print(f\"Epoch {t+1}\\n-------------------------------\")\n",
        "    train_loop(train_dataloader, model, loss_fn, optimizer)\n",
        "    test_loop(test_dataloader, model, loss_fn)\n",
        "print(\"Done!\")"
      ],
      "outputs": [
        {
          "output_type": "stream",
          "name": "stdout",
          "text": [
            "Epoch 1\n",
            "-------------------------------\n",
            "loss: 2.301063  [    0/60000]\n",
            "loss: 2.292821  [ 6400/60000]\n",
            "loss: 2.264075  [12800/60000]\n",
            "loss: 2.263238  [19200/60000]\n",
            "loss: 2.243237  [25600/60000]\n",
            "loss: 2.212202  [32000/60000]\n",
            "loss: 2.223702  [38400/60000]\n",
            "loss: 2.185573  [44800/60000]\n",
            "loss: 2.183603  [51200/60000]\n",
            "loss: 2.154248  [57600/60000]\n",
            "Test Error: \n",
            " Accuracy: 45.6%, Avg loss: 2.140223 \n",
            "\n",
            "Epoch 2\n",
            "-------------------------------\n",
            "loss: 2.145068  [    0/60000]\n",
            "loss: 2.140780  [ 6400/60000]\n",
            "loss: 2.071856  [12800/60000]\n",
            "loss: 2.099429  [19200/60000]\n",
            "loss: 2.041748  [25600/60000]\n",
            "loss: 1.982486  [32000/60000]\n",
            "loss: 2.016750  [38400/60000]\n",
            "loss: 1.929831  [44800/60000]\n",
            "loss: 1.935499  [51200/60000]\n",
            "loss: 1.876334  [57600/60000]\n",
            "Test Error: \n",
            " Accuracy: 56.5%, Avg loss: 1.857427 \n",
            "\n",
            "Epoch 3\n",
            "-------------------------------\n",
            "loss: 1.880850  [    0/60000]\n",
            "loss: 1.860623  [ 6400/60000]\n",
            "loss: 1.723191  [12800/60000]\n",
            "loss: 1.785721  [19200/60000]\n",
            "loss: 1.669521  [25600/60000]\n",
            "loss: 1.619657  [32000/60000]\n",
            "loss: 1.654889  [38400/60000]\n",
            "loss: 1.546240  [44800/60000]\n",
            "loss: 1.574903  [51200/60000]\n",
            "loss: 1.486036  [57600/60000]\n",
            "Test Error: \n",
            " Accuracy: 60.8%, Avg loss: 1.488538 \n",
            "\n",
            "Epoch 4\n",
            "-------------------------------\n",
            "loss: 1.545541  [    0/60000]\n",
            "loss: 1.526902  [ 6400/60000]\n",
            "loss: 1.355358  [12800/60000]\n",
            "loss: 1.449960  [19200/60000]\n",
            "loss: 1.324578  [25600/60000]\n",
            "loss: 1.319247  [32000/60000]\n",
            "loss: 1.343369  [38400/60000]\n",
            "loss: 1.264545  [44800/60000]\n",
            "loss: 1.300255  [51200/60000]\n",
            "loss: 1.211309  [57600/60000]\n",
            "Test Error: \n",
            " Accuracy: 62.7%, Avg loss: 1.231432 \n",
            "\n",
            "Epoch 5\n",
            "-------------------------------\n",
            "loss: 1.300543  [    0/60000]\n",
            "loss: 1.301423  [ 6400/60000]\n",
            "loss: 1.114135  [12800/60000]\n",
            "loss: 1.237332  [19200/60000]\n",
            "loss: 1.107236  [25600/60000]\n",
            "loss: 1.129980  [32000/60000]\n",
            "loss: 1.158842  [38400/60000]\n",
            "loss: 1.094493  [44800/60000]\n",
            "loss: 1.133235  [51200/60000]\n",
            "loss: 1.056577  [57600/60000]\n",
            "Test Error: \n",
            " Accuracy: 64.3%, Avg loss: 1.075453 \n",
            "\n",
            "Epoch 6\n",
            "-------------------------------\n",
            "loss: 1.138899  [    0/60000]\n",
            "loss: 1.162696  [ 6400/60000]\n",
            "loss: 0.958884  [12800/60000]\n",
            "loss: 1.106852  [19200/60000]\n",
            "loss: 0.975682  [25600/60000]\n",
            "loss: 1.003412  [32000/60000]\n",
            "loss: 1.047241  [38400/60000]\n",
            "loss: 0.987616  [44800/60000]\n",
            "loss: 1.026190  [51200/60000]\n",
            "loss: 0.960505  [57600/60000]\n",
            "Test Error: \n",
            " Accuracy: 65.7%, Avg loss: 0.975406 \n",
            "\n",
            "Epoch 7\n",
            "-------------------------------\n",
            "loss: 1.025963  [    0/60000]\n",
            "loss: 1.072516  [ 6400/60000]\n",
            "loss: 0.852451  [12800/60000]\n",
            "loss: 1.019669  [19200/60000]\n",
            "loss: 0.892026  [25600/60000]\n",
            "loss: 0.912893  [32000/60000]\n",
            "loss: 0.973966  [38400/60000]\n",
            "loss: 0.917305  [44800/60000]\n",
            "loss: 0.951536  [51200/60000]\n",
            "loss: 0.894824  [57600/60000]\n",
            "Test Error: \n",
            " Accuracy: 66.8%, Avg loss: 0.906311 \n",
            "\n",
            "Epoch 8\n",
            "-------------------------------\n",
            "loss: 0.941686  [    0/60000]\n",
            "loss: 1.008236  [ 6400/60000]\n",
            "loss: 0.774942  [12800/60000]\n",
            "loss: 0.956865  [19200/60000]\n",
            "loss: 0.834861  [25600/60000]\n",
            "loss: 0.845564  [32000/60000]\n",
            "loss: 0.921569  [38400/60000]\n",
            "loss: 0.869094  [44800/60000]\n",
            "loss: 0.897019  [51200/60000]\n",
            "loss: 0.846500  [57600/60000]\n",
            "Test Error: \n",
            " Accuracy: 68.0%, Avg loss: 0.855783 \n",
            "\n",
            "Epoch 9\n",
            "-------------------------------\n",
            "loss: 0.875825  [    0/60000]\n",
            "loss: 0.959125  [ 6400/60000]\n",
            "loss: 0.716231  [12800/60000]\n",
            "loss: 0.909041  [19200/60000]\n",
            "loss: 0.793298  [25600/60000]\n",
            "loss: 0.794658  [32000/60000]\n",
            "loss: 0.881321  [38400/60000]\n",
            "loss: 0.834780  [44800/60000]\n",
            "loss: 0.855665  [51200/60000]\n",
            "loss: 0.809206  [57600/60000]\n",
            "Test Error: \n",
            " Accuracy: 69.4%, Avg loss: 0.817082 \n",
            "\n",
            "Epoch 10\n",
            "-------------------------------\n",
            "loss: 0.822778  [    0/60000]\n",
            "loss: 0.919210  [ 6400/60000]\n",
            "loss: 0.670297  [12800/60000]\n",
            "loss: 0.871415  [19200/60000]\n",
            "loss: 0.761684  [25600/60000]\n",
            "loss: 0.755616  [32000/60000]\n",
            "loss: 0.848638  [38400/60000]\n",
            "loss: 0.809168  [44800/60000]\n",
            "loss: 0.823342  [51200/60000]\n",
            "loss: 0.779303  [57600/60000]\n",
            "Test Error: \n",
            " Accuracy: 70.7%, Avg loss: 0.786188 \n",
            "\n",
            "Done!\n"
          ]
        }
      ],
      "metadata": {
        "collapsed": false
      }
    },
    {
      "cell_type": "markdown",
      "source": [
        "Further Reading\n",
        "-----------------------\n",
        "- `Loss Functions <https://pytorch.org/docs/stable/nn.html#loss-functions>`_\n",
        "- `torch.optim <https://pytorch.org/docs/stable/optim.html>`_\n",
        "- `Warmstart Training a Model <https://pytorch.org/tutorials/recipes/recipes/warmstarting_model_using_parameters_from_a_different_model.html>`_\n",
        "\n",
        "\n"
      ],
      "metadata": {}
    }
  ],
  "metadata": {
    "kernelspec": {
      "name": "python3",
      "display_name": "Python 3.8.8 64-bit ('base': conda)"
    },
    "language_info": {
      "codemirror_mode": {
        "name": "ipython",
        "version": 3
      },
      "file_extension": ".py",
      "mimetype": "text/x-python",
      "name": "python",
      "nbconvert_exporter": "python",
      "pygments_lexer": "ipython3",
      "version": "3.8.8"
    },
    "interpreter": {
      "hash": "8e4d58f53b4b3ced286559ef92073773937aa87eedd0536c036fd264999b02c5"
    }
  },
  "nbformat": 4,
  "nbformat_minor": 2
}